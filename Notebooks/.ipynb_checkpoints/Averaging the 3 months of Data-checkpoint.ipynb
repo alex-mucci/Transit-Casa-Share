{
 "cells": [
  {
   "cell_type": "code",
   "execution_count": 2,
   "metadata": {
    "collapsed": true
   },
   "outputs": [],
   "source": [
    "import pandas as pd"
   ]
  },
  {
   "cell_type": "code",
   "execution_count": 24,
   "metadata": {
    "collapsed": false
   },
   "outputs": [],
   "source": [
    "df = pd.read_csv('E:\\Transit-Casa-Alex/Output/Final Data/2016/Bus_Performance_Data_rs_day.csv',index_col = 0)"
   ]
  },
  {
   "cell_type": "code",
   "execution_count": 25,
   "metadata": {
    "collapsed": false
   },
   "outputs": [
    {
     "data": {
      "text/plain": [
       "Index(['MONTH', 'DOW', 'AGENCY_ID', 'ROUTE_SHORT_NAME', 'DIR', 'SEQ',\n",
       "       'NUMDAYS', 'OBSDAYS', 'TRIP_STOPS', 'OBS_TRIP_STOPS', 'IMP_TRIP_STOPS',\n",
       "       'WGT_TRIP_STOPS', 'STOP_ID', 'ROUTE_LONG_NAME', 'ROUTE_TYPE',\n",
       "       'TRIP_HEADSIGN', 'HEADWAY_S', 'FARE', 'STOPNAME', 'STOPNAME_AVL',\n",
       "       'STOP_LAT', 'STOP_LON', 'EOL', 'SOL', 'TIMEPOINT', 'ARRIVAL_TIME_DEV',\n",
       "       'DEPARTURE_TIME_DEV', 'DWELL_S', 'DWELL', 'RUNTIME_S', 'RUNTIME',\n",
       "       'TOTTIME_S', 'TOTTIME', 'SERVMILES_S', 'SERVMILES', 'RUNSPEED_S',\n",
       "       'RUNSPEED', 'TOTSPEED_S', 'TOTSPEED', 'ONTIME5', 'ON', 'OFF',\n",
       "       'LOAD_ARR', 'LOAD_DEP', 'PASSMILES', 'PASSHOURS', 'WAITHOURS',\n",
       "       'FULLFARE_REV', 'PASSDELAY_DEP', 'PASSDELAY_ARR', 'RDBRDNGS',\n",
       "       'DOORCYCLES', 'WHEELCHAIR', 'BIKERACK', 'CAPACITY', 'VC', 'CROWDED',\n",
       "       'CROWDHOURS'],\n",
       "      dtype='object')"
      ]
     },
     "execution_count": 25,
     "metadata": {},
     "output_type": "execute_result"
    }
   ],
   "source": [
    "df.columns"
   ]
  },
  {
   "cell_type": "code",
   "execution_count": 26,
   "metadata": {
    "collapsed": false
   },
   "outputs": [],
   "source": [
    "agg = {'ROUTE_LONG_NAME':'first', 'ROUTE_TYPE':'mean',\n",
    "       'HEADWAY_S':'first', 'STOPNAME':'first', 'STOPNAME_AVL':'first',\n",
    "       'STOP_LAT':'mean', 'STOP_LON':'mean', 'EOL':'mean', 'SOL':'mean',\n",
    "       'DWELL_S':'mean', 'DWELL':'mean', 'RUNTIME_S':'mean', 'RUNTIME':'mean',\n",
    "       'TOTTIME_S':'mean', 'TOTTIME':'mean', 'SERVMILES_S':'mean', 'SERVMILES':'mean', 'RUNSPEED_S':'mean',\n",
    "       'RUNSPEED':'mean', 'TOTSPEED_S':'mean', 'TOTSPEED':'mean', 'ONTIME5':'mean', 'ON':'mean', 'OFF':'mean',\n",
    "       'LOAD_ARR':'mean', 'LOAD_DEP':'mean', 'PASSMILES':'mean', 'PASSHOURS':'mean', 'WAITHOURS':'mean',\n",
    "       'FULLFARE_REV':'mean', 'PASSDELAY_DEP':'mean', 'PASSDELAY_ARR':'mean', 'RDBRDNGS':'mean',\n",
    "       'DOORCYCLES':'mean', 'WHEELCHAIR':'mean', 'BIKERACK':'mean', 'CAPACITY':'mean', 'VC':'mean', 'CROWDED':'mean',\n",
    "       'CROWDHOURS':'mean'}"
   ]
  },
  {
   "cell_type": "code",
   "execution_count": 27,
   "metadata": {
    "collapsed": false
   },
   "outputs": [],
   "source": [
    "df2 = df.groupby(by = ['STOP_ID','ROUTE_SHORT_NAME','DIR'],as_index = False).agg(agg)"
   ]
  },
  {
   "cell_type": "code",
   "execution_count": 28,
   "metadata": {
    "collapsed": false
   },
   "outputs": [
    {
     "data": {
      "text/plain": [
       "16806"
      ]
     },
     "execution_count": 28,
     "metadata": {},
     "output_type": "execute_result"
    }
   ],
   "source": [
    "len(df)"
   ]
  },
  {
   "cell_type": "code",
   "execution_count": 29,
   "metadata": {
    "collapsed": false
   },
   "outputs": [
    {
     "data": {
      "text/plain": [
       "5580"
      ]
     },
     "execution_count": 29,
     "metadata": {},
     "output_type": "execute_result"
    }
   ],
   "source": [
    "len(df2)"
   ]
  },
  {
   "cell_type": "code",
   "execution_count": 30,
   "metadata": {
    "collapsed": false
   },
   "outputs": [
    {
     "data": {
      "text/plain": [
       "71.790000000000006"
      ]
     },
     "execution_count": 30,
     "metadata": {},
     "output_type": "execute_result"
    }
   ],
   "source": [
    "max(df2.RUNSPEED)"
   ]
  },
  {
   "cell_type": "code",
   "execution_count": 31,
   "metadata": {
    "collapsed": false
   },
   "outputs": [
    {
     "data": {
      "text/plain": [
       "0.0"
      ]
     },
     "execution_count": 31,
     "metadata": {},
     "output_type": "execute_result"
    }
   ],
   "source": [
    "min(df2.RUNSPEED)"
   ]
  },
  {
   "cell_type": "code",
   "execution_count": 32,
   "metadata": {
    "collapsed": true
   },
   "outputs": [],
   "source": [
    "df2.to_csv('E:\\Transit-Casa-Alex/Output/Final Data/2016/Bus_Performance_Data_rs_day_averaged.csv')"
   ]
  },
  {
   "cell_type": "code",
   "execution_count": 33,
   "metadata": {
    "collapsed": false
   },
   "outputs": [
    {
     "data": {
      "text/plain": [
       "5580"
      ]
     },
     "execution_count": 33,
     "metadata": {},
     "output_type": "execute_result"
    }
   ],
   "source": [
    "len(df2)"
   ]
  },
  {
   "cell_type": "code",
   "execution_count": 34,
   "metadata": {
    "collapsed": false
   },
   "outputs": [
    {
     "data": {
      "text/plain": [
       "16806"
      ]
     },
     "execution_count": 34,
     "metadata": {},
     "output_type": "execute_result"
    }
   ],
   "source": [
    "len(df)"
   ]
  },
  {
   "cell_type": "code",
   "execution_count": null,
   "metadata": {
    "collapsed": true
   },
   "outputs": [],
   "source": []
  }
 ],
 "metadata": {
  "anaconda-cloud": {},
  "kernelspec": {
   "display_name": "Python [conda root]",
   "language": "python",
   "name": "conda-root-py"
  },
  "language_info": {
   "codemirror_mode": {
    "name": "ipython",
    "version": 3
   },
   "file_extension": ".py",
   "mimetype": "text/x-python",
   "name": "python",
   "nbconvert_exporter": "python",
   "pygments_lexer": "ipython3",
   "version": "3.5.2"
  }
 },
 "nbformat": 4,
 "nbformat_minor": 1
}
