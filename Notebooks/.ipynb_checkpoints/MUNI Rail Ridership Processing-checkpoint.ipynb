{
 "cells": [
  {
   "cell_type": "code",
   "execution_count": 1,
   "metadata": {
    "collapsed": true
   },
   "outputs": [],
   "source": [
    "import pandas as pd\n",
    "pd.set_option('max_columns',500)"
   ]
  },
  {
   "cell_type": "code",
   "execution_count": 2,
   "metadata": {
    "collapsed": true
   },
   "outputs": [],
   "source": [
    "muni09 = pd.read_csv('E:\\Transit-Casa-Alex\\Input\\MUNI Rail/MUNI Rail Ridership.csv')\n",
    "muni16 = pd.read_csv('E:\\Transit-Casa-Alex\\Input\\MUNI Rail/MUNI Rail Ridership 2016.csv')"
   ]
  },
  {
   "cell_type": "code",
   "execution_count": 3,
   "metadata": {
    "collapsed": false
   },
   "outputs": [
    {
     "data": {
      "text/html": [
       "<div>\n",
       "<table border=\"1\" class=\"dataframe\">\n",
       "  <thead>\n",
       "    <tr style=\"text-align: right;\">\n",
       "      <th></th>\n",
       "      <th>Route</th>\n",
       "      <th>STOP</th>\n",
       "      <th>Boardings</th>\n",
       "      <th>Alightings</th>\n",
       "      <th>DIR</th>\n",
       "      <th>Unnamed: 5</th>\n",
       "    </tr>\n",
       "  </thead>\n",
       "  <tbody>\n",
       "    <tr>\n",
       "      <th>0</th>\n",
       "      <td>59-POWELL/MASON</td>\n",
       "      <td>Taylor&amp;Bay</td>\n",
       "      <td>3,527</td>\n",
       "      <td>0</td>\n",
       "      <td>1</td>\n",
       "      <td>NaN</td>\n",
       "    </tr>\n",
       "    <tr>\n",
       "      <th>1</th>\n",
       "      <td>59-POWELL/MASON</td>\n",
       "      <td>Taylor&amp;Colmbs</td>\n",
       "      <td>49</td>\n",
       "      <td>4</td>\n",
       "      <td>1</td>\n",
       "      <td>NaN</td>\n",
       "    </tr>\n",
       "    <tr>\n",
       "      <th>2</th>\n",
       "      <td>59-POWELL/MASON</td>\n",
       "      <td>Colmbs&amp;Lmbrd</td>\n",
       "      <td>251</td>\n",
       "      <td>18</td>\n",
       "      <td>1</td>\n",
       "      <td>NaN</td>\n",
       "    </tr>\n",
       "    <tr>\n",
       "      <th>3</th>\n",
       "      <td>59-POWELL/MASON</td>\n",
       "      <td>Mason&amp;Grnwch</td>\n",
       "      <td>108</td>\n",
       "      <td>10</td>\n",
       "      <td>1</td>\n",
       "      <td>NaN</td>\n",
       "    </tr>\n",
       "    <tr>\n",
       "      <th>4</th>\n",
       "      <td>59-POWELL/MASON</td>\n",
       "      <td>Mason&amp;Filbert</td>\n",
       "      <td>59</td>\n",
       "      <td>5</td>\n",
       "      <td>1</td>\n",
       "      <td>NaN</td>\n",
       "    </tr>\n",
       "  </tbody>\n",
       "</table>\n",
       "</div>"
      ],
      "text/plain": [
       "             Route           STOP Boardings Alightings  DIR  Unnamed: 5\n",
       "0  59-POWELL/MASON     Taylor&Bay     3,527          0    1         NaN\n",
       "1  59-POWELL/MASON  Taylor&Colmbs        49          4    1         NaN\n",
       "2  59-POWELL/MASON   Colmbs&Lmbrd       251         18    1         NaN\n",
       "3  59-POWELL/MASON   Mason&Grnwch       108         10    1         NaN\n",
       "4  59-POWELL/MASON  Mason&Filbert        59          5    1         NaN"
      ]
     },
     "execution_count": 3,
     "metadata": {},
     "output_type": "execute_result"
    }
   ],
   "source": [
    "muni09.head()"
   ]
  },
  {
   "cell_type": "code",
   "execution_count": 4,
   "metadata": {
    "collapsed": false
   },
   "outputs": [
    {
     "data": {
      "text/html": [
       "<div>\n",
       "<table border=\"1\" class=\"dataframe\">\n",
       "  <thead>\n",
       "    <tr style=\"text-align: right;\">\n",
       "      <th></th>\n",
       "      <th>ROUTE</th>\n",
       "      <th>DIRECTION</th>\n",
       "      <th>STOP NAME</th>\n",
       "      <th>STOP ID</th>\n",
       "      <th>STOP SEQ</th>\n",
       "      <th>Time Period</th>\n",
       "      <th>Total Boardings</th>\n",
       "      <th>Total Alightings</th>\n",
       "      <th>Total Train Load</th>\n",
       "      <th>Number of Trips in Time Period</th>\n",
       "      <th>Average Boardings</th>\n",
       "      <th>Average Alightings</th>\n",
       "      <th>Average Train Load</th>\n",
       "      <th>Stop Latitude</th>\n",
       "      <th>Stop Longitude</th>\n",
       "    </tr>\n",
       "  </thead>\n",
       "  <tbody>\n",
       "    <tr>\n",
       "      <th>0</th>\n",
       "      <td>J-Church</td>\n",
       "      <td>INBOUND</td>\n",
       "      <td>San Jose Ave &amp; Geneva Ave</td>\n",
       "      <td>7778</td>\n",
       "      <td>1</td>\n",
       "      <td>7 - Owl</td>\n",
       "      <td>4.4</td>\n",
       "      <td>-</td>\n",
       "      <td>4.4</td>\n",
       "      <td>9</td>\n",
       "      <td>0.5</td>\n",
       "      <td>-</td>\n",
       "      <td>0.5</td>\n",
       "      <td>37.721240</td>\n",
       "      <td>-122.44622</td>\n",
       "    </tr>\n",
       "    <tr>\n",
       "      <th>1</th>\n",
       "      <td>J-Church</td>\n",
       "      <td>INBOUND</td>\n",
       "      <td>San Jose Ave &amp; Ocean Ave</td>\n",
       "      <td>6275</td>\n",
       "      <td>2</td>\n",
       "      <td>7 - Owl</td>\n",
       "      <td>2.2</td>\n",
       "      <td>-</td>\n",
       "      <td>6.5</td>\n",
       "      <td>9</td>\n",
       "      <td>0.2</td>\n",
       "      <td>-</td>\n",
       "      <td>0.7</td>\n",
       "      <td>37.722862</td>\n",
       "      <td>-122.44479</td>\n",
       "    </tr>\n",
       "    <tr>\n",
       "      <th>2</th>\n",
       "      <td>J-Church</td>\n",
       "      <td>INBOUND</td>\n",
       "      <td>San Jose Ave &amp; Santa Ynez Ave</td>\n",
       "      <td>6288</td>\n",
       "      <td>3</td>\n",
       "      <td>7 - Owl</td>\n",
       "      <td>2.2</td>\n",
       "      <td>-</td>\n",
       "      <td>8.7</td>\n",
       "      <td>9</td>\n",
       "      <td>0.2</td>\n",
       "      <td>-</td>\n",
       "      <td>1.0</td>\n",
       "      <td>37.725680</td>\n",
       "      <td>-122.44244</td>\n",
       "    </tr>\n",
       "    <tr>\n",
       "      <th>3</th>\n",
       "      <td>J-Church</td>\n",
       "      <td>INBOUND</td>\n",
       "      <td>San Jose Ave &amp; Santa Rosa Ave</td>\n",
       "      <td>6284</td>\n",
       "      <td>4</td>\n",
       "      <td>7 - Owl</td>\n",
       "      <td>8.7</td>\n",
       "      <td>-</td>\n",
       "      <td>17.5</td>\n",
       "      <td>9</td>\n",
       "      <td>1.0</td>\n",
       "      <td>-</td>\n",
       "      <td>1.9</td>\n",
       "      <td>37.728992</td>\n",
       "      <td>-122.43992</td>\n",
       "    </tr>\n",
       "    <tr>\n",
       "      <th>4</th>\n",
       "      <td>J-Church</td>\n",
       "      <td>INBOUND</td>\n",
       "      <td>San Jose Ave/Glen Park Station</td>\n",
       "      <td>4787</td>\n",
       "      <td>5</td>\n",
       "      <td>7 - Owl</td>\n",
       "      <td>2.2</td>\n",
       "      <td>4.4</td>\n",
       "      <td>15.3</td>\n",
       "      <td>9</td>\n",
       "      <td>0.2</td>\n",
       "      <td>0.5</td>\n",
       "      <td>1.7</td>\n",
       "      <td>37.732525</td>\n",
       "      <td>-122.43342</td>\n",
       "    </tr>\n",
       "  </tbody>\n",
       "</table>\n",
       "</div>"
      ],
      "text/plain": [
       "       ROUTE DIRECTION                       STOP NAME  STOP ID  STOP SEQ  \\\n",
       "0  J-Church    INBOUND       San Jose Ave & Geneva Ave     7778         1   \n",
       "1  J-Church    INBOUND        San Jose Ave & Ocean Ave     6275         2   \n",
       "2  J-Church    INBOUND   San Jose Ave & Santa Ynez Ave     6288         3   \n",
       "3  J-Church    INBOUND   San Jose Ave & Santa Rosa Ave     6284         4   \n",
       "4  J-Church    INBOUND  San Jose Ave/Glen Park Station     4787         5   \n",
       "\n",
       "  Time Period  Total Boardings   Total Alightings   Total Train Load   \\\n",
       "0     7 - Owl              4.4                -                  4.4    \n",
       "1     7 - Owl              2.2                -                  6.5    \n",
       "2     7 - Owl              2.2                -                  8.7    \n",
       "3     7 - Owl              8.7                -                 17.5    \n",
       "4     7 - Owl              2.2                4.4               15.3    \n",
       "\n",
       "   Number of Trips in Time Period  Average Boardings   Average Alightings   \\\n",
       "0                               9                0.5                  -      \n",
       "1                               9                0.2                  -      \n",
       "2                               9                0.2                  -      \n",
       "3                               9                1.0                  -      \n",
       "4                               9                0.2                  0.5    \n",
       "\n",
       "   Average Train Load   Stop Latitude  Stop Longitude  \n",
       "0                 0.5       37.721240      -122.44622  \n",
       "1                 0.7       37.722862      -122.44479  \n",
       "2                 1.0       37.725680      -122.44244  \n",
       "3                 1.9       37.728992      -122.43992  \n",
       "4                 1.7       37.732525      -122.43342  "
      ]
     },
     "execution_count": 4,
     "metadata": {},
     "output_type": "execute_result"
    }
   ],
   "source": [
    "muni16.head()"
   ]
  },
  {
   "cell_type": "code",
   "execution_count": 40,
   "metadata": {
    "collapsed": false
   },
   "outputs": [],
   "source": [
    "muni16 = muni16.groupby(by = ['ROUTE','STOP NAME','DIRECTION','STOP ID'],as_index = False).sum()\n",
    "len(muni16)\n",
    "muni16 = muni16.sort_values(by = 'STOP NAME')"
   ]
  },
  {
   "cell_type": "code",
   "execution_count": 41,
   "metadata": {
    "collapsed": false
   },
   "outputs": [],
   "source": [
    "muni16.to_csv('muni16_sorted.csv')"
   ]
  },
  {
   "cell_type": "code",
   "execution_count": 23,
   "metadata": {
    "collapsed": false
   },
   "outputs": [
    {
     "name": "stdout",
     "output_type": "stream",
     "text": [
      "<class 'pandas.core.frame.DataFrame'>\n",
      "Int64Index: 308 entries, 0 to 307\n",
      "Data columns (total 15 columns):\n",
      "ROUTE                             308 non-null object\n",
      "STOP NAME                         308 non-null object\n",
      "DIRECTION                         308 non-null object\n",
      "STOP ID                           308 non-null int64\n",
      "STOP SEQ                          308 non-null int64\n",
      "Time Period                       308 non-null object\n",
      " Total Boardings                  308 non-null object\n",
      " Total Alightings                 308 non-null object\n",
      " Total Train Load                 308 non-null object\n",
      "Number of Trips in Time Period    308 non-null int64\n",
      " Average Boardings                308 non-null object\n",
      " Average Alightings               308 non-null object\n",
      " Average Train Load               308 non-null object\n",
      "Stop Latitude                     308 non-null float64\n",
      "Stop Longitude                    308 non-null float64\n",
      "dtypes: float64(2), int64(3), object(10)\n",
      "memory usage: 38.5+ KB\n"
     ]
    }
   ],
   "source": [
    "muni16.info()"
   ]
  },
  {
   "cell_type": "code",
   "execution_count": null,
   "metadata": {
    "collapsed": false
   },
   "outputs": [],
   "source": []
  },
  {
   "cell_type": "code",
   "execution_count": 38,
   "metadata": {
    "collapsed": false
   },
   "outputs": [
    {
     "data": {
      "text/html": [
       "<div>\n",
       "<table border=\"1\" class=\"dataframe\">\n",
       "  <thead>\n",
       "    <tr style=\"text-align: right;\">\n",
       "      <th></th>\n",
       "      <th>ROUTE</th>\n",
       "      <th>STOP NAME</th>\n",
       "      <th>DIRECTION</th>\n",
       "      <th>STOP ID</th>\n",
       "      <th>STOP SEQ</th>\n",
       "      <th>Time Period</th>\n",
       "      <th>Total Boardings</th>\n",
       "      <th>Total Alightings</th>\n",
       "      <th>Total Train Load</th>\n",
       "      <th>Number of Trips in Time Period</th>\n",
       "      <th>Average Boardings</th>\n",
       "      <th>Average Alightings</th>\n",
       "      <th>Average Train Load</th>\n",
       "      <th>Stop Latitude</th>\n",
       "      <th>Stop Longitude</th>\n",
       "    </tr>\n",
       "  </thead>\n",
       "  <tbody>\n",
       "    <tr>\n",
       "      <th>0</th>\n",
       "      <td>J-Church</td>\n",
       "      <td>30th St &amp; Dolores St</td>\n",
       "      <td>INBOUND</td>\n",
       "      <td>3537</td>\n",
       "      <td>7</td>\n",
       "      <td>7 - Owl</td>\n",
       "      <td>13.4</td>\n",
       "      <td>-</td>\n",
       "      <td>30.9</td>\n",
       "      <td>9</td>\n",
       "      <td>1.5</td>\n",
       "      <td>-</td>\n",
       "      <td>3.4</td>\n",
       "      <td>37.742306</td>\n",
       "      <td>-122.42403</td>\n",
       "    </tr>\n",
       "    <tr>\n",
       "      <th>1</th>\n",
       "      <td>J-Church</td>\n",
       "      <td>30th St &amp; Dolores St</td>\n",
       "      <td>OUTBOUND</td>\n",
       "      <td>3538</td>\n",
       "      <td>20</td>\n",
       "      <td>7 - Owl</td>\n",
       "      <td>-</td>\n",
       "      <td>-</td>\n",
       "      <td>8.2</td>\n",
       "      <td>7</td>\n",
       "      <td>-</td>\n",
       "      <td>-</td>\n",
       "      <td>1.2</td>\n",
       "      <td>37.742170</td>\n",
       "      <td>-122.42445</td>\n",
       "    </tr>\n",
       "    <tr>\n",
       "      <th>2</th>\n",
       "      <td>J-Church</td>\n",
       "      <td>Church St &amp; 14th St</td>\n",
       "      <td>OUTBOUND</td>\n",
       "      <td>7316</td>\n",
       "      <td>8</td>\n",
       "      <td>7 - Owl</td>\n",
       "      <td>7.6</td>\n",
       "      <td>2.1</td>\n",
       "      <td>14.5</td>\n",
       "      <td>7</td>\n",
       "      <td>1.1</td>\n",
       "      <td>0.3</td>\n",
       "      <td>2.1</td>\n",
       "      <td>37.767784</td>\n",
       "      <td>-122.42899</td>\n",
       "    </tr>\n",
       "    <tr>\n",
       "      <th>3</th>\n",
       "      <td>J-Church</td>\n",
       "      <td>Church St &amp; 16th St</td>\n",
       "      <td>INBOUND</td>\n",
       "      <td>3985</td>\n",
       "      <td>18</td>\n",
       "      <td>7 - Owl</td>\n",
       "      <td>-</td>\n",
       "      <td>-</td>\n",
       "      <td>100.4</td>\n",
       "      <td>9</td>\n",
       "      <td>-</td>\n",
       "      <td>-</td>\n",
       "      <td>11.2</td>\n",
       "      <td>37.764385</td>\n",
       "      <td>-122.42861</td>\n",
       "    </tr>\n",
       "    <tr>\n",
       "      <th>4</th>\n",
       "      <td>J-Church</td>\n",
       "      <td>Church St &amp; 16th St</td>\n",
       "      <td>OUTBOUND</td>\n",
       "      <td>3984</td>\n",
       "      <td>9</td>\n",
       "      <td>7 - Owl</td>\n",
       "      <td>-</td>\n",
       "      <td>4.1</td>\n",
       "      <td>10.4</td>\n",
       "      <td>7</td>\n",
       "      <td>-</td>\n",
       "      <td>0.6</td>\n",
       "      <td>1.5</td>\n",
       "      <td>37.764620</td>\n",
       "      <td>-122.42872</td>\n",
       "    </tr>\n",
       "  </tbody>\n",
       "</table>\n",
       "</div>"
      ],
      "text/plain": [
       "       ROUTE             STOP NAME DIRECTION  STOP ID  STOP SEQ Time Period  \\\n",
       "0  J-Church   30th St & Dolores St   INBOUND     3537         7     7 - Owl   \n",
       "1  J-Church   30th St & Dolores St  OUTBOUND     3538        20     7 - Owl   \n",
       "2  J-Church    Church St & 14th St  OUTBOUND     7316         8     7 - Owl   \n",
       "3  J-Church    Church St & 16th St   INBOUND     3985        18     7 - Owl   \n",
       "4  J-Church    Church St & 16th St  OUTBOUND     3984         9     7 - Owl   \n",
       "\n",
       "   Total Boardings   Total Alightings   Total Train Load   \\\n",
       "0             13.4                -                 30.9    \n",
       "1              -                  -                  8.2    \n",
       "2              7.6                2.1               14.5    \n",
       "3              -                  -                100.4    \n",
       "4              -                  4.1               10.4    \n",
       "\n",
       "   Number of Trips in Time Period  Average Boardings   Average Alightings   \\\n",
       "0                               9                1.5                  -      \n",
       "1                               7                -                    -      \n",
       "2                               7                1.1                  0.3    \n",
       "3                               9                -                    -      \n",
       "4                               7                -                    0.6    \n",
       "\n",
       "   Average Train Load   Stop Latitude  Stop Longitude  \n",
       "0                 3.4       37.742306      -122.42403  \n",
       "1                 1.2       37.742170      -122.42445  \n",
       "2                 2.1       37.767784      -122.42899  \n",
       "3                11.2       37.764385      -122.42861  \n",
       "4                 1.5       37.764620      -122.42872  "
      ]
     },
     "execution_count": 38,
     "metadata": {},
     "output_type": "execute_result"
    }
   ],
   "source": [
    "muni16.head()"
   ]
  },
  {
   "cell_type": "code",
   "execution_count": 33,
   "metadata": {
    "collapsed": false
   },
   "outputs": [
    {
     "data": {
      "text/html": [
       "<div>\n",
       "<table border=\"1\" class=\"dataframe\">\n",
       "  <thead>\n",
       "    <tr style=\"text-align: right;\">\n",
       "      <th></th>\n",
       "      <th>ROUTE</th>\n",
       "      <th>DIRECTION</th>\n",
       "      <th>STOP NAME</th>\n",
       "      <th>STOP ID</th>\n",
       "      <th>STOP SEQ</th>\n",
       "      <th>Time Period</th>\n",
       "      <th>Total Boardings</th>\n",
       "      <th>Total Alightings</th>\n",
       "      <th>Total Train Load</th>\n",
       "      <th>Number of Trips in Time Period</th>\n",
       "      <th>Average Boardings</th>\n",
       "      <th>Average Alightings</th>\n",
       "      <th>Average Train Load</th>\n",
       "      <th>Stop Latitude</th>\n",
       "      <th>Stop Longitude</th>\n",
       "    </tr>\n",
       "  </thead>\n",
       "  <tbody>\n",
       "    <tr>\n",
       "      <th>0</th>\n",
       "      <td>J-Church</td>\n",
       "      <td>INBOUND</td>\n",
       "      <td>San Jose Ave &amp; Geneva Ave</td>\n",
       "      <td>7778</td>\n",
       "      <td>1</td>\n",
       "      <td>7 - Owl</td>\n",
       "      <td>4.4</td>\n",
       "      <td>-</td>\n",
       "      <td>4.4</td>\n",
       "      <td>9</td>\n",
       "      <td>0.5</td>\n",
       "      <td>-</td>\n",
       "      <td>0.5</td>\n",
       "      <td>37.721240</td>\n",
       "      <td>-122.44622</td>\n",
       "    </tr>\n",
       "    <tr>\n",
       "      <th>1</th>\n",
       "      <td>J-Church</td>\n",
       "      <td>INBOUND</td>\n",
       "      <td>San Jose Ave &amp; Ocean Ave</td>\n",
       "      <td>6275</td>\n",
       "      <td>2</td>\n",
       "      <td>7 - Owl</td>\n",
       "      <td>2.2</td>\n",
       "      <td>-</td>\n",
       "      <td>6.5</td>\n",
       "      <td>9</td>\n",
       "      <td>0.2</td>\n",
       "      <td>-</td>\n",
       "      <td>0.7</td>\n",
       "      <td>37.722862</td>\n",
       "      <td>-122.44479</td>\n",
       "    </tr>\n",
       "    <tr>\n",
       "      <th>2</th>\n",
       "      <td>J-Church</td>\n",
       "      <td>INBOUND</td>\n",
       "      <td>San Jose Ave &amp; Santa Ynez Ave</td>\n",
       "      <td>6288</td>\n",
       "      <td>3</td>\n",
       "      <td>7 - Owl</td>\n",
       "      <td>2.2</td>\n",
       "      <td>-</td>\n",
       "      <td>8.7</td>\n",
       "      <td>9</td>\n",
       "      <td>0.2</td>\n",
       "      <td>-</td>\n",
       "      <td>1.0</td>\n",
       "      <td>37.725680</td>\n",
       "      <td>-122.44244</td>\n",
       "    </tr>\n",
       "    <tr>\n",
       "      <th>3</th>\n",
       "      <td>J-Church</td>\n",
       "      <td>INBOUND</td>\n",
       "      <td>San Jose Ave &amp; Santa Rosa Ave</td>\n",
       "      <td>6284</td>\n",
       "      <td>4</td>\n",
       "      <td>7 - Owl</td>\n",
       "      <td>8.7</td>\n",
       "      <td>-</td>\n",
       "      <td>17.5</td>\n",
       "      <td>9</td>\n",
       "      <td>1.0</td>\n",
       "      <td>-</td>\n",
       "      <td>1.9</td>\n",
       "      <td>37.728992</td>\n",
       "      <td>-122.43992</td>\n",
       "    </tr>\n",
       "    <tr>\n",
       "      <th>4</th>\n",
       "      <td>J-Church</td>\n",
       "      <td>INBOUND</td>\n",
       "      <td>San Jose Ave/Glen Park Station</td>\n",
       "      <td>4787</td>\n",
       "      <td>5</td>\n",
       "      <td>7 - Owl</td>\n",
       "      <td>2.2</td>\n",
       "      <td>4.4</td>\n",
       "      <td>15.3</td>\n",
       "      <td>9</td>\n",
       "      <td>0.2</td>\n",
       "      <td>0.5</td>\n",
       "      <td>1.7</td>\n",
       "      <td>37.732525</td>\n",
       "      <td>-122.43342</td>\n",
       "    </tr>\n",
       "  </tbody>\n",
       "</table>\n",
       "</div>"
      ],
      "text/plain": [
       "       ROUTE DIRECTION                       STOP NAME  STOP ID  STOP SEQ  \\\n",
       "0  J-Church    INBOUND       San Jose Ave & Geneva Ave     7778         1   \n",
       "1  J-Church    INBOUND        San Jose Ave & Ocean Ave     6275         2   \n",
       "2  J-Church    INBOUND   San Jose Ave & Santa Ynez Ave     6288         3   \n",
       "3  J-Church    INBOUND   San Jose Ave & Santa Rosa Ave     6284         4   \n",
       "4  J-Church    INBOUND  San Jose Ave/Glen Park Station     4787         5   \n",
       "\n",
       "  Time Period  Total Boardings   Total Alightings   Total Train Load   \\\n",
       "0     7 - Owl              4.4                -                  4.4    \n",
       "1     7 - Owl              2.2                -                  6.5    \n",
       "2     7 - Owl              2.2                -                  8.7    \n",
       "3     7 - Owl              8.7                -                 17.5    \n",
       "4     7 - Owl              2.2                4.4               15.3    \n",
       "\n",
       "   Number of Trips in Time Period  Average Boardings   Average Alightings   \\\n",
       "0                               9                0.5                  -      \n",
       "1                               9                0.2                  -      \n",
       "2                               9                0.2                  -      \n",
       "3                               9                1.0                  -      \n",
       "4                               9                0.2                  0.5    \n",
       "\n",
       "   Average Train Load   Stop Latitude  Stop Longitude  \n",
       "0                 0.5       37.721240      -122.44622  \n",
       "1                 0.7       37.722862      -122.44479  \n",
       "2                 1.0       37.725680      -122.44244  \n",
       "3                 1.9       37.728992      -122.43992  \n",
       "4                 1.7       37.732525      -122.43342  "
      ]
     },
     "execution_count": 33,
     "metadata": {},
     "output_type": "execute_result"
    }
   ],
   "source": [
    "muni16.head()"
   ]
  },
  {
   "cell_type": "code",
   "execution_count": 48,
   "metadata": {
    "collapsed": false
   },
   "outputs": [],
   "source": []
  },
  {
   "cell_type": "code",
   "execution_count": 58,
   "metadata": {
    "collapsed": false
   },
   "outputs": [
    {
     "data": {
      "text/html": [
       "<div>\n",
       "<table border=\"1\" class=\"dataframe\">\n",
       "  <thead>\n",
       "    <tr style=\"text-align: right;\">\n",
       "      <th></th>\n",
       "      <th>Route</th>\n",
       "      <th>STOP</th>\n",
       "      <th>Boardings</th>\n",
       "      <th>Alightings</th>\n",
       "      <th>DIR</th>\n",
       "      <th>Unnamed: 5</th>\n",
       "    </tr>\n",
       "  </thead>\n",
       "  <tbody>\n",
       "    <tr>\n",
       "      <th>0</th>\n",
       "      <td>59-POWELL/MASON</td>\n",
       "      <td>Taylor&amp;Bay</td>\n",
       "      <td>3,527</td>\n",
       "      <td>0</td>\n",
       "      <td>1</td>\n",
       "      <td>NaN</td>\n",
       "    </tr>\n",
       "    <tr>\n",
       "      <th>1</th>\n",
       "      <td>59-POWELL/MASON</td>\n",
       "      <td>Taylor&amp;Colmbs</td>\n",
       "      <td>49</td>\n",
       "      <td>4</td>\n",
       "      <td>1</td>\n",
       "      <td>NaN</td>\n",
       "    </tr>\n",
       "    <tr>\n",
       "      <th>2</th>\n",
       "      <td>59-POWELL/MASON</td>\n",
       "      <td>Colmbs&amp;Lmbrd</td>\n",
       "      <td>251</td>\n",
       "      <td>18</td>\n",
       "      <td>1</td>\n",
       "      <td>NaN</td>\n",
       "    </tr>\n",
       "    <tr>\n",
       "      <th>3</th>\n",
       "      <td>59-POWELL/MASON</td>\n",
       "      <td>Mason&amp;Grnwch</td>\n",
       "      <td>108</td>\n",
       "      <td>10</td>\n",
       "      <td>1</td>\n",
       "      <td>NaN</td>\n",
       "    </tr>\n",
       "    <tr>\n",
       "      <th>4</th>\n",
       "      <td>59-POWELL/MASON</td>\n",
       "      <td>Mason&amp;Filbert</td>\n",
       "      <td>59</td>\n",
       "      <td>5</td>\n",
       "      <td>1</td>\n",
       "      <td>NaN</td>\n",
       "    </tr>\n",
       "  </tbody>\n",
       "</table>\n",
       "</div>"
      ],
      "text/plain": [
       "             Route           STOP Boardings Alightings  DIR  Unnamed: 5\n",
       "0  59-POWELL/MASON     Taylor&Bay     3,527          0    1         NaN\n",
       "1  59-POWELL/MASON  Taylor&Colmbs        49          4    1         NaN\n",
       "2  59-POWELL/MASON   Colmbs&Lmbrd       251         18    1         NaN\n",
       "3  59-POWELL/MASON   Mason&Grnwch       108         10    1         NaN\n",
       "4  59-POWELL/MASON  Mason&Filbert        59          5    1         NaN"
      ]
     },
     "execution_count": 58,
     "metadata": {},
     "output_type": "execute_result"
    }
   ],
   "source": [
    "muni09.head()"
   ]
  },
  {
   "cell_type": "code",
   "execution_count": 71,
   "metadata": {
    "collapsed": false
   },
   "outputs": [],
   "source": [
    "store = pd.HDFStore(\"E:/Transit_Casa/Output/sfmuni_monthly_ts.h5\")\n",
    "\n",
    "df = store.get('rs_day')\n",
    "df = df[df['MONTH'].isin(pd.date_range('2009-01-01','2009-12-01'))]"
   ]
  },
  {
   "cell_type": "code",
   "execution_count": 72,
   "metadata": {
    "collapsed": false
   },
   "outputs": [
    {
     "data": {
      "text/html": [
       "<div>\n",
       "<table border=\"1\" class=\"dataframe\">\n",
       "  <thead>\n",
       "    <tr style=\"text-align: right;\">\n",
       "      <th></th>\n",
       "      <th>MONTH</th>\n",
       "      <th>DOW</th>\n",
       "      <th>AGENCY_ID</th>\n",
       "      <th>ROUTE_SHORT_NAME</th>\n",
       "      <th>DIR</th>\n",
       "      <th>SEQ</th>\n",
       "      <th>NUMDAYS</th>\n",
       "      <th>OBSDAYS</th>\n",
       "      <th>TRIP_STOPS</th>\n",
       "      <th>OBS_TRIP_STOPS</th>\n",
       "      <th>WGT_TRIP_STOPS</th>\n",
       "      <th>STOP_ID</th>\n",
       "      <th>ROUTE_LONG_NAME</th>\n",
       "      <th>ROUTE_TYPE</th>\n",
       "      <th>TRIP_HEADSIGN</th>\n",
       "      <th>HEADWAY_S</th>\n",
       "      <th>FARE</th>\n",
       "      <th>STOPNAME</th>\n",
       "      <th>STOPNAME_AVL</th>\n",
       "      <th>STOP_LAT</th>\n",
       "      <th>STOP_LON</th>\n",
       "      <th>EOL</th>\n",
       "      <th>SOL</th>\n",
       "      <th>TIMEPOINT</th>\n",
       "      <th>ARRIVAL_TIME_DEV</th>\n",
       "      <th>DEPARTURE_TIME_DEV</th>\n",
       "      <th>DWELL_S</th>\n",
       "      <th>DWELL</th>\n",
       "      <th>RUNTIME_S</th>\n",
       "      <th>RUNTIME</th>\n",
       "      <th>TOTTIME_S</th>\n",
       "      <th>TOTTIME</th>\n",
       "      <th>SERVMILES_S</th>\n",
       "      <th>SERVMILES</th>\n",
       "      <th>RUNSPEED_S</th>\n",
       "      <th>RUNSPEED</th>\n",
       "      <th>TOTSPEED_S</th>\n",
       "      <th>TOTSPEED</th>\n",
       "      <th>ONTIME5</th>\n",
       "      <th>ON</th>\n",
       "      <th>OFF</th>\n",
       "      <th>LOAD_ARR</th>\n",
       "      <th>LOAD_DEP</th>\n",
       "      <th>PASSMILES</th>\n",
       "      <th>PASSHOURS</th>\n",
       "      <th>WAITHOURS</th>\n",
       "      <th>FULLFARE_REV</th>\n",
       "      <th>PASSDELAY_DEP</th>\n",
       "      <th>PASSDELAY_ARR</th>\n",
       "      <th>RDBRDNGS</th>\n",
       "      <th>DOORCYCLES</th>\n",
       "      <th>WHEELCHAIR</th>\n",
       "      <th>BIKERACK</th>\n",
       "      <th>CAPACITY</th>\n",
       "      <th>VC</th>\n",
       "      <th>CROWDED</th>\n",
       "      <th>CROWDHOURS</th>\n",
       "    </tr>\n",
       "  </thead>\n",
       "  <tbody>\n",
       "    <tr>\n",
       "      <th>0</th>\n",
       "      <td>2009-06-01</td>\n",
       "      <td>1</td>\n",
       "      <td>SFMTA</td>\n",
       "      <td>016AX</td>\n",
       "      <td>0</td>\n",
       "      <td>3</td>\n",
       "      <td>12</td>\n",
       "      <td>11</td>\n",
       "      <td>13</td>\n",
       "      <td>2</td>\n",
       "      <td>13.0</td>\n",
       "      <td>3612</td>\n",
       "      <td>NORIEGA A EXP</td>\n",
       "      <td>3</td>\n",
       "      <td>48th Avenue</td>\n",
       "      <td>10.666667</td>\n",
       "      <td>2.0</td>\n",
       "      <td>Cyril Magnin St &amp; Market St</td>\n",
       "      <td>5TH ST NORTH&amp;MARKET ST NW</td>\n",
       "      <td>37.784011</td>\n",
       "      <td>-122.408210</td>\n",
       "      <td>0</td>\n",
       "      <td>1</td>\n",
       "      <td>1.0</td>\n",
       "      <td>-4.083968</td>\n",
       "      <td>-0.189805</td>\n",
       "      <td>0.0</td>\n",
       "      <td>50.597210</td>\n",
       "      <td>0.00</td>\n",
       "      <td>0.000000</td>\n",
       "      <td>0.00</td>\n",
       "      <td>50.597210</td>\n",
       "      <td>0.000</td>\n",
       "      <td>0.000</td>\n",
       "      <td>0.00</td>\n",
       "      <td>0.00</td>\n",
       "      <td>0.00</td>\n",
       "      <td>0.00</td>\n",
       "      <td>0.671212</td>\n",
       "      <td>212.620346</td>\n",
       "      <td>1.181818</td>\n",
       "      <td>1.181818</td>\n",
       "      <td>212.620346</td>\n",
       "      <td>0.000000</td>\n",
       "      <td>14.251523</td>\n",
       "      <td>20.181656</td>\n",
       "      <td>425.240693</td>\n",
       "      <td>140.166169</td>\n",
       "      <td>75.003247</td>\n",
       "      <td>0.0</td>\n",
       "      <td>19.716667</td>\n",
       "      <td>0.0</td>\n",
       "      <td>0.0</td>\n",
       "      <td>177.545455</td>\n",
       "      <td>0.001443</td>\n",
       "      <td>0.0</td>\n",
       "      <td>0.0</td>\n",
       "    </tr>\n",
       "    <tr>\n",
       "      <th>1</th>\n",
       "      <td>2009-06-01</td>\n",
       "      <td>1</td>\n",
       "      <td>SFMTA</td>\n",
       "      <td>016AX</td>\n",
       "      <td>0</td>\n",
       "      <td>4</td>\n",
       "      <td>12</td>\n",
       "      <td>0</td>\n",
       "      <td>13</td>\n",
       "      <td>0</td>\n",
       "      <td>13.0</td>\n",
       "      <td>7305</td>\n",
       "      <td>NORIEGA A EXP</td>\n",
       "      <td>3</td>\n",
       "      <td>48th Avenue</td>\n",
       "      <td>10.666667</td>\n",
       "      <td>2.0</td>\n",
       "      <td>Eddy St &amp; Cyril Magnin St</td>\n",
       "      <td>nan</td>\n",
       "      <td>37.784386</td>\n",
       "      <td>-122.408599</td>\n",
       "      <td>0</td>\n",
       "      <td>0</td>\n",
       "      <td>NaN</td>\n",
       "      <td>NaN</td>\n",
       "      <td>NaN</td>\n",
       "      <td>0.0</td>\n",
       "      <td>NaN</td>\n",
       "      <td>2.99</td>\n",
       "      <td>NaN</td>\n",
       "      <td>2.99</td>\n",
       "      <td>NaN</td>\n",
       "      <td>0.546</td>\n",
       "      <td>0.546</td>\n",
       "      <td>10.96</td>\n",
       "      <td>NaN</td>\n",
       "      <td>10.96</td>\n",
       "      <td>NaN</td>\n",
       "      <td>NaN</td>\n",
       "      <td>NaN</td>\n",
       "      <td>NaN</td>\n",
       "      <td>NaN</td>\n",
       "      <td>NaN</td>\n",
       "      <td>NaN</td>\n",
       "      <td>NaN</td>\n",
       "      <td>NaN</td>\n",
       "      <td>NaN</td>\n",
       "      <td>NaN</td>\n",
       "      <td>NaN</td>\n",
       "      <td>NaN</td>\n",
       "      <td>NaN</td>\n",
       "      <td>NaN</td>\n",
       "      <td>NaN</td>\n",
       "      <td>NaN</td>\n",
       "      <td>NaN</td>\n",
       "      <td>NaN</td>\n",
       "      <td>NaN</td>\n",
       "    </tr>\n",
       "    <tr>\n",
       "      <th>2</th>\n",
       "      <td>2009-06-01</td>\n",
       "      <td>1</td>\n",
       "      <td>SFMTA</td>\n",
       "      <td>016AX</td>\n",
       "      <td>0</td>\n",
       "      <td>5</td>\n",
       "      <td>12</td>\n",
       "      <td>11</td>\n",
       "      <td>13</td>\n",
       "      <td>2</td>\n",
       "      <td>13.0</td>\n",
       "      <td>6733</td>\n",
       "      <td>NORIEGA A EXP</td>\n",
       "      <td>3</td>\n",
       "      <td>48th Avenue</td>\n",
       "      <td>10.666667</td>\n",
       "      <td>2.0</td>\n",
       "      <td>Turk St &amp; Taylor St</td>\n",
       "      <td>TURK ST&amp;TAYLOR ST N-MB/BZ</td>\n",
       "      <td>37.783387</td>\n",
       "      <td>-122.409895</td>\n",
       "      <td>0</td>\n",
       "      <td>0</td>\n",
       "      <td>0.0</td>\n",
       "      <td>-0.104658</td>\n",
       "      <td>-0.083203</td>\n",
       "      <td>0.0</td>\n",
       "      <td>0.286000</td>\n",
       "      <td>11.05</td>\n",
       "      <td>15.190106</td>\n",
       "      <td>11.05</td>\n",
       "      <td>15.476106</td>\n",
       "      <td>1.716</td>\n",
       "      <td>1.716</td>\n",
       "      <td>9.32</td>\n",
       "      <td>6.78</td>\n",
       "      <td>9.32</td>\n",
       "      <td>6.65</td>\n",
       "      <td>0.739394</td>\n",
       "      <td>3.309091</td>\n",
       "      <td>0.000000</td>\n",
       "      <td>212.620346</td>\n",
       "      <td>215.929437</td>\n",
       "      <td>28.065886</td>\n",
       "      <td>4.450685</td>\n",
       "      <td>0.281667</td>\n",
       "      <td>6.618182</td>\n",
       "      <td>0.269455</td>\n",
       "      <td>0.222182</td>\n",
       "      <td>0.0</td>\n",
       "      <td>2.600000</td>\n",
       "      <td>0.0</td>\n",
       "      <td>0.0</td>\n",
       "      <td>177.545455</td>\n",
       "      <td>0.259610</td>\n",
       "      <td>0.0</td>\n",
       "      <td>0.0</td>\n",
       "    </tr>\n",
       "    <tr>\n",
       "      <th>3</th>\n",
       "      <td>2009-06-01</td>\n",
       "      <td>1</td>\n",
       "      <td>SFMTA</td>\n",
       "      <td>016AX</td>\n",
       "      <td>0</td>\n",
       "      <td>6</td>\n",
       "      <td>12</td>\n",
       "      <td>11</td>\n",
       "      <td>13</td>\n",
       "      <td>2</td>\n",
       "      <td>13.0</td>\n",
       "      <td>6719</td>\n",
       "      <td>NORIEGA A EXP</td>\n",
       "      <td>3</td>\n",
       "      <td>48th Avenue</td>\n",
       "      <td>10.666667</td>\n",
       "      <td>2.0</td>\n",
       "      <td>Turk St &amp; Jones St</td>\n",
       "      <td>TURK ST&amp;JONES ST NW-FS/BZ</td>\n",
       "      <td>37.783039</td>\n",
       "      <td>-122.412577</td>\n",
       "      <td>0</td>\n",
       "      <td>0</td>\n",
       "      <td>0.0</td>\n",
       "      <td>-0.286771</td>\n",
       "      <td>-0.281673</td>\n",
       "      <td>0.0</td>\n",
       "      <td>0.067955</td>\n",
       "      <td>12.74</td>\n",
       "      <td>10.124777</td>\n",
       "      <td>12.74</td>\n",
       "      <td>10.192732</td>\n",
       "      <td>1.937</td>\n",
       "      <td>1.937</td>\n",
       "      <td>9.12</td>\n",
       "      <td>11.48</td>\n",
       "      <td>9.12</td>\n",
       "      <td>11.40</td>\n",
       "      <td>0.643074</td>\n",
       "      <td>0.531818</td>\n",
       "      <td>0.000000</td>\n",
       "      <td>215.929437</td>\n",
       "      <td>216.461255</td>\n",
       "      <td>32.173486</td>\n",
       "      <td>2.842919</td>\n",
       "      <td>0.059091</td>\n",
       "      <td>1.063636</td>\n",
       "      <td>0.850909</td>\n",
       "      <td>0.806591</td>\n",
       "      <td>0.0</td>\n",
       "      <td>0.937013</td>\n",
       "      <td>0.0</td>\n",
       "      <td>0.0</td>\n",
       "      <td>177.545455</td>\n",
       "      <td>0.263650</td>\n",
       "      <td>0.0</td>\n",
       "      <td>0.0</td>\n",
       "    </tr>\n",
       "    <tr>\n",
       "      <th>4</th>\n",
       "      <td>2009-06-01</td>\n",
       "      <td>1</td>\n",
       "      <td>SFMTA</td>\n",
       "      <td>016AX</td>\n",
       "      <td>0</td>\n",
       "      <td>7</td>\n",
       "      <td>12</td>\n",
       "      <td>11</td>\n",
       "      <td>13</td>\n",
       "      <td>2</td>\n",
       "      <td>13.0</td>\n",
       "      <td>6721</td>\n",
       "      <td>NORIEGA A EXP</td>\n",
       "      <td>3</td>\n",
       "      <td>48th Avenue</td>\n",
       "      <td>10.666667</td>\n",
       "      <td>2.0</td>\n",
       "      <td>Turk St &amp; Leavenworth St</td>\n",
       "      <td>TURK ST&amp;LEAVENWORTH ST NW</td>\n",
       "      <td>37.782835</td>\n",
       "      <td>-122.414217</td>\n",
       "      <td>0</td>\n",
       "      <td>0</td>\n",
       "      <td>0.0</td>\n",
       "      <td>-0.230974</td>\n",
       "      <td>-0.212814</td>\n",
       "      <td>0.0</td>\n",
       "      <td>0.236082</td>\n",
       "      <td>7.80</td>\n",
       "      <td>8.448762</td>\n",
       "      <td>7.80</td>\n",
       "      <td>8.684844</td>\n",
       "      <td>1.183</td>\n",
       "      <td>1.183</td>\n",
       "      <td>9.10</td>\n",
       "      <td>8.40</td>\n",
       "      <td>9.10</td>\n",
       "      <td>8.17</td>\n",
       "      <td>0.643074</td>\n",
       "      <td>4.445887</td>\n",
       "      <td>0.000000</td>\n",
       "      <td>216.461255</td>\n",
       "      <td>220.907143</td>\n",
       "      <td>19.697974</td>\n",
       "      <td>2.593526</td>\n",
       "      <td>0.492424</td>\n",
       "      <td>8.891775</td>\n",
       "      <td>0.263377</td>\n",
       "      <td>0.187403</td>\n",
       "      <td>0.0</td>\n",
       "      <td>8.047619</td>\n",
       "      <td>0.0</td>\n",
       "      <td>0.0</td>\n",
       "      <td>177.545455</td>\n",
       "      <td>0.264299</td>\n",
       "      <td>0.0</td>\n",
       "      <td>0.0</td>\n",
       "    </tr>\n",
       "  </tbody>\n",
       "</table>\n",
       "</div>"
      ],
      "text/plain": [
       "       MONTH  DOW AGENCY_ID ROUTE_SHORT_NAME  DIR  SEQ  NUMDAYS  OBSDAYS  \\\n",
       "0 2009-06-01    1     SFMTA            016AX    0    3       12       11   \n",
       "1 2009-06-01    1     SFMTA            016AX    0    4       12        0   \n",
       "2 2009-06-01    1     SFMTA            016AX    0    5       12       11   \n",
       "3 2009-06-01    1     SFMTA            016AX    0    6       12       11   \n",
       "4 2009-06-01    1     SFMTA            016AX    0    7       12       11   \n",
       "\n",
       "   TRIP_STOPS  OBS_TRIP_STOPS  WGT_TRIP_STOPS  STOP_ID ROUTE_LONG_NAME  \\\n",
       "0          13               2            13.0     3612   NORIEGA A EXP   \n",
       "1          13               0            13.0     7305   NORIEGA A EXP   \n",
       "2          13               2            13.0     6733   NORIEGA A EXP   \n",
       "3          13               2            13.0     6719   NORIEGA A EXP   \n",
       "4          13               2            13.0     6721   NORIEGA A EXP   \n",
       "\n",
       "   ROUTE_TYPE TRIP_HEADSIGN  HEADWAY_S  FARE                       STOPNAME  \\\n",
       "0           3   48th Avenue  10.666667   2.0  Cyril Magnin St & Market St     \n",
       "1           3   48th Avenue  10.666667   2.0      Eddy St & Cyril Magnin St   \n",
       "2           3   48th Avenue  10.666667   2.0         Turk St & Taylor St      \n",
       "3           3   48th Avenue  10.666667   2.0           Turk St & Jones St     \n",
       "4           3   48th Avenue  10.666667   2.0     Turk St & Leavenworth St     \n",
       "\n",
       "                STOPNAME_AVL   STOP_LAT    STOP_LON  EOL  SOL  TIMEPOINT  \\\n",
       "0  5TH ST NORTH&MARKET ST NW  37.784011 -122.408210    0    1        1.0   \n",
       "1                        nan  37.784386 -122.408599    0    0        NaN   \n",
       "2  TURK ST&TAYLOR ST N-MB/BZ  37.783387 -122.409895    0    0        0.0   \n",
       "3  TURK ST&JONES ST NW-FS/BZ  37.783039 -122.412577    0    0        0.0   \n",
       "4  TURK ST&LEAVENWORTH ST NW  37.782835 -122.414217    0    0        0.0   \n",
       "\n",
       "   ARRIVAL_TIME_DEV  DEPARTURE_TIME_DEV  DWELL_S      DWELL  RUNTIME_S  \\\n",
       "0         -4.083968           -0.189805      0.0  50.597210       0.00   \n",
       "1               NaN                 NaN      0.0        NaN       2.99   \n",
       "2         -0.104658           -0.083203      0.0   0.286000      11.05   \n",
       "3         -0.286771           -0.281673      0.0   0.067955      12.74   \n",
       "4         -0.230974           -0.212814      0.0   0.236082       7.80   \n",
       "\n",
       "     RUNTIME  TOTTIME_S    TOTTIME  SERVMILES_S  SERVMILES  RUNSPEED_S  \\\n",
       "0   0.000000       0.00  50.597210        0.000      0.000        0.00   \n",
       "1        NaN       2.99        NaN        0.546      0.546       10.96   \n",
       "2  15.190106      11.05  15.476106        1.716      1.716        9.32   \n",
       "3  10.124777      12.74  10.192732        1.937      1.937        9.12   \n",
       "4   8.448762       7.80   8.684844        1.183      1.183        9.10   \n",
       "\n",
       "   RUNSPEED  TOTSPEED_S  TOTSPEED   ONTIME5          ON       OFF    LOAD_ARR  \\\n",
       "0      0.00        0.00      0.00  0.671212  212.620346  1.181818    1.181818   \n",
       "1       NaN       10.96       NaN       NaN         NaN       NaN         NaN   \n",
       "2      6.78        9.32      6.65  0.739394    3.309091  0.000000  212.620346   \n",
       "3     11.48        9.12     11.40  0.643074    0.531818  0.000000  215.929437   \n",
       "4      8.40        9.10      8.17  0.643074    4.445887  0.000000  216.461255   \n",
       "\n",
       "     LOAD_DEP  PASSMILES  PASSHOURS  WAITHOURS  FULLFARE_REV  PASSDELAY_DEP  \\\n",
       "0  212.620346   0.000000  14.251523  20.181656    425.240693     140.166169   \n",
       "1         NaN        NaN        NaN        NaN           NaN            NaN   \n",
       "2  215.929437  28.065886   4.450685   0.281667      6.618182       0.269455   \n",
       "3  216.461255  32.173486   2.842919   0.059091      1.063636       0.850909   \n",
       "4  220.907143  19.697974   2.593526   0.492424      8.891775       0.263377   \n",
       "\n",
       "   PASSDELAY_ARR  RDBRDNGS  DOORCYCLES  WHEELCHAIR  BIKERACK    CAPACITY  \\\n",
       "0      75.003247       0.0   19.716667         0.0       0.0  177.545455   \n",
       "1            NaN       NaN         NaN         NaN       NaN         NaN   \n",
       "2       0.222182       0.0    2.600000         0.0       0.0  177.545455   \n",
       "3       0.806591       0.0    0.937013         0.0       0.0  177.545455   \n",
       "4       0.187403       0.0    8.047619         0.0       0.0  177.545455   \n",
       "\n",
       "         VC  CROWDED  CROWDHOURS  \n",
       "0  0.001443      0.0         0.0  \n",
       "1       NaN      NaN         NaN  \n",
       "2  0.259610      0.0         0.0  \n",
       "3  0.263650      0.0         0.0  \n",
       "4  0.264299      0.0         0.0  "
      ]
     },
     "execution_count": 72,
     "metadata": {},
     "output_type": "execute_result"
    }
   ],
   "source": [
    "pd.set_option('max_columns',500)\n",
    "df.head()"
   ]
  },
  {
   "cell_type": "code",
   "execution_count": 59,
   "metadata": {
    "collapsed": false
   },
   "outputs": [
    {
     "data": {
      "text/html": [
       "<div>\n",
       "<table border=\"1\" class=\"dataframe\">\n",
       "  <thead>\n",
       "    <tr style=\"text-align: right;\">\n",
       "      <th></th>\n",
       "      <th>Route</th>\n",
       "      <th>STOP</th>\n",
       "      <th>Boardings</th>\n",
       "      <th>Alightings</th>\n",
       "      <th>DIR</th>\n",
       "      <th>Unnamed: 5</th>\n",
       "      <th>MONTH</th>\n",
       "      <th>DOW</th>\n",
       "      <th>AGENCY_ID</th>\n",
       "      <th>STOP_ID</th>\n",
       "      <th>NUMDAYS</th>\n",
       "      <th>OBSDAYS</th>\n",
       "      <th>TRIP_STOPS</th>\n",
       "      <th>OBS_TRIP_STOPS</th>\n",
       "      <th>WGT_TRIP_STOPS</th>\n",
       "      <th>HEADWAY_S</th>\n",
       "      <th>FARE</th>\n",
       "      <th>STOPNAME</th>\n",
       "      <th>STOPNAME_AVL</th>\n",
       "      <th>STOP_LAT</th>\n",
       "      <th>STOP_LON</th>\n",
       "      <th>EOL</th>\n",
       "      <th>SOL</th>\n",
       "      <th>TIMEPOINT</th>\n",
       "      <th>ARRIVAL_TIME_DEV</th>\n",
       "      <th>DEPARTURE_TIME_DEV</th>\n",
       "      <th>DWELL_S</th>\n",
       "      <th>DWELL</th>\n",
       "      <th>RUNTIME_S</th>\n",
       "      <th>RUNTIME</th>\n",
       "      <th>TOTTIME_S</th>\n",
       "      <th>TOTTIME</th>\n",
       "      <th>SERVMILES_S</th>\n",
       "      <th>SERVMILES</th>\n",
       "      <th>RUNSPEED_S</th>\n",
       "      <th>RUNSPEED</th>\n",
       "      <th>TOTSPEED_S</th>\n",
       "      <th>TOTSPEED</th>\n",
       "      <th>ONTIME5</th>\n",
       "      <th>ON</th>\n",
       "      <th>OFF</th>\n",
       "      <th>LOAD_ARR</th>\n",
       "      <th>LOAD_DEP</th>\n",
       "      <th>PASSMILES</th>\n",
       "      <th>PASSHOURS</th>\n",
       "      <th>WAITHOURS</th>\n",
       "      <th>FULLFARE_REV</th>\n",
       "      <th>PASSDELAY_DEP</th>\n",
       "      <th>PASSDELAY_ARR</th>\n",
       "      <th>RDBRDNGS</th>\n",
       "      <th>DOORCYCLES</th>\n",
       "      <th>WHEELCHAIR</th>\n",
       "      <th>BIKERACK</th>\n",
       "      <th>CAPACITY</th>\n",
       "      <th>VC</th>\n",
       "      <th>CROWDED</th>\n",
       "      <th>CROWDHOURS</th>\n",
       "    </tr>\n",
       "  </thead>\n",
       "  <tbody>\n",
       "  </tbody>\n",
       "</table>\n",
       "</div>"
      ],
      "text/plain": [
       "Empty DataFrame\n",
       "Columns: [Route, STOP, Boardings, Alightings, DIR, Unnamed: 5, MONTH, DOW, AGENCY_ID, STOP_ID, NUMDAYS, OBSDAYS, TRIP_STOPS, OBS_TRIP_STOPS, WGT_TRIP_STOPS, HEADWAY_S, FARE, STOPNAME, STOPNAME_AVL, STOP_LAT, STOP_LON, EOL, SOL, TIMEPOINT, ARRIVAL_TIME_DEV, DEPARTURE_TIME_DEV, DWELL_S, DWELL, RUNTIME_S, RUNTIME, TOTTIME_S, TOTTIME, SERVMILES_S, SERVMILES, RUNSPEED_S, RUNSPEED, TOTSPEED_S, TOTSPEED, ONTIME5, ON, OFF, LOAD_ARR, LOAD_DEP, PASSMILES, PASSHOURS, WAITHOURS, FULLFARE_REV, PASSDELAY_DEP, PASSDELAY_ARR, RDBRDNGS, DOORCYCLES, WHEELCHAIR, BIKERACK, CAPACITY, VC, CROWDED, CROWDHOURS]\n",
       "Index: []"
      ]
     },
     "execution_count": 59,
     "metadata": {},
     "output_type": "execute_result"
    }
   ],
   "source": [
    "pd.merge(muni09,df,left_on= 'STOP',right_on = 'STOPNAME')"
   ]
  },
  {
   "cell_type": "code",
   "execution_count": 74,
   "metadata": {
    "collapsed": false
   },
   "outputs": [],
   "source": [
    "df2 = df[['ROUTE_SHORT_NAME','STOPNAME','STOP_ID','DIR']].groupby(by=['ROUTE_SHORT_NAME','DIR','STOPNAME'], as_index = False).first()\n",
    "df2 =df2.sort_values(by= 'STOPNAME')\n",
    "df2.to_csv('bus_sorted.csv')"
   ]
  },
  {
   "cell_type": "code",
   "execution_count": 31,
   "metadata": {
    "collapsed": true
   },
   "outputs": [],
   "source": [
    "muni09 = pd.read_csv('E:/Transit-Casa-Alex/Output/Processed MUNI Rail/2009_MUNI_Rail.csv')"
   ]
  },
  {
   "cell_type": "code",
   "execution_count": 62,
   "metadata": {
    "collapsed": false
   },
   "outputs": [],
   "source": [
    "muni16 = pd.read_csv('E:/Transit-Casa-Alex/Output/Processed MUNI Rail/2016_MUNI_Rail.csv')"
   ]
  },
  {
   "cell_type": "code",
   "execution_count": 35,
   "metadata": {
    "collapsed": true
   },
   "outputs": [],
   "source": [
    "import geopandas as gp\n",
    "%matplotlib inline\n",
    "stops = gp.read_file('E:/Transit-Casa-Alex/Input/Bus_Stops/2009/Bus_Stops_2009.shp')"
   ]
  },
  {
   "cell_type": "code",
   "execution_count": 4,
   "metadata": {
    "collapsed": false
   },
   "outputs": [
    {
     "data": {
      "text/html": [
       "<div>\n",
       "<table border=\"1\" class=\"dataframe\">\n",
       "  <thead>\n",
       "    <tr style=\"text-align: right;\">\n",
       "      <th></th>\n",
       "      <th>Boardings</th>\n",
       "      <th>Alightings</th>\n",
       "      <th>STOP ID</th>\n",
       "    </tr>\n",
       "  </thead>\n",
       "  <tbody>\n",
       "    <tr>\n",
       "      <th>0</th>\n",
       "      <td>132</td>\n",
       "      <td>58</td>\n",
       "      <td>3537.0</td>\n",
       "    </tr>\n",
       "    <tr>\n",
       "      <th>1</th>\n",
       "      <td>60</td>\n",
       "      <td>170</td>\n",
       "      <td>3538.0</td>\n",
       "    </tr>\n",
       "    <tr>\n",
       "      <th>2</th>\n",
       "      <td>726</td>\n",
       "      <td>810</td>\n",
       "      <td>7316.0</td>\n",
       "    </tr>\n",
       "    <tr>\n",
       "      <th>3</th>\n",
       "      <td>198</td>\n",
       "      <td>239</td>\n",
       "      <td>3985.0</td>\n",
       "    </tr>\n",
       "    <tr>\n",
       "      <th>4</th>\n",
       "      <td>286</td>\n",
       "      <td>340</td>\n",
       "      <td>3987.0</td>\n",
       "    </tr>\n",
       "  </tbody>\n",
       "</table>\n",
       "</div>"
      ],
      "text/plain": [
       "  Boardings Alightings  STOP ID\n",
       "0       132         58   3537.0\n",
       "1        60        170   3538.0\n",
       "2       726        810   7316.0\n",
       "3       198        239   3985.0\n",
       "4       286        340   3987.0"
      ]
     },
     "execution_count": 4,
     "metadata": {},
     "output_type": "execute_result"
    }
   ],
   "source": [
    "muni09.head()"
   ]
  },
  {
   "cell_type": "code",
   "execution_count": 21,
   "metadata": {
    "collapsed": false
   },
   "outputs": [
    {
     "data": {
      "text/html": [
       "<div>\n",
       "<table border=\"1\" class=\"dataframe\">\n",
       "  <thead>\n",
       "    <tr style=\"text-align: right;\">\n",
       "      <th></th>\n",
       "      <th>STOP_ID</th>\n",
       "      <th>Boardings</th>\n",
       "      <th>Alightings</th>\n",
       "    </tr>\n",
       "  </thead>\n",
       "  <tbody>\n",
       "    <tr>\n",
       "      <th>0</th>\n",
       "      <td>7778</td>\n",
       "      <td>4.4</td>\n",
       "      <td></td>\n",
       "    </tr>\n",
       "    <tr>\n",
       "      <th>1</th>\n",
       "      <td>6275</td>\n",
       "      <td>2.2</td>\n",
       "      <td></td>\n",
       "    </tr>\n",
       "    <tr>\n",
       "      <th>2</th>\n",
       "      <td>6288</td>\n",
       "      <td>2.2</td>\n",
       "      <td></td>\n",
       "    </tr>\n",
       "    <tr>\n",
       "      <th>3</th>\n",
       "      <td>6284</td>\n",
       "      <td>8.7</td>\n",
       "      <td></td>\n",
       "    </tr>\n",
       "    <tr>\n",
       "      <th>4</th>\n",
       "      <td>4787</td>\n",
       "      <td>2.2</td>\n",
       "      <td>4.4</td>\n",
       "    </tr>\n",
       "  </tbody>\n",
       "</table>\n",
       "</div>"
      ],
      "text/plain": [
       "   STOP_ID Boardings Alightings\n",
       "0     7778       4.4           \n",
       "1     6275       2.2           \n",
       "2     6288       2.2           \n",
       "3     6284       8.7           \n",
       "4     4787       2.2        4.4"
      ]
     },
     "execution_count": 21,
     "metadata": {},
     "output_type": "execute_result"
    }
   ],
   "source": [
    "muni16.head()"
   ]
  },
  {
   "cell_type": "code",
   "execution_count": 28,
   "metadata": {
    "collapsed": false
   },
   "outputs": [
    {
     "data": {
      "text/html": [
       "<div>\n",
       "<table border=\"1\" class=\"dataframe\">\n",
       "  <thead>\n",
       "    <tr style=\"text-align: right;\">\n",
       "      <th></th>\n",
       "      <th>STOP_ID</th>\n",
       "      <th>STOP_LAT</th>\n",
       "      <th>STOP_LON</th>\n",
       "      <th>geometry</th>\n",
       "    </tr>\n",
       "  </thead>\n",
       "  <tbody>\n",
       "    <tr>\n",
       "      <th>0</th>\n",
       "      <td>390</td>\n",
       "      <td>37.721190</td>\n",
       "      <td>-122.475096</td>\n",
       "      <td>POINT (-122.475096 37.72119)</td>\n",
       "    </tr>\n",
       "    <tr>\n",
       "      <th>1</th>\n",
       "      <td>392</td>\n",
       "      <td>37.765159</td>\n",
       "      <td>-122.477210</td>\n",
       "      <td>POINT (-122.47721 37.765159)</td>\n",
       "    </tr>\n",
       "    <tr>\n",
       "      <th>2</th>\n",
       "      <td>660</td>\n",
       "      <td>37.723914</td>\n",
       "      <td>-122.435387</td>\n",
       "      <td>POINT (-122.435387 37.723914)</td>\n",
       "    </tr>\n",
       "    <tr>\n",
       "      <th>3</th>\n",
       "      <td>913</td>\n",
       "      <td>37.719192</td>\n",
       "      <td>-122.425802</td>\n",
       "      <td>POINT (-122.425802 37.719192)</td>\n",
       "    </tr>\n",
       "    <tr>\n",
       "      <th>4</th>\n",
       "      <td>3001</td>\n",
       "      <td>37.788530</td>\n",
       "      <td>-122.396044</td>\n",
       "      <td>POINT (-122.396044 37.78853)</td>\n",
       "    </tr>\n",
       "  </tbody>\n",
       "</table>\n",
       "</div>"
      ],
      "text/plain": [
       "   STOP_ID   STOP_LAT    STOP_LON                       geometry\n",
       "0      390  37.721190 -122.475096   POINT (-122.475096 37.72119)\n",
       "1      392  37.765159 -122.477210   POINT (-122.47721 37.765159)\n",
       "2      660  37.723914 -122.435387  POINT (-122.435387 37.723914)\n",
       "3      913  37.719192 -122.425802  POINT (-122.425802 37.719192)\n",
       "4     3001  37.788530 -122.396044   POINT (-122.396044 37.78853)"
      ]
     },
     "execution_count": 28,
     "metadata": {},
     "output_type": "execute_result"
    }
   ],
   "source": [
    "stops.head()"
   ]
  },
  {
   "cell_type": "code",
   "execution_count": 33,
   "metadata": {
    "collapsed": false
   },
   "outputs": [],
   "source": [
    "muni = stops[['STOP_ID','geometry']].merge(muni09,on = 'STOP_ID')"
   ]
  },
  {
   "cell_type": "code",
   "execution_count": 36,
   "metadata": {
    "collapsed": false
   },
   "outputs": [
    {
     "data": {
      "text/plain": [
       "<matplotlib.axes._subplots.AxesSubplot at 0x1c9f87f26d8>"
      ]
     },
     "execution_count": 36,
     "metadata": {},
     "output_type": "execute_result"
    },
    {
     "data": {
      "image/png": "[encoded data removed]",
      "text/plain": [
       "<matplotlib.figure.Figure at 0x1c9f87e1c88>"
      ]
     },
     "metadata": {},
     "output_type": "display_data"
    }
   ],
   "source": [
    "muni.plot()"
   ]
  },
  {
   "cell_type": "code",
   "execution_count": 37,
   "metadata": {
    "collapsed": false
   },
   "outputs": [
    {
     "data": {
      "text/plain": [
       "126"
      ]
     },
     "execution_count": 37,
     "metadata": {},
     "output_type": "execute_result"
    }
   ],
   "source": [
    "len(muni)"
   ]
  },
  {
   "cell_type": "code",
   "execution_count": 38,
   "metadata": {
    "collapsed": false
   },
   "outputs": [
    {
     "data": {
      "text/plain": [
       "323"
      ]
     },
     "execution_count": 38,
     "metadata": {},
     "output_type": "execute_result"
    }
   ],
   "source": [
    "len(muni09)"
   ]
  },
  {
   "cell_type": "code",
   "execution_count": 39,
   "metadata": {
    "collapsed": false
   },
   "outputs": [
    {
     "data": {
      "text/plain": [
       "2127"
      ]
     },
     "execution_count": 39,
     "metadata": {},
     "output_type": "execute_result"
    }
   ],
   "source": [
    "len(muni16)"
   ]
  },
  {
   "cell_type": "code",
   "execution_count": 40,
   "metadata": {
    "collapsed": false,
    "scrolled": true
   },
   "outputs": [
    {
     "data": {
      "text/plain": [
       "323"
      ]
     },
     "execution_count": 40,
     "metadata": {},
     "output_type": "execute_result"
    }
   ],
   "source": [
    "len(muni09)"
   ]
  },
  {
   "cell_type": "code",
   "execution_count": 43,
   "metadata": {
    "collapsed": false
   },
   "outputs": [
    {
     "data": {
      "text/plain": [
       "240"
      ]
     },
     "execution_count": 43,
     "metadata": {},
     "output_type": "execute_result"
    }
   ],
   "source": [
    "len(muni16.STOP_ID.unique())"
   ]
  },
  {
   "cell_type": "code",
   "execution_count": 70,
   "metadata": {
    "collapsed": false
   },
   "outputs": [
    {
     "data": {
      "text/html": [
       "<div>\n",
       "<table border=\"1\" class=\"dataframe\">\n",
       "  <thead>\n",
       "    <tr style=\"text-align: right;\">\n",
       "      <th></th>\n",
       "      <th>STOP_ID</th>\n",
       "      <th>Boardings</th>\n",
       "      <th>Alightings</th>\n",
       "    </tr>\n",
       "  </thead>\n",
       "  <tbody>\n",
       "    <tr>\n",
       "      <th>0</th>\n",
       "      <td>7778</td>\n",
       "      <td>4.4</td>\n",
       "      <td></td>\n",
       "    </tr>\n",
       "    <tr>\n",
       "      <th>1</th>\n",
       "      <td>6275</td>\n",
       "      <td>2.2</td>\n",
       "      <td></td>\n",
       "    </tr>\n",
       "    <tr>\n",
       "      <th>2</th>\n",
       "      <td>6288</td>\n",
       "      <td>2.2</td>\n",
       "      <td></td>\n",
       "    </tr>\n",
       "    <tr>\n",
       "      <th>3</th>\n",
       "      <td>6284</td>\n",
       "      <td>8.7</td>\n",
       "      <td></td>\n",
       "    </tr>\n",
       "    <tr>\n",
       "      <th>4</th>\n",
       "      <td>4787</td>\n",
       "      <td>2.2</td>\n",
       "      <td>4.4</td>\n",
       "    </tr>\n",
       "    <tr>\n",
       "      <th>5</th>\n",
       "      <td>6277</td>\n",
       "      <td>2.2</td>\n",
       "      <td></td>\n",
       "    </tr>\n",
       "    <tr>\n",
       "      <th>6</th>\n",
       "      <td>3537</td>\n",
       "      <td>13.4</td>\n",
       "      <td></td>\n",
       "    </tr>\n",
       "    <tr>\n",
       "      <th>7</th>\n",
       "      <td>4000</td>\n",
       "      <td>4.4</td>\n",
       "      <td>2.2</td>\n",
       "    </tr>\n",
       "    <tr>\n",
       "      <th>8</th>\n",
       "      <td>3999</td>\n",
       "      <td>4.4</td>\n",
       "      <td></td>\n",
       "    </tr>\n",
       "    <tr>\n",
       "      <th>9</th>\n",
       "      <td>3998</td>\n",
       "      <td>10.9</td>\n",
       "      <td></td>\n",
       "    </tr>\n",
       "    <tr>\n",
       "      <th>10</th>\n",
       "      <td>4003</td>\n",
       "      <td>15.6</td>\n",
       "      <td></td>\n",
       "    </tr>\n",
       "    <tr>\n",
       "      <th>11</th>\n",
       "      <td>3996</td>\n",
       "      <td>13.7</td>\n",
       "      <td>10.9</td>\n",
       "    </tr>\n",
       "    <tr>\n",
       "      <th>12</th>\n",
       "      <td>3994</td>\n",
       "      <td>11.2</td>\n",
       "      <td></td>\n",
       "    </tr>\n",
       "    <tr>\n",
       "      <th>13</th>\n",
       "      <td>6217</td>\n",
       "      <td>4.4</td>\n",
       "      <td></td>\n",
       "    </tr>\n",
       "    <tr>\n",
       "      <th>14</th>\n",
       "      <td>6222</td>\n",
       "      <td>4.4</td>\n",
       "      <td></td>\n",
       "    </tr>\n",
       "    <tr>\n",
       "      <th>15</th>\n",
       "      <td>6215</td>\n",
       "      <td>6.5</td>\n",
       "      <td></td>\n",
       "    </tr>\n",
       "    <tr>\n",
       "      <th>16</th>\n",
       "      <td>6213</td>\n",
       "      <td>9.4</td>\n",
       "      <td>2.2</td>\n",
       "    </tr>\n",
       "    <tr>\n",
       "      <th>17</th>\n",
       "      <td>3985</td>\n",
       "      <td></td>\n",
       "      <td></td>\n",
       "    </tr>\n",
       "    <tr>\n",
       "      <th>18</th>\n",
       "      <td>7073</td>\n",
       "      <td>20.9</td>\n",
       "      <td>4.8</td>\n",
       "    </tr>\n",
       "    <tr>\n",
       "      <th>19</th>\n",
       "      <td>4006</td>\n",
       "      <td>22.1</td>\n",
       "      <td>13.6</td>\n",
       "    </tr>\n",
       "  </tbody>\n",
       "</table>\n",
       "</div>"
      ],
      "text/plain": [
       "    STOP_ID Boardings Alightings\n",
       "0      7778       4.4           \n",
       "1      6275       2.2           \n",
       "2      6288       2.2           \n",
       "3      6284       8.7           \n",
       "4      4787       2.2        4.4\n",
       "5      6277       2.2           \n",
       "6      3537      13.4           \n",
       "7      4000       4.4        2.2\n",
       "8      3999       4.4           \n",
       "9      3998      10.9           \n",
       "10     4003      15.6           \n",
       "11     3996      13.7       10.9\n",
       "12     3994      11.2           \n",
       "13     6217       4.4           \n",
       "14     6222       4.4           \n",
       "15     6215       6.5           \n",
       "16     6213       9.4        2.2\n",
       "17     3985                     \n",
       "18     7073      20.9        4.8\n",
       "19     4006      22.1       13.6"
      ]
     },
     "execution_count": 70,
     "metadata": {},
     "output_type": "execute_result"
    }
   ],
   "source": [
    "muni16.head(20)"
   ]
  },
  {
   "cell_type": "code",
   "execution_count": 71,
   "metadata": {
    "collapsed": false,
    "scrolled": true
   },
   "outputs": [
    {
     "name": "stderr",
     "output_type": "stream",
     "text": [
      "C:\\Anaconda\\lib\\site-packages\\ipykernel\\__main__.py:1: FutureWarning: convert_objects is deprecated.  Use the data-type specific converters pd.to_datetime, pd.to_timedelta and pd.to_numeric.\n",
      "  if __name__ == '__main__':\n"
     ]
    }
   ],
   "source": [
    "muni16 = muni16.convert_objects(convert_numeric = True)"
   ]
  },
  {
   "cell_type": "code",
   "execution_count": 72,
   "metadata": {
    "collapsed": false
   },
   "outputs": [
    {
     "name": "stdout",
     "output_type": "stream",
     "text": [
      "<class 'pandas.core.frame.DataFrame'>\n",
      "RangeIndex: 2127 entries, 0 to 2126\n",
      "Data columns (total 3 columns):\n",
      "STOP_ID       2127 non-null int64\n",
      "Boardings     1858 non-null float64\n",
      "Alightings    1862 non-null float64\n",
      "dtypes: float64(2), int64(1)\n",
      "memory usage: 49.9 KB\n"
     ]
    }
   ],
   "source": [
    "muni16.info()"
   ]
  },
  {
   "cell_type": "code",
   "execution_count": 74,
   "metadata": {
    "collapsed": false
   },
   "outputs": [],
   "source": [
    "muni16 = muni16.groupby(by = 'STOP_ID',as_index = False).sum()"
   ]
  },
  {
   "cell_type": "code",
   "execution_count": 75,
   "metadata": {
    "collapsed": false
   },
   "outputs": [
    {
     "data": {
      "text/html": [
       "<div>\n",
       "<table border=\"1\" class=\"dataframe\">\n",
       "  <thead>\n",
       "    <tr style=\"text-align: right;\">\n",
       "      <th></th>\n",
       "      <th>STOP_ID</th>\n",
       "      <th>Boardings</th>\n",
       "      <th>Alightings</th>\n",
       "    </tr>\n",
       "  </thead>\n",
       "  <tbody>\n",
       "    <tr>\n",
       "      <th>0</th>\n",
       "      <td>3212</td>\n",
       "      <td>1046.3</td>\n",
       "      <td>292.4</td>\n",
       "    </tr>\n",
       "    <tr>\n",
       "      <th>1</th>\n",
       "      <td>3266</td>\n",
       "      <td>119.6</td>\n",
       "      <td>313.8</td>\n",
       "    </tr>\n",
       "    <tr>\n",
       "      <th>2</th>\n",
       "      <td>3267</td>\n",
       "      <td>240.7</td>\n",
       "      <td>92.3</td>\n",
       "    </tr>\n",
       "    <tr>\n",
       "      <th>3</th>\n",
       "      <td>3268</td>\n",
       "      <td>16.5</td>\n",
       "      <td>233.4</td>\n",
       "    </tr>\n",
       "    <tr>\n",
       "      <th>4</th>\n",
       "      <td>3269</td>\n",
       "      <td>90.4</td>\n",
       "      <td>23.3</td>\n",
       "    </tr>\n",
       "  </tbody>\n",
       "</table>\n",
       "</div>"
      ],
      "text/plain": [
       "   STOP_ID  Boardings  Alightings\n",
       "0     3212     1046.3       292.4\n",
       "1     3266      119.6       313.8\n",
       "2     3267      240.7        92.3\n",
       "3     3268       16.5       233.4\n",
       "4     3269       90.4        23.3"
      ]
     },
     "execution_count": 75,
     "metadata": {},
     "output_type": "execute_result"
    }
   ],
   "source": [
    "muni16.head()"
   ]
  },
  {
   "cell_type": "code",
   "execution_count": 77,
   "metadata": {
    "collapsed": false
   },
   "outputs": [],
   "source": [
    "muni = stops[['STOP_ID','geometry']].merge(muni16,on = 'STOP_ID')"
   ]
  },
  {
   "cell_type": "code",
   "execution_count": 78,
   "metadata": {
    "collapsed": false
   },
   "outputs": [
    {
     "data": {
      "text/plain": [
       "<matplotlib.axes._subplots.AxesSubplot at 0x1c9f8b3f978>"
      ]
     },
     "execution_count": 78,
     "metadata": {},
     "output_type": "execute_result"
    },
    {
     "data": {
      "image/png": "[encoded data removed]",
      "text/plain": [
       "<matplotlib.figure.Figure at 0x1c9f8b43c18>"
      ]
     },
     "metadata": {},
     "output_type": "display_data"
    }
   ],
   "source": [
    "muni.plot()"
   ]
  },
  {
   "cell_type": "code",
   "execution_count": 79,
   "metadata": {
    "collapsed": false
   },
   "outputs": [
    {
     "data": {
      "text/plain": [
       "117"
      ]
     },
     "execution_count": 79,
     "metadata": {},
     "output_type": "execute_result"
    }
   ],
   "source": [
    "len(muni)"
   ]
  },
  {
   "cell_type": "code",
   "execution_count": 80,
   "metadata": {
    "collapsed": false
   },
   "outputs": [
    {
     "data": {
      "text/plain": [
       "240"
      ]
     },
     "execution_count": 80,
     "metadata": {},
     "output_type": "execute_result"
    }
   ],
   "source": [
    "len(muni16)"
   ]
  },
  {
   "cell_type": "code",
   "execution_count": 4,
   "metadata": {
    "collapsed": true
   },
   "outputs": [],
   "source": [
    "store = pd.HDFStore('E:\\Transit_Casa\\Output/gtfs1.h5')"
   ]
  },
  {
   "cell_type": "code",
   "execution_count": 5,
   "metadata": {
    "collapsed": false
   },
   "outputs": [
    {
     "data": {
      "text/plain": [
       "<bound method HDFStore.items of <class 'pandas.io.pytables.HDFStore'>\n",
       "File path: E:\\Transit_Casa\\Output/gtfs1.h5\n",
       "/sfmuni            frame_table  (typ->appendable_multi,nrows->1839616,ncols->38,indexers->[index],dc->[AGENCY_ID,ARRIVAL_TIME_S,BLOCK_ID,DATE,DEPARTURE_TIME_S,DIR,DOW,DWELL_S,EOL,FARE,HEADWAY_S,MONTH,OBSERVED,ROUTE_ID,ROUTE_LONG_NAME,ROUTE_SHORT_NAME,ROUTE_TYPE,RUNSPEED_S,RUNTIME_S,SCHED_DATES,SEQ,SERVMILES_S,SHAPE_DIST,SHAPE_ID,SOL,STOPNAME,STOP_ID,STOP_LAT,STOP_LON,TOD,TOTSPEED_S,TOTTIME_S,TRIP,TRIP_HEADSIGN,TRIP_ID,TRIP_STOPS])>"
      ]
     },
     "execution_count": 5,
     "metadata": {},
     "output_type": "execute_result"
    }
   ],
   "source": [
    "store.items"
   ]
  },
  {
   "cell_type": "code",
   "execution_count": 29,
   "metadata": {
    "collapsed": true
   },
   "outputs": [],
   "source": [
    "store = pd.HDFStore('E:\\Transit_Casa\\Output/gtfs1.h5')"
   ]
  },
  {
   "cell_type": "code",
   "execution_count": 30,
   "metadata": {
    "collapsed": false
   },
   "outputs": [
    {
     "data": {
      "text/plain": [
       "<bound method HDFStore.items of <class 'pandas.io.pytables.HDFStore'>\n",
       "File path: E:\\Transit_Casa\\Output/gtfs1.h5\n",
       "/sfmuni            frame_table  (typ->appendable_multi,nrows->1839616,ncols->38,indexers->[index],dc->[AGENCY_ID,ARRIVAL_TIME_S,BLOCK_ID,DATE,DEPARTURE_TIME_S,DIR,DOW,DWELL_S,EOL,FARE,HEADWAY_S,MONTH,OBSERVED,ROUTE_ID,ROUTE_LONG_NAME,ROUTE_SHORT_NAME,ROUTE_TYPE,RUNSPEED_S,RUNTIME_S,SCHED_DATES,SEQ,SERVMILES_S,SHAPE_DIST,SHAPE_ID,SOL,STOPNAME,STOP_ID,STOP_LAT,STOP_LON,TOD,TOTSPEED_S,TOTTIME_S,TRIP,TRIP_HEADSIGN,TRIP_ID,TRIP_STOPS])>"
      ]
     },
     "execution_count": 30,
     "metadata": {},
     "output_type": "execute_result"
    }
   ],
   "source": [
    "store.items"
   ]
  },
  {
   "cell_type": "code",
   "execution_count": 31,
   "metadata": {
    "collapsed": false
   },
   "outputs": [],
   "source": [
    "df = store.get('sfmuni')"
   ]
  },
  {
   "cell_type": "code",
   "execution_count": 32,
   "metadata": {
    "collapsed": false
   },
   "outputs": [
    {
     "data": {
      "text/plain": [
       "array([3, 5, 0, 1], dtype=int64)"
      ]
     },
     "execution_count": 32,
     "metadata": {},
     "output_type": "execute_result"
    }
   ],
   "source": [
    "df.ROUTE_TYPE.unique()"
   ]
  },
  {
   "cell_type": "code",
   "execution_count": 36,
   "metadata": {
    "collapsed": false
   },
   "outputs": [],
   "source": [
    "rail_stops = df[df['ROUTE_TYPE'] == 0]"
   ]
  },
  {
   "cell_type": "code",
   "execution_count": 37,
   "metadata": {
    "collapsed": false
   },
   "outputs": [
    {
     "data": {
      "text/plain": [
       "array(['F', 'J', 'L', 'M', 'N', 'S', 'T', 'K'], dtype=object)"
      ]
     },
     "execution_count": 37,
     "metadata": {},
     "output_type": "execute_result"
    }
   ],
   "source": [
    "rail_stops.ROUTE_SHORT_NAME.unique()"
   ]
  },
  {
   "cell_type": "code",
   "execution_count": 38,
   "metadata": {
    "collapsed": false
   },
   "outputs": [
    {
     "data": {
      "text/html": [
       "<div>\n",
       "<table border=\"1\" class=\"dataframe\">\n",
       "  <thead>\n",
       "    <tr style=\"text-align: right;\">\n",
       "      <th></th>\n",
       "      <th></th>\n",
       "      <th>AGENCY_ID</th>\n",
       "      <th>ARRIVAL_TIME_S</th>\n",
       "      <th>BLOCK_ID</th>\n",
       "      <th>DATE</th>\n",
       "      <th>DEPARTURE_TIME_S</th>\n",
       "      <th>DIR</th>\n",
       "      <th>DOW</th>\n",
       "      <th>DWELL_S</th>\n",
       "      <th>EOL</th>\n",
       "      <th>FARE</th>\n",
       "      <th>HEADWAY_S</th>\n",
       "      <th>MONTH</th>\n",
       "      <th>OBSERVED</th>\n",
       "      <th>ROUTE_ID</th>\n",
       "      <th>ROUTE_LONG_NAME</th>\n",
       "      <th>ROUTE_SHORT_NAME</th>\n",
       "      <th>ROUTE_TYPE</th>\n",
       "      <th>RUNSPEED_S</th>\n",
       "      <th>RUNTIME_S</th>\n",
       "      <th>SCHED_DATES</th>\n",
       "      <th>SEQ</th>\n",
       "      <th>SERVMILES_S</th>\n",
       "      <th>SHAPE_DIST</th>\n",
       "      <th>SHAPE_ID</th>\n",
       "      <th>SOL</th>\n",
       "      <th>STOPNAME</th>\n",
       "      <th>STOP_ID</th>\n",
       "      <th>STOP_LAT</th>\n",
       "      <th>STOP_LON</th>\n",
       "      <th>TOD</th>\n",
       "      <th>TOTSPEED_S</th>\n",
       "      <th>TOTTIME_S</th>\n",
       "      <th>TRIP</th>\n",
       "      <th>TRIP_HEADSIGN</th>\n",
       "      <th>TRIP_ID</th>\n",
       "      <th>TRIP_STOPS</th>\n",
       "    </tr>\n",
       "  </thead>\n",
       "  <tbody>\n",
       "    <tr>\n",
       "      <th>5894</th>\n",
       "      <th>197237</th>\n",
       "      <td>SFMTA</td>\n",
       "      <td>2009-02-21 10:08:00</td>\n",
       "      <td>214388</td>\n",
       "      <td>2009-02-21</td>\n",
       "      <td>2009-02-21 10:08:00</td>\n",
       "      <td>0</td>\n",
       "      <td>1</td>\n",
       "      <td>0.0</td>\n",
       "      <td>0</td>\n",
       "      <td>1.5</td>\n",
       "      <td>11.0</td>\n",
       "      <td>2009-02-21</td>\n",
       "      <td>0</td>\n",
       "      <td>3725</td>\n",
       "      <td>MARKET &amp; WHARVES</td>\n",
       "      <td>F</td>\n",
       "      <td>0</td>\n",
       "      <td>0.00</td>\n",
       "      <td>0.0</td>\n",
       "      <td>20090221-20090612</td>\n",
       "      <td>1</td>\n",
       "      <td>0.000</td>\n",
       "      <td>0.000000</td>\n",
       "      <td>34772</td>\n",
       "      <td>1</td>\n",
       "      <td>Jones St &amp; Beach St</td>\n",
       "      <td>5184</td>\n",
       "      <td>37.807248</td>\n",
       "      <td>-122.417366</td>\n",
       "      <td>0900-1359</td>\n",
       "      <td>0.00</td>\n",
       "      <td>0.0</td>\n",
       "      <td>1008_1</td>\n",
       "      <td>Castro</td>\n",
       "      <td>2948224</td>\n",
       "      <td>1</td>\n",
       "    </tr>\n",
       "    <tr>\n",
       "      <th>5895</th>\n",
       "      <th>197238</th>\n",
       "      <td>SFMTA</td>\n",
       "      <td>2009-02-21 10:11:00</td>\n",
       "      <td>214388</td>\n",
       "      <td>2009-02-21</td>\n",
       "      <td>2009-02-21 10:11:00</td>\n",
       "      <td>0</td>\n",
       "      <td>1</td>\n",
       "      <td>0.0</td>\n",
       "      <td>0</td>\n",
       "      <td>1.5</td>\n",
       "      <td>11.0</td>\n",
       "      <td>2009-02-21</td>\n",
       "      <td>0</td>\n",
       "      <td>3725</td>\n",
       "      <td>MARKET &amp; WHARVES</td>\n",
       "      <td>F</td>\n",
       "      <td>0</td>\n",
       "      <td>3.70</td>\n",
       "      <td>3.0</td>\n",
       "      <td>20090221-20090612</td>\n",
       "      <td>2</td>\n",
       "      <td>0.185</td>\n",
       "      <td>975.916380</td>\n",
       "      <td>34772</td>\n",
       "      <td>0</td>\n",
       "      <td>Beach St &amp; Mason St</td>\n",
       "      <td>3092</td>\n",
       "      <td>37.807407</td>\n",
       "      <td>-122.414125</td>\n",
       "      <td>0900-1359</td>\n",
       "      <td>3.70</td>\n",
       "      <td>3.0</td>\n",
       "      <td>1008_1</td>\n",
       "      <td>Castro</td>\n",
       "      <td>2948224</td>\n",
       "      <td>1</td>\n",
       "    </tr>\n",
       "    <tr>\n",
       "      <th>5896</th>\n",
       "      <th>197239</th>\n",
       "      <td>SFMTA</td>\n",
       "      <td>2009-02-21 10:14:00</td>\n",
       "      <td>214388</td>\n",
       "      <td>2009-02-21</td>\n",
       "      <td>2009-02-21 10:14:00</td>\n",
       "      <td>0</td>\n",
       "      <td>1</td>\n",
       "      <td>0.0</td>\n",
       "      <td>0</td>\n",
       "      <td>1.5</td>\n",
       "      <td>11.0</td>\n",
       "      <td>2009-02-21</td>\n",
       "      <td>0</td>\n",
       "      <td>3725</td>\n",
       "      <td>MARKET &amp; WHARVES</td>\n",
       "      <td>F</td>\n",
       "      <td>0</td>\n",
       "      <td>3.68</td>\n",
       "      <td>3.0</td>\n",
       "      <td>20090221-20090612</td>\n",
       "      <td>3</td>\n",
       "      <td>0.184</td>\n",
       "      <td>1946.538112</td>\n",
       "      <td>34772</td>\n",
       "      <td>0</td>\n",
       "      <td>Beach St &amp; Stockton St</td>\n",
       "      <td>3095</td>\n",
       "      <td>37.807841</td>\n",
       "      <td>-122.410810</td>\n",
       "      <td>0900-1359</td>\n",
       "      <td>3.68</td>\n",
       "      <td>3.0</td>\n",
       "      <td>1008_1</td>\n",
       "      <td>Castro</td>\n",
       "      <td>2948224</td>\n",
       "      <td>1</td>\n",
       "    </tr>\n",
       "    <tr>\n",
       "      <th>5897</th>\n",
       "      <th>197240</th>\n",
       "      <td>SFMTA</td>\n",
       "      <td>2009-02-21 10:15:00</td>\n",
       "      <td>214388</td>\n",
       "      <td>2009-02-21</td>\n",
       "      <td>2009-02-21 10:15:00</td>\n",
       "      <td>0</td>\n",
       "      <td>1</td>\n",
       "      <td>0.0</td>\n",
       "      <td>0</td>\n",
       "      <td>1.5</td>\n",
       "      <td>11.0</td>\n",
       "      <td>2009-02-21</td>\n",
       "      <td>0</td>\n",
       "      <td>3725</td>\n",
       "      <td>MARKET &amp; WHARVES</td>\n",
       "      <td>F</td>\n",
       "      <td>0</td>\n",
       "      <td>17.52</td>\n",
       "      <td>1.0</td>\n",
       "      <td>20090221-20090612</td>\n",
       "      <td>4</td>\n",
       "      <td>0.292</td>\n",
       "      <td>3487.305385</td>\n",
       "      <td>34772</td>\n",
       "      <td>0</td>\n",
       "      <td>The Embarcadero &amp; Bay St</td>\n",
       "      <td>4502</td>\n",
       "      <td>37.806629</td>\n",
       "      <td>-122.406030</td>\n",
       "      <td>0900-1359</td>\n",
       "      <td>17.52</td>\n",
       "      <td>1.0</td>\n",
       "      <td>1008_1</td>\n",
       "      <td>Castro</td>\n",
       "      <td>2948224</td>\n",
       "      <td>1</td>\n",
       "    </tr>\n",
       "    <tr>\n",
       "      <th>5898</th>\n",
       "      <th>197241</th>\n",
       "      <td>SFMTA</td>\n",
       "      <td>2009-02-21 10:16:00</td>\n",
       "      <td>214388</td>\n",
       "      <td>2009-02-21</td>\n",
       "      <td>2009-02-21 10:16:00</td>\n",
       "      <td>0</td>\n",
       "      <td>1</td>\n",
       "      <td>0.0</td>\n",
       "      <td>0</td>\n",
       "      <td>1.5</td>\n",
       "      <td>11.0</td>\n",
       "      <td>2009-02-21</td>\n",
       "      <td>0</td>\n",
       "      <td>3725</td>\n",
       "      <td>MARKET &amp; WHARVES</td>\n",
       "      <td>F</td>\n",
       "      <td>0</td>\n",
       "      <td>11.28</td>\n",
       "      <td>1.0</td>\n",
       "      <td>20090221-20090612</td>\n",
       "      <td>5</td>\n",
       "      <td>0.188</td>\n",
       "      <td>4477.449639</td>\n",
       "      <td>34772</td>\n",
       "      <td>0</td>\n",
       "      <td>The Embarcadero &amp; Sansome St</td>\n",
       "      <td>4529</td>\n",
       "      <td>37.805022</td>\n",
       "      <td>-122.403314</td>\n",
       "      <td>0900-1359</td>\n",
       "      <td>11.28</td>\n",
       "      <td>1.0</td>\n",
       "      <td>1008_1</td>\n",
       "      <td>Castro</td>\n",
       "      <td>2948224</td>\n",
       "      <td>1</td>\n",
       "    </tr>\n",
       "  </tbody>\n",
       "</table>\n",
       "</div>"
      ],
      "text/plain": [
       "            AGENCY_ID      ARRIVAL_TIME_S  BLOCK_ID       DATE  \\\n",
       "5894 197237     SFMTA 2009-02-21 10:08:00    214388 2009-02-21   \n",
       "5895 197238     SFMTA 2009-02-21 10:11:00    214388 2009-02-21   \n",
       "5896 197239     SFMTA 2009-02-21 10:14:00    214388 2009-02-21   \n",
       "5897 197240     SFMTA 2009-02-21 10:15:00    214388 2009-02-21   \n",
       "5898 197241     SFMTA 2009-02-21 10:16:00    214388 2009-02-21   \n",
       "\n",
       "               DEPARTURE_TIME_S  DIR  DOW  DWELL_S  EOL  FARE  HEADWAY_S  \\\n",
       "5894 197237 2009-02-21 10:08:00    0    1      0.0    0   1.5       11.0   \n",
       "5895 197238 2009-02-21 10:11:00    0    1      0.0    0   1.5       11.0   \n",
       "5896 197239 2009-02-21 10:14:00    0    1      0.0    0   1.5       11.0   \n",
       "5897 197240 2009-02-21 10:15:00    0    1      0.0    0   1.5       11.0   \n",
       "5898 197241 2009-02-21 10:16:00    0    1      0.0    0   1.5       11.0   \n",
       "\n",
       "                 MONTH  OBSERVED  ROUTE_ID   ROUTE_LONG_NAME ROUTE_SHORT_NAME  \\\n",
       "5894 197237 2009-02-21         0      3725  MARKET & WHARVES                F   \n",
       "5895 197238 2009-02-21         0      3725  MARKET & WHARVES                F   \n",
       "5896 197239 2009-02-21         0      3725  MARKET & WHARVES                F   \n",
       "5897 197240 2009-02-21         0      3725  MARKET & WHARVES                F   \n",
       "5898 197241 2009-02-21         0      3725  MARKET & WHARVES                F   \n",
       "\n",
       "             ROUTE_TYPE  RUNSPEED_S  RUNTIME_S        SCHED_DATES  SEQ  \\\n",
       "5894 197237           0        0.00        0.0  20090221-20090612    1   \n",
       "5895 197238           0        3.70        3.0  20090221-20090612    2   \n",
       "5896 197239           0        3.68        3.0  20090221-20090612    3   \n",
       "5897 197240           0       17.52        1.0  20090221-20090612    4   \n",
       "5898 197241           0       11.28        1.0  20090221-20090612    5   \n",
       "\n",
       "             SERVMILES_S   SHAPE_DIST  SHAPE_ID  SOL  \\\n",
       "5894 197237        0.000     0.000000     34772    1   \n",
       "5895 197238        0.185   975.916380     34772    0   \n",
       "5896 197239        0.184  1946.538112     34772    0   \n",
       "5897 197240        0.292  3487.305385     34772    0   \n",
       "5898 197241        0.188  4477.449639     34772    0   \n",
       "\n",
       "                                   STOPNAME  STOP_ID   STOP_LAT    STOP_LON  \\\n",
       "5894 197237           Jones St & Beach St       5184  37.807248 -122.417366   \n",
       "5895 197238           Beach St & Mason St       3092  37.807407 -122.414125   \n",
       "5896 197239        Beach St & Stockton St       3095  37.807841 -122.410810   \n",
       "5897 197240      The Embarcadero & Bay St       4502  37.806629 -122.406030   \n",
       "5898 197241  The Embarcadero & Sansome St       4529  37.805022 -122.403314   \n",
       "\n",
       "                   TOD  TOTSPEED_S  TOTTIME_S    TRIP TRIP_HEADSIGN  TRIP_ID  \\\n",
       "5894 197237  0900-1359        0.00        0.0  1008_1        Castro  2948224   \n",
       "5895 197238  0900-1359        3.70        3.0  1008_1        Castro  2948224   \n",
       "5896 197239  0900-1359        3.68        3.0  1008_1        Castro  2948224   \n",
       "5897 197240  0900-1359       17.52        1.0  1008_1        Castro  2948224   \n",
       "5898 197241  0900-1359       11.28        1.0  1008_1        Castro  2948224   \n",
       "\n",
       "             TRIP_STOPS  \n",
       "5894 197237           1  \n",
       "5895 197238           1  \n",
       "5896 197239           1  \n",
       "5897 197240           1  \n",
       "5898 197241           1  "
      ]
     },
     "execution_count": 38,
     "metadata": {},
     "output_type": "execute_result"
    }
   ],
   "source": [
    "rail_stops.head()"
   ]
  },
  {
   "cell_type": "code",
   "execution_count": 43,
   "metadata": {
    "collapsed": false
   },
   "outputs": [],
   "source": [
    "stops = rail_stops[['STOP_ID','STOP_LAT','STOP_LON','MONTH']]"
   ]
  },
  {
   "cell_type": "code",
   "execution_count": 44,
   "metadata": {
    "collapsed": false
   },
   "outputs": [
    {
     "data": {
      "text/html": [
       "<div>\n",
       "<table border=\"1\" class=\"dataframe\">\n",
       "  <thead>\n",
       "    <tr style=\"text-align: right;\">\n",
       "      <th></th>\n",
       "      <th></th>\n",
       "      <th>STOP_ID</th>\n",
       "      <th>STOP_LAT</th>\n",
       "      <th>STOP_LON</th>\n",
       "      <th>MONTH</th>\n",
       "    </tr>\n",
       "  </thead>\n",
       "  <tbody>\n",
       "    <tr>\n",
       "      <th>5894</th>\n",
       "      <th>197237</th>\n",
       "      <td>5184</td>\n",
       "      <td>37.807248</td>\n",
       "      <td>-122.417366</td>\n",
       "      <td>2009-02-21</td>\n",
       "    </tr>\n",
       "    <tr>\n",
       "      <th>5895</th>\n",
       "      <th>197238</th>\n",
       "      <td>3092</td>\n",
       "      <td>37.807407</td>\n",
       "      <td>-122.414125</td>\n",
       "      <td>2009-02-21</td>\n",
       "    </tr>\n",
       "    <tr>\n",
       "      <th>5896</th>\n",
       "      <th>197239</th>\n",
       "      <td>3095</td>\n",
       "      <td>37.807841</td>\n",
       "      <td>-122.410810</td>\n",
       "      <td>2009-02-21</td>\n",
       "    </tr>\n",
       "    <tr>\n",
       "      <th>5897</th>\n",
       "      <th>197240</th>\n",
       "      <td>4502</td>\n",
       "      <td>37.806629</td>\n",
       "      <td>-122.406030</td>\n",
       "      <td>2009-02-21</td>\n",
       "    </tr>\n",
       "    <tr>\n",
       "      <th>5898</th>\n",
       "      <th>197241</th>\n",
       "      <td>4529</td>\n",
       "      <td>37.805022</td>\n",
       "      <td>-122.403314</td>\n",
       "      <td>2009-02-21</td>\n",
       "    </tr>\n",
       "  </tbody>\n",
       "</table>\n",
       "</div>"
      ],
      "text/plain": [
       "             STOP_ID   STOP_LAT    STOP_LON      MONTH\n",
       "5894 197237     5184  37.807248 -122.417366 2009-02-21\n",
       "5895 197238     3092  37.807407 -122.414125 2009-02-21\n",
       "5896 197239     3095  37.807841 -122.410810 2009-02-21\n",
       "5897 197240     4502  37.806629 -122.406030 2009-02-21\n",
       "5898 197241     4529  37.805022 -122.403314 2009-02-21"
      ]
     },
     "execution_count": 44,
     "metadata": {},
     "output_type": "execute_result"
    }
   ],
   "source": [
    "stops.head()"
   ]
  },
  {
   "cell_type": "code",
   "execution_count": 49,
   "metadata": {
    "collapsed": false
   },
   "outputs": [],
   "source": [
    "stops09 = stops[stops['MONTH'].isin(pd.date_range(start = '2009-01-01',end = '2009-12-31'))]"
   ]
  },
  {
   "cell_type": "code",
   "execution_count": 51,
   "metadata": {
    "collapsed": false
   },
   "outputs": [
    {
     "data": {
      "text/html": [
       "<div>\n",
       "<table border=\"1\" class=\"dataframe\">\n",
       "  <thead>\n",
       "    <tr style=\"text-align: right;\">\n",
       "      <th></th>\n",
       "      <th></th>\n",
       "      <th>STOP_ID</th>\n",
       "      <th>STOP_LAT</th>\n",
       "      <th>STOP_LON</th>\n",
       "      <th>MONTH</th>\n",
       "    </tr>\n",
       "  </thead>\n",
       "  <tbody>\n",
       "    <tr>\n",
       "      <th>5894</th>\n",
       "      <th>197237</th>\n",
       "      <td>5184</td>\n",
       "      <td>37.807248</td>\n",
       "      <td>-122.417366</td>\n",
       "      <td>2009-02-21</td>\n",
       "    </tr>\n",
       "    <tr>\n",
       "      <th>5895</th>\n",
       "      <th>197238</th>\n",
       "      <td>3092</td>\n",
       "      <td>37.807407</td>\n",
       "      <td>-122.414125</td>\n",
       "      <td>2009-02-21</td>\n",
       "    </tr>\n",
       "    <tr>\n",
       "      <th>5896</th>\n",
       "      <th>197239</th>\n",
       "      <td>3095</td>\n",
       "      <td>37.807841</td>\n",
       "      <td>-122.410810</td>\n",
       "      <td>2009-02-21</td>\n",
       "    </tr>\n",
       "    <tr>\n",
       "      <th>5897</th>\n",
       "      <th>197240</th>\n",
       "      <td>4502</td>\n",
       "      <td>37.806629</td>\n",
       "      <td>-122.406030</td>\n",
       "      <td>2009-02-21</td>\n",
       "    </tr>\n",
       "    <tr>\n",
       "      <th>5898</th>\n",
       "      <th>197241</th>\n",
       "      <td>4529</td>\n",
       "      <td>37.805022</td>\n",
       "      <td>-122.403314</td>\n",
       "      <td>2009-02-21</td>\n",
       "    </tr>\n",
       "  </tbody>\n",
       "</table>\n",
       "</div>"
      ],
      "text/plain": [
       "             STOP_ID   STOP_LAT    STOP_LON      MONTH\n",
       "5894 197237     5184  37.807248 -122.417366 2009-02-21\n",
       "5895 197238     3092  37.807407 -122.414125 2009-02-21\n",
       "5896 197239     3095  37.807841 -122.410810 2009-02-21\n",
       "5897 197240     4502  37.806629 -122.406030 2009-02-21\n",
       "5898 197241     4529  37.805022 -122.403314 2009-02-21"
      ]
     },
     "execution_count": 51,
     "metadata": {},
     "output_type": "execute_result"
    }
   ],
   "source": [
    "stops09.head()"
   ]
  },
  {
   "cell_type": "code",
   "execution_count": 54,
   "metadata": {
    "collapsed": false
   },
   "outputs": [],
   "source": [
    "stops09 = stops09[['STOP_ID','STOP_LAT','STOP_LON']].groupby(by = 'STOP_ID').mean()"
   ]
  },
  {
   "cell_type": "code",
   "execution_count": 55,
   "metadata": {
    "collapsed": false
   },
   "outputs": [
    {
     "data": {
      "text/plain": [
       "309"
      ]
     },
     "execution_count": 55,
     "metadata": {},
     "output_type": "execute_result"
    }
   ],
   "source": [
    "len(stops09)"
   ]
  },
  {
   "cell_type": "code",
   "execution_count": 56,
   "metadata": {
    "collapsed": true
   },
   "outputs": [],
   "source": [
    "stops16 = stops[stops['MONTH'].isin(pd.date_range(start = '2016-01-01',end = '2016-12-31'))]"
   ]
  },
  {
   "cell_type": "code",
   "execution_count": null,
   "metadata": {
    "collapsed": true
   },
   "outputs": [],
   "source": []
  },
  {
   "cell_type": "code",
   "execution_count": 57,
   "metadata": {
    "collapsed": true
   },
   "outputs": [],
   "source": [
    "stops16 = stops16[['STOP_ID','STOP_LAT','STOP_LON']].groupby(by = 'STOP_ID').mean()"
   ]
  },
  {
   "cell_type": "code",
   "execution_count": 58,
   "metadata": {
    "collapsed": false
   },
   "outputs": [
    {
     "data": {
      "text/plain": [
       "0"
      ]
     },
     "execution_count": 58,
     "metadata": {},
     "output_type": "execute_result"
    }
   ],
   "source": [
    "len(stops16)"
   ]
  },
  {
   "cell_type": "code",
   "execution_count": null,
   "metadata": {
    "collapsed": true
   },
   "outputs": [],
   "source": []
  }
 ],
 "metadata": {
  "anaconda-cloud": {},
  "kernelspec": {
   "display_name": "Python [conda root]",
   "language": "python",
   "name": "conda-root-py"
  },
  "language_info": {
   "codemirror_mode": {
    "name": "ipython",
    "version": 3
   },
   "file_extension": ".py",
   "mimetype": "text/x-python",
   "name": "python",
   "nbconvert_exporter": "python",
   "pygments_lexer": "ipython3",
   "version": "3.5.2"
  }
 },
 "nbformat": 4,
 "nbformat_minor": 1
}
