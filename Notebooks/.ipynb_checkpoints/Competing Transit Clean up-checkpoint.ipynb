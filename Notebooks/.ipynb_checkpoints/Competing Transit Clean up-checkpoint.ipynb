{
 "cells": [
  {
   "cell_type": "code",
   "execution_count": 99,
   "metadata": {
    "collapsed": false
   },
   "outputs": [],
   "source": [
    "import pandas as pd\n",
    "import geopandas as gp\n",
    "import numpy as np\n",
    "pd.set_option('display.max_columns',500)"
   ]
  },
  {
   "cell_type": "code",
   "execution_count": 106,
   "metadata": {
    "collapsed": false
   },
   "outputs": [],
   "source": [
    "trans = gp.read_file('E:/Transit-Casa-Alex/Output/Buffers/Tenth/Competing Treansit Buffers/Competing_Transit_Buffers.shp',driver = 'ESRI Shapefile',crs = 'crs')"
   ]
  },
  {
   "cell_type": "code",
   "execution_count": 107,
   "metadata": {
    "collapsed": false
   },
   "outputs": [
    {
     "name": "stdout",
     "output_type": "stream",
     "text": [
      "<class 'geopandas.geodataframe.GeoDataFrame'>\n",
      "RangeIndex: 3744 entries, 0 to 3743\n",
      "Data columns (total 6 columns):\n",
      "FROMS_BART    3744 non-null int64\n",
      "OFF_CALTRA    3744 non-null int64\n",
      "ON_CALTRAI    3744 non-null int64\n",
      "STOP_ID       3744 non-null int64\n",
      "TOS_BART      3744 non-null int64\n",
      "geometry      3744 non-null object\n",
      "dtypes: int64(5), object(1)\n",
      "memory usage: 175.6+ KB\n"
     ]
    }
   ],
   "source": [
    "trans.info()"
   ]
  },
  {
   "cell_type": "code",
   "execution_count": 108,
   "metadata": {
    "collapsed": false
   },
   "outputs": [
    {
     "data": {
      "text/html": [
       "<div>\n",
       "<table border=\"1\" class=\"dataframe\">\n",
       "  <thead>\n",
       "    <tr style=\"text-align: right;\">\n",
       "      <th></th>\n",
       "      <th>FROMS_BART</th>\n",
       "      <th>OFF_CALTRA</th>\n",
       "      <th>ON_CALTRAI</th>\n",
       "      <th>STOP_ID</th>\n",
       "      <th>TOS_BART</th>\n",
       "      <th>geometry</th>\n",
       "    </tr>\n",
       "  </thead>\n",
       "  <tbody>\n",
       "    <tr>\n",
       "      <th>0</th>\n",
       "      <td>0</td>\n",
       "      <td>0</td>\n",
       "      <td>0</td>\n",
       "      <td>390</td>\n",
       "      <td>0</td>\n",
       "      <td>POLYGON ((-122.4762044957765 37.72256659330341...</td>\n",
       "    </tr>\n",
       "    <tr>\n",
       "      <th>1</th>\n",
       "      <td>0</td>\n",
       "      <td>0</td>\n",
       "      <td>0</td>\n",
       "      <td>392</td>\n",
       "      <td>0</td>\n",
       "      <td>POLYGON ((-122.478318121487 37.76653392304563,...</td>\n",
       "    </tr>\n",
       "    <tr>\n",
       "      <th>2</th>\n",
       "      <td>0</td>\n",
       "      <td>0</td>\n",
       "      <td>0</td>\n",
       "      <td>660</td>\n",
       "      <td>0</td>\n",
       "      <td>POLYGON ((-122.4364941099191 37.72529018218376...</td>\n",
       "    </tr>\n",
       "    <tr>\n",
       "      <th>3</th>\n",
       "      <td>0</td>\n",
       "      <td>0</td>\n",
       "      <td>0</td>\n",
       "      <td>913</td>\n",
       "      <td>0</td>\n",
       "      <td>POLYGON ((-122.4269088640789 37.72056829546914...</td>\n",
       "    </tr>\n",
       "    <tr>\n",
       "      <th>4</th>\n",
       "      <td>0</td>\n",
       "      <td>0</td>\n",
       "      <td>0</td>\n",
       "      <td>3001</td>\n",
       "      <td>0</td>\n",
       "      <td>POLYGON ((-122.3971498149807 37.78990370709575...</td>\n",
       "    </tr>\n",
       "  </tbody>\n",
       "</table>\n",
       "</div>"
      ],
      "text/plain": [
       "   FROMS_BART  OFF_CALTRA  ON_CALTRAI  STOP_ID  TOS_BART  \\\n",
       "0           0           0           0      390         0   \n",
       "1           0           0           0      392         0   \n",
       "2           0           0           0      660         0   \n",
       "3           0           0           0      913         0   \n",
       "4           0           0           0     3001         0   \n",
       "\n",
       "                                            geometry  \n",
       "0  POLYGON ((-122.4762044957765 37.72256659330341...  \n",
       "1  POLYGON ((-122.478318121487 37.76653392304563,...  \n",
       "2  POLYGON ((-122.4364941099191 37.72529018218376...  \n",
       "3  POLYGON ((-122.4269088640789 37.72056829546914...  \n",
       "4  POLYGON ((-122.3971498149807 37.78990370709575...  "
      ]
     },
     "execution_count": 108,
     "metadata": {},
     "output_type": "execute_result"
    }
   ],
   "source": [
    "trans.head()"
   ]
  },
  {
   "cell_type": "code",
   "execution_count": 109,
   "metadata": {
    "collapsed": false
   },
   "outputs": [],
   "source": [
    "trans2 = trans[trans['FROMS_BART'] > 0 | (trans['ON_CALTRAI'] > 0)] "
   ]
  },
  {
   "cell_type": "code",
   "execution_count": 110,
   "metadata": {
    "collapsed": false
   },
   "outputs": [
    {
     "data": {
      "text/html": [
       "<div>\n",
       "<table border=\"1\" class=\"dataframe\">\n",
       "  <thead>\n",
       "    <tr style=\"text-align: right;\">\n",
       "      <th></th>\n",
       "      <th>FROMS_BART</th>\n",
       "      <th>OFF_CALTRA</th>\n",
       "      <th>ON_CALTRAI</th>\n",
       "      <th>STOP_ID</th>\n",
       "      <th>TOS_BART</th>\n",
       "      <th>geometry</th>\n",
       "    </tr>\n",
       "  </thead>\n",
       "  <tbody>\n",
       "    <tr>\n",
       "      <th>14</th>\n",
       "      <td>13045</td>\n",
       "      <td>0</td>\n",
       "      <td>0</td>\n",
       "      <td>3012</td>\n",
       "      <td>12502</td>\n",
       "      <td>POLYGON ((-122.4024119870492 37.79044071898017...</td>\n",
       "    </tr>\n",
       "    <tr>\n",
       "      <th>15</th>\n",
       "      <td>13045</td>\n",
       "      <td>0</td>\n",
       "      <td>0</td>\n",
       "      <td>3013</td>\n",
       "      <td>12502</td>\n",
       "      <td>POLYGON ((-122.4017559627998 37.78999372938668...</td>\n",
       "    </tr>\n",
       "    <tr>\n",
       "      <th>119</th>\n",
       "      <td>15030</td>\n",
       "      <td>0</td>\n",
       "      <td>0</td>\n",
       "      <td>3160</td>\n",
       "      <td>14302</td>\n",
       "      <td>POLYGON ((-122.4052230407347 37.78563288496019...</td>\n",
       "    </tr>\n",
       "    <tr>\n",
       "      <th>120</th>\n",
       "      <td>15030</td>\n",
       "      <td>0</td>\n",
       "      <td>0</td>\n",
       "      <td>3161</td>\n",
       "      <td>14302</td>\n",
       "      <td>POLYGON ((-122.4067810997628 37.7869008538221,...</td>\n",
       "    </tr>\n",
       "    <tr>\n",
       "      <th>153</th>\n",
       "      <td>21950</td>\n",
       "      <td>0</td>\n",
       "      <td>0</td>\n",
       "      <td>3196</td>\n",
       "      <td>19876</td>\n",
       "      <td>POLYGON ((-122.4135012710483 37.78168305552212...</td>\n",
       "    </tr>\n",
       "  </tbody>\n",
       "</table>\n",
       "</div>"
      ],
      "text/plain": [
       "     FROMS_BART  OFF_CALTRA  ON_CALTRAI  STOP_ID  TOS_BART  \\\n",
       "14        13045           0           0     3012     12502   \n",
       "15        13045           0           0     3013     12502   \n",
       "119       15030           0           0     3160     14302   \n",
       "120       15030           0           0     3161     14302   \n",
       "153       21950           0           0     3196     19876   \n",
       "\n",
       "                                              geometry  \n",
       "14   POLYGON ((-122.4024119870492 37.79044071898017...  \n",
       "15   POLYGON ((-122.4017559627998 37.78999372938668...  \n",
       "119  POLYGON ((-122.4052230407347 37.78563288496019...  \n",
       "120  POLYGON ((-122.4067810997628 37.7869008538221,...  \n",
       "153  POLYGON ((-122.4135012710483 37.78168305552212...  "
      ]
     },
     "execution_count": 110,
     "metadata": {},
     "output_type": "execute_result"
    }
   ],
   "source": [
    "trans2.head()"
   ]
  },
  {
   "cell_type": "code",
   "execution_count": null,
   "metadata": {
    "collapsed": false
   },
   "outputs": [],
   "source": []
  },
  {
   "cell_type": "code",
   "execution_count": 79,
   "metadata": {
    "collapsed": false
   },
   "outputs": [],
   "source": [
    "drop = ['ADDRESS', 'AIRPORT', 'BUFF_DIST', 'BUS_ROUTES', 'CO', 'CODE',\n",
    "       'COMM_NETWO', 'COMM_OP', 'CO_1', 'DIST', 'DIST_1', 'FROMS_1',\n",
    "       'INTERMODAL', 'Join_Cou_1', 'Join_Count', 'LOCATION',\n",
    "       'OPERATOR', 'ORIG_FID', 'PASS_NETWO', 'PASS_OP', 'Ridership',\n",
    "       'STATION_1', 'STATION_12', 'STATION_TY', 'STOP_LAT',\n",
    "       'STOP_LON', 'Station', 'TARGET_FID', 'TARGET_F_1', 'TRANSIT',\n",
    "       'TO', 'ZIP']"
   ]
  },
  {
   "cell_type": "code",
   "execution_count": 83,
   "metadata": {
    "collapsed": false
   },
   "outputs": [],
   "source": [
    "for column in drop:\n",
    "    trans = trans.drop(column,axis =1)"
   ]
  },
  {
   "cell_type": "code",
   "execution_count": 85,
   "metadata": {
    "collapsed": false
   },
   "outputs": [
    {
     "data": {
      "text/html": [
       "<div>\n",
       "<table border=\"1\" class=\"dataframe\">\n",
       "  <thead>\n",
       "    <tr style=\"text-align: right;\">\n",
       "      <th></th>\n",
       "      <th>Froms</th>\n",
       "      <th>OFF</th>\n",
       "      <th>ON</th>\n",
       "      <th>STOP_ID</th>\n",
       "      <th>Tos</th>\n",
       "      <th>geometry</th>\n",
       "    </tr>\n",
       "  </thead>\n",
       "  <tbody>\n",
       "    <tr>\n",
       "      <th>0</th>\n",
       "      <td>0</td>\n",
       "      <td>0</td>\n",
       "      <td>0</td>\n",
       "      <td>390</td>\n",
       "      <td>0</td>\n",
       "      <td>POLYGON ((-122.4762044957765 37.72256659330341...</td>\n",
       "    </tr>\n",
       "    <tr>\n",
       "      <th>1</th>\n",
       "      <td>0</td>\n",
       "      <td>0</td>\n",
       "      <td>0</td>\n",
       "      <td>392</td>\n",
       "      <td>0</td>\n",
       "      <td>POLYGON ((-122.478318121487 37.76653392304563,...</td>\n",
       "    </tr>\n",
       "    <tr>\n",
       "      <th>2</th>\n",
       "      <td>0</td>\n",
       "      <td>0</td>\n",
       "      <td>0</td>\n",
       "      <td>660</td>\n",
       "      <td>0</td>\n",
       "      <td>POLYGON ((-122.4364941099191 37.72529018218376...</td>\n",
       "    </tr>\n",
       "    <tr>\n",
       "      <th>3</th>\n",
       "      <td>0</td>\n",
       "      <td>0</td>\n",
       "      <td>0</td>\n",
       "      <td>913</td>\n",
       "      <td>0</td>\n",
       "      <td>POLYGON ((-122.4269088640789 37.72056829546914...</td>\n",
       "    </tr>\n",
       "    <tr>\n",
       "      <th>4</th>\n",
       "      <td>0</td>\n",
       "      <td>0</td>\n",
       "      <td>0</td>\n",
       "      <td>3001</td>\n",
       "      <td>0</td>\n",
       "      <td>POLYGON ((-122.3971498149807 37.78990370709575...</td>\n",
       "    </tr>\n",
       "  </tbody>\n",
       "</table>\n",
       "</div>"
      ],
      "text/plain": [
       "   Froms  OFF  ON  STOP_ID  Tos  \\\n",
       "0      0    0   0      390    0   \n",
       "1      0    0   0      392    0   \n",
       "2      0    0   0      660    0   \n",
       "3      0    0   0      913    0   \n",
       "4      0    0   0     3001    0   \n",
       "\n",
       "                                            geometry  \n",
       "0  POLYGON ((-122.4762044957765 37.72256659330341...  \n",
       "1  POLYGON ((-122.478318121487 37.76653392304563,...  \n",
       "2  POLYGON ((-122.4364941099191 37.72529018218376...  \n",
       "3  POLYGON ((-122.4269088640789 37.72056829546914...  \n",
       "4  POLYGON ((-122.3971498149807 37.78990370709575...  "
      ]
     },
     "execution_count": 85,
     "metadata": {},
     "output_type": "execute_result"
    }
   ],
   "source": [
    "trans.head()"
   ]
  },
  {
   "cell_type": "code",
   "execution_count": null,
   "metadata": {
    "collapsed": false
   },
   "outputs": [],
   "source": []
  },
  {
   "cell_type": "code",
   "execution_count": 123,
   "metadata": {
    "collapsed": true
   },
   "outputs": [],
   "source": [
    "rename = ['FROMS_BART', 'OFF_CALTRAIN', 'ON_CALTRAIN', 'STOP_ID', 'TOS_BART', 'geometry']"
   ]
  },
  {
   "cell_type": "code",
   "execution_count": 124,
   "metadata": {
    "collapsed": true
   },
   "outputs": [],
   "source": [
    "trans2.columns = rename"
   ]
  },
  {
   "cell_type": "code",
   "execution_count": 129,
   "metadata": {
    "collapsed": true
   },
   "outputs": [],
   "source": [
    "trans2.to_csv('E:\\Transit-Casa-Alex\\Output\\Buffers\\Tenth\\Competing Treansit Buffers\\Competing_Transit_Buffers.csv')"
   ]
  },
  {
   "cell_type": "code",
   "execution_count": 126,
   "metadata": {
    "collapsed": false
   },
   "outputs": [
    {
     "data": {
      "text/plain": [
       "{}"
      ]
     },
     "execution_count": 126,
     "metadata": {},
     "output_type": "execute_result"
    }
   ],
   "source": [
    "trans2.crs "
   ]
  },
  {
   "cell_type": "code",
   "execution_count": 127,
   "metadata": {
    "collapsed": true
   },
   "outputs": [],
   "source": [
    "trans2.to_file('E:\\Transit-Casa-Alex\\Output\\Buffers\\Tenth\\Competing Treansit Buffers/Competing_Transit_Buffers.shp',driver = 'ESRI Shapefile')"
   ]
  },
  {
   "cell_type": "code",
   "execution_count": 128,
   "metadata": {
    "collapsed": false
   },
   "outputs": [
    {
     "data": {
      "text/html": [
       "<div>\n",
       "<table border=\"1\" class=\"dataframe\">\n",
       "  <thead>\n",
       "    <tr style=\"text-align: right;\">\n",
       "      <th></th>\n",
       "      <th>FROMS_BART</th>\n",
       "      <th>OFF_CALTRAIN</th>\n",
       "      <th>ON_CALTRAIN</th>\n",
       "      <th>STOP_ID</th>\n",
       "      <th>TOS_BART</th>\n",
       "      <th>geometry</th>\n",
       "    </tr>\n",
       "  </thead>\n",
       "  <tbody>\n",
       "    <tr>\n",
       "      <th>14</th>\n",
       "      <td>13045</td>\n",
       "      <td>0</td>\n",
       "      <td>0</td>\n",
       "      <td>3012</td>\n",
       "      <td>12502</td>\n",
       "      <td>POLYGON ((-122.4024119870492 37.79044071898017...</td>\n",
       "    </tr>\n",
       "    <tr>\n",
       "      <th>15</th>\n",
       "      <td>13045</td>\n",
       "      <td>0</td>\n",
       "      <td>0</td>\n",
       "      <td>3013</td>\n",
       "      <td>12502</td>\n",
       "      <td>POLYGON ((-122.4017559627998 37.78999372938668...</td>\n",
       "    </tr>\n",
       "    <tr>\n",
       "      <th>119</th>\n",
       "      <td>15030</td>\n",
       "      <td>0</td>\n",
       "      <td>0</td>\n",
       "      <td>3160</td>\n",
       "      <td>14302</td>\n",
       "      <td>POLYGON ((-122.4052230407347 37.78563288496019...</td>\n",
       "    </tr>\n",
       "    <tr>\n",
       "      <th>120</th>\n",
       "      <td>15030</td>\n",
       "      <td>0</td>\n",
       "      <td>0</td>\n",
       "      <td>3161</td>\n",
       "      <td>14302</td>\n",
       "      <td>POLYGON ((-122.4067810997628 37.7869008538221,...</td>\n",
       "    </tr>\n",
       "    <tr>\n",
       "      <th>153</th>\n",
       "      <td>21950</td>\n",
       "      <td>0</td>\n",
       "      <td>0</td>\n",
       "      <td>3196</td>\n",
       "      <td>19876</td>\n",
       "      <td>POLYGON ((-122.4135012710483 37.78168305552212...</td>\n",
       "    </tr>\n",
       "  </tbody>\n",
       "</table>\n",
       "</div>"
      ],
      "text/plain": [
       "     FROMS_BART  OFF_CALTRAIN  ON_CALTRAIN  STOP_ID  TOS_BART  \\\n",
       "14        13045             0            0     3012     12502   \n",
       "15        13045             0            0     3013     12502   \n",
       "119       15030             0            0     3160     14302   \n",
       "120       15030             0            0     3161     14302   \n",
       "153       21950             0            0     3196     19876   \n",
       "\n",
       "                                              geometry  \n",
       "14   POLYGON ((-122.4024119870492 37.79044071898017...  \n",
       "15   POLYGON ((-122.4017559627998 37.78999372938668...  \n",
       "119  POLYGON ((-122.4052230407347 37.78563288496019...  \n",
       "120  POLYGON ((-122.4067810997628 37.7869008538221,...  \n",
       "153  POLYGON ((-122.4135012710483 37.78168305552212...  "
      ]
     },
     "execution_count": 128,
     "metadata": {},
     "output_type": "execute_result"
    }
   ],
   "source": [
    "trans2.head()"
   ]
  },
  {
   "cell_type": "code",
   "execution_count": null,
   "metadata": {
    "collapsed": true
   },
   "outputs": [],
   "source": []
  }
 ],
 "metadata": {
  "anaconda-cloud": {},
  "kernelspec": {
   "display_name": "Python [conda root]",
   "language": "python",
   "name": "conda-root-py"
  },
  "language_info": {
   "codemirror_mode": {
    "name": "ipython",
    "version": 3
   },
   "file_extension": ".py",
   "mimetype": "text/x-python",
   "name": "python",
   "nbconvert_exporter": "python",
   "pygments_lexer": "ipython3",
   "version": "3.5.2"
  }
 },
 "nbformat": 4,
 "nbformat_minor": 1
}
