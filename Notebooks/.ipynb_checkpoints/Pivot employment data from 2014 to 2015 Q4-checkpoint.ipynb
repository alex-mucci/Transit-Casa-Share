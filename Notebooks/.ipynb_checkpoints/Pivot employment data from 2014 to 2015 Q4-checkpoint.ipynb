{
 "cells": [
  {
   "cell_type": "code",
   "execution_count": 23,
   "metadata": {
    "collapsed": true
   },
   "outputs": [],
   "source": [
    "import pandas as pd\n",
    "import geopandas as gp\n",
    "pd.set_option('max_columns',500)"
   ]
  },
  {
   "cell_type": "code",
   "execution_count": 6,
   "metadata": {
    "collapsed": false
   },
   "outputs": [],
   "source": [
    "edd15 = gp.read_file('E:\\Transit-Casa-Alex\\Input\\EDD\\EDD_SF_JOBS_2009-2015\\SF_JOBS_2009-2015/SF_JOBS_2015_Q4.shp')\n",
    "edd14 = gp.read_file('E:\\Transit-Casa-Alex\\Input\\EDD\\EDD_SF_JOBS_2009-2015\\SF_JOBS_2009-2015/SF_JOBS_2014_Q4.shp')"
   ]
  },
  {
   "cell_type": "code",
   "execution_count": 7,
   "metadata": {
    "collapsed": false
   },
   "outputs": [
    {
     "data": {
      "text/html": [
       "<div>\n",
       "<table border=\"1\" class=\"dataframe\">\n",
       "  <thead>\n",
       "    <tr style=\"text-align: right;\">\n",
       "      <th></th>\n",
       "      <th>Landuse</th>\n",
       "      <th>Q4_AVG</th>\n",
       "      <th>geometry</th>\n",
       "      <th>latitude</th>\n",
       "      <th>longitude</th>\n",
       "      <th>month1Empl</th>\n",
       "      <th>month2Empl</th>\n",
       "      <th>month3Empl</th>\n",
       "      <th>naics</th>\n",
       "      <th>quarter</th>\n",
       "      <th>year</th>\n",
       "    </tr>\n",
       "  </thead>\n",
       "  <tbody>\n",
       "    <tr>\n",
       "      <th>0</th>\n",
       "      <td>PDR</td>\n",
       "      <td>4</td>\n",
       "      <td>POINT (-122.399621 37.794498)</td>\n",
       "      <td>37.794498</td>\n",
       "      <td>-122.399621</td>\n",
       "      <td>3</td>\n",
       "      <td>4</td>\n",
       "      <td>4</td>\n",
       "      <td>491110</td>\n",
       "      <td>4</td>\n",
       "      <td>2015</td>\n",
       "    </tr>\n",
       "    <tr>\n",
       "      <th>1</th>\n",
       "      <td>PDR</td>\n",
       "      <td>2</td>\n",
       "      <td>POINT (-122.428266 37.772318)</td>\n",
       "      <td>37.772318</td>\n",
       "      <td>-122.428266</td>\n",
       "      <td>2</td>\n",
       "      <td>1</td>\n",
       "      <td>2</td>\n",
       "      <td>491110</td>\n",
       "      <td>4</td>\n",
       "      <td>2015</td>\n",
       "    </tr>\n",
       "    <tr>\n",
       "      <th>2</th>\n",
       "      <td>PDR</td>\n",
       "      <td>4</td>\n",
       "      <td>POINT (-122.416618 37.753977)</td>\n",
       "      <td>37.753977</td>\n",
       "      <td>-122.416618</td>\n",
       "      <td>4</td>\n",
       "      <td>4</td>\n",
       "      <td>4</td>\n",
       "      <td>491110</td>\n",
       "      <td>4</td>\n",
       "      <td>2015</td>\n",
       "    </tr>\n",
       "    <tr>\n",
       "      <th>3</th>\n",
       "      <td>PDR</td>\n",
       "      <td>1605</td>\n",
       "      <td>POINT (-122.382437 37.739746)</td>\n",
       "      <td>37.739746</td>\n",
       "      <td>-122.382437</td>\n",
       "      <td>1573</td>\n",
       "      <td>1565</td>\n",
       "      <td>1677</td>\n",
       "      <td>491110</td>\n",
       "      <td>4</td>\n",
       "      <td>2015</td>\n",
       "    </tr>\n",
       "    <tr>\n",
       "      <th>4</th>\n",
       "      <td>PDR</td>\n",
       "      <td>2</td>\n",
       "      <td>POINT (-122.480139 37.763121)</td>\n",
       "      <td>37.763121</td>\n",
       "      <td>-122.480139</td>\n",
       "      <td>2</td>\n",
       "      <td>2</td>\n",
       "      <td>2</td>\n",
       "      <td>491110</td>\n",
       "      <td>4</td>\n",
       "      <td>2015</td>\n",
       "    </tr>\n",
       "  </tbody>\n",
       "</table>\n",
       "</div>"
      ],
      "text/plain": [
       "  Landuse  Q4_AVG                       geometry   latitude   longitude  \\\n",
       "0     PDR       4  POINT (-122.399621 37.794498)  37.794498 -122.399621   \n",
       "1     PDR       2  POINT (-122.428266 37.772318)  37.772318 -122.428266   \n",
       "2     PDR       4  POINT (-122.416618 37.753977)  37.753977 -122.416618   \n",
       "3     PDR    1605  POINT (-122.382437 37.739746)  37.739746 -122.382437   \n",
       "4     PDR       2  POINT (-122.480139 37.763121)  37.763121 -122.480139   \n",
       "\n",
       "   month1Empl  month2Empl  month3Empl   naics  quarter  year  \n",
       "0           3           4           4  491110        4  2015  \n",
       "1           2           1           2  491110        4  2015  \n",
       "2           4           4           4  491110        4  2015  \n",
       "3        1573        1565        1677  491110        4  2015  \n",
       "4           2           2           2  491110        4  2015  "
      ]
     },
     "execution_count": 7,
     "metadata": {},
     "output_type": "execute_result"
    }
   ],
   "source": [
    "edd15.head()"
   ]
  },
  {
   "cell_type": "code",
   "execution_count": 8,
   "metadata": {
    "collapsed": false
   },
   "outputs": [
    {
     "data": {
      "text/html": [
       "<div>\n",
       "<table border=\"1\" class=\"dataframe\">\n",
       "  <thead>\n",
       "    <tr style=\"text-align: right;\">\n",
       "      <th></th>\n",
       "      <th>Landuse</th>\n",
       "      <th>Q4_AVG</th>\n",
       "      <th>geometry</th>\n",
       "      <th>latitude</th>\n",
       "      <th>longitude</th>\n",
       "      <th>month1Empl</th>\n",
       "      <th>month2Empl</th>\n",
       "      <th>month3Empl</th>\n",
       "      <th>naics</th>\n",
       "      <th>quarter</th>\n",
       "      <th>year</th>\n",
       "    </tr>\n",
       "  </thead>\n",
       "  <tbody>\n",
       "    <tr>\n",
       "      <th>0</th>\n",
       "      <td>PDR</td>\n",
       "      <td>3</td>\n",
       "      <td>POINT (-122.399621 37.794498)</td>\n",
       "      <td>37.794498</td>\n",
       "      <td>-122.399621</td>\n",
       "      <td>4</td>\n",
       "      <td>3</td>\n",
       "      <td>3</td>\n",
       "      <td>491110</td>\n",
       "      <td>4</td>\n",
       "      <td>2014</td>\n",
       "    </tr>\n",
       "    <tr>\n",
       "      <th>1</th>\n",
       "      <td>PDR</td>\n",
       "      <td>3</td>\n",
       "      <td>POINT (-122.428266 37.772318)</td>\n",
       "      <td>37.772318</td>\n",
       "      <td>-122.428266</td>\n",
       "      <td>3</td>\n",
       "      <td>3</td>\n",
       "      <td>3</td>\n",
       "      <td>491110</td>\n",
       "      <td>4</td>\n",
       "      <td>2014</td>\n",
       "    </tr>\n",
       "    <tr>\n",
       "      <th>2</th>\n",
       "      <td>PDR</td>\n",
       "      <td>4</td>\n",
       "      <td>POINT (-122.416618 37.753977)</td>\n",
       "      <td>37.753977</td>\n",
       "      <td>-122.416618</td>\n",
       "      <td>4</td>\n",
       "      <td>4</td>\n",
       "      <td>4</td>\n",
       "      <td>491110</td>\n",
       "      <td>4</td>\n",
       "      <td>2014</td>\n",
       "    </tr>\n",
       "    <tr>\n",
       "      <th>3</th>\n",
       "      <td>PDR</td>\n",
       "      <td>1604</td>\n",
       "      <td>POINT (-122.382745 37.73993)</td>\n",
       "      <td>37.739930</td>\n",
       "      <td>-122.382745</td>\n",
       "      <td>1582</td>\n",
       "      <td>1597</td>\n",
       "      <td>1634</td>\n",
       "      <td>491110</td>\n",
       "      <td>4</td>\n",
       "      <td>2014</td>\n",
       "    </tr>\n",
       "    <tr>\n",
       "      <th>4</th>\n",
       "      <td>PDR</td>\n",
       "      <td>2</td>\n",
       "      <td>POINT (-122.480139 37.763121)</td>\n",
       "      <td>37.763121</td>\n",
       "      <td>-122.480139</td>\n",
       "      <td>2</td>\n",
       "      <td>2</td>\n",
       "      <td>2</td>\n",
       "      <td>491110</td>\n",
       "      <td>4</td>\n",
       "      <td>2014</td>\n",
       "    </tr>\n",
       "  </tbody>\n",
       "</table>\n",
       "</div>"
      ],
      "text/plain": [
       "  Landuse  Q4_AVG                       geometry   latitude   longitude  \\\n",
       "0     PDR       3  POINT (-122.399621 37.794498)  37.794498 -122.399621   \n",
       "1     PDR       3  POINT (-122.428266 37.772318)  37.772318 -122.428266   \n",
       "2     PDR       4  POINT (-122.416618 37.753977)  37.753977 -122.416618   \n",
       "3     PDR    1604   POINT (-122.382745 37.73993)  37.739930 -122.382745   \n",
       "4     PDR       2  POINT (-122.480139 37.763121)  37.763121 -122.480139   \n",
       "\n",
       "   month1Empl  month2Empl  month3Empl   naics  quarter  year  \n",
       "0           4           3           3  491110        4  2014  \n",
       "1           3           3           3  491110        4  2014  \n",
       "2           4           4           4  491110        4  2014  \n",
       "3        1582        1597        1634  491110        4  2014  \n",
       "4           2           2           2  491110        4  2014  "
      ]
     },
     "execution_count": 8,
     "metadata": {},
     "output_type": "execute_result"
    }
   ],
   "source": [
    "edd14.head()"
   ]
  },
  {
   "cell_type": "code",
   "execution_count": 9,
   "metadata": {
    "collapsed": true
   },
   "outputs": [],
   "source": [
    "blocks = gp.read_file('E:/Transit-Casa-Alex/Output/Census Block Data/Census_Block_Data.shp')"
   ]
  },
  {
   "cell_type": "code",
   "execution_count": 11,
   "metadata": {
    "collapsed": false
   },
   "outputs": [],
   "source": [
    "blocks.crs = {'init':'epsg:4269'}"
   ]
  },
  {
   "cell_type": "code",
   "execution_count": 13,
   "metadata": {
    "collapsed": false
   },
   "outputs": [],
   "source": [
    "edd15 = edd15.to_crs(blocks.crs)"
   ]
  },
  {
   "cell_type": "code",
   "execution_count": 14,
   "metadata": {
    "collapsed": true
   },
   "outputs": [],
   "source": [
    "edd14 = edd14.to_crs(blocks.crs)"
   ]
  },
  {
   "cell_type": "code",
   "execution_count": 17,
   "metadata": {
    "collapsed": false
   },
   "outputs": [],
   "source": [
    "emp14 = gp.sjoin(blocks,edd14[['geometry','Q4_AVG']],how = 'left')"
   ]
  },
  {
   "cell_type": "code",
   "execution_count": 18,
   "metadata": {
    "collapsed": true
   },
   "outputs": [],
   "source": [
    "emp15 = gp.sjoin(blocks,edd15[['geometry','Q4_AVG']],how = 'left')"
   ]
  },
  {
   "cell_type": "code",
   "execution_count": 41,
   "metadata": {
    "collapsed": false
   },
   "outputs": [],
   "source": [
    "diff14 = emp14[['BLOCK_ID','Q4_AVG','EMP_WAC']].groupby(by= 'BLOCK_ID',as_index = False).agg({'EMP_WAC':'first',\n",
    "                                                                                              'Q4_AVG':'sum'})"
   ]
  },
  {
   "cell_type": "code",
   "execution_count": 42,
   "metadata": {
    "collapsed": false
   },
   "outputs": [
    {
     "data": {
      "text/html": [
       "<div>\n",
       "<table border=\"1\" class=\"dataframe\">\n",
       "  <thead>\n",
       "    <tr style=\"text-align: right;\">\n",
       "      <th></th>\n",
       "      <th>BLOCK_ID</th>\n",
       "      <th>EMP_WAC</th>\n",
       "      <th>Q4_AVG</th>\n",
       "    </tr>\n",
       "  </thead>\n",
       "  <tbody>\n",
       "    <tr>\n",
       "      <th>0</th>\n",
       "      <td>6.075010e+13</td>\n",
       "      <td>793.0</td>\n",
       "      <td>300.0</td>\n",
       "    </tr>\n",
       "    <tr>\n",
       "      <th>1</th>\n",
       "      <td>6.075010e+13</td>\n",
       "      <td>408.0</td>\n",
       "      <td>326.0</td>\n",
       "    </tr>\n",
       "    <tr>\n",
       "      <th>2</th>\n",
       "      <td>6.075010e+13</td>\n",
       "      <td>131.0</td>\n",
       "      <td>405.0</td>\n",
       "    </tr>\n",
       "    <tr>\n",
       "      <th>3</th>\n",
       "      <td>6.075010e+13</td>\n",
       "      <td>140.0</td>\n",
       "      <td>184.0</td>\n",
       "    </tr>\n",
       "    <tr>\n",
       "      <th>4</th>\n",
       "      <td>6.075010e+13</td>\n",
       "      <td>281.0</td>\n",
       "      <td>522.0</td>\n",
       "    </tr>\n",
       "  </tbody>\n",
       "</table>\n",
       "</div>"
      ],
      "text/plain": [
       "       BLOCK_ID  EMP_WAC  Q4_AVG\n",
       "0  6.075010e+13    793.0   300.0\n",
       "1  6.075010e+13    408.0   326.0\n",
       "2  6.075010e+13    131.0   405.0\n",
       "3  6.075010e+13    140.0   184.0\n",
       "4  6.075010e+13    281.0   522.0"
      ]
     },
     "execution_count": 42,
     "metadata": {},
     "output_type": "execute_result"
    }
   ],
   "source": [
    "diff14.head()"
   ]
  },
  {
   "cell_type": "code",
   "execution_count": 43,
   "metadata": {
    "collapsed": false
   },
   "outputs": [
    {
     "data": {
      "text/plain": [
       "60750101001004.0"
      ]
     },
     "execution_count": 43,
     "metadata": {},
     "output_type": "execute_result"
    }
   ],
   "source": [
    "diff14.BLOCK_ID[1]"
   ]
  },
  {
   "cell_type": "code",
   "execution_count": 44,
   "metadata": {
    "collapsed": true
   },
   "outputs": [],
   "source": [
    "diff14['DIFF'] = diff14['Q4_AVG'] - diff14['EMP_WAC']"
   ]
  },
  {
   "cell_type": "code",
   "execution_count": 45,
   "metadata": {
    "collapsed": false
   },
   "outputs": [
    {
     "data": {
      "text/html": [
       "<div>\n",
       "<table border=\"1\" class=\"dataframe\">\n",
       "  <thead>\n",
       "    <tr style=\"text-align: right;\">\n",
       "      <th></th>\n",
       "      <th>BLOCK_ID</th>\n",
       "      <th>EMP_WAC</th>\n",
       "      <th>Q4_AVG</th>\n",
       "      <th>DIFF</th>\n",
       "    </tr>\n",
       "  </thead>\n",
       "  <tbody>\n",
       "    <tr>\n",
       "      <th>0</th>\n",
       "      <td>6.075010e+13</td>\n",
       "      <td>793.0</td>\n",
       "      <td>300.0</td>\n",
       "      <td>-493.0</td>\n",
       "    </tr>\n",
       "    <tr>\n",
       "      <th>1</th>\n",
       "      <td>6.075010e+13</td>\n",
       "      <td>408.0</td>\n",
       "      <td>326.0</td>\n",
       "      <td>-82.0</td>\n",
       "    </tr>\n",
       "    <tr>\n",
       "      <th>2</th>\n",
       "      <td>6.075010e+13</td>\n",
       "      <td>131.0</td>\n",
       "      <td>405.0</td>\n",
       "      <td>274.0</td>\n",
       "    </tr>\n",
       "    <tr>\n",
       "      <th>3</th>\n",
       "      <td>6.075010e+13</td>\n",
       "      <td>140.0</td>\n",
       "      <td>184.0</td>\n",
       "      <td>44.0</td>\n",
       "    </tr>\n",
       "    <tr>\n",
       "      <th>4</th>\n",
       "      <td>6.075010e+13</td>\n",
       "      <td>281.0</td>\n",
       "      <td>522.0</td>\n",
       "      <td>241.0</td>\n",
       "    </tr>\n",
       "  </tbody>\n",
       "</table>\n",
       "</div>"
      ],
      "text/plain": [
       "       BLOCK_ID  EMP_WAC  Q4_AVG   DIFF\n",
       "0  6.075010e+13    793.0   300.0 -493.0\n",
       "1  6.075010e+13    408.0   326.0  -82.0\n",
       "2  6.075010e+13    131.0   405.0  274.0\n",
       "3  6.075010e+13    140.0   184.0   44.0\n",
       "4  6.075010e+13    281.0   522.0  241.0"
      ]
     },
     "execution_count": 45,
     "metadata": {},
     "output_type": "execute_result"
    }
   ],
   "source": [
    "diff14.head()"
   ]
  },
  {
   "cell_type": "code",
   "execution_count": 46,
   "metadata": {
    "collapsed": false
   },
   "outputs": [
    {
     "data": {
      "text/plain": [
       "-18596.0"
      ]
     },
     "execution_count": 46,
     "metadata": {},
     "output_type": "execute_result"
    }
   ],
   "source": [
    "min(diff14.DIFF)"
   ]
  },
  {
   "cell_type": "code",
   "execution_count": 61,
   "metadata": {
    "collapsed": false
   },
   "outputs": [
    {
     "data": {
      "text/plain": [
       "15642.0"
      ]
     },
     "execution_count": 61,
     "metadata": {},
     "output_type": "execute_result"
    }
   ],
   "source": [
    "max(diff14.DIFF)"
   ]
  },
  {
   "cell_type": "code",
   "execution_count": 56,
   "metadata": {
    "collapsed": false
   },
   "outputs": [],
   "source": [
    "counts = diff14.DIFF.value_counts()"
   ]
  },
  {
   "cell_type": "code",
   "execution_count": null,
   "metadata": {
    "collapsed": true
   },
   "outputs": [],
   "source": [
    "diff14.DIFF.value_counts().sort"
   ]
  },
  {
   "cell_type": "code",
   "execution_count": 48,
   "metadata": {
    "collapsed": false
   },
   "outputs": [
    {
     "data": {
      "text/plain": [
       "20035.0"
      ]
     },
     "execution_count": 48,
     "metadata": {},
     "output_type": "execute_result"
    }
   ],
   "source": [
    "max(diff14.EMP_WAC)"
   ]
  },
  {
   "cell_type": "code",
   "execution_count": 49,
   "metadata": {
    "collapsed": false
   },
   "outputs": [
    {
     "data": {
      "text/plain": [
       "20035.0"
      ]
     },
     "execution_count": 49,
     "metadata": {},
     "output_type": "execute_result"
    }
   ],
   "source": [
    "max(blocks.EMP_WAC)"
   ]
  },
  {
   "cell_type": "code",
   "execution_count": 59,
   "metadata": {
    "collapsed": true
   },
   "outputs": [],
   "source": [
    "import seaborn as sns\n",
    "%matplotlib inline"
   ]
  },
  {
   "cell_type": "code",
   "execution_count": 60,
   "metadata": {
    "collapsed": false
   },
   "outputs": [
    {
     "data": {
      "text/plain": [
       "<matplotlib.axes._subplots.AxesSubplot at 0x13699886710>"
      ]
     },
     "execution_count": 60,
     "metadata": {},
     "output_type": "execute_result"
    },
    {
     "data": {
      "image/png": "[encoded data removed]",
      "text/plain": [
       "<matplotlib.figure.Figure at 0x1369971ea90>"
      ]
     },
     "metadata": {},
     "output_type": "display_data"
    }
   ],
   "source": [
    "sns.distplot(counts)"
   ]
  },
  {
   "cell_type": "code",
   "execution_count": 63,
   "metadata": {
    "collapsed": false
   },
   "outputs": [],
   "source": [
    "import numpy as np"
   ]
  },
  {
   "cell_type": "code",
   "execution_count": 70,
   "metadata": {
    "collapsed": false
   },
   "outputs": [
    {
     "data": {
      "text/plain": [
       "181.94999999999959"
      ]
     },
     "execution_count": 70,
     "metadata": {},
     "output_type": "execute_result"
    }
   ],
   "source": [
    "np.percentile(counts,99)"
   ]
  },
  {
   "cell_type": "code",
   "execution_count": 68,
   "metadata": {
    "collapsed": false
   },
   "outputs": [
    {
     "data": {
      "text/plain": [
       "31.0"
      ]
     },
     "execution_count": 68,
     "metadata": {},
     "output_type": "execute_result"
    }
   ],
   "source": [
    "np.percentile(counts,95)"
   ]
  },
  {
   "cell_type": "code",
   "execution_count": null,
   "metadata": {
    "collapsed": true
   },
   "outputs": [],
   "source": []
  }
 ],
 "metadata": {
  "anaconda-cloud": {},
  "kernelspec": {
   "display_name": "Python [conda root]",
   "language": "python",
   "name": "conda-root-py"
  },
  "language_info": {
   "codemirror_mode": {
    "name": "ipython",
    "version": 3
   },
   "file_extension": ".py",
   "mimetype": "text/x-python",
   "name": "python",
   "nbconvert_exporter": "python",
   "pygments_lexer": "ipython3",
   "version": "3.5.2"
  }
 },
 "nbformat": 4,
 "nbformat_minor": 1
}
