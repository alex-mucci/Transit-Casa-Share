{
 "cells": [
  {
   "cell_type": "code",
   "execution_count": 1,
   "metadata": {
    "collapsed": true
   },
   "outputs": [],
   "source": [
    "import pandas as pd\n",
    "import geopandas as gp"
   ]
  },
  {
   "cell_type": "code",
   "execution_count": 4,
   "metadata": {
    "collapsed": false
   },
   "outputs": [],
   "source": [
    "change = pd.read_csv('E:/Transit-Casa-Alex/Output/Housing Inventory/2009/2009_HU_Changes.csv')"
   ]
  },
  {
   "cell_type": "code",
   "execution_count": 5,
   "metadata": {
    "collapsed": true
   },
   "outputs": [],
   "source": [
    "hu = gp.read_file('E:/Transit-Casa-Alex/Input/Population and Housing Units (Blocks)/2010/SF/San_Fran_Pop_HU.shp')"
   ]
  },
  {
   "cell_type": "code",
   "execution_count": 6,
   "metadata": {
    "collapsed": false
   },
   "outputs": [
    {
     "name": "stdout",
     "output_type": "stream",
     "text": [
      "<class 'geopandas.geodataframe.GeoDataFrame'>\n",
      "RangeIndex: 7386 entries, 0 to 7385\n",
      "Data columns (total 9 columns):\n",
      "BLOCKCE       7386 non-null object\n",
      "BLOCKID10     7386 non-null object\n",
      "COUNTYFP10    7386 non-null object\n",
      "HOUSING10     7386 non-null int64\n",
      "PARTFLG       7386 non-null object\n",
      "POP10         7386 non-null int64\n",
      "STATEFP10     7386 non-null object\n",
      "TRACTCE10     7386 non-null object\n",
      "geometry      7386 non-null object\n",
      "dtypes: int64(2), object(7)\n",
      "memory usage: 519.4+ KB\n"
     ]
    }
   ],
   "source": [
    "hu.info()"
   ]
  },
  {
   "cell_type": "code",
   "execution_count": 7,
   "metadata": {
    "collapsed": false
   },
   "outputs": [
    {
     "name": "stdout",
     "output_type": "stream",
     "text": [
      "<class 'pandas.core.frame.DataFrame'>\n",
      "RangeIndex: 7386 entries, 0 to 7385\n",
      "Data columns (total 4 columns):\n",
      "Unnamed: 0    7386 non-null int64\n",
      "GEOID10       7386 non-null int64\n",
      "NETUNITS      189 non-null float64\n",
      "geometry      7386 non-null object\n",
      "dtypes: float64(1), int64(2), object(1)\n",
      "memory usage: 230.9+ KB\n"
     ]
    }
   ],
   "source": [
    "change.info()"
   ]
  },
  {
   "cell_type": "code",
   "execution_count": 9,
   "metadata": {
    "collapsed": false
   },
   "outputs": [],
   "source": [
    "hu.BLOCKID10 = hu.BLOCKID10.astype(float)"
   ]
  },
  {
   "cell_type": "code",
   "execution_count": 12,
   "metadata": {
    "collapsed": true
   },
   "outputs": [],
   "source": [
    "hu09 = pd.merge(hu,change,left_on = 'BLOCKID10',right_on = 'GEOID10')"
   ]
  },
  {
   "cell_type": "code",
   "execution_count": 13,
   "metadata": {
    "collapsed": false
   },
   "outputs": [
    {
     "data": {
      "text/html": [
       "<div>\n",
       "<table border=\"1\" class=\"dataframe\">\n",
       "  <thead>\n",
       "    <tr style=\"text-align: right;\">\n",
       "      <th></th>\n",
       "      <th>BLOCKCE</th>\n",
       "      <th>BLOCKID10</th>\n",
       "      <th>COUNTYFP10</th>\n",
       "      <th>HOUSING10</th>\n",
       "      <th>PARTFLG</th>\n",
       "      <th>POP10</th>\n",
       "      <th>STATEFP10</th>\n",
       "      <th>TRACTCE10</th>\n",
       "      <th>geometry_x</th>\n",
       "      <th>Unnamed: 0</th>\n",
       "      <th>GEOID10</th>\n",
       "      <th>NETUNITS</th>\n",
       "      <th>geometry_y</th>\n",
       "    </tr>\n",
       "  </thead>\n",
       "  <tbody>\n",
       "    <tr>\n",
       "      <th>0</th>\n",
       "      <td>3028</td>\n",
       "      <td>6.075031e+13</td>\n",
       "      <td>075</td>\n",
       "      <td>33</td>\n",
       "      <td>N</td>\n",
       "      <td>116</td>\n",
       "      <td>06</td>\n",
       "      <td>031302</td>\n",
       "      <td>POLYGON ((-122.469306 37.712526, -122.468748 3...</td>\n",
       "      <td>5218</td>\n",
       "      <td>60750313023028</td>\n",
       "      <td>NaN</td>\n",
       "      <td>POLYGON ((-122.469306 37.712526, -122.468748 3...</td>\n",
       "    </tr>\n",
       "    <tr>\n",
       "      <th>1</th>\n",
       "      <td>6025</td>\n",
       "      <td>6.075026e+13</td>\n",
       "      <td>075</td>\n",
       "      <td>1</td>\n",
       "      <td>N</td>\n",
       "      <td>1</td>\n",
       "      <td>06</td>\n",
       "      <td>025500</td>\n",
       "      <td>POLYGON ((-122.442387 37.725793, -122.443066 3...</td>\n",
       "      <td>3487</td>\n",
       "      <td>60750255006025</td>\n",
       "      <td>NaN</td>\n",
       "      <td>POLYGON ((-122.442387 37.725793, -122.443066 3...</td>\n",
       "    </tr>\n",
       "    <tr>\n",
       "      <th>2</th>\n",
       "      <td>1010</td>\n",
       "      <td>6.075026e+13</td>\n",
       "      <td>075</td>\n",
       "      <td>64</td>\n",
       "      <td>N</td>\n",
       "      <td>237</td>\n",
       "      <td>06</td>\n",
       "      <td>026100</td>\n",
       "      <td>POLYGON ((-122.439127 37.720972, -122.439382 3...</td>\n",
       "      <td>3865</td>\n",
       "      <td>60750261001010</td>\n",
       "      <td>NaN</td>\n",
       "      <td>POLYGON ((-122.439127 37.720972, -122.439382 3...</td>\n",
       "    </tr>\n",
       "    <tr>\n",
       "      <th>3</th>\n",
       "      <td>1001</td>\n",
       "      <td>6.075020e+13</td>\n",
       "      <td>075</td>\n",
       "      <td>0</td>\n",
       "      <td>N</td>\n",
       "      <td>0</td>\n",
       "      <td>06</td>\n",
       "      <td>020100</td>\n",
       "      <td>POLYGON ((-122.418618 37.773053, -122.418855 3...</td>\n",
       "      <td>1889</td>\n",
       "      <td>60750201001001</td>\n",
       "      <td>NaN</td>\n",
       "      <td>POLYGON ((-122.418618 37.773053, -122.418855 3...</td>\n",
       "    </tr>\n",
       "    <tr>\n",
       "      <th>4</th>\n",
       "      <td>2006</td>\n",
       "      <td>6.075018e+13</td>\n",
       "      <td>075</td>\n",
       "      <td>145</td>\n",
       "      <td>N</td>\n",
       "      <td>196</td>\n",
       "      <td>06</td>\n",
       "      <td>017802</td>\n",
       "      <td>POLYGON ((-122.413587 37.77466, -122.413161 37...</td>\n",
       "      <td>1722</td>\n",
       "      <td>60750178022006</td>\n",
       "      <td>NaN</td>\n",
       "      <td>POLYGON ((-122.413587 37.77466, -122.413161 37...</td>\n",
       "    </tr>\n",
       "  </tbody>\n",
       "</table>\n",
       "</div>"
      ],
      "text/plain": [
       "  BLOCKCE     BLOCKID10 COUNTYFP10  HOUSING10 PARTFLG  POP10 STATEFP10  \\\n",
       "0    3028  6.075031e+13        075         33       N    116        06   \n",
       "1    6025  6.075026e+13        075          1       N      1        06   \n",
       "2    1010  6.075026e+13        075         64       N    237        06   \n",
       "3    1001  6.075020e+13        075          0       N      0        06   \n",
       "4    2006  6.075018e+13        075        145       N    196        06   \n",
       "\n",
       "  TRACTCE10                                         geometry_x  Unnamed: 0  \\\n",
       "0    031302  POLYGON ((-122.469306 37.712526, -122.468748 3...        5218   \n",
       "1    025500  POLYGON ((-122.442387 37.725793, -122.443066 3...        3487   \n",
       "2    026100  POLYGON ((-122.439127 37.720972, -122.439382 3...        3865   \n",
       "3    020100  POLYGON ((-122.418618 37.773053, -122.418855 3...        1889   \n",
       "4    017802  POLYGON ((-122.413587 37.77466, -122.413161 37...        1722   \n",
       "\n",
       "          GEOID10  NETUNITS                                         geometry_y  \n",
       "0  60750313023028       NaN  POLYGON ((-122.469306 37.712526, -122.468748 3...  \n",
       "1  60750255006025       NaN  POLYGON ((-122.442387 37.725793, -122.443066 3...  \n",
       "2  60750261001010       NaN  POLYGON ((-122.439127 37.720972, -122.439382 3...  \n",
       "3  60750201001001       NaN  POLYGON ((-122.418618 37.773053, -122.418855 3...  \n",
       "4  60750178022006       NaN  POLYGON ((-122.413587 37.77466, -122.413161 37...  "
      ]
     },
     "execution_count": 13,
     "metadata": {},
     "output_type": "execute_result"
    }
   ],
   "source": [
    "hu09.head()"
   ]
  },
  {
   "cell_type": "code",
   "execution_count": 14,
   "metadata": {
    "collapsed": true
   },
   "outputs": [],
   "source": [
    "hu09['NETUNITS'] = hu09['NETUNITS'].fillna(0)"
   ]
  },
  {
   "cell_type": "code",
   "execution_count": 15,
   "metadata": {
    "collapsed": true
   },
   "outputs": [],
   "source": [
    "hu09['HOUSING09'] = hu09['HOUSING10'] - hu09['NETUNITS']"
   ]
  },
  {
   "cell_type": "code",
   "execution_count": 16,
   "metadata": {
    "collapsed": true
   },
   "outputs": [],
   "source": [
    "hu09['HOUSING09'] = hu09.HOUSING09.clip_lower(0)"
   ]
  },
  {
   "cell_type": "code",
   "execution_count": 26,
   "metadata": {
    "collapsed": true
   },
   "outputs": [],
   "source": [
    "blocks = gp.read_file('E:/Transit-Casa-Alex/Input/2010 Cenusus Shapefiles/2010 Census Blocks/075/tl_2010_06075_tabblock10.shp')"
   ]
  },
  {
   "cell_type": "code",
   "execution_count": 19,
   "metadata": {
    "collapsed": false
   },
   "outputs": [
    {
     "name": "stdout",
     "output_type": "stream",
     "text": [
      "<class 'geopandas.geodataframe.GeoDataFrame'>\n",
      "RangeIndex: 7386 entries, 0 to 7385\n",
      "Data columns (total 16 columns):\n",
      "ALAND10       7386 non-null int64\n",
      "AWATER10      7386 non-null int64\n",
      "BLOCKCE10     7386 non-null object\n",
      "COUNTYFP10    7386 non-null object\n",
      "FUNCSTAT10    7386 non-null object\n",
      "GEOID10       7386 non-null object\n",
      "INTPTLAT10    7386 non-null object\n",
      "INTPTLON10    7386 non-null object\n",
      "MTFCC10       7386 non-null object\n",
      "NAME10        7386 non-null object\n",
      "STATEFP10     7386 non-null object\n",
      "TRACTCE10     7386 non-null object\n",
      "UACE10        7338 non-null object\n",
      "UATYP10       7338 non-null object\n",
      "UR10          7386 non-null object\n",
      "geometry      7386 non-null object\n",
      "dtypes: int64(2), object(14)\n",
      "memory usage: 923.3+ KB\n"
     ]
    }
   ],
   "source": [
    "blocks.info()"
   ]
  },
  {
   "cell_type": "code",
   "execution_count": 27,
   "metadata": {
    "collapsed": false
   },
   "outputs": [],
   "source": [
    "blocks.GEOID10 = blocks.GEOID10.astype(float)"
   ]
  },
  {
   "cell_type": "code",
   "execution_count": 28,
   "metadata": {
    "collapsed": false
   },
   "outputs": [],
   "source": [
    "merged = blocks.merge(hu09,how = 'left')"
   ]
  },
  {
   "cell_type": "code",
   "execution_count": 24,
   "metadata": {
    "collapsed": false
   },
   "outputs": [
    {
     "ename": "KeyboardInterrupt",
     "evalue": "",
     "output_type": "error",
     "traceback": [
      "\u001b[0;31m---------------------------------------------------------------------------\u001b[0m",
      "\u001b[0;31mKeyboardInterrupt\u001b[0m                         Traceback (most recent call last)",
      "\u001b[0;32m<ipython-input-24-ce1c4bf50e53>\u001b[0m in \u001b[0;36m<module>\u001b[0;34m()\u001b[0m\n\u001b[0;32m----> 1\u001b[0;31m \u001b[0mblocks\u001b[0m\u001b[1;33m.\u001b[0m\u001b[0mplot\u001b[0m\u001b[1;33m(\u001b[0m\u001b[1;33m)\u001b[0m\u001b[1;33m\u001b[0m\u001b[0m\n\u001b[0m",
      "\u001b[0;32mC:\\Anaconda\\lib\\site-packages\\geopandas\\geodataframe.py\u001b[0m in \u001b[0;36mplot\u001b[0;34m(self, *args, **kwargs)\u001b[0m\n\u001b[1;32m    445\u001b[0m     \u001b[1;32mdef\u001b[0m \u001b[0mplot\u001b[0m\u001b[1;33m(\u001b[0m\u001b[0mself\u001b[0m\u001b[1;33m,\u001b[0m \u001b[1;33m*\u001b[0m\u001b[0margs\u001b[0m\u001b[1;33m,\u001b[0m \u001b[1;33m**\u001b[0m\u001b[0mkwargs\u001b[0m\u001b[1;33m)\u001b[0m\u001b[1;33m:\u001b[0m\u001b[1;33m\u001b[0m\u001b[0m\n\u001b[1;32m    446\u001b[0m \u001b[1;33m\u001b[0m\u001b[0m\n\u001b[0;32m--> 447\u001b[0;31m         \u001b[1;32mreturn\u001b[0m \u001b[0mplot_dataframe\u001b[0m\u001b[1;33m(\u001b[0m\u001b[0mself\u001b[0m\u001b[1;33m,\u001b[0m \u001b[1;33m*\u001b[0m\u001b[0margs\u001b[0m\u001b[1;33m,\u001b[0m \u001b[1;33m**\u001b[0m\u001b[0mkwargs\u001b[0m\u001b[1;33m)\u001b[0m\u001b[1;33m\u001b[0m\u001b[0m\n\u001b[0m\u001b[1;32m    448\u001b[0m \u001b[1;33m\u001b[0m\u001b[0m\n\u001b[1;32m    449\u001b[0m     \u001b[0mplot\u001b[0m\u001b[1;33m.\u001b[0m\u001b[0m__doc__\u001b[0m \u001b[1;33m=\u001b[0m \u001b[0mplot_dataframe\u001b[0m\u001b[1;33m.\u001b[0m\u001b[0m__doc__\u001b[0m\u001b[1;33m\u001b[0m\u001b[0m\n",
      "\u001b[0;32mC:\\Anaconda\\lib\\site-packages\\geopandas\\plotting.py\u001b[0m in \u001b[0;36mplot_dataframe\u001b[0;34m(s, column, cmap, color, linewidth, categorical, legend, ax, scheme, k, vmin, vmax, figsize, **color_kwds)\u001b[0m\n\u001b[1;32m    238\u001b[0m         return plot_series(s.geometry, cmap=cmap, color=color,\n\u001b[1;32m    239\u001b[0m                            \u001b[0max\u001b[0m\u001b[1;33m=\u001b[0m\u001b[0max\u001b[0m\u001b[1;33m,\u001b[0m \u001b[0mlinewidth\u001b[0m\u001b[1;33m=\u001b[0m\u001b[0mlinewidth\u001b[0m\u001b[1;33m,\u001b[0m \u001b[0mfigsize\u001b[0m\u001b[1;33m=\u001b[0m\u001b[0mfigsize\u001b[0m\u001b[1;33m,\u001b[0m\u001b[1;33m\u001b[0m\u001b[0m\n\u001b[0;32m--> 240\u001b[0;31m                            **color_kwds)\n\u001b[0m\u001b[1;32m    241\u001b[0m     \u001b[1;32melse\u001b[0m\u001b[1;33m:\u001b[0m\u001b[1;33m\u001b[0m\u001b[0m\n\u001b[1;32m    242\u001b[0m         \u001b[1;32mif\u001b[0m \u001b[0ms\u001b[0m\u001b[1;33m[\u001b[0m\u001b[0mcolumn\u001b[0m\u001b[1;33m]\u001b[0m\u001b[1;33m.\u001b[0m\u001b[0mdtype\u001b[0m \u001b[1;32mis\u001b[0m \u001b[0mnp\u001b[0m\u001b[1;33m.\u001b[0m\u001b[0mdtype\u001b[0m\u001b[1;33m(\u001b[0m\u001b[1;34m'O'\u001b[0m\u001b[1;33m)\u001b[0m\u001b[1;33m:\u001b[0m\u001b[1;33m\u001b[0m\u001b[0m\n",
      "\u001b[0;32mC:\\Anaconda\\lib\\site-packages\\geopandas\\plotting.py\u001b[0m in \u001b[0;36mplot_series\u001b[0;34m(s, cmap, color, ax, linewidth, figsize, **color_kwds)\u001b[0m\n\u001b[1;32m    141\u001b[0m                 \u001b[0mplot_multipolygon\u001b[0m\u001b[1;33m(\u001b[0m\u001b[0max\u001b[0m\u001b[1;33m,\u001b[0m \u001b[0mgeom\u001b[0m\u001b[1;33m,\u001b[0m \u001b[0mlinewidth\u001b[0m\u001b[1;33m=\u001b[0m\u001b[0mlinewidth\u001b[0m\u001b[1;33m,\u001b[0m \u001b[1;33m**\u001b[0m\u001b[0mcolor_kwds\u001b[0m\u001b[1;33m)\u001b[0m\u001b[1;33m\u001b[0m\u001b[0m\n\u001b[1;32m    142\u001b[0m             \u001b[1;32melse\u001b[0m\u001b[1;33m:\u001b[0m\u001b[1;33m\u001b[0m\u001b[0m\n\u001b[0;32m--> 143\u001b[0;31m                 \u001b[0mplot_multipolygon\u001b[0m\u001b[1;33m(\u001b[0m\u001b[0max\u001b[0m\u001b[1;33m,\u001b[0m \u001b[0mgeom\u001b[0m\u001b[1;33m,\u001b[0m \u001b[0mfacecolor\u001b[0m\u001b[1;33m=\u001b[0m\u001b[0mcol\u001b[0m\u001b[1;33m,\u001b[0m \u001b[0mlinewidth\u001b[0m\u001b[1;33m=\u001b[0m\u001b[0mlinewidth\u001b[0m\u001b[1;33m,\u001b[0m \u001b[1;33m**\u001b[0m\u001b[0mcolor_kwds\u001b[0m\u001b[1;33m)\u001b[0m\u001b[1;33m\u001b[0m\u001b[0m\n\u001b[0m\u001b[1;32m    144\u001b[0m         \u001b[1;32melif\u001b[0m \u001b[0mgeom\u001b[0m\u001b[1;33m.\u001b[0m\u001b[0mtype\u001b[0m \u001b[1;33m==\u001b[0m \u001b[1;34m'LineString'\u001b[0m \u001b[1;32mor\u001b[0m \u001b[0mgeom\u001b[0m\u001b[1;33m.\u001b[0m\u001b[0mtype\u001b[0m \u001b[1;33m==\u001b[0m \u001b[1;34m'MultiLineString'\u001b[0m\u001b[1;33m:\u001b[0m\u001b[1;33m\u001b[0m\u001b[0m\n\u001b[1;32m    145\u001b[0m             \u001b[0mplot_multilinestring\u001b[0m\u001b[1;33m(\u001b[0m\u001b[0max\u001b[0m\u001b[1;33m,\u001b[0m \u001b[0mgeom\u001b[0m\u001b[1;33m,\u001b[0m \u001b[0mcolor\u001b[0m\u001b[1;33m=\u001b[0m\u001b[0mcol\u001b[0m\u001b[1;33m,\u001b[0m \u001b[0mlinewidth\u001b[0m\u001b[1;33m=\u001b[0m\u001b[0mlinewidth\u001b[0m\u001b[1;33m,\u001b[0m \u001b[1;33m**\u001b[0m\u001b[0mcolor_kwds\u001b[0m\u001b[1;33m)\u001b[0m\u001b[1;33m\u001b[0m\u001b[0m\n",
      "\u001b[0;32mC:\\Anaconda\\lib\\site-packages\\geopandas\\plotting.py\u001b[0m in \u001b[0;36mplot_multipolygon\u001b[0;34m(ax, geom, facecolor, edgecolor, alpha, linewidth, **kwargs)\u001b[0m\n\u001b[1;32m     28\u001b[0m     \"\"\"\n\u001b[1;32m     29\u001b[0m     \u001b[1;32mif\u001b[0m \u001b[0mgeom\u001b[0m\u001b[1;33m.\u001b[0m\u001b[0mtype\u001b[0m \u001b[1;33m==\u001b[0m \u001b[1;34m'Polygon'\u001b[0m\u001b[1;33m:\u001b[0m\u001b[1;33m\u001b[0m\u001b[0m\n\u001b[0;32m---> 30\u001b[0;31m         \u001b[0mplot_polygon\u001b[0m\u001b[1;33m(\u001b[0m\u001b[0max\u001b[0m\u001b[1;33m,\u001b[0m \u001b[0mgeom\u001b[0m\u001b[1;33m,\u001b[0m \u001b[0mfacecolor\u001b[0m\u001b[1;33m=\u001b[0m\u001b[0mfacecolor\u001b[0m\u001b[1;33m,\u001b[0m \u001b[0medgecolor\u001b[0m\u001b[1;33m=\u001b[0m\u001b[0medgecolor\u001b[0m\u001b[1;33m,\u001b[0m \u001b[0malpha\u001b[0m\u001b[1;33m=\u001b[0m\u001b[0malpha\u001b[0m\u001b[1;33m,\u001b[0m \u001b[0mlinewidth\u001b[0m\u001b[1;33m=\u001b[0m\u001b[0mlinewidth\u001b[0m\u001b[1;33m,\u001b[0m \u001b[1;33m**\u001b[0m\u001b[0mkwargs\u001b[0m\u001b[1;33m)\u001b[0m\u001b[1;33m\u001b[0m\u001b[0m\n\u001b[0m\u001b[1;32m     31\u001b[0m     \u001b[1;32melif\u001b[0m \u001b[0mgeom\u001b[0m\u001b[1;33m.\u001b[0m\u001b[0mtype\u001b[0m \u001b[1;33m==\u001b[0m \u001b[1;34m'MultiPolygon'\u001b[0m\u001b[1;33m:\u001b[0m\u001b[1;33m\u001b[0m\u001b[0m\n\u001b[1;32m     32\u001b[0m         \u001b[1;32mfor\u001b[0m \u001b[0mpoly\u001b[0m \u001b[1;32min\u001b[0m \u001b[0mgeom\u001b[0m\u001b[1;33m.\u001b[0m\u001b[0mgeoms\u001b[0m\u001b[1;33m:\u001b[0m\u001b[1;33m\u001b[0m\u001b[0m\n",
      "\u001b[0;32mC:\\Anaconda\\lib\\site-packages\\geopandas\\plotting.py\u001b[0m in \u001b[0;36mplot_polygon\u001b[0;34m(ax, poly, facecolor, edgecolor, alpha, linewidth, **kwargs)\u001b[0m\n\u001b[1;32m     18\u001b[0m     \u001b[1;31m# without Descartes, we could make a Patch of exterior\u001b[0m\u001b[1;33m\u001b[0m\u001b[1;33m\u001b[0m\u001b[0m\n\u001b[1;32m     19\u001b[0m     \u001b[0max\u001b[0m\u001b[1;33m.\u001b[0m\u001b[0madd_patch\u001b[0m\u001b[1;33m(\u001b[0m\u001b[0mPolygonPatch\u001b[0m\u001b[1;33m(\u001b[0m\u001b[0mpoly\u001b[0m\u001b[1;33m,\u001b[0m \u001b[0mfacecolor\u001b[0m\u001b[1;33m=\u001b[0m\u001b[0mfacecolor\u001b[0m\u001b[1;33m,\u001b[0m \u001b[0mlinewidth\u001b[0m\u001b[1;33m=\u001b[0m\u001b[1;36m0\u001b[0m\u001b[1;33m,\u001b[0m \u001b[0malpha\u001b[0m\u001b[1;33m=\u001b[0m\u001b[0malpha\u001b[0m\u001b[1;33m)\u001b[0m\u001b[1;33m)\u001b[0m  \u001b[1;31m# linewidth=0 because boundaries are drawn separately\u001b[0m\u001b[1;33m\u001b[0m\u001b[0m\n\u001b[0;32m---> 20\u001b[0;31m     \u001b[0max\u001b[0m\u001b[1;33m.\u001b[0m\u001b[0mplot\u001b[0m\u001b[1;33m(\u001b[0m\u001b[0ma\u001b[0m\u001b[1;33m[\u001b[0m\u001b[1;33m:\u001b[0m\u001b[1;33m,\u001b[0m \u001b[1;36m0\u001b[0m\u001b[1;33m]\u001b[0m\u001b[1;33m,\u001b[0m \u001b[0ma\u001b[0m\u001b[1;33m[\u001b[0m\u001b[1;33m:\u001b[0m\u001b[1;33m,\u001b[0m \u001b[1;36m1\u001b[0m\u001b[1;33m]\u001b[0m\u001b[1;33m,\u001b[0m \u001b[0mcolor\u001b[0m\u001b[1;33m=\u001b[0m\u001b[0medgecolor\u001b[0m\u001b[1;33m,\u001b[0m \u001b[0mlinewidth\u001b[0m\u001b[1;33m=\u001b[0m\u001b[0mlinewidth\u001b[0m\u001b[1;33m,\u001b[0m \u001b[1;33m**\u001b[0m\u001b[0mkwargs\u001b[0m\u001b[1;33m)\u001b[0m\u001b[1;33m\u001b[0m\u001b[0m\n\u001b[0m\u001b[1;32m     21\u001b[0m     \u001b[1;32mfor\u001b[0m \u001b[0mp\u001b[0m \u001b[1;32min\u001b[0m \u001b[0mpoly\u001b[0m\u001b[1;33m.\u001b[0m\u001b[0minteriors\u001b[0m\u001b[1;33m:\u001b[0m\u001b[1;33m\u001b[0m\u001b[0m\n\u001b[1;32m     22\u001b[0m         \u001b[0mx\u001b[0m\u001b[1;33m,\u001b[0m \u001b[0my\u001b[0m \u001b[1;33m=\u001b[0m \u001b[0mzip\u001b[0m\u001b[1;33m(\u001b[0m\u001b[1;33m*\u001b[0m\u001b[0mp\u001b[0m\u001b[1;33m.\u001b[0m\u001b[0mcoords\u001b[0m\u001b[1;33m)\u001b[0m\u001b[1;33m\u001b[0m\u001b[0m\n",
      "\u001b[0;32mC:\\Anaconda\\lib\\site-packages\\matplotlib\\__init__.py\u001b[0m in \u001b[0;36minner\u001b[0;34m(ax, *args, **kwargs)\u001b[0m\n\u001b[1;32m   1889\u001b[0m                     warnings.warn(msg % (label_namer, func.__name__),\n\u001b[1;32m   1890\u001b[0m                                   RuntimeWarning, stacklevel=2)\n\u001b[0;32m-> 1891\u001b[0;31m             \u001b[1;32mreturn\u001b[0m \u001b[0mfunc\u001b[0m\u001b[1;33m(\u001b[0m\u001b[0max\u001b[0m\u001b[1;33m,\u001b[0m \u001b[1;33m*\u001b[0m\u001b[0margs\u001b[0m\u001b[1;33m,\u001b[0m \u001b[1;33m**\u001b[0m\u001b[0mkwargs\u001b[0m\u001b[1;33m)\u001b[0m\u001b[1;33m\u001b[0m\u001b[0m\n\u001b[0m\u001b[1;32m   1892\u001b[0m         \u001b[0mpre_doc\u001b[0m \u001b[1;33m=\u001b[0m \u001b[0minner\u001b[0m\u001b[1;33m.\u001b[0m\u001b[0m__doc__\u001b[0m\u001b[1;33m\u001b[0m\u001b[0m\n\u001b[1;32m   1893\u001b[0m         \u001b[1;32mif\u001b[0m \u001b[0mpre_doc\u001b[0m \u001b[1;32mis\u001b[0m \u001b[1;32mNone\u001b[0m\u001b[1;33m:\u001b[0m\u001b[1;33m\u001b[0m\u001b[0m\n",
      "\u001b[0;32mC:\\Anaconda\\lib\\site-packages\\matplotlib\\axes\\_axes.py\u001b[0m in \u001b[0;36mplot\u001b[0;34m(self, *args, **kwargs)\u001b[0m\n\u001b[1;32m   1408\u001b[0m             \u001b[0mlines\u001b[0m\u001b[1;33m.\u001b[0m\u001b[0mappend\u001b[0m\u001b[1;33m(\u001b[0m\u001b[0mline\u001b[0m\u001b[1;33m)\u001b[0m\u001b[1;33m\u001b[0m\u001b[0m\n\u001b[1;32m   1409\u001b[0m \u001b[1;33m\u001b[0m\u001b[0m\n\u001b[0;32m-> 1410\u001b[0;31m         \u001b[0mself\u001b[0m\u001b[1;33m.\u001b[0m\u001b[0mautoscale_view\u001b[0m\u001b[1;33m(\u001b[0m\u001b[0mscalex\u001b[0m\u001b[1;33m=\u001b[0m\u001b[0mscalex\u001b[0m\u001b[1;33m,\u001b[0m \u001b[0mscaley\u001b[0m\u001b[1;33m=\u001b[0m\u001b[0mscaley\u001b[0m\u001b[1;33m)\u001b[0m\u001b[1;33m\u001b[0m\u001b[0m\n\u001b[0m\u001b[1;32m   1411\u001b[0m         \u001b[1;32mreturn\u001b[0m \u001b[0mlines\u001b[0m\u001b[1;33m\u001b[0m\u001b[0m\n\u001b[1;32m   1412\u001b[0m \u001b[1;33m\u001b[0m\u001b[0m\n",
      "\u001b[0;32mC:\\Anaconda\\lib\\site-packages\\matplotlib\\axes\\_base.py\u001b[0m in \u001b[0;36mautoscale_view\u001b[0;34m(self, tight, scalex, scaley)\u001b[0m\n\u001b[1;32m   2317\u001b[0m         handle_single_axis(\n\u001b[1;32m   2318\u001b[0m             \u001b[0mscalex\u001b[0m\u001b[1;33m,\u001b[0m \u001b[0mself\u001b[0m\u001b[1;33m.\u001b[0m\u001b[0m_autoscaleXon\u001b[0m\u001b[1;33m,\u001b[0m \u001b[0mself\u001b[0m\u001b[1;33m.\u001b[0m\u001b[0m_shared_x_axes\u001b[0m\u001b[1;33m,\u001b[0m \u001b[1;34m'intervalx'\u001b[0m\u001b[1;33m,\u001b[0m\u001b[1;33m\u001b[0m\u001b[0m\n\u001b[0;32m-> 2319\u001b[0;31m             'minposx', self.xaxis, self._xmargin, x_stickies, self.set_xbound)\n\u001b[0m\u001b[1;32m   2320\u001b[0m         handle_single_axis(\n\u001b[1;32m   2321\u001b[0m             \u001b[0mscaley\u001b[0m\u001b[1;33m,\u001b[0m \u001b[0mself\u001b[0m\u001b[1;33m.\u001b[0m\u001b[0m_autoscaleYon\u001b[0m\u001b[1;33m,\u001b[0m \u001b[0mself\u001b[0m\u001b[1;33m.\u001b[0m\u001b[0m_shared_y_axes\u001b[0m\u001b[1;33m,\u001b[0m \u001b[1;34m'intervaly'\u001b[0m\u001b[1;33m,\u001b[0m\u001b[1;33m\u001b[0m\u001b[0m\n",
      "\u001b[0;32mC:\\Anaconda\\lib\\site-packages\\matplotlib\\axes\\_base.py\u001b[0m in \u001b[0;36mhandle_single_axis\u001b[0;34m(scale, autoscaleon, shared_axes, interval, minpos, axis, margin, stickies, set_bound)\u001b[0m\n\u001b[1;32m   2299\u001b[0m             \u001b[1;31m# We cannot use exact equality due to floating point issues e.g.\u001b[0m\u001b[1;33m\u001b[0m\u001b[1;33m\u001b[0m\u001b[0m\n\u001b[1;32m   2300\u001b[0m             \u001b[1;31m# with streamplot.\u001b[0m\u001b[1;33m\u001b[0m\u001b[1;33m\u001b[0m\u001b[0m\n\u001b[0;32m-> 2301\u001b[0;31m             \u001b[0mdo_lower_margin\u001b[0m \u001b[1;33m=\u001b[0m \u001b[1;32mnot\u001b[0m \u001b[0mnp\u001b[0m\u001b[1;33m.\u001b[0m\u001b[0many\u001b[0m\u001b[1;33m(\u001b[0m\u001b[0mnp\u001b[0m\u001b[1;33m.\u001b[0m\u001b[0misclose\u001b[0m\u001b[1;33m(\u001b[0m\u001b[0mx0\u001b[0m\u001b[1;33m,\u001b[0m \u001b[0mstickies\u001b[0m\u001b[1;33m)\u001b[0m\u001b[1;33m)\u001b[0m\u001b[1;33m\u001b[0m\u001b[0m\n\u001b[0m\u001b[1;32m   2302\u001b[0m             \u001b[0mdo_upper_margin\u001b[0m \u001b[1;33m=\u001b[0m \u001b[1;32mnot\u001b[0m \u001b[0mnp\u001b[0m\u001b[1;33m.\u001b[0m\u001b[0many\u001b[0m\u001b[1;33m(\u001b[0m\u001b[0mnp\u001b[0m\u001b[1;33m.\u001b[0m\u001b[0misclose\u001b[0m\u001b[1;33m(\u001b[0m\u001b[0mx1\u001b[0m\u001b[1;33m,\u001b[0m \u001b[0mstickies\u001b[0m\u001b[1;33m)\u001b[0m\u001b[1;33m)\u001b[0m\u001b[1;33m\u001b[0m\u001b[0m\n\u001b[1;32m   2303\u001b[0m             \u001b[0mx0\u001b[0m\u001b[1;33m,\u001b[0m \u001b[0mx1\u001b[0m \u001b[1;33m=\u001b[0m \u001b[0maxis\u001b[0m\u001b[1;33m.\u001b[0m\u001b[0m_scale\u001b[0m\u001b[1;33m.\u001b[0m\u001b[0mlimit_range_for_scale\u001b[0m\u001b[1;33m(\u001b[0m\u001b[0mx0\u001b[0m\u001b[1;33m,\u001b[0m \u001b[0mx1\u001b[0m\u001b[1;33m,\u001b[0m \u001b[0mminpos\u001b[0m\u001b[1;33m)\u001b[0m\u001b[1;33m\u001b[0m\u001b[0m\n",
      "\u001b[0;32mC:\\Anaconda\\lib\\site-packages\\numpy\\core\\numeric.py\u001b[0m in \u001b[0;36misclose\u001b[0;34m(a, b, rtol, atol, equal_nan)\u001b[0m\n\u001b[1;32m   2451\u001b[0m     \u001b[0myfin\u001b[0m \u001b[1;33m=\u001b[0m \u001b[0misfinite\u001b[0m\u001b[1;33m(\u001b[0m\u001b[0my\u001b[0m\u001b[1;33m)\u001b[0m\u001b[1;33m\u001b[0m\u001b[0m\n\u001b[1;32m   2452\u001b[0m     \u001b[1;32mif\u001b[0m \u001b[0mall\u001b[0m\u001b[1;33m(\u001b[0m\u001b[0mxfin\u001b[0m\u001b[1;33m)\u001b[0m \u001b[1;32mand\u001b[0m \u001b[0mall\u001b[0m\u001b[1;33m(\u001b[0m\u001b[0myfin\u001b[0m\u001b[1;33m)\u001b[0m\u001b[1;33m:\u001b[0m\u001b[1;33m\u001b[0m\u001b[0m\n\u001b[0;32m-> 2453\u001b[0;31m         \u001b[1;32mreturn\u001b[0m \u001b[0mwithin_tol\u001b[0m\u001b[1;33m(\u001b[0m\u001b[0mx\u001b[0m\u001b[1;33m,\u001b[0m \u001b[0my\u001b[0m\u001b[1;33m,\u001b[0m \u001b[0matol\u001b[0m\u001b[1;33m,\u001b[0m \u001b[0mrtol\u001b[0m\u001b[1;33m)\u001b[0m\u001b[1;33m\u001b[0m\u001b[0m\n\u001b[0m\u001b[1;32m   2454\u001b[0m     \u001b[1;32melse\u001b[0m\u001b[1;33m:\u001b[0m\u001b[1;33m\u001b[0m\u001b[0m\n\u001b[1;32m   2455\u001b[0m         \u001b[0mfinite\u001b[0m \u001b[1;33m=\u001b[0m \u001b[0mxfin\u001b[0m \u001b[1;33m&\u001b[0m \u001b[0myfin\u001b[0m\u001b[1;33m\u001b[0m\u001b[0m\n",
      "\u001b[0;32mC:\\Anaconda\\lib\\site-packages\\numpy\\core\\numeric.py\u001b[0m in \u001b[0;36mwithin_tol\u001b[0;34m(x, y, atol, rtol)\u001b[0m\n\u001b[1;32m   2433\u001b[0m     \"\"\"\n\u001b[1;32m   2434\u001b[0m     \u001b[1;32mdef\u001b[0m \u001b[0mwithin_tol\u001b[0m\u001b[1;33m(\u001b[0m\u001b[0mx\u001b[0m\u001b[1;33m,\u001b[0m \u001b[0my\u001b[0m\u001b[1;33m,\u001b[0m \u001b[0matol\u001b[0m\u001b[1;33m,\u001b[0m \u001b[0mrtol\u001b[0m\u001b[1;33m)\u001b[0m\u001b[1;33m:\u001b[0m\u001b[1;33m\u001b[0m\u001b[0m\n\u001b[0;32m-> 2435\u001b[0;31m         \u001b[1;32mwith\u001b[0m \u001b[0merrstate\u001b[0m\u001b[1;33m(\u001b[0m\u001b[0minvalid\u001b[0m\u001b[1;33m=\u001b[0m\u001b[1;34m'ignore'\u001b[0m\u001b[1;33m)\u001b[0m\u001b[1;33m:\u001b[0m\u001b[1;33m\u001b[0m\u001b[0m\n\u001b[0m\u001b[1;32m   2436\u001b[0m             \u001b[0mresult\u001b[0m \u001b[1;33m=\u001b[0m \u001b[0mless_equal\u001b[0m\u001b[1;33m(\u001b[0m\u001b[0mabs\u001b[0m\u001b[1;33m(\u001b[0m\u001b[0mx\u001b[0m\u001b[1;33m-\u001b[0m\u001b[0my\u001b[0m\u001b[1;33m)\u001b[0m\u001b[1;33m,\u001b[0m \u001b[0matol\u001b[0m \u001b[1;33m+\u001b[0m \u001b[0mrtol\u001b[0m \u001b[1;33m*\u001b[0m \u001b[0mabs\u001b[0m\u001b[1;33m(\u001b[0m\u001b[0my\u001b[0m\u001b[1;33m)\u001b[0m\u001b[1;33m)\u001b[0m\u001b[1;33m\u001b[0m\u001b[0m\n\u001b[1;32m   2437\u001b[0m         \u001b[1;32mif\u001b[0m \u001b[0misscalar\u001b[0m\u001b[1;33m(\u001b[0m\u001b[0ma\u001b[0m\u001b[1;33m)\u001b[0m \u001b[1;32mand\u001b[0m \u001b[0misscalar\u001b[0m\u001b[1;33m(\u001b[0m\u001b[0mb\u001b[0m\u001b[1;33m)\u001b[0m\u001b[1;33m:\u001b[0m\u001b[1;33m\u001b[0m\u001b[0m\n",
      "\u001b[0;32mC:\\Anaconda\\lib\\site-packages\\numpy\\core\\numeric.py\u001b[0m in \u001b[0;36m__enter__\u001b[0;34m(self)\u001b[0m\n\u001b[1;32m   2966\u001b[0m \u001b[1;33m\u001b[0m\u001b[0m\n\u001b[1;32m   2967\u001b[0m     \u001b[1;32mdef\u001b[0m \u001b[0m__enter__\u001b[0m\u001b[1;33m(\u001b[0m\u001b[0mself\u001b[0m\u001b[1;33m)\u001b[0m\u001b[1;33m:\u001b[0m\u001b[1;33m\u001b[0m\u001b[0m\n\u001b[0;32m-> 2968\u001b[0;31m         \u001b[0mself\u001b[0m\u001b[1;33m.\u001b[0m\u001b[0moldstate\u001b[0m \u001b[1;33m=\u001b[0m \u001b[0mseterr\u001b[0m\u001b[1;33m(\u001b[0m\u001b[1;33m**\u001b[0m\u001b[0mself\u001b[0m\u001b[1;33m.\u001b[0m\u001b[0mkwargs\u001b[0m\u001b[1;33m)\u001b[0m\u001b[1;33m\u001b[0m\u001b[0m\n\u001b[0m\u001b[1;32m   2969\u001b[0m         \u001b[1;32mif\u001b[0m \u001b[0mself\u001b[0m\u001b[1;33m.\u001b[0m\u001b[0mcall\u001b[0m \u001b[1;32mis\u001b[0m \u001b[1;32mnot\u001b[0m \u001b[0m_Unspecified\u001b[0m\u001b[1;33m:\u001b[0m\u001b[1;33m\u001b[0m\u001b[0m\n\u001b[1;32m   2970\u001b[0m             \u001b[0mself\u001b[0m\u001b[1;33m.\u001b[0m\u001b[0moldcall\u001b[0m \u001b[1;33m=\u001b[0m \u001b[0mseterrcall\u001b[0m\u001b[1;33m(\u001b[0m\u001b[0mself\u001b[0m\u001b[1;33m.\u001b[0m\u001b[0mcall\u001b[0m\u001b[1;33m)\u001b[0m\u001b[1;33m\u001b[0m\u001b[0m\n",
      "\u001b[0;32mC:\\Anaconda\\lib\\site-packages\\numpy\\core\\numeric.py\u001b[0m in \u001b[0;36mseterr\u001b[0;34m(all, divide, over, under, invalid)\u001b[0m\n\u001b[1;32m   2653\u001b[0m \u001b[1;33m\u001b[0m\u001b[0m\n\u001b[1;32m   2654\u001b[0m     \u001b[0mpyvals\u001b[0m \u001b[1;33m=\u001b[0m \u001b[0mumath\u001b[0m\u001b[1;33m.\u001b[0m\u001b[0mgeterrobj\u001b[0m\u001b[1;33m(\u001b[0m\u001b[1;33m)\u001b[0m\u001b[1;33m\u001b[0m\u001b[0m\n\u001b[0;32m-> 2655\u001b[0;31m     \u001b[0mold\u001b[0m \u001b[1;33m=\u001b[0m \u001b[0mgeterr\u001b[0m\u001b[1;33m(\u001b[0m\u001b[1;33m)\u001b[0m\u001b[1;33m\u001b[0m\u001b[0m\n\u001b[0m\u001b[1;32m   2656\u001b[0m \u001b[1;33m\u001b[0m\u001b[0m\n\u001b[1;32m   2657\u001b[0m     \u001b[1;32mif\u001b[0m \u001b[0mdivide\u001b[0m \u001b[1;32mis\u001b[0m \u001b[1;32mNone\u001b[0m\u001b[1;33m:\u001b[0m\u001b[1;33m\u001b[0m\u001b[0m\n",
      "\u001b[0;31mKeyboardInterrupt\u001b[0m: "
     ]
    }
   ],
   "source": [
    "blocks.plot()"
   ]
  },
  {
   "cell_type": "code",
   "execution_count": 29,
   "metadata": {
    "collapsed": false
   },
   "outputs": [
    {
     "data": {
      "text/plain": [
       "7386"
      ]
     },
     "execution_count": 29,
     "metadata": {},
     "output_type": "execute_result"
    }
   ],
   "source": [
    "len(merged)"
   ]
  },
  {
   "cell_type": "code",
   "execution_count": 30,
   "metadata": {
    "collapsed": false
   },
   "outputs": [
    {
     "data": {
      "text/plain": [
       "373714.0"
      ]
     },
     "execution_count": 30,
     "metadata": {},
     "output_type": "execute_result"
    }
   ],
   "source": [
    "merged.HOUSING09.sum()"
   ]
  },
  {
   "cell_type": "code",
   "execution_count": 31,
   "metadata": {
    "collapsed": false
   },
   "outputs": [
    {
     "data": {
      "text/plain": [
       "373714.0"
      ]
     },
     "execution_count": 31,
     "metadata": {},
     "output_type": "execute_result"
    }
   ],
   "source": [
    "hu09.HOUSING09.sum()"
   ]
  },
  {
   "cell_type": "code",
   "execution_count": 47,
   "metadata": {
    "collapsed": false
   },
   "outputs": [
    {
     "data": {
      "text/html": [
       "<div>\n",
       "<table border=\"1\" class=\"dataframe\">\n",
       "  <thead>\n",
       "    <tr style=\"text-align: right;\">\n",
       "      <th></th>\n",
       "      <th>ALAND10</th>\n",
       "      <th>AWATER10</th>\n",
       "      <th>BLOCKCE10</th>\n",
       "      <th>COUNTYFP10</th>\n",
       "      <th>FUNCSTAT10</th>\n",
       "      <th>GEOID10</th>\n",
       "      <th>INTPTLAT10</th>\n",
       "      <th>INTPTLON10</th>\n",
       "      <th>MTFCC10</th>\n",
       "      <th>NAME10</th>\n",
       "      <th>STATEFP10</th>\n",
       "      <th>TRACTCE10</th>\n",
       "      <th>UACE10</th>\n",
       "      <th>UATYP10</th>\n",
       "      <th>UR10</th>\n",
       "      <th>geometry</th>\n",
       "      <th>BLOCKCE</th>\n",
       "      <th>BLOCKID10</th>\n",
       "      <th>HOUSING10</th>\n",
       "      <th>PARTFLG</th>\n",
       "      <th>POP10</th>\n",
       "      <th>geometry_x</th>\n",
       "      <th>Unnamed: 0</th>\n",
       "      <th>NETUNITS</th>\n",
       "      <th>geometry_y</th>\n",
       "      <th>HOUSING09</th>\n",
       "    </tr>\n",
       "  </thead>\n",
       "  <tbody>\n",
       "    <tr>\n",
       "      <th>0</th>\n",
       "      <td>16958</td>\n",
       "      <td>0</td>\n",
       "      <td>2002</td>\n",
       "      <td>075</td>\n",
       "      <td>S</td>\n",
       "      <td>6.075021e+13</td>\n",
       "      <td>+37.7500665</td>\n",
       "      <td>-122.4410751</td>\n",
       "      <td>G5040</td>\n",
       "      <td>Block 2002</td>\n",
       "      <td>06</td>\n",
       "      <td>021300</td>\n",
       "      <td>78904</td>\n",
       "      <td>U</td>\n",
       "      <td>U</td>\n",
       "      <td>POLYGON ((-122.440616 37.750902, -122.440459 3...</td>\n",
       "      <td>2002</td>\n",
       "      <td>6.075021e+13</td>\n",
       "      <td>65</td>\n",
       "      <td>N</td>\n",
       "      <td>112</td>\n",
       "      <td>POLYGON ((-122.440616 37.750902, -122.440459 3...</td>\n",
       "      <td>2322</td>\n",
       "      <td>0.0</td>\n",
       "      <td>POLYGON ((-122.440616 37.750902, -122.440459 3...</td>\n",
       "      <td>65.0</td>\n",
       "    </tr>\n",
       "    <tr>\n",
       "      <th>1</th>\n",
       "      <td>16823</td>\n",
       "      <td>0</td>\n",
       "      <td>2000</td>\n",
       "      <td>075</td>\n",
       "      <td>S</td>\n",
       "      <td>6.075021e+13</td>\n",
       "      <td>+37.7501958</td>\n",
       "      <td>-122.4389330</td>\n",
       "      <td>G5040</td>\n",
       "      <td>Block 2000</td>\n",
       "      <td>06</td>\n",
       "      <td>021300</td>\n",
       "      <td>78904</td>\n",
       "      <td>U</td>\n",
       "      <td>U</td>\n",
       "      <td>POLYGON ((-122.438397 37.750226, -122.43832 37...</td>\n",
       "      <td>2000</td>\n",
       "      <td>6.075021e+13</td>\n",
       "      <td>64</td>\n",
       "      <td>N</td>\n",
       "      <td>152</td>\n",
       "      <td>POLYGON ((-122.438397 37.750226, -122.43832 37...</td>\n",
       "      <td>2320</td>\n",
       "      <td>0.0</td>\n",
       "      <td>POLYGON ((-122.438397 37.750226, -122.43832 37...</td>\n",
       "      <td>64.0</td>\n",
       "    </tr>\n",
       "    <tr>\n",
       "      <th>2</th>\n",
       "      <td>17020</td>\n",
       "      <td>0</td>\n",
       "      <td>3004</td>\n",
       "      <td>075</td>\n",
       "      <td>S</td>\n",
       "      <td>6.075021e+13</td>\n",
       "      <td>+37.7567937</td>\n",
       "      <td>-122.4362701</td>\n",
       "      <td>G5040</td>\n",
       "      <td>Block 3004</td>\n",
       "      <td>06</td>\n",
       "      <td>020500</td>\n",
       "      <td>78904</td>\n",
       "      <td>U</td>\n",
       "      <td>U</td>\n",
       "      <td>POLYGON ((-122.435808 37.757623, -122.435642 3...</td>\n",
       "      <td>3004</td>\n",
       "      <td>6.075021e+13</td>\n",
       "      <td>76</td>\n",
       "      <td>N</td>\n",
       "      <td>137</td>\n",
       "      <td>POLYGON ((-122.435808 37.757623, -122.435642 3...</td>\n",
       "      <td>2103</td>\n",
       "      <td>0.0</td>\n",
       "      <td>POLYGON ((-122.435808 37.757623, -122.435642 3...</td>\n",
       "      <td>76.0</td>\n",
       "    </tr>\n",
       "    <tr>\n",
       "      <th>3</th>\n",
       "      <td>16415</td>\n",
       "      <td>0</td>\n",
       "      <td>1003</td>\n",
       "      <td>075</td>\n",
       "      <td>S</td>\n",
       "      <td>6.075021e+13</td>\n",
       "      <td>+37.7535291</td>\n",
       "      <td>-122.4370498</td>\n",
       "      <td>G5040</td>\n",
       "      <td>Block 1003</td>\n",
       "      <td>06</td>\n",
       "      <td>021200</td>\n",
       "      <td>78904</td>\n",
       "      <td>U</td>\n",
       "      <td>U</td>\n",
       "      <td>POLYGON ((-122.436527 37.75354, -122.436454 37...</td>\n",
       "      <td>1003</td>\n",
       "      <td>6.075021e+13</td>\n",
       "      <td>74</td>\n",
       "      <td>N</td>\n",
       "      <td>157</td>\n",
       "      <td>POLYGON ((-122.436527 37.75354, -122.436454 37...</td>\n",
       "      <td>2292</td>\n",
       "      <td>0.0</td>\n",
       "      <td>POLYGON ((-122.436527 37.75354, -122.436454 37...</td>\n",
       "      <td>74.0</td>\n",
       "    </tr>\n",
       "    <tr>\n",
       "      <th>4</th>\n",
       "      <td>17523</td>\n",
       "      <td>0</td>\n",
       "      <td>4001</td>\n",
       "      <td>075</td>\n",
       "      <td>S</td>\n",
       "      <td>6.075021e+13</td>\n",
       "      <td>+37.7557580</td>\n",
       "      <td>-122.4334002</td>\n",
       "      <td>G5040</td>\n",
       "      <td>Block 4001</td>\n",
       "      <td>06</td>\n",
       "      <td>021100</td>\n",
       "      <td>78904</td>\n",
       "      <td>U</td>\n",
       "      <td>U</td>\n",
       "      <td>POLYGON ((-122.432331 37.756227, -122.432254 3...</td>\n",
       "      <td>4001</td>\n",
       "      <td>6.075021e+13</td>\n",
       "      <td>76</td>\n",
       "      <td>N</td>\n",
       "      <td>152</td>\n",
       "      <td>POLYGON ((-122.432331 37.756227, -122.432254 3...</td>\n",
       "      <td>2284</td>\n",
       "      <td>0.0</td>\n",
       "      <td>POLYGON ((-122.432331 37.756227, -122.432254 3...</td>\n",
       "      <td>76.0</td>\n",
       "    </tr>\n",
       "  </tbody>\n",
       "</table>\n",
       "</div>"
      ],
      "text/plain": [
       "   ALAND10  AWATER10 BLOCKCE10 COUNTYFP10 FUNCSTAT10       GEOID10  \\\n",
       "0    16958         0      2002        075          S  6.075021e+13   \n",
       "1    16823         0      2000        075          S  6.075021e+13   \n",
       "2    17020         0      3004        075          S  6.075021e+13   \n",
       "3    16415         0      1003        075          S  6.075021e+13   \n",
       "4    17523         0      4001        075          S  6.075021e+13   \n",
       "\n",
       "    INTPTLAT10    INTPTLON10 MTFCC10      NAME10 STATEFP10 TRACTCE10 UACE10  \\\n",
       "0  +37.7500665  -122.4410751   G5040  Block 2002        06    021300  78904   \n",
       "1  +37.7501958  -122.4389330   G5040  Block 2000        06    021300  78904   \n",
       "2  +37.7567937  -122.4362701   G5040  Block 3004        06    020500  78904   \n",
       "3  +37.7535291  -122.4370498   G5040  Block 1003        06    021200  78904   \n",
       "4  +37.7557580  -122.4334002   G5040  Block 4001        06    021100  78904   \n",
       "\n",
       "  UATYP10 UR10                                           geometry BLOCKCE  \\\n",
       "0       U    U  POLYGON ((-122.440616 37.750902, -122.440459 3...    2002   \n",
       "1       U    U  POLYGON ((-122.438397 37.750226, -122.43832 37...    2000   \n",
       "2       U    U  POLYGON ((-122.435808 37.757623, -122.435642 3...    3004   \n",
       "3       U    U  POLYGON ((-122.436527 37.75354, -122.436454 37...    1003   \n",
       "4       U    U  POLYGON ((-122.432331 37.756227, -122.432254 3...    4001   \n",
       "\n",
       "      BLOCKID10  HOUSING10 PARTFLG  POP10  \\\n",
       "0  6.075021e+13         65       N    112   \n",
       "1  6.075021e+13         64       N    152   \n",
       "2  6.075021e+13         76       N    137   \n",
       "3  6.075021e+13         74       N    157   \n",
       "4  6.075021e+13         76       N    152   \n",
       "\n",
       "                                          geometry_x  Unnamed: 0  NETUNITS  \\\n",
       "0  POLYGON ((-122.440616 37.750902, -122.440459 3...        2322       0.0   \n",
       "1  POLYGON ((-122.438397 37.750226, -122.43832 37...        2320       0.0   \n",
       "2  POLYGON ((-122.435808 37.757623, -122.435642 3...        2103       0.0   \n",
       "3  POLYGON ((-122.436527 37.75354, -122.436454 37...        2292       0.0   \n",
       "4  POLYGON ((-122.432331 37.756227, -122.432254 3...        2284       0.0   \n",
       "\n",
       "                                          geometry_y  HOUSING09  \n",
       "0  POLYGON ((-122.440616 37.750902, -122.440459 3...       65.0  \n",
       "1  POLYGON ((-122.438397 37.750226, -122.43832 37...       64.0  \n",
       "2  POLYGON ((-122.435808 37.757623, -122.435642 3...       76.0  \n",
       "3  POLYGON ((-122.436527 37.75354, -122.436454 37...       74.0  \n",
       "4  POLYGON ((-122.432331 37.756227, -122.432254 3...       76.0  "
      ]
     },
     "execution_count": 47,
     "metadata": {},
     "output_type": "execute_result"
    }
   ],
   "source": [
    "merged.head()"
   ]
  },
  {
   "cell_type": "code",
   "execution_count": 53,
   "metadata": {
    "collapsed": true
   },
   "outputs": [],
   "source": [
    "final = gp.GeoDataFrame(columns = ['BLOCKID10','geometry','HOUSING_09'],crs = merged.crs)"
   ]
  },
  {
   "cell_type": "code",
   "execution_count": 54,
   "metadata": {
    "collapsed": false
   },
   "outputs": [],
   "source": [
    "final['BLOCKID10'] = merged['BLOCKID10']\n",
    "final['geometry'] = merged['geometry']\n",
    "final['HOUSING_09'] = merged['HOUSING09']"
   ]
  },
  {
   "cell_type": "code",
   "execution_count": 55,
   "metadata": {
    "collapsed": false
   },
   "outputs": [],
   "source": [
    "final.to_file('E:/Transit-Casa-Alex/Output/Housing Units/2009/SF_Housing.shp',driver = 'ESRI Shapefile')"
   ]
  },
  {
   "cell_type": "code",
   "execution_count": 52,
   "metadata": {
    "collapsed": false
   },
   "outputs": [
    {
     "ename": "ValueError",
     "evalue": "Invalid field type <class 'shapely.geometry.polygon.Polygon'>",
     "output_type": "error",
     "traceback": [
      "\u001b[0;31m---------------------------------------------------------------------------\u001b[0m",
      "\u001b[0;31mValueError\u001b[0m                                Traceback (most recent call last)",
      "\u001b[0;32m<ipython-input-52-a2c29a4a6d7f>\u001b[0m in \u001b[0;36m<module>\u001b[0;34m()\u001b[0m\n\u001b[0;32m----> 1\u001b[0;31m \u001b[0mmerged\u001b[0m\u001b[1;33m.\u001b[0m\u001b[0mto_file\u001b[0m\u001b[1;33m(\u001b[0m\u001b[1;34m'fuck.shp'\u001b[0m\u001b[1;33m)\u001b[0m\u001b[1;33m\u001b[0m\u001b[0m\n\u001b[0m",
      "\u001b[0;32mC:\\Anaconda\\lib\\site-packages\\geopandas\\geodataframe.py\u001b[0m in \u001b[0;36mto_file\u001b[0;34m(self, filename, driver, schema, **kwargs)\u001b[0m\n\u001b[1;32m    341\u001b[0m         \"\"\"\n\u001b[1;32m    342\u001b[0m         \u001b[1;32mfrom\u001b[0m \u001b[0mgeopandas\u001b[0m\u001b[1;33m.\u001b[0m\u001b[0mio\u001b[0m\u001b[1;33m.\u001b[0m\u001b[0mfile\u001b[0m \u001b[1;32mimport\u001b[0m \u001b[0mto_file\u001b[0m\u001b[1;33m\u001b[0m\u001b[0m\n\u001b[0;32m--> 343\u001b[0;31m         \u001b[0mto_file\u001b[0m\u001b[1;33m(\u001b[0m\u001b[0mself\u001b[0m\u001b[1;33m,\u001b[0m \u001b[0mfilename\u001b[0m\u001b[1;33m,\u001b[0m \u001b[0mdriver\u001b[0m\u001b[1;33m,\u001b[0m \u001b[0mschema\u001b[0m\u001b[1;33m,\u001b[0m \u001b[1;33m**\u001b[0m\u001b[0mkwargs\u001b[0m\u001b[1;33m)\u001b[0m\u001b[1;33m\u001b[0m\u001b[0m\n\u001b[0m\u001b[1;32m    344\u001b[0m \u001b[1;33m\u001b[0m\u001b[0m\n\u001b[1;32m    345\u001b[0m     \u001b[1;32mdef\u001b[0m \u001b[0mto_crs\u001b[0m\u001b[1;33m(\u001b[0m\u001b[0mself\u001b[0m\u001b[1;33m,\u001b[0m \u001b[0mcrs\u001b[0m\u001b[1;33m=\u001b[0m\u001b[1;32mNone\u001b[0m\u001b[1;33m,\u001b[0m \u001b[0mepsg\u001b[0m\u001b[1;33m=\u001b[0m\u001b[1;32mNone\u001b[0m\u001b[1;33m,\u001b[0m \u001b[0minplace\u001b[0m\u001b[1;33m=\u001b[0m\u001b[1;32mFalse\u001b[0m\u001b[1;33m)\u001b[0m\u001b[1;33m:\u001b[0m\u001b[1;33m\u001b[0m\u001b[0m\n",
      "\u001b[0;32mC:\\Anaconda\\lib\\site-packages\\geopandas\\io\\file.py\u001b[0m in \u001b[0;36mto_file\u001b[0;34m(df, filename, driver, schema, **kwargs)\u001b[0m\n\u001b[1;32m     61\u001b[0m                     schema=schema, **kwargs) as c:\n\u001b[1;32m     62\u001b[0m         \u001b[1;32mfor\u001b[0m \u001b[0mfeature\u001b[0m \u001b[1;32min\u001b[0m \u001b[0mdf\u001b[0m\u001b[1;33m.\u001b[0m\u001b[0miterfeatures\u001b[0m\u001b[1;33m(\u001b[0m\u001b[1;33m)\u001b[0m\u001b[1;33m:\u001b[0m\u001b[1;33m\u001b[0m\u001b[0m\n\u001b[0;32m---> 63\u001b[0;31m             \u001b[0mc\u001b[0m\u001b[1;33m.\u001b[0m\u001b[0mwrite\u001b[0m\u001b[1;33m(\u001b[0m\u001b[0mfeature\u001b[0m\u001b[1;33m)\u001b[0m\u001b[1;33m\u001b[0m\u001b[0m\n\u001b[0m\u001b[1;32m     64\u001b[0m \u001b[1;33m\u001b[0m\u001b[0m\n\u001b[1;32m     65\u001b[0m \u001b[1;33m\u001b[0m\u001b[0m\n",
      "\u001b[0;32mC:\\Anaconda\\lib\\site-packages\\fiona\\collection.py\u001b[0m in \u001b[0;36mwrite\u001b[0;34m(self, record)\u001b[0m\n\u001b[1;32m    337\u001b[0m     \u001b[1;32mdef\u001b[0m \u001b[0mwrite\u001b[0m\u001b[1;33m(\u001b[0m\u001b[0mself\u001b[0m\u001b[1;33m,\u001b[0m \u001b[0mrecord\u001b[0m\u001b[1;33m)\u001b[0m\u001b[1;33m:\u001b[0m\u001b[1;33m\u001b[0m\u001b[0m\n\u001b[1;32m    338\u001b[0m         \u001b[1;34m\"\"\"Stages a record for writing to disk.\"\"\"\u001b[0m\u001b[1;33m\u001b[0m\u001b[0m\n\u001b[0;32m--> 339\u001b[0;31m         \u001b[0mself\u001b[0m\u001b[1;33m.\u001b[0m\u001b[0mwriterecords\u001b[0m\u001b[1;33m(\u001b[0m\u001b[1;33m[\u001b[0m\u001b[0mrecord\u001b[0m\u001b[1;33m]\u001b[0m\u001b[1;33m)\u001b[0m\u001b[1;33m\u001b[0m\u001b[0m\n\u001b[0m\u001b[1;32m    340\u001b[0m \u001b[1;33m\u001b[0m\u001b[0m\n\u001b[1;32m    341\u001b[0m     \u001b[1;32mdef\u001b[0m \u001b[0mvalidate_record\u001b[0m\u001b[1;33m(\u001b[0m\u001b[0mself\u001b[0m\u001b[1;33m,\u001b[0m \u001b[0mrecord\u001b[0m\u001b[1;33m)\u001b[0m\u001b[1;33m:\u001b[0m\u001b[1;33m\u001b[0m\u001b[0m\n",
      "\u001b[0;32mC:\\Anaconda\\lib\\site-packages\\fiona\\collection.py\u001b[0m in \u001b[0;36mwriterecords\u001b[0;34m(self, records)\u001b[0m\n\u001b[1;32m    331\u001b[0m         \u001b[1;32mif\u001b[0m \u001b[0mself\u001b[0m\u001b[1;33m.\u001b[0m\u001b[0mmode\u001b[0m \u001b[1;32mnot\u001b[0m \u001b[1;32min\u001b[0m \u001b[1;33m(\u001b[0m\u001b[1;34m'a'\u001b[0m\u001b[1;33m,\u001b[0m \u001b[1;34m'w'\u001b[0m\u001b[1;33m)\u001b[0m\u001b[1;33m:\u001b[0m\u001b[1;33m\u001b[0m\u001b[0m\n\u001b[1;32m    332\u001b[0m             \u001b[1;32mraise\u001b[0m \u001b[0mIOError\u001b[0m\u001b[1;33m(\u001b[0m\u001b[1;34m\"collection not open for writing\"\u001b[0m\u001b[1;33m)\u001b[0m\u001b[1;33m\u001b[0m\u001b[0m\n\u001b[0;32m--> 333\u001b[0;31m         \u001b[0mself\u001b[0m\u001b[1;33m.\u001b[0m\u001b[0msession\u001b[0m\u001b[1;33m.\u001b[0m\u001b[0mwriterecs\u001b[0m\u001b[1;33m(\u001b[0m\u001b[0mrecords\u001b[0m\u001b[1;33m,\u001b[0m \u001b[0mself\u001b[0m\u001b[1;33m)\u001b[0m\u001b[1;33m\u001b[0m\u001b[0m\n\u001b[0m\u001b[1;32m    334\u001b[0m         \u001b[0mself\u001b[0m\u001b[1;33m.\u001b[0m\u001b[0m_len\u001b[0m \u001b[1;33m=\u001b[0m \u001b[0mself\u001b[0m\u001b[1;33m.\u001b[0m\u001b[0msession\u001b[0m\u001b[1;33m.\u001b[0m\u001b[0mget_length\u001b[0m\u001b[1;33m(\u001b[0m\u001b[1;33m)\u001b[0m\u001b[1;33m\u001b[0m\u001b[0m\n\u001b[1;32m    335\u001b[0m         \u001b[0mself\u001b[0m\u001b[1;33m.\u001b[0m\u001b[0m_bounds\u001b[0m \u001b[1;33m=\u001b[0m \u001b[0mself\u001b[0m\u001b[1;33m.\u001b[0m\u001b[0msession\u001b[0m\u001b[1;33m.\u001b[0m\u001b[0mget_extent\u001b[0m\u001b[1;33m(\u001b[0m\u001b[1;33m)\u001b[0m\u001b[1;33m\u001b[0m\u001b[0m\n",
      "\u001b[0;32mfiona\\ogrext.pyx\u001b[0m in \u001b[0;36mfiona.ogrext.WritingSession.writerecs (fiona/ogrext.c:18412)\u001b[0;34m()\u001b[0m\n",
      "\u001b[0;32mfiona\\ogrext.pyx\u001b[0m in \u001b[0;36mfiona.ogrext.OGRFeatureBuilder.build (fiona/ogrext.c:7387)\u001b[0;34m()\u001b[0m\n",
      "\u001b[0;31mValueError\u001b[0m: Invalid field type <class 'shapely.geometry.polygon.Polygon'>"
     ]
    }
   ],
   "source": [
    "merged.to_file('fuck.shp')"
   ]
  },
  {
   "cell_type": "code",
   "execution_count": 35,
   "metadata": {
    "collapsed": false
   },
   "outputs": [
    {
     "data": {
      "text/html": [
       "<div>\n",
       "<table border=\"1\" class=\"dataframe\">\n",
       "  <thead>\n",
       "    <tr style=\"text-align: right;\">\n",
       "      <th></th>\n",
       "      <th>ALAND10</th>\n",
       "      <th>AWATER10</th>\n",
       "      <th>BLOCKCE10</th>\n",
       "      <th>COUNTYFP10</th>\n",
       "      <th>FUNCSTAT10</th>\n",
       "      <th>GEOID10</th>\n",
       "      <th>INTPTLAT10</th>\n",
       "      <th>INTPTLON10</th>\n",
       "      <th>MTFCC10</th>\n",
       "      <th>NAME10</th>\n",
       "      <th>STATEFP10</th>\n",
       "      <th>TRACTCE10</th>\n",
       "      <th>UACE10</th>\n",
       "      <th>UATYP10</th>\n",
       "      <th>UR10</th>\n",
       "      <th>geometry</th>\n",
       "      <th>BLOCKCE</th>\n",
       "      <th>BLOCKID10</th>\n",
       "      <th>HOUSING10</th>\n",
       "      <th>PARTFLG</th>\n",
       "      <th>POP10</th>\n",
       "      <th>geometry_x</th>\n",
       "      <th>Unnamed: 0</th>\n",
       "      <th>NETUNITS</th>\n",
       "      <th>geometry_y</th>\n",
       "      <th>HOUSING09</th>\n",
       "    </tr>\n",
       "  </thead>\n",
       "  <tbody>\n",
       "    <tr>\n",
       "      <th>0</th>\n",
       "      <td>16958</td>\n",
       "      <td>0</td>\n",
       "      <td>2002</td>\n",
       "      <td>075</td>\n",
       "      <td>S</td>\n",
       "      <td>6.075021e+13</td>\n",
       "      <td>+37.7500665</td>\n",
       "      <td>-122.4410751</td>\n",
       "      <td>G5040</td>\n",
       "      <td>Block 2002</td>\n",
       "      <td>06</td>\n",
       "      <td>021300</td>\n",
       "      <td>78904</td>\n",
       "      <td>U</td>\n",
       "      <td>U</td>\n",
       "      <td>POLYGON ((-122.440616 37.750902, -122.440459 3...</td>\n",
       "      <td>2002</td>\n",
       "      <td>6.075021e+13</td>\n",
       "      <td>65</td>\n",
       "      <td>N</td>\n",
       "      <td>112</td>\n",
       "      <td>POLYGON ((-122.440616 37.750902, -122.440459 3...</td>\n",
       "      <td>2322</td>\n",
       "      <td>0.0</td>\n",
       "      <td>POLYGON ((-122.440616 37.750902, -122.440459 3...</td>\n",
       "      <td>65.0</td>\n",
       "    </tr>\n",
       "    <tr>\n",
       "      <th>1</th>\n",
       "      <td>16823</td>\n",
       "      <td>0</td>\n",
       "      <td>2000</td>\n",
       "      <td>075</td>\n",
       "      <td>S</td>\n",
       "      <td>6.075021e+13</td>\n",
       "      <td>+37.7501958</td>\n",
       "      <td>-122.4389330</td>\n",
       "      <td>G5040</td>\n",
       "      <td>Block 2000</td>\n",
       "      <td>06</td>\n",
       "      <td>021300</td>\n",
       "      <td>78904</td>\n",
       "      <td>U</td>\n",
       "      <td>U</td>\n",
       "      <td>POLYGON ((-122.438397 37.750226, -122.43832 37...</td>\n",
       "      <td>2000</td>\n",
       "      <td>6.075021e+13</td>\n",
       "      <td>64</td>\n",
       "      <td>N</td>\n",
       "      <td>152</td>\n",
       "      <td>POLYGON ((-122.438397 37.750226, -122.43832 37...</td>\n",
       "      <td>2320</td>\n",
       "      <td>0.0</td>\n",
       "      <td>POLYGON ((-122.438397 37.750226, -122.43832 37...</td>\n",
       "      <td>64.0</td>\n",
       "    </tr>\n",
       "    <tr>\n",
       "      <th>2</th>\n",
       "      <td>17020</td>\n",
       "      <td>0</td>\n",
       "      <td>3004</td>\n",
       "      <td>075</td>\n",
       "      <td>S</td>\n",
       "      <td>6.075021e+13</td>\n",
       "      <td>+37.7567937</td>\n",
       "      <td>-122.4362701</td>\n",
       "      <td>G5040</td>\n",
       "      <td>Block 3004</td>\n",
       "      <td>06</td>\n",
       "      <td>020500</td>\n",
       "      <td>78904</td>\n",
       "      <td>U</td>\n",
       "      <td>U</td>\n",
       "      <td>POLYGON ((-122.435808 37.757623, -122.435642 3...</td>\n",
       "      <td>3004</td>\n",
       "      <td>6.075021e+13</td>\n",
       "      <td>76</td>\n",
       "      <td>N</td>\n",
       "      <td>137</td>\n",
       "      <td>POLYGON ((-122.435808 37.757623, -122.435642 3...</td>\n",
       "      <td>2103</td>\n",
       "      <td>0.0</td>\n",
       "      <td>POLYGON ((-122.435808 37.757623, -122.435642 3...</td>\n",
       "      <td>76.0</td>\n",
       "    </tr>\n",
       "    <tr>\n",
       "      <th>3</th>\n",
       "      <td>16415</td>\n",
       "      <td>0</td>\n",
       "      <td>1003</td>\n",
       "      <td>075</td>\n",
       "      <td>S</td>\n",
       "      <td>6.075021e+13</td>\n",
       "      <td>+37.7535291</td>\n",
       "      <td>-122.4370498</td>\n",
       "      <td>G5040</td>\n",
       "      <td>Block 1003</td>\n",
       "      <td>06</td>\n",
       "      <td>021200</td>\n",
       "      <td>78904</td>\n",
       "      <td>U</td>\n",
       "      <td>U</td>\n",
       "      <td>POLYGON ((-122.436527 37.75354, -122.436454 37...</td>\n",
       "      <td>1003</td>\n",
       "      <td>6.075021e+13</td>\n",
       "      <td>74</td>\n",
       "      <td>N</td>\n",
       "      <td>157</td>\n",
       "      <td>POLYGON ((-122.436527 37.75354, -122.436454 37...</td>\n",
       "      <td>2292</td>\n",
       "      <td>0.0</td>\n",
       "      <td>POLYGON ((-122.436527 37.75354, -122.436454 37...</td>\n",
       "      <td>74.0</td>\n",
       "    </tr>\n",
       "    <tr>\n",
       "      <th>4</th>\n",
       "      <td>17523</td>\n",
       "      <td>0</td>\n",
       "      <td>4001</td>\n",
       "      <td>075</td>\n",
       "      <td>S</td>\n",
       "      <td>6.075021e+13</td>\n",
       "      <td>+37.7557580</td>\n",
       "      <td>-122.4334002</td>\n",
       "      <td>G5040</td>\n",
       "      <td>Block 4001</td>\n",
       "      <td>06</td>\n",
       "      <td>021100</td>\n",
       "      <td>78904</td>\n",
       "      <td>U</td>\n",
       "      <td>U</td>\n",
       "      <td>POLYGON ((-122.432331 37.756227, -122.432254 3...</td>\n",
       "      <td>4001</td>\n",
       "      <td>6.075021e+13</td>\n",
       "      <td>76</td>\n",
       "      <td>N</td>\n",
       "      <td>152</td>\n",
       "      <td>POLYGON ((-122.432331 37.756227, -122.432254 3...</td>\n",
       "      <td>2284</td>\n",
       "      <td>0.0</td>\n",
       "      <td>POLYGON ((-122.432331 37.756227, -122.432254 3...</td>\n",
       "      <td>76.0</td>\n",
       "    </tr>\n",
       "  </tbody>\n",
       "</table>\n",
       "</div>"
      ],
      "text/plain": [
       "   ALAND10  AWATER10 BLOCKCE10 COUNTYFP10 FUNCSTAT10       GEOID10  \\\n",
       "0    16958         0      2002        075          S  6.075021e+13   \n",
       "1    16823         0      2000        075          S  6.075021e+13   \n",
       "2    17020         0      3004        075          S  6.075021e+13   \n",
       "3    16415         0      1003        075          S  6.075021e+13   \n",
       "4    17523         0      4001        075          S  6.075021e+13   \n",
       "\n",
       "    INTPTLAT10    INTPTLON10 MTFCC10      NAME10 STATEFP10 TRACTCE10 UACE10  \\\n",
       "0  +37.7500665  -122.4410751   G5040  Block 2002        06    021300  78904   \n",
       "1  +37.7501958  -122.4389330   G5040  Block 2000        06    021300  78904   \n",
       "2  +37.7567937  -122.4362701   G5040  Block 3004        06    020500  78904   \n",
       "3  +37.7535291  -122.4370498   G5040  Block 1003        06    021200  78904   \n",
       "4  +37.7557580  -122.4334002   G5040  Block 4001        06    021100  78904   \n",
       "\n",
       "  UATYP10 UR10                                           geometry BLOCKCE  \\\n",
       "0       U    U  POLYGON ((-122.440616 37.750902, -122.440459 3...    2002   \n",
       "1       U    U  POLYGON ((-122.438397 37.750226, -122.43832 37...    2000   \n",
       "2       U    U  POLYGON ((-122.435808 37.757623, -122.435642 3...    3004   \n",
       "3       U    U  POLYGON ((-122.436527 37.75354, -122.436454 37...    1003   \n",
       "4       U    U  POLYGON ((-122.432331 37.756227, -122.432254 3...    4001   \n",
       "\n",
       "      BLOCKID10  HOUSING10 PARTFLG  POP10  \\\n",
       "0  6.075021e+13         65       N    112   \n",
       "1  6.075021e+13         64       N    152   \n",
       "2  6.075021e+13         76       N    137   \n",
       "3  6.075021e+13         74       N    157   \n",
       "4  6.075021e+13         76       N    152   \n",
       "\n",
       "                                          geometry_x  Unnamed: 0  NETUNITS  \\\n",
       "0  POLYGON ((-122.440616 37.750902, -122.440459 3...        2322       0.0   \n",
       "1  POLYGON ((-122.438397 37.750226, -122.43832 37...        2320       0.0   \n",
       "2  POLYGON ((-122.435808 37.757623, -122.435642 3...        2103       0.0   \n",
       "3  POLYGON ((-122.436527 37.75354, -122.436454 37...        2292       0.0   \n",
       "4  POLYGON ((-122.432331 37.756227, -122.432254 3...        2284       0.0   \n",
       "\n",
       "                                          geometry_y  HOUSING09  \n",
       "0  POLYGON ((-122.440616 37.750902, -122.440459 3...       65.0  \n",
       "1  POLYGON ((-122.438397 37.750226, -122.43832 37...       64.0  \n",
       "2  POLYGON ((-122.435808 37.757623, -122.435642 3...       76.0  \n",
       "3  POLYGON ((-122.436527 37.75354, -122.436454 37...       74.0  \n",
       "4  POLYGON ((-122.432331 37.756227, -122.432254 3...       76.0  "
      ]
     },
     "execution_count": 35,
     "metadata": {},
     "output_type": "execute_result"
    }
   ],
   "source": [
    "pd.options.display.max_columns = 999\n",
    "merged.head()"
   ]
  },
  {
   "cell_type": "code",
   "execution_count": null,
   "metadata": {
    "collapsed": true
   },
   "outputs": [],
   "source": []
  }
 ],
 "metadata": {
  "kernelspec": {
   "display_name": "Python [conda root]",
   "language": "python",
   "name": "conda-root-py"
  },
  "language_info": {
   "codemirror_mode": {
    "name": "ipython",
    "version": 3
   },
   "file_extension": ".py",
   "mimetype": "text/x-python",
   "name": "python",
   "nbconvert_exporter": "python",
   "pygments_lexer": "ipython3",
   "version": "3.5.2"
  }
 },
 "nbformat": 4,
 "nbformat_minor": 1
}
