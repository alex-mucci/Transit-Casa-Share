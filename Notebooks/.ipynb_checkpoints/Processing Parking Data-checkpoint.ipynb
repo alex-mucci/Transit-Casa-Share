{
 "cells": [
  {
   "cell_type": "code",
   "execution_count": 38,
   "metadata": {
    "collapsed": true
   },
   "outputs": [],
   "source": [
    "import pandas as pd\n",
    "import geopandas as gp\n",
    "import numpy as np\n",
    "%matplotlib inline"
   ]
  },
  {
   "cell_type": "code",
   "execution_count": 260,
   "metadata": {
    "collapsed": true
   },
   "outputs": [],
   "source": [
    "on_park = pd.read_csv('E:\\Transit-Casa-Alex\\Input\\Parking\\Demand/On Street Parking Demand.csv')"
   ]
  },
  {
   "cell_type": "code",
   "execution_count": 40,
   "metadata": {
    "collapsed": false
   },
   "outputs": [
    {
     "data": {
      "text/html": [
       "<div>\n",
       "<table border=\"1\" class=\"dataframe\">\n",
       "  <thead>\n",
       "    <tr style=\"text-align: right;\">\n",
       "      <th></th>\n",
       "      <th>MAZ</th>\n",
       "      <th>Average Hourly Price</th>\n",
       "    </tr>\n",
       "  </thead>\n",
       "  <tbody>\n",
       "    <tr>\n",
       "      <th>0</th>\n",
       "      <td>10001</td>\n",
       "      <td>0</td>\n",
       "    </tr>\n",
       "    <tr>\n",
       "      <th>1</th>\n",
       "      <td>10002</td>\n",
       "      <td>0</td>\n",
       "    </tr>\n",
       "    <tr>\n",
       "      <th>2</th>\n",
       "      <td>10003</td>\n",
       "      <td>0</td>\n",
       "    </tr>\n",
       "    <tr>\n",
       "      <th>3</th>\n",
       "      <td>10004</td>\n",
       "      <td>0</td>\n",
       "    </tr>\n",
       "    <tr>\n",
       "      <th>4</th>\n",
       "      <td>10005</td>\n",
       "      <td>0</td>\n",
       "    </tr>\n",
       "  </tbody>\n",
       "</table>\n",
       "</div>"
      ],
      "text/plain": [
       "     MAZ  Average Hourly Price\n",
       "0  10001                     0\n",
       "1  10002                     0\n",
       "2  10003                     0\n",
       "3  10004                     0\n",
       "4  10005                     0"
      ]
     },
     "execution_count": 40,
     "metadata": {},
     "output_type": "execute_result"
    }
   ],
   "source": [
    "on_park.head()"
   ]
  },
  {
   "cell_type": "code",
   "execution_count": 261,
   "metadata": {
    "collapsed": false
   },
   "outputs": [
    {
     "data": {
      "text/plain": [
       "array([  0, 200, 350, 203, 137,  93, 274, 191, 317, 213, 201, 211, 218,\n",
       "       300, 166, 150, 158, 400, 423, 361,  55, 394, 387, 217, 190, 255,\n",
       "       207, 227, 179, 351, 411, 318, 194, 172, 147, 186, 117, 231, 171,\n",
       "       313, 236, 301, 170, 187, 154, 259, 267, 244, 155, 396, 475, 181,\n",
       "       125, 142,  75,  58, 151, 182, 180, 462, 189, 174, 162, 450, 454,\n",
       "       383, 330,  73, 376, 323, 136, 130,  98, 261, 495, 399, 479, 159,\n",
       "       164, 242, 252, 480, 245, 173, 273, 279, 336, 138, 327, 250, 425,\n",
       "       406, 160, 525, 355, 206, 434, 500, 284, 175, 177, 215, 291, 275,\n",
       "       303, 289, 277, 321, 122, 319, 280, 367, 127, 444, 131, 230, 214,\n",
       "       212,  96, 228, 185, 357, 233, 272, 270, 334, 198, 121, 253, 306,\n",
       "       310, 287, 246, 184, 309, 183, 161, 292, 297, 223, 168, 384, 340,\n",
       "       108, 232, 167, 417, 178, 271,  82, 176, 316, 322, 342, 128, 220,\n",
       "       240, 374, 281,  64, 140, 257, 315, 268, 205, 329, 375, 359, 362,\n",
       "       258, 296, 341, 371, 467, 393, 345, 192,  89, 100, 210, 266, 219,\n",
       "       290, 356,  40, 102, 433, 188, 144, 248, 238, 363, 534, 461, 553,\n",
       "        63, 283, 153, 308, 385, 299, 265, 348, 129, 243, 221, 416, 165,\n",
       "       305, 326, 398, 285,  76,  30, 295, 410, 234, 365, 107, 302, 293,\n",
       "       307, 517, 466, 229, 247, 343, 156, 408, 344, 418, 409, 222, 320,\n",
       "       197, 249, 412, 114, 196, -99], dtype=int64)"
      ]
     },
     "execution_count": 261,
     "metadata": {},
     "output_type": "execute_result"
    }
   ],
   "source": [
    "on_park['Average Hourly Price'].unique()"
   ]
  },
  {
   "cell_type": "code",
   "execution_count": 262,
   "metadata": {
    "collapsed": true
   },
   "outputs": [],
   "source": [
    "off_park = pd.read_csv('E:\\Transit-Casa-Alex\\Input\\Parking\\Demand/Off Street Parking Demand.csv')"
   ]
  },
  {
   "cell_type": "code",
   "execution_count": 263,
   "metadata": {
    "collapsed": false
   },
   "outputs": [
    {
     "data": {
      "text/html": [
       "<div>\n",
       "<table border=\"1\" class=\"dataframe\">\n",
       "  <thead>\n",
       "    <tr style=\"text-align: right;\">\n",
       "      <th></th>\n",
       "      <th>MAZ</th>\n",
       "      <th>PRICE1HR</th>\n",
       "      <th>PRICE2HR</th>\n",
       "      <th>PRICE3HR</th>\n",
       "      <th>PRICE4HR</th>\n",
       "      <th>PRICE12HR</th>\n",
       "      <th>PRICEDAY</th>\n",
       "      <th>PRICEDAYDISCOUNT</th>\n",
       "    </tr>\n",
       "  </thead>\n",
       "  <tbody>\n",
       "    <tr>\n",
       "      <th>0</th>\n",
       "      <td>10377</td>\n",
       "      <td>2000</td>\n",
       "      <td>2000</td>\n",
       "      <td>2000</td>\n",
       "      <td>2000</td>\n",
       "      <td>2000</td>\n",
       "      <td>2000</td>\n",
       "      <td>1460</td>\n",
       "    </tr>\n",
       "    <tr>\n",
       "      <th>1</th>\n",
       "      <td>13915</td>\n",
       "      <td>400</td>\n",
       "      <td>800</td>\n",
       "      <td>1200</td>\n",
       "      <td>1600</td>\n",
       "      <td>3000</td>\n",
       "      <td>3000</td>\n",
       "      <td>3000</td>\n",
       "    </tr>\n",
       "    <tr>\n",
       "      <th>2</th>\n",
       "      <td>12107</td>\n",
       "      <td>1200</td>\n",
       "      <td>1200</td>\n",
       "      <td>1200</td>\n",
       "      <td>1200</td>\n",
       "      <td>1200</td>\n",
       "      <td>1200</td>\n",
       "      <td>1200</td>\n",
       "    </tr>\n",
       "    <tr>\n",
       "      <th>3</th>\n",
       "      <td>16469</td>\n",
       "      <td>1000</td>\n",
       "      <td>1000</td>\n",
       "      <td>1000</td>\n",
       "      <td>1000</td>\n",
       "      <td>1000</td>\n",
       "      <td>1000</td>\n",
       "      <td>1000</td>\n",
       "    </tr>\n",
       "    <tr>\n",
       "      <th>4</th>\n",
       "      <td>12862</td>\n",
       "      <td>900</td>\n",
       "      <td>900</td>\n",
       "      <td>900</td>\n",
       "      <td>900</td>\n",
       "      <td>900</td>\n",
       "      <td>900</td>\n",
       "      <td>900</td>\n",
       "    </tr>\n",
       "  </tbody>\n",
       "</table>\n",
       "</div>"
      ],
      "text/plain": [
       "     MAZ  PRICE1HR  PRICE2HR  PRICE3HR  PRICE4HR  PRICE12HR  PRICEDAY  \\\n",
       "0  10377      2000      2000      2000      2000       2000      2000   \n",
       "1  13915       400       800      1200      1600       3000      3000   \n",
       "2  12107      1200      1200      1200      1200       1200      1200   \n",
       "3  16469      1000      1000      1000      1000       1000      1000   \n",
       "4  12862       900       900       900       900        900       900   \n",
       "\n",
       "   PRICEDAYDISCOUNT  \n",
       "0              1460  \n",
       "1              3000  \n",
       "2              1200  \n",
       "3              1000  \n",
       "4               900  "
      ]
     },
     "execution_count": 263,
     "metadata": {},
     "output_type": "execute_result"
    }
   ],
   "source": [
    "off_park.head()"
   ]
  },
  {
   "cell_type": "code",
   "execution_count": 264,
   "metadata": {
    "collapsed": true
   },
   "outputs": [],
   "source": [
    "off_res = pd.read_csv('E:\\Transit-Casa-Alex\\Input\\Parking\\Demand/Off Street Residential Parking Demand.csv')"
   ]
  },
  {
   "cell_type": "code",
   "execution_count": 265,
   "metadata": {
    "collapsed": false
   },
   "outputs": [
    {
     "data": {
      "text/html": [
       "<div>\n",
       "<table border=\"1\" class=\"dataframe\">\n",
       "  <thead>\n",
       "    <tr style=\"text-align: right;\">\n",
       "      <th></th>\n",
       "      <th>MAZ</th>\n",
       "      <th>parking_rate</th>\n",
       "    </tr>\n",
       "  </thead>\n",
       "  <tbody>\n",
       "    <tr>\n",
       "      <th>0</th>\n",
       "      <td>0</td>\n",
       "      <td>0.704879</td>\n",
       "    </tr>\n",
       "    <tr>\n",
       "      <th>1</th>\n",
       "      <td>10001</td>\n",
       "      <td>1.195371</td>\n",
       "    </tr>\n",
       "    <tr>\n",
       "      <th>2</th>\n",
       "      <td>10002</td>\n",
       "      <td>1.135969</td>\n",
       "    </tr>\n",
       "    <tr>\n",
       "      <th>3</th>\n",
       "      <td>10003</td>\n",
       "      <td>1.081934</td>\n",
       "    </tr>\n",
       "    <tr>\n",
       "      <th>4</th>\n",
       "      <td>10004</td>\n",
       "      <td>1.127421</td>\n",
       "    </tr>\n",
       "  </tbody>\n",
       "</table>\n",
       "</div>"
      ],
      "text/plain": [
       "     MAZ  parking_rate\n",
       "0      0      0.704879\n",
       "1  10001      1.195371\n",
       "2  10002      1.135969\n",
       "3  10003      1.081934\n",
       "4  10004      1.127421"
      ]
     },
     "execution_count": 265,
     "metadata": {},
     "output_type": "execute_result"
    }
   ],
   "source": [
    "off_res.head()"
   ]
  },
  {
   "cell_type": "code",
   "execution_count": 266,
   "metadata": {
    "collapsed": true
   },
   "outputs": [],
   "source": [
    "maz = gp.read_file('E:/Transit-Casa-Alex/Input/Parking/TAZ39785.shp')"
   ]
  },
  {
   "cell_type": "code",
   "execution_count": 9,
   "metadata": {
    "collapsed": false
   },
   "outputs": [
    {
     "data": {
      "text/html": [
       "<div>\n",
       "<table border=\"1\" class=\"dataframe\">\n",
       "  <thead>\n",
       "    <tr style=\"text-align: right;\">\n",
       "      <th></th>\n",
       "      <th>MAZ_ORIGIN</th>\n",
       "      <th>OBJECTID</th>\n",
       "      <th>Shape_Area</th>\n",
       "      <th>Shape_Le_1</th>\n",
       "      <th>Shape_Leng</th>\n",
       "      <th>TAZ</th>\n",
       "      <th>cen_x</th>\n",
       "      <th>cen_y</th>\n",
       "      <th>geometry</th>\n",
       "    </tr>\n",
       "  </thead>\n",
       "  <tbody>\n",
       "    <tr>\n",
       "      <th>0</th>\n",
       "      <td>710009.0</td>\n",
       "      <td>1</td>\n",
       "      <td>7.579234e+05</td>\n",
       "      <td>3941.998378</td>\n",
       "      <td>3958.763167</td>\n",
       "      <td>2398</td>\n",
       "      <td>5.885731e+06</td>\n",
       "      <td>2.420910e+06</td>\n",
       "      <td>POLYGON ((5886459.747847587 2420730.590284675,...</td>\n",
       "    </tr>\n",
       "    <tr>\n",
       "      <th>1</th>\n",
       "      <td>710010.0</td>\n",
       "      <td>2</td>\n",
       "      <td>2.173770e+05</td>\n",
       "      <td>2407.741483</td>\n",
       "      <td>2417.979664</td>\n",
       "      <td>2398</td>\n",
       "      <td>5.887757e+06</td>\n",
       "      <td>2.420676e+06</td>\n",
       "      <td>POLYGON ((5887604.462421671 2421103.923199415,...</td>\n",
       "    </tr>\n",
       "    <tr>\n",
       "      <th>2</th>\n",
       "      <td>710011.0</td>\n",
       "      <td>3</td>\n",
       "      <td>2.108222e+05</td>\n",
       "      <td>1924.432794</td>\n",
       "      <td>1932.608340</td>\n",
       "      <td>2398</td>\n",
       "      <td>5.884468e+06</td>\n",
       "      <td>2.419749e+06</td>\n",
       "      <td>POLYGON ((5884357.06734167 2419439.033484593, ...</td>\n",
       "    </tr>\n",
       "    <tr>\n",
       "      <th>3</th>\n",
       "      <td>710012.0</td>\n",
       "      <td>4</td>\n",
       "      <td>4.342161e+05</td>\n",
       "      <td>2844.177492</td>\n",
       "      <td>2856.245591</td>\n",
       "      <td>2398</td>\n",
       "      <td>5.885039e+06</td>\n",
       "      <td>2.418368e+06</td>\n",
       "      <td>POLYGON ((5884989.65794 2417847.645591259, 588...</td>\n",
       "    </tr>\n",
       "    <tr>\n",
       "      <th>4</th>\n",
       "      <td>710013.0</td>\n",
       "      <td>5</td>\n",
       "      <td>1.089542e+06</td>\n",
       "      <td>4614.789760</td>\n",
       "      <td>4634.361075</td>\n",
       "      <td>2399</td>\n",
       "      <td>5.886024e+06</td>\n",
       "      <td>2.417794e+06</td>\n",
       "      <td>POLYGON ((5886830.508589014 2417708.940160006,...</td>\n",
       "    </tr>\n",
       "  </tbody>\n",
       "</table>\n",
       "</div>"
      ],
      "text/plain": [
       "   MAZ_ORIGIN  OBJECTID    Shape_Area   Shape_Le_1   Shape_Leng   TAZ  \\\n",
       "0    710009.0         1  7.579234e+05  3941.998378  3958.763167  2398   \n",
       "1    710010.0         2  2.173770e+05  2407.741483  2417.979664  2398   \n",
       "2    710011.0         3  2.108222e+05  1924.432794  1932.608340  2398   \n",
       "3    710012.0         4  4.342161e+05  2844.177492  2856.245591  2398   \n",
       "4    710013.0         5  1.089542e+06  4614.789760  4634.361075  2399   \n",
       "\n",
       "          cen_x         cen_y  \\\n",
       "0  5.885731e+06  2.420910e+06   \n",
       "1  5.887757e+06  2.420676e+06   \n",
       "2  5.884468e+06  2.419749e+06   \n",
       "3  5.885039e+06  2.418368e+06   \n",
       "4  5.886024e+06  2.417794e+06   \n",
       "\n",
       "                                            geometry  \n",
       "0  POLYGON ((5886459.747847587 2420730.590284675,...  \n",
       "1  POLYGON ((5887604.462421671 2421103.923199415,...  \n",
       "2  POLYGON ((5884357.06734167 2419439.033484593, ...  \n",
       "3  POLYGON ((5884989.65794 2417847.645591259, 588...  \n",
       "4  POLYGON ((5886830.508589014 2417708.940160006,...  "
      ]
     },
     "execution_count": 9,
     "metadata": {},
     "output_type": "execute_result"
    }
   ],
   "source": [
    "maz.head()"
   ]
  },
  {
   "cell_type": "code",
   "execution_count": 41,
   "metadata": {
    "collapsed": false
   },
   "outputs": [
    {
     "name": "stdout",
     "output_type": "stream",
     "text": [
      "<class 'geopandas.geodataframe.GeoDataFrame'>\n",
      "RangeIndex: 39785 entries, 0 to 39784\n",
      "Data columns (total 9 columns):\n",
      "MAZ_ORIGIN    39785 non-null float64\n",
      "OBJECTID      39785 non-null int64\n",
      "Shape_Area    39785 non-null float64\n",
      "Shape_Le_1    39785 non-null float64\n",
      "Shape_Leng    39785 non-null float64\n",
      "TAZ           39785 non-null int64\n",
      "cen_x         39785 non-null float64\n",
      "cen_y         39785 non-null float64\n",
      "geometry      39785 non-null object\n",
      "dtypes: float64(6), int64(2), object(1)\n",
      "memory usage: 2.7+ MB\n"
     ]
    }
   ],
   "source": [
    "maz.info()"
   ]
  },
  {
   "cell_type": "code",
   "execution_count": 194,
   "metadata": {
    "collapsed": false
   },
   "outputs": [
    {
     "data": {
      "text/plain": [
       "{'datum': 'NAD83',\n",
       " 'lat_0': 36.5,\n",
       " 'lat_1': 37.06666666666667,\n",
       " 'lat_2': 38.43333333333333,\n",
       " 'lon_0': -120.5,\n",
       " 'no_defs': True,\n",
       " 'proj': 'lcc',\n",
       " 'units': 'us-ft',\n",
       " 'x_0': 2000000,\n",
       " 'y_0': 500000.0000000001}"
      ]
     },
     "execution_count": 194,
     "metadata": {},
     "output_type": "execute_result"
    }
   ],
   "source": [
    "maz.crs"
   ]
  },
  {
   "cell_type": "code",
   "execution_count": 42,
   "metadata": {
    "collapsed": false
   },
   "outputs": [
    {
     "name": "stdout",
     "output_type": "stream",
     "text": [
      "<class 'pandas.core.frame.DataFrame'>\n",
      "RangeIndex: 4142 entries, 0 to 4141\n",
      "Data columns (total 2 columns):\n",
      "MAZ             4142 non-null int64\n",
      "parking_rate    3768 non-null float64\n",
      "dtypes: float64(1), int64(1)\n",
      "memory usage: 64.8 KB\n"
     ]
    }
   ],
   "source": [
    "off_res.info()"
   ]
  },
  {
   "cell_type": "code",
   "execution_count": 267,
   "metadata": {
    "collapsed": true
   },
   "outputs": [],
   "source": [
    "def clean_row(row):\n",
    "    if row == -99:\n",
    "        row = np.nan\n",
    "    else:\n",
    "        row = row\n",
    "    return row"
   ]
  },
  {
   "cell_type": "code",
   "execution_count": 268,
   "metadata": {
    "collapsed": true
   },
   "outputs": [],
   "source": [
    "on_park['Average Hourly Price'] = on_park['Average Hourly Price'].apply(lambda row: clean_row(row))"
   ]
  },
  {
   "cell_type": "code",
   "execution_count": 269,
   "metadata": {
    "collapsed": false
   },
   "outputs": [],
   "source": [
    "off_res = off_res.groupby(by = 'MAZ',as_index = False).mean()\n",
    "on_park = on_park.groupby(by = 'MAZ',as_index = False).mean()\n",
    "off_park = off_park.groupby(by = 'MAZ',as_index = False).mean()"
   ]
  },
  {
   "cell_type": "code",
   "execution_count": 270,
   "metadata": {
    "collapsed": false
   },
   "outputs": [],
   "source": [
    "demand = on_park.merge(off_res,how = 'outer',on = 'MAZ').merge(off_park,how = 'outer',on = 'MAZ')"
   ]
  },
  {
   "cell_type": "code",
   "execution_count": 271,
   "metadata": {
    "collapsed": false
   },
   "outputs": [
    {
     "data": {
      "text/plain": [
       "4154"
      ]
     },
     "execution_count": 271,
     "metadata": {},
     "output_type": "execute_result"
    }
   ],
   "source": [
    "len(demand)"
   ]
  },
  {
   "cell_type": "code",
   "execution_count": 272,
   "metadata": {
    "collapsed": false
   },
   "outputs": [
    {
     "name": "stdout",
     "output_type": "stream",
     "text": [
      "<class 'pandas.core.frame.DataFrame'>\n",
      "Int64Index: 4148 entries, 0 to 4147\n",
      "Data columns (total 2 columns):\n",
      "MAZ                     4148 non-null int64\n",
      "Average Hourly Price    4148 non-null float64\n",
      "dtypes: float64(1), int64(1)\n",
      "memory usage: 97.2 KB\n"
     ]
    }
   ],
   "source": [
    "on_park.info()"
   ]
  },
  {
   "cell_type": "code",
   "execution_count": 229,
   "metadata": {
    "collapsed": false
   },
   "outputs": [
    {
     "name": "stdout",
     "output_type": "stream",
     "text": [
      "<class 'pandas.core.frame.DataFrame'>\n",
      "Int64Index: 280 entries, 0 to 279\n",
      "Data columns (total 8 columns):\n",
      "MAZ                 280 non-null int64\n",
      "PRICE1HR            280 non-null float64\n",
      "PRICE2HR            280 non-null float64\n",
      "PRICE3HR            280 non-null float64\n",
      "PRICE4HR            280 non-null float64\n",
      "PRICE12HR           280 non-null float64\n",
      "PRICEDAY            280 non-null float64\n",
      "PRICEDAYDISCOUNT    280 non-null float64\n",
      "dtypes: float64(7), int64(1)\n",
      "memory usage: 19.7 KB\n"
     ]
    }
   ],
   "source": [
    "off_park.info()"
   ]
  },
  {
   "cell_type": "code",
   "execution_count": 273,
   "metadata": {
    "collapsed": false
   },
   "outputs": [
    {
     "name": "stdout",
     "output_type": "stream",
     "text": [
      "4148\n",
      "4142\n",
      "280\n"
     ]
    }
   ],
   "source": [
    "print(len(on_park))\n",
    "print(len(off_res))\n",
    "print(len(off_park))"
   ]
  },
  {
   "cell_type": "code",
   "execution_count": 231,
   "metadata": {
    "collapsed": false
   },
   "outputs": [
    {
     "data": {
      "text/plain": [
       "39785"
      ]
     },
     "execution_count": 231,
     "metadata": {},
     "output_type": "execute_result"
    }
   ],
   "source": [
    "len(maz)"
   ]
  },
  {
   "cell_type": "code",
   "execution_count": null,
   "metadata": {
    "collapsed": false
   },
   "outputs": [],
   "source": []
  },
  {
   "cell_type": "code",
   "execution_count": null,
   "metadata": {
    "collapsed": false
   },
   "outputs": [],
   "source": []
  },
  {
   "cell_type": "code",
   "execution_count": 274,
   "metadata": {
    "collapsed": false
   },
   "outputs": [
    {
     "data": {
      "text/html": [
       "<div>\n",
       "<table border=\"1\" class=\"dataframe\">\n",
       "  <thead>\n",
       "    <tr style=\"text-align: right;\">\n",
       "      <th></th>\n",
       "      <th>MAZ</th>\n",
       "      <th>Average Hourly Price</th>\n",
       "      <th>parking_rate</th>\n",
       "      <th>PRICE1HR</th>\n",
       "      <th>PRICE2HR</th>\n",
       "      <th>PRICE3HR</th>\n",
       "      <th>PRICE4HR</th>\n",
       "      <th>PRICE12HR</th>\n",
       "      <th>PRICEDAY</th>\n",
       "      <th>PRICEDAYDISCOUNT</th>\n",
       "    </tr>\n",
       "  </thead>\n",
       "  <tbody>\n",
       "    <tr>\n",
       "      <th>0</th>\n",
       "      <td>10001</td>\n",
       "      <td>0.0</td>\n",
       "      <td>1.195371</td>\n",
       "      <td>NaN</td>\n",
       "      <td>NaN</td>\n",
       "      <td>NaN</td>\n",
       "      <td>NaN</td>\n",
       "      <td>NaN</td>\n",
       "      <td>NaN</td>\n",
       "      <td>NaN</td>\n",
       "    </tr>\n",
       "    <tr>\n",
       "      <th>1</th>\n",
       "      <td>10002</td>\n",
       "      <td>0.0</td>\n",
       "      <td>1.135969</td>\n",
       "      <td>NaN</td>\n",
       "      <td>NaN</td>\n",
       "      <td>NaN</td>\n",
       "      <td>NaN</td>\n",
       "      <td>NaN</td>\n",
       "      <td>NaN</td>\n",
       "      <td>NaN</td>\n",
       "    </tr>\n",
       "    <tr>\n",
       "      <th>2</th>\n",
       "      <td>10003</td>\n",
       "      <td>0.0</td>\n",
       "      <td>1.081934</td>\n",
       "      <td>NaN</td>\n",
       "      <td>NaN</td>\n",
       "      <td>NaN</td>\n",
       "      <td>NaN</td>\n",
       "      <td>NaN</td>\n",
       "      <td>NaN</td>\n",
       "      <td>NaN</td>\n",
       "    </tr>\n",
       "    <tr>\n",
       "      <th>3</th>\n",
       "      <td>10004</td>\n",
       "      <td>0.0</td>\n",
       "      <td>1.127421</td>\n",
       "      <td>NaN</td>\n",
       "      <td>NaN</td>\n",
       "      <td>NaN</td>\n",
       "      <td>NaN</td>\n",
       "      <td>NaN</td>\n",
       "      <td>NaN</td>\n",
       "      <td>NaN</td>\n",
       "    </tr>\n",
       "    <tr>\n",
       "      <th>4</th>\n",
       "      <td>10005</td>\n",
       "      <td>0.0</td>\n",
       "      <td>0.964046</td>\n",
       "      <td>NaN</td>\n",
       "      <td>NaN</td>\n",
       "      <td>NaN</td>\n",
       "      <td>NaN</td>\n",
       "      <td>NaN</td>\n",
       "      <td>NaN</td>\n",
       "      <td>NaN</td>\n",
       "    </tr>\n",
       "  </tbody>\n",
       "</table>\n",
       "</div>"
      ],
      "text/plain": [
       "     MAZ  Average Hourly Price  parking_rate  PRICE1HR  PRICE2HR  PRICE3HR  \\\n",
       "0  10001                   0.0      1.195371       NaN       NaN       NaN   \n",
       "1  10002                   0.0      1.135969       NaN       NaN       NaN   \n",
       "2  10003                   0.0      1.081934       NaN       NaN       NaN   \n",
       "3  10004                   0.0      1.127421       NaN       NaN       NaN   \n",
       "4  10005                   0.0      0.964046       NaN       NaN       NaN   \n",
       "\n",
       "   PRICE4HR  PRICE12HR  PRICEDAY  PRICEDAYDISCOUNT  \n",
       "0       NaN        NaN       NaN               NaN  \n",
       "1       NaN        NaN       NaN               NaN  \n",
       "2       NaN        NaN       NaN               NaN  \n",
       "3       NaN        NaN       NaN               NaN  \n",
       "4       NaN        NaN       NaN               NaN  "
      ]
     },
     "execution_count": 274,
     "metadata": {},
     "output_type": "execute_result"
    }
   ],
   "source": [
    "demand.head()"
   ]
  },
  {
   "cell_type": "code",
   "execution_count": 285,
   "metadata": {
    "collapsed": false
   },
   "outputs": [],
   "source": [
    "final = maz.merge(demand,how = 'right',left_on='MAZ_ORIGIN',right_on = 'MAZ')"
   ]
  },
  {
   "cell_type": "code",
   "execution_count": 237,
   "metadata": {
    "collapsed": false
   },
   "outputs": [
    {
     "data": {
      "text/plain": [
       "4154"
      ]
     },
     "execution_count": 237,
     "metadata": {},
     "output_type": "execute_result"
    }
   ],
   "source": [
    "len(final)"
   ]
  },
  {
   "cell_type": "code",
   "execution_count": null,
   "metadata": {
    "collapsed": false
   },
   "outputs": [],
   "source": []
  },
  {
   "cell_type": "code",
   "execution_count": 182,
   "metadata": {
    "collapsed": false
   },
   "outputs": [
    {
     "data": {
      "text/html": [
       "<div>\n",
       "<table border=\"1\" class=\"dataframe\">\n",
       "  <thead>\n",
       "    <tr style=\"text-align: right;\">\n",
       "      <th></th>\n",
       "      <th>MAZ_ORIGIN</th>\n",
       "      <th>OBJECTID</th>\n",
       "      <th>Shape_Area</th>\n",
       "      <th>Shape_Le_1</th>\n",
       "      <th>Shape_Leng</th>\n",
       "      <th>TAZ</th>\n",
       "      <th>cen_x</th>\n",
       "      <th>cen_y</th>\n",
       "      <th>geometry</th>\n",
       "      <th>MAZ</th>\n",
       "      <th>Average Hourly Price</th>\n",
       "      <th>parking_rate</th>\n",
       "      <th>PRICE1HR</th>\n",
       "      <th>PRICE2HR</th>\n",
       "      <th>PRICE3HR</th>\n",
       "      <th>PRICE4HR</th>\n",
       "      <th>PRICE12HR</th>\n",
       "      <th>PRICEDAY</th>\n",
       "      <th>PRICEDAYDISCOUNT</th>\n",
       "    </tr>\n",
       "  </thead>\n",
       "  <tbody>\n",
       "    <tr>\n",
       "      <th>0</th>\n",
       "      <td>111621.0</td>\n",
       "      <td>15034.0</td>\n",
       "      <td>1.624034e+05</td>\n",
       "      <td>1767.163053</td>\n",
       "      <td>1772.434968</td>\n",
       "      <td>1204.0</td>\n",
       "      <td>5.994393e+06</td>\n",
       "      <td>2.086065e+06</td>\n",
       "      <td>POLYGON ((5994715.133042425 2085960.327739924,...</td>\n",
       "      <td>111621</td>\n",
       "      <td>NaN</td>\n",
       "      <td>1.631579</td>\n",
       "      <td>NaN</td>\n",
       "      <td>NaN</td>\n",
       "      <td>NaN</td>\n",
       "      <td>NaN</td>\n",
       "      <td>NaN</td>\n",
       "      <td>NaN</td>\n",
       "      <td>NaN</td>\n",
       "    </tr>\n",
       "    <tr>\n",
       "      <th>1</th>\n",
       "      <td>112337.0</td>\n",
       "      <td>15350.0</td>\n",
       "      <td>1.590939e+05</td>\n",
       "      <td>1899.914165</td>\n",
       "      <td>1905.583198</td>\n",
       "      <td>1205.0</td>\n",
       "      <td>5.999480e+06</td>\n",
       "      <td>2.086080e+06</td>\n",
       "      <td>POLYGON ((5999318.461434171 2085867.938160926,...</td>\n",
       "      <td>112337</td>\n",
       "      <td>NaN</td>\n",
       "      <td>1.631579</td>\n",
       "      <td>NaN</td>\n",
       "      <td>NaN</td>\n",
       "      <td>NaN</td>\n",
       "      <td>NaN</td>\n",
       "      <td>NaN</td>\n",
       "      <td>NaN</td>\n",
       "      <td>NaN</td>\n",
       "    </tr>\n",
       "    <tr>\n",
       "      <th>2</th>\n",
       "      <td>112663.0</td>\n",
       "      <td>15506.0</td>\n",
       "      <td>2.205685e+06</td>\n",
       "      <td>6841.216239</td>\n",
       "      <td>6861.600948</td>\n",
       "      <td>1191.0</td>\n",
       "      <td>5.987680e+06</td>\n",
       "      <td>2.085200e+06</td>\n",
       "      <td>POLYGON ((5988085.514411926 2086447.249338254,...</td>\n",
       "      <td>112663</td>\n",
       "      <td>NaN</td>\n",
       "      <td>2.500000</td>\n",
       "      <td>NaN</td>\n",
       "      <td>NaN</td>\n",
       "      <td>NaN</td>\n",
       "      <td>NaN</td>\n",
       "      <td>NaN</td>\n",
       "      <td>NaN</td>\n",
       "      <td>NaN</td>\n",
       "    </tr>\n",
       "    <tr>\n",
       "      <th>3</th>\n",
       "      <td>113251.0</td>\n",
       "      <td>15788.0</td>\n",
       "      <td>3.190924e+06</td>\n",
       "      <td>13625.181844</td>\n",
       "      <td>13665.781937</td>\n",
       "      <td>1206.0</td>\n",
       "      <td>6.004345e+06</td>\n",
       "      <td>2.084850e+06</td>\n",
       "      <td>POLYGON ((6004616.45182243 2085688.459189177, ...</td>\n",
       "      <td>113251</td>\n",
       "      <td>NaN</td>\n",
       "      <td>1.631579</td>\n",
       "      <td>NaN</td>\n",
       "      <td>NaN</td>\n",
       "      <td>NaN</td>\n",
       "      <td>NaN</td>\n",
       "      <td>NaN</td>\n",
       "      <td>NaN</td>\n",
       "      <td>NaN</td>\n",
       "    </tr>\n",
       "    <tr>\n",
       "      <th>4</th>\n",
       "      <td>118504.0</td>\n",
       "      <td>18332.0</td>\n",
       "      <td>3.527445e+05</td>\n",
       "      <td>3330.097458</td>\n",
       "      <td>3340.030914</td>\n",
       "      <td>1204.0</td>\n",
       "      <td>5.994110e+06</td>\n",
       "      <td>2.085884e+06</td>\n",
       "      <td>POLYGON ((5994232.3587455 2085373.889608338, 5...</td>\n",
       "      <td>118504</td>\n",
       "      <td>NaN</td>\n",
       "      <td>1.631579</td>\n",
       "      <td>NaN</td>\n",
       "      <td>NaN</td>\n",
       "      <td>NaN</td>\n",
       "      <td>NaN</td>\n",
       "      <td>NaN</td>\n",
       "      <td>NaN</td>\n",
       "      <td>NaN</td>\n",
       "    </tr>\n",
       "    <tr>\n",
       "      <th>5</th>\n",
       "      <td>10001.0</td>\n",
       "      <td>18690.0</td>\n",
       "      <td>1.825054e+05</td>\n",
       "      <td>1794.292270</td>\n",
       "      <td>1799.750931</td>\n",
       "      <td>477.0</td>\n",
       "      <td>6.000506e+06</td>\n",
       "      <td>2.101398e+06</td>\n",
       "      <td>POLYGON ((6000678.625052422 2101115.574988425,...</td>\n",
       "      <td>10001</td>\n",
       "      <td>-66.0</td>\n",
       "      <td>1.195371</td>\n",
       "      <td>NaN</td>\n",
       "      <td>NaN</td>\n",
       "      <td>NaN</td>\n",
       "      <td>NaN</td>\n",
       "      <td>NaN</td>\n",
       "      <td>NaN</td>\n",
       "      <td>NaN</td>\n",
       "    </tr>\n",
       "    <tr>\n",
       "      <th>6</th>\n",
       "      <td>10002.0</td>\n",
       "      <td>18691.0</td>\n",
       "      <td>1.810528e+05</td>\n",
       "      <td>1787.020998</td>\n",
       "      <td>1792.457196</td>\n",
       "      <td>477.0</td>\n",
       "      <td>6.001126e+06</td>\n",
       "      <td>2.101432e+06</td>\n",
       "      <td>POLYGON ((6001297.896123588 2101149.720917508,...</td>\n",
       "      <td>10002</td>\n",
       "      <td>-66.0</td>\n",
       "      <td>1.135969</td>\n",
       "      <td>NaN</td>\n",
       "      <td>NaN</td>\n",
       "      <td>NaN</td>\n",
       "      <td>NaN</td>\n",
       "      <td>NaN</td>\n",
       "      <td>NaN</td>\n",
       "      <td>NaN</td>\n",
       "    </tr>\n",
       "    <tr>\n",
       "      <th>7</th>\n",
       "      <td>10003.0</td>\n",
       "      <td>18692.0</td>\n",
       "      <td>1.831748e+05</td>\n",
       "      <td>1791.115520</td>\n",
       "      <td>1796.581088</td>\n",
       "      <td>179.0</td>\n",
       "      <td>6.001946e+06</td>\n",
       "      <td>2.103818e+06</td>\n",
       "      <td>POLYGON ((6002121.780958757 2103540.378209665,...</td>\n",
       "      <td>10003</td>\n",
       "      <td>-66.0</td>\n",
       "      <td>1.081934</td>\n",
       "      <td>NaN</td>\n",
       "      <td>NaN</td>\n",
       "      <td>NaN</td>\n",
       "      <td>NaN</td>\n",
       "      <td>NaN</td>\n",
       "      <td>NaN</td>\n",
       "      <td>NaN</td>\n",
       "    </tr>\n",
       "  </tbody>\n",
       "</table>\n",
       "</div>"
      ],
      "text/plain": [
       "   MAZ_ORIGIN  OBJECTID    Shape_Area    Shape_Le_1    Shape_Leng     TAZ  \\\n",
       "0    111621.0   15034.0  1.624034e+05   1767.163053   1772.434968  1204.0   \n",
       "1    112337.0   15350.0  1.590939e+05   1899.914165   1905.583198  1205.0   \n",
       "2    112663.0   15506.0  2.205685e+06   6841.216239   6861.600948  1191.0   \n",
       "3    113251.0   15788.0  3.190924e+06  13625.181844  13665.781937  1206.0   \n",
       "4    118504.0   18332.0  3.527445e+05   3330.097458   3340.030914  1204.0   \n",
       "5     10001.0   18690.0  1.825054e+05   1794.292270   1799.750931   477.0   \n",
       "6     10002.0   18691.0  1.810528e+05   1787.020998   1792.457196   477.0   \n",
       "7     10003.0   18692.0  1.831748e+05   1791.115520   1796.581088   179.0   \n",
       "\n",
       "          cen_x         cen_y  \\\n",
       "0  5.994393e+06  2.086065e+06   \n",
       "1  5.999480e+06  2.086080e+06   \n",
       "2  5.987680e+06  2.085200e+06   \n",
       "3  6.004345e+06  2.084850e+06   \n",
       "4  5.994110e+06  2.085884e+06   \n",
       "5  6.000506e+06  2.101398e+06   \n",
       "6  6.001126e+06  2.101432e+06   \n",
       "7  6.001946e+06  2.103818e+06   \n",
       "\n",
       "                                            geometry     MAZ  \\\n",
       "0  POLYGON ((5994715.133042425 2085960.327739924,...  111621   \n",
       "1  POLYGON ((5999318.461434171 2085867.938160926,...  112337   \n",
       "2  POLYGON ((5988085.514411926 2086447.249338254,...  112663   \n",
       "3  POLYGON ((6004616.45182243 2085688.459189177, ...  113251   \n",
       "4  POLYGON ((5994232.3587455 2085373.889608338, 5...  118504   \n",
       "5  POLYGON ((6000678.625052422 2101115.574988425,...   10001   \n",
       "6  POLYGON ((6001297.896123588 2101149.720917508,...   10002   \n",
       "7  POLYGON ((6002121.780958757 2103540.378209665,...   10003   \n",
       "\n",
       "   Average Hourly Price  parking_rate  PRICE1HR  PRICE2HR  PRICE3HR  PRICE4HR  \\\n",
       "0                   NaN      1.631579       NaN       NaN       NaN       NaN   \n",
       "1                   NaN      1.631579       NaN       NaN       NaN       NaN   \n",
       "2                   NaN      2.500000       NaN       NaN       NaN       NaN   \n",
       "3                   NaN      1.631579       NaN       NaN       NaN       NaN   \n",
       "4                   NaN      1.631579       NaN       NaN       NaN       NaN   \n",
       "5                 -66.0      1.195371       NaN       NaN       NaN       NaN   \n",
       "6                 -66.0      1.135969       NaN       NaN       NaN       NaN   \n",
       "7                 -66.0      1.081934       NaN       NaN       NaN       NaN   \n",
       "\n",
       "   PRICE12HR  PRICEDAY  PRICEDAYDISCOUNT  \n",
       "0        NaN       NaN               NaN  \n",
       "1        NaN       NaN               NaN  \n",
       "2        NaN       NaN               NaN  \n",
       "3        NaN       NaN               NaN  \n",
       "4        NaN       NaN               NaN  \n",
       "5        NaN       NaN               NaN  \n",
       "6        NaN       NaN               NaN  \n",
       "7        NaN       NaN               NaN  "
      ]
     },
     "execution_count": 182,
     "metadata": {},
     "output_type": "execute_result"
    }
   ],
   "source": [
    "final.head(8)"
   ]
  },
  {
   "cell_type": "code",
   "execution_count": null,
   "metadata": {
    "collapsed": false
   },
   "outputs": [],
   "source": []
  },
  {
   "cell_type": "code",
   "execution_count": 183,
   "metadata": {
    "collapsed": false
   },
   "outputs": [],
   "source": []
  },
  {
   "cell_type": "code",
   "execution_count": 184,
   "metadata": {
    "collapsed": true
   },
   "outputs": [],
   "source": []
  },
  {
   "cell_type": "code",
   "execution_count": null,
   "metadata": {
    "collapsed": false
   },
   "outputs": [],
   "source": []
  },
  {
   "cell_type": "code",
   "execution_count": null,
   "metadata": {
    "collapsed": false
   },
   "outputs": [],
   "source": []
  },
  {
   "cell_type": "code",
   "execution_count": null,
   "metadata": {
    "collapsed": false
   },
   "outputs": [],
   "source": []
  },
  {
   "cell_type": "code",
   "execution_count": null,
   "metadata": {
    "collapsed": false
   },
   "outputs": [],
   "source": []
  },
  {
   "cell_type": "code",
   "execution_count": 286,
   "metadata": {
    "collapsed": false
   },
   "outputs": [
    {
     "data": {
      "text/plain": [
       "Index(['MAZ_ORIGIN', 'OBJECTID', 'Shape_Area', 'Shape_Le_1', 'Shape_Leng',\n",
       "       'TAZ', 'cen_x', 'cen_y', 'geometry', 'MAZ', 'Average Hourly Price',\n",
       "       'parking_rate', 'PRICE1HR', 'PRICE2HR', 'PRICE3HR', 'PRICE4HR',\n",
       "       'PRICE12HR', 'PRICEDAY', 'PRICEDAYDISCOUNT'],\n",
       "      dtype='object')"
      ]
     },
     "execution_count": 286,
     "metadata": {},
     "output_type": "execute_result"
    }
   ],
   "source": [
    "final.columns"
   ]
  },
  {
   "cell_type": "code",
   "execution_count": 287,
   "metadata": {
    "collapsed": true
   },
   "outputs": [],
   "source": [
    "keep = ['Shape_Area', 'geometry','cen_x', 'cen_y', 'MAZ', 'Average Hourly Price',\n",
    "       'parking_rate', 'PRICE1HR', 'PRICE2HR', 'PRICE3HR', 'PRICE4HR',\n",
    "       'PRICE12HR', 'PRICEDAY', 'PRICEDAYDISCOUNT']"
   ]
  },
  {
   "cell_type": "code",
   "execution_count": 288,
   "metadata": {
    "collapsed": true
   },
   "outputs": [],
   "source": [
    "final2 = final[keep]"
   ]
  },
  {
   "cell_type": "code",
   "execution_count": 289,
   "metadata": {
    "collapsed": true
   },
   "outputs": [],
   "source": [
    "final2 = gp.GeoDataFrame(final2)"
   ]
  },
  {
   "cell_type": "code",
   "execution_count": 290,
   "metadata": {
    "collapsed": true
   },
   "outputs": [],
   "source": [
    "final2.crs "
   ]
  },
  {
   "cell_type": "code",
   "execution_count": 291,
   "metadata": {
    "collapsed": false
   },
   "outputs": [
    {
     "ename": "AttributeError",
     "evalue": "'float' object has no attribute '__geo_interface__'",
     "output_type": "error",
     "traceback": [
      "\u001b[0;31m---------------------------------------------------------------------------\u001b[0m",
      "\u001b[0;31mAttributeError\u001b[0m                            Traceback (most recent call last)",
      "\u001b[0;32m<ipython-input-291-7d7ead4b7dac>\u001b[0m in \u001b[0;36m<module>\u001b[0;34m()\u001b[0m\n\u001b[0;32m----> 1\u001b[0;31m \u001b[0mfinal2\u001b[0m\u001b[1;33m.\u001b[0m\u001b[0mto_file\u001b[0m\u001b[1;33m(\u001b[0m\u001b[1;34m'E:\\Transit-Casa-Alex\\Output\\Parking Demand/Parking_Demand.shp'\u001b[0m\u001b[1;33m,\u001b[0m\u001b[0mdriver\u001b[0m \u001b[1;33m=\u001b[0m \u001b[1;34m'ESRI Shapefile'\u001b[0m\u001b[1;33m)\u001b[0m\u001b[1;33m\u001b[0m\u001b[0m\n\u001b[0m",
      "\u001b[0;32mC:\\Anaconda\\lib\\site-packages\\geopandas\\geodataframe.py\u001b[0m in \u001b[0;36mto_file\u001b[0;34m(self, filename, driver, schema, **kwargs)\u001b[0m\n\u001b[1;32m    341\u001b[0m         \"\"\"\n\u001b[1;32m    342\u001b[0m         \u001b[1;32mfrom\u001b[0m \u001b[0mgeopandas\u001b[0m\u001b[1;33m.\u001b[0m\u001b[0mio\u001b[0m\u001b[1;33m.\u001b[0m\u001b[0mfile\u001b[0m \u001b[1;32mimport\u001b[0m \u001b[0mto_file\u001b[0m\u001b[1;33m\u001b[0m\u001b[0m\n\u001b[0;32m--> 343\u001b[0;31m         \u001b[0mto_file\u001b[0m\u001b[1;33m(\u001b[0m\u001b[0mself\u001b[0m\u001b[1;33m,\u001b[0m \u001b[0mfilename\u001b[0m\u001b[1;33m,\u001b[0m \u001b[0mdriver\u001b[0m\u001b[1;33m,\u001b[0m \u001b[0mschema\u001b[0m\u001b[1;33m,\u001b[0m \u001b[1;33m**\u001b[0m\u001b[0mkwargs\u001b[0m\u001b[1;33m)\u001b[0m\u001b[1;33m\u001b[0m\u001b[0m\n\u001b[0m\u001b[1;32m    344\u001b[0m \u001b[1;33m\u001b[0m\u001b[0m\n\u001b[1;32m    345\u001b[0m     \u001b[1;32mdef\u001b[0m \u001b[0mto_crs\u001b[0m\u001b[1;33m(\u001b[0m\u001b[0mself\u001b[0m\u001b[1;33m,\u001b[0m \u001b[0mcrs\u001b[0m\u001b[1;33m=\u001b[0m\u001b[1;32mNone\u001b[0m\u001b[1;33m,\u001b[0m \u001b[0mepsg\u001b[0m\u001b[1;33m=\u001b[0m\u001b[1;32mNone\u001b[0m\u001b[1;33m,\u001b[0m \u001b[0minplace\u001b[0m\u001b[1;33m=\u001b[0m\u001b[1;32mFalse\u001b[0m\u001b[1;33m)\u001b[0m\u001b[1;33m:\u001b[0m\u001b[1;33m\u001b[0m\u001b[0m\n",
      "\u001b[0;32mC:\\Anaconda\\lib\\site-packages\\geopandas\\io\\file.py\u001b[0m in \u001b[0;36mto_file\u001b[0;34m(df, filename, driver, schema, **kwargs)\u001b[0m\n\u001b[1;32m     60\u001b[0m     with fiona.open(filename, 'w', driver=driver, crs=df.crs,\n\u001b[1;32m     61\u001b[0m                     schema=schema, **kwargs) as c:\n\u001b[0;32m---> 62\u001b[0;31m         \u001b[1;32mfor\u001b[0m \u001b[0mfeature\u001b[0m \u001b[1;32min\u001b[0m \u001b[0mdf\u001b[0m\u001b[1;33m.\u001b[0m\u001b[0miterfeatures\u001b[0m\u001b[1;33m(\u001b[0m\u001b[1;33m)\u001b[0m\u001b[1;33m:\u001b[0m\u001b[1;33m\u001b[0m\u001b[0m\n\u001b[0m\u001b[1;32m     63\u001b[0m             \u001b[0mc\u001b[0m\u001b[1;33m.\u001b[0m\u001b[0mwrite\u001b[0m\u001b[1;33m(\u001b[0m\u001b[0mfeature\u001b[0m\u001b[1;33m)\u001b[0m\u001b[1;33m\u001b[0m\u001b[0m\n\u001b[1;32m     64\u001b[0m \u001b[1;33m\u001b[0m\u001b[0m\n",
      "\u001b[0;32mC:\\Anaconda\\lib\\site-packages\\geopandas\\geodataframe.py\u001b[0m in \u001b[0;36miterfeatures\u001b[0;34m(self, na, show_bbox)\u001b[0m\n\u001b[1;32m    296\u001b[0m                 \u001b[1;34m'properties'\u001b[0m\u001b[1;33m:\u001b[0m \u001b[0mproperties\u001b[0m\u001b[1;33m,\u001b[0m\u001b[1;33m\u001b[0m\u001b[0m\n\u001b[1;32m    297\u001b[0m                 \u001b[1;34m'geometry'\u001b[0m\u001b[1;33m:\u001b[0m \u001b[0mmapping\u001b[0m\u001b[1;33m(\u001b[0m\u001b[0mrow\u001b[0m\u001b[1;33m[\u001b[0m\u001b[0mself\u001b[0m\u001b[1;33m.\u001b[0m\u001b[0m_geometry_column_name\u001b[0m\u001b[1;33m]\u001b[0m\u001b[1;33m)\u001b[0m\u001b[1;33m\u001b[0m\u001b[0m\n\u001b[0;32m--> 298\u001b[0;31m                             \u001b[1;32mif\u001b[0m \u001b[0mrow\u001b[0m\u001b[1;33m[\u001b[0m\u001b[0mself\u001b[0m\u001b[1;33m.\u001b[0m\u001b[0m_geometry_column_name\u001b[0m\u001b[1;33m]\u001b[0m \u001b[1;32melse\u001b[0m \u001b[1;32mNone\u001b[0m\u001b[1;33m\u001b[0m\u001b[0m\n\u001b[0m\u001b[1;32m    299\u001b[0m             }\n\u001b[1;32m    300\u001b[0m \u001b[1;33m\u001b[0m\u001b[0m\n",
      "\u001b[0;32mC:\\Anaconda\\lib\\site-packages\\shapely\\geometry\\geo.py\u001b[0m in \u001b[0;36mmapping\u001b[0;34m(ob)\u001b[0m\n\u001b[1;32m     73\u001b[0m \u001b[1;32mdef\u001b[0m \u001b[0mmapping\u001b[0m\u001b[1;33m(\u001b[0m\u001b[0mob\u001b[0m\u001b[1;33m)\u001b[0m\u001b[1;33m:\u001b[0m\u001b[1;33m\u001b[0m\u001b[0m\n\u001b[1;32m     74\u001b[0m     \u001b[1;34m\"\"\"Returns a GeoJSON-like mapping\"\"\"\u001b[0m\u001b[1;33m\u001b[0m\u001b[0m\n\u001b[0;32m---> 75\u001b[0;31m     \u001b[1;32mreturn\u001b[0m \u001b[0mob\u001b[0m\u001b[1;33m.\u001b[0m\u001b[0m__geo_interface__\u001b[0m\u001b[1;33m\u001b[0m\u001b[0m\n\u001b[0m",
      "\u001b[0;31mAttributeError\u001b[0m: 'float' object has no attribute '__geo_interface__'"
     ]
    }
   ],
   "source": [
    "final2.to_file('E:\\Transit-Casa-Alex\\Output\\Parking Demand/Parking_Demand.shp',driver = 'ESRI Shapefile')"
   ]
  },
  {
   "cell_type": "code",
   "execution_count": null,
   "metadata": {
    "collapsed": false
   },
   "outputs": [],
   "source": [
    "stops = gp.read_file('E:/Transit-Casa-Alex/Input/Bus_Stops/Bus_Stops_USft.shp')"
   ]
  },
  {
   "cell_type": "code",
   "execution_count": 161,
   "metadata": {
    "collapsed": false
   },
   "outputs": [
    {
     "data": {
      "text/plain": [
       "<matplotlib.axes._subplots.AxesSubplot at 0x1cf3fbadbe0>"
      ]
     },
     "execution_count": 161,
     "metadata": {},
     "output_type": "execute_result"
    },
    {
     "data": {
      "image/png": "[encoded data removed]",
      "text/plain": [
       "<matplotlib.figure.Figure at 0x1cf3fbb5be0>"
      ]
     },
     "metadata": {},
     "output_type": "display_data"
    }
   ],
   "source": [
    "stops.plot()"
   ]
  },
  {
   "cell_type": "code",
   "execution_count": 245,
   "metadata": {
    "collapsed": false
   },
   "outputs": [
    {
     "data": {
      "text/plain": [
       "{'datum': 'NAD83',\n",
       " 'lat_0': 36.5,\n",
       " 'lat_1': 37.06666666666667,\n",
       " 'lat_2': 38.43333333333333,\n",
       " 'lon_0': -120.5,\n",
       " 'no_defs': True,\n",
       " 'proj': 'lcc',\n",
       " 'units': 'us-ft',\n",
       " 'wktext': True,\n",
       " 'x_0': 2000000,\n",
       " 'y_0': 500000.0000000001}"
      ]
     },
     "execution_count": 245,
     "metadata": {},
     "output_type": "execute_result"
    }
   ],
   "source": [
    "stops.crs"
   ]
  },
  {
   "cell_type": "code",
   "execution_count": 246,
   "metadata": {
    "collapsed": false
   },
   "outputs": [],
   "source": [
    "stops = stops.to_crs(maz.crs)"
   ]
  },
  {
   "cell_type": "code",
   "execution_count": 247,
   "metadata": {
    "collapsed": false
   },
   "outputs": [
    {
     "data": {
      "text/plain": [
       "{'datum': 'NAD83',\n",
       " 'lat_0': 36.5,\n",
       " 'lat_1': 37.06666666666667,\n",
       " 'lat_2': 38.43333333333333,\n",
       " 'lon_0': -120.5,\n",
       " 'no_defs': True,\n",
       " 'proj': 'lcc',\n",
       " 'units': 'us-ft',\n",
       " 'wktext': True,\n",
       " 'x_0': 2000000,\n",
       " 'y_0': 500000.0000000001}"
      ]
     },
     "execution_count": 247,
     "metadata": {},
     "output_type": "execute_result"
    }
   ],
   "source": [
    "maz.crs"
   ]
  },
  {
   "cell_type": "code",
   "execution_count": 248,
   "metadata": {
    "collapsed": false
   },
   "outputs": [],
   "source": [
    "parking = gp.sjoin(stops,maz,how = 'left', op = 'intersects')"
   ]
  },
  {
   "cell_type": "code",
   "execution_count": 249,
   "metadata": {
    "collapsed": false
   },
   "outputs": [
    {
     "data": {
      "text/html": [
       "<div>\n",
       "<table border=\"1\" class=\"dataframe\">\n",
       "  <thead>\n",
       "    <tr style=\"text-align: right;\">\n",
       "      <th></th>\n",
       "      <th>STOP_ID</th>\n",
       "      <th>STOP_LAT</th>\n",
       "      <th>STOP_LON</th>\n",
       "      <th>geometry</th>\n",
       "    </tr>\n",
       "  </thead>\n",
       "  <tbody>\n",
       "    <tr>\n",
       "      <th>0</th>\n",
       "      <td>390</td>\n",
       "      <td>37.72119</td>\n",
       "      <td>-122.475096</td>\n",
       "      <td>POINT (5990136.75776675 2091073.398817512)</td>\n",
       "    </tr>\n",
       "  </tbody>\n",
       "</table>\n",
       "</div>"
      ],
      "text/plain": [
       "   STOP_ID  STOP_LAT    STOP_LON                                    geometry\n",
       "0      390  37.72119 -122.475096  POINT (5990136.75776675 2091073.398817512)"
      ]
     },
     "execution_count": 249,
     "metadata": {},
     "output_type": "execute_result"
    }
   ],
   "source": [
    "stops[stops['STOP_ID'] == 390]"
   ]
  },
  {
   "cell_type": "code",
   "execution_count": 250,
   "metadata": {
    "collapsed": false
   },
   "outputs": [
    {
     "data": {
      "text/html": [
       "<div>\n",
       "<table border=\"1\" class=\"dataframe\">\n",
       "  <thead>\n",
       "    <tr style=\"text-align: right;\">\n",
       "      <th></th>\n",
       "      <th>MAZ_ORIGIN</th>\n",
       "      <th>OBJECTID</th>\n",
       "      <th>Shape_Area</th>\n",
       "      <th>Shape_Le_1</th>\n",
       "      <th>Shape_Leng</th>\n",
       "      <th>TAZ</th>\n",
       "      <th>cen_x</th>\n",
       "      <th>cen_y</th>\n",
       "      <th>geometry</th>\n",
       "    </tr>\n",
       "  </thead>\n",
       "  <tbody>\n",
       "    <tr>\n",
       "      <th>20757</th>\n",
       "      <td>13562.0</td>\n",
       "      <td>20758</td>\n",
       "      <td>5.372744e+06</td>\n",
       "      <td>11837.531206</td>\n",
       "      <td>11873.125976</td>\n",
       "      <td>917</td>\n",
       "      <td>5.989211e+06</td>\n",
       "      <td>2.092196e+06</td>\n",
       "      <td>POLYGON ((5989314.782294586 2092844.445205256,...</td>\n",
       "    </tr>\n",
       "  </tbody>\n",
       "</table>\n",
       "</div>"
      ],
      "text/plain": [
       "       MAZ_ORIGIN  OBJECTID    Shape_Area    Shape_Le_1    Shape_Leng  TAZ  \\\n",
       "20757     13562.0     20758  5.372744e+06  11837.531206  11873.125976  917   \n",
       "\n",
       "              cen_x         cen_y  \\\n",
       "20757  5.989211e+06  2.092196e+06   \n",
       "\n",
       "                                                geometry  \n",
       "20757  POLYGON ((5989314.782294586 2092844.445205256,...  "
      ]
     },
     "execution_count": 250,
     "metadata": {},
     "output_type": "execute_result"
    }
   ],
   "source": [
    "maz[maz['MAZ_ORIGIN'] == 13562]"
   ]
  },
  {
   "cell_type": "code",
   "execution_count": 251,
   "metadata": {
    "collapsed": false
   },
   "outputs": [
    {
     "data": {
      "text/html": [
       "<div>\n",
       "<table border=\"1\" class=\"dataframe\">\n",
       "  <thead>\n",
       "    <tr style=\"text-align: right;\">\n",
       "      <th></th>\n",
       "      <th>STOP_ID</th>\n",
       "      <th>STOP_LAT</th>\n",
       "      <th>STOP_LON</th>\n",
       "      <th>geometry</th>\n",
       "      <th>index_right</th>\n",
       "      <th>MAZ_ORIGIN</th>\n",
       "      <th>OBJECTID</th>\n",
       "      <th>Shape_Area</th>\n",
       "      <th>Shape_Le_1</th>\n",
       "      <th>Shape_Leng</th>\n",
       "      <th>TAZ</th>\n",
       "      <th>cen_x</th>\n",
       "      <th>cen_y</th>\n",
       "    </tr>\n",
       "  </thead>\n",
       "  <tbody>\n",
       "    <tr>\n",
       "      <th>0</th>\n",
       "      <td>390</td>\n",
       "      <td>37.72119</td>\n",
       "      <td>-122.475096</td>\n",
       "      <td>POINT (5990136.75776675 2091073.398817512)</td>\n",
       "      <td>20757.0</td>\n",
       "      <td>13562.0</td>\n",
       "      <td>20758.0</td>\n",
       "      <td>5.372744e+06</td>\n",
       "      <td>11837.531206</td>\n",
       "      <td>11873.125976</td>\n",
       "      <td>917.0</td>\n",
       "      <td>5.989211e+06</td>\n",
       "      <td>2.092196e+06</td>\n",
       "    </tr>\n",
       "  </tbody>\n",
       "</table>\n",
       "</div>"
      ],
      "text/plain": [
       "   STOP_ID  STOP_LAT    STOP_LON                                    geometry  \\\n",
       "0      390  37.72119 -122.475096  POINT (5990136.75776675 2091073.398817512)   \n",
       "\n",
       "   index_right  MAZ_ORIGIN  OBJECTID    Shape_Area    Shape_Le_1  \\\n",
       "0      20757.0     13562.0   20758.0  5.372744e+06  11837.531206   \n",
       "\n",
       "     Shape_Leng    TAZ         cen_x         cen_y  \n",
       "0  11873.125976  917.0  5.989211e+06  2.092196e+06  "
      ]
     },
     "execution_count": 251,
     "metadata": {},
     "output_type": "execute_result"
    }
   ],
   "source": [
    "parking[parking['STOP_ID'] == 390]"
   ]
  },
  {
   "cell_type": "code",
   "execution_count": 252,
   "metadata": {
    "collapsed": false
   },
   "outputs": [
    {
     "data": {
      "text/plain": [
       "3744"
      ]
     },
     "execution_count": 252,
     "metadata": {},
     "output_type": "execute_result"
    }
   ],
   "source": [
    "len(stops)"
   ]
  },
  {
   "cell_type": "code",
   "execution_count": 253,
   "metadata": {
    "collapsed": false
   },
   "outputs": [
    {
     "data": {
      "text/plain": [
       "39785"
      ]
     },
     "execution_count": 253,
     "metadata": {},
     "output_type": "execute_result"
    }
   ],
   "source": [
    "len(maz)"
   ]
  },
  {
   "cell_type": "code",
   "execution_count": 254,
   "metadata": {
    "collapsed": false
   },
   "outputs": [
    {
     "data": {
      "text/plain": [
       "3744"
      ]
     },
     "execution_count": 254,
     "metadata": {},
     "output_type": "execute_result"
    }
   ],
   "source": [
    "len(parking)"
   ]
  },
  {
   "cell_type": "code",
   "execution_count": 277,
   "metadata": {
    "collapsed": false
   },
   "outputs": [],
   "source": [
    "parking_demand = pd.merge(parking,demand, how = 'left',left_on = 'MAZ_ORIGIN',right_on = 'MAZ')"
   ]
  },
  {
   "cell_type": "code",
   "execution_count": 278,
   "metadata": {
    "collapsed": false
   },
   "outputs": [
    {
     "data": {
      "text/plain": [
       "3744"
      ]
     },
     "execution_count": 278,
     "metadata": {},
     "output_type": "execute_result"
    }
   ],
   "source": [
    "len(parking_demand)"
   ]
  },
  {
   "cell_type": "code",
   "execution_count": 281,
   "metadata": {
    "collapsed": false
   },
   "outputs": [
    {
     "data": {
      "text/plain": [
       "Index(['STOP_ID', 'STOP_LAT', 'STOP_LON', 'geometry', 'index_right',\n",
       "       'MAZ_ORIGIN', 'OBJECTID', 'Shape_Area', 'Shape_Le_1', 'Shape_Leng',\n",
       "       'TAZ', 'cen_x', 'cen_y', 'MAZ', 'Average Hourly Price', 'parking_rate',\n",
       "       'PRICE1HR', 'PRICE2HR', 'PRICE3HR', 'PRICE4HR', 'PRICE12HR', 'PRICEDAY',\n",
       "       'PRICEDAYDISCOUNT'],\n",
       "      dtype='object')"
      ]
     },
     "execution_count": 281,
     "metadata": {},
     "output_type": "execute_result"
    }
   ],
   "source": [
    "parking_demand.columns"
   ]
  },
  {
   "cell_type": "code",
   "execution_count": 282,
   "metadata": {
    "collapsed": true
   },
   "outputs": [],
   "source": [
    "keep = ['STOP_ID', 'geometry','Average Hourly Price', 'parking_rate',\n",
    "       'PRICE1HR', 'PRICE2HR', 'PRICE3HR', 'PRICE4HR', 'PRICE12HR', 'PRICEDAY',\n",
    "       'PRICEDAYDISCOUNT']"
   ]
  },
  {
   "cell_type": "code",
   "execution_count": 283,
   "metadata": {
    "collapsed": true
   },
   "outputs": [],
   "source": [
    "parking_demand = parking_demand[keep]"
   ]
  },
  {
   "cell_type": "code",
   "execution_count": 284,
   "metadata": {
    "collapsed": true
   },
   "outputs": [],
   "source": [
    "parking_demand.to_csv('E:\\Transit-Casa-Alex\\Output\\Parking Demand/Parking_Demand.csv')"
   ]
  },
  {
   "cell_type": "code",
   "execution_count": 292,
   "metadata": {
    "collapsed": true
   },
   "outputs": [],
   "source": [
    "parking_demand_geo = gp.GeoDataFrame(parking_demand)"
   ]
  },
  {
   "cell_type": "code",
   "execution_count": 294,
   "metadata": {
    "collapsed": true
   },
   "outputs": [],
   "source": [
    "parking_demand_geo.to_file('E:\\Transit-Casa-Alex\\Output\\Parking Demand/Parking_Demand.shp')"
   ]
  },
  {
   "cell_type": "code",
   "execution_count": null,
   "metadata": {
    "collapsed": true
   },
   "outputs": [],
   "source": []
  }
 ],
 "metadata": {
  "anaconda-cloud": {},
  "kernelspec": {
   "display_name": "Python [conda root]",
   "language": "python",
   "name": "conda-root-py"
  },
  "language_info": {
   "codemirror_mode": {
    "name": "ipython",
    "version": 3
   },
   "file_extension": ".py",
   "mimetype": "text/x-python",
   "name": "python",
   "nbconvert_exporter": "python",
   "pygments_lexer": "ipython3",
   "version": "3.5.2"
  }
 },
 "nbformat": 4,
 "nbformat_minor": 1
}
