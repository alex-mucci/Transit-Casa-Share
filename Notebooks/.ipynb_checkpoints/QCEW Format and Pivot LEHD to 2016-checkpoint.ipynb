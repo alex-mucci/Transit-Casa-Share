{
 "cells": [
  {
   "cell_type": "code",
   "execution_count": 215,
   "metadata": {
    "collapsed": true
   },
   "outputs": [],
   "source": [
    "import pandas as pd\n",
    "import geopandas as gp\n",
    "%matplotlib inline\n",
    "\n",
    "pd.options.display.max_columns = 50000"
   ]
  },
  {
   "cell_type": "code",
   "execution_count": 294,
   "metadata": {
    "collapsed": false
   },
   "outputs": [],
   "source": [
    "qcew_sf = pd.read_csv('E:/Transit-Casa-Alex/Input/QCEW/2016/2016.q1-q4 06075 San Francisco County, California.csv')"
   ]
  },
  {
   "cell_type": "code",
   "execution_count": 217,
   "metadata": {
    "collapsed": false
   },
   "outputs": [],
   "source": [
    "qcew_sm = pd.read_csv('E:/Transit-Casa-Alex/Input/QCEW/2016/2016.q1-q4 06081 San Mateo County, California.csv')"
   ]
  },
  {
   "cell_type": "code",
   "execution_count": 295,
   "metadata": {
    "collapsed": false
   },
   "outputs": [
    {
     "data": {
      "text/html": [
       "<div>\n",
       "<table border=\"1\" class=\"dataframe\">\n",
       "  <thead>\n",
       "    <tr style=\"text-align: right;\">\n",
       "      <th></th>\n",
       "      <th>area_fips</th>\n",
       "      <th>own_code</th>\n",
       "      <th>industry_code</th>\n",
       "      <th>agglvl_code</th>\n",
       "      <th>size_code</th>\n",
       "      <th>year</th>\n",
       "      <th>qtr</th>\n",
       "      <th>disclosure_code</th>\n",
       "      <th>area_title</th>\n",
       "      <th>own_title</th>\n",
       "      <th>industry_title</th>\n",
       "      <th>agglvl_title</th>\n",
       "      <th>size_title</th>\n",
       "      <th>qtrly_estabs_count</th>\n",
       "      <th>month1_emplvl</th>\n",
       "      <th>month2_emplvl</th>\n",
       "      <th>month3_emplvl</th>\n",
       "      <th>total_qtrly_wages</th>\n",
       "      <th>taxable_qtrly_wages</th>\n",
       "      <th>qtrly_contributions</th>\n",
       "      <th>avg_wkly_wage</th>\n",
       "      <th>lq_disclosure_code</th>\n",
       "      <th>lq_qtrly_estabs_count</th>\n",
       "      <th>lq_month1_emplvl</th>\n",
       "      <th>lq_month2_emplvl</th>\n",
       "      <th>lq_month3_emplvl</th>\n",
       "      <th>lq_total_qtrly_wages</th>\n",
       "      <th>lq_taxable_qtrly_wages</th>\n",
       "      <th>lq_qtrly_contributions</th>\n",
       "      <th>lq_avg_wkly_wage</th>\n",
       "      <th>oty_disclosure_code</th>\n",
       "      <th>oty_qtrly_estabs_count_chg</th>\n",
       "      <th>oty_qtrly_estabs_count_pct_chg</th>\n",
       "      <th>oty_month1_emplvl_chg</th>\n",
       "      <th>oty_month1_emplvl_pct_chg</th>\n",
       "      <th>oty_month2_emplvl_chg</th>\n",
       "      <th>oty_month2_emplvl_pct_chg</th>\n",
       "      <th>oty_month3_emplvl_chg</th>\n",
       "      <th>oty_month3_emplvl_pct_chg</th>\n",
       "      <th>oty_total_qtrly_wages_chg</th>\n",
       "      <th>oty_total_qtrly_wages_pct_chg</th>\n",
       "      <th>oty_taxable_qtrly_wages_chg</th>\n",
       "      <th>oty_taxable_qtrly_wages_pct_chg</th>\n",
       "      <th>oty_qtrly_contributions_chg</th>\n",
       "      <th>oty_qtrly_contributions_pct_chg</th>\n",
       "      <th>oty_avg_wkly_wage_chg</th>\n",
       "      <th>oty_avg_wkly_wage_pct_chg</th>\n",
       "    </tr>\n",
       "  </thead>\n",
       "  <tbody>\n",
       "    <tr>\n",
       "      <th>0</th>\n",
       "      <td>6075</td>\n",
       "      <td>0</td>\n",
       "      <td>10</td>\n",
       "      <td>70</td>\n",
       "      <td>0</td>\n",
       "      <td>2016</td>\n",
       "      <td>1</td>\n",
       "      <td>NaN</td>\n",
       "      <td>San Francisco County, California</td>\n",
       "      <td>Total Covered</td>\n",
       "      <td>Total, all industries</td>\n",
       "      <td>County, Total Covered</td>\n",
       "      <td>All establishment sizes</td>\n",
       "      <td>58715</td>\n",
       "      <td>685256</td>\n",
       "      <td>692882</td>\n",
       "      <td>695032</td>\n",
       "      <td>18504489951</td>\n",
       "      <td>3865985572</td>\n",
       "      <td>181599540</td>\n",
       "      <td>2060</td>\n",
       "      <td>NaN</td>\n",
       "      <td>1.00</td>\n",
       "      <td>1.00</td>\n",
       "      <td>1.00</td>\n",
       "      <td>1.00</td>\n",
       "      <td>1.00</td>\n",
       "      <td>1.0</td>\n",
       "      <td>1.0</td>\n",
       "      <td>1.00</td>\n",
       "      <td>NaN</td>\n",
       "      <td>1186</td>\n",
       "      <td>2.1</td>\n",
       "      <td>34585</td>\n",
       "      <td>5.3</td>\n",
       "      <td>36930</td>\n",
       "      <td>5.6</td>\n",
       "      <td>34044</td>\n",
       "      <td>5.2</td>\n",
       "      <td>867812854</td>\n",
       "      <td>4.9</td>\n",
       "      <td>289574377</td>\n",
       "      <td>8.1</td>\n",
       "      <td>2275423</td>\n",
       "      <td>1.3</td>\n",
       "      <td>-8</td>\n",
       "      <td>-0.4</td>\n",
       "    </tr>\n",
       "    <tr>\n",
       "      <th>1</th>\n",
       "      <td>6075</td>\n",
       "      <td>0</td>\n",
       "      <td>10</td>\n",
       "      <td>70</td>\n",
       "      <td>0</td>\n",
       "      <td>2016</td>\n",
       "      <td>2</td>\n",
       "      <td>NaN</td>\n",
       "      <td>San Francisco County, California</td>\n",
       "      <td>Total Covered</td>\n",
       "      <td>Total, all industries</td>\n",
       "      <td>County, Total Covered</td>\n",
       "      <td>All establishment sizes</td>\n",
       "      <td>59201</td>\n",
       "      <td>699233</td>\n",
       "      <td>700941</td>\n",
       "      <td>701355</td>\n",
       "      <td>16427271312</td>\n",
       "      <td>751356198</td>\n",
       "      <td>32830359</td>\n",
       "      <td>1804</td>\n",
       "      <td>NaN</td>\n",
       "      <td>1.00</td>\n",
       "      <td>1.00</td>\n",
       "      <td>1.00</td>\n",
       "      <td>1.00</td>\n",
       "      <td>1.00</td>\n",
       "      <td>1.0</td>\n",
       "      <td>1.0</td>\n",
       "      <td>1.00</td>\n",
       "      <td>NaN</td>\n",
       "      <td>1061</td>\n",
       "      <td>1.8</td>\n",
       "      <td>32852</td>\n",
       "      <td>4.9</td>\n",
       "      <td>30551</td>\n",
       "      <td>4.6</td>\n",
       "      <td>30955</td>\n",
       "      <td>4.6</td>\n",
       "      <td>1406371630</td>\n",
       "      <td>9.4</td>\n",
       "      <td>2725704</td>\n",
       "      <td>0.4</td>\n",
       "      <td>-1761493</td>\n",
       "      <td>-5.1</td>\n",
       "      <td>77</td>\n",
       "      <td>4.5</td>\n",
       "    </tr>\n",
       "    <tr>\n",
       "      <th>2</th>\n",
       "      <td>6075</td>\n",
       "      <td>0</td>\n",
       "      <td>10</td>\n",
       "      <td>70</td>\n",
       "      <td>0</td>\n",
       "      <td>2016</td>\n",
       "      <td>3</td>\n",
       "      <td>NaN</td>\n",
       "      <td>San Francisco County, California</td>\n",
       "      <td>Total Covered</td>\n",
       "      <td>Total, all industries</td>\n",
       "      <td>County, Total Covered</td>\n",
       "      <td>All establishment sizes</td>\n",
       "      <td>59848</td>\n",
       "      <td>702551</td>\n",
       "      <td>709096</td>\n",
       "      <td>710220</td>\n",
       "      <td>17346974438</td>\n",
       "      <td>594344249</td>\n",
       "      <td>26362627</td>\n",
       "      <td>1887</td>\n",
       "      <td>NaN</td>\n",
       "      <td>1.00</td>\n",
       "      <td>1.00</td>\n",
       "      <td>1.00</td>\n",
       "      <td>1.00</td>\n",
       "      <td>1.00</td>\n",
       "      <td>1.0</td>\n",
       "      <td>1.0</td>\n",
       "      <td>1.00</td>\n",
       "      <td>NaN</td>\n",
       "      <td>1181</td>\n",
       "      <td>2.0</td>\n",
       "      <td>28003</td>\n",
       "      <td>4.2</td>\n",
       "      <td>27322</td>\n",
       "      <td>4.0</td>\n",
       "      <td>26109</td>\n",
       "      <td>3.8</td>\n",
       "      <td>2175563972</td>\n",
       "      <td>14.3</td>\n",
       "      <td>-7837217</td>\n",
       "      <td>-1.3</td>\n",
       "      <td>-1629463</td>\n",
       "      <td>-5.8</td>\n",
       "      <td>171</td>\n",
       "      <td>10.0</td>\n",
       "    </tr>\n",
       "    <tr>\n",
       "      <th>3</th>\n",
       "      <td>6075</td>\n",
       "      <td>0</td>\n",
       "      <td>10</td>\n",
       "      <td>70</td>\n",
       "      <td>0</td>\n",
       "      <td>2016</td>\n",
       "      <td>4</td>\n",
       "      <td>NaN</td>\n",
       "      <td>San Francisco County, California</td>\n",
       "      <td>Total Covered</td>\n",
       "      <td>Total, all industries</td>\n",
       "      <td>County, Total Covered</td>\n",
       "      <td>All establishment sizes</td>\n",
       "      <td>59907</td>\n",
       "      <td>712089</td>\n",
       "      <td>714198</td>\n",
       "      <td>715472</td>\n",
       "      <td>19195333939</td>\n",
       "      <td>485514974</td>\n",
       "      <td>21481083</td>\n",
       "      <td>2068</td>\n",
       "      <td>NaN</td>\n",
       "      <td>1.00</td>\n",
       "      <td>1.00</td>\n",
       "      <td>1.00</td>\n",
       "      <td>1.00</td>\n",
       "      <td>1.00</td>\n",
       "      <td>1.0</td>\n",
       "      <td>1.0</td>\n",
       "      <td>1.00</td>\n",
       "      <td>NaN</td>\n",
       "      <td>551</td>\n",
       "      <td>0.9</td>\n",
       "      <td>20889</td>\n",
       "      <td>3.0</td>\n",
       "      <td>20983</td>\n",
       "      <td>3.0</td>\n",
       "      <td>19350</td>\n",
       "      <td>2.8</td>\n",
       "      <td>1538440221</td>\n",
       "      <td>8.7</td>\n",
       "      <td>-37707064</td>\n",
       "      <td>-7.2</td>\n",
       "      <td>-3100728</td>\n",
       "      <td>-12.6</td>\n",
       "      <td>110</td>\n",
       "      <td>5.6</td>\n",
       "    </tr>\n",
       "    <tr>\n",
       "      <th>4</th>\n",
       "      <td>6075</td>\n",
       "      <td>1</td>\n",
       "      <td>10</td>\n",
       "      <td>71</td>\n",
       "      <td>0</td>\n",
       "      <td>2016</td>\n",
       "      <td>1</td>\n",
       "      <td>NaN</td>\n",
       "      <td>San Francisco County, California</td>\n",
       "      <td>Federal Government</td>\n",
       "      <td>Total, all industries</td>\n",
       "      <td>County, Total -- by ownership sector</td>\n",
       "      <td>All establishment sizes</td>\n",
       "      <td>131</td>\n",
       "      <td>13940</td>\n",
       "      <td>13930</td>\n",
       "      <td>13892</td>\n",
       "      <td>348054828</td>\n",
       "      <td>0</td>\n",
       "      <td>0</td>\n",
       "      <td>1923</td>\n",
       "      <td>NaN</td>\n",
       "      <td>0.35</td>\n",
       "      <td>1.02</td>\n",
       "      <td>1.02</td>\n",
       "      <td>1.01</td>\n",
       "      <td>0.66</td>\n",
       "      <td>0.0</td>\n",
       "      <td>0.0</td>\n",
       "      <td>0.65</td>\n",
       "      <td>NaN</td>\n",
       "      <td>1</td>\n",
       "      <td>0.8</td>\n",
       "      <td>-39</td>\n",
       "      <td>-0.3</td>\n",
       "      <td>-2</td>\n",
       "      <td>0.0</td>\n",
       "      <td>6</td>\n",
       "      <td>0.0</td>\n",
       "      <td>-14235549</td>\n",
       "      <td>-3.9</td>\n",
       "      <td>0</td>\n",
       "      <td>0.0</td>\n",
       "      <td>0</td>\n",
       "      <td>0.0</td>\n",
       "      <td>-77</td>\n",
       "      <td>-3.8</td>\n",
       "    </tr>\n",
       "  </tbody>\n",
       "</table>\n",
       "</div>"
      ],
      "text/plain": [
       "   area_fips  own_code industry_code  agglvl_code  size_code  year  qtr  \\\n",
       "0       6075         0            10           70          0  2016    1   \n",
       "1       6075         0            10           70          0  2016    2   \n",
       "2       6075         0            10           70          0  2016    3   \n",
       "3       6075         0            10           70          0  2016    4   \n",
       "4       6075         1            10           71          0  2016    1   \n",
       "\n",
       "  disclosure_code                        area_title           own_title  \\\n",
       "0             NaN  San Francisco County, California       Total Covered   \n",
       "1             NaN  San Francisco County, California       Total Covered   \n",
       "2             NaN  San Francisco County, California       Total Covered   \n",
       "3             NaN  San Francisco County, California       Total Covered   \n",
       "4             NaN  San Francisco County, California  Federal Government   \n",
       "\n",
       "          industry_title                          agglvl_title  \\\n",
       "0  Total, all industries                 County, Total Covered   \n",
       "1  Total, all industries                 County, Total Covered   \n",
       "2  Total, all industries                 County, Total Covered   \n",
       "3  Total, all industries                 County, Total Covered   \n",
       "4  Total, all industries  County, Total -- by ownership sector   \n",
       "\n",
       "                size_title  qtrly_estabs_count  month1_emplvl  month2_emplvl  \\\n",
       "0  All establishment sizes               58715         685256         692882   \n",
       "1  All establishment sizes               59201         699233         700941   \n",
       "2  All establishment sizes               59848         702551         709096   \n",
       "3  All establishment sizes               59907         712089         714198   \n",
       "4  All establishment sizes                 131          13940          13930   \n",
       "\n",
       "   month3_emplvl  total_qtrly_wages  taxable_qtrly_wages  qtrly_contributions  \\\n",
       "0         695032        18504489951           3865985572            181599540   \n",
       "1         701355        16427271312            751356198             32830359   \n",
       "2         710220        17346974438            594344249             26362627   \n",
       "3         715472        19195333939            485514974             21481083   \n",
       "4          13892          348054828                    0                    0   \n",
       "\n",
       "   avg_wkly_wage lq_disclosure_code  lq_qtrly_estabs_count  lq_month1_emplvl  \\\n",
       "0           2060                NaN                   1.00              1.00   \n",
       "1           1804                NaN                   1.00              1.00   \n",
       "2           1887                NaN                   1.00              1.00   \n",
       "3           2068                NaN                   1.00              1.00   \n",
       "4           1923                NaN                   0.35              1.02   \n",
       "\n",
       "   lq_month2_emplvl  lq_month3_emplvl  lq_total_qtrly_wages  \\\n",
       "0              1.00              1.00                  1.00   \n",
       "1              1.00              1.00                  1.00   \n",
       "2              1.00              1.00                  1.00   \n",
       "3              1.00              1.00                  1.00   \n",
       "4              1.02              1.01                  0.66   \n",
       "\n",
       "   lq_taxable_qtrly_wages  lq_qtrly_contributions  lq_avg_wkly_wage  \\\n",
       "0                     1.0                     1.0              1.00   \n",
       "1                     1.0                     1.0              1.00   \n",
       "2                     1.0                     1.0              1.00   \n",
       "3                     1.0                     1.0              1.00   \n",
       "4                     0.0                     0.0              0.65   \n",
       "\n",
       "  oty_disclosure_code  oty_qtrly_estabs_count_chg  \\\n",
       "0                 NaN                        1186   \n",
       "1                 NaN                        1061   \n",
       "2                 NaN                        1181   \n",
       "3                 NaN                         551   \n",
       "4                 NaN                           1   \n",
       "\n",
       "   oty_qtrly_estabs_count_pct_chg  oty_month1_emplvl_chg  \\\n",
       "0                             2.1                  34585   \n",
       "1                             1.8                  32852   \n",
       "2                             2.0                  28003   \n",
       "3                             0.9                  20889   \n",
       "4                             0.8                    -39   \n",
       "\n",
       "   oty_month1_emplvl_pct_chg  oty_month2_emplvl_chg  \\\n",
       "0                        5.3                  36930   \n",
       "1                        4.9                  30551   \n",
       "2                        4.2                  27322   \n",
       "3                        3.0                  20983   \n",
       "4                       -0.3                     -2   \n",
       "\n",
       "   oty_month2_emplvl_pct_chg  oty_month3_emplvl_chg  \\\n",
       "0                        5.6                  34044   \n",
       "1                        4.6                  30955   \n",
       "2                        4.0                  26109   \n",
       "3                        3.0                  19350   \n",
       "4                        0.0                      6   \n",
       "\n",
       "   oty_month3_emplvl_pct_chg  oty_total_qtrly_wages_chg  \\\n",
       "0                        5.2                  867812854   \n",
       "1                        4.6                 1406371630   \n",
       "2                        3.8                 2175563972   \n",
       "3                        2.8                 1538440221   \n",
       "4                        0.0                  -14235549   \n",
       "\n",
       "   oty_total_qtrly_wages_pct_chg  oty_taxable_qtrly_wages_chg  \\\n",
       "0                            4.9                    289574377   \n",
       "1                            9.4                      2725704   \n",
       "2                           14.3                     -7837217   \n",
       "3                            8.7                    -37707064   \n",
       "4                           -3.9                            0   \n",
       "\n",
       "   oty_taxable_qtrly_wages_pct_chg  oty_qtrly_contributions_chg  \\\n",
       "0                              8.1                      2275423   \n",
       "1                              0.4                     -1761493   \n",
       "2                             -1.3                     -1629463   \n",
       "3                             -7.2                     -3100728   \n",
       "4                              0.0                            0   \n",
       "\n",
       "   oty_qtrly_contributions_pct_chg  oty_avg_wkly_wage_chg  \\\n",
       "0                              1.3                     -8   \n",
       "1                             -5.1                     77   \n",
       "2                             -5.8                    171   \n",
       "3                            -12.6                    110   \n",
       "4                              0.0                    -77   \n",
       "\n",
       "   oty_avg_wkly_wage_pct_chg  \n",
       "0                       -0.4  \n",
       "1                        4.5  \n",
       "2                       10.0  \n",
       "3                        5.6  \n",
       "4                       -3.8  "
      ]
     },
     "execution_count": 295,
     "metadata": {},
     "output_type": "execute_result"
    }
   ],
   "source": [
    "qcew_sf.head()"
   ]
  },
  {
   "cell_type": "code",
   "execution_count": 296,
   "metadata": {
    "collapsed": false
   },
   "outputs": [
    {
     "name": "stdout",
     "output_type": "stream",
     "text": [
      "<class 'pandas.core.frame.DataFrame'>\n",
      "RangeIndex: 7840 entries, 0 to 7839\n",
      "Data columns (total 47 columns):\n",
      "area_fips                          7840 non-null int64\n",
      "own_code                           7840 non-null int64\n",
      "industry_code                      7840 non-null object\n",
      "agglvl_code                        7840 non-null int64\n",
      "size_code                          7840 non-null int64\n",
      "year                               7840 non-null int64\n",
      "qtr                                7840 non-null int64\n",
      "disclosure_code                    2716 non-null object\n",
      "area_title                         7840 non-null object\n",
      "own_title                          7840 non-null object\n",
      "industry_title                     7840 non-null object\n",
      "agglvl_title                       7840 non-null object\n",
      "size_title                         7840 non-null object\n",
      "qtrly_estabs_count                 7840 non-null int64\n",
      "month1_emplvl                      7840 non-null int64\n",
      "month2_emplvl                      7840 non-null int64\n",
      "month3_emplvl                      7840 non-null int64\n",
      "total_qtrly_wages                  7840 non-null int64\n",
      "taxable_qtrly_wages                7840 non-null int64\n",
      "qtrly_contributions                7840 non-null int64\n",
      "avg_wkly_wage                      7840 non-null int64\n",
      "lq_disclosure_code                 2716 non-null object\n",
      "lq_qtrly_estabs_count              7840 non-null float64\n",
      "lq_month1_emplvl                   7840 non-null float64\n",
      "lq_month2_emplvl                   7840 non-null float64\n",
      "lq_month3_emplvl                   7840 non-null float64\n",
      "lq_total_qtrly_wages               7840 non-null float64\n",
      "lq_taxable_qtrly_wages             7840 non-null float64\n",
      "lq_qtrly_contributions             7840 non-null float64\n",
      "lq_avg_wkly_wage                   7840 non-null float64\n",
      "oty_disclosure_code                2970 non-null object\n",
      "oty_qtrly_estabs_count_chg         7840 non-null int64\n",
      "oty_qtrly_estabs_count_pct_chg     7840 non-null float64\n",
      "oty_month1_emplvl_chg              7840 non-null int64\n",
      "oty_month1_emplvl_pct_chg          7840 non-null float64\n",
      "oty_month2_emplvl_chg              7840 non-null int64\n",
      "oty_month2_emplvl_pct_chg          7840 non-null float64\n",
      "oty_month3_emplvl_chg              7840 non-null int64\n",
      "oty_month3_emplvl_pct_chg          7840 non-null float64\n",
      "oty_total_qtrly_wages_chg          7840 non-null int64\n",
      "oty_total_qtrly_wages_pct_chg      7840 non-null float64\n",
      "oty_taxable_qtrly_wages_chg        7840 non-null int64\n",
      "oty_taxable_qtrly_wages_pct_chg    7840 non-null float64\n",
      "oty_qtrly_contributions_chg        7840 non-null int64\n",
      "oty_qtrly_contributions_pct_chg    7840 non-null float64\n",
      "oty_avg_wkly_wage_chg              7840 non-null int64\n",
      "oty_avg_wkly_wage_pct_chg          7840 non-null float64\n",
      "dtypes: float64(16), int64(22), object(9)\n",
      "memory usage: 2.8+ MB\n"
     ]
    }
   ],
   "source": [
    "qcew_sf.info()"
   ]
  },
  {
   "cell_type": "code",
   "execution_count": 297,
   "metadata": {
    "collapsed": true
   },
   "outputs": [],
   "source": [
    "codes = ['10','44-45','61','62','71','72']"
   ]
  },
  {
   "cell_type": "code",
   "execution_count": 298,
   "metadata": {
    "collapsed": false
   },
   "outputs": [],
   "source": [
    "qcew_sf2 = qcew_sf[qcew_sf['industry_code'].isin(codes)]"
   ]
  },
  {
   "cell_type": "code",
   "execution_count": 299,
   "metadata": {
    "collapsed": false
   },
   "outputs": [],
   "source": [
    "qcew_sf3 = qcew_sf2[qcew_sf2['qtr'] == 4]"
   ]
  },
  {
   "cell_type": "code",
   "execution_count": 300,
   "metadata": {
    "collapsed": false
   },
   "outputs": [
    {
     "data": {
      "text/html": [
       "<div>\n",
       "<table border=\"1\" class=\"dataframe\">\n",
       "  <thead>\n",
       "    <tr style=\"text-align: right;\">\n",
       "      <th></th>\n",
       "      <th>area_fips</th>\n",
       "      <th>own_code</th>\n",
       "      <th>industry_code</th>\n",
       "      <th>agglvl_code</th>\n",
       "      <th>size_code</th>\n",
       "      <th>year</th>\n",
       "      <th>qtr</th>\n",
       "      <th>disclosure_code</th>\n",
       "      <th>area_title</th>\n",
       "      <th>own_title</th>\n",
       "      <th>industry_title</th>\n",
       "      <th>agglvl_title</th>\n",
       "      <th>size_title</th>\n",
       "      <th>qtrly_estabs_count</th>\n",
       "      <th>month1_emplvl</th>\n",
       "      <th>month2_emplvl</th>\n",
       "      <th>month3_emplvl</th>\n",
       "      <th>total_qtrly_wages</th>\n",
       "      <th>taxable_qtrly_wages</th>\n",
       "      <th>qtrly_contributions</th>\n",
       "      <th>avg_wkly_wage</th>\n",
       "      <th>lq_disclosure_code</th>\n",
       "      <th>lq_qtrly_estabs_count</th>\n",
       "      <th>lq_month1_emplvl</th>\n",
       "      <th>lq_month2_emplvl</th>\n",
       "      <th>lq_month3_emplvl</th>\n",
       "      <th>lq_total_qtrly_wages</th>\n",
       "      <th>lq_taxable_qtrly_wages</th>\n",
       "      <th>lq_qtrly_contributions</th>\n",
       "      <th>lq_avg_wkly_wage</th>\n",
       "      <th>oty_disclosure_code</th>\n",
       "      <th>oty_qtrly_estabs_count_chg</th>\n",
       "      <th>oty_qtrly_estabs_count_pct_chg</th>\n",
       "      <th>oty_month1_emplvl_chg</th>\n",
       "      <th>oty_month1_emplvl_pct_chg</th>\n",
       "      <th>oty_month2_emplvl_chg</th>\n",
       "      <th>oty_month2_emplvl_pct_chg</th>\n",
       "      <th>oty_month3_emplvl_chg</th>\n",
       "      <th>oty_month3_emplvl_pct_chg</th>\n",
       "      <th>oty_total_qtrly_wages_chg</th>\n",
       "      <th>oty_total_qtrly_wages_pct_chg</th>\n",
       "      <th>oty_taxable_qtrly_wages_chg</th>\n",
       "      <th>oty_taxable_qtrly_wages_pct_chg</th>\n",
       "      <th>oty_qtrly_contributions_chg</th>\n",
       "      <th>oty_qtrly_contributions_pct_chg</th>\n",
       "      <th>oty_avg_wkly_wage_chg</th>\n",
       "      <th>oty_avg_wkly_wage_pct_chg</th>\n",
       "    </tr>\n",
       "  </thead>\n",
       "  <tbody>\n",
       "    <tr>\n",
       "      <th>3</th>\n",
       "      <td>6075</td>\n",
       "      <td>0</td>\n",
       "      <td>10</td>\n",
       "      <td>70</td>\n",
       "      <td>0</td>\n",
       "      <td>2016</td>\n",
       "      <td>4</td>\n",
       "      <td>NaN</td>\n",
       "      <td>San Francisco County, California</td>\n",
       "      <td>Total Covered</td>\n",
       "      <td>Total, all industries</td>\n",
       "      <td>County, Total Covered</td>\n",
       "      <td>All establishment sizes</td>\n",
       "      <td>59907</td>\n",
       "      <td>712089</td>\n",
       "      <td>714198</td>\n",
       "      <td>715472</td>\n",
       "      <td>19195333939</td>\n",
       "      <td>485514974</td>\n",
       "      <td>21481083</td>\n",
       "      <td>2068</td>\n",
       "      <td>NaN</td>\n",
       "      <td>1.00</td>\n",
       "      <td>1.00</td>\n",
       "      <td>1.00</td>\n",
       "      <td>1.00</td>\n",
       "      <td>1.00</td>\n",
       "      <td>1.0</td>\n",
       "      <td>1.0</td>\n",
       "      <td>1.00</td>\n",
       "      <td>NaN</td>\n",
       "      <td>551</td>\n",
       "      <td>0.9</td>\n",
       "      <td>20889</td>\n",
       "      <td>3.0</td>\n",
       "      <td>20983</td>\n",
       "      <td>3.0</td>\n",
       "      <td>19350</td>\n",
       "      <td>2.8</td>\n",
       "      <td>1538440221</td>\n",
       "      <td>8.7</td>\n",
       "      <td>-37707064</td>\n",
       "      <td>-7.2</td>\n",
       "      <td>-3100728</td>\n",
       "      <td>-12.6</td>\n",
       "      <td>110</td>\n",
       "      <td>5.6</td>\n",
       "    </tr>\n",
       "    <tr>\n",
       "      <th>7</th>\n",
       "      <td>6075</td>\n",
       "      <td>1</td>\n",
       "      <td>10</td>\n",
       "      <td>71</td>\n",
       "      <td>0</td>\n",
       "      <td>2016</td>\n",
       "      <td>4</td>\n",
       "      <td>NaN</td>\n",
       "      <td>San Francisco County, California</td>\n",
       "      <td>Federal Government</td>\n",
       "      <td>Total, all industries</td>\n",
       "      <td>County, Total -- by ownership sector</td>\n",
       "      <td>All establishment sizes</td>\n",
       "      <td>130</td>\n",
       "      <td>14084</td>\n",
       "      <td>14079</td>\n",
       "      <td>14075</td>\n",
       "      <td>351967660</td>\n",
       "      <td>0</td>\n",
       "      <td>0</td>\n",
       "      <td>1923</td>\n",
       "      <td>NaN</td>\n",
       "      <td>0.35</td>\n",
       "      <td>1.01</td>\n",
       "      <td>1.01</td>\n",
       "      <td>1.00</td>\n",
       "      <td>0.65</td>\n",
       "      <td>0.0</td>\n",
       "      <td>0.0</td>\n",
       "      <td>0.65</td>\n",
       "      <td>NaN</td>\n",
       "      <td>-1</td>\n",
       "      <td>-0.8</td>\n",
       "      <td>185</td>\n",
       "      <td>1.3</td>\n",
       "      <td>153</td>\n",
       "      <td>1.1</td>\n",
       "      <td>47</td>\n",
       "      <td>0.3</td>\n",
       "      <td>20045818</td>\n",
       "      <td>6.0</td>\n",
       "      <td>0</td>\n",
       "      <td>0.0</td>\n",
       "      <td>0</td>\n",
       "      <td>0.0</td>\n",
       "      <td>93</td>\n",
       "      <td>5.1</td>\n",
       "    </tr>\n",
       "    <tr>\n",
       "      <th>167</th>\n",
       "      <td>6075</td>\n",
       "      <td>1</td>\n",
       "      <td>62</td>\n",
       "      <td>74</td>\n",
       "      <td>0</td>\n",
       "      <td>2016</td>\n",
       "      <td>4</td>\n",
       "      <td>NaN</td>\n",
       "      <td>San Francisco County, California</td>\n",
       "      <td>Federal Government</td>\n",
       "      <td>Health care and social assistance</td>\n",
       "      <td>County, NAICS Sector -- by ownership sector</td>\n",
       "      <td>All establishment sizes</td>\n",
       "      <td>1</td>\n",
       "      <td>2942</td>\n",
       "      <td>2929</td>\n",
       "      <td>2932</td>\n",
       "      <td>75637119</td>\n",
       "      <td>0</td>\n",
       "      <td>0</td>\n",
       "      <td>1983</td>\n",
       "      <td>NaN</td>\n",
       "      <td>0.13</td>\n",
       "      <td>1.50</td>\n",
       "      <td>1.49</td>\n",
       "      <td>1.48</td>\n",
       "      <td>0.99</td>\n",
       "      <td>0.0</td>\n",
       "      <td>0.0</td>\n",
       "      <td>0.66</td>\n",
       "      <td>NaN</td>\n",
       "      <td>0</td>\n",
       "      <td>0.0</td>\n",
       "      <td>206</td>\n",
       "      <td>7.5</td>\n",
       "      <td>136</td>\n",
       "      <td>4.9</td>\n",
       "      <td>135</td>\n",
       "      <td>4.8</td>\n",
       "      <td>15033906</td>\n",
       "      <td>24.8</td>\n",
       "      <td>0</td>\n",
       "      <td>0.0</td>\n",
       "      <td>0</td>\n",
       "      <td>0.0</td>\n",
       "      <td>303</td>\n",
       "      <td>18.0</td>\n",
       "    </tr>\n",
       "    <tr>\n",
       "      <th>187</th>\n",
       "      <td>6075</td>\n",
       "      <td>1</td>\n",
       "      <td>71</td>\n",
       "      <td>74</td>\n",
       "      <td>0</td>\n",
       "      <td>2016</td>\n",
       "      <td>4</td>\n",
       "      <td>NaN</td>\n",
       "      <td>San Francisco County, California</td>\n",
       "      <td>Federal Government</td>\n",
       "      <td>Arts, entertainment, and recreation</td>\n",
       "      <td>County, NAICS Sector -- by ownership sector</td>\n",
       "      <td>All establishment sizes</td>\n",
       "      <td>2</td>\n",
       "      <td>543</td>\n",
       "      <td>519</td>\n",
       "      <td>522</td>\n",
       "      <td>10045765</td>\n",
       "      <td>0</td>\n",
       "      <td>0</td>\n",
       "      <td>1464</td>\n",
       "      <td>NaN</td>\n",
       "      <td>0.28</td>\n",
       "      <td>2.71</td>\n",
       "      <td>2.72</td>\n",
       "      <td>2.73</td>\n",
       "      <td>2.20</td>\n",
       "      <td>0.0</td>\n",
       "      <td>0.0</td>\n",
       "      <td>0.81</td>\n",
       "      <td>NaN</td>\n",
       "      <td>-1</td>\n",
       "      <td>-33.3</td>\n",
       "      <td>2</td>\n",
       "      <td>0.4</td>\n",
       "      <td>-6</td>\n",
       "      <td>-1.1</td>\n",
       "      <td>0</td>\n",
       "      <td>0.0</td>\n",
       "      <td>302792</td>\n",
       "      <td>3.1</td>\n",
       "      <td>0</td>\n",
       "      <td>0.0</td>\n",
       "      <td>0</td>\n",
       "      <td>0.0</td>\n",
       "      <td>48</td>\n",
       "      <td>3.4</td>\n",
       "    </tr>\n",
       "    <tr>\n",
       "      <th>447</th>\n",
       "      <td>6075</td>\n",
       "      <td>2</td>\n",
       "      <td>10</td>\n",
       "      <td>71</td>\n",
       "      <td>0</td>\n",
       "      <td>2016</td>\n",
       "      <td>4</td>\n",
       "      <td>NaN</td>\n",
       "      <td>San Francisco County, California</td>\n",
       "      <td>State Government</td>\n",
       "      <td>Total, all industries</td>\n",
       "      <td>County, Total -- by ownership sector</td>\n",
       "      <td>All establishment sizes</td>\n",
       "      <td>570</td>\n",
       "      <td>37990</td>\n",
       "      <td>37779</td>\n",
       "      <td>37947</td>\n",
       "      <td>895332776</td>\n",
       "      <td>0</td>\n",
       "      <td>0</td>\n",
       "      <td>1817</td>\n",
       "      <td>NaN</td>\n",
       "      <td>1.35</td>\n",
       "      <td>1.66</td>\n",
       "      <td>1.65</td>\n",
       "      <td>1.65</td>\n",
       "      <td>1.41</td>\n",
       "      <td>0.0</td>\n",
       "      <td>0.0</td>\n",
       "      <td>0.85</td>\n",
       "      <td>NaN</td>\n",
       "      <td>-202</td>\n",
       "      <td>-26.2</td>\n",
       "      <td>-2241</td>\n",
       "      <td>-5.6</td>\n",
       "      <td>-2572</td>\n",
       "      <td>-6.4</td>\n",
       "      <td>-2428</td>\n",
       "      <td>-6.0</td>\n",
       "      <td>-95702682</td>\n",
       "      <td>-9.7</td>\n",
       "      <td>0</td>\n",
       "      <td>0.0</td>\n",
       "      <td>0</td>\n",
       "      <td>0.0</td>\n",
       "      <td>-74</td>\n",
       "      <td>-3.9</td>\n",
       "    </tr>\n",
       "  </tbody>\n",
       "</table>\n",
       "</div>"
      ],
      "text/plain": [
       "     area_fips  own_code industry_code  agglvl_code  size_code  year  qtr  \\\n",
       "3         6075         0            10           70          0  2016    4   \n",
       "7         6075         1            10           71          0  2016    4   \n",
       "167       6075         1            62           74          0  2016    4   \n",
       "187       6075         1            71           74          0  2016    4   \n",
       "447       6075         2            10           71          0  2016    4   \n",
       "\n",
       "    disclosure_code                        area_title           own_title  \\\n",
       "3               NaN  San Francisco County, California       Total Covered   \n",
       "7               NaN  San Francisco County, California  Federal Government   \n",
       "167             NaN  San Francisco County, California  Federal Government   \n",
       "187             NaN  San Francisco County, California  Federal Government   \n",
       "447             NaN  San Francisco County, California    State Government   \n",
       "\n",
       "                          industry_title  \\\n",
       "3                  Total, all industries   \n",
       "7                  Total, all industries   \n",
       "167    Health care and social assistance   \n",
       "187  Arts, entertainment, and recreation   \n",
       "447                Total, all industries   \n",
       "\n",
       "                                    agglvl_title               size_title  \\\n",
       "3                          County, Total Covered  All establishment sizes   \n",
       "7           County, Total -- by ownership sector  All establishment sizes   \n",
       "167  County, NAICS Sector -- by ownership sector  All establishment sizes   \n",
       "187  County, NAICS Sector -- by ownership sector  All establishment sizes   \n",
       "447         County, Total -- by ownership sector  All establishment sizes   \n",
       "\n",
       "     qtrly_estabs_count  month1_emplvl  month2_emplvl  month3_emplvl  \\\n",
       "3                 59907         712089         714198         715472   \n",
       "7                   130          14084          14079          14075   \n",
       "167                   1           2942           2929           2932   \n",
       "187                   2            543            519            522   \n",
       "447                 570          37990          37779          37947   \n",
       "\n",
       "     total_qtrly_wages  taxable_qtrly_wages  qtrly_contributions  \\\n",
       "3          19195333939            485514974             21481083   \n",
       "7            351967660                    0                    0   \n",
       "167           75637119                    0                    0   \n",
       "187           10045765                    0                    0   \n",
       "447          895332776                    0                    0   \n",
       "\n",
       "     avg_wkly_wage lq_disclosure_code  lq_qtrly_estabs_count  \\\n",
       "3             2068                NaN                   1.00   \n",
       "7             1923                NaN                   0.35   \n",
       "167           1983                NaN                   0.13   \n",
       "187           1464                NaN                   0.28   \n",
       "447           1817                NaN                   1.35   \n",
       "\n",
       "     lq_month1_emplvl  lq_month2_emplvl  lq_month3_emplvl  \\\n",
       "3                1.00              1.00              1.00   \n",
       "7                1.01              1.01              1.00   \n",
       "167              1.50              1.49              1.48   \n",
       "187              2.71              2.72              2.73   \n",
       "447              1.66              1.65              1.65   \n",
       "\n",
       "     lq_total_qtrly_wages  lq_taxable_qtrly_wages  lq_qtrly_contributions  \\\n",
       "3                    1.00                     1.0                     1.0   \n",
       "7                    0.65                     0.0                     0.0   \n",
       "167                  0.99                     0.0                     0.0   \n",
       "187                  2.20                     0.0                     0.0   \n",
       "447                  1.41                     0.0                     0.0   \n",
       "\n",
       "     lq_avg_wkly_wage oty_disclosure_code  oty_qtrly_estabs_count_chg  \\\n",
       "3                1.00                 NaN                         551   \n",
       "7                0.65                 NaN                          -1   \n",
       "167              0.66                 NaN                           0   \n",
       "187              0.81                 NaN                          -1   \n",
       "447              0.85                 NaN                        -202   \n",
       "\n",
       "     oty_qtrly_estabs_count_pct_chg  oty_month1_emplvl_chg  \\\n",
       "3                               0.9                  20889   \n",
       "7                              -0.8                    185   \n",
       "167                             0.0                    206   \n",
       "187                           -33.3                      2   \n",
       "447                           -26.2                  -2241   \n",
       "\n",
       "     oty_month1_emplvl_pct_chg  oty_month2_emplvl_chg  \\\n",
       "3                          3.0                  20983   \n",
       "7                          1.3                    153   \n",
       "167                        7.5                    136   \n",
       "187                        0.4                     -6   \n",
       "447                       -5.6                  -2572   \n",
       "\n",
       "     oty_month2_emplvl_pct_chg  oty_month3_emplvl_chg  \\\n",
       "3                          3.0                  19350   \n",
       "7                          1.1                     47   \n",
       "167                        4.9                    135   \n",
       "187                       -1.1                      0   \n",
       "447                       -6.4                  -2428   \n",
       "\n",
       "     oty_month3_emplvl_pct_chg  oty_total_qtrly_wages_chg  \\\n",
       "3                          2.8                 1538440221   \n",
       "7                          0.3                   20045818   \n",
       "167                        4.8                   15033906   \n",
       "187                        0.0                     302792   \n",
       "447                       -6.0                  -95702682   \n",
       "\n",
       "     oty_total_qtrly_wages_pct_chg  oty_taxable_qtrly_wages_chg  \\\n",
       "3                              8.7                    -37707064   \n",
       "7                              6.0                            0   \n",
       "167                           24.8                            0   \n",
       "187                            3.1                            0   \n",
       "447                           -9.7                            0   \n",
       "\n",
       "     oty_taxable_qtrly_wages_pct_chg  oty_qtrly_contributions_chg  \\\n",
       "3                               -7.2                     -3100728   \n",
       "7                                0.0                            0   \n",
       "167                              0.0                            0   \n",
       "187                              0.0                            0   \n",
       "447                              0.0                            0   \n",
       "\n",
       "     oty_qtrly_contributions_pct_chg  oty_avg_wkly_wage_chg  \\\n",
       "3                              -12.6                    110   \n",
       "7                                0.0                     93   \n",
       "167                              0.0                    303   \n",
       "187                              0.0                     48   \n",
       "447                              0.0                    -74   \n",
       "\n",
       "     oty_avg_wkly_wage_pct_chg  \n",
       "3                          5.6  \n",
       "7                          5.1  \n",
       "167                       18.0  \n",
       "187                        3.4  \n",
       "447                       -3.9  "
      ]
     },
     "execution_count": 300,
     "metadata": {},
     "output_type": "execute_result"
    }
   ],
   "source": [
    "qcew_sf3.head()"
   ]
  },
  {
   "cell_type": "code",
   "execution_count": 301,
   "metadata": {
    "collapsed": false
   },
   "outputs": [],
   "source": [
    "#drop out the first row because it was a total and not needed\n",
    "qcew_sf3 = qcew_sf3.ix[4:]"
   ]
  },
  {
   "cell_type": "code",
   "execution_count": 302,
   "metadata": {
    "collapsed": false
   },
   "outputs": [],
   "source": [
    "grouped = qcew_sf3[['industry_code','year','month1_emplvl','month2_emplvl','month3_emplvl']].groupby(by = 'industry_code',as_index = False).agg({'year':'first','month1_emplvl':'sum','month2_emplvl':'sum','month3_emplvl':'sum'})"
   ]
  },
  {
   "cell_type": "code",
   "execution_count": 303,
   "metadata": {
    "collapsed": false
   },
   "outputs": [
    {
     "data": {
      "text/html": [
       "<div>\n",
       "<table border=\"1\" class=\"dataframe\">\n",
       "  <thead>\n",
       "    <tr style=\"text-align: right;\">\n",
       "      <th></th>\n",
       "      <th>industry_code</th>\n",
       "      <th>month3_emplvl</th>\n",
       "      <th>month2_emplvl</th>\n",
       "      <th>year</th>\n",
       "      <th>month1_emplvl</th>\n",
       "    </tr>\n",
       "  </thead>\n",
       "  <tbody>\n",
       "    <tr>\n",
       "      <th>0</th>\n",
       "      <td>10</td>\n",
       "      <td>715472</td>\n",
       "      <td>714198</td>\n",
       "      <td>2016</td>\n",
       "      <td>712089</td>\n",
       "    </tr>\n",
       "    <tr>\n",
       "      <th>1</th>\n",
       "      <td>44-45</td>\n",
       "      <td>48468</td>\n",
       "      <td>47809</td>\n",
       "      <td>2016</td>\n",
       "      <td>46540</td>\n",
       "    </tr>\n",
       "    <tr>\n",
       "      <th>2</th>\n",
       "      <td>61</td>\n",
       "      <td>17593</td>\n",
       "      <td>17882</td>\n",
       "      <td>2016</td>\n",
       "      <td>17890</td>\n",
       "    </tr>\n",
       "    <tr>\n",
       "      <th>3</th>\n",
       "      <td>62</td>\n",
       "      <td>72747</td>\n",
       "      <td>72595</td>\n",
       "      <td>2016</td>\n",
       "      <td>72431</td>\n",
       "    </tr>\n",
       "    <tr>\n",
       "      <th>4</th>\n",
       "      <td>71</td>\n",
       "      <td>15151</td>\n",
       "      <td>14950</td>\n",
       "      <td>2016</td>\n",
       "      <td>15731</td>\n",
       "    </tr>\n",
       "  </tbody>\n",
       "</table>\n",
       "</div>"
      ],
      "text/plain": [
       "  industry_code  month3_emplvl  month2_emplvl  year  month1_emplvl\n",
       "0            10         715472         714198  2016         712089\n",
       "1         44-45          48468          47809  2016          46540\n",
       "2            61          17593          17882  2016          17890\n",
       "3            62          72747          72595  2016          72431\n",
       "4            71          15151          14950  2016          15731"
      ]
     },
     "execution_count": 303,
     "metadata": {},
     "output_type": "execute_result"
    }
   ],
   "source": [
    "grouped.head()\n"
   ]
  },
  {
   "cell_type": "code",
   "execution_count": 52,
   "metadata": {
    "collapsed": false
   },
   "outputs": [],
   "source": [
    "#this is no longer needed because I only had to process 2016 and SF data\n",
    "years = ['2014','2015','2016']\n",
    "start_file = 'E:/Transit-Casa-Alex/Input/QCEW/'\n",
    "counties = ['.q1-q4 06075 San Francisco County, California.csv','.q1-q4 06081 San Mateo County, California.csv']\n",
    "\n",
    "codes = ['10','44-45','61','62','71','72']\n",
    "df_out = pd.DataFrame()\n",
    "\n",
    "for county in counties:\n",
    "    for year in years:\n",
    "        df = pd.read_csv(start_file + year + '/' + year + county)\n",
    "        df = df[df['industry_code'].isin(codes)]\n",
    "        df = df[df['qtr'] == 4]\n",
    "        df = df[['industry_code','year','month1_emplvl','month2_emplvl','month3_emplvl','area_fips']].groupby(by = 'industry_code',\n",
    "        as_index = False).agg({'year':'first','month1_emplvl':'sum','month2_emplvl':'sum','month3_emplvl':'sum','area_fips':'first'})\n",
    "        df_out = df_out.append(df)"
   ]
  },
  {
   "cell_type": "code",
   "execution_count": 307,
   "metadata": {
    "collapsed": false
   },
   "outputs": [],
   "source": [
    "grouped['Q4_AVG'] = (grouped['month1_emplvl'] + grouped['month2_emplvl'] + grouped['month3_emplvl'])/3"
   ]
  },
  {
   "cell_type": "code",
   "execution_count": 309,
   "metadata": {
    "collapsed": false
   },
   "outputs": [],
   "source": [
    "grouped.to_csv('E:\\Transit-Casa-Alex\\Output\\QCEW/SF_Quarter4_Annual.csv')"
   ]
  },
  {
   "cell_type": "markdown",
   "metadata": {},
   "source": [
    "# This is where scaling the LEHD data Starts"
   ]
  },
  {
   "cell_type": "code",
   "execution_count": 310,
   "metadata": {
    "collapsed": true
   },
   "outputs": [],
   "source": [
    "sf = gp.read_file('E:/Transit-Casa-Alex/Input/LEHD Census Blocks/2014/San Fran/075_Employment.shp')"
   ]
  },
  {
   "cell_type": "code",
   "execution_count": 98,
   "metadata": {
    "collapsed": true
   },
   "outputs": [],
   "source": [
    "#sm = gp.read_file('E:/Transit-Casa-Alex/Input/LEHD Census Blocks/2014/San Mat/081_Employment.shp')"
   ]
  },
  {
   "cell_type": "code",
   "execution_count": 66,
   "metadata": {
    "collapsed": false
   },
   "outputs": [
    {
     "data": {
      "text/plain": [
       "7444"
      ]
     },
     "execution_count": 66,
     "metadata": {},
     "output_type": "execute_result"
    }
   ],
   "source": [
    "len(sm)"
   ]
  },
  {
   "cell_type": "code",
   "execution_count": 221,
   "metadata": {
    "collapsed": false
   },
   "outputs": [
    {
     "data": {
      "text/plain": [
       "5593"
      ]
     },
     "execution_count": 221,
     "metadata": {},
     "output_type": "execute_result"
    }
   ],
   "source": [
    "len(sf)"
   ]
  },
  {
   "cell_type": "code",
   "execution_count": 68,
   "metadata": {
    "collapsed": false
   },
   "outputs": [
    {
     "data": {
      "text/html": [
       "<div>\n",
       "<table border=\"1\" class=\"dataframe\">\n",
       "  <thead>\n",
       "    <tr style=\"text-align: right;\">\n",
       "      <th></th>\n",
       "      <th>ALAND10</th>\n",
       "      <th>AWATER10</th>\n",
       "      <th>BLOCKCE10</th>\n",
       "      <th>BLOCK_ID</th>\n",
       "      <th>COUNTYFP10</th>\n",
       "      <th>EDHLTH_RAC</th>\n",
       "      <th>EDHLTH_WAC</th>\n",
       "      <th>EMP_RAC</th>\n",
       "      <th>EMP_WAC</th>\n",
       "      <th>FUNCSTAT10</th>\n",
       "      <th>GEOID10</th>\n",
       "      <th>INTPTLAT10</th>\n",
       "      <th>INTPTLON10</th>\n",
       "      <th>LEISER_RAC</th>\n",
       "      <th>LEISER_WAC</th>\n",
       "      <th>MTFCC10</th>\n",
       "      <th>NAME10</th>\n",
       "      <th>OTHER_RAC</th>\n",
       "      <th>OTHER_WAC</th>\n",
       "      <th>RETAIL_RAC</th>\n",
       "      <th>RETAIL_WAC</th>\n",
       "      <th>STATEFP10</th>\n",
       "      <th>TRACTCE10</th>\n",
       "      <th>UACE10</th>\n",
       "      <th>UATYP10</th>\n",
       "      <th>UR10</th>\n",
       "      <th>createda_1</th>\n",
       "      <th>createdate</th>\n",
       "      <th>geometry</th>\n",
       "      <th>h_geocode</th>\n",
       "      <th>w_geocode</th>\n",
       "    </tr>\n",
       "  </thead>\n",
       "  <tbody>\n",
       "    <tr>\n",
       "      <th>0</th>\n",
       "      <td>16958</td>\n",
       "      <td>0</td>\n",
       "      <td>2002</td>\n",
       "      <td>6.075021e+13</td>\n",
       "      <td>075</td>\n",
       "      <td>14.0</td>\n",
       "      <td>6.0</td>\n",
       "      <td>63.0</td>\n",
       "      <td>6.0</td>\n",
       "      <td>S</td>\n",
       "      <td>2147483647</td>\n",
       "      <td>+37.7500665</td>\n",
       "      <td>-122.4410751</td>\n",
       "      <td>6.0</td>\n",
       "      <td>0.0</td>\n",
       "      <td>G5040</td>\n",
       "      <td>Block 2002</td>\n",
       "      <td>41.0</td>\n",
       "      <td>0.0</td>\n",
       "      <td>2.0</td>\n",
       "      <td>0.0</td>\n",
       "      <td>06</td>\n",
       "      <td>021300</td>\n",
       "      <td>78904</td>\n",
       "      <td>U</td>\n",
       "      <td>U</td>\n",
       "      <td>20160219.0</td>\n",
       "      <td>20160219.0</td>\n",
       "      <td>POLYGON ((-122.440616 37.750902, -122.440459 3...</td>\n",
       "      <td>6.075021e+13</td>\n",
       "      <td>6.075021e+13</td>\n",
       "    </tr>\n",
       "    <tr>\n",
       "      <th>1</th>\n",
       "      <td>16823</td>\n",
       "      <td>0</td>\n",
       "      <td>2000</td>\n",
       "      <td>6.075021e+13</td>\n",
       "      <td>075</td>\n",
       "      <td>10.0</td>\n",
       "      <td>0.0</td>\n",
       "      <td>57.0</td>\n",
       "      <td>5.0</td>\n",
       "      <td>S</td>\n",
       "      <td>2147483647</td>\n",
       "      <td>+37.7501958</td>\n",
       "      <td>-122.4389330</td>\n",
       "      <td>5.0</td>\n",
       "      <td>0.0</td>\n",
       "      <td>G5040</td>\n",
       "      <td>Block 2000</td>\n",
       "      <td>39.0</td>\n",
       "      <td>5.0</td>\n",
       "      <td>3.0</td>\n",
       "      <td>0.0</td>\n",
       "      <td>06</td>\n",
       "      <td>021300</td>\n",
       "      <td>78904</td>\n",
       "      <td>U</td>\n",
       "      <td>U</td>\n",
       "      <td>20160219.0</td>\n",
       "      <td>20160219.0</td>\n",
       "      <td>POLYGON ((-122.438397 37.750226, -122.43832 37...</td>\n",
       "      <td>6.075021e+13</td>\n",
       "      <td>6.075021e+13</td>\n",
       "    </tr>\n",
       "    <tr>\n",
       "      <th>2</th>\n",
       "      <td>17020</td>\n",
       "      <td>0</td>\n",
       "      <td>3004</td>\n",
       "      <td>6.075021e+13</td>\n",
       "      <td>075</td>\n",
       "      <td>6.0</td>\n",
       "      <td>0.0</td>\n",
       "      <td>56.0</td>\n",
       "      <td>14.0</td>\n",
       "      <td>S</td>\n",
       "      <td>2147483647</td>\n",
       "      <td>+37.7567937</td>\n",
       "      <td>-122.4362701</td>\n",
       "      <td>10.0</td>\n",
       "      <td>0.0</td>\n",
       "      <td>G5040</td>\n",
       "      <td>Block 3004</td>\n",
       "      <td>35.0</td>\n",
       "      <td>14.0</td>\n",
       "      <td>5.0</td>\n",
       "      <td>0.0</td>\n",
       "      <td>06</td>\n",
       "      <td>020500</td>\n",
       "      <td>78904</td>\n",
       "      <td>U</td>\n",
       "      <td>U</td>\n",
       "      <td>20160219.0</td>\n",
       "      <td>20160219.0</td>\n",
       "      <td>POLYGON ((-122.435808 37.757623, -122.435642 3...</td>\n",
       "      <td>6.075021e+13</td>\n",
       "      <td>6.075021e+13</td>\n",
       "    </tr>\n",
       "    <tr>\n",
       "      <th>3</th>\n",
       "      <td>16415</td>\n",
       "      <td>0</td>\n",
       "      <td>1003</td>\n",
       "      <td>6.075021e+13</td>\n",
       "      <td>075</td>\n",
       "      <td>16.0</td>\n",
       "      <td>0.0</td>\n",
       "      <td>59.0</td>\n",
       "      <td>14.0</td>\n",
       "      <td>S</td>\n",
       "      <td>2147483647</td>\n",
       "      <td>+37.7535291</td>\n",
       "      <td>-122.4370498</td>\n",
       "      <td>3.0</td>\n",
       "      <td>1.0</td>\n",
       "      <td>G5040</td>\n",
       "      <td>Block 1003</td>\n",
       "      <td>38.0</td>\n",
       "      <td>13.0</td>\n",
       "      <td>2.0</td>\n",
       "      <td>0.0</td>\n",
       "      <td>06</td>\n",
       "      <td>021200</td>\n",
       "      <td>78904</td>\n",
       "      <td>U</td>\n",
       "      <td>U</td>\n",
       "      <td>20160219.0</td>\n",
       "      <td>20160219.0</td>\n",
       "      <td>POLYGON ((-122.436527 37.75354, -122.436454 37...</td>\n",
       "      <td>6.075021e+13</td>\n",
       "      <td>6.075021e+13</td>\n",
       "    </tr>\n",
       "    <tr>\n",
       "      <th>4</th>\n",
       "      <td>17523</td>\n",
       "      <td>0</td>\n",
       "      <td>4001</td>\n",
       "      <td>6.075021e+13</td>\n",
       "      <td>075</td>\n",
       "      <td>7.0</td>\n",
       "      <td>0.0</td>\n",
       "      <td>35.0</td>\n",
       "      <td>18.0</td>\n",
       "      <td>S</td>\n",
       "      <td>2147483647</td>\n",
       "      <td>+37.7557580</td>\n",
       "      <td>-122.4334002</td>\n",
       "      <td>3.0</td>\n",
       "      <td>0.0</td>\n",
       "      <td>G5040</td>\n",
       "      <td>Block 4001</td>\n",
       "      <td>24.0</td>\n",
       "      <td>18.0</td>\n",
       "      <td>1.0</td>\n",
       "      <td>0.0</td>\n",
       "      <td>06</td>\n",
       "      <td>021100</td>\n",
       "      <td>78904</td>\n",
       "      <td>U</td>\n",
       "      <td>U</td>\n",
       "      <td>20160219.0</td>\n",
       "      <td>20160219.0</td>\n",
       "      <td>POLYGON ((-122.432331 37.756227, -122.432254 3...</td>\n",
       "      <td>6.075021e+13</td>\n",
       "      <td>6.075021e+13</td>\n",
       "    </tr>\n",
       "  </tbody>\n",
       "</table>\n",
       "</div>"
      ],
      "text/plain": [
       "   ALAND10  AWATER10 BLOCKCE10      BLOCK_ID COUNTYFP10  EDHLTH_RAC  \\\n",
       "0    16958         0      2002  6.075021e+13        075        14.0   \n",
       "1    16823         0      2000  6.075021e+13        075        10.0   \n",
       "2    17020         0      3004  6.075021e+13        075         6.0   \n",
       "3    16415         0      1003  6.075021e+13        075        16.0   \n",
       "4    17523         0      4001  6.075021e+13        075         7.0   \n",
       "\n",
       "   EDHLTH_WAC  EMP_RAC  EMP_WAC FUNCSTAT10     GEOID10   INTPTLAT10  \\\n",
       "0         6.0     63.0      6.0          S  2147483647  +37.7500665   \n",
       "1         0.0     57.0      5.0          S  2147483647  +37.7501958   \n",
       "2         0.0     56.0     14.0          S  2147483647  +37.7567937   \n",
       "3         0.0     59.0     14.0          S  2147483647  +37.7535291   \n",
       "4         0.0     35.0     18.0          S  2147483647  +37.7557580   \n",
       "\n",
       "     INTPTLON10  LEISER_RAC  LEISER_WAC MTFCC10      NAME10  OTHER_RAC  \\\n",
       "0  -122.4410751         6.0         0.0   G5040  Block 2002       41.0   \n",
       "1  -122.4389330         5.0         0.0   G5040  Block 2000       39.0   \n",
       "2  -122.4362701        10.0         0.0   G5040  Block 3004       35.0   \n",
       "3  -122.4370498         3.0         1.0   G5040  Block 1003       38.0   \n",
       "4  -122.4334002         3.0         0.0   G5040  Block 4001       24.0   \n",
       "\n",
       "   OTHER_WAC  RETAIL_RAC  RETAIL_WAC STATEFP10 TRACTCE10 UACE10 UATYP10 UR10  \\\n",
       "0        0.0         2.0         0.0        06    021300  78904       U    U   \n",
       "1        5.0         3.0         0.0        06    021300  78904       U    U   \n",
       "2       14.0         5.0         0.0        06    020500  78904       U    U   \n",
       "3       13.0         2.0         0.0        06    021200  78904       U    U   \n",
       "4       18.0         1.0         0.0        06    021100  78904       U    U   \n",
       "\n",
       "   createda_1  createdate                                           geometry  \\\n",
       "0  20160219.0  20160219.0  POLYGON ((-122.440616 37.750902, -122.440459 3...   \n",
       "1  20160219.0  20160219.0  POLYGON ((-122.438397 37.750226, -122.43832 37...   \n",
       "2  20160219.0  20160219.0  POLYGON ((-122.435808 37.757623, -122.435642 3...   \n",
       "3  20160219.0  20160219.0  POLYGON ((-122.436527 37.75354, -122.436454 37...   \n",
       "4  20160219.0  20160219.0  POLYGON ((-122.432331 37.756227, -122.432254 3...   \n",
       "\n",
       "      h_geocode     w_geocode  \n",
       "0  6.075021e+13  6.075021e+13  \n",
       "1  6.075021e+13  6.075021e+13  \n",
       "2  6.075021e+13  6.075021e+13  \n",
       "3  6.075021e+13  6.075021e+13  \n",
       "4  6.075021e+13  6.075021e+13  "
      ]
     },
     "execution_count": 68,
     "metadata": {},
     "output_type": "execute_result"
    }
   ],
   "source": [
    "sf.head()"
   ]
  },
  {
   "cell_type": "code",
   "execution_count": 222,
   "metadata": {
    "collapsed": false
   },
   "outputs": [
    {
     "data": {
      "text/plain": [
       "5058"
      ]
     },
     "execution_count": 222,
     "metadata": {},
     "output_type": "execute_result"
    }
   ],
   "source": [
    "len(sf[sf['EMP_RAC'].notnull()])"
   ]
  },
  {
   "cell_type": "code",
   "execution_count": 83,
   "metadata": {
    "collapsed": false
   },
   "outputs": [
    {
     "data": {
      "text/plain": [
       "5024"
      ]
     },
     "execution_count": 83,
     "metadata": {},
     "output_type": "execute_result"
    }
   ],
   "source": [
    "len(sf[sf['EMP_WAC'].notnull()])"
   ]
  },
  {
   "cell_type": "code",
   "execution_count": 99,
   "metadata": {
    "collapsed": false
   },
   "outputs": [
    {
     "data": {
      "text/plain": [
       "5593"
      ]
     },
     "execution_count": 99,
     "metadata": {},
     "output_type": "execute_result"
    }
   ],
   "source": [
    "len(sf)"
   ]
  },
  {
   "cell_type": "markdown",
   "metadata": {},
   "source": [
    "## This is where I was going to scale only the census blocks with LEHD data (Ignore for now)\n",
    "#### This is assuming that the census blocks with data are the ones that will grow\n",
    "#### The difference between the two is that the other gives WAC data to a block that only had RAC data before "
   ]
  },
  {
   "cell_type": "code",
   "execution_count": null,
   "metadata": {
    "collapsed": true
   },
   "outputs": [],
   "source": []
  },
  {
   "cell_type": "code",
   "execution_count": 94,
   "metadata": {
    "collapsed": true
   },
   "outputs": [],
   "source": [
    "rac_total_change = 116179/5024\n",
    "rac_retail_change = 193/5024\n",
    "rac_edhlth_change = 3636/5024\n",
    "rac_leisure_change = 6238/5024\n",
    "rac_other_change = 106112/5024\n",
    "\n",
    "wac_total_change = 116179/5058\n",
    "wac_retail_change = 193/5058\n",
    "wac_edhlth_change = 3636/5058\n",
    "wac_leisure_change = 6238/5058\n",
    "wac_other_change = 106112/5058"
   ]
  },
  {
   "cell_type": "code",
   "execution_count": 96,
   "metadata": {
    "collapsed": false
   },
   "outputs": [],
   "source": [
    "sf['EDHLTH_RAC'] = sf['EDHLTH_RAC'] + rac_edhlth_change\n",
    "sf['EDHLTH_WAC'] = sf['EDHLTH_WAC'] + wac_edhlth_change\n",
    "\n",
    "sf['RETAIL_RAC'] = sf.RETAIL_RAC + rac_retail_change\n",
    "sf.RETAIL_WAC = sf.RETAIL_WAC + wac_retail_change\n",
    "\n",
    "sf.LEISER_RAC = sf.LEISER_RAC + rac_leisure_change\n",
    "sf.LEISER_WAC = sf.LEISER_WAC + wac_leisure_change\n",
    "\n",
    "sf.OTHER_RAC = sf.OTHER_RAC + rac_other_change\n",
    "sf.OTHER_WAC = sf.OTHER_WAC + wac_other_change\n",
    "\n",
    "sf.EMP_RAC = sf.EMP_RAC + rac_total_change\n",
    "sf.EMP_WAC = sf.EMP_WAC + wac_total_change\n"
   ]
  },
  {
   "cell_type": "markdown",
   "metadata": {},
   "source": [
    "## This is where I scale all census blocks \n",
    "#### The first technique shown is using scaling factors \n",
    "#### The second adds the difference evenly to each block with emp data and is noted where it begins"
   ]
  },
  {
   "cell_type": "code",
   "execution_count": 311,
   "metadata": {
    "collapsed": true
   },
   "outputs": [],
   "source": [
    "sf = gp.read_file('E:/Transit-Casa-Alex/Input/LEHD Census Blocks/2014/San Fran/075_Employment.shp')\n",
    "#sm = gp.read_file('E:/Transit-Casa-Alex/Input/LEHD Census Blocks/2014/San Mat/081_Employment.shp')\n"
   ]
  },
  {
   "cell_type": "code",
   "execution_count": 312,
   "metadata": {
    "collapsed": false
   },
   "outputs": [
    {
     "data": {
      "text/plain": [
       "5593"
      ]
     },
     "execution_count": 312,
     "metadata": {},
     "output_type": "execute_result"
    }
   ],
   "source": [
    "len(sf)"
   ]
  },
  {
   "cell_type": "code",
   "execution_count": 313,
   "metadata": {
    "collapsed": false
   },
   "outputs": [
    {
     "name": "stdout",
     "output_type": "stream",
     "text": [
      "427247.0\n",
      "30933.0\n",
      "91906.0\n",
      "59143.0\n",
      "245265.0\n"
     ]
    }
   ],
   "source": [
    "print(sf.EMP_RAC.sum())\n",
    "print(sf.RETAIL_RAC.sum())\n",
    "print(sf.EDHLTH_RAC.sum())\n",
    "print(sf.LEISER_RAC.sum())\n",
    "print(sf.OTHER_RAC.sum())"
   ]
  },
  {
   "cell_type": "code",
   "execution_count": 314,
   "metadata": {
    "collapsed": false
   },
   "outputs": [
    {
     "name": "stdout",
     "output_type": "stream",
     "text": [
      "668270.0\n",
      "30933.0\n",
      "130233.0\n",
      "94988.0\n",
      "397611.0\n"
     ]
    }
   ],
   "source": [
    "print(sf.EMP_WAC.sum())\n",
    "print(sf.RETAIL_RAC.sum())\n",
    "print(sf.EDHLTH_WAC.sum())\n",
    "print(sf.LEISER_WAC.sum())\n",
    "print(sf.OTHER_WAC.sum())"
   ]
  },
  {
   "cell_type": "code",
   "execution_count": 315,
   "metadata": {
    "collapsed": false
   },
   "outputs": [],
   "source": [
    "tot_ratio = sf.EMP_WAC/sf.EMP_RAC\n",
    "retail_ratio = sf.RETAIL_WAC/sf.RETAIL_RAC\n",
    "edhlh_ratio = sf.EDHLTH_WAC/sf.EDHLTH_RAC\n",
    "leisure_ratio = sf.LEISER_WAC/sf.LEISER_RAC\n",
    "other_ratio = sf.OTHER_WAC/sf.OTHER_RAC"
   ]
  },
  {
   "cell_type": "code",
   "execution_count": 316,
   "metadata": {
    "collapsed": true
   },
   "outputs": [],
   "source": [
    "#if I were to use the scaling factor technique\n",
    "total_scale =  713920/sf.EMP_WAC.sum()\n",
    "retail_scale = 47606/sf.RETAIL_WAC.sum()\n",
    "edhlth_scale = 90379/sf.EDHLTH_WAC.sum()\n",
    "leisure_scale = 97168/sf.LEISER_WAC.sum()\n",
    "other_scale = 47877/sf.OTHER_WAC.sum()\n"
   ]
  },
  {
   "cell_type": "code",
   "execution_count": 317,
   "metadata": {
    "collapsed": true
   },
   "outputs": [],
   "source": [
    "sf['EMP_WAC_16'] = sf.EDHLTH_WAC*total_scale\n",
    "sf['RETAIL_WAC_16'] = sf.RETAIL_WAC*retail_scale\n",
    "sf['EDHLTH_WAC_16'] = sf.EDHLTH_WAC*edhlth_scale\n",
    "sf['LEISER_WAC_16'] = sf.LEISER_WAC*leisure_scale\n",
    "sf['OTHER_WAC_16'] = sf.OTHER_WAC*other_scale\n"
   ]
  },
  {
   "cell_type": "code",
   "execution_count": null,
   "metadata": {
    "collapsed": false
   },
   "outputs": [],
   "source": []
  },
  {
   "cell_type": "code",
   "execution_count": 318,
   "metadata": {
    "collapsed": false
   },
   "outputs": [],
   "source": [
    "sf['EMP_RAC_16'] = sf.EMP_RAC*tot_ratio\n",
    "sf['RETAIL_RAC_16'] = sf.RETAIL_RAC*retail_ratio\n",
    "sf['EDHLTH_RAC_16'] = sf.EDHLTH_RAC*edhlh_ratio\n",
    "sf['LEISER_RAC_16'] = sf.LEISER_RAC*leisure_ratio\n",
    "sf['OTHER_RAC_16'] = sf.OTHER_RAC*other_ratio\n"
   ]
  },
  {
   "cell_type": "code",
   "execution_count": 319,
   "metadata": {
    "collapsed": false
   },
   "outputs": [
    {
     "data": {
      "text/html": [
       "<div>\n",
       "<table border=\"1\" class=\"dataframe\">\n",
       "  <thead>\n",
       "    <tr style=\"text-align: right;\">\n",
       "      <th></th>\n",
       "      <th>ALAND10</th>\n",
       "      <th>AWATER10</th>\n",
       "      <th>BLOCKCE10</th>\n",
       "      <th>BLOCK_ID</th>\n",
       "      <th>COUNTYFP10</th>\n",
       "      <th>EDHLTH_RAC</th>\n",
       "      <th>EDHLTH_WAC</th>\n",
       "      <th>EMP_RAC</th>\n",
       "      <th>EMP_WAC</th>\n",
       "      <th>FUNCSTAT10</th>\n",
       "      <th>GEOID10</th>\n",
       "      <th>INTPTLAT10</th>\n",
       "      <th>INTPTLON10</th>\n",
       "      <th>LEISER_RAC</th>\n",
       "      <th>LEISER_WAC</th>\n",
       "      <th>MTFCC10</th>\n",
       "      <th>NAME10</th>\n",
       "      <th>OTHER_RAC</th>\n",
       "      <th>OTHER_WAC</th>\n",
       "      <th>RETAIL_RAC</th>\n",
       "      <th>RETAIL_WAC</th>\n",
       "      <th>STATEFP10</th>\n",
       "      <th>TRACTCE10</th>\n",
       "      <th>UACE10</th>\n",
       "      <th>UATYP10</th>\n",
       "      <th>UR10</th>\n",
       "      <th>createda_1</th>\n",
       "      <th>createdate</th>\n",
       "      <th>geometry</th>\n",
       "      <th>h_geocode</th>\n",
       "      <th>w_geocode</th>\n",
       "      <th>EMP_WAC_16</th>\n",
       "      <th>RETAIL_WAC_16</th>\n",
       "      <th>EDHLTH_WAC_16</th>\n",
       "      <th>LEISER_WAC_16</th>\n",
       "      <th>OTHER_WAC_16</th>\n",
       "      <th>EMP_RAC_16</th>\n",
       "      <th>RETAIL_RAC_16</th>\n",
       "      <th>EDHLTH_RAC_16</th>\n",
       "      <th>LEISER_RAC_16</th>\n",
       "      <th>OTHER_RAC_16</th>\n",
       "    </tr>\n",
       "  </thead>\n",
       "  <tbody>\n",
       "    <tr>\n",
       "      <th>0</th>\n",
       "      <td>16958</td>\n",
       "      <td>0</td>\n",
       "      <td>2002</td>\n",
       "      <td>6.075021e+13</td>\n",
       "      <td>075</td>\n",
       "      <td>14.0</td>\n",
       "      <td>6.0</td>\n",
       "      <td>63.0</td>\n",
       "      <td>6.0</td>\n",
       "      <td>S</td>\n",
       "      <td>2147483647</td>\n",
       "      <td>+37.7500665</td>\n",
       "      <td>-122.4410751</td>\n",
       "      <td>6.0</td>\n",
       "      <td>0.0</td>\n",
       "      <td>G5040</td>\n",
       "      <td>Block 2002</td>\n",
       "      <td>41.0</td>\n",
       "      <td>0.0</td>\n",
       "      <td>2.0</td>\n",
       "      <td>0.0</td>\n",
       "      <td>06</td>\n",
       "      <td>021300</td>\n",
       "      <td>78904</td>\n",
       "      <td>U</td>\n",
       "      <td>U</td>\n",
       "      <td>20160219.0</td>\n",
       "      <td>20160219.0</td>\n",
       "      <td>POLYGON ((-122.440616 37.750902, -122.440459 3...</td>\n",
       "      <td>6.075021e+13</td>\n",
       "      <td>6.075021e+13</td>\n",
       "      <td>6.409864</td>\n",
       "      <td>0.0</td>\n",
       "      <td>4.163876</td>\n",
       "      <td>0.00000</td>\n",
       "      <td>0.000000</td>\n",
       "      <td>6.0</td>\n",
       "      <td>0.0</td>\n",
       "      <td>6.0</td>\n",
       "      <td>0.0</td>\n",
       "      <td>0.0</td>\n",
       "    </tr>\n",
       "    <tr>\n",
       "      <th>1</th>\n",
       "      <td>16823</td>\n",
       "      <td>0</td>\n",
       "      <td>2000</td>\n",
       "      <td>6.075021e+13</td>\n",
       "      <td>075</td>\n",
       "      <td>10.0</td>\n",
       "      <td>0.0</td>\n",
       "      <td>57.0</td>\n",
       "      <td>5.0</td>\n",
       "      <td>S</td>\n",
       "      <td>2147483647</td>\n",
       "      <td>+37.7501958</td>\n",
       "      <td>-122.4389330</td>\n",
       "      <td>5.0</td>\n",
       "      <td>0.0</td>\n",
       "      <td>G5040</td>\n",
       "      <td>Block 2000</td>\n",
       "      <td>39.0</td>\n",
       "      <td>5.0</td>\n",
       "      <td>3.0</td>\n",
       "      <td>0.0</td>\n",
       "      <td>06</td>\n",
       "      <td>021300</td>\n",
       "      <td>78904</td>\n",
       "      <td>U</td>\n",
       "      <td>U</td>\n",
       "      <td>20160219.0</td>\n",
       "      <td>20160219.0</td>\n",
       "      <td>POLYGON ((-122.438397 37.750226, -122.43832 37...</td>\n",
       "      <td>6.075021e+13</td>\n",
       "      <td>6.075021e+13</td>\n",
       "      <td>0.000000</td>\n",
       "      <td>0.0</td>\n",
       "      <td>0.000000</td>\n",
       "      <td>0.00000</td>\n",
       "      <td>0.602058</td>\n",
       "      <td>5.0</td>\n",
       "      <td>0.0</td>\n",
       "      <td>0.0</td>\n",
       "      <td>0.0</td>\n",
       "      <td>5.0</td>\n",
       "    </tr>\n",
       "    <tr>\n",
       "      <th>2</th>\n",
       "      <td>17020</td>\n",
       "      <td>0</td>\n",
       "      <td>3004</td>\n",
       "      <td>6.075021e+13</td>\n",
       "      <td>075</td>\n",
       "      <td>6.0</td>\n",
       "      <td>0.0</td>\n",
       "      <td>56.0</td>\n",
       "      <td>14.0</td>\n",
       "      <td>S</td>\n",
       "      <td>2147483647</td>\n",
       "      <td>+37.7567937</td>\n",
       "      <td>-122.4362701</td>\n",
       "      <td>10.0</td>\n",
       "      <td>0.0</td>\n",
       "      <td>G5040</td>\n",
       "      <td>Block 3004</td>\n",
       "      <td>35.0</td>\n",
       "      <td>14.0</td>\n",
       "      <td>5.0</td>\n",
       "      <td>0.0</td>\n",
       "      <td>06</td>\n",
       "      <td>020500</td>\n",
       "      <td>78904</td>\n",
       "      <td>U</td>\n",
       "      <td>U</td>\n",
       "      <td>20160219.0</td>\n",
       "      <td>20160219.0</td>\n",
       "      <td>POLYGON ((-122.435808 37.757623, -122.435642 3...</td>\n",
       "      <td>6.075021e+13</td>\n",
       "      <td>6.075021e+13</td>\n",
       "      <td>0.000000</td>\n",
       "      <td>0.0</td>\n",
       "      <td>0.000000</td>\n",
       "      <td>0.00000</td>\n",
       "      <td>1.685763</td>\n",
       "      <td>14.0</td>\n",
       "      <td>0.0</td>\n",
       "      <td>0.0</td>\n",
       "      <td>0.0</td>\n",
       "      <td>14.0</td>\n",
       "    </tr>\n",
       "    <tr>\n",
       "      <th>3</th>\n",
       "      <td>16415</td>\n",
       "      <td>0</td>\n",
       "      <td>1003</td>\n",
       "      <td>6.075021e+13</td>\n",
       "      <td>075</td>\n",
       "      <td>16.0</td>\n",
       "      <td>0.0</td>\n",
       "      <td>59.0</td>\n",
       "      <td>14.0</td>\n",
       "      <td>S</td>\n",
       "      <td>2147483647</td>\n",
       "      <td>+37.7535291</td>\n",
       "      <td>-122.4370498</td>\n",
       "      <td>3.0</td>\n",
       "      <td>1.0</td>\n",
       "      <td>G5040</td>\n",
       "      <td>Block 1003</td>\n",
       "      <td>38.0</td>\n",
       "      <td>13.0</td>\n",
       "      <td>2.0</td>\n",
       "      <td>0.0</td>\n",
       "      <td>06</td>\n",
       "      <td>021200</td>\n",
       "      <td>78904</td>\n",
       "      <td>U</td>\n",
       "      <td>U</td>\n",
       "      <td>20160219.0</td>\n",
       "      <td>20160219.0</td>\n",
       "      <td>POLYGON ((-122.436527 37.75354, -122.436454 37...</td>\n",
       "      <td>6.075021e+13</td>\n",
       "      <td>6.075021e+13</td>\n",
       "      <td>0.000000</td>\n",
       "      <td>0.0</td>\n",
       "      <td>0.000000</td>\n",
       "      <td>1.02295</td>\n",
       "      <td>1.565352</td>\n",
       "      <td>14.0</td>\n",
       "      <td>0.0</td>\n",
       "      <td>0.0</td>\n",
       "      <td>1.0</td>\n",
       "      <td>13.0</td>\n",
       "    </tr>\n",
       "    <tr>\n",
       "      <th>4</th>\n",
       "      <td>17523</td>\n",
       "      <td>0</td>\n",
       "      <td>4001</td>\n",
       "      <td>6.075021e+13</td>\n",
       "      <td>075</td>\n",
       "      <td>7.0</td>\n",
       "      <td>0.0</td>\n",
       "      <td>35.0</td>\n",
       "      <td>18.0</td>\n",
       "      <td>S</td>\n",
       "      <td>2147483647</td>\n",
       "      <td>+37.7557580</td>\n",
       "      <td>-122.4334002</td>\n",
       "      <td>3.0</td>\n",
       "      <td>0.0</td>\n",
       "      <td>G5040</td>\n",
       "      <td>Block 4001</td>\n",
       "      <td>24.0</td>\n",
       "      <td>18.0</td>\n",
       "      <td>1.0</td>\n",
       "      <td>0.0</td>\n",
       "      <td>06</td>\n",
       "      <td>021100</td>\n",
       "      <td>78904</td>\n",
       "      <td>U</td>\n",
       "      <td>U</td>\n",
       "      <td>20160219.0</td>\n",
       "      <td>20160219.0</td>\n",
       "      <td>POLYGON ((-122.432331 37.756227, -122.432254 3...</td>\n",
       "      <td>6.075021e+13</td>\n",
       "      <td>6.075021e+13</td>\n",
       "      <td>0.000000</td>\n",
       "      <td>0.0</td>\n",
       "      <td>0.000000</td>\n",
       "      <td>0.00000</td>\n",
       "      <td>2.167410</td>\n",
       "      <td>18.0</td>\n",
       "      <td>0.0</td>\n",
       "      <td>0.0</td>\n",
       "      <td>0.0</td>\n",
       "      <td>18.0</td>\n",
       "    </tr>\n",
       "  </tbody>\n",
       "</table>\n",
       "</div>"
      ],
      "text/plain": [
       "   ALAND10  AWATER10 BLOCKCE10      BLOCK_ID COUNTYFP10  EDHLTH_RAC  \\\n",
       "0    16958         0      2002  6.075021e+13        075        14.0   \n",
       "1    16823         0      2000  6.075021e+13        075        10.0   \n",
       "2    17020         0      3004  6.075021e+13        075         6.0   \n",
       "3    16415         0      1003  6.075021e+13        075        16.0   \n",
       "4    17523         0      4001  6.075021e+13        075         7.0   \n",
       "\n",
       "   EDHLTH_WAC  EMP_RAC  EMP_WAC FUNCSTAT10     GEOID10   INTPTLAT10  \\\n",
       "0         6.0     63.0      6.0          S  2147483647  +37.7500665   \n",
       "1         0.0     57.0      5.0          S  2147483647  +37.7501958   \n",
       "2         0.0     56.0     14.0          S  2147483647  +37.7567937   \n",
       "3         0.0     59.0     14.0          S  2147483647  +37.7535291   \n",
       "4         0.0     35.0     18.0          S  2147483647  +37.7557580   \n",
       "\n",
       "     INTPTLON10  LEISER_RAC  LEISER_WAC MTFCC10      NAME10  OTHER_RAC  \\\n",
       "0  -122.4410751         6.0         0.0   G5040  Block 2002       41.0   \n",
       "1  -122.4389330         5.0         0.0   G5040  Block 2000       39.0   \n",
       "2  -122.4362701        10.0         0.0   G5040  Block 3004       35.0   \n",
       "3  -122.4370498         3.0         1.0   G5040  Block 1003       38.0   \n",
       "4  -122.4334002         3.0         0.0   G5040  Block 4001       24.0   \n",
       "\n",
       "   OTHER_WAC  RETAIL_RAC  RETAIL_WAC STATEFP10 TRACTCE10 UACE10 UATYP10 UR10  \\\n",
       "0        0.0         2.0         0.0        06    021300  78904       U    U   \n",
       "1        5.0         3.0         0.0        06    021300  78904       U    U   \n",
       "2       14.0         5.0         0.0        06    020500  78904       U    U   \n",
       "3       13.0         2.0         0.0        06    021200  78904       U    U   \n",
       "4       18.0         1.0         0.0        06    021100  78904       U    U   \n",
       "\n",
       "   createda_1  createdate                                           geometry  \\\n",
       "0  20160219.0  20160219.0  POLYGON ((-122.440616 37.750902, -122.440459 3...   \n",
       "1  20160219.0  20160219.0  POLYGON ((-122.438397 37.750226, -122.43832 37...   \n",
       "2  20160219.0  20160219.0  POLYGON ((-122.435808 37.757623, -122.435642 3...   \n",
       "3  20160219.0  20160219.0  POLYGON ((-122.436527 37.75354, -122.436454 37...   \n",
       "4  20160219.0  20160219.0  POLYGON ((-122.432331 37.756227, -122.432254 3...   \n",
       "\n",
       "      h_geocode     w_geocode  EMP_WAC_16  RETAIL_WAC_16  EDHLTH_WAC_16  \\\n",
       "0  6.075021e+13  6.075021e+13    6.409864            0.0       4.163876   \n",
       "1  6.075021e+13  6.075021e+13    0.000000            0.0       0.000000   \n",
       "2  6.075021e+13  6.075021e+13    0.000000            0.0       0.000000   \n",
       "3  6.075021e+13  6.075021e+13    0.000000            0.0       0.000000   \n",
       "4  6.075021e+13  6.075021e+13    0.000000            0.0       0.000000   \n",
       "\n",
       "   LEISER_WAC_16  OTHER_WAC_16  EMP_RAC_16  RETAIL_RAC_16  EDHLTH_RAC_16  \\\n",
       "0        0.00000      0.000000         6.0            0.0            6.0   \n",
       "1        0.00000      0.602058         5.0            0.0            0.0   \n",
       "2        0.00000      1.685763        14.0            0.0            0.0   \n",
       "3        1.02295      1.565352        14.0            0.0            0.0   \n",
       "4        0.00000      2.167410        18.0            0.0            0.0   \n",
       "\n",
       "   LEISER_RAC_16  OTHER_RAC_16  \n",
       "0            0.0           0.0  \n",
       "1            0.0           5.0  \n",
       "2            0.0          14.0  \n",
       "3            1.0          13.0  \n",
       "4            0.0          18.0  "
      ]
     },
     "execution_count": 319,
     "metadata": {},
     "output_type": "execute_result"
    }
   ],
   "source": [
    "sf.head()"
   ]
  },
  {
   "cell_type": "markdown",
   "metadata": {},
   "source": [
    "# This is where the second technique begins (Igonre for now)"
   ]
  },
  {
   "cell_type": "code",
   "execution_count": null,
   "metadata": {
    "collapsed": true
   },
   "outputs": [],
   "source": [
    "print(sf.EDHLTH_RAC_16.sum())\n",
    "print(sf.EDHLTH_RAC.sum())\n",
    "print(sf.RETAIL_RAC_16.sum())\n",
    "print(sf.EM.sum())\n",
    "print(sf.EMP_WAC_16.sum())"
   ]
  },
  {
   "cell_type": "code",
   "execution_count": 171,
   "metadata": {
    "collapsed": true
   },
   "outputs": [],
   "source": [
    "total_change = 116179/5593\n",
    "retail_change = 193/5593\n",
    "edhlth_change = 3636/5593\n",
    "leisure_change = 6238/5593\n",
    "other_change = 106112/5593"
   ]
  },
  {
   "cell_type": "code",
   "execution_count": 172,
   "metadata": {
    "collapsed": true
   },
   "outputs": [],
   "source": [
    "\n",
    "sf['EDHLTH_RAC'] = sf['EDHLTH_RAC'].fillna(0) + edhlth_change\n",
    "sf['RETAIL_RAC'] = sf.RETAIL_RAC.fillna(0) + retail_change\n",
    "sf.LEISER_RAC = sf.LEISER_RAC.fillna(0) + leisure_change\n",
    "sf.OTHER_RAC = sf.OTHER_RAC.fillna(0) + other_change\n",
    "sf.EMP_RAC = sf.EMP_RAC.fillna(0) + total_change\n",
    "\n",
    "sf['EDHLTH_WAC'] = sf['EDHLTH_WAC'].fillna(0) + edhlth_change\n",
    "sf['RETAIL_WAC'] = sf.RETAIL_WAC.fillna(0) + retail_change\n",
    "sf.LEISER_WAC = sf.LEISER_WAC.fillna(0) + leisure_change\n",
    "sf.OTHER_WAC = sf.OTHER_WAC.fillna(0) + other_change\n",
    "sf.EMP_WAC = sf.EMP_WAC.fillna(0) + total_change"
   ]
  },
  {
   "cell_type": "code",
   "execution_count": 137,
   "metadata": {
    "collapsed": false
   },
   "outputs": [
    {
     "data": {
      "text/plain": [
       "543426.000000039"
      ]
     },
     "execution_count": 137,
     "metadata": {},
     "output_type": "execute_result"
    }
   ],
   "source": [
    "#checking to see that the total change matched with the change in the excel file, it did not\n",
    "# solved the issue by filling nans with 0 before adding the change in emp\n",
    "\n",
    "sf.EMP_RAC.sum()"
   ]
  },
  {
   "cell_type": "code",
   "execution_count": 110,
   "metadata": {
    "collapsed": false
   },
   "outputs": [
    {
     "data": {
      "text/plain": [
       "427247.0"
      ]
     },
     "execution_count": 110,
     "metadata": {},
     "output_type": "execute_result"
    }
   ],
   "source": [
    "sf.EMP_RAC.sum()"
   ]
  },
  {
   "cell_type": "code",
   "execution_count": 134,
   "metadata": {
    "collapsed": false
   },
   "outputs": [
    {
     "data": {
      "text/plain": [
       "116179.0"
      ]
     },
     "execution_count": 134,
     "metadata": {},
     "output_type": "execute_result"
    }
   ],
   "source": [
    "543426.-427247"
   ]
  },
  {
   "cell_type": "code",
   "execution_count": 123,
   "metadata": {
    "collapsed": false
   },
   "outputs": [
    {
     "data": {
      "text/plain": [
       "668270.0"
      ]
     },
     "execution_count": 123,
     "metadata": {},
     "output_type": "execute_result"
    }
   ],
   "source": [
    "sf.EMP_WAC.sum()"
   ]
  },
  {
   "cell_type": "code",
   "execution_count": 135,
   "metadata": {
    "collapsed": false
   },
   "outputs": [
    {
     "data": {
      "text/plain": [
       "784448.9999999593"
      ]
     },
     "execution_count": 135,
     "metadata": {},
     "output_type": "execute_result"
    }
   ],
   "source": [
    "sf.EMP_WAC.sum()"
   ]
  },
  {
   "cell_type": "code",
   "execution_count": 136,
   "metadata": {
    "collapsed": false
   },
   "outputs": [
    {
     "data": {
      "text/plain": [
       "116178.0"
      ]
     },
     "execution_count": 136,
     "metadata": {},
     "output_type": "execute_result"
    }
   ],
   "source": [
    "784448.-668270"
   ]
  },
  {
   "cell_type": "code",
   "execution_count": 139,
   "metadata": {
    "collapsed": false
   },
   "outputs": [
    {
     "data": {
      "text/plain": [
       "7444"
      ]
     },
     "execution_count": 139,
     "metadata": {},
     "output_type": "execute_result"
    }
   ],
   "source": [
    "len(sm)"
   ]
  },
  {
   "cell_type": "code",
   "execution_count": 173,
   "metadata": {
    "collapsed": true
   },
   "outputs": [],
   "source": [
    "sm_total_change = 31660/7444\n",
    "sm_retail_change = -1187/7444\n",
    "sm_edhlth_change = 2128/7444\n",
    "sm_leisure_change = 1614/7444\n",
    "sm_other_change = 29105/7444"
   ]
  },
  {
   "cell_type": "code",
   "execution_count": 174,
   "metadata": {
    "collapsed": true
   },
   "outputs": [],
   "source": [
    "\n",
    "sm['EDHLTH_RAC'] = sm['EDHLTH_RAC'].fillna(0) + sm_edhlth_change\n",
    "sm['RETAIL_RAC'] = sm.RETAIL_RAC.fillna(0) + sm_retail_change\n",
    "sm.LEISER_RAC = sm.LEISER_RAC.fillna(0) + sm_leisure_change\n",
    "sm.OTHER_RAC = sm.OTHER_RAC.fillna(0) + sm_other_change\n",
    "sm.EMP_RAC = sm.EMP_RAC.fillna(0) + sm_total_change\n",
    "\n",
    "sm['EDHLTH_WAC'] = sm['EDHLTH_WAC'].fillna(0) + sm_edhlth_change\n",
    "sm['RETAIL_WAC'] = sm.RETAIL_WAC.fillna(0) + sm_retail_change\n",
    "sm.LEISER_WAC = sm.LEISER_WAC.fillna(0) + sm_leisure_change\n",
    "sm.OTHER_WAC = sm.OTHER_WAC.fillna(0) + sm_other_change\n",
    "sm.EMP_WAC = sm.EMP_WAC.fillna(0) + sm_total_change"
   ]
  },
  {
   "cell_type": "code",
   "execution_count": 142,
   "metadata": {
    "collapsed": false
   },
   "outputs": [
    {
     "data": {
      "text/plain": [
       "389307.99999997125"
      ]
     },
     "execution_count": 142,
     "metadata": {},
     "output_type": "execute_result"
    }
   ],
   "source": [
    "sm.EMP_RAC.sum()"
   ]
  },
  {
   "cell_type": "code",
   "execution_count": 143,
   "metadata": {
    "collapsed": false
   },
   "outputs": [
    {
     "data": {
      "text/plain": [
       "399215.9999999672"
      ]
     },
     "execution_count": 143,
     "metadata": {},
     "output_type": "execute_result"
    }
   ],
   "source": [
    "sm.EMP_WAC.sum()"
   ]
  },
  {
   "cell_type": "code",
   "execution_count": 145,
   "metadata": {
    "collapsed": false
   },
   "outputs": [
    {
     "data": {
      "text/plain": [
       "357648.0"
      ]
     },
     "execution_count": 145,
     "metadata": {},
     "output_type": "execute_result"
    }
   ],
   "source": [
    "sm.EMP_RAC.sum()\n"
   ]
  },
  {
   "cell_type": "code",
   "execution_count": 146,
   "metadata": {
    "collapsed": false
   },
   "outputs": [
    {
     "data": {
      "text/plain": [
       "367556.0"
      ]
     },
     "execution_count": 146,
     "metadata": {},
     "output_type": "execute_result"
    }
   ],
   "source": [
    "sm.EMP_WAC.sum()"
   ]
  },
  {
   "cell_type": "code",
   "execution_count": 147,
   "metadata": {
    "collapsed": false,
    "scrolled": true
   },
   "outputs": [
    {
     "data": {
      "text/plain": [
       "31659"
      ]
     },
     "execution_count": 147,
     "metadata": {},
     "output_type": "execute_result"
    }
   ],
   "source": [
    "389307-357648"
   ]
  },
  {
   "cell_type": "code",
   "execution_count": 149,
   "metadata": {
    "collapsed": false
   },
   "outputs": [
    {
     "data": {
      "text/plain": [
       "31659"
      ]
     },
     "execution_count": 149,
     "metadata": {},
     "output_type": "execute_result"
    }
   ],
   "source": [
    "399215-367556"
   ]
  },
  {
   "cell_type": "code",
   "execution_count": 151,
   "metadata": {
    "collapsed": false
   },
   "outputs": [
    {
     "data": {
      "text/plain": [
       "<matplotlib.axes._subplots.AxesSubplot at 0x1bce8a26fd0>"
      ]
     },
     "execution_count": 151,
     "metadata": {},
     "output_type": "execute_result"
    },
    {
     "data": {
      "image/png": "[encoded data removed]",
      "text/plain": [
       "<matplotlib.figure.Figure at 0x1bcd515bb00>"
      ]
     },
     "metadata": {},
     "output_type": "display_data"
    }
   ],
   "source": [
    "sf.plot()"
   ]
  },
  {
   "cell_type": "code",
   "execution_count": 152,
   "metadata": {
    "collapsed": false
   },
   "outputs": [
    {
     "data": {
      "text/plain": [
       "<matplotlib.axes._subplots.AxesSubplot at 0x1bcf6ee0198>"
      ]
     },
     "execution_count": 152,
     "metadata": {},
     "output_type": "execute_result"
    },
    {
     "data": {
      "image/png": "[encoded data removed]",
      "text/plain": [
       "<matplotlib.figure.Figure at 0x1bce6ca0ef0>"
      ]
     },
     "metadata": {},
     "output_type": "display_data"
    }
   ],
   "source": [
    "sm.plot()"
   ]
  },
  {
   "cell_type": "code",
   "execution_count": 175,
   "metadata": {
    "collapsed": true
   },
   "outputs": [],
   "source": [
    "emp = sf.append(sm)"
   ]
  },
  {
   "cell_type": "code",
   "execution_count": 155,
   "metadata": {
    "collapsed": false
   },
   "outputs": [
    {
     "data": {
      "text/html": [
       "<div>\n",
       "<table border=\"1\" class=\"dataframe\">\n",
       "  <thead>\n",
       "    <tr style=\"text-align: right;\">\n",
       "      <th></th>\n",
       "      <th>ALAND10</th>\n",
       "      <th>AWATER10</th>\n",
       "      <th>BLOCKCE10</th>\n",
       "      <th>BLOCK_ID</th>\n",
       "      <th>COUNTYFP10</th>\n",
       "      <th>EDHLTH_RAC</th>\n",
       "      <th>EDHLTH_WAC</th>\n",
       "      <th>EMP_RAC</th>\n",
       "      <th>EMP_WAC</th>\n",
       "      <th>FUNCSTAT10</th>\n",
       "      <th>GEOID10</th>\n",
       "      <th>INTPTLAT10</th>\n",
       "      <th>INTPTLON10</th>\n",
       "      <th>LEISER_RAC</th>\n",
       "      <th>LEISER_WAC</th>\n",
       "      <th>MTFCC10</th>\n",
       "      <th>NAME10</th>\n",
       "      <th>OTHER_RAC</th>\n",
       "      <th>OTHER_WAC</th>\n",
       "      <th>RETAIL_RAC</th>\n",
       "      <th>RETAIL_WAC</th>\n",
       "      <th>STATEFP10</th>\n",
       "      <th>TRACTCE10</th>\n",
       "      <th>UACE10</th>\n",
       "      <th>UATYP10</th>\n",
       "      <th>UR10</th>\n",
       "      <th>createda_1</th>\n",
       "      <th>createdate</th>\n",
       "      <th>geometry</th>\n",
       "      <th>h_geocode</th>\n",
       "      <th>w_geocode</th>\n",
       "    </tr>\n",
       "  </thead>\n",
       "  <tbody>\n",
       "    <tr>\n",
       "      <th>0</th>\n",
       "      <td>16958.0</td>\n",
       "      <td>0.0</td>\n",
       "      <td>2002</td>\n",
       "      <td>6.075021e+13</td>\n",
       "      <td>075</td>\n",
       "      <td>14.0</td>\n",
       "      <td>6.0</td>\n",
       "      <td>63.0</td>\n",
       "      <td>6.0</td>\n",
       "      <td>S</td>\n",
       "      <td>2147483647</td>\n",
       "      <td>+37.7500665</td>\n",
       "      <td>-122.4410751</td>\n",
       "      <td>6.0</td>\n",
       "      <td>0.0</td>\n",
       "      <td>G5040</td>\n",
       "      <td>Block 2002</td>\n",
       "      <td>41.0</td>\n",
       "      <td>0.0</td>\n",
       "      <td>2.0</td>\n",
       "      <td>0.0</td>\n",
       "      <td>06</td>\n",
       "      <td>021300</td>\n",
       "      <td>78904</td>\n",
       "      <td>U</td>\n",
       "      <td>U</td>\n",
       "      <td>20160219.0</td>\n",
       "      <td>20160219.0</td>\n",
       "      <td>POLYGON ((-122.440616 37.750902, -122.440459 3...</td>\n",
       "      <td>6.075021e+13</td>\n",
       "      <td>6.075021e+13</td>\n",
       "    </tr>\n",
       "    <tr>\n",
       "      <th>1</th>\n",
       "      <td>16823.0</td>\n",
       "      <td>0.0</td>\n",
       "      <td>2000</td>\n",
       "      <td>6.075021e+13</td>\n",
       "      <td>075</td>\n",
       "      <td>10.0</td>\n",
       "      <td>0.0</td>\n",
       "      <td>57.0</td>\n",
       "      <td>5.0</td>\n",
       "      <td>S</td>\n",
       "      <td>2147483647</td>\n",
       "      <td>+37.7501958</td>\n",
       "      <td>-122.4389330</td>\n",
       "      <td>5.0</td>\n",
       "      <td>0.0</td>\n",
       "      <td>G5040</td>\n",
       "      <td>Block 2000</td>\n",
       "      <td>39.0</td>\n",
       "      <td>5.0</td>\n",
       "      <td>3.0</td>\n",
       "      <td>0.0</td>\n",
       "      <td>06</td>\n",
       "      <td>021300</td>\n",
       "      <td>78904</td>\n",
       "      <td>U</td>\n",
       "      <td>U</td>\n",
       "      <td>20160219.0</td>\n",
       "      <td>20160219.0</td>\n",
       "      <td>POLYGON ((-122.438397 37.750226, -122.43832 37...</td>\n",
       "      <td>6.075021e+13</td>\n",
       "      <td>6.075021e+13</td>\n",
       "    </tr>\n",
       "    <tr>\n",
       "      <th>2</th>\n",
       "      <td>17020.0</td>\n",
       "      <td>0.0</td>\n",
       "      <td>3004</td>\n",
       "      <td>6.075021e+13</td>\n",
       "      <td>075</td>\n",
       "      <td>6.0</td>\n",
       "      <td>0.0</td>\n",
       "      <td>56.0</td>\n",
       "      <td>14.0</td>\n",
       "      <td>S</td>\n",
       "      <td>2147483647</td>\n",
       "      <td>+37.7567937</td>\n",
       "      <td>-122.4362701</td>\n",
       "      <td>10.0</td>\n",
       "      <td>0.0</td>\n",
       "      <td>G5040</td>\n",
       "      <td>Block 3004</td>\n",
       "      <td>35.0</td>\n",
       "      <td>14.0</td>\n",
       "      <td>5.0</td>\n",
       "      <td>0.0</td>\n",
       "      <td>06</td>\n",
       "      <td>020500</td>\n",
       "      <td>78904</td>\n",
       "      <td>U</td>\n",
       "      <td>U</td>\n",
       "      <td>20160219.0</td>\n",
       "      <td>20160219.0</td>\n",
       "      <td>POLYGON ((-122.435808 37.757623, -122.435642 3...</td>\n",
       "      <td>6.075021e+13</td>\n",
       "      <td>6.075021e+13</td>\n",
       "    </tr>\n",
       "    <tr>\n",
       "      <th>3</th>\n",
       "      <td>16415.0</td>\n",
       "      <td>0.0</td>\n",
       "      <td>1003</td>\n",
       "      <td>6.075021e+13</td>\n",
       "      <td>075</td>\n",
       "      <td>16.0</td>\n",
       "      <td>0.0</td>\n",
       "      <td>59.0</td>\n",
       "      <td>14.0</td>\n",
       "      <td>S</td>\n",
       "      <td>2147483647</td>\n",
       "      <td>+37.7535291</td>\n",
       "      <td>-122.4370498</td>\n",
       "      <td>3.0</td>\n",
       "      <td>1.0</td>\n",
       "      <td>G5040</td>\n",
       "      <td>Block 1003</td>\n",
       "      <td>38.0</td>\n",
       "      <td>13.0</td>\n",
       "      <td>2.0</td>\n",
       "      <td>0.0</td>\n",
       "      <td>06</td>\n",
       "      <td>021200</td>\n",
       "      <td>78904</td>\n",
       "      <td>U</td>\n",
       "      <td>U</td>\n",
       "      <td>20160219.0</td>\n",
       "      <td>20160219.0</td>\n",
       "      <td>POLYGON ((-122.436527 37.75354, -122.436454 37...</td>\n",
       "      <td>6.075021e+13</td>\n",
       "      <td>6.075021e+13</td>\n",
       "    </tr>\n",
       "    <tr>\n",
       "      <th>4</th>\n",
       "      <td>17523.0</td>\n",
       "      <td>0.0</td>\n",
       "      <td>4001</td>\n",
       "      <td>6.075021e+13</td>\n",
       "      <td>075</td>\n",
       "      <td>7.0</td>\n",
       "      <td>0.0</td>\n",
       "      <td>35.0</td>\n",
       "      <td>18.0</td>\n",
       "      <td>S</td>\n",
       "      <td>2147483647</td>\n",
       "      <td>+37.7557580</td>\n",
       "      <td>-122.4334002</td>\n",
       "      <td>3.0</td>\n",
       "      <td>0.0</td>\n",
       "      <td>G5040</td>\n",
       "      <td>Block 4001</td>\n",
       "      <td>24.0</td>\n",
       "      <td>18.0</td>\n",
       "      <td>1.0</td>\n",
       "      <td>0.0</td>\n",
       "      <td>06</td>\n",
       "      <td>021100</td>\n",
       "      <td>78904</td>\n",
       "      <td>U</td>\n",
       "      <td>U</td>\n",
       "      <td>20160219.0</td>\n",
       "      <td>20160219.0</td>\n",
       "      <td>POLYGON ((-122.432331 37.756227, -122.432254 3...</td>\n",
       "      <td>6.075021e+13</td>\n",
       "      <td>6.075021e+13</td>\n",
       "    </tr>\n",
       "  </tbody>\n",
       "</table>\n",
       "</div>"
      ],
      "text/plain": [
       "   ALAND10  AWATER10 BLOCKCE10      BLOCK_ID COUNTYFP10  EDHLTH_RAC  \\\n",
       "0  16958.0       0.0      2002  6.075021e+13        075        14.0   \n",
       "1  16823.0       0.0      2000  6.075021e+13        075        10.0   \n",
       "2  17020.0       0.0      3004  6.075021e+13        075         6.0   \n",
       "3  16415.0       0.0      1003  6.075021e+13        075        16.0   \n",
       "4  17523.0       0.0      4001  6.075021e+13        075         7.0   \n",
       "\n",
       "   EDHLTH_WAC  EMP_RAC  EMP_WAC FUNCSTAT10     GEOID10   INTPTLAT10  \\\n",
       "0         6.0     63.0      6.0          S  2147483647  +37.7500665   \n",
       "1         0.0     57.0      5.0          S  2147483647  +37.7501958   \n",
       "2         0.0     56.0     14.0          S  2147483647  +37.7567937   \n",
       "3         0.0     59.0     14.0          S  2147483647  +37.7535291   \n",
       "4         0.0     35.0     18.0          S  2147483647  +37.7557580   \n",
       "\n",
       "     INTPTLON10  LEISER_RAC  LEISER_WAC MTFCC10      NAME10  OTHER_RAC  \\\n",
       "0  -122.4410751         6.0         0.0   G5040  Block 2002       41.0   \n",
       "1  -122.4389330         5.0         0.0   G5040  Block 2000       39.0   \n",
       "2  -122.4362701        10.0         0.0   G5040  Block 3004       35.0   \n",
       "3  -122.4370498         3.0         1.0   G5040  Block 1003       38.0   \n",
       "4  -122.4334002         3.0         0.0   G5040  Block 4001       24.0   \n",
       "\n",
       "   OTHER_WAC  RETAIL_RAC  RETAIL_WAC STATEFP10 TRACTCE10 UACE10 UATYP10 UR10  \\\n",
       "0        0.0         2.0         0.0        06    021300  78904       U    U   \n",
       "1        5.0         3.0         0.0        06    021300  78904       U    U   \n",
       "2       14.0         5.0         0.0        06    020500  78904       U    U   \n",
       "3       13.0         2.0         0.0        06    021200  78904       U    U   \n",
       "4       18.0         1.0         0.0        06    021100  78904       U    U   \n",
       "\n",
       "   createda_1  createdate                                           geometry  \\\n",
       "0  20160219.0  20160219.0  POLYGON ((-122.440616 37.750902, -122.440459 3...   \n",
       "1  20160219.0  20160219.0  POLYGON ((-122.438397 37.750226, -122.43832 37...   \n",
       "2  20160219.0  20160219.0  POLYGON ((-122.435808 37.757623, -122.435642 3...   \n",
       "3  20160219.0  20160219.0  POLYGON ((-122.436527 37.75354, -122.436454 37...   \n",
       "4  20160219.0  20160219.0  POLYGON ((-122.432331 37.756227, -122.432254 3...   \n",
       "\n",
       "      h_geocode     w_geocode  \n",
       "0  6.075021e+13  6.075021e+13  \n",
       "1  6.075021e+13  6.075021e+13  \n",
       "2  6.075021e+13  6.075021e+13  \n",
       "3  6.075021e+13  6.075021e+13  \n",
       "4  6.075021e+13  6.075021e+13  "
      ]
     },
     "execution_count": 155,
     "metadata": {},
     "output_type": "execute_result"
    }
   ],
   "source": [
    "emp.head()"
   ]
  },
  {
   "cell_type": "code",
   "execution_count": 176,
   "metadata": {
    "collapsed": false
   },
   "outputs": [],
   "source": [
    "emp.crs = {'init':'epsg:4269'}"
   ]
  },
  {
   "cell_type": "code",
   "execution_count": 178,
   "metadata": {
    "collapsed": false
   },
   "outputs": [],
   "source": [
    "emp.to_file('E:/Transit-Casa-Alex/Output/LEHD/2016/Combined_Employment.shp', driver = 'ESRI Shapefile')"
   ]
  },
  {
   "cell_type": "code",
   "execution_count": 179,
   "metadata": {
    "collapsed": true
   },
   "outputs": [],
   "source": [
    "emp.to_csv('E:/Transit-Casa-Alex/Output/LEHD/2016/Combined_Employment.csv')"
   ]
  },
  {
   "cell_type": "code",
   "execution_count": null,
   "metadata": {
    "collapsed": false
   },
   "outputs": [],
   "source": []
  },
  {
   "cell_type": "code",
   "execution_count": 177,
   "metadata": {
    "collapsed": false
   },
   "outputs": [
    {
     "data": {
      "text/html": [
       "<div>\n",
       "<table border=\"1\" class=\"dataframe\">\n",
       "  <thead>\n",
       "    <tr style=\"text-align: right;\">\n",
       "      <th></th>\n",
       "      <th>ALAND10</th>\n",
       "      <th>AWATER10</th>\n",
       "      <th>BLOCKCE10</th>\n",
       "      <th>BLOCK_ID</th>\n",
       "      <th>COUNTYFP10</th>\n",
       "      <th>EDHLTH_RAC</th>\n",
       "      <th>EDHLTH_WAC</th>\n",
       "      <th>EMP_RAC</th>\n",
       "      <th>EMP_WAC</th>\n",
       "      <th>FUNCSTAT10</th>\n",
       "      <th>GEOID10</th>\n",
       "      <th>INTPTLAT10</th>\n",
       "      <th>INTPTLON10</th>\n",
       "      <th>LEISER_RAC</th>\n",
       "      <th>LEISER_WAC</th>\n",
       "      <th>MTFCC10</th>\n",
       "      <th>NAME10</th>\n",
       "      <th>OTHER_RAC</th>\n",
       "      <th>OTHER_WAC</th>\n",
       "      <th>RETAIL_RAC</th>\n",
       "      <th>RETAIL_WAC</th>\n",
       "      <th>STATEFP10</th>\n",
       "      <th>TRACTCE10</th>\n",
       "      <th>UACE10</th>\n",
       "      <th>UATYP10</th>\n",
       "      <th>UR10</th>\n",
       "      <th>createda_1</th>\n",
       "      <th>createdate</th>\n",
       "      <th>geometry</th>\n",
       "      <th>h_geocode</th>\n",
       "      <th>w_geocode</th>\n",
       "    </tr>\n",
       "  </thead>\n",
       "  <tbody>\n",
       "  </tbody>\n",
       "</table>\n",
       "</div>"
      ],
      "text/plain": [
       "Empty GeoDataFrame\n",
       "Columns: [ALAND10, AWATER10, BLOCKCE10, BLOCK_ID, COUNTYFP10, EDHLTH_RAC, EDHLTH_WAC, EMP_RAC, EMP_WAC, FUNCSTAT10, GEOID10, INTPTLAT10, INTPTLON10, LEISER_RAC, LEISER_WAC, MTFCC10, NAME10, OTHER_RAC, OTHER_WAC, RETAIL_RAC, RETAIL_WAC, STATEFP10, TRACTCE10, UACE10, UATYP10, UR10, createda_1, createdate, geometry, h_geocode, w_geocode]\n",
       "Index: []"
      ]
     },
     "execution_count": 177,
     "metadata": {},
     "output_type": "execute_result"
    }
   ],
   "source": [
    "emp[emp['EMP_WAC'].isnull()]"
   ]
  },
  {
   "cell_type": "code",
   "execution_count": null,
   "metadata": {
    "collapsed": false
   },
   "outputs": [],
   "source": [
    "pd.Dat"
   ]
  },
  {
   "cell_type": "code",
   "execution_count": 184,
   "metadata": {
    "collapsed": false
   },
   "outputs": [],
   "source": []
  },
  {
   "cell_type": "code",
   "execution_count": 186,
   "metadata": {
    "collapsed": false
   },
   "outputs": [],
   "source": []
  },
  {
   "cell_type": "code",
   "execution_count": 196,
   "metadata": {
    "collapsed": false
   },
   "outputs": [],
   "source": []
  },
  {
   "cell_type": "code",
   "execution_count": 197,
   "metadata": {
    "collapsed": false
   },
   "outputs": [],
   "source": []
  },
  {
   "cell_type": "code",
   "execution_count": 198,
   "metadata": {
    "collapsed": true
   },
   "outputs": [],
   "source": []
  },
  {
   "cell_type": "code",
   "execution_count": 199,
   "metadata": {
    "collapsed": true
   },
   "outputs": [],
   "source": []
  },
  {
   "cell_type": "code",
   "execution_count": null,
   "metadata": {
    "collapsed": false,
    "scrolled": true
   },
   "outputs": [],
   "source": []
  },
  {
   "cell_type": "code",
   "execution_count": null,
   "metadata": {
    "collapsed": false
   },
   "outputs": [],
   "source": []
  },
  {
   "cell_type": "code",
   "execution_count": null,
   "metadata": {
    "collapsed": false
   },
   "outputs": [],
   "source": []
  },
  {
   "cell_type": "code",
   "execution_count": null,
   "metadata": {
    "collapsed": false
   },
   "outputs": [],
   "source": []
  },
  {
   "cell_type": "code",
   "execution_count": null,
   "metadata": {
    "collapsed": false
   },
   "outputs": [],
   "source": []
  },
  {
   "cell_type": "code",
   "execution_count": null,
   "metadata": {
    "collapsed": true
   },
   "outputs": [],
   "source": []
  },
  {
   "cell_type": "code",
   "execution_count": null,
   "metadata": {
    "collapsed": true
   },
   "outputs": [],
   "source": []
  }
 ],
 "metadata": {
  "anaconda-cloud": {},
  "kernelspec": {
   "display_name": "Python [conda root]",
   "language": "python",
   "name": "conda-root-py"
  },
  "language_info": {
   "codemirror_mode": {
    "name": "ipython",
    "version": 3
   },
   "file_extension": ".py",
   "mimetype": "text/x-python",
   "name": "python",
   "nbconvert_exporter": "python",
   "pygments_lexer": "ipython3",
   "version": "3.5.2"
  }
 },
 "nbformat": 4,
 "nbformat_minor": 1
}
