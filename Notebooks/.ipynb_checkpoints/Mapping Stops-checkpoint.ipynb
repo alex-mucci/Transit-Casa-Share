{
 "cells": [
  {
   "cell_type": "code",
   "execution_count": null,
   "metadata": {
    "collapsed": false
   },
   "outputs": [],
   "source": []
  },
  {
   "cell_type": "code",
   "execution_count": 79,
   "metadata": {
    "collapsed": false
   },
   "outputs": [
    {
     "name": "stdout",
     "output_type": "stream",
     "text": [
      "The autoreload extension is already loaded. To reload it, use:\n",
      "  %reload_ext autoreload\n"
     ]
    }
   ],
   "source": [
    "import csv as csv\n",
    "import pandas as pd\n",
    "import numpy as np\n",
    "import folium\n",
    "%load_ext autoreload\n",
    "%autoreload 2\n",
    "%matplotlib inline\n"
   ]
  },
  {
   "cell_type": "code",
   "execution_count": 80,
   "metadata": {
    "collapsed": true
   },
   "outputs": [],
   "source": [
    "hdffile = \"E:/Transit_Casa/Output/sfmuni_monthly_ts.h5\"\n",
    "store = pd.HDFStore(hdffile)\n",
    "df = store.get('stop_day')"
   ]
  },
  {
   "cell_type": "code",
   "execution_count": 81,
   "metadata": {
    "collapsed": false
   },
   "outputs": [],
   "source": [
    "mapa = folium.Map([37.775, -122.4813333],\n",
    "                  zoom_start=10,\n",
    "                  tiles='cartodbpositron')\n"
   ]
  },
  {
   "cell_type": "code",
   "execution_count": 82,
   "metadata": {
    "collapsed": true
   },
   "outputs": [],
   "source": [
    "df1 = df[df['MONTH'] == '2009-09-01']\n",
    "df2 = df[df['MONTH'] == '2013-09-01']"
   ]
  },
  {
   "cell_type": "code",
   "execution_count": 83,
   "metadata": {
    "collapsed": false
   },
   "outputs": [],
   "source": [
    "df_final = pd.merge(df1,df2, how = 'outer', on = ['DOW', 'AGENCY_ID', 'STOP_ID'], suffixes = ['_09','_13'])"
   ]
  },
  {
   "cell_type": "code",
   "execution_count": 84,
   "metadata": {
    "collapsed": false
   },
   "outputs": [],
   "source": [
    "df_final = df_final.reindex_axis(sorted(df_final.columns), axis=1)\n"
   ]
  },
  {
   "cell_type": "code",
   "execution_count": 85,
   "metadata": {
    "collapsed": false
   },
   "outputs": [],
   "source": [
    "df_final['ON_DIFF'] = df_final['ON_13'] - df_final['ON_09']\n",
    "df_final['ON_P_DIFF(FLOAT)'] = (df_final['ON_13'] - df_final['ON_09'])/df_final['ON_09']\n",
    "df_final['ON_P_DIFF'] = ((df_final['ON_13'] - df_final['ON_09'])/df_final['ON_09'])*100\n"
   ]
  },
  {
   "cell_type": "code",
   "execution_count": null,
   "metadata": {
    "collapsed": false
   },
   "outputs": [],
   "source": []
  },
  {
   "cell_type": "code",
   "execution_count": 90,
   "metadata": {
    "collapsed": false
   },
   "outputs": [
    {
     "data": {
      "text/plain": [
       "0.70465099170981516"
      ]
     },
     "execution_count": 90,
     "metadata": {},
     "output_type": "execute_result"
    }
   ],
   "source": [
    "np.percentile(df_final['ON_09'].dropna(),5)"
   ]
  },
  {
   "cell_type": "code",
   "execution_count": 8,
   "metadata": {
    "collapsed": false
   },
   "outputs": [],
   "source": [
    "df_final['ON_P_DIFF'] = df_final.ON_P_DIFF.astype(str) + '%'\n"
   ]
  },
  {
   "cell_type": "code",
   "execution_count": 9,
   "metadata": {
    "collapsed": false
   },
   "outputs": [
    {
     "data": {
      "text/html": [
       "<div>\n",
       "<table border=\"1\" class=\"dataframe\">\n",
       "  <thead>\n",
       "    <tr style=\"text-align: right;\">\n",
       "      <th></th>\n",
       "      <th>AGENCY_ID</th>\n",
       "      <th>ARRIVAL_TIME_DEV_09</th>\n",
       "      <th>ARRIVAL_TIME_DEV_13</th>\n",
       "      <th>BIKERACK_09</th>\n",
       "      <th>BIKERACK_13</th>\n",
       "      <th>CAPACITY_09</th>\n",
       "      <th>CAPACITY_13</th>\n",
       "      <th>CROWDED_09</th>\n",
       "      <th>CROWDED_13</th>\n",
       "      <th>CROWDHOURS_09</th>\n",
       "      <th>...</th>\n",
       "      <th>VC_13</th>\n",
       "      <th>WAITHOURS_09</th>\n",
       "      <th>WAITHOURS_13</th>\n",
       "      <th>WGT_TRIP_STOPS_09</th>\n",
       "      <th>WGT_TRIP_STOPS_13</th>\n",
       "      <th>WHEELCHAIR_09</th>\n",
       "      <th>WHEELCHAIR_13</th>\n",
       "      <th>ON_DIFF</th>\n",
       "      <th>ON_P_DIFF(FLOAT)</th>\n",
       "      <th>ON_P_DIFF</th>\n",
       "    </tr>\n",
       "  </thead>\n",
       "  <tbody>\n",
       "    <tr>\n",
       "      <th>0</th>\n",
       "      <td>SFMTA</td>\n",
       "      <td>0.934607</td>\n",
       "      <td>1.757239</td>\n",
       "      <td>0.219167</td>\n",
       "      <td>1.592472</td>\n",
       "      <td>2877.954545</td>\n",
       "      <td>2560.95</td>\n",
       "      <td>0.060312</td>\n",
       "      <td>0.037341</td>\n",
       "      <td>21.520189</td>\n",
       "      <td>...</td>\n",
       "      <td>0.264026</td>\n",
       "      <td>377.780377</td>\n",
       "      <td>393.842721</td>\n",
       "      <td>273.297197</td>\n",
       "      <td>265.943718</td>\n",
       "      <td>0.000000</td>\n",
       "      <td>0.566667</td>\n",
       "      <td>-213.317617</td>\n",
       "      <td>-0.094988</td>\n",
       "      <td>-9.49876029208%</td>\n",
       "    </tr>\n",
       "    <tr>\n",
       "      <th>1</th>\n",
       "      <td>SFMTA</td>\n",
       "      <td>3.542134</td>\n",
       "      <td>NaN</td>\n",
       "      <td>0.399840</td>\n",
       "      <td>NaN</td>\n",
       "      <td>1093.909091</td>\n",
       "      <td>NaN</td>\n",
       "      <td>0.031747</td>\n",
       "      <td>NaN</td>\n",
       "      <td>4.584047</td>\n",
       "      <td>...</td>\n",
       "      <td>NaN</td>\n",
       "      <td>40.855085</td>\n",
       "      <td>NaN</td>\n",
       "      <td>119.847627</td>\n",
       "      <td>NaN</td>\n",
       "      <td>0.126824</td>\n",
       "      <td>NaN</td>\n",
       "      <td>NaN</td>\n",
       "      <td>NaN</td>\n",
       "      <td>nan%</td>\n",
       "    </tr>\n",
       "    <tr>\n",
       "      <th>2</th>\n",
       "      <td>SFMTA</td>\n",
       "      <td>1.770704</td>\n",
       "      <td>-0.344797</td>\n",
       "      <td>0.000000</td>\n",
       "      <td>0.000000</td>\n",
       "      <td>1505.818182</td>\n",
       "      <td>1242.70</td>\n",
       "      <td>0.000000</td>\n",
       "      <td>0.000000</td>\n",
       "      <td>0.000000</td>\n",
       "      <td>...</td>\n",
       "      <td>0.088846</td>\n",
       "      <td>0.147314</td>\n",
       "      <td>0.228783</td>\n",
       "      <td>135.850975</td>\n",
       "      <td>101.784411</td>\n",
       "      <td>0.000000</td>\n",
       "      <td>0.000000</td>\n",
       "      <td>0.178389</td>\n",
       "      <td>0.083941</td>\n",
       "      <td>8.3941360784%</td>\n",
       "    </tr>\n",
       "    <tr>\n",
       "      <th>3</th>\n",
       "      <td>SFMTA</td>\n",
       "      <td>4.582892</td>\n",
       "      <td>2.994147</td>\n",
       "      <td>0.226340</td>\n",
       "      <td>0.133333</td>\n",
       "      <td>1437.882353</td>\n",
       "      <td>1562.40</td>\n",
       "      <td>0.000000</td>\n",
       "      <td>0.000000</td>\n",
       "      <td>0.000000</td>\n",
       "      <td>...</td>\n",
       "      <td>0.041083</td>\n",
       "      <td>7.528386</td>\n",
       "      <td>2.838759</td>\n",
       "      <td>87.038251</td>\n",
       "      <td>79.000000</td>\n",
       "      <td>0.000000</td>\n",
       "      <td>0.000000</td>\n",
       "      <td>-29.414361</td>\n",
       "      <td>-0.681573</td>\n",
       "      <td>-68.1572790684%</td>\n",
       "    </tr>\n",
       "    <tr>\n",
       "      <th>4</th>\n",
       "      <td>SFMTA</td>\n",
       "      <td>2.883022</td>\n",
       "      <td>NaN</td>\n",
       "      <td>0.150224</td>\n",
       "      <td>NaN</td>\n",
       "      <td>804.681818</td>\n",
       "      <td>NaN</td>\n",
       "      <td>0.012185</td>\n",
       "      <td>NaN</td>\n",
       "      <td>0.929952</td>\n",
       "      <td>...</td>\n",
       "      <td>NaN</td>\n",
       "      <td>1.027610</td>\n",
       "      <td>NaN</td>\n",
       "      <td>63.000000</td>\n",
       "      <td>NaN</td>\n",
       "      <td>0.286364</td>\n",
       "      <td>NaN</td>\n",
       "      <td>NaN</td>\n",
       "      <td>NaN</td>\n",
       "      <td>nan%</td>\n",
       "    </tr>\n",
       "  </tbody>\n",
       "</table>\n",
       "<p>5 rows × 102 columns</p>\n",
       "</div>"
      ],
      "text/plain": [
       "  AGENCY_ID  ARRIVAL_TIME_DEV_09  ARRIVAL_TIME_DEV_13  BIKERACK_09  \\\n",
       "0     SFMTA             0.934607             1.757239     0.219167   \n",
       "1     SFMTA             3.542134                  NaN     0.399840   \n",
       "2     SFMTA             1.770704            -0.344797     0.000000   \n",
       "3     SFMTA             4.582892             2.994147     0.226340   \n",
       "4     SFMTA             2.883022                  NaN     0.150224   \n",
       "\n",
       "   BIKERACK_13  CAPACITY_09  CAPACITY_13  CROWDED_09  CROWDED_13  \\\n",
       "0     1.592472  2877.954545      2560.95    0.060312    0.037341   \n",
       "1          NaN  1093.909091          NaN    0.031747         NaN   \n",
       "2     0.000000  1505.818182      1242.70    0.000000    0.000000   \n",
       "3     0.133333  1437.882353      1562.40    0.000000    0.000000   \n",
       "4          NaN   804.681818          NaN    0.012185         NaN   \n",
       "\n",
       "   CROWDHOURS_09       ...            VC_13  WAITHOURS_09  WAITHOURS_13  \\\n",
       "0      21.520189       ...         0.264026    377.780377    393.842721   \n",
       "1       4.584047       ...              NaN     40.855085           NaN   \n",
       "2       0.000000       ...         0.088846      0.147314      0.228783   \n",
       "3       0.000000       ...         0.041083      7.528386      2.838759   \n",
       "4       0.929952       ...              NaN      1.027610           NaN   \n",
       "\n",
       "   WGT_TRIP_STOPS_09  WGT_TRIP_STOPS_13  WHEELCHAIR_09  WHEELCHAIR_13  \\\n",
       "0         273.297197         265.943718       0.000000       0.566667   \n",
       "1         119.847627                NaN       0.126824            NaN   \n",
       "2         135.850975         101.784411       0.000000       0.000000   \n",
       "3          87.038251          79.000000       0.000000       0.000000   \n",
       "4          63.000000                NaN       0.286364            NaN   \n",
       "\n",
       "      ON_DIFF  ON_P_DIFF(FLOAT)        ON_P_DIFF  \n",
       "0 -213.317617         -0.094988  -9.49876029208%  \n",
       "1         NaN               NaN             nan%  \n",
       "2    0.178389          0.083941    8.3941360784%  \n",
       "3  -29.414361         -0.681573  -68.1572790684%  \n",
       "4         NaN               NaN             nan%  \n",
       "\n",
       "[5 rows x 102 columns]"
      ]
     },
     "execution_count": 9,
     "metadata": {},
     "output_type": "execute_result"
    }
   ],
   "source": [
    "df_final.head()"
   ]
  },
  {
   "cell_type": "code",
   "execution_count": 37,
   "metadata": {
    "collapsed": false
   },
   "outputs": [
    {
     "name": "stdout",
     "output_type": "stream",
     "text": [
      "AGENCY_ID\n",
      "ARRIVAL_TIME_DEV_09\n",
      "ARRIVAL_TIME_DEV_13\n",
      "BIKERACK_09\n",
      "BIKERACK_13\n",
      "CAPACITY_09\n",
      "CAPACITY_13\n",
      "CROWDED_09\n",
      "CROWDED_13\n",
      "CROWDHOURS_09\n",
      "CROWDHOURS_13\n",
      "DEPARTURE_TIME_DEV_09\n",
      "DEPARTURE_TIME_DEV_13\n",
      "DOORCYCLES_09\n",
      "DOORCYCLES_13\n",
      "DOW\n",
      "DWELL_09\n",
      "DWELL_13\n",
      "DWELL_S_09\n",
      "DWELL_S_13\n",
      "EOL_09\n",
      "EOL_13\n",
      "FARE_09\n",
      "FARE_13\n",
      "FULLFARE_REV_09\n",
      "FULLFARE_REV_13\n",
      "HEADWAY_S_09\n",
      "HEADWAY_S_13\n",
      "LOAD_ARR_09\n",
      "LOAD_ARR_13\n",
      "LOAD_DEP_09\n",
      "LOAD_DEP_13\n",
      "MONTH_09\n",
      "MONTH_13\n",
      "NUMDAYS_09\n",
      "NUMDAYS_13\n",
      "OBSDAYS_09\n",
      "OBSDAYS_13\n",
      "OBS_TRIP_STOPS_09\n",
      "OBS_TRIP_STOPS_13\n",
      "OFF_09\n",
      "OFF_13\n",
      "ONTIME5_09\n",
      "ONTIME5_13\n",
      "ON_09\n",
      "ON_13\n",
      "PASSDELAY_ARR_09\n",
      "PASSDELAY_ARR_13\n",
      "PASSDELAY_DEP_09\n",
      "PASSDELAY_DEP_13\n",
      "PASSHOURS_09\n",
      "PASSHOURS_13\n",
      "PASSMILES_09\n",
      "PASSMILES_13\n",
      "RDBRDNGS_09\n",
      "RDBRDNGS_13\n",
      "RUNSPEED_09\n",
      "RUNSPEED_13\n",
      "RUNSPEED_S_09\n",
      "RUNSPEED_S_13\n",
      "RUNTIME_09\n",
      "RUNTIME_13\n",
      "RUNTIME_S_09\n",
      "RUNTIME_S_13\n",
      "SERVMILES_09\n",
      "SERVMILES_13\n",
      "SERVMILES_S_09\n",
      "SERVMILES_S_13\n",
      "SOL_09\n",
      "SOL_13\n",
      "STOPNAME_09\n",
      "STOPNAME_13\n",
      "STOPNAME_AVL_09\n",
      "STOPNAME_AVL_13\n",
      "STOP_ID\n",
      "STOP_LAT_09\n",
      "STOP_LAT_13\n",
      "STOP_LON_09\n",
      "STOP_LON_13\n",
      "TIMEPOINT_09\n",
      "TIMEPOINT_13\n",
      "TOTSPEED_09\n",
      "TOTSPEED_13\n",
      "TOTSPEED_S_09\n",
      "TOTSPEED_S_13\n",
      "TOTTIME_09\n",
      "TOTTIME_13\n",
      "TOTTIME_S_09\n",
      "TOTTIME_S_13\n",
      "TRIP_STOPS_09\n",
      "TRIP_STOPS_13\n",
      "VC_09\n",
      "VC_13\n",
      "WAITHOURS_09\n",
      "WAITHOURS_13\n",
      "WGT_TRIP_STOPS_09\n",
      "WGT_TRIP_STOPS_13\n",
      "WHEELCHAIR_09\n",
      "WHEELCHAIR_13\n",
      "ON_DIFF\n",
      "ON_P_DIFF(FLOAT)\n",
      "ON_P_DIFF\n"
     ]
    }
   ],
   "source": [
    "for col in df_final.columns:\n",
    "        print(col)"
   ]
  },
  {
   "cell_type": "code",
   "execution_count": 100,
   "metadata": {
    "collapsed": false
   },
   "outputs": [
    {
     "data": {
      "text/plain": [
       "21.795986622073585"
      ]
     },
     "execution_count": 100,
     "metadata": {},
     "output_type": "execute_result"
    }
   ],
   "source": [
    "df_final['HEADWAY_S_09'][0]"
   ]
  },
  {
   "cell_type": "code",
   "execution_count": 74,
   "metadata": {
    "collapsed": false
   },
   "outputs": [
    {
     "data": {
      "text/html": [
       "<div>\n",
       "<table border=\"1\" class=\"dataframe\">\n",
       "  <thead>\n",
       "    <tr style=\"text-align: right;\">\n",
       "      <th></th>\n",
       "      <th>AGENCY_ID_x</th>\n",
       "      <th>ARRIVAL_TIME_DEV_09_x</th>\n",
       "      <th>ARRIVAL_TIME_DEV_13_x</th>\n",
       "      <th>BIKERACK_09_x</th>\n",
       "      <th>BIKERACK_13_x</th>\n",
       "      <th>CAPACITY_09_x</th>\n",
       "      <th>CAPACITY_13_x</th>\n",
       "      <th>CROWDED_09_x</th>\n",
       "      <th>CROWDED_13_x</th>\n",
       "      <th>CROWDHOURS_09_x</th>\n",
       "      <th>...</th>\n",
       "      <th>VC_13_y</th>\n",
       "      <th>WAITHOURS_09_y</th>\n",
       "      <th>WAITHOURS_13_y</th>\n",
       "      <th>WGT_TRIP_STOPS_09_y</th>\n",
       "      <th>WGT_TRIP_STOPS_13_y</th>\n",
       "      <th>WHEELCHAIR_09_y</th>\n",
       "      <th>WHEELCHAIR_13_y</th>\n",
       "      <th>ON_DIFF_y</th>\n",
       "      <th>ON_P_DIFF(FLOAT)_y</th>\n",
       "      <th>ON_P_DIFF_y</th>\n",
       "    </tr>\n",
       "  </thead>\n",
       "  <tbody>\n",
       "    <tr>\n",
       "      <th>0</th>\n",
       "      <td>SFMTA</td>\n",
       "      <td>3.553991</td>\n",
       "      <td>7.193900</td>\n",
       "      <td>0.214258</td>\n",
       "      <td>0.000000</td>\n",
       "      <td>140.00</td>\n",
       "      <td>144.90</td>\n",
       "      <td>0.0</td>\n",
       "      <td>0.0</td>\n",
       "      <td>0.0</td>\n",
       "      <td>...</td>\n",
       "      <td>0.223347</td>\n",
       "      <td>0.0</td>\n",
       "      <td>0.0</td>\n",
       "      <td>9.672307</td>\n",
       "      <td>9.960352</td>\n",
       "      <td>0.0</td>\n",
       "      <td>0.0</td>\n",
       "      <td>0.0</td>\n",
       "      <td>NaN</td>\n",
       "      <td>nan%</td>\n",
       "    </tr>\n",
       "    <tr>\n",
       "      <th>1</th>\n",
       "      <td>SFMTA</td>\n",
       "      <td>0.078875</td>\n",
       "      <td>1.584359</td>\n",
       "      <td>0.000000</td>\n",
       "      <td>0.286783</td>\n",
       "      <td>324.45</td>\n",
       "      <td>1820.70</td>\n",
       "      <td>0.0</td>\n",
       "      <td>0.0</td>\n",
       "      <td>0.0</td>\n",
       "      <td>...</td>\n",
       "      <td>NaN</td>\n",
       "      <td>NaN</td>\n",
       "      <td>NaN</td>\n",
       "      <td>NaN</td>\n",
       "      <td>NaN</td>\n",
       "      <td>NaN</td>\n",
       "      <td>NaN</td>\n",
       "      <td>NaN</td>\n",
       "      <td>NaN</td>\n",
       "      <td>NaN</td>\n",
       "    </tr>\n",
       "    <tr>\n",
       "      <th>2</th>\n",
       "      <td>SFMTA</td>\n",
       "      <td>3.704306</td>\n",
       "      <td>NaN</td>\n",
       "      <td>0.000000</td>\n",
       "      <td>NaN</td>\n",
       "      <td>136.50</td>\n",
       "      <td>NaN</td>\n",
       "      <td>0.0</td>\n",
       "      <td>NaN</td>\n",
       "      <td>0.0</td>\n",
       "      <td>...</td>\n",
       "      <td>NaN</td>\n",
       "      <td>NaN</td>\n",
       "      <td>NaN</td>\n",
       "      <td>NaN</td>\n",
       "      <td>NaN</td>\n",
       "      <td>NaN</td>\n",
       "      <td>NaN</td>\n",
       "      <td>NaN</td>\n",
       "      <td>NaN</td>\n",
       "      <td>NaN</td>\n",
       "    </tr>\n",
       "    <tr>\n",
       "      <th>3</th>\n",
       "      <td>SFMTA</td>\n",
       "      <td>-0.739032</td>\n",
       "      <td>1.544508</td>\n",
       "      <td>0.000000</td>\n",
       "      <td>0.000000</td>\n",
       "      <td>324.45</td>\n",
       "      <td>283.50</td>\n",
       "      <td>0.0</td>\n",
       "      <td>0.0</td>\n",
       "      <td>0.0</td>\n",
       "      <td>...</td>\n",
       "      <td>NaN</td>\n",
       "      <td>NaN</td>\n",
       "      <td>NaN</td>\n",
       "      <td>NaN</td>\n",
       "      <td>NaN</td>\n",
       "      <td>NaN</td>\n",
       "      <td>NaN</td>\n",
       "      <td>NaN</td>\n",
       "      <td>NaN</td>\n",
       "      <td>NaN</td>\n",
       "    </tr>\n",
       "    <tr>\n",
       "      <th>4</th>\n",
       "      <td>SFMTA</td>\n",
       "      <td>4.540167</td>\n",
       "      <td>8.065517</td>\n",
       "      <td>0.000000</td>\n",
       "      <td>0.000000</td>\n",
       "      <td>140.00</td>\n",
       "      <td>141.75</td>\n",
       "      <td>0.0</td>\n",
       "      <td>0.0</td>\n",
       "      <td>0.0</td>\n",
       "      <td>...</td>\n",
       "      <td>NaN</td>\n",
       "      <td>NaN</td>\n",
       "      <td>NaN</td>\n",
       "      <td>NaN</td>\n",
       "      <td>NaN</td>\n",
       "      <td>NaN</td>\n",
       "      <td>NaN</td>\n",
       "      <td>NaN</td>\n",
       "      <td>NaN</td>\n",
       "      <td>NaN</td>\n",
       "    </tr>\n",
       "  </tbody>\n",
       "</table>\n",
       "<p>5 rows × 203 columns</p>\n",
       "</div>"
      ],
      "text/plain": [
       "  AGENCY_ID_x  ARRIVAL_TIME_DEV_09_x  ARRIVAL_TIME_DEV_13_x  BIKERACK_09_x  \\\n",
       "0       SFMTA               3.553991               7.193900       0.214258   \n",
       "1       SFMTA               0.078875               1.584359       0.000000   \n",
       "2       SFMTA               3.704306                    NaN       0.000000   \n",
       "3       SFMTA              -0.739032               1.544508       0.000000   \n",
       "4       SFMTA               4.540167               8.065517       0.000000   \n",
       "\n",
       "   BIKERACK_13_x  CAPACITY_09_x  CAPACITY_13_x  CROWDED_09_x  CROWDED_13_x  \\\n",
       "0       0.000000         140.00         144.90           0.0           0.0   \n",
       "1       0.286783         324.45        1820.70           0.0           0.0   \n",
       "2            NaN         136.50            NaN           0.0           NaN   \n",
       "3       0.000000         324.45         283.50           0.0           0.0   \n",
       "4       0.000000         140.00         141.75           0.0           0.0   \n",
       "\n",
       "   CROWDHOURS_09_x     ...        VC_13_y  WAITHOURS_09_y  WAITHOURS_13_y  \\\n",
       "0              0.0     ...       0.223347             0.0             0.0   \n",
       "1              0.0     ...            NaN             NaN             NaN   \n",
       "2              0.0     ...            NaN             NaN             NaN   \n",
       "3              0.0     ...            NaN             NaN             NaN   \n",
       "4              0.0     ...            NaN             NaN             NaN   \n",
       "\n",
       "   WGT_TRIP_STOPS_09_y  WGT_TRIP_STOPS_13_y  WHEELCHAIR_09_y  WHEELCHAIR_13_y  \\\n",
       "0             9.672307             9.960352              0.0              0.0   \n",
       "1                  NaN                  NaN              NaN              NaN   \n",
       "2                  NaN                  NaN              NaN              NaN   \n",
       "3                  NaN                  NaN              NaN              NaN   \n",
       "4                  NaN                  NaN              NaN              NaN   \n",
       "\n",
       "   ON_DIFF_y  ON_P_DIFF(FLOAT)_y  ON_P_DIFF_y  \n",
       "0        0.0                 NaN         nan%  \n",
       "1        NaN                 NaN          NaN  \n",
       "2        NaN                 NaN          NaN  \n",
       "3        NaN                 NaN          NaN  \n",
       "4        NaN                 NaN          NaN  \n",
       "\n",
       "[5 rows x 203 columns]"
      ]
     },
     "execution_count": 74,
     "metadata": {},
     "output_type": "execute_result"
    }
   ],
   "source": [
    "df = df_final[df_final['ON_09']== 0] \n",
    "df2 = df_final[df_final['ON_13']== 0] \n",
    "df3 = pd.merge(df,df2,how = 'left', on = 'STOP_ID')\n"
   ]
  },
  {
   "cell_type": "code",
   "execution_count": null,
   "metadata": {
    "collapsed": true
   },
   "outputs": [],
   "source": [
    "df3 = pd.merge"
   ]
  },
  {
   "cell_type": "code",
   "execution_count": 58,
   "metadata": {
    "collapsed": false
   },
   "outputs": [
    {
     "data": {
      "text/plain": [
       "True"
      ]
     },
     "execution_count": 58,
     "metadata": {},
     "output_type": "execute_result"
    }
   ],
   "source": [
    "-0.333 <= -0.333 <0.5555"
   ]
  },
  {
   "cell_type": "code",
   "execution_count": 28,
   "metadata": {
    "collapsed": false
   },
   "outputs": [
    {
     "data": {
      "text/plain": [
       "True"
      ]
     },
     "execution_count": 28,
     "metadata": {},
     "output_type": "execute_result"
    }
   ],
   "source": [
    "np.isnan(df_final.ON_DIFF[1] )"
   ]
  },
  {
   "cell_type": "code",
   "execution_count": 24,
   "metadata": {
    "collapsed": false
   },
   "outputs": [
    {
     "data": {
      "text/plain": [
       "nan"
      ]
     },
     "execution_count": 24,
     "metadata": {},
     "output_type": "execute_result"
    }
   ],
   "source": [
    "df_final.ON_DIFF[1] "
   ]
  },
  {
   "cell_type": "code",
   "execution_count": 11,
   "metadata": {
    "collapsed": false
   },
   "outputs": [
    {
     "ename": "ValueError",
     "evalue": "not enough values to unpack (expected 2, got 0)",
     "output_type": "error",
     "traceback": [
      "\u001b[0;31m---------------------------------------------------------------------------\u001b[0m",
      "\u001b[0;31mValueError\u001b[0m                                Traceback (most recent call last)",
      "\u001b[0;32m<ipython-input-11-f813222e6a97>\u001b[0m in \u001b[0;36m<module>\u001b[0;34m()\u001b[0m\n\u001b[1;32m      3\u001b[0m \u001b[1;33m\u001b[0m\u001b[0m\n\u001b[1;32m      4\u001b[0m \u001b[0mwidth\u001b[0m\u001b[1;33m,\u001b[0m \u001b[0mheight\u001b[0m \u001b[1;33m=\u001b[0m \u001b[1;36m310\u001b[0m\u001b[1;33m,\u001b[0m\u001b[1;36m110\u001b[0m\u001b[1;33m\u001b[0m\u001b[0m\n\u001b[0;32m----> 5\u001b[0;31m \u001b[0mpopups\u001b[0m\u001b[1;33m,\u001b[0m \u001b[0mlocations\u001b[0m \u001b[1;33m=\u001b[0m \u001b[1;33m[\u001b[0m\u001b[1;33m]\u001b[0m\u001b[1;33m\u001b[0m\u001b[0m\n\u001b[0m\u001b[1;32m      6\u001b[0m \u001b[1;32mfor\u001b[0m \u001b[0midx\u001b[0m\u001b[1;33m,\u001b[0m \u001b[0mrow\u001b[0m \u001b[1;32min\u001b[0m \u001b[0mdf\u001b[0m\u001b[1;33m.\u001b[0m\u001b[0miterrows\u001b[0m\u001b[1;33m(\u001b[0m\u001b[1;33m)\u001b[0m\u001b[1;33m:\u001b[0m\u001b[1;33m\u001b[0m\u001b[0m\n\u001b[1;32m      7\u001b[0m     \u001b[0mlocations\u001b[0m\u001b[1;33m.\u001b[0m\u001b[0mappend\u001b[0m\u001b[1;33m(\u001b[0m\u001b[1;33m[\u001b[0m\u001b[0mrow\u001b[0m\u001b[1;33m[\u001b[0m\u001b[1;34m'STOP_LAT'\u001b[0m\u001b[1;33m]\u001b[0m\u001b[1;33m,\u001b[0m \u001b[0mrow\u001b[0m\u001b[1;33m[\u001b[0m\u001b[1;34m'STOP_LON'\u001b[0m\u001b[1;33m]\u001b[0m\u001b[1;33m]\u001b[0m\u001b[1;33m)\u001b[0m\u001b[1;33m\u001b[0m\u001b[0m\n",
      "\u001b[0;31mValueError\u001b[0m: not enough values to unpack (expected 2, got 0)"
     ]
    }
   ],
   "source": [
    "from folium.element import IFrame\n",
    "from folium.plugins import MarkerCluster\n",
    "\n",
    "width, height = 310,110\n",
    "popups, locations = []\n",
    "for idx, row in df.iterrows():\n",
    "    locations.append([row['STOP_LAT'], row['STOP_LON']])\n",
    "    name = row['STOPNAME']\n",
    "    on = row['ON']\n",
    "    iframe = IFrame(table('Hydroelectric', name, on), width=width, height=height)\n",
    "    popups.append(iframe)\n",
    "    \n",
    "h = folium.FeatureGroup(name='STOPNAME')\n",
    "h.add_children(MarkerCluster(locations=locations, popups=popups))\n",
    "mapa.add_children(h)"
   ]
  },
  {
   "cell_type": "code",
   "execution_count": 12,
   "metadata": {
    "collapsed": false
   },
   "outputs": [
    {
     "name": "stderr",
     "output_type": "stream",
     "text": [
      "C:\\Anaconda\\lib\\site-packages\\ipykernel\\__main__.py:3: FutureWarning: Map.create_map is deprecated. Use Map.save instead\n",
      "  app.launch_new_instance()\n"
     ]
    }
   ],
   "source": [
    "import folium\n",
    "map = folium.Map(location=[45.5236, -122.6750])\n",
    "map.create_map(path='osm.html')\n"
   ]
  },
  {
   "cell_type": "code",
   "execution_count": 13,
   "metadata": {
    "collapsed": false
   },
   "outputs": [
    {
     "ename": "KeyError",
     "evalue": "'ON_P_DIFF(INT)'",
     "output_type": "error",
     "traceback": [
      "\u001b[0;31m---------------------------------------------------------------------------\u001b[0m",
      "\u001b[0;31mKeyError\u001b[0m                                  Traceback (most recent call last)",
      "\u001b[0;32mC:\\Anaconda\\lib\\site-packages\\pandas\\indexes\\base.py\u001b[0m in \u001b[0;36mget_loc\u001b[0;34m(self, key, method, tolerance)\u001b[0m\n\u001b[1;32m   1944\u001b[0m             \u001b[1;32mtry\u001b[0m\u001b[1;33m:\u001b[0m\u001b[1;33m\u001b[0m\u001b[0m\n\u001b[0;32m-> 1945\u001b[0;31m                 \u001b[1;32mreturn\u001b[0m \u001b[0mself\u001b[0m\u001b[1;33m.\u001b[0m\u001b[0m_engine\u001b[0m\u001b[1;33m.\u001b[0m\u001b[0mget_loc\u001b[0m\u001b[1;33m(\u001b[0m\u001b[0mkey\u001b[0m\u001b[1;33m)\u001b[0m\u001b[1;33m\u001b[0m\u001b[0m\n\u001b[0m\u001b[1;32m   1946\u001b[0m             \u001b[1;32mexcept\u001b[0m \u001b[0mKeyError\u001b[0m\u001b[1;33m:\u001b[0m\u001b[1;33m\u001b[0m\u001b[0m\n",
      "\u001b[0;32mpandas\\index.pyx\u001b[0m in \u001b[0;36mpandas.index.IndexEngine.get_loc (pandas\\index.c:4154)\u001b[0;34m()\u001b[0m\n",
      "\u001b[0;32mpandas\\index.pyx\u001b[0m in \u001b[0;36mpandas.index.IndexEngine.get_loc (pandas\\index.c:4018)\u001b[0;34m()\u001b[0m\n",
      "\u001b[0;32mpandas\\hashtable.pyx\u001b[0m in \u001b[0;36mpandas.hashtable.PyObjectHashTable.get_item (pandas\\hashtable.c:12368)\u001b[0;34m()\u001b[0m\n",
      "\u001b[0;32mpandas\\hashtable.pyx\u001b[0m in \u001b[0;36mpandas.hashtable.PyObjectHashTable.get_item (pandas\\hashtable.c:12322)\u001b[0;34m()\u001b[0m\n",
      "\u001b[0;31mKeyError\u001b[0m: 'ON_P_DIFF(INT)'",
      "\nDuring handling of the above exception, another exception occurred:\n",
      "\u001b[0;31mKeyError\u001b[0m                                  Traceback (most recent call last)",
      "\u001b[0;32m<ipython-input-13-fba68964e490>\u001b[0m in \u001b[0;36m<module>\u001b[0;34m()\u001b[0m\n\u001b[1;32m     14\u001b[0m     \u001b[1;32mreturn\u001b[0m \u001b[0mcol\u001b[0m\u001b[1;33m\u001b[0m\u001b[0m\n\u001b[1;32m     15\u001b[0m \u001b[0mfg\u001b[0m\u001b[1;33m=\u001b[0m\u001b[0mfolium\u001b[0m\u001b[1;33m.\u001b[0m\u001b[0mFeatureGroup\u001b[0m\u001b[1;33m(\u001b[0m\u001b[0mname\u001b[0m\u001b[1;33m=\u001b[0m\u001b[1;34m\"Stops\"\u001b[0m\u001b[1;33m)\u001b[0m\u001b[1;33m\u001b[0m\u001b[0m\n\u001b[0;32m---> 16\u001b[0;31m \u001b[1;32mfor\u001b[0m \u001b[0mlat\u001b[0m\u001b[1;33m,\u001b[0m\u001b[0mlon\u001b[0m\u001b[1;33m,\u001b[0m\u001b[0mname\u001b[0m\u001b[1;33m,\u001b[0m\u001b[0mper\u001b[0m \u001b[1;32min\u001b[0m \u001b[0mzip\u001b[0m\u001b[1;33m(\u001b[0m\u001b[0mdf\u001b[0m\u001b[1;33m[\u001b[0m\u001b[1;34m'STOP_LAT_13'\u001b[0m\u001b[1;33m]\u001b[0m\u001b[1;33m,\u001b[0m\u001b[0mdf\u001b[0m\u001b[1;33m[\u001b[0m\u001b[1;34m'STOP_LON_13'\u001b[0m\u001b[1;33m]\u001b[0m\u001b[1;33m,\u001b[0m\u001b[0mdf\u001b[0m\u001b[1;33m[\u001b[0m\u001b[1;34m'STOPNAME_13'\u001b[0m\u001b[1;33m]\u001b[0m\u001b[1;33m,\u001b[0m\u001b[0mround\u001b[0m\u001b[1;33m(\u001b[0m\u001b[0mdf\u001b[0m\u001b[1;33m[\u001b[0m\u001b[1;34m'ON_P_DIFF(INT)'\u001b[0m\u001b[1;33m]\u001b[0m\u001b[1;33m)\u001b[0m\u001b[1;33m)\u001b[0m\u001b[1;33m:\u001b[0m\u001b[1;33m\u001b[0m\u001b[0m\n\u001b[0m\u001b[1;32m     17\u001b[0m     \u001b[0mfg\u001b[0m\u001b[1;33m.\u001b[0m\u001b[0madd_child\u001b[0m\u001b[1;33m(\u001b[0m\u001b[0mfolium\u001b[0m\u001b[1;33m.\u001b[0m\u001b[0mMarker\u001b[0m\u001b[1;33m(\u001b[0m\u001b[0mlocation\u001b[0m\u001b[1;33m=\u001b[0m\u001b[1;33m[\u001b[0m\u001b[0mlat\u001b[0m\u001b[1;33m,\u001b[0m\u001b[0mlon\u001b[0m\u001b[1;33m]\u001b[0m\u001b[1;33m,\u001b[0m\u001b[0mpopup\u001b[0m\u001b[1;33m=\u001b[0m\u001b[1;33m(\u001b[0m\u001b[0mfolium\u001b[0m\u001b[1;33m.\u001b[0m\u001b[0mPopup\u001b[0m\u001b[1;33m(\u001b[0m\u001b[0mname\u001b[0m\u001b[1;33m)\u001b[0m\u001b[1;33m)\u001b[0m\u001b[1;33m,\u001b[0m\u001b[0micon\u001b[0m\u001b[1;33m=\u001b[0m\u001b[0mfolium\u001b[0m\u001b[1;33m.\u001b[0m\u001b[0mIcon\u001b[0m\u001b[1;33m(\u001b[0m\u001b[0mcolor\u001b[0m\u001b[1;33m=\u001b[0m\u001b[0mcolor\u001b[0m\u001b[1;33m(\u001b[0m\u001b[0mper\u001b[0m\u001b[1;33m)\u001b[0m\u001b[1;33m,\u001b[0m\u001b[0micon_color\u001b[0m\u001b[1;33m=\u001b[0m\u001b[1;34m'green'\u001b[0m\u001b[1;33m)\u001b[0m\u001b[1;33m)\u001b[0m\u001b[1;33m)\u001b[0m\u001b[1;33m\u001b[0m\u001b[0m\n\u001b[1;32m     18\u001b[0m \u001b[0mmap\u001b[0m\u001b[1;33m.\u001b[0m\u001b[0madd_child\u001b[0m\u001b[1;33m(\u001b[0m\u001b[0mfg\u001b[0m\u001b[1;33m)\u001b[0m\u001b[1;33m\u001b[0m\u001b[0m\n",
      "\u001b[0;32mC:\\Anaconda\\lib\\site-packages\\pandas\\core\\frame.py\u001b[0m in \u001b[0;36m__getitem__\u001b[0;34m(self, key)\u001b[0m\n\u001b[1;32m   1995\u001b[0m             \u001b[1;32mreturn\u001b[0m \u001b[0mself\u001b[0m\u001b[1;33m.\u001b[0m\u001b[0m_getitem_multilevel\u001b[0m\u001b[1;33m(\u001b[0m\u001b[0mkey\u001b[0m\u001b[1;33m)\u001b[0m\u001b[1;33m\u001b[0m\u001b[0m\n\u001b[1;32m   1996\u001b[0m         \u001b[1;32melse\u001b[0m\u001b[1;33m:\u001b[0m\u001b[1;33m\u001b[0m\u001b[0m\n\u001b[0;32m-> 1997\u001b[0;31m             \u001b[1;32mreturn\u001b[0m \u001b[0mself\u001b[0m\u001b[1;33m.\u001b[0m\u001b[0m_getitem_column\u001b[0m\u001b[1;33m(\u001b[0m\u001b[0mkey\u001b[0m\u001b[1;33m)\u001b[0m\u001b[1;33m\u001b[0m\u001b[0m\n\u001b[0m\u001b[1;32m   1998\u001b[0m \u001b[1;33m\u001b[0m\u001b[0m\n\u001b[1;32m   1999\u001b[0m     \u001b[1;32mdef\u001b[0m \u001b[0m_getitem_column\u001b[0m\u001b[1;33m(\u001b[0m\u001b[0mself\u001b[0m\u001b[1;33m,\u001b[0m \u001b[0mkey\u001b[0m\u001b[1;33m)\u001b[0m\u001b[1;33m:\u001b[0m\u001b[1;33m\u001b[0m\u001b[0m\n",
      "\u001b[0;32mC:\\Anaconda\\lib\\site-packages\\pandas\\core\\frame.py\u001b[0m in \u001b[0;36m_getitem_column\u001b[0;34m(self, key)\u001b[0m\n\u001b[1;32m   2002\u001b[0m         \u001b[1;31m# get column\u001b[0m\u001b[1;33m\u001b[0m\u001b[1;33m\u001b[0m\u001b[0m\n\u001b[1;32m   2003\u001b[0m         \u001b[1;32mif\u001b[0m \u001b[0mself\u001b[0m\u001b[1;33m.\u001b[0m\u001b[0mcolumns\u001b[0m\u001b[1;33m.\u001b[0m\u001b[0mis_unique\u001b[0m\u001b[1;33m:\u001b[0m\u001b[1;33m\u001b[0m\u001b[0m\n\u001b[0;32m-> 2004\u001b[0;31m             \u001b[1;32mreturn\u001b[0m \u001b[0mself\u001b[0m\u001b[1;33m.\u001b[0m\u001b[0m_get_item_cache\u001b[0m\u001b[1;33m(\u001b[0m\u001b[0mkey\u001b[0m\u001b[1;33m)\u001b[0m\u001b[1;33m\u001b[0m\u001b[0m\n\u001b[0m\u001b[1;32m   2005\u001b[0m \u001b[1;33m\u001b[0m\u001b[0m\n\u001b[1;32m   2006\u001b[0m         \u001b[1;31m# duplicate columns & possible reduce dimensionality\u001b[0m\u001b[1;33m\u001b[0m\u001b[1;33m\u001b[0m\u001b[0m\n",
      "\u001b[0;32mC:\\Anaconda\\lib\\site-packages\\pandas\\core\\generic.py\u001b[0m in \u001b[0;36m_get_item_cache\u001b[0;34m(self, item)\u001b[0m\n\u001b[1;32m   1348\u001b[0m         \u001b[0mres\u001b[0m \u001b[1;33m=\u001b[0m \u001b[0mcache\u001b[0m\u001b[1;33m.\u001b[0m\u001b[0mget\u001b[0m\u001b[1;33m(\u001b[0m\u001b[0mitem\u001b[0m\u001b[1;33m)\u001b[0m\u001b[1;33m\u001b[0m\u001b[0m\n\u001b[1;32m   1349\u001b[0m         \u001b[1;32mif\u001b[0m \u001b[0mres\u001b[0m \u001b[1;32mis\u001b[0m \u001b[1;32mNone\u001b[0m\u001b[1;33m:\u001b[0m\u001b[1;33m\u001b[0m\u001b[0m\n\u001b[0;32m-> 1350\u001b[0;31m             \u001b[0mvalues\u001b[0m \u001b[1;33m=\u001b[0m \u001b[0mself\u001b[0m\u001b[1;33m.\u001b[0m\u001b[0m_data\u001b[0m\u001b[1;33m.\u001b[0m\u001b[0mget\u001b[0m\u001b[1;33m(\u001b[0m\u001b[0mitem\u001b[0m\u001b[1;33m)\u001b[0m\u001b[1;33m\u001b[0m\u001b[0m\n\u001b[0m\u001b[1;32m   1351\u001b[0m             \u001b[0mres\u001b[0m \u001b[1;33m=\u001b[0m \u001b[0mself\u001b[0m\u001b[1;33m.\u001b[0m\u001b[0m_box_item_values\u001b[0m\u001b[1;33m(\u001b[0m\u001b[0mitem\u001b[0m\u001b[1;33m,\u001b[0m \u001b[0mvalues\u001b[0m\u001b[1;33m)\u001b[0m\u001b[1;33m\u001b[0m\u001b[0m\n\u001b[1;32m   1352\u001b[0m             \u001b[0mcache\u001b[0m\u001b[1;33m[\u001b[0m\u001b[0mitem\u001b[0m\u001b[1;33m]\u001b[0m \u001b[1;33m=\u001b[0m \u001b[0mres\u001b[0m\u001b[1;33m\u001b[0m\u001b[0m\n",
      "\u001b[0;32mC:\\Anaconda\\lib\\site-packages\\pandas\\core\\internals.py\u001b[0m in \u001b[0;36mget\u001b[0;34m(self, item, fastpath)\u001b[0m\n\u001b[1;32m   3288\u001b[0m \u001b[1;33m\u001b[0m\u001b[0m\n\u001b[1;32m   3289\u001b[0m             \u001b[1;32mif\u001b[0m \u001b[1;32mnot\u001b[0m \u001b[0misnull\u001b[0m\u001b[1;33m(\u001b[0m\u001b[0mitem\u001b[0m\u001b[1;33m)\u001b[0m\u001b[1;33m:\u001b[0m\u001b[1;33m\u001b[0m\u001b[0m\n\u001b[0;32m-> 3290\u001b[0;31m                 \u001b[0mloc\u001b[0m \u001b[1;33m=\u001b[0m \u001b[0mself\u001b[0m\u001b[1;33m.\u001b[0m\u001b[0mitems\u001b[0m\u001b[1;33m.\u001b[0m\u001b[0mget_loc\u001b[0m\u001b[1;33m(\u001b[0m\u001b[0mitem\u001b[0m\u001b[1;33m)\u001b[0m\u001b[1;33m\u001b[0m\u001b[0m\n\u001b[0m\u001b[1;32m   3291\u001b[0m             \u001b[1;32melse\u001b[0m\u001b[1;33m:\u001b[0m\u001b[1;33m\u001b[0m\u001b[0m\n\u001b[1;32m   3292\u001b[0m                 \u001b[0mindexer\u001b[0m \u001b[1;33m=\u001b[0m \u001b[0mnp\u001b[0m\u001b[1;33m.\u001b[0m\u001b[0marange\u001b[0m\u001b[1;33m(\u001b[0m\u001b[0mlen\u001b[0m\u001b[1;33m(\u001b[0m\u001b[0mself\u001b[0m\u001b[1;33m.\u001b[0m\u001b[0mitems\u001b[0m\u001b[1;33m)\u001b[0m\u001b[1;33m)\u001b[0m\u001b[1;33m[\u001b[0m\u001b[0misnull\u001b[0m\u001b[1;33m(\u001b[0m\u001b[0mself\u001b[0m\u001b[1;33m.\u001b[0m\u001b[0mitems\u001b[0m\u001b[1;33m)\u001b[0m\u001b[1;33m]\u001b[0m\u001b[1;33m\u001b[0m\u001b[0m\n",
      "\u001b[0;32mC:\\Anaconda\\lib\\site-packages\\pandas\\indexes\\base.py\u001b[0m in \u001b[0;36mget_loc\u001b[0;34m(self, key, method, tolerance)\u001b[0m\n\u001b[1;32m   1945\u001b[0m                 \u001b[1;32mreturn\u001b[0m \u001b[0mself\u001b[0m\u001b[1;33m.\u001b[0m\u001b[0m_engine\u001b[0m\u001b[1;33m.\u001b[0m\u001b[0mget_loc\u001b[0m\u001b[1;33m(\u001b[0m\u001b[0mkey\u001b[0m\u001b[1;33m)\u001b[0m\u001b[1;33m\u001b[0m\u001b[0m\n\u001b[1;32m   1946\u001b[0m             \u001b[1;32mexcept\u001b[0m \u001b[0mKeyError\u001b[0m\u001b[1;33m:\u001b[0m\u001b[1;33m\u001b[0m\u001b[0m\n\u001b[0;32m-> 1947\u001b[0;31m                 \u001b[1;32mreturn\u001b[0m \u001b[0mself\u001b[0m\u001b[1;33m.\u001b[0m\u001b[0m_engine\u001b[0m\u001b[1;33m.\u001b[0m\u001b[0mget_loc\u001b[0m\u001b[1;33m(\u001b[0m\u001b[0mself\u001b[0m\u001b[1;33m.\u001b[0m\u001b[0m_maybe_cast_indexer\u001b[0m\u001b[1;33m(\u001b[0m\u001b[0mkey\u001b[0m\u001b[1;33m)\u001b[0m\u001b[1;33m)\u001b[0m\u001b[1;33m\u001b[0m\u001b[0m\n\u001b[0m\u001b[1;32m   1948\u001b[0m \u001b[1;33m\u001b[0m\u001b[0m\n\u001b[1;32m   1949\u001b[0m         \u001b[0mindexer\u001b[0m \u001b[1;33m=\u001b[0m \u001b[0mself\u001b[0m\u001b[1;33m.\u001b[0m\u001b[0mget_indexer\u001b[0m\u001b[1;33m(\u001b[0m\u001b[1;33m[\u001b[0m\u001b[0mkey\u001b[0m\u001b[1;33m]\u001b[0m\u001b[1;33m,\u001b[0m \u001b[0mmethod\u001b[0m\u001b[1;33m=\u001b[0m\u001b[0mmethod\u001b[0m\u001b[1;33m,\u001b[0m \u001b[0mtolerance\u001b[0m\u001b[1;33m=\u001b[0m\u001b[0mtolerance\u001b[0m\u001b[1;33m)\u001b[0m\u001b[1;33m\u001b[0m\u001b[0m\n",
      "\u001b[0;32mpandas\\index.pyx\u001b[0m in \u001b[0;36mpandas.index.IndexEngine.get_loc (pandas\\index.c:4154)\u001b[0;34m()\u001b[0m\n",
      "\u001b[0;32mpandas\\index.pyx\u001b[0m in \u001b[0;36mpandas.index.IndexEngine.get_loc (pandas\\index.c:4018)\u001b[0;34m()\u001b[0m\n",
      "\u001b[0;32mpandas\\hashtable.pyx\u001b[0m in \u001b[0;36mpandas.hashtable.PyObjectHashTable.get_item (pandas\\hashtable.c:12368)\u001b[0;34m()\u001b[0m\n",
      "\u001b[0;32mpandas\\hashtable.pyx\u001b[0m in \u001b[0;36mpandas.hashtable.PyObjectHashTable.get_item (pandas\\hashtable.c:12322)\u001b[0;34m()\u001b[0m\n",
      "\u001b[0;31mKeyError\u001b[0m: 'ON_P_DIFF(INT)'"
     ]
    }
   ],
   "source": [
    "import folium\n",
    "import pandas\n",
    "\n",
    "map=folium.Map(location=[df['STOP_LAT_13'].mean(),df['STOP_LON_13'].mean()],zoom_start=10,tiles='Mapbox bright')\n",
    "def color(elev):\n",
    "    minimum= min(round(df['ON_P_DIFF(INT)']))\n",
    "    step=(max(round(df['ON_P_DIFF(INT)']))-min(round(df['ON_P_DIFF(INT)'])))/3\n",
    "    if per in range(minimum,minimum+step):\n",
    "        col='red'\n",
    "    elif per in range(minimum+step,minimum+step*2):\n",
    "        col='orange'\n",
    "    else:\n",
    "        col='red'\n",
    "    return col\n",
    "fg=folium.FeatureGroup(name=\"Stops\")\n",
    "for lat,lon,name,per in zip(df['STOP_LAT_13'],df['STOP_LON_13'],df['STOPNAME_13'],round(df['ON_P_DIFF(INT)'])):\n",
    "    fg.add_child(folium.Marker(location=[lat,lon],popup=(folium.Popup(name)),icon=folium.Icon(color=color(per),icon_color='green')))\n",
    "map.add_child(fg)\n"
   ]
  },
  {
   "cell_type": "code",
   "execution_count": 116,
   "metadata": {
    "collapsed": false
   },
   "outputs": [
    {
     "name": "stdout",
     "output_type": "stream",
     "text": [
      "Object `replace` not found.\n"
     ]
    }
   ],
   "source": []
  },
  {
   "cell_type": "code",
   "execution_count": 117,
   "metadata": {
    "collapsed": false
   },
   "outputs": [
    {
     "name": "stdout",
     "output_type": "stream",
     "text": [
      "Object `replace` not found.\n"
     ]
    }
   ],
   "source": []
  },
  {
   "cell_type": "code",
   "execution_count": null,
   "metadata": {
    "collapsed": true
   },
   "outputs": [],
   "source": [
    "df['ON_P_DIFF(INT)'].replace"
   ]
  },
  {
   "cell_type": "code",
   "execution_count": 101,
   "metadata": {
    "collapsed": false
   },
   "outputs": [],
   "source": [
    "%matplotlib inline\n",
    "\n",
    "import requests  \n",
    "import json\n",
    "from pyproj import Proj\n",
    "from shapely.geometry import Point\n",
    "import geopandas as gp"
   ]
  },
  {
   "cell_type": "code",
   "execution_count": 109,
   "metadata": {
    "collapsed": false
   },
   "outputs": [
    {
     "data": {
      "text/plain": [
       "10"
      ]
     },
     "execution_count": 109,
     "metadata": {},
     "output_type": "execute_result"
    }
   ],
   "source": [
    "bart = gp.GeoDataFrame.from_file('nybb_15b/nybb.shp')"
   ]
  },
  {
   "cell_type": "code",
   "execution_count": null,
   "metadata": {
    "collapsed": true
   },
   "outputs": [],
   "source": []
  }
 ],
 "metadata": {
  "anaconda-cloud": {},
  "kernelspec": {
   "display_name": "Python [conda root]",
   "language": "python",
   "name": "conda-root-py"
  },
  "language_info": {
   "codemirror_mode": {
    "name": "ipython",
    "version": 3
   },
   "file_extension": ".py",
   "mimetype": "text/x-python",
   "name": "python",
   "nbconvert_exporter": "python",
   "pygments_lexer": "ipython3",
   "version": "3.5.2"
  }
 },
 "nbformat": 4,
 "nbformat_minor": 1
}
