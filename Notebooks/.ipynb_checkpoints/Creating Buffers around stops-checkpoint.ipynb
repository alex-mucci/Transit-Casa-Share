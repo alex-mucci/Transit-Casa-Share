{
 "cells": [
  {
   "cell_type": "code",
   "execution_count": 1,
   "metadata": {
    "collapsed": false
   },
   "outputs": [],
   "source": [
    "import sys\n",
    "sys.path.append('C:/CASA/Workspace/geopandas')\n",
    "sys.path.append('C:/CASA/Workspace/sfdata_wrangler/sfdata_wrangler')\n",
    "\n",
    "import geopandas\n",
    "import geopandas.tools as tools\n",
    "import pandas as pd\n",
    "#from DataFrameViewer import DataFrameViewer\n",
    "\n",
    "#new viewer needs to be pulled from previous notebook\n",
    "#viewer = DataFrameViewer()\n",
    "\n",
    "geopandas.__version__\n",
    "\n",
    "import csv as csv\n",
    "import pandas as pd\n",
    "import numpy as np\n",
    "import folium\n",
    "%load_ext autoreload\n",
    "%autoreload 2\n",
    "%matplotlib inline\n"
   ]
  },
  {
   "cell_type": "code",
   "execution_count": 26,
   "metadata": {
    "collapsed": false
   },
   "outputs": [],
   "source": [
    "hdffile = \"E:/Transit_Casa/Output/sfmuni_monthly_ts.h5\"\n",
    "store = pd.HDFStore(hdffile)\n",
    "#store.items()\n",
    "#origin = store.select('stop_day')\n",
    "df = store.select('stop_day', columns = ['STOP_LAT','STOP_LON','STOP_ID','STOPNAME','MONTH'])"
   ]
  },
  {
   "cell_type": "code",
   "execution_count": 28,
   "metadata": {
    "collapsed": false
   },
   "outputs": [
    {
     "data": {
      "text/plain": [
       "array(['2009-06-01T00:00:00.000000000', '2009-07-01T00:00:00.000000000',\n",
       "       '2009-08-01T00:00:00.000000000', '2009-09-01T00:00:00.000000000',\n",
       "       '2009-10-01T00:00:00.000000000', '2009-11-01T00:00:00.000000000',\n",
       "       '2009-12-01T00:00:00.000000000', '2010-01-01T00:00:00.000000000',\n",
       "       '2010-02-01T00:00:00.000000000', '2010-03-01T00:00:00.000000000',\n",
       "       '2010-05-01T00:00:00.000000000', '2010-06-01T00:00:00.000000000',\n",
       "       '2010-07-01T00:00:00.000000000', '2010-08-01T00:00:00.000000000',\n",
       "       '2010-09-01T00:00:00.000000000', '2010-10-01T00:00:00.000000000',\n",
       "       '2010-11-01T00:00:00.000000000', '2010-12-01T00:00:00.000000000',\n",
       "       '2011-01-01T00:00:00.000000000', '2011-02-01T00:00:00.000000000',\n",
       "       '2011-03-01T00:00:00.000000000', '2011-04-01T00:00:00.000000000',\n",
       "       '2011-05-01T00:00:00.000000000', '2011-06-01T00:00:00.000000000',\n",
       "       '2011-07-01T00:00:00.000000000', '2011-08-01T00:00:00.000000000',\n",
       "       '2011-09-01T00:00:00.000000000', '2011-10-01T00:00:00.000000000',\n",
       "       '2011-11-01T00:00:00.000000000', '2011-12-01T00:00:00.000000000',\n",
       "       '2012-01-01T00:00:00.000000000', '2012-02-01T00:00:00.000000000',\n",
       "       '2012-03-01T00:00:00.000000000', '2012-04-01T00:00:00.000000000',\n",
       "       '2012-05-01T00:00:00.000000000', '2012-06-01T00:00:00.000000000',\n",
       "       '2012-07-01T00:00:00.000000000', '2012-08-01T00:00:00.000000000',\n",
       "       '2012-09-01T00:00:00.000000000', '2012-10-01T00:00:00.000000000',\n",
       "       '2012-11-01T00:00:00.000000000', '2012-12-01T00:00:00.000000000',\n",
       "       '2013-01-01T00:00:00.000000000', '2013-02-01T00:00:00.000000000',\n",
       "       '2013-03-01T00:00:00.000000000', '2013-04-01T00:00:00.000000000',\n",
       "       '2013-05-01T00:00:00.000000000', '2013-06-01T00:00:00.000000000',\n",
       "       '2013-07-01T00:00:00.000000000', '2013-08-01T00:00:00.000000000',\n",
       "       '2013-09-01T00:00:00.000000000', '2013-10-01T00:00:00.000000000',\n",
       "       '2013-11-01T00:00:00.000000000'], dtype='datetime64[ns]')"
      ]
     },
     "execution_count": 28,
     "metadata": {},
     "output_type": "execute_result"
    }
   ],
   "source": [
    "df.MONTH.unique()"
   ]
  },
  {
   "cell_type": "code",
   "execution_count": 7,
   "metadata": {
    "collapsed": false
   },
   "outputs": [
    {
     "name": "stdout",
     "output_type": "stream",
     "text": [
      "<class 'pandas.core.frame.DataFrame'>\n",
      "Int64Index: 177415 entries, 0 to 177414\n",
      "Data columns (total 5 columns):\n",
      "STOP_LAT    177415 non-null float64\n",
      "STOP_LON    177415 non-null float64\n",
      "STOP_ID     177415 non-null int64\n",
      "STOPNAME    177415 non-null object\n",
      "MONTH       177415 non-null datetime64[ns]\n",
      "dtypes: datetime64[ns](1), float64(2), int64(1), object(1)\n",
      "memory usage: 8.1+ MB\n"
     ]
    }
   ],
   "source": [
    "df.info()"
   ]
  },
  {
   "cell_type": "code",
   "execution_count": 29,
   "metadata": {
    "collapsed": false
   },
   "outputs": [],
   "source": [
    "mask = (df['MONTH'] >= '2013-10-01') & (df['MONTH'] <= '2013-12-01')"
   ]
  },
  {
   "cell_type": "code",
   "execution_count": 30,
   "metadata": {
    "collapsed": false
   },
   "outputs": [
    {
     "data": {
      "text/html": [
       "<div>\n",
       "<table border=\"1\" class=\"dataframe\">\n",
       "  <thead>\n",
       "    <tr style=\"text-align: right;\">\n",
       "      <th></th>\n",
       "      <th>STOP_LAT</th>\n",
       "      <th>STOP_LON</th>\n",
       "      <th>STOP_ID</th>\n",
       "      <th>STOPNAME</th>\n",
       "      <th>MONTH</th>\n",
       "    </tr>\n",
       "  </thead>\n",
       "  <tbody>\n",
       "    <tr>\n",
       "      <th>170948</th>\n",
       "      <td>37.721190</td>\n",
       "      <td>-122.475096</td>\n",
       "      <td>390</td>\n",
       "      <td>19th Avenue &amp; Holloway St</td>\n",
       "      <td>2013-10-01</td>\n",
       "    </tr>\n",
       "    <tr>\n",
       "      <th>170949</th>\n",
       "      <td>37.723914</td>\n",
       "      <td>-122.435387</td>\n",
       "      <td>660</td>\n",
       "      <td>MISSION ST &amp; OCEAN AVENUE</td>\n",
       "      <td>2013-10-01</td>\n",
       "    </tr>\n",
       "    <tr>\n",
       "      <th>170950</th>\n",
       "      <td>37.719192</td>\n",
       "      <td>-122.425802</td>\n",
       "      <td>913</td>\n",
       "      <td>DUBLIN ST &amp; LAGRANDE AVE</td>\n",
       "      <td>2013-10-01</td>\n",
       "    </tr>\n",
       "    <tr>\n",
       "      <th>170951</th>\n",
       "      <td>37.781827</td>\n",
       "      <td>-122.391945</td>\n",
       "      <td>3003</td>\n",
       "      <td>2nd St &amp; Brannan St</td>\n",
       "      <td>2013-10-01</td>\n",
       "    </tr>\n",
       "    <tr>\n",
       "      <th>170952</th>\n",
       "      <td>37.781854</td>\n",
       "      <td>-122.392232</td>\n",
       "      <td>3004</td>\n",
       "      <td>2nd St &amp; Brannan St</td>\n",
       "      <td>2013-10-01</td>\n",
       "    </tr>\n",
       "    <tr>\n",
       "      <th>170953</th>\n",
       "      <td>37.782845</td>\n",
       "      <td>-122.393469</td>\n",
       "      <td>3006</td>\n",
       "      <td>2nd St &amp; Bryant St</td>\n",
       "      <td>2013-10-01</td>\n",
       "    </tr>\n",
       "    <tr>\n",
       "      <th>170954</th>\n",
       "      <td>37.785318</td>\n",
       "      <td>-122.396562</td>\n",
       "      <td>3008</td>\n",
       "      <td>2nd St &amp; Folsom St</td>\n",
       "      <td>2013-10-01</td>\n",
       "    </tr>\n",
       "    <tr>\n",
       "      <th>170955</th>\n",
       "      <td>37.784532</td>\n",
       "      <td>-122.395325</td>\n",
       "      <td>3009</td>\n",
       "      <td>2nd St &amp; Harrison St</td>\n",
       "      <td>2013-10-01</td>\n",
       "    </tr>\n",
       "    <tr>\n",
       "      <th>170956</th>\n",
       "      <td>37.784095</td>\n",
       "      <td>-122.395016</td>\n",
       "      <td>3010</td>\n",
       "      <td>2nd St &amp; Harrison St</td>\n",
       "      <td>2013-10-01</td>\n",
       "    </tr>\n",
       "    <tr>\n",
       "      <th>170957</th>\n",
       "      <td>37.786559</td>\n",
       "      <td>-122.398109</td>\n",
       "      <td>3011</td>\n",
       "      <td>2nd St &amp; Howard St</td>\n",
       "      <td>2013-10-01</td>\n",
       "    </tr>\n",
       "    <tr>\n",
       "      <th>170958</th>\n",
       "      <td>37.789067</td>\n",
       "      <td>-122.401306</td>\n",
       "      <td>3012</td>\n",
       "      <td>2nd St &amp; Market St</td>\n",
       "      <td>2013-10-01</td>\n",
       "    </tr>\n",
       "    <tr>\n",
       "      <th>170959</th>\n",
       "      <td>37.788620</td>\n",
       "      <td>-122.400650</td>\n",
       "      <td>3013</td>\n",
       "      <td>2nd St &amp; Stevenson St</td>\n",
       "      <td>2013-10-01</td>\n",
       "    </tr>\n",
       "    <tr>\n",
       "      <th>170960</th>\n",
       "      <td>37.780622</td>\n",
       "      <td>-122.390685</td>\n",
       "      <td>3015</td>\n",
       "      <td>2nd St &amp; Townsend St</td>\n",
       "      <td>2013-10-01</td>\n",
       "    </tr>\n",
       "    <tr>\n",
       "      <th>170961</th>\n",
       "      <td>37.772618</td>\n",
       "      <td>-122.389786</td>\n",
       "      <td>3016</td>\n",
       "      <td>3rd St &amp; 4th St</td>\n",
       "      <td>2013-10-01</td>\n",
       "    </tr>\n",
       "    <tr>\n",
       "      <th>170962</th>\n",
       "      <td>37.727739</td>\n",
       "      <td>-122.403240</td>\n",
       "      <td>3018</td>\n",
       "      <td>Bacon St &amp; San Bruno Ave</td>\n",
       "      <td>2013-10-01</td>\n",
       "    </tr>\n",
       "    <tr>\n",
       "      <th>170963</th>\n",
       "      <td>37.727645</td>\n",
       "      <td>-122.403269</td>\n",
       "      <td>3019</td>\n",
       "      <td>Bacon St &amp; San Bruno Ave</td>\n",
       "      <td>2013-10-01</td>\n",
       "    </tr>\n",
       "    <tr>\n",
       "      <th>170964</th>\n",
       "      <td>37.726670</td>\n",
       "      <td>-122.407460</td>\n",
       "      <td>3020</td>\n",
       "      <td>Bacon St &amp; Somerset St</td>\n",
       "      <td>2013-10-01</td>\n",
       "    </tr>\n",
       "    <tr>\n",
       "      <th>170965</th>\n",
       "      <td>37.726540</td>\n",
       "      <td>-122.407660</td>\n",
       "      <td>3021</td>\n",
       "      <td>Bacon St &amp; Somerset St</td>\n",
       "      <td>2013-10-01</td>\n",
       "    </tr>\n",
       "    <tr>\n",
       "      <th>170966</th>\n",
       "      <td>37.790249</td>\n",
       "      <td>-122.482263</td>\n",
       "      <td>3023</td>\n",
       "      <td>BOWLEY ST &amp; GIBSON RD</td>\n",
       "      <td>2013-10-01</td>\n",
       "    </tr>\n",
       "    <tr>\n",
       "      <th>170967</th>\n",
       "      <td>37.797606</td>\n",
       "      <td>-122.445693</td>\n",
       "      <td>3024</td>\n",
       "      <td>Baker St &amp; Greenwich St</td>\n",
       "      <td>2013-10-01</td>\n",
       "    </tr>\n",
       "    <tr>\n",
       "      <th>170968</th>\n",
       "      <td>37.798311</td>\n",
       "      <td>-122.401093</td>\n",
       "      <td>3025</td>\n",
       "      <td>Battery St &amp; Broadway</td>\n",
       "      <td>2013-10-01</td>\n",
       "    </tr>\n",
       "    <tr>\n",
       "      <th>170969</th>\n",
       "      <td>37.802160</td>\n",
       "      <td>-122.401840</td>\n",
       "      <td>3026</td>\n",
       "      <td>Battery St &amp; Filbert St</td>\n",
       "      <td>2013-10-01</td>\n",
       "    </tr>\n",
       "    <tr>\n",
       "      <th>170970</th>\n",
       "      <td>37.800550</td>\n",
       "      <td>-122.401510</td>\n",
       "      <td>3029</td>\n",
       "      <td>Battery St &amp; Green St</td>\n",
       "      <td>2013-10-01</td>\n",
       "    </tr>\n",
       "    <tr>\n",
       "      <th>170971</th>\n",
       "      <td>37.796860</td>\n",
       "      <td>-122.400770</td>\n",
       "      <td>3030</td>\n",
       "      <td>Battery St &amp; Jackson St</td>\n",
       "      <td>2013-10-01</td>\n",
       "    </tr>\n",
       "    <tr>\n",
       "      <th>170972</th>\n",
       "      <td>37.806094</td>\n",
       "      <td>-122.409161</td>\n",
       "      <td>3031</td>\n",
       "      <td>Bay St &amp; Midway St</td>\n",
       "      <td>2013-10-01</td>\n",
       "    </tr>\n",
       "    <tr>\n",
       "      <th>170973</th>\n",
       "      <td>37.777396</td>\n",
       "      <td>-122.461751</td>\n",
       "      <td>3032</td>\n",
       "      <td>Balboa St &amp; 4th Ave</td>\n",
       "      <td>2013-10-01</td>\n",
       "    </tr>\n",
       "    <tr>\n",
       "      <th>170974</th>\n",
       "      <td>37.777262</td>\n",
       "      <td>-122.461969</td>\n",
       "      <td>3033</td>\n",
       "      <td>Balboa St &amp; 4th Ave</td>\n",
       "      <td>2013-10-01</td>\n",
       "    </tr>\n",
       "    <tr>\n",
       "      <th>170975</th>\n",
       "      <td>37.777289</td>\n",
       "      <td>-122.464158</td>\n",
       "      <td>3034</td>\n",
       "      <td>Balboa St &amp; 6th Ave</td>\n",
       "      <td>2013-10-01</td>\n",
       "    </tr>\n",
       "    <tr>\n",
       "      <th>170976</th>\n",
       "      <td>37.777173</td>\n",
       "      <td>-122.463849</td>\n",
       "      <td>3035</td>\n",
       "      <td>Balboa St &amp; 6th Ave</td>\n",
       "      <td>2013-10-01</td>\n",
       "    </tr>\n",
       "    <tr>\n",
       "      <th>170977</th>\n",
       "      <td>37.777199</td>\n",
       "      <td>-122.466038</td>\n",
       "      <td>3036</td>\n",
       "      <td>Balboa St &amp; 8th Ave</td>\n",
       "      <td>2013-10-01</td>\n",
       "    </tr>\n",
       "    <tr>\n",
       "      <th>...</th>\n",
       "      <td>...</td>\n",
       "      <td>...</td>\n",
       "      <td>...</td>\n",
       "      <td>...</td>\n",
       "      <td>...</td>\n",
       "    </tr>\n",
       "    <tr>\n",
       "      <th>177385</th>\n",
       "      <td>37.772006</td>\n",
       "      <td>-122.430485</td>\n",
       "      <td>7636</td>\n",
       "      <td>Fillmore St &amp; Haight St</td>\n",
       "      <td>2013-11-01</td>\n",
       "    </tr>\n",
       "    <tr>\n",
       "      <th>177386</th>\n",
       "      <td>37.723433</td>\n",
       "      <td>-122.440816</td>\n",
       "      <td>7638</td>\n",
       "      <td>Ocean Ave &amp; Otsego Ave</td>\n",
       "      <td>2013-11-01</td>\n",
       "    </tr>\n",
       "    <tr>\n",
       "      <th>177387</th>\n",
       "      <td>37.787214</td>\n",
       "      <td>-122.409962</td>\n",
       "      <td>7649</td>\n",
       "      <td>Mason St &amp; Geary Blvd</td>\n",
       "      <td>2013-11-01</td>\n",
       "    </tr>\n",
       "    <tr>\n",
       "      <th>177388</th>\n",
       "      <td>37.778940</td>\n",
       "      <td>-122.401828</td>\n",
       "      <td>7650</td>\n",
       "      <td>5th St &amp; Harrison St</td>\n",
       "      <td>2013-11-01</td>\n",
       "    </tr>\n",
       "    <tr>\n",
       "      <th>177389</th>\n",
       "      <td>37.783502</td>\n",
       "      <td>-122.407625</td>\n",
       "      <td>7651</td>\n",
       "      <td>5th St &amp;Stevenson St</td>\n",
       "      <td>2013-11-01</td>\n",
       "    </tr>\n",
       "    <tr>\n",
       "      <th>177390</th>\n",
       "      <td>37.777375</td>\n",
       "      <td>-122.416305</td>\n",
       "      <td>7669</td>\n",
       "      <td>9TH St AND MARKET St</td>\n",
       "      <td>2013-11-01</td>\n",
       "    </tr>\n",
       "    <tr>\n",
       "      <th>177391</th>\n",
       "      <td>37.716410</td>\n",
       "      <td>-122.441000</td>\n",
       "      <td>7671</td>\n",
       "      <td>Geneva Ave &amp; Mission St</td>\n",
       "      <td>2013-11-01</td>\n",
       "    </tr>\n",
       "    <tr>\n",
       "      <th>177392</th>\n",
       "      <td>37.791303</td>\n",
       "      <td>-122.392408</td>\n",
       "      <td>7676</td>\n",
       "      <td>Hward St&amp;Spear</td>\n",
       "      <td>2013-11-01</td>\n",
       "    </tr>\n",
       "    <tr>\n",
       "      <th>177393</th>\n",
       "      <td>37.776133</td>\n",
       "      <td>-122.411606</td>\n",
       "      <td>7677</td>\n",
       "      <td>8th St&amp;Howard</td>\n",
       "      <td>2013-11-01</td>\n",
       "    </tr>\n",
       "    <tr>\n",
       "      <th>177394</th>\n",
       "      <td>37.770233</td>\n",
       "      <td>-122.403828</td>\n",
       "      <td>7683</td>\n",
       "      <td>Townsend St &amp; 8th St</td>\n",
       "      <td>2013-11-01</td>\n",
       "    </tr>\n",
       "    <tr>\n",
       "      <th>177395</th>\n",
       "      <td>37.771322</td>\n",
       "      <td>-122.405237</td>\n",
       "      <td>7684</td>\n",
       "      <td>Brannan St &amp; 8th ST</td>\n",
       "      <td>2013-11-01</td>\n",
       "    </tr>\n",
       "    <tr>\n",
       "      <th>177396</th>\n",
       "      <td>37.748059</td>\n",
       "      <td>-122.444904</td>\n",
       "      <td>7685</td>\n",
       "      <td>Burnett Ave &amp; Dawnview Way</td>\n",
       "      <td>2013-11-01</td>\n",
       "    </tr>\n",
       "    <tr>\n",
       "      <th>177397</th>\n",
       "      <td>37.762522</td>\n",
       "      <td>-122.460947</td>\n",
       "      <td>7687</td>\n",
       "      <td>Parnassus Ave &amp;4th Ave</td>\n",
       "      <td>2013-11-01</td>\n",
       "    </tr>\n",
       "    <tr>\n",
       "      <th>177398</th>\n",
       "      <td>37.762790</td>\n",
       "      <td>-122.459961</td>\n",
       "      <td>7688</td>\n",
       "      <td>513 Parnassus Ave</td>\n",
       "      <td>2013-11-01</td>\n",
       "    </tr>\n",
       "    <tr>\n",
       "      <th>177399</th>\n",
       "      <td>37.734894</td>\n",
       "      <td>-122.415682</td>\n",
       "      <td>7689</td>\n",
       "      <td>Crescent Ave &amp; Anderson St</td>\n",
       "      <td>2013-11-01</td>\n",
       "    </tr>\n",
       "    <tr>\n",
       "      <th>177400</th>\n",
       "      <td>37.776895</td>\n",
       "      <td>-122.471941</td>\n",
       "      <td>7696</td>\n",
       "      <td>Balboa St &amp; Park Presidio Blvd</td>\n",
       "      <td>2013-11-01</td>\n",
       "    </tr>\n",
       "    <tr>\n",
       "      <th>177401</th>\n",
       "      <td>37.737074</td>\n",
       "      <td>-122.379516</td>\n",
       "      <td>7719</td>\n",
       "      <td>Middle Point &amp; Acacia</td>\n",
       "      <td>2013-11-01</td>\n",
       "    </tr>\n",
       "    <tr>\n",
       "      <th>177402</th>\n",
       "      <td>37.771612</td>\n",
       "      <td>-122.503296</td>\n",
       "      <td>7720</td>\n",
       "      <td>Fulton St &amp; 43rd Ave</td>\n",
       "      <td>2013-11-01</td>\n",
       "    </tr>\n",
       "    <tr>\n",
       "      <th>177403</th>\n",
       "      <td>37.773058</td>\n",
       "      <td>-122.471607</td>\n",
       "      <td>7721</td>\n",
       "      <td>Fulton St &amp; Park Presidio</td>\n",
       "      <td>2013-11-01</td>\n",
       "    </tr>\n",
       "    <tr>\n",
       "      <th>177404</th>\n",
       "      <td>37.779634</td>\n",
       "      <td>-122.423457</td>\n",
       "      <td>7723</td>\n",
       "      <td>McAllister St &amp; Gough st</td>\n",
       "      <td>2013-11-01</td>\n",
       "    </tr>\n",
       "    <tr>\n",
       "      <th>177405</th>\n",
       "      <td>37.777735</td>\n",
       "      <td>-122.438174</td>\n",
       "      <td>7724</td>\n",
       "      <td>McAllister S t&amp; Divisadero St</td>\n",
       "      <td>2013-11-01</td>\n",
       "    </tr>\n",
       "    <tr>\n",
       "      <th>177406</th>\n",
       "      <td>37.777816</td>\n",
       "      <td>-122.438587</td>\n",
       "      <td>7725</td>\n",
       "      <td>McAllister St &amp; Divisadero St</td>\n",
       "      <td>2013-11-01</td>\n",
       "    </tr>\n",
       "    <tr>\n",
       "      <th>177407</th>\n",
       "      <td>37.772474</td>\n",
       "      <td>-122.487504</td>\n",
       "      <td>7727</td>\n",
       "      <td>Fulton S t&amp; 28th Ave</td>\n",
       "      <td>2013-11-01</td>\n",
       "    </tr>\n",
       "    <tr>\n",
       "      <th>177408</th>\n",
       "      <td>37.772375</td>\n",
       "      <td>-122.489624</td>\n",
       "      <td>7728</td>\n",
       "      <td>Fulton S t&amp; 30th Ave</td>\n",
       "      <td>2013-11-01</td>\n",
       "    </tr>\n",
       "    <tr>\n",
       "      <th>177409</th>\n",
       "      <td>37.771880</td>\n",
       "      <td>-122.500340</td>\n",
       "      <td>7729</td>\n",
       "      <td>Fulton St &amp; 40th Ave</td>\n",
       "      <td>2013-11-01</td>\n",
       "    </tr>\n",
       "    <tr>\n",
       "      <th>177410</th>\n",
       "      <td>37.771736</td>\n",
       "      <td>-122.503537</td>\n",
       "      <td>7730</td>\n",
       "      <td>Fulton St t&amp; 43rd  Ave</td>\n",
       "      <td>2013-11-01</td>\n",
       "    </tr>\n",
       "    <tr>\n",
       "      <th>177411</th>\n",
       "      <td>37.758762</td>\n",
       "      <td>-122.414789</td>\n",
       "      <td>7732</td>\n",
       "      <td>Folsom St &amp; 20St</td>\n",
       "      <td>2013-11-01</td>\n",
       "    </tr>\n",
       "    <tr>\n",
       "      <th>177412</th>\n",
       "      <td>37.758985</td>\n",
       "      <td>-122.414617</td>\n",
       "      <td>7733</td>\n",
       "      <td>Folsom St &amp; 20th St</td>\n",
       "      <td>2013-11-01</td>\n",
       "    </tr>\n",
       "    <tr>\n",
       "      <th>177413</th>\n",
       "      <td>37.777156</td>\n",
       "      <td>-122.443321</td>\n",
       "      <td>7734</td>\n",
       "      <td>Mcallister St &amp; Lyon St</td>\n",
       "      <td>2013-11-01</td>\n",
       "    </tr>\n",
       "    <tr>\n",
       "      <th>177414</th>\n",
       "      <td>37.777093</td>\n",
       "      <td>-122.443424</td>\n",
       "      <td>7735</td>\n",
       "      <td>McAllister St &amp; Lyon St</td>\n",
       "      <td>2013-11-01</td>\n",
       "    </tr>\n",
       "  </tbody>\n",
       "</table>\n",
       "<p>6467 rows × 5 columns</p>\n",
       "</div>"
      ],
      "text/plain": [
       "         STOP_LAT    STOP_LON  STOP_ID                        STOPNAME  \\\n",
       "170948  37.721190 -122.475096      390       19th Avenue & Holloway St   \n",
       "170949  37.723914 -122.435387      660       MISSION ST & OCEAN AVENUE   \n",
       "170950  37.719192 -122.425802      913        DUBLIN ST & LAGRANDE AVE   \n",
       "170951  37.781827 -122.391945     3003          2nd St & Brannan St      \n",
       "170952  37.781854 -122.392232     3004          2nd St & Brannan St      \n",
       "170953  37.782845 -122.393469     3006           2nd St & Bryant St      \n",
       "170954  37.785318 -122.396562     3008           2nd St & Folsom St      \n",
       "170955  37.784532 -122.395325     3009         2nd St & Harrison St      \n",
       "170956  37.784095 -122.395016     3010         2nd St & Harrison St      \n",
       "170957  37.786559 -122.398109     3011           2nd St & Howard St      \n",
       "170958  37.789067 -122.401306     3012           2nd St & Market St      \n",
       "170959  37.788620 -122.400650     3013        2nd St & Stevenson St      \n",
       "170960  37.780622 -122.390685     3015         2nd St & Townsend St      \n",
       "170961  37.772618 -122.389786     3016               3rd St & 4th St     \n",
       "170962  37.727739 -122.403240     3018     Bacon St & San Bruno Ave      \n",
       "170963  37.727645 -122.403269     3019      Bacon St & San Bruno Ave     \n",
       "170964  37.726670 -122.407460     3020        Bacon St & Somerset St     \n",
       "170965  37.726540 -122.407660     3021        Bacon St & Somerset St     \n",
       "170966  37.790249 -122.482263     3023           BOWLEY ST & GIBSON RD   \n",
       "170967  37.797606 -122.445693     3024       Baker St & Greenwich St     \n",
       "170968  37.798311 -122.401093     3025         Battery St & Broadway     \n",
       "170969  37.802160 -122.401840     3026       Battery St & Filbert St     \n",
       "170970  37.800550 -122.401510     3029         Battery St & Green St     \n",
       "170971  37.796860 -122.400770     3030       Battery St & Jackson St     \n",
       "170972  37.806094 -122.409161     3031            Bay St & Midway St     \n",
       "170973  37.777396 -122.461751     3032           Balboa St & 4th Ave     \n",
       "170974  37.777262 -122.461969     3033           Balboa St & 4th Ave     \n",
       "170975  37.777289 -122.464158     3034           Balboa St & 6th Ave     \n",
       "170976  37.777173 -122.463849     3035           Balboa St & 6th Ave     \n",
       "170977  37.777199 -122.466038     3036           Balboa St & 8th Ave     \n",
       "...           ...         ...      ...                             ...   \n",
       "177385  37.772006 -122.430485     7636        Fillmore St & Haight St    \n",
       "177386  37.723433 -122.440816     7638         Ocean Ave & Otsego Ave    \n",
       "177387  37.787214 -122.409962     7649           Mason St & Geary Blvd   \n",
       "177388  37.778940 -122.401828     7650           5th St & Harrison St    \n",
       "177389  37.783502 -122.407625     7651            5th St &Stevenson St   \n",
       "177390  37.777375 -122.416305     7669            9TH St AND MARKET St   \n",
       "177391  37.716410 -122.441000     7671        Geneva Ave & Mission St    \n",
       "177392  37.791303 -122.392408     7676                  Hward St&Spear   \n",
       "177393  37.776133 -122.411606     7677                   8th St&Howard   \n",
       "177394  37.770233 -122.403828     7683           Townsend St & 8th St    \n",
       "177395  37.771322 -122.405237     7684             Brannan St & 8th ST   \n",
       "177396  37.748059 -122.444904     7685    Burnett Ave & Dawnview Way     \n",
       "177397  37.762522 -122.460947     7687         Parnassus Ave &4th Ave    \n",
       "177398  37.762790 -122.459961     7688              513 Parnassus Ave    \n",
       "177399  37.734894 -122.415682     7689      Crescent Ave & Anderson St   \n",
       "177400  37.776895 -122.471941     7696  Balboa St & Park Presidio Blvd   \n",
       "177401  37.737074 -122.379516     7719           Middle Point & Acacia   \n",
       "177402  37.771612 -122.503296     7720           Fulton St & 43rd Ave    \n",
       "177403  37.773058 -122.471607     7721      Fulton St & Park Presidio    \n",
       "177404  37.779634 -122.423457     7723        McAllister St & Gough st   \n",
       "177405  37.777735 -122.438174     7724   McAllister S t& Divisadero St   \n",
       "177406  37.777816 -122.438587     7725  McAllister St & Divisadero St    \n",
       "177407  37.772474 -122.487504     7727            Fulton S t& 28th Ave   \n",
       "177408  37.772375 -122.489624     7728           Fulton S t& 30th Ave    \n",
       "177409  37.771880 -122.500340     7729            Fulton St & 40th Ave   \n",
       "177410  37.771736 -122.503537     7730         Fulton St t& 43rd  Ave    \n",
       "177411  37.758762 -122.414789     7732                Folsom St & 20St   \n",
       "177412  37.758985 -122.414617     7733             Folsom St & 20th St   \n",
       "177413  37.777156 -122.443321     7734         Mcallister St & Lyon St   \n",
       "177414  37.777093 -122.443424     7735        McAllister St & Lyon St    \n",
       "\n",
       "            MONTH  \n",
       "170948 2013-10-01  \n",
       "170949 2013-10-01  \n",
       "170950 2013-10-01  \n",
       "170951 2013-10-01  \n",
       "170952 2013-10-01  \n",
       "170953 2013-10-01  \n",
       "170954 2013-10-01  \n",
       "170955 2013-10-01  \n",
       "170956 2013-10-01  \n",
       "170957 2013-10-01  \n",
       "170958 2013-10-01  \n",
       "170959 2013-10-01  \n",
       "170960 2013-10-01  \n",
       "170961 2013-10-01  \n",
       "170962 2013-10-01  \n",
       "170963 2013-10-01  \n",
       "170964 2013-10-01  \n",
       "170965 2013-10-01  \n",
       "170966 2013-10-01  \n",
       "170967 2013-10-01  \n",
       "170968 2013-10-01  \n",
       "170969 2013-10-01  \n",
       "170970 2013-10-01  \n",
       "170971 2013-10-01  \n",
       "170972 2013-10-01  \n",
       "170973 2013-10-01  \n",
       "170974 2013-10-01  \n",
       "170975 2013-10-01  \n",
       "170976 2013-10-01  \n",
       "170977 2013-10-01  \n",
       "...           ...  \n",
       "177385 2013-11-01  \n",
       "177386 2013-11-01  \n",
       "177387 2013-11-01  \n",
       "177388 2013-11-01  \n",
       "177389 2013-11-01  \n",
       "177390 2013-11-01  \n",
       "177391 2013-11-01  \n",
       "177392 2013-11-01  \n",
       "177393 2013-11-01  \n",
       "177394 2013-11-01  \n",
       "177395 2013-11-01  \n",
       "177396 2013-11-01  \n",
       "177397 2013-11-01  \n",
       "177398 2013-11-01  \n",
       "177399 2013-11-01  \n",
       "177400 2013-11-01  \n",
       "177401 2013-11-01  \n",
       "177402 2013-11-01  \n",
       "177403 2013-11-01  \n",
       "177404 2013-11-01  \n",
       "177405 2013-11-01  \n",
       "177406 2013-11-01  \n",
       "177407 2013-11-01  \n",
       "177408 2013-11-01  \n",
       "177409 2013-11-01  \n",
       "177410 2013-11-01  \n",
       "177411 2013-11-01  \n",
       "177412 2013-11-01  \n",
       "177413 2013-11-01  \n",
       "177414 2013-11-01  \n",
       "\n",
       "[6467 rows x 5 columns]"
      ]
     },
     "execution_count": 30,
     "metadata": {},
     "output_type": "execute_result"
    }
   ],
   "source": [
    "df.loc[mask]"
   ]
  },
  {
   "cell_type": "code",
   "execution_count": 65,
   "metadata": {
    "collapsed": false
   },
   "outputs": [],
   "source": [
    "df2 = df[(df['MONTH'] == '2009-11-01')|(df['MONTH'] == '2009-10-01')|(df['MONTH'] == '2009-09-01')]"
   ]
  },
  {
   "cell_type": "code",
   "execution_count": 66,
   "metadata": {
    "collapsed": false
   },
   "outputs": [
    {
     "data": {
      "text/html": [
       "<div>\n",
       "<table border=\"1\" class=\"dataframe\">\n",
       "  <thead>\n",
       "    <tr style=\"text-align: right;\">\n",
       "      <th></th>\n",
       "      <th>STOP_LAT</th>\n",
       "      <th>STOP_LON</th>\n",
       "      <th>STOP_ID</th>\n",
       "      <th>STOPNAME</th>\n",
       "      <th>MONTH</th>\n",
       "    </tr>\n",
       "  </thead>\n",
       "  <tbody>\n",
       "    <tr>\n",
       "      <th>10689</th>\n",
       "      <td>37.721190</td>\n",
       "      <td>-122.475096</td>\n",
       "      <td>390</td>\n",
       "      <td>19th Avenue &amp;  Holloway St</td>\n",
       "      <td>2009-09-01</td>\n",
       "    </tr>\n",
       "    <tr>\n",
       "      <th>10690</th>\n",
       "      <td>37.765159</td>\n",
       "      <td>-122.477210</td>\n",
       "      <td>392</td>\n",
       "      <td>19TH AVE &amp;  LINCOLN WAY</td>\n",
       "      <td>2009-09-01</td>\n",
       "    </tr>\n",
       "    <tr>\n",
       "      <th>10691</th>\n",
       "      <td>37.723914</td>\n",
       "      <td>-122.435387</td>\n",
       "      <td>660</td>\n",
       "      <td>MISSION ST &amp; OCEAN AVENUE</td>\n",
       "      <td>2009-09-01</td>\n",
       "    </tr>\n",
       "    <tr>\n",
       "      <th>10692</th>\n",
       "      <td>37.719192</td>\n",
       "      <td>-122.425802</td>\n",
       "      <td>913</td>\n",
       "      <td>DUBLIN ST &amp; LAGRANDE AVE</td>\n",
       "      <td>2009-09-01</td>\n",
       "    </tr>\n",
       "    <tr>\n",
       "      <th>10693</th>\n",
       "      <td>37.788530</td>\n",
       "      <td>-122.396044</td>\n",
       "      <td>3001</td>\n",
       "      <td>1st St &amp; Howard St</td>\n",
       "      <td>2009-09-01</td>\n",
       "    </tr>\n",
       "  </tbody>\n",
       "</table>\n",
       "</div>"
      ],
      "text/plain": [
       "        STOP_LAT    STOP_LON  STOP_ID                    STOPNAME      MONTH\n",
       "10689  37.721190 -122.475096      390  19th Avenue &  Holloway St 2009-09-01\n",
       "10690  37.765159 -122.477210      392     19TH AVE &  LINCOLN WAY 2009-09-01\n",
       "10691  37.723914 -122.435387      660   MISSION ST & OCEAN AVENUE 2009-09-01\n",
       "10692  37.719192 -122.425802      913    DUBLIN ST & LAGRANDE AVE 2009-09-01\n",
       "10693  37.788530 -122.396044     3001       1st St & Howard St    2009-09-01"
      ]
     },
     "execution_count": 66,
     "metadata": {},
     "output_type": "execute_result"
    }
   ],
   "source": [
    "df2.head()"
   ]
  },
  {
   "cell_type": "code",
   "execution_count": null,
   "metadata": {
    "collapsed": false
   },
   "outputs": [],
   "source": []
  },
  {
   "cell_type": "code",
   "execution_count": 67,
   "metadata": {
    "collapsed": false
   },
   "outputs": [],
   "source": [
    "df2 = df2.groupby(by = 'STOP_ID', as_index = False).mean()"
   ]
  },
  {
   "cell_type": "code",
   "execution_count": 68,
   "metadata": {
    "collapsed": false
   },
   "outputs": [
    {
     "data": {
      "text/plain": [
       "3563"
      ]
     },
     "execution_count": 68,
     "metadata": {},
     "output_type": "execute_result"
    }
   ],
   "source": [
    "len(df2)"
   ]
  },
  {
   "cell_type": "code",
   "execution_count": null,
   "metadata": {
    "collapsed": false
   },
   "outputs": [],
   "source": []
  },
  {
   "cell_type": "code",
   "execution_count": 70,
   "metadata": {
    "collapsed": true
   },
   "outputs": [],
   "source": [
    "df2.to_csv('E:\\Transit-Casa-Alex\\Input\\Bus_Stops/bus stops_2009.csv')"
   ]
  },
  {
   "cell_type": "code",
   "execution_count": 71,
   "metadata": {
    "collapsed": false
   },
   "outputs": [
    {
     "data": {
      "text/html": [
       "<div>\n",
       "<table border=\"1\" class=\"dataframe\">\n",
       "  <thead>\n",
       "    <tr style=\"text-align: right;\">\n",
       "      <th></th>\n",
       "      <th>STOP_ID</th>\n",
       "      <th>STOP_LAT</th>\n",
       "      <th>STOP_LON</th>\n",
       "    </tr>\n",
       "  </thead>\n",
       "  <tbody>\n",
       "    <tr>\n",
       "      <th>0</th>\n",
       "      <td>390</td>\n",
       "      <td>37.721190</td>\n",
       "      <td>-122.475096</td>\n",
       "    </tr>\n",
       "    <tr>\n",
       "      <th>1</th>\n",
       "      <td>392</td>\n",
       "      <td>37.765159</td>\n",
       "      <td>-122.477210</td>\n",
       "    </tr>\n",
       "    <tr>\n",
       "      <th>2</th>\n",
       "      <td>660</td>\n",
       "      <td>37.723914</td>\n",
       "      <td>-122.435387</td>\n",
       "    </tr>\n",
       "    <tr>\n",
       "      <th>3</th>\n",
       "      <td>913</td>\n",
       "      <td>37.719192</td>\n",
       "      <td>-122.425802</td>\n",
       "    </tr>\n",
       "    <tr>\n",
       "      <th>4</th>\n",
       "      <td>3001</td>\n",
       "      <td>37.788530</td>\n",
       "      <td>-122.396044</td>\n",
       "    </tr>\n",
       "  </tbody>\n",
       "</table>\n",
       "</div>"
      ],
      "text/plain": [
       "   STOP_ID   STOP_LAT    STOP_LON\n",
       "0      390  37.721190 -122.475096\n",
       "1      392  37.765159 -122.477210\n",
       "2      660  37.723914 -122.435387\n",
       "3      913  37.719192 -122.425802\n",
       "4     3001  37.788530 -122.396044"
      ]
     },
     "execution_count": 71,
     "metadata": {},
     "output_type": "execute_result"
    }
   ],
   "source": [
    "df2.head()"
   ]
  },
  {
   "cell_type": "code",
   "execution_count": 26,
   "metadata": {
    "collapsed": false
   },
   "outputs": [
    {
     "name": "stdout",
     "output_type": "stream",
     "text": [
      "3744\n"
     ]
    },
    {
     "data": {
      "text/html": [
       "<div>\n",
       "<table border=\"1\" class=\"dataframe\">\n",
       "  <thead>\n",
       "    <tr style=\"text-align: right;\">\n",
       "      <th></th>\n",
       "      <th>STOP_LAT</th>\n",
       "      <th>STOP_LON</th>\n",
       "      <th>STOP_ID</th>\n",
       "    </tr>\n",
       "    <tr>\n",
       "      <th>STOP_ID</th>\n",
       "      <th></th>\n",
       "      <th></th>\n",
       "      <th></th>\n",
       "    </tr>\n",
       "  </thead>\n",
       "  <tbody>\n",
       "    <tr>\n",
       "      <th>390</th>\n",
       "      <td>37.721190</td>\n",
       "      <td>-122.475096</td>\n",
       "      <td>390</td>\n",
       "    </tr>\n",
       "    <tr>\n",
       "      <th>392</th>\n",
       "      <td>37.765159</td>\n",
       "      <td>-122.477210</td>\n",
       "      <td>392</td>\n",
       "    </tr>\n",
       "    <tr>\n",
       "      <th>660</th>\n",
       "      <td>37.723914</td>\n",
       "      <td>-122.435387</td>\n",
       "      <td>660</td>\n",
       "    </tr>\n",
       "    <tr>\n",
       "      <th>913</th>\n",
       "      <td>37.719192</td>\n",
       "      <td>-122.425802</td>\n",
       "      <td>913</td>\n",
       "    </tr>\n",
       "    <tr>\n",
       "      <th>3001</th>\n",
       "      <td>37.788530</td>\n",
       "      <td>-122.396044</td>\n",
       "      <td>3001</td>\n",
       "    </tr>\n",
       "  </tbody>\n",
       "</table>\n",
       "</div>"
      ],
      "text/plain": [
       "          STOP_LAT    STOP_LON  STOP_ID\n",
       "STOP_ID                                \n",
       "390      37.721190 -122.475096      390\n",
       "392      37.765159 -122.477210      392\n",
       "660      37.723914 -122.435387      660\n",
       "913      37.719192 -122.425802      913\n",
       "3001     37.788530 -122.396044     3001"
      ]
     },
     "execution_count": 26,
     "metadata": {},
     "output_type": "execute_result"
    }
   ],
   "source": [
    "df2 = df.groupby('STOP_ID').mean()\n",
    "print(len(df2))\n",
    "df2['STOP_ID'] = df2.index\n",
    "df2.head()\n",
    "#There are 3,744 stops in San Francisco"
   ]
  },
  {
   "cell_type": "code",
   "execution_count": 27,
   "metadata": {
    "collapsed": false
   },
   "outputs": [
    {
     "data": {
      "text/plain": [
       "4094    1\n",
       "4791    1\n",
       "4819    1\n",
       "6866    1\n",
       "6862    1\n",
       "Name: STOP_ID, dtype: int64"
      ]
     },
     "execution_count": 27,
     "metadata": {},
     "output_type": "execute_result"
    }
   ],
   "source": [
    "df2.STOP_ID.value_counts().head()"
   ]
  },
  {
   "cell_type": "code",
   "execution_count": 9,
   "metadata": {
    "collapsed": false
   },
   "outputs": [
    {
     "name": "stdout",
     "output_type": "stream",
     "text": [
      "177415\n"
     ]
    },
    {
     "data": {
      "text/html": [
       "<div>\n",
       "<table border=\"1\" class=\"dataframe\">\n",
       "  <thead>\n",
       "    <tr style=\"text-align: right;\">\n",
       "      <th></th>\n",
       "      <th>STOPNAME</th>\n",
       "      <th>STOP_ID</th>\n",
       "    </tr>\n",
       "  </thead>\n",
       "  <tbody>\n",
       "    <tr>\n",
       "      <th>0</th>\n",
       "      <td>19th Avenue &amp;  Holloway St</td>\n",
       "      <td>390</td>\n",
       "    </tr>\n",
       "    <tr>\n",
       "      <th>1</th>\n",
       "      <td>19TH AVE &amp;  LINCOLN WAY</td>\n",
       "      <td>392</td>\n",
       "    </tr>\n",
       "    <tr>\n",
       "      <th>2</th>\n",
       "      <td>MISSION ST &amp; OCEAN AVENUE</td>\n",
       "      <td>660</td>\n",
       "    </tr>\n",
       "    <tr>\n",
       "      <th>3</th>\n",
       "      <td>DUBLIN ST &amp; LAGRANDE AVE</td>\n",
       "      <td>913</td>\n",
       "    </tr>\n",
       "    <tr>\n",
       "      <th>4</th>\n",
       "      <td>1st St &amp; Howard St</td>\n",
       "      <td>3001</td>\n",
       "    </tr>\n",
       "  </tbody>\n",
       "</table>\n",
       "</div>"
      ],
      "text/plain": [
       "                     STOPNAME  STOP_ID\n",
       "0  19th Avenue &  Holloway St      390\n",
       "1     19TH AVE &  LINCOLN WAY      392\n",
       "2   MISSION ST & OCEAN AVENUE      660\n",
       "3    DUBLIN ST & LAGRANDE AVE      913\n",
       "4       1st St & Howard St        3001"
      ]
     },
     "execution_count": 9,
     "metadata": {},
     "output_type": "execute_result"
    }
   ],
   "source": [
    "# in the future, select out certain performence measurements that we are going to attach to each stop\n",
    "df3 = store.select('stop_day', columns = ['STOPNAME','STOP_ID'])\n",
    "print(len(df3))\n",
    "df3.head()"
   ]
  },
  {
   "cell_type": "code",
   "execution_count": 29,
   "metadata": {
    "collapsed": false
   },
   "outputs": [
    {
     "data": {
      "text/html": [
       "<div>\n",
       "<table border=\"1\" class=\"dataframe\">\n",
       "  <thead>\n",
       "    <tr style=\"text-align: right;\">\n",
       "      <th></th>\n",
       "      <th>STOP_LAT</th>\n",
       "      <th>STOP_LON</th>\n",
       "      <th>STOP_ID</th>\n",
       "    </tr>\n",
       "    <tr>\n",
       "      <th>STOP_ID</th>\n",
       "      <th></th>\n",
       "      <th></th>\n",
       "      <th></th>\n",
       "    </tr>\n",
       "  </thead>\n",
       "  <tbody>\n",
       "    <tr>\n",
       "      <th>390</th>\n",
       "      <td>37.721190</td>\n",
       "      <td>-122.475096</td>\n",
       "      <td>390</td>\n",
       "    </tr>\n",
       "    <tr>\n",
       "      <th>392</th>\n",
       "      <td>37.765159</td>\n",
       "      <td>-122.477210</td>\n",
       "      <td>392</td>\n",
       "    </tr>\n",
       "    <tr>\n",
       "      <th>660</th>\n",
       "      <td>37.723914</td>\n",
       "      <td>-122.435387</td>\n",
       "      <td>660</td>\n",
       "    </tr>\n",
       "    <tr>\n",
       "      <th>913</th>\n",
       "      <td>37.719192</td>\n",
       "      <td>-122.425802</td>\n",
       "      <td>913</td>\n",
       "    </tr>\n",
       "    <tr>\n",
       "      <th>3001</th>\n",
       "      <td>37.788530</td>\n",
       "      <td>-122.396044</td>\n",
       "      <td>3001</td>\n",
       "    </tr>\n",
       "  </tbody>\n",
       "</table>\n",
       "</div>"
      ],
      "text/plain": [
       "          STOP_LAT    STOP_LON  STOP_ID\n",
       "STOP_ID                                \n",
       "390      37.721190 -122.475096      390\n",
       "392      37.765159 -122.477210      392\n",
       "660      37.723914 -122.435387      660\n",
       "913      37.719192 -122.425802      913\n",
       "3001     37.788530 -122.396044     3001"
      ]
     },
     "execution_count": 29,
     "metadata": {},
     "output_type": "execute_result"
    }
   ],
   "source": [
    "df2.head()"
   ]
  },
  {
   "cell_type": "code",
   "execution_count": 30,
   "metadata": {
    "collapsed": false
   },
   "outputs": [
    {
     "data": {
      "text/plain": [
       "3795"
      ]
     },
     "execution_count": 30,
     "metadata": {},
     "output_type": "execute_result"
    }
   ],
   "source": [
    "df4 = df3.drop_duplicates()\n",
    "len(df4)"
   ]
  },
  {
   "cell_type": "code",
   "execution_count": 31,
   "metadata": {
    "collapsed": false
   },
   "outputs": [
    {
     "data": {
      "text/html": [
       "<div>\n",
       "<table border=\"1\" class=\"dataframe\">\n",
       "  <thead>\n",
       "    <tr style=\"text-align: right;\">\n",
       "      <th></th>\n",
       "      <th>STOPNAME</th>\n",
       "      <th>STOP_ID</th>\n",
       "    </tr>\n",
       "  </thead>\n",
       "  <tbody>\n",
       "    <tr>\n",
       "      <th>0</th>\n",
       "      <td>19th Avenue &amp;  Holloway St</td>\n",
       "      <td>390</td>\n",
       "    </tr>\n",
       "    <tr>\n",
       "      <th>1</th>\n",
       "      <td>19TH AVE &amp;  LINCOLN WAY</td>\n",
       "      <td>392</td>\n",
       "    </tr>\n",
       "    <tr>\n",
       "      <th>2</th>\n",
       "      <td>MISSION ST &amp; OCEAN AVENUE</td>\n",
       "      <td>660</td>\n",
       "    </tr>\n",
       "    <tr>\n",
       "      <th>3</th>\n",
       "      <td>DUBLIN ST &amp; LAGRANDE AVE</td>\n",
       "      <td>913</td>\n",
       "    </tr>\n",
       "    <tr>\n",
       "      <th>4</th>\n",
       "      <td>1st St &amp; Howard St</td>\n",
       "      <td>3001</td>\n",
       "    </tr>\n",
       "  </tbody>\n",
       "</table>\n",
       "</div>"
      ],
      "text/plain": [
       "                     STOPNAME  STOP_ID\n",
       "0  19th Avenue &  Holloway St      390\n",
       "1     19TH AVE &  LINCOLN WAY      392\n",
       "2   MISSION ST & OCEAN AVENUE      660\n",
       "3    DUBLIN ST & LAGRANDE AVE      913\n",
       "4       1st St & Howard St        3001"
      ]
     },
     "execution_count": 31,
     "metadata": {},
     "output_type": "execute_result"
    }
   ],
   "source": [
    "df4.head()"
   ]
  },
  {
   "cell_type": "code",
   "execution_count": 10,
   "metadata": {
    "collapsed": false
   },
   "outputs": [
    {
     "ename": "NameError",
     "evalue": "name 'df4' is not defined",
     "output_type": "error",
     "traceback": [
      "\u001b[0;31m---------------------------------------------------------------------------\u001b[0m",
      "\u001b[0;31mNameError\u001b[0m                                 Traceback (most recent call last)",
      "\u001b[0;32m<ipython-input-10-83d0b0b65f94>\u001b[0m in \u001b[0;36m<module>\u001b[0;34m()\u001b[0m\n\u001b[1;32m      1\u001b[0m \u001b[1;31m#tried to merge the stop names to the dataframe bu the inner merge is not working properly\u001b[0m\u001b[1;33m\u001b[0m\u001b[1;33m\u001b[0m\u001b[0m\n\u001b[0;32m----> 2\u001b[0;31m \u001b[0mdf_merge\u001b[0m \u001b[1;33m=\u001b[0m \u001b[0mpd\u001b[0m\u001b[1;33m.\u001b[0m\u001b[0mmerge\u001b[0m\u001b[1;33m(\u001b[0m\u001b[0mdf2\u001b[0m\u001b[1;33m,\u001b[0m\u001b[0mdf4\u001b[0m\u001b[1;33m,\u001b[0m\u001b[0mhow\u001b[0m \u001b[1;33m=\u001b[0m \u001b[1;34m'inner'\u001b[0m\u001b[1;33m,\u001b[0m\u001b[0mon\u001b[0m \u001b[1;33m=\u001b[0m \u001b[1;34m'STOP_ID'\u001b[0m\u001b[1;33m,\u001b[0m\u001b[0msort\u001b[0m \u001b[1;33m=\u001b[0m \u001b[1;32mTrue\u001b[0m\u001b[1;33m)\u001b[0m\u001b[1;33m\u001b[0m\u001b[0m\n\u001b[0m\u001b[1;32m      3\u001b[0m \u001b[0mlen\u001b[0m\u001b[1;33m(\u001b[0m\u001b[0mdf_merge\u001b[0m\u001b[1;33m)\u001b[0m\u001b[1;33m\u001b[0m\u001b[0m\n",
      "\u001b[0;31mNameError\u001b[0m: name 'df4' is not defined"
     ]
    }
   ],
   "source": [
    "#tried to merge the stop names to the dataframe bu the inner merge is not working properly\n",
    "df_merge = pd.merge(df2,df4,how = 'inner',on = 'STOP_ID',sort = True)\n",
    "len(df_merge)"
   ]
  },
  {
   "cell_type": "code",
   "execution_count": 33,
   "metadata": {
    "collapsed": false
   },
   "outputs": [
    {
     "name": "stdout",
     "output_type": "stream",
     "text": [
      "    STOP_LAT    STOP_LON  STOP_ID                    STOPNAME\n",
      "0  37.721190 -122.475096      390  19th Avenue &  Holloway St\n",
      "1  37.721190 -122.475096      390   19th Avenue & Holloway St\n",
      "2  37.765159 -122.477210      392     19TH AVE &  LINCOLN WAY\n",
      "3  37.723914 -122.435387      660   MISSION ST & OCEAN AVENUE\n",
      "4  37.719192 -122.425802      913    DUBLIN ST & LAGRANDE AVE\n"
     ]
    },
    {
     "data": {
      "text/plain": [
       "177415"
      ]
     },
     "execution_count": 33,
     "metadata": {},
     "output_type": "execute_result"
    }
   ],
   "source": [
    "print(df_merge.head())\n",
    "len(df)"
   ]
  },
  {
   "cell_type": "code",
   "execution_count": 45,
   "metadata": {
    "collapsed": false
   },
   "outputs": [
    {
     "data": {
      "text/html": [
       "<div>\n",
       "<table border=\"1\" class=\"dataframe\">\n",
       "  <thead>\n",
       "    <tr style=\"text-align: right;\">\n",
       "      <th></th>\n",
       "      <th>STOP_ID</th>\n",
       "      <th>STOP_LAT</th>\n",
       "      <th>STOP_LON</th>\n",
       "    </tr>\n",
       "  </thead>\n",
       "  <tbody>\n",
       "    <tr>\n",
       "      <th>0</th>\n",
       "      <td>390</td>\n",
       "      <td>37.721190</td>\n",
       "      <td>-122.475096</td>\n",
       "    </tr>\n",
       "    <tr>\n",
       "      <th>1</th>\n",
       "      <td>392</td>\n",
       "      <td>37.765159</td>\n",
       "      <td>-122.477210</td>\n",
       "    </tr>\n",
       "    <tr>\n",
       "      <th>2</th>\n",
       "      <td>660</td>\n",
       "      <td>37.723914</td>\n",
       "      <td>-122.435387</td>\n",
       "    </tr>\n",
       "    <tr>\n",
       "      <th>3</th>\n",
       "      <td>913</td>\n",
       "      <td>37.719192</td>\n",
       "      <td>-122.425802</td>\n",
       "    </tr>\n",
       "    <tr>\n",
       "      <th>4</th>\n",
       "      <td>3001</td>\n",
       "      <td>37.788530</td>\n",
       "      <td>-122.396044</td>\n",
       "    </tr>\n",
       "  </tbody>\n",
       "</table>\n",
       "</div>"
      ],
      "text/plain": [
       "   STOP_ID   STOP_LAT    STOP_LON\n",
       "0      390  37.721190 -122.475096\n",
       "1      392  37.765159 -122.477210\n",
       "2      660  37.723914 -122.435387\n",
       "3      913  37.719192 -122.425802\n",
       "4     3001  37.788530 -122.396044"
      ]
     },
     "execution_count": 45,
     "metadata": {},
     "output_type": "execute_result"
    }
   ],
   "source": [
    "df2.head()"
   ]
  },
  {
   "cell_type": "code",
   "execution_count": 11,
   "metadata": {
    "collapsed": false
   },
   "outputs": [],
   "source": [
    "from shapely.geometry import Point\n",
    "import geopandas as gp\n",
    "import shapefile"
   ]
  },
  {
   "cell_type": "markdown",
   "metadata": {},
   "source": [
    "# Creating Point Geometries with Lat and Long from Stop Table"
   ]
  },
  {
   "cell_type": "code",
   "execution_count": 72,
   "metadata": {
    "collapsed": false
   },
   "outputs": [],
   "source": [
    "df2['geometry'] = df2.apply(lambda x: Point((float(x.STOP_LON), float(x.STOP_LAT))), axis=1)"
   ]
  },
  {
   "cell_type": "code",
   "execution_count": 73,
   "metadata": {
    "collapsed": false
   },
   "outputs": [
    {
     "data": {
      "text/html": [
       "<div>\n",
       "<table border=\"1\" class=\"dataframe\">\n",
       "  <thead>\n",
       "    <tr style=\"text-align: right;\">\n",
       "      <th></th>\n",
       "      <th>STOP_ID</th>\n",
       "      <th>STOP_LAT</th>\n",
       "      <th>STOP_LON</th>\n",
       "      <th>geometry</th>\n",
       "    </tr>\n",
       "  </thead>\n",
       "  <tbody>\n",
       "    <tr>\n",
       "      <th>0</th>\n",
       "      <td>390</td>\n",
       "      <td>37.721190</td>\n",
       "      <td>-122.475096</td>\n",
       "      <td>POINT (-122.475096 37.72119)</td>\n",
       "    </tr>\n",
       "    <tr>\n",
       "      <th>1</th>\n",
       "      <td>392</td>\n",
       "      <td>37.765159</td>\n",
       "      <td>-122.477210</td>\n",
       "      <td>POINT (-122.47721 37.765159)</td>\n",
       "    </tr>\n",
       "    <tr>\n",
       "      <th>2</th>\n",
       "      <td>660</td>\n",
       "      <td>37.723914</td>\n",
       "      <td>-122.435387</td>\n",
       "      <td>POINT (-122.435387 37.723914)</td>\n",
       "    </tr>\n",
       "    <tr>\n",
       "      <th>3</th>\n",
       "      <td>913</td>\n",
       "      <td>37.719192</td>\n",
       "      <td>-122.425802</td>\n",
       "      <td>POINT (-122.425802 37.719192)</td>\n",
       "    </tr>\n",
       "    <tr>\n",
       "      <th>4</th>\n",
       "      <td>3001</td>\n",
       "      <td>37.788530</td>\n",
       "      <td>-122.396044</td>\n",
       "      <td>POINT (-122.396044 37.78853)</td>\n",
       "    </tr>\n",
       "  </tbody>\n",
       "</table>\n",
       "</div>"
      ],
      "text/plain": [
       "   STOP_ID   STOP_LAT    STOP_LON                       geometry\n",
       "0      390  37.721190 -122.475096   POINT (-122.475096 37.72119)\n",
       "1      392  37.765159 -122.477210   POINT (-122.47721 37.765159)\n",
       "2      660  37.723914 -122.435387  POINT (-122.435387 37.723914)\n",
       "3      913  37.719192 -122.425802  POINT (-122.425802 37.719192)\n",
       "4     3001  37.788530 -122.396044   POINT (-122.396044 37.78853)"
      ]
     },
     "execution_count": 73,
     "metadata": {},
     "output_type": "execute_result"
    }
   ],
   "source": [
    "df2.head()"
   ]
  },
  {
   "cell_type": "code",
   "execution_count": 74,
   "metadata": {
    "collapsed": false
   },
   "outputs": [],
   "source": [
    "stops = gp.GeoDataFrame(df2, geometry='geometry')"
   ]
  },
  {
   "cell_type": "code",
   "execution_count": 75,
   "metadata": {
    "collapsed": false
   },
   "outputs": [
    {
     "data": {
      "text/html": [
       "<div>\n",
       "<table border=\"1\" class=\"dataframe\">\n",
       "  <thead>\n",
       "    <tr style=\"text-align: right;\">\n",
       "      <th></th>\n",
       "      <th>STOP_ID</th>\n",
       "      <th>STOP_LAT</th>\n",
       "      <th>STOP_LON</th>\n",
       "      <th>geometry</th>\n",
       "    </tr>\n",
       "  </thead>\n",
       "  <tbody>\n",
       "    <tr>\n",
       "      <th>0</th>\n",
       "      <td>390</td>\n",
       "      <td>37.721190</td>\n",
       "      <td>-122.475096</td>\n",
       "      <td>POINT (-122.475096 37.72119)</td>\n",
       "    </tr>\n",
       "    <tr>\n",
       "      <th>1</th>\n",
       "      <td>392</td>\n",
       "      <td>37.765159</td>\n",
       "      <td>-122.477210</td>\n",
       "      <td>POINT (-122.47721 37.765159)</td>\n",
       "    </tr>\n",
       "    <tr>\n",
       "      <th>2</th>\n",
       "      <td>660</td>\n",
       "      <td>37.723914</td>\n",
       "      <td>-122.435387</td>\n",
       "      <td>POINT (-122.435387 37.723914)</td>\n",
       "    </tr>\n",
       "    <tr>\n",
       "      <th>3</th>\n",
       "      <td>913</td>\n",
       "      <td>37.719192</td>\n",
       "      <td>-122.425802</td>\n",
       "      <td>POINT (-122.425802 37.719192)</td>\n",
       "    </tr>\n",
       "    <tr>\n",
       "      <th>4</th>\n",
       "      <td>3001</td>\n",
       "      <td>37.788530</td>\n",
       "      <td>-122.396044</td>\n",
       "      <td>POINT (-122.396044 37.78853)</td>\n",
       "    </tr>\n",
       "  </tbody>\n",
       "</table>\n",
       "</div>"
      ],
      "text/plain": [
       "   STOP_ID   STOP_LAT    STOP_LON                       geometry\n",
       "0      390  37.721190 -122.475096   POINT (-122.475096 37.72119)\n",
       "1      392  37.765159 -122.477210   POINT (-122.47721 37.765159)\n",
       "2      660  37.723914 -122.435387  POINT (-122.435387 37.723914)\n",
       "3      913  37.719192 -122.425802  POINT (-122.425802 37.719192)\n",
       "4     3001  37.788530 -122.396044   POINT (-122.396044 37.78853)"
      ]
     },
     "execution_count": 75,
     "metadata": {},
     "output_type": "execute_result"
    }
   ],
   "source": [
    "stops.head()"
   ]
  },
  {
   "cell_type": "code",
   "execution_count": 76,
   "metadata": {
    "collapsed": false
   },
   "outputs": [
    {
     "data": {
      "text/plain": [
       "<matplotlib.axes._subplots.AxesSubplot at 0x18fc26e7208>"
      ]
     },
     "execution_count": 76,
     "metadata": {},
     "output_type": "execute_result"
    },
    {
     "data": {
      "image/png": "[encoded data removed]",
      "text/plain": [
       "<matplotlib.figure.Figure at 0x18fc26ee6a0>"
      ]
     },
     "metadata": {},
     "output_type": "display_data"
    }
   ],
   "source": [
    "stops.plot()"
   ]
  },
  {
   "cell_type": "code",
   "execution_count": 77,
   "metadata": {
    "collapsed": false
   },
   "outputs": [],
   "source": [
    "stops.to_file('Bus_Stops_2009.shp', driver='ESRI Shapefile')"
   ]
  },
  {
   "cell_type": "code",
   "execution_count": 78,
   "metadata": {
    "collapsed": true
   },
   "outputs": [],
   "source": [
    "stops.crs = {'init':'epsg:4326'}"
   ]
  },
  {
   "cell_type": "code",
   "execution_count": 80,
   "metadata": {
    "collapsed": false
   },
   "outputs": [],
   "source": [
    "stops = gp.read_file('E:\\Transit-Casa-Alex\\Input\\Bus_Stops/Bus_Stops_2009_US.shp')"
   ]
  },
  {
   "cell_type": "code",
   "execution_count": 46,
   "metadata": {
    "collapsed": false
   },
   "outputs": [
    {
     "ename": "RuntimeError",
     "evalue": "b'no colon in init= string'",
     "output_type": "error",
     "traceback": [
      "\u001b[0;31m---------------------------------------------------------------------------\u001b[0m",
      "\u001b[0;31mRuntimeError\u001b[0m                              Traceback (most recent call last)",
      "\u001b[0;32m<ipython-input-46-299730212435>\u001b[0m in \u001b[0;36m<module>\u001b[0;34m()\u001b[0m\n\u001b[0;32m----> 1\u001b[0;31m \u001b[0mstops\u001b[0m\u001b[1;33m.\u001b[0m\u001b[0mto_crs\u001b[0m\u001b[1;33m(\u001b[0m\u001b[0mcrs\u001b[0m \u001b[1;33m=\u001b[0m \u001b[0mtarget_crs\u001b[0m\u001b[1;33m,\u001b[0m\u001b[0minplace\u001b[0m \u001b[1;33m=\u001b[0m \u001b[1;32mTrue\u001b[0m\u001b[1;33m)\u001b[0m\u001b[1;33m\u001b[0m\u001b[0m\n\u001b[0m",
      "\u001b[0;32mC:\\Anaconda\\lib\\site-packages\\geopandas\\geodataframe.py\u001b[0m in \u001b[0;36mto_crs\u001b[0;34m(self, crs, epsg, inplace)\u001b[0m\n\u001b[1;32m    362\u001b[0m         \u001b[1;32melse\u001b[0m\u001b[1;33m:\u001b[0m\u001b[1;33m\u001b[0m\u001b[0m\n\u001b[1;32m    363\u001b[0m             \u001b[0mdf\u001b[0m \u001b[1;33m=\u001b[0m \u001b[0mself\u001b[0m\u001b[1;33m.\u001b[0m\u001b[0mcopy\u001b[0m\u001b[1;33m(\u001b[0m\u001b[1;33m)\u001b[0m\u001b[1;33m\u001b[0m\u001b[0m\n\u001b[0;32m--> 364\u001b[0;31m         \u001b[0mgeom\u001b[0m \u001b[1;33m=\u001b[0m \u001b[0mdf\u001b[0m\u001b[1;33m.\u001b[0m\u001b[0mgeometry\u001b[0m\u001b[1;33m.\u001b[0m\u001b[0mto_crs\u001b[0m\u001b[1;33m(\u001b[0m\u001b[0mcrs\u001b[0m\u001b[1;33m=\u001b[0m\u001b[0mcrs\u001b[0m\u001b[1;33m,\u001b[0m \u001b[0mepsg\u001b[0m\u001b[1;33m=\u001b[0m\u001b[0mepsg\u001b[0m\u001b[1;33m)\u001b[0m\u001b[1;33m\u001b[0m\u001b[0m\n\u001b[0m\u001b[1;32m    365\u001b[0m         \u001b[0mdf\u001b[0m\u001b[1;33m.\u001b[0m\u001b[0mgeometry\u001b[0m \u001b[1;33m=\u001b[0m \u001b[0mgeom\u001b[0m\u001b[1;33m\u001b[0m\u001b[0m\n\u001b[1;32m    366\u001b[0m         \u001b[0mdf\u001b[0m\u001b[1;33m.\u001b[0m\u001b[0mcrs\u001b[0m \u001b[1;33m=\u001b[0m \u001b[0mgeom\u001b[0m\u001b[1;33m.\u001b[0m\u001b[0mcrs\u001b[0m\u001b[1;33m\u001b[0m\u001b[0m\n",
      "\u001b[0;32mC:\\Anaconda\\lib\\site-packages\\geopandas\\geoseries.py\u001b[0m in \u001b[0;36mto_crs\u001b[0;34m(self, crs, epsg)\u001b[0m\n\u001b[1;32m    273\u001b[0m             \u001b[1;32mexcept\u001b[0m \u001b[0mTypeError\u001b[0m\u001b[1;33m:\u001b[0m\u001b[1;33m\u001b[0m\u001b[0m\n\u001b[1;32m    274\u001b[0m                 \u001b[1;32mraise\u001b[0m \u001b[0mTypeError\u001b[0m\u001b[1;33m(\u001b[0m\u001b[1;34m'Must set either crs or epsg for output.'\u001b[0m\u001b[1;33m)\u001b[0m\u001b[1;33m\u001b[0m\u001b[0m\n\u001b[0;32m--> 275\u001b[0;31m         \u001b[0mproj_in\u001b[0m \u001b[1;33m=\u001b[0m \u001b[0mpyproj\u001b[0m\u001b[1;33m.\u001b[0m\u001b[0mProj\u001b[0m\u001b[1;33m(\u001b[0m\u001b[0mself\u001b[0m\u001b[1;33m.\u001b[0m\u001b[0mcrs\u001b[0m\u001b[1;33m,\u001b[0m \u001b[0mpreserve_units\u001b[0m\u001b[1;33m=\u001b[0m\u001b[1;32mTrue\u001b[0m\u001b[1;33m)\u001b[0m\u001b[1;33m\u001b[0m\u001b[0m\n\u001b[0m\u001b[1;32m    276\u001b[0m         \u001b[0mproj_out\u001b[0m \u001b[1;33m=\u001b[0m \u001b[0mpyproj\u001b[0m\u001b[1;33m.\u001b[0m\u001b[0mProj\u001b[0m\u001b[1;33m(\u001b[0m\u001b[0mcrs\u001b[0m\u001b[1;33m,\u001b[0m \u001b[0mpreserve_units\u001b[0m\u001b[1;33m=\u001b[0m\u001b[1;32mTrue\u001b[0m\u001b[1;33m)\u001b[0m\u001b[1;33m\u001b[0m\u001b[0m\n\u001b[1;32m    277\u001b[0m         \u001b[0mproject\u001b[0m \u001b[1;33m=\u001b[0m \u001b[0mpartial\u001b[0m\u001b[1;33m(\u001b[0m\u001b[0mpyproj\u001b[0m\u001b[1;33m.\u001b[0m\u001b[0mtransform\u001b[0m\u001b[1;33m,\u001b[0m \u001b[0mproj_in\u001b[0m\u001b[1;33m,\u001b[0m \u001b[0mproj_out\u001b[0m\u001b[1;33m)\u001b[0m\u001b[1;33m\u001b[0m\u001b[0m\n",
      "\u001b[0;32mC:\\Anaconda\\lib\\site-packages\\pyproj\\__init__.py\u001b[0m in \u001b[0;36m__new__\u001b[0;34m(self, projparams, preserve_units, **kwargs)\u001b[0m\n\u001b[1;32m    356\u001b[0m         \u001b[1;31m# on case-insensitive filesystems).\u001b[0m\u001b[1;33m\u001b[0m\u001b[1;33m\u001b[0m\u001b[0m\n\u001b[1;32m    357\u001b[0m         \u001b[0mprojstring\u001b[0m \u001b[1;33m=\u001b[0m \u001b[0mprojstring\u001b[0m\u001b[1;33m.\u001b[0m\u001b[0mreplace\u001b[0m\u001b[1;33m(\u001b[0m\u001b[1;34m'EPSG'\u001b[0m\u001b[1;33m,\u001b[0m\u001b[1;34m'epsg'\u001b[0m\u001b[1;33m)\u001b[0m\u001b[1;33m\u001b[0m\u001b[0m\n\u001b[0;32m--> 358\u001b[0;31m         \u001b[1;32mreturn\u001b[0m \u001b[0m_proj\u001b[0m\u001b[1;33m.\u001b[0m\u001b[0mProj\u001b[0m\u001b[1;33m.\u001b[0m\u001b[0m__new__\u001b[0m\u001b[1;33m(\u001b[0m\u001b[0mself\u001b[0m\u001b[1;33m,\u001b[0m \u001b[0mprojstring\u001b[0m\u001b[1;33m)\u001b[0m\u001b[1;33m\u001b[0m\u001b[0m\n\u001b[0m\u001b[1;32m    359\u001b[0m \u001b[1;33m\u001b[0m\u001b[0m\n\u001b[1;32m    360\u001b[0m     \u001b[1;32mdef\u001b[0m \u001b[0m__call__\u001b[0m\u001b[1;33m(\u001b[0m\u001b[0mself\u001b[0m\u001b[1;33m,\u001b[0m \u001b[1;33m*\u001b[0m\u001b[0margs\u001b[0m\u001b[1;33m,\u001b[0m \u001b[1;33m**\u001b[0m\u001b[0mkw\u001b[0m\u001b[1;33m)\u001b[0m\u001b[1;33m:\u001b[0m\u001b[1;33m\u001b[0m\u001b[0m\n",
      "\u001b[0;32m_proj.pyx\u001b[0m in \u001b[0;36m_proj.Proj.__cinit__ (_proj.c:1170)\u001b[0;34m()\u001b[0m\n",
      "\u001b[0;31mRuntimeError\u001b[0m: b'no colon in init= string'"
     ]
    }
   ],
   "source": [
    "stops."
   ]
  },
  {
   "cell_type": "markdown",
   "metadata": {},
   "source": [
    "## This is another way to write a shapefile (ignore for now)"
   ]
  },
  {
   "cell_type": "code",
   "execution_count": 16,
   "metadata": {
    "collapsed": true
   },
   "outputs": [],
   "source": [
    "stop = shapefile.Writer(shapeType = 1)"
   ]
  },
  {
   "cell_type": "code",
   "execution_count": 17,
   "metadata": {
    "collapsed": true
   },
   "outputs": [],
   "source": [
    "#makes sure that the shapefile table is balanced every geometry has data vice versa (look up pyshp documentation)\n",
    "stop.autoBalance = 1"
   ]
  },
  {
   "cell_type": "code",
   "execution_count": 18,
   "metadata": {
    "collapsed": false
   },
   "outputs": [],
   "source": [
    "lx = list(df2['STOP_LON'])\n",
    "ly = list(df2['STOP_LAT'])\n",
    "\n",
    "for i in range(0,len(df2)):\n",
    "\n",
    "    stop.point(x = float(lx[i]),y=float(ly[i]))"
   ]
  },
  {
   "cell_type": "code",
   "execution_count": 19,
   "metadata": {
    "collapsed": false
   },
   "outputs": [
    {
     "data": {
      "text/plain": [
       "3744"
      ]
     },
     "execution_count": 19,
     "metadata": {},
     "output_type": "execute_result"
    }
   ],
   "source": [
    "len(stop.shapes())"
   ]
  },
  {
   "cell_type": "code",
   "execution_count": 1,
   "metadata": {
    "collapsed": false
   },
   "outputs": [
    {
     "ename": "NameError",
     "evalue": "name 'df2' is not defined",
     "output_type": "error",
     "traceback": [
      "\u001b[0;31m---------------------------------------------------------------------------\u001b[0m",
      "\u001b[0;31mNameError\u001b[0m                                 Traceback (most recent call last)",
      "\u001b[0;32m<ipython-input-1-fa097f91cb6d>\u001b[0m in \u001b[0;36m<module>\u001b[0;34m()\u001b[0m\n\u001b[0;32m----> 1\u001b[0;31m \u001b[0mlen\u001b[0m\u001b[1;33m(\u001b[0m\u001b[0mdf2\u001b[0m\u001b[1;33m)\u001b[0m\u001b[1;33m\u001b[0m\u001b[0m\n\u001b[0m\u001b[1;32m      2\u001b[0m \u001b[0mget_ipython\u001b[0m\u001b[1;33m(\u001b[0m\u001b[1;33m)\u001b[0m\u001b[1;33m.\u001b[0m\u001b[0mmagic\u001b[0m\u001b[1;33m(\u001b[0m\u001b[1;34m'pinfo df.at'\u001b[0m\u001b[1;33m)\u001b[0m\u001b[1;33m\u001b[0m\u001b[0m\n",
      "\u001b[0;31mNameError\u001b[0m: name 'df2' is not defined"
     ]
    }
   ],
   "source": [
    "len(df2)\n"
   ]
  },
  {
   "cell_type": "code",
   "execution_count": 21,
   "metadata": {
    "collapsed": false
   },
   "outputs": [],
   "source": [
    "stop.save('stops')"
   ]
  },
  {
   "cell_type": "markdown",
   "metadata": {},
   "source": [
    "## Creating Buffer Code Resumes Here"
   ]
  },
  {
   "cell_type": "code",
   "execution_count": 55,
   "metadata": {
    "collapsed": false
   },
   "outputs": [
    {
     "ename": "RuntimeError",
     "evalue": "b'no colon in init= string'",
     "output_type": "error",
     "traceback": [
      "\u001b[0;31m---------------------------------------------------------------------------\u001b[0m",
      "\u001b[0;31mRuntimeError\u001b[0m                              Traceback (most recent call last)",
      "\u001b[0;32m<ipython-input-55-ed36f8cb1447>\u001b[0m in \u001b[0;36m<module>\u001b[0;34m()\u001b[0m\n\u001b[1;32m      3\u001b[0m \u001b[1;31m# this did not work at first so I switched to arc gis\u001b[0m\u001b[1;33m\u001b[0m\u001b[1;33m\u001b[0m\u001b[0m\n\u001b[1;32m      4\u001b[0m \u001b[1;33m\u001b[0m\u001b[0m\n\u001b[0;32m----> 5\u001b[0;31m \u001b[0mstops\u001b[0m \u001b[1;33m=\u001b[0m \u001b[0mstops\u001b[0m\u001b[1;33m.\u001b[0m\u001b[0mto_crs\u001b[0m\u001b[1;33m(\u001b[0m\u001b[1;33m{\u001b[0m\u001b[1;34m'init'\u001b[0m\u001b[1;33m:\u001b[0m \u001b[1;34m'epsg:6420'\u001b[0m\u001b[1;33m}\u001b[0m\u001b[1;33m)\u001b[0m\u001b[1;33m\u001b[0m\u001b[0m\n\u001b[0m",
      "\u001b[0;32mC:\\Anaconda\\lib\\site-packages\\geopandas\\geodataframe.py\u001b[0m in \u001b[0;36mto_crs\u001b[0;34m(self, crs, epsg, inplace)\u001b[0m\n\u001b[1;32m    362\u001b[0m         \u001b[1;32melse\u001b[0m\u001b[1;33m:\u001b[0m\u001b[1;33m\u001b[0m\u001b[0m\n\u001b[1;32m    363\u001b[0m             \u001b[0mdf\u001b[0m \u001b[1;33m=\u001b[0m \u001b[0mself\u001b[0m\u001b[1;33m.\u001b[0m\u001b[0mcopy\u001b[0m\u001b[1;33m(\u001b[0m\u001b[1;33m)\u001b[0m\u001b[1;33m\u001b[0m\u001b[0m\n\u001b[0;32m--> 364\u001b[0;31m         \u001b[0mgeom\u001b[0m \u001b[1;33m=\u001b[0m \u001b[0mdf\u001b[0m\u001b[1;33m.\u001b[0m\u001b[0mgeometry\u001b[0m\u001b[1;33m.\u001b[0m\u001b[0mto_crs\u001b[0m\u001b[1;33m(\u001b[0m\u001b[0mcrs\u001b[0m\u001b[1;33m=\u001b[0m\u001b[0mcrs\u001b[0m\u001b[1;33m,\u001b[0m \u001b[0mepsg\u001b[0m\u001b[1;33m=\u001b[0m\u001b[0mepsg\u001b[0m\u001b[1;33m)\u001b[0m\u001b[1;33m\u001b[0m\u001b[0m\n\u001b[0m\u001b[1;32m    365\u001b[0m         \u001b[0mdf\u001b[0m\u001b[1;33m.\u001b[0m\u001b[0mgeometry\u001b[0m \u001b[1;33m=\u001b[0m \u001b[0mgeom\u001b[0m\u001b[1;33m\u001b[0m\u001b[0m\n\u001b[1;32m    366\u001b[0m         \u001b[0mdf\u001b[0m\u001b[1;33m.\u001b[0m\u001b[0mcrs\u001b[0m \u001b[1;33m=\u001b[0m \u001b[0mgeom\u001b[0m\u001b[1;33m.\u001b[0m\u001b[0mcrs\u001b[0m\u001b[1;33m\u001b[0m\u001b[0m\n",
      "\u001b[0;32mC:\\Anaconda\\lib\\site-packages\\geopandas\\geoseries.py\u001b[0m in \u001b[0;36mto_crs\u001b[0;34m(self, crs, epsg)\u001b[0m\n\u001b[1;32m    273\u001b[0m             \u001b[1;32mexcept\u001b[0m \u001b[0mTypeError\u001b[0m\u001b[1;33m:\u001b[0m\u001b[1;33m\u001b[0m\u001b[0m\n\u001b[1;32m    274\u001b[0m                 \u001b[1;32mraise\u001b[0m \u001b[0mTypeError\u001b[0m\u001b[1;33m(\u001b[0m\u001b[1;34m'Must set either crs or epsg for output.'\u001b[0m\u001b[1;33m)\u001b[0m\u001b[1;33m\u001b[0m\u001b[0m\n\u001b[0;32m--> 275\u001b[0;31m         \u001b[0mproj_in\u001b[0m \u001b[1;33m=\u001b[0m \u001b[0mpyproj\u001b[0m\u001b[1;33m.\u001b[0m\u001b[0mProj\u001b[0m\u001b[1;33m(\u001b[0m\u001b[0mself\u001b[0m\u001b[1;33m.\u001b[0m\u001b[0mcrs\u001b[0m\u001b[1;33m,\u001b[0m \u001b[0mpreserve_units\u001b[0m\u001b[1;33m=\u001b[0m\u001b[1;32mTrue\u001b[0m\u001b[1;33m)\u001b[0m\u001b[1;33m\u001b[0m\u001b[0m\n\u001b[0m\u001b[1;32m    276\u001b[0m         \u001b[0mproj_out\u001b[0m \u001b[1;33m=\u001b[0m \u001b[0mpyproj\u001b[0m\u001b[1;33m.\u001b[0m\u001b[0mProj\u001b[0m\u001b[1;33m(\u001b[0m\u001b[0mcrs\u001b[0m\u001b[1;33m,\u001b[0m \u001b[0mpreserve_units\u001b[0m\u001b[1;33m=\u001b[0m\u001b[1;32mTrue\u001b[0m\u001b[1;33m)\u001b[0m\u001b[1;33m\u001b[0m\u001b[0m\n\u001b[1;32m    277\u001b[0m         \u001b[0mproject\u001b[0m \u001b[1;33m=\u001b[0m \u001b[0mpartial\u001b[0m\u001b[1;33m(\u001b[0m\u001b[0mpyproj\u001b[0m\u001b[1;33m.\u001b[0m\u001b[0mtransform\u001b[0m\u001b[1;33m,\u001b[0m \u001b[0mproj_in\u001b[0m\u001b[1;33m,\u001b[0m \u001b[0mproj_out\u001b[0m\u001b[1;33m)\u001b[0m\u001b[1;33m\u001b[0m\u001b[0m\n",
      "\u001b[0;32mC:\\Anaconda\\lib\\site-packages\\pyproj\\__init__.py\u001b[0m in \u001b[0;36m__new__\u001b[0;34m(self, projparams, preserve_units, **kwargs)\u001b[0m\n\u001b[1;32m    356\u001b[0m         \u001b[1;31m# on case-insensitive filesystems).\u001b[0m\u001b[1;33m\u001b[0m\u001b[1;33m\u001b[0m\u001b[0m\n\u001b[1;32m    357\u001b[0m         \u001b[0mprojstring\u001b[0m \u001b[1;33m=\u001b[0m \u001b[0mprojstring\u001b[0m\u001b[1;33m.\u001b[0m\u001b[0mreplace\u001b[0m\u001b[1;33m(\u001b[0m\u001b[1;34m'EPSG'\u001b[0m\u001b[1;33m,\u001b[0m\u001b[1;34m'epsg'\u001b[0m\u001b[1;33m)\u001b[0m\u001b[1;33m\u001b[0m\u001b[0m\n\u001b[0;32m--> 358\u001b[0;31m         \u001b[1;32mreturn\u001b[0m \u001b[0m_proj\u001b[0m\u001b[1;33m.\u001b[0m\u001b[0mProj\u001b[0m\u001b[1;33m.\u001b[0m\u001b[0m__new__\u001b[0m\u001b[1;33m(\u001b[0m\u001b[0mself\u001b[0m\u001b[1;33m,\u001b[0m \u001b[0mprojstring\u001b[0m\u001b[1;33m)\u001b[0m\u001b[1;33m\u001b[0m\u001b[0m\n\u001b[0m\u001b[1;32m    359\u001b[0m \u001b[1;33m\u001b[0m\u001b[0m\n\u001b[1;32m    360\u001b[0m     \u001b[1;32mdef\u001b[0m \u001b[0m__call__\u001b[0m\u001b[1;33m(\u001b[0m\u001b[0mself\u001b[0m\u001b[1;33m,\u001b[0m \u001b[1;33m*\u001b[0m\u001b[0margs\u001b[0m\u001b[1;33m,\u001b[0m \u001b[1;33m**\u001b[0m\u001b[0mkw\u001b[0m\u001b[1;33m)\u001b[0m\u001b[1;33m:\u001b[0m\u001b[1;33m\u001b[0m\u001b[0m\n",
      "\u001b[0;32m_proj.pyx\u001b[0m in \u001b[0;36m_proj.Proj.__cinit__ (_proj.c:1170)\u001b[0;34m()\u001b[0m\n",
      "\u001b[0;31mRuntimeError\u001b[0m: b'no colon in init= string'"
     ]
    }
   ],
   "source": [
    "#reproject the stops onto a NAD83 NSRS 2007California zone 3 map to allow calculations in US ft \n",
    "\n",
    "# this did not work at first so I switched to arc gis\n",
    "\n",
    "stops = stops.to_crs({'init': 'epsg:6420'})"
   ]
  },
  {
   "cell_type": "code",
   "execution_count": 81,
   "metadata": {
    "collapsed": false
   },
   "outputs": [
    {
     "data": {
      "text/plain": [
       "<matplotlib.axes._subplots.AxesSubplot at 0x18fd09c6860>"
      ]
     },
     "execution_count": 81,
     "metadata": {},
     "output_type": "execute_result"
    },
    {
     "data": {
      "image/png": "[encoded data removed]",
      "text/plain": [
       "<matplotlib.figure.Figure at 0x18fd09be240>"
      ]
     },
     "metadata": {},
     "output_type": "display_data"
    }
   ],
   "source": [
    "stops.plot()"
   ]
  },
  {
   "cell_type": "markdown",
   "metadata": {},
   "source": [
    "# Create Buffers Around Bus Stop Points"
   ]
  },
  {
   "cell_type": "code",
   "execution_count": 82,
   "metadata": {
    "collapsed": true
   },
   "outputs": [],
   "source": [
    "buffers_third = stops.copy()\n",
    "buffers_third.geometry = stops.buffer(1760)"
   ]
  },
  {
   "cell_type": "code",
   "execution_count": 83,
   "metadata": {
    "collapsed": true
   },
   "outputs": [],
   "source": [
    "buffers_quarter = stops.copy()\n",
    "buffers_quarter.geometry = stops.buffer(1320)"
   ]
  },
  {
   "cell_type": "code",
   "execution_count": 84,
   "metadata": {
    "collapsed": false
   },
   "outputs": [],
   "source": [
    "buffers_tenth = stops.copy()\n",
    "buffers_tenth.geometry = stops.buffer(528)"
   ]
  },
  {
   "cell_type": "code",
   "execution_count": 101,
   "metadata": {
    "collapsed": false
   },
   "outputs": [],
   "source": [
    "buffers_third.to_file('Buffers/Buffers_Third.shp',driver = 'ESRI Shapefile')"
   ]
  },
  {
   "cell_type": "code",
   "execution_count": 102,
   "metadata": {
    "collapsed": false
   },
   "outputs": [],
   "source": [
    "buffers_quarter.to_file('Buffers/Buffers_Quarter.shp',driver = 'ESRI Shapefile')"
   ]
  },
  {
   "cell_type": "code",
   "execution_count": 103,
   "metadata": {
    "collapsed": false
   },
   "outputs": [],
   "source": [
    "buffers_tenth.to_file('Buffers/Buffers_Tenth.shp',driver = 'ESRI Shapefile')"
   ]
  },
  {
   "cell_type": "markdown",
   "metadata": {},
   "source": [
    "# Issues with projections and creating buffers with correct untis\n",
    "#### Used arc map to define projection as GCS_NAD_1983_2011 \n",
    "#### reprojected to  NAD_1927_StatePlane_California_III_FIPS_0403\n",
    "#### Created quarter, third, and half mile buffers using the buffer analysis tool"
   ]
  },
  {
   "cell_type": "markdown",
   "metadata": {},
   "source": []
  },
  {
   "cell_type": "code",
   "execution_count": 94,
   "metadata": {
    "collapsed": false
   },
   "outputs": [],
   "source": [
    "tenth = gp.read_file('Buffers/Buffers_Tenth.shp')"
   ]
  },
  {
   "cell_type": "code",
   "execution_count": 28,
   "metadata": {
    "collapsed": false
   },
   "outputs": [
    {
     "data": {
      "text/plain": [
       "<matplotlib.axes._subplots.AxesSubplot at 0x1b46be04860>"
      ]
     },
     "execution_count": 28,
     "metadata": {},
     "output_type": "execute_result"
    },
    {
     "data": {
      "image/png": "[encoded data removed]",
      "text/plain": [
       "<matplotlib.figure.Figure at 0x1b46be114e0>"
      ]
     },
     "metadata": {},
     "output_type": "display_data"
    }
   ],
   "source": [
    "tenth.plot()"
   ]
  },
  {
   "cell_type": "code",
   "execution_count": 95,
   "metadata": {
    "collapsed": true
   },
   "outputs": [],
   "source": [
    "third = gp.read_file('Buffers/Buffers_Third.shp')"
   ]
  },
  {
   "cell_type": "code",
   "execution_count": 26,
   "metadata": {
    "collapsed": false
   },
   "outputs": [
    {
     "data": {
      "text/plain": [
       "<matplotlib.axes._subplots.AxesSubplot at 0x1b8bad7d358>"
      ]
     },
     "execution_count": 26,
     "metadata": {},
     "output_type": "execute_result"
    },
    {
     "data": {
      "image/png": "[encoded data removed]",
      "text/plain": [
       "<matplotlib.figure.Figure at 0x1b8ad4f4780>"
      ]
     },
     "metadata": {},
     "output_type": "display_data"
    }
   ],
   "source": [
    "third.plot()"
   ]
  },
  {
   "cell_type": "code",
   "execution_count": 96,
   "metadata": {
    "collapsed": false
   },
   "outputs": [],
   "source": [
    "quarter = gp.read_file('Buffers/Buffers_Quarter.shp')"
   ]
  },
  {
   "cell_type": "code",
   "execution_count": 28,
   "metadata": {
    "collapsed": false
   },
   "outputs": [
    {
     "data": {
      "text/plain": [
       "<matplotlib.axes._subplots.AxesSubplot at 0x1b8c7262cc0>"
      ]
     },
     "execution_count": 28,
     "metadata": {},
     "output_type": "execute_result"
    },
    {
     "data": {
      "image/png": "[encoded data removed]",
      "text/plain": [
       "<matplotlib.figure.Figure at 0x1b8c5895198>"
      ]
     },
     "metadata": {},
     "output_type": "display_data"
    }
   ],
   "source": [
    "quarter.plot()"
   ]
  },
  {
   "cell_type": "code",
   "execution_count": 36,
   "metadata": {
    "collapsed": false
   },
   "outputs": [],
   "source": [
    "import folium\n",
    "stops_half_map = folium.Map([37.77493,-122.419416], zoom_start=12, tiles='cartodbpositron',control_scale = True)\n",
    "\n",
    "folium.GeoJson(half).add_to(stops_half_map)\n",
    "\n",
    "stops_half_map.save('stops_half.html')"
   ]
  },
  {
   "cell_type": "code",
   "execution_count": 37,
   "metadata": {
    "collapsed": true
   },
   "outputs": [],
   "source": [
    "stops_third_map = folium.Map([37.77493,-122.419416], zoom_start=12, tiles='cartodbpositron',control_scale = True)\n",
    "\n",
    "folium.GeoJson(half).add_to(stops_third_map)\n",
    "\n",
    "stops_third_map.save('stops_third.html')"
   ]
  },
  {
   "cell_type": "code",
   "execution_count": 38,
   "metadata": {
    "collapsed": true
   },
   "outputs": [],
   "source": [
    "stops_quarter_map = folium.Map([37.77493,-122.419416], zoom_start=12, tiles='cartodbpositron',control_scale = True)\n",
    "\n",
    "folium.GeoJson(half).add_to(stops_quarter_map)\n",
    "\n",
    "stops_quarter_map.save('stops_quarter.html')"
   ]
  },
  {
   "cell_type": "code",
   "execution_count": null,
   "metadata": {
    "collapsed": true
   },
   "outputs": [],
   "source": []
  }
 ],
 "metadata": {
  "anaconda-cloud": {},
  "kernelspec": {
   "display_name": "Python [conda root]",
   "language": "python",
   "name": "conda-root-py"
  },
  "language_info": {
   "codemirror_mode": {
    "name": "ipython",
    "version": 3
   },
   "file_extension": ".py",
   "mimetype": "text/x-python",
   "name": "python",
   "nbconvert_exporter": "python",
   "pygments_lexer": "ipython3",
   "version": "3.5.2"
  }
 },
 "nbformat": 4,
 "nbformat_minor": 1
}
