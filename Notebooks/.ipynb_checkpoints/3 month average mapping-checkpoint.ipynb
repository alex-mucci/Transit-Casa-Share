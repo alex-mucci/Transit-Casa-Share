{
 "cells": [
  {
   "cell_type": "code",
   "execution_count": 23,
   "metadata": {
    "collapsed": true
   },
   "outputs": [],
   "source": [
    "import pandas as pd\n",
    "import numpy as np\n",
    "import folium\n",
    "import sys\n",
    "sys.path.append('E:\\Transit_Casa\\Alex\\Scripts')\n",
    "import Muni_Estimates_day as muni\n",
    "import Map_stop_PercentDiff \n"
   ]
  },
  {
   "cell_type": "code",
   "execution_count": 3,
   "metadata": {
    "collapsed": true
   },
   "outputs": [],
   "source": [
    "TS_INFILE= \"E:/Transit_Casa/Output/sfmuni_monthly_ts.h5\"\n",
    "OUTFILE_START = 'E:\\Transit_Casa\\Alex\\C_Drive\\Maps/'\n",
    "TABLE = 'stop_day'\n",
    "MONTH1 = '2009-09-01'\n",
    "MONTH2 = '2009-10-01'\n",
    "MONTH3 = '2009-11-01'\n",
    "MONTH4 = '2013-09-01'\n",
    "MONTH5 = '2013-10-01'\n",
    "MONTH6 = '2013-11-01'"
   ]
  },
  {
   "cell_type": "code",
   "execution_count": null,
   "metadata": {
    "collapsed": true
   },
   "outputs": [],
   "source": [
    "def get_day(hdffile,table,month1, month2,month3,month4,month5,month6):\n",
    "    \"\"\"\n",
    "\n",
    "    Write a comment here about the arguments and what it returns. \n",
    "    \"\"\"\n",
    "    \n",
    "    store = pd.HDFStore(hdffile)\n",
    "    df = store.get(table, where )\n",
    "    \n",
    "    df1 = df[df['MONTH'] == month1]\n",
    "    df2 = df[df['MONTH'] == month2]\n",
    "    df3 = df[df['MONTH'] == month3]\n",
    "    df4 = df[df['MONTH'] == month4]\n",
    "    df5 = df[df['MONTH'] == month5]\n",
    "    df6 = df[df['MONTH'] == month6]\n",
    "    \n",
    "    df09 =\n",
    "   #the stop tables had stop_id as their unique identifier and required a different key when merging\n",
    "    if table == 'stop_day':\n",
    "    # merge the two months for easy comparison of values (outer so that all stops are preserved, nan is filled in for missing stops)\n",
    "        df = pd.merge(df09,df13, how = 'outer', on = ['DOW', 'AGENCY_ID', 'STOP_ID'], suffixes = ['_09','_13'])\n",
    "    \n",
    "    else: \n",
    "        df = pd.merge(df1,df2, how = 'outer', on = ['DOW', 'AGENCY_ID', 'ROUTE_SHORT_NAME', 'DIR', 'SEQ'], suffixes = ['_09','_13'])\n",
    "    \n",
    "    #sort the columns alphabetically to easily compare values\n",
    "    df = df.reindex_axis(sorted(df.columns), axis=1)\n",
    "    return df"
   ]
  },
  {
   "cell_type": "code",
   "execution_count": 10,
   "metadata": {
    "collapsed": false
   },
   "outputs": [],
   "source": [
    "store = pd.HDFStore(\"E:/Transit_Casa/Output/sfmuni_monthly_ts.h5\")\n",
    "\n",
    "df = store.get('stop_day')\n"
   ]
  },
  {
   "cell_type": "code",
   "execution_count": null,
   "metadata": {
    "collapsed": true
   },
   "outputs": [],
   "source": []
  },
  {
   "cell_type": "code",
   "execution_count": null,
   "metadata": {
    "collapsed": true
   },
   "outputs": [],
   "source": []
  },
  {
   "cell_type": "code",
   "execution_count": 11,
   "metadata": {
    "collapsed": false
   },
   "outputs": [],
   "source": [
    "    df09 = make_table(TS_INFILE,TABLE, MONTH1, MONTH2,MONTH3) \n",
    "    df13 = make_table(TS_INFILE,TABLE, MONTH4, MONTH5,MONTH6) \n",
    "    \n",
    "    df = pd.merge(df09,df13,how = 'inner',on = 'STOP_ID',suffixes = ('_09','_13'))\n",
    "    df['LAT'] = df.apply(lambda row: map.choose_right_latlon(row['STOP_LAT_09'], row['STOP_LAT_13']), axis=1)\n",
    "    df['LON'] = df.apply(lambda row: map.choose_right_latlon(row['STOP_LON_09'], row['STOP_LON_13']), axis=1)\n",
    "    names = get_names_avg(COLMN_NAME)\n",
    "    df[names[4]] = df[names[1]] - df[names[0]]\n",
    "    df[names[3]] = ((df[names[1]] - df[names[0]])/df[names[0]])*100\n",
    "    df[names[2]] = df[names[3]].astype(str) + '%'\n",
    "    show_list = ['STOP_ID',names[3],names[4],names[0],names[1]]\n",
    "    print(df)\n",
    "    map.map(names[3],names[4],names[2],df,show_list,OUTFILE_START,TABLE,COLMN_NAME,map.color,map.radius)\n",
    "    print('ALL DONE!! TIME FOR A BEER!!!')"
   ]
  },
  {
   "cell_type": "code",
   "execution_count": 12,
   "metadata": {
    "collapsed": false
   },
   "outputs": [],
   "source": [
    "df09 = pd.merge(pd.merge(df1,df2,on='STOP_ID',suffixes = ('_9','_10')),df3,on='STOP_ID',)"
   ]
  },
  {
   "cell_type": "code",
   "execution_count": 27,
   "metadata": {
    "collapsed": false
   },
   "outputs": [
    {
     "data": {
      "text/html": [
       "<div>\n",
       "<table border=\"1\" class=\"dataframe\">\n",
       "  <thead>\n",
       "    <tr style=\"text-align: right;\">\n",
       "      <th></th>\n",
       "      <th>MONTH_9</th>\n",
       "      <th>DOW_9</th>\n",
       "      <th>AGENCY_ID_9</th>\n",
       "      <th>STOP_ID</th>\n",
       "      <th>NUMDAYS_9</th>\n",
       "      <th>OBSDAYS_9</th>\n",
       "      <th>TRIP_STOPS_9</th>\n",
       "      <th>OBS_TRIP_STOPS_9</th>\n",
       "      <th>WGT_TRIP_STOPS_9</th>\n",
       "      <th>HEADWAY_S_9</th>\n",
       "      <th>...</th>\n",
       "      <th>PASSDELAY_DEP</th>\n",
       "      <th>PASSDELAY_ARR</th>\n",
       "      <th>RDBRDNGS</th>\n",
       "      <th>DOORCYCLES</th>\n",
       "      <th>WHEELCHAIR</th>\n",
       "      <th>BIKERACK</th>\n",
       "      <th>CAPACITY</th>\n",
       "      <th>VC</th>\n",
       "      <th>CROWDED</th>\n",
       "      <th>CROWDHOURS</th>\n",
       "    </tr>\n",
       "  </thead>\n",
       "  <tbody>\n",
       "  </tbody>\n",
       "</table>\n",
       "<p>0 rows × 151 columns</p>\n",
       "</div>"
      ],
      "text/plain": [
       "Empty DataFrame\n",
       "Columns: [MONTH_9, DOW_9, AGENCY_ID_9, STOP_ID, NUMDAYS_9, OBSDAYS_9, TRIP_STOPS_9, OBS_TRIP_STOPS_9, WGT_TRIP_STOPS_9, HEADWAY_S_9, FARE_9, STOPNAME_9, STOPNAME_AVL_9, STOP_LAT_9, STOP_LON_9, EOL_9, SOL_9, TIMEPOINT_9, ARRIVAL_TIME_DEV_9, DEPARTURE_TIME_DEV_9, DWELL_S_9, DWELL_9, RUNTIME_S_9, RUNTIME_9, TOTTIME_S_9, TOTTIME_9, SERVMILES_S_9, SERVMILES_9, RUNSPEED_S_9, RUNSPEED_9, TOTSPEED_S_9, TOTSPEED_9, ONTIME5_9, ON_9, OFF_9, LOAD_ARR_9, LOAD_DEP_9, PASSMILES_9, PASSHOURS_9, WAITHOURS_9, FULLFARE_REV_9, PASSDELAY_DEP_9, PASSDELAY_ARR_9, RDBRDNGS_9, DOORCYCLES_9, WHEELCHAIR_9, BIKERACK_9, CAPACITY_9, VC_9, CROWDED_9, CROWDHOURS_9, MONTH_10, DOW_10, AGENCY_ID_10, NUMDAYS_10, OBSDAYS_10, TRIP_STOPS_10, OBS_TRIP_STOPS_10, WGT_TRIP_STOPS_10, HEADWAY_S_10, FARE_10, STOPNAME_10, STOPNAME_AVL_10, STOP_LAT_10, STOP_LON_10, EOL_10, SOL_10, TIMEPOINT_10, ARRIVAL_TIME_DEV_10, DEPARTURE_TIME_DEV_10, DWELL_S_10, DWELL_10, RUNTIME_S_10, RUNTIME_10, TOTTIME_S_10, TOTTIME_10, SERVMILES_S_10, SERVMILES_10, RUNSPEED_S_10, RUNSPEED_10, TOTSPEED_S_10, TOTSPEED_10, ONTIME5_10, ON_10, OFF_10, LOAD_ARR_10, LOAD_DEP_10, PASSMILES_10, PASSHOURS_10, WAITHOURS_10, FULLFARE_REV_10, PASSDELAY_DEP_10, PASSDELAY_ARR_10, RDBRDNGS_10, DOORCYCLES_10, WHEELCHAIR_10, BIKERACK_10, CAPACITY_10, VC_10, CROWDED_10, ...]\n",
       "Index: []\n",
       "\n",
       "[0 rows x 151 columns]"
      ]
     },
     "execution_count": 27,
     "metadata": {},
     "output_type": "execute_result"
    }
   ],
   "source": []
  },
  {
   "cell_type": "code",
   "execution_count": 110,
   "metadata": {
    "collapsed": false
   },
   "outputs": [],
   "source": [
    "df09['avg'] = df09.mean(axis=1)\n",
    "df09[0:1000].to_csv('df09.csv')"
   ]
  },
  {
   "cell_type": "code",
   "execution_count": 70,
   "metadata": {
    "collapsed": false
   },
   "outputs": [],
   "source": []
  },
  {
   "cell_type": "code",
   "execution_count": 16,
   "metadata": {
    "collapsed": false
   },
   "outputs": [],
   "source": [
    "df_final = pd.DataFrame(columns = ['ON_9','ON_10','ON_11'])"
   ]
  },
  {
   "cell_type": "code",
   "execution_count": 17,
   "metadata": {
    "collapsed": false
   },
   "outputs": [
    {
     "data": {
      "text/html": [
       "<div>\n",
       "<table border=\"1\" class=\"dataframe\">\n",
       "  <thead>\n",
       "    <tr style=\"text-align: right;\">\n",
       "      <th></th>\n",
       "      <th>ON_9</th>\n",
       "      <th>ON_10</th>\n",
       "      <th>ON_11</th>\n",
       "    </tr>\n",
       "  </thead>\n",
       "  <tbody>\n",
       "    <tr>\n",
       "      <th>0</th>\n",
       "      <td>2245.741655</td>\n",
       "      <td>NaN</td>\n",
       "      <td>NaN</td>\n",
       "    </tr>\n",
       "    <tr>\n",
       "      <th>1</th>\n",
       "      <td>426.308055</td>\n",
       "      <td>NaN</td>\n",
       "      <td>NaN</td>\n",
       "    </tr>\n",
       "    <tr>\n",
       "      <th>2</th>\n",
       "      <td>2.125161</td>\n",
       "      <td>NaN</td>\n",
       "      <td>NaN</td>\n",
       "    </tr>\n",
       "    <tr>\n",
       "      <th>3</th>\n",
       "      <td>43.156595</td>\n",
       "      <td>NaN</td>\n",
       "      <td>NaN</td>\n",
       "    </tr>\n",
       "    <tr>\n",
       "      <th>4</th>\n",
       "      <td>11.328142</td>\n",
       "      <td>NaN</td>\n",
       "      <td>NaN</td>\n",
       "    </tr>\n",
       "  </tbody>\n",
       "</table>\n",
       "</div>"
      ],
      "text/plain": [
       "          ON_9 ON_10 ON_11\n",
       "0  2245.741655   NaN   NaN\n",
       "1   426.308055   NaN   NaN\n",
       "2     2.125161   NaN   NaN\n",
       "3    43.156595   NaN   NaN\n",
       "4    11.328142   NaN   NaN"
      ]
     },
     "execution_count": 17,
     "metadata": {},
     "output_type": "execute_result"
    }
   ],
   "source": [
    "df_final['ON_9'] = df09['ON_9']\n",
    "df_final.head()"
   ]
  },
  {
   "cell_type": "code",
   "execution_count": 18,
   "metadata": {
    "collapsed": false
   },
   "outputs": [],
   "source": [
    "df_final['ON_10'] = df09['ON_10']"
   ]
  },
  {
   "cell_type": "code",
   "execution_count": 19,
   "metadata": {
    "collapsed": false
   },
   "outputs": [],
   "source": [
    "df_final['ON_11'] = df09['ON'] "
   ]
  },
  {
   "cell_type": "code",
   "execution_count": 20,
   "metadata": {
    "collapsed": false
   },
   "outputs": [
    {
     "data": {
      "text/html": [
       "<div>\n",
       "<table border=\"1\" class=\"dataframe\">\n",
       "  <thead>\n",
       "    <tr style=\"text-align: right;\">\n",
       "      <th></th>\n",
       "      <th>ON_9</th>\n",
       "      <th>ON_10</th>\n",
       "      <th>ON_11</th>\n",
       "    </tr>\n",
       "  </thead>\n",
       "  <tbody>\n",
       "    <tr>\n",
       "      <th>0</th>\n",
       "      <td>2245.741655</td>\n",
       "      <td>2091.098683</td>\n",
       "      <td>1630.264645</td>\n",
       "    </tr>\n",
       "    <tr>\n",
       "      <th>1</th>\n",
       "      <td>426.308055</td>\n",
       "      <td>386.600244</td>\n",
       "      <td>324.298011</td>\n",
       "    </tr>\n",
       "    <tr>\n",
       "      <th>2</th>\n",
       "      <td>2.125161</td>\n",
       "      <td>2.046014</td>\n",
       "      <td>0.682106</td>\n",
       "    </tr>\n",
       "    <tr>\n",
       "      <th>3</th>\n",
       "      <td>43.156595</td>\n",
       "      <td>36.044479</td>\n",
       "      <td>22.415086</td>\n",
       "    </tr>\n",
       "    <tr>\n",
       "      <th>4</th>\n",
       "      <td>11.328142</td>\n",
       "      <td>22.438979</td>\n",
       "      <td>7.555196</td>\n",
       "    </tr>\n",
       "  </tbody>\n",
       "</table>\n",
       "</div>"
      ],
      "text/plain": [
       "          ON_9        ON_10        ON_11\n",
       "0  2245.741655  2091.098683  1630.264645\n",
       "1   426.308055   386.600244   324.298011\n",
       "2     2.125161     2.046014     0.682106\n",
       "3    43.156595    36.044479    22.415086\n",
       "4    11.328142    22.438979     7.555196"
      ]
     },
     "execution_count": 20,
     "metadata": {},
     "output_type": "execute_result"
    }
   ],
   "source": [
    "df_final.head()"
   ]
  },
  {
   "cell_type": "code",
   "execution_count": 21,
   "metadata": {
    "collapsed": false
   },
   "outputs": [],
   "source": [
    "df_final['AVG'] = df_final.mean(axis = 1)"
   ]
  },
  {
   "cell_type": "code",
   "execution_count": 22,
   "metadata": {
    "collapsed": false
   },
   "outputs": [
    {
     "data": {
      "text/html": [
       "<div>\n",
       "<table border=\"1\" class=\"dataframe\">\n",
       "  <thead>\n",
       "    <tr style=\"text-align: right;\">\n",
       "      <th></th>\n",
       "      <th>ON_9</th>\n",
       "      <th>ON_10</th>\n",
       "      <th>ON_11</th>\n",
       "      <th>AVG</th>\n",
       "    </tr>\n",
       "  </thead>\n",
       "  <tbody>\n",
       "    <tr>\n",
       "      <th>0</th>\n",
       "      <td>2245.741655</td>\n",
       "      <td>2091.098683</td>\n",
       "      <td>1630.264645</td>\n",
       "      <td>1989.034995</td>\n",
       "    </tr>\n",
       "    <tr>\n",
       "      <th>1</th>\n",
       "      <td>426.308055</td>\n",
       "      <td>386.600244</td>\n",
       "      <td>324.298011</td>\n",
       "      <td>379.068770</td>\n",
       "    </tr>\n",
       "    <tr>\n",
       "      <th>2</th>\n",
       "      <td>2.125161</td>\n",
       "      <td>2.046014</td>\n",
       "      <td>0.682106</td>\n",
       "      <td>1.617761</td>\n",
       "    </tr>\n",
       "    <tr>\n",
       "      <th>3</th>\n",
       "      <td>43.156595</td>\n",
       "      <td>36.044479</td>\n",
       "      <td>22.415086</td>\n",
       "      <td>33.872053</td>\n",
       "    </tr>\n",
       "    <tr>\n",
       "      <th>4</th>\n",
       "      <td>11.328142</td>\n",
       "      <td>22.438979</td>\n",
       "      <td>7.555196</td>\n",
       "      <td>13.774106</td>\n",
       "    </tr>\n",
       "  </tbody>\n",
       "</table>\n",
       "</div>"
      ],
      "text/plain": [
       "          ON_9        ON_10        ON_11          AVG\n",
       "0  2245.741655  2091.098683  1630.264645  1989.034995\n",
       "1   426.308055   386.600244   324.298011   379.068770\n",
       "2     2.125161     2.046014     0.682106     1.617761\n",
       "3    43.156595    36.044479    22.415086    33.872053\n",
       "4    11.328142    22.438979     7.555196    13.774106"
      ]
     },
     "execution_count": 22,
     "metadata": {},
     "output_type": "execute_result"
    }
   ],
   "source": [
    "df_final.head()"
   ]
  },
  {
   "cell_type": "code",
   "execution_count": null,
   "metadata": {
    "collapsed": false
   },
   "outputs": [],
   "source": []
  },
  {
   "cell_type": "code",
   "execution_count": 34,
   "metadata": {
    "collapsed": false
   },
   "outputs": [
    {
     "name": "stdout",
     "output_type": "stream",
     "text": [
      "Index(['ON_9', 'ON_10', 'ON_11', 'AVG'], dtype='object')\n"
     ]
    }
   ],
   "source": [
    "df09 = make_table(TS_INFILE,TABLE, MONTH1, MONTH2,MONTH3) \n",
    "df13 = make_table(TS_INFILE,TABLE, MONTH4, MONTH5,MONTH6) \n",
    "print(df09.columns)"
   ]
  },
  {
   "cell_type": "code",
   "execution_count": null,
   "metadata": {
    "collapsed": false
   },
   "outputs": [],
   "source": []
  },
  {
   "cell_type": "code",
   "execution_count": 37,
   "metadata": {
    "collapsed": true
   },
   "outputs": [],
   "source": []
  },
  {
   "cell_type": "code",
   "execution_count": null,
   "metadata": {
    "collapsed": true
   },
   "outputs": [],
   "source": []
  }
 ],
 "metadata": {
  "anaconda-cloud": {},
  "kernelspec": {
   "display_name": "Python [conda root]",
   "language": "python",
   "name": "conda-root-py"
  },
  "language_info": {
   "codemirror_mode": {
    "name": "ipython",
    "version": 3
   },
   "file_extension": ".py",
   "mimetype": "text/x-python",
   "name": "python",
   "nbconvert_exporter": "python",
   "pygments_lexer": "ipython3",
   "version": "3.5.2"
  }
 },
 "nbformat": 4,
 "nbformat_minor": 1
}
