{
 "cells": [
  {
   "cell_type": "code",
   "execution_count": 1,
   "metadata": {
    "collapsed": true
   },
   "outputs": [],
   "source": [
    "import pandas as pd"
   ]
  },
  {
   "cell_type": "code",
   "execution_count": 69,
   "metadata": {
    "collapsed": true
   },
   "outputs": [],
   "source": [
    "muni16 = pd.read_csv('E:/Transit-Casa-Alex/Output/Processed MUNI Rail/Mapping_Data_16.csv',thousands = ',')"
   ]
  },
  {
   "cell_type": "code",
   "execution_count": 70,
   "metadata": {
    "collapsed": true
   },
   "outputs": [],
   "source": [
    "muni09 = pd.read_csv('E:/Transit-Casa-Alex/Output/Processed MUNI Rail/2009_MUNI_Rail.csv',thousands = ',')"
   ]
  },
  {
   "cell_type": "code",
   "execution_count": 71,
   "metadata": {
    "collapsed": false
   },
   "outputs": [
    {
     "data": {
      "text/html": [
       "<div>\n",
       "<table border=\"1\" class=\"dataframe\">\n",
       "  <thead>\n",
       "    <tr style=\"text-align: right;\">\n",
       "      <th></th>\n",
       "      <th>Boardings</th>\n",
       "      <th>Alightings</th>\n",
       "      <th>STOP_ID</th>\n",
       "    </tr>\n",
       "  </thead>\n",
       "  <tbody>\n",
       "    <tr>\n",
       "      <th>0</th>\n",
       "      <td>132</td>\n",
       "      <td>58</td>\n",
       "      <td>3537</td>\n",
       "    </tr>\n",
       "    <tr>\n",
       "      <th>1</th>\n",
       "      <td>60</td>\n",
       "      <td>170</td>\n",
       "      <td>3538</td>\n",
       "    </tr>\n",
       "    <tr>\n",
       "      <th>2</th>\n",
       "      <td>726</td>\n",
       "      <td>810</td>\n",
       "      <td>7316</td>\n",
       "    </tr>\n",
       "    <tr>\n",
       "      <th>3</th>\n",
       "      <td>198</td>\n",
       "      <td>239</td>\n",
       "      <td>3985</td>\n",
       "    </tr>\n",
       "    <tr>\n",
       "      <th>4</th>\n",
       "      <td>286</td>\n",
       "      <td>340</td>\n",
       "      <td>3987</td>\n",
       "    </tr>\n",
       "  </tbody>\n",
       "</table>\n",
       "</div>"
      ],
      "text/plain": [
       "   Boardings  Alightings  STOP_ID\n",
       "0        132          58     3537\n",
       "1         60         170     3538\n",
       "2        726         810     7316\n",
       "3        198         239     3985\n",
       "4        286         340     3987"
      ]
     },
     "execution_count": 71,
     "metadata": {},
     "output_type": "execute_result"
    }
   ],
   "source": [
    "muni09.head()"
   ]
  },
  {
   "cell_type": "code",
   "execution_count": 72,
   "metadata": {
    "collapsed": false
   },
   "outputs": [
    {
     "data": {
      "text/html": [
       "<div>\n",
       "<table border=\"1\" class=\"dataframe\">\n",
       "  <thead>\n",
       "    <tr style=\"text-align: right;\">\n",
       "      <th></th>\n",
       "      <th>STOP NAME</th>\n",
       "      <th>STOP ID</th>\n",
       "      <th>Total Boardings</th>\n",
       "      <th>Total Alightings</th>\n",
       "      <th>Stop Latitude</th>\n",
       "      <th>Stop Longitude</th>\n",
       "    </tr>\n",
       "  </thead>\n",
       "  <tbody>\n",
       "    <tr>\n",
       "      <th>0</th>\n",
       "      <td>9th Ave &amp; Irving St</td>\n",
       "      <td>3212</td>\n",
       "      <td>4.0</td>\n",
       "      <td>2.1</td>\n",
       "      <td>37.763912</td>\n",
       "      <td>-122.46624</td>\n",
       "    </tr>\n",
       "    <tr>\n",
       "      <th>1</th>\n",
       "      <td>9th Ave &amp; Irving St</td>\n",
       "      <td>3212</td>\n",
       "      <td>248.0</td>\n",
       "      <td>70.6</td>\n",
       "      <td>37.763912</td>\n",
       "      <td>-122.46624</td>\n",
       "    </tr>\n",
       "    <tr>\n",
       "      <th>2</th>\n",
       "      <td>9th Ave &amp; Irving St</td>\n",
       "      <td>3212</td>\n",
       "      <td>247.7</td>\n",
       "      <td>84.2</td>\n",
       "      <td>37.763912</td>\n",
       "      <td>-122.46624</td>\n",
       "    </tr>\n",
       "    <tr>\n",
       "      <th>3</th>\n",
       "      <td>9th Ave &amp; Irving St</td>\n",
       "      <td>3212</td>\n",
       "      <td>264.9</td>\n",
       "      <td>62.6</td>\n",
       "      <td>37.763912</td>\n",
       "      <td>-122.46624</td>\n",
       "    </tr>\n",
       "    <tr>\n",
       "      <th>4</th>\n",
       "      <td>9th Ave &amp; Irving St</td>\n",
       "      <td>3212</td>\n",
       "      <td>208.3</td>\n",
       "      <td>49.1</td>\n",
       "      <td>37.763912</td>\n",
       "      <td>-122.46624</td>\n",
       "    </tr>\n",
       "  </tbody>\n",
       "</table>\n",
       "</div>"
      ],
      "text/plain": [
       "             STOP NAME  STOP ID  Total Boardings  Total Alightings  \\\n",
       "0  9th Ave & Irving St     3212              4.0               2.1   \n",
       "1  9th Ave & Irving St     3212            248.0              70.6   \n",
       "2  9th Ave & Irving St     3212            247.7              84.2   \n",
       "3  9th Ave & Irving St     3212            264.9              62.6   \n",
       "4  9th Ave & Irving St     3212            208.3              49.1   \n",
       "\n",
       "   Stop Latitude  Stop Longitude  \n",
       "0      37.763912      -122.46624  \n",
       "1      37.763912      -122.46624  \n",
       "2      37.763912      -122.46624  \n",
       "3      37.763912      -122.46624  \n",
       "4      37.763912      -122.46624  "
      ]
     },
     "execution_count": 72,
     "metadata": {},
     "output_type": "execute_result"
    }
   ],
   "source": [
    "muni16.head()"
   ]
  },
  {
   "cell_type": "code",
   "execution_count": 73,
   "metadata": {
    "collapsed": false
   },
   "outputs": [
    {
     "name": "stdout",
     "output_type": "stream",
     "text": [
      "<class 'pandas.core.frame.DataFrame'>\n",
      "RangeIndex: 2127 entries, 0 to 2126\n",
      "Data columns (total 6 columns):\n",
      "STOP NAME           2127 non-null object\n",
      "STOP ID             2127 non-null int64\n",
      "Total Boardings     1858 non-null float64\n",
      "Total Alightings    1862 non-null float64\n",
      "Stop Latitude       2127 non-null float64\n",
      "Stop Longitude      2127 non-null float64\n",
      "dtypes: float64(4), int64(1), object(1)\n",
      "memory usage: 99.8+ KB\n"
     ]
    }
   ],
   "source": [
    "muni16.info()"
   ]
  },
  {
   "cell_type": "code",
   "execution_count": null,
   "metadata": {
    "collapsed": false
   },
   "outputs": [],
   "source": []
  },
  {
   "cell_type": "code",
   "execution_count": 75,
   "metadata": {
    "collapsed": false
   },
   "outputs": [],
   "source": [
    "muni16_group = muni16.groupby(by = 'STOP ID',as_index = False).agg({'STOP NAME':'first','Stop Latitude':'mean','Stop Longitude':'mean','Total Alightings':'sum','Total Boardings':'sum'})"
   ]
  },
  {
   "cell_type": "code",
   "execution_count": 76,
   "metadata": {
    "collapsed": false
   },
   "outputs": [
    {
     "data": {
      "text/plain": [
       "Index(['STOP ID', 'Stop Longitude', 'Total Alightings', 'Stop Latitude',\n",
       "       'Total Boardings', 'STOP NAME'],\n",
       "      dtype='object')"
      ]
     },
     "execution_count": 76,
     "metadata": {},
     "output_type": "execute_result"
    }
   ],
   "source": [
    "muni16_group.columns"
   ]
  },
  {
   "cell_type": "code",
   "execution_count": 77,
   "metadata": {
    "collapsed": true
   },
   "outputs": [],
   "source": [
    "rename = ['STOP_ID', 'LON', 'Alightings', 'LAT',\n",
    "       'Boardings', 'STOP_NAME']"
   ]
  },
  {
   "cell_type": "code",
   "execution_count": 78,
   "metadata": {
    "collapsed": true
   },
   "outputs": [],
   "source": [
    "muni16_group.columns = rename"
   ]
  },
  {
   "cell_type": "code",
   "execution_count": 79,
   "metadata": {
    "collapsed": false
   },
   "outputs": [
    {
     "data": {
      "text/html": [
       "<div>\n",
       "<table border=\"1\" class=\"dataframe\">\n",
       "  <thead>\n",
       "    <tr style=\"text-align: right;\">\n",
       "      <th></th>\n",
       "      <th>STOP_ID</th>\n",
       "      <th>LON</th>\n",
       "      <th>Alightings</th>\n",
       "      <th>LAT</th>\n",
       "      <th>Boardings</th>\n",
       "      <th>STOP_NAME</th>\n",
       "    </tr>\n",
       "  </thead>\n",
       "  <tbody>\n",
       "    <tr>\n",
       "      <th>0</th>\n",
       "      <td>3212</td>\n",
       "      <td>-122.466240</td>\n",
       "      <td>292.4</td>\n",
       "      <td>37.763912</td>\n",
       "      <td>1046.3</td>\n",
       "      <td>9th Ave &amp; Irving St</td>\n",
       "    </tr>\n",
       "    <tr>\n",
       "      <th>1</th>\n",
       "      <td>3266</td>\n",
       "      <td>-122.471300</td>\n",
       "      <td>313.8</td>\n",
       "      <td>37.743122</td>\n",
       "      <td>119.6</td>\n",
       "      <td>15th Ave &amp; Taraval St</td>\n",
       "    </tr>\n",
       "    <tr>\n",
       "      <th>2</th>\n",
       "      <td>3267</td>\n",
       "      <td>-122.471405</td>\n",
       "      <td>92.3</td>\n",
       "      <td>37.743070</td>\n",
       "      <td>240.7</td>\n",
       "      <td>15th Ave &amp; Taraval St</td>\n",
       "    </tr>\n",
       "    <tr>\n",
       "      <th>3</th>\n",
       "      <td>3268</td>\n",
       "      <td>-122.471190</td>\n",
       "      <td>233.4</td>\n",
       "      <td>37.741524</td>\n",
       "      <td>16.5</td>\n",
       "      <td>15th Ave &amp; Ulloa St</td>\n",
       "    </tr>\n",
       "    <tr>\n",
       "      <th>4</th>\n",
       "      <td>3269</td>\n",
       "      <td>-122.471300</td>\n",
       "      <td>23.3</td>\n",
       "      <td>37.741486</td>\n",
       "      <td>90.4</td>\n",
       "      <td>15th Ave &amp; Ulloa St</td>\n",
       "    </tr>\n",
       "  </tbody>\n",
       "</table>\n",
       "</div>"
      ],
      "text/plain": [
       "   STOP_ID         LON  Alightings        LAT  Boardings  \\\n",
       "0     3212 -122.466240       292.4  37.763912     1046.3   \n",
       "1     3266 -122.471300       313.8  37.743122      119.6   \n",
       "2     3267 -122.471405        92.3  37.743070      240.7   \n",
       "3     3268 -122.471190       233.4  37.741524       16.5   \n",
       "4     3269 -122.471300        23.3  37.741486       90.4   \n",
       "\n",
       "               STOP_NAME  \n",
       "0    9th Ave & Irving St  \n",
       "1  15th Ave & Taraval St  \n",
       "2  15th Ave & Taraval St  \n",
       "3    15th Ave & Ulloa St  \n",
       "4    15th Ave & Ulloa St  "
      ]
     },
     "execution_count": 79,
     "metadata": {},
     "output_type": "execute_result"
    }
   ],
   "source": [
    "muni16_group.head()"
   ]
  },
  {
   "cell_type": "code",
   "execution_count": 80,
   "metadata": {
    "collapsed": false
   },
   "outputs": [],
   "source": [
    "rail = pd.merge(muni16_group,muni09,on = 'STOP_ID',how = 'outer',suffixes = ('_09','_16'))"
   ]
  },
  {
   "cell_type": "code",
   "execution_count": 113,
   "metadata": {
    "collapsed": false
   },
   "outputs": [
    {
     "data": {
      "text/html": [
       "<div>\n",
       "<table border=\"1\" class=\"dataframe\">\n",
       "  <thead>\n",
       "    <tr style=\"text-align: right;\">\n",
       "      <th></th>\n",
       "      <th>STOP_ID</th>\n",
       "      <th>LON</th>\n",
       "      <th>Alightings_09</th>\n",
       "      <th>LAT</th>\n",
       "      <th>Boardings_09</th>\n",
       "      <th>STOP_NAME</th>\n",
       "      <th>Boardings_16</th>\n",
       "      <th>Alightings_16</th>\n",
       "      <th>DIFF</th>\n",
       "      <th>P_DIFF</th>\n",
       "      <th>P_DIFF_STR</th>\n",
       "    </tr>\n",
       "  </thead>\n",
       "  <tbody>\n",
       "    <tr>\n",
       "      <th>0</th>\n",
       "      <td>3212</td>\n",
       "      <td>-122.466240</td>\n",
       "      <td>292.4</td>\n",
       "      <td>37.763912</td>\n",
       "      <td>1046.3</td>\n",
       "      <td>9th Ave &amp; Irving St</td>\n",
       "      <td>1223.0</td>\n",
       "      <td>270.0</td>\n",
       "      <td>177.0</td>\n",
       "      <td>17.0</td>\n",
       "      <td>17.0%</td>\n",
       "    </tr>\n",
       "    <tr>\n",
       "      <th>1</th>\n",
       "      <td>3266</td>\n",
       "      <td>-122.471300</td>\n",
       "      <td>313.8</td>\n",
       "      <td>37.743122</td>\n",
       "      <td>119.6</td>\n",
       "      <td>15th Ave &amp; Taraval St</td>\n",
       "      <td>77.0</td>\n",
       "      <td>255.0</td>\n",
       "      <td>-43.0</td>\n",
       "      <td>-36.0</td>\n",
       "      <td>-36.0%</td>\n",
       "    </tr>\n",
       "    <tr>\n",
       "      <th>2</th>\n",
       "      <td>3267</td>\n",
       "      <td>-122.471405</td>\n",
       "      <td>92.3</td>\n",
       "      <td>37.743070</td>\n",
       "      <td>240.7</td>\n",
       "      <td>15th Ave &amp; Taraval St</td>\n",
       "      <td>280.0</td>\n",
       "      <td>77.0</td>\n",
       "      <td>39.0</td>\n",
       "      <td>16.0</td>\n",
       "      <td>16.0%</td>\n",
       "    </tr>\n",
       "    <tr>\n",
       "      <th>3</th>\n",
       "      <td>3268</td>\n",
       "      <td>-122.471190</td>\n",
       "      <td>233.4</td>\n",
       "      <td>37.741524</td>\n",
       "      <td>16.5</td>\n",
       "      <td>15th Ave &amp; Ulloa St</td>\n",
       "      <td>22.0</td>\n",
       "      <td>111.0</td>\n",
       "      <td>6.0</td>\n",
       "      <td>36.0</td>\n",
       "      <td>36.0%</td>\n",
       "    </tr>\n",
       "    <tr>\n",
       "      <th>4</th>\n",
       "      <td>3269</td>\n",
       "      <td>-122.471300</td>\n",
       "      <td>23.3</td>\n",
       "      <td>37.741486</td>\n",
       "      <td>90.4</td>\n",
       "      <td>15th Ave &amp; Ulloa St</td>\n",
       "      <td>47.0</td>\n",
       "      <td>13.0</td>\n",
       "      <td>-43.0</td>\n",
       "      <td>-48.0</td>\n",
       "      <td>-48.0%</td>\n",
       "    </tr>\n",
       "  </tbody>\n",
       "</table>\n",
       "</div>"
      ],
      "text/plain": [
       "   STOP_ID         LON  Alightings_09        LAT  Boardings_09  \\\n",
       "0     3212 -122.466240          292.4  37.763912        1046.3   \n",
       "1     3266 -122.471300          313.8  37.743122         119.6   \n",
       "2     3267 -122.471405           92.3  37.743070         240.7   \n",
       "3     3268 -122.471190          233.4  37.741524          16.5   \n",
       "4     3269 -122.471300           23.3  37.741486          90.4   \n",
       "\n",
       "               STOP_NAME  Boardings_16  Alightings_16   DIFF  P_DIFF  \\\n",
       "0    9th Ave & Irving St        1223.0          270.0  177.0    17.0   \n",
       "1  15th Ave & Taraval St          77.0          255.0  -43.0   -36.0   \n",
       "2  15th Ave & Taraval St         280.0           77.0   39.0    16.0   \n",
       "3    15th Ave & Ulloa St          22.0          111.0    6.0    36.0   \n",
       "4    15th Ave & Ulloa St          47.0           13.0  -43.0   -48.0   \n",
       "\n",
       "  P_DIFF_STR  \n",
       "0      17.0%  \n",
       "1     -36.0%  \n",
       "2      16.0%  \n",
       "3      36.0%  \n",
       "4     -48.0%  "
      ]
     },
     "execution_count": 113,
     "metadata": {},
     "output_type": "execute_result"
    }
   ],
   "source": [
    "rail = rail.fillna(0)\n",
    "rail.head()"
   ]
  },
  {
   "cell_type": "code",
   "execution_count": 114,
   "metadata": {
    "collapsed": false
   },
   "outputs": [],
   "source": [
    "rail['DIFF'] = round(rail['Boardings_16'].astype(float) - rail['Boardings_09'].astype(float))"
   ]
  },
  {
   "cell_type": "code",
   "execution_count": 115,
   "metadata": {
    "collapsed": false
   },
   "outputs": [],
   "source": [
    "rail['P_DIFF'] = round((rail['DIFF']/rail['Boardings_09'].astype(float))*100)"
   ]
  },
  {
   "cell_type": "code",
   "execution_count": 116,
   "metadata": {
    "collapsed": true
   },
   "outputs": [],
   "source": [
    "rail['P_DIFF_STR'] = rail['P_DIFF'].apply(lambda value: str(value) + '%')"
   ]
  },
  {
   "cell_type": "code",
   "execution_count": 117,
   "metadata": {
    "collapsed": false
   },
   "outputs": [
    {
     "data": {
      "text/html": [
       "<div>\n",
       "<table border=\"1\" class=\"dataframe\">\n",
       "  <thead>\n",
       "    <tr style=\"text-align: right;\">\n",
       "      <th></th>\n",
       "      <th>STOP_ID</th>\n",
       "      <th>LON</th>\n",
       "      <th>Alightings_09</th>\n",
       "      <th>LAT</th>\n",
       "      <th>Boardings_09</th>\n",
       "      <th>STOP_NAME</th>\n",
       "      <th>Boardings_16</th>\n",
       "      <th>Alightings_16</th>\n",
       "      <th>DIFF</th>\n",
       "      <th>P_DIFF</th>\n",
       "      <th>P_DIFF_STR</th>\n",
       "    </tr>\n",
       "  </thead>\n",
       "  <tbody>\n",
       "    <tr>\n",
       "      <th>0</th>\n",
       "      <td>3212</td>\n",
       "      <td>-122.466240</td>\n",
       "      <td>292.4</td>\n",
       "      <td>37.763912</td>\n",
       "      <td>1046.3</td>\n",
       "      <td>9th Ave &amp; Irving St</td>\n",
       "      <td>1223.0</td>\n",
       "      <td>270.0</td>\n",
       "      <td>177.0</td>\n",
       "      <td>17.0</td>\n",
       "      <td>17.0%</td>\n",
       "    </tr>\n",
       "    <tr>\n",
       "      <th>1</th>\n",
       "      <td>3266</td>\n",
       "      <td>-122.471300</td>\n",
       "      <td>313.8</td>\n",
       "      <td>37.743122</td>\n",
       "      <td>119.6</td>\n",
       "      <td>15th Ave &amp; Taraval St</td>\n",
       "      <td>77.0</td>\n",
       "      <td>255.0</td>\n",
       "      <td>-43.0</td>\n",
       "      <td>-36.0</td>\n",
       "      <td>-36.0%</td>\n",
       "    </tr>\n",
       "    <tr>\n",
       "      <th>2</th>\n",
       "      <td>3267</td>\n",
       "      <td>-122.471405</td>\n",
       "      <td>92.3</td>\n",
       "      <td>37.743070</td>\n",
       "      <td>240.7</td>\n",
       "      <td>15th Ave &amp; Taraval St</td>\n",
       "      <td>280.0</td>\n",
       "      <td>77.0</td>\n",
       "      <td>39.0</td>\n",
       "      <td>16.0</td>\n",
       "      <td>16.0%</td>\n",
       "    </tr>\n",
       "    <tr>\n",
       "      <th>3</th>\n",
       "      <td>3268</td>\n",
       "      <td>-122.471190</td>\n",
       "      <td>233.4</td>\n",
       "      <td>37.741524</td>\n",
       "      <td>16.5</td>\n",
       "      <td>15th Ave &amp; Ulloa St</td>\n",
       "      <td>22.0</td>\n",
       "      <td>111.0</td>\n",
       "      <td>6.0</td>\n",
       "      <td>36.0</td>\n",
       "      <td>36.0%</td>\n",
       "    </tr>\n",
       "    <tr>\n",
       "      <th>4</th>\n",
       "      <td>3269</td>\n",
       "      <td>-122.471300</td>\n",
       "      <td>23.3</td>\n",
       "      <td>37.741486</td>\n",
       "      <td>90.4</td>\n",
       "      <td>15th Ave &amp; Ulloa St</td>\n",
       "      <td>47.0</td>\n",
       "      <td>13.0</td>\n",
       "      <td>-43.0</td>\n",
       "      <td>-48.0</td>\n",
       "      <td>-48.0%</td>\n",
       "    </tr>\n",
       "  </tbody>\n",
       "</table>\n",
       "</div>"
      ],
      "text/plain": [
       "   STOP_ID         LON  Alightings_09        LAT  Boardings_09  \\\n",
       "0     3212 -122.466240          292.4  37.763912        1046.3   \n",
       "1     3266 -122.471300          313.8  37.743122         119.6   \n",
       "2     3267 -122.471405           92.3  37.743070         240.7   \n",
       "3     3268 -122.471190          233.4  37.741524          16.5   \n",
       "4     3269 -122.471300           23.3  37.741486          90.4   \n",
       "\n",
       "               STOP_NAME  Boardings_16  Alightings_16   DIFF  P_DIFF  \\\n",
       "0    9th Ave & Irving St        1223.0          270.0  177.0    17.0   \n",
       "1  15th Ave & Taraval St          77.0          255.0  -43.0   -36.0   \n",
       "2  15th Ave & Taraval St         280.0           77.0   39.0    16.0   \n",
       "3    15th Ave & Ulloa St          22.0          111.0    6.0    36.0   \n",
       "4    15th Ave & Ulloa St          47.0           13.0  -43.0   -48.0   \n",
       "\n",
       "  P_DIFF_STR  \n",
       "0      17.0%  \n",
       "1     -36.0%  \n",
       "2      16.0%  \n",
       "3      36.0%  \n",
       "4     -48.0%  "
      ]
     },
     "execution_count": 117,
     "metadata": {},
     "output_type": "execute_result"
    }
   ],
   "source": [
    "rail.head()"
   ]
  },
  {
   "cell_type": "code",
   "execution_count": 118,
   "metadata": {
    "collapsed": false
   },
   "outputs": [],
   "source": [
    "rail.to_csv('E:/Transit-Casa-Alex/Output/Processed MUNI Rail/MUNI_Rail_Map_Data.csv')"
   ]
  },
  {
   "cell_type": "code",
   "execution_count": null,
   "metadata": {
    "collapsed": false
   },
   "outputs": [],
   "source": []
  },
  {
   "cell_type": "code",
   "execution_count": null,
   "metadata": {
    "collapsed": true
   },
   "outputs": [],
   "source": []
  }
 ],
 "metadata": {
  "anaconda-cloud": {},
  "kernelspec": {
   "display_name": "Python [conda root]",
   "language": "python",
   "name": "conda-root-py"
  },
  "language_info": {
   "codemirror_mode": {
    "name": "ipython",
    "version": 3
   },
   "file_extension": ".py",
   "mimetype": "text/x-python",
   "name": "python",
   "nbconvert_exporter": "python",
   "pygments_lexer": "ipython3",
   "version": "3.5.2"
  }
 },
 "nbformat": 4,
 "nbformat_minor": 1
}
