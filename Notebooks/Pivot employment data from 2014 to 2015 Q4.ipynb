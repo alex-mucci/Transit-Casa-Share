{
 "cells": [
  {
   "cell_type": "code",
   "execution_count": 23,
   "metadata": {
    "collapsed": true
   },
   "outputs": [],
   "source": [
    "import pandas as pd\n",
    "import geopandas as gp\n",
    "import seaborn as sns\n",
    "import numpy as np\n",
    "\n",
    "%matplotlib inline\n",
    "pd.set_option('max_columns',500)"
   ]
  },
  {
   "cell_type": "code",
   "execution_count": 81,
   "metadata": {
    "collapsed": false
   },
   "outputs": [],
   "source": [
    "edd15 = gp.read_file('E:\\Transit-Casa-Alex\\Input\\EDD\\EDD_SF_JOBS_2009-2015\\SF_JOBS_2009-2015/SF_JOBS_2015_Q4.shp')\n",
    "edd14 = gp.read_file('E:\\Transit-Casa-Alex\\Input\\EDD\\EDD_SF_JOBS_2009-2015\\SF_JOBS_2009-2015/SF_JOBS_2014_Q4.shp')\n",
    "edd09 = gp.read_file('E:\\Transit-Casa-Alex\\Input\\EDD\\EDD_SF_JOBS_2009-2015\\SF_JOBS_2009-2015/SF_JOBS_2009_Q4.shp')"
   ]
  },
  {
   "cell_type": "code",
   "execution_count": 7,
   "metadata": {
    "collapsed": false
   },
   "outputs": [
    {
     "data": {
      "text/html": [
       "<div>\n",
       "<table border=\"1\" class=\"dataframe\">\n",
       "  <thead>\n",
       "    <tr style=\"text-align: right;\">\n",
       "      <th></th>\n",
       "      <th>Landuse</th>\n",
       "      <th>Q4_AVG</th>\n",
       "      <th>geometry</th>\n",
       "      <th>latitude</th>\n",
       "      <th>longitude</th>\n",
       "      <th>month1Empl</th>\n",
       "      <th>month2Empl</th>\n",
       "      <th>month3Empl</th>\n",
       "      <th>naics</th>\n",
       "      <th>quarter</th>\n",
       "      <th>year</th>\n",
       "    </tr>\n",
       "  </thead>\n",
       "  <tbody>\n",
       "    <tr>\n",
       "      <th>0</th>\n",
       "      <td>PDR</td>\n",
       "      <td>4</td>\n",
       "      <td>POINT (-122.399621 37.794498)</td>\n",
       "      <td>37.794498</td>\n",
       "      <td>-122.399621</td>\n",
       "      <td>3</td>\n",
       "      <td>4</td>\n",
       "      <td>4</td>\n",
       "      <td>491110</td>\n",
       "      <td>4</td>\n",
       "      <td>2015</td>\n",
       "    </tr>\n",
       "    <tr>\n",
       "      <th>1</th>\n",
       "      <td>PDR</td>\n",
       "      <td>2</td>\n",
       "      <td>POINT (-122.428266 37.772318)</td>\n",
       "      <td>37.772318</td>\n",
       "      <td>-122.428266</td>\n",
       "      <td>2</td>\n",
       "      <td>1</td>\n",
       "      <td>2</td>\n",
       "      <td>491110</td>\n",
       "      <td>4</td>\n",
       "      <td>2015</td>\n",
       "    </tr>\n",
       "    <tr>\n",
       "      <th>2</th>\n",
       "      <td>PDR</td>\n",
       "      <td>4</td>\n",
       "      <td>POINT (-122.416618 37.753977)</td>\n",
       "      <td>37.753977</td>\n",
       "      <td>-122.416618</td>\n",
       "      <td>4</td>\n",
       "      <td>4</td>\n",
       "      <td>4</td>\n",
       "      <td>491110</td>\n",
       "      <td>4</td>\n",
       "      <td>2015</td>\n",
       "    </tr>\n",
       "    <tr>\n",
       "      <th>3</th>\n",
       "      <td>PDR</td>\n",
       "      <td>1605</td>\n",
       "      <td>POINT (-122.382437 37.739746)</td>\n",
       "      <td>37.739746</td>\n",
       "      <td>-122.382437</td>\n",
       "      <td>1573</td>\n",
       "      <td>1565</td>\n",
       "      <td>1677</td>\n",
       "      <td>491110</td>\n",
       "      <td>4</td>\n",
       "      <td>2015</td>\n",
       "    </tr>\n",
       "    <tr>\n",
       "      <th>4</th>\n",
       "      <td>PDR</td>\n",
       "      <td>2</td>\n",
       "      <td>POINT (-122.480139 37.763121)</td>\n",
       "      <td>37.763121</td>\n",
       "      <td>-122.480139</td>\n",
       "      <td>2</td>\n",
       "      <td>2</td>\n",
       "      <td>2</td>\n",
       "      <td>491110</td>\n",
       "      <td>4</td>\n",
       "      <td>2015</td>\n",
       "    </tr>\n",
       "  </tbody>\n",
       "</table>\n",
       "</div>"
      ],
      "text/plain": [
       "  Landuse  Q4_AVG                       geometry   latitude   longitude  \\\n",
       "0     PDR       4  POINT (-122.399621 37.794498)  37.794498 -122.399621   \n",
       "1     PDR       2  POINT (-122.428266 37.772318)  37.772318 -122.428266   \n",
       "2     PDR       4  POINT (-122.416618 37.753977)  37.753977 -122.416618   \n",
       "3     PDR    1605  POINT (-122.382437 37.739746)  37.739746 -122.382437   \n",
       "4     PDR       2  POINT (-122.480139 37.763121)  37.763121 -122.480139   \n",
       "\n",
       "   month1Empl  month2Empl  month3Empl   naics  quarter  year  \n",
       "0           3           4           4  491110        4  2015  \n",
       "1           2           1           2  491110        4  2015  \n",
       "2           4           4           4  491110        4  2015  \n",
       "3        1573        1565        1677  491110        4  2015  \n",
       "4           2           2           2  491110        4  2015  "
      ]
     },
     "execution_count": 7,
     "metadata": {},
     "output_type": "execute_result"
    }
   ],
   "source": [
    "edd15.head()"
   ]
  },
  {
   "cell_type": "code",
   "execution_count": 8,
   "metadata": {
    "collapsed": false
   },
   "outputs": [
    {
     "data": {
      "text/html": [
       "<div>\n",
       "<table border=\"1\" class=\"dataframe\">\n",
       "  <thead>\n",
       "    <tr style=\"text-align: right;\">\n",
       "      <th></th>\n",
       "      <th>Landuse</th>\n",
       "      <th>Q4_AVG</th>\n",
       "      <th>geometry</th>\n",
       "      <th>latitude</th>\n",
       "      <th>longitude</th>\n",
       "      <th>month1Empl</th>\n",
       "      <th>month2Empl</th>\n",
       "      <th>month3Empl</th>\n",
       "      <th>naics</th>\n",
       "      <th>quarter</th>\n",
       "      <th>year</th>\n",
       "    </tr>\n",
       "  </thead>\n",
       "  <tbody>\n",
       "    <tr>\n",
       "      <th>0</th>\n",
       "      <td>PDR</td>\n",
       "      <td>3</td>\n",
       "      <td>POINT (-122.399621 37.794498)</td>\n",
       "      <td>37.794498</td>\n",
       "      <td>-122.399621</td>\n",
       "      <td>4</td>\n",
       "      <td>3</td>\n",
       "      <td>3</td>\n",
       "      <td>491110</td>\n",
       "      <td>4</td>\n",
       "      <td>2014</td>\n",
       "    </tr>\n",
       "    <tr>\n",
       "      <th>1</th>\n",
       "      <td>PDR</td>\n",
       "      <td>3</td>\n",
       "      <td>POINT (-122.428266 37.772318)</td>\n",
       "      <td>37.772318</td>\n",
       "      <td>-122.428266</td>\n",
       "      <td>3</td>\n",
       "      <td>3</td>\n",
       "      <td>3</td>\n",
       "      <td>491110</td>\n",
       "      <td>4</td>\n",
       "      <td>2014</td>\n",
       "    </tr>\n",
       "    <tr>\n",
       "      <th>2</th>\n",
       "      <td>PDR</td>\n",
       "      <td>4</td>\n",
       "      <td>POINT (-122.416618 37.753977)</td>\n",
       "      <td>37.753977</td>\n",
       "      <td>-122.416618</td>\n",
       "      <td>4</td>\n",
       "      <td>4</td>\n",
       "      <td>4</td>\n",
       "      <td>491110</td>\n",
       "      <td>4</td>\n",
       "      <td>2014</td>\n",
       "    </tr>\n",
       "    <tr>\n",
       "      <th>3</th>\n",
       "      <td>PDR</td>\n",
       "      <td>1604</td>\n",
       "      <td>POINT (-122.382745 37.73993)</td>\n",
       "      <td>37.739930</td>\n",
       "      <td>-122.382745</td>\n",
       "      <td>1582</td>\n",
       "      <td>1597</td>\n",
       "      <td>1634</td>\n",
       "      <td>491110</td>\n",
       "      <td>4</td>\n",
       "      <td>2014</td>\n",
       "    </tr>\n",
       "    <tr>\n",
       "      <th>4</th>\n",
       "      <td>PDR</td>\n",
       "      <td>2</td>\n",
       "      <td>POINT (-122.480139 37.763121)</td>\n",
       "      <td>37.763121</td>\n",
       "      <td>-122.480139</td>\n",
       "      <td>2</td>\n",
       "      <td>2</td>\n",
       "      <td>2</td>\n",
       "      <td>491110</td>\n",
       "      <td>4</td>\n",
       "      <td>2014</td>\n",
       "    </tr>\n",
       "  </tbody>\n",
       "</table>\n",
       "</div>"
      ],
      "text/plain": [
       "  Landuse  Q4_AVG                       geometry   latitude   longitude  \\\n",
       "0     PDR       3  POINT (-122.399621 37.794498)  37.794498 -122.399621   \n",
       "1     PDR       3  POINT (-122.428266 37.772318)  37.772318 -122.428266   \n",
       "2     PDR       4  POINT (-122.416618 37.753977)  37.753977 -122.416618   \n",
       "3     PDR    1604   POINT (-122.382745 37.73993)  37.739930 -122.382745   \n",
       "4     PDR       2  POINT (-122.480139 37.763121)  37.763121 -122.480139   \n",
       "\n",
       "   month1Empl  month2Empl  month3Empl   naics  quarter  year  \n",
       "0           4           3           3  491110        4  2014  \n",
       "1           3           3           3  491110        4  2014  \n",
       "2           4           4           4  491110        4  2014  \n",
       "3        1582        1597        1634  491110        4  2014  \n",
       "4           2           2           2  491110        4  2014  "
      ]
     },
     "execution_count": 8,
     "metadata": {},
     "output_type": "execute_result"
    }
   ],
   "source": [
    "edd14.head()"
   ]
  },
  {
   "cell_type": "code",
   "execution_count": 9,
   "metadata": {
    "collapsed": true
   },
   "outputs": [],
   "source": [
    "blocks = gp.read_file('E:/Transit-Casa-Alex/Output/Census Block Data/Census_Block_Data.shp')"
   ]
  },
  {
   "cell_type": "code",
   "execution_count": 11,
   "metadata": {
    "collapsed": false
   },
   "outputs": [],
   "source": [
    "blocks.crs = {'init':'epsg:4269'}"
   ]
  },
  {
   "cell_type": "code",
   "execution_count": 13,
   "metadata": {
    "collapsed": false
   },
   "outputs": [],
   "source": [
    "edd15 = edd15.to_crs(blocks.crs)"
   ]
  },
  {
   "cell_type": "code",
   "execution_count": 14,
   "metadata": {
    "collapsed": true
   },
   "outputs": [],
   "source": [
    "edd14 = edd14.to_crs(blocks.crs)"
   ]
  },
  {
   "cell_type": "code",
   "execution_count": 17,
   "metadata": {
    "collapsed": false
   },
   "outputs": [],
   "source": [
    "emp14 = gp.sjoin(blocks,edd14[['geometry','Q4_AVG']],how = 'left')"
   ]
  },
  {
   "cell_type": "code",
   "execution_count": 18,
   "metadata": {
    "collapsed": true
   },
   "outputs": [],
   "source": [
    "emp15 = gp.sjoin(blocks,edd15[['geometry','Q4_AVG']],how = 'left')"
   ]
  },
  {
   "cell_type": "code",
   "execution_count": 41,
   "metadata": {
    "collapsed": false
   },
   "outputs": [],
   "source": [
    "diff14 = emp14[['BLOCK_ID','Q4_AVG','EMP_WAC']].groupby(by= 'BLOCK_ID',as_index = False).agg({'EMP_WAC':'first',\n",
    "                                                                                              'Q4_AVG':'sum'})"
   ]
  },
  {
   "cell_type": "code",
   "execution_count": 42,
   "metadata": {
    "collapsed": false
   },
   "outputs": [
    {
     "data": {
      "text/html": [
       "<div>\n",
       "<table border=\"1\" class=\"dataframe\">\n",
       "  <thead>\n",
       "    <tr style=\"text-align: right;\">\n",
       "      <th></th>\n",
       "      <th>BLOCK_ID</th>\n",
       "      <th>EMP_WAC</th>\n",
       "      <th>Q4_AVG</th>\n",
       "    </tr>\n",
       "  </thead>\n",
       "  <tbody>\n",
       "    <tr>\n",
       "      <th>0</th>\n",
       "      <td>6.075010e+13</td>\n",
       "      <td>793.0</td>\n",
       "      <td>300.0</td>\n",
       "    </tr>\n",
       "    <tr>\n",
       "      <th>1</th>\n",
       "      <td>6.075010e+13</td>\n",
       "      <td>408.0</td>\n",
       "      <td>326.0</td>\n",
       "    </tr>\n",
       "    <tr>\n",
       "      <th>2</th>\n",
       "      <td>6.075010e+13</td>\n",
       "      <td>131.0</td>\n",
       "      <td>405.0</td>\n",
       "    </tr>\n",
       "    <tr>\n",
       "      <th>3</th>\n",
       "      <td>6.075010e+13</td>\n",
       "      <td>140.0</td>\n",
       "      <td>184.0</td>\n",
       "    </tr>\n",
       "    <tr>\n",
       "      <th>4</th>\n",
       "      <td>6.075010e+13</td>\n",
       "      <td>281.0</td>\n",
       "      <td>522.0</td>\n",
       "    </tr>\n",
       "  </tbody>\n",
       "</table>\n",
       "</div>"
      ],
      "text/plain": [
       "       BLOCK_ID  EMP_WAC  Q4_AVG\n",
       "0  6.075010e+13    793.0   300.0\n",
       "1  6.075010e+13    408.0   326.0\n",
       "2  6.075010e+13    131.0   405.0\n",
       "3  6.075010e+13    140.0   184.0\n",
       "4  6.075010e+13    281.0   522.0"
      ]
     },
     "execution_count": 42,
     "metadata": {},
     "output_type": "execute_result"
    }
   ],
   "source": [
    "diff14.head()"
   ]
  },
  {
   "cell_type": "code",
   "execution_count": 43,
   "metadata": {
    "collapsed": false
   },
   "outputs": [
    {
     "data": {
      "text/plain": [
       "60750101001004.0"
      ]
     },
     "execution_count": 43,
     "metadata": {},
     "output_type": "execute_result"
    }
   ],
   "source": [
    "diff14.BLOCK_ID[1]"
   ]
  },
  {
   "cell_type": "code",
   "execution_count": 44,
   "metadata": {
    "collapsed": true
   },
   "outputs": [],
   "source": [
    "diff14['DIFF'] = diff14['Q4_AVG'] - diff14['EMP_WAC']"
   ]
  },
  {
   "cell_type": "code",
   "execution_count": 45,
   "metadata": {
    "collapsed": false
   },
   "outputs": [
    {
     "data": {
      "text/html": [
       "<div>\n",
       "<table border=\"1\" class=\"dataframe\">\n",
       "  <thead>\n",
       "    <tr style=\"text-align: right;\">\n",
       "      <th></th>\n",
       "      <th>BLOCK_ID</th>\n",
       "      <th>EMP_WAC</th>\n",
       "      <th>Q4_AVG</th>\n",
       "      <th>DIFF</th>\n",
       "    </tr>\n",
       "  </thead>\n",
       "  <tbody>\n",
       "    <tr>\n",
       "      <th>0</th>\n",
       "      <td>6.075010e+13</td>\n",
       "      <td>793.0</td>\n",
       "      <td>300.0</td>\n",
       "      <td>-493.0</td>\n",
       "    </tr>\n",
       "    <tr>\n",
       "      <th>1</th>\n",
       "      <td>6.075010e+13</td>\n",
       "      <td>408.0</td>\n",
       "      <td>326.0</td>\n",
       "      <td>-82.0</td>\n",
       "    </tr>\n",
       "    <tr>\n",
       "      <th>2</th>\n",
       "      <td>6.075010e+13</td>\n",
       "      <td>131.0</td>\n",
       "      <td>405.0</td>\n",
       "      <td>274.0</td>\n",
       "    </tr>\n",
       "    <tr>\n",
       "      <th>3</th>\n",
       "      <td>6.075010e+13</td>\n",
       "      <td>140.0</td>\n",
       "      <td>184.0</td>\n",
       "      <td>44.0</td>\n",
       "    </tr>\n",
       "    <tr>\n",
       "      <th>4</th>\n",
       "      <td>6.075010e+13</td>\n",
       "      <td>281.0</td>\n",
       "      <td>522.0</td>\n",
       "      <td>241.0</td>\n",
       "    </tr>\n",
       "  </tbody>\n",
       "</table>\n",
       "</div>"
      ],
      "text/plain": [
       "       BLOCK_ID  EMP_WAC  Q4_AVG   DIFF\n",
       "0  6.075010e+13    793.0   300.0 -493.0\n",
       "1  6.075010e+13    408.0   326.0  -82.0\n",
       "2  6.075010e+13    131.0   405.0  274.0\n",
       "3  6.075010e+13    140.0   184.0   44.0\n",
       "4  6.075010e+13    281.0   522.0  241.0"
      ]
     },
     "execution_count": 45,
     "metadata": {},
     "output_type": "execute_result"
    }
   ],
   "source": [
    "diff14.head()"
   ]
  },
  {
   "cell_type": "code",
   "execution_count": 46,
   "metadata": {
    "collapsed": false
   },
   "outputs": [
    {
     "data": {
      "text/plain": [
       "-18596.0"
      ]
     },
     "execution_count": 46,
     "metadata": {},
     "output_type": "execute_result"
    }
   ],
   "source": [
    "min(diff14.DIFF)"
   ]
  },
  {
   "cell_type": "code",
   "execution_count": 61,
   "metadata": {
    "collapsed": false
   },
   "outputs": [
    {
     "data": {
      "text/plain": [
       "15642.0"
      ]
     },
     "execution_count": 61,
     "metadata": {},
     "output_type": "execute_result"
    }
   ],
   "source": [
    "max(diff14.DIFF)"
   ]
  },
  {
   "cell_type": "code",
   "execution_count": 56,
   "metadata": {
    "collapsed": false
   },
   "outputs": [],
   "source": [
    "counts = diff14.DIFF.value_counts()"
   ]
  },
  {
   "cell_type": "code",
   "execution_count": null,
   "metadata": {
    "collapsed": true
   },
   "outputs": [],
   "source": [
    "diff14.DIFF.value_counts().sort"
   ]
  },
  {
   "cell_type": "code",
   "execution_count": 48,
   "metadata": {
    "collapsed": false
   },
   "outputs": [
    {
     "data": {
      "text/plain": [
       "20035.0"
      ]
     },
     "execution_count": 48,
     "metadata": {},
     "output_type": "execute_result"
    }
   ],
   "source": [
    "max(diff14.EMP_WAC)"
   ]
  },
  {
   "cell_type": "code",
   "execution_count": 49,
   "metadata": {
    "collapsed": false
   },
   "outputs": [
    {
     "data": {
      "text/plain": [
       "20035.0"
      ]
     },
     "execution_count": 49,
     "metadata": {},
     "output_type": "execute_result"
    }
   ],
   "source": [
    "max(blocks.EMP_WAC)"
   ]
  },
  {
   "cell_type": "code",
   "execution_count": 59,
   "metadata": {
    "collapsed": true
   },
   "outputs": [],
   "source": []
  },
  {
   "cell_type": "code",
   "execution_count": 60,
   "metadata": {
    "collapsed": false
   },
   "outputs": [
    {
     "data": {
      "text/plain": [
       "<matplotlib.axes._subplots.AxesSubplot at 0x13699886710>"
      ]
     },
     "execution_count": 60,
     "metadata": {},
     "output_type": "execute_result"
    },
    {
     "data": {
      "image/png": "[encoded data removed]",
      "text/plain": [
       "<matplotlib.figure.Figure at 0x1369971ea90>"
      ]
     },
     "metadata": {},
     "output_type": "display_data"
    }
   ],
   "source": [
    "sns.distplot(counts)"
   ]
  },
  {
   "cell_type": "code",
   "execution_count": 63,
   "metadata": {
    "collapsed": false
   },
   "outputs": [],
   "source": []
  },
  {
   "cell_type": "code",
   "execution_count": 70,
   "metadata": {
    "collapsed": false
   },
   "outputs": [
    {
     "data": {
      "text/plain": [
       "181.94999999999959"
      ]
     },
     "execution_count": 70,
     "metadata": {},
     "output_type": "execute_result"
    }
   ],
   "source": [
    "np.percentile(counts,99)"
   ]
  },
  {
   "cell_type": "code",
   "execution_count": 68,
   "metadata": {
    "collapsed": false
   },
   "outputs": [
    {
     "data": {
      "text/plain": [
       "31.0"
      ]
     },
     "execution_count": 68,
     "metadata": {},
     "output_type": "execute_result"
    }
   ],
   "source": [
    "np.percentile(counts,95)"
   ]
  },
  {
   "cell_type": "code",
   "execution_count": 72,
   "metadata": {
    "collapsed": false
   },
   "outputs": [
    {
     "data": {
      "text/html": [
       "<div>\n",
       "<table border=\"1\" class=\"dataframe\">\n",
       "  <thead>\n",
       "    <tr style=\"text-align: right;\">\n",
       "      <th></th>\n",
       "      <th>Landuse</th>\n",
       "      <th>NAICS</th>\n",
       "      <th>Q4AVG</th>\n",
       "      <th>geometry</th>\n",
       "      <th>latitude</th>\n",
       "      <th>longitude</th>\n",
       "      <th>month1empl</th>\n",
       "      <th>month2empl</th>\n",
       "      <th>month3empl</th>\n",
       "      <th>quarter</th>\n",
       "      <th>year</th>\n",
       "    </tr>\n",
       "  </thead>\n",
       "  <tbody>\n",
       "    <tr>\n",
       "      <th>0</th>\n",
       "      <td>PDR</td>\n",
       "      <td>491110</td>\n",
       "      <td>8</td>\n",
       "      <td>POINT (-122.40005 37.794474)</td>\n",
       "      <td>37.794474</td>\n",
       "      <td>-122.400050</td>\n",
       "      <td>8</td>\n",
       "      <td>8</td>\n",
       "      <td>8</td>\n",
       "      <td>4</td>\n",
       "      <td>2009</td>\n",
       "    </tr>\n",
       "    <tr>\n",
       "      <th>1</th>\n",
       "      <td>PDR</td>\n",
       "      <td>491110</td>\n",
       "      <td>6</td>\n",
       "      <td>POINT (-122.415716 37.78178)</td>\n",
       "      <td>37.781780</td>\n",
       "      <td>-122.415716</td>\n",
       "      <td>6</td>\n",
       "      <td>6</td>\n",
       "      <td>5</td>\n",
       "      <td>4</td>\n",
       "      <td>2009</td>\n",
       "    </tr>\n",
       "    <tr>\n",
       "      <th>2</th>\n",
       "      <td>PDR</td>\n",
       "      <td>491110</td>\n",
       "      <td>6</td>\n",
       "      <td>POINT (-122.4166 37.754113)</td>\n",
       "      <td>37.754113</td>\n",
       "      <td>-122.416600</td>\n",
       "      <td>7</td>\n",
       "      <td>6</td>\n",
       "      <td>6</td>\n",
       "      <td>4</td>\n",
       "      <td>2009</td>\n",
       "    </tr>\n",
       "    <tr>\n",
       "      <th>3</th>\n",
       "      <td>PDR</td>\n",
       "      <td>491110</td>\n",
       "      <td>125</td>\n",
       "      <td>POINT (-122.476051 37.752254)</td>\n",
       "      <td>37.752254</td>\n",
       "      <td>-122.476051</td>\n",
       "      <td>133</td>\n",
       "      <td>122</td>\n",
       "      <td>120</td>\n",
       "      <td>4</td>\n",
       "      <td>2009</td>\n",
       "    </tr>\n",
       "    <tr>\n",
       "      <th>4</th>\n",
       "      <td>PDR</td>\n",
       "      <td>491110</td>\n",
       "      <td>2213</td>\n",
       "      <td>POINT (-122.38219 37.739735)</td>\n",
       "      <td>37.739735</td>\n",
       "      <td>-122.382190</td>\n",
       "      <td>2352</td>\n",
       "      <td>2220</td>\n",
       "      <td>2068</td>\n",
       "      <td>4</td>\n",
       "      <td>2009</td>\n",
       "    </tr>\n",
       "  </tbody>\n",
       "</table>\n",
       "</div>"
      ],
      "text/plain": [
       "  Landuse   NAICS  Q4AVG                       geometry   latitude  \\\n",
       "0     PDR  491110      8   POINT (-122.40005 37.794474)  37.794474   \n",
       "1     PDR  491110      6   POINT (-122.415716 37.78178)  37.781780   \n",
       "2     PDR  491110      6    POINT (-122.4166 37.754113)  37.754113   \n",
       "3     PDR  491110    125  POINT (-122.476051 37.752254)  37.752254   \n",
       "4     PDR  491110   2213   POINT (-122.38219 37.739735)  37.739735   \n",
       "\n",
       "    longitude  month1empl  month2empl  month3empl quarter  year  \n",
       "0 -122.400050           8           8           8       4  2009  \n",
       "1 -122.415716           6           6           5       4  2009  \n",
       "2 -122.416600           7           6           6       4  2009  \n",
       "3 -122.476051         133         122         120       4  2009  \n",
       "4 -122.382190        2352        2220        2068       4  2009  "
      ]
     },
     "execution_count": 72,
     "metadata": {},
     "output_type": "execute_result"
    }
   ],
   "source": [
    "emp09.head()"
   ]
  },
  {
   "cell_type": "code",
   "execution_count": 112,
   "metadata": {
    "collapsed": false
   },
   "outputs": [],
   "source": [
    "lehd09 = gp.read_file('E:/Transit-Casa-Alex/Input/LEHD Census Blocks/2009/San Francisco County/075_Employment.shp')"
   ]
  },
  {
   "cell_type": "code",
   "execution_count": 113,
   "metadata": {
    "collapsed": true
   },
   "outputs": [],
   "source": [
    "lehd14 = gp.read_file('E:/Transit-Casa-Alex/Input/LEHD Census Blocks/2014/San Fran/075_Employment.shp')"
   ]
  },
  {
   "cell_type": "code",
   "execution_count": 114,
   "metadata": {
    "collapsed": false
   },
   "outputs": [],
   "source": [
    "lehd09.crs = {'init':'epsg:4269'}"
   ]
  },
  {
   "cell_type": "code",
   "execution_count": 115,
   "metadata": {
    "collapsed": false
   },
   "outputs": [],
   "source": [
    "lehd14.crs = {'init':'epsg:4269'}"
   ]
  },
  {
   "cell_type": "code",
   "execution_count": 116,
   "metadata": {
    "collapsed": true
   },
   "outputs": [],
   "source": [
    "edd09 = edd09.to_crs(lehd09.crs)"
   ]
  },
  {
   "cell_type": "code",
   "execution_count": 117,
   "metadata": {
    "collapsed": false
   },
   "outputs": [],
   "source": [
    "edd14 = edd15.to_crs(lehd14.crs)"
   ]
  },
  {
   "cell_type": "code",
   "execution_count": 118,
   "metadata": {
    "collapsed": false
   },
   "outputs": [],
   "source": [
    "emp09 = gp.sjoin(lehd09,edd09[['geometry','Q4AVG']],how = 'left')"
   ]
  },
  {
   "cell_type": "code",
   "execution_count": 119,
   "metadata": {
    "collapsed": false
   },
   "outputs": [],
   "source": [
    "emp14 = gp.sjoin(lehd14,edd14[['geometry','Q4_AVG']],how = 'left')"
   ]
  },
  {
   "cell_type": "code",
   "execution_count": 120,
   "metadata": {
    "collapsed": false
   },
   "outputs": [
    {
     "data": {
      "text/html": [
       "<div>\n",
       "<table border=\"1\" class=\"dataframe\">\n",
       "  <thead>\n",
       "    <tr style=\"text-align: right;\">\n",
       "      <th></th>\n",
       "      <th>ALAND10</th>\n",
       "      <th>AWATER10</th>\n",
       "      <th>BLOCKCE10</th>\n",
       "      <th>BLOCK_ID</th>\n",
       "      <th>COUNTYFP10</th>\n",
       "      <th>EDHLTH_RAC</th>\n",
       "      <th>EDHLTH_WAC</th>\n",
       "      <th>EMP_RAC</th>\n",
       "      <th>EMP_WAC</th>\n",
       "      <th>FUNCSTAT10</th>\n",
       "      <th>GEOID10</th>\n",
       "      <th>INTPTLAT10</th>\n",
       "      <th>INTPTLON10</th>\n",
       "      <th>LEISER_RAC</th>\n",
       "      <th>LEISER_WAC</th>\n",
       "      <th>MTFCC10</th>\n",
       "      <th>NAME10</th>\n",
       "      <th>OTHER_RAC</th>\n",
       "      <th>OTHER_WAC</th>\n",
       "      <th>RETAIL_RAC</th>\n",
       "      <th>RETAIL_WAC</th>\n",
       "      <th>STATEFP10</th>\n",
       "      <th>TRACTCE10</th>\n",
       "      <th>UACE10</th>\n",
       "      <th>UATYP10</th>\n",
       "      <th>UR10</th>\n",
       "      <th>createda_1</th>\n",
       "      <th>createdate</th>\n",
       "      <th>geometry</th>\n",
       "      <th>h_geocode</th>\n",
       "      <th>w_geocode</th>\n",
       "      <th>index_right</th>\n",
       "      <th>Q4AVG</th>\n",
       "    </tr>\n",
       "  </thead>\n",
       "  <tbody>\n",
       "    <tr>\n",
       "      <th>0</th>\n",
       "      <td>16958</td>\n",
       "      <td>0</td>\n",
       "      <td>2002</td>\n",
       "      <td>6.075021e+13</td>\n",
       "      <td>075</td>\n",
       "      <td>16.0</td>\n",
       "      <td>7.0</td>\n",
       "      <td>61.0</td>\n",
       "      <td>7.0</td>\n",
       "      <td>S</td>\n",
       "      <td>2147483647</td>\n",
       "      <td>+37.7500665</td>\n",
       "      <td>-122.4410751</td>\n",
       "      <td>6.0</td>\n",
       "      <td>0.0</td>\n",
       "      <td>G5040</td>\n",
       "      <td>Block 2002</td>\n",
       "      <td>34.0</td>\n",
       "      <td>0.0</td>\n",
       "      <td>5.0</td>\n",
       "      <td>0.0</td>\n",
       "      <td>06</td>\n",
       "      <td>021300</td>\n",
       "      <td>78904</td>\n",
       "      <td>U</td>\n",
       "      <td>U</td>\n",
       "      <td>20160228.0</td>\n",
       "      <td>20160228.0</td>\n",
       "      <td>POLYGON ((-122.440616 37.750902, -122.440459 3...</td>\n",
       "      <td>6.075021e+13</td>\n",
       "      <td>6.075021e+13</td>\n",
       "      <td>21470.0</td>\n",
       "      <td>5.0</td>\n",
       "    </tr>\n",
       "    <tr>\n",
       "      <th>0</th>\n",
       "      <td>16958</td>\n",
       "      <td>0</td>\n",
       "      <td>2002</td>\n",
       "      <td>6.075021e+13</td>\n",
       "      <td>075</td>\n",
       "      <td>16.0</td>\n",
       "      <td>7.0</td>\n",
       "      <td>61.0</td>\n",
       "      <td>7.0</td>\n",
       "      <td>S</td>\n",
       "      <td>2147483647</td>\n",
       "      <td>+37.7500665</td>\n",
       "      <td>-122.4410751</td>\n",
       "      <td>6.0</td>\n",
       "      <td>0.0</td>\n",
       "      <td>G5040</td>\n",
       "      <td>Block 2002</td>\n",
       "      <td>34.0</td>\n",
       "      <td>0.0</td>\n",
       "      <td>5.0</td>\n",
       "      <td>0.0</td>\n",
       "      <td>06</td>\n",
       "      <td>021300</td>\n",
       "      <td>78904</td>\n",
       "      <td>U</td>\n",
       "      <td>U</td>\n",
       "      <td>20160228.0</td>\n",
       "      <td>20160228.0</td>\n",
       "      <td>POLYGON ((-122.440616 37.750902, -122.440459 3...</td>\n",
       "      <td>6.075021e+13</td>\n",
       "      <td>6.075021e+13</td>\n",
       "      <td>48153.0</td>\n",
       "      <td>1.0</td>\n",
       "    </tr>\n",
       "    <tr>\n",
       "      <th>0</th>\n",
       "      <td>16958</td>\n",
       "      <td>0</td>\n",
       "      <td>2002</td>\n",
       "      <td>6.075021e+13</td>\n",
       "      <td>075</td>\n",
       "      <td>16.0</td>\n",
       "      <td>7.0</td>\n",
       "      <td>61.0</td>\n",
       "      <td>7.0</td>\n",
       "      <td>S</td>\n",
       "      <td>2147483647</td>\n",
       "      <td>+37.7500665</td>\n",
       "      <td>-122.4410751</td>\n",
       "      <td>6.0</td>\n",
       "      <td>0.0</td>\n",
       "      <td>G5040</td>\n",
       "      <td>Block 2002</td>\n",
       "      <td>34.0</td>\n",
       "      <td>0.0</td>\n",
       "      <td>5.0</td>\n",
       "      <td>0.0</td>\n",
       "      <td>06</td>\n",
       "      <td>021300</td>\n",
       "      <td>78904</td>\n",
       "      <td>U</td>\n",
       "      <td>U</td>\n",
       "      <td>20160228.0</td>\n",
       "      <td>20160228.0</td>\n",
       "      <td>POLYGON ((-122.440616 37.750902, -122.440459 3...</td>\n",
       "      <td>6.075021e+13</td>\n",
       "      <td>6.075021e+13</td>\n",
       "      <td>22732.0</td>\n",
       "      <td>0.0</td>\n",
       "    </tr>\n",
       "    <tr>\n",
       "      <th>0</th>\n",
       "      <td>16958</td>\n",
       "      <td>0</td>\n",
       "      <td>2002</td>\n",
       "      <td>6.075021e+13</td>\n",
       "      <td>075</td>\n",
       "      <td>16.0</td>\n",
       "      <td>7.0</td>\n",
       "      <td>61.0</td>\n",
       "      <td>7.0</td>\n",
       "      <td>S</td>\n",
       "      <td>2147483647</td>\n",
       "      <td>+37.7500665</td>\n",
       "      <td>-122.4410751</td>\n",
       "      <td>6.0</td>\n",
       "      <td>0.0</td>\n",
       "      <td>G5040</td>\n",
       "      <td>Block 2002</td>\n",
       "      <td>34.0</td>\n",
       "      <td>0.0</td>\n",
       "      <td>5.0</td>\n",
       "      <td>0.0</td>\n",
       "      <td>06</td>\n",
       "      <td>021300</td>\n",
       "      <td>78904</td>\n",
       "      <td>U</td>\n",
       "      <td>U</td>\n",
       "      <td>20160228.0</td>\n",
       "      <td>20160228.0</td>\n",
       "      <td>POLYGON ((-122.440616 37.750902, -122.440459 3...</td>\n",
       "      <td>6.075021e+13</td>\n",
       "      <td>6.075021e+13</td>\n",
       "      <td>48006.0</td>\n",
       "      <td>1.0</td>\n",
       "    </tr>\n",
       "    <tr>\n",
       "      <th>1</th>\n",
       "      <td>16823</td>\n",
       "      <td>0</td>\n",
       "      <td>2000</td>\n",
       "      <td>6.075021e+13</td>\n",
       "      <td>075</td>\n",
       "      <td>19.0</td>\n",
       "      <td>0.0</td>\n",
       "      <td>79.0</td>\n",
       "      <td>1.0</td>\n",
       "      <td>S</td>\n",
       "      <td>2147483647</td>\n",
       "      <td>+37.7501958</td>\n",
       "      <td>-122.4389330</td>\n",
       "      <td>9.0</td>\n",
       "      <td>0.0</td>\n",
       "      <td>G5040</td>\n",
       "      <td>Block 2000</td>\n",
       "      <td>45.0</td>\n",
       "      <td>1.0</td>\n",
       "      <td>6.0</td>\n",
       "      <td>0.0</td>\n",
       "      <td>06</td>\n",
       "      <td>021300</td>\n",
       "      <td>78904</td>\n",
       "      <td>U</td>\n",
       "      <td>U</td>\n",
       "      <td>20160228.0</td>\n",
       "      <td>20160228.0</td>\n",
       "      <td>POLYGON ((-122.438397 37.750226, -122.43832 37...</td>\n",
       "      <td>6.075021e+13</td>\n",
       "      <td>6.075021e+13</td>\n",
       "      <td>22820.0</td>\n",
       "      <td>0.0</td>\n",
       "    </tr>\n",
       "  </tbody>\n",
       "</table>\n",
       "</div>"
      ],
      "text/plain": [
       "   ALAND10  AWATER10 BLOCKCE10      BLOCK_ID COUNTYFP10  EDHLTH_RAC  \\\n",
       "0    16958         0      2002  6.075021e+13        075        16.0   \n",
       "0    16958         0      2002  6.075021e+13        075        16.0   \n",
       "0    16958         0      2002  6.075021e+13        075        16.0   \n",
       "0    16958         0      2002  6.075021e+13        075        16.0   \n",
       "1    16823         0      2000  6.075021e+13        075        19.0   \n",
       "\n",
       "   EDHLTH_WAC  EMP_RAC  EMP_WAC FUNCSTAT10     GEOID10   INTPTLAT10  \\\n",
       "0         7.0     61.0      7.0          S  2147483647  +37.7500665   \n",
       "0         7.0     61.0      7.0          S  2147483647  +37.7500665   \n",
       "0         7.0     61.0      7.0          S  2147483647  +37.7500665   \n",
       "0         7.0     61.0      7.0          S  2147483647  +37.7500665   \n",
       "1         0.0     79.0      1.0          S  2147483647  +37.7501958   \n",
       "\n",
       "     INTPTLON10  LEISER_RAC  LEISER_WAC MTFCC10      NAME10  OTHER_RAC  \\\n",
       "0  -122.4410751         6.0         0.0   G5040  Block 2002       34.0   \n",
       "0  -122.4410751         6.0         0.0   G5040  Block 2002       34.0   \n",
       "0  -122.4410751         6.0         0.0   G5040  Block 2002       34.0   \n",
       "0  -122.4410751         6.0         0.0   G5040  Block 2002       34.0   \n",
       "1  -122.4389330         9.0         0.0   G5040  Block 2000       45.0   \n",
       "\n",
       "   OTHER_WAC  RETAIL_RAC  RETAIL_WAC STATEFP10 TRACTCE10 UACE10 UATYP10 UR10  \\\n",
       "0        0.0         5.0         0.0        06    021300  78904       U    U   \n",
       "0        0.0         5.0         0.0        06    021300  78904       U    U   \n",
       "0        0.0         5.0         0.0        06    021300  78904       U    U   \n",
       "0        0.0         5.0         0.0        06    021300  78904       U    U   \n",
       "1        1.0         6.0         0.0        06    021300  78904       U    U   \n",
       "\n",
       "   createda_1  createdate                                           geometry  \\\n",
       "0  20160228.0  20160228.0  POLYGON ((-122.440616 37.750902, -122.440459 3...   \n",
       "0  20160228.0  20160228.0  POLYGON ((-122.440616 37.750902, -122.440459 3...   \n",
       "0  20160228.0  20160228.0  POLYGON ((-122.440616 37.750902, -122.440459 3...   \n",
       "0  20160228.0  20160228.0  POLYGON ((-122.440616 37.750902, -122.440459 3...   \n",
       "1  20160228.0  20160228.0  POLYGON ((-122.438397 37.750226, -122.43832 37...   \n",
       "\n",
       "      h_geocode     w_geocode  index_right  Q4AVG  \n",
       "0  6.075021e+13  6.075021e+13      21470.0    5.0  \n",
       "0  6.075021e+13  6.075021e+13      48153.0    1.0  \n",
       "0  6.075021e+13  6.075021e+13      22732.0    0.0  \n",
       "0  6.075021e+13  6.075021e+13      48006.0    1.0  \n",
       "1  6.075021e+13  6.075021e+13      22820.0    0.0  "
      ]
     },
     "execution_count": 120,
     "metadata": {},
     "output_type": "execute_result"
    }
   ],
   "source": [
    "emp09.head()"
   ]
  },
  {
   "cell_type": "code",
   "execution_count": 121,
   "metadata": {
    "collapsed": false
   },
   "outputs": [
    {
     "data": {
      "text/html": [
       "<div>\n",
       "<table border=\"1\" class=\"dataframe\">\n",
       "  <thead>\n",
       "    <tr style=\"text-align: right;\">\n",
       "      <th></th>\n",
       "      <th>ALAND10</th>\n",
       "      <th>AWATER10</th>\n",
       "      <th>BLOCKCE10</th>\n",
       "      <th>BLOCK_ID</th>\n",
       "      <th>COUNTYFP10</th>\n",
       "      <th>EDHLTH_RAC</th>\n",
       "      <th>EDHLTH_WAC</th>\n",
       "      <th>EMP_RAC</th>\n",
       "      <th>EMP_WAC</th>\n",
       "      <th>FUNCSTAT10</th>\n",
       "      <th>GEOID10</th>\n",
       "      <th>INTPTLAT10</th>\n",
       "      <th>INTPTLON10</th>\n",
       "      <th>LEISER_RAC</th>\n",
       "      <th>LEISER_WAC</th>\n",
       "      <th>MTFCC10</th>\n",
       "      <th>NAME10</th>\n",
       "      <th>OTHER_RAC</th>\n",
       "      <th>OTHER_WAC</th>\n",
       "      <th>RETAIL_RAC</th>\n",
       "      <th>RETAIL_WAC</th>\n",
       "      <th>STATEFP10</th>\n",
       "      <th>TRACTCE10</th>\n",
       "      <th>UACE10</th>\n",
       "      <th>UATYP10</th>\n",
       "      <th>UR10</th>\n",
       "      <th>createda_1</th>\n",
       "      <th>createdate</th>\n",
       "      <th>geometry</th>\n",
       "      <th>h_geocode</th>\n",
       "      <th>w_geocode</th>\n",
       "      <th>index_right</th>\n",
       "      <th>Q4_AVG</th>\n",
       "    </tr>\n",
       "  </thead>\n",
       "  <tbody>\n",
       "    <tr>\n",
       "      <th>0</th>\n",
       "      <td>16958</td>\n",
       "      <td>0</td>\n",
       "      <td>2002</td>\n",
       "      <td>6.075021e+13</td>\n",
       "      <td>075</td>\n",
       "      <td>14.0</td>\n",
       "      <td>6.0</td>\n",
       "      <td>63.0</td>\n",
       "      <td>6.0</td>\n",
       "      <td>S</td>\n",
       "      <td>2147483647</td>\n",
       "      <td>+37.7500665</td>\n",
       "      <td>-122.4410751</td>\n",
       "      <td>6.0</td>\n",
       "      <td>0.0</td>\n",
       "      <td>G5040</td>\n",
       "      <td>Block 2002</td>\n",
       "      <td>41.0</td>\n",
       "      <td>0.0</td>\n",
       "      <td>2.0</td>\n",
       "      <td>0.0</td>\n",
       "      <td>06</td>\n",
       "      <td>021300</td>\n",
       "      <td>78904</td>\n",
       "      <td>U</td>\n",
       "      <td>U</td>\n",
       "      <td>20160219.0</td>\n",
       "      <td>20160219.0</td>\n",
       "      <td>POLYGON ((-122.440616 37.750902, -122.440459 3...</td>\n",
       "      <td>6.075021e+13</td>\n",
       "      <td>6.075021e+13</td>\n",
       "      <td>44737.0</td>\n",
       "      <td>5.0</td>\n",
       "    </tr>\n",
       "    <tr>\n",
       "      <th>1</th>\n",
       "      <td>16823</td>\n",
       "      <td>0</td>\n",
       "      <td>2000</td>\n",
       "      <td>6.075021e+13</td>\n",
       "      <td>075</td>\n",
       "      <td>10.0</td>\n",
       "      <td>0.0</td>\n",
       "      <td>57.0</td>\n",
       "      <td>5.0</td>\n",
       "      <td>S</td>\n",
       "      <td>2147483647</td>\n",
       "      <td>+37.7501958</td>\n",
       "      <td>-122.4389330</td>\n",
       "      <td>5.0</td>\n",
       "      <td>0.0</td>\n",
       "      <td>G5040</td>\n",
       "      <td>Block 2000</td>\n",
       "      <td>39.0</td>\n",
       "      <td>5.0</td>\n",
       "      <td>3.0</td>\n",
       "      <td>0.0</td>\n",
       "      <td>06</td>\n",
       "      <td>021300</td>\n",
       "      <td>78904</td>\n",
       "      <td>U</td>\n",
       "      <td>U</td>\n",
       "      <td>20160219.0</td>\n",
       "      <td>20160219.0</td>\n",
       "      <td>POLYGON ((-122.438397 37.750226, -122.43832 37...</td>\n",
       "      <td>6.075021e+13</td>\n",
       "      <td>6.075021e+13</td>\n",
       "      <td>50428.0</td>\n",
       "      <td>2.0</td>\n",
       "    </tr>\n",
       "    <tr>\n",
       "      <th>1</th>\n",
       "      <td>16823</td>\n",
       "      <td>0</td>\n",
       "      <td>2000</td>\n",
       "      <td>6.075021e+13</td>\n",
       "      <td>075</td>\n",
       "      <td>10.0</td>\n",
       "      <td>0.0</td>\n",
       "      <td>57.0</td>\n",
       "      <td>5.0</td>\n",
       "      <td>S</td>\n",
       "      <td>2147483647</td>\n",
       "      <td>+37.7501958</td>\n",
       "      <td>-122.4389330</td>\n",
       "      <td>5.0</td>\n",
       "      <td>0.0</td>\n",
       "      <td>G5040</td>\n",
       "      <td>Block 2000</td>\n",
       "      <td>39.0</td>\n",
       "      <td>5.0</td>\n",
       "      <td>3.0</td>\n",
       "      <td>0.0</td>\n",
       "      <td>06</td>\n",
       "      <td>021300</td>\n",
       "      <td>78904</td>\n",
       "      <td>U</td>\n",
       "      <td>U</td>\n",
       "      <td>20160219.0</td>\n",
       "      <td>20160219.0</td>\n",
       "      <td>POLYGON ((-122.438397 37.750226, -122.43832 37...</td>\n",
       "      <td>6.075021e+13</td>\n",
       "      <td>6.075021e+13</td>\n",
       "      <td>52189.0</td>\n",
       "      <td>1.0</td>\n",
       "    </tr>\n",
       "    <tr>\n",
       "      <th>1</th>\n",
       "      <td>16823</td>\n",
       "      <td>0</td>\n",
       "      <td>2000</td>\n",
       "      <td>6.075021e+13</td>\n",
       "      <td>075</td>\n",
       "      <td>10.0</td>\n",
       "      <td>0.0</td>\n",
       "      <td>57.0</td>\n",
       "      <td>5.0</td>\n",
       "      <td>S</td>\n",
       "      <td>2147483647</td>\n",
       "      <td>+37.7501958</td>\n",
       "      <td>-122.4389330</td>\n",
       "      <td>5.0</td>\n",
       "      <td>0.0</td>\n",
       "      <td>G5040</td>\n",
       "      <td>Block 2000</td>\n",
       "      <td>39.0</td>\n",
       "      <td>5.0</td>\n",
       "      <td>3.0</td>\n",
       "      <td>0.0</td>\n",
       "      <td>06</td>\n",
       "      <td>021300</td>\n",
       "      <td>78904</td>\n",
       "      <td>U</td>\n",
       "      <td>U</td>\n",
       "      <td>20160219.0</td>\n",
       "      <td>20160219.0</td>\n",
       "      <td>POLYGON ((-122.438397 37.750226, -122.43832 37...</td>\n",
       "      <td>6.075021e+13</td>\n",
       "      <td>6.075021e+13</td>\n",
       "      <td>21494.0</td>\n",
       "      <td>0.0</td>\n",
       "    </tr>\n",
       "    <tr>\n",
       "      <th>1</th>\n",
       "      <td>16823</td>\n",
       "      <td>0</td>\n",
       "      <td>2000</td>\n",
       "      <td>6.075021e+13</td>\n",
       "      <td>075</td>\n",
       "      <td>10.0</td>\n",
       "      <td>0.0</td>\n",
       "      <td>57.0</td>\n",
       "      <td>5.0</td>\n",
       "      <td>S</td>\n",
       "      <td>2147483647</td>\n",
       "      <td>+37.7501958</td>\n",
       "      <td>-122.4389330</td>\n",
       "      <td>5.0</td>\n",
       "      <td>0.0</td>\n",
       "      <td>G5040</td>\n",
       "      <td>Block 2000</td>\n",
       "      <td>39.0</td>\n",
       "      <td>5.0</td>\n",
       "      <td>3.0</td>\n",
       "      <td>0.0</td>\n",
       "      <td>06</td>\n",
       "      <td>021300</td>\n",
       "      <td>78904</td>\n",
       "      <td>U</td>\n",
       "      <td>U</td>\n",
       "      <td>20160219.0</td>\n",
       "      <td>20160219.0</td>\n",
       "      <td>POLYGON ((-122.438397 37.750226, -122.43832 37...</td>\n",
       "      <td>6.075021e+13</td>\n",
       "      <td>6.075021e+13</td>\n",
       "      <td>52660.0</td>\n",
       "      <td>1.0</td>\n",
       "    </tr>\n",
       "  </tbody>\n",
       "</table>\n",
       "</div>"
      ],
      "text/plain": [
       "   ALAND10  AWATER10 BLOCKCE10      BLOCK_ID COUNTYFP10  EDHLTH_RAC  \\\n",
       "0    16958         0      2002  6.075021e+13        075        14.0   \n",
       "1    16823         0      2000  6.075021e+13        075        10.0   \n",
       "1    16823         0      2000  6.075021e+13        075        10.0   \n",
       "1    16823         0      2000  6.075021e+13        075        10.0   \n",
       "1    16823         0      2000  6.075021e+13        075        10.0   \n",
       "\n",
       "   EDHLTH_WAC  EMP_RAC  EMP_WAC FUNCSTAT10     GEOID10   INTPTLAT10  \\\n",
       "0         6.0     63.0      6.0          S  2147483647  +37.7500665   \n",
       "1         0.0     57.0      5.0          S  2147483647  +37.7501958   \n",
       "1         0.0     57.0      5.0          S  2147483647  +37.7501958   \n",
       "1         0.0     57.0      5.0          S  2147483647  +37.7501958   \n",
       "1         0.0     57.0      5.0          S  2147483647  +37.7501958   \n",
       "\n",
       "     INTPTLON10  LEISER_RAC  LEISER_WAC MTFCC10      NAME10  OTHER_RAC  \\\n",
       "0  -122.4410751         6.0         0.0   G5040  Block 2002       41.0   \n",
       "1  -122.4389330         5.0         0.0   G5040  Block 2000       39.0   \n",
       "1  -122.4389330         5.0         0.0   G5040  Block 2000       39.0   \n",
       "1  -122.4389330         5.0         0.0   G5040  Block 2000       39.0   \n",
       "1  -122.4389330         5.0         0.0   G5040  Block 2000       39.0   \n",
       "\n",
       "   OTHER_WAC  RETAIL_RAC  RETAIL_WAC STATEFP10 TRACTCE10 UACE10 UATYP10 UR10  \\\n",
       "0        0.0         2.0         0.0        06    021300  78904       U    U   \n",
       "1        5.0         3.0         0.0        06    021300  78904       U    U   \n",
       "1        5.0         3.0         0.0        06    021300  78904       U    U   \n",
       "1        5.0         3.0         0.0        06    021300  78904       U    U   \n",
       "1        5.0         3.0         0.0        06    021300  78904       U    U   \n",
       "\n",
       "   createda_1  createdate                                           geometry  \\\n",
       "0  20160219.0  20160219.0  POLYGON ((-122.440616 37.750902, -122.440459 3...   \n",
       "1  20160219.0  20160219.0  POLYGON ((-122.438397 37.750226, -122.43832 37...   \n",
       "1  20160219.0  20160219.0  POLYGON ((-122.438397 37.750226, -122.43832 37...   \n",
       "1  20160219.0  20160219.0  POLYGON ((-122.438397 37.750226, -122.43832 37...   \n",
       "1  20160219.0  20160219.0  POLYGON ((-122.438397 37.750226, -122.43832 37...   \n",
       "\n",
       "      h_geocode     w_geocode  index_right  Q4_AVG  \n",
       "0  6.075021e+13  6.075021e+13      44737.0     5.0  \n",
       "1  6.075021e+13  6.075021e+13      50428.0     2.0  \n",
       "1  6.075021e+13  6.075021e+13      52189.0     1.0  \n",
       "1  6.075021e+13  6.075021e+13      21494.0     0.0  \n",
       "1  6.075021e+13  6.075021e+13      52660.0     1.0  "
      ]
     },
     "execution_count": 121,
     "metadata": {},
     "output_type": "execute_result"
    }
   ],
   "source": [
    "emp14.head()"
   ]
  },
  {
   "cell_type": "code",
   "execution_count": 122,
   "metadata": {
    "collapsed": false
   },
   "outputs": [],
   "source": [
    "diff14 = emp14[['BLOCK_ID','Q4_AVG','EMP_WAC']].groupby(by= 'BLOCK_ID',as_index = False).agg({'EMP_WAC':'first',\n",
    "                                                                                              'Q4_AVG':'sum'})"
   ]
  },
  {
   "cell_type": "code",
   "execution_count": 125,
   "metadata": {
    "collapsed": false
   },
   "outputs": [],
   "source": [
    "diff09 = emp09[['BLOCK_ID','Q4AVG','EMP_WAC']].groupby(by= 'BLOCK_ID',as_index = False).agg({'EMP_WAC':'first',\n",
    "                                                                                              'Q4AVG':'sum'})"
   ]
  },
  {
   "cell_type": "code",
   "execution_count": 126,
   "metadata": {
    "collapsed": true
   },
   "outputs": [],
   "source": [
    "diff14['DIFF'] = diff14['Q4_AVG'] - diff14['EMP_WAC']"
   ]
  },
  {
   "cell_type": "code",
   "execution_count": 128,
   "metadata": {
    "collapsed": false
   },
   "outputs": [],
   "source": [
    "diff09['DIFF'] = diff09['Q4AVG'] - diff09['EMP_WAC']"
   ]
  },
  {
   "cell_type": "code",
   "execution_count": 129,
   "metadata": {
    "collapsed": false
   },
   "outputs": [
    {
     "data": {
      "text/plain": [
       "15744.0"
      ]
     },
     "execution_count": 129,
     "metadata": {},
     "output_type": "execute_result"
    }
   ],
   "source": [
    "max(diff14.DIFF)"
   ]
  },
  {
   "cell_type": "code",
   "execution_count": 140,
   "metadata": {
    "collapsed": false
   },
   "outputs": [
    {
     "data": {
      "text/plain": [
       "11776.0"
      ]
     },
     "execution_count": 140,
     "metadata": {},
     "output_type": "execute_result"
    }
   ],
   "source": [
    "max(diff09.DIFF)"
   ]
  },
  {
   "cell_type": "code",
   "execution_count": 143,
   "metadata": {
    "collapsed": false
   },
   "outputs": [
    {
     "data": {
      "text/plain": [
       "-21471.0"
      ]
     },
     "execution_count": 143,
     "metadata": {},
     "output_type": "execute_result"
    }
   ],
   "source": [
    "min(diff14.DIFF)"
   ]
  },
  {
   "cell_type": "code",
   "execution_count": 144,
   "metadata": {
    "collapsed": false
   },
   "outputs": [
    {
     "data": {
      "text/plain": [
       "-18893.0"
      ]
     },
     "execution_count": 144,
     "metadata": {},
     "output_type": "execute_result"
    }
   ],
   "source": [
    "min(diff09.DIFF)"
   ]
  },
  {
   "cell_type": "code",
   "execution_count": 145,
   "metadata": {
    "collapsed": true
   },
   "outputs": [],
   "source": [
    "count14 = diff14.DIFF.value_counts()"
   ]
  },
  {
   "cell_type": "code",
   "execution_count": 146,
   "metadata": {
    "collapsed": false
   },
   "outputs": [
    {
     "data": {
      "text/plain": [
       "<bound method Series.sort of  0.0       525\n",
       "-1.0       427\n",
       " 1.0       330\n",
       "-2.0       283\n",
       " 2.0       236\n",
       "-3.0       179\n",
       " 3.0       166\n",
       " 4.0       129\n",
       "-4.0       119\n",
       "-5.0       105\n",
       " 5.0       104\n",
       "-6.0        89\n",
       " 6.0        88\n",
       "-8.0        68\n",
       " 7.0        66\n",
       " 8.0        60\n",
       "-7.0        54\n",
       " 9.0        48\n",
       " 13.0       45\n",
       "-11.0       42\n",
       "-9.0        41\n",
       "-13.0       41\n",
       " 11.0       37\n",
       " 12.0       33\n",
       "-10.0       32\n",
       " 10.0       32\n",
       "-12.0       28\n",
       "-14.0       28\n",
       "-16.0       27\n",
       "-18.0       27\n",
       "          ... \n",
       " 687.0       1\n",
       "-557.0       1\n",
       "-367.0       1\n",
       " 81.0        1\n",
       " 203.0       1\n",
       "-150.0       1\n",
       " 297.0       1\n",
       "-537.0       1\n",
       "-84.0        1\n",
       "-400.0       1\n",
       " 109.0       1\n",
       "-204.0       1\n",
       "-124.0       1\n",
       "-94.0        1\n",
       "-216.0       1\n",
       " 212.0       1\n",
       "-380.0       1\n",
       " 78.0        1\n",
       "-200.0       1\n",
       " 86.0        1\n",
       "-184.0       1\n",
       " 74.0        1\n",
       "-304.0       1\n",
       " 61.0        1\n",
       " 55.0        1\n",
       " 100.0       1\n",
       "-248.0       1\n",
       "-608.0       1\n",
       "-136.0       1\n",
       " 3118.0      1\n",
       "Name: DIFF, dtype: int64>"
      ]
     },
     "execution_count": 146,
     "metadata": {},
     "output_type": "execute_result"
    }
   ],
   "source": [
    "diff14.DIFF.value_counts().sort"
   ]
  },
  {
   "cell_type": "code",
   "execution_count": 150,
   "metadata": {
    "collapsed": false
   },
   "outputs": [
    {
     "data": {
      "text/plain": [
       "<matplotlib.axes._subplots.AxesSubplot at 0x136b2484eb8>"
      ]
     },
     "execution_count": 150,
     "metadata": {},
     "output_type": "execute_result"
    },
    {
     "data": {
      "image/png": "[encoded data removed]",
      "text/plain": [
       "<matplotlib.figure.Figure at 0x136b246dfd0>"
      ]
     },
     "metadata": {},
     "output_type": "display_data"
    }
   ],
   "source": [
    "sns.distplot(count14)"
   ]
  },
  {
   "cell_type": "code",
   "execution_count": 155,
   "metadata": {
    "collapsed": false
   },
   "outputs": [
    {
     "data": {
      "text/plain": [
       "186.40999999999974"
      ]
     },
     "execution_count": 155,
     "metadata": {},
     "output_type": "execute_result"
    }
   ],
   "source": [
    "np.percentile(counts,99)"
   ]
  },
  {
   "cell_type": "code",
   "execution_count": 137,
   "metadata": {
    "collapsed": true
   },
   "outputs": [],
   "source": [
    "count09 = diff09.DIFF.value_counts()"
   ]
  },
  {
   "cell_type": "code",
   "execution_count": 139,
   "metadata": {
    "collapsed": false
   },
   "outputs": [
    {
     "data": {
      "text/plain": [
       "<bound method Series.sort of  0.0        738\n",
       "-1.0        576\n",
       "-2.0        347\n",
       " 1.0        333\n",
       "-3.0        220\n",
       " 2.0        196\n",
       "-4.0        147\n",
       " 3.0        130\n",
       "-5.0        114\n",
       "-6.0         85\n",
       " 4.0         83\n",
       " 5.0         72\n",
       "-7.0         71\n",
       "-8.0         60\n",
       " 6.0         50\n",
       "-9.0         49\n",
       " 8.0         41\n",
       " 7.0         36\n",
       " 9.0         35\n",
       "-12.0        33\n",
       "-13.0        32\n",
       "-11.0        32\n",
       "-10.0        29\n",
       "-14.0        25\n",
       "-18.0        24\n",
       "-15.0        23\n",
       "-17.0        22\n",
       "-19.0        22\n",
       " 11.0        21\n",
       " 14.0        21\n",
       "           ... \n",
       " 1897.0       1\n",
       "-342.0        1\n",
       "-151.0        1\n",
       " 692.0        1\n",
       " 494.0        1\n",
       "-163.0        1\n",
       "-362.0        1\n",
       "-175.0        1\n",
       "-443.0        1\n",
       "-377.0        1\n",
       " 108.0        1\n",
       "-92.0         1\n",
       " 232.0        1\n",
       "-232.0        1\n",
       " 346.0        1\n",
       " 342.0        1\n",
       " 311.0        1\n",
       "-171.0        1\n",
       "-159.0        1\n",
       "-106.0        1\n",
       " 79.0         1\n",
       "-146.0        1\n",
       " 100.0        1\n",
       " 94.0         1\n",
       " 136.0        1\n",
       " 98.0         1\n",
       " 164.0        1\n",
       " 29.0         1\n",
       " 11776.0      1\n",
       "-103.0        1\n",
       "Name: DIFF, dtype: int64>"
      ]
     },
     "execution_count": 139,
     "metadata": {},
     "output_type": "execute_result"
    }
   ],
   "source": [
    "diff09.DIFF.value_counts().sort"
   ]
  },
  {
   "cell_type": "code",
   "execution_count": 156,
   "metadata": {
    "collapsed": false
   },
   "outputs": [
    {
     "data": {
      "text/plain": [
       "<matplotlib.axes._subplots.AxesSubplot at 0x136b22b6a90>"
      ]
     },
     "execution_count": 156,
     "metadata": {},
     "output_type": "execute_result"
    },
    {
     "data": {
      "image/png": "[encoded data removed]",
      "text/plain": [
       "<matplotlib.figure.Figure at 0x136b2294908>"
      ]
     },
     "metadata": {},
     "output_type": "display_data"
    }
   ],
   "source": [
    "sns.distplot(count09)"
   ]
  },
  {
   "cell_type": "code",
   "execution_count": 158,
   "metadata": {
    "collapsed": true
   },
   "outputs": [],
   "source": [
    "emp14.to_file('Emp14_Diff.shp')"
   ]
  },
  {
   "cell_type": "code",
   "execution_count": 159,
   "metadata": {
    "collapsed": true
   },
   "outputs": [],
   "source": [
    "emp09.to_file('Emp09_Diff.shp')"
   ]
  },
  {
   "cell_type": "code",
   "execution_count": null,
   "metadata": {
    "collapsed": true
   },
   "outputs": [],
   "source": []
  }
 ],
 "metadata": {
  "anaconda-cloud": {},
  "kernelspec": {
   "display_name": "Python [conda root]",
   "language": "python",
   "name": "conda-root-py"
  },
  "language_info": {
   "codemirror_mode": {
    "name": "ipython",
    "version": 3
   },
   "file_extension": ".py",
   "mimetype": "text/x-python",
   "name": "python",
   "nbconvert_exporter": "python",
   "pygments_lexer": "ipython3",
   "version": "3.5.2"
  }
 },
 "nbformat": 4,
 "nbformat_minor": 1
}
