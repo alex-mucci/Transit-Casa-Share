{
 "cells": [
  {
   "cell_type": "code",
   "execution_count": 1,
   "metadata": {
    "collapsed": true
   },
   "outputs": [],
   "source": [
    "import pandas as pd"
   ]
  },
  {
   "cell_type": "code",
   "execution_count": null,
   "metadata": {
    "collapsed": true
   },
   "outputs": [],
   "source": [
    "store = pd.HDFStore('E:\\Transit_Casa\\Output/gtfs1.h5')\n",
    "df = store.get('sfmuni')\n",
    "rail_stops = df[df['ROUTE_TYPE'] == 0]\n",
    "\n",
    "stops = rail_stops[['STOP_ID','STOP_LAT','STOP_LON','MONTH']]\n",
    "\n",
    "stops09 = stops[stops['MONTH'].isin(pd.date_range(start = '2009-01-01',end = '2009-12-31'))]\n",
    "stops09 = stops09[['STOP_ID','STOP_LAT','STOP_LON']].groupby(by = 'STOP_ID').mean()"
   ]
  }
 ],
 "metadata": {
  "anaconda-cloud": {},
  "kernelspec": {
   "display_name": "Python [conda root]",
   "language": "python",
   "name": "conda-root-py"
  },
  "language_info": {
   "codemirror_mode": {
    "name": "ipython",
    "version": 3
   },
   "file_extension": ".py",
   "mimetype": "text/x-python",
   "name": "python",
   "nbconvert_exporter": "python",
   "pygments_lexer": "ipython3",
   "version": "3.5.2"
  }
 },
 "nbformat": 4,
 "nbformat_minor": 1
}
