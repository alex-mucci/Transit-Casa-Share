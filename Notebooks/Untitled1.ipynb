{
 "cells": [
  {
   "cell_type": "code",
   "execution_count": 2,
   "metadata": {
    "collapsed": true
   },
   "outputs": [],
   "source": [
    "import pandas as pd\n",
    "import geopandas as gp"
   ]
  },
  {
   "cell_type": "code",
   "execution_count": 3,
   "metadata": {
    "collapsed": false
   },
   "outputs": [],
   "source": [
    "store = pd.HDFStore('E:\\Transit_Casa/gtfs.h5')"
   ]
  },
  {
   "cell_type": "code",
   "execution_count": 3,
   "metadata": {
    "collapsed": false
   },
   "outputs": [
    {
     "data": {
      "text/plain": [
       "<bound method HDFStore.items of <class 'pandas.io.pytables.HDFStore'>\n",
       "File path: E:\\Transit_Casa/gtfs.h5\n",
       "/bart                     frame_table  (typ->appendable,nrows->306607,ncols->35,indexers->[index],dc->[AGENCY_ID,ARRIVAL_TIME_S,DATE,DEPARTURE_TIME_S,DIR,DOW,DWELL_S,EOL,FARE,HEADWAY_S,MONTH,OBSERVED,ROUTE_ID,ROUTE_LONG_NAME,ROUTE_SHORT_NAME,ROUTE_TYPE,RUNSPEED_S,RUNTIME_S,SCHED_DATES,SEQ,SERVICE_ID,SERVMILES_S,SHAPE_DIST,SOL,STOPNAME,STOP_ID,STOP_LAT,STOP_LON,TOD,TOTSPEED_S,TOTTIME_S,TRIP,TRIP_HEADSIGN,TRIP_ID,TRIP_STOPS])  \n",
       "/bartDaily                frame_table  (typ->appendable,nrows->152,ncols->18,indexers->[index],dc->[SCHED_DATES,DOW,SERVICE_ID,AGENCY_ID,ROUTE_TYPE,TRIPS,STOPS,TRIP_STOPS,FARE,HEADWAY_S,SERVMILES_S,DWELL_S,RUNTIME_S,TOTTIME_S,RUNSPEED_S,TOTSPEED_S,DATE,MONTH])                                                                                                                                                                         \n",
       "/bartMonthly              frame_table  (typ->appendable,nrows->646,ncols->15,indexers->[index],dc->[MONTH,DOW,AGENCY_ID,ROUTE_TYPE,TRIPS,TRIP_STOPS,FARE,HEADWAY_S,SERVMILES_S,DWELL_S,RUNTIME_S,TOTTIME_S,RUNSPEED_S,TOTSPEED_S,STOPS])                                                                                                                                                                                                     \n",
       "/sfmuni                   frame_table  (typ->appendable,nrows->16836487,ncols->35,indexers->[index],dc->[AGENCY_ID,ARRIVAL_TIME_S,DATE,DEPARTURE_TIME_S,DIR,DOW,DWELL_S,EOL,FARE,HEADWAY_S,MONTH,OBSERVED,ROUTE_ID,ROUTE_LONG_NAME,ROUTE_SHORT_NAME,ROUTE_TYPE,RUNSPEED_S,RUNTIME_S,SCHED_DATES,SEQ,SERVICE_ID,SERVMILES_S,SHAPE_DIST,SOL,STOPNAME,STOP_ID,STOP_LAT,STOP_LON,TOD,TOTSPEED_S,TOTTIME_S,TRIP,TRIP_HEADSIGN,TRIP_ID,TRIP_STOPS])\n",
       "/sfmuniDaily              frame_table  (typ->appendable,nrows->5540,ncols->18,indexers->[index],dc->[SCHED_DATES,DOW,SERVICE_ID,AGENCY_ID,ROUTE_TYPE,TRIPS,STOPS,TRIP_STOPS,FARE,HEADWAY_S,SERVMILES_S,DWELL_S,RUNTIME_S,TOTTIME_S,RUNSPEED_S,TOTSPEED_S,DATE,MONTH])                                                                                                                                                                        \n",
       "/sfmuniMonthly            frame_table  (typ->appendable,nrows->553,ncols->15,indexers->[index],dc->[MONTH,DOW,AGENCY_ID,ROUTE_TYPE,TRIPS,STOPS,TRIP_STOPS,FARE,HEADWAY_S,SERVMILES_S,DWELL_S,RUNTIME_S,TOTTIME_S,RUNSPEED_S,TOTSPEED_S])                                                                                                                                                                                                     >"
      ]
     },
     "execution_count": 3,
     "metadata": {},
     "output_type": "execute_result"
    }
   ],
   "source": [
    "store.items"
   ]
  },
  {
   "cell_type": "code",
   "execution_count": null,
   "metadata": {
    "collapsed": false
   },
   "outputs": [],
   "source": [
    "df = store.get('sfmuni')"
   ]
  },
  {
   "cell_type": "code",
   "execution_count": null,
   "metadata": {
    "collapsed": true
   },
   "outputs": [],
   "source": [
    "df.head()"
   ]
  },
  {
   "cell_type": "code",
   "execution_count": null,
   "metadata": {
    "collapsed": true
   },
   "outputs": [],
   "source": []
  }
 ],
 "metadata": {
  "anaconda-cloud": {},
  "kernelspec": {
   "display_name": "Python [conda root]",
   "language": "python",
   "name": "conda-root-py"
  },
  "language_info": {
   "codemirror_mode": {
    "name": "ipython",
    "version": 3
   },
   "file_extension": ".py",
   "mimetype": "text/x-python",
   "name": "python",
   "nbconvert_exporter": "python",
   "pygments_lexer": "ipython3",
   "version": "3.5.2"
  }
 },
 "nbformat": 4,
 "nbformat_minor": 1
}
