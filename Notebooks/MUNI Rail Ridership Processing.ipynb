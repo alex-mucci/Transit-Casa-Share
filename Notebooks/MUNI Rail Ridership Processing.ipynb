{
 "cells": [
  {
   "cell_type": "code",
   "execution_count": 1,
   "metadata": {
    "collapsed": true
   },
   "outputs": [],
   "source": [
    "import pandas as pd\n",
    "from shapely.geometry import Point\n",
    "pd.set_option('max_columns',500)"
   ]
  },
  {
   "cell_type": "code",
   "execution_count": 2,
   "metadata": {
    "collapsed": true
   },
   "outputs": [],
   "source": [
    "muni09 = pd.read_csv('E:\\Transit-Casa-Alex\\Input\\MUNI Rail/MUNI Rail Ridership.csv')\n",
    "muni16 = pd.read_csv('E:\\Transit-Casa-Alex\\Input\\MUNI Rail/MUNI Rail Ridership 2016.csv')"
   ]
  },
  {
   "cell_type": "code",
   "execution_count": 3,
   "metadata": {
    "collapsed": false
   },
   "outputs": [
    {
     "data": {
      "text/html": [
       "<div>\n",
       "<table border=\"1\" class=\"dataframe\">\n",
       "  <thead>\n",
       "    <tr style=\"text-align: right;\">\n",
       "      <th></th>\n",
       "      <th>Route</th>\n",
       "      <th>STOP</th>\n",
       "      <th>Boardings</th>\n",
       "      <th>Alightings</th>\n",
       "      <th>DIR</th>\n",
       "      <th>STOP ID</th>\n",
       "      <th>STOP NAME</th>\n",
       "      <th>Unnamed: 7</th>\n",
       "      <th>Unnamed: 8</th>\n",
       "      <th>Unnamed: 9</th>\n",
       "      <th>Unnamed: 10</th>\n",
       "    </tr>\n",
       "  </thead>\n",
       "  <tbody>\n",
       "    <tr>\n",
       "      <th>0</th>\n",
       "      <td>J-CHURCH</td>\n",
       "      <td>Embarc Sta</td>\n",
       "      <td>0</td>\n",
       "      <td>1,303</td>\n",
       "      <td>1</td>\n",
       "      <td>6992</td>\n",
       "      <td>Metro Embarcadero Station</td>\n",
       "      <td>NaN</td>\n",
       "      <td>NaN</td>\n",
       "      <td>NaN</td>\n",
       "      <td>NaN</td>\n",
       "    </tr>\n",
       "    <tr>\n",
       "      <th>1</th>\n",
       "      <td>J-CHURCH</td>\n",
       "      <td>Green Div Yard</td>\n",
       "      <td>0</td>\n",
       "      <td>412</td>\n",
       "      <td>0</td>\n",
       "      <td>7155</td>\n",
       "      <td>SAN JOSE AVE &amp; GENEVA AVE</td>\n",
       "      <td>NaN</td>\n",
       "      <td>NaN</td>\n",
       "      <td>NaN</td>\n",
       "      <td>NaN</td>\n",
       "    </tr>\n",
       "    <tr>\n",
       "      <th>2</th>\n",
       "      <td>KT-INGLESIDE/THIRD</td>\n",
       "      <td>ByShre&amp;Sundle</td>\n",
       "      <td>0</td>\n",
       "      <td>561</td>\n",
       "      <td>1</td>\n",
       "      <td>7396</td>\n",
       "      <td>Bay Shore Blvd &amp; Sunnydale Ave</td>\n",
       "      <td>NaN</td>\n",
       "      <td>NaN</td>\n",
       "      <td>NaN</td>\n",
       "      <td>NaN</td>\n",
       "    </tr>\n",
       "    <tr>\n",
       "      <th>3</th>\n",
       "      <td>KT-INGLESIDE/THIRD</td>\n",
       "      <td>Metro Terminal</td>\n",
       "      <td>0</td>\n",
       "      <td>1,113</td>\n",
       "      <td>0</td>\n",
       "      <td>5418</td>\n",
       "      <td>Balboa Park BART/Mezzanine Level</td>\n",
       "      <td>NaN</td>\n",
       "      <td>NaN</td>\n",
       "      <td>NaN</td>\n",
       "      <td>NaN</td>\n",
       "    </tr>\n",
       "    <tr>\n",
       "      <th>4</th>\n",
       "      <td>L-TARAVAL</td>\n",
       "      <td>46th&amp;Ulloa</td>\n",
       "      <td>0</td>\n",
       "      <td>226</td>\n",
       "      <td>0</td>\n",
       "      <td>3600</td>\n",
       "      <td>46th Ave &amp; Ulloa St</td>\n",
       "      <td>NaN</td>\n",
       "      <td>NaN</td>\n",
       "      <td>NaN</td>\n",
       "      <td>NaN</td>\n",
       "    </tr>\n",
       "  </tbody>\n",
       "</table>\n",
       "</div>"
      ],
      "text/plain": [
       "                Route            STOP Boardings Alightings  DIR STOP ID  \\\n",
       "0            J-CHURCH      Embarc Sta         0      1,303    1    6992   \n",
       "1            J-CHURCH  Green Div Yard         0        412    0    7155   \n",
       "2  KT-INGLESIDE/THIRD   ByShre&Sundle         0        561    1    7396   \n",
       "3  KT-INGLESIDE/THIRD  Metro Terminal         0      1,113    0    5418   \n",
       "4           L-TARAVAL      46th&Ulloa         0        226    0    3600   \n",
       "\n",
       "                          STOP NAME  Unnamed: 7  Unnamed: 8  Unnamed: 9  \\\n",
       "0         Metro Embarcadero Station         NaN         NaN         NaN   \n",
       "1         SAN JOSE AVE & GENEVA AVE         NaN         NaN         NaN   \n",
       "2    Bay Shore Blvd & Sunnydale Ave         NaN         NaN         NaN   \n",
       "3  Balboa Park BART/Mezzanine Level         NaN         NaN         NaN   \n",
       "4               46th Ave & Ulloa St         NaN         NaN         NaN   \n",
       "\n",
       "   Unnamed: 10  \n",
       "0          NaN  \n",
       "1          NaN  \n",
       "2          NaN  \n",
       "3          NaN  \n",
       "4          NaN  "
      ]
     },
     "execution_count": 3,
     "metadata": {},
     "output_type": "execute_result"
    }
   ],
   "source": [
    "muni09.head()"
   ]
  },
  {
   "cell_type": "code",
   "execution_count": 4,
   "metadata": {
    "collapsed": false
   },
   "outputs": [
    {
     "data": {
      "text/html": [
       "<div>\n",
       "<table border=\"1\" class=\"dataframe\">\n",
       "  <thead>\n",
       "    <tr style=\"text-align: right;\">\n",
       "      <th></th>\n",
       "      <th>ROUTE</th>\n",
       "      <th>DIRECTION</th>\n",
       "      <th>STOP NAME</th>\n",
       "      <th>STOP ID</th>\n",
       "      <th>STOP SEQ</th>\n",
       "      <th>Time Period</th>\n",
       "      <th>Total Boardings</th>\n",
       "      <th>Total Alightings</th>\n",
       "      <th>Total Train Load</th>\n",
       "      <th>Number of Trips in Time Period</th>\n",
       "      <th>Average Boardings</th>\n",
       "      <th>Average Alightings</th>\n",
       "      <th>Average Train Load</th>\n",
       "      <th>Stop Latitude</th>\n",
       "      <th>Stop Longitude</th>\n",
       "    </tr>\n",
       "  </thead>\n",
       "  <tbody>\n",
       "    <tr>\n",
       "      <th>0</th>\n",
       "      <td>J-Church</td>\n",
       "      <td>INBOUND</td>\n",
       "      <td>San Jose Ave &amp; Geneva Ave</td>\n",
       "      <td>7778</td>\n",
       "      <td>1</td>\n",
       "      <td>7 - Owl</td>\n",
       "      <td>4.4</td>\n",
       "      <td>-</td>\n",
       "      <td>4.4</td>\n",
       "      <td>9</td>\n",
       "      <td>0.5</td>\n",
       "      <td>-</td>\n",
       "      <td>0.5</td>\n",
       "      <td>37.721240</td>\n",
       "      <td>-122.44622</td>\n",
       "    </tr>\n",
       "    <tr>\n",
       "      <th>1</th>\n",
       "      <td>J-Church</td>\n",
       "      <td>INBOUND</td>\n",
       "      <td>San Jose Ave &amp; Ocean Ave</td>\n",
       "      <td>6275</td>\n",
       "      <td>2</td>\n",
       "      <td>7 - Owl</td>\n",
       "      <td>2.2</td>\n",
       "      <td>-</td>\n",
       "      <td>6.5</td>\n",
       "      <td>9</td>\n",
       "      <td>0.2</td>\n",
       "      <td>-</td>\n",
       "      <td>0.7</td>\n",
       "      <td>37.722862</td>\n",
       "      <td>-122.44479</td>\n",
       "    </tr>\n",
       "    <tr>\n",
       "      <th>2</th>\n",
       "      <td>J-Church</td>\n",
       "      <td>INBOUND</td>\n",
       "      <td>San Jose Ave &amp; Santa Ynez Ave</td>\n",
       "      <td>6288</td>\n",
       "      <td>3</td>\n",
       "      <td>7 - Owl</td>\n",
       "      <td>2.2</td>\n",
       "      <td>-</td>\n",
       "      <td>8.7</td>\n",
       "      <td>9</td>\n",
       "      <td>0.2</td>\n",
       "      <td>-</td>\n",
       "      <td>1.0</td>\n",
       "      <td>37.725680</td>\n",
       "      <td>-122.44244</td>\n",
       "    </tr>\n",
       "    <tr>\n",
       "      <th>3</th>\n",
       "      <td>J-Church</td>\n",
       "      <td>INBOUND</td>\n",
       "      <td>San Jose Ave &amp; Santa Rosa Ave</td>\n",
       "      <td>6284</td>\n",
       "      <td>4</td>\n",
       "      <td>7 - Owl</td>\n",
       "      <td>8.7</td>\n",
       "      <td>-</td>\n",
       "      <td>17.5</td>\n",
       "      <td>9</td>\n",
       "      <td>1.0</td>\n",
       "      <td>-</td>\n",
       "      <td>1.9</td>\n",
       "      <td>37.728992</td>\n",
       "      <td>-122.43992</td>\n",
       "    </tr>\n",
       "    <tr>\n",
       "      <th>4</th>\n",
       "      <td>J-Church</td>\n",
       "      <td>INBOUND</td>\n",
       "      <td>San Jose Ave/Glen Park Station</td>\n",
       "      <td>4787</td>\n",
       "      <td>5</td>\n",
       "      <td>7 - Owl</td>\n",
       "      <td>2.2</td>\n",
       "      <td>4.4</td>\n",
       "      <td>15.3</td>\n",
       "      <td>9</td>\n",
       "      <td>0.2</td>\n",
       "      <td>0.5</td>\n",
       "      <td>1.7</td>\n",
       "      <td>37.732525</td>\n",
       "      <td>-122.43342</td>\n",
       "    </tr>\n",
       "  </tbody>\n",
       "</table>\n",
       "</div>"
      ],
      "text/plain": [
       "       ROUTE DIRECTION                       STOP NAME  STOP ID  STOP SEQ  \\\n",
       "0  J-Church    INBOUND       San Jose Ave & Geneva Ave     7778         1   \n",
       "1  J-Church    INBOUND        San Jose Ave & Ocean Ave     6275         2   \n",
       "2  J-Church    INBOUND   San Jose Ave & Santa Ynez Ave     6288         3   \n",
       "3  J-Church    INBOUND   San Jose Ave & Santa Rosa Ave     6284         4   \n",
       "4  J-Church    INBOUND  San Jose Ave/Glen Park Station     4787         5   \n",
       "\n",
       "  Time Period  Total Boardings   Total Alightings   Total Train Load   \\\n",
       "0     7 - Owl              4.4                -                  4.4    \n",
       "1     7 - Owl              2.2                -                  6.5    \n",
       "2     7 - Owl              2.2                -                  8.7    \n",
       "3     7 - Owl              8.7                -                 17.5    \n",
       "4     7 - Owl              2.2                4.4               15.3    \n",
       "\n",
       "   Number of Trips in Time Period  Average Boardings   Average Alightings   \\\n",
       "0                               9                0.5                  -      \n",
       "1                               9                0.2                  -      \n",
       "2                               9                0.2                  -      \n",
       "3                               9                1.0                  -      \n",
       "4                               9                0.2                  0.5    \n",
       "\n",
       "   Average Train Load   Stop Latitude  Stop Longitude  \n",
       "0                 0.5       37.721240      -122.44622  \n",
       "1                 0.7       37.722862      -122.44479  \n",
       "2                 1.0       37.725680      -122.44244  \n",
       "3                 1.9       37.728992      -122.43992  \n",
       "4                 1.7       37.732525      -122.43342  "
      ]
     },
     "execution_count": 4,
     "metadata": {},
     "output_type": "execute_result"
    }
   ],
   "source": [
    "muni16.head()"
   ]
  },
  {
   "cell_type": "code",
   "execution_count": 61,
   "metadata": {
    "collapsed": false
   },
   "outputs": [],
   "source": [
    "muni16 = muni16.groupby(by = ['ROUTE','STOP NAME','DIRECTION','STOP ID'],as_index = False).sum()\n",
    "len(muni16)\n",
    "muni16 = muni16.sort_values(by = 'STOP NAME')"
   ]
  },
  {
   "cell_type": "code",
   "execution_count": 41,
   "metadata": {
    "collapsed": false
   },
   "outputs": [],
   "source": [
    "muni16.to_csv('muni16_sorted.csv')"
   ]
  },
  {
   "cell_type": "code",
   "execution_count": 23,
   "metadata": {
    "collapsed": false
   },
   "outputs": [
    {
     "name": "stdout",
     "output_type": "stream",
     "text": [
      "<class 'pandas.core.frame.DataFrame'>\n",
      "Int64Index: 308 entries, 0 to 307\n",
      "Data columns (total 15 columns):\n",
      "ROUTE                             308 non-null object\n",
      "STOP NAME                         308 non-null object\n",
      "DIRECTION                         308 non-null object\n",
      "STOP ID                           308 non-null int64\n",
      "STOP SEQ                          308 non-null int64\n",
      "Time Period                       308 non-null object\n",
      " Total Boardings                  308 non-null object\n",
      " Total Alightings                 308 non-null object\n",
      " Total Train Load                 308 non-null object\n",
      "Number of Trips in Time Period    308 non-null int64\n",
      " Average Boardings                308 non-null object\n",
      " Average Alightings               308 non-null object\n",
      " Average Train Load               308 non-null object\n",
      "Stop Latitude                     308 non-null float64\n",
      "Stop Longitude                    308 non-null float64\n",
      "dtypes: float64(2), int64(3), object(10)\n",
      "memory usage: 38.5+ KB\n"
     ]
    }
   ],
   "source": [
    "muni16.info()"
   ]
  },
  {
   "cell_type": "code",
   "execution_count": null,
   "metadata": {
    "collapsed": false
   },
   "outputs": [],
   "source": []
  },
  {
   "cell_type": "code",
   "execution_count": 38,
   "metadata": {
    "collapsed": false
   },
   "outputs": [
    {
     "data": {
      "text/html": [
       "<div>\n",
       "<table border=\"1\" class=\"dataframe\">\n",
       "  <thead>\n",
       "    <tr style=\"text-align: right;\">\n",
       "      <th></th>\n",
       "      <th>ROUTE</th>\n",
       "      <th>STOP NAME</th>\n",
       "      <th>DIRECTION</th>\n",
       "      <th>STOP ID</th>\n",
       "      <th>STOP SEQ</th>\n",
       "      <th>Time Period</th>\n",
       "      <th>Total Boardings</th>\n",
       "      <th>Total Alightings</th>\n",
       "      <th>Total Train Load</th>\n",
       "      <th>Number of Trips in Time Period</th>\n",
       "      <th>Average Boardings</th>\n",
       "      <th>Average Alightings</th>\n",
       "      <th>Average Train Load</th>\n",
       "      <th>Stop Latitude</th>\n",
       "      <th>Stop Longitude</th>\n",
       "    </tr>\n",
       "  </thead>\n",
       "  <tbody>\n",
       "    <tr>\n",
       "      <th>0</th>\n",
       "      <td>J-Church</td>\n",
       "      <td>30th St &amp; Dolores St</td>\n",
       "      <td>INBOUND</td>\n",
       "      <td>3537</td>\n",
       "      <td>7</td>\n",
       "      <td>7 - Owl</td>\n",
       "      <td>13.4</td>\n",
       "      <td>-</td>\n",
       "      <td>30.9</td>\n",
       "      <td>9</td>\n",
       "      <td>1.5</td>\n",
       "      <td>-</td>\n",
       "      <td>3.4</td>\n",
       "      <td>37.742306</td>\n",
       "      <td>-122.42403</td>\n",
       "    </tr>\n",
       "    <tr>\n",
       "      <th>1</th>\n",
       "      <td>J-Church</td>\n",
       "      <td>30th St &amp; Dolores St</td>\n",
       "      <td>OUTBOUND</td>\n",
       "      <td>3538</td>\n",
       "      <td>20</td>\n",
       "      <td>7 - Owl</td>\n",
       "      <td>-</td>\n",
       "      <td>-</td>\n",
       "      <td>8.2</td>\n",
       "      <td>7</td>\n",
       "      <td>-</td>\n",
       "      <td>-</td>\n",
       "      <td>1.2</td>\n",
       "      <td>37.742170</td>\n",
       "      <td>-122.42445</td>\n",
       "    </tr>\n",
       "    <tr>\n",
       "      <th>2</th>\n",
       "      <td>J-Church</td>\n",
       "      <td>Church St &amp; 14th St</td>\n",
       "      <td>OUTBOUND</td>\n",
       "      <td>7316</td>\n",
       "      <td>8</td>\n",
       "      <td>7 - Owl</td>\n",
       "      <td>7.6</td>\n",
       "      <td>2.1</td>\n",
       "      <td>14.5</td>\n",
       "      <td>7</td>\n",
       "      <td>1.1</td>\n",
       "      <td>0.3</td>\n",
       "      <td>2.1</td>\n",
       "      <td>37.767784</td>\n",
       "      <td>-122.42899</td>\n",
       "    </tr>\n",
       "    <tr>\n",
       "      <th>3</th>\n",
       "      <td>J-Church</td>\n",
       "      <td>Church St &amp; 16th St</td>\n",
       "      <td>INBOUND</td>\n",
       "      <td>3985</td>\n",
       "      <td>18</td>\n",
       "      <td>7 - Owl</td>\n",
       "      <td>-</td>\n",
       "      <td>-</td>\n",
       "      <td>100.4</td>\n",
       "      <td>9</td>\n",
       "      <td>-</td>\n",
       "      <td>-</td>\n",
       "      <td>11.2</td>\n",
       "      <td>37.764385</td>\n",
       "      <td>-122.42861</td>\n",
       "    </tr>\n",
       "    <tr>\n",
       "      <th>4</th>\n",
       "      <td>J-Church</td>\n",
       "      <td>Church St &amp; 16th St</td>\n",
       "      <td>OUTBOUND</td>\n",
       "      <td>3984</td>\n",
       "      <td>9</td>\n",
       "      <td>7 - Owl</td>\n",
       "      <td>-</td>\n",
       "      <td>4.1</td>\n",
       "      <td>10.4</td>\n",
       "      <td>7</td>\n",
       "      <td>-</td>\n",
       "      <td>0.6</td>\n",
       "      <td>1.5</td>\n",
       "      <td>37.764620</td>\n",
       "      <td>-122.42872</td>\n",
       "    </tr>\n",
       "  </tbody>\n",
       "</table>\n",
       "</div>"
      ],
      "text/plain": [
       "       ROUTE             STOP NAME DIRECTION  STOP ID  STOP SEQ Time Period  \\\n",
       "0  J-Church   30th St & Dolores St   INBOUND     3537         7     7 - Owl   \n",
       "1  J-Church   30th St & Dolores St  OUTBOUND     3538        20     7 - Owl   \n",
       "2  J-Church    Church St & 14th St  OUTBOUND     7316         8     7 - Owl   \n",
       "3  J-Church    Church St & 16th St   INBOUND     3985        18     7 - Owl   \n",
       "4  J-Church    Church St & 16th St  OUTBOUND     3984         9     7 - Owl   \n",
       "\n",
       "   Total Boardings   Total Alightings   Total Train Load   \\\n",
       "0             13.4                -                 30.9    \n",
       "1              -                  -                  8.2    \n",
       "2              7.6                2.1               14.5    \n",
       "3              -                  -                100.4    \n",
       "4              -                  4.1               10.4    \n",
       "\n",
       "   Number of Trips in Time Period  Average Boardings   Average Alightings   \\\n",
       "0                               9                1.5                  -      \n",
       "1                               7                -                    -      \n",
       "2                               7                1.1                  0.3    \n",
       "3                               9                -                    -      \n",
       "4                               7                -                    0.6    \n",
       "\n",
       "   Average Train Load   Stop Latitude  Stop Longitude  \n",
       "0                 3.4       37.742306      -122.42403  \n",
       "1                 1.2       37.742170      -122.42445  \n",
       "2                 2.1       37.767784      -122.42899  \n",
       "3                11.2       37.764385      -122.42861  \n",
       "4                 1.5       37.764620      -122.42872  "
      ]
     },
     "execution_count": 38,
     "metadata": {},
     "output_type": "execute_result"
    }
   ],
   "source": [
    "muni16.head()"
   ]
  },
  {
   "cell_type": "code",
   "execution_count": 33,
   "metadata": {
    "collapsed": false
   },
   "outputs": [
    {
     "data": {
      "text/html": [
       "<div>\n",
       "<table border=\"1\" class=\"dataframe\">\n",
       "  <thead>\n",
       "    <tr style=\"text-align: right;\">\n",
       "      <th></th>\n",
       "      <th>ROUTE</th>\n",
       "      <th>DIRECTION</th>\n",
       "      <th>STOP NAME</th>\n",
       "      <th>STOP ID</th>\n",
       "      <th>STOP SEQ</th>\n",
       "      <th>Time Period</th>\n",
       "      <th>Total Boardings</th>\n",
       "      <th>Total Alightings</th>\n",
       "      <th>Total Train Load</th>\n",
       "      <th>Number of Trips in Time Period</th>\n",
       "      <th>Average Boardings</th>\n",
       "      <th>Average Alightings</th>\n",
       "      <th>Average Train Load</th>\n",
       "      <th>Stop Latitude</th>\n",
       "      <th>Stop Longitude</th>\n",
       "    </tr>\n",
       "  </thead>\n",
       "  <tbody>\n",
       "    <tr>\n",
       "      <th>0</th>\n",
       "      <td>J-Church</td>\n",
       "      <td>INBOUND</td>\n",
       "      <td>San Jose Ave &amp; Geneva Ave</td>\n",
       "      <td>7778</td>\n",
       "      <td>1</td>\n",
       "      <td>7 - Owl</td>\n",
       "      <td>4.4</td>\n",
       "      <td>-</td>\n",
       "      <td>4.4</td>\n",
       "      <td>9</td>\n",
       "      <td>0.5</td>\n",
       "      <td>-</td>\n",
       "      <td>0.5</td>\n",
       "      <td>37.721240</td>\n",
       "      <td>-122.44622</td>\n",
       "    </tr>\n",
       "    <tr>\n",
       "      <th>1</th>\n",
       "      <td>J-Church</td>\n",
       "      <td>INBOUND</td>\n",
       "      <td>San Jose Ave &amp; Ocean Ave</td>\n",
       "      <td>6275</td>\n",
       "      <td>2</td>\n",
       "      <td>7 - Owl</td>\n",
       "      <td>2.2</td>\n",
       "      <td>-</td>\n",
       "      <td>6.5</td>\n",
       "      <td>9</td>\n",
       "      <td>0.2</td>\n",
       "      <td>-</td>\n",
       "      <td>0.7</td>\n",
       "      <td>37.722862</td>\n",
       "      <td>-122.44479</td>\n",
       "    </tr>\n",
       "    <tr>\n",
       "      <th>2</th>\n",
       "      <td>J-Church</td>\n",
       "      <td>INBOUND</td>\n",
       "      <td>San Jose Ave &amp; Santa Ynez Ave</td>\n",
       "      <td>6288</td>\n",
       "      <td>3</td>\n",
       "      <td>7 - Owl</td>\n",
       "      <td>2.2</td>\n",
       "      <td>-</td>\n",
       "      <td>8.7</td>\n",
       "      <td>9</td>\n",
       "      <td>0.2</td>\n",
       "      <td>-</td>\n",
       "      <td>1.0</td>\n",
       "      <td>37.725680</td>\n",
       "      <td>-122.44244</td>\n",
       "    </tr>\n",
       "    <tr>\n",
       "      <th>3</th>\n",
       "      <td>J-Church</td>\n",
       "      <td>INBOUND</td>\n",
       "      <td>San Jose Ave &amp; Santa Rosa Ave</td>\n",
       "      <td>6284</td>\n",
       "      <td>4</td>\n",
       "      <td>7 - Owl</td>\n",
       "      <td>8.7</td>\n",
       "      <td>-</td>\n",
       "      <td>17.5</td>\n",
       "      <td>9</td>\n",
       "      <td>1.0</td>\n",
       "      <td>-</td>\n",
       "      <td>1.9</td>\n",
       "      <td>37.728992</td>\n",
       "      <td>-122.43992</td>\n",
       "    </tr>\n",
       "    <tr>\n",
       "      <th>4</th>\n",
       "      <td>J-Church</td>\n",
       "      <td>INBOUND</td>\n",
       "      <td>San Jose Ave/Glen Park Station</td>\n",
       "      <td>4787</td>\n",
       "      <td>5</td>\n",
       "      <td>7 - Owl</td>\n",
       "      <td>2.2</td>\n",
       "      <td>4.4</td>\n",
       "      <td>15.3</td>\n",
       "      <td>9</td>\n",
       "      <td>0.2</td>\n",
       "      <td>0.5</td>\n",
       "      <td>1.7</td>\n",
       "      <td>37.732525</td>\n",
       "      <td>-122.43342</td>\n",
       "    </tr>\n",
       "  </tbody>\n",
       "</table>\n",
       "</div>"
      ],
      "text/plain": [
       "       ROUTE DIRECTION                       STOP NAME  STOP ID  STOP SEQ  \\\n",
       "0  J-Church    INBOUND       San Jose Ave & Geneva Ave     7778         1   \n",
       "1  J-Church    INBOUND        San Jose Ave & Ocean Ave     6275         2   \n",
       "2  J-Church    INBOUND   San Jose Ave & Santa Ynez Ave     6288         3   \n",
       "3  J-Church    INBOUND   San Jose Ave & Santa Rosa Ave     6284         4   \n",
       "4  J-Church    INBOUND  San Jose Ave/Glen Park Station     4787         5   \n",
       "\n",
       "  Time Period  Total Boardings   Total Alightings   Total Train Load   \\\n",
       "0     7 - Owl              4.4                -                  4.4    \n",
       "1     7 - Owl              2.2                -                  6.5    \n",
       "2     7 - Owl              2.2                -                  8.7    \n",
       "3     7 - Owl              8.7                -                 17.5    \n",
       "4     7 - Owl              2.2                4.4               15.3    \n",
       "\n",
       "   Number of Trips in Time Period  Average Boardings   Average Alightings   \\\n",
       "0                               9                0.5                  -      \n",
       "1                               9                0.2                  -      \n",
       "2                               9                0.2                  -      \n",
       "3                               9                1.0                  -      \n",
       "4                               9                0.2                  0.5    \n",
       "\n",
       "   Average Train Load   Stop Latitude  Stop Longitude  \n",
       "0                 0.5       37.721240      -122.44622  \n",
       "1                 0.7       37.722862      -122.44479  \n",
       "2                 1.0       37.725680      -122.44244  \n",
       "3                 1.9       37.728992      -122.43992  \n",
       "4                 1.7       37.732525      -122.43342  "
      ]
     },
     "execution_count": 33,
     "metadata": {},
     "output_type": "execute_result"
    }
   ],
   "source": [
    "muni16.head()"
   ]
  },
  {
   "cell_type": "code",
   "execution_count": 48,
   "metadata": {
    "collapsed": false
   },
   "outputs": [],
   "source": []
  },
  {
   "cell_type": "code",
   "execution_count": 58,
   "metadata": {
    "collapsed": false
   },
   "outputs": [
    {
     "data": {
      "text/html": [
       "<div>\n",
       "<table border=\"1\" class=\"dataframe\">\n",
       "  <thead>\n",
       "    <tr style=\"text-align: right;\">\n",
       "      <th></th>\n",
       "      <th>Route</th>\n",
       "      <th>STOP</th>\n",
       "      <th>Boardings</th>\n",
       "      <th>Alightings</th>\n",
       "      <th>DIR</th>\n",
       "      <th>Unnamed: 5</th>\n",
       "    </tr>\n",
       "  </thead>\n",
       "  <tbody>\n",
       "    <tr>\n",
       "      <th>0</th>\n",
       "      <td>59-POWELL/MASON</td>\n",
       "      <td>Taylor&amp;Bay</td>\n",
       "      <td>3,527</td>\n",
       "      <td>0</td>\n",
       "      <td>1</td>\n",
       "      <td>NaN</td>\n",
       "    </tr>\n",
       "    <tr>\n",
       "      <th>1</th>\n",
       "      <td>59-POWELL/MASON</td>\n",
       "      <td>Taylor&amp;Colmbs</td>\n",
       "      <td>49</td>\n",
       "      <td>4</td>\n",
       "      <td>1</td>\n",
       "      <td>NaN</td>\n",
       "    </tr>\n",
       "    <tr>\n",
       "      <th>2</th>\n",
       "      <td>59-POWELL/MASON</td>\n",
       "      <td>Colmbs&amp;Lmbrd</td>\n",
       "      <td>251</td>\n",
       "      <td>18</td>\n",
       "      <td>1</td>\n",
       "      <td>NaN</td>\n",
       "    </tr>\n",
       "    <tr>\n",
       "      <th>3</th>\n",
       "      <td>59-POWELL/MASON</td>\n",
       "      <td>Mason&amp;Grnwch</td>\n",
       "      <td>108</td>\n",
       "      <td>10</td>\n",
       "      <td>1</td>\n",
       "      <td>NaN</td>\n",
       "    </tr>\n",
       "    <tr>\n",
       "      <th>4</th>\n",
       "      <td>59-POWELL/MASON</td>\n",
       "      <td>Mason&amp;Filbert</td>\n",
       "      <td>59</td>\n",
       "      <td>5</td>\n",
       "      <td>1</td>\n",
       "      <td>NaN</td>\n",
       "    </tr>\n",
       "  </tbody>\n",
       "</table>\n",
       "</div>"
      ],
      "text/plain": [
       "             Route           STOP Boardings Alightings  DIR  Unnamed: 5\n",
       "0  59-POWELL/MASON     Taylor&Bay     3,527          0    1         NaN\n",
       "1  59-POWELL/MASON  Taylor&Colmbs        49          4    1         NaN\n",
       "2  59-POWELL/MASON   Colmbs&Lmbrd       251         18    1         NaN\n",
       "3  59-POWELL/MASON   Mason&Grnwch       108         10    1         NaN\n",
       "4  59-POWELL/MASON  Mason&Filbert        59          5    1         NaN"
      ]
     },
     "execution_count": 58,
     "metadata": {},
     "output_type": "execute_result"
    }
   ],
   "source": [
    "muni09.head()"
   ]
  },
  {
   "cell_type": "code",
   "execution_count": 71,
   "metadata": {
    "collapsed": false
   },
   "outputs": [],
   "source": [
    "store = pd.HDFStore(\"E:/Transit_Casa/Output/sfmuni_monthly_ts.h5\")\n",
    "\n",
    "df = store.get('rs_day')\n",
    "df = df[df['MONTH'].isin(pd.date_range('2009-01-01','2009-12-01'))]"
   ]
  },
  {
   "cell_type": "code",
   "execution_count": 72,
   "metadata": {
    "collapsed": false
   },
   "outputs": [
    {
     "data": {
      "text/html": [
       "<div>\n",
       "<table border=\"1\" class=\"dataframe\">\n",
       "  <thead>\n",
       "    <tr style=\"text-align: right;\">\n",
       "      <th></th>\n",
       "      <th>MONTH</th>\n",
       "      <th>DOW</th>\n",
       "      <th>AGENCY_ID</th>\n",
       "      <th>ROUTE_SHORT_NAME</th>\n",
       "      <th>DIR</th>\n",
       "      <th>SEQ</th>\n",
       "      <th>NUMDAYS</th>\n",
       "      <th>OBSDAYS</th>\n",
       "      <th>TRIP_STOPS</th>\n",
       "      <th>OBS_TRIP_STOPS</th>\n",
       "      <th>WGT_TRIP_STOPS</th>\n",
       "      <th>STOP_ID</th>\n",
       "      <th>ROUTE_LONG_NAME</th>\n",
       "      <th>ROUTE_TYPE</th>\n",
       "      <th>TRIP_HEADSIGN</th>\n",
       "      <th>HEADWAY_S</th>\n",
       "      <th>FARE</th>\n",
       "      <th>STOPNAME</th>\n",
       "      <th>STOPNAME_AVL</th>\n",
       "      <th>STOP_LAT</th>\n",
       "      <th>STOP_LON</th>\n",
       "      <th>EOL</th>\n",
       "      <th>SOL</th>\n",
       "      <th>TIMEPOINT</th>\n",
       "      <th>ARRIVAL_TIME_DEV</th>\n",
       "      <th>DEPARTURE_TIME_DEV</th>\n",
       "      <th>DWELL_S</th>\n",
       "      <th>DWELL</th>\n",
       "      <th>RUNTIME_S</th>\n",
       "      <th>RUNTIME</th>\n",
       "      <th>TOTTIME_S</th>\n",
       "      <th>TOTTIME</th>\n",
       "      <th>SERVMILES_S</th>\n",
       "      <th>SERVMILES</th>\n",
       "      <th>RUNSPEED_S</th>\n",
       "      <th>RUNSPEED</th>\n",
       "      <th>TOTSPEED_S</th>\n",
       "      <th>TOTSPEED</th>\n",
       "      <th>ONTIME5</th>\n",
       "      <th>ON</th>\n",
       "      <th>OFF</th>\n",
       "      <th>LOAD_ARR</th>\n",
       "      <th>LOAD_DEP</th>\n",
       "      <th>PASSMILES</th>\n",
       "      <th>PASSHOURS</th>\n",
       "      <th>WAITHOURS</th>\n",
       "      <th>FULLFARE_REV</th>\n",
       "      <th>PASSDELAY_DEP</th>\n",
       "      <th>PASSDELAY_ARR</th>\n",
       "      <th>RDBRDNGS</th>\n",
       "      <th>DOORCYCLES</th>\n",
       "      <th>WHEELCHAIR</th>\n",
       "      <th>BIKERACK</th>\n",
       "      <th>CAPACITY</th>\n",
       "      <th>VC</th>\n",
       "      <th>CROWDED</th>\n",
       "      <th>CROWDHOURS</th>\n",
       "    </tr>\n",
       "  </thead>\n",
       "  <tbody>\n",
       "    <tr>\n",
       "      <th>0</th>\n",
       "      <td>2009-06-01</td>\n",
       "      <td>1</td>\n",
       "      <td>SFMTA</td>\n",
       "      <td>016AX</td>\n",
       "      <td>0</td>\n",
       "      <td>3</td>\n",
       "      <td>12</td>\n",
       "      <td>11</td>\n",
       "      <td>13</td>\n",
       "      <td>2</td>\n",
       "      <td>13.0</td>\n",
       "      <td>3612</td>\n",
       "      <td>NORIEGA A EXP</td>\n",
       "      <td>3</td>\n",
       "      <td>48th Avenue</td>\n",
       "      <td>10.666667</td>\n",
       "      <td>2.0</td>\n",
       "      <td>Cyril Magnin St &amp; Market St</td>\n",
       "      <td>5TH ST NORTH&amp;MARKET ST NW</td>\n",
       "      <td>37.784011</td>\n",
       "      <td>-122.408210</td>\n",
       "      <td>0</td>\n",
       "      <td>1</td>\n",
       "      <td>1.0</td>\n",
       "      <td>-4.083968</td>\n",
       "      <td>-0.189805</td>\n",
       "      <td>0.0</td>\n",
       "      <td>50.597210</td>\n",
       "      <td>0.00</td>\n",
       "      <td>0.000000</td>\n",
       "      <td>0.00</td>\n",
       "      <td>50.597210</td>\n",
       "      <td>0.000</td>\n",
       "      <td>0.000</td>\n",
       "      <td>0.00</td>\n",
       "      <td>0.00</td>\n",
       "      <td>0.00</td>\n",
       "      <td>0.00</td>\n",
       "      <td>0.671212</td>\n",
       "      <td>212.620346</td>\n",
       "      <td>1.181818</td>\n",
       "      <td>1.181818</td>\n",
       "      <td>212.620346</td>\n",
       "      <td>0.000000</td>\n",
       "      <td>14.251523</td>\n",
       "      <td>20.181656</td>\n",
       "      <td>425.240693</td>\n",
       "      <td>140.166169</td>\n",
       "      <td>75.003247</td>\n",
       "      <td>0.0</td>\n",
       "      <td>19.716667</td>\n",
       "      <td>0.0</td>\n",
       "      <td>0.0</td>\n",
       "      <td>177.545455</td>\n",
       "      <td>0.001443</td>\n",
       "      <td>0.0</td>\n",
       "      <td>0.0</td>\n",
       "    </tr>\n",
       "    <tr>\n",
       "      <th>1</th>\n",
       "      <td>2009-06-01</td>\n",
       "      <td>1</td>\n",
       "      <td>SFMTA</td>\n",
       "      <td>016AX</td>\n",
       "      <td>0</td>\n",
       "      <td>4</td>\n",
       "      <td>12</td>\n",
       "      <td>0</td>\n",
       "      <td>13</td>\n",
       "      <td>0</td>\n",
       "      <td>13.0</td>\n",
       "      <td>7305</td>\n",
       "      <td>NORIEGA A EXP</td>\n",
       "      <td>3</td>\n",
       "      <td>48th Avenue</td>\n",
       "      <td>10.666667</td>\n",
       "      <td>2.0</td>\n",
       "      <td>Eddy St &amp; Cyril Magnin St</td>\n",
       "      <td>nan</td>\n",
       "      <td>37.784386</td>\n",
       "      <td>-122.408599</td>\n",
       "      <td>0</td>\n",
       "      <td>0</td>\n",
       "      <td>NaN</td>\n",
       "      <td>NaN</td>\n",
       "      <td>NaN</td>\n",
       "      <td>0.0</td>\n",
       "      <td>NaN</td>\n",
       "      <td>2.99</td>\n",
       "      <td>NaN</td>\n",
       "      <td>2.99</td>\n",
       "      <td>NaN</td>\n",
       "      <td>0.546</td>\n",
       "      <td>0.546</td>\n",
       "      <td>10.96</td>\n",
       "      <td>NaN</td>\n",
       "      <td>10.96</td>\n",
       "      <td>NaN</td>\n",
       "      <td>NaN</td>\n",
       "      <td>NaN</td>\n",
       "      <td>NaN</td>\n",
       "      <td>NaN</td>\n",
       "      <td>NaN</td>\n",
       "      <td>NaN</td>\n",
       "      <td>NaN</td>\n",
       "      <td>NaN</td>\n",
       "      <td>NaN</td>\n",
       "      <td>NaN</td>\n",
       "      <td>NaN</td>\n",
       "      <td>NaN</td>\n",
       "      <td>NaN</td>\n",
       "      <td>NaN</td>\n",
       "      <td>NaN</td>\n",
       "      <td>NaN</td>\n",
       "      <td>NaN</td>\n",
       "      <td>NaN</td>\n",
       "      <td>NaN</td>\n",
       "    </tr>\n",
       "    <tr>\n",
       "      <th>2</th>\n",
       "      <td>2009-06-01</td>\n",
       "      <td>1</td>\n",
       "      <td>SFMTA</td>\n",
       "      <td>016AX</td>\n",
       "      <td>0</td>\n",
       "      <td>5</td>\n",
       "      <td>12</td>\n",
       "      <td>11</td>\n",
       "      <td>13</td>\n",
       "      <td>2</td>\n",
       "      <td>13.0</td>\n",
       "      <td>6733</td>\n",
       "      <td>NORIEGA A EXP</td>\n",
       "      <td>3</td>\n",
       "      <td>48th Avenue</td>\n",
       "      <td>10.666667</td>\n",
       "      <td>2.0</td>\n",
       "      <td>Turk St &amp; Taylor St</td>\n",
       "      <td>TURK ST&amp;TAYLOR ST N-MB/BZ</td>\n",
       "      <td>37.783387</td>\n",
       "      <td>-122.409895</td>\n",
       "      <td>0</td>\n",
       "      <td>0</td>\n",
       "      <td>0.0</td>\n",
       "      <td>-0.104658</td>\n",
       "      <td>-0.083203</td>\n",
       "      <td>0.0</td>\n",
       "      <td>0.286000</td>\n",
       "      <td>11.05</td>\n",
       "      <td>15.190106</td>\n",
       "      <td>11.05</td>\n",
       "      <td>15.476106</td>\n",
       "      <td>1.716</td>\n",
       "      <td>1.716</td>\n",
       "      <td>9.32</td>\n",
       "      <td>6.78</td>\n",
       "      <td>9.32</td>\n",
       "      <td>6.65</td>\n",
       "      <td>0.739394</td>\n",
       "      <td>3.309091</td>\n",
       "      <td>0.000000</td>\n",
       "      <td>212.620346</td>\n",
       "      <td>215.929437</td>\n",
       "      <td>28.065886</td>\n",
       "      <td>4.450685</td>\n",
       "      <td>0.281667</td>\n",
       "      <td>6.618182</td>\n",
       "      <td>0.269455</td>\n",
       "      <td>0.222182</td>\n",
       "      <td>0.0</td>\n",
       "      <td>2.600000</td>\n",
       "      <td>0.0</td>\n",
       "      <td>0.0</td>\n",
       "      <td>177.545455</td>\n",
       "      <td>0.259610</td>\n",
       "      <td>0.0</td>\n",
       "      <td>0.0</td>\n",
       "    </tr>\n",
       "    <tr>\n",
       "      <th>3</th>\n",
       "      <td>2009-06-01</td>\n",
       "      <td>1</td>\n",
       "      <td>SFMTA</td>\n",
       "      <td>016AX</td>\n",
       "      <td>0</td>\n",
       "      <td>6</td>\n",
       "      <td>12</td>\n",
       "      <td>11</td>\n",
       "      <td>13</td>\n",
       "      <td>2</td>\n",
       "      <td>13.0</td>\n",
       "      <td>6719</td>\n",
       "      <td>NORIEGA A EXP</td>\n",
       "      <td>3</td>\n",
       "      <td>48th Avenue</td>\n",
       "      <td>10.666667</td>\n",
       "      <td>2.0</td>\n",
       "      <td>Turk St &amp; Jones St</td>\n",
       "      <td>TURK ST&amp;JONES ST NW-FS/BZ</td>\n",
       "      <td>37.783039</td>\n",
       "      <td>-122.412577</td>\n",
       "      <td>0</td>\n",
       "      <td>0</td>\n",
       "      <td>0.0</td>\n",
       "      <td>-0.286771</td>\n",
       "      <td>-0.281673</td>\n",
       "      <td>0.0</td>\n",
       "      <td>0.067955</td>\n",
       "      <td>12.74</td>\n",
       "      <td>10.124777</td>\n",
       "      <td>12.74</td>\n",
       "      <td>10.192732</td>\n",
       "      <td>1.937</td>\n",
       "      <td>1.937</td>\n",
       "      <td>9.12</td>\n",
       "      <td>11.48</td>\n",
       "      <td>9.12</td>\n",
       "      <td>11.40</td>\n",
       "      <td>0.643074</td>\n",
       "      <td>0.531818</td>\n",
       "      <td>0.000000</td>\n",
       "      <td>215.929437</td>\n",
       "      <td>216.461255</td>\n",
       "      <td>32.173486</td>\n",
       "      <td>2.842919</td>\n",
       "      <td>0.059091</td>\n",
       "      <td>1.063636</td>\n",
       "      <td>0.850909</td>\n",
       "      <td>0.806591</td>\n",
       "      <td>0.0</td>\n",
       "      <td>0.937013</td>\n",
       "      <td>0.0</td>\n",
       "      <td>0.0</td>\n",
       "      <td>177.545455</td>\n",
       "      <td>0.263650</td>\n",
       "      <td>0.0</td>\n",
       "      <td>0.0</td>\n",
       "    </tr>\n",
       "    <tr>\n",
       "      <th>4</th>\n",
       "      <td>2009-06-01</td>\n",
       "      <td>1</td>\n",
       "      <td>SFMTA</td>\n",
       "      <td>016AX</td>\n",
       "      <td>0</td>\n",
       "      <td>7</td>\n",
       "      <td>12</td>\n",
       "      <td>11</td>\n",
       "      <td>13</td>\n",
       "      <td>2</td>\n",
       "      <td>13.0</td>\n",
       "      <td>6721</td>\n",
       "      <td>NORIEGA A EXP</td>\n",
       "      <td>3</td>\n",
       "      <td>48th Avenue</td>\n",
       "      <td>10.666667</td>\n",
       "      <td>2.0</td>\n",
       "      <td>Turk St &amp; Leavenworth St</td>\n",
       "      <td>TURK ST&amp;LEAVENWORTH ST NW</td>\n",
       "      <td>37.782835</td>\n",
       "      <td>-122.414217</td>\n",
       "      <td>0</td>\n",
       "      <td>0</td>\n",
       "      <td>0.0</td>\n",
       "      <td>-0.230974</td>\n",
       "      <td>-0.212814</td>\n",
       "      <td>0.0</td>\n",
       "      <td>0.236082</td>\n",
       "      <td>7.80</td>\n",
       "      <td>8.448762</td>\n",
       "      <td>7.80</td>\n",
       "      <td>8.684844</td>\n",
       "      <td>1.183</td>\n",
       "      <td>1.183</td>\n",
       "      <td>9.10</td>\n",
       "      <td>8.40</td>\n",
       "      <td>9.10</td>\n",
       "      <td>8.17</td>\n",
       "      <td>0.643074</td>\n",
       "      <td>4.445887</td>\n",
       "      <td>0.000000</td>\n",
       "      <td>216.461255</td>\n",
       "      <td>220.907143</td>\n",
       "      <td>19.697974</td>\n",
       "      <td>2.593526</td>\n",
       "      <td>0.492424</td>\n",
       "      <td>8.891775</td>\n",
       "      <td>0.263377</td>\n",
       "      <td>0.187403</td>\n",
       "      <td>0.0</td>\n",
       "      <td>8.047619</td>\n",
       "      <td>0.0</td>\n",
       "      <td>0.0</td>\n",
       "      <td>177.545455</td>\n",
       "      <td>0.264299</td>\n",
       "      <td>0.0</td>\n",
       "      <td>0.0</td>\n",
       "    </tr>\n",
       "  </tbody>\n",
       "</table>\n",
       "</div>"
      ],
      "text/plain": [
       "       MONTH  DOW AGENCY_ID ROUTE_SHORT_NAME  DIR  SEQ  NUMDAYS  OBSDAYS  \\\n",
       "0 2009-06-01    1     SFMTA            016AX    0    3       12       11   \n",
       "1 2009-06-01    1     SFMTA            016AX    0    4       12        0   \n",
       "2 2009-06-01    1     SFMTA            016AX    0    5       12       11   \n",
       "3 2009-06-01    1     SFMTA            016AX    0    6       12       11   \n",
       "4 2009-06-01    1     SFMTA            016AX    0    7       12       11   \n",
       "\n",
       "   TRIP_STOPS  OBS_TRIP_STOPS  WGT_TRIP_STOPS  STOP_ID ROUTE_LONG_NAME  \\\n",
       "0          13               2            13.0     3612   NORIEGA A EXP   \n",
       "1          13               0            13.0     7305   NORIEGA A EXP   \n",
       "2          13               2            13.0     6733   NORIEGA A EXP   \n",
       "3          13               2            13.0     6719   NORIEGA A EXP   \n",
       "4          13               2            13.0     6721   NORIEGA A EXP   \n",
       "\n",
       "   ROUTE_TYPE TRIP_HEADSIGN  HEADWAY_S  FARE                       STOPNAME  \\\n",
       "0           3   48th Avenue  10.666667   2.0  Cyril Magnin St & Market St     \n",
       "1           3   48th Avenue  10.666667   2.0      Eddy St & Cyril Magnin St   \n",
       "2           3   48th Avenue  10.666667   2.0         Turk St & Taylor St      \n",
       "3           3   48th Avenue  10.666667   2.0           Turk St & Jones St     \n",
       "4           3   48th Avenue  10.666667   2.0     Turk St & Leavenworth St     \n",
       "\n",
       "                STOPNAME_AVL   STOP_LAT    STOP_LON  EOL  SOL  TIMEPOINT  \\\n",
       "0  5TH ST NORTH&MARKET ST NW  37.784011 -122.408210    0    1        1.0   \n",
       "1                        nan  37.784386 -122.408599    0    0        NaN   \n",
       "2  TURK ST&TAYLOR ST N-MB/BZ  37.783387 -122.409895    0    0        0.0   \n",
       "3  TURK ST&JONES ST NW-FS/BZ  37.783039 -122.412577    0    0        0.0   \n",
       "4  TURK ST&LEAVENWORTH ST NW  37.782835 -122.414217    0    0        0.0   \n",
       "\n",
       "   ARRIVAL_TIME_DEV  DEPARTURE_TIME_DEV  DWELL_S      DWELL  RUNTIME_S  \\\n",
       "0         -4.083968           -0.189805      0.0  50.597210       0.00   \n",
       "1               NaN                 NaN      0.0        NaN       2.99   \n",
       "2         -0.104658           -0.083203      0.0   0.286000      11.05   \n",
       "3         -0.286771           -0.281673      0.0   0.067955      12.74   \n",
       "4         -0.230974           -0.212814      0.0   0.236082       7.80   \n",
       "\n",
       "     RUNTIME  TOTTIME_S    TOTTIME  SERVMILES_S  SERVMILES  RUNSPEED_S  \\\n",
       "0   0.000000       0.00  50.597210        0.000      0.000        0.00   \n",
       "1        NaN       2.99        NaN        0.546      0.546       10.96   \n",
       "2  15.190106      11.05  15.476106        1.716      1.716        9.32   \n",
       "3  10.124777      12.74  10.192732        1.937      1.937        9.12   \n",
       "4   8.448762       7.80   8.684844        1.183      1.183        9.10   \n",
       "\n",
       "   RUNSPEED  TOTSPEED_S  TOTSPEED   ONTIME5          ON       OFF    LOAD_ARR  \\\n",
       "0      0.00        0.00      0.00  0.671212  212.620346  1.181818    1.181818   \n",
       "1       NaN       10.96       NaN       NaN         NaN       NaN         NaN   \n",
       "2      6.78        9.32      6.65  0.739394    3.309091  0.000000  212.620346   \n",
       "3     11.48        9.12     11.40  0.643074    0.531818  0.000000  215.929437   \n",
       "4      8.40        9.10      8.17  0.643074    4.445887  0.000000  216.461255   \n",
       "\n",
       "     LOAD_DEP  PASSMILES  PASSHOURS  WAITHOURS  FULLFARE_REV  PASSDELAY_DEP  \\\n",
       "0  212.620346   0.000000  14.251523  20.181656    425.240693     140.166169   \n",
       "1         NaN        NaN        NaN        NaN           NaN            NaN   \n",
       "2  215.929437  28.065886   4.450685   0.281667      6.618182       0.269455   \n",
       "3  216.461255  32.173486   2.842919   0.059091      1.063636       0.850909   \n",
       "4  220.907143  19.697974   2.593526   0.492424      8.891775       0.263377   \n",
       "\n",
       "   PASSDELAY_ARR  RDBRDNGS  DOORCYCLES  WHEELCHAIR  BIKERACK    CAPACITY  \\\n",
       "0      75.003247       0.0   19.716667         0.0       0.0  177.545455   \n",
       "1            NaN       NaN         NaN         NaN       NaN         NaN   \n",
       "2       0.222182       0.0    2.600000         0.0       0.0  177.545455   \n",
       "3       0.806591       0.0    0.937013         0.0       0.0  177.545455   \n",
       "4       0.187403       0.0    8.047619         0.0       0.0  177.545455   \n",
       "\n",
       "         VC  CROWDED  CROWDHOURS  \n",
       "0  0.001443      0.0         0.0  \n",
       "1       NaN      NaN         NaN  \n",
       "2  0.259610      0.0         0.0  \n",
       "3  0.263650      0.0         0.0  \n",
       "4  0.264299      0.0         0.0  "
      ]
     },
     "execution_count": 72,
     "metadata": {},
     "output_type": "execute_result"
    }
   ],
   "source": [
    "pd.set_option('max_columns',500)\n",
    "df.head()"
   ]
  },
  {
   "cell_type": "code",
   "execution_count": 59,
   "metadata": {
    "collapsed": false
   },
   "outputs": [
    {
     "data": {
      "text/html": [
       "<div>\n",
       "<table border=\"1\" class=\"dataframe\">\n",
       "  <thead>\n",
       "    <tr style=\"text-align: right;\">\n",
       "      <th></th>\n",
       "      <th>Route</th>\n",
       "      <th>STOP</th>\n",
       "      <th>Boardings</th>\n",
       "      <th>Alightings</th>\n",
       "      <th>DIR</th>\n",
       "      <th>Unnamed: 5</th>\n",
       "      <th>MONTH</th>\n",
       "      <th>DOW</th>\n",
       "      <th>AGENCY_ID</th>\n",
       "      <th>STOP_ID</th>\n",
       "      <th>NUMDAYS</th>\n",
       "      <th>OBSDAYS</th>\n",
       "      <th>TRIP_STOPS</th>\n",
       "      <th>OBS_TRIP_STOPS</th>\n",
       "      <th>WGT_TRIP_STOPS</th>\n",
       "      <th>HEADWAY_S</th>\n",
       "      <th>FARE</th>\n",
       "      <th>STOPNAME</th>\n",
       "      <th>STOPNAME_AVL</th>\n",
       "      <th>STOP_LAT</th>\n",
       "      <th>STOP_LON</th>\n",
       "      <th>EOL</th>\n",
       "      <th>SOL</th>\n",
       "      <th>TIMEPOINT</th>\n",
       "      <th>ARRIVAL_TIME_DEV</th>\n",
       "      <th>DEPARTURE_TIME_DEV</th>\n",
       "      <th>DWELL_S</th>\n",
       "      <th>DWELL</th>\n",
       "      <th>RUNTIME_S</th>\n",
       "      <th>RUNTIME</th>\n",
       "      <th>TOTTIME_S</th>\n",
       "      <th>TOTTIME</th>\n",
       "      <th>SERVMILES_S</th>\n",
       "      <th>SERVMILES</th>\n",
       "      <th>RUNSPEED_S</th>\n",
       "      <th>RUNSPEED</th>\n",
       "      <th>TOTSPEED_S</th>\n",
       "      <th>TOTSPEED</th>\n",
       "      <th>ONTIME5</th>\n",
       "      <th>ON</th>\n",
       "      <th>OFF</th>\n",
       "      <th>LOAD_ARR</th>\n",
       "      <th>LOAD_DEP</th>\n",
       "      <th>PASSMILES</th>\n",
       "      <th>PASSHOURS</th>\n",
       "      <th>WAITHOURS</th>\n",
       "      <th>FULLFARE_REV</th>\n",
       "      <th>PASSDELAY_DEP</th>\n",
       "      <th>PASSDELAY_ARR</th>\n",
       "      <th>RDBRDNGS</th>\n",
       "      <th>DOORCYCLES</th>\n",
       "      <th>WHEELCHAIR</th>\n",
       "      <th>BIKERACK</th>\n",
       "      <th>CAPACITY</th>\n",
       "      <th>VC</th>\n",
       "      <th>CROWDED</th>\n",
       "      <th>CROWDHOURS</th>\n",
       "    </tr>\n",
       "  </thead>\n",
       "  <tbody>\n",
       "  </tbody>\n",
       "</table>\n",
       "</div>"
      ],
      "text/plain": [
       "Empty DataFrame\n",
       "Columns: [Route, STOP, Boardings, Alightings, DIR, Unnamed: 5, MONTH, DOW, AGENCY_ID, STOP_ID, NUMDAYS, OBSDAYS, TRIP_STOPS, OBS_TRIP_STOPS, WGT_TRIP_STOPS, HEADWAY_S, FARE, STOPNAME, STOPNAME_AVL, STOP_LAT, STOP_LON, EOL, SOL, TIMEPOINT, ARRIVAL_TIME_DEV, DEPARTURE_TIME_DEV, DWELL_S, DWELL, RUNTIME_S, RUNTIME, TOTTIME_S, TOTTIME, SERVMILES_S, SERVMILES, RUNSPEED_S, RUNSPEED, TOTSPEED_S, TOTSPEED, ONTIME5, ON, OFF, LOAD_ARR, LOAD_DEP, PASSMILES, PASSHOURS, WAITHOURS, FULLFARE_REV, PASSDELAY_DEP, PASSDELAY_ARR, RDBRDNGS, DOORCYCLES, WHEELCHAIR, BIKERACK, CAPACITY, VC, CROWDED, CROWDHOURS]\n",
       "Index: []"
      ]
     },
     "execution_count": 59,
     "metadata": {},
     "output_type": "execute_result"
    }
   ],
   "source": [
    "pd.merge(muni09,df,left_on= 'STOP',right_on = 'STOPNAME')"
   ]
  },
  {
   "cell_type": "code",
   "execution_count": 74,
   "metadata": {
    "collapsed": false
   },
   "outputs": [],
   "source": [
    "df2 = df[['ROUTE_SHORT_NAME','STOPNAME','STOP_ID','DIR']].groupby(by=['ROUTE_SHORT_NAME','DIR','STOPNAME'], as_index = False).first()\n",
    "df2 =df2.sort_values(by= 'STOPNAME')\n",
    "df2.to_csv('bus_sorted.csv')"
   ]
  },
  {
   "cell_type": "markdown",
   "metadata": {},
   "source": [
    "# Start Here\n"
   ]
  },
  {
   "cell_type": "code",
   "execution_count": 424,
   "metadata": {
    "collapsed": true
   },
   "outputs": [],
   "source": [
    "muni09 = pd.read_csv('E:/Transit-Casa-Alex/Output/Processed MUNI Rail/2009_MUNI_Rail.csv')"
   ]
  },
  {
   "cell_type": "code",
   "execution_count": 425,
   "metadata": {
    "collapsed": false
   },
   "outputs": [],
   "source": [
    "muni16 = pd.read_csv('E:/Transit-Casa-Alex/Output/Processed MUNI Rail/2016_MUNI_Rail.csv')"
   ]
  },
  {
   "cell_type": "code",
   "execution_count": 426,
   "metadata": {
    "collapsed": false
   },
   "outputs": [
    {
     "ename": "OSError",
     "evalue": "no such file or directory: 'E:/Transit-Casa-Alex/Input/MUNI Rail/2009_MUNI_Rail_Stops.shp'",
     "output_type": "error",
     "traceback": [
      "\u001b[0;31m---------------------------------------------------------------------------\u001b[0m",
      "\u001b[0;31mOSError\u001b[0m                                   Traceback (most recent call last)",
      "\u001b[0;32m<ipython-input-426-1cfb9c37ad26>\u001b[0m in \u001b[0;36m<module>\u001b[0;34m()\u001b[0m\n\u001b[1;32m      1\u001b[0m \u001b[1;32mimport\u001b[0m \u001b[0mgeopandas\u001b[0m \u001b[1;32mas\u001b[0m \u001b[0mgp\u001b[0m\u001b[1;33m\u001b[0m\u001b[0m\n\u001b[1;32m      2\u001b[0m \u001b[0mget_ipython\u001b[0m\u001b[1;33m(\u001b[0m\u001b[1;33m)\u001b[0m\u001b[1;33m.\u001b[0m\u001b[0mmagic\u001b[0m\u001b[1;33m(\u001b[0m\u001b[1;34m'matplotlib inline'\u001b[0m\u001b[1;33m)\u001b[0m\u001b[1;33m\u001b[0m\u001b[0m\n\u001b[0;32m----> 3\u001b[0;31m \u001b[0mstops\u001b[0m \u001b[1;33m=\u001b[0m \u001b[0mgp\u001b[0m\u001b[1;33m.\u001b[0m\u001b[0mread_file\u001b[0m\u001b[1;33m(\u001b[0m\u001b[1;34m'E:/Transit-Casa-Alex/Input/MUNI Rail/2009_MUNI_Rail_Stops.shp'\u001b[0m\u001b[1;33m)\u001b[0m\u001b[1;33m\u001b[0m\u001b[0m\n\u001b[0m",
      "\u001b[0;32mC:\\Anaconda\\lib\\site-packages\\geopandas\\io\\file.py\u001b[0m in \u001b[0;36mread_file\u001b[0;34m(filename, **kwargs)\u001b[0m\n\u001b[1;32m     19\u001b[0m     \"\"\"\n\u001b[1;32m     20\u001b[0m     \u001b[0mbbox\u001b[0m \u001b[1;33m=\u001b[0m \u001b[0mkwargs\u001b[0m\u001b[1;33m.\u001b[0m\u001b[0mpop\u001b[0m\u001b[1;33m(\u001b[0m\u001b[1;34m'bbox'\u001b[0m\u001b[1;33m,\u001b[0m \u001b[1;32mNone\u001b[0m\u001b[1;33m)\u001b[0m\u001b[1;33m\u001b[0m\u001b[0m\n\u001b[0;32m---> 21\u001b[0;31m     \u001b[1;32mwith\u001b[0m \u001b[0mfiona\u001b[0m\u001b[1;33m.\u001b[0m\u001b[0mopen\u001b[0m\u001b[1;33m(\u001b[0m\u001b[0mfilename\u001b[0m\u001b[1;33m,\u001b[0m \u001b[1;33m**\u001b[0m\u001b[0mkwargs\u001b[0m\u001b[1;33m)\u001b[0m \u001b[1;32mas\u001b[0m \u001b[0mf\u001b[0m\u001b[1;33m:\u001b[0m\u001b[1;33m\u001b[0m\u001b[0m\n\u001b[0m\u001b[1;32m     22\u001b[0m         \u001b[0mcrs\u001b[0m \u001b[1;33m=\u001b[0m \u001b[0mf\u001b[0m\u001b[1;33m.\u001b[0m\u001b[0mcrs\u001b[0m\u001b[1;33m\u001b[0m\u001b[0m\n\u001b[1;32m     23\u001b[0m         \u001b[1;32mif\u001b[0m \u001b[0mbbox\u001b[0m \u001b[1;32mis\u001b[0m \u001b[1;32mnot\u001b[0m \u001b[1;32mNone\u001b[0m\u001b[1;33m:\u001b[0m\u001b[1;33m\u001b[0m\u001b[0m\n",
      "\u001b[0;32mC:\\Anaconda\\lib\\site-packages\\fiona\\__init__.py\u001b[0m in \u001b[0;36mopen\u001b[0;34m(path, mode, driver, schema, crs, encoding, layer, vfs, enabled_drivers, crs_wkt)\u001b[0m\n\u001b[1;32m    164\u001b[0m                 \u001b[1;32mraise\u001b[0m \u001b[0mIOError\u001b[0m\u001b[1;33m(\u001b[0m\u001b[1;34m\"no such archive file: %r\"\u001b[0m \u001b[1;33m%\u001b[0m \u001b[0marchive\u001b[0m\u001b[1;33m)\u001b[0m\u001b[1;33m\u001b[0m\u001b[0m\n\u001b[1;32m    165\u001b[0m         \u001b[1;32melif\u001b[0m \u001b[0mpath\u001b[0m \u001b[1;33m!=\u001b[0m \u001b[1;34m'-'\u001b[0m \u001b[1;32mand\u001b[0m \u001b[1;32mnot\u001b[0m \u001b[0mos\u001b[0m\u001b[1;33m.\u001b[0m\u001b[0mpath\u001b[0m\u001b[1;33m.\u001b[0m\u001b[0mexists\u001b[0m\u001b[1;33m(\u001b[0m\u001b[0mpath\u001b[0m\u001b[1;33m)\u001b[0m\u001b[1;33m:\u001b[0m\u001b[1;33m\u001b[0m\u001b[0m\n\u001b[0;32m--> 166\u001b[0;31m             \u001b[1;32mraise\u001b[0m \u001b[0mIOError\u001b[0m\u001b[1;33m(\u001b[0m\u001b[1;34m\"no such file or directory: %r\"\u001b[0m \u001b[1;33m%\u001b[0m \u001b[0mpath\u001b[0m\u001b[1;33m)\u001b[0m\u001b[1;33m\u001b[0m\u001b[0m\n\u001b[0m\u001b[1;32m    167\u001b[0m         c = Collection(path, mode, driver=driver, encoding=encoding,\n\u001b[1;32m    168\u001b[0m                        \u001b[0mlayer\u001b[0m\u001b[1;33m=\u001b[0m\u001b[0mlayer\u001b[0m\u001b[1;33m,\u001b[0m \u001b[0mvsi\u001b[0m\u001b[1;33m=\u001b[0m\u001b[0mvsi\u001b[0m\u001b[1;33m,\u001b[0m \u001b[0marchive\u001b[0m\u001b[1;33m=\u001b[0m\u001b[0marchive\u001b[0m\u001b[1;33m,\u001b[0m\u001b[1;33m\u001b[0m\u001b[0m\n",
      "\u001b[0;31mOSError\u001b[0m: no such file or directory: 'E:/Transit-Casa-Alex/Input/MUNI Rail/2009_MUNI_Rail_Stops.shp'"
     ]
    }
   ],
   "source": [
    "import geopandas as gp\n",
    "%matplotlib inline\n",
    "stops = gp.read_file('E:/Transit-Casa-Alex/Input/MUNI Rail/2009_MUNI_Rail_Stops.shp')"
   ]
  },
  {
   "cell_type": "code",
   "execution_count": 238,
   "metadata": {
    "collapsed": false
   },
   "outputs": [
    {
     "data": {
      "text/html": [
       "<div>\n",
       "<table border=\"1\" class=\"dataframe\">\n",
       "  <thead>\n",
       "    <tr style=\"text-align: right;\">\n",
       "      <th></th>\n",
       "      <th>Boardings</th>\n",
       "      <th>Alightings</th>\n",
       "      <th>STOP_ID</th>\n",
       "    </tr>\n",
       "  </thead>\n",
       "  <tbody>\n",
       "    <tr>\n",
       "      <th>0</th>\n",
       "      <td>132</td>\n",
       "      <td>58</td>\n",
       "      <td>3537.0</td>\n",
       "    </tr>\n",
       "    <tr>\n",
       "      <th>1</th>\n",
       "      <td>60</td>\n",
       "      <td>170</td>\n",
       "      <td>3538.0</td>\n",
       "    </tr>\n",
       "    <tr>\n",
       "      <th>2</th>\n",
       "      <td>726</td>\n",
       "      <td>810</td>\n",
       "      <td>7316.0</td>\n",
       "    </tr>\n",
       "    <tr>\n",
       "      <th>3</th>\n",
       "      <td>198</td>\n",
       "      <td>239</td>\n",
       "      <td>3985.0</td>\n",
       "    </tr>\n",
       "    <tr>\n",
       "      <th>4</th>\n",
       "      <td>286</td>\n",
       "      <td>340</td>\n",
       "      <td>3987.0</td>\n",
       "    </tr>\n",
       "  </tbody>\n",
       "</table>\n",
       "</div>"
      ],
      "text/plain": [
       "  Boardings Alightings  STOP_ID\n",
       "0       132         58   3537.0\n",
       "1        60        170   3538.0\n",
       "2       726        810   7316.0\n",
       "3       198        239   3985.0\n",
       "4       286        340   3987.0"
      ]
     },
     "execution_count": 238,
     "metadata": {},
     "output_type": "execute_result"
    }
   ],
   "source": [
    "muni09.head()"
   ]
  },
  {
   "cell_type": "code",
   "execution_count": 239,
   "metadata": {
    "collapsed": false
   },
   "outputs": [
    {
     "data": {
      "text/html": [
       "<div>\n",
       "<table border=\"1\" class=\"dataframe\">\n",
       "  <thead>\n",
       "    <tr style=\"text-align: right;\">\n",
       "      <th></th>\n",
       "      <th>STOP_ID</th>\n",
       "      <th>Boardings</th>\n",
       "      <th>Alightings</th>\n",
       "      <th>Latitude</th>\n",
       "      <th>Longitude</th>\n",
       "    </tr>\n",
       "  </thead>\n",
       "  <tbody>\n",
       "    <tr>\n",
       "      <th>0</th>\n",
       "      <td>7778</td>\n",
       "      <td>4.4</td>\n",
       "      <td></td>\n",
       "      <td>37.721240</td>\n",
       "      <td>-122.44622</td>\n",
       "    </tr>\n",
       "    <tr>\n",
       "      <th>1</th>\n",
       "      <td>6275</td>\n",
       "      <td>2.2</td>\n",
       "      <td></td>\n",
       "      <td>37.722862</td>\n",
       "      <td>-122.44479</td>\n",
       "    </tr>\n",
       "    <tr>\n",
       "      <th>2</th>\n",
       "      <td>6288</td>\n",
       "      <td>2.2</td>\n",
       "      <td></td>\n",
       "      <td>37.725680</td>\n",
       "      <td>-122.44244</td>\n",
       "    </tr>\n",
       "    <tr>\n",
       "      <th>3</th>\n",
       "      <td>6284</td>\n",
       "      <td>8.7</td>\n",
       "      <td></td>\n",
       "      <td>37.728992</td>\n",
       "      <td>-122.43992</td>\n",
       "    </tr>\n",
       "    <tr>\n",
       "      <th>4</th>\n",
       "      <td>4787</td>\n",
       "      <td>2.2</td>\n",
       "      <td>4.4</td>\n",
       "      <td>37.732525</td>\n",
       "      <td>-122.43342</td>\n",
       "    </tr>\n",
       "  </tbody>\n",
       "</table>\n",
       "</div>"
      ],
      "text/plain": [
       "   STOP_ID Boardings Alightings   Latitude  Longitude\n",
       "0     7778       4.4             37.721240 -122.44622\n",
       "1     6275       2.2             37.722862 -122.44479\n",
       "2     6288       2.2             37.725680 -122.44244\n",
       "3     6284       8.7             37.728992 -122.43992\n",
       "4     4787       2.2        4.4  37.732525 -122.43342"
      ]
     },
     "execution_count": 239,
     "metadata": {},
     "output_type": "execute_result"
    }
   ],
   "source": [
    "muni16.head()"
   ]
  },
  {
   "cell_type": "code",
   "execution_count": 240,
   "metadata": {
    "collapsed": false
   },
   "outputs": [
    {
     "data": {
      "text/html": [
       "<div>\n",
       "<table border=\"1\" class=\"dataframe\">\n",
       "  <thead>\n",
       "    <tr style=\"text-align: right;\">\n",
       "      <th></th>\n",
       "      <th>Alightings</th>\n",
       "      <th>Boardings</th>\n",
       "      <th>STOP_ID</th>\n",
       "      <th>STOP_LAT</th>\n",
       "      <th>STOP_LON</th>\n",
       "      <th>geometry</th>\n",
       "    </tr>\n",
       "  </thead>\n",
       "  <tbody>\n",
       "    <tr>\n",
       "      <th>0</th>\n",
       "      <td>270</td>\n",
       "      <td>1,223</td>\n",
       "      <td>3212.0</td>\n",
       "      <td>37.763888</td>\n",
       "      <td>-122.466245</td>\n",
       "      <td>POINT (-122.4662450000009 37.76388799999987)</td>\n",
       "    </tr>\n",
       "    <tr>\n",
       "      <th>1</th>\n",
       "      <td>255</td>\n",
       "      <td>77</td>\n",
       "      <td>3266.0</td>\n",
       "      <td>37.743124</td>\n",
       "      <td>-122.471297</td>\n",
       "      <td>POINT (-122.4712969999989 37.74312400000014)</td>\n",
       "    </tr>\n",
       "    <tr>\n",
       "      <th>2</th>\n",
       "      <td>77</td>\n",
       "      <td>280</td>\n",
       "      <td>3267.0</td>\n",
       "      <td>37.743069</td>\n",
       "      <td>-122.471405</td>\n",
       "      <td>POINT (-122.4714049999991 37.7430690000001)</td>\n",
       "    </tr>\n",
       "    <tr>\n",
       "      <th>3</th>\n",
       "      <td>111</td>\n",
       "      <td>22</td>\n",
       "      <td>3268.0</td>\n",
       "      <td>37.741525</td>\n",
       "      <td>-122.471192</td>\n",
       "      <td>POINT (-122.4711919999996 37.74152499999985)</td>\n",
       "    </tr>\n",
       "    <tr>\n",
       "      <th>4</th>\n",
       "      <td>13</td>\n",
       "      <td>47</td>\n",
       "      <td>3269.0</td>\n",
       "      <td>37.741484</td>\n",
       "      <td>-122.471300</td>\n",
       "      <td>POINT (-122.4712999999995 37.7414840000001)</td>\n",
       "    </tr>\n",
       "  </tbody>\n",
       "</table>\n",
       "</div>"
      ],
      "text/plain": [
       "  Alightings Boardings  STOP_ID   STOP_LAT    STOP_LON  \\\n",
       "0        270     1,223   3212.0  37.763888 -122.466245   \n",
       "1        255        77   3266.0  37.743124 -122.471297   \n",
       "2         77       280   3267.0  37.743069 -122.471405   \n",
       "3        111        22   3268.0  37.741525 -122.471192   \n",
       "4         13        47   3269.0  37.741484 -122.471300   \n",
       "\n",
       "                                       geometry  \n",
       "0  POINT (-122.4662450000009 37.76388799999987)  \n",
       "1  POINT (-122.4712969999989 37.74312400000014)  \n",
       "2   POINT (-122.4714049999991 37.7430690000001)  \n",
       "3  POINT (-122.4711919999996 37.74152499999985)  \n",
       "4   POINT (-122.4712999999995 37.7414840000001)  "
      ]
     },
     "execution_count": 240,
     "metadata": {},
     "output_type": "execute_result"
    }
   ],
   "source": [
    "stops.head()"
   ]
  },
  {
   "cell_type": "code",
   "execution_count": 241,
   "metadata": {
    "collapsed": false
   },
   "outputs": [
    {
     "name": "stdout",
     "output_type": "stream",
     "text": [
      "<class 'pandas.core.frame.DataFrame'>\n",
      "RangeIndex: 323 entries, 0 to 322\n",
      "Data columns (total 3 columns):\n",
      "Boardings     323 non-null object\n",
      "Alightings    323 non-null object\n",
      "STOP_ID       319 non-null float64\n",
      "dtypes: float64(1), object(2)\n",
      "memory usage: 7.6+ KB\n"
     ]
    }
   ],
   "source": [
    "muni09.info()"
   ]
  },
  {
   "cell_type": "code",
   "execution_count": 242,
   "metadata": {
    "collapsed": false
   },
   "outputs": [
    {
     "name": "stdout",
     "output_type": "stream",
     "text": [
      "<class 'geopandas.geodataframe.GeoDataFrame'>\n",
      "RangeIndex: 323 entries, 0 to 322\n",
      "Data columns (total 6 columns):\n",
      "Alightings    323 non-null object\n",
      "Boardings     323 non-null object\n",
      "STOP_ID       319 non-null float64\n",
      "STOP_LAT      317 non-null float64\n",
      "STOP_LON      317 non-null float64\n",
      "geometry      323 non-null object\n",
      "dtypes: float64(3), object(3)\n",
      "memory usage: 15.2+ KB\n"
     ]
    }
   ],
   "source": [
    "stops.info()"
   ]
  },
  {
   "cell_type": "code",
   "execution_count": 243,
   "metadata": {
    "collapsed": false
   },
   "outputs": [
    {
     "data": {
      "text/plain": [
       "323"
      ]
     },
     "execution_count": 243,
     "metadata": {},
     "output_type": "execute_result"
    }
   ],
   "source": [
    "len(muni09)"
   ]
  },
  {
   "cell_type": "code",
   "execution_count": 244,
   "metadata": {
    "collapsed": false
   },
   "outputs": [
    {
     "data": {
      "text/plain": [
       "323"
      ]
     },
     "execution_count": 244,
     "metadata": {},
     "output_type": "execute_result"
    }
   ],
   "source": [
    "len(stops)"
   ]
  },
  {
   "cell_type": "code",
   "execution_count": null,
   "metadata": {
    "collapsed": false
   },
   "outputs": [],
   "source": []
  },
  {
   "cell_type": "code",
   "execution_count": 255,
   "metadata": {
    "collapsed": false
   },
   "outputs": [
    {
     "data": {
      "text/plain": [
       "243"
      ]
     },
     "execution_count": 255,
     "metadata": {},
     "output_type": "execute_result"
    }
   ],
   "source": [
    "len(muni.STOP_ID.unique())"
   ]
  },
  {
   "cell_type": "code",
   "execution_count": 264,
   "metadata": {
    "collapsed": false
   },
   "outputs": [
    {
     "data": {
      "text/plain": [
       "<matplotlib.axes._subplots.AxesSubplot at 0x1ba17ea8080>"
      ]
     },
     "execution_count": 264,
     "metadata": {},
     "output_type": "execute_result"
    },
    {
     "data": {
      "image/png": "[encoded data removed]",
      "text/plain": [
       "<matplotlib.figure.Figure at 0x1ba17ea1978>"
      ]
     },
     "metadata": {},
     "output_type": "display_data"
    }
   ],
   "source": [
    "muni.plot()"
   ]
  },
  {
   "cell_type": "code",
   "execution_count": 257,
   "metadata": {
    "collapsed": false
   },
   "outputs": [
    {
     "data": {
      "text/plain": [
       "323"
      ]
     },
     "execution_count": 257,
     "metadata": {},
     "output_type": "execute_result"
    }
   ],
   "source": [
    "len(stops)"
   ]
  },
  {
   "cell_type": "code",
   "execution_count": 251,
   "metadata": {
    "collapsed": true
   },
   "outputs": [],
   "source": [
    "import numpy as np"
   ]
  },
  {
   "cell_type": "code",
   "execution_count": 266,
   "metadata": {
    "collapsed": false
   },
   "outputs": [
    {
     "data": {
      "text/html": [
       "<div>\n",
       "<table border=\"1\" class=\"dataframe\">\n",
       "  <thead>\n",
       "    <tr style=\"text-align: right;\">\n",
       "      <th></th>\n",
       "      <th>STOP_ID</th>\n",
       "      <th>geometry</th>\n",
       "      <th>Boardings</th>\n",
       "      <th>Alightings</th>\n",
       "    </tr>\n",
       "  </thead>\n",
       "  <tbody>\n",
       "    <tr>\n",
       "      <th>0</th>\n",
       "      <td>3212.0</td>\n",
       "      <td>POINT (-122.4662450000009 37.76388799999987)</td>\n",
       "      <td>1,223</td>\n",
       "      <td>270</td>\n",
       "    </tr>\n",
       "    <tr>\n",
       "      <th>1</th>\n",
       "      <td>3266.0</td>\n",
       "      <td>POINT (-122.4712969999989 37.74312400000014)</td>\n",
       "      <td>77</td>\n",
       "      <td>255</td>\n",
       "    </tr>\n",
       "    <tr>\n",
       "      <th>2</th>\n",
       "      <td>3267.0</td>\n",
       "      <td>POINT (-122.4714049999991 37.7430690000001)</td>\n",
       "      <td>280</td>\n",
       "      <td>77</td>\n",
       "    </tr>\n",
       "    <tr>\n",
       "      <th>3</th>\n",
       "      <td>3268.0</td>\n",
       "      <td>POINT (-122.4711919999996 37.74152499999985)</td>\n",
       "      <td>22</td>\n",
       "      <td>111</td>\n",
       "    </tr>\n",
       "    <tr>\n",
       "      <th>4</th>\n",
       "      <td>3269.0</td>\n",
       "      <td>POINT (-122.4712999999995 37.7414840000001)</td>\n",
       "      <td>47</td>\n",
       "      <td>13</td>\n",
       "    </tr>\n",
       "  </tbody>\n",
       "</table>\n",
       "</div>"
      ],
      "text/plain": [
       "   STOP_ID                                      geometry Boardings Alightings\n",
       "0   3212.0  POINT (-122.4662450000009 37.76388799999987)     1,223        270\n",
       "1   3266.0  POINT (-122.4712969999989 37.74312400000014)        77        255\n",
       "2   3267.0   POINT (-122.4714049999991 37.7430690000001)       280         77\n",
       "3   3268.0  POINT (-122.4711919999996 37.74152499999985)        22        111\n",
       "4   3269.0   POINT (-122.4712999999995 37.7414840000001)        47         13"
      ]
     },
     "execution_count": 266,
     "metadata": {},
     "output_type": "execute_result"
    }
   ],
   "source": [
    "muni.head()"
   ]
  },
  {
   "cell_type": "code",
   "execution_count": 269,
   "metadata": {
    "collapsed": false
   },
   "outputs": [
    {
     "data": {
      "text/html": [
       "<div>\n",
       "<table border=\"1\" class=\"dataframe\">\n",
       "  <thead>\n",
       "    <tr style=\"text-align: right;\">\n",
       "      <th></th>\n",
       "      <th>Boardings</th>\n",
       "      <th>Alightings</th>\n",
       "      <th>STOP_ID</th>\n",
       "    </tr>\n",
       "  </thead>\n",
       "  <tbody>\n",
       "    <tr>\n",
       "      <th>137</th>\n",
       "      <td>47</td>\n",
       "      <td>13</td>\n",
       "      <td>3269.0</td>\n",
       "    </tr>\n",
       "  </tbody>\n",
       "</table>\n",
       "</div>"
      ],
      "text/plain": [
       "    Boardings Alightings  STOP_ID\n",
       "137        47         13   3269.0"
      ]
     },
     "execution_count": 269,
     "metadata": {},
     "output_type": "execute_result"
    }
   ],
   "source": [
    "muni09[muni09['STOP_ID'] == 3269]"
   ]
  },
  {
   "cell_type": "code",
   "execution_count": 272,
   "metadata": {
    "collapsed": false
   },
   "outputs": [
    {
     "data": {
      "text/html": [
       "<div>\n",
       "<table border=\"1\" class=\"dataframe\">\n",
       "  <thead>\n",
       "    <tr style=\"text-align: right;\">\n",
       "      <th></th>\n",
       "      <th>Alightings</th>\n",
       "      <th>Boardings</th>\n",
       "      <th>STOP_ID</th>\n",
       "      <th>STOP_LAT</th>\n",
       "      <th>STOP_LON</th>\n",
       "      <th>geometry</th>\n",
       "    </tr>\n",
       "  </thead>\n",
       "  <tbody>\n",
       "    <tr>\n",
       "      <th>4</th>\n",
       "      <td>13</td>\n",
       "      <td>47</td>\n",
       "      <td>3269.0</td>\n",
       "      <td>37.741484</td>\n",
       "      <td>-122.4713</td>\n",
       "      <td>POINT (-122.4712999999995 37.7414840000001)</td>\n",
       "    </tr>\n",
       "  </tbody>\n",
       "</table>\n",
       "</div>"
      ],
      "text/plain": [
       "  Alightings Boardings  STOP_ID   STOP_LAT  STOP_LON  \\\n",
       "4         13        47   3269.0  37.741484 -122.4713   \n",
       "\n",
       "                                      geometry  \n",
       "4  POINT (-122.4712999999995 37.7414840000001)  "
      ]
     },
     "execution_count": 272,
     "metadata": {},
     "output_type": "execute_result"
    }
   ],
   "source": [
    "stops[stops['STOP_ID'] == 3269]"
   ]
  },
  {
   "cell_type": "code",
   "execution_count": 268,
   "metadata": {
    "collapsed": false
   },
   "outputs": [
    {
     "data": {
      "text/html": [
       "<div>\n",
       "<table border=\"1\" class=\"dataframe\">\n",
       "  <thead>\n",
       "    <tr style=\"text-align: right;\">\n",
       "      <th></th>\n",
       "      <th>STOP_ID</th>\n",
       "      <th>geometry</th>\n",
       "      <th>Boardings</th>\n",
       "      <th>Alightings</th>\n",
       "    </tr>\n",
       "  </thead>\n",
       "  <tbody>\n",
       "    <tr>\n",
       "      <th>4</th>\n",
       "      <td>3269.0</td>\n",
       "      <td>POINT (-122.4712999999995 37.7414840000001)</td>\n",
       "      <td>47</td>\n",
       "      <td>13</td>\n",
       "    </tr>\n",
       "  </tbody>\n",
       "</table>\n",
       "</div>"
      ],
      "text/plain": [
       "   STOP_ID                                     geometry Boardings Alightings\n",
       "4   3269.0  POINT (-122.4712999999995 37.7414840000001)        47         13"
      ]
     },
     "execution_count": 268,
     "metadata": {},
     "output_type": "execute_result"
    }
   ],
   "source": [
    "muni[muni['STOP_ID'] == 3269]"
   ]
  },
  {
   "cell_type": "code",
   "execution_count": 262,
   "metadata": {
    "collapsed": false
   },
   "outputs": [
    {
     "data": {
      "text/plain": [
       "243"
      ]
     },
     "execution_count": 262,
     "metadata": {},
     "output_type": "execute_result"
    }
   ],
   "source": [
    "len(stops.STOP_ID.unique())"
   ]
  },
  {
   "cell_type": "code",
   "execution_count": 265,
   "metadata": {
    "collapsed": false
   },
   "outputs": [
    {
     "data": {
      "text/plain": [
       "645"
      ]
     },
     "execution_count": 265,
     "metadata": {},
     "output_type": "execute_result"
    }
   ],
   "source": [
    "len(muni)"
   ]
  },
  {
   "cell_type": "code",
   "execution_count": 198,
   "metadata": {
    "collapsed": false
   },
   "outputs": [
    {
     "data": {
      "text/plain": [
       "323"
      ]
     },
     "execution_count": 198,
     "metadata": {},
     "output_type": "execute_result"
    }
   ],
   "source": [
    "len(muni09)"
   ]
  },
  {
   "cell_type": "code",
   "execution_count": 179,
   "metadata": {
    "collapsed": false
   },
   "outputs": [
    {
     "data": {
      "text/plain": [
       "240"
      ]
     },
     "execution_count": 179,
     "metadata": {},
     "output_type": "execute_result"
    }
   ],
   "source": [
    "len(muni16)"
   ]
  },
  {
   "cell_type": "code",
   "execution_count": 180,
   "metadata": {
    "collapsed": false,
    "scrolled": true
   },
   "outputs": [
    {
     "data": {
      "text/plain": [
       "323"
      ]
     },
     "execution_count": 180,
     "metadata": {},
     "output_type": "execute_result"
    }
   ],
   "source": [
    "len(muni09)"
   ]
  },
  {
   "cell_type": "code",
   "execution_count": 181,
   "metadata": {
    "collapsed": false
   },
   "outputs": [
    {
     "data": {
      "text/plain": [
       "240"
      ]
     },
     "execution_count": 181,
     "metadata": {},
     "output_type": "execute_result"
    }
   ],
   "source": [
    "len(muni16.STOP_ID.unique())"
   ]
  },
  {
   "cell_type": "code",
   "execution_count": null,
   "metadata": {
    "collapsed": false
   },
   "outputs": [],
   "source": []
  },
  {
   "cell_type": "code",
   "execution_count": 427,
   "metadata": {
    "collapsed": false,
    "scrolled": true
   },
   "outputs": [
    {
     "name": "stderr",
     "output_type": "stream",
     "text": [
      "C:\\Anaconda\\lib\\site-packages\\ipykernel\\__main__.py:1: FutureWarning: convert_objects is deprecated.  Use the data-type specific converters pd.to_datetime, pd.to_timedelta and pd.to_numeric.\n",
      "  if __name__ == '__main__':\n"
     ]
    }
   ],
   "source": [
    "muni16 = muni16.convert_objects(convert_numeric = True)"
   ]
  },
  {
   "cell_type": "code",
   "execution_count": 74,
   "metadata": {
    "collapsed": false
   },
   "outputs": [
    {
     "name": "stdout",
     "output_type": "stream",
     "text": [
      "<class 'pandas.core.frame.DataFrame'>\n",
      "RangeIndex: 2127 entries, 0 to 2126\n",
      "Data columns (total 5 columns):\n",
      "STOP_ID       2127 non-null int64\n",
      "Boardings     1850 non-null float64\n",
      "Alightings    1855 non-null float64\n",
      "Latitude      2127 non-null float64\n",
      "Longitude     2127 non-null float64\n",
      "dtypes: float64(4), int64(1)\n",
      "memory usage: 83.2 KB\n"
     ]
    }
   ],
   "source": [
    "muni16.info()"
   ]
  },
  {
   "cell_type": "code",
   "execution_count": 428,
   "metadata": {
    "collapsed": false
   },
   "outputs": [],
   "source": [
    "muni16 = muni16.groupby(by = 'STOP_ID',as_index = False).agg({'Boardings':'sum','Alightings':'sum','Latitude':'first','Longitude':'first'})"
   ]
  },
  {
   "cell_type": "code",
   "execution_count": 85,
   "metadata": {
    "collapsed": false
   },
   "outputs": [
    {
     "data": {
      "text/html": [
       "<div>\n",
       "<table border=\"1\" class=\"dataframe\">\n",
       "  <thead>\n",
       "    <tr style=\"text-align: right;\">\n",
       "      <th></th>\n",
       "      <th>STOP_ID</th>\n",
       "      <th>Boardings</th>\n",
       "      <th>Longitude</th>\n",
       "      <th>Latitude</th>\n",
       "      <th>Alightings</th>\n",
       "    </tr>\n",
       "  </thead>\n",
       "  <tbody>\n",
       "    <tr>\n",
       "      <th>0</th>\n",
       "      <td>3212</td>\n",
       "      <td>1046.3</td>\n",
       "      <td>-122.466240</td>\n",
       "      <td>37.763912</td>\n",
       "      <td>292.4</td>\n",
       "    </tr>\n",
       "    <tr>\n",
       "      <th>1</th>\n",
       "      <td>3266</td>\n",
       "      <td>119.6</td>\n",
       "      <td>-122.471300</td>\n",
       "      <td>37.743122</td>\n",
       "      <td>313.8</td>\n",
       "    </tr>\n",
       "    <tr>\n",
       "      <th>2</th>\n",
       "      <td>3267</td>\n",
       "      <td>240.7</td>\n",
       "      <td>-122.471405</td>\n",
       "      <td>37.743070</td>\n",
       "      <td>92.3</td>\n",
       "    </tr>\n",
       "    <tr>\n",
       "      <th>3</th>\n",
       "      <td>3268</td>\n",
       "      <td>16.5</td>\n",
       "      <td>-122.471190</td>\n",
       "      <td>37.741524</td>\n",
       "      <td>233.4</td>\n",
       "    </tr>\n",
       "    <tr>\n",
       "      <th>4</th>\n",
       "      <td>3269</td>\n",
       "      <td>90.4</td>\n",
       "      <td>-122.471300</td>\n",
       "      <td>37.741486</td>\n",
       "      <td>23.3</td>\n",
       "    </tr>\n",
       "  </tbody>\n",
       "</table>\n",
       "</div>"
      ],
      "text/plain": [
       "   STOP_ID  Boardings   Longitude   Latitude  Alightings\n",
       "0     3212     1046.3 -122.466240  37.763912       292.4\n",
       "1     3266      119.6 -122.471300  37.743122       313.8\n",
       "2     3267      240.7 -122.471405  37.743070        92.3\n",
       "3     3268       16.5 -122.471190  37.741524       233.4\n",
       "4     3269       90.4 -122.471300  37.741486        23.3"
      ]
     },
     "execution_count": 85,
     "metadata": {},
     "output_type": "execute_result"
    }
   ],
   "source": [
    "muni16.head()"
   ]
  },
  {
   "cell_type": "code",
   "execution_count": 429,
   "metadata": {
    "collapsed": false
   },
   "outputs": [],
   "source": [
    "muni16['geometry'] = [Point(xy) for xy in zip(muni16.Longitude, muni16.Latitude)]"
   ]
  },
  {
   "cell_type": "code",
   "execution_count": 430,
   "metadata": {
    "collapsed": false
   },
   "outputs": [
    {
     "data": {
      "text/html": [
       "<div>\n",
       "<table border=\"1\" class=\"dataframe\">\n",
       "  <thead>\n",
       "    <tr style=\"text-align: right;\">\n",
       "      <th></th>\n",
       "      <th>Boardings</th>\n",
       "      <th>Alightings</th>\n",
       "      <th>STOP_ID</th>\n",
       "    </tr>\n",
       "  </thead>\n",
       "  <tbody>\n",
       "    <tr>\n",
       "      <th>0</th>\n",
       "      <td>132</td>\n",
       "      <td>58</td>\n",
       "      <td>3537</td>\n",
       "    </tr>\n",
       "    <tr>\n",
       "      <th>1</th>\n",
       "      <td>60</td>\n",
       "      <td>170</td>\n",
       "      <td>3538</td>\n",
       "    </tr>\n",
       "    <tr>\n",
       "      <th>2</th>\n",
       "      <td>726</td>\n",
       "      <td>810</td>\n",
       "      <td>7316</td>\n",
       "    </tr>\n",
       "    <tr>\n",
       "      <th>3</th>\n",
       "      <td>198</td>\n",
       "      <td>239</td>\n",
       "      <td>3985</td>\n",
       "    </tr>\n",
       "    <tr>\n",
       "      <th>4</th>\n",
       "      <td>286</td>\n",
       "      <td>340</td>\n",
       "      <td>3987</td>\n",
       "    </tr>\n",
       "  </tbody>\n",
       "</table>\n",
       "</div>"
      ],
      "text/plain": [
       "  Boardings Alightings  STOP_ID\n",
       "0       132         58     3537\n",
       "1        60        170     3538\n",
       "2       726        810     7316\n",
       "3       198        239     3985\n",
       "4       286        340     3987"
      ]
     },
     "execution_count": 430,
     "metadata": {},
     "output_type": "execute_result"
    }
   ],
   "source": [
    "muni09.head()"
   ]
  },
  {
   "cell_type": "code",
   "execution_count": 431,
   "metadata": {
    "collapsed": false
   },
   "outputs": [
    {
     "data": {
      "text/plain": [
       "<matplotlib.axes._subplots.AxesSubplot at 0x1ba1937cf98>"
      ]
     },
     "execution_count": 431,
     "metadata": {},
     "output_type": "execute_result"
    },
    {
     "data": {
      "image/png": "[encoded data removed]",
      "text/plain": [
       "<matplotlib.figure.Figure at 0x1ba1931fb70>"
      ]
     },
     "metadata": {},
     "output_type": "display_data"
    }
   ],
   "source": [
    "muni16_geo = gp.GeoDataFrame(muni16)\n",
    "muni16_geo.plot()"
   ]
  },
  {
   "cell_type": "markdown",
   "metadata": {
    "collapsed": false
   },
   "source": [
    "# This is where the 2009 MUNI rail stops shapefile was created"
   ]
  },
  {
   "cell_type": "code",
   "execution_count": 90,
   "metadata": {
    "collapsed": true
   },
   "outputs": [],
   "source": [
    "store = pd.HDFStore('E:\\Transit_Casa\\Output/gtfs1.h5')"
   ]
  },
  {
   "cell_type": "code",
   "execution_count": 5,
   "metadata": {
    "collapsed": false
   },
   "outputs": [
    {
     "data": {
      "text/plain": [
       "<bound method HDFStore.items of <class 'pandas.io.pytables.HDFStore'>\n",
       "File path: E:\\Transit_Casa\\Output/gtfs1.h5\n",
       "/sfmuni            frame_table  (typ->appendable_multi,nrows->1839616,ncols->38,indexers->[index],dc->[AGENCY_ID,ARRIVAL_TIME_S,BLOCK_ID,DATE,DEPARTURE_TIME_S,DIR,DOW,DWELL_S,EOL,FARE,HEADWAY_S,MONTH,OBSERVED,ROUTE_ID,ROUTE_LONG_NAME,ROUTE_SHORT_NAME,ROUTE_TYPE,RUNSPEED_S,RUNTIME_S,SCHED_DATES,SEQ,SERVMILES_S,SHAPE_DIST,SHAPE_ID,SOL,STOPNAME,STOP_ID,STOP_LAT,STOP_LON,TOD,TOTSPEED_S,TOTTIME_S,TRIP,TRIP_HEADSIGN,TRIP_ID,TRIP_STOPS])>"
      ]
     },
     "execution_count": 5,
     "metadata": {},
     "output_type": "execute_result"
    }
   ],
   "source": [
    "store.items"
   ]
  },
  {
   "cell_type": "code",
   "execution_count": 29,
   "metadata": {
    "collapsed": true
   },
   "outputs": [],
   "source": [
    "store = pd.HDFStore('E:\\Transit_Casa\\Output/gtfs1.h5') "
   ]
  },
  {
   "cell_type": "code",
   "execution_count": 30,
   "metadata": {
    "collapsed": false
   },
   "outputs": [
    {
     "data": {
      "text/plain": [
       "<bound method HDFStore.items of <class 'pandas.io.pytables.HDFStore'>\n",
       "File path: E:\\Transit_Casa\\Output/gtfs1.h5\n",
       "/sfmuni            frame_table  (typ->appendable_multi,nrows->1839616,ncols->38,indexers->[index],dc->[AGENCY_ID,ARRIVAL_TIME_S,BLOCK_ID,DATE,DEPARTURE_TIME_S,DIR,DOW,DWELL_S,EOL,FARE,HEADWAY_S,MONTH,OBSERVED,ROUTE_ID,ROUTE_LONG_NAME,ROUTE_SHORT_NAME,ROUTE_TYPE,RUNSPEED_S,RUNTIME_S,SCHED_DATES,SEQ,SERVMILES_S,SHAPE_DIST,SHAPE_ID,SOL,STOPNAME,STOP_ID,STOP_LAT,STOP_LON,TOD,TOTSPEED_S,TOTTIME_S,TRIP,TRIP_HEADSIGN,TRIP_ID,TRIP_STOPS])>"
      ]
     },
     "execution_count": 30,
     "metadata": {},
     "output_type": "execute_result"
    }
   ],
   "source": [
    "store.items"
   ]
  },
  {
   "cell_type": "code",
   "execution_count": 31,
   "metadata": {
    "collapsed": false
   },
   "outputs": [],
   "source": [
    "df = store.get('sfmuni')"
   ]
  },
  {
   "cell_type": "code",
   "execution_count": 32,
   "metadata": {
    "collapsed": false
   },
   "outputs": [
    {
     "data": {
      "text/plain": [
       "array([3, 5, 0, 1], dtype=int64)"
      ]
     },
     "execution_count": 32,
     "metadata": {},
     "output_type": "execute_result"
    }
   ],
   "source": [
    "df.ROUTE_TYPE.unique()"
   ]
  },
  {
   "cell_type": "code",
   "execution_count": 101,
   "metadata": {
    "collapsed": false
   },
   "outputs": [],
   "source": [
    "rail_stops = df[df['ROUTE_TYPE'] == 0]"
   ]
  },
  {
   "cell_type": "code",
   "execution_count": 102,
   "metadata": {
    "collapsed": false
   },
   "outputs": [
    {
     "data": {
      "text/plain": [
       "array(['F', 'J', 'L', 'M', 'N', 'S', 'T', 'K'], dtype=object)"
      ]
     },
     "execution_count": 102,
     "metadata": {},
     "output_type": "execute_result"
    }
   ],
   "source": [
    "rail_stops.ROUTE_SHORT_NAME.unique()"
   ]
  },
  {
   "cell_type": "code",
   "execution_count": 103,
   "metadata": {
    "collapsed": false
   },
   "outputs": [
    {
     "data": {
      "text/html": [
       "<div>\n",
       "<table border=\"1\" class=\"dataframe\">\n",
       "  <thead>\n",
       "    <tr style=\"text-align: right;\">\n",
       "      <th></th>\n",
       "      <th></th>\n",
       "      <th>AGENCY_ID</th>\n",
       "      <th>ARRIVAL_TIME_S</th>\n",
       "      <th>BLOCK_ID</th>\n",
       "      <th>DATE</th>\n",
       "      <th>DEPARTURE_TIME_S</th>\n",
       "      <th>DIR</th>\n",
       "      <th>DOW</th>\n",
       "      <th>DWELL_S</th>\n",
       "      <th>EOL</th>\n",
       "      <th>FARE</th>\n",
       "      <th>HEADWAY_S</th>\n",
       "      <th>MONTH</th>\n",
       "      <th>OBSERVED</th>\n",
       "      <th>ROUTE_ID</th>\n",
       "      <th>ROUTE_LONG_NAME</th>\n",
       "      <th>ROUTE_SHORT_NAME</th>\n",
       "      <th>ROUTE_TYPE</th>\n",
       "      <th>RUNSPEED_S</th>\n",
       "      <th>RUNTIME_S</th>\n",
       "      <th>SCHED_DATES</th>\n",
       "      <th>SEQ</th>\n",
       "      <th>SERVMILES_S</th>\n",
       "      <th>SHAPE_DIST</th>\n",
       "      <th>SHAPE_ID</th>\n",
       "      <th>SOL</th>\n",
       "      <th>STOPNAME</th>\n",
       "      <th>STOP_ID</th>\n",
       "      <th>STOP_LAT</th>\n",
       "      <th>STOP_LON</th>\n",
       "      <th>TOD</th>\n",
       "      <th>TOTSPEED_S</th>\n",
       "      <th>TOTTIME_S</th>\n",
       "      <th>TRIP</th>\n",
       "      <th>TRIP_HEADSIGN</th>\n",
       "      <th>TRIP_ID</th>\n",
       "      <th>TRIP_STOPS</th>\n",
       "    </tr>\n",
       "  </thead>\n",
       "  <tbody>\n",
       "    <tr>\n",
       "      <th>5894</th>\n",
       "      <th>197237</th>\n",
       "      <td>SFMTA</td>\n",
       "      <td>2009-02-21 10:08:00</td>\n",
       "      <td>214388</td>\n",
       "      <td>2009-02-21</td>\n",
       "      <td>2009-02-21 10:08:00</td>\n",
       "      <td>0</td>\n",
       "      <td>1</td>\n",
       "      <td>0.0</td>\n",
       "      <td>0</td>\n",
       "      <td>1.5</td>\n",
       "      <td>11.0</td>\n",
       "      <td>2009-02-21</td>\n",
       "      <td>0</td>\n",
       "      <td>3725</td>\n",
       "      <td>MARKET &amp; WHARVES</td>\n",
       "      <td>F</td>\n",
       "      <td>0</td>\n",
       "      <td>0.00</td>\n",
       "      <td>0.0</td>\n",
       "      <td>20090221-20090612</td>\n",
       "      <td>1</td>\n",
       "      <td>0.000</td>\n",
       "      <td>0.000000</td>\n",
       "      <td>34772</td>\n",
       "      <td>1</td>\n",
       "      <td>Jones St &amp; Beach St</td>\n",
       "      <td>5184</td>\n",
       "      <td>37.807248</td>\n",
       "      <td>-122.417366</td>\n",
       "      <td>0900-1359</td>\n",
       "      <td>0.00</td>\n",
       "      <td>0.0</td>\n",
       "      <td>1008_1</td>\n",
       "      <td>Castro</td>\n",
       "      <td>2948224</td>\n",
       "      <td>1</td>\n",
       "    </tr>\n",
       "    <tr>\n",
       "      <th>5895</th>\n",
       "      <th>197238</th>\n",
       "      <td>SFMTA</td>\n",
       "      <td>2009-02-21 10:11:00</td>\n",
       "      <td>214388</td>\n",
       "      <td>2009-02-21</td>\n",
       "      <td>2009-02-21 10:11:00</td>\n",
       "      <td>0</td>\n",
       "      <td>1</td>\n",
       "      <td>0.0</td>\n",
       "      <td>0</td>\n",
       "      <td>1.5</td>\n",
       "      <td>11.0</td>\n",
       "      <td>2009-02-21</td>\n",
       "      <td>0</td>\n",
       "      <td>3725</td>\n",
       "      <td>MARKET &amp; WHARVES</td>\n",
       "      <td>F</td>\n",
       "      <td>0</td>\n",
       "      <td>3.70</td>\n",
       "      <td>3.0</td>\n",
       "      <td>20090221-20090612</td>\n",
       "      <td>2</td>\n",
       "      <td>0.185</td>\n",
       "      <td>975.916380</td>\n",
       "      <td>34772</td>\n",
       "      <td>0</td>\n",
       "      <td>Beach St &amp; Mason St</td>\n",
       "      <td>3092</td>\n",
       "      <td>37.807407</td>\n",
       "      <td>-122.414125</td>\n",
       "      <td>0900-1359</td>\n",
       "      <td>3.70</td>\n",
       "      <td>3.0</td>\n",
       "      <td>1008_1</td>\n",
       "      <td>Castro</td>\n",
       "      <td>2948224</td>\n",
       "      <td>1</td>\n",
       "    </tr>\n",
       "    <tr>\n",
       "      <th>5896</th>\n",
       "      <th>197239</th>\n",
       "      <td>SFMTA</td>\n",
       "      <td>2009-02-21 10:14:00</td>\n",
       "      <td>214388</td>\n",
       "      <td>2009-02-21</td>\n",
       "      <td>2009-02-21 10:14:00</td>\n",
       "      <td>0</td>\n",
       "      <td>1</td>\n",
       "      <td>0.0</td>\n",
       "      <td>0</td>\n",
       "      <td>1.5</td>\n",
       "      <td>11.0</td>\n",
       "      <td>2009-02-21</td>\n",
       "      <td>0</td>\n",
       "      <td>3725</td>\n",
       "      <td>MARKET &amp; WHARVES</td>\n",
       "      <td>F</td>\n",
       "      <td>0</td>\n",
       "      <td>3.68</td>\n",
       "      <td>3.0</td>\n",
       "      <td>20090221-20090612</td>\n",
       "      <td>3</td>\n",
       "      <td>0.184</td>\n",
       "      <td>1946.538112</td>\n",
       "      <td>34772</td>\n",
       "      <td>0</td>\n",
       "      <td>Beach St &amp; Stockton St</td>\n",
       "      <td>3095</td>\n",
       "      <td>37.807841</td>\n",
       "      <td>-122.410810</td>\n",
       "      <td>0900-1359</td>\n",
       "      <td>3.68</td>\n",
       "      <td>3.0</td>\n",
       "      <td>1008_1</td>\n",
       "      <td>Castro</td>\n",
       "      <td>2948224</td>\n",
       "      <td>1</td>\n",
       "    </tr>\n",
       "    <tr>\n",
       "      <th>5897</th>\n",
       "      <th>197240</th>\n",
       "      <td>SFMTA</td>\n",
       "      <td>2009-02-21 10:15:00</td>\n",
       "      <td>214388</td>\n",
       "      <td>2009-02-21</td>\n",
       "      <td>2009-02-21 10:15:00</td>\n",
       "      <td>0</td>\n",
       "      <td>1</td>\n",
       "      <td>0.0</td>\n",
       "      <td>0</td>\n",
       "      <td>1.5</td>\n",
       "      <td>11.0</td>\n",
       "      <td>2009-02-21</td>\n",
       "      <td>0</td>\n",
       "      <td>3725</td>\n",
       "      <td>MARKET &amp; WHARVES</td>\n",
       "      <td>F</td>\n",
       "      <td>0</td>\n",
       "      <td>17.52</td>\n",
       "      <td>1.0</td>\n",
       "      <td>20090221-20090612</td>\n",
       "      <td>4</td>\n",
       "      <td>0.292</td>\n",
       "      <td>3487.305385</td>\n",
       "      <td>34772</td>\n",
       "      <td>0</td>\n",
       "      <td>The Embarcadero &amp; Bay St</td>\n",
       "      <td>4502</td>\n",
       "      <td>37.806629</td>\n",
       "      <td>-122.406030</td>\n",
       "      <td>0900-1359</td>\n",
       "      <td>17.52</td>\n",
       "      <td>1.0</td>\n",
       "      <td>1008_1</td>\n",
       "      <td>Castro</td>\n",
       "      <td>2948224</td>\n",
       "      <td>1</td>\n",
       "    </tr>\n",
       "    <tr>\n",
       "      <th>5898</th>\n",
       "      <th>197241</th>\n",
       "      <td>SFMTA</td>\n",
       "      <td>2009-02-21 10:16:00</td>\n",
       "      <td>214388</td>\n",
       "      <td>2009-02-21</td>\n",
       "      <td>2009-02-21 10:16:00</td>\n",
       "      <td>0</td>\n",
       "      <td>1</td>\n",
       "      <td>0.0</td>\n",
       "      <td>0</td>\n",
       "      <td>1.5</td>\n",
       "      <td>11.0</td>\n",
       "      <td>2009-02-21</td>\n",
       "      <td>0</td>\n",
       "      <td>3725</td>\n",
       "      <td>MARKET &amp; WHARVES</td>\n",
       "      <td>F</td>\n",
       "      <td>0</td>\n",
       "      <td>11.28</td>\n",
       "      <td>1.0</td>\n",
       "      <td>20090221-20090612</td>\n",
       "      <td>5</td>\n",
       "      <td>0.188</td>\n",
       "      <td>4477.449639</td>\n",
       "      <td>34772</td>\n",
       "      <td>0</td>\n",
       "      <td>The Embarcadero &amp; Sansome St</td>\n",
       "      <td>4529</td>\n",
       "      <td>37.805022</td>\n",
       "      <td>-122.403314</td>\n",
       "      <td>0900-1359</td>\n",
       "      <td>11.28</td>\n",
       "      <td>1.0</td>\n",
       "      <td>1008_1</td>\n",
       "      <td>Castro</td>\n",
       "      <td>2948224</td>\n",
       "      <td>1</td>\n",
       "    </tr>\n",
       "  </tbody>\n",
       "</table>\n",
       "</div>"
      ],
      "text/plain": [
       "            AGENCY_ID      ARRIVAL_TIME_S  BLOCK_ID       DATE  \\\n",
       "5894 197237     SFMTA 2009-02-21 10:08:00    214388 2009-02-21   \n",
       "5895 197238     SFMTA 2009-02-21 10:11:00    214388 2009-02-21   \n",
       "5896 197239     SFMTA 2009-02-21 10:14:00    214388 2009-02-21   \n",
       "5897 197240     SFMTA 2009-02-21 10:15:00    214388 2009-02-21   \n",
       "5898 197241     SFMTA 2009-02-21 10:16:00    214388 2009-02-21   \n",
       "\n",
       "               DEPARTURE_TIME_S  DIR  DOW  DWELL_S  EOL  FARE  HEADWAY_S  \\\n",
       "5894 197237 2009-02-21 10:08:00    0    1      0.0    0   1.5       11.0   \n",
       "5895 197238 2009-02-21 10:11:00    0    1      0.0    0   1.5       11.0   \n",
       "5896 197239 2009-02-21 10:14:00    0    1      0.0    0   1.5       11.0   \n",
       "5897 197240 2009-02-21 10:15:00    0    1      0.0    0   1.5       11.0   \n",
       "5898 197241 2009-02-21 10:16:00    0    1      0.0    0   1.5       11.0   \n",
       "\n",
       "                 MONTH  OBSERVED  ROUTE_ID   ROUTE_LONG_NAME ROUTE_SHORT_NAME  \\\n",
       "5894 197237 2009-02-21         0      3725  MARKET & WHARVES                F   \n",
       "5895 197238 2009-02-21         0      3725  MARKET & WHARVES                F   \n",
       "5896 197239 2009-02-21         0      3725  MARKET & WHARVES                F   \n",
       "5897 197240 2009-02-21         0      3725  MARKET & WHARVES                F   \n",
       "5898 197241 2009-02-21         0      3725  MARKET & WHARVES                F   \n",
       "\n",
       "             ROUTE_TYPE  RUNSPEED_S  RUNTIME_S        SCHED_DATES  SEQ  \\\n",
       "5894 197237           0        0.00        0.0  20090221-20090612    1   \n",
       "5895 197238           0        3.70        3.0  20090221-20090612    2   \n",
       "5896 197239           0        3.68        3.0  20090221-20090612    3   \n",
       "5897 197240           0       17.52        1.0  20090221-20090612    4   \n",
       "5898 197241           0       11.28        1.0  20090221-20090612    5   \n",
       "\n",
       "             SERVMILES_S   SHAPE_DIST  SHAPE_ID  SOL  \\\n",
       "5894 197237        0.000     0.000000     34772    1   \n",
       "5895 197238        0.185   975.916380     34772    0   \n",
       "5896 197239        0.184  1946.538112     34772    0   \n",
       "5897 197240        0.292  3487.305385     34772    0   \n",
       "5898 197241        0.188  4477.449639     34772    0   \n",
       "\n",
       "                                   STOPNAME  STOP_ID   STOP_LAT    STOP_LON  \\\n",
       "5894 197237           Jones St & Beach St       5184  37.807248 -122.417366   \n",
       "5895 197238           Beach St & Mason St       3092  37.807407 -122.414125   \n",
       "5896 197239        Beach St & Stockton St       3095  37.807841 -122.410810   \n",
       "5897 197240      The Embarcadero & Bay St       4502  37.806629 -122.406030   \n",
       "5898 197241  The Embarcadero & Sansome St       4529  37.805022 -122.403314   \n",
       "\n",
       "                   TOD  TOTSPEED_S  TOTTIME_S    TRIP TRIP_HEADSIGN  TRIP_ID  \\\n",
       "5894 197237  0900-1359        0.00        0.0  1008_1        Castro  2948224   \n",
       "5895 197238  0900-1359        3.70        3.0  1008_1        Castro  2948224   \n",
       "5896 197239  0900-1359        3.68        3.0  1008_1        Castro  2948224   \n",
       "5897 197240  0900-1359       17.52        1.0  1008_1        Castro  2948224   \n",
       "5898 197241  0900-1359       11.28        1.0  1008_1        Castro  2948224   \n",
       "\n",
       "             TRIP_STOPS  \n",
       "5894 197237           1  \n",
       "5895 197238           1  \n",
       "5896 197239           1  \n",
       "5897 197240           1  \n",
       "5898 197241           1  "
      ]
     },
     "execution_count": 103,
     "metadata": {},
     "output_type": "execute_result"
    }
   ],
   "source": [
    "rail_stops.head()"
   ]
  },
  {
   "cell_type": "code",
   "execution_count": 344,
   "metadata": {
    "collapsed": false
   },
   "outputs": [],
   "source": [
    "stops = rail_stops[['STOP_ID','DIR','STOP_LAT','STOP_LON','MONTH']]"
   ]
  },
  {
   "cell_type": "code",
   "execution_count": 307,
   "metadata": {
    "collapsed": false
   },
   "outputs": [
    {
     "data": {
      "text/html": [
       "<div>\n",
       "<table border=\"1\" class=\"dataframe\">\n",
       "  <thead>\n",
       "    <tr style=\"text-align: right;\">\n",
       "      <th></th>\n",
       "      <th></th>\n",
       "      <th>STOP_ID</th>\n",
       "      <th>DIR</th>\n",
       "      <th>STOP_LAT</th>\n",
       "      <th>STOP_LON</th>\n",
       "      <th>MONTH</th>\n",
       "    </tr>\n",
       "  </thead>\n",
       "  <tbody>\n",
       "    <tr>\n",
       "      <th>5894</th>\n",
       "      <th>197237</th>\n",
       "      <td>5184</td>\n",
       "      <td>0</td>\n",
       "      <td>37.807248</td>\n",
       "      <td>-122.417366</td>\n",
       "      <td>2009-02-21</td>\n",
       "    </tr>\n",
       "    <tr>\n",
       "      <th>5895</th>\n",
       "      <th>197238</th>\n",
       "      <td>3092</td>\n",
       "      <td>0</td>\n",
       "      <td>37.807407</td>\n",
       "      <td>-122.414125</td>\n",
       "      <td>2009-02-21</td>\n",
       "    </tr>\n",
       "    <tr>\n",
       "      <th>5896</th>\n",
       "      <th>197239</th>\n",
       "      <td>3095</td>\n",
       "      <td>0</td>\n",
       "      <td>37.807841</td>\n",
       "      <td>-122.410810</td>\n",
       "      <td>2009-02-21</td>\n",
       "    </tr>\n",
       "    <tr>\n",
       "      <th>5897</th>\n",
       "      <th>197240</th>\n",
       "      <td>4502</td>\n",
       "      <td>0</td>\n",
       "      <td>37.806629</td>\n",
       "      <td>-122.406030</td>\n",
       "      <td>2009-02-21</td>\n",
       "    </tr>\n",
       "    <tr>\n",
       "      <th>5898</th>\n",
       "      <th>197241</th>\n",
       "      <td>4529</td>\n",
       "      <td>0</td>\n",
       "      <td>37.805022</td>\n",
       "      <td>-122.403314</td>\n",
       "      <td>2009-02-21</td>\n",
       "    </tr>\n",
       "  </tbody>\n",
       "</table>\n",
       "</div>"
      ],
      "text/plain": [
       "             STOP_ID  DIR   STOP_LAT    STOP_LON      MONTH\n",
       "5894 197237     5184    0  37.807248 -122.417366 2009-02-21\n",
       "5895 197238     3092    0  37.807407 -122.414125 2009-02-21\n",
       "5896 197239     3095    0  37.807841 -122.410810 2009-02-21\n",
       "5897 197240     4502    0  37.806629 -122.406030 2009-02-21\n",
       "5898 197241     4529    0  37.805022 -122.403314 2009-02-21"
      ]
     },
     "execution_count": 307,
     "metadata": {},
     "output_type": "execute_result"
    }
   ],
   "source": [
    "stops.head()"
   ]
  },
  {
   "cell_type": "code",
   "execution_count": 345,
   "metadata": {
    "collapsed": false
   },
   "outputs": [],
   "source": [
    "stops09 = stops[stops['MONTH'].isin(pd.date_range(start = '2009-01-01',end = '2009-12-31'))]"
   ]
  },
  {
   "cell_type": "code",
   "execution_count": 309,
   "metadata": {
    "collapsed": false
   },
   "outputs": [
    {
     "data": {
      "text/html": [
       "<div>\n",
       "<table border=\"1\" class=\"dataframe\">\n",
       "  <thead>\n",
       "    <tr style=\"text-align: right;\">\n",
       "      <th></th>\n",
       "      <th></th>\n",
       "      <th>STOP_ID</th>\n",
       "      <th>DIR</th>\n",
       "      <th>STOP_LAT</th>\n",
       "      <th>STOP_LON</th>\n",
       "      <th>MONTH</th>\n",
       "    </tr>\n",
       "  </thead>\n",
       "  <tbody>\n",
       "    <tr>\n",
       "      <th>5894</th>\n",
       "      <th>197237</th>\n",
       "      <td>5184</td>\n",
       "      <td>0</td>\n",
       "      <td>37.807248</td>\n",
       "      <td>-122.417366</td>\n",
       "      <td>2009-02-21</td>\n",
       "    </tr>\n",
       "    <tr>\n",
       "      <th>5895</th>\n",
       "      <th>197238</th>\n",
       "      <td>3092</td>\n",
       "      <td>0</td>\n",
       "      <td>37.807407</td>\n",
       "      <td>-122.414125</td>\n",
       "      <td>2009-02-21</td>\n",
       "    </tr>\n",
       "    <tr>\n",
       "      <th>5896</th>\n",
       "      <th>197239</th>\n",
       "      <td>3095</td>\n",
       "      <td>0</td>\n",
       "      <td>37.807841</td>\n",
       "      <td>-122.410810</td>\n",
       "      <td>2009-02-21</td>\n",
       "    </tr>\n",
       "    <tr>\n",
       "      <th>5897</th>\n",
       "      <th>197240</th>\n",
       "      <td>4502</td>\n",
       "      <td>0</td>\n",
       "      <td>37.806629</td>\n",
       "      <td>-122.406030</td>\n",
       "      <td>2009-02-21</td>\n",
       "    </tr>\n",
       "    <tr>\n",
       "      <th>5898</th>\n",
       "      <th>197241</th>\n",
       "      <td>4529</td>\n",
       "      <td>0</td>\n",
       "      <td>37.805022</td>\n",
       "      <td>-122.403314</td>\n",
       "      <td>2009-02-21</td>\n",
       "    </tr>\n",
       "  </tbody>\n",
       "</table>\n",
       "</div>"
      ],
      "text/plain": [
       "             STOP_ID  DIR   STOP_LAT    STOP_LON      MONTH\n",
       "5894 197237     5184    0  37.807248 -122.417366 2009-02-21\n",
       "5895 197238     3092    0  37.807407 -122.414125 2009-02-21\n",
       "5896 197239     3095    0  37.807841 -122.410810 2009-02-21\n",
       "5897 197240     4502    0  37.806629 -122.406030 2009-02-21\n",
       "5898 197241     4529    0  37.805022 -122.403314 2009-02-21"
      ]
     },
     "execution_count": 309,
     "metadata": {},
     "output_type": "execute_result"
    }
   ],
   "source": [
    "stops09.head()"
   ]
  },
  {
   "cell_type": "code",
   "execution_count": 346,
   "metadata": {
    "collapsed": false
   },
   "outputs": [],
   "source": [
    "stops09 = stops09[['STOP_ID','STOP_LAT','DIR','STOP_LON']].groupby(by = ['STOP_ID','DIR'],as_index = False).mean()"
   ]
  },
  {
   "cell_type": "code",
   "execution_count": 311,
   "metadata": {
    "collapsed": false
   },
   "outputs": [
    {
     "data": {
      "text/plain": [
       "317"
      ]
     },
     "execution_count": 311,
     "metadata": {},
     "output_type": "execute_result"
    }
   ],
   "source": [
    "len(stops09)"
   ]
  },
  {
   "cell_type": "code",
   "execution_count": 312,
   "metadata": {
    "collapsed": false
   },
   "outputs": [
    {
     "data": {
      "text/html": [
       "<div>\n",
       "<table border=\"1\" class=\"dataframe\">\n",
       "  <thead>\n",
       "    <tr style=\"text-align: right;\">\n",
       "      <th></th>\n",
       "      <th>STOP_ID</th>\n",
       "      <th>DIR</th>\n",
       "      <th>STOP_LAT</th>\n",
       "      <th>STOP_LON</th>\n",
       "    </tr>\n",
       "  </thead>\n",
       "  <tbody>\n",
       "    <tr>\n",
       "      <th>0</th>\n",
       "      <td>3092</td>\n",
       "      <td>0</td>\n",
       "      <td>37.807407</td>\n",
       "      <td>-122.414125</td>\n",
       "    </tr>\n",
       "    <tr>\n",
       "      <th>1</th>\n",
       "      <td>3095</td>\n",
       "      <td>0</td>\n",
       "      <td>37.807841</td>\n",
       "      <td>-122.410810</td>\n",
       "    </tr>\n",
       "    <tr>\n",
       "      <th>2</th>\n",
       "      <td>3212</td>\n",
       "      <td>1</td>\n",
       "      <td>37.763888</td>\n",
       "      <td>-122.466245</td>\n",
       "    </tr>\n",
       "    <tr>\n",
       "      <th>3</th>\n",
       "      <td>3266</td>\n",
       "      <td>0</td>\n",
       "      <td>37.743124</td>\n",
       "      <td>-122.471297</td>\n",
       "    </tr>\n",
       "    <tr>\n",
       "      <th>4</th>\n",
       "      <td>3267</td>\n",
       "      <td>1</td>\n",
       "      <td>37.743069</td>\n",
       "      <td>-122.471405</td>\n",
       "    </tr>\n",
       "  </tbody>\n",
       "</table>\n",
       "</div>"
      ],
      "text/plain": [
       "   STOP_ID  DIR   STOP_LAT    STOP_LON\n",
       "0     3092    0  37.807407 -122.414125\n",
       "1     3095    0  37.807841 -122.410810\n",
       "2     3212    1  37.763888 -122.466245\n",
       "3     3266    0  37.743124 -122.471297\n",
       "4     3267    1  37.743069 -122.471405"
      ]
     },
     "execution_count": 312,
     "metadata": {},
     "output_type": "execute_result"
    }
   ],
   "source": [
    "stops09.head()"
   ]
  },
  {
   "cell_type": "code",
   "execution_count": 347,
   "metadata": {
    "collapsed": false
   },
   "outputs": [],
   "source": [
    "stops09['geometry'] = [Point(xy) for xy in zip(stops09.STOP_LON, stops09.STOP_LAT)]"
   ]
  },
  {
   "cell_type": "code",
   "execution_count": 352,
   "metadata": {
    "collapsed": false
   },
   "outputs": [],
   "source": [
    "muni09_merged = pd.merge(stops09,muni09, on = 'STOP_ID',how = 'right')"
   ]
  },
  {
   "cell_type": "code",
   "execution_count": 353,
   "metadata": {
    "collapsed": false
   },
   "outputs": [
    {
     "data": {
      "text/html": [
       "<div>\n",
       "<table border=\"1\" class=\"dataframe\">\n",
       "  <thead>\n",
       "    <tr style=\"text-align: right;\">\n",
       "      <th></th>\n",
       "      <th>STOP_ID</th>\n",
       "      <th>DIR</th>\n",
       "      <th>STOP_LAT</th>\n",
       "      <th>STOP_LON</th>\n",
       "      <th>geometry</th>\n",
       "      <th>Boardings</th>\n",
       "      <th>Alightings</th>\n",
       "    </tr>\n",
       "  </thead>\n",
       "  <tbody>\n",
       "    <tr>\n",
       "      <th>0</th>\n",
       "      <td>3212</td>\n",
       "      <td>1.0</td>\n",
       "      <td>37.763888</td>\n",
       "      <td>-122.466245</td>\n",
       "      <td>POINT (-122.4662450000009 37.76388799999987)</td>\n",
       "      <td>1,223</td>\n",
       "      <td>270</td>\n",
       "    </tr>\n",
       "    <tr>\n",
       "      <th>1</th>\n",
       "      <td>3266</td>\n",
       "      <td>0.0</td>\n",
       "      <td>37.743124</td>\n",
       "      <td>-122.471297</td>\n",
       "      <td>POINT (-122.4712969999989 37.74312400000014)</td>\n",
       "      <td>77</td>\n",
       "      <td>255</td>\n",
       "    </tr>\n",
       "    <tr>\n",
       "      <th>2</th>\n",
       "      <td>3267</td>\n",
       "      <td>1.0</td>\n",
       "      <td>37.743069</td>\n",
       "      <td>-122.471405</td>\n",
       "      <td>POINT (-122.4714049999991 37.7430690000001)</td>\n",
       "      <td>280</td>\n",
       "      <td>77</td>\n",
       "    </tr>\n",
       "    <tr>\n",
       "      <th>3</th>\n",
       "      <td>3268</td>\n",
       "      <td>0.0</td>\n",
       "      <td>37.741525</td>\n",
       "      <td>-122.471192</td>\n",
       "      <td>POINT (-122.4711919999996 37.74152499999985)</td>\n",
       "      <td>22</td>\n",
       "      <td>111</td>\n",
       "    </tr>\n",
       "    <tr>\n",
       "      <th>4</th>\n",
       "      <td>3269</td>\n",
       "      <td>1.0</td>\n",
       "      <td>37.741484</td>\n",
       "      <td>-122.471300</td>\n",
       "      <td>POINT (-122.4712999999995 37.7414840000001)</td>\n",
       "      <td>47</td>\n",
       "      <td>13</td>\n",
       "    </tr>\n",
       "  </tbody>\n",
       "</table>\n",
       "</div>"
      ],
      "text/plain": [
       "   STOP_ID  DIR   STOP_LAT    STOP_LON  \\\n",
       "0     3212  1.0  37.763888 -122.466245   \n",
       "1     3266  0.0  37.743124 -122.471297   \n",
       "2     3267  1.0  37.743069 -122.471405   \n",
       "3     3268  0.0  37.741525 -122.471192   \n",
       "4     3269  1.0  37.741484 -122.471300   \n",
       "\n",
       "                                       geometry Boardings Alightings  \n",
       "0  POINT (-122.4662450000009 37.76388799999987)     1,223        270  \n",
       "1  POINT (-122.4712969999989 37.74312400000014)        77        255  \n",
       "2   POINT (-122.4714049999991 37.7430690000001)       280         77  \n",
       "3  POINT (-122.4711919999996 37.74152499999985)        22        111  \n",
       "4   POINT (-122.4712999999995 37.7414840000001)        47         13  "
      ]
     },
     "execution_count": 353,
     "metadata": {},
     "output_type": "execute_result"
    }
   ],
   "source": [
    "muni09_merged.head()"
   ]
  },
  {
   "cell_type": "code",
   "execution_count": 354,
   "metadata": {
    "collapsed": false
   },
   "outputs": [
    {
     "data": {
      "text/plain": [
       "329"
      ]
     },
     "execution_count": 354,
     "metadata": {},
     "output_type": "execute_result"
    }
   ],
   "source": [
    "len(muni09_merged)"
   ]
  },
  {
   "cell_type": "code",
   "execution_count": 373,
   "metadata": {
    "collapsed": false
   },
   "outputs": [
    {
     "name": "stderr",
     "output_type": "stream",
     "text": [
      "C:\\Anaconda\\lib\\site-packages\\pandas\\core\\indexing.py:141: SettingWithCopyWarning: \n",
      "A value is trying to be set on a copy of a slice from a DataFrame\n",
      "\n",
      "See the caveats in the documentation: http://pandas.pydata.org/pandas-docs/stable/indexing.html#indexing-view-versus-copy\n",
      "  self._setitem_with_indexer(indexer, value)\n"
     ]
    }
   ],
   "source": [
    "muni09_merged['STOP_LAT'].loc[327] = 37.720949\n",
    "muni09_merged['STOP_LAT'].loc[328] = 37.720949\n",
    "\n",
    "muni09_merged['STOP_LON'].loc[327] = -122.446872\n",
    "muni09_merged['STOP_LON'].loc[328] = -122.446872"
   ]
  },
  {
   "cell_type": "code",
   "execution_count": 376,
   "metadata": {
    "collapsed": false
   },
   "outputs": [
    {
     "data": {
      "text/html": [
       "<div>\n",
       "<table border=\"1\" class=\"dataframe\">\n",
       "  <thead>\n",
       "    <tr style=\"text-align: right;\">\n",
       "      <th></th>\n",
       "      <th>STOP_ID</th>\n",
       "      <th>DIR</th>\n",
       "      <th>STOP_LAT</th>\n",
       "      <th>STOP_LON</th>\n",
       "      <th>geometry</th>\n",
       "      <th>Boardings</th>\n",
       "      <th>Alightings</th>\n",
       "    </tr>\n",
       "  </thead>\n",
       "  <tbody>\n",
       "    <tr>\n",
       "      <th>327</th>\n",
       "      <td>7155</td>\n",
       "      <td>NaN</td>\n",
       "      <td>37.720949</td>\n",
       "      <td>-122.446872</td>\n",
       "      <td>POINT (-122.446872 37.720949)</td>\n",
       "      <td>0</td>\n",
       "      <td>412</td>\n",
       "    </tr>\n",
       "    <tr>\n",
       "      <th>328</th>\n",
       "      <td>7155</td>\n",
       "      <td>NaN</td>\n",
       "      <td>37.720949</td>\n",
       "      <td>-122.446872</td>\n",
       "      <td>POINT (-122.446872 37.720949)</td>\n",
       "      <td>648</td>\n",
       "      <td>0</td>\n",
       "    </tr>\n",
       "  </tbody>\n",
       "</table>\n",
       "</div>"
      ],
      "text/plain": [
       "     STOP_ID  DIR   STOP_LAT    STOP_LON                       geometry  \\\n",
       "327     7155  NaN  37.720949 -122.446872  POINT (-122.446872 37.720949)   \n",
       "328     7155  NaN  37.720949 -122.446872  POINT (-122.446872 37.720949)   \n",
       "\n",
       "    Boardings Alightings  \n",
       "327         0        412  \n",
       "328       648          0  "
      ]
     },
     "execution_count": 376,
     "metadata": {},
     "output_type": "execute_result"
    }
   ],
   "source": [
    "muni09_merged[muni09_merged['STOP_ID'] == 7155]"
   ]
  },
  {
   "cell_type": "code",
   "execution_count": 375,
   "metadata": {
    "collapsed": true
   },
   "outputs": [],
   "source": [
    "muni09_merged['geometry'] = [Point(xy) for xy in zip(muni09_merged.STOP_LON, muni09_merged.STOP_LAT)]"
   ]
  },
  {
   "cell_type": "code",
   "execution_count": 319,
   "metadata": {
    "collapsed": false
   },
   "outputs": [
    {
     "data": {
      "text/plain": [
       "<matplotlib.axes._subplots.AxesSubplot at 0x1ba2443e8d0>"
      ]
     },
     "execution_count": 319,
     "metadata": {},
     "output_type": "execute_result"
    },
    {
     "data": {
      "image/png": "[encoded data removed]",
      "text/plain": [
       "<matplotlib.figure.Figure at 0x1ba243c52e8>"
      ]
     },
     "metadata": {},
     "output_type": "display_data"
    }
   ],
   "source": [
    "muni09_merged.plot()"
   ]
  },
  {
   "cell_type": "code",
   "execution_count": 377,
   "metadata": {
    "collapsed": false
   },
   "outputs": [],
   "source": [
    "muni09_geo = gp.GeoDataFrame(muni09_merged)"
   ]
  },
  {
   "cell_type": "code",
   "execution_count": 378,
   "metadata": {
    "collapsed": false,
    "scrolled": true
   },
   "outputs": [
    {
     "data": {
      "text/plain": [
       "<matplotlib.axes._subplots.AxesSubplot at 0x1ba2740d278>"
      ]
     },
     "execution_count": 378,
     "metadata": {},
     "output_type": "execute_result"
    },
    {
     "data": {
      "image/png": "[encoded data removed]",
      "text/plain": [
       "<matplotlib.figure.Figure at 0x1ba273f7c50>"
      ]
     },
     "metadata": {},
     "output_type": "display_data"
    }
   ],
   "source": [
    "muni09_geo.plot()"
   ]
  },
  {
   "cell_type": "code",
   "execution_count": 380,
   "metadata": {
    "collapsed": false
   },
   "outputs": [],
   "source": [
    "muni09_geo.crs = {'init':'epsg:4326'}"
   ]
  },
  {
   "cell_type": "code",
   "execution_count": 360,
   "metadata": {
    "collapsed": false
   },
   "outputs": [
    {
     "data": {
      "text/plain": [
       "329"
      ]
     },
     "execution_count": 360,
     "metadata": {},
     "output_type": "execute_result"
    }
   ],
   "source": [
    "len(muni09_geo)"
   ]
  },
  {
   "cell_type": "code",
   "execution_count": 399,
   "metadata": {
    "collapsed": true
   },
   "outputs": [],
   "source": [
    "muni09_geo.to_file('2009_MUNI_Rail_Stops.shp',driver = 'ESRI Shapefile')"
   ]
  },
  {
   "cell_type": "code",
   "execution_count": 324,
   "metadata": {
    "collapsed": true
   },
   "outputs": [],
   "source": [
    "buffers = gp.read_file('E:/Transit-Casa-Alex/Output/Buffers/Tenth/Buffers_Tenth_GCS.shp')"
   ]
  },
  {
   "cell_type": "code",
   "execution_count": 381,
   "metadata": {
    "collapsed": false
   },
   "outputs": [],
   "source": [
    "muni09_geo = muni09_geo.to_crs(buffers.crs)"
   ]
  },
  {
   "cell_type": "code",
   "execution_count": 326,
   "metadata": {
    "collapsed": false
   },
   "outputs": [
    {
     "data": {
      "text/plain": [
       "<matplotlib.axes._subplots.AxesSubplot at 0x1ba252e5e10>"
      ]
     },
     "execution_count": 326,
     "metadata": {},
     "output_type": "execute_result"
    },
    {
     "data": {
      "image/png": "[encoded data removed]",
      "text/plain": [
       "<matplotlib.figure.Figure at 0x1ba252889e8>"
      ]
     },
     "metadata": {},
     "output_type": "display_data"
    }
   ],
   "source": [
    "muni09_geo.plot()"
   ]
  },
  {
   "cell_type": "code",
   "execution_count": 288,
   "metadata": {
    "collapsed": false
   },
   "outputs": [
    {
     "data": {
      "text/plain": [
       "<matplotlib.axes._subplots.AxesSubplot at 0x1ba1ad42be0>"
      ]
     },
     "execution_count": 288,
     "metadata": {},
     "output_type": "execute_result"
    },
    {
     "data": {
      "image/png": "[encoded data removed]",
      "text/plain": [
       "<matplotlib.figure.Figure at 0x1ba19445e48>"
      ]
     },
     "metadata": {},
     "output_type": "display_data"
    }
   ],
   "source": [
    "buffers.plot()"
   ]
  },
  {
   "cell_type": "code",
   "execution_count": 390,
   "metadata": {
    "collapsed": false,
    "scrolled": true
   },
   "outputs": [],
   "source": []
  },
  {
   "cell_type": "code",
   "execution_count": null,
   "metadata": {
    "collapsed": false
   },
   "outputs": [],
   "source": []
  },
  {
   "cell_type": "code",
   "execution_count": 400,
   "metadata": {
    "collapsed": false
   },
   "outputs": [],
   "source": [
    "muni = gp.read_file('E:/Transit-Casa-Alex/Output/Processed MUNI Rail/2009_MUNI_Rail.shp')"
   ]
  },
  {
   "cell_type": "code",
   "execution_count": 404,
   "metadata": {
    "collapsed": false
   },
   "outputs": [],
   "source": [
    "muni.crs = buffers.crs"
   ]
  },
  {
   "cell_type": "code",
   "execution_count": 405,
   "metadata": {
    "collapsed": false
   },
   "outputs": [],
   "source": [
    "muni_joined = gp.sjoin(buffers[['geometry','STOP_ID']],muni[['Boardings','Alightings','geometry']],how = 'left')"
   ]
  },
  {
   "cell_type": "code",
   "execution_count": null,
   "metadata": {
    "collapsed": false
   },
   "outputs": [],
   "source": [
    "muni_joined"
   ]
  },
  {
   "cell_type": "code",
   "execution_count": 406,
   "metadata": {
    "collapsed": false
   },
   "outputs": [
    {
     "data": {
      "text/html": [
       "<div>\n",
       "<table border=\"1\" class=\"dataframe\">\n",
       "  <thead>\n",
       "    <tr style=\"text-align: right;\">\n",
       "      <th></th>\n",
       "      <th>geometry</th>\n",
       "      <th>STOP_ID</th>\n",
       "      <th>index_right</th>\n",
       "      <th>Boardings</th>\n",
       "      <th>Alightings</th>\n",
       "    </tr>\n",
       "  </thead>\n",
       "  <tbody>\n",
       "    <tr>\n",
       "      <th>0</th>\n",
       "      <td>POLYGON ((-122.4732708739641 37.72122058726108...</td>\n",
       "      <td>390</td>\n",
       "      <td>5.0</td>\n",
       "      <td>769</td>\n",
       "      <td>3,052</td>\n",
       "    </tr>\n",
       "    <tr>\n",
       "      <th>0</th>\n",
       "      <td>POLYGON ((-122.4732708739641 37.72122058726108...</td>\n",
       "      <td>390</td>\n",
       "      <td>268.0</td>\n",
       "      <td>3,176</td>\n",
       "      <td>883</td>\n",
       "    </tr>\n",
       "    <tr>\n",
       "      <th>1</th>\n",
       "      <td>POLYGON ((-122.475383794672 37.7651896197756, ...</td>\n",
       "      <td>392</td>\n",
       "      <td>NaN</td>\n",
       "      <td>NaN</td>\n",
       "      <td>NaN</td>\n",
       "    </tr>\n",
       "    <tr>\n",
       "      <th>2</th>\n",
       "      <td>POLYGON ((-122.4335617909149 37.72394397209937...</td>\n",
       "      <td>660</td>\n",
       "      <td>NaN</td>\n",
       "      <td>NaN</td>\n",
       "      <td>NaN</td>\n",
       "    </tr>\n",
       "    <tr>\n",
       "      <th>3</th>\n",
       "      <td>POLYGON ((-122.4239769029978 37.71922182363711...</td>\n",
       "      <td>913</td>\n",
       "      <td>NaN</td>\n",
       "      <td>NaN</td>\n",
       "      <td>NaN</td>\n",
       "    </tr>\n",
       "  </tbody>\n",
       "</table>\n",
       "</div>"
      ],
      "text/plain": [
       "                                            geometry  STOP_ID  index_right  \\\n",
       "0  POLYGON ((-122.4732708739641 37.72122058726108...      390          5.0   \n",
       "0  POLYGON ((-122.4732708739641 37.72122058726108...      390        268.0   \n",
       "1  POLYGON ((-122.475383794672 37.7651896197756, ...      392          NaN   \n",
       "2  POLYGON ((-122.4335617909149 37.72394397209937...      660          NaN   \n",
       "3  POLYGON ((-122.4239769029978 37.71922182363711...      913          NaN   \n",
       "\n",
       "  Boardings Alightings  \n",
       "0       769      3,052  \n",
       "0     3,176        883  \n",
       "1       NaN        NaN  \n",
       "2       NaN        NaN  \n",
       "3       NaN        NaN  "
      ]
     },
     "execution_count": 406,
     "metadata": {},
     "output_type": "execute_result"
    }
   ],
   "source": [
    "muni_joined.head()"
   ]
  },
  {
   "cell_type": "code",
   "execution_count": 412,
   "metadata": {
    "collapsed": false
   },
   "outputs": [
    {
     "name": "stderr",
     "output_type": "stream",
     "text": [
      "C:\\Anaconda\\lib\\site-packages\\ipykernel\\__main__.py:1: FutureWarning: convert_objects is deprecated.  Use the data-type specific converters pd.to_datetime, pd.to_timedelta and pd.to_numeric.\n",
      "  if __name__ == '__main__':\n",
      "C:\\Anaconda\\lib\\site-packages\\ipykernel\\__main__.py:2: FutureWarning: convert_objects is deprecated.  Use the data-type specific converters pd.to_datetime, pd.to_timedelta and pd.to_numeric.\n",
      "  from ipykernel import kernelapp as app\n"
     ]
    }
   ],
   "source": [
    "muni_joined.Boardings = muni_joined.Boardings.convert_objects(convert_numeric = True)\n",
    "muni_joined.Alightings = muni_joined.Alightings.convert_objects(convert_numeric = True)"
   ]
  },
  {
   "cell_type": "code",
   "execution_count": 421,
   "metadata": {
    "collapsed": false
   },
   "outputs": [],
   "source": [
    "muni_joined = muni_joined[['STOP_ID','Boardings','Alightings','geometry']].groupby(by = 'STOP_ID',as_index = False).agg({'geometry':'first','Boardings':'sum','Alightings':'sum'})"
   ]
  },
  {
   "cell_type": "code",
   "execution_count": 420,
   "metadata": {
    "collapsed": false
   },
   "outputs": [
    {
     "data": {
      "text/plain": [
       "3563"
      ]
     },
     "execution_count": 420,
     "metadata": {},
     "output_type": "execute_result"
    }
   ],
   "source": [
    "len(muni_joined)"
   ]
  },
  {
   "cell_type": "code",
   "execution_count": 422,
   "metadata": {
    "collapsed": false
   },
   "outputs": [
    {
     "data": {
      "text/html": [
       "<div>\n",
       "<table border=\"1\" class=\"dataframe\">\n",
       "  <thead>\n",
       "    <tr style=\"text-align: right;\">\n",
       "      <th></th>\n",
       "      <th>STOP_ID</th>\n",
       "      <th>Boardings</th>\n",
       "      <th>geometry</th>\n",
       "      <th>Alightings</th>\n",
       "    </tr>\n",
       "  </thead>\n",
       "  <tbody>\n",
       "    <tr>\n",
       "      <th>0</th>\n",
       "      <td>390</td>\n",
       "      <td>769.0</td>\n",
       "      <td>POLYGON ((-122.4732708739641 37.72122058726108...</td>\n",
       "      <td>883.0</td>\n",
       "    </tr>\n",
       "    <tr>\n",
       "      <th>1</th>\n",
       "      <td>392</td>\n",
       "      <td>NaN</td>\n",
       "      <td>POLYGON ((-122.475383794672 37.7651896197756, ...</td>\n",
       "      <td>NaN</td>\n",
       "    </tr>\n",
       "    <tr>\n",
       "      <th>2</th>\n",
       "      <td>660</td>\n",
       "      <td>NaN</td>\n",
       "      <td>POLYGON ((-122.4335617909149 37.72394397209937...</td>\n",
       "      <td>NaN</td>\n",
       "    </tr>\n",
       "    <tr>\n",
       "      <th>3</th>\n",
       "      <td>913</td>\n",
       "      <td>NaN</td>\n",
       "      <td>POLYGON ((-122.4239769029978 37.71922182363711...</td>\n",
       "      <td>NaN</td>\n",
       "    </tr>\n",
       "    <tr>\n",
       "      <th>4</th>\n",
       "      <td>3001</td>\n",
       "      <td>NaN</td>\n",
       "      <td>POLYGON ((-122.3942171872453 37.7885593622781,...</td>\n",
       "      <td>NaN</td>\n",
       "    </tr>\n",
       "  </tbody>\n",
       "</table>\n",
       "</div>"
      ],
      "text/plain": [
       "   STOP_ID  Boardings                                           geometry  \\\n",
       "0      390      769.0  POLYGON ((-122.4732708739641 37.72122058726108...   \n",
       "1      392        NaN  POLYGON ((-122.475383794672 37.7651896197756, ...   \n",
       "2      660        NaN  POLYGON ((-122.4335617909149 37.72394397209937...   \n",
       "3      913        NaN  POLYGON ((-122.4239769029978 37.71922182363711...   \n",
       "4     3001        NaN  POLYGON ((-122.3942171872453 37.7885593622781,...   \n",
       "\n",
       "   Alightings  \n",
       "0       883.0  \n",
       "1         NaN  \n",
       "2         NaN  \n",
       "3         NaN  \n",
       "4         NaN  "
      ]
     },
     "execution_count": 422,
     "metadata": {},
     "output_type": "execute_result"
    }
   ],
   "source": [
    "muni_joined.head()"
   ]
  },
  {
   "cell_type": "code",
   "execution_count": 423,
   "metadata": {
    "collapsed": false
   },
   "outputs": [
    {
     "data": {
      "text/plain": [
       "{'init': 'epsg:4269'}"
      ]
     },
     "execution_count": 423,
     "metadata": {},
     "output_type": "execute_result"
    }
   ],
   "source": [
    "muni09_geo.crs"
   ]
  },
  {
   "cell_type": "code",
   "execution_count": null,
   "metadata": {
    "collapsed": false
   },
   "outputs": [],
   "source": []
  },
  {
   "cell_type": "code",
   "execution_count": null,
   "metadata": {
    "collapsed": true
   },
   "outputs": [],
   "source": []
  }
 ],
 "metadata": {
  "anaconda-cloud": {},
  "kernelspec": {
   "display_name": "Python [conda root]",
   "language": "python",
   "name": "conda-root-py"
  },
  "language_info": {
   "codemirror_mode": {
    "name": "ipython",
    "version": 3
   },
   "file_extension": ".py",
   "mimetype": "text/x-python",
   "name": "python",
   "nbconvert_exporter": "python",
   "pygments_lexer": "ipython3",
   "version": "3.5.2"
  }
 },
 "nbformat": 4,
 "nbformat_minor": 1
}
