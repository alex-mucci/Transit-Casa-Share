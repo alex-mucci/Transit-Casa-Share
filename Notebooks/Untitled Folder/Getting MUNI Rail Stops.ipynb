{
 "cells": [
  {
   "cell_type": "code",
   "execution_count": 55,
   "metadata": {
    "collapsed": true
   },
   "outputs": [],
   "source": [
    "import pandas as pd"
   ]
  },
  {
   "cell_type": "code",
   "execution_count": 59,
   "metadata": {
    "collapsed": true
   },
   "outputs": [],
   "source": [
    "store2 = pd.HDFStore('E:/sfdata_wrangler2/out/gtfs.h5')"
   ]
  },
  {
   "cell_type": "code",
   "execution_count": 23,
   "metadata": {
    "collapsed": true
   },
   "outputs": [],
   "source": [
    "store = pd.HDFStore('E:/Transit-Casa-Alex/Input/Bus Performence/sfmuni_monthly_ts.H5')"
   ]
  },
  {
   "cell_type": "code",
   "execution_count": 3,
   "metadata": {
    "collapsed": false
   },
   "outputs": [
    {
     "data": {
      "text/plain": [
       "<bound method HDFStore.items of <class 'pandas.io.pytables.HDFStore'>\n",
       "File path: E:/Transit-Casa-Alex/Input/Bus Performence/sfmuni_monthly_ts.H5\n",
       "/rs_day                          frame_table  (typ->appendable,nrows->543005,ncols->58,indexers->[index],dc->[MONTH,DOW,AGENCY_ID,ROUTE_SHORT_NAME,DIR,SEQ,NUMDAYS,OBSDAYS,TRIP_STOPS,OBS_TRIP_STOPS,IMP_TRIP_STOPS,WGT_TRIP_STOPS,STOP_ID,ROUTE_LONG_NAME,ROUTE_TYPE,TRIP_HEADSIGN,HEADWAY_S,FARE,STOPNAME,STOPNAME_AVL,STOP_LAT,STOP_LON,EOL,SOL,TIMEPOINT,ARRIVAL_TIME_DEV,DEPARTURE_TIME_DEV,DWELL_S,DWELL,RUNTIME_S,RUNTIME,TOTTIME_S,TOTTIME,SERVMILES_S,SERVMILES,RUNSPEED_S,RUNSPEED,TOTSPEED_S,TOTSPEED,ONTIME5,ON,OFF,LOAD_ARR,LOAD_DEP,PASSMILES,PASSHOURS,WAITHOURS,FULLFARE_REV,PASSDELAY_DEP,PASSDELAY_ARR,RDBRDNGS,DOORCYCLES,WHEELCHAIR,BIKERACK,CAPACITY,VC,CROWDED,CROWDHOURS])     \n",
       "/rs_tod                          frame_table  (typ->appendable,nrows->2839604,ncols->59,indexers->[index],dc->[MONTH,DOW,TOD,AGENCY_ID,ROUTE_SHORT_NAME,DIR,SEQ,NUMDAYS,OBSDAYS,TRIP_STOPS,OBS_TRIP_STOPS,WGT_TRIP_STOPS,STOP_ID,ROUTE_LONG_NAME,ROUTE_TYPE,TRIP_HEADSIGN,HEADWAY_S,FARE,STOPNAME,STOPNAME_AVL,STOP_LAT,STOP_LON,EOL,SOL,TIMEPOINT,ARRIVAL_TIME_DEV,DEPARTURE_TIME_DEV,DWELL_S,DWELL,RUNTIME_S,RUNTIME,TOTTIME_S,TOTTIME,SERVMILES_S,SERVMILES,RUNSPEED_S,RUNSPEED,TOTSPEED_S,TOTSPEED,ONTIME5,ON,OFF,LOAD_ARR,LOAD_DEP,PASSMILES,PASSHOURS,WAITHOURS,FULLFARE_REV,PASSDELAY_DEP,PASSDELAY_ARR,RDBRDNGS,DOORCYCLES,WHEELCHAIR,BIKERACK,CAPACITY,VC,CROWDED,CROWDHOURS,IMP_TRIP_STOPS])\n",
       "/rs_tod_observed_only            frame_table  (typ->appendable,nrows->2839604,ncols->58,indexers->[index],dc->[MONTH,DOW,TOD,AGENCY_ID,ROUTE_SHORT_NAME,DIR,SEQ,NUMDAYS,OBSDAYS,TRIP_STOPS,OBS_TRIP_STOPS,WGT_TRIP_STOPS,STOP_ID,ROUTE_LONG_NAME,ROUTE_TYPE,TRIP_HEADSIGN,HEADWAY_S,FARE,STOPNAME,STOPNAME_AVL,STOP_LAT,STOP_LON,EOL,SOL,TIMEPOINT,ARRIVAL_TIME_DEV,DEPARTURE_TIME_DEV,DWELL_S,DWELL,RUNTIME_S,RUNTIME,TOTTIME_S,TOTTIME,SERVMILES_S,SERVMILES,RUNSPEED_S,RUNSPEED,TOTSPEED_S,TOTSPEED,ONTIME5,ON,OFF,LOAD_ARR,LOAD_DEP,PASSMILES,PASSHOURS,WAITHOURS,FULLFARE_REV,PASSDELAY_DEP,PASSDELAY_ARR,RDBRDNGS,DOORCYCLES,WHEELCHAIR,BIKERACK,CAPACITY,VC,CROWDED,CROWDHOURS])               \n",
       "/stop_day                        frame_table  (typ->appendable,nrows->316767,ncols->52,indexers->[index],dc->[MONTH,DOW,AGENCY_ID,STOP_ID,NUMDAYS,OBSDAYS,TRIP_STOPS,OBS_TRIP_STOPS,IMP_TRIP_STOPS,WGT_TRIP_STOPS,HEADWAY_S,FARE,STOPNAME,STOPNAME_AVL,STOP_LAT,STOP_LON,EOL,SOL,TIMEPOINT,ARRIVAL_TIME_DEV,DEPARTURE_TIME_DEV,DWELL_S,DWELL,RUNTIME_S,RUNTIME,TOTTIME_S,TOTTIME,SERVMILES_S,SERVMILES,RUNSPEED_S,RUNSPEED,TOTSPEED_S,TOTSPEED,ONTIME5,ON,OFF,LOAD_ARR,LOAD_DEP,PASSMILES,PASSHOURS,WAITHOURS,FULLFARE_REV,PASSDELAY_DEP,PASSDELAY_ARR,RDBRDNGS,DOORCYCLES,WHEELCHAIR,BIKERACK,CAPACITY,VC,CROWDED,CROWDHOURS])                                                                       \n",
       "/stop_tod                        frame_table  (typ->appendable,nrows->2015805,ncols->53,indexers->[index],dc->[MONTH,DOW,TOD,AGENCY_ID,STOP_ID,NUMDAYS,OBSDAYS,TRIP_STOPS,OBS_TRIP_STOPS,IMP_TRIP_STOPS,WGT_TRIP_STOPS,HEADWAY_S,FARE,STOPNAME,STOPNAME_AVL,STOP_LAT,STOP_LON,EOL,SOL,TIMEPOINT,ARRIVAL_TIME_DEV,DEPARTURE_TIME_DEV,DWELL_S,DWELL,RUNTIME_S,RUNTIME,TOTTIME_S,TOTTIME,SERVMILES_S,SERVMILES,RUNSPEED_S,RUNSPEED,TOTSPEED_S,TOTSPEED,ONTIME5,ON,OFF,LOAD_ARR,LOAD_DEP,PASSMILES,PASSHOURS,WAITHOURS,FULLFARE_REV,PASSDELAY_DEP,PASSDELAY_ARR,RDBRDNGS,DOORCYCLES,WHEELCHAIR,BIKERACK,CAPACITY,VC,CROWDED,CROWDHOURS])                                                                  >"
      ]
     },
     "execution_count": 3,
     "metadata": {},
     "output_type": "execute_result"
    }
   ],
   "source": [
    "store.items"
   ]
  },
  {
   "cell_type": "code",
   "execution_count": 60,
   "metadata": {
    "collapsed": false
   },
   "outputs": [
    {
     "data": {
      "text/plain": [
       "<bound method HDFStore.items of <class 'pandas.io.pytables.HDFStore'>\n",
       "File path: E:/sfdata_wrangler2/out/gtfs.h5\n",
       "/bart                     frame_table  (typ->appendable,nrows->29639,ncols->34,indexers->[index],dc->[AGENCY_ID,ARRIVAL_TIME_S,DATE,DEPARTURE_TIME_S,DIR,DOW,DWELL_S,EOL,FARE,HEADWAY_S,MONTH,OBSERVED,ROUTE_ID,ROUTE_LONG_NAME,ROUTE_SHORT_NAME,ROUTE_TYPE,RUNSPEED_S,RUNTIME_S,SCHED_DATES,SEQ,SERVICE_ID,SERVMILES_S,SOL,STOPNAME,STOP_ID,STOP_LAT,STOP_LON,TOD,TOTSPEED_S,TOTTIME_S,TRIP,TRIP_HEADSIGN,TRIP_ID,TRIP_STOPS])   \n",
       "/bartDaily                frame_table  (typ->appendable,nrows->1,ncols->18,indexers->[index],dc->[SCHED_DATES,DOW,SERVICE_ID,AGENCY_ID,ROUTE_TYPE,TRIPS,STOPS,TRIP_STOPS,FARE,HEADWAY_S,SERVMILES_S,DWELL_S,RUNTIME_S,TOTTIME_S,RUNSPEED_S,TOTSPEED_S,DATE,MONTH])                                                                                                                                                                \n",
       "/sfmuni                   frame_table  (typ->appendable,nrows->33530209,ncols->34,indexers->[index],dc->[AGENCY_ID,ARRIVAL_TIME_S,DATE,DEPARTURE_TIME_S,DIR,DOW,DWELL_S,EOL,FARE,HEADWAY_S,MONTH,OBSERVED,ROUTE_ID,ROUTE_LONG_NAME,ROUTE_SHORT_NAME,ROUTE_TYPE,RUNSPEED_S,RUNTIME_S,SCHED_DATES,SEQ,SERVICE_ID,SERVMILES_S,SOL,STOPNAME,STOP_ID,STOP_LAT,STOP_LON,TOD,TOTSPEED_S,TOTTIME_S,TRIP,TRIP_HEADSIGN,TRIP_ID,TRIP_STOPS])\n",
       "/sfmuniDaily              frame_table  (typ->appendable,nrows->9267,ncols->18,indexers->[index],dc->[SCHED_DATES,DOW,SERVICE_ID,AGENCY_ID,ROUTE_TYPE,TRIPS,STOPS,TRIP_STOPS,FARE,HEADWAY_S,SERVMILES_S,DWELL_S,RUNTIME_S,TOTTIME_S,RUNSPEED_S,TOTSPEED_S,DATE,MONTH])                                                                                                                                                             \n",
       "/sfmuniMonthly            frame_table  (typ->appendable,nrows->930,ncols->15,indexers->[index],dc->[MONTH,DOW,AGENCY_ID,ROUTE_TYPE,TRIPS,STOPS,TRIP_STOPS,FARE,HEADWAY_S,SERVMILES_S,DWELL_S,RUNTIME_S,TOTTIME_S,RUNSPEED_S,TOTSPEED_S])                                                                                                                                                                                          >"
      ]
     },
     "execution_count": 60,
     "metadata": {},
     "output_type": "execute_result"
    }
   ],
   "source": [
    "store2.items"
   ]
  },
  {
   "cell_type": "code",
   "execution_count": 61,
   "metadata": {
    "collapsed": false
   },
   "outputs": [],
   "source": [
    "df = store.select('rs_tod',columns = ['STOP_ID','STOP_LAT','STOP_LON','ROUTE_TYPE'])"
   ]
  },
  {
   "cell_type": "code",
   "execution_count": 19,
   "metadata": {
    "collapsed": false
   },
   "outputs": [
    {
     "data": {
      "text/html": [
       "<div>\n",
       "<table border=\"1\" class=\"dataframe\">\n",
       "  <thead>\n",
       "    <tr style=\"text-align: right;\">\n",
       "      <th></th>\n",
       "      <th>STOP_ID</th>\n",
       "      <th>STOP_LAT</th>\n",
       "      <th>STOP_LON</th>\n",
       "      <th>ROUTE_TYPE</th>\n",
       "    </tr>\n",
       "  </thead>\n",
       "  <tbody>\n",
       "    <tr>\n",
       "      <th>0</th>\n",
       "      <td>5056</td>\n",
       "      <td>37.790410</td>\n",
       "      <td>-122.393520</td>\n",
       "      <td>3</td>\n",
       "    </tr>\n",
       "    <tr>\n",
       "      <th>1</th>\n",
       "      <td>5336</td>\n",
       "      <td>37.792530</td>\n",
       "      <td>-122.395670</td>\n",
       "      <td>3</td>\n",
       "    </tr>\n",
       "    <tr>\n",
       "      <th>2</th>\n",
       "      <td>4445</td>\n",
       "      <td>37.793980</td>\n",
       "      <td>-122.396350</td>\n",
       "      <td>3</td>\n",
       "    </tr>\n",
       "    <tr>\n",
       "      <th>3</th>\n",
       "      <td>6294</td>\n",
       "      <td>37.794500</td>\n",
       "      <td>-122.397610</td>\n",
       "      <td>3</td>\n",
       "    </tr>\n",
       "    <tr>\n",
       "      <th>4</th>\n",
       "      <td>6290</td>\n",
       "      <td>37.794135</td>\n",
       "      <td>-122.400179</td>\n",
       "      <td>3</td>\n",
       "    </tr>\n",
       "  </tbody>\n",
       "</table>\n",
       "</div>"
      ],
      "text/plain": [
       "   STOP_ID   STOP_LAT    STOP_LON  ROUTE_TYPE\n",
       "0     5056  37.790410 -122.393520           3\n",
       "1     5336  37.792530 -122.395670           3\n",
       "2     4445  37.793980 -122.396350           3\n",
       "3     6294  37.794500 -122.397610           3\n",
       "4     6290  37.794135 -122.400179           3"
      ]
     },
     "execution_count": 19,
     "metadata": {},
     "output_type": "execute_result"
    }
   ],
   "source": [
    "df.head()"
   ]
  },
  {
   "cell_type": "code",
   "execution_count": 20,
   "metadata": {
    "collapsed": false
   },
   "outputs": [
    {
     "data": {
      "text/plain": [
       "array([3], dtype=int64)"
      ]
     },
     "execution_count": 20,
     "metadata": {},
     "output_type": "execute_result"
    }
   ],
   "source": [
    "df.ROUTE_TYPE.unique()"
   ]
  },
  {
   "cell_type": "code",
   "execution_count": 45,
   "metadata": {
    "collapsed": false
   },
   "outputs": [],
   "source": [
    "df2 = store2.select('sfmuni',columns = ['SCHED_DATES','STOP_ID','STOP_LAT','STOP_LON','ROUTE_TYPE','ROUTE_LONG_NAME','ROUTE_SHORT_NAME'],where = \"'ROUTE_TYPE' == 0\")"
   ]
  },
  {
   "cell_type": "code",
   "execution_count": 46,
   "metadata": {
    "collapsed": false
   },
   "outputs": [
    {
     "data": {
      "text/plain": [
       "array(['F', 'J', 'L', 'M', 'N', 'S', 'T', 'K'], dtype=object)"
      ]
     },
     "execution_count": 46,
     "metadata": {},
     "output_type": "execute_result"
    }
   ],
   "source": [
    "df2.ROUTE_SHORT_NAME.unique()"
   ]
  },
  {
   "cell_type": "code",
   "execution_count": 47,
   "metadata": {
    "collapsed": false
   },
   "outputs": [
    {
     "data": {
      "text/html": [
       "<div>\n",
       "<table border=\"1\" class=\"dataframe\">\n",
       "  <thead>\n",
       "    <tr style=\"text-align: right;\">\n",
       "      <th></th>\n",
       "      <th></th>\n",
       "      <th>SCHED_DATES</th>\n",
       "      <th>STOP_ID</th>\n",
       "      <th>STOP_LAT</th>\n",
       "      <th>STOP_LON</th>\n",
       "      <th>ROUTE_TYPE</th>\n",
       "      <th>ROUTE_LONG_NAME</th>\n",
       "      <th>ROUTE_SHORT_NAME</th>\n",
       "    </tr>\n",
       "  </thead>\n",
       "  <tbody>\n",
       "    <tr>\n",
       "      <th>5894</th>\n",
       "      <th>197237</th>\n",
       "      <td>20090221-20090612</td>\n",
       "      <td>5184</td>\n",
       "      <td>37.807248</td>\n",
       "      <td>-122.417366</td>\n",
       "      <td>0</td>\n",
       "      <td>MARKET &amp; WHARVES</td>\n",
       "      <td>F</td>\n",
       "    </tr>\n",
       "    <tr>\n",
       "      <th>5895</th>\n",
       "      <th>197238</th>\n",
       "      <td>20090221-20090612</td>\n",
       "      <td>3092</td>\n",
       "      <td>37.807407</td>\n",
       "      <td>-122.414125</td>\n",
       "      <td>0</td>\n",
       "      <td>MARKET &amp; WHARVES</td>\n",
       "      <td>F</td>\n",
       "    </tr>\n",
       "    <tr>\n",
       "      <th>5896</th>\n",
       "      <th>197239</th>\n",
       "      <td>20090221-20090612</td>\n",
       "      <td>3095</td>\n",
       "      <td>37.807841</td>\n",
       "      <td>-122.410810</td>\n",
       "      <td>0</td>\n",
       "      <td>MARKET &amp; WHARVES</td>\n",
       "      <td>F</td>\n",
       "    </tr>\n",
       "    <tr>\n",
       "      <th>5897</th>\n",
       "      <th>197240</th>\n",
       "      <td>20090221-20090612</td>\n",
       "      <td>4502</td>\n",
       "      <td>37.806629</td>\n",
       "      <td>-122.406030</td>\n",
       "      <td>0</td>\n",
       "      <td>MARKET &amp; WHARVES</td>\n",
       "      <td>F</td>\n",
       "    </tr>\n",
       "    <tr>\n",
       "      <th>5898</th>\n",
       "      <th>197241</th>\n",
       "      <td>20090221-20090612</td>\n",
       "      <td>4529</td>\n",
       "      <td>37.805022</td>\n",
       "      <td>-122.403314</td>\n",
       "      <td>0</td>\n",
       "      <td>MARKET &amp; WHARVES</td>\n",
       "      <td>F</td>\n",
       "    </tr>\n",
       "  </tbody>\n",
       "</table>\n",
       "</div>"
      ],
      "text/plain": [
       "                   SCHED_DATES  STOP_ID   STOP_LAT    STOP_LON  ROUTE_TYPE  \\\n",
       "5894 197237  20090221-20090612     5184  37.807248 -122.417366           0   \n",
       "5895 197238  20090221-20090612     3092  37.807407 -122.414125           0   \n",
       "5896 197239  20090221-20090612     3095  37.807841 -122.410810           0   \n",
       "5897 197240  20090221-20090612     4502  37.806629 -122.406030           0   \n",
       "5898 197241  20090221-20090612     4529  37.805022 -122.403314           0   \n",
       "\n",
       "              ROUTE_LONG_NAME ROUTE_SHORT_NAME  \n",
       "5894 197237  MARKET & WHARVES                F  \n",
       "5895 197238  MARKET & WHARVES                F  \n",
       "5896 197239  MARKET & WHARVES                F  \n",
       "5897 197240  MARKET & WHARVES                F  \n",
       "5898 197241  MARKET & WHARVES                F  "
      ]
     },
     "execution_count": 47,
     "metadata": {},
     "output_type": "execute_result"
    }
   ],
   "source": [
    "df2.head()"
   ]
  },
  {
   "cell_type": "code",
   "execution_count": 48,
   "metadata": {
    "collapsed": false
   },
   "outputs": [
    {
     "data": {
      "text/plain": [
       "array(['20090221-20090612', '20090613-20091204', '20091205-20100507',\n",
       "       '20100508-20100903'], dtype=object)"
      ]
     },
     "execution_count": 48,
     "metadata": {},
     "output_type": "execute_result"
    }
   ],
   "source": [
    "df2.SCHED_DATES.unique()"
   ]
  },
  {
   "cell_type": "code",
   "execution_count": 62,
   "metadata": {
    "collapsed": true
   },
   "outputs": [],
   "source": [
    "df3 = store2.select('sfmuni',columns = ['SCHED_DATES','STOP_ID','STOP_LAT','STOP_LON','ROUTE_TYPE','ROUTE_LONG_NAME','ROUTE_SHORT_NAME'],where = \"'ROUTE_TYPE' == 1\")"
   ]
  },
  {
   "cell_type": "code",
   "execution_count": 54,
   "metadata": {
    "collapsed": false
   },
   "outputs": [
    {
     "data": {
      "text/plain": [
       "9052"
      ]
     },
     "execution_count": 54,
     "metadata": {},
     "output_type": "execute_result"
    }
   ],
   "source": [
    "len(df3)"
   ]
  },
  {
   "cell_type": "code",
   "execution_count": 63,
   "metadata": {
    "collapsed": false
   },
   "outputs": [
    {
     "data": {
      "text/plain": [
       "25724"
      ]
     },
     "execution_count": 63,
     "metadata": {},
     "output_type": "execute_result"
    }
   ],
   "source": [
    "len(df3)"
   ]
  },
  {
   "cell_type": "code",
   "execution_count": null,
   "metadata": {
    "collapsed": true
   },
   "outputs": [],
   "source": []
  }
 ],
 "metadata": {
  "anaconda-cloud": {},
  "kernelspec": {
   "display_name": "Python [conda root]",
   "language": "python",
   "name": "conda-root-py"
  },
  "language_info": {
   "codemirror_mode": {
    "name": "ipython",
    "version": 3
   },
   "file_extension": ".py",
   "mimetype": "text/x-python",
   "name": "python",
   "nbconvert_exporter": "python",
   "pygments_lexer": "ipython3",
   "version": "3.5.2"
  }
 },
 "nbformat": 4,
 "nbformat_minor": 1
}
