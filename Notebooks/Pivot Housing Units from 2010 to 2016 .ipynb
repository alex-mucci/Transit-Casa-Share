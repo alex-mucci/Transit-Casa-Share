{
 "cells": [
  {
   "cell_type": "code",
   "execution_count": 1,
   "metadata": {
    "collapsed": true
   },
   "outputs": [],
   "source": [
    "import pandas as pd\n",
    "import geopandas as gp"
   ]
  },
  {
   "cell_type": "code",
   "execution_count": null,
   "metadata": {
    "collapsed": false
   },
   "outputs": [],
   "source": []
  },
  {
   "cell_type": "code",
   "execution_count": 6,
   "metadata": {
    "collapsed": false
   },
   "outputs": [],
   "source": [
    "hu_2011 = pd.read_csv('E:/Transit-Casa-Alex/Output/Housing Inventory/' + str(2011) + '/' + str(2011) + '_HU_Changes.csv')\n",
    "hu_2012 = pd.read_csv('E:/Transit-Casa-Alex/Output/Housing Inventory/' + str(2012) + '/' + str(2012) + '_HU_Changes.csv')\n",
    "hu_2013 = pd.read_csv('E:/Transit-Casa-Alex/Output/Housing Inventory/' + str(2013) + '/' + str(2013) + '_HU_Changes.csv')\n",
    "hu_2014 = pd.read_csv('E:/Transit-Casa-Alex/Output/Housing Inventory/' + str(2014) + '/' + str(2014) + '_HU_Changes.csv')\n",
    "hu_2015 = pd.read_csv('E:/Transit-Casa-Alex/Output/Housing Inventory/' + str(2015) + '/' + str(2015) + '_HU_Changes.csv')"
   ]
  },
  {
   "cell_type": "code",
   "execution_count": 7,
   "metadata": {
    "collapsed": false
   },
   "outputs": [
    {
     "data": {
      "text/html": [
       "<div>\n",
       "<table border=\"1\" class=\"dataframe\">\n",
       "  <thead>\n",
       "    <tr style=\"text-align: right;\">\n",
       "      <th></th>\n",
       "      <th>Unnamed: 0</th>\n",
       "      <th>GEOID10</th>\n",
       "      <th>NETUNITS</th>\n",
       "      <th>geometry</th>\n",
       "    </tr>\n",
       "  </thead>\n",
       "  <tbody>\n",
       "    <tr>\n",
       "      <th>0</th>\n",
       "      <td>0</td>\n",
       "      <td>60750101001000</td>\n",
       "      <td>NaN</td>\n",
       "      <td>POLYGON ((-122.419942 37.809021, -122.419948 3...</td>\n",
       "    </tr>\n",
       "    <tr>\n",
       "      <th>1</th>\n",
       "      <td>1</td>\n",
       "      <td>60750101001001</td>\n",
       "      <td>NaN</td>\n",
       "      <td>POLYGON ((-122.419942 37.809021, -122.419938 3...</td>\n",
       "    </tr>\n",
       "    <tr>\n",
       "      <th>2</th>\n",
       "      <td>2</td>\n",
       "      <td>60750101001002</td>\n",
       "      <td>NaN</td>\n",
       "      <td>POLYGON ((-122.405659 37.806674, -122.405974 3...</td>\n",
       "    </tr>\n",
       "    <tr>\n",
       "      <th>3</th>\n",
       "      <td>3</td>\n",
       "      <td>60750101001003</td>\n",
       "      <td>NaN</td>\n",
       "      <td>POLYGON ((-122.407304 37.807379, -122.407548 3...</td>\n",
       "    </tr>\n",
       "    <tr>\n",
       "      <th>4</th>\n",
       "      <td>4</td>\n",
       "      <td>60750101001004</td>\n",
       "      <td>NaN</td>\n",
       "      <td>POLYGON ((-122.412524 37.808625, -122.414164 3...</td>\n",
       "    </tr>\n",
       "  </tbody>\n",
       "</table>\n",
       "</div>"
      ],
      "text/plain": [
       "   Unnamed: 0         GEOID10  NETUNITS  \\\n",
       "0           0  60750101001000       NaN   \n",
       "1           1  60750101001001       NaN   \n",
       "2           2  60750101001002       NaN   \n",
       "3           3  60750101001003       NaN   \n",
       "4           4  60750101001004       NaN   \n",
       "\n",
       "                                            geometry  \n",
       "0  POLYGON ((-122.419942 37.809021, -122.419948 3...  \n",
       "1  POLYGON ((-122.419942 37.809021, -122.419938 3...  \n",
       "2  POLYGON ((-122.405659 37.806674, -122.405974 3...  \n",
       "3  POLYGON ((-122.407304 37.807379, -122.407548 3...  \n",
       "4  POLYGON ((-122.412524 37.808625, -122.414164 3...  "
      ]
     },
     "execution_count": 7,
     "metadata": {},
     "output_type": "execute_result"
    }
   ],
   "source": [
    "hu_2011.head()"
   ]
  },
  {
   "cell_type": "code",
   "execution_count": 8,
   "metadata": {
    "collapsed": false
   },
   "outputs": [
    {
     "data": {
      "text/html": [
       "<div>\n",
       "<table border=\"1\" class=\"dataframe\">\n",
       "  <thead>\n",
       "    <tr style=\"text-align: right;\">\n",
       "      <th></th>\n",
       "      <th>Unnamed: 0</th>\n",
       "      <th>GEOID10</th>\n",
       "      <th>NETUNITS</th>\n",
       "      <th>geometry</th>\n",
       "    </tr>\n",
       "  </thead>\n",
       "  <tbody>\n",
       "    <tr>\n",
       "      <th>0</th>\n",
       "      <td>0</td>\n",
       "      <td>60750101001000</td>\n",
       "      <td>NaN</td>\n",
       "      <td>POLYGON ((-122.419942 37.809021, -122.419948 3...</td>\n",
       "    </tr>\n",
       "    <tr>\n",
       "      <th>1</th>\n",
       "      <td>1</td>\n",
       "      <td>60750101001001</td>\n",
       "      <td>NaN</td>\n",
       "      <td>POLYGON ((-122.419942 37.809021, -122.419938 3...</td>\n",
       "    </tr>\n",
       "    <tr>\n",
       "      <th>2</th>\n",
       "      <td>2</td>\n",
       "      <td>60750101001002</td>\n",
       "      <td>NaN</td>\n",
       "      <td>POLYGON ((-122.405659 37.806674, -122.405974 3...</td>\n",
       "    </tr>\n",
       "    <tr>\n",
       "      <th>3</th>\n",
       "      <td>3</td>\n",
       "      <td>60750101001003</td>\n",
       "      <td>NaN</td>\n",
       "      <td>POLYGON ((-122.407304 37.807379, -122.407548 3...</td>\n",
       "    </tr>\n",
       "    <tr>\n",
       "      <th>4</th>\n",
       "      <td>4</td>\n",
       "      <td>60750101001004</td>\n",
       "      <td>NaN</td>\n",
       "      <td>POLYGON ((-122.412524 37.808625, -122.414164 3...</td>\n",
       "    </tr>\n",
       "  </tbody>\n",
       "</table>\n",
       "</div>"
      ],
      "text/plain": [
       "   Unnamed: 0         GEOID10  NETUNITS  \\\n",
       "0           0  60750101001000       NaN   \n",
       "1           1  60750101001001       NaN   \n",
       "2           2  60750101001002       NaN   \n",
       "3           3  60750101001003       NaN   \n",
       "4           4  60750101001004       NaN   \n",
       "\n",
       "                                            geometry  \n",
       "0  POLYGON ((-122.419942 37.809021, -122.419948 3...  \n",
       "1  POLYGON ((-122.419942 37.809021, -122.419938 3...  \n",
       "2  POLYGON ((-122.405659 37.806674, -122.405974 3...  \n",
       "3  POLYGON ((-122.407304 37.807379, -122.407548 3...  \n",
       "4  POLYGON ((-122.412524 37.808625, -122.414164 3...  "
      ]
     },
     "execution_count": 8,
     "metadata": {},
     "output_type": "execute_result"
    }
   ],
   "source": [
    "hu_2012.head()"
   ]
  },
  {
   "cell_type": "code",
   "execution_count": 9,
   "metadata": {
    "collapsed": false
   },
   "outputs": [
    {
     "data": {
      "text/plain": [
       "7386"
      ]
     },
     "execution_count": 9,
     "metadata": {},
     "output_type": "execute_result"
    }
   ],
   "source": [
    "len(hu_2012)"
   ]
  },
  {
   "cell_type": "code",
   "execution_count": 10,
   "metadata": {
    "collapsed": false
   },
   "outputs": [
    {
     "data": {
      "text/plain": [
       "7386"
      ]
     },
     "execution_count": 10,
     "metadata": {},
     "output_type": "execute_result"
    }
   ],
   "source": [
    "len(hu_2012.GEOID10.unique())"
   ]
  },
  {
   "cell_type": "code",
   "execution_count": 17,
   "metadata": {
    "collapsed": false
   },
   "outputs": [],
   "source": [
    "change = hu_2011.merge(hu_2012[['NETUNITS','GEOID10']],on = 'GEOID10', suffixes = ('_11','_12')).merge(hu_2013[['NETUNITS','GEOID10']],on = 'GEOID10',suffixes = ('','_13')).merge(hu_2014[['NETUNITS','GEOID10']],on = 'GEOID10',suffixes = ('','_14')).merge(hu_2015[[' NETUNITS ','GEOID10']],on = 'GEOID10',suffixes = ('','_15'))"
   ]
  },
  {
   "cell_type": "code",
   "execution_count": 24,
   "metadata": {
    "collapsed": true
   },
   "outputs": [],
   "source": [
    "change = change.fillna(0)"
   ]
  },
  {
   "cell_type": "code",
   "execution_count": 25,
   "metadata": {
    "collapsed": false
   },
   "outputs": [],
   "source": [
    "change['NET_CHANGE'] = change['NETUNITS_11']+change['NETUNITS_12']+change['NETUNITS'] +change['NETUNITS_14']+change[' NETUNITS ']"
   ]
  },
  {
   "cell_type": "code",
   "execution_count": 18,
   "metadata": {
    "collapsed": false
   },
   "outputs": [
    {
     "data": {
      "text/plain": [
       "Index(['Unnamed: 0', 'GEOID10', 'NETUNITS_11', 'geometry', 'NETUNITS_12',\n",
       "       'NETUNITS', 'NETUNITS_14', ' NETUNITS '],\n",
       "      dtype='object')"
      ]
     },
     "execution_count": 18,
     "metadata": {},
     "output_type": "execute_result"
    }
   ],
   "source": [
    "change.columns"
   ]
  },
  {
   "cell_type": "code",
   "execution_count": 58,
   "metadata": {
    "collapsed": false
   },
   "outputs": [
    {
     "data": {
      "text/plain": [
       "171"
      ]
     },
     "execution_count": 58,
     "metadata": {},
     "output_type": "execute_result"
    }
   ],
   "source": [
    "len(hu_2011.NETUNITS.unique()) + len(hu_2012.NETUNITS.unique()) + len(hu_2013.NETUNITS.unique()) + len(hu_2014.NETUNITS.unique()) + len(hu_2015[' NETUNITS '].unique())"
   ]
  },
  {
   "cell_type": "code",
   "execution_count": null,
   "metadata": {
    "collapsed": false
   },
   "outputs": [],
   "source": []
  },
  {
   "cell_type": "code",
   "execution_count": 60,
   "metadata": {
    "collapsed": false
   },
   "outputs": [
    {
     "data": {
      "text/plain": [
       "96"
      ]
     },
     "execution_count": 60,
     "metadata": {},
     "output_type": "execute_result"
    }
   ],
   "source": [
    "# could be changes within the same census block, this looks reasonable\n",
    "len(change.NET_CHANGE.unique())"
   ]
  },
  {
   "cell_type": "code",
   "execution_count": 61,
   "metadata": {
    "collapsed": false
   },
   "outputs": [
    {
     "data": {
      "text/html": [
       "<div>\n",
       "<table border=\"1\" class=\"dataframe\">\n",
       "  <thead>\n",
       "    <tr style=\"text-align: right;\">\n",
       "      <th></th>\n",
       "      <th>Unnamed: 0</th>\n",
       "      <th>GEOID10</th>\n",
       "      <th>NETUNITS_11</th>\n",
       "      <th>geometry</th>\n",
       "      <th>NETUNITS_12</th>\n",
       "      <th>NETUNITS</th>\n",
       "      <th>NETUNITS_14</th>\n",
       "      <th>NETUNITS</th>\n",
       "      <th>NET_CHANGE</th>\n",
       "    </tr>\n",
       "  </thead>\n",
       "  <tbody>\n",
       "    <tr>\n",
       "      <th>0</th>\n",
       "      <td>0</td>\n",
       "      <td>60750101001000</td>\n",
       "      <td>0.0</td>\n",
       "      <td>POLYGON ((-122.419942 37.809021, -122.419948 3...</td>\n",
       "      <td>0.0</td>\n",
       "      <td>0.0</td>\n",
       "      <td>0.0</td>\n",
       "      <td>0.0</td>\n",
       "      <td>0.0</td>\n",
       "    </tr>\n",
       "    <tr>\n",
       "      <th>1</th>\n",
       "      <td>1</td>\n",
       "      <td>60750101001001</td>\n",
       "      <td>0.0</td>\n",
       "      <td>POLYGON ((-122.419942 37.809021, -122.419938 3...</td>\n",
       "      <td>0.0</td>\n",
       "      <td>0.0</td>\n",
       "      <td>0.0</td>\n",
       "      <td>0.0</td>\n",
       "      <td>0.0</td>\n",
       "    </tr>\n",
       "    <tr>\n",
       "      <th>2</th>\n",
       "      <td>2</td>\n",
       "      <td>60750101001002</td>\n",
       "      <td>0.0</td>\n",
       "      <td>POLYGON ((-122.405659 37.806674, -122.405974 3...</td>\n",
       "      <td>0.0</td>\n",
       "      <td>0.0</td>\n",
       "      <td>0.0</td>\n",
       "      <td>0.0</td>\n",
       "      <td>0.0</td>\n",
       "    </tr>\n",
       "    <tr>\n",
       "      <th>3</th>\n",
       "      <td>3</td>\n",
       "      <td>60750101001003</td>\n",
       "      <td>0.0</td>\n",
       "      <td>POLYGON ((-122.407304 37.807379, -122.407548 3...</td>\n",
       "      <td>0.0</td>\n",
       "      <td>0.0</td>\n",
       "      <td>0.0</td>\n",
       "      <td>0.0</td>\n",
       "      <td>0.0</td>\n",
       "    </tr>\n",
       "    <tr>\n",
       "      <th>4</th>\n",
       "      <td>4</td>\n",
       "      <td>60750101001004</td>\n",
       "      <td>0.0</td>\n",
       "      <td>POLYGON ((-122.412524 37.808625, -122.414164 3...</td>\n",
       "      <td>0.0</td>\n",
       "      <td>0.0</td>\n",
       "      <td>0.0</td>\n",
       "      <td>0.0</td>\n",
       "      <td>0.0</td>\n",
       "    </tr>\n",
       "    <tr>\n",
       "      <th>5</th>\n",
       "      <td>5</td>\n",
       "      <td>60750101001005</td>\n",
       "      <td>0.0</td>\n",
       "      <td>POLYGON ((-122.419942 37.809021, -122.419803 3...</td>\n",
       "      <td>0.0</td>\n",
       "      <td>0.0</td>\n",
       "      <td>0.0</td>\n",
       "      <td>0.0</td>\n",
       "      <td>0.0</td>\n",
       "    </tr>\n",
       "    <tr>\n",
       "      <th>6</th>\n",
       "      <td>6</td>\n",
       "      <td>60750101001006</td>\n",
       "      <td>0.0</td>\n",
       "      <td>POLYGON ((-122.415616 37.807276, -122.417261 3...</td>\n",
       "      <td>0.0</td>\n",
       "      <td>0.0</td>\n",
       "      <td>0.0</td>\n",
       "      <td>0.0</td>\n",
       "      <td>0.0</td>\n",
       "    </tr>\n",
       "    <tr>\n",
       "      <th>7</th>\n",
       "      <td>7</td>\n",
       "      <td>60750101001007</td>\n",
       "      <td>0.0</td>\n",
       "      <td>POLYGON ((-122.419086 37.807803, -122.417665 3...</td>\n",
       "      <td>0.0</td>\n",
       "      <td>0.0</td>\n",
       "      <td>0.0</td>\n",
       "      <td>0.0</td>\n",
       "      <td>0.0</td>\n",
       "    </tr>\n",
       "    <tr>\n",
       "      <th>8</th>\n",
       "      <td>8</td>\n",
       "      <td>60750101001008</td>\n",
       "      <td>0.0</td>\n",
       "      <td>POLYGON ((-122.40905 37.808111, -122.40921 37....</td>\n",
       "      <td>0.0</td>\n",
       "      <td>0.0</td>\n",
       "      <td>0.0</td>\n",
       "      <td>0.0</td>\n",
       "      <td>0.0</td>\n",
       "    </tr>\n",
       "    <tr>\n",
       "      <th>9</th>\n",
       "      <td>9</td>\n",
       "      <td>60750101001009</td>\n",
       "      <td>0.0</td>\n",
       "      <td>POLYGON ((-122.410715 37.808286, -122.410516 3...</td>\n",
       "      <td>0.0</td>\n",
       "      <td>0.0</td>\n",
       "      <td>0.0</td>\n",
       "      <td>0.0</td>\n",
       "      <td>0.0</td>\n",
       "    </tr>\n",
       "    <tr>\n",
       "      <th>10</th>\n",
       "      <td>10</td>\n",
       "      <td>60750101001010</td>\n",
       "      <td>0.0</td>\n",
       "      <td>POLYGON ((-122.412524 37.808625, -122.41233 37...</td>\n",
       "      <td>0.0</td>\n",
       "      <td>0.0</td>\n",
       "      <td>0.0</td>\n",
       "      <td>0.0</td>\n",
       "      <td>0.0</td>\n",
       "    </tr>\n",
       "    <tr>\n",
       "      <th>11</th>\n",
       "      <td>11</td>\n",
       "      <td>60750101001011</td>\n",
       "      <td>0.0</td>\n",
       "      <td>POLYGON ((-122.413975 37.807483, -122.415616 3...</td>\n",
       "      <td>0.0</td>\n",
       "      <td>0.0</td>\n",
       "      <td>0.0</td>\n",
       "      <td>0.0</td>\n",
       "      <td>0.0</td>\n",
       "    </tr>\n",
       "    <tr>\n",
       "      <th>12</th>\n",
       "      <td>12</td>\n",
       "      <td>60750101001012</td>\n",
       "      <td>0.0</td>\n",
       "      <td>POLYGON ((-122.413787 37.806555, -122.415432 3...</td>\n",
       "      <td>0.0</td>\n",
       "      <td>0.0</td>\n",
       "      <td>0.0</td>\n",
       "      <td>0.0</td>\n",
       "      <td>0.0</td>\n",
       "    </tr>\n",
       "    <tr>\n",
       "      <th>13</th>\n",
       "      <td>13</td>\n",
       "      <td>60750101001013</td>\n",
       "      <td>0.0</td>\n",
       "      <td>POLYGON ((-122.412141 37.80675799999999, -122....</td>\n",
       "      <td>0.0</td>\n",
       "      <td>0.0</td>\n",
       "      <td>0.0</td>\n",
       "      <td>0.0</td>\n",
       "      <td>0.0</td>\n",
       "    </tr>\n",
       "    <tr>\n",
       "      <th>14</th>\n",
       "      <td>14</td>\n",
       "      <td>60750101001014</td>\n",
       "      <td>0.0</td>\n",
       "      <td>POLYGON ((-122.410498 37.806963, -122.412141 3...</td>\n",
       "      <td>0.0</td>\n",
       "      <td>0.0</td>\n",
       "      <td>0.0</td>\n",
       "      <td>0.0</td>\n",
       "      <td>0.0</td>\n",
       "    </tr>\n",
       "    <tr>\n",
       "      <th>15</th>\n",
       "      <td>15</td>\n",
       "      <td>60750101001015</td>\n",
       "      <td>0.0</td>\n",
       "      <td>POLYGON ((-122.40905 37.808111, -122.409055 37...</td>\n",
       "      <td>0.0</td>\n",
       "      <td>13.0</td>\n",
       "      <td>-6.0</td>\n",
       "      <td>0.0</td>\n",
       "      <td>7.0</td>\n",
       "    </tr>\n",
       "    <tr>\n",
       "      <th>16</th>\n",
       "      <td>16</td>\n",
       "      <td>60750101001016</td>\n",
       "      <td>0.0</td>\n",
       "      <td>POLYGON ((-122.407304 37.807379, -122.407518 3...</td>\n",
       "      <td>-18.0</td>\n",
       "      <td>0.0</td>\n",
       "      <td>0.0</td>\n",
       "      <td>0.0</td>\n",
       "      <td>-18.0</td>\n",
       "    </tr>\n",
       "    <tr>\n",
       "      <th>17</th>\n",
       "      <td>17</td>\n",
       "      <td>60750101001017</td>\n",
       "      <td>0.0</td>\n",
       "      <td>POLYGON ((-122.407146 37.806428, -122.408609 3...</td>\n",
       "      <td>0.0</td>\n",
       "      <td>0.0</td>\n",
       "      <td>0.0</td>\n",
       "      <td>0.0</td>\n",
       "      <td>0.0</td>\n",
       "    </tr>\n",
       "    <tr>\n",
       "      <th>18</th>\n",
       "      <td>18</td>\n",
       "      <td>60750101001018</td>\n",
       "      <td>0.0</td>\n",
       "      <td>POLYGON ((-122.405659 37.806674, -122.405865 3...</td>\n",
       "      <td>0.0</td>\n",
       "      <td>0.0</td>\n",
       "      <td>0.0</td>\n",
       "      <td>0.0</td>\n",
       "      <td>0.0</td>\n",
       "    </tr>\n",
       "    <tr>\n",
       "      <th>19</th>\n",
       "      <td>19</td>\n",
       "      <td>60750101001019</td>\n",
       "      <td>0.0</td>\n",
       "      <td>POLYGON ((-122.410311 37.806028, -122.41195 37...</td>\n",
       "      <td>0.0</td>\n",
       "      <td>0.0</td>\n",
       "      <td>0.0</td>\n",
       "      <td>0.0</td>\n",
       "      <td>0.0</td>\n",
       "    </tr>\n",
       "  </tbody>\n",
       "</table>\n",
       "</div>"
      ],
      "text/plain": [
       "    Unnamed: 0         GEOID10  NETUNITS_11  \\\n",
       "0            0  60750101001000          0.0   \n",
       "1            1  60750101001001          0.0   \n",
       "2            2  60750101001002          0.0   \n",
       "3            3  60750101001003          0.0   \n",
       "4            4  60750101001004          0.0   \n",
       "5            5  60750101001005          0.0   \n",
       "6            6  60750101001006          0.0   \n",
       "7            7  60750101001007          0.0   \n",
       "8            8  60750101001008          0.0   \n",
       "9            9  60750101001009          0.0   \n",
       "10          10  60750101001010          0.0   \n",
       "11          11  60750101001011          0.0   \n",
       "12          12  60750101001012          0.0   \n",
       "13          13  60750101001013          0.0   \n",
       "14          14  60750101001014          0.0   \n",
       "15          15  60750101001015          0.0   \n",
       "16          16  60750101001016          0.0   \n",
       "17          17  60750101001017          0.0   \n",
       "18          18  60750101001018          0.0   \n",
       "19          19  60750101001019          0.0   \n",
       "\n",
       "                                             geometry  NETUNITS_12  NETUNITS  \\\n",
       "0   POLYGON ((-122.419942 37.809021, -122.419948 3...          0.0       0.0   \n",
       "1   POLYGON ((-122.419942 37.809021, -122.419938 3...          0.0       0.0   \n",
       "2   POLYGON ((-122.405659 37.806674, -122.405974 3...          0.0       0.0   \n",
       "3   POLYGON ((-122.407304 37.807379, -122.407548 3...          0.0       0.0   \n",
       "4   POLYGON ((-122.412524 37.808625, -122.414164 3...          0.0       0.0   \n",
       "5   POLYGON ((-122.419942 37.809021, -122.419803 3...          0.0       0.0   \n",
       "6   POLYGON ((-122.415616 37.807276, -122.417261 3...          0.0       0.0   \n",
       "7   POLYGON ((-122.419086 37.807803, -122.417665 3...          0.0       0.0   \n",
       "8   POLYGON ((-122.40905 37.808111, -122.40921 37....          0.0       0.0   \n",
       "9   POLYGON ((-122.410715 37.808286, -122.410516 3...          0.0       0.0   \n",
       "10  POLYGON ((-122.412524 37.808625, -122.41233 37...          0.0       0.0   \n",
       "11  POLYGON ((-122.413975 37.807483, -122.415616 3...          0.0       0.0   \n",
       "12  POLYGON ((-122.413787 37.806555, -122.415432 3...          0.0       0.0   \n",
       "13  POLYGON ((-122.412141 37.80675799999999, -122....          0.0       0.0   \n",
       "14  POLYGON ((-122.410498 37.806963, -122.412141 3...          0.0       0.0   \n",
       "15  POLYGON ((-122.40905 37.808111, -122.409055 37...          0.0      13.0   \n",
       "16  POLYGON ((-122.407304 37.807379, -122.407518 3...        -18.0       0.0   \n",
       "17  POLYGON ((-122.407146 37.806428, -122.408609 3...          0.0       0.0   \n",
       "18  POLYGON ((-122.405659 37.806674, -122.405865 3...          0.0       0.0   \n",
       "19  POLYGON ((-122.410311 37.806028, -122.41195 37...          0.0       0.0   \n",
       "\n",
       "    NETUNITS_14   NETUNITS   NET_CHANGE  \n",
       "0           0.0         0.0         0.0  \n",
       "1           0.0         0.0         0.0  \n",
       "2           0.0         0.0         0.0  \n",
       "3           0.0         0.0         0.0  \n",
       "4           0.0         0.0         0.0  \n",
       "5           0.0         0.0         0.0  \n",
       "6           0.0         0.0         0.0  \n",
       "7           0.0         0.0         0.0  \n",
       "8           0.0         0.0         0.0  \n",
       "9           0.0         0.0         0.0  \n",
       "10          0.0         0.0         0.0  \n",
       "11          0.0         0.0         0.0  \n",
       "12          0.0         0.0         0.0  \n",
       "13          0.0         0.0         0.0  \n",
       "14          0.0         0.0         0.0  \n",
       "15         -6.0         0.0         7.0  \n",
       "16          0.0         0.0       -18.0  \n",
       "17          0.0         0.0         0.0  \n",
       "18          0.0         0.0         0.0  \n",
       "19          0.0         0.0         0.0  "
      ]
     },
     "execution_count": 61,
     "metadata": {},
     "output_type": "execute_result"
    }
   ],
   "source": [
    "change.head(20)"
   ]
  },
  {
   "cell_type": "code",
   "execution_count": 36,
   "metadata": {
    "collapsed": false
   },
   "outputs": [],
   "source": [
    "changes = change[['NET_CHANGE','GEOID10','geometry']]"
   ]
  },
  {
   "cell_type": "code",
   "execution_count": 34,
   "metadata": {
    "collapsed": false
   },
   "outputs": [
    {
     "data": {
      "text/plain": [
       " 0.0      6623\n",
       " 1.0       244\n",
       "-1.0       241\n",
       " 2.0        79\n",
       " 3.0        26\n",
       "-2.0        23\n",
       " 4.0        17\n",
       " 6.0         6\n",
       " 5.0         6\n",
       " 8.0         6\n",
       " 7.0         4\n",
       " 18.0        4\n",
       " 63.0        3\n",
       " 20.0        3\n",
       " 11.0        3\n",
       "-4.0         3\n",
       " 19.0        3\n",
       " 14.0        3\n",
       " 70.0        3\n",
       " 26.0        2\n",
       "-18.0        2\n",
       " 60.0        2\n",
       "-8.0         2\n",
       " 16.0        2\n",
       " 10.0        2\n",
       " 34.0        2\n",
       " 41.0        2\n",
       " 25.0        2\n",
       " 17.0        1\n",
       " 32.0        1\n",
       "          ... \n",
       " 75.0        1\n",
       " 105.0       1\n",
       " 71.0        1\n",
       " 311.0       1\n",
       " 38.0        1\n",
       " 88.0        1\n",
       " 98.0        1\n",
       " 100.0       1\n",
       " 182.0       1\n",
       "-19.0        1\n",
       " 66.0        1\n",
       "-21.0        1\n",
       " 114.0       1\n",
       " 39.0        1\n",
       " 49.0        1\n",
       " 94.0        1\n",
       " 202.0       1\n",
       " 437.0       1\n",
       " 273.0       1\n",
       " 317.0       1\n",
       " 115.0       1\n",
       " 113.0       1\n",
       " 441.0       1\n",
       " 9.0         1\n",
       " 384.0       1\n",
       " 15.0        1\n",
       " 80.0        1\n",
       "-6.0         1\n",
       " 23.0        1\n",
       " 462.0       1\n",
       "Name: NET_CHANGE, dtype: int64"
      ]
     },
     "execution_count": 34,
     "metadata": {},
     "output_type": "execute_result"
    }
   ],
   "source": [
    "changes.NET_CHANGE.value_counts()"
   ]
  },
  {
   "cell_type": "code",
   "execution_count": 37,
   "metadata": {
    "collapsed": true
   },
   "outputs": [],
   "source": [
    "changes.to_csv('E:\\Transit-Casa-Alex\\Output\\Housing Inventory/Net_Change_2010-2016.csv')"
   ]
  },
  {
   "cell_type": "code",
   "execution_count": 38,
   "metadata": {
    "collapsed": true
   },
   "outputs": [],
   "source": []
  },
  {
   "cell_type": "code",
   "execution_count": 47,
   "metadata": {
    "collapsed": false
   },
   "outputs": [],
   "source": [
    "hu10 = gp.read_file('E:/Transit-Casa-Alex/Input/2010 Population (Blocks)/Population_Houses_Blocks.shp')"
   ]
  },
  {
   "cell_type": "code",
   "execution_count": 48,
   "metadata": {
    "collapsed": false
   },
   "outputs": [
    {
     "data": {
      "text/html": [
       "<div>\n",
       "<table border=\"1\" class=\"dataframe\">\n",
       "  <thead>\n",
       "    <tr style=\"text-align: right;\">\n",
       "      <th></th>\n",
       "      <th>BLOCKCE</th>\n",
       "      <th>BLOCKID10</th>\n",
       "      <th>COUNTYFP10</th>\n",
       "      <th>HOUSING10</th>\n",
       "      <th>PARTFLG</th>\n",
       "      <th>POP10</th>\n",
       "      <th>STATEFP10</th>\n",
       "      <th>TRACTCE10</th>\n",
       "      <th>geometry</th>\n",
       "    </tr>\n",
       "  </thead>\n",
       "  <tbody>\n",
       "    <tr>\n",
       "      <th>0</th>\n",
       "      <td>3028</td>\n",
       "      <td>060750313023028</td>\n",
       "      <td>075</td>\n",
       "      <td>33</td>\n",
       "      <td>N</td>\n",
       "      <td>116</td>\n",
       "      <td>06</td>\n",
       "      <td>031302</td>\n",
       "      <td>POLYGON ((-122.469306 37.712526, -122.468748 3...</td>\n",
       "    </tr>\n",
       "    <tr>\n",
       "      <th>1</th>\n",
       "      <td>6025</td>\n",
       "      <td>060750255006025</td>\n",
       "      <td>075</td>\n",
       "      <td>1</td>\n",
       "      <td>N</td>\n",
       "      <td>1</td>\n",
       "      <td>06</td>\n",
       "      <td>025500</td>\n",
       "      <td>POLYGON ((-122.442387 37.725793, -122.443066 3...</td>\n",
       "    </tr>\n",
       "    <tr>\n",
       "      <th>2</th>\n",
       "      <td>1010</td>\n",
       "      <td>060750261001010</td>\n",
       "      <td>075</td>\n",
       "      <td>64</td>\n",
       "      <td>N</td>\n",
       "      <td>237</td>\n",
       "      <td>06</td>\n",
       "      <td>026100</td>\n",
       "      <td>POLYGON ((-122.439127 37.720972, -122.439382 3...</td>\n",
       "    </tr>\n",
       "    <tr>\n",
       "      <th>3</th>\n",
       "      <td>1001</td>\n",
       "      <td>060750201001001</td>\n",
       "      <td>075</td>\n",
       "      <td>0</td>\n",
       "      <td>N</td>\n",
       "      <td>0</td>\n",
       "      <td>06</td>\n",
       "      <td>020100</td>\n",
       "      <td>POLYGON ((-122.418618 37.773053, -122.418855 3...</td>\n",
       "    </tr>\n",
       "    <tr>\n",
       "      <th>4</th>\n",
       "      <td>2006</td>\n",
       "      <td>060750178022006</td>\n",
       "      <td>075</td>\n",
       "      <td>145</td>\n",
       "      <td>N</td>\n",
       "      <td>196</td>\n",
       "      <td>06</td>\n",
       "      <td>017802</td>\n",
       "      <td>POLYGON ((-122.413587 37.77466, -122.413161 37...</td>\n",
       "    </tr>\n",
       "  </tbody>\n",
       "</table>\n",
       "</div>"
      ],
      "text/plain": [
       "  BLOCKCE        BLOCKID10 COUNTYFP10  HOUSING10 PARTFLG  POP10 STATEFP10  \\\n",
       "0    3028  060750313023028        075         33       N    116        06   \n",
       "1    6025  060750255006025        075          1       N      1        06   \n",
       "2    1010  060750261001010        075         64       N    237        06   \n",
       "3    1001  060750201001001        075          0       N      0        06   \n",
       "4    2006  060750178022006        075        145       N    196        06   \n",
       "\n",
       "  TRACTCE10                                           geometry  \n",
       "0    031302  POLYGON ((-122.469306 37.712526, -122.468748 3...  \n",
       "1    025500  POLYGON ((-122.442387 37.725793, -122.443066 3...  \n",
       "2    026100  POLYGON ((-122.439127 37.720972, -122.439382 3...  \n",
       "3    020100  POLYGON ((-122.418618 37.773053, -122.418855 3...  \n",
       "4    017802  POLYGON ((-122.413587 37.77466, -122.413161 37...  "
      ]
     },
     "execution_count": 48,
     "metadata": {},
     "output_type": "execute_result"
    }
   ],
   "source": [
    "hu10.head()"
   ]
  },
  {
   "cell_type": "code",
   "execution_count": 49,
   "metadata": {
    "collapsed": false
   },
   "outputs": [
    {
     "data": {
      "text/html": [
       "<div>\n",
       "<table border=\"1\" class=\"dataframe\">\n",
       "  <thead>\n",
       "    <tr style=\"text-align: right;\">\n",
       "      <th></th>\n",
       "      <th>BLOCKCE</th>\n",
       "      <th>BLOCKID10</th>\n",
       "      <th>COUNTYFP10</th>\n",
       "      <th>HOUSING10</th>\n",
       "      <th>PARTFLG</th>\n",
       "      <th>POP10</th>\n",
       "      <th>STATEFP10</th>\n",
       "      <th>TRACTCE10</th>\n",
       "      <th>geometry_x</th>\n",
       "      <th>NET_CHANGE</th>\n",
       "      <th>GEOID10</th>\n",
       "      <th>geometry_y</th>\n",
       "    </tr>\n",
       "  </thead>\n",
       "  <tbody>\n",
       "  </tbody>\n",
       "</table>\n",
       "</div>"
      ],
      "text/plain": [
       "Empty DataFrame\n",
       "Columns: [BLOCKCE, BLOCKID10, COUNTYFP10, HOUSING10, PARTFLG, POP10, STATEFP10, TRACTCE10, geometry_x, NET_CHANGE, GEOID10, geometry_y]\n",
       "Index: []"
      ]
     },
     "execution_count": 49,
     "metadata": {},
     "output_type": "execute_result"
    }
   ],
   "source": []
  },
  {
   "cell_type": "code",
   "execution_count": 63,
   "metadata": {
    "collapsed": false
   },
   "outputs": [],
   "source": [
    "hu10.BLOCKID10 = hu10.BLOCKID10.astype(float)"
   ]
  },
  {
   "cell_type": "code",
   "execution_count": 64,
   "metadata": {
    "collapsed": false
   },
   "outputs": [
    {
     "data": {
      "text/html": [
       "<div>\n",
       "<table border=\"1\" class=\"dataframe\">\n",
       "  <thead>\n",
       "    <tr style=\"text-align: right;\">\n",
       "      <th></th>\n",
       "      <th>BLOCKCE</th>\n",
       "      <th>BLOCKID10</th>\n",
       "      <th>COUNTYFP10</th>\n",
       "      <th>HOUSING10</th>\n",
       "      <th>PARTFLG</th>\n",
       "      <th>POP10</th>\n",
       "      <th>STATEFP10</th>\n",
       "      <th>TRACTCE10</th>\n",
       "      <th>geometry</th>\n",
       "    </tr>\n",
       "  </thead>\n",
       "  <tbody>\n",
       "    <tr>\n",
       "      <th>0</th>\n",
       "      <td>3028</td>\n",
       "      <td>6.075031e+13</td>\n",
       "      <td>075</td>\n",
       "      <td>33</td>\n",
       "      <td>N</td>\n",
       "      <td>116</td>\n",
       "      <td>06</td>\n",
       "      <td>031302</td>\n",
       "      <td>POLYGON ((-122.469306 37.712526, -122.468748 3...</td>\n",
       "    </tr>\n",
       "    <tr>\n",
       "      <th>1</th>\n",
       "      <td>6025</td>\n",
       "      <td>6.075026e+13</td>\n",
       "      <td>075</td>\n",
       "      <td>1</td>\n",
       "      <td>N</td>\n",
       "      <td>1</td>\n",
       "      <td>06</td>\n",
       "      <td>025500</td>\n",
       "      <td>POLYGON ((-122.442387 37.725793, -122.443066 3...</td>\n",
       "    </tr>\n",
       "    <tr>\n",
       "      <th>2</th>\n",
       "      <td>1010</td>\n",
       "      <td>6.075026e+13</td>\n",
       "      <td>075</td>\n",
       "      <td>64</td>\n",
       "      <td>N</td>\n",
       "      <td>237</td>\n",
       "      <td>06</td>\n",
       "      <td>026100</td>\n",
       "      <td>POLYGON ((-122.439127 37.720972, -122.439382 3...</td>\n",
       "    </tr>\n",
       "    <tr>\n",
       "      <th>3</th>\n",
       "      <td>1001</td>\n",
       "      <td>6.075020e+13</td>\n",
       "      <td>075</td>\n",
       "      <td>0</td>\n",
       "      <td>N</td>\n",
       "      <td>0</td>\n",
       "      <td>06</td>\n",
       "      <td>020100</td>\n",
       "      <td>POLYGON ((-122.418618 37.773053, -122.418855 3...</td>\n",
       "    </tr>\n",
       "    <tr>\n",
       "      <th>4</th>\n",
       "      <td>2006</td>\n",
       "      <td>6.075018e+13</td>\n",
       "      <td>075</td>\n",
       "      <td>145</td>\n",
       "      <td>N</td>\n",
       "      <td>196</td>\n",
       "      <td>06</td>\n",
       "      <td>017802</td>\n",
       "      <td>POLYGON ((-122.413587 37.77466, -122.413161 37...</td>\n",
       "    </tr>\n",
       "  </tbody>\n",
       "</table>\n",
       "</div>"
      ],
      "text/plain": [
       "  BLOCKCE     BLOCKID10 COUNTYFP10  HOUSING10 PARTFLG  POP10 STATEFP10  \\\n",
       "0    3028  6.075031e+13        075         33       N    116        06   \n",
       "1    6025  6.075026e+13        075          1       N      1        06   \n",
       "2    1010  6.075026e+13        075         64       N    237        06   \n",
       "3    1001  6.075020e+13        075          0       N      0        06   \n",
       "4    2006  6.075018e+13        075        145       N    196        06   \n",
       "\n",
       "  TRACTCE10                                           geometry  \n",
       "0    031302  POLYGON ((-122.469306 37.712526, -122.468748 3...  \n",
       "1    025500  POLYGON ((-122.442387 37.725793, -122.443066 3...  \n",
       "2    026100  POLYGON ((-122.439127 37.720972, -122.439382 3...  \n",
       "3    020100  POLYGON ((-122.418618 37.773053, -122.418855 3...  \n",
       "4    017802  POLYGON ((-122.413587 37.77466, -122.413161 37...  "
      ]
     },
     "execution_count": 64,
     "metadata": {},
     "output_type": "execute_result"
    }
   ],
   "source": [
    "hu10.head()"
   ]
  },
  {
   "cell_type": "code",
   "execution_count": 75,
   "metadata": {
    "collapsed": false
   },
   "outputs": [],
   "source": [
    "hu16 = hu10.merge(changes[['GEOID10','NET_CHANGE']],left_on = 'BLOCKID10',right_on = 'GEOID10')"
   ]
  },
  {
   "cell_type": "code",
   "execution_count": 76,
   "metadata": {
    "collapsed": true
   },
   "outputs": [],
   "source": [
    "hu16['HOUSING16'] = hu16['HOUSING10'] + hu16['NET_CHANGE']"
   ]
  },
  {
   "cell_type": "code",
   "execution_count": 77,
   "metadata": {
    "collapsed": false
   },
   "outputs": [
    {
     "data": {
      "text/html": [
       "<div>\n",
       "<table border=\"1\" class=\"dataframe\">\n",
       "  <thead>\n",
       "    <tr style=\"text-align: right;\">\n",
       "      <th></th>\n",
       "      <th>BLOCKCE</th>\n",
       "      <th>BLOCKID10</th>\n",
       "      <th>COUNTYFP10</th>\n",
       "      <th>HOUSING10</th>\n",
       "      <th>PARTFLG</th>\n",
       "      <th>POP10</th>\n",
       "      <th>STATEFP10</th>\n",
       "      <th>TRACTCE10</th>\n",
       "      <th>geometry</th>\n",
       "      <th>GEOID10</th>\n",
       "      <th>NET_CHANGE</th>\n",
       "      <th>HOUSING16</th>\n",
       "    </tr>\n",
       "  </thead>\n",
       "  <tbody>\n",
       "    <tr>\n",
       "      <th>0</th>\n",
       "      <td>3028</td>\n",
       "      <td>6.075031e+13</td>\n",
       "      <td>075</td>\n",
       "      <td>33</td>\n",
       "      <td>N</td>\n",
       "      <td>116</td>\n",
       "      <td>06</td>\n",
       "      <td>031302</td>\n",
       "      <td>POLYGON ((-122.469306 37.712526, -122.468748 3...</td>\n",
       "      <td>60750313023028</td>\n",
       "      <td>-1.0</td>\n",
       "      <td>32.0</td>\n",
       "    </tr>\n",
       "    <tr>\n",
       "      <th>1</th>\n",
       "      <td>6025</td>\n",
       "      <td>6.075026e+13</td>\n",
       "      <td>075</td>\n",
       "      <td>1</td>\n",
       "      <td>N</td>\n",
       "      <td>1</td>\n",
       "      <td>06</td>\n",
       "      <td>025500</td>\n",
       "      <td>POLYGON ((-122.442387 37.725793, -122.443066 3...</td>\n",
       "      <td>60750255006025</td>\n",
       "      <td>0.0</td>\n",
       "      <td>1.0</td>\n",
       "    </tr>\n",
       "    <tr>\n",
       "      <th>2</th>\n",
       "      <td>1010</td>\n",
       "      <td>6.075026e+13</td>\n",
       "      <td>075</td>\n",
       "      <td>64</td>\n",
       "      <td>N</td>\n",
       "      <td>237</td>\n",
       "      <td>06</td>\n",
       "      <td>026100</td>\n",
       "      <td>POLYGON ((-122.439127 37.720972, -122.439382 3...</td>\n",
       "      <td>60750261001010</td>\n",
       "      <td>0.0</td>\n",
       "      <td>64.0</td>\n",
       "    </tr>\n",
       "    <tr>\n",
       "      <th>3</th>\n",
       "      <td>1001</td>\n",
       "      <td>6.075020e+13</td>\n",
       "      <td>075</td>\n",
       "      <td>0</td>\n",
       "      <td>N</td>\n",
       "      <td>0</td>\n",
       "      <td>06</td>\n",
       "      <td>020100</td>\n",
       "      <td>POLYGON ((-122.418618 37.773053, -122.418855 3...</td>\n",
       "      <td>60750201001001</td>\n",
       "      <td>0.0</td>\n",
       "      <td>0.0</td>\n",
       "    </tr>\n",
       "    <tr>\n",
       "      <th>4</th>\n",
       "      <td>2006</td>\n",
       "      <td>6.075018e+13</td>\n",
       "      <td>075</td>\n",
       "      <td>145</td>\n",
       "      <td>N</td>\n",
       "      <td>196</td>\n",
       "      <td>06</td>\n",
       "      <td>017802</td>\n",
       "      <td>POLYGON ((-122.413587 37.77466, -122.413161 37...</td>\n",
       "      <td>60750178022006</td>\n",
       "      <td>16.0</td>\n",
       "      <td>161.0</td>\n",
       "    </tr>\n",
       "  </tbody>\n",
       "</table>\n",
       "</div>"
      ],
      "text/plain": [
       "  BLOCKCE     BLOCKID10 COUNTYFP10  HOUSING10 PARTFLG  POP10 STATEFP10  \\\n",
       "0    3028  6.075031e+13        075         33       N    116        06   \n",
       "1    6025  6.075026e+13        075          1       N      1        06   \n",
       "2    1010  6.075026e+13        075         64       N    237        06   \n",
       "3    1001  6.075020e+13        075          0       N      0        06   \n",
       "4    2006  6.075018e+13        075        145       N    196        06   \n",
       "\n",
       "  TRACTCE10                                           geometry  \\\n",
       "0    031302  POLYGON ((-122.469306 37.712526, -122.468748 3...   \n",
       "1    025500  POLYGON ((-122.442387 37.725793, -122.443066 3...   \n",
       "2    026100  POLYGON ((-122.439127 37.720972, -122.439382 3...   \n",
       "3    020100  POLYGON ((-122.418618 37.773053, -122.418855 3...   \n",
       "4    017802  POLYGON ((-122.413587 37.77466, -122.413161 37...   \n",
       "\n",
       "          GEOID10  NET_CHANGE  HOUSING16  \n",
       "0  60750313023028        -1.0       32.0  \n",
       "1  60750255006025         0.0        1.0  \n",
       "2  60750261001010         0.0       64.0  \n",
       "3  60750201001001         0.0        0.0  \n",
       "4  60750178022006        16.0      161.0  "
      ]
     },
     "execution_count": 77,
     "metadata": {},
     "output_type": "execute_result"
    }
   ],
   "source": [
    "hu16.head()"
   ]
  },
  {
   "cell_type": "code",
   "execution_count": 78,
   "metadata": {
    "collapsed": false
   },
   "outputs": [
    {
     "data": {
      "text/plain": [
       "1103.0"
      ]
     },
     "execution_count": 78,
     "metadata": {},
     "output_type": "execute_result"
    }
   ],
   "source": [
    "max(hu16.HOUSING16)"
   ]
  },
  {
   "cell_type": "code",
   "execution_count": 79,
   "metadata": {
    "collapsed": false
   },
   "outputs": [
    {
     "data": {
      "text/plain": [
       "-31.0"
      ]
     },
     "execution_count": 79,
     "metadata": {},
     "output_type": "execute_result"
    }
   ],
   "source": [
    "min(hu16.HOUSING16)"
   ]
  },
  {
   "cell_type": "code",
   "execution_count": 81,
   "metadata": {
    "collapsed": false
   },
   "outputs": [],
   "source": [
    "hu16.HOUSING16 = hu16.HOUSING16.clip_lower(0)"
   ]
  },
  {
   "cell_type": "code",
   "execution_count": 82,
   "metadata": {
    "collapsed": false
   },
   "outputs": [
    {
     "data": {
      "text/plain": [
       "0.0"
      ]
     },
     "execution_count": 82,
     "metadata": {},
     "output_type": "execute_result"
    }
   ],
   "source": [
    "min(hu16.HOUSING16)"
   ]
  },
  {
   "cell_type": "code",
   "execution_count": 85,
   "metadata": {
    "collapsed": false
   },
   "outputs": [
    {
     "ename": "IndexError",
     "evalue": "too many indices for array",
     "output_type": "error",
     "traceback": [
      "\u001b[0;31m---------------------------------------------------------------------------\u001b[0m",
      "\u001b[0;31mIndexError\u001b[0m                                Traceback (most recent call last)",
      "\u001b[0;32m<ipython-input-85-c60cff87e12a>\u001b[0m in \u001b[0;36m<module>\u001b[0;34m()\u001b[0m\n\u001b[0;32m----> 1\u001b[0;31m \u001b[0mhu16\u001b[0m\u001b[1;33m.\u001b[0m\u001b[0mplot\u001b[0m\u001b[1;33m(\u001b[0m\u001b[1;33m)\u001b[0m\u001b[1;33m\u001b[0m\u001b[0m\n\u001b[0m",
      "\u001b[0;32mC:\\Anaconda\\lib\\site-packages\\geopandas\\geodataframe.py\u001b[0m in \u001b[0;36mplot\u001b[0;34m(self, *args, **kwargs)\u001b[0m\n\u001b[1;32m    445\u001b[0m     \u001b[1;32mdef\u001b[0m \u001b[0mplot\u001b[0m\u001b[1;33m(\u001b[0m\u001b[0mself\u001b[0m\u001b[1;33m,\u001b[0m \u001b[1;33m*\u001b[0m\u001b[0margs\u001b[0m\u001b[1;33m,\u001b[0m \u001b[1;33m**\u001b[0m\u001b[0mkwargs\u001b[0m\u001b[1;33m)\u001b[0m\u001b[1;33m:\u001b[0m\u001b[1;33m\u001b[0m\u001b[0m\n\u001b[1;32m    446\u001b[0m \u001b[1;33m\u001b[0m\u001b[0m\n\u001b[0;32m--> 447\u001b[0;31m         \u001b[1;32mreturn\u001b[0m \u001b[0mplot_dataframe\u001b[0m\u001b[1;33m(\u001b[0m\u001b[0mself\u001b[0m\u001b[1;33m,\u001b[0m \u001b[1;33m*\u001b[0m\u001b[0margs\u001b[0m\u001b[1;33m,\u001b[0m \u001b[1;33m**\u001b[0m\u001b[0mkwargs\u001b[0m\u001b[1;33m)\u001b[0m\u001b[1;33m\u001b[0m\u001b[0m\n\u001b[0m\u001b[1;32m    448\u001b[0m \u001b[1;33m\u001b[0m\u001b[0m\n\u001b[1;32m    449\u001b[0m     \u001b[0mplot\u001b[0m\u001b[1;33m.\u001b[0m\u001b[0m__doc__\u001b[0m \u001b[1;33m=\u001b[0m \u001b[0mplot_dataframe\u001b[0m\u001b[1;33m.\u001b[0m\u001b[0m__doc__\u001b[0m\u001b[1;33m\u001b[0m\u001b[0m\n",
      "\u001b[0;32mC:\\Anaconda\\lib\\site-packages\\geopandas\\plotting.py\u001b[0m in \u001b[0;36mplot_dataframe\u001b[0;34m(s, column, cmap, color, linewidth, categorical, legend, ax, scheme, k, vmin, vmax, figsize, **color_kwds)\u001b[0m\n\u001b[1;32m    238\u001b[0m         return plot_series(s.geometry, cmap=cmap, color=color,\n\u001b[1;32m    239\u001b[0m                            \u001b[0max\u001b[0m\u001b[1;33m=\u001b[0m\u001b[0max\u001b[0m\u001b[1;33m,\u001b[0m \u001b[0mlinewidth\u001b[0m\u001b[1;33m=\u001b[0m\u001b[0mlinewidth\u001b[0m\u001b[1;33m,\u001b[0m \u001b[0mfigsize\u001b[0m\u001b[1;33m=\u001b[0m\u001b[0mfigsize\u001b[0m\u001b[1;33m,\u001b[0m\u001b[1;33m\u001b[0m\u001b[0m\n\u001b[0;32m--> 240\u001b[0;31m                            **color_kwds)\n\u001b[0m\u001b[1;32m    241\u001b[0m     \u001b[1;32melse\u001b[0m\u001b[1;33m:\u001b[0m\u001b[1;33m\u001b[0m\u001b[0m\n\u001b[1;32m    242\u001b[0m         \u001b[1;32mif\u001b[0m \u001b[0ms\u001b[0m\u001b[1;33m[\u001b[0m\u001b[0mcolumn\u001b[0m\u001b[1;33m]\u001b[0m\u001b[1;33m.\u001b[0m\u001b[0mdtype\u001b[0m \u001b[1;32mis\u001b[0m \u001b[0mnp\u001b[0m\u001b[1;33m.\u001b[0m\u001b[0mdtype\u001b[0m\u001b[1;33m(\u001b[0m\u001b[1;34m'O'\u001b[0m\u001b[1;33m)\u001b[0m\u001b[1;33m:\u001b[0m\u001b[1;33m\u001b[0m\u001b[0m\n",
      "\u001b[0;32mC:\\Anaconda\\lib\\site-packages\\geopandas\\plotting.py\u001b[0m in \u001b[0;36mplot_series\u001b[0;34m(s, cmap, color, ax, linewidth, figsize, **color_kwds)\u001b[0m\n\u001b[1;32m    141\u001b[0m                 \u001b[0mplot_multipolygon\u001b[0m\u001b[1;33m(\u001b[0m\u001b[0max\u001b[0m\u001b[1;33m,\u001b[0m \u001b[0mgeom\u001b[0m\u001b[1;33m,\u001b[0m \u001b[0mlinewidth\u001b[0m\u001b[1;33m=\u001b[0m\u001b[0mlinewidth\u001b[0m\u001b[1;33m,\u001b[0m \u001b[1;33m**\u001b[0m\u001b[0mcolor_kwds\u001b[0m\u001b[1;33m)\u001b[0m\u001b[1;33m\u001b[0m\u001b[0m\n\u001b[1;32m    142\u001b[0m             \u001b[1;32melse\u001b[0m\u001b[1;33m:\u001b[0m\u001b[1;33m\u001b[0m\u001b[0m\n\u001b[0;32m--> 143\u001b[0;31m                 \u001b[0mplot_multipolygon\u001b[0m\u001b[1;33m(\u001b[0m\u001b[0max\u001b[0m\u001b[1;33m,\u001b[0m \u001b[0mgeom\u001b[0m\u001b[1;33m,\u001b[0m \u001b[0mfacecolor\u001b[0m\u001b[1;33m=\u001b[0m\u001b[0mcol\u001b[0m\u001b[1;33m,\u001b[0m \u001b[0mlinewidth\u001b[0m\u001b[1;33m=\u001b[0m\u001b[0mlinewidth\u001b[0m\u001b[1;33m,\u001b[0m \u001b[1;33m**\u001b[0m\u001b[0mcolor_kwds\u001b[0m\u001b[1;33m)\u001b[0m\u001b[1;33m\u001b[0m\u001b[0m\n\u001b[0m\u001b[1;32m    144\u001b[0m         \u001b[1;32melif\u001b[0m \u001b[0mgeom\u001b[0m\u001b[1;33m.\u001b[0m\u001b[0mtype\u001b[0m \u001b[1;33m==\u001b[0m \u001b[1;34m'LineString'\u001b[0m \u001b[1;32mor\u001b[0m \u001b[0mgeom\u001b[0m\u001b[1;33m.\u001b[0m\u001b[0mtype\u001b[0m \u001b[1;33m==\u001b[0m \u001b[1;34m'MultiLineString'\u001b[0m\u001b[1;33m:\u001b[0m\u001b[1;33m\u001b[0m\u001b[0m\n\u001b[1;32m    145\u001b[0m             \u001b[0mplot_multilinestring\u001b[0m\u001b[1;33m(\u001b[0m\u001b[0max\u001b[0m\u001b[1;33m,\u001b[0m \u001b[0mgeom\u001b[0m\u001b[1;33m,\u001b[0m \u001b[0mcolor\u001b[0m\u001b[1;33m=\u001b[0m\u001b[0mcol\u001b[0m\u001b[1;33m,\u001b[0m \u001b[0mlinewidth\u001b[0m\u001b[1;33m=\u001b[0m\u001b[0mlinewidth\u001b[0m\u001b[1;33m,\u001b[0m \u001b[1;33m**\u001b[0m\u001b[0mcolor_kwds\u001b[0m\u001b[1;33m)\u001b[0m\u001b[1;33m\u001b[0m\u001b[0m\n",
      "\u001b[0;32mC:\\Anaconda\\lib\\site-packages\\geopandas\\plotting.py\u001b[0m in \u001b[0;36mplot_multipolygon\u001b[0;34m(ax, geom, facecolor, edgecolor, alpha, linewidth, **kwargs)\u001b[0m\n\u001b[1;32m     28\u001b[0m     \"\"\"\n\u001b[1;32m     29\u001b[0m     \u001b[1;32mif\u001b[0m \u001b[0mgeom\u001b[0m\u001b[1;33m.\u001b[0m\u001b[0mtype\u001b[0m \u001b[1;33m==\u001b[0m \u001b[1;34m'Polygon'\u001b[0m\u001b[1;33m:\u001b[0m\u001b[1;33m\u001b[0m\u001b[0m\n\u001b[0;32m---> 30\u001b[0;31m         \u001b[0mplot_polygon\u001b[0m\u001b[1;33m(\u001b[0m\u001b[0max\u001b[0m\u001b[1;33m,\u001b[0m \u001b[0mgeom\u001b[0m\u001b[1;33m,\u001b[0m \u001b[0mfacecolor\u001b[0m\u001b[1;33m=\u001b[0m\u001b[0mfacecolor\u001b[0m\u001b[1;33m,\u001b[0m \u001b[0medgecolor\u001b[0m\u001b[1;33m=\u001b[0m\u001b[0medgecolor\u001b[0m\u001b[1;33m,\u001b[0m \u001b[0malpha\u001b[0m\u001b[1;33m=\u001b[0m\u001b[0malpha\u001b[0m\u001b[1;33m,\u001b[0m \u001b[0mlinewidth\u001b[0m\u001b[1;33m=\u001b[0m\u001b[0mlinewidth\u001b[0m\u001b[1;33m,\u001b[0m \u001b[1;33m**\u001b[0m\u001b[0mkwargs\u001b[0m\u001b[1;33m)\u001b[0m\u001b[1;33m\u001b[0m\u001b[0m\n\u001b[0m\u001b[1;32m     31\u001b[0m     \u001b[1;32melif\u001b[0m \u001b[0mgeom\u001b[0m\u001b[1;33m.\u001b[0m\u001b[0mtype\u001b[0m \u001b[1;33m==\u001b[0m \u001b[1;34m'MultiPolygon'\u001b[0m\u001b[1;33m:\u001b[0m\u001b[1;33m\u001b[0m\u001b[0m\n\u001b[1;32m     32\u001b[0m         \u001b[1;32mfor\u001b[0m \u001b[0mpoly\u001b[0m \u001b[1;32min\u001b[0m \u001b[0mgeom\u001b[0m\u001b[1;33m.\u001b[0m\u001b[0mgeoms\u001b[0m\u001b[1;33m:\u001b[0m\u001b[1;33m\u001b[0m\u001b[0m\n",
      "\u001b[0;32mC:\\Anaconda\\lib\\site-packages\\geopandas\\plotting.py\u001b[0m in \u001b[0;36mplot_polygon\u001b[0;34m(ax, poly, facecolor, edgecolor, alpha, linewidth, **kwargs)\u001b[0m\n\u001b[1;32m     17\u001b[0m \u001b[1;33m\u001b[0m\u001b[0m\n\u001b[1;32m     18\u001b[0m     \u001b[1;31m# without Descartes, we could make a Patch of exterior\u001b[0m\u001b[1;33m\u001b[0m\u001b[1;33m\u001b[0m\u001b[0m\n\u001b[0;32m---> 19\u001b[0;31m     \u001b[0max\u001b[0m\u001b[1;33m.\u001b[0m\u001b[0madd_patch\u001b[0m\u001b[1;33m(\u001b[0m\u001b[0mPolygonPatch\u001b[0m\u001b[1;33m(\u001b[0m\u001b[0mpoly\u001b[0m\u001b[1;33m,\u001b[0m \u001b[0mfacecolor\u001b[0m\u001b[1;33m=\u001b[0m\u001b[0mfacecolor\u001b[0m\u001b[1;33m,\u001b[0m \u001b[0mlinewidth\u001b[0m\u001b[1;33m=\u001b[0m\u001b[1;36m0\u001b[0m\u001b[1;33m,\u001b[0m \u001b[0malpha\u001b[0m\u001b[1;33m=\u001b[0m\u001b[0malpha\u001b[0m\u001b[1;33m)\u001b[0m\u001b[1;33m)\u001b[0m  \u001b[1;31m# linewidth=0 because boundaries are drawn separately\u001b[0m\u001b[1;33m\u001b[0m\u001b[0m\n\u001b[0m\u001b[1;32m     20\u001b[0m     \u001b[0max\u001b[0m\u001b[1;33m.\u001b[0m\u001b[0mplot\u001b[0m\u001b[1;33m(\u001b[0m\u001b[0ma\u001b[0m\u001b[1;33m[\u001b[0m\u001b[1;33m:\u001b[0m\u001b[1;33m,\u001b[0m \u001b[1;36m0\u001b[0m\u001b[1;33m]\u001b[0m\u001b[1;33m,\u001b[0m \u001b[0ma\u001b[0m\u001b[1;33m[\u001b[0m\u001b[1;33m:\u001b[0m\u001b[1;33m,\u001b[0m \u001b[1;36m1\u001b[0m\u001b[1;33m]\u001b[0m\u001b[1;33m,\u001b[0m \u001b[0mcolor\u001b[0m\u001b[1;33m=\u001b[0m\u001b[0medgecolor\u001b[0m\u001b[1;33m,\u001b[0m \u001b[0mlinewidth\u001b[0m\u001b[1;33m=\u001b[0m\u001b[0mlinewidth\u001b[0m\u001b[1;33m,\u001b[0m \u001b[1;33m**\u001b[0m\u001b[0mkwargs\u001b[0m\u001b[1;33m)\u001b[0m\u001b[1;33m\u001b[0m\u001b[0m\n\u001b[1;32m     21\u001b[0m     \u001b[1;32mfor\u001b[0m \u001b[0mp\u001b[0m \u001b[1;32min\u001b[0m \u001b[0mpoly\u001b[0m\u001b[1;33m.\u001b[0m\u001b[0minteriors\u001b[0m\u001b[1;33m:\u001b[0m\u001b[1;33m\u001b[0m\u001b[0m\n",
      "\u001b[0;32mC:\\Anaconda\\lib\\site-packages\\descartes\\patch.py\u001b[0m in \u001b[0;36mPolygonPatch\u001b[0;34m(polygon, **kwargs)\u001b[0m\n\u001b[1;32m     85\u001b[0m \u001b[1;33m\u001b[0m\u001b[0m\n\u001b[1;32m     86\u001b[0m     \"\"\"\n\u001b[0;32m---> 87\u001b[0;31m     \u001b[1;32mreturn\u001b[0m \u001b[0mPathPatch\u001b[0m\u001b[1;33m(\u001b[0m\u001b[0mPolygonPath\u001b[0m\u001b[1;33m(\u001b[0m\u001b[0mpolygon\u001b[0m\u001b[1;33m)\u001b[0m\u001b[1;33m,\u001b[0m \u001b[1;33m**\u001b[0m\u001b[0mkwargs\u001b[0m\u001b[1;33m)\u001b[0m\u001b[1;33m\u001b[0m\u001b[0m\n\u001b[0m",
      "\u001b[0;32mC:\\Anaconda\\lib\\site-packages\\descartes\\patch.py\u001b[0m in \u001b[0;36mPolygonPath\u001b[0;34m(polygon)\u001b[0m\n\u001b[1;32m     63\u001b[0m         concatenate([asarray(t.exterior)[:, :2]] +\n\u001b[1;32m     64\u001b[0m                     [asarray(r)[:, :2] for r in t.interiors])\n\u001b[0;32m---> 65\u001b[0;31m         for t in polygon])\n\u001b[0m\u001b[1;32m     66\u001b[0m     codes = concatenate([\n\u001b[1;32m     67\u001b[0m         concatenate([coding(t.exterior)] +\n",
      "\u001b[0;32mC:\\Anaconda\\lib\\site-packages\\descartes\\patch.py\u001b[0m in \u001b[0;36m<listcomp>\u001b[0;34m(.0)\u001b[0m\n\u001b[1;32m     63\u001b[0m         concatenate([asarray(t.exterior)[:, :2]] +\n\u001b[1;32m     64\u001b[0m                     [asarray(r)[:, :2] for r in t.interiors])\n\u001b[0;32m---> 65\u001b[0;31m         for t in polygon])\n\u001b[0m\u001b[1;32m     66\u001b[0m     codes = concatenate([\n\u001b[1;32m     67\u001b[0m         concatenate([coding(t.exterior)] +\n",
      "\u001b[0;31mIndexError\u001b[0m: too many indices for array"
     ]
    },
    {
     "data": {
      "image/png": "[encoded data removed]",
      "text/plain": [
       "<matplotlib.figure.Figure at 0x2167c2409e8>"
      ]
     },
     "metadata": {},
     "output_type": "display_data"
    }
   ],
   "source": [
    "hu16.plot()"
   ]
  },
  {
   "cell_type": "code",
   "execution_count": 84,
   "metadata": {
    "collapsed": true
   },
   "outputs": [],
   "source": [
    "%matplotlib inline"
   ]
  },
  {
   "cell_type": "code",
   "execution_count": 88,
   "metadata": {
    "collapsed": false
   },
   "outputs": [],
   "source": [
    "hu16 = hu16.drop(['HOUSING10','POP10','NET_CHANGE','GEOID10'],axis = 1)"
   ]
  },
  {
   "cell_type": "code",
   "execution_count": 89,
   "metadata": {
    "collapsed": true
   },
   "outputs": [],
   "source": [
    "hu16.to_file('E:/Transit-Casa-Alex/Input/Population and Housing Units (Blocks)/2016/Houses_Blocks.shp',driver = 'ESRI Shapefile')"
   ]
  },
  {
   "cell_type": "code",
   "execution_count": null,
   "metadata": {
    "collapsed": false
   },
   "outputs": [],
   "source": []
  },
  {
   "cell_type": "code",
   "execution_count": null,
   "metadata": {
    "collapsed": true
   },
   "outputs": [],
   "source": []
  }
 ],
 "metadata": {
  "anaconda-cloud": {},
  "kernelspec": {
   "display_name": "Python [conda root]",
   "language": "python",
   "name": "conda-root-py"
  },
  "language_info": {
   "codemirror_mode": {
    "name": "ipython",
    "version": 3
   },
   "file_extension": ".py",
   "mimetype": "text/x-python",
   "name": "python",
   "nbconvert_exporter": "python",
   "pygments_lexer": "ipython3",
   "version": "3.5.2"
  }
 },
 "nbformat": 4,
 "nbformat_minor": 1
}
