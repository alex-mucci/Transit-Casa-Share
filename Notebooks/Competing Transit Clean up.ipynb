{
 "cells": [
  {
   "cell_type": "code",
   "execution_count": 1,
   "metadata": {
    "collapsed": false
   },
   "outputs": [],
   "source": [
    "import pandas as pd\n",
    "import geopandas as gp\n",
    "import numpy as np\n",
    "pd.set_option('display.max_columns',500)"
   ]
  },
  {
   "cell_type": "code",
   "execution_count": 2,
   "metadata": {
    "collapsed": false
   },
   "outputs": [
    {
     "ename": "FileNotFoundError",
     "evalue": "File b'E:\\\\Transit-Casa-Alex\\\\Output\\\\Buffers\\\\Tenth\\\\Competing Treansit Buffers/Competing_Transit_Buffers.csv' does not exist",
     "output_type": "error",
     "traceback": [
      "\u001b[0;31m---------------------------------------------------------------------------\u001b[0m",
      "\u001b[0;31mFileNotFoundError\u001b[0m                         Traceback (most recent call last)",
      "\u001b[0;32m<ipython-input-2-561891a0929f>\u001b[0m in \u001b[0;36m<module>\u001b[0;34m()\u001b[0m\n\u001b[0;32m----> 1\u001b[0;31m \u001b[0mtrans\u001b[0m \u001b[1;33m=\u001b[0m \u001b[0mpd\u001b[0m\u001b[1;33m.\u001b[0m\u001b[0mread_csv\u001b[0m\u001b[1;33m(\u001b[0m\u001b[1;34m'E:\\Transit-Casa-Alex\\Output\\Buffers\\Tenth\\Competing Treansit Buffers/Competing_Transit_Buffers.csv'\u001b[0m\u001b[1;33m)\u001b[0m\u001b[1;33m\u001b[0m\u001b[0m\n\u001b[0m",
      "\u001b[0;32mC:\\Anaconda\\lib\\site-packages\\pandas\\io\\parsers.py\u001b[0m in \u001b[0;36mparser_f\u001b[0;34m(filepath_or_buffer, sep, delimiter, header, names, index_col, usecols, squeeze, prefix, mangle_dupe_cols, dtype, engine, converters, true_values, false_values, skipinitialspace, skiprows, nrows, na_values, keep_default_na, na_filter, verbose, skip_blank_lines, parse_dates, infer_datetime_format, keep_date_col, date_parser, dayfirst, iterator, chunksize, compression, thousands, decimal, lineterminator, quotechar, quoting, escapechar, comment, encoding, dialect, tupleize_cols, error_bad_lines, warn_bad_lines, skipfooter, skip_footer, doublequote, delim_whitespace, as_recarray, compact_ints, use_unsigned, low_memory, buffer_lines, memory_map, float_precision)\u001b[0m\n\u001b[1;32m    644\u001b[0m                     skip_blank_lines=skip_blank_lines)\n\u001b[1;32m    645\u001b[0m \u001b[1;33m\u001b[0m\u001b[0m\n\u001b[0;32m--> 646\u001b[0;31m         \u001b[1;32mreturn\u001b[0m \u001b[0m_read\u001b[0m\u001b[1;33m(\u001b[0m\u001b[0mfilepath_or_buffer\u001b[0m\u001b[1;33m,\u001b[0m \u001b[0mkwds\u001b[0m\u001b[1;33m)\u001b[0m\u001b[1;33m\u001b[0m\u001b[0m\n\u001b[0m\u001b[1;32m    647\u001b[0m \u001b[1;33m\u001b[0m\u001b[0m\n\u001b[1;32m    648\u001b[0m     \u001b[0mparser_f\u001b[0m\u001b[1;33m.\u001b[0m\u001b[0m__name__\u001b[0m \u001b[1;33m=\u001b[0m \u001b[0mname\u001b[0m\u001b[1;33m\u001b[0m\u001b[0m\n",
      "\u001b[0;32mC:\\Anaconda\\lib\\site-packages\\pandas\\io\\parsers.py\u001b[0m in \u001b[0;36m_read\u001b[0;34m(filepath_or_buffer, kwds)\u001b[0m\n\u001b[1;32m    387\u001b[0m \u001b[1;33m\u001b[0m\u001b[0m\n\u001b[1;32m    388\u001b[0m     \u001b[1;31m# Create the parser.\u001b[0m\u001b[1;33m\u001b[0m\u001b[1;33m\u001b[0m\u001b[0m\n\u001b[0;32m--> 389\u001b[0;31m     \u001b[0mparser\u001b[0m \u001b[1;33m=\u001b[0m \u001b[0mTextFileReader\u001b[0m\u001b[1;33m(\u001b[0m\u001b[0mfilepath_or_buffer\u001b[0m\u001b[1;33m,\u001b[0m \u001b[1;33m**\u001b[0m\u001b[0mkwds\u001b[0m\u001b[1;33m)\u001b[0m\u001b[1;33m\u001b[0m\u001b[0m\n\u001b[0m\u001b[1;32m    390\u001b[0m \u001b[1;33m\u001b[0m\u001b[0m\n\u001b[1;32m    391\u001b[0m     \u001b[1;32mif\u001b[0m \u001b[1;33m(\u001b[0m\u001b[0mnrows\u001b[0m \u001b[1;32mis\u001b[0m \u001b[1;32mnot\u001b[0m \u001b[1;32mNone\u001b[0m\u001b[1;33m)\u001b[0m \u001b[1;32mand\u001b[0m \u001b[1;33m(\u001b[0m\u001b[0mchunksize\u001b[0m \u001b[1;32mis\u001b[0m \u001b[1;32mnot\u001b[0m \u001b[1;32mNone\u001b[0m\u001b[1;33m)\u001b[0m\u001b[1;33m:\u001b[0m\u001b[1;33m\u001b[0m\u001b[0m\n",
      "\u001b[0;32mC:\\Anaconda\\lib\\site-packages\\pandas\\io\\parsers.py\u001b[0m in \u001b[0;36m__init__\u001b[0;34m(self, f, engine, **kwds)\u001b[0m\n\u001b[1;32m    728\u001b[0m             \u001b[0mself\u001b[0m\u001b[1;33m.\u001b[0m\u001b[0moptions\u001b[0m\u001b[1;33m[\u001b[0m\u001b[1;34m'has_index_names'\u001b[0m\u001b[1;33m]\u001b[0m \u001b[1;33m=\u001b[0m \u001b[0mkwds\u001b[0m\u001b[1;33m[\u001b[0m\u001b[1;34m'has_index_names'\u001b[0m\u001b[1;33m]\u001b[0m\u001b[1;33m\u001b[0m\u001b[0m\n\u001b[1;32m    729\u001b[0m \u001b[1;33m\u001b[0m\u001b[0m\n\u001b[0;32m--> 730\u001b[0;31m         \u001b[0mself\u001b[0m\u001b[1;33m.\u001b[0m\u001b[0m_make_engine\u001b[0m\u001b[1;33m(\u001b[0m\u001b[0mself\u001b[0m\u001b[1;33m.\u001b[0m\u001b[0mengine\u001b[0m\u001b[1;33m)\u001b[0m\u001b[1;33m\u001b[0m\u001b[0m\n\u001b[0m\u001b[1;32m    731\u001b[0m \u001b[1;33m\u001b[0m\u001b[0m\n\u001b[1;32m    732\u001b[0m     \u001b[1;32mdef\u001b[0m \u001b[0mclose\u001b[0m\u001b[1;33m(\u001b[0m\u001b[0mself\u001b[0m\u001b[1;33m)\u001b[0m\u001b[1;33m:\u001b[0m\u001b[1;33m\u001b[0m\u001b[0m\n",
      "\u001b[0;32mC:\\Anaconda\\lib\\site-packages\\pandas\\io\\parsers.py\u001b[0m in \u001b[0;36m_make_engine\u001b[0;34m(self, engine)\u001b[0m\n\u001b[1;32m    921\u001b[0m     \u001b[1;32mdef\u001b[0m \u001b[0m_make_engine\u001b[0m\u001b[1;33m(\u001b[0m\u001b[0mself\u001b[0m\u001b[1;33m,\u001b[0m \u001b[0mengine\u001b[0m\u001b[1;33m=\u001b[0m\u001b[1;34m'c'\u001b[0m\u001b[1;33m)\u001b[0m\u001b[1;33m:\u001b[0m\u001b[1;33m\u001b[0m\u001b[0m\n\u001b[1;32m    922\u001b[0m         \u001b[1;32mif\u001b[0m \u001b[0mengine\u001b[0m \u001b[1;33m==\u001b[0m \u001b[1;34m'c'\u001b[0m\u001b[1;33m:\u001b[0m\u001b[1;33m\u001b[0m\u001b[0m\n\u001b[0;32m--> 923\u001b[0;31m             \u001b[0mself\u001b[0m\u001b[1;33m.\u001b[0m\u001b[0m_engine\u001b[0m \u001b[1;33m=\u001b[0m \u001b[0mCParserWrapper\u001b[0m\u001b[1;33m(\u001b[0m\u001b[0mself\u001b[0m\u001b[1;33m.\u001b[0m\u001b[0mf\u001b[0m\u001b[1;33m,\u001b[0m \u001b[1;33m**\u001b[0m\u001b[0mself\u001b[0m\u001b[1;33m.\u001b[0m\u001b[0moptions\u001b[0m\u001b[1;33m)\u001b[0m\u001b[1;33m\u001b[0m\u001b[0m\n\u001b[0m\u001b[1;32m    924\u001b[0m         \u001b[1;32melse\u001b[0m\u001b[1;33m:\u001b[0m\u001b[1;33m\u001b[0m\u001b[0m\n\u001b[1;32m    925\u001b[0m             \u001b[1;32mif\u001b[0m \u001b[0mengine\u001b[0m \u001b[1;33m==\u001b[0m \u001b[1;34m'python'\u001b[0m\u001b[1;33m:\u001b[0m\u001b[1;33m\u001b[0m\u001b[0m\n",
      "\u001b[0;32mC:\\Anaconda\\lib\\site-packages\\pandas\\io\\parsers.py\u001b[0m in \u001b[0;36m__init__\u001b[0;34m(self, src, **kwds)\u001b[0m\n\u001b[1;32m   1388\u001b[0m         \u001b[0mkwds\u001b[0m\u001b[1;33m[\u001b[0m\u001b[1;34m'allow_leading_cols'\u001b[0m\u001b[1;33m]\u001b[0m \u001b[1;33m=\u001b[0m \u001b[0mself\u001b[0m\u001b[1;33m.\u001b[0m\u001b[0mindex_col\u001b[0m \u001b[1;32mis\u001b[0m \u001b[1;32mnot\u001b[0m \u001b[1;32mFalse\u001b[0m\u001b[1;33m\u001b[0m\u001b[0m\n\u001b[1;32m   1389\u001b[0m \u001b[1;33m\u001b[0m\u001b[0m\n\u001b[0;32m-> 1390\u001b[0;31m         \u001b[0mself\u001b[0m\u001b[1;33m.\u001b[0m\u001b[0m_reader\u001b[0m \u001b[1;33m=\u001b[0m \u001b[0m_parser\u001b[0m\u001b[1;33m.\u001b[0m\u001b[0mTextReader\u001b[0m\u001b[1;33m(\u001b[0m\u001b[0msrc\u001b[0m\u001b[1;33m,\u001b[0m \u001b[1;33m**\u001b[0m\u001b[0mkwds\u001b[0m\u001b[1;33m)\u001b[0m\u001b[1;33m\u001b[0m\u001b[0m\n\u001b[0m\u001b[1;32m   1391\u001b[0m \u001b[1;33m\u001b[0m\u001b[0m\n\u001b[1;32m   1392\u001b[0m         \u001b[1;31m# XXX\u001b[0m\u001b[1;33m\u001b[0m\u001b[1;33m\u001b[0m\u001b[0m\n",
      "\u001b[0;32mpandas\\parser.pyx\u001b[0m in \u001b[0;36mpandas.parser.TextReader.__cinit__ (pandas\\parser.c:4184)\u001b[0;34m()\u001b[0m\n",
      "\u001b[0;32mpandas\\parser.pyx\u001b[0m in \u001b[0;36mpandas.parser.TextReader._setup_parser_source (pandas\\parser.c:8449)\u001b[0;34m()\u001b[0m\n",
      "\u001b[0;31mFileNotFoundError\u001b[0m: File b'E:\\\\Transit-Casa-Alex\\\\Output\\\\Buffers\\\\Tenth\\\\Competing Treansit Buffers/Competing_Transit_Buffers.csv' does not exist"
     ]
    }
   ],
   "source": [
    "trans = pd.read_csv('E:\\Transit-Casa-Alex\\Output\\Buffers\\Tenth\\Competing Treansit Buffers/Competing_Transit_Buffers.csv')"
   ]
  },
  {
   "cell_type": "code",
   "execution_count": null,
   "metadata": {
    "collapsed": false
   },
   "outputs": [],
   "source": [
    "trans = gp.r('E:/Transit-Casa-Alex/Output/Buffers/Tenth/Competing Treansit Buffers/Competing_Transit_Buffers.shp',driver = 'ESRI Shapefile')"
   ]
  },
  {
   "cell_type": "code",
   "execution_count": 3,
   "metadata": {
    "collapsed": false
   },
   "outputs": [
    {
     "name": "stdout",
     "output_type": "stream",
     "text": [
      "<class 'pandas.core.frame.DataFrame'>\n",
      "RangeIndex: 76 entries, 0 to 75\n",
      "Data columns (total 7 columns):\n",
      "Unnamed: 0      76 non-null int64\n",
      "FROMS_BART      76 non-null int64\n",
      "OFF_CALTRAIN    76 non-null int64\n",
      "ON_CALTRAIN     76 non-null int64\n",
      "STOP_ID         76 non-null int64\n",
      "TOS_BART        76 non-null int64\n",
      "geometry        76 non-null object\n",
      "dtypes: int64(6), object(1)\n",
      "memory usage: 4.2+ KB\n"
     ]
    }
   ],
   "source": [
    "trans.info()"
   ]
  },
  {
   "cell_type": "code",
   "execution_count": 4,
   "metadata": {
    "collapsed": false
   },
   "outputs": [
    {
     "data": {
      "text/html": [
       "<div>\n",
       "<table border=\"1\" class=\"dataframe\">\n",
       "  <thead>\n",
       "    <tr style=\"text-align: right;\">\n",
       "      <th></th>\n",
       "      <th>Unnamed: 0</th>\n",
       "      <th>FROMS_BART</th>\n",
       "      <th>OFF_CALTRAIN</th>\n",
       "      <th>ON_CALTRAIN</th>\n",
       "      <th>STOP_ID</th>\n",
       "      <th>TOS_BART</th>\n",
       "      <th>geometry</th>\n",
       "    </tr>\n",
       "  </thead>\n",
       "  <tbody>\n",
       "    <tr>\n",
       "      <th>0</th>\n",
       "      <td>14</td>\n",
       "      <td>13045</td>\n",
       "      <td>0</td>\n",
       "      <td>0</td>\n",
       "      <td>3012</td>\n",
       "      <td>12502</td>\n",
       "      <td>POLYGON ((-122.4024119870492 37.79044071898017...</td>\n",
       "    </tr>\n",
       "    <tr>\n",
       "      <th>1</th>\n",
       "      <td>15</td>\n",
       "      <td>13045</td>\n",
       "      <td>0</td>\n",
       "      <td>0</td>\n",
       "      <td>3013</td>\n",
       "      <td>12502</td>\n",
       "      <td>POLYGON ((-122.4017559627998 37.78999372938668...</td>\n",
       "    </tr>\n",
       "    <tr>\n",
       "      <th>2</th>\n",
       "      <td>119</td>\n",
       "      <td>15030</td>\n",
       "      <td>0</td>\n",
       "      <td>0</td>\n",
       "      <td>3160</td>\n",
       "      <td>14302</td>\n",
       "      <td>POLYGON ((-122.4052230407347 37.78563288496019...</td>\n",
       "    </tr>\n",
       "    <tr>\n",
       "      <th>3</th>\n",
       "      <td>120</td>\n",
       "      <td>15030</td>\n",
       "      <td>0</td>\n",
       "      <td>0</td>\n",
       "      <td>3161</td>\n",
       "      <td>14302</td>\n",
       "      <td>POLYGON ((-122.4067810997628 37.7869008538221,...</td>\n",
       "    </tr>\n",
       "    <tr>\n",
       "      <th>4</th>\n",
       "      <td>153</td>\n",
       "      <td>21950</td>\n",
       "      <td>0</td>\n",
       "      <td>0</td>\n",
       "      <td>3196</td>\n",
       "      <td>19876</td>\n",
       "      <td>POLYGON ((-122.4135012710483 37.78168305552212...</td>\n",
       "    </tr>\n",
       "  </tbody>\n",
       "</table>\n",
       "</div>"
      ],
      "text/plain": [
       "   Unnamed: 0  FROMS_BART  OFF_CALTRAIN  ON_CALTRAIN  STOP_ID  TOS_BART  \\\n",
       "0          14       13045             0            0     3012     12502   \n",
       "1          15       13045             0            0     3013     12502   \n",
       "2         119       15030             0            0     3160     14302   \n",
       "3         120       15030             0            0     3161     14302   \n",
       "4         153       21950             0            0     3196     19876   \n",
       "\n",
       "                                            geometry  \n",
       "0  POLYGON ((-122.4024119870492 37.79044071898017...  \n",
       "1  POLYGON ((-122.4017559627998 37.78999372938668...  \n",
       "2  POLYGON ((-122.4052230407347 37.78563288496019...  \n",
       "3  POLYGON ((-122.4067810997628 37.7869008538221,...  \n",
       "4  POLYGON ((-122.4135012710483 37.78168305552212...  "
      ]
     },
     "execution_count": 4,
     "metadata": {},
     "output_type": "execute_result"
    }
   ],
   "source": [
    "trans.head()"
   ]
  },
  {
   "cell_type": "code",
   "execution_count": 9,
   "metadata": {
    "collapsed": false
   },
   "outputs": [
    {
     "data": {
      "text/plain": [
       "array([0], dtype=int64)"
      ]
     },
     "execution_count": 9,
     "metadata": {},
     "output_type": "execute_result"
    }
   ],
   "source": []
  },
  {
   "cell_type": "code",
   "execution_count": 6,
   "metadata": {
    "collapsed": false
   },
   "outputs": [],
   "source": [
    "trans2 = trans[trans['FROMS_BART'] > 0 | (trans['ON_CALTRAIN'] > 0)] "
   ]
  },
  {
   "cell_type": "code",
   "execution_count": 7,
   "metadata": {
    "collapsed": false
   },
   "outputs": [
    {
     "data": {
      "text/html": [
       "<div>\n",
       "<table border=\"1\" class=\"dataframe\">\n",
       "  <thead>\n",
       "    <tr style=\"text-align: right;\">\n",
       "      <th></th>\n",
       "      <th>Unnamed: 0</th>\n",
       "      <th>FROMS_BART</th>\n",
       "      <th>OFF_CALTRAIN</th>\n",
       "      <th>ON_CALTRAIN</th>\n",
       "      <th>STOP_ID</th>\n",
       "      <th>TOS_BART</th>\n",
       "      <th>geometry</th>\n",
       "    </tr>\n",
       "  </thead>\n",
       "  <tbody>\n",
       "    <tr>\n",
       "      <th>0</th>\n",
       "      <td>14</td>\n",
       "      <td>13045</td>\n",
       "      <td>0</td>\n",
       "      <td>0</td>\n",
       "      <td>3012</td>\n",
       "      <td>12502</td>\n",
       "      <td>POLYGON ((-122.4024119870492 37.79044071898017...</td>\n",
       "    </tr>\n",
       "    <tr>\n",
       "      <th>1</th>\n",
       "      <td>15</td>\n",
       "      <td>13045</td>\n",
       "      <td>0</td>\n",
       "      <td>0</td>\n",
       "      <td>3013</td>\n",
       "      <td>12502</td>\n",
       "      <td>POLYGON ((-122.4017559627998 37.78999372938668...</td>\n",
       "    </tr>\n",
       "    <tr>\n",
       "      <th>2</th>\n",
       "      <td>119</td>\n",
       "      <td>15030</td>\n",
       "      <td>0</td>\n",
       "      <td>0</td>\n",
       "      <td>3160</td>\n",
       "      <td>14302</td>\n",
       "      <td>POLYGON ((-122.4052230407347 37.78563288496019...</td>\n",
       "    </tr>\n",
       "    <tr>\n",
       "      <th>3</th>\n",
       "      <td>120</td>\n",
       "      <td>15030</td>\n",
       "      <td>0</td>\n",
       "      <td>0</td>\n",
       "      <td>3161</td>\n",
       "      <td>14302</td>\n",
       "      <td>POLYGON ((-122.4067810997628 37.7869008538221,...</td>\n",
       "    </tr>\n",
       "    <tr>\n",
       "      <th>4</th>\n",
       "      <td>153</td>\n",
       "      <td>21950</td>\n",
       "      <td>0</td>\n",
       "      <td>0</td>\n",
       "      <td>3196</td>\n",
       "      <td>19876</td>\n",
       "      <td>POLYGON ((-122.4135012710483 37.78168305552212...</td>\n",
       "    </tr>\n",
       "  </tbody>\n",
       "</table>\n",
       "</div>"
      ],
      "text/plain": [
       "   Unnamed: 0  FROMS_BART  OFF_CALTRAIN  ON_CALTRAIN  STOP_ID  TOS_BART  \\\n",
       "0          14       13045             0            0     3012     12502   \n",
       "1          15       13045             0            0     3013     12502   \n",
       "2         119       15030             0            0     3160     14302   \n",
       "3         120       15030             0            0     3161     14302   \n",
       "4         153       21950             0            0     3196     19876   \n",
       "\n",
       "                                            geometry  \n",
       "0  POLYGON ((-122.4024119870492 37.79044071898017...  \n",
       "1  POLYGON ((-122.4017559627998 37.78999372938668...  \n",
       "2  POLYGON ((-122.4052230407347 37.78563288496019...  \n",
       "3  POLYGON ((-122.4067810997628 37.7869008538221,...  \n",
       "4  POLYGON ((-122.4135012710483 37.78168305552212...  "
      ]
     },
     "execution_count": 7,
     "metadata": {},
     "output_type": "execute_result"
    }
   ],
   "source": [
    "trans2.head()"
   ]
  },
  {
   "cell_type": "code",
   "execution_count": 8,
   "metadata": {
    "collapsed": false
   },
   "outputs": [
    {
     "data": {
      "text/plain": [
       "array([0], dtype=int64)"
      ]
     },
     "execution_count": 8,
     "metadata": {},
     "output_type": "execute_result"
    }
   ],
   "source": [
    "trans2.ON_CALTRAIN.unique()"
   ]
  },
  {
   "cell_type": "code",
   "execution_count": 79,
   "metadata": {
    "collapsed": false
   },
   "outputs": [],
   "source": [
    "drop = ['ADDRESS', 'AIRPORT', 'BUFF_DIST', 'BUS_ROUTES', 'CO', 'CODE',\n",
    "       'COMM_NETWO', 'COMM_OP', 'CO_1', 'DIST', 'DIST_1', 'FROMS_1',\n",
    "       'INTERMODAL', 'Join_Cou_1', 'Join_Count', 'LOCATION',\n",
    "       'OPERATOR', 'ORIG_FID', 'PASS_NETWO', 'PASS_OP', 'Ridership',\n",
    "       'STATION_1', 'STATION_12', 'STATION_TY', 'STOP_LAT',\n",
    "       'STOP_LON', 'Station', 'TARGET_FID', 'TARGET_F_1', 'TRANSIT',\n",
    "       'TO', 'ZIP']"
   ]
  },
  {
   "cell_type": "code",
   "execution_count": 83,
   "metadata": {
    "collapsed": false
   },
   "outputs": [],
   "source": [
    "for column in drop:\n",
    "    trans = trans.drop(column,axis =1)"
   ]
  },
  {
   "cell_type": "code",
   "execution_count": 85,
   "metadata": {
    "collapsed": false
   },
   "outputs": [
    {
     "data": {
      "text/html": [
       "<div>\n",
       "<table border=\"1\" class=\"dataframe\">\n",
       "  <thead>\n",
       "    <tr style=\"text-align: right;\">\n",
       "      <th></th>\n",
       "      <th>Froms</th>\n",
       "      <th>OFF</th>\n",
       "      <th>ON</th>\n",
       "      <th>STOP_ID</th>\n",
       "      <th>Tos</th>\n",
       "      <th>geometry</th>\n",
       "    </tr>\n",
       "  </thead>\n",
       "  <tbody>\n",
       "    <tr>\n",
       "      <th>0</th>\n",
       "      <td>0</td>\n",
       "      <td>0</td>\n",
       "      <td>0</td>\n",
       "      <td>390</td>\n",
       "      <td>0</td>\n",
       "      <td>POLYGON ((-122.4762044957765 37.72256659330341...</td>\n",
       "    </tr>\n",
       "    <tr>\n",
       "      <th>1</th>\n",
       "      <td>0</td>\n",
       "      <td>0</td>\n",
       "      <td>0</td>\n",
       "      <td>392</td>\n",
       "      <td>0</td>\n",
       "      <td>POLYGON ((-122.478318121487 37.76653392304563,...</td>\n",
       "    </tr>\n",
       "    <tr>\n",
       "      <th>2</th>\n",
       "      <td>0</td>\n",
       "      <td>0</td>\n",
       "      <td>0</td>\n",
       "      <td>660</td>\n",
       "      <td>0</td>\n",
       "      <td>POLYGON ((-122.4364941099191 37.72529018218376...</td>\n",
       "    </tr>\n",
       "    <tr>\n",
       "      <th>3</th>\n",
       "      <td>0</td>\n",
       "      <td>0</td>\n",
       "      <td>0</td>\n",
       "      <td>913</td>\n",
       "      <td>0</td>\n",
       "      <td>POLYGON ((-122.4269088640789 37.72056829546914...</td>\n",
       "    </tr>\n",
       "    <tr>\n",
       "      <th>4</th>\n",
       "      <td>0</td>\n",
       "      <td>0</td>\n",
       "      <td>0</td>\n",
       "      <td>3001</td>\n",
       "      <td>0</td>\n",
       "      <td>POLYGON ((-122.3971498149807 37.78990370709575...</td>\n",
       "    </tr>\n",
       "  </tbody>\n",
       "</table>\n",
       "</div>"
      ],
      "text/plain": [
       "   Froms  OFF  ON  STOP_ID  Tos  \\\n",
       "0      0    0   0      390    0   \n",
       "1      0    0   0      392    0   \n",
       "2      0    0   0      660    0   \n",
       "3      0    0   0      913    0   \n",
       "4      0    0   0     3001    0   \n",
       "\n",
       "                                            geometry  \n",
       "0  POLYGON ((-122.4762044957765 37.72256659330341...  \n",
       "1  POLYGON ((-122.478318121487 37.76653392304563,...  \n",
       "2  POLYGON ((-122.4364941099191 37.72529018218376...  \n",
       "3  POLYGON ((-122.4269088640789 37.72056829546914...  \n",
       "4  POLYGON ((-122.3971498149807 37.78990370709575...  "
      ]
     },
     "execution_count": 85,
     "metadata": {},
     "output_type": "execute_result"
    }
   ],
   "source": [
    "trans.head()"
   ]
  },
  {
   "cell_type": "code",
   "execution_count": null,
   "metadata": {
    "collapsed": false
   },
   "outputs": [],
   "source": []
  },
  {
   "cell_type": "code",
   "execution_count": 123,
   "metadata": {
    "collapsed": true
   },
   "outputs": [],
   "source": [
    "rename = ['FROMS_BART', 'OFF_CALTRAIN', 'ON_CALTRAIN', 'STOP_ID', 'TOS_BART', 'geometry']"
   ]
  },
  {
   "cell_type": "code",
   "execution_count": 124,
   "metadata": {
    "collapsed": true
   },
   "outputs": [],
   "source": [
    "trans2.columns = rename"
   ]
  },
  {
   "cell_type": "code",
   "execution_count": 129,
   "metadata": {
    "collapsed": true
   },
   "outputs": [],
   "source": [
    "trans2.to_csv('E:\\Transit-Casa-Alex\\Output\\Buffers\\Tenth\\Competing Treansit Buffers\\Competing_Transit_Buffers.csv')"
   ]
  },
  {
   "cell_type": "code",
   "execution_count": 126,
   "metadata": {
    "collapsed": false
   },
   "outputs": [
    {
     "data": {
      "text/plain": [
       "{}"
      ]
     },
     "execution_count": 126,
     "metadata": {},
     "output_type": "execute_result"
    }
   ],
   "source": [
    "trans2.crs "
   ]
  },
  {
   "cell_type": "code",
   "execution_count": 127,
   "metadata": {
    "collapsed": true
   },
   "outputs": [],
   "source": [
    "trans2.to_file('E:\\Transit-Casa-Alex\\Output\\Buffers\\Tenth\\Competing Treansit Buffers/Competing_Transit_Buffers.shp',driver = 'ESRI Shapefile')"
   ]
  },
  {
   "cell_type": "code",
   "execution_count": 128,
   "metadata": {
    "collapsed": false
   },
   "outputs": [
    {
     "data": {
      "text/html": [
       "<div>\n",
       "<table border=\"1\" class=\"dataframe\">\n",
       "  <thead>\n",
       "    <tr style=\"text-align: right;\">\n",
       "      <th></th>\n",
       "      <th>FROMS_BART</th>\n",
       "      <th>OFF_CALTRAIN</th>\n",
       "      <th>ON_CALTRAIN</th>\n",
       "      <th>STOP_ID</th>\n",
       "      <th>TOS_BART</th>\n",
       "      <th>geometry</th>\n",
       "    </tr>\n",
       "  </thead>\n",
       "  <tbody>\n",
       "    <tr>\n",
       "      <th>14</th>\n",
       "      <td>13045</td>\n",
       "      <td>0</td>\n",
       "      <td>0</td>\n",
       "      <td>3012</td>\n",
       "      <td>12502</td>\n",
       "      <td>POLYGON ((-122.4024119870492 37.79044071898017...</td>\n",
       "    </tr>\n",
       "    <tr>\n",
       "      <th>15</th>\n",
       "      <td>13045</td>\n",
       "      <td>0</td>\n",
       "      <td>0</td>\n",
       "      <td>3013</td>\n",
       "      <td>12502</td>\n",
       "      <td>POLYGON ((-122.4017559627998 37.78999372938668...</td>\n",
       "    </tr>\n",
       "    <tr>\n",
       "      <th>119</th>\n",
       "      <td>15030</td>\n",
       "      <td>0</td>\n",
       "      <td>0</td>\n",
       "      <td>3160</td>\n",
       "      <td>14302</td>\n",
       "      <td>POLYGON ((-122.4052230407347 37.78563288496019...</td>\n",
       "    </tr>\n",
       "    <tr>\n",
       "      <th>120</th>\n",
       "      <td>15030</td>\n",
       "      <td>0</td>\n",
       "      <td>0</td>\n",
       "      <td>3161</td>\n",
       "      <td>14302</td>\n",
       "      <td>POLYGON ((-122.4067810997628 37.7869008538221,...</td>\n",
       "    </tr>\n",
       "    <tr>\n",
       "      <th>153</th>\n",
       "      <td>21950</td>\n",
       "      <td>0</td>\n",
       "      <td>0</td>\n",
       "      <td>3196</td>\n",
       "      <td>19876</td>\n",
       "      <td>POLYGON ((-122.4135012710483 37.78168305552212...</td>\n",
       "    </tr>\n",
       "  </tbody>\n",
       "</table>\n",
       "</div>"
      ],
      "text/plain": [
       "     FROMS_BART  OFF_CALTRAIN  ON_CALTRAIN  STOP_ID  TOS_BART  \\\n",
       "14        13045             0            0     3012     12502   \n",
       "15        13045             0            0     3013     12502   \n",
       "119       15030             0            0     3160     14302   \n",
       "120       15030             0            0     3161     14302   \n",
       "153       21950             0            0     3196     19876   \n",
       "\n",
       "                                              geometry  \n",
       "14   POLYGON ((-122.4024119870492 37.79044071898017...  \n",
       "15   POLYGON ((-122.4017559627998 37.78999372938668...  \n",
       "119  POLYGON ((-122.4052230407347 37.78563288496019...  \n",
       "120  POLYGON ((-122.4067810997628 37.7869008538221,...  \n",
       "153  POLYGON ((-122.4135012710483 37.78168305552212...  "
      ]
     },
     "execution_count": 128,
     "metadata": {},
     "output_type": "execute_result"
    }
   ],
   "source": [
    "trans2.head()"
   ]
  },
  {
   "cell_type": "code",
   "execution_count": null,
   "metadata": {
    "collapsed": true
   },
   "outputs": [],
   "source": []
  }
 ],
 "metadata": {
  "anaconda-cloud": {},
  "kernelspec": {
   "display_name": "Python [conda root]",
   "language": "python",
   "name": "conda-root-py"
  },
  "language_info": {
   "codemirror_mode": {
    "name": "ipython",
    "version": 3
   },
   "file_extension": ".py",
   "mimetype": "text/x-python",
   "name": "python",
   "nbconvert_exporter": "python",
   "pygments_lexer": "ipython3",
   "version": "3.5.2"
  }
 },
 "nbformat": 4,
 "nbformat_minor": 1
}
