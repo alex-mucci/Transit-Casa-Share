{
 "cells": [
  {
   "cell_type": "code",
   "execution_count": 1,
   "metadata": {
    "collapsed": false
   },
   "outputs": [],
   "source": [
    "import pandas as pd\n",
    "import geopandas as gp\n",
    "import numpy as np\n",
<<<<<<< HEAD
    "pd.set_option('display.max_columns',500)\n",
    "%matplotlib inline"
=======
    "pd.set_option('display.max_columns',500)"
>>>>>>> 6e43ba4dca69e340b79d1a3d9b929f6bae11c8f8
   ]
  },
  {
   "cell_type": "code",
<<<<<<< HEAD
   "execution_count": 22,
   "metadata": {
    "collapsed": false,
    "scrolled": true
   },
   "outputs": [],
   "source": [
    "bart09 = pd.read_csv('E:/Transit-Casa-Alex/Output/BART/2009/BART_Ridership.csv')"
=======
   "execution_count": 2,
   "metadata": {
    "collapsed": false
   },
   "outputs": [
    {
     "ename": "FileNotFoundError",
     "evalue": "File b'E:\\\\Transit-Casa-Alex\\\\Output\\\\Buffers\\\\Tenth\\\\Competing Treansit Buffers/Competing_Transit_Buffers.csv' does not exist",
     "output_type": "error",
     "traceback": [
      "\u001b[0;31m---------------------------------------------------------------------------\u001b[0m",
      "\u001b[0;31mFileNotFoundError\u001b[0m                         Traceback (most recent call last)",
      "\u001b[0;32m<ipython-input-2-561891a0929f>\u001b[0m in \u001b[0;36m<module>\u001b[0;34m()\u001b[0m\n\u001b[0;32m----> 1\u001b[0;31m \u001b[0mtrans\u001b[0m \u001b[1;33m=\u001b[0m \u001b[0mpd\u001b[0m\u001b[1;33m.\u001b[0m\u001b[0mread_csv\u001b[0m\u001b[1;33m(\u001b[0m\u001b[1;34m'E:\\Transit-Casa-Alex\\Output\\Buffers\\Tenth\\Competing Treansit Buffers/Competing_Transit_Buffers.csv'\u001b[0m\u001b[1;33m)\u001b[0m\u001b[1;33m\u001b[0m\u001b[0m\n\u001b[0m",
      "\u001b[0;32mC:\\Anaconda\\lib\\site-packages\\pandas\\io\\parsers.py\u001b[0m in \u001b[0;36mparser_f\u001b[0;34m(filepath_or_buffer, sep, delimiter, header, names, index_col, usecols, squeeze, prefix, mangle_dupe_cols, dtype, engine, converters, true_values, false_values, skipinitialspace, skiprows, nrows, na_values, keep_default_na, na_filter, verbose, skip_blank_lines, parse_dates, infer_datetime_format, keep_date_col, date_parser, dayfirst, iterator, chunksize, compression, thousands, decimal, lineterminator, quotechar, quoting, escapechar, comment, encoding, dialect, tupleize_cols, error_bad_lines, warn_bad_lines, skipfooter, skip_footer, doublequote, delim_whitespace, as_recarray, compact_ints, use_unsigned, low_memory, buffer_lines, memory_map, float_precision)\u001b[0m\n\u001b[1;32m    644\u001b[0m                     skip_blank_lines=skip_blank_lines)\n\u001b[1;32m    645\u001b[0m \u001b[1;33m\u001b[0m\u001b[0m\n\u001b[0;32m--> 646\u001b[0;31m         \u001b[1;32mreturn\u001b[0m \u001b[0m_read\u001b[0m\u001b[1;33m(\u001b[0m\u001b[0mfilepath_or_buffer\u001b[0m\u001b[1;33m,\u001b[0m \u001b[0mkwds\u001b[0m\u001b[1;33m)\u001b[0m\u001b[1;33m\u001b[0m\u001b[0m\n\u001b[0m\u001b[1;32m    647\u001b[0m \u001b[1;33m\u001b[0m\u001b[0m\n\u001b[1;32m    648\u001b[0m     \u001b[0mparser_f\u001b[0m\u001b[1;33m.\u001b[0m\u001b[0m__name__\u001b[0m \u001b[1;33m=\u001b[0m \u001b[0mname\u001b[0m\u001b[1;33m\u001b[0m\u001b[0m\n",
      "\u001b[0;32mC:\\Anaconda\\lib\\site-packages\\pandas\\io\\parsers.py\u001b[0m in \u001b[0;36m_read\u001b[0;34m(filepath_or_buffer, kwds)\u001b[0m\n\u001b[1;32m    387\u001b[0m \u001b[1;33m\u001b[0m\u001b[0m\n\u001b[1;32m    388\u001b[0m     \u001b[1;31m# Create the parser.\u001b[0m\u001b[1;33m\u001b[0m\u001b[1;33m\u001b[0m\u001b[0m\n\u001b[0;32m--> 389\u001b[0;31m     \u001b[0mparser\u001b[0m \u001b[1;33m=\u001b[0m \u001b[0mTextFileReader\u001b[0m\u001b[1;33m(\u001b[0m\u001b[0mfilepath_or_buffer\u001b[0m\u001b[1;33m,\u001b[0m \u001b[1;33m**\u001b[0m\u001b[0mkwds\u001b[0m\u001b[1;33m)\u001b[0m\u001b[1;33m\u001b[0m\u001b[0m\n\u001b[0m\u001b[1;32m    390\u001b[0m \u001b[1;33m\u001b[0m\u001b[0m\n\u001b[1;32m    391\u001b[0m     \u001b[1;32mif\u001b[0m \u001b[1;33m(\u001b[0m\u001b[0mnrows\u001b[0m \u001b[1;32mis\u001b[0m \u001b[1;32mnot\u001b[0m \u001b[1;32mNone\u001b[0m\u001b[1;33m)\u001b[0m \u001b[1;32mand\u001b[0m \u001b[1;33m(\u001b[0m\u001b[0mchunksize\u001b[0m \u001b[1;32mis\u001b[0m \u001b[1;32mnot\u001b[0m \u001b[1;32mNone\u001b[0m\u001b[1;33m)\u001b[0m\u001b[1;33m:\u001b[0m\u001b[1;33m\u001b[0m\u001b[0m\n",
      "\u001b[0;32mC:\\Anaconda\\lib\\site-packages\\pandas\\io\\parsers.py\u001b[0m in \u001b[0;36m__init__\u001b[0;34m(self, f, engine, **kwds)\u001b[0m\n\u001b[1;32m    728\u001b[0m             \u001b[0mself\u001b[0m\u001b[1;33m.\u001b[0m\u001b[0moptions\u001b[0m\u001b[1;33m[\u001b[0m\u001b[1;34m'has_index_names'\u001b[0m\u001b[1;33m]\u001b[0m \u001b[1;33m=\u001b[0m \u001b[0mkwds\u001b[0m\u001b[1;33m[\u001b[0m\u001b[1;34m'has_index_names'\u001b[0m\u001b[1;33m]\u001b[0m\u001b[1;33m\u001b[0m\u001b[0m\n\u001b[1;32m    729\u001b[0m \u001b[1;33m\u001b[0m\u001b[0m\n\u001b[0;32m--> 730\u001b[0;31m         \u001b[0mself\u001b[0m\u001b[1;33m.\u001b[0m\u001b[0m_make_engine\u001b[0m\u001b[1;33m(\u001b[0m\u001b[0mself\u001b[0m\u001b[1;33m.\u001b[0m\u001b[0mengine\u001b[0m\u001b[1;33m)\u001b[0m\u001b[1;33m\u001b[0m\u001b[0m\n\u001b[0m\u001b[1;32m    731\u001b[0m \u001b[1;33m\u001b[0m\u001b[0m\n\u001b[1;32m    732\u001b[0m     \u001b[1;32mdef\u001b[0m \u001b[0mclose\u001b[0m\u001b[1;33m(\u001b[0m\u001b[0mself\u001b[0m\u001b[1;33m)\u001b[0m\u001b[1;33m:\u001b[0m\u001b[1;33m\u001b[0m\u001b[0m\n",
      "\u001b[0;32mC:\\Anaconda\\lib\\site-packages\\pandas\\io\\parsers.py\u001b[0m in \u001b[0;36m_make_engine\u001b[0;34m(self, engine)\u001b[0m\n\u001b[1;32m    921\u001b[0m     \u001b[1;32mdef\u001b[0m \u001b[0m_make_engine\u001b[0m\u001b[1;33m(\u001b[0m\u001b[0mself\u001b[0m\u001b[1;33m,\u001b[0m \u001b[0mengine\u001b[0m\u001b[1;33m=\u001b[0m\u001b[1;34m'c'\u001b[0m\u001b[1;33m)\u001b[0m\u001b[1;33m:\u001b[0m\u001b[1;33m\u001b[0m\u001b[0m\n\u001b[1;32m    922\u001b[0m         \u001b[1;32mif\u001b[0m \u001b[0mengine\u001b[0m \u001b[1;33m==\u001b[0m \u001b[1;34m'c'\u001b[0m\u001b[1;33m:\u001b[0m\u001b[1;33m\u001b[0m\u001b[0m\n\u001b[0;32m--> 923\u001b[0;31m             \u001b[0mself\u001b[0m\u001b[1;33m.\u001b[0m\u001b[0m_engine\u001b[0m \u001b[1;33m=\u001b[0m \u001b[0mCParserWrapper\u001b[0m\u001b[1;33m(\u001b[0m\u001b[0mself\u001b[0m\u001b[1;33m.\u001b[0m\u001b[0mf\u001b[0m\u001b[1;33m,\u001b[0m \u001b[1;33m**\u001b[0m\u001b[0mself\u001b[0m\u001b[1;33m.\u001b[0m\u001b[0moptions\u001b[0m\u001b[1;33m)\u001b[0m\u001b[1;33m\u001b[0m\u001b[0m\n\u001b[0m\u001b[1;32m    924\u001b[0m         \u001b[1;32melse\u001b[0m\u001b[1;33m:\u001b[0m\u001b[1;33m\u001b[0m\u001b[0m\n\u001b[1;32m    925\u001b[0m             \u001b[1;32mif\u001b[0m \u001b[0mengine\u001b[0m \u001b[1;33m==\u001b[0m \u001b[1;34m'python'\u001b[0m\u001b[1;33m:\u001b[0m\u001b[1;33m\u001b[0m\u001b[0m\n",
      "\u001b[0;32mC:\\Anaconda\\lib\\site-packages\\pandas\\io\\parsers.py\u001b[0m in \u001b[0;36m__init__\u001b[0;34m(self, src, **kwds)\u001b[0m\n\u001b[1;32m   1388\u001b[0m         \u001b[0mkwds\u001b[0m\u001b[1;33m[\u001b[0m\u001b[1;34m'allow_leading_cols'\u001b[0m\u001b[1;33m]\u001b[0m \u001b[1;33m=\u001b[0m \u001b[0mself\u001b[0m\u001b[1;33m.\u001b[0m\u001b[0mindex_col\u001b[0m \u001b[1;32mis\u001b[0m \u001b[1;32mnot\u001b[0m \u001b[1;32mFalse\u001b[0m\u001b[1;33m\u001b[0m\u001b[0m\n\u001b[1;32m   1389\u001b[0m \u001b[1;33m\u001b[0m\u001b[0m\n\u001b[0;32m-> 1390\u001b[0;31m         \u001b[0mself\u001b[0m\u001b[1;33m.\u001b[0m\u001b[0m_reader\u001b[0m \u001b[1;33m=\u001b[0m \u001b[0m_parser\u001b[0m\u001b[1;33m.\u001b[0m\u001b[0mTextReader\u001b[0m\u001b[1;33m(\u001b[0m\u001b[0msrc\u001b[0m\u001b[1;33m,\u001b[0m \u001b[1;33m**\u001b[0m\u001b[0mkwds\u001b[0m\u001b[1;33m)\u001b[0m\u001b[1;33m\u001b[0m\u001b[0m\n\u001b[0m\u001b[1;32m   1391\u001b[0m \u001b[1;33m\u001b[0m\u001b[0m\n\u001b[1;32m   1392\u001b[0m         \u001b[1;31m# XXX\u001b[0m\u001b[1;33m\u001b[0m\u001b[1;33m\u001b[0m\u001b[0m\n",
      "\u001b[0;32mpandas\\parser.pyx\u001b[0m in \u001b[0;36mpandas.parser.TextReader.__cinit__ (pandas\\parser.c:4184)\u001b[0;34m()\u001b[0m\n",
      "\u001b[0;32mpandas\\parser.pyx\u001b[0m in \u001b[0;36mpandas.parser.TextReader._setup_parser_source (pandas\\parser.c:8449)\u001b[0;34m()\u001b[0m\n",
      "\u001b[0;31mFileNotFoundError\u001b[0m: File b'E:\\\\Transit-Casa-Alex\\\\Output\\\\Buffers\\\\Tenth\\\\Competing Treansit Buffers/Competing_Transit_Buffers.csv' does not exist"
     ]
    }
   ],
   "source": [
    "trans = pd.read_csv('E:\\Transit-Casa-Alex\\Output\\Buffers\\Tenth\\Competing Treansit Buffers/Competing_Transit_Buffers.csv')"
>>>>>>> 6e43ba4dca69e340b79d1a3d9b929f6bae11c8f8
   ]
  },
  {
   "cell_type": "code",
<<<<<<< HEAD
   "execution_count": 23,
   "metadata": {
    "collapsed": true
   },
   "outputs": [],
   "source": [
    "buffers = gp.read_file('E:/Transit-Casa-Alex/Output/Buffers/Tenth/Buffers/Buffers_Tenth_GCS.shp')"
=======
   "execution_count": null,
   "metadata": {
    "collapsed": false
   },
   "outputs": [],
   "source": [
    "trans = gp.r('E:/Transit-Casa-Alex/Output/Buffers/Tenth/Competing Treansit Buffers/Competing_Transit_Buffers.shp',driver = 'ESRI Shapefile')"
   ]
  },
  {
   "cell_type": "code",
   "execution_count": 3,
   "metadata": {
    "collapsed": false
   },
   "outputs": [
    {
     "name": "stdout",
     "output_type": "stream",
     "text": [
      "<class 'pandas.core.frame.DataFrame'>\n",
      "RangeIndex: 76 entries, 0 to 75\n",
      "Data columns (total 7 columns):\n",
      "Unnamed: 0      76 non-null int64\n",
      "FROMS_BART      76 non-null int64\n",
      "OFF_CALTRAIN    76 non-null int64\n",
      "ON_CALTRAIN     76 non-null int64\n",
      "STOP_ID         76 non-null int64\n",
      "TOS_BART        76 non-null int64\n",
      "geometry        76 non-null object\n",
      "dtypes: int64(6), object(1)\n",
      "memory usage: 4.2+ KB\n"
     ]
    }
   ],
   "source": [
    "trans.info()"
>>>>>>> 6e43ba4dca69e340b79d1a3d9b929f6bae11c8f8
   ]
  },
  {
   "cell_type": "code",
<<<<<<< HEAD
   "execution_count": 24,
=======
   "execution_count": 4,
>>>>>>> 6e43ba4dca69e340b79d1a3d9b929f6bae11c8f8
   "metadata": {
    "collapsed": false
   },
   "outputs": [
    {
     "data": {
      "text/html": [
       "<div>\n",
       "<table border=\"1\" class=\"dataframe\">\n",
       "  <thead>\n",
       "    <tr style=\"text-align: right;\">\n",
       "      <th></th>\n",
<<<<<<< HEAD
       "      <th>STOP_ID</th>\n",
       "      <th>STOP_LAT</th>\n",
       "      <th>STOP_LON</th>\n",
=======
       "      <th>Unnamed: 0</th>\n",
       "      <th>FROMS_BART</th>\n",
       "      <th>OFF_CALTRAIN</th>\n",
       "      <th>ON_CALTRAIN</th>\n",
       "      <th>STOP_ID</th>\n",
       "      <th>TOS_BART</th>\n",
>>>>>>> 6e43ba4dca69e340b79d1a3d9b929f6bae11c8f8
       "      <th>geometry</th>\n",
       "    </tr>\n",
       "  </thead>\n",
       "  <tbody>\n",
       "    <tr>\n",
       "      <th>0</th>\n",
<<<<<<< HEAD
       "      <td>390</td>\n",
       "      <td>37.721190</td>\n",
       "      <td>-122.475096</td>\n",
       "      <td>POLYGON ((-122.4732708739641 37.72122058726108...</td>\n",
       "    </tr>\n",
       "    <tr>\n",
       "      <th>1</th>\n",
       "      <td>392</td>\n",
       "      <td>37.765159</td>\n",
       "      <td>-122.477210</td>\n",
       "      <td>POLYGON ((-122.475383794672 37.7651896197756, ...</td>\n",
       "    </tr>\n",
       "    <tr>\n",
       "      <th>2</th>\n",
       "      <td>660</td>\n",
       "      <td>37.723914</td>\n",
       "      <td>-122.435387</td>\n",
       "      <td>POLYGON ((-122.4335617909149 37.72394397209937...</td>\n",
       "    </tr>\n",
       "    <tr>\n",
       "      <th>3</th>\n",
       "      <td>913</td>\n",
       "      <td>37.719192</td>\n",
       "      <td>-122.425802</td>\n",
       "      <td>POLYGON ((-122.4239769029978 37.71922182363711...</td>\n",
       "    </tr>\n",
       "    <tr>\n",
       "      <th>4</th>\n",
       "      <td>3001</td>\n",
       "      <td>37.788530</td>\n",
       "      <td>-122.396044</td>\n",
       "      <td>POLYGON ((-122.3942171872453 37.7885593622781,...</td>\n",
=======
       "      <td>14</td>\n",
       "      <td>13045</td>\n",
       "      <td>0</td>\n",
       "      <td>0</td>\n",
       "      <td>3012</td>\n",
       "      <td>12502</td>\n",
       "      <td>POLYGON ((-122.4024119870492 37.79044071898017...</td>\n",
       "    </tr>\n",
       "    <tr>\n",
       "      <th>1</th>\n",
       "      <td>15</td>\n",
       "      <td>13045</td>\n",
       "      <td>0</td>\n",
       "      <td>0</td>\n",
       "      <td>3013</td>\n",
       "      <td>12502</td>\n",
       "      <td>POLYGON ((-122.4017559627998 37.78999372938668...</td>\n",
       "    </tr>\n",
       "    <tr>\n",
       "      <th>2</th>\n",
       "      <td>119</td>\n",
       "      <td>15030</td>\n",
       "      <td>0</td>\n",
       "      <td>0</td>\n",
       "      <td>3160</td>\n",
       "      <td>14302</td>\n",
       "      <td>POLYGON ((-122.4052230407347 37.78563288496019...</td>\n",
       "    </tr>\n",
       "    <tr>\n",
       "      <th>3</th>\n",
       "      <td>120</td>\n",
       "      <td>15030</td>\n",
       "      <td>0</td>\n",
       "      <td>0</td>\n",
       "      <td>3161</td>\n",
       "      <td>14302</td>\n",
       "      <td>POLYGON ((-122.4067810997628 37.7869008538221,...</td>\n",
       "    </tr>\n",
       "    <tr>\n",
       "      <th>4</th>\n",
       "      <td>153</td>\n",
       "      <td>21950</td>\n",
       "      <td>0</td>\n",
       "      <td>0</td>\n",
       "      <td>3196</td>\n",
       "      <td>19876</td>\n",
       "      <td>POLYGON ((-122.4135012710483 37.78168305552212...</td>\n",
>>>>>>> 6e43ba4dca69e340b79d1a3d9b929f6bae11c8f8
       "    </tr>\n",
       "  </tbody>\n",
       "</table>\n",
       "</div>"
      ],
      "text/plain": [
<<<<<<< HEAD
       "   STOP_ID   STOP_LAT    STOP_LON  \\\n",
       "0      390  37.721190 -122.475096   \n",
       "1      392  37.765159 -122.477210   \n",
       "2      660  37.723914 -122.435387   \n",
       "3      913  37.719192 -122.425802   \n",
       "4     3001  37.788530 -122.396044   \n",
       "\n",
       "                                            geometry  \n",
       "0  POLYGON ((-122.4732708739641 37.72122058726108...  \n",
       "1  POLYGON ((-122.475383794672 37.7651896197756, ...  \n",
       "2  POLYGON ((-122.4335617909149 37.72394397209937...  \n",
       "3  POLYGON ((-122.4239769029978 37.71922182363711...  \n",
       "4  POLYGON ((-122.3942171872453 37.7885593622781,...  "
      ]
     },
     "execution_count": 24,
=======
       "   Unnamed: 0  FROMS_BART  OFF_CALTRAIN  ON_CALTRAIN  STOP_ID  TOS_BART  \\\n",
       "0          14       13045             0            0     3012     12502   \n",
       "1          15       13045             0            0     3013     12502   \n",
       "2         119       15030             0            0     3160     14302   \n",
       "3         120       15030             0            0     3161     14302   \n",
       "4         153       21950             0            0     3196     19876   \n",
       "\n",
       "                                            geometry  \n",
       "0  POLYGON ((-122.4024119870492 37.79044071898017...  \n",
       "1  POLYGON ((-122.4017559627998 37.78999372938668...  \n",
       "2  POLYGON ((-122.4052230407347 37.78563288496019...  \n",
       "3  POLYGON ((-122.4067810997628 37.7869008538221,...  \n",
       "4  POLYGON ((-122.4135012710483 37.78168305552212...  "
      ]
     },
     "execution_count": 4,
>>>>>>> 6e43ba4dca69e340b79d1a3d9b929f6bae11c8f8
     "metadata": {},
     "output_type": "execute_result"
    }
   ],
   "source": [
<<<<<<< HEAD
    "buffers.head()"
=======
    "trans.head()"
>>>>>>> 6e43ba4dca69e340b79d1a3d9b929f6bae11c8f8
   ]
  },
  {
   "cell_type": "code",
<<<<<<< HEAD
   "execution_count": 25,
=======
   "execution_count": 9,
>>>>>>> 6e43ba4dca69e340b79d1a3d9b929f6bae11c8f8
   "metadata": {
    "collapsed": false
   },
   "outputs": [
    {
     "data": {
      "text/plain": [
<<<<<<< HEAD
       "{'init': 'epsg:4269'}"
      ]
     },
     "execution_count": 25,
=======
       "array([0], dtype=int64)"
      ]
     },
     "execution_count": 9,
>>>>>>> 6e43ba4dca69e340b79d1a3d9b929f6bae11c8f8
     "metadata": {},
     "output_type": "execute_result"
    }
   ],
<<<<<<< HEAD
   "source": [
    "buffers.crs"
=======
   "source": []
  },
  {
   "cell_type": "code",
   "execution_count": 6,
   "metadata": {
    "collapsed": false
   },
   "outputs": [],
   "source": [
    "trans2 = trans[trans['FROMS_BART'] > 0 | (trans['ON_CALTRAIN'] > 0)] "
>>>>>>> 6e43ba4dca69e340b79d1a3d9b929f6bae11c8f8
   ]
  },
  {
   "cell_type": "code",
<<<<<<< HEAD
   "execution_count": 26,
=======
   "execution_count": 7,
>>>>>>> 6e43ba4dca69e340b79d1a3d9b929f6bae11c8f8
   "metadata": {
    "collapsed": false
   },
   "outputs": [
    {
     "data": {
      "text/html": [
       "<div>\n",
       "<table border=\"1\" class=\"dataframe\">\n",
       "  <thead>\n",
       "    <tr style=\"text-align: right;\">\n",
       "      <th></th>\n",
       "      <th>Unnamed: 0</th>\n",
<<<<<<< HEAD
       "      <th>Station</th>\n",
       "      <th>Froms</th>\n",
       "      <th>Tos</th>\n",
       "      <th>CO</th>\n",
       "      <th>STATION</th>\n",
=======
       "      <th>FROMS_BART</th>\n",
       "      <th>OFF_CALTRAIN</th>\n",
       "      <th>ON_CALTRAIN</th>\n",
       "      <th>STOP_ID</th>\n",
       "      <th>TOS_BART</th>\n",
       "      <th>geometry</th>\n",
>>>>>>> 6e43ba4dca69e340b79d1a3d9b929f6bae11c8f8
       "    </tr>\n",
       "  </thead>\n",
       "  <tbody>\n",
       "    <tr>\n",
       "      <th>0</th>\n",
<<<<<<< HEAD
       "      <td>0</td>\n",
       "      <td>16</td>\n",
       "      <td>10,964</td>\n",
       "      <td>11,051</td>\n",
       "      <td>SF</td>\n",
       "      <td>16TH STREET &amp; MISSION</td>\n",
       "    </tr>\n",
       "    <tr>\n",
       "      <th>1</th>\n",
       "      <td>1</td>\n",
       "      <td>24</td>\n",
       "      <td>12,739</td>\n",
       "      <td>12,174</td>\n",
       "      <td>SF</td>\n",
       "      <td>24TH STREET &amp; MISSION</td>\n",
       "    </tr>\n",
       "    <tr>\n",
       "      <th>2</th>\n",
       "      <td>2</td>\n",
       "      <td>BP</td>\n",
       "      <td>14,223</td>\n",
       "      <td>13,493</td>\n",
       "      <td>SF</td>\n",
       "      <td>BALBOA PARK</td>\n",
       "    </tr>\n",
       "    <tr>\n",
       "      <th>3</th>\n",
       "      <td>3</td>\n",
       "      <td>CC</td>\n",
       "      <td>21,154</td>\n",
       "      <td>19,168</td>\n",
       "      <td>SF</td>\n",
       "      <td>CIVIC CENTER/ UN PLAZA</td>\n",
       "    </tr>\n",
       "    <tr>\n",
       "      <th>4</th>\n",
       "      <td>4</td>\n",
       "      <td>DC</td>\n",
       "      <td>7,961</td>\n",
       "      <td>8,044</td>\n",
       "      <td>SF</td>\n",
       "      <td>DALY CITY</td>\n",
=======
       "      <td>14</td>\n",
       "      <td>13045</td>\n",
       "      <td>0</td>\n",
       "      <td>0</td>\n",
       "      <td>3012</td>\n",
       "      <td>12502</td>\n",
       "      <td>POLYGON ((-122.4024119870492 37.79044071898017...</td>\n",
       "    </tr>\n",
       "    <tr>\n",
       "      <th>1</th>\n",
       "      <td>15</td>\n",
       "      <td>13045</td>\n",
       "      <td>0</td>\n",
       "      <td>0</td>\n",
       "      <td>3013</td>\n",
       "      <td>12502</td>\n",
       "      <td>POLYGON ((-122.4017559627998 37.78999372938668...</td>\n",
       "    </tr>\n",
       "    <tr>\n",
       "      <th>2</th>\n",
       "      <td>119</td>\n",
       "      <td>15030</td>\n",
       "      <td>0</td>\n",
       "      <td>0</td>\n",
       "      <td>3160</td>\n",
       "      <td>14302</td>\n",
       "      <td>POLYGON ((-122.4052230407347 37.78563288496019...</td>\n",
       "    </tr>\n",
       "    <tr>\n",
       "      <th>3</th>\n",
       "      <td>120</td>\n",
       "      <td>15030</td>\n",
       "      <td>0</td>\n",
       "      <td>0</td>\n",
       "      <td>3161</td>\n",
       "      <td>14302</td>\n",
       "      <td>POLYGON ((-122.4067810997628 37.7869008538221,...</td>\n",
       "    </tr>\n",
       "    <tr>\n",
       "      <th>4</th>\n",
       "      <td>153</td>\n",
       "      <td>21950</td>\n",
       "      <td>0</td>\n",
       "      <td>0</td>\n",
       "      <td>3196</td>\n",
       "      <td>19876</td>\n",
       "      <td>POLYGON ((-122.4135012710483 37.78168305552212...</td>\n",
>>>>>>> 6e43ba4dca69e340b79d1a3d9b929f6bae11c8f8
       "    </tr>\n",
       "  </tbody>\n",
       "</table>\n",
       "</div>"
      ],
      "text/plain": [
<<<<<<< HEAD
       "   Unnamed: 0 Station   Froms     Tos  CO                 STATION\n",
       "0           0      16  10,964  11,051  SF   16TH STREET & MISSION\n",
       "1           1      24  12,739  12,174  SF   24TH STREET & MISSION\n",
       "2           2      BP  14,223  13,493  SF             BALBOA PARK\n",
       "3           3      CC  21,154  19,168  SF  CIVIC CENTER/ UN PLAZA\n",
       "4           4      DC   7,961   8,044  SF               DALY CITY"
      ]
     },
     "execution_count": 26,
=======
       "   Unnamed: 0  FROMS_BART  OFF_CALTRAIN  ON_CALTRAIN  STOP_ID  TOS_BART  \\\n",
       "0          14       13045             0            0     3012     12502   \n",
       "1          15       13045             0            0     3013     12502   \n",
       "2         119       15030             0            0     3160     14302   \n",
       "3         120       15030             0            0     3161     14302   \n",
       "4         153       21950             0            0     3196     19876   \n",
       "\n",
       "                                            geometry  \n",
       "0  POLYGON ((-122.4024119870492 37.79044071898017...  \n",
       "1  POLYGON ((-122.4017559627998 37.78999372938668...  \n",
       "2  POLYGON ((-122.4052230407347 37.78563288496019...  \n",
       "3  POLYGON ((-122.4067810997628 37.7869008538221,...  \n",
       "4  POLYGON ((-122.4135012710483 37.78168305552212...  "
      ]
     },
     "execution_count": 7,
>>>>>>> 6e43ba4dca69e340b79d1a3d9b929f6bae11c8f8
     "metadata": {},
     "output_type": "execute_result"
    }
   ],
   "source": [
<<<<<<< HEAD
    "bart09.head()"
=======
    "trans2.head()"
>>>>>>> 6e43ba4dca69e340b79d1a3d9b929f6bae11c8f8
   ]
  },
  {
   "cell_type": "code",
<<<<<<< HEAD
   "execution_count": 27,
=======
   "execution_count": 8,
>>>>>>> 6e43ba4dca69e340b79d1a3d9b929f6bae11c8f8
   "metadata": {
    "collapsed": false
   },
   "outputs": [
    {
     "data": {
      "text/plain": [
<<<<<<< HEAD
       "Index(['Unnamed: 0', 'Station', 'Froms', 'Tos', 'CO', 'STATION'], dtype='object')"
      ]
     },
     "execution_count": 27,
=======
       "array([0], dtype=int64)"
      ]
     },
     "execution_count": 8,
>>>>>>> 6e43ba4dca69e340b79d1a3d9b929f6bae11c8f8
     "metadata": {},
     "output_type": "execute_result"
    }
   ],
   "source": [
<<<<<<< HEAD
    "bart09.columns"
=======
    "trans2.ON_CALTRAIN.unique()"
>>>>>>> 6e43ba4dca69e340b79d1a3d9b929f6bae11c8f8
   ]
  },
  {
   "cell_type": "code",
<<<<<<< HEAD
   "execution_count": null,
   "metadata": {
    "collapsed": true
   },
   "outputs": [],
   "source": []
  },
  {
   "cell_type": "code",
   "execution_count": 28,
   "metadata": {
    "collapsed": true
   },
   "outputs": [],
   "source": [
    "bart_sta = gp.read_file('E:/Transit-Casa-Alex/Output/BART/SF-SM_BART_Stations.shp')"
=======
   "execution_count": 79,
   "metadata": {
    "collapsed": false
   },
   "outputs": [],
   "source": [
    "drop = ['ADDRESS', 'AIRPORT', 'BUFF_DIST', 'BUS_ROUTES', 'CO', 'CODE',\n",
    "       'COMM_NETWO', 'COMM_OP', 'CO_1', 'DIST', 'DIST_1', 'FROMS_1',\n",
    "       'INTERMODAL', 'Join_Cou_1', 'Join_Count', 'LOCATION',\n",
    "       'OPERATOR', 'ORIG_FID', 'PASS_NETWO', 'PASS_OP', 'Ridership',\n",
    "       'STATION_1', 'STATION_12', 'STATION_TY', 'STOP_LAT',\n",
    "       'STOP_LON', 'Station', 'TARGET_FID', 'TARGET_F_1', 'TRANSIT',\n",
    "       'TO', 'ZIP']"
   ]
  },
  {
   "cell_type": "code",
   "execution_count": 83,
   "metadata": {
    "collapsed": false
   },
   "outputs": [],
   "source": [
    "for column in drop:\n",
    "    trans = trans.drop(column,axis =1)"
>>>>>>> 6e43ba4dca69e340b79d1a3d9b929f6bae11c8f8
   ]
  },
  {
   "cell_type": "code",
<<<<<<< HEAD
   "execution_count": 29,
=======
   "execution_count": 85,
>>>>>>> 6e43ba4dca69e340b79d1a3d9b929f6bae11c8f8
   "metadata": {
    "collapsed": false
   },
   "outputs": [
    {
     "data": {
      "text/html": [
       "<div>\n",
       "<table border=\"1\" class=\"dataframe\">\n",
       "  <thead>\n",
       "    <tr style=\"text-align: right;\">\n",
       "      <th></th>\n",
<<<<<<< HEAD
       "      <th>CO</th>\n",
       "      <th>DIST</th>\n",
       "      <th>OPERATOR</th>\n",
       "      <th>STATION</th>\n",
=======
       "      <th>Froms</th>\n",
       "      <th>OFF</th>\n",
       "      <th>ON</th>\n",
       "      <th>STOP_ID</th>\n",
       "      <th>Tos</th>\n",
>>>>>>> 6e43ba4dca69e340b79d1a3d9b929f6bae11c8f8
       "      <th>geometry</th>\n",
       "    </tr>\n",
       "  </thead>\n",
       "  <tbody>\n",
       "    <tr>\n",
       "      <th>0</th>\n",
<<<<<<< HEAD
       "      <td>SF</td>\n",
       "      <td>4</td>\n",
       "      <td>BART</td>\n",
       "      <td>EMBARCADERO</td>\n",
       "      <td>POINT (-122.396033220569 37.79322220278397)</td>\n",
       "    </tr>\n",
       "    <tr>\n",
       "      <th>1</th>\n",
       "      <td>SF</td>\n",
       "      <td>4</td>\n",
       "      <td>BART</td>\n",
       "      <td>MONTGOMERY STREET</td>\n",
       "      <td>POINT (-122.4015398362278 37.78888642284969)</td>\n",
       "    </tr>\n",
       "    <tr>\n",
       "      <th>2</th>\n",
       "      <td>SF</td>\n",
       "      <td>4</td>\n",
       "      <td>BART</td>\n",
       "      <td>POWELL STREET</td>\n",
       "      <td>POINT (-122.4068235887763 37.78476966169613)</td>\n",
       "    </tr>\n",
       "    <tr>\n",
       "      <th>3</th>\n",
       "      <td>SF</td>\n",
       "      <td>4</td>\n",
       "      <td>BART</td>\n",
       "      <td>CIVIC CENTER/ UN PLAZA</td>\n",
       "      <td>POINT (-122.4141845304435 37.77896496103885)</td>\n",
       "    </tr>\n",
       "    <tr>\n",
       "      <th>4</th>\n",
       "      <td>SF</td>\n",
       "      <td>4</td>\n",
       "      <td>BART</td>\n",
       "      <td>16TH STREET &amp; MISSION</td>\n",
       "      <td>POINT (-122.4194566417886 37.76468721127412)</td>\n",
=======
       "      <td>0</td>\n",
       "      <td>0</td>\n",
       "      <td>0</td>\n",
       "      <td>390</td>\n",
       "      <td>0</td>\n",
       "      <td>POLYGON ((-122.4762044957765 37.72256659330341...</td>\n",
       "    </tr>\n",
       "    <tr>\n",
       "      <th>1</th>\n",
       "      <td>0</td>\n",
       "      <td>0</td>\n",
       "      <td>0</td>\n",
       "      <td>392</td>\n",
       "      <td>0</td>\n",
       "      <td>POLYGON ((-122.478318121487 37.76653392304563,...</td>\n",
       "    </tr>\n",
       "    <tr>\n",
       "      <th>2</th>\n",
       "      <td>0</td>\n",
       "      <td>0</td>\n",
       "      <td>0</td>\n",
       "      <td>660</td>\n",
       "      <td>0</td>\n",
       "      <td>POLYGON ((-122.4364941099191 37.72529018218376...</td>\n",
       "    </tr>\n",
       "    <tr>\n",
       "      <th>3</th>\n",
       "      <td>0</td>\n",
       "      <td>0</td>\n",
       "      <td>0</td>\n",
       "      <td>913</td>\n",
       "      <td>0</td>\n",
       "      <td>POLYGON ((-122.4269088640789 37.72056829546914...</td>\n",
       "    </tr>\n",
       "    <tr>\n",
       "      <th>4</th>\n",
       "      <td>0</td>\n",
       "      <td>0</td>\n",
       "      <td>0</td>\n",
       "      <td>3001</td>\n",
       "      <td>0</td>\n",
       "      <td>POLYGON ((-122.3971498149807 37.78990370709575...</td>\n",
>>>>>>> 6e43ba4dca69e340b79d1a3d9b929f6bae11c8f8
       "    </tr>\n",
       "  </tbody>\n",
       "</table>\n",
       "</div>"
      ],
      "text/plain": [
<<<<<<< HEAD
       "   CO  DIST OPERATOR                 STATION  \\\n",
       "0  SF     4     BART             EMBARCADERO   \n",
       "1  SF     4     BART       MONTGOMERY STREET   \n",
       "2  SF     4     BART           POWELL STREET   \n",
       "3  SF     4     BART  CIVIC CENTER/ UN PLAZA   \n",
       "4  SF     4     BART   16TH STREET & MISSION   \n",
       "\n",
       "                                       geometry  \n",
       "0   POINT (-122.396033220569 37.79322220278397)  \n",
       "1  POINT (-122.4015398362278 37.78888642284969)  \n",
       "2  POINT (-122.4068235887763 37.78476966169613)  \n",
       "3  POINT (-122.4141845304435 37.77896496103885)  \n",
       "4  POINT (-122.4194566417886 37.76468721127412)  "
      ]
     },
     "execution_count": 29,
     "metadata": {},
     "output_type": "execute_result"
    }
   ],
   "source": [
    "bart_sta.head()"
   ]
  },
  {
   "cell_type": "code",
   "execution_count": 36,
   "metadata": {
    "collapsed": false
   },
   "outputs": [],
   "source": [
    "bart = pd.merge(bart_sta[['STATION','geometry']],bart09[['Froms','Tos','Station','STATION']],how = 'left',on = 'STATION')"
   ]
  },
  {
   "cell_type": "code",
   "execution_count": 53,
   "metadata": {
    "collapsed": false
   },
   "outputs": [],
   "source": [
    "bart = gp.GeoDataFrame(bart, geometry = 'geometry',crs = buffers.crs)"
   ]
  },
  {
   "cell_type": "code",
   "execution_count": 54,
   "metadata": {
    "collapsed": false
   },
   "outputs": [
    {
     "data": {
      "text/plain": [
       "{'init': 'epsg:4269'}"
      ]
     },
     "execution_count": 54,
     "metadata": {},
     "output_type": "execute_result"
    }
   ],
   "source": [
    "bart.crs"
   ]
  },
  {
   "cell_type": "code",
   "execution_count": 37,
   "metadata": {
    "collapsed": false
   },
   "outputs": [
    {
     "data": {
      "text/plain": [
       "<matplotlib.axes._subplots.AxesSubplot at 0x1f385b43d30>"
      ]
     },
     "execution_count": 37,
     "metadata": {},
     "output_type": "execute_result"
    },
    {
     "data": {
      "image/png": "iVBORw0KGgoAAAANSUhEUgAAAO0AAAD8CAYAAACbxyOxAAAABHNCSVQICAgIfAhkiAAAAAlwSFlz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\nLBmH1iwZh9YsGYfWLBmH1iyZ/wd4EoclIbMSEwAAAABJRU5ErkJggg==\n",
      "text/plain": [
       "<matplotlib.figure.Figure at 0x1f385b35898>"
      ]
     },
     "metadata": {},
     "output_type": "display_data"
    }
   ],
   "source": [
    "bart.plot()"
=======
       "   Froms  OFF  ON  STOP_ID  Tos  \\\n",
       "0      0    0   0      390    0   \n",
       "1      0    0   0      392    0   \n",
       "2      0    0   0      660    0   \n",
       "3      0    0   0      913    0   \n",
       "4      0    0   0     3001    0   \n",
       "\n",
       "                                            geometry  \n",
       "0  POLYGON ((-122.4762044957765 37.72256659330341...  \n",
       "1  POLYGON ((-122.478318121487 37.76653392304563,...  \n",
       "2  POLYGON ((-122.4364941099191 37.72529018218376...  \n",
       "3  POLYGON ((-122.4269088640789 37.72056829546914...  \n",
       "4  POLYGON ((-122.3971498149807 37.78990370709575...  "
      ]
     },
     "execution_count": 85,
     "metadata": {},
     "output_type": "execute_result"
    }
   ],
   "source": [
    "trans.head()"
>>>>>>> 6e43ba4dca69e340b79d1a3d9b929f6bae11c8f8
   ]
  },
  {
   "cell_type": "code",
<<<<<<< HEAD
   "execution_count": 38,
=======
   "execution_count": null,
>>>>>>> 6e43ba4dca69e340b79d1a3d9b929f6bae11c8f8
   "metadata": {
    "collapsed": false
   },
   "outputs": [],
<<<<<<< HEAD
   "source": [
    "joined = gp.sjoin(buffers[['STOP_ID','geometry']],bart[['Froms','Tos','geometry']],how = 'left')"
   ]
  },
  {
   "cell_type": "code",
   "execution_count": 33,
   "metadata": {
    "collapsed": false
   },
   "outputs": [
    {
     "ename": "AttributeError",
     "evalue": "'GeoDataFrame' object has no attribute 'Froms'",
     "output_type": "error",
     "traceback": [
      "\u001b[0;31m---------------------------------------------------------------------------\u001b[0m",
      "\u001b[0;31mAttributeError\u001b[0m                            Traceback (most recent call last)",
      "\u001b[0;32m<ipython-input-33-40822ebe7a86>\u001b[0m in \u001b[0;36m<module>\u001b[0;34m()\u001b[0m\n\u001b[0;32m----> 1\u001b[0;31m \u001b[0mjoined\u001b[0m\u001b[1;33m.\u001b[0m\u001b[0mFroms\u001b[0m\u001b[1;33m.\u001b[0m\u001b[0munique\u001b[0m\u001b[1;33m(\u001b[0m\u001b[1;33m)\u001b[0m\u001b[1;33m\u001b[0m\u001b[0m\n\u001b[0m",
      "\u001b[0;32mC:\\Anaconda\\lib\\site-packages\\pandas\\core\\generic.py\u001b[0m in \u001b[0;36m__getattr__\u001b[0;34m(self, name)\u001b[0m\n\u001b[1;32m   2742\u001b[0m             \u001b[1;32mif\u001b[0m \u001b[0mname\u001b[0m \u001b[1;32min\u001b[0m \u001b[0mself\u001b[0m\u001b[1;33m.\u001b[0m\u001b[0m_info_axis\u001b[0m\u001b[1;33m:\u001b[0m\u001b[1;33m\u001b[0m\u001b[0m\n\u001b[1;32m   2743\u001b[0m                 \u001b[1;32mreturn\u001b[0m \u001b[0mself\u001b[0m\u001b[1;33m[\u001b[0m\u001b[0mname\u001b[0m\u001b[1;33m]\u001b[0m\u001b[1;33m\u001b[0m\u001b[0m\n\u001b[0;32m-> 2744\u001b[0;31m             \u001b[1;32mreturn\u001b[0m \u001b[0mobject\u001b[0m\u001b[1;33m.\u001b[0m\u001b[0m__getattribute__\u001b[0m\u001b[1;33m(\u001b[0m\u001b[0mself\u001b[0m\u001b[1;33m,\u001b[0m \u001b[0mname\u001b[0m\u001b[1;33m)\u001b[0m\u001b[1;33m\u001b[0m\u001b[0m\n\u001b[0m\u001b[1;32m   2745\u001b[0m \u001b[1;33m\u001b[0m\u001b[0m\n\u001b[1;32m   2746\u001b[0m     \u001b[1;32mdef\u001b[0m \u001b[0m__setattr__\u001b[0m\u001b[1;33m(\u001b[0m\u001b[0mself\u001b[0m\u001b[1;33m,\u001b[0m \u001b[0mname\u001b[0m\u001b[1;33m,\u001b[0m \u001b[0mvalue\u001b[0m\u001b[1;33m)\u001b[0m\u001b[1;33m:\u001b[0m\u001b[1;33m\u001b[0m\u001b[0m\n",
      "\u001b[0;31mAttributeError\u001b[0m: 'GeoDataFrame' object has no attribute 'Froms'"
     ]
    }
   ],
   "source": [
    "joined.Froms.unique()"
   ]
  },
  {
   "cell_type": "code",
   "execution_count": 90,
=======
   "source": []
  },
  {
   "cell_type": "code",
   "execution_count": 123,
>>>>>>> 6e43ba4dca69e340b79d1a3d9b929f6bae11c8f8
   "metadata": {
    "collapsed": true
   },
   "outputs": [],
   "source": [
<<<<<<< HEAD
    "joined = joined.drop('index_right',axis = 1)"
   ]
  },
  {
   "cell_type": "code",
   "execution_count": 91,
   "metadata": {
    "collapsed": false
   },
   "outputs": [
    {
     "data": {
      "text/plain": [
       "Index(['STOP_ID', 'geometry', 'Froms', 'Tos'], dtype='object')"
      ]
     },
     "execution_count": 91,
     "metadata": {},
     "output_type": "execute_result"
    }
   ],
   "source": [
    "joined.columns"
=======
    "rename = ['FROMS_BART', 'OFF_CALTRAIN', 'ON_CALTRAIN', 'STOP_ID', 'TOS_BART', 'geometry']"
>>>>>>> 6e43ba4dca69e340b79d1a3d9b929f6bae11c8f8
   ]
  },
  {
   "cell_type": "code",
<<<<<<< HEAD
   "execution_count": 93,
   "metadata": {
    "collapsed": false
   },
   "outputs": [],
   "source": [
    "rename = ['STOP_ID', 'geometry', 'BART_FROMS', 'BART_TOS']"
=======
   "execution_count": 124,
   "metadata": {
    "collapsed": true
   },
   "outputs": [],
   "source": [
    "trans2.columns = rename"
>>>>>>> 6e43ba4dca69e340b79d1a3d9b929f6bae11c8f8
   ]
  },
  {
   "cell_type": "code",
<<<<<<< HEAD
   "execution_count": 94,
=======
   "execution_count": 129,
>>>>>>> 6e43ba4dca69e340b79d1a3d9b929f6bae11c8f8
   "metadata": {
    "collapsed": true
   },
   "outputs": [],
   "source": [
<<<<<<< HEAD
    "joined.columns = rename"
=======
    "trans2.to_csv('E:\\Transit-Casa-Alex\\Output\\Buffers\\Tenth\\Competing Treansit Buffers\\Competing_Transit_Buffers.csv')"
>>>>>>> 6e43ba4dca69e340b79d1a3d9b929f6bae11c8f8
   ]
  },
  {
   "cell_type": "code",
<<<<<<< HEAD
   "execution_count": 96,
=======
   "execution_count": 126,
>>>>>>> 6e43ba4dca69e340b79d1a3d9b929f6bae11c8f8
   "metadata": {
    "collapsed": false
   },
   "outputs": [
    {
     "data": {
      "text/plain": [
<<<<<<< HEAD
       "array([nan, '30,116', '30,518', '21,154', '10,964', '12,739', '7,595',\n",
       "       '7,961', '30,691', '14,223'], dtype=object)"
      ]
     },
     "execution_count": 96,
=======
       "{}"
      ]
     },
     "execution_count": 126,
>>>>>>> 6e43ba4dca69e340b79d1a3d9b929f6bae11c8f8
     "metadata": {},
     "output_type": "execute_result"
    }
   ],
   "source": [
<<<<<<< HEAD
    "joined.BART_FROMS.unique()"
=======
    "trans2.crs "
>>>>>>> 6e43ba4dca69e340b79d1a3d9b929f6bae11c8f8
   ]
  },
  {
   "cell_type": "code",
<<<<<<< HEAD
   "execution_count": null,
=======
   "execution_count": 127,
>>>>>>> 6e43ba4dca69e340b79d1a3d9b929f6bae11c8f8
   "metadata": {
    "collapsed": true
   },
   "outputs": [],
<<<<<<< HEAD
   "source": []
  },
  {
   "cell_type": "markdown",
   "metadata": {},
   "source": [
    "# Caltrain Data"
   ]
  },
  {
   "cell_type": "code",
   "execution_count": 11,
   "metadata": {
    "collapsed": false
   },
   "outputs": [],
   "source": [
    "cal = pd.read_csv('E:/Transit-Casa-Alex/Output/CalTrain/2009/CalTrain_Ridership.csv')"
=======
   "source": [
    "trans2.to_file('E:\\Transit-Casa-Alex\\Output\\Buffers\\Tenth\\Competing Treansit Buffers/Competing_Transit_Buffers.shp',driver = 'ESRI Shapefile')"
>>>>>>> 6e43ba4dca69e340b79d1a3d9b929f6bae11c8f8
   ]
  },
  {
   "cell_type": "code",
<<<<<<< HEAD
   "execution_count": 67,
=======
   "execution_count": 128,
>>>>>>> 6e43ba4dca69e340b79d1a3d9b929f6bae11c8f8
   "metadata": {
    "collapsed": false
   },
   "outputs": [
    {
     "data": {
      "text/html": [
       "<div>\n",
       "<table border=\"1\" class=\"dataframe\">\n",
       "  <thead>\n",
       "    <tr style=\"text-align: right;\">\n",
       "      <th></th>\n",
<<<<<<< HEAD
       "      <th>Unnamed: 0</th>\n",
       "      <th>STATION</th>\n",
       "      <th>ON</th>\n",
       "      <th>OFF</th>\n",
=======
       "      <th>FROMS_BART</th>\n",
       "      <th>OFF_CALTRAIN</th>\n",
       "      <th>ON_CALTRAIN</th>\n",
       "      <th>STOP_ID</th>\n",
       "      <th>TOS_BART</th>\n",
       "      <th>geometry</th>\n",
>>>>>>> 6e43ba4dca69e340b79d1a3d9b929f6bae11c8f8
       "    </tr>\n",
       "  </thead>\n",
       "  <tbody>\n",
       "    <tr>\n",
<<<<<<< HEAD
       "      <th>0</th>\n",
       "      <td>0</td>\n",
       "      <td>SAN FRANCISCO</td>\n",
       "      <td>8646</td>\n",
       "      <td>8554</td>\n",
       "    </tr>\n",
       "    <tr>\n",
       "      <th>1</th>\n",
       "      <td>1</td>\n",
       "      <td>22ND ST</td>\n",
       "      <td>927</td>\n",
       "      <td>928</td>\n",
       "    </tr>\n",
       "    <tr>\n",
       "      <th>2</th>\n",
       "      <td>2</td>\n",
       "      <td>BAYSHORE</td>\n",
       "      <td>150</td>\n",
       "      <td>28</td>\n",
=======
       "      <th>14</th>\n",
       "      <td>13045</td>\n",
       "      <td>0</td>\n",
       "      <td>0</td>\n",
       "      <td>3012</td>\n",
       "      <td>12502</td>\n",
       "      <td>POLYGON ((-122.4024119870492 37.79044071898017...</td>\n",
       "    </tr>\n",
       "    <tr>\n",
       "      <th>15</th>\n",
       "      <td>13045</td>\n",
       "      <td>0</td>\n",
       "      <td>0</td>\n",
       "      <td>3013</td>\n",
       "      <td>12502</td>\n",
       "      <td>POLYGON ((-122.4017559627998 37.78999372938668...</td>\n",
       "    </tr>\n",
       "    <tr>\n",
       "      <th>119</th>\n",
       "      <td>15030</td>\n",
       "      <td>0</td>\n",
       "      <td>0</td>\n",
       "      <td>3160</td>\n",
       "      <td>14302</td>\n",
       "      <td>POLYGON ((-122.4052230407347 37.78563288496019...</td>\n",
       "    </tr>\n",
       "    <tr>\n",
       "      <th>120</th>\n",
       "      <td>15030</td>\n",
       "      <td>0</td>\n",
       "      <td>0</td>\n",
       "      <td>3161</td>\n",
       "      <td>14302</td>\n",
       "      <td>POLYGON ((-122.4067810997628 37.7869008538221,...</td>\n",
       "    </tr>\n",
       "    <tr>\n",
       "      <th>153</th>\n",
       "      <td>21950</td>\n",
       "      <td>0</td>\n",
       "      <td>0</td>\n",
       "      <td>3196</td>\n",
       "      <td>19876</td>\n",
       "      <td>POLYGON ((-122.4135012710483 37.78168305552212...</td>\n",
>>>>>>> 6e43ba4dca69e340b79d1a3d9b929f6bae11c8f8
       "    </tr>\n",
       "  </tbody>\n",
       "</table>\n",
       "</div>"
      ],
      "text/plain": [
<<<<<<< HEAD
       "   Unnamed: 0        STATION    ON   OFF\n",
       "0           0  SAN FRANCISCO  8646  8554\n",
       "1           1        22ND ST   927   928\n",
       "2           2       BAYSHORE   150    28"
      ]
     },
     "execution_count": 67,
=======
       "     FROMS_BART  OFF_CALTRAIN  ON_CALTRAIN  STOP_ID  TOS_BART  \\\n",
       "14        13045             0            0     3012     12502   \n",
       "15        13045             0            0     3013     12502   \n",
       "119       15030             0            0     3160     14302   \n",
       "120       15030             0            0     3161     14302   \n",
       "153       21950             0            0     3196     19876   \n",
       "\n",
       "                                              geometry  \n",
       "14   POLYGON ((-122.4024119870492 37.79044071898017...  \n",
       "15   POLYGON ((-122.4017559627998 37.78999372938668...  \n",
       "119  POLYGON ((-122.4052230407347 37.78563288496019...  \n",
       "120  POLYGON ((-122.4067810997628 37.7869008538221,...  \n",
       "153  POLYGON ((-122.4135012710483 37.78168305552212...  "
      ]
     },
     "execution_count": 128,
>>>>>>> 6e43ba4dca69e340b79d1a3d9b929f6bae11c8f8
     "metadata": {},
     "output_type": "execute_result"
    }
   ],
   "source": [
<<<<<<< HEAD
    "cal.head()"
   ]
  },
  {
   "cell_type": "code",
   "execution_count": 12,
   "metadata": {
    "collapsed": true
   },
   "outputs": [],
   "source": [
    "cal_sta = gp.read_file('E:/Transit-Casa-Alex/Output/CalTrain/SF_Caltrain_Stations.shp')"
=======
    "trans2.head()"
>>>>>>> 6e43ba4dca69e340b79d1a3d9b929f6bae11c8f8
   ]
  },
  {
   "cell_type": "code",
<<<<<<< HEAD
   "execution_count": 70,
   "metadata": {
    "collapsed": false
   },
   "outputs": [
    {
     "data": {
      "text/plain": [
       "<matplotlib.axes._subplots.AxesSubplot at 0x24864abfe80>"
      ]
     },
     "execution_count": 70,
     "metadata": {},
     "output_type": "execute_result"
    },
    {
     "data": {
      "image/png": "iVBORw0KGgoAAAANSUhEUgAAAFgAAAEJCAYAAAAQMODSAAAABHNCSVQICAgIfAhkiAAAAAlwSFlz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\nrkJggg==\n",
      "text/plain": [
       "<matplotlib.figure.Figure at 0x24864abff98>"
      ]
     },
     "metadata": {},
     "output_type": "display_data"
    }
   ],
   "source": [
    "cal_sta.plot()"
   ]
  },
  {
   "cell_type": "code",
   "execution_count": 72,
   "metadata": {
    "collapsed": false
   },
   "outputs": [
    {
     "data": {
      "text/html": [
       "<div>\n",
       "<table border=\"1\" class=\"dataframe\">\n",
       "  <thead>\n",
       "    <tr style=\"text-align: right;\">\n",
       "      <th></th>\n",
       "      <th>ADDRESS</th>\n",
       "      <th>AIRPORT</th>\n",
       "      <th>BUS_ROUTES</th>\n",
       "      <th>CO</th>\n",
       "      <th>CODE</th>\n",
       "      <th>COMM_NETWO</th>\n",
       "      <th>COMM_OP</th>\n",
       "      <th>DIST</th>\n",
       "      <th>INTERMODAL</th>\n",
       "      <th>LOCATION</th>\n",
       "      <th>PASS_NETWO</th>\n",
       "      <th>PASS_OP</th>\n",
       "      <th>STATION</th>\n",
       "      <th>STATION_TY</th>\n",
       "      <th>TRANSIT</th>\n",
       "      <th>ZIP</th>\n",
       "      <th>geometry</th>\n",
       "    </tr>\n",
       "  </thead>\n",
       "  <tbody>\n",
       "    <tr>\n",
       "      <th>0</th>\n",
       "      <td>None</td>\n",
       "      <td>None</td>\n",
       "      <td>None</td>\n",
       "      <td>SF</td>\n",
       "      <td>None</td>\n",
       "      <td>Caltrain</td>\n",
       "      <td>PCJPB</td>\n",
       "      <td>4</td>\n",
       "      <td>0</td>\n",
       "      <td>None</td>\n",
       "      <td>None</td>\n",
       "      <td>None</td>\n",
       "      <td>22ND ST</td>\n",
       "      <td>1</td>\n",
       "      <td>None</td>\n",
       "      <td>0</td>\n",
       "      <td>POINT (-122.3927456478836 37.75735785845131)</td>\n",
       "    </tr>\n",
       "    <tr>\n",
       "      <th>1</th>\n",
       "      <td>None</td>\n",
       "      <td>None</td>\n",
       "      <td>None</td>\n",
       "      <td>SF</td>\n",
       "      <td>None</td>\n",
       "      <td>Caltrain</td>\n",
       "      <td>PCJPB</td>\n",
       "      <td>4</td>\n",
       "      <td>0</td>\n",
       "      <td>None</td>\n",
       "      <td>None</td>\n",
       "      <td>None</td>\n",
       "      <td>BAYSHORE</td>\n",
       "      <td>1</td>\n",
       "      <td>None</td>\n",
       "      <td>0</td>\n",
       "      <td>POINT (-122.4013233958286 37.70933591727077)</td>\n",
       "    </tr>\n",
       "    <tr>\n",
       "      <th>2</th>\n",
       "      <td>None</td>\n",
       "      <td>None</td>\n",
       "      <td>None</td>\n",
       "      <td>SF</td>\n",
       "      <td>None</td>\n",
       "      <td>Caltrain</td>\n",
       "      <td>PCJPB</td>\n",
       "      <td>4</td>\n",
       "      <td>0</td>\n",
       "      <td>None</td>\n",
       "      <td>None</td>\n",
       "      <td>None</td>\n",
       "      <td>SAN FRANCISCO</td>\n",
       "      <td>1</td>\n",
       "      <td>None</td>\n",
       "      <td>0</td>\n",
       "      <td>POINT (-122.394781932073 37.77659631502058)</td>\n",
       "    </tr>\n",
       "  </tbody>\n",
       "</table>\n",
       "</div>"
      ],
      "text/plain": [
       "  ADDRESS AIRPORT BUS_ROUTES  CO  CODE COMM_NETWO COMM_OP  DIST INTERMODAL  \\\n",
       "0    None    None       None  SF  None   Caltrain   PCJPB     4          0   \n",
       "1    None    None       None  SF  None   Caltrain   PCJPB     4          0   \n",
       "2    None    None       None  SF  None   Caltrain   PCJPB     4          0   \n",
       "\n",
       "  LOCATION PASS_NETWO PASS_OP        STATION  STATION_TY TRANSIT ZIP  \\\n",
       "0     None       None    None        22ND ST           1    None   0   \n",
       "1     None       None    None       BAYSHORE           1    None   0   \n",
       "2     None       None    None  SAN FRANCISCO           1    None   0   \n",
       "\n",
       "                                       geometry  \n",
       "0  POINT (-122.3927456478836 37.75735785845131)  \n",
       "1  POINT (-122.4013233958286 37.70933591727077)  \n",
       "2   POINT (-122.394781932073 37.77659631502058)  "
      ]
     },
     "execution_count": 72,
     "metadata": {},
     "output_type": "execute_result"
    }
   ],
   "source": [
    "cal_sta.head()"
   ]
  },
  {
   "cell_type": "code",
   "execution_count": 71,
   "metadata": {
    "collapsed": false
   },
   "outputs": [
    {
     "data": {
      "text/plain": [
       "{'init': 'epsg:4269'}"
      ]
     },
     "execution_count": 71,
     "metadata": {},
     "output_type": "execute_result"
    }
   ],
   "source": [
    "cal_sta.crs"
   ]
  },
  {
   "cell_type": "code",
   "execution_count": 13,
   "metadata": {
    "collapsed": false
   },
   "outputs": [],
   "source": [
    "cal09 = pd.merge(cal_sta[['geometry','STATION']],cal[['STATION','ON','OFF']],on = 'STATION') "
   ]
  },
  {
   "cell_type": "code",
   "execution_count": 16,
   "metadata": {
    "collapsed": false
   },
   "outputs": [],
   "source": [
    "joined = gp.sjoin(buffers[['STOP_ID','geometry']],cal09[['ON','OFF','geometry']],how = 'left')"
   ]
  },
  {
   "cell_type": "code",
   "execution_count": 80,
   "metadata": {
    "collapsed": false
   },
   "outputs": [
    {
     "data": {
      "text/plain": [
       "Index(['STOP_ID', 'geometry', 'index_right', 'ON', 'OFF'], dtype='object')"
      ]
     },
     "execution_count": 80,
     "metadata": {},
     "output_type": "execute_result"
    }
   ],
   "source": [
    "joined.columns"
   ]
  },
  {
   "cell_type": "code",
   "execution_count": 17,
   "metadata": {
    "collapsed": false
   },
   "outputs": [],
   "source": [
    "joined = joined.drop('index_right',axis = 1)"
   ]
  },
  {
   "cell_type": "code",
   "execution_count": 18,
   "metadata": {
    "collapsed": false
   },
   "outputs": [],
   "source": [
    "rename = ['STOP_ID', 'geometry','CALTRAIN_ON', 'CAL_TRAIN_OFF']"
   ]
  },
  {
   "cell_type": "code",
   "execution_count": 19,
   "metadata": {
    "collapsed": false
   },
   "outputs": [],
   "source": [
    "joined.columns = rename"
   ]
  },
  {
   "cell_type": "code",
   "execution_count": 20,
   "metadata": {
    "collapsed": false
   },
   "outputs": [
    {
     "data": {
      "text/html": [
       "<div>\n",
       "<table border=\"1\" class=\"dataframe\">\n",
       "  <thead>\n",
       "    <tr style=\"text-align: right;\">\n",
       "      <th></th>\n",
       "      <th>STOP_ID</th>\n",
       "      <th>geometry</th>\n",
       "      <th>CALTRAIN_ON</th>\n",
       "      <th>CAL_TRAIN_OFF</th>\n",
       "    </tr>\n",
       "  </thead>\n",
       "  <tbody>\n",
       "    <tr>\n",
       "      <th>0</th>\n",
       "      <td>390</td>\n",
       "      <td>POLYGON ((-122.4732708739641 37.72122058726108...</td>\n",
       "      <td>NaN</td>\n",
       "      <td>NaN</td>\n",
       "    </tr>\n",
       "    <tr>\n",
       "      <th>1</th>\n",
       "      <td>392</td>\n",
       "      <td>POLYGON ((-122.475383794672 37.7651896197756, ...</td>\n",
       "      <td>NaN</td>\n",
       "      <td>NaN</td>\n",
       "    </tr>\n",
       "    <tr>\n",
       "      <th>2</th>\n",
       "      <td>660</td>\n",
       "      <td>POLYGON ((-122.4335617909149 37.72394397209937...</td>\n",
       "      <td>NaN</td>\n",
       "      <td>NaN</td>\n",
       "    </tr>\n",
       "    <tr>\n",
       "      <th>3</th>\n",
       "      <td>913</td>\n",
       "      <td>POLYGON ((-122.4239769029978 37.71922182363711...</td>\n",
       "      <td>NaN</td>\n",
       "      <td>NaN</td>\n",
       "    </tr>\n",
       "    <tr>\n",
       "      <th>4</th>\n",
       "      <td>3001</td>\n",
       "      <td>POLYGON ((-122.3942171872453 37.7885593622781,...</td>\n",
       "      <td>NaN</td>\n",
       "      <td>NaN</td>\n",
       "    </tr>\n",
       "  </tbody>\n",
       "</table>\n",
       "</div>"
      ],
      "text/plain": [
       "   STOP_ID                                           geometry  CALTRAIN_ON  \\\n",
       "0      390  POLYGON ((-122.4732708739641 37.72122058726108...          NaN   \n",
       "1      392  POLYGON ((-122.475383794672 37.7651896197756, ...          NaN   \n",
       "2      660  POLYGON ((-122.4335617909149 37.72394397209937...          NaN   \n",
       "3      913  POLYGON ((-122.4239769029978 37.71922182363711...          NaN   \n",
       "4     3001  POLYGON ((-122.3942171872453 37.7885593622781,...          NaN   \n",
       "\n",
       "   CAL_TRAIN_OFF  \n",
       "0            NaN  \n",
       "1            NaN  \n",
       "2            NaN  \n",
       "3            NaN  \n",
       "4            NaN  "
      ]
     },
     "execution_count": 20,
     "metadata": {},
     "output_type": "execute_result"
    }
   ],
   "source": [
    "joined.head()"
   ]
  },
  {
   "cell_type": "code",
   "execution_count": 21,
   "metadata": {
    "collapsed": false
   },
   "outputs": [
    {
     "data": {
      "text/plain": [
       "<matplotlib.axes._subplots.AxesSubplot at 0x1f64a44d198>"
      ]
     },
     "execution_count": 21,
     "metadata": {},
     "output_type": "execute_result"
    },
    {
     "data": {
      "image/png": "iVBORw0KGgoAAAANSUhEUgAAAToAAAD8CAYAAADnhGhBAAAABHNCSVQICAgIfAhkiAAAAAlwSFlz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\nOoVC0e1Rik6hUHR7/h+Om1WUqoJR4wAAAABJRU5ErkJggg==\n",
      "text/plain": [
       "<matplotlib.figure.Figure at 0x1f63c0166a0>"
      ]
     },
     "metadata": {},
     "output_type": "display_data"
    }
   ],
   "source": [
    "joined.plot()"
   ]
  },
  {
   "cell_type": "markdown",
   "metadata": {
    "collapsed": false
   },
   "source": [
    "# MUNI Rail Data"
   ]
  },
  {
   "cell_type": "code",
   "execution_count": 5,
   "metadata": {
    "collapsed": false
   },
   "outputs": [
    {
     "data": {
      "text/plain": [
       "<bound method HDFStore.items of <class 'pandas.io.pytables.HDFStore'>\n",
       "File path: E:/Transit_Casa/gtfs.h5\n",
       "/bart                     frame_table  (typ->appendable,nrows->306607,ncols->35,indexers->[index],dc->[AGENCY_ID,ARRIVAL_TIME_S,DATE,DEPARTURE_TIME_S,DIR,DOW,DWELL_S,EOL,FARE,HEADWAY_S,MONTH,OBSERVED,ROUTE_ID,ROUTE_LONG_NAME,ROUTE_SHORT_NAME,ROUTE_TYPE,RUNSPEED_S,RUNTIME_S,SCHED_DATES,SEQ,SERVICE_ID,SERVMILES_S,SHAPE_DIST,SOL,STOPNAME,STOP_ID,STOP_LAT,STOP_LON,TOD,TOTSPEED_S,TOTTIME_S,TRIP,TRIP_HEADSIGN,TRIP_ID,TRIP_STOPS])  \n",
       "/bartDaily                frame_table  (typ->appendable,nrows->152,ncols->18,indexers->[index],dc->[SCHED_DATES,DOW,SERVICE_ID,AGENCY_ID,ROUTE_TYPE,TRIPS,STOPS,TRIP_STOPS,FARE,HEADWAY_S,SERVMILES_S,DWELL_S,RUNTIME_S,TOTTIME_S,RUNSPEED_S,TOTSPEED_S,DATE,MONTH])                                                                                                                                                                         \n",
       "/bartMonthly              frame_table  (typ->appendable,nrows->646,ncols->15,indexers->[index],dc->[MONTH,DOW,AGENCY_ID,ROUTE_TYPE,TRIPS,TRIP_STOPS,FARE,HEADWAY_S,SERVMILES_S,DWELL_S,RUNTIME_S,TOTTIME_S,RUNSPEED_S,TOTSPEED_S,STOPS])                                                                                                                                                                                                     \n",
       "/sfmuni                   frame_table  (typ->appendable,nrows->16836487,ncols->35,indexers->[index],dc->[AGENCY_ID,ARRIVAL_TIME_S,DATE,DEPARTURE_TIME_S,DIR,DOW,DWELL_S,EOL,FARE,HEADWAY_S,MONTH,OBSERVED,ROUTE_ID,ROUTE_LONG_NAME,ROUTE_SHORT_NAME,ROUTE_TYPE,RUNSPEED_S,RUNTIME_S,SCHED_DATES,SEQ,SERVICE_ID,SERVMILES_S,SHAPE_DIST,SOL,STOPNAME,STOP_ID,STOP_LAT,STOP_LON,TOD,TOTSPEED_S,TOTTIME_S,TRIP,TRIP_HEADSIGN,TRIP_ID,TRIP_STOPS])\n",
       "/sfmuniDaily              frame_table  (typ->appendable,nrows->5540,ncols->18,indexers->[index],dc->[SCHED_DATES,DOW,SERVICE_ID,AGENCY_ID,ROUTE_TYPE,TRIPS,STOPS,TRIP_STOPS,FARE,HEADWAY_S,SERVMILES_S,DWELL_S,RUNTIME_S,TOTTIME_S,RUNSPEED_S,TOTSPEED_S,DATE,MONTH])                                                                                                                                                                        \n",
       "/sfmuniMonthly            frame_table  (typ->appendable,nrows->553,ncols->15,indexers->[index],dc->[MONTH,DOW,AGENCY_ID,ROUTE_TYPE,TRIPS,STOPS,TRIP_STOPS,FARE,HEADWAY_S,SERVMILES_S,DWELL_S,RUNTIME_S,TOTTIME_S,RUNSPEED_S,TOTSPEED_S])                                                                                                                                                                                                     >"
      ]
     },
     "execution_count": 5,
     "metadata": {},
     "output_type": "execute_result"
    }
   ],
   "source": [
    "store = pd.HDFStore(\"E:/Transit_Casa/gtfs.h5\")\n",
    "store.items\n",
    "#muni = store.get('sfmuni')\n"
   ]
  },
  {
   "cell_type": "code",
   "execution_count": 65,
   "metadata": {
    "collapsed": false
   },
   "outputs": [],
   "source": [
    "store = pd.HDFStore(\"E:/Transit_Casa/Output/gtfs1.h5\")\n",
    "store.items\n",
    "muni = store.get('sfmuni')\n"
   ]
  },
  {
   "cell_type": "code",
   "execution_count": 9,
   "metadata": {
    "collapsed": false
   },
   "outputs": [
    {
     "data": {
      "text/html": [
       "<div>\n",
       "<table border=\"1\" class=\"dataframe\">\n",
       "  <thead>\n",
       "    <tr style=\"text-align: right;\">\n",
       "      <th></th>\n",
       "      <th></th>\n",
       "      <th>AGENCY_ID</th>\n",
       "      <th>ARRIVAL_TIME_S</th>\n",
       "      <th>BLOCK_ID</th>\n",
       "      <th>DATE</th>\n",
       "      <th>DEPARTURE_TIME_S</th>\n",
       "      <th>DIR</th>\n",
       "      <th>DOW</th>\n",
       "      <th>DWELL_S</th>\n",
       "      <th>EOL</th>\n",
       "      <th>FARE</th>\n",
       "      <th>HEADWAY_S</th>\n",
       "      <th>MONTH</th>\n",
       "      <th>OBSERVED</th>\n",
       "      <th>ROUTE_ID</th>\n",
       "      <th>ROUTE_LONG_NAME</th>\n",
       "      <th>ROUTE_SHORT_NAME</th>\n",
       "      <th>ROUTE_TYPE</th>\n",
       "      <th>RUNSPEED_S</th>\n",
       "      <th>RUNTIME_S</th>\n",
       "      <th>SCHED_DATES</th>\n",
       "      <th>SEQ</th>\n",
       "      <th>SERVMILES_S</th>\n",
       "      <th>SHAPE_DIST</th>\n",
       "      <th>SHAPE_ID</th>\n",
       "      <th>SOL</th>\n",
       "      <th>STOPNAME</th>\n",
       "      <th>STOP_ID</th>\n",
       "      <th>STOP_LAT</th>\n",
       "      <th>STOP_LON</th>\n",
       "      <th>TOD</th>\n",
       "      <th>TOTSPEED_S</th>\n",
       "      <th>TOTTIME_S</th>\n",
       "      <th>TRIP</th>\n",
       "      <th>TRIP_HEADSIGN</th>\n",
       "      <th>TRIP_ID</th>\n",
       "      <th>TRIP_STOPS</th>\n",
       "    </tr>\n",
       "  </thead>\n",
       "  <tbody>\n",
       "    <tr>\n",
       "      <th>0</th>\n",
       "      <th>353267</th>\n",
       "      <td>SFMTA</td>\n",
       "      <td>2009-02-21 16:02:00</td>\n",
       "      <td>212504</td>\n",
       "      <td>2009-02-21</td>\n",
       "      <td>2009-02-21 16:02:00</td>\n",
       "      <td>0</td>\n",
       "      <td>1</td>\n",
       "      <td>0.0</td>\n",
       "      <td>0</td>\n",
       "      <td>1.5</td>\n",
       "      <td>NaN</td>\n",
       "      <td>2009-02-21</td>\n",
       "      <td>0</td>\n",
       "      <td>1016</td>\n",
       "      <td>NORIEGA A EXP</td>\n",
       "      <td>016AX</td>\n",
       "      <td>3</td>\n",
       "      <td>0.00</td>\n",
       "      <td>0.0</td>\n",
       "      <td>20090221-20090612</td>\n",
       "      <td>3</td>\n",
       "      <td>0.000</td>\n",
       "      <td>35.077993</td>\n",
       "      <td>34386</td>\n",
       "      <td>1</td>\n",
       "      <td>Cyril Magnin St &amp; Market St</td>\n",
       "      <td>3612</td>\n",
       "      <td>37.784011</td>\n",
       "      <td>-122.408210</td>\n",
       "      <td>1600-1859</td>\n",
       "      <td>0.00</td>\n",
       "      <td>0.0</td>\n",
       "      <td>1602_3</td>\n",
       "      <td>48th Avenue</td>\n",
       "      <td>2919221</td>\n",
       "      <td>1</td>\n",
       "    </tr>\n",
       "    <tr>\n",
       "      <th>1</th>\n",
       "      <th>353268</th>\n",
       "      <td>SFMTA</td>\n",
       "      <td>2009-02-21 16:02:00</td>\n",
       "      <td>212504</td>\n",
       "      <td>2009-02-21</td>\n",
       "      <td>2009-02-21 16:02:00</td>\n",
       "      <td>0</td>\n",
       "      <td>1</td>\n",
       "      <td>0.0</td>\n",
       "      <td>0</td>\n",
       "      <td>1.5</td>\n",
       "      <td>NaN</td>\n",
       "      <td>2009-02-21</td>\n",
       "      <td>0</td>\n",
       "      <td>1016</td>\n",
       "      <td>NORIEGA A EXP</td>\n",
       "      <td>016AX</td>\n",
       "      <td>3</td>\n",
       "      <td>0.00</td>\n",
       "      <td>0.0</td>\n",
       "      <td>20090221-20090612</td>\n",
       "      <td>4</td>\n",
       "      <td>0.042</td>\n",
       "      <td>255.246536</td>\n",
       "      <td>34386</td>\n",
       "      <td>0</td>\n",
       "      <td>Eddy St &amp; Cyril Magnin St</td>\n",
       "      <td>7305</td>\n",
       "      <td>37.784386</td>\n",
       "      <td>-122.408599</td>\n",
       "      <td>1600-1859</td>\n",
       "      <td>0.00</td>\n",
       "      <td>0.0</td>\n",
       "      <td>1602_3</td>\n",
       "      <td>48th Avenue</td>\n",
       "      <td>2919221</td>\n",
       "      <td>1</td>\n",
       "    </tr>\n",
       "    <tr>\n",
       "      <th>2</th>\n",
       "      <th>353269</th>\n",
       "      <td>SFMTA</td>\n",
       "      <td>2009-02-21 16:03:00</td>\n",
       "      <td>212504</td>\n",
       "      <td>2009-02-21</td>\n",
       "      <td>2009-02-21 16:03:00</td>\n",
       "      <td>0</td>\n",
       "      <td>1</td>\n",
       "      <td>0.0</td>\n",
       "      <td>0</td>\n",
       "      <td>1.5</td>\n",
       "      <td>NaN</td>\n",
       "      <td>2009-02-21</td>\n",
       "      <td>0</td>\n",
       "      <td>1016</td>\n",
       "      <td>NORIEGA A EXP</td>\n",
       "      <td>016AX</td>\n",
       "      <td>3</td>\n",
       "      <td>7.92</td>\n",
       "      <td>1.0</td>\n",
       "      <td>20090221-20090612</td>\n",
       "      <td>5</td>\n",
       "      <td>0.132</td>\n",
       "      <td>952.196508</td>\n",
       "      <td>34386</td>\n",
       "      <td>0</td>\n",
       "      <td>Turk St &amp; Taylor St</td>\n",
       "      <td>6733</td>\n",
       "      <td>37.783387</td>\n",
       "      <td>-122.409895</td>\n",
       "      <td>1600-1859</td>\n",
       "      <td>7.92</td>\n",
       "      <td>1.0</td>\n",
       "      <td>1602_3</td>\n",
       "      <td>48th Avenue</td>\n",
       "      <td>2919221</td>\n",
       "      <td>1</td>\n",
       "    </tr>\n",
       "    <tr>\n",
       "      <th>3</th>\n",
       "      <th>353270</th>\n",
       "      <td>SFMTA</td>\n",
       "      <td>2009-02-21 16:04:00</td>\n",
       "      <td>212504</td>\n",
       "      <td>2009-02-21</td>\n",
       "      <td>2009-02-21 16:04:00</td>\n",
       "      <td>0</td>\n",
       "      <td>1</td>\n",
       "      <td>0.0</td>\n",
       "      <td>0</td>\n",
       "      <td>1.5</td>\n",
       "      <td>NaN</td>\n",
       "      <td>2009-02-21</td>\n",
       "      <td>0</td>\n",
       "      <td>1016</td>\n",
       "      <td>NORIEGA A EXP</td>\n",
       "      <td>016AX</td>\n",
       "      <td>3</td>\n",
       "      <td>8.94</td>\n",
       "      <td>1.0</td>\n",
       "      <td>20090221-20090612</td>\n",
       "      <td>6</td>\n",
       "      <td>0.149</td>\n",
       "      <td>1737.683980</td>\n",
       "      <td>34386</td>\n",
       "      <td>0</td>\n",
       "      <td>Turk St &amp; Jones St</td>\n",
       "      <td>6719</td>\n",
       "      <td>37.783039</td>\n",
       "      <td>-122.412577</td>\n",
       "      <td>1600-1859</td>\n",
       "      <td>8.94</td>\n",
       "      <td>1.0</td>\n",
       "      <td>1602_3</td>\n",
       "      <td>48th Avenue</td>\n",
       "      <td>2919221</td>\n",
       "      <td>1</td>\n",
       "    </tr>\n",
       "    <tr>\n",
       "      <th>4</th>\n",
       "      <th>353271</th>\n",
       "      <td>SFMTA</td>\n",
       "      <td>2009-02-21 16:04:00</td>\n",
       "      <td>212504</td>\n",
       "      <td>2009-02-21</td>\n",
       "      <td>2009-02-21 16:04:00</td>\n",
       "      <td>0</td>\n",
       "      <td>1</td>\n",
       "      <td>0.0</td>\n",
       "      <td>0</td>\n",
       "      <td>1.5</td>\n",
       "      <td>NaN</td>\n",
       "      <td>2009-02-21</td>\n",
       "      <td>0</td>\n",
       "      <td>1016</td>\n",
       "      <td>NORIEGA A EXP</td>\n",
       "      <td>016AX</td>\n",
       "      <td>3</td>\n",
       "      <td>0.00</td>\n",
       "      <td>0.0</td>\n",
       "      <td>20090221-20090612</td>\n",
       "      <td>7</td>\n",
       "      <td>0.091</td>\n",
       "      <td>2217.255396</td>\n",
       "      <td>34386</td>\n",
       "      <td>0</td>\n",
       "      <td>Turk St &amp; Leavenworth St</td>\n",
       "      <td>6721</td>\n",
       "      <td>37.782835</td>\n",
       "      <td>-122.414217</td>\n",
       "      <td>1600-1859</td>\n",
       "      <td>0.00</td>\n",
       "      <td>0.0</td>\n",
       "      <td>1602_3</td>\n",
       "      <td>48th Avenue</td>\n",
       "      <td>2919221</td>\n",
       "      <td>1</td>\n",
       "    </tr>\n",
       "  </tbody>\n",
       "</table>\n",
       "</div>"
      ],
      "text/plain": [
       "         AGENCY_ID      ARRIVAL_TIME_S  BLOCK_ID       DATE  \\\n",
       "0 353267     SFMTA 2009-02-21 16:02:00    212504 2009-02-21   \n",
       "1 353268     SFMTA 2009-02-21 16:02:00    212504 2009-02-21   \n",
       "2 353269     SFMTA 2009-02-21 16:03:00    212504 2009-02-21   \n",
       "3 353270     SFMTA 2009-02-21 16:04:00    212504 2009-02-21   \n",
       "4 353271     SFMTA 2009-02-21 16:04:00    212504 2009-02-21   \n",
       "\n",
       "            DEPARTURE_TIME_S  DIR  DOW  DWELL_S  EOL  FARE  HEADWAY_S  \\\n",
       "0 353267 2009-02-21 16:02:00    0    1      0.0    0   1.5        NaN   \n",
       "1 353268 2009-02-21 16:02:00    0    1      0.0    0   1.5        NaN   \n",
       "2 353269 2009-02-21 16:03:00    0    1      0.0    0   1.5        NaN   \n",
       "3 353270 2009-02-21 16:04:00    0    1      0.0    0   1.5        NaN   \n",
       "4 353271 2009-02-21 16:04:00    0    1      0.0    0   1.5        NaN   \n",
       "\n",
       "              MONTH  OBSERVED  ROUTE_ID ROUTE_LONG_NAME ROUTE_SHORT_NAME  \\\n",
       "0 353267 2009-02-21         0      1016   NORIEGA A EXP            016AX   \n",
       "1 353268 2009-02-21         0      1016   NORIEGA A EXP            016AX   \n",
       "2 353269 2009-02-21         0      1016   NORIEGA A EXP            016AX   \n",
       "3 353270 2009-02-21         0      1016   NORIEGA A EXP            016AX   \n",
       "4 353271 2009-02-21         0      1016   NORIEGA A EXP            016AX   \n",
       "\n",
       "          ROUTE_TYPE  RUNSPEED_S  RUNTIME_S        SCHED_DATES  SEQ  \\\n",
       "0 353267           3        0.00        0.0  20090221-20090612    3   \n",
       "1 353268           3        0.00        0.0  20090221-20090612    4   \n",
       "2 353269           3        7.92        1.0  20090221-20090612    5   \n",
       "3 353270           3        8.94        1.0  20090221-20090612    6   \n",
       "4 353271           3        0.00        0.0  20090221-20090612    7   \n",
       "\n",
       "          SERVMILES_S   SHAPE_DIST  SHAPE_ID  SOL  \\\n",
       "0 353267        0.000    35.077993     34386    1   \n",
       "1 353268        0.042   255.246536     34386    0   \n",
       "2 353269        0.132   952.196508     34386    0   \n",
       "3 353270        0.149  1737.683980     34386    0   \n",
       "4 353271        0.091  2217.255396     34386    0   \n",
       "\n",
       "                               STOPNAME  STOP_ID   STOP_LAT    STOP_LON  \\\n",
       "0 353267  Cyril Magnin St & Market St       3612  37.784011 -122.408210   \n",
       "1 353268      Eddy St & Cyril Magnin St     7305  37.784386 -122.408599   \n",
       "2 353269         Turk St & Taylor St        6733  37.783387 -122.409895   \n",
       "3 353270           Turk St & Jones St       6719  37.783039 -122.412577   \n",
       "4 353271     Turk St & Leavenworth St       6721  37.782835 -122.414217   \n",
       "\n",
       "                TOD  TOTSPEED_S  TOTTIME_S    TRIP TRIP_HEADSIGN  TRIP_ID  \\\n",
       "0 353267  1600-1859        0.00        0.0  1602_3   48th Avenue  2919221   \n",
       "1 353268  1600-1859        0.00        0.0  1602_3   48th Avenue  2919221   \n",
       "2 353269  1600-1859        7.92        1.0  1602_3   48th Avenue  2919221   \n",
       "3 353270  1600-1859        8.94        1.0  1602_3   48th Avenue  2919221   \n",
       "4 353271  1600-1859        0.00        0.0  1602_3   48th Avenue  2919221   \n",
       "\n",
       "          TRIP_STOPS  \n",
       "0 353267           1  \n",
       "1 353268           1  \n",
       "2 353269           1  \n",
       "3 353270           1  \n",
       "4 353271           1  "
      ]
     },
     "execution_count": 9,
     "metadata": {},
     "output_type": "execute_result"
    }
   ],
   "source": [
    "muni.head()"
   ]
  },
  {
   "cell_type": "code",
   "execution_count": 39,
   "metadata": {
    "collapsed": false
   },
   "outputs": [
    {
     "data": {
      "text/plain": [
       "array([3, 5, 0, 1], dtype=int64)"
      ]
     },
     "execution_count": 39,
     "metadata": {},
     "output_type": "execute_result"
    }
   ],
   "source": [
    "muni.ROUTE_TYPE.unique()"
   ]
  },
  {
   "cell_type": "code",
   "execution_count": 42,
   "metadata": {
    "collapsed": false
   },
   "outputs": [],
   "source": [
    "muni1 = muni[muni['ROUTE_TYPE'] == 1]"
   ]
  },
  {
   "cell_type": "code",
   "execution_count": 43,
   "metadata": {
    "collapsed": false
   },
   "outputs": [
    {
     "data": {
      "text/plain": [
       "array(['F'], dtype=object)"
      ]
     },
     "execution_count": 43,
     "metadata": {},
     "output_type": "execute_result"
    }
   ],
   "source": [
    "muni1.ROUTE_SHORT_NAME.unique()"
   ]
  },
  {
   "cell_type": "code",
   "execution_count": 44,
   "metadata": {
    "collapsed": true
   },
   "outputs": [],
   "source": [
    "muni5 = muni[muni['ROUTE_TYPE'] == 5]"
   ]
  },
  {
   "cell_type": "code",
   "execution_count": 45,
   "metadata": {
    "collapsed": false
   },
   "outputs": [
    {
     "data": {
      "text/plain": [
       "array(['CALIFORNIA', 'POWELL-HYDE', 'POWELL-MASON'], dtype=object)"
      ]
     },
     "execution_count": 45,
     "metadata": {},
     "output_type": "execute_result"
    }
   ],
   "source": [
    "muni5.ROUTE_SHORT_NAME.unique()"
   ]
  },
  {
   "cell_type": "code",
   "execution_count": 66,
   "metadata": {
    "collapsed": false
   },
   "outputs": [],
   "source": [
    "muni0 = muni[muni['ROUTE_TYPE'] == 0]"
   ]
  },
  {
   "cell_type": "code",
   "execution_count": 67,
   "metadata": {
    "collapsed": false
   },
   "outputs": [
    {
     "data": {
      "text/plain": [
       "array(['2009-02-21T00:00:00.000000000', '2009-06-13T00:00:00.000000000',\n",
       "       '2009-12-05T00:00:00.000000000', '2010-05-08T00:00:00.000000000'], dtype='datetime64[ns]')"
      ]
     },
     "execution_count": 67,
     "metadata": {},
     "output_type": "execute_result"
    }
   ],
   "source": [
    "muni.MONTH.unique()"
   ]
  },
  {
   "cell_type": "code",
   "execution_count": 68,
   "metadata": {
    "collapsed": false
   },
   "outputs": [
    {
     "data": {
      "text/plain": [
       "array(['F', 'J', 'L', 'M', 'N', 'S', 'T', 'K'], dtype=object)"
      ]
     },
     "execution_count": 68,
     "metadata": {},
     "output_type": "execute_result"
    }
   ],
   "source": [
    "muni0.ROUTE_SHORT_NAME.unique()"
   ]
  },
  {
   "cell_type": "code",
   "execution_count": null,
   "metadata": {
    "collapsed": true
   },
   "outputs": [],
   "source": []
  },
  {
   "cell_type": "code",
   "execution_count": 69,
   "metadata": {
    "collapsed": false,
    "scrolled": true
   },
   "outputs": [
    {
     "data": {
      "text/html": [
       "<div>\n",
       "<table border=\"1\" class=\"dataframe\">\n",
       "  <thead>\n",
       "    <tr style=\"text-align: right;\">\n",
       "      <th></th>\n",
       "      <th></th>\n",
       "      <th>AGENCY_ID</th>\n",
       "      <th>ARRIVAL_TIME_S</th>\n",
       "      <th>BLOCK_ID</th>\n",
       "      <th>DATE</th>\n",
       "      <th>DEPARTURE_TIME_S</th>\n",
       "      <th>DIR</th>\n",
       "      <th>DOW</th>\n",
       "      <th>DWELL_S</th>\n",
       "      <th>EOL</th>\n",
       "      <th>FARE</th>\n",
       "      <th>HEADWAY_S</th>\n",
       "      <th>MONTH</th>\n",
       "      <th>OBSERVED</th>\n",
       "      <th>ROUTE_ID</th>\n",
       "      <th>ROUTE_LONG_NAME</th>\n",
       "      <th>ROUTE_SHORT_NAME</th>\n",
       "      <th>ROUTE_TYPE</th>\n",
       "      <th>RUNSPEED_S</th>\n",
       "      <th>RUNTIME_S</th>\n",
       "      <th>SCHED_DATES</th>\n",
       "      <th>SEQ</th>\n",
       "      <th>SERVMILES_S</th>\n",
       "      <th>SHAPE_DIST</th>\n",
       "      <th>SHAPE_ID</th>\n",
       "      <th>SOL</th>\n",
       "      <th>STOPNAME</th>\n",
       "      <th>STOP_ID</th>\n",
       "      <th>STOP_LAT</th>\n",
       "      <th>STOP_LON</th>\n",
       "      <th>TOD</th>\n",
       "      <th>TOTSPEED_S</th>\n",
       "      <th>TOTTIME_S</th>\n",
       "      <th>TRIP</th>\n",
       "      <th>TRIP_HEADSIGN</th>\n",
       "      <th>TRIP_ID</th>\n",
       "      <th>TRIP_STOPS</th>\n",
       "    </tr>\n",
       "  </thead>\n",
       "  <tbody>\n",
       "    <tr>\n",
       "      <th>5894</th>\n",
       "      <th>197237</th>\n",
       "      <td>SFMTA</td>\n",
       "      <td>2009-02-21 10:08:00</td>\n",
       "      <td>214388</td>\n",
       "      <td>2009-02-21</td>\n",
       "      <td>2009-02-21 10:08:00</td>\n",
       "      <td>0</td>\n",
       "      <td>1</td>\n",
       "      <td>0.0</td>\n",
       "      <td>0</td>\n",
       "      <td>1.5</td>\n",
       "      <td>11.0</td>\n",
       "      <td>2009-02-21</td>\n",
       "      <td>0</td>\n",
       "      <td>3725</td>\n",
       "      <td>MARKET &amp; WHARVES</td>\n",
       "      <td>F</td>\n",
       "      <td>0</td>\n",
       "      <td>0.00</td>\n",
       "      <td>0.0</td>\n",
       "      <td>20090221-20090612</td>\n",
       "      <td>1</td>\n",
       "      <td>0.000</td>\n",
       "      <td>0.000000</td>\n",
       "      <td>34772</td>\n",
       "      <td>1</td>\n",
       "      <td>Jones St &amp; Beach St</td>\n",
       "      <td>5184</td>\n",
       "      <td>37.807248</td>\n",
       "      <td>-122.417366</td>\n",
       "      <td>0900-1359</td>\n",
       "      <td>0.00</td>\n",
       "      <td>0.0</td>\n",
       "      <td>1008_1</td>\n",
       "      <td>Castro</td>\n",
       "      <td>2948224</td>\n",
       "      <td>1</td>\n",
       "    </tr>\n",
       "    <tr>\n",
       "      <th>5895</th>\n",
       "      <th>197238</th>\n",
       "      <td>SFMTA</td>\n",
       "      <td>2009-02-21 10:11:00</td>\n",
       "      <td>214388</td>\n",
       "      <td>2009-02-21</td>\n",
       "      <td>2009-02-21 10:11:00</td>\n",
       "      <td>0</td>\n",
       "      <td>1</td>\n",
       "      <td>0.0</td>\n",
       "      <td>0</td>\n",
       "      <td>1.5</td>\n",
       "      <td>11.0</td>\n",
       "      <td>2009-02-21</td>\n",
       "      <td>0</td>\n",
       "      <td>3725</td>\n",
       "      <td>MARKET &amp; WHARVES</td>\n",
       "      <td>F</td>\n",
       "      <td>0</td>\n",
       "      <td>3.70</td>\n",
       "      <td>3.0</td>\n",
       "      <td>20090221-20090612</td>\n",
       "      <td>2</td>\n",
       "      <td>0.185</td>\n",
       "      <td>975.916380</td>\n",
       "      <td>34772</td>\n",
       "      <td>0</td>\n",
       "      <td>Beach St &amp; Mason St</td>\n",
       "      <td>3092</td>\n",
       "      <td>37.807407</td>\n",
       "      <td>-122.414125</td>\n",
       "      <td>0900-1359</td>\n",
       "      <td>3.70</td>\n",
       "      <td>3.0</td>\n",
       "      <td>1008_1</td>\n",
       "      <td>Castro</td>\n",
       "      <td>2948224</td>\n",
       "      <td>1</td>\n",
       "    </tr>\n",
       "    <tr>\n",
       "      <th>5896</th>\n",
       "      <th>197239</th>\n",
       "      <td>SFMTA</td>\n",
       "      <td>2009-02-21 10:14:00</td>\n",
       "      <td>214388</td>\n",
       "      <td>2009-02-21</td>\n",
       "      <td>2009-02-21 10:14:00</td>\n",
       "      <td>0</td>\n",
       "      <td>1</td>\n",
       "      <td>0.0</td>\n",
       "      <td>0</td>\n",
       "      <td>1.5</td>\n",
       "      <td>11.0</td>\n",
       "      <td>2009-02-21</td>\n",
       "      <td>0</td>\n",
       "      <td>3725</td>\n",
       "      <td>MARKET &amp; WHARVES</td>\n",
       "      <td>F</td>\n",
       "      <td>0</td>\n",
       "      <td>3.68</td>\n",
       "      <td>3.0</td>\n",
       "      <td>20090221-20090612</td>\n",
       "      <td>3</td>\n",
       "      <td>0.184</td>\n",
       "      <td>1946.538112</td>\n",
       "      <td>34772</td>\n",
       "      <td>0</td>\n",
       "      <td>Beach St &amp; Stockton St</td>\n",
       "      <td>3095</td>\n",
       "      <td>37.807841</td>\n",
       "      <td>-122.410810</td>\n",
       "      <td>0900-1359</td>\n",
       "      <td>3.68</td>\n",
       "      <td>3.0</td>\n",
       "      <td>1008_1</td>\n",
       "      <td>Castro</td>\n",
       "      <td>2948224</td>\n",
       "      <td>1</td>\n",
       "    </tr>\n",
       "    <tr>\n",
       "      <th>5897</th>\n",
       "      <th>197240</th>\n",
       "      <td>SFMTA</td>\n",
       "      <td>2009-02-21 10:15:00</td>\n",
       "      <td>214388</td>\n",
       "      <td>2009-02-21</td>\n",
       "      <td>2009-02-21 10:15:00</td>\n",
       "      <td>0</td>\n",
       "      <td>1</td>\n",
       "      <td>0.0</td>\n",
       "      <td>0</td>\n",
       "      <td>1.5</td>\n",
       "      <td>11.0</td>\n",
       "      <td>2009-02-21</td>\n",
       "      <td>0</td>\n",
       "      <td>3725</td>\n",
       "      <td>MARKET &amp; WHARVES</td>\n",
       "      <td>F</td>\n",
       "      <td>0</td>\n",
       "      <td>17.52</td>\n",
       "      <td>1.0</td>\n",
       "      <td>20090221-20090612</td>\n",
       "      <td>4</td>\n",
       "      <td>0.292</td>\n",
       "      <td>3487.305385</td>\n",
       "      <td>34772</td>\n",
       "      <td>0</td>\n",
       "      <td>The Embarcadero &amp; Bay St</td>\n",
       "      <td>4502</td>\n",
       "      <td>37.806629</td>\n",
       "      <td>-122.406030</td>\n",
       "      <td>0900-1359</td>\n",
       "      <td>17.52</td>\n",
       "      <td>1.0</td>\n",
       "      <td>1008_1</td>\n",
       "      <td>Castro</td>\n",
       "      <td>2948224</td>\n",
       "      <td>1</td>\n",
       "    </tr>\n",
       "    <tr>\n",
       "      <th>5898</th>\n",
       "      <th>197241</th>\n",
       "      <td>SFMTA</td>\n",
       "      <td>2009-02-21 10:16:00</td>\n",
       "      <td>214388</td>\n",
       "      <td>2009-02-21</td>\n",
       "      <td>2009-02-21 10:16:00</td>\n",
       "      <td>0</td>\n",
       "      <td>1</td>\n",
       "      <td>0.0</td>\n",
       "      <td>0</td>\n",
       "      <td>1.5</td>\n",
       "      <td>11.0</td>\n",
       "      <td>2009-02-21</td>\n",
       "      <td>0</td>\n",
       "      <td>3725</td>\n",
       "      <td>MARKET &amp; WHARVES</td>\n",
       "      <td>F</td>\n",
       "      <td>0</td>\n",
       "      <td>11.28</td>\n",
       "      <td>1.0</td>\n",
       "      <td>20090221-20090612</td>\n",
       "      <td>5</td>\n",
       "      <td>0.188</td>\n",
       "      <td>4477.449639</td>\n",
       "      <td>34772</td>\n",
       "      <td>0</td>\n",
       "      <td>The Embarcadero &amp; Sansome St</td>\n",
       "      <td>4529</td>\n",
       "      <td>37.805022</td>\n",
       "      <td>-122.403314</td>\n",
       "      <td>0900-1359</td>\n",
       "      <td>11.28</td>\n",
       "      <td>1.0</td>\n",
       "      <td>1008_1</td>\n",
       "      <td>Castro</td>\n",
       "      <td>2948224</td>\n",
       "      <td>1</td>\n",
       "    </tr>\n",
       "  </tbody>\n",
       "</table>\n",
       "</div>"
      ],
      "text/plain": [
       "            AGENCY_ID      ARRIVAL_TIME_S  BLOCK_ID       DATE  \\\n",
       "5894 197237     SFMTA 2009-02-21 10:08:00    214388 2009-02-21   \n",
       "5895 197238     SFMTA 2009-02-21 10:11:00    214388 2009-02-21   \n",
       "5896 197239     SFMTA 2009-02-21 10:14:00    214388 2009-02-21   \n",
       "5897 197240     SFMTA 2009-02-21 10:15:00    214388 2009-02-21   \n",
       "5898 197241     SFMTA 2009-02-21 10:16:00    214388 2009-02-21   \n",
       "\n",
       "               DEPARTURE_TIME_S  DIR  DOW  DWELL_S  EOL  FARE  HEADWAY_S  \\\n",
       "5894 197237 2009-02-21 10:08:00    0    1      0.0    0   1.5       11.0   \n",
       "5895 197238 2009-02-21 10:11:00    0    1      0.0    0   1.5       11.0   \n",
       "5896 197239 2009-02-21 10:14:00    0    1      0.0    0   1.5       11.0   \n",
       "5897 197240 2009-02-21 10:15:00    0    1      0.0    0   1.5       11.0   \n",
       "5898 197241 2009-02-21 10:16:00    0    1      0.0    0   1.5       11.0   \n",
       "\n",
       "                 MONTH  OBSERVED  ROUTE_ID   ROUTE_LONG_NAME ROUTE_SHORT_NAME  \\\n",
       "5894 197237 2009-02-21         0      3725  MARKET & WHARVES                F   \n",
       "5895 197238 2009-02-21         0      3725  MARKET & WHARVES                F   \n",
       "5896 197239 2009-02-21         0      3725  MARKET & WHARVES                F   \n",
       "5897 197240 2009-02-21         0      3725  MARKET & WHARVES                F   \n",
       "5898 197241 2009-02-21         0      3725  MARKET & WHARVES                F   \n",
       "\n",
       "             ROUTE_TYPE  RUNSPEED_S  RUNTIME_S        SCHED_DATES  SEQ  \\\n",
       "5894 197237           0        0.00        0.0  20090221-20090612    1   \n",
       "5895 197238           0        3.70        3.0  20090221-20090612    2   \n",
       "5896 197239           0        3.68        3.0  20090221-20090612    3   \n",
       "5897 197240           0       17.52        1.0  20090221-20090612    4   \n",
       "5898 197241           0       11.28        1.0  20090221-20090612    5   \n",
       "\n",
       "             SERVMILES_S   SHAPE_DIST  SHAPE_ID  SOL  \\\n",
       "5894 197237        0.000     0.000000     34772    1   \n",
       "5895 197238        0.185   975.916380     34772    0   \n",
       "5896 197239        0.184  1946.538112     34772    0   \n",
       "5897 197240        0.292  3487.305385     34772    0   \n",
       "5898 197241        0.188  4477.449639     34772    0   \n",
       "\n",
       "                                   STOPNAME  STOP_ID   STOP_LAT    STOP_LON  \\\n",
       "5894 197237           Jones St & Beach St       5184  37.807248 -122.417366   \n",
       "5895 197238           Beach St & Mason St       3092  37.807407 -122.414125   \n",
       "5896 197239        Beach St & Stockton St       3095  37.807841 -122.410810   \n",
       "5897 197240      The Embarcadero & Bay St       4502  37.806629 -122.406030   \n",
       "5898 197241  The Embarcadero & Sansome St       4529  37.805022 -122.403314   \n",
       "\n",
       "                   TOD  TOTSPEED_S  TOTTIME_S    TRIP TRIP_HEADSIGN  TRIP_ID  \\\n",
       "5894 197237  0900-1359        0.00        0.0  1008_1        Castro  2948224   \n",
       "5895 197238  0900-1359        3.70        3.0  1008_1        Castro  2948224   \n",
       "5896 197239  0900-1359        3.68        3.0  1008_1        Castro  2948224   \n",
       "5897 197240  0900-1359       17.52        1.0  1008_1        Castro  2948224   \n",
       "5898 197241  0900-1359       11.28        1.0  1008_1        Castro  2948224   \n",
       "\n",
       "             TRIP_STOPS  \n",
       "5894 197237           1  \n",
       "5895 197238           1  \n",
       "5896 197239           1  \n",
       "5897 197240           1  \n",
       "5898 197241           1  "
      ]
     },
     "execution_count": 69,
     "metadata": {},
     "output_type": "execute_result"
    }
   ],
   "source": [
    "muni0.head()"
   ]
  },
  {
   "cell_type": "code",
   "execution_count": 70,
   "metadata": {
    "collapsed": false
   },
   "outputs": [],
   "source": [
    "muni = muni0[['ROUTE_SHORT_NAME','STOPNAME','DIR','STOP_ID']].groupby(by = ['ROUTE_SHORT_NAME','STOPNAME','DIR'],as_index = False).first()"
   ]
  },
  {
   "cell_type": "code",
   "execution_count": 72,
   "metadata": {
    "collapsed": false
   },
   "outputs": [],
   "source": [
    "muni.to_csv('E:\\Transit-Casa-Alex\\Input\\MUNI Rail/stops_2009.csv')"
   ]
  },
  {
   "cell_type": "code",
   "execution_count": null,
   "metadata": {
    "collapsed": true
   },
   "outputs": [],
   "source": []
  },
  {
   "cell_type": "code",
   "execution_count": null,
   "metadata": {
    "collapsed": true
   },
   "outputs": [],
   "source": []
  },
  {
   "cell_type": "markdown",
   "metadata": {},
   "source": [
    "# Bike Share Data"
   ]
  },
  {
   "cell_type": "code",
   "execution_count": 73,
   "metadata": {
    "collapsed": true
   },
   "outputs": [],
   "source": [
    "bike = gp.read_file('E:/Transit-Casa-Alex/Input/Bay Area Bike Share/bike_ridership.shp')"
   ]
  },
  {
   "cell_type": "code",
   "execution_count": 74,
   "metadata": {
    "collapsed": false
   },
   "outputs": [
    {
     "data": {
      "text/html": [
       "<div>\n",
       "<table border=\"1\" class=\"dataframe\">\n",
       "  <thead>\n",
       "    <tr style=\"text-align: right;\">\n",
       "      <th></th>\n",
       "      <th>Alightings</th>\n",
       "      <th>Boardings</th>\n",
       "      <th>Dockcount</th>\n",
       "      <th>Installati</th>\n",
       "      <th>Name</th>\n",
       "      <th>Station_id</th>\n",
       "      <th>geometry</th>\n",
       "    </tr>\n",
       "  </thead>\n",
       "  <tbody>\n",
       "    <tr>\n",
       "      <th>0</th>\n",
       "      <td>4260</td>\n",
       "      <td>4357</td>\n",
       "      <td>15.0</td>\n",
       "      <td>8/19/2013</td>\n",
       "      <td>Clay at Battery</td>\n",
       "      <td>41.0</td>\n",
       "      <td>POINT (-122.39997 37.795001)</td>\n",
       "    </tr>\n",
       "    <tr>\n",
       "      <th>1</th>\n",
       "      <td>5830</td>\n",
       "      <td>5240</td>\n",
       "      <td>15.0</td>\n",
       "      <td>8/19/2013</td>\n",
       "      <td>Davis at Jackson</td>\n",
       "      <td>42.0</td>\n",
       "      <td>POINT (-122.398436 37.79728)</td>\n",
       "    </tr>\n",
       "    <tr>\n",
       "      <th>2</th>\n",
       "      <td>5094</td>\n",
       "      <td>4969</td>\n",
       "      <td>15.0</td>\n",
       "      <td>8/19/2013</td>\n",
       "      <td>Commercial at Montgomery</td>\n",
       "      <td>45.0</td>\n",
       "      <td>POINT (-122.402923 37.794231)</td>\n",
       "    </tr>\n",
       "    <tr>\n",
       "      <th>3</th>\n",
       "      <td>3193</td>\n",
       "      <td>2844</td>\n",
       "      <td>15.0</td>\n",
       "      <td>8/19/2013</td>\n",
       "      <td>Washington at Kearney</td>\n",
       "      <td>46.0</td>\n",
       "      <td>POINT (-122.404767 37.795425)</td>\n",
       "    </tr>\n",
       "    <tr>\n",
       "      <th>4</th>\n",
       "      <td>4242</td>\n",
       "      <td>4348</td>\n",
       "      <td>19.0</td>\n",
       "      <td>8/19/2013</td>\n",
       "      <td>Post at Kearney</td>\n",
       "      <td>47.0</td>\n",
       "      <td>POINT (-122.403452 37.788975)</td>\n",
       "    </tr>\n",
       "  </tbody>\n",
       "</table>\n",
       "</div>"
      ],
      "text/plain": [
       "   Alightings  Boardings  Dockcount Installati                      Name  \\\n",
       "0        4260       4357       15.0  8/19/2013           Clay at Battery   \n",
       "1        5830       5240       15.0  8/19/2013          Davis at Jackson   \n",
       "2        5094       4969       15.0  8/19/2013  Commercial at Montgomery   \n",
       "3        3193       2844       15.0  8/19/2013     Washington at Kearney   \n",
       "4        4242       4348       19.0  8/19/2013           Post at Kearney   \n",
       "\n",
       "   Station_id                       geometry  \n",
       "0        41.0   POINT (-122.39997 37.795001)  \n",
       "1        42.0   POINT (-122.398436 37.79728)  \n",
       "2        45.0  POINT (-122.402923 37.794231)  \n",
       "3        46.0  POINT (-122.404767 37.795425)  \n",
       "4        47.0  POINT (-122.403452 37.788975)  "
      ]
     },
     "execution_count": 74,
     "metadata": {},
     "output_type": "execute_result"
    }
   ],
   "source": [
    "bike.head()"
   ]
  },
  {
   "cell_type": "code",
   "execution_count": 75,
   "metadata": {
    "collapsed": false
   },
   "outputs": [
    {
     "data": {
      "text/plain": [
       "<matplotlib.axes._subplots.AxesSubplot at 0x1f3f7eaa710>"
      ]
     },
     "execution_count": 75,
     "metadata": {},
     "output_type": "execute_result"
    },
    {
     "data": {
      "image/png": "iVBORw0KGgoAAAANSUhEUgAAAQMAAAD8CAYAAABzYsGzAAAABHNCSVQICAgIfAhkiAAAAAlwSFlz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\n",
      "text/plain": [
       "<matplotlib.figure.Figure at 0x1f3f7ea9e80>"
      ]
     },
     "metadata": {},
     "output_type": "display_data"
    }
   ],
   "source": [
    "bike.plot()"
   ]
  },
  {
   "cell_type": "code",
   "execution_count": 76,
   "metadata": {
    "collapsed": false
   },
   "outputs": [
    {
     "data": {
      "text/html": [
       "<div>\n",
       "<table border=\"1\" class=\"dataframe\">\n",
       "  <thead>\n",
       "    <tr style=\"text-align: right;\">\n",
       "      <th></th>\n",
       "      <th>STOP_ID</th>\n",
       "      <th>STOP_LAT</th>\n",
       "      <th>STOP_LON</th>\n",
       "      <th>geometry</th>\n",
       "    </tr>\n",
       "  </thead>\n",
       "  <tbody>\n",
       "    <tr>\n",
       "      <th>0</th>\n",
       "      <td>390</td>\n",
       "      <td>37.721190</td>\n",
       "      <td>-122.475096</td>\n",
       "      <td>POLYGON ((-122.4732708739641 37.72122058726108...</td>\n",
       "    </tr>\n",
       "    <tr>\n",
       "      <th>1</th>\n",
       "      <td>392</td>\n",
       "      <td>37.765159</td>\n",
       "      <td>-122.477210</td>\n",
       "      <td>POLYGON ((-122.475383794672 37.7651896197756, ...</td>\n",
       "    </tr>\n",
       "    <tr>\n",
       "      <th>2</th>\n",
       "      <td>660</td>\n",
       "      <td>37.723914</td>\n",
       "      <td>-122.435387</td>\n",
       "      <td>POLYGON ((-122.4335617909149 37.72394397209937...</td>\n",
       "    </tr>\n",
       "    <tr>\n",
       "      <th>3</th>\n",
       "      <td>913</td>\n",
       "      <td>37.719192</td>\n",
       "      <td>-122.425802</td>\n",
       "      <td>POLYGON ((-122.4239769029978 37.71922182363711...</td>\n",
       "    </tr>\n",
       "    <tr>\n",
       "      <th>4</th>\n",
       "      <td>3001</td>\n",
       "      <td>37.788530</td>\n",
       "      <td>-122.396044</td>\n",
       "      <td>POLYGON ((-122.3942171872453 37.7885593622781,...</td>\n",
       "    </tr>\n",
       "  </tbody>\n",
       "</table>\n",
       "</div>"
      ],
      "text/plain": [
       "   STOP_ID   STOP_LAT    STOP_LON  \\\n",
       "0      390  37.721190 -122.475096   \n",
       "1      392  37.765159 -122.477210   \n",
       "2      660  37.723914 -122.435387   \n",
       "3      913  37.719192 -122.425802   \n",
       "4     3001  37.788530 -122.396044   \n",
       "\n",
       "                                            geometry  \n",
       "0  POLYGON ((-122.4732708739641 37.72122058726108...  \n",
       "1  POLYGON ((-122.475383794672 37.7651896197756, ...  \n",
       "2  POLYGON ((-122.4335617909149 37.72394397209937...  \n",
       "3  POLYGON ((-122.4239769029978 37.71922182363711...  \n",
       "4  POLYGON ((-122.3942171872453 37.7885593622781,...  "
      ]
     },
     "execution_count": 76,
     "metadata": {},
     "output_type": "execute_result"
    }
   ],
   "source": [
    "buffers.head()"
   ]
  },
  {
   "cell_type": "code",
   "execution_count": 78,
   "metadata": {
    "collapsed": false
   },
   "outputs": [],
   "source": [
    "joined = gp.sjoin(buffers,bike,how = 'left')"
   ]
  },
  {
   "cell_type": "code",
   "execution_count": 79,
   "metadata": {
    "collapsed": false
   },
   "outputs": [
    {
     "data": {
      "text/html": [
       "<div>\n",
       "<table border=\"1\" class=\"dataframe\">\n",
       "  <thead>\n",
       "    <tr style=\"text-align: right;\">\n",
       "      <th></th>\n",
       "      <th>STOP_ID</th>\n",
       "      <th>STOP_LAT</th>\n",
       "      <th>STOP_LON</th>\n",
       "      <th>geometry</th>\n",
       "      <th>index_right</th>\n",
       "      <th>Alightings</th>\n",
       "      <th>Boardings</th>\n",
       "      <th>Dockcount</th>\n",
       "      <th>Installati</th>\n",
       "      <th>Name</th>\n",
       "      <th>Station_id</th>\n",
       "    </tr>\n",
       "  </thead>\n",
       "  <tbody>\n",
       "    <tr>\n",
       "      <th>0</th>\n",
       "      <td>390</td>\n",
       "      <td>37.721190</td>\n",
       "      <td>-122.475096</td>\n",
       "      <td>POLYGON ((-122.4732708739641 37.72122058726108...</td>\n",
       "      <td>NaN</td>\n",
       "      <td>NaN</td>\n",
       "      <td>NaN</td>\n",
       "      <td>NaN</td>\n",
       "      <td>NaN</td>\n",
       "      <td>NaN</td>\n",
       "      <td>NaN</td>\n",
       "    </tr>\n",
       "    <tr>\n",
       "      <th>1</th>\n",
       "      <td>392</td>\n",
       "      <td>37.765159</td>\n",
       "      <td>-122.477210</td>\n",
       "      <td>POLYGON ((-122.475383794672 37.7651896197756, ...</td>\n",
       "      <td>NaN</td>\n",
       "      <td>NaN</td>\n",
       "      <td>NaN</td>\n",
       "      <td>NaN</td>\n",
       "      <td>NaN</td>\n",
       "      <td>NaN</td>\n",
       "      <td>NaN</td>\n",
       "    </tr>\n",
       "    <tr>\n",
       "      <th>2</th>\n",
       "      <td>660</td>\n",
       "      <td>37.723914</td>\n",
       "      <td>-122.435387</td>\n",
       "      <td>POLYGON ((-122.4335617909149 37.72394397209937...</td>\n",
       "      <td>NaN</td>\n",
       "      <td>NaN</td>\n",
       "      <td>NaN</td>\n",
       "      <td>NaN</td>\n",
       "      <td>NaN</td>\n",
       "      <td>NaN</td>\n",
       "      <td>NaN</td>\n",
       "    </tr>\n",
       "    <tr>\n",
       "      <th>3</th>\n",
       "      <td>913</td>\n",
       "      <td>37.719192</td>\n",
       "      <td>-122.425802</td>\n",
       "      <td>POLYGON ((-122.4239769029978 37.71922182363711...</td>\n",
       "      <td>NaN</td>\n",
       "      <td>NaN</td>\n",
       "      <td>NaN</td>\n",
       "      <td>NaN</td>\n",
       "      <td>NaN</td>\n",
       "      <td>NaN</td>\n",
       "      <td>NaN</td>\n",
       "    </tr>\n",
       "    <tr>\n",
       "      <th>4</th>\n",
       "      <td>3001</td>\n",
       "      <td>37.788530</td>\n",
       "      <td>-122.396044</td>\n",
       "      <td>POLYGON ((-122.3942171872453 37.7885593622781,...</td>\n",
       "      <td>NaN</td>\n",
       "      <td>NaN</td>\n",
       "      <td>NaN</td>\n",
       "      <td>NaN</td>\n",
       "      <td>NaN</td>\n",
       "      <td>NaN</td>\n",
       "      <td>NaN</td>\n",
       "    </tr>\n",
       "  </tbody>\n",
       "</table>\n",
       "</div>"
      ],
      "text/plain": [
       "   STOP_ID   STOP_LAT    STOP_LON  \\\n",
       "0      390  37.721190 -122.475096   \n",
       "1      392  37.765159 -122.477210   \n",
       "2      660  37.723914 -122.435387   \n",
       "3      913  37.719192 -122.425802   \n",
       "4     3001  37.788530 -122.396044   \n",
       "\n",
       "                                            geometry  index_right  Alightings  \\\n",
       "0  POLYGON ((-122.4732708739641 37.72122058726108...          NaN         NaN   \n",
       "1  POLYGON ((-122.475383794672 37.7651896197756, ...          NaN         NaN   \n",
       "2  POLYGON ((-122.4335617909149 37.72394397209937...          NaN         NaN   \n",
       "3  POLYGON ((-122.4239769029978 37.71922182363711...          NaN         NaN   \n",
       "4  POLYGON ((-122.3942171872453 37.7885593622781,...          NaN         NaN   \n",
       "\n",
       "   Boardings  Dockcount Installati Name  Station_id  \n",
       "0        NaN        NaN        NaN  NaN         NaN  \n",
       "1        NaN        NaN        NaN  NaN         NaN  \n",
       "2        NaN        NaN        NaN  NaN         NaN  \n",
       "3        NaN        NaN        NaN  NaN         NaN  \n",
       "4        NaN        NaN        NaN  NaN         NaN  "
      ]
     },
     "execution_count": 79,
     "metadata": {},
     "output_type": "execute_result"
    }
   ],
   "source": [
    "joined.head()"
   ]
  },
  {
   "cell_type": "code",
   "execution_count": 80,
   "metadata": {
    "collapsed": false
   },
   "outputs": [
    {
     "data": {
      "text/plain": [
       "Index(['STOP_ID', 'STOP_LAT', 'STOP_LON', 'geometry', 'index_right',\n",
       "       'Alightings', 'Boardings', 'Dockcount', 'Installati', 'Name',\n",
       "       'Station_id'],\n",
       "      dtype='object')"
      ]
     },
     "execution_count": 80,
     "metadata": {},
     "output_type": "execute_result"
    }
   ],
   "source": [
    "joined.columns"
   ]
  },
  {
   "cell_type": "code",
   "execution_count": 81,
   "metadata": {
    "collapsed": true
   },
   "outputs": [],
   "source": [
    "keep = ['STOP_ID', 'geometry', 'Alightings', 'Boardings', 'Dockcount']"
   ]
  },
  {
   "cell_type": "code",
   "execution_count": 82,
   "metadata": {
    "collapsed": true
   },
   "outputs": [],
   "source": []
  },
  {
   "cell_type": "code",
=======
>>>>>>> 6e43ba4dca69e340b79d1a3d9b929f6bae11c8f8
   "execution_count": null,
   "metadata": {
    "collapsed": true
   },
   "outputs": [],
   "source": []
  }
 ],
 "metadata": {
  "anaconda-cloud": {},
  "kernelspec": {
   "display_name": "Python [conda root]",
   "language": "python",
   "name": "conda-root-py"
  },
  "language_info": {
   "codemirror_mode": {
    "name": "ipython",
    "version": 3
   },
   "file_extension": ".py",
   "mimetype": "text/x-python",
   "name": "python",
   "nbconvert_exporter": "python",
   "pygments_lexer": "ipython3",
   "version": "3.5.2"
  }
 },
 "nbformat": 4,
 "nbformat_minor": 1
}
