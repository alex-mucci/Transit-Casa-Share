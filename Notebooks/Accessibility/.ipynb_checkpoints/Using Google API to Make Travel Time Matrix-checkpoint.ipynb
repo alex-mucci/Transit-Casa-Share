{
 "cells": [
  {
   "cell_type": "code",
   "execution_count": 2,
   "metadata": {
    "collapsed": true
   },
   "outputs": [],
   "source": [
    "%matplotlib inline\n",
    "\n",
    "import pandas as pd\n",
    "import geopandas as gp\n",
    "import json    # library for working with JSON-formatted text strings\n",
    "import requests  # library for accessing content from web URLs\n",
    "\n",
    "import pprint  # library for making Python data structures readable\n",
    "pp = pprint.PrettyPrinter()"
   ]
  },
  {
   "cell_type": "code",
   "execution_count": null,
   "metadata": {
    "collapsed": true
   },
   "outputs": [],
   "source": []
  },
  {
   "cell_type": "code",
   "execution_count": 3,
   "metadata": {
    "collapsed": true
   },
   "outputs": [],
   "source": [
    "stops = gp.read_file('E:/Transit-Casa-Alex/Input/Bus_Stops/2009/Post-Deleted_Stops/Bus_Stops.shp')"
   ]
  },
  {
   "cell_type": "code",
   "execution_count": 4,
   "metadata": {
    "collapsed": true
   },
   "outputs": [],
   "source": [
    "stops.to_csv('E:/Transit-Casa-Alex/Input/Bus_Stops/2009/Post-Deleted_Stops/Bus_Stops.shp.csv')"
   ]
  },
  {
   "cell_type": "code",
   "execution_count": 5,
   "metadata": {
    "collapsed": false
   },
   "outputs": [
    {
     "data": {
      "text/html": [
       "<div>\n",
       "<table border=\"1\" class=\"dataframe\">\n",
       "  <thead>\n",
       "    <tr style=\"text-align: right;\">\n",
       "      <th></th>\n",
       "      <th>STOP_ID</th>\n",
       "      <th>STOP_LAT</th>\n",
       "      <th>STOP_LON</th>\n",
       "      <th>geometry</th>\n",
       "    </tr>\n",
       "  </thead>\n",
       "  <tbody>\n",
       "    <tr>\n",
       "      <th>0</th>\n",
       "      <td>390</td>\n",
       "      <td>37.721190</td>\n",
       "      <td>-122.475096</td>\n",
       "      <td>POINT (-122.475096 37.72119)</td>\n",
       "    </tr>\n",
       "    <tr>\n",
       "      <th>1</th>\n",
       "      <td>392</td>\n",
       "      <td>37.765159</td>\n",
       "      <td>-122.477210</td>\n",
       "      <td>POINT (-122.47721 37.765159)</td>\n",
       "    </tr>\n",
       "    <tr>\n",
       "      <th>2</th>\n",
       "      <td>660</td>\n",
       "      <td>37.723914</td>\n",
       "      <td>-122.435387</td>\n",
       "      <td>POINT (-122.435387 37.723914)</td>\n",
       "    </tr>\n",
       "    <tr>\n",
       "      <th>3</th>\n",
       "      <td>913</td>\n",
       "      <td>37.719192</td>\n",
       "      <td>-122.425802</td>\n",
       "      <td>POINT (-122.425802 37.719192)</td>\n",
       "    </tr>\n",
       "    <tr>\n",
       "      <th>4</th>\n",
       "      <td>3001</td>\n",
       "      <td>37.788530</td>\n",
       "      <td>-122.396044</td>\n",
       "      <td>POINT (-122.396044 37.78853)</td>\n",
       "    </tr>\n",
       "  </tbody>\n",
       "</table>\n",
       "</div>"
      ],
      "text/plain": [
       "   STOP_ID   STOP_LAT    STOP_LON                       geometry\n",
       "0      390  37.721190 -122.475096   POINT (-122.475096 37.72119)\n",
       "1      392  37.765159 -122.477210   POINT (-122.47721 37.765159)\n",
       "2      660  37.723914 -122.435387  POINT (-122.435387 37.723914)\n",
       "3      913  37.719192 -122.425802  POINT (-122.425802 37.719192)\n",
       "4     3001  37.788530 -122.396044   POINT (-122.396044 37.78853)"
      ]
     },
     "execution_count": 5,
     "metadata": {},
     "output_type": "execute_result"
    }
   ],
   "source": [
    "stops.head()"
   ]
  },
  {
   "cell_type": "code",
   "execution_count": 14,
   "metadata": {
    "collapsed": false
   },
   "outputs": [
    {
     "name": "stdout",
     "output_type": "stream",
     "text": [
      "https://maps.googleapis.com/maps/api/distancematrix/json?destinations=37.750066%2C-122.441075&units=imperial&origins=34.721190%2C-122.475096\n"
     ]
    }
   ],
   "source": [
    "endpoint = 'https://maps.googleapis.com/maps/api/distancematrix/json'\n",
    "\n",
    "params = {'units': 'imperial', 'origins':'34.721190,-122.475096' ,'destinations':'37.750066,-122.441075'}\n",
    "\n",
    "url = requests.Request('GET', endpoint, params=params).prepare().url\n",
    "print(url)"
   ]
  },
  {
   "cell_type": "code",
   "execution_count": 28,
   "metadata": {
    "collapsed": false
   },
   "outputs": [
    {
     "name": "stdout",
     "output_type": "stream",
     "text": [
      "{'status': 'OK', 'origin_addresses': ['San Francisco, CA, USA'], 'destination_addresses': ['Seattle, WA, USA'], 'rows': [{'elements': [{'duration': {'text': '12 hours 28 mins', 'value': 44860}, 'status': 'OK', 'distance': {'text': '808 mi', 'value': 1299980}}]}]}\n"
     ]
    }
   ],
   "source": [
    "response = requests.get(url)\n",
    "results = response.text\n",
    "data = json.loads(results)\n",
    "\n",
    "print(data)"
   ]
  },
  {
   "cell_type": "code",
   "execution_count": 27,
   "metadata": {
    "collapsed": false
   },
   "outputs": [
    {
     "name": "stdout",
     "output_type": "stream",
     "text": [
      "https://maps.googleapis.com/maps/api/distancematrix/json?departure_time=1517904&destinations=Seattle&units=imperial&mode=Transit&origins=San+Francisco\n"
     ]
    }
   ],
   "source": [
    "endpoint = 'https://maps.googleapis.com/maps/api/distancematrix/json'\n",
    "\n",
    "params = {'units': 'imperial', 'origins':'San Francisco' ,'destinations':'Seattle','mode':'Transit','departure_time':'1517904'}\n",
    "\n",
    "\n",
    "url = requests.Request('GET', endpoint, params=params).prepare().url\n",
    "print(url)"
   ]
  },
  {
   "cell_type": "code",
   "execution_count": null,
   "metadata": {
    "collapsed": true
   },
   "outputs": [],
   "source": []
  }
 ],
 "metadata": {
  "anaconda-cloud": {},
  "kernelspec": {
   "display_name": "Python [conda root]",
   "language": "python",
   "name": "conda-root-py"
  },
  "language_info": {
   "codemirror_mode": {
    "name": "ipython",
    "version": 3
   },
   "file_extension": ".py",
   "mimetype": "text/x-python",
   "name": "python",
   "nbconvert_exporter": "python",
   "pygments_lexer": "ipython3",
   "version": "3.5.2"
  }
 },
 "nbformat": 4,
 "nbformat_minor": 1
}
