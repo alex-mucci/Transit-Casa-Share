{
 "cells": [
  {
   "cell_type": "code",
   "execution_count": 1,
   "metadata": {
    "collapsed": false
   },
   "outputs": [
    {
     "ename": "ImportError",
     "evalue": "No module named 'Muni_Estimates_day'",
     "output_type": "error",
     "traceback": [
      "\u001b[0;31m---------------------------------------------------------------------------\u001b[0m",
      "\u001b[0;31mImportError\u001b[0m                               Traceback (most recent call last)",
      "\u001b[0;32m<ipython-input-1-11209ee1657c>\u001b[0m in \u001b[0;36m<module>\u001b[0;34m()\u001b[0m\n\u001b[1;32m      4\u001b[0m \u001b[1;32mimport\u001b[0m \u001b[0msys\u001b[0m\u001b[1;33m\u001b[0m\u001b[0m\n\u001b[1;32m      5\u001b[0m \u001b[0msys\u001b[0m\u001b[1;33m.\u001b[0m\u001b[0mpath\u001b[0m\u001b[1;33m.\u001b[0m\u001b[0mappend\u001b[0m\u001b[1;33m(\u001b[0m\u001b[1;34m'E:\\Transit_Casa\\Alex\\Scripts'\u001b[0m\u001b[1;33m)\u001b[0m\u001b[1;33m\u001b[0m\u001b[0m\n\u001b[0;32m----> 6\u001b[0;31m \u001b[1;32mimport\u001b[0m \u001b[0mMuni_Estimates_day\u001b[0m \u001b[1;32mas\u001b[0m \u001b[0mmuni\u001b[0m\u001b[1;33m\u001b[0m\u001b[0m\n\u001b[0m\u001b[1;32m      7\u001b[0m \u001b[1;32mimport\u001b[0m \u001b[0mMap_stop_PercentDiff\u001b[0m\u001b[1;33m\u001b[0m\u001b[0m\n",
      "\u001b[0;31mImportError\u001b[0m: No module named 'Muni_Estimates_day'"
     ]
    }
   ],
   "source": [
    "import pandas as pd\n",
    "import numpy as np\n",
    "import folium\n",
    "import sys\n",
    "sys.path.append('E:\\Transit_Casa\\Alex\\Scripts')\n",
    "import Muni_Estimates_day as muni\n",
    "import Map_stop_PercentDiff \n"
   ]
  },
  {
   "cell_type": "code",
   "execution_count": 2,
   "metadata": {
    "collapsed": true
   },
   "outputs": [],
   "source": [
    "TS_INFILE= \"E:/Transit_Casa/Output/sfmuni_monthly_ts.h5\"\n",
    "OUTFILE_START = 'E:\\Transit_Casa\\Alex\\C_Drive\\Maps/'\n",
    "TABLE = 'stop_day'\n",
    "MONTH1 = '2009-09-01'\n",
    "MONTH2 = '2009-10-01'\n",
    "MONTH3 = '2009-11-01'\n",
    "MONTH4 = '2013-09-01'\n",
    "MONTH5 = '2013-10-01'\n",
    "MONTH6 = '2013-11-01'"
   ]
  },
  {
   "cell_type": "code",
   "execution_count": 11,
   "metadata": {
    "collapsed": false
   },
   "outputs": [],
   "source": [
    "def get_day(hdffile,table,month1, month2,month3,month4,month5,month6):\n",
    "    \"\"\"\n",
    "\n",
    "    Write a comment here about the arguments and what it returns. \n",
    "    \"\"\"\n",
    "    \n",
    "    store = pd.HDFStore(hdffile)\n",
    "    df = store.get(table, where )\n",
    "    \n",
    "    df1 = df[df['MONTH'] == month1]\n",
    "    df2 = df[df['MONTH'] == month2]\n",
    "    df3 = df[df['MONTH'] == month3]\n",
    "    df4 = df[df['MONTH'] == month4]\n",
    "    df5 = df[df['MONTH'] == month5]\n",
    "    df6 = df[df['MONTH'] == month6]\n",
    "    \n",
    "   \n",
    "   #the stop tables had stop_id as their unique identifier and required a different key when merging\n",
    "    if table == 'stop_day':\n",
    "    # merge the two months for easy comparison of values (outer so that all stops are preserved, nan is filled in for missing stops)\n",
    "        df = pd.merge(df09,df13, how = 'outer', on = ['DOW', 'AGENCY_ID', 'STOP_ID'], suffixes = ['_09','_13'])\n",
    "    \n",
    "    else: \n",
    "        df = pd.merge(df1,df2, how = 'outer', on = ['DOW', 'AGENCY_ID', 'ROUTE_SHORT_NAME', 'DIR', 'SEQ'], suffixes = ['_09','_13'])\n",
    "    \n",
    "    #sort the columns alphabetically to easily compare values\n",
    "    df = df.reindex_axis(sorted(df.columns), axis=1)\n",
    "    return df"
   ]
  },
  {
   "cell_type": "code",
   "execution_count": 2,
   "metadata": {
    "collapsed": false
   },
   "outputs": [
    {
     "data": {
      "text/plain": [
       "<bound method HDFStore.items of <class 'pandas.io.pytables.HDFStore'>\n",
       "File path: E:/Transit_Casa/Output/sfmuni_monthly_ts.h5\n",
       "/rs_day                  frame_table  (typ->appendable,nrows->301137,ncols->57,indexers->[index],dc->[MONTH,DOW,AGENCY_ID,ROUTE_SHORT_NAME,DIR,SEQ,NUMDAYS,OBSDAYS,TRIP_STOPS,OBS_TRIP_STOPS,WGT_TRIP_STOPS,STOP_ID,ROUTE_LONG_NAME,ROUTE_TYPE,TRIP_HEADSIGN,HEADWAY_S,FARE,STOPNAME,STOPNAME_AVL,STOP_LAT,STOP_LON,EOL,SOL,TIMEPOINT,ARRIVAL_TIME_DEV,DEPARTURE_TIME_DEV,DWELL_S,DWELL,RUNTIME_S,RUNTIME,TOTTIME_S,TOTTIME,SERVMILES_S,SERVMILES,RUNSPEED_S,RUNSPEED,TOTSPEED_S,TOTSPEED,ONTIME5,ON,OFF,LOAD_ARR,LOAD_DEP,PASSMILES,PASSHOURS,WAITHOURS,FULLFARE_REV,PASSDELAY_DEP,PASSDELAY_ARR,RDBRDNGS,DOORCYCLES,WHEELCHAIR,BIKERACK,CAPACITY,VC,CROWDED,CROWDHOURS])     \n",
       "/rs_tod                  frame_table  (typ->appendable,nrows->1565864,ncols->58,indexers->[index],dc->[MONTH,DOW,TOD,AGENCY_ID,ROUTE_SHORT_NAME,DIR,SEQ,NUMDAYS,OBSDAYS,TRIP_STOPS,OBS_TRIP_STOPS,WGT_TRIP_STOPS,STOP_ID,ROUTE_LONG_NAME,ROUTE_TYPE,TRIP_HEADSIGN,HEADWAY_S,FARE,STOPNAME,STOPNAME_AVL,STOP_LAT,STOP_LON,EOL,SOL,TIMEPOINT,ARRIVAL_TIME_DEV,DEPARTURE_TIME_DEV,DWELL_S,DWELL,RUNTIME_S,RUNTIME,TOTTIME_S,TOTTIME,SERVMILES_S,SERVMILES,RUNSPEED_S,RUNSPEED,TOTSPEED_S,TOTSPEED,ONTIME5,ON,OFF,LOAD_ARR,LOAD_DEP,PASSMILES,PASSHOURS,WAITHOURS,FULLFARE_REV,PASSDELAY_DEP,PASSDELAY_ARR,RDBRDNGS,DOORCYCLES,WHEELCHAIR,BIKERACK,CAPACITY,VC,CROWDED,CROWDHOURS])\n",
       "/stop_day                frame_table  (typ->appendable,nrows->177415,ncols->51,indexers->[index],dc->[MONTH,DOW,AGENCY_ID,STOP_ID,NUMDAYS,OBSDAYS,TRIP_STOPS,OBS_TRIP_STOPS,WGT_TRIP_STOPS,HEADWAY_S,FARE,STOPNAME,STOPNAME_AVL,STOP_LAT,STOP_LON,EOL,SOL,TIMEPOINT,ARRIVAL_TIME_DEV,DEPARTURE_TIME_DEV,DWELL_S,DWELL,RUNTIME_S,RUNTIME,TOTTIME_S,TOTTIME,SERVMILES_S,SERVMILES,RUNSPEED_S,RUNSPEED,TOTSPEED_S,TOTSPEED,ONTIME5,ON,OFF,LOAD_ARR,LOAD_DEP,PASSMILES,PASSHOURS,WAITHOURS,FULLFARE_REV,PASSDELAY_DEP,PASSDELAY_ARR,RDBRDNGS,DOORCYCLES,WHEELCHAIR,BIKERACK,CAPACITY,VC,CROWDED,CROWDHOURS])                                                                       \n",
       "/stop_tod                frame_table  (typ->appendable,nrows->1125515,ncols->52,indexers->[index],dc->[MONTH,DOW,TOD,AGENCY_ID,STOP_ID,NUMDAYS,OBSDAYS,TRIP_STOPS,OBS_TRIP_STOPS,WGT_TRIP_STOPS,HEADWAY_S,FARE,STOPNAME,STOPNAME_AVL,STOP_LAT,STOP_LON,EOL,SOL,TIMEPOINT,ARRIVAL_TIME_DEV,DEPARTURE_TIME_DEV,DWELL_S,DWELL,RUNTIME_S,RUNTIME,TOTTIME_S,TOTTIME,SERVMILES_S,SERVMILES,RUNSPEED_S,RUNSPEED,TOTSPEED_S,TOTSPEED,ONTIME5,ON,OFF,LOAD_ARR,LOAD_DEP,PASSMILES,PASSHOURS,WAITHOURS,FULLFARE_REV,PASSDELAY_DEP,PASSDELAY_ARR,RDBRDNGS,DOORCYCLES,WHEELCHAIR,BIKERACK,CAPACITY,VC,CROWDED,CROWDHOURS])                                                                  \n",
       "/system_day_s            frame_table  (typ->appendable,nrows->53,ncols->38,indexers->[index],dc->[MONTH,DOW,AGENCY_ID,NUMDAYS,OBSDAYS,TRIP_STOPS,OBS_TRIP_STOPS,WGT_TRIP_STOPS,HEADWAY_S,FARE,DWELL_S,DWELL,RUNTIME_S,RUNTIME,TOTTIME_S,TOTTIME,SERVMILES_S,SERVMILES,RUNSPEED_S,RUNSPEED,TOTSPEED_S,TOTSPEED,ONTIME5,ON,OFF,PASSMILES,PASSHOURS,WAITHOURS,FULLFARE_REV,PASSDELAY_DEP,PASSDELAY_ARR,RDBRDNGS,DOORCYCLES,WHEELCHAIR,BIKERACK,VC,CROWDED,CROWDHOURS])                                                                                                                                                                                                            \n",
       "/system_tod_s            frame_table  (typ->appendable,nrows->371,ncols->39,indexers->[index],dc->[MONTH,DOW,TOD,AGENCY_ID,NUMDAYS,OBSDAYS,TRIP_STOPS,OBS_TRIP_STOPS,WGT_TRIP_STOPS,HEADWAY_S,FARE,DWELL_S,DWELL,RUNTIME_S,RUNTIME,TOTTIME_S,TOTTIME,SERVMILES_S,SERVMILES,RUNSPEED_S,RUNSPEED,TOTSPEED_S,TOTSPEED,ONTIME5,ON,OFF,PASSMILES,PASSHOURS,WAITHOURS,FULLFARE_REV,PASSDELAY_DEP,PASSDELAY_ARR,RDBRDNGS,DOORCYCLES,WHEELCHAIR,BIKERACK,VC,CROWDED,CROWDHOURS])                                                                                                                                                                                                       >"
      ]
     },
     "execution_count": 2,
     "metadata": {},
     "output_type": "execute_result"
    }
   ],
   "source": [
    "store = pd.HDFStore(\"E:/Transit_Casa/Output/sfmuni_monthly_ts.h5\")\n",
    "\n",
    "df = store.get('stop_day')\n"
   ]
  },
  {
   "cell_type": "code",
   "execution_count": 61,
   "metadata": {
    "collapsed": false
   },
   "outputs": [
    {
     "data": {
      "text/html": [
       "<div>\n",
       "<table border=\"1\" class=\"dataframe\">\n",
       "  <thead>\n",
       "    <tr style=\"text-align: right;\">\n",
       "      <th></th>\n",
       "      <th>MONTH_9</th>\n",
       "      <th>DOW_9</th>\n",
       "      <th>AGENCY_ID_9</th>\n",
       "      <th>STOP_ID</th>\n",
       "      <th>NUMDAYS_9</th>\n",
       "      <th>OBSDAYS_9</th>\n",
       "      <th>TRIP_STOPS_9</th>\n",
       "      <th>OBS_TRIP_STOPS_9</th>\n",
       "      <th>WGT_TRIP_STOPS_9</th>\n",
       "      <th>HEADWAY_S_9</th>\n",
       "      <th>...</th>\n",
       "      <th>PASSDELAY_DEP</th>\n",
       "      <th>PASSDELAY_ARR</th>\n",
       "      <th>RDBRDNGS</th>\n",
       "      <th>DOORCYCLES</th>\n",
       "      <th>WHEELCHAIR</th>\n",
       "      <th>BIKERACK</th>\n",
       "      <th>CAPACITY</th>\n",
       "      <th>VC</th>\n",
       "      <th>CROWDED</th>\n",
       "      <th>CROWDHOURS</th>\n",
       "    </tr>\n",
       "  </thead>\n",
       "  <tbody>\n",
       "    <tr>\n",
       "      <th>0</th>\n",
       "      <td>2009-09-01</td>\n",
       "      <td>1</td>\n",
       "      <td>SFMTA</td>\n",
       "      <td>390</td>\n",
       "      <td>22</td>\n",
       "      <td>22</td>\n",
       "      <td>306</td>\n",
       "      <td>45</td>\n",
       "      <td>273.297197</td>\n",
       "      <td>21.795987</td>\n",
       "      <td>...</td>\n",
       "      <td>5481.007521</td>\n",
       "      <td>4592.454589</td>\n",
       "      <td>0.795527</td>\n",
       "      <td>385.746606</td>\n",
       "      <td>0.0</td>\n",
       "      <td>0.000000</td>\n",
       "      <td>2967.30</td>\n",
       "      <td>0.307861</td>\n",
       "      <td>0.039555</td>\n",
       "      <td>12.393311</td>\n",
       "    </tr>\n",
       "    <tr>\n",
       "      <th>1</th>\n",
       "      <td>2009-09-01</td>\n",
       "      <td>1</td>\n",
       "      <td>SFMTA</td>\n",
       "      <td>392</td>\n",
       "      <td>22</td>\n",
       "      <td>22</td>\n",
       "      <td>121</td>\n",
       "      <td>17</td>\n",
       "      <td>119.847627</td>\n",
       "      <td>14.226891</td>\n",
       "      <td>...</td>\n",
       "      <td>1355.940400</td>\n",
       "      <td>1226.483519</td>\n",
       "      <td>0.000000</td>\n",
       "      <td>183.265110</td>\n",
       "      <td>0.0</td>\n",
       "      <td>0.950000</td>\n",
       "      <td>1140.30</td>\n",
       "      <td>0.372445</td>\n",
       "      <td>0.007079</td>\n",
       "      <td>1.064489</td>\n",
       "    </tr>\n",
       "    <tr>\n",
       "      <th>2</th>\n",
       "      <td>2009-09-01</td>\n",
       "      <td>1</td>\n",
       "      <td>SFMTA</td>\n",
       "      <td>660</td>\n",
       "      <td>22</td>\n",
       "      <td>22</td>\n",
       "      <td>134</td>\n",
       "      <td>16</td>\n",
       "      <td>135.850975</td>\n",
       "      <td>9.335424</td>\n",
       "      <td>...</td>\n",
       "      <td>0.243557</td>\n",
       "      <td>0.243557</td>\n",
       "      <td>0.333640</td>\n",
       "      <td>0.479031</td>\n",
       "      <td>0.0</td>\n",
       "      <td>0.332082</td>\n",
       "      <td>1867.65</td>\n",
       "      <td>0.108443</td>\n",
       "      <td>0.000000</td>\n",
       "      <td>0.000000</td>\n",
       "    </tr>\n",
       "    <tr>\n",
       "      <th>3</th>\n",
       "      <td>2009-09-01</td>\n",
       "      <td>1</td>\n",
       "      <td>SFMTA</td>\n",
       "      <td>913</td>\n",
       "      <td>22</td>\n",
       "      <td>17</td>\n",
       "      <td>91</td>\n",
       "      <td>17</td>\n",
       "      <td>87.038251</td>\n",
       "      <td>24.685393</td>\n",
       "      <td>...</td>\n",
       "      <td>102.864480</td>\n",
       "      <td>96.325624</td>\n",
       "      <td>1.651961</td>\n",
       "      <td>68.730025</td>\n",
       "      <td>0.0</td>\n",
       "      <td>0.097222</td>\n",
       "      <td>1050.00</td>\n",
       "      <td>0.047730</td>\n",
       "      <td>0.000000</td>\n",
       "      <td>0.000000</td>\n",
       "    </tr>\n",
       "    <tr>\n",
       "      <th>4</th>\n",
       "      <td>2009-09-01</td>\n",
       "      <td>1</td>\n",
       "      <td>SFMTA</td>\n",
       "      <td>3001</td>\n",
       "      <td>22</td>\n",
       "      <td>22</td>\n",
       "      <td>63</td>\n",
       "      <td>12</td>\n",
       "      <td>63.000000</td>\n",
       "      <td>12.870968</td>\n",
       "      <td>...</td>\n",
       "      <td>3.807565</td>\n",
       "      <td>3.798420</td>\n",
       "      <td>0.000000</td>\n",
       "      <td>0.508117</td>\n",
       "      <td>0.0</td>\n",
       "      <td>0.413115</td>\n",
       "      <td>677.25</td>\n",
       "      <td>0.288505</td>\n",
       "      <td>0.035141</td>\n",
       "      <td>2.034456</td>\n",
       "    </tr>\n",
       "  </tbody>\n",
       "</table>\n",
       "<p>5 rows × 151 columns</p>\n",
       "</div>"
      ],
      "text/plain": [
       "     MONTH_9  DOW_9 AGENCY_ID_9  STOP_ID  NUMDAYS_9  OBSDAYS_9  TRIP_STOPS_9  \\\n",
       "0 2009-09-01      1       SFMTA      390         22         22           306   \n",
       "1 2009-09-01      1       SFMTA      392         22         22           121   \n",
       "2 2009-09-01      1       SFMTA      660         22         22           134   \n",
       "3 2009-09-01      1       SFMTA      913         22         17            91   \n",
       "4 2009-09-01      1       SFMTA     3001         22         22            63   \n",
       "\n",
       "   OBS_TRIP_STOPS_9  WGT_TRIP_STOPS_9  HEADWAY_S_9     ...      PASSDELAY_DEP  \\\n",
       "0                45        273.297197    21.795987     ...        5481.007521   \n",
       "1                17        119.847627    14.226891     ...        1355.940400   \n",
       "2                16        135.850975     9.335424     ...           0.243557   \n",
       "3                17         87.038251    24.685393     ...         102.864480   \n",
       "4                12         63.000000    12.870968     ...           3.807565   \n",
       "\n",
       "  PASSDELAY_ARR  RDBRDNGS  DOORCYCLES  WHEELCHAIR  BIKERACK  CAPACITY  \\\n",
       "0   4592.454589  0.795527  385.746606         0.0  0.000000   2967.30   \n",
       "1   1226.483519  0.000000  183.265110         0.0  0.950000   1140.30   \n",
       "2      0.243557  0.333640    0.479031         0.0  0.332082   1867.65   \n",
       "3     96.325624  1.651961   68.730025         0.0  0.097222   1050.00   \n",
       "4      3.798420  0.000000    0.508117         0.0  0.413115    677.25   \n",
       "\n",
       "         VC   CROWDED  CROWDHOURS  \n",
       "0  0.307861  0.039555   12.393311  \n",
       "1  0.372445  0.007079    1.064489  \n",
       "2  0.108443  0.000000    0.000000  \n",
       "3  0.047730  0.000000    0.000000  \n",
       "4  0.288505  0.035141    2.034456  \n",
       "\n",
       "[5 rows x 151 columns]"
      ]
     },
     "execution_count": 61,
     "metadata": {},
     "output_type": "execute_result"
    }
   ],
   "source": [
    "df1 = df[df['MONTH'] == MONTH1]\n",
    "df2 = df[df['MONTH'] == MONTH2]\n",
    "df3 = df[df['MONTH'] == MONTH3]\n",
    "df4 = df[df['MONTH'] == MONTH4]\n",
    "df5 = df[df['MONTH'] == MONTH5]\n",
    "df6 = df[df['MONTH'] == MONTH6]\n",
    "df09 = pd.merge(pd.merge(df1,df2,how = 'outer',on='STOP_ID',suffixes = ('_9','_10')),df3,how = 'outer',on='STOP_ID',)\n",
    "df13 = pd.merge(pd.merge(df4,df5,how = 'outer',on='STOP_ID',suffixes = ('_9','_10')),df6,how = 'outer',on='STOP_ID',)\n",
    "df_final = pd.merge(df09,df13,how = 'outer',on = 'STOP_ID',suffixes = ('_09','_13'))\n",
    "df09.head()"
   ]
  },
  {
   "cell_type": "code",
   "execution_count": 62,
   "metadata": {
    "collapsed": false
   },
   "outputs": [
    {
     "name": "stdout",
     "output_type": "stream",
     "text": [
      "3563\n",
      "3563\n",
      "3563\n",
      "3563\n",
      "3260\n",
      "3275\n",
      "3192\n",
      "3275\n"
     ]
    }
   ],
   "source": [
    "print(len(df1))\n",
    "print(len(df2))\n",
    "print(len(df3))\n",
    "print(len(df09))\n",
    "print(len(df4))\n",
    "print(len(df5))\n",
    "print(len(df6))\n",
    "print(len(df13))"
   ]
  },
  {
   "cell_type": "code",
   "execution_count": 67,
   "metadata": {
    "collapsed": false
   },
   "outputs": [
    {
     "name": "stdout",
     "output_type": "stream",
     "text": [
      "3563\n",
      "3275\n"
     ]
    },
    {
     "data": {
      "text/plain": [
       "3659"
      ]
     },
     "execution_count": 67,
     "metadata": {},
     "output_type": "execute_result"
    }
   ],
   "source": [
    "print(len(df09))\n",
    "print(len(df13))\n",
    "df = pd.merge(df09,df13,how = 'outer',on = 'STOP_ID',suffixes = ('_09','_13'))\n",
    "len(df)"
   ]
  },
  {
   "cell_type": "code",
   "execution_count": 11,
   "metadata": {
    "collapsed": false
   },
   "outputs": [],
   "source": [
    "    df09 = make_table(TS_INFILE,TABLE, MONTH1, MONTH2,MONTH3) \n",
    "    df13 = make_table(TS_INFILE,TABLE, MONTH4, MONTH5,MONTH6) \n",
    "    \n",
    "    df = pd.merge(df09,df13,how = 'inner',on = 'STOP_ID',suffixes = ('_09','_13'))\n",
    "    df['LAT'] = df.apply(lambda row: map.choose_right_latlon(row['STOP_LAT_09'], row['STOP_LAT_13']), axis=1)\n",
    "    df['LON'] = df.apply(lambda row: map.choose_right_latlon(row['STOP_LON_09'], row['STOP_LON_13']), axis=1)\n",
    "    names = get_names_avg(COLMN_NAME)\n",
    "    df[names[4]] = df[names[1]] - df[names[0]]\n",
    "    df[names[3]] = ((df[names[1]] - df[names[0]])/df[names[0]])*100\n",
    "    df[names[2]] = df[names[3]].astype(str) + '%'\n",
    "    show_list = ['STOP_ID',names[3],names[4],names[0],names[1]]\n",
    "    print(df)\n",
    "    map.map(names[3],names[4],names[2],df,show_list,OUTFILE_START,TABLE,COLMN_NAME,map.color,map.radius)\n",
    "    print('ALL DONE!! TIME FOR A BEER!!!')"
   ]
  },
  {
   "cell_type": "code",
   "execution_count": 26,
   "metadata": {
    "collapsed": false
   },
   "outputs": [
    {
     "ename": "NameError",
     "evalue": "name 'names' is not defined",
     "output_type": "error",
     "traceback": [
      "\u001b[0;31m---------------------------------------------------------------------------\u001b[0m",
      "\u001b[0;31mNameError\u001b[0m                                 Traceback (most recent call last)",
      "\u001b[0;32m<ipython-input-26-f74c54724755>\u001b[0m in \u001b[0;36m<module>\u001b[0;34m()\u001b[0m\n\u001b[1;32m      2\u001b[0m \u001b[0mdf13\u001b[0m \u001b[1;33m=\u001b[0m \u001b[0mpd\u001b[0m\u001b[1;33m.\u001b[0m\u001b[0mmerge\u001b[0m\u001b[1;33m(\u001b[0m\u001b[0mpd\u001b[0m\u001b[1;33m.\u001b[0m\u001b[0mmerge\u001b[0m\u001b[1;33m(\u001b[0m\u001b[0mdf4\u001b[0m\u001b[1;33m,\u001b[0m\u001b[0mdf5\u001b[0m\u001b[1;33m,\u001b[0m\u001b[0mon\u001b[0m\u001b[1;33m=\u001b[0m\u001b[1;34m'STOP_ID'\u001b[0m\u001b[1;33m,\u001b[0m\u001b[0msuffixes\u001b[0m \u001b[1;33m=\u001b[0m \u001b[1;33m(\u001b[0m\u001b[1;34m'_9'\u001b[0m\u001b[1;33m,\u001b[0m\u001b[1;34m'_10'\u001b[0m\u001b[1;33m)\u001b[0m\u001b[1;33m)\u001b[0m\u001b[1;33m,\u001b[0m\u001b[0mdf6\u001b[0m\u001b[1;33m,\u001b[0m\u001b[0mon\u001b[0m\u001b[1;33m=\u001b[0m\u001b[1;34m'STOP_ID'\u001b[0m\u001b[1;33m,\u001b[0m\u001b[1;33m)\u001b[0m\u001b[1;33m\u001b[0m\u001b[0m\n\u001b[1;32m      3\u001b[0m \u001b[0mdf_final\u001b[0m \u001b[1;33m=\u001b[0m \u001b[0mpd\u001b[0m\u001b[1;33m.\u001b[0m\u001b[0mmerge\u001b[0m\u001b[1;33m(\u001b[0m\u001b[0mdf09\u001b[0m\u001b[1;33m,\u001b[0m\u001b[0mdf13\u001b[0m\u001b[1;33m,\u001b[0m\u001b[0mhow\u001b[0m \u001b[1;33m=\u001b[0m \u001b[1;34m'outer'\u001b[0m\u001b[1;33m,\u001b[0m\u001b[0mon\u001b[0m \u001b[1;33m=\u001b[0m \u001b[1;34m'STOP_ID'\u001b[0m\u001b[1;33m,\u001b[0m\u001b[0msuffixes\u001b[0m \u001b[1;33m=\u001b[0m \u001b[1;33m(\u001b[0m\u001b[1;34m'_09'\u001b[0m\u001b[1;33m,\u001b[0m\u001b[1;34m'_13'\u001b[0m\u001b[1;33m)\u001b[0m\u001b[1;33m)\u001b[0m\u001b[1;33m\u001b[0m\u001b[0m\n\u001b[0;32m----> 4\u001b[0;31m \u001b[0mdf\u001b[0m\u001b[1;33m[\u001b[0m\u001b[0mnames\u001b[0m\u001b[1;33m[\u001b[0m\u001b[1;36m4\u001b[0m\u001b[1;33m]\u001b[0m\u001b[1;33m]\u001b[0m \u001b[1;33m=\u001b[0m \u001b[0mdf\u001b[0m\u001b[1;33m[\u001b[0m\u001b[0mnames\u001b[0m\u001b[1;33m[\u001b[0m\u001b[1;36m1\u001b[0m\u001b[1;33m]\u001b[0m\u001b[1;33m]\u001b[0m \u001b[1;33m-\u001b[0m \u001b[0mdf\u001b[0m\u001b[1;33m[\u001b[0m\u001b[0mnames\u001b[0m\u001b[1;33m[\u001b[0m\u001b[1;36m0\u001b[0m\u001b[1;33m]\u001b[0m\u001b[1;33m]\u001b[0m\u001b[1;33m\u001b[0m\u001b[0m\n\u001b[0m\u001b[1;32m      5\u001b[0m \u001b[0mdf\u001b[0m\u001b[1;33m[\u001b[0m\u001b[0mnames\u001b[0m\u001b[1;33m[\u001b[0m\u001b[1;36m3\u001b[0m\u001b[1;33m]\u001b[0m\u001b[1;33m]\u001b[0m \u001b[1;33m=\u001b[0m \u001b[1;33m(\u001b[0m\u001b[1;33m(\u001b[0m\u001b[0mdf\u001b[0m\u001b[1;33m[\u001b[0m\u001b[0mnames\u001b[0m\u001b[1;33m[\u001b[0m\u001b[1;36m1\u001b[0m\u001b[1;33m]\u001b[0m\u001b[1;33m]\u001b[0m \u001b[1;33m-\u001b[0m \u001b[0mdf\u001b[0m\u001b[1;33m[\u001b[0m\u001b[0mnames\u001b[0m\u001b[1;33m[\u001b[0m\u001b[1;36m0\u001b[0m\u001b[1;33m]\u001b[0m\u001b[1;33m]\u001b[0m\u001b[1;33m)\u001b[0m\u001b[1;33m/\u001b[0m\u001b[0mdf\u001b[0m\u001b[1;33m[\u001b[0m\u001b[0mnames\u001b[0m\u001b[1;33m[\u001b[0m\u001b[1;36m0\u001b[0m\u001b[1;33m]\u001b[0m\u001b[1;33m]\u001b[0m\u001b[1;33m)\u001b[0m\u001b[1;33m*\u001b[0m\u001b[1;36m100\u001b[0m\u001b[1;33m\u001b[0m\u001b[0m\n\u001b[1;32m      6\u001b[0m \u001b[0mdf\u001b[0m\u001b[1;33m[\u001b[0m\u001b[0mnames\u001b[0m\u001b[1;33m[\u001b[0m\u001b[1;36m2\u001b[0m\u001b[1;33m]\u001b[0m\u001b[1;33m]\u001b[0m \u001b[1;33m=\u001b[0m \u001b[0mdf\u001b[0m\u001b[1;33m[\u001b[0m\u001b[0mnames\u001b[0m\u001b[1;33m[\u001b[0m\u001b[1;36m3\u001b[0m\u001b[1;33m]\u001b[0m\u001b[1;33m]\u001b[0m\u001b[1;33m.\u001b[0m\u001b[0mastype\u001b[0m\u001b[1;33m(\u001b[0m\u001b[0mstr\u001b[0m\u001b[1;33m)\u001b[0m \u001b[1;33m+\u001b[0m \u001b[1;34m'%'\u001b[0m\u001b[1;33m\u001b[0m\u001b[0m\n",
      "\u001b[0;31mNameError\u001b[0m: name 'names' is not defined"
     ]
    }
   ],
   "source": [
    "df09 = pd.merge(pd.merge(df1,df2,on='STOP_ID',suffixes = ('_9','_10')),df3,on='STOP_ID',)\n",
    "df13 = pd.merge(pd.merge(df4,df5,on='STOP_ID',suffixes = ('_9','_10')),df6,on='STOP_ID',)\n",
    "df_final = pd.merge(df09,df13,how = 'outer',on = 'STOP_ID',suffixes = ('_09','_13'))\n",
    "df[names[4]] = df[names[1]] - df[names[0]]\n",
    "df[names[3]] = ((df[names[1]] - df[names[0]])/df[names[0]])*100\n",
    "df[names[2]] = df[names[3]].astype(str) + '%'"
   ]
  },
  {
   "cell_type": "code",
   "execution_count": 25,
   "metadata": {
    "collapsed": false
   },
   "outputs": [
    {
     "name": "stdout",
     "output_type": "stream",
     "text": [
      "3563\n",
      "3177\n",
      "3644\n"
     ]
    }
   ],
   "source": [
    "minimum = np.percentile(colmn_diff,5)\n",
    "maximum = np.percentile(colmn_diff,95)\n",
    "step = ((maximum + abs(minimum))/5)\n",
    "step2 = minimum + step\n",
    "step3 = step2 + step\n",
    "step4 = step3 + step\n",
    "step5 = step4 + step\n",
    "maximum = max(colmn_diff)\n",
    "minimum = min(colmn_diff)\n",
    "\n",
    "if minimum <= abs(colmn_value) < step2: \n",
    "    rad = 1\n",
    "elif step2 <= abs(colmn_value) < step3: \n",
    "    rad = 3\n",
    "elif step3 <= abs(colmn_value) < step4: \n",
    "    rad = 5\n",
    "elif step4 <= abs(colmn_value) < step5: \n",
    "    rad = 7\n",
    "elif step5 <= abs(colmn_value) <= maximum: \n",
    "    rad = 10\n",
    "else:\n",
    "    print('bad radius2')\n",
    "    print(colmn_value)\n",
    "    rad=100 \n"
   ]
  },
  {
   "cell_type": "code",
   "execution_count": 110,
   "metadata": {
    "collapsed": false
   },
   "outputs": [],
   "source": [
    "df09['avg'] = df09.mean(axis=1)\n",
    "df09[0:1000].to_csv('df09.csv')"
   ]
  },
  {
   "cell_type": "code",
   "execution_count": 70,
   "metadata": {
    "collapsed": false
   },
   "outputs": [],
   "source": []
  },
  {
   "cell_type": "code",
   "execution_count": 16,
   "metadata": {
    "collapsed": false
   },
   "outputs": [],
   "source": [
    "df_final = pd.DataFrame(columns = ['ON_9','ON_10','ON_11'])"
   ]
  },
  {
   "cell_type": "code",
   "execution_count": 17,
   "metadata": {
    "collapsed": false
   },
   "outputs": [
    {
     "data": {
      "text/html": [
       "<div>\n",
       "<table border=\"1\" class=\"dataframe\">\n",
       "  <thead>\n",
       "    <tr style=\"text-align: right;\">\n",
       "      <th></th>\n",
       "      <th>ON_9</th>\n",
       "      <th>ON_10</th>\n",
       "      <th>ON_11</th>\n",
       "    </tr>\n",
       "  </thead>\n",
       "  <tbody>\n",
       "    <tr>\n",
       "      <th>0</th>\n",
       "      <td>2245.741655</td>\n",
       "      <td>NaN</td>\n",
       "      <td>NaN</td>\n",
       "    </tr>\n",
       "    <tr>\n",
       "      <th>1</th>\n",
       "      <td>426.308055</td>\n",
       "      <td>NaN</td>\n",
       "      <td>NaN</td>\n",
       "    </tr>\n",
       "    <tr>\n",
       "      <th>2</th>\n",
       "      <td>2.125161</td>\n",
       "      <td>NaN</td>\n",
       "      <td>NaN</td>\n",
       "    </tr>\n",
       "    <tr>\n",
       "      <th>3</th>\n",
       "      <td>43.156595</td>\n",
       "      <td>NaN</td>\n",
       "      <td>NaN</td>\n",
       "    </tr>\n",
       "    <tr>\n",
       "      <th>4</th>\n",
       "      <td>11.328142</td>\n",
       "      <td>NaN</td>\n",
       "      <td>NaN</td>\n",
       "    </tr>\n",
       "  </tbody>\n",
       "</table>\n",
       "</div>"
      ],
      "text/plain": [
       "          ON_9 ON_10 ON_11\n",
       "0  2245.741655   NaN   NaN\n",
       "1   426.308055   NaN   NaN\n",
       "2     2.125161   NaN   NaN\n",
       "3    43.156595   NaN   NaN\n",
       "4    11.328142   NaN   NaN"
      ]
     },
     "execution_count": 17,
     "metadata": {},
     "output_type": "execute_result"
    }
   ],
   "source": [
    "df_final['ON_9'] = df09['ON_9']\n",
    "df_final.head()"
   ]
  },
  {
   "cell_type": "code",
   "execution_count": 18,
   "metadata": {
    "collapsed": false
   },
   "outputs": [],
   "source": [
    "df_final['ON_10'] = df09['ON_10']"
   ]
  },
  {
   "cell_type": "code",
   "execution_count": 19,
   "metadata": {
    "collapsed": false
   },
   "outputs": [],
   "source": [
    "df_final['ON_11'] = df09['ON'] "
   ]
  },
  {
   "cell_type": "code",
   "execution_count": 20,
   "metadata": {
    "collapsed": false
   },
   "outputs": [
    {
     "data": {
      "text/html": [
       "<div>\n",
       "<table border=\"1\" class=\"dataframe\">\n",
       "  <thead>\n",
       "    <tr style=\"text-align: right;\">\n",
       "      <th></th>\n",
       "      <th>ON_9</th>\n",
       "      <th>ON_10</th>\n",
       "      <th>ON_11</th>\n",
       "    </tr>\n",
       "  </thead>\n",
       "  <tbody>\n",
       "    <tr>\n",
       "      <th>0</th>\n",
       "      <td>2245.741655</td>\n",
       "      <td>2091.098683</td>\n",
       "      <td>1630.264645</td>\n",
       "    </tr>\n",
       "    <tr>\n",
       "      <th>1</th>\n",
       "      <td>426.308055</td>\n",
       "      <td>386.600244</td>\n",
       "      <td>324.298011</td>\n",
       "    </tr>\n",
       "    <tr>\n",
       "      <th>2</th>\n",
       "      <td>2.125161</td>\n",
       "      <td>2.046014</td>\n",
       "      <td>0.682106</td>\n",
       "    </tr>\n",
       "    <tr>\n",
       "      <th>3</th>\n",
       "      <td>43.156595</td>\n",
       "      <td>36.044479</td>\n",
       "      <td>22.415086</td>\n",
       "    </tr>\n",
       "    <tr>\n",
       "      <th>4</th>\n",
       "      <td>11.328142</td>\n",
       "      <td>22.438979</td>\n",
       "      <td>7.555196</td>\n",
       "    </tr>\n",
       "  </tbody>\n",
       "</table>\n",
       "</div>"
      ],
      "text/plain": [
       "          ON_9        ON_10        ON_11\n",
       "0  2245.741655  2091.098683  1630.264645\n",
       "1   426.308055   386.600244   324.298011\n",
       "2     2.125161     2.046014     0.682106\n",
       "3    43.156595    36.044479    22.415086\n",
       "4    11.328142    22.438979     7.555196"
      ]
     },
     "execution_count": 20,
     "metadata": {},
     "output_type": "execute_result"
    }
   ],
   "source": [
    "df_final.head()"
   ]
  },
  {
   "cell_type": "code",
   "execution_count": 21,
   "metadata": {
    "collapsed": false
   },
   "outputs": [],
   "source": [
    "df_final['AVG'] = df_final.mean(axis = 1)"
   ]
  },
  {
   "cell_type": "code",
   "execution_count": 22,
   "metadata": {
    "collapsed": false
   },
   "outputs": [
    {
     "data": {
      "text/html": [
       "<div>\n",
       "<table border=\"1\" class=\"dataframe\">\n",
       "  <thead>\n",
       "    <tr style=\"text-align: right;\">\n",
       "      <th></th>\n",
       "      <th>ON_9</th>\n",
       "      <th>ON_10</th>\n",
       "      <th>ON_11</th>\n",
       "      <th>AVG</th>\n",
       "    </tr>\n",
       "  </thead>\n",
       "  <tbody>\n",
       "    <tr>\n",
       "      <th>0</th>\n",
       "      <td>2245.741655</td>\n",
       "      <td>2091.098683</td>\n",
       "      <td>1630.264645</td>\n",
       "      <td>1989.034995</td>\n",
       "    </tr>\n",
       "    <tr>\n",
       "      <th>1</th>\n",
       "      <td>426.308055</td>\n",
       "      <td>386.600244</td>\n",
       "      <td>324.298011</td>\n",
       "      <td>379.068770</td>\n",
       "    </tr>\n",
       "    <tr>\n",
       "      <th>2</th>\n",
       "      <td>2.125161</td>\n",
       "      <td>2.046014</td>\n",
       "      <td>0.682106</td>\n",
       "      <td>1.617761</td>\n",
       "    </tr>\n",
       "    <tr>\n",
       "      <th>3</th>\n",
       "      <td>43.156595</td>\n",
       "      <td>36.044479</td>\n",
       "      <td>22.415086</td>\n",
       "      <td>33.872053</td>\n",
       "    </tr>\n",
       "    <tr>\n",
       "      <th>4</th>\n",
       "      <td>11.328142</td>\n",
       "      <td>22.438979</td>\n",
       "      <td>7.555196</td>\n",
       "      <td>13.774106</td>\n",
       "    </tr>\n",
       "  </tbody>\n",
       "</table>\n",
       "</div>"
      ],
      "text/plain": [
       "          ON_9        ON_10        ON_11          AVG\n",
       "0  2245.741655  2091.098683  1630.264645  1989.034995\n",
       "1   426.308055   386.600244   324.298011   379.068770\n",
       "2     2.125161     2.046014     0.682106     1.617761\n",
       "3    43.156595    36.044479    22.415086    33.872053\n",
       "4    11.328142    22.438979     7.555196    13.774106"
      ]
     },
     "execution_count": 22,
     "metadata": {},
     "output_type": "execute_result"
    }
   ],
   "source": [
    "df_final.head()"
   ]
  },
  {
   "cell_type": "code",
   "execution_count": null,
   "metadata": {
    "collapsed": false
   },
   "outputs": [],
   "source": []
  },
  {
   "cell_type": "code",
   "execution_count": 34,
   "metadata": {
    "collapsed": false
   },
   "outputs": [
    {
     "name": "stdout",
     "output_type": "stream",
     "text": [
      "Index(['ON_9', 'ON_10', 'ON_11', 'AVG'], dtype='object')\n"
     ]
    }
   ],
   "source": [
    "df09 = make_table(TS_INFILE,TABLE, MONTH1, MONTH2,MONTH3) \n",
    "df13 = make_table(TS_INFILE,TABLE, MONTH4, MONTH5,MONTH6) \n",
    "print(df09.columns)"
   ]
  },
  {
   "cell_type": "code",
   "execution_count": null,
   "metadata": {
    "collapsed": false
   },
   "outputs": [],
   "source": []
  },
  {
   "cell_type": "code",
   "execution_count": 37,
   "metadata": {
    "collapsed": true
   },
   "outputs": [],
   "source": []
  },
  {
   "cell_type": "code",
   "execution_count": null,
   "metadata": {
    "collapsed": true
   },
   "outputs": [],
   "source": []
  }
 ],
 "metadata": {
  "anaconda-cloud": {},
  "kernelspec": {
   "display_name": "Python [conda root]",
   "language": "python",
   "name": "conda-root-py"
  },
  "language_info": {
   "codemirror_mode": {
    "name": "ipython",
    "version": 3
   },
   "file_extension": ".py",
   "mimetype": "text/x-python",
   "name": "python",
   "nbconvert_exporter": "python",
   "pygments_lexer": "ipython3",
   "version": "3.5.2"
  }
 },
 "nbformat": 4,
 "nbformat_minor": 1
}
