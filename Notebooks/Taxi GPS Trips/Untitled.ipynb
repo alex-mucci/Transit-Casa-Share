{
 "cells": [
  {
   "cell_type": "code",
   "execution_count": 1,
   "metadata": {
    "collapsed": true
   },
   "outputs": [],
   "source": [
    "import pandas as pd"
   ]
  },
  {
   "cell_type": "code",
   "execution_count": 4,
   "metadata": {
    "collapsed": true
   },
   "outputs": [],
   "source": [
    "pd.read_csv?"
   ]
  },
  {
   "cell_type": "code",
   "execution_count": 2,
   "metadata": {
    "collapsed": true
   },
   "outputs": [],
   "source": [
    "columns = ['CAB_ID','DATE','LAT','LON','STATUS','DATE','LAT','LON','STATUS']"
   ]
  },
  {
   "cell_type": "code",
   "execution_count": 3,
   "metadata": {
    "collapsed": false
   },
   "outputs": [
    {
     "name": "stderr",
     "output_type": "stream",
     "text": [
      "ERROR:root:Internal Python error in the inspect module.\n",
      "Below is the traceback from this internal error.\n",
      "\n"
     ]
    },
    {
     "name": "stdout",
     "output_type": "stream",
     "text": [
      "Traceback (most recent call last):\n",
      "  File \"C:\\Anaconda\\lib\\site-packages\\IPython\\core\\interactiveshell.py\", line 2881, in run_code\n",
      "    exec(code_obj, self.user_global_ns, self.user_ns)\n",
      "  File \"<ipython-input-3-537d861a85d5>\", line 1, in <module>\n",
      "    taxi = pd.read_csv('C:/Workspace/CASA/Data/Taxi/2008-03-27.csv',skiprows = 2319,header = None)\n",
      "  File \"C:\\Anaconda\\lib\\site-packages\\pandas\\io\\parsers.py\", line 646, in parser_f\n",
      "    return _read(filepath_or_buffer, kwds)\n",
      "  File \"C:\\Anaconda\\lib\\site-packages\\pandas\\io\\parsers.py\", line 401, in _read\n",
      "    data = parser.read()\n",
      "  File \"C:\\Anaconda\\lib\\site-packages\\pandas\\io\\parsers.py\", line 957, in read\n",
      "    df = DataFrame(col_dict, columns=columns, index=index)\n",
      "  File \"C:\\Anaconda\\lib\\site-packages\\pandas\\core\\frame.py\", line 266, in __init__\n",
      "    mgr = self._init_dict(data, index, columns, dtype=dtype)\n",
      "  File \"C:\\Anaconda\\lib\\site-packages\\pandas\\core\\frame.py\", line 402, in _init_dict\n",
      "    return _arrays_to_mgr(arrays, data_names, index, columns, dtype=dtype)\n",
      "  File \"C:\\Anaconda\\lib\\site-packages\\pandas\\core\\frame.py\", line 5408, in _arrays_to_mgr\n",
      "    return create_block_manager_from_arrays(arrays, arr_names, axes)\n",
      "  File \"C:\\Anaconda\\lib\\site-packages\\pandas\\core\\internals.py\", line 4262, in create_block_manager_from_arrays\n",
      "    blocks = form_blocks(arrays, names, axes)\n",
      "  File \"C:\\Anaconda\\lib\\site-packages\\pandas\\core\\internals.py\", line 4359, in form_blocks\n",
      "    object_blocks = _simple_blockify(object_items, np.object_)\n",
      "  File \"C:\\Anaconda\\lib\\site-packages\\pandas\\core\\internals.py\", line 4389, in _simple_blockify\n",
      "    values, placement = _stack_arrays(tuples, dtype)\n",
      "  File \"C:\\Anaconda\\lib\\site-packages\\pandas\\core\\internals.py\", line 4451, in _stack_arrays\n",
      "    stacked = np.empty(shape, dtype=dtype)\n",
      "MemoryError\n",
      "\n",
      "During handling of the above exception, another exception occurred:\n",
      "\n",
      "Traceback (most recent call last):\n",
      "  File \"C:\\Anaconda\\lib\\site-packages\\IPython\\core\\interactiveshell.py\", line 1821, in showtraceback\n",
      "    stb = value._render_traceback_()\n",
      "AttributeError: 'MemoryError' object has no attribute '_render_traceback_'\n",
      "\n",
      "During handling of the above exception, another exception occurred:\n",
      "\n",
      "Traceback (most recent call last):\n",
      "  File \"C:\\Anaconda\\lib\\site-packages\\IPython\\core\\ultratb.py\", line 1132, in get_records\n",
      "    return _fixed_getinnerframes(etb, number_of_lines_of_context, tb_offset)\n",
      "  File \"C:\\Anaconda\\lib\\site-packages\\IPython\\core\\ultratb.py\", line 313, in wrapped\n",
      "    return f(*args, **kwargs)\n",
      "  File \"C:\\Anaconda\\lib\\site-packages\\IPython\\core\\ultratb.py\", line 358, in _fixed_getinnerframes\n",
      "    records = fix_frame_records_filenames(inspect.getinnerframes(etb, context))\n",
      "  File \"C:\\Anaconda\\lib\\inspect.py\", line 1453, in getinnerframes\n",
      "    frameinfo = (tb.tb_frame,) + getframeinfo(tb, context)\n",
      "  File \"C:\\Anaconda\\lib\\inspect.py\", line 1410, in getframeinfo\n",
      "    filename = getsourcefile(frame) or getfile(frame)\n",
      "  File \"C:\\Anaconda\\lib\\inspect.py\", line 672, in getsourcefile\n",
      "    if getattr(getmodule(object, filename), '__loader__', None) is not None:\n",
      "  File \"C:\\Anaconda\\lib\\inspect.py\", line 715, in getmodule\n",
      "    f = getabsfile(module)\n",
      "  File \"C:\\Anaconda\\lib\\inspect.py\", line 684, in getabsfile\n",
      "    _filename = getsourcefile(object) or getfile(object)\n",
      "  File \"C:\\Anaconda\\lib\\inspect.py\", line 669, in getsourcefile\n",
      "    if os.path.exists(filename):\n",
      "  File \"C:\\Anaconda\\lib\\genericpath.py\", line 19, in exists\n",
      "    os.stat(path)\n",
      "KeyboardInterrupt\n"
     ]
    },
    {
     "ename": "MemoryError",
     "evalue": "",
     "output_type": "error",
     "traceback": [
      "\u001b[0;31m---------------------------------------------------------------------------\u001b[0m"
     ]
    }
   ],
   "source": [
    "taxi = pd.read_csv('C:/Workspace/CASA/Data/Taxi/2008-03-27.csv',skiprows = 2319,header = None)"
   ]
  },
  {
   "cell_type": "code",
   "execution_count": 24,
   "metadata": {
    "collapsed": false
   },
   "outputs": [],
   "source": []
  },
  {
   "cell_type": "code",
   "execution_count": null,
   "metadata": {
    "collapsed": false
   },
   "outputs": [],
   "source": [
    "taxi.head()"
   ]
  },
  {
   "cell_type": "code",
   "execution_count": null,
   "metadata": {
    "collapsed": false
   },
   "outputs": [],
   "source": [
    "def calc_trips(df,status_col,cab_id_col,trip_col):\n",
    "    for cab_id in df[cab_id_col].unique():\n",
    "        print('Processing cab ' + str(cab_id))\n",
    "        df2 = df[df[cab_id_col] == cab_id]\n",
    "        df2.index = range(0,len(df2),1)\n",
    "    \n",
    "        for i in df2.index:\n",
    "            if i == 0:\n",
    "                df2[trip_col][i] = 1\n",
    "            elif i == len(df):\n",
    "                df2[trip_col][i] = 1\n",
    "            elif df2[status_col][i] == df2[status_col][i-1]:\n",
    "                df2[trip_col][i] = 0\n",
    "            elif df2[status_col][i] != df2[status_col][i-1]:\n",
    "                df2[trip_col][i] = 1\n",
    "            else:\n",
    "                print(df[status_col][i])\n",
    "                print('Figure out what is wrong')\n",
    "        print(df2.head())\n",
    "    return df"
   ]
  },
  {
   "cell_type": "code",
   "execution_count": null,
   "metadata": {
    "collapsed": false
   },
   "outputs": [],
   "source": []
  },
  {
   "cell_type": "code",
   "execution_count": null,
   "metadata": {
    "collapsed": false
   },
   "outputs": [],
   "source": [
    "trips = calc_trips(taxi,'status','cab_id','TRIP')"
   ]
  },
  {
   "cell_type": "code",
   "execution_count": 15,
   "metadata": {
    "collapsed": false
   },
   "outputs": [
    {
     "ename": "NameError",
     "evalue": "name 'trips' is not defined",
     "output_type": "error",
     "traceback": [
      "\u001b[0;31m---------------------------------------------------------------------------\u001b[0m",
      "\u001b[0;31mNameError\u001b[0m                                 Traceback (most recent call last)",
      "\u001b[0;32m<ipython-input-15-5d4fc2c92c42>\u001b[0m in \u001b[0;36m<module>\u001b[0;34m()\u001b[0m\n\u001b[0;32m----> 1\u001b[0;31m \u001b[0mtrips\u001b[0m\u001b[1;33m.\u001b[0m\u001b[0mhead\u001b[0m\u001b[1;33m(\u001b[0m\u001b[1;33m)\u001b[0m\u001b[1;33m\u001b[0m\u001b[0m\n\u001b[0m",
      "\u001b[0;31mNameError\u001b[0m: name 'trips' is not defined"
     ]
    }
   ],
   "source": [
    "trips.head()"
   ]
  },
  {
   "cell_type": "code",
   "execution_count": null,
   "metadata": {
    "collapsed": true
   },
   "outputs": [],
   "source": []
  }
 ],
 "metadata": {
  "anaconda-cloud": {},
  "kernelspec": {
   "display_name": "Python [conda root]",
   "language": "python",
   "name": "conda-root-py"
  },
  "language_info": {
   "codemirror_mode": {
    "name": "ipython",
    "version": 3
   },
   "file_extension": ".py",
   "mimetype": "text/x-python",
   "name": "python",
   "nbconvert_exporter": "python",
   "pygments_lexer": "ipython3",
   "version": "3.5.2"
  }
 },
 "nbformat": 4,
 "nbformat_minor": 1
}
