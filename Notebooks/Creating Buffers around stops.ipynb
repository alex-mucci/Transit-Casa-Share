{
 "cells": [
  {
   "cell_type": "code",
   "execution_count": 1,
   "metadata": {
    "collapsed": false
   },
   "outputs": [],
   "source": [
    "import sys\n",
    "sys.path.append('C:/CASA/Workspace/geopandas')\n",
    "sys.path.append('C:/CASA/Workspace/sfdata_wrangler/sfdata_wrangler')\n",
    "\n",
    "import geopandas\n",
    "import geopandas.tools as tools\n",
    "import pandas as pd\n",
    "#from DataFrameViewer import DataFrameViewer\n",
    "\n",
    "#new viewer needs to be pulled from previous notebook\n",
    "#viewer = DataFrameViewer()\n",
    "\n",
    "geopandas.__version__\n",
    "\n",
    "import csv as csv\n",
    "import pandas as pd\n",
    "import numpy as np\n",
    "import folium\n",
    "%load_ext autoreload\n",
    "%autoreload 2\n",
    "%matplotlib inline\n"
   ]
  },
  {
   "cell_type": "code",
<<<<<<< HEAD
   "execution_count": 26,
=======
   "execution_count": 55,
>>>>>>> 6e43ba4dca69e340b79d1a3d9b929f6bae11c8f8
   "metadata": {
    "collapsed": false
   },
   "outputs": [],
   "source": [
    "hdffile = \"E:/Transit_Casa/Output/sfmuni_monthly_ts.h5\"\n",
    "store = pd.HDFStore(hdffile)\n",
    "#store.items()\n",
    "#origin = store.select('stop_day')\n",
<<<<<<< HEAD
    "df = store.select('stop_day', columns = ['STOP_LAT','STOP_LON','STOP_ID','STOPNAME','MONTH'])"
   ]
  },
  {
   "cell_type": "code",
   "execution_count": 28,
   "metadata": {
    "collapsed": false
   },
   "outputs": [
    {
     "data": {
      "text/plain": [
       "array(['2009-06-01T00:00:00.000000000', '2009-07-01T00:00:00.000000000',\n",
       "       '2009-08-01T00:00:00.000000000', '2009-09-01T00:00:00.000000000',\n",
       "       '2009-10-01T00:00:00.000000000', '2009-11-01T00:00:00.000000000',\n",
       "       '2009-12-01T00:00:00.000000000', '2010-01-01T00:00:00.000000000',\n",
       "       '2010-02-01T00:00:00.000000000', '2010-03-01T00:00:00.000000000',\n",
       "       '2010-05-01T00:00:00.000000000', '2010-06-01T00:00:00.000000000',\n",
       "       '2010-07-01T00:00:00.000000000', '2010-08-01T00:00:00.000000000',\n",
       "       '2010-09-01T00:00:00.000000000', '2010-10-01T00:00:00.000000000',\n",
       "       '2010-11-01T00:00:00.000000000', '2010-12-01T00:00:00.000000000',\n",
       "       '2011-01-01T00:00:00.000000000', '2011-02-01T00:00:00.000000000',\n",
       "       '2011-03-01T00:00:00.000000000', '2011-04-01T00:00:00.000000000',\n",
       "       '2011-05-01T00:00:00.000000000', '2011-06-01T00:00:00.000000000',\n",
       "       '2011-07-01T00:00:00.000000000', '2011-08-01T00:00:00.000000000',\n",
       "       '2011-09-01T00:00:00.000000000', '2011-10-01T00:00:00.000000000',\n",
       "       '2011-11-01T00:00:00.000000000', '2011-12-01T00:00:00.000000000',\n",
       "       '2012-01-01T00:00:00.000000000', '2012-02-01T00:00:00.000000000',\n",
       "       '2012-03-01T00:00:00.000000000', '2012-04-01T00:00:00.000000000',\n",
       "       '2012-05-01T00:00:00.000000000', '2012-06-01T00:00:00.000000000',\n",
       "       '2012-07-01T00:00:00.000000000', '2012-08-01T00:00:00.000000000',\n",
       "       '2012-09-01T00:00:00.000000000', '2012-10-01T00:00:00.000000000',\n",
       "       '2012-11-01T00:00:00.000000000', '2012-12-01T00:00:00.000000000',\n",
       "       '2013-01-01T00:00:00.000000000', '2013-02-01T00:00:00.000000000',\n",
       "       '2013-03-01T00:00:00.000000000', '2013-04-01T00:00:00.000000000',\n",
       "       '2013-05-01T00:00:00.000000000', '2013-06-01T00:00:00.000000000',\n",
       "       '2013-07-01T00:00:00.000000000', '2013-08-01T00:00:00.000000000',\n",
       "       '2013-09-01T00:00:00.000000000', '2013-10-01T00:00:00.000000000',\n",
       "       '2013-11-01T00:00:00.000000000'], dtype='datetime64[ns]')"
      ]
     },
     "execution_count": 28,
     "metadata": {},
     "output_type": "execute_result"
    }
   ],
   "source": [
    "df.MONTH.unique()"
   ]
  },
  {
   "cell_type": "code",
   "execution_count": 7,
   "metadata": {
    "collapsed": false
   },
   "outputs": [
    {
     "name": "stdout",
     "output_type": "stream",
     "text": [
      "<class 'pandas.core.frame.DataFrame'>\n",
      "Int64Index: 177415 entries, 0 to 177414\n",
      "Data columns (total 5 columns):\n",
      "STOP_LAT    177415 non-null float64\n",
      "STOP_LON    177415 non-null float64\n",
      "STOP_ID     177415 non-null int64\n",
      "STOPNAME    177415 non-null object\n",
      "MONTH       177415 non-null datetime64[ns]\n",
      "dtypes: datetime64[ns](1), float64(2), int64(1), object(1)\n",
      "memory usage: 8.1+ MB\n"
     ]
    }
   ],
   "source": [
    "df.info()"
   ]
  },
  {
   "cell_type": "code",
   "execution_count": 29,
   "metadata": {
    "collapsed": false
   },
   "outputs": [],
   "source": [
    "mask = (df['MONTH'] >= '2013-10-01') & (df['MONTH'] <= '2013-12-01')"
=======
    "df = store.select('stop_day', columns = ['STOP_LAT','STOP_LON','STOP_ID','STOPNAME'])"
>>>>>>> 6e43ba4dca69e340b79d1a3d9b929f6bae11c8f8
   ]
  },
  {
   "cell_type": "code",
<<<<<<< HEAD
   "execution_count": 30,
=======
   "execution_count": 41,
>>>>>>> 6e43ba4dca69e340b79d1a3d9b929f6bae11c8f8
   "metadata": {
    "collapsed": false
   },
   "outputs": [
    {
     "data": {
      "text/html": [
       "<div>\n",
       "<table border=\"1\" class=\"dataframe\">\n",
       "  <thead>\n",
       "    <tr style=\"text-align: right;\">\n",
       "      <th></th>\n",
       "      <th>STOP_LAT</th>\n",
       "      <th>STOP_LON</th>\n",
       "      <th>STOP_ID</th>\n",
       "      <th>STOPNAME</th>\n",
       "      <th>MONTH</th>\n",
       "    </tr>\n",
       "  </thead>\n",
       "  <tbody>\n",
       "    <tr>\n",
<<<<<<< HEAD
       "      <th>170948</th>\n",
       "      <td>37.721190</td>\n",
       "      <td>-122.475096</td>\n",
       "      <td>390</td>\n",
       "      <td>19th Avenue &amp; Holloway St</td>\n",
       "      <td>2013-10-01</td>\n",
       "    </tr>\n",
       "    <tr>\n",
       "      <th>170949</th>\n",
       "      <td>37.723914</td>\n",
       "      <td>-122.435387</td>\n",
       "      <td>660</td>\n",
       "      <td>MISSION ST &amp; OCEAN AVENUE</td>\n",
       "      <td>2013-10-01</td>\n",
       "    </tr>\n",
       "    <tr>\n",
       "      <th>170950</th>\n",
       "      <td>37.719192</td>\n",
       "      <td>-122.425802</td>\n",
       "      <td>913</td>\n",
       "      <td>DUBLIN ST &amp; LAGRANDE AVE</td>\n",
       "      <td>2013-10-01</td>\n",
       "    </tr>\n",
       "    <tr>\n",
       "      <th>170951</th>\n",
       "      <td>37.781827</td>\n",
       "      <td>-122.391945</td>\n",
       "      <td>3003</td>\n",
       "      <td>2nd St &amp; Brannan St</td>\n",
       "      <td>2013-10-01</td>\n",
       "    </tr>\n",
       "    <tr>\n",
       "      <th>170952</th>\n",
       "      <td>37.781854</td>\n",
       "      <td>-122.392232</td>\n",
       "      <td>3004</td>\n",
       "      <td>2nd St &amp; Brannan St</td>\n",
       "      <td>2013-10-01</td>\n",
       "    </tr>\n",
       "    <tr>\n",
       "      <th>170953</th>\n",
       "      <td>37.782845</td>\n",
       "      <td>-122.393469</td>\n",
       "      <td>3006</td>\n",
       "      <td>2nd St &amp; Bryant St</td>\n",
       "      <td>2013-10-01</td>\n",
       "    </tr>\n",
       "    <tr>\n",
       "      <th>170954</th>\n",
       "      <td>37.785318</td>\n",
       "      <td>-122.396562</td>\n",
       "      <td>3008</td>\n",
       "      <td>2nd St &amp; Folsom St</td>\n",
       "      <td>2013-10-01</td>\n",
       "    </tr>\n",
       "    <tr>\n",
       "      <th>170955</th>\n",
       "      <td>37.784532</td>\n",
       "      <td>-122.395325</td>\n",
       "      <td>3009</td>\n",
       "      <td>2nd St &amp; Harrison St</td>\n",
       "      <td>2013-10-01</td>\n",
       "    </tr>\n",
       "    <tr>\n",
       "      <th>170956</th>\n",
       "      <td>37.784095</td>\n",
       "      <td>-122.395016</td>\n",
       "      <td>3010</td>\n",
       "      <td>2nd St &amp; Harrison St</td>\n",
       "      <td>2013-10-01</td>\n",
       "    </tr>\n",
       "    <tr>\n",
       "      <th>170957</th>\n",
       "      <td>37.786559</td>\n",
       "      <td>-122.398109</td>\n",
       "      <td>3011</td>\n",
       "      <td>2nd St &amp; Howard St</td>\n",
       "      <td>2013-10-01</td>\n",
       "    </tr>\n",
       "    <tr>\n",
       "      <th>170958</th>\n",
       "      <td>37.789067</td>\n",
       "      <td>-122.401306</td>\n",
       "      <td>3012</td>\n",
       "      <td>2nd St &amp; Market St</td>\n",
       "      <td>2013-10-01</td>\n",
       "    </tr>\n",
       "    <tr>\n",
       "      <th>170959</th>\n",
       "      <td>37.788620</td>\n",
       "      <td>-122.400650</td>\n",
       "      <td>3013</td>\n",
       "      <td>2nd St &amp; Stevenson St</td>\n",
       "      <td>2013-10-01</td>\n",
       "    </tr>\n",
       "    <tr>\n",
       "      <th>170960</th>\n",
       "      <td>37.780622</td>\n",
       "      <td>-122.390685</td>\n",
       "      <td>3015</td>\n",
       "      <td>2nd St &amp; Townsend St</td>\n",
       "      <td>2013-10-01</td>\n",
       "    </tr>\n",
       "    <tr>\n",
       "      <th>170961</th>\n",
       "      <td>37.772618</td>\n",
       "      <td>-122.389786</td>\n",
       "      <td>3016</td>\n",
       "      <td>3rd St &amp; 4th St</td>\n",
       "      <td>2013-10-01</td>\n",
       "    </tr>\n",
       "    <tr>\n",
       "      <th>170962</th>\n",
       "      <td>37.727739</td>\n",
       "      <td>-122.403240</td>\n",
       "      <td>3018</td>\n",
       "      <td>Bacon St &amp; San Bruno Ave</td>\n",
       "      <td>2013-10-01</td>\n",
       "    </tr>\n",
       "    <tr>\n",
       "      <th>170963</th>\n",
       "      <td>37.727645</td>\n",
       "      <td>-122.403269</td>\n",
       "      <td>3019</td>\n",
       "      <td>Bacon St &amp; San Bruno Ave</td>\n",
       "      <td>2013-10-01</td>\n",
       "    </tr>\n",
       "    <tr>\n",
       "      <th>170964</th>\n",
       "      <td>37.726670</td>\n",
       "      <td>-122.407460</td>\n",
       "      <td>3020</td>\n",
       "      <td>Bacon St &amp; Somerset St</td>\n",
       "      <td>2013-10-01</td>\n",
       "    </tr>\n",
       "    <tr>\n",
       "      <th>170965</th>\n",
       "      <td>37.726540</td>\n",
       "      <td>-122.407660</td>\n",
       "      <td>3021</td>\n",
       "      <td>Bacon St &amp; Somerset St</td>\n",
       "      <td>2013-10-01</td>\n",
       "    </tr>\n",
       "    <tr>\n",
       "      <th>170966</th>\n",
       "      <td>37.790249</td>\n",
       "      <td>-122.482263</td>\n",
       "      <td>3023</td>\n",
       "      <td>BOWLEY ST &amp; GIBSON RD</td>\n",
       "      <td>2013-10-01</td>\n",
       "    </tr>\n",
       "    <tr>\n",
       "      <th>170967</th>\n",
       "      <td>37.797606</td>\n",
       "      <td>-122.445693</td>\n",
       "      <td>3024</td>\n",
       "      <td>Baker St &amp; Greenwich St</td>\n",
       "      <td>2013-10-01</td>\n",
       "    </tr>\n",
       "    <tr>\n",
       "      <th>170968</th>\n",
       "      <td>37.798311</td>\n",
       "      <td>-122.401093</td>\n",
       "      <td>3025</td>\n",
       "      <td>Battery St &amp; Broadway</td>\n",
       "      <td>2013-10-01</td>\n",
       "    </tr>\n",
       "    <tr>\n",
       "      <th>170969</th>\n",
       "      <td>37.802160</td>\n",
       "      <td>-122.401840</td>\n",
       "      <td>3026</td>\n",
       "      <td>Battery St &amp; Filbert St</td>\n",
       "      <td>2013-10-01</td>\n",
       "    </tr>\n",
       "    <tr>\n",
       "      <th>170970</th>\n",
       "      <td>37.800550</td>\n",
       "      <td>-122.401510</td>\n",
       "      <td>3029</td>\n",
       "      <td>Battery St &amp; Green St</td>\n",
       "      <td>2013-10-01</td>\n",
       "    </tr>\n",
       "    <tr>\n",
       "      <th>170971</th>\n",
       "      <td>37.796860</td>\n",
       "      <td>-122.400770</td>\n",
       "      <td>3030</td>\n",
       "      <td>Battery St &amp; Jackson St</td>\n",
       "      <td>2013-10-01</td>\n",
       "    </tr>\n",
       "    <tr>\n",
       "      <th>170972</th>\n",
       "      <td>37.806094</td>\n",
       "      <td>-122.409161</td>\n",
       "      <td>3031</td>\n",
       "      <td>Bay St &amp; Midway St</td>\n",
       "      <td>2013-10-01</td>\n",
       "    </tr>\n",
       "    <tr>\n",
       "      <th>170973</th>\n",
       "      <td>37.777396</td>\n",
       "      <td>-122.461751</td>\n",
       "      <td>3032</td>\n",
       "      <td>Balboa St &amp; 4th Ave</td>\n",
       "      <td>2013-10-01</td>\n",
       "    </tr>\n",
       "    <tr>\n",
       "      <th>170974</th>\n",
       "      <td>37.777262</td>\n",
       "      <td>-122.461969</td>\n",
       "      <td>3033</td>\n",
       "      <td>Balboa St &amp; 4th Ave</td>\n",
       "      <td>2013-10-01</td>\n",
       "    </tr>\n",
       "    <tr>\n",
       "      <th>170975</th>\n",
       "      <td>37.777289</td>\n",
       "      <td>-122.464158</td>\n",
       "      <td>3034</td>\n",
       "      <td>Balboa St &amp; 6th Ave</td>\n",
       "      <td>2013-10-01</td>\n",
       "    </tr>\n",
       "    <tr>\n",
       "      <th>170976</th>\n",
       "      <td>37.777173</td>\n",
       "      <td>-122.463849</td>\n",
       "      <td>3035</td>\n",
       "      <td>Balboa St &amp; 6th Ave</td>\n",
       "      <td>2013-10-01</td>\n",
       "    </tr>\n",
       "    <tr>\n",
       "      <th>170977</th>\n",
       "      <td>37.777199</td>\n",
       "      <td>-122.466038</td>\n",
       "      <td>3036</td>\n",
       "      <td>Balboa St &amp; 8th Ave</td>\n",
       "      <td>2013-10-01</td>\n",
       "    </tr>\n",
       "    <tr>\n",
       "      <th>...</th>\n",
       "      <td>...</td>\n",
       "      <td>...</td>\n",
       "      <td>...</td>\n",
       "      <td>...</td>\n",
       "      <td>...</td>\n",
       "    </tr>\n",
       "    <tr>\n",
       "      <th>177385</th>\n",
       "      <td>37.772006</td>\n",
       "      <td>-122.430485</td>\n",
       "      <td>7636</td>\n",
       "      <td>Fillmore St &amp; Haight St</td>\n",
       "      <td>2013-11-01</td>\n",
       "    </tr>\n",
       "    <tr>\n",
       "      <th>177386</th>\n",
       "      <td>37.723433</td>\n",
       "      <td>-122.440816</td>\n",
       "      <td>7638</td>\n",
       "      <td>Ocean Ave &amp; Otsego Ave</td>\n",
       "      <td>2013-11-01</td>\n",
       "    </tr>\n",
       "    <tr>\n",
       "      <th>177387</th>\n",
       "      <td>37.787214</td>\n",
       "      <td>-122.409962</td>\n",
       "      <td>7649</td>\n",
       "      <td>Mason St &amp; Geary Blvd</td>\n",
       "      <td>2013-11-01</td>\n",
       "    </tr>\n",
       "    <tr>\n",
       "      <th>177388</th>\n",
       "      <td>37.778940</td>\n",
       "      <td>-122.401828</td>\n",
       "      <td>7650</td>\n",
       "      <td>5th St &amp; Harrison St</td>\n",
       "      <td>2013-11-01</td>\n",
       "    </tr>\n",
       "    <tr>\n",
       "      <th>177389</th>\n",
       "      <td>37.783502</td>\n",
       "      <td>-122.407625</td>\n",
       "      <td>7651</td>\n",
       "      <td>5th St &amp;Stevenson St</td>\n",
       "      <td>2013-11-01</td>\n",
       "    </tr>\n",
       "    <tr>\n",
       "      <th>177390</th>\n",
       "      <td>37.777375</td>\n",
       "      <td>-122.416305</td>\n",
       "      <td>7669</td>\n",
       "      <td>9TH St AND MARKET St</td>\n",
       "      <td>2013-11-01</td>\n",
       "    </tr>\n",
       "    <tr>\n",
       "      <th>177391</th>\n",
       "      <td>37.716410</td>\n",
       "      <td>-122.441000</td>\n",
       "      <td>7671</td>\n",
       "      <td>Geneva Ave &amp; Mission St</td>\n",
       "      <td>2013-11-01</td>\n",
       "    </tr>\n",
       "    <tr>\n",
       "      <th>177392</th>\n",
       "      <td>37.791303</td>\n",
       "      <td>-122.392408</td>\n",
       "      <td>7676</td>\n",
       "      <td>Hward St&amp;Spear</td>\n",
       "      <td>2013-11-01</td>\n",
       "    </tr>\n",
       "    <tr>\n",
       "      <th>177393</th>\n",
       "      <td>37.776133</td>\n",
       "      <td>-122.411606</td>\n",
       "      <td>7677</td>\n",
       "      <td>8th St&amp;Howard</td>\n",
       "      <td>2013-11-01</td>\n",
       "    </tr>\n",
       "    <tr>\n",
       "      <th>177394</th>\n",
       "      <td>37.770233</td>\n",
       "      <td>-122.403828</td>\n",
       "      <td>7683</td>\n",
       "      <td>Townsend St &amp; 8th St</td>\n",
       "      <td>2013-11-01</td>\n",
       "    </tr>\n",
       "    <tr>\n",
       "      <th>177395</th>\n",
       "      <td>37.771322</td>\n",
       "      <td>-122.405237</td>\n",
       "      <td>7684</td>\n",
       "      <td>Brannan St &amp; 8th ST</td>\n",
       "      <td>2013-11-01</td>\n",
       "    </tr>\n",
       "    <tr>\n",
       "      <th>177396</th>\n",
       "      <td>37.748059</td>\n",
       "      <td>-122.444904</td>\n",
       "      <td>7685</td>\n",
       "      <td>Burnett Ave &amp; Dawnview Way</td>\n",
       "      <td>2013-11-01</td>\n",
       "    </tr>\n",
       "    <tr>\n",
       "      <th>177397</th>\n",
       "      <td>37.762522</td>\n",
       "      <td>-122.460947</td>\n",
       "      <td>7687</td>\n",
       "      <td>Parnassus Ave &amp;4th Ave</td>\n",
       "      <td>2013-11-01</td>\n",
       "    </tr>\n",
       "    <tr>\n",
       "      <th>177398</th>\n",
       "      <td>37.762790</td>\n",
       "      <td>-122.459961</td>\n",
       "      <td>7688</td>\n",
       "      <td>513 Parnassus Ave</td>\n",
       "      <td>2013-11-01</td>\n",
       "    </tr>\n",
       "    <tr>\n",
       "      <th>177399</th>\n",
       "      <td>37.734894</td>\n",
       "      <td>-122.415682</td>\n",
       "      <td>7689</td>\n",
       "      <td>Crescent Ave &amp; Anderson St</td>\n",
       "      <td>2013-11-01</td>\n",
       "    </tr>\n",
       "    <tr>\n",
       "      <th>177400</th>\n",
       "      <td>37.776895</td>\n",
       "      <td>-122.471941</td>\n",
       "      <td>7696</td>\n",
       "      <td>Balboa St &amp; Park Presidio Blvd</td>\n",
       "      <td>2013-11-01</td>\n",
       "    </tr>\n",
       "    <tr>\n",
       "      <th>177401</th>\n",
       "      <td>37.737074</td>\n",
       "      <td>-122.379516</td>\n",
       "      <td>7719</td>\n",
       "      <td>Middle Point &amp; Acacia</td>\n",
       "      <td>2013-11-01</td>\n",
       "    </tr>\n",
       "    <tr>\n",
       "      <th>177402</th>\n",
       "      <td>37.771612</td>\n",
       "      <td>-122.503296</td>\n",
       "      <td>7720</td>\n",
       "      <td>Fulton St &amp; 43rd Ave</td>\n",
       "      <td>2013-11-01</td>\n",
       "    </tr>\n",
       "    <tr>\n",
       "      <th>177403</th>\n",
       "      <td>37.773058</td>\n",
       "      <td>-122.471607</td>\n",
       "      <td>7721</td>\n",
       "      <td>Fulton St &amp; Park Presidio</td>\n",
       "      <td>2013-11-01</td>\n",
       "    </tr>\n",
       "    <tr>\n",
       "      <th>177404</th>\n",
       "      <td>37.779634</td>\n",
       "      <td>-122.423457</td>\n",
       "      <td>7723</td>\n",
       "      <td>McAllister St &amp; Gough st</td>\n",
       "      <td>2013-11-01</td>\n",
       "    </tr>\n",
       "    <tr>\n",
       "      <th>177405</th>\n",
       "      <td>37.777735</td>\n",
       "      <td>-122.438174</td>\n",
       "      <td>7724</td>\n",
       "      <td>McAllister S t&amp; Divisadero St</td>\n",
       "      <td>2013-11-01</td>\n",
       "    </tr>\n",
       "    <tr>\n",
       "      <th>177406</th>\n",
       "      <td>37.777816</td>\n",
       "      <td>-122.438587</td>\n",
       "      <td>7725</td>\n",
       "      <td>McAllister St &amp; Divisadero St</td>\n",
       "      <td>2013-11-01</td>\n",
       "    </tr>\n",
       "    <tr>\n",
       "      <th>177407</th>\n",
       "      <td>37.772474</td>\n",
       "      <td>-122.487504</td>\n",
       "      <td>7727</td>\n",
       "      <td>Fulton S t&amp; 28th Ave</td>\n",
       "      <td>2013-11-01</td>\n",
       "    </tr>\n",
       "    <tr>\n",
       "      <th>177408</th>\n",
       "      <td>37.772375</td>\n",
       "      <td>-122.489624</td>\n",
       "      <td>7728</td>\n",
       "      <td>Fulton S t&amp; 30th Ave</td>\n",
       "      <td>2013-11-01</td>\n",
       "    </tr>\n",
       "    <tr>\n",
       "      <th>177409</th>\n",
       "      <td>37.771880</td>\n",
       "      <td>-122.500340</td>\n",
       "      <td>7729</td>\n",
       "      <td>Fulton St &amp; 40th Ave</td>\n",
       "      <td>2013-11-01</td>\n",
       "    </tr>\n",
       "    <tr>\n",
       "      <th>177410</th>\n",
       "      <td>37.771736</td>\n",
       "      <td>-122.503537</td>\n",
       "      <td>7730</td>\n",
       "      <td>Fulton St t&amp; 43rd  Ave</td>\n",
       "      <td>2013-11-01</td>\n",
       "    </tr>\n",
       "    <tr>\n",
       "      <th>177411</th>\n",
       "      <td>37.758762</td>\n",
       "      <td>-122.414789</td>\n",
       "      <td>7732</td>\n",
       "      <td>Folsom St &amp; 20St</td>\n",
       "      <td>2013-11-01</td>\n",
       "    </tr>\n",
       "    <tr>\n",
       "      <th>177412</th>\n",
       "      <td>37.758985</td>\n",
       "      <td>-122.414617</td>\n",
       "      <td>7733</td>\n",
       "      <td>Folsom St &amp; 20th St</td>\n",
       "      <td>2013-11-01</td>\n",
       "    </tr>\n",
       "    <tr>\n",
       "      <th>177413</th>\n",
       "      <td>37.777156</td>\n",
       "      <td>-122.443321</td>\n",
       "      <td>7734</td>\n",
       "      <td>Mcallister St &amp; Lyon St</td>\n",
       "      <td>2013-11-01</td>\n",
       "    </tr>\n",
       "    <tr>\n",
       "      <th>177414</th>\n",
       "      <td>37.777093</td>\n",
       "      <td>-122.443424</td>\n",
       "      <td>7735</td>\n",
       "      <td>McAllister St &amp; Lyon St</td>\n",
       "      <td>2013-11-01</td>\n",
       "    </tr>\n",
       "  </tbody>\n",
       "</table>\n",
       "<p>6467 rows × 5 columns</p>\n",
       "</div>"
      ],
      "text/plain": [
       "         STOP_LAT    STOP_LON  STOP_ID                        STOPNAME  \\\n",
       "170948  37.721190 -122.475096      390       19th Avenue & Holloway St   \n",
       "170949  37.723914 -122.435387      660       MISSION ST & OCEAN AVENUE   \n",
       "170950  37.719192 -122.425802      913        DUBLIN ST & LAGRANDE AVE   \n",
       "170951  37.781827 -122.391945     3003          2nd St & Brannan St      \n",
       "170952  37.781854 -122.392232     3004          2nd St & Brannan St      \n",
       "170953  37.782845 -122.393469     3006           2nd St & Bryant St      \n",
       "170954  37.785318 -122.396562     3008           2nd St & Folsom St      \n",
       "170955  37.784532 -122.395325     3009         2nd St & Harrison St      \n",
       "170956  37.784095 -122.395016     3010         2nd St & Harrison St      \n",
       "170957  37.786559 -122.398109     3011           2nd St & Howard St      \n",
       "170958  37.789067 -122.401306     3012           2nd St & Market St      \n",
       "170959  37.788620 -122.400650     3013        2nd St & Stevenson St      \n",
       "170960  37.780622 -122.390685     3015         2nd St & Townsend St      \n",
       "170961  37.772618 -122.389786     3016               3rd St & 4th St     \n",
       "170962  37.727739 -122.403240     3018     Bacon St & San Bruno Ave      \n",
       "170963  37.727645 -122.403269     3019      Bacon St & San Bruno Ave     \n",
       "170964  37.726670 -122.407460     3020        Bacon St & Somerset St     \n",
       "170965  37.726540 -122.407660     3021        Bacon St & Somerset St     \n",
       "170966  37.790249 -122.482263     3023           BOWLEY ST & GIBSON RD   \n",
       "170967  37.797606 -122.445693     3024       Baker St & Greenwich St     \n",
       "170968  37.798311 -122.401093     3025         Battery St & Broadway     \n",
       "170969  37.802160 -122.401840     3026       Battery St & Filbert St     \n",
       "170970  37.800550 -122.401510     3029         Battery St & Green St     \n",
       "170971  37.796860 -122.400770     3030       Battery St & Jackson St     \n",
       "170972  37.806094 -122.409161     3031            Bay St & Midway St     \n",
       "170973  37.777396 -122.461751     3032           Balboa St & 4th Ave     \n",
       "170974  37.777262 -122.461969     3033           Balboa St & 4th Ave     \n",
       "170975  37.777289 -122.464158     3034           Balboa St & 6th Ave     \n",
       "170976  37.777173 -122.463849     3035           Balboa St & 6th Ave     \n",
       "170977  37.777199 -122.466038     3036           Balboa St & 8th Ave     \n",
       "...           ...         ...      ...                             ...   \n",
       "177385  37.772006 -122.430485     7636        Fillmore St & Haight St    \n",
       "177386  37.723433 -122.440816     7638         Ocean Ave & Otsego Ave    \n",
       "177387  37.787214 -122.409962     7649           Mason St & Geary Blvd   \n",
       "177388  37.778940 -122.401828     7650           5th St & Harrison St    \n",
       "177389  37.783502 -122.407625     7651            5th St &Stevenson St   \n",
       "177390  37.777375 -122.416305     7669            9TH St AND MARKET St   \n",
       "177391  37.716410 -122.441000     7671        Geneva Ave & Mission St    \n",
       "177392  37.791303 -122.392408     7676                  Hward St&Spear   \n",
       "177393  37.776133 -122.411606     7677                   8th St&Howard   \n",
       "177394  37.770233 -122.403828     7683           Townsend St & 8th St    \n",
       "177395  37.771322 -122.405237     7684             Brannan St & 8th ST   \n",
       "177396  37.748059 -122.444904     7685    Burnett Ave & Dawnview Way     \n",
       "177397  37.762522 -122.460947     7687         Parnassus Ave &4th Ave    \n",
       "177398  37.762790 -122.459961     7688              513 Parnassus Ave    \n",
       "177399  37.734894 -122.415682     7689      Crescent Ave & Anderson St   \n",
       "177400  37.776895 -122.471941     7696  Balboa St & Park Presidio Blvd   \n",
       "177401  37.737074 -122.379516     7719           Middle Point & Acacia   \n",
       "177402  37.771612 -122.503296     7720           Fulton St & 43rd Ave    \n",
       "177403  37.773058 -122.471607     7721      Fulton St & Park Presidio    \n",
       "177404  37.779634 -122.423457     7723        McAllister St & Gough st   \n",
       "177405  37.777735 -122.438174     7724   McAllister S t& Divisadero St   \n",
       "177406  37.777816 -122.438587     7725  McAllister St & Divisadero St    \n",
       "177407  37.772474 -122.487504     7727            Fulton S t& 28th Ave   \n",
       "177408  37.772375 -122.489624     7728           Fulton S t& 30th Ave    \n",
       "177409  37.771880 -122.500340     7729            Fulton St & 40th Ave   \n",
       "177410  37.771736 -122.503537     7730         Fulton St t& 43rd  Ave    \n",
       "177411  37.758762 -122.414789     7732                Folsom St & 20St   \n",
       "177412  37.758985 -122.414617     7733             Folsom St & 20th St   \n",
       "177413  37.777156 -122.443321     7734         Mcallister St & Lyon St   \n",
       "177414  37.777093 -122.443424     7735        McAllister St & Lyon St    \n",
       "\n",
       "            MONTH  \n",
       "170948 2013-10-01  \n",
       "170949 2013-10-01  \n",
       "170950 2013-10-01  \n",
       "170951 2013-10-01  \n",
       "170952 2013-10-01  \n",
       "170953 2013-10-01  \n",
       "170954 2013-10-01  \n",
       "170955 2013-10-01  \n",
       "170956 2013-10-01  \n",
       "170957 2013-10-01  \n",
       "170958 2013-10-01  \n",
       "170959 2013-10-01  \n",
       "170960 2013-10-01  \n",
       "170961 2013-10-01  \n",
       "170962 2013-10-01  \n",
       "170963 2013-10-01  \n",
       "170964 2013-10-01  \n",
       "170965 2013-10-01  \n",
       "170966 2013-10-01  \n",
       "170967 2013-10-01  \n",
       "170968 2013-10-01  \n",
       "170969 2013-10-01  \n",
       "170970 2013-10-01  \n",
       "170971 2013-10-01  \n",
       "170972 2013-10-01  \n",
       "170973 2013-10-01  \n",
       "170974 2013-10-01  \n",
       "170975 2013-10-01  \n",
       "170976 2013-10-01  \n",
       "170977 2013-10-01  \n",
       "...           ...  \n",
       "177385 2013-11-01  \n",
       "177386 2013-11-01  \n",
       "177387 2013-11-01  \n",
       "177388 2013-11-01  \n",
       "177389 2013-11-01  \n",
       "177390 2013-11-01  \n",
       "177391 2013-11-01  \n",
       "177392 2013-11-01  \n",
       "177393 2013-11-01  \n",
       "177394 2013-11-01  \n",
       "177395 2013-11-01  \n",
       "177396 2013-11-01  \n",
       "177397 2013-11-01  \n",
       "177398 2013-11-01  \n",
       "177399 2013-11-01  \n",
       "177400 2013-11-01  \n",
       "177401 2013-11-01  \n",
       "177402 2013-11-01  \n",
       "177403 2013-11-01  \n",
       "177404 2013-11-01  \n",
       "177405 2013-11-01  \n",
       "177406 2013-11-01  \n",
       "177407 2013-11-01  \n",
       "177408 2013-11-01  \n",
       "177409 2013-11-01  \n",
       "177410 2013-11-01  \n",
       "177411 2013-11-01  \n",
       "177412 2013-11-01  \n",
       "177413 2013-11-01  \n",
       "177414 2013-11-01  \n",
       "\n",
       "[6467 rows x 5 columns]"
      ]
     },
     "execution_count": 30,
     "metadata": {},
     "output_type": "execute_result"
    }
   ],
   "source": [
    "df.loc[mask]"
   ]
  },
  {
   "cell_type": "code",
   "execution_count": 65,
   "metadata": {
    "collapsed": false
   },
   "outputs": [],
   "source": [
    "df2 = df[(df['MONTH'] == '2009-11-01')|(df['MONTH'] == '2009-10-01')|(df['MONTH'] == '2009-09-01')]"
   ]
  },
  {
   "cell_type": "code",
   "execution_count": 66,
   "metadata": {
    "collapsed": false
   },
   "outputs": [
    {
     "data": {
      "text/html": [
       "<div>\n",
       "<table border=\"1\" class=\"dataframe\">\n",
       "  <thead>\n",
       "    <tr style=\"text-align: right;\">\n",
       "      <th></th>\n",
       "      <th>STOP_LAT</th>\n",
       "      <th>STOP_LON</th>\n",
       "      <th>STOP_ID</th>\n",
       "      <th>STOPNAME</th>\n",
       "      <th>MONTH</th>\n",
       "    </tr>\n",
       "  </thead>\n",
       "  <tbody>\n",
       "    <tr>\n",
       "      <th>10689</th>\n",
=======
       "      <th>0</th>\n",
>>>>>>> 6e43ba4dca69e340b79d1a3d9b929f6bae11c8f8
       "      <td>37.721190</td>\n",
       "      <td>-122.475096</td>\n",
       "      <td>390</td>\n",
       "      <td>19th Avenue &amp;  Holloway St</td>\n",
<<<<<<< HEAD
       "      <td>2009-09-01</td>\n",
       "    </tr>\n",
       "    <tr>\n",
       "      <th>10690</th>\n",
=======
       "      <td>2009-06-01</td>\n",
       "    </tr>\n",
       "    <tr>\n",
       "      <th>1</th>\n",
>>>>>>> 6e43ba4dca69e340b79d1a3d9b929f6bae11c8f8
       "      <td>37.765159</td>\n",
       "      <td>-122.477210</td>\n",
       "      <td>392</td>\n",
       "      <td>19TH AVE &amp;  LINCOLN WAY</td>\n",
<<<<<<< HEAD
       "      <td>2009-09-01</td>\n",
       "    </tr>\n",
       "    <tr>\n",
       "      <th>10691</th>\n",
=======
       "      <td>2009-06-01</td>\n",
       "    </tr>\n",
       "    <tr>\n",
       "      <th>2</th>\n",
>>>>>>> 6e43ba4dca69e340b79d1a3d9b929f6bae11c8f8
       "      <td>37.723914</td>\n",
       "      <td>-122.435387</td>\n",
       "      <td>660</td>\n",
       "      <td>MISSION ST &amp; OCEAN AVENUE</td>\n",
<<<<<<< HEAD
       "      <td>2009-09-01</td>\n",
       "    </tr>\n",
       "    <tr>\n",
       "      <th>10692</th>\n",
=======
       "      <td>2009-06-01</td>\n",
       "    </tr>\n",
       "    <tr>\n",
       "      <th>3</th>\n",
>>>>>>> 6e43ba4dca69e340b79d1a3d9b929f6bae11c8f8
       "      <td>37.719192</td>\n",
       "      <td>-122.425802</td>\n",
       "      <td>913</td>\n",
       "      <td>DUBLIN ST &amp; LAGRANDE AVE</td>\n",
<<<<<<< HEAD
       "      <td>2009-09-01</td>\n",
       "    </tr>\n",
       "    <tr>\n",
       "      <th>10693</th>\n",
=======
       "      <td>2009-06-01</td>\n",
       "    </tr>\n",
       "    <tr>\n",
       "      <th>4</th>\n",
>>>>>>> 6e43ba4dca69e340b79d1a3d9b929f6bae11c8f8
       "      <td>37.788530</td>\n",
       "      <td>-122.396044</td>\n",
       "      <td>3001</td>\n",
       "      <td>1st St &amp; Howard St</td>\n",
<<<<<<< HEAD
       "      <td>2009-09-01</td>\n",
=======
       "      <td>2009-06-01</td>\n",
>>>>>>> 6e43ba4dca69e340b79d1a3d9b929f6bae11c8f8
       "    </tr>\n",
       "  </tbody>\n",
       "</table>\n",
       "</div>"
      ],
      "text/plain": [
<<<<<<< HEAD
       "        STOP_LAT    STOP_LON  STOP_ID                    STOPNAME      MONTH\n",
       "10689  37.721190 -122.475096      390  19th Avenue &  Holloway St 2009-09-01\n",
       "10690  37.765159 -122.477210      392     19TH AVE &  LINCOLN WAY 2009-09-01\n",
       "10691  37.723914 -122.435387      660   MISSION ST & OCEAN AVENUE 2009-09-01\n",
       "10692  37.719192 -122.425802      913    DUBLIN ST & LAGRANDE AVE 2009-09-01\n",
       "10693  37.788530 -122.396044     3001       1st St & Howard St    2009-09-01"
      ]
     },
     "execution_count": 66,
=======
       "    STOP_LAT    STOP_LON  STOP_ID                    STOPNAME      MONTH\n",
       "0  37.721190 -122.475096      390  19th Avenue &  Holloway St 2009-06-01\n",
       "1  37.765159 -122.477210      392     19TH AVE &  LINCOLN WAY 2009-06-01\n",
       "2  37.723914 -122.435387      660   MISSION ST & OCEAN AVENUE 2009-06-01\n",
       "3  37.719192 -122.425802      913    DUBLIN ST & LAGRANDE AVE 2009-06-01\n",
       "4  37.788530 -122.396044     3001       1st St & Howard St    2009-06-01"
      ]
     },
     "execution_count": 41,
>>>>>>> 6e43ba4dca69e340b79d1a3d9b929f6bae11c8f8
     "metadata": {},
     "output_type": "execute_result"
    }
   ],
   "source": [
<<<<<<< HEAD
    "df2.head()"
=======
    "df.head()"
>>>>>>> 6e43ba4dca69e340b79d1a3d9b929f6bae11c8f8
   ]
  },
  {
   "cell_type": "code",
   "execution_count": null,
   "metadata": {
    "collapsed": false
   },
   "outputs": [],
   "source": []
  },
  {
   "cell_type": "code",
<<<<<<< HEAD
   "execution_count": 67,
   "metadata": {
    "collapsed": false
   },
   "outputs": [],
   "source": [
    "df2 = df2.groupby(by = 'STOP_ID', as_index = False).mean()"
   ]
  },
  {
   "cell_type": "code",
   "execution_count": 68,
   "metadata": {
    "collapsed": false
   },
   "outputs": [
    {
     "data": {
      "text/plain": [
       "3563"
      ]
     },
     "execution_count": 68,
     "metadata": {},
     "output_type": "execute_result"
    }
   ],
   "source": [
    "len(df2)"
   ]
  },
  {
   "cell_type": "code",
=======
>>>>>>> 6e43ba4dca69e340b79d1a3d9b929f6bae11c8f8
   "execution_count": null,
   "metadata": {
    "collapsed": false
   },
   "outputs": [],
   "source": []
  },
  {
   "cell_type": "code",
<<<<<<< HEAD
   "execution_count": 70,
   "metadata": {
    "collapsed": true
   },
   "outputs": [],
   "source": [
    "df2.to_csv('E:\\Transit-Casa-Alex\\Input\\Bus_Stops/bus stops_2009.csv')"
   ]
  },
  {
   "cell_type": "code",
   "execution_count": 71,
=======
   "execution_count": 15,
>>>>>>> 6e43ba4dca69e340b79d1a3d9b929f6bae11c8f8
   "metadata": {
    "collapsed": false
   },
   "outputs": [
    {
     "data": {
      "text/html": [
       "<div>\n",
       "<table border=\"1\" class=\"dataframe\">\n",
       "  <thead>\n",
       "    <tr style=\"text-align: right;\">\n",
       "      <th></th>\n",
<<<<<<< HEAD
       "      <th>STOP_ID</th>\n",
       "      <th>STOP_LAT</th>\n",
       "      <th>STOP_LON</th>\n",
=======
       "      <th>STOP_LAT</th>\n",
       "      <th>STOP_LON</th>\n",
       "      <th>STOP_ID</th>\n",
       "      <th>STOPNAME</th>\n",
>>>>>>> 6e43ba4dca69e340b79d1a3d9b929f6bae11c8f8
       "    </tr>\n",
       "  </thead>\n",
       "  <tbody>\n",
       "    <tr>\n",
       "      <th>0</th>\n",
<<<<<<< HEAD
       "      <td>390</td>\n",
       "      <td>37.721190</td>\n",
       "      <td>-122.475096</td>\n",
       "    </tr>\n",
       "    <tr>\n",
       "      <th>1</th>\n",
       "      <td>392</td>\n",
       "      <td>37.765159</td>\n",
       "      <td>-122.477210</td>\n",
       "    </tr>\n",
       "    <tr>\n",
       "      <th>2</th>\n",
       "      <td>660</td>\n",
       "      <td>37.723914</td>\n",
       "      <td>-122.435387</td>\n",
       "    </tr>\n",
       "    <tr>\n",
       "      <th>3</th>\n",
       "      <td>913</td>\n",
       "      <td>37.719192</td>\n",
       "      <td>-122.425802</td>\n",
       "    </tr>\n",
       "    <tr>\n",
       "      <th>4</th>\n",
       "      <td>3001</td>\n",
       "      <td>37.788530</td>\n",
       "      <td>-122.396044</td>\n",
=======
       "      <td>37.721190</td>\n",
       "      <td>-122.475096</td>\n",
       "      <td>390</td>\n",
       "      <td>19th Avenue &amp;  Holloway St</td>\n",
       "    </tr>\n",
       "    <tr>\n",
       "      <th>1</th>\n",
       "      <td>37.765159</td>\n",
       "      <td>-122.477210</td>\n",
       "      <td>392</td>\n",
       "      <td>19TH AVE &amp;  LINCOLN WAY</td>\n",
       "    </tr>\n",
       "    <tr>\n",
       "      <th>2</th>\n",
       "      <td>37.723914</td>\n",
       "      <td>-122.435387</td>\n",
       "      <td>660</td>\n",
       "      <td>MISSION ST &amp; OCEAN AVENUE</td>\n",
       "    </tr>\n",
       "    <tr>\n",
       "      <th>3</th>\n",
       "      <td>37.719192</td>\n",
       "      <td>-122.425802</td>\n",
       "      <td>913</td>\n",
       "      <td>DUBLIN ST &amp; LAGRANDE AVE</td>\n",
       "    </tr>\n",
       "    <tr>\n",
       "      <th>4</th>\n",
       "      <td>37.788530</td>\n",
       "      <td>-122.396044</td>\n",
       "      <td>3001</td>\n",
       "      <td>1st St &amp; Howard St</td>\n",
>>>>>>> 6e43ba4dca69e340b79d1a3d9b929f6bae11c8f8
       "    </tr>\n",
       "  </tbody>\n",
       "</table>\n",
       "</div>"
      ],
      "text/plain": [
<<<<<<< HEAD
       "   STOP_ID   STOP_LAT    STOP_LON\n",
       "0      390  37.721190 -122.475096\n",
       "1      392  37.765159 -122.477210\n",
       "2      660  37.723914 -122.435387\n",
       "3      913  37.719192 -122.425802\n",
       "4     3001  37.788530 -122.396044"
      ]
     },
     "execution_count": 71,
=======
       "    STOP_LAT    STOP_LON  STOP_ID                    STOPNAME\n",
       "0  37.721190 -122.475096      390  19th Avenue &  Holloway St\n",
       "1  37.765159 -122.477210      392     19TH AVE &  LINCOLN WAY\n",
       "2  37.723914 -122.435387      660   MISSION ST & OCEAN AVENUE\n",
       "3  37.719192 -122.425802      913    DUBLIN ST & LAGRANDE AVE\n",
       "4  37.788530 -122.396044     3001       1st St & Howard St   "
      ]
     },
     "execution_count": 15,
>>>>>>> 6e43ba4dca69e340b79d1a3d9b929f6bae11c8f8
     "metadata": {},
     "output_type": "execute_result"
    }
   ],
   "source": [
<<<<<<< HEAD
    "df2.head()"
=======
    "df.head()"
>>>>>>> 6e43ba4dca69e340b79d1a3d9b929f6bae11c8f8
   ]
  },
  {
   "cell_type": "code",
<<<<<<< HEAD
   "execution_count": 26,
=======
   "execution_count": 56,
>>>>>>> 6e43ba4dca69e340b79d1a3d9b929f6bae11c8f8
   "metadata": {
    "collapsed": false
   },
   "outputs": [
    {
     "name": "stdout",
     "output_type": "stream",
     "text": [
      "3744\n"
     ]
    },
    {
     "data": {
      "text/html": [
       "<div>\n",
       "<table border=\"1\" class=\"dataframe\">\n",
       "  <thead>\n",
       "    <tr style=\"text-align: right;\">\n",
       "      <th></th>\n",
       "      <th>STOP_LAT</th>\n",
       "      <th>STOP_LON</th>\n",
       "      <th>STOP_ID</th>\n",
       "    </tr>\n",
       "    <tr>\n",
       "      <th>STOP_ID</th>\n",
       "      <th></th>\n",
       "      <th></th>\n",
       "      <th></th>\n",
       "    </tr>\n",
       "  </thead>\n",
       "  <tbody>\n",
       "    <tr>\n",
       "      <th>390</th>\n",
       "      <td>37.721190</td>\n",
       "      <td>-122.475096</td>\n",
       "      <td>390</td>\n",
       "    </tr>\n",
       "    <tr>\n",
       "      <th>392</th>\n",
       "      <td>37.765159</td>\n",
       "      <td>-122.477210</td>\n",
       "      <td>392</td>\n",
       "    </tr>\n",
       "    <tr>\n",
       "      <th>660</th>\n",
       "      <td>37.723914</td>\n",
       "      <td>-122.435387</td>\n",
       "      <td>660</td>\n",
       "    </tr>\n",
       "    <tr>\n",
       "      <th>913</th>\n",
       "      <td>37.719192</td>\n",
       "      <td>-122.425802</td>\n",
       "      <td>913</td>\n",
       "    </tr>\n",
       "    <tr>\n",
       "      <th>3001</th>\n",
       "      <td>37.788530</td>\n",
       "      <td>-122.396044</td>\n",
       "      <td>3001</td>\n",
       "    </tr>\n",
       "  </tbody>\n",
       "</table>\n",
       "</div>"
      ],
      "text/plain": [
       "          STOP_LAT    STOP_LON  STOP_ID\n",
       "STOP_ID                                \n",
       "390      37.721190 -122.475096      390\n",
       "392      37.765159 -122.477210      392\n",
       "660      37.723914 -122.435387      660\n",
       "913      37.719192 -122.425802      913\n",
       "3001     37.788530 -122.396044     3001"
      ]
     },
<<<<<<< HEAD
     "execution_count": 26,
=======
     "execution_count": 56,
>>>>>>> 6e43ba4dca69e340b79d1a3d9b929f6bae11c8f8
     "metadata": {},
     "output_type": "execute_result"
    }
   ],
   "source": [
    "df2 = df.groupby('STOP_ID').mean()\n",
    "print(len(df2))\n",
    "df2['STOP_ID'] = df2.index\n",
    "df2.head()\n",
    "#There are 3,744 stops in San Francisco"
   ]
  },
  {
   "cell_type": "code",
<<<<<<< HEAD
   "execution_count": 27,
=======
   "execution_count": 17,
>>>>>>> 6e43ba4dca69e340b79d1a3d9b929f6bae11c8f8
   "metadata": {
    "collapsed": false
   },
   "outputs": [
    {
     "data": {
      "text/plain": [
       "4094    1\n",
       "4791    1\n",
       "4819    1\n",
       "6866    1\n",
       "6862    1\n",
       "Name: STOP_ID, dtype: int64"
      ]
     },
<<<<<<< HEAD
     "execution_count": 27,
=======
     "execution_count": 17,
>>>>>>> 6e43ba4dca69e340b79d1a3d9b929f6bae11c8f8
     "metadata": {},
     "output_type": "execute_result"
    }
   ],
   "source": [
    "df2.STOP_ID.value_counts().head()"
   ]
  },
  {
   "cell_type": "code",
<<<<<<< HEAD
   "execution_count": 9,
=======
   "execution_count": 36,
>>>>>>> 6e43ba4dca69e340b79d1a3d9b929f6bae11c8f8
   "metadata": {
    "collapsed": false
   },
   "outputs": [
    {
     "name": "stdout",
     "output_type": "stream",
     "text": [
      "177415\n"
     ]
    },
    {
     "data": {
      "text/html": [
       "<div>\n",
       "<table border=\"1\" class=\"dataframe\">\n",
       "  <thead>\n",
       "    <tr style=\"text-align: right;\">\n",
       "      <th></th>\n",
       "      <th>STOPNAME</th>\n",
       "      <th>STOP_ID</th>\n",
       "    </tr>\n",
       "  </thead>\n",
       "  <tbody>\n",
       "    <tr>\n",
       "      <th>0</th>\n",
       "      <td>19th Avenue &amp;  Holloway St</td>\n",
       "      <td>390</td>\n",
       "    </tr>\n",
       "    <tr>\n",
       "      <th>1</th>\n",
       "      <td>19TH AVE &amp;  LINCOLN WAY</td>\n",
       "      <td>392</td>\n",
       "    </tr>\n",
       "    <tr>\n",
       "      <th>2</th>\n",
       "      <td>MISSION ST &amp; OCEAN AVENUE</td>\n",
       "      <td>660</td>\n",
       "    </tr>\n",
       "    <tr>\n",
       "      <th>3</th>\n",
       "      <td>DUBLIN ST &amp; LAGRANDE AVE</td>\n",
       "      <td>913</td>\n",
       "    </tr>\n",
       "    <tr>\n",
       "      <th>4</th>\n",
       "      <td>1st St &amp; Howard St</td>\n",
       "      <td>3001</td>\n",
       "    </tr>\n",
       "  </tbody>\n",
       "</table>\n",
       "</div>"
      ],
      "text/plain": [
       "                     STOPNAME  STOP_ID\n",
       "0  19th Avenue &  Holloway St      390\n",
       "1     19TH AVE &  LINCOLN WAY      392\n",
       "2   MISSION ST & OCEAN AVENUE      660\n",
       "3    DUBLIN ST & LAGRANDE AVE      913\n",
       "4       1st St & Howard St        3001"
      ]
     },
<<<<<<< HEAD
     "execution_count": 9,
=======
     "execution_count": 36,
>>>>>>> 6e43ba4dca69e340b79d1a3d9b929f6bae11c8f8
     "metadata": {},
     "output_type": "execute_result"
    }
   ],
   "source": [
    "# in the future, select out certain performence measurements that we are going to attach to each stop\n",
    "df3 = store.select('stop_day', columns = ['STOPNAME','STOP_ID'])\n",
    "print(len(df3))\n",
    "df3.head()"
   ]
  },
  {
   "cell_type": "code",
<<<<<<< HEAD
   "execution_count": 29,
=======
   "execution_count": 9,
>>>>>>> 6e43ba4dca69e340b79d1a3d9b929f6bae11c8f8
   "metadata": {
    "collapsed": false
   },
   "outputs": [
    {
     "data": {
      "text/html": [
       "<div>\n",
       "<table border=\"1\" class=\"dataframe\">\n",
       "  <thead>\n",
       "    <tr style=\"text-align: right;\">\n",
       "      <th></th>\n",
       "      <th>STOP_LAT</th>\n",
       "      <th>STOP_LON</th>\n",
       "      <th>STOP_ID</th>\n",
<<<<<<< HEAD
=======
       "      <th>geometry</th>\n",
>>>>>>> 6e43ba4dca69e340b79d1a3d9b929f6bae11c8f8
       "    </tr>\n",
       "    <tr>\n",
       "      <th>STOP_ID</th>\n",
       "      <th></th>\n",
       "      <th></th>\n",
       "      <th></th>\n",
<<<<<<< HEAD
=======
       "      <th></th>\n",
>>>>>>> 6e43ba4dca69e340b79d1a3d9b929f6bae11c8f8
       "    </tr>\n",
       "  </thead>\n",
       "  <tbody>\n",
       "    <tr>\n",
       "      <th>390</th>\n",
       "      <td>37.721190</td>\n",
       "      <td>-122.475096</td>\n",
       "      <td>390</td>\n",
<<<<<<< HEAD
=======
       "      <td>POINT (-122.4750960000001 37.72118999999999)</td>\n",
>>>>>>> 6e43ba4dca69e340b79d1a3d9b929f6bae11c8f8
       "    </tr>\n",
       "    <tr>\n",
       "      <th>392</th>\n",
       "      <td>37.765159</td>\n",
       "      <td>-122.477210</td>\n",
       "      <td>392</td>\n",
<<<<<<< HEAD
=======
       "      <td>POINT (-122.47721 37.76515900000002)</td>\n",
>>>>>>> 6e43ba4dca69e340b79d1a3d9b929f6bae11c8f8
       "    </tr>\n",
       "    <tr>\n",
       "      <th>660</th>\n",
       "      <td>37.723914</td>\n",
       "      <td>-122.435387</td>\n",
       "      <td>660</td>\n",
<<<<<<< HEAD
=======
       "      <td>POINT (-122.4353870000001 37.72391399999997)</td>\n",
>>>>>>> 6e43ba4dca69e340b79d1a3d9b929f6bae11c8f8
       "    </tr>\n",
       "    <tr>\n",
       "      <th>913</th>\n",
       "      <td>37.719192</td>\n",
       "      <td>-122.425802</td>\n",
       "      <td>913</td>\n",
<<<<<<< HEAD
=======
       "      <td>POINT (-122.425802 37.71919200000001)</td>\n",
>>>>>>> 6e43ba4dca69e340b79d1a3d9b929f6bae11c8f8
       "    </tr>\n",
       "    <tr>\n",
       "      <th>3001</th>\n",
       "      <td>37.788530</td>\n",
       "      <td>-122.396044</td>\n",
       "      <td>3001</td>\n",
<<<<<<< HEAD
=======
       "      <td>POINT (-122.396044 37.78853)</td>\n",
>>>>>>> 6e43ba4dca69e340b79d1a3d9b929f6bae11c8f8
       "    </tr>\n",
       "  </tbody>\n",
       "</table>\n",
       "</div>"
      ],
      "text/plain": [
<<<<<<< HEAD
       "          STOP_LAT    STOP_LON  STOP_ID\n",
       "STOP_ID                                \n",
       "390      37.721190 -122.475096      390\n",
       "392      37.765159 -122.477210      392\n",
       "660      37.723914 -122.435387      660\n",
       "913      37.719192 -122.425802      913\n",
       "3001     37.788530 -122.396044     3001"
      ]
     },
     "execution_count": 29,
=======
       "          STOP_LAT    STOP_LON  STOP_ID  \\\n",
       "STOP_ID                                   \n",
       "390      37.721190 -122.475096      390   \n",
       "392      37.765159 -122.477210      392   \n",
       "660      37.723914 -122.435387      660   \n",
       "913      37.719192 -122.425802      913   \n",
       "3001     37.788530 -122.396044     3001   \n",
       "\n",
       "                                             geometry  \n",
       "STOP_ID                                                \n",
       "390      POINT (-122.4750960000001 37.72118999999999)  \n",
       "392              POINT (-122.47721 37.76515900000002)  \n",
       "660      POINT (-122.4353870000001 37.72391399999997)  \n",
       "913             POINT (-122.425802 37.71919200000001)  \n",
       "3001                     POINT (-122.396044 37.78853)  "
      ]
     },
     "execution_count": 9,
>>>>>>> 6e43ba4dca69e340b79d1a3d9b929f6bae11c8f8
     "metadata": {},
     "output_type": "execute_result"
    }
   ],
   "source": [
    "df2.head()"
   ]
  },
  {
   "cell_type": "code",
<<<<<<< HEAD
   "execution_count": 30,
=======
   "execution_count": 35,
>>>>>>> 6e43ba4dca69e340b79d1a3d9b929f6bae11c8f8
   "metadata": {
    "collapsed": false
   },
   "outputs": [
    {
     "data": {
      "text/plain": [
<<<<<<< HEAD
       "3795"
      ]
     },
     "execution_count": 30,
=======
       "7745"
      ]
     },
     "execution_count": 35,
>>>>>>> 6e43ba4dca69e340b79d1a3d9b929f6bae11c8f8
     "metadata": {},
     "output_type": "execute_result"
    }
   ],
   "source": [
    "df4 = df3.drop_duplicates()\n",
    "len(df4)"
   ]
  },
  {
   "cell_type": "code",
<<<<<<< HEAD
   "execution_count": 31,
=======
   "execution_count": 26,
>>>>>>> 6e43ba4dca69e340b79d1a3d9b929f6bae11c8f8
   "metadata": {
    "collapsed": false
   },
   "outputs": [
    {
     "data": {
      "text/html": [
       "<div>\n",
       "<table border=\"1\" class=\"dataframe\">\n",
       "  <thead>\n",
       "    <tr style=\"text-align: right;\">\n",
       "      <th></th>\n",
<<<<<<< HEAD
       "      <th>STOPNAME</th>\n",
       "      <th>STOP_ID</th>\n",
=======
       "      <th>STOP_ID</th>\n",
       "      <th>STOPNAME</th>\n",
>>>>>>> 6e43ba4dca69e340b79d1a3d9b929f6bae11c8f8
       "    </tr>\n",
       "  </thead>\n",
       "  <tbody>\n",
       "    <tr>\n",
       "      <th>0</th>\n",
<<<<<<< HEAD
       "      <td>19th Avenue &amp;  Holloway St</td>\n",
       "      <td>390</td>\n",
       "    </tr>\n",
       "    <tr>\n",
       "      <th>1</th>\n",
       "      <td>19TH AVE &amp;  LINCOLN WAY</td>\n",
       "      <td>392</td>\n",
       "    </tr>\n",
       "    <tr>\n",
       "      <th>2</th>\n",
       "      <td>MISSION ST &amp; OCEAN AVENUE</td>\n",
       "      <td>660</td>\n",
       "    </tr>\n",
       "    <tr>\n",
       "      <th>3</th>\n",
       "      <td>DUBLIN ST &amp; LAGRANDE AVE</td>\n",
       "      <td>913</td>\n",
       "    </tr>\n",
       "    <tr>\n",
       "      <th>4</th>\n",
       "      <td>1st St &amp; Howard St</td>\n",
       "      <td>3001</td>\n",
       "    </tr>\n",
       "  </tbody>\n",
       "</table>\n",
       "</div>"
      ],
      "text/plain": [
       "                     STOPNAME  STOP_ID\n",
       "0  19th Avenue &  Holloway St      390\n",
       "1     19TH AVE &  LINCOLN WAY      392\n",
       "2   MISSION ST & OCEAN AVENUE      660\n",
       "3    DUBLIN ST & LAGRANDE AVE      913\n",
       "4       1st St & Howard St        3001"
      ]
     },
     "execution_count": 31,
=======
       "      <td>390</td>\n",
       "      <td>19th Avenue &amp;  Holloway St</td>\n",
       "    </tr>\n",
       "    <tr>\n",
       "      <th>1</th>\n",
       "      <td>392</td>\n",
       "      <td>19TH AVE &amp;  LINCOLN WAY</td>\n",
       "    </tr>\n",
       "    <tr>\n",
       "      <th>2</th>\n",
       "      <td>660</td>\n",
       "      <td>MISSION ST &amp; OCEAN AVENUE</td>\n",
       "    </tr>\n",
       "    <tr>\n",
       "      <th>3</th>\n",
       "      <td>913</td>\n",
       "      <td>DUBLIN ST &amp; LAGRANDE AVE</td>\n",
       "    </tr>\n",
       "    <tr>\n",
       "      <th>4</th>\n",
       "      <td>3001</td>\n",
       "      <td>1st St &amp; Howard St</td>\n",
       "    </tr>\n",
       "  </tbody>\n",
       "</table>\n",
       "</div>"
      ],
      "text/plain": [
       "   STOP_ID                    STOPNAME\n",
       "0      390  19th Avenue &  Holloway St\n",
       "1      392     19TH AVE &  LINCOLN WAY\n",
       "2      660   MISSION ST & OCEAN AVENUE\n",
       "3      913    DUBLIN ST & LAGRANDE AVE\n",
       "4     3001       1st St & Howard St   "
      ]
     },
     "execution_count": 26,
>>>>>>> 6e43ba4dca69e340b79d1a3d9b929f6bae11c8f8
     "metadata": {},
     "output_type": "execute_result"
    }
   ],
   "source": [
    "df4.head()"
   ]
  },
  {
   "cell_type": "code",
<<<<<<< HEAD
   "execution_count": 10,
=======
   "execution_count": 29,
>>>>>>> 6e43ba4dca69e340b79d1a3d9b929f6bae11c8f8
   "metadata": {
    "collapsed": false
   },
   "outputs": [
    {
<<<<<<< HEAD
     "ename": "NameError",
     "evalue": "name 'df4' is not defined",
     "output_type": "error",
     "traceback": [
      "\u001b[0;31m---------------------------------------------------------------------------\u001b[0m",
      "\u001b[0;31mNameError\u001b[0m                                 Traceback (most recent call last)",
      "\u001b[0;32m<ipython-input-10-83d0b0b65f94>\u001b[0m in \u001b[0;36m<module>\u001b[0;34m()\u001b[0m\n\u001b[1;32m      1\u001b[0m \u001b[1;31m#tried to merge the stop names to the dataframe bu the inner merge is not working properly\u001b[0m\u001b[1;33m\u001b[0m\u001b[1;33m\u001b[0m\u001b[0m\n\u001b[0;32m----> 2\u001b[0;31m \u001b[0mdf_merge\u001b[0m \u001b[1;33m=\u001b[0m \u001b[0mpd\u001b[0m\u001b[1;33m.\u001b[0m\u001b[0mmerge\u001b[0m\u001b[1;33m(\u001b[0m\u001b[0mdf2\u001b[0m\u001b[1;33m,\u001b[0m\u001b[0mdf4\u001b[0m\u001b[1;33m,\u001b[0m\u001b[0mhow\u001b[0m \u001b[1;33m=\u001b[0m \u001b[1;34m'inner'\u001b[0m\u001b[1;33m,\u001b[0m\u001b[0mon\u001b[0m \u001b[1;33m=\u001b[0m \u001b[1;34m'STOP_ID'\u001b[0m\u001b[1;33m,\u001b[0m\u001b[0msort\u001b[0m \u001b[1;33m=\u001b[0m \u001b[1;32mTrue\u001b[0m\u001b[1;33m)\u001b[0m\u001b[1;33m\u001b[0m\u001b[0m\n\u001b[0m\u001b[1;32m      3\u001b[0m \u001b[0mlen\u001b[0m\u001b[1;33m(\u001b[0m\u001b[0mdf_merge\u001b[0m\u001b[1;33m)\u001b[0m\u001b[1;33m\u001b[0m\u001b[0m\n",
      "\u001b[0;31mNameError\u001b[0m: name 'df4' is not defined"
     ]
=======
     "data": {
      "text/plain": [
       "3795"
      ]
     },
     "execution_count": 29,
     "metadata": {},
     "output_type": "execute_result"
>>>>>>> 6e43ba4dca69e340b79d1a3d9b929f6bae11c8f8
    }
   ],
   "source": [
    "#tried to merge the stop names to the dataframe bu the inner merge is not working properly\n",
    "df_merge = pd.merge(df2,df4,how = 'inner',on = 'STOP_ID',sort = True)\n",
    "len(df_merge)"
   ]
  },
  {
   "cell_type": "code",
<<<<<<< HEAD
   "execution_count": 33,
=======
   "execution_count": 9,
>>>>>>> 6e43ba4dca69e340b79d1a3d9b929f6bae11c8f8
   "metadata": {
    "collapsed": false
   },
   "outputs": [
    {
     "name": "stdout",
     "output_type": "stream",
     "text": [
<<<<<<< HEAD
      "    STOP_LAT    STOP_LON  STOP_ID                    STOPNAME\n",
      "0  37.721190 -122.475096      390  19th Avenue &  Holloway St\n",
      "1  37.721190 -122.475096      390   19th Avenue & Holloway St\n",
      "2  37.765159 -122.477210      392     19TH AVE &  LINCOLN WAY\n",
      "3  37.723914 -122.435387      660   MISSION ST & OCEAN AVENUE\n",
      "4  37.719192 -122.425802      913    DUBLIN ST & LAGRANDE AVE\n"
=======
      "   STOP_LAT    STOP_LON  STOP_ID                    STOPNAME\n",
      "0  37.72119 -122.475096      390  19th Avenue &  Holloway St\n",
      "1  37.72119 -122.475096      390  19th Avenue &  Holloway St\n",
      "2  37.72119 -122.475096      390  19th Avenue &  Holloway St\n",
      "3  37.72119 -122.475096      390  19th Avenue &  Holloway St\n",
      "4  37.72119 -122.475096      390  19th Avenue &  Holloway St\n"
>>>>>>> 6e43ba4dca69e340b79d1a3d9b929f6bae11c8f8
     ]
    },
    {
     "data": {
      "text/plain": [
       "177415"
      ]
     },
<<<<<<< HEAD
     "execution_count": 33,
=======
     "execution_count": 9,
>>>>>>> 6e43ba4dca69e340b79d1a3d9b929f6bae11c8f8
     "metadata": {},
     "output_type": "execute_result"
    }
   ],
   "source": [
    "print(df_merge.head())\n",
    "len(df)"
   ]
  },
  {
   "cell_type": "code",
<<<<<<< HEAD
   "execution_count": 45,
=======
   "execution_count": 10,
>>>>>>> 6e43ba4dca69e340b79d1a3d9b929f6bae11c8f8
   "metadata": {
    "collapsed": false
   },
   "outputs": [
    {
     "data": {
      "text/html": [
       "<div>\n",
       "<table border=\"1\" class=\"dataframe\">\n",
       "  <thead>\n",
       "    <tr style=\"text-align: right;\">\n",
       "      <th></th>\n",
<<<<<<< HEAD
       "      <th>STOP_ID</th>\n",
       "      <th>STOP_LAT</th>\n",
       "      <th>STOP_LON</th>\n",
=======
       "      <th>STOP_LAT</th>\n",
       "      <th>STOP_LON</th>\n",
       "      <th>STOP_ID</th>\n",
       "    </tr>\n",
       "    <tr>\n",
       "      <th>STOP_ID</th>\n",
       "      <th></th>\n",
       "      <th></th>\n",
       "      <th></th>\n",
>>>>>>> 6e43ba4dca69e340b79d1a3d9b929f6bae11c8f8
       "    </tr>\n",
       "  </thead>\n",
       "  <tbody>\n",
       "    <tr>\n",
<<<<<<< HEAD
       "      <th>0</th>\n",
       "      <td>390</td>\n",
       "      <td>37.721190</td>\n",
       "      <td>-122.475096</td>\n",
       "    </tr>\n",
       "    <tr>\n",
       "      <th>1</th>\n",
       "      <td>392</td>\n",
       "      <td>37.765159</td>\n",
       "      <td>-122.477210</td>\n",
       "    </tr>\n",
       "    <tr>\n",
       "      <th>2</th>\n",
       "      <td>660</td>\n",
       "      <td>37.723914</td>\n",
       "      <td>-122.435387</td>\n",
       "    </tr>\n",
       "    <tr>\n",
       "      <th>3</th>\n",
       "      <td>913</td>\n",
       "      <td>37.719192</td>\n",
       "      <td>-122.425802</td>\n",
       "    </tr>\n",
       "    <tr>\n",
       "      <th>4</th>\n",
       "      <td>3001</td>\n",
       "      <td>37.788530</td>\n",
       "      <td>-122.396044</td>\n",
=======
       "      <th>390</th>\n",
       "      <td>37.721190</td>\n",
       "      <td>-122.475096</td>\n",
       "      <td>390</td>\n",
       "    </tr>\n",
       "    <tr>\n",
       "      <th>392</th>\n",
       "      <td>37.765159</td>\n",
       "      <td>-122.477210</td>\n",
       "      <td>392</td>\n",
       "    </tr>\n",
       "    <tr>\n",
       "      <th>660</th>\n",
       "      <td>37.723914</td>\n",
       "      <td>-122.435387</td>\n",
       "      <td>660</td>\n",
       "    </tr>\n",
       "    <tr>\n",
       "      <th>913</th>\n",
       "      <td>37.719192</td>\n",
       "      <td>-122.425802</td>\n",
       "      <td>913</td>\n",
       "    </tr>\n",
       "    <tr>\n",
       "      <th>3001</th>\n",
       "      <td>37.788530</td>\n",
       "      <td>-122.396044</td>\n",
       "      <td>3001</td>\n",
>>>>>>> 6e43ba4dca69e340b79d1a3d9b929f6bae11c8f8
       "    </tr>\n",
       "  </tbody>\n",
       "</table>\n",
       "</div>"
      ],
      "text/plain": [
<<<<<<< HEAD
       "   STOP_ID   STOP_LAT    STOP_LON\n",
       "0      390  37.721190 -122.475096\n",
       "1      392  37.765159 -122.477210\n",
       "2      660  37.723914 -122.435387\n",
       "3      913  37.719192 -122.425802\n",
       "4     3001  37.788530 -122.396044"
      ]
     },
     "execution_count": 45,
=======
       "          STOP_LAT    STOP_LON  STOP_ID\n",
       "STOP_ID                                \n",
       "390      37.721190 -122.475096      390\n",
       "392      37.765159 -122.477210      392\n",
       "660      37.723914 -122.435387      660\n",
       "913      37.719192 -122.425802      913\n",
       "3001     37.788530 -122.396044     3001"
      ]
     },
     "execution_count": 10,
>>>>>>> 6e43ba4dca69e340b79d1a3d9b929f6bae11c8f8
     "metadata": {},
     "output_type": "execute_result"
    }
   ],
   "source": [
    "df2.head()"
   ]
  },
  {
   "cell_type": "code",
<<<<<<< HEAD
   "execution_count": 11,
=======
   "execution_count": 58,
>>>>>>> 6e43ba4dca69e340b79d1a3d9b929f6bae11c8f8
   "metadata": {
    "collapsed": false
   },
   "outputs": [],
   "source": [
    "from shapely.geometry import Point\n",
    "import geopandas as gp\n",
    "import shapefile"
   ]
  },
  {
   "cell_type": "markdown",
   "metadata": {},
   "source": [
    "# Creating Point Geometries with Lat and Long from Stop Table"
   ]
  },
  {
   "cell_type": "code",
<<<<<<< HEAD
   "execution_count": 72,
=======
   "execution_count": 59,
>>>>>>> 6e43ba4dca69e340b79d1a3d9b929f6bae11c8f8
   "metadata": {
    "collapsed": false
   },
   "outputs": [],
   "source": [
    "df2['geometry'] = df2.apply(lambda x: Point((float(x.STOP_LON), float(x.STOP_LAT))), axis=1)"
   ]
  },
  {
   "cell_type": "code",
<<<<<<< HEAD
   "execution_count": 73,
   "metadata": {
    "collapsed": false
   },
   "outputs": [
    {
     "data": {
      "text/html": [
       "<div>\n",
       "<table border=\"1\" class=\"dataframe\">\n",
       "  <thead>\n",
       "    <tr style=\"text-align: right;\">\n",
       "      <th></th>\n",
       "      <th>STOP_ID</th>\n",
       "      <th>STOP_LAT</th>\n",
       "      <th>STOP_LON</th>\n",
       "      <th>geometry</th>\n",
       "    </tr>\n",
       "  </thead>\n",
       "  <tbody>\n",
       "    <tr>\n",
       "      <th>0</th>\n",
       "      <td>390</td>\n",
       "      <td>37.721190</td>\n",
       "      <td>-122.475096</td>\n",
       "      <td>POINT (-122.475096 37.72119)</td>\n",
       "    </tr>\n",
       "    <tr>\n",
       "      <th>1</th>\n",
       "      <td>392</td>\n",
       "      <td>37.765159</td>\n",
       "      <td>-122.477210</td>\n",
       "      <td>POINT (-122.47721 37.765159)</td>\n",
       "    </tr>\n",
       "    <tr>\n",
       "      <th>2</th>\n",
       "      <td>660</td>\n",
       "      <td>37.723914</td>\n",
       "      <td>-122.435387</td>\n",
       "      <td>POINT (-122.435387 37.723914)</td>\n",
       "    </tr>\n",
       "    <tr>\n",
       "      <th>3</th>\n",
       "      <td>913</td>\n",
       "      <td>37.719192</td>\n",
       "      <td>-122.425802</td>\n",
       "      <td>POINT (-122.425802 37.719192)</td>\n",
       "    </tr>\n",
       "    <tr>\n",
       "      <th>4</th>\n",
       "      <td>3001</td>\n",
       "      <td>37.788530</td>\n",
       "      <td>-122.396044</td>\n",
       "      <td>POINT (-122.396044 37.78853)</td>\n",
       "    </tr>\n",
       "  </tbody>\n",
       "</table>\n",
       "</div>"
      ],
      "text/plain": [
       "   STOP_ID   STOP_LAT    STOP_LON                       geometry\n",
       "0      390  37.721190 -122.475096   POINT (-122.475096 37.72119)\n",
       "1      392  37.765159 -122.477210   POINT (-122.47721 37.765159)\n",
       "2      660  37.723914 -122.435387  POINT (-122.435387 37.723914)\n",
       "3      913  37.719192 -122.425802  POINT (-122.425802 37.719192)\n",
       "4     3001  37.788530 -122.396044   POINT (-122.396044 37.78853)"
      ]
     },
     "execution_count": 73,
     "metadata": {},
     "output_type": "execute_result"
    }
   ],
   "source": [
    "df2.head()"
   ]
  },
  {
   "cell_type": "code",
   "execution_count": 74,
   "metadata": {
    "collapsed": false
   },
   "outputs": [],
   "source": [
    "stops = gp.GeoDataFrame(df2, geometry='geometry')"
   ]
  },
  {
   "cell_type": "code",
   "execution_count": 75,
=======
   "execution_count": null,
   "metadata": {
    "collapsed": true
   },
   "outputs": [],
   "source": []
  },
  {
   "cell_type": "code",
   "execution_count": 60,
>>>>>>> 6e43ba4dca69e340b79d1a3d9b929f6bae11c8f8
   "metadata": {
    "collapsed": false
   },
   "outputs": [
    {
<<<<<<< HEAD
     "data": {
      "text/html": [
       "<div>\n",
       "<table border=\"1\" class=\"dataframe\">\n",
       "  <thead>\n",
       "    <tr style=\"text-align: right;\">\n",
       "      <th></th>\n",
       "      <th>STOP_ID</th>\n",
       "      <th>STOP_LAT</th>\n",
       "      <th>STOP_LON</th>\n",
       "      <th>geometry</th>\n",
       "    </tr>\n",
       "  </thead>\n",
       "  <tbody>\n",
       "    <tr>\n",
       "      <th>0</th>\n",
       "      <td>390</td>\n",
       "      <td>37.721190</td>\n",
       "      <td>-122.475096</td>\n",
       "      <td>POINT (-122.475096 37.72119)</td>\n",
       "    </tr>\n",
       "    <tr>\n",
       "      <th>1</th>\n",
       "      <td>392</td>\n",
       "      <td>37.765159</td>\n",
       "      <td>-122.477210</td>\n",
       "      <td>POINT (-122.47721 37.765159)</td>\n",
       "    </tr>\n",
       "    <tr>\n",
       "      <th>2</th>\n",
       "      <td>660</td>\n",
       "      <td>37.723914</td>\n",
       "      <td>-122.435387</td>\n",
       "      <td>POINT (-122.435387 37.723914)</td>\n",
       "    </tr>\n",
       "    <tr>\n",
       "      <th>3</th>\n",
       "      <td>913</td>\n",
       "      <td>37.719192</td>\n",
       "      <td>-122.425802</td>\n",
       "      <td>POINT (-122.425802 37.719192)</td>\n",
       "    </tr>\n",
       "    <tr>\n",
       "      <th>4</th>\n",
       "      <td>3001</td>\n",
       "      <td>37.788530</td>\n",
       "      <td>-122.396044</td>\n",
       "      <td>POINT (-122.396044 37.78853)</td>\n",
       "    </tr>\n",
       "  </tbody>\n",
       "</table>\n",
       "</div>"
      ],
      "text/plain": [
       "   STOP_ID   STOP_LAT    STOP_LON                       geometry\n",
       "0      390  37.721190 -122.475096   POINT (-122.475096 37.72119)\n",
       "1      392  37.765159 -122.477210   POINT (-122.47721 37.765159)\n",
       "2      660  37.723914 -122.435387  POINT (-122.435387 37.723914)\n",
       "3      913  37.719192 -122.425802  POINT (-122.425802 37.719192)\n",
       "4     3001  37.788530 -122.396044   POINT (-122.396044 37.78853)"
      ]
     },
     "execution_count": 75,
     "metadata": {},
     "output_type": "execute_result"
    }
   ],
   "source": [
    "stops.head()"
=======
     "ename": "AttributeError",
     "evalue": "'DataFrame' object has no attribute 'crs'",
     "output_type": "error",
     "traceback": [
      "\u001b[0;31m---------------------------------------------------------------------------\u001b[0m",
      "\u001b[0;31mAttributeError\u001b[0m                            Traceback (most recent call last)",
      "\u001b[0;32m<ipython-input-60-14dce42bdcb4>\u001b[0m in \u001b[0;36m<module>\u001b[0;34m()\u001b[0m\n\u001b[0;32m----> 1\u001b[0;31m \u001b[0mstops\u001b[0m \u001b[1;33m=\u001b[0m \u001b[0mgp\u001b[0m\u001b[1;33m.\u001b[0m\u001b[0mGeoDataFrame\u001b[0m\u001b[1;33m(\u001b[0m\u001b[0mdf2\u001b[0m\u001b[1;33m,\u001b[0m \u001b[0mgeometry\u001b[0m\u001b[1;33m=\u001b[0m\u001b[1;34m'geometry'\u001b[0m\u001b[1;33m,\u001b[0m\u001b[0mcrs\u001b[0m \u001b[1;33m=\u001b[0m \u001b[0mdf2\u001b[0m\u001b[1;33m.\u001b[0m\u001b[0mcrs\u001b[0m\u001b[1;33m)\u001b[0m\u001b[1;33m\u001b[0m\u001b[0m\n\u001b[0m",
      "\u001b[0;32mC:\\Anaconda\\lib\\site-packages\\pandas\\core\\generic.py\u001b[0m in \u001b[0;36m__getattr__\u001b[0;34m(self, name)\u001b[0m\n\u001b[1;32m   2742\u001b[0m             \u001b[1;32mif\u001b[0m \u001b[0mname\u001b[0m \u001b[1;32min\u001b[0m \u001b[0mself\u001b[0m\u001b[1;33m.\u001b[0m\u001b[0m_info_axis\u001b[0m\u001b[1;33m:\u001b[0m\u001b[1;33m\u001b[0m\u001b[0m\n\u001b[1;32m   2743\u001b[0m                 \u001b[1;32mreturn\u001b[0m \u001b[0mself\u001b[0m\u001b[1;33m[\u001b[0m\u001b[0mname\u001b[0m\u001b[1;33m]\u001b[0m\u001b[1;33m\u001b[0m\u001b[0m\n\u001b[0;32m-> 2744\u001b[0;31m             \u001b[1;32mreturn\u001b[0m \u001b[0mobject\u001b[0m\u001b[1;33m.\u001b[0m\u001b[0m__getattribute__\u001b[0m\u001b[1;33m(\u001b[0m\u001b[0mself\u001b[0m\u001b[1;33m,\u001b[0m \u001b[0mname\u001b[0m\u001b[1;33m)\u001b[0m\u001b[1;33m\u001b[0m\u001b[0m\n\u001b[0m\u001b[1;32m   2745\u001b[0m \u001b[1;33m\u001b[0m\u001b[0m\n\u001b[1;32m   2746\u001b[0m     \u001b[1;32mdef\u001b[0m \u001b[0m__setattr__\u001b[0m\u001b[1;33m(\u001b[0m\u001b[0mself\u001b[0m\u001b[1;33m,\u001b[0m \u001b[0mname\u001b[0m\u001b[1;33m,\u001b[0m \u001b[0mvalue\u001b[0m\u001b[1;33m)\u001b[0m\u001b[1;33m:\u001b[0m\u001b[1;33m\u001b[0m\u001b[0m\n",
      "\u001b[0;31mAttributeError\u001b[0m: 'DataFrame' object has no attribute 'crs'"
     ]
    }
   ],
   "source": [
    "stops = gp.GeoDataFrame(df2, geometry='geometry',crs = df2.crs)"
>>>>>>> 6e43ba4dca69e340b79d1a3d9b929f6bae11c8f8
   ]
  },
  {
   "cell_type": "code",
<<<<<<< HEAD
   "execution_count": 76,
=======
   "execution_count": 11,
>>>>>>> 6e43ba4dca69e340b79d1a3d9b929f6bae11c8f8
   "metadata": {
    "collapsed": false
   },
   "outputs": [
    {
     "data": {
      "text/plain": [
<<<<<<< HEAD
       "<matplotlib.axes._subplots.AxesSubplot at 0x18fc26e7208>"
      ]
     },
     "execution_count": 76,
=======
       "<matplotlib.axes._subplots.AxesSubplot at 0x1d8399847f0>"
      ]
     },
     "execution_count": 11,
>>>>>>> 6e43ba4dca69e340b79d1a3d9b929f6bae11c8f8
     "metadata": {},
     "output_type": "execute_result"
    },
    {
     "data": {
<<<<<<< HEAD
      "image/png": "iVBORw0KGgoAAAANSUhEUgAAAToAAAD8CAYAAADnhGhBAAAABHNCSVQICAgIfAhkiAAAAAlwSFlz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\ny0nLNAAAAABJRU5ErkJggg==\n",
      "text/plain": [
       "<matplotlib.figure.Figure at 0x18fc26ee6a0>"
=======
      "image/png": "iVBORw0KGgoAAAANSUhEUgAAAToAAAD8CAYAAADnhGhBAAAABHNCSVQICAgIfAhkiAAAAAlwSFlz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\n",
      "text/plain": [
       "<matplotlib.figure.Figure at 0x1d82ed0eb70>"
>>>>>>> 6e43ba4dca69e340b79d1a3d9b929f6bae11c8f8
      ]
     },
     "metadata": {},
     "output_type": "display_data"
    }
   ],
   "source": [
    "stops.plot()"
   ]
  },
  {
   "cell_type": "code",
<<<<<<< HEAD
   "execution_count": 77,
=======
   "execution_count": 15,
>>>>>>> 6e43ba4dca69e340b79d1a3d9b929f6bae11c8f8
   "metadata": {
    "collapsed": false
   },
   "outputs": [],
   "source": [
<<<<<<< HEAD
    "stops.to_file('Bus_Stops_2009.shp', driver='ESRI Shapefile')"
   ]
  },
  {
   "cell_type": "code",
   "execution_count": 78,
   "metadata": {
    "collapsed": true
   },
   "outputs": [],
   "source": [
    "stops.crs = {'init':'epsg:4326'}"
   ]
  },
  {
   "cell_type": "code",
   "execution_count": 80,
   "metadata": {
    "collapsed": false
   },
   "outputs": [],
   "source": [
    "stops = gp.read_file('E:\\Transit-Casa-Alex\\Input\\Bus_Stops/Bus_Stops_2009_US.shp')"
   ]
  },
  {
   "cell_type": "code",
   "execution_count": 46,
   "metadata": {
    "collapsed": false
   },
   "outputs": [
    {
     "ename": "RuntimeError",
     "evalue": "b'no colon in init= string'",
     "output_type": "error",
     "traceback": [
      "\u001b[0;31m---------------------------------------------------------------------------\u001b[0m",
      "\u001b[0;31mRuntimeError\u001b[0m                              Traceback (most recent call last)",
      "\u001b[0;32m<ipython-input-46-299730212435>\u001b[0m in \u001b[0;36m<module>\u001b[0;34m()\u001b[0m\n\u001b[0;32m----> 1\u001b[0;31m \u001b[0mstops\u001b[0m\u001b[1;33m.\u001b[0m\u001b[0mto_crs\u001b[0m\u001b[1;33m(\u001b[0m\u001b[0mcrs\u001b[0m \u001b[1;33m=\u001b[0m \u001b[0mtarget_crs\u001b[0m\u001b[1;33m,\u001b[0m\u001b[0minplace\u001b[0m \u001b[1;33m=\u001b[0m \u001b[1;32mTrue\u001b[0m\u001b[1;33m)\u001b[0m\u001b[1;33m\u001b[0m\u001b[0m\n\u001b[0m",
      "\u001b[0;32mC:\\Anaconda\\lib\\site-packages\\geopandas\\geodataframe.py\u001b[0m in \u001b[0;36mto_crs\u001b[0;34m(self, crs, epsg, inplace)\u001b[0m\n\u001b[1;32m    362\u001b[0m         \u001b[1;32melse\u001b[0m\u001b[1;33m:\u001b[0m\u001b[1;33m\u001b[0m\u001b[0m\n\u001b[1;32m    363\u001b[0m             \u001b[0mdf\u001b[0m \u001b[1;33m=\u001b[0m \u001b[0mself\u001b[0m\u001b[1;33m.\u001b[0m\u001b[0mcopy\u001b[0m\u001b[1;33m(\u001b[0m\u001b[1;33m)\u001b[0m\u001b[1;33m\u001b[0m\u001b[0m\n\u001b[0;32m--> 364\u001b[0;31m         \u001b[0mgeom\u001b[0m \u001b[1;33m=\u001b[0m \u001b[0mdf\u001b[0m\u001b[1;33m.\u001b[0m\u001b[0mgeometry\u001b[0m\u001b[1;33m.\u001b[0m\u001b[0mto_crs\u001b[0m\u001b[1;33m(\u001b[0m\u001b[0mcrs\u001b[0m\u001b[1;33m=\u001b[0m\u001b[0mcrs\u001b[0m\u001b[1;33m,\u001b[0m \u001b[0mepsg\u001b[0m\u001b[1;33m=\u001b[0m\u001b[0mepsg\u001b[0m\u001b[1;33m)\u001b[0m\u001b[1;33m\u001b[0m\u001b[0m\n\u001b[0m\u001b[1;32m    365\u001b[0m         \u001b[0mdf\u001b[0m\u001b[1;33m.\u001b[0m\u001b[0mgeometry\u001b[0m \u001b[1;33m=\u001b[0m \u001b[0mgeom\u001b[0m\u001b[1;33m\u001b[0m\u001b[0m\n\u001b[1;32m    366\u001b[0m         \u001b[0mdf\u001b[0m\u001b[1;33m.\u001b[0m\u001b[0mcrs\u001b[0m \u001b[1;33m=\u001b[0m \u001b[0mgeom\u001b[0m\u001b[1;33m.\u001b[0m\u001b[0mcrs\u001b[0m\u001b[1;33m\u001b[0m\u001b[0m\n",
      "\u001b[0;32mC:\\Anaconda\\lib\\site-packages\\geopandas\\geoseries.py\u001b[0m in \u001b[0;36mto_crs\u001b[0;34m(self, crs, epsg)\u001b[0m\n\u001b[1;32m    273\u001b[0m             \u001b[1;32mexcept\u001b[0m \u001b[0mTypeError\u001b[0m\u001b[1;33m:\u001b[0m\u001b[1;33m\u001b[0m\u001b[0m\n\u001b[1;32m    274\u001b[0m                 \u001b[1;32mraise\u001b[0m \u001b[0mTypeError\u001b[0m\u001b[1;33m(\u001b[0m\u001b[1;34m'Must set either crs or epsg for output.'\u001b[0m\u001b[1;33m)\u001b[0m\u001b[1;33m\u001b[0m\u001b[0m\n\u001b[0;32m--> 275\u001b[0;31m         \u001b[0mproj_in\u001b[0m \u001b[1;33m=\u001b[0m \u001b[0mpyproj\u001b[0m\u001b[1;33m.\u001b[0m\u001b[0mProj\u001b[0m\u001b[1;33m(\u001b[0m\u001b[0mself\u001b[0m\u001b[1;33m.\u001b[0m\u001b[0mcrs\u001b[0m\u001b[1;33m,\u001b[0m \u001b[0mpreserve_units\u001b[0m\u001b[1;33m=\u001b[0m\u001b[1;32mTrue\u001b[0m\u001b[1;33m)\u001b[0m\u001b[1;33m\u001b[0m\u001b[0m\n\u001b[0m\u001b[1;32m    276\u001b[0m         \u001b[0mproj_out\u001b[0m \u001b[1;33m=\u001b[0m \u001b[0mpyproj\u001b[0m\u001b[1;33m.\u001b[0m\u001b[0mProj\u001b[0m\u001b[1;33m(\u001b[0m\u001b[0mcrs\u001b[0m\u001b[1;33m,\u001b[0m \u001b[0mpreserve_units\u001b[0m\u001b[1;33m=\u001b[0m\u001b[1;32mTrue\u001b[0m\u001b[1;33m)\u001b[0m\u001b[1;33m\u001b[0m\u001b[0m\n\u001b[1;32m    277\u001b[0m         \u001b[0mproject\u001b[0m \u001b[1;33m=\u001b[0m \u001b[0mpartial\u001b[0m\u001b[1;33m(\u001b[0m\u001b[0mpyproj\u001b[0m\u001b[1;33m.\u001b[0m\u001b[0mtransform\u001b[0m\u001b[1;33m,\u001b[0m \u001b[0mproj_in\u001b[0m\u001b[1;33m,\u001b[0m \u001b[0mproj_out\u001b[0m\u001b[1;33m)\u001b[0m\u001b[1;33m\u001b[0m\u001b[0m\n",
      "\u001b[0;32mC:\\Anaconda\\lib\\site-packages\\pyproj\\__init__.py\u001b[0m in \u001b[0;36m__new__\u001b[0;34m(self, projparams, preserve_units, **kwargs)\u001b[0m\n\u001b[1;32m    356\u001b[0m         \u001b[1;31m# on case-insensitive filesystems).\u001b[0m\u001b[1;33m\u001b[0m\u001b[1;33m\u001b[0m\u001b[0m\n\u001b[1;32m    357\u001b[0m         \u001b[0mprojstring\u001b[0m \u001b[1;33m=\u001b[0m \u001b[0mprojstring\u001b[0m\u001b[1;33m.\u001b[0m\u001b[0mreplace\u001b[0m\u001b[1;33m(\u001b[0m\u001b[1;34m'EPSG'\u001b[0m\u001b[1;33m,\u001b[0m\u001b[1;34m'epsg'\u001b[0m\u001b[1;33m)\u001b[0m\u001b[1;33m\u001b[0m\u001b[0m\n\u001b[0;32m--> 358\u001b[0;31m         \u001b[1;32mreturn\u001b[0m \u001b[0m_proj\u001b[0m\u001b[1;33m.\u001b[0m\u001b[0mProj\u001b[0m\u001b[1;33m.\u001b[0m\u001b[0m__new__\u001b[0m\u001b[1;33m(\u001b[0m\u001b[0mself\u001b[0m\u001b[1;33m,\u001b[0m \u001b[0mprojstring\u001b[0m\u001b[1;33m)\u001b[0m\u001b[1;33m\u001b[0m\u001b[0m\n\u001b[0m\u001b[1;32m    359\u001b[0m \u001b[1;33m\u001b[0m\u001b[0m\n\u001b[1;32m    360\u001b[0m     \u001b[1;32mdef\u001b[0m \u001b[0m__call__\u001b[0m\u001b[1;33m(\u001b[0m\u001b[0mself\u001b[0m\u001b[1;33m,\u001b[0m \u001b[1;33m*\u001b[0m\u001b[0margs\u001b[0m\u001b[1;33m,\u001b[0m \u001b[1;33m**\u001b[0m\u001b[0mkw\u001b[0m\u001b[1;33m)\u001b[0m\u001b[1;33m:\u001b[0m\u001b[1;33m\u001b[0m\u001b[0m\n",
      "\u001b[0;32m_proj.pyx\u001b[0m in \u001b[0;36m_proj.Proj.__cinit__ (_proj.c:1170)\u001b[0;34m()\u001b[0m\n",
      "\u001b[0;31mRuntimeError\u001b[0m: b'no colon in init= string'"
     ]
    }
   ],
   "source": [
    "stops."
=======
    "stops.to_file('Bus_Stops.shp', driver='ESRI Shapefile')"
>>>>>>> 6e43ba4dca69e340b79d1a3d9b929f6bae11c8f8
   ]
  },
  {
   "cell_type": "markdown",
   "metadata": {},
   "source": [
    "## This is another way to write a shapefile (ignore for now)"
   ]
  },
  {
   "cell_type": "code",
   "execution_count": 16,
   "metadata": {
    "collapsed": true
   },
   "outputs": [],
   "source": [
    "stop = shapefile.Writer(shapeType = 1)"
   ]
  },
  {
   "cell_type": "code",
   "execution_count": 17,
   "metadata": {
    "collapsed": true
   },
   "outputs": [],
   "source": [
    "#makes sure that the shapefile table is balanced every geometry has data vice versa (look up pyshp documentation)\n",
    "stop.autoBalance = 1"
   ]
  },
  {
   "cell_type": "code",
   "execution_count": 18,
   "metadata": {
    "collapsed": false
   },
   "outputs": [],
   "source": [
    "lx = list(df2['STOP_LON'])\n",
    "ly = list(df2['STOP_LAT'])\n",
    "\n",
    "for i in range(0,len(df2)):\n",
    "\n",
    "    stop.point(x = float(lx[i]),y=float(ly[i]))"
   ]
  },
  {
   "cell_type": "code",
   "execution_count": 19,
   "metadata": {
    "collapsed": false
   },
   "outputs": [
    {
     "data": {
      "text/plain": [
       "3744"
      ]
     },
     "execution_count": 19,
     "metadata": {},
     "output_type": "execute_result"
    }
   ],
   "source": [
    "len(stop.shapes())"
   ]
  },
  {
   "cell_type": "code",
   "execution_count": 1,
   "metadata": {
    "collapsed": false
   },
   "outputs": [
    {
     "ename": "NameError",
     "evalue": "name 'df2' is not defined",
     "output_type": "error",
     "traceback": [
      "\u001b[0;31m---------------------------------------------------------------------------\u001b[0m",
      "\u001b[0;31mNameError\u001b[0m                                 Traceback (most recent call last)",
      "\u001b[0;32m<ipython-input-1-fa097f91cb6d>\u001b[0m in \u001b[0;36m<module>\u001b[0;34m()\u001b[0m\n\u001b[0;32m----> 1\u001b[0;31m \u001b[0mlen\u001b[0m\u001b[1;33m(\u001b[0m\u001b[0mdf2\u001b[0m\u001b[1;33m)\u001b[0m\u001b[1;33m\u001b[0m\u001b[0m\n\u001b[0m\u001b[1;32m      2\u001b[0m \u001b[0mget_ipython\u001b[0m\u001b[1;33m(\u001b[0m\u001b[1;33m)\u001b[0m\u001b[1;33m.\u001b[0m\u001b[0mmagic\u001b[0m\u001b[1;33m(\u001b[0m\u001b[1;34m'pinfo df.at'\u001b[0m\u001b[1;33m)\u001b[0m\u001b[1;33m\u001b[0m\u001b[0m\n",
      "\u001b[0;31mNameError\u001b[0m: name 'df2' is not defined"
     ]
    }
   ],
   "source": [
    "len(df2)\n"
   ]
  },
  {
   "cell_type": "code",
   "execution_count": 21,
   "metadata": {
    "collapsed": false
   },
   "outputs": [],
   "source": [
    "stop.save('stops')"
   ]
  },
  {
   "cell_type": "markdown",
   "metadata": {},
   "source": [
    "## Creating Buffer Code Resumes Here"
   ]
  },
  {
   "cell_type": "code",
<<<<<<< HEAD
   "execution_count": 55,
   "metadata": {
    "collapsed": false
   },
   "outputs": [
    {
     "ename": "RuntimeError",
     "evalue": "b'no colon in init= string'",
     "output_type": "error",
     "traceback": [
      "\u001b[0;31m---------------------------------------------------------------------------\u001b[0m",
      "\u001b[0;31mRuntimeError\u001b[0m                              Traceback (most recent call last)",
      "\u001b[0;32m<ipython-input-55-ed36f8cb1447>\u001b[0m in \u001b[0;36m<module>\u001b[0;34m()\u001b[0m\n\u001b[1;32m      3\u001b[0m \u001b[1;31m# this did not work at first so I switched to arc gis\u001b[0m\u001b[1;33m\u001b[0m\u001b[1;33m\u001b[0m\u001b[0m\n\u001b[1;32m      4\u001b[0m \u001b[1;33m\u001b[0m\u001b[0m\n\u001b[0;32m----> 5\u001b[0;31m \u001b[0mstops\u001b[0m \u001b[1;33m=\u001b[0m \u001b[0mstops\u001b[0m\u001b[1;33m.\u001b[0m\u001b[0mto_crs\u001b[0m\u001b[1;33m(\u001b[0m\u001b[1;33m{\u001b[0m\u001b[1;34m'init'\u001b[0m\u001b[1;33m:\u001b[0m \u001b[1;34m'epsg:6420'\u001b[0m\u001b[1;33m}\u001b[0m\u001b[1;33m)\u001b[0m\u001b[1;33m\u001b[0m\u001b[0m\n\u001b[0m",
      "\u001b[0;32mC:\\Anaconda\\lib\\site-packages\\geopandas\\geodataframe.py\u001b[0m in \u001b[0;36mto_crs\u001b[0;34m(self, crs, epsg, inplace)\u001b[0m\n\u001b[1;32m    362\u001b[0m         \u001b[1;32melse\u001b[0m\u001b[1;33m:\u001b[0m\u001b[1;33m\u001b[0m\u001b[0m\n\u001b[1;32m    363\u001b[0m             \u001b[0mdf\u001b[0m \u001b[1;33m=\u001b[0m \u001b[0mself\u001b[0m\u001b[1;33m.\u001b[0m\u001b[0mcopy\u001b[0m\u001b[1;33m(\u001b[0m\u001b[1;33m)\u001b[0m\u001b[1;33m\u001b[0m\u001b[0m\n\u001b[0;32m--> 364\u001b[0;31m         \u001b[0mgeom\u001b[0m \u001b[1;33m=\u001b[0m \u001b[0mdf\u001b[0m\u001b[1;33m.\u001b[0m\u001b[0mgeometry\u001b[0m\u001b[1;33m.\u001b[0m\u001b[0mto_crs\u001b[0m\u001b[1;33m(\u001b[0m\u001b[0mcrs\u001b[0m\u001b[1;33m=\u001b[0m\u001b[0mcrs\u001b[0m\u001b[1;33m,\u001b[0m \u001b[0mepsg\u001b[0m\u001b[1;33m=\u001b[0m\u001b[0mepsg\u001b[0m\u001b[1;33m)\u001b[0m\u001b[1;33m\u001b[0m\u001b[0m\n\u001b[0m\u001b[1;32m    365\u001b[0m         \u001b[0mdf\u001b[0m\u001b[1;33m.\u001b[0m\u001b[0mgeometry\u001b[0m \u001b[1;33m=\u001b[0m \u001b[0mgeom\u001b[0m\u001b[1;33m\u001b[0m\u001b[0m\n\u001b[1;32m    366\u001b[0m         \u001b[0mdf\u001b[0m\u001b[1;33m.\u001b[0m\u001b[0mcrs\u001b[0m \u001b[1;33m=\u001b[0m \u001b[0mgeom\u001b[0m\u001b[1;33m.\u001b[0m\u001b[0mcrs\u001b[0m\u001b[1;33m\u001b[0m\u001b[0m\n",
      "\u001b[0;32mC:\\Anaconda\\lib\\site-packages\\geopandas\\geoseries.py\u001b[0m in \u001b[0;36mto_crs\u001b[0;34m(self, crs, epsg)\u001b[0m\n\u001b[1;32m    273\u001b[0m             \u001b[1;32mexcept\u001b[0m \u001b[0mTypeError\u001b[0m\u001b[1;33m:\u001b[0m\u001b[1;33m\u001b[0m\u001b[0m\n\u001b[1;32m    274\u001b[0m                 \u001b[1;32mraise\u001b[0m \u001b[0mTypeError\u001b[0m\u001b[1;33m(\u001b[0m\u001b[1;34m'Must set either crs or epsg for output.'\u001b[0m\u001b[1;33m)\u001b[0m\u001b[1;33m\u001b[0m\u001b[0m\n\u001b[0;32m--> 275\u001b[0;31m         \u001b[0mproj_in\u001b[0m \u001b[1;33m=\u001b[0m \u001b[0mpyproj\u001b[0m\u001b[1;33m.\u001b[0m\u001b[0mProj\u001b[0m\u001b[1;33m(\u001b[0m\u001b[0mself\u001b[0m\u001b[1;33m.\u001b[0m\u001b[0mcrs\u001b[0m\u001b[1;33m,\u001b[0m \u001b[0mpreserve_units\u001b[0m\u001b[1;33m=\u001b[0m\u001b[1;32mTrue\u001b[0m\u001b[1;33m)\u001b[0m\u001b[1;33m\u001b[0m\u001b[0m\n\u001b[0m\u001b[1;32m    276\u001b[0m         \u001b[0mproj_out\u001b[0m \u001b[1;33m=\u001b[0m \u001b[0mpyproj\u001b[0m\u001b[1;33m.\u001b[0m\u001b[0mProj\u001b[0m\u001b[1;33m(\u001b[0m\u001b[0mcrs\u001b[0m\u001b[1;33m,\u001b[0m \u001b[0mpreserve_units\u001b[0m\u001b[1;33m=\u001b[0m\u001b[1;32mTrue\u001b[0m\u001b[1;33m)\u001b[0m\u001b[1;33m\u001b[0m\u001b[0m\n\u001b[1;32m    277\u001b[0m         \u001b[0mproject\u001b[0m \u001b[1;33m=\u001b[0m \u001b[0mpartial\u001b[0m\u001b[1;33m(\u001b[0m\u001b[0mpyproj\u001b[0m\u001b[1;33m.\u001b[0m\u001b[0mtransform\u001b[0m\u001b[1;33m,\u001b[0m \u001b[0mproj_in\u001b[0m\u001b[1;33m,\u001b[0m \u001b[0mproj_out\u001b[0m\u001b[1;33m)\u001b[0m\u001b[1;33m\u001b[0m\u001b[0m\n",
      "\u001b[0;32mC:\\Anaconda\\lib\\site-packages\\pyproj\\__init__.py\u001b[0m in \u001b[0;36m__new__\u001b[0;34m(self, projparams, preserve_units, **kwargs)\u001b[0m\n\u001b[1;32m    356\u001b[0m         \u001b[1;31m# on case-insensitive filesystems).\u001b[0m\u001b[1;33m\u001b[0m\u001b[1;33m\u001b[0m\u001b[0m\n\u001b[1;32m    357\u001b[0m         \u001b[0mprojstring\u001b[0m \u001b[1;33m=\u001b[0m \u001b[0mprojstring\u001b[0m\u001b[1;33m.\u001b[0m\u001b[0mreplace\u001b[0m\u001b[1;33m(\u001b[0m\u001b[1;34m'EPSG'\u001b[0m\u001b[1;33m,\u001b[0m\u001b[1;34m'epsg'\u001b[0m\u001b[1;33m)\u001b[0m\u001b[1;33m\u001b[0m\u001b[0m\n\u001b[0;32m--> 358\u001b[0;31m         \u001b[1;32mreturn\u001b[0m \u001b[0m_proj\u001b[0m\u001b[1;33m.\u001b[0m\u001b[0mProj\u001b[0m\u001b[1;33m.\u001b[0m\u001b[0m__new__\u001b[0m\u001b[1;33m(\u001b[0m\u001b[0mself\u001b[0m\u001b[1;33m,\u001b[0m \u001b[0mprojstring\u001b[0m\u001b[1;33m)\u001b[0m\u001b[1;33m\u001b[0m\u001b[0m\n\u001b[0m\u001b[1;32m    359\u001b[0m \u001b[1;33m\u001b[0m\u001b[0m\n\u001b[1;32m    360\u001b[0m     \u001b[1;32mdef\u001b[0m \u001b[0m__call__\u001b[0m\u001b[1;33m(\u001b[0m\u001b[0mself\u001b[0m\u001b[1;33m,\u001b[0m \u001b[1;33m*\u001b[0m\u001b[0margs\u001b[0m\u001b[1;33m,\u001b[0m \u001b[1;33m**\u001b[0m\u001b[0mkw\u001b[0m\u001b[1;33m)\u001b[0m\u001b[1;33m:\u001b[0m\u001b[1;33m\u001b[0m\u001b[0m\n",
      "\u001b[0;32m_proj.pyx\u001b[0m in \u001b[0;36m_proj.Proj.__cinit__ (_proj.c:1170)\u001b[0;34m()\u001b[0m\n",
      "\u001b[0;31mRuntimeError\u001b[0m: b'no colon in init= string'"
     ]
    }
   ],
=======
   "execution_count": 26,
   "metadata": {
    "collapsed": true
   },
   "outputs": [],
>>>>>>> 6e43ba4dca69e340b79d1a3d9b929f6bae11c8f8
   "source": [
    "#reproject the stops onto a NAD83 NSRS 2007California zone 3 map to allow calculations in US ft \n",
    "\n",
    "# this did not work at first so I switched to arc gis\n",
    "\n",
<<<<<<< HEAD
    "stops = stops.to_crs({'init': 'epsg:6420'})"
=======
    "stops = stops.to_crs({'init': 'EPSG:3493'})"
>>>>>>> 6e43ba4dca69e340b79d1a3d9b929f6bae11c8f8
   ]
  },
  {
   "cell_type": "code",
<<<<<<< HEAD
   "execution_count": 81,
=======
   "execution_count": 17,
>>>>>>> 6e43ba4dca69e340b79d1a3d9b929f6bae11c8f8
   "metadata": {
    "collapsed": false
   },
   "outputs": [
    {
     "data": {
      "text/plain": [
<<<<<<< HEAD
       "<matplotlib.axes._subplots.AxesSubplot at 0x18fd09c6860>"
      ]
     },
     "execution_count": 81,
=======
       "<matplotlib.axes._subplots.AxesSubplot at 0x1b46be190f0>"
      ]
     },
     "execution_count": 17,
>>>>>>> 6e43ba4dca69e340b79d1a3d9b929f6bae11c8f8
     "metadata": {},
     "output_type": "execute_result"
    },
    {
     "data": {
<<<<<<< HEAD
      "image/png": "iVBORw0KGgoAAAANSUhEUgAAARgAAAD8CAYAAACsLLusAAAABHNCSVQICAgIfAhkiAAAAAlwSFlz\nAAALEgAACxIB0t1+/AAAIABJREFUeJzsnXd4VFXawH/nzqRO2kwaCS2BBBJKIHQEC0gRQpW+Iuoq\nsrsK7oqfu8qKiKLrKu6usLqABRGlCwhBCREURQGBFAKBFAgtIb33mXu+P+5kTAABXZEF7u955rmT\ne8+598zN3Hfec94mpJTo6OjoXAuU6z0AHR2dmxddwOjo6FwzdAGjo6NzzdAFjI6OzjVDFzA6OjrX\nDF3A6OjoXDN0AaOjo3PN0AWMjo7ONUMXMDo6OtcM4/UewK+Jn5+fDAkJud7D0NG54Tl48GCBlNL/\nSu1uKQETEhLCgQMHrvcwdHRueIQQp66mnT5F0tHRuWboAkZHR+eaoQsYHR2da4YuYHR0dK4ZuoDR\n0dG5ZlxRwAghWgohdgkhjgohjgghnrDvn2D/WxVC9GjUvpcQItH+ShJCjG10rLsQ4rAQIkMI8aYQ\nQtj3uwgh1tj37xNChDTq84AQIt3+eqDR/lB72wx7X+df5pbo6Oj8UlyNBmMFZkspOwB9gMeEEB2A\nFOBeYPcF7VOAHlLKrsA9wBIhRIM5/G1gOhBuf91j3/8wUCylDAP+AbwKIISwAM8DvYFewPNCCLO9\nz6vAP+x9iu3n0NHR+R/iigJGSpkjpTxkf18OpALNpZSpUsrjl2hfJaW02v90BSSAECII8JJS7pVa\nns4VwBh7u9HAB/b364G77drNUGCHlLJISlkM7ADusR8baG+LvW/DuXR0bmkS8l9hY2YP5j78e4Y6\nTWLR4+9ct7H8pDUY+9QlGth3hXa9hRBHgMPA7+wCpzlwtlGzs/Z92LdnAOxtSwHfxvsv6OMLlDQS\nZI3PdeFYHhVCHBBCHMjPz7+6D6qjcwOTVbYBiY29K/JRbSpbl+xwHGsQPgn5r/wqY7lqASOE8AA2\nAH+UUpZdrq2Ucp+UsiPQE3hGCOH63w3z5yOlXCql7CGl7OHvf0XPZh2dG54Qr3EIDPSZ5o9iUBgx\nY7DjWIPwySrb8KuM5aoEjBDCCU24fCSl/ORqTy6lTAUqgE7AOaBFo8Mt7Puwb1var2UEvIHCxvsv\n6FMI+DRa22l8Lh2dWxK1dB7q+Ui6ONcytu0B5r/7Ntvr11D8SBCdNs1nfmKsQ/iEeI37VcZ0NVYk\nAbwLpEop37iK9qEND74QojUQAWRJKXOAMiFEH/s5pwGb7d0+BRosROOBnfZ1mu3AECGE2b64OwTY\nbj+2y94We9+Gc+no3JpUrwFs9u0PrM06iE1K1mYdJNr/Gca2PUC0/zO/ypCuRoPpB9wPDGxkfh4u\nhBgrhDgL9AVihRDb7e37A0lCiERgI/AHKWWB/dgfgHeADCAT+My+/13AVwiRATwJ/AVASlkEvAh8\nb3/Nt+8D+DPwpL2Pr/0cOjq3JGrpPMAGCHCb1OTYxJDuGIRgYkh3x74VWSt5aP90VmStvKbjErdS\n4bUePXpIPZpa52ZEPR+JJmAMKM1Sr9j+of3TUVFRUHi/17KffD0hxEEpZY8rtdM9eXV0bgbcJgGG\ni7SXH2NAwJ0oKAwIuPOaDksXMDo6NwGK9zyUZqko3vMu265hagTwfq9lZJWYHQvA12Rc1+SsOjo6\n141Fj79zkYPd/MRYOm2azxd5X6KisivvK6DpAvC1QBcwOjo3GVuX7LjIwa5BkORVmCiIa0bGa+1Z\nuCz+kgvAvyS6gNHRucloFak5tdf4uzB3VzzwgyWpr2UI5UkWpAqb45KY2zWGlDFzmds15pqMRRcw\nOjo3GadTNZ9Tp7xqVqUkAzQRJKOHdEFRBKOHdLnmY9EFjI7OTcaIGYNBEZTfFsiUTlEXHZ89fRAT\nu7bji7e+YvGCLQDM3RVP+KI3HBrPL4XuB6OjcwsyPPo5VJtEMQi2JbxI+KI3sEmJQQjSZz55xf66\nH4yOjs6PMnx8LxSDYPj4XgBM6RSFT7ok8CuVhct+OS1G12B0dG5hHvrt22QfPEdw9+ZkllehqhJF\nEexeN/uy/XQNRkdH54pkHzyHkNr2Wiz+3lKVHXV0dJoS3L25Q4OZPX0Qs6cP+kXPrwsYHZ1bBLV0\nHov/uJvYlb6MmDGUmYsf4f33fn9Nr6lPkXR0bhWq1xC70oJqo4mX77VEFzA6OrcKbpOImVqEYqBJ\nGs1riT5F0tG5BVi4LJ7NcZ6MHvIs29//ZddZLoeuwejo3OQs2LCT5anJVPho8Ue/JroGo6Nzk7Nu\nbzIIQb0njO51cejAtUTXYHR0bnIm9InCoAgm9+v6i5uhr4Tuyaujo/OTuVpPXn2KpKNzC3DHs4sp\nrqnD7OrM7pcf/9Wuq0+RdHRuAYpr6kAIbfsrogsYHZ1bALOrM0hJrUWl7ZsLL8r7MvqTpUR+8gKj\nP1n6i15XFzA6OrcAu19+nJpQsHoJJDgy3TWQRg6tfYrwbr7vFy3GpgsYHZ1bhIbsdqLR+wbaEUSA\nqQIhcFQc+CXQrUg6OjqAVjNpV95XDAi4k2khUy/b9mqtSLqA0dHR+cnoZupbmAdnvENGfjFh/maW\nL3nkeg9H5xZGFzA3GXN3xbO7Qwnu2YKM9GIWbNjJimMJWD3hvs5dmD/g1/XkvBEZs+Q9MtJK8PZ2\nprLcyoQ+UcwZN/B6D+uGRF/kvcn46HASCEFVsCDM38y6vcnUe3BJy4HOpclIK0EgKC2tw6ZKVu9J\nBDTNsP+9r/Hgw0+jls67voO8QdAFzE2GsRyQ4FQBy5c8woQ+UThVXNpycLOTkP8KGzN7MO+v8xge\n/ZyjBhBo2d3efGggQ50mOGo4z0+MZdjOJ1CEClIiVAmqxP1MDQAZ+cUgBBnF/jz39elL+pPoNEUX\nMDcZ0yKi8TprYFpENABzxg3k+JzZZM6afcNMj9TSeajnI/9rLSGrbAMbUrqxwt+DjHt92Om+k/UZ\n0azOfBBb5aqLsrutzTqIv6kCqSogBAiBsaqaoJwqwhe9gZe7E0hJW3Meq0900LXCq0AXMDcZ3scq\nCY4vxPtY5fUeyo+y6PF3GOo0yaE5XET1GsBm32osXBbPHRMWcv8f3+eOCQt/tHbPe2vuYP3xaJZ+\n3BdVtfFk1295vts3WL0g41wLFAFGmcTHGZEMm1qIUKQju9vEkO7kV3pgcqkGKQlyL+buickcmWTB\nJiXpvVW++eT/aDd8GMZygQDami3XpCLizYJupr7JGDBoAfVezjiV1bErfs5l2y5cFs+mzxMxltYy\nbkAUj88Zedn2Mw+8RKntJLlFXmSkt8Db6EpJfQ2RJj9iH3ngimNbsGEn6/Ym4/+Pb0GVoMD2wo4o\n3vOatEvcdBcde2Rz5EAwXcd8CcAdExaiqj98V3+sds/649EoRlCtsOlYT8Z12k+MWzWd33+UvsFF\njLh9G1bRhTUru5HkVUeXwGzu67ULq+jC5LbLHefJON2REKd6suqdWJH5L1alJDOlU9RFWuCQT5+i\nWWAx53PNxI16/Yr34GZBr4t0i2L1dgEhtO0V2ByXhATqvZzZtn6/Y/+b0x9lqNN43pz+aJP2pbaT\nCAGBljIkUFJfAwJSKwuuamyr9yRiUyUVg32QClQOMTfRUhr48wQ/ev5pNPeeHOHQDNpYvEFKvFyd\nL1u7pyzRE9UK+Qfc2Hs6nL3J7fnNsoc5Pmc2yx9awPiwBCa3Xc7G52dx4k9PcV+vXQ6tZsGGnY7z\nhDpbUYS2nT9gEOkzn7zkFDMosAQhICiw+Bd1sb9ZuKKAEUK0FELsEkIcFUIcEUI8Yd8/wf63KoTo\n0aj9YCHEQSHEYft2YKNj3e37M4QQbwohhH2/ixBijX3/PiFESKM+Dwgh0u2vBxrtD7W3zbD3df5l\nbsmNzZh7uqIogjH3dL1i29FDuiAAp7I6RwlRgNjlRag2QezyoibtvQ2hSAm5RV4IwMfJFSREmvyu\namzuZ2pAldQNDeDcmo64VtgY1rLTRVOlmActlPULBIPQrGJA3v5TeGSUwtF8dq+b/aOJk347aTfJ\n2a/xRtF4lFKFbd/04Xjpj3tjWEUXVAlfFUZwvMVHPLbnbwAItymAgWffG0+/ca/T/7f/pPOTbxD1\n/qtEfPICI2KXAHB34F3aiX5hF/ubhavRYKzAbCllB6AP8JgQogOQAtwL7L6gfQEwUkrZGXgA+LDR\nsbeB6UC4/XWPff/DQLGUMgz4B/AqgBDCAjwP9AZ6Ac8LIcz2Pq8C/7D3Kbaf45Zn9vRBl30AG9Yy\nFi6L5/6Rb7Jr8VLWrNzXZHoU86AFxSCJedDSpO+iHn9lRe93+ew2b9InvsP7Ed8TsbyEYbmWCy9z\nSVxaOlHZWqWqpREUgfJt2SVLaMxathRjpQAJhnJt34W1lC/LvxfS5slvmZAcD1LS3uz7o00nt13O\n8aSFlOKOEFBuSGfhsnh+P9GNYYPvZc8BHwQgS60gBBG7S/Bb6Y77+izmJ8YyLWQqdwcMAFVQscu1\niaVK5yoEjJQyR0p5yP6+HEgFmkspU6WUxy/RPkFKmW3/8wjgZtdQggAvKeVeqS38rADG2NuNBj6w\nv18P3G3XboYCO6SURVLKYmAHcI/92EB7W+x9G86lcxm+tn1OyOyjfG37HIs8hiLAIo81aTNr2VK2\n169n1rJLh+4/NKOAO37/WxYu9UC1ySbTq8uREypAEThlCFAl1b0sKAblkiU0nF2suJ8WOLtYAXh8\nzki2JbzIV57HiFw/j36L/kb7BQtp++ZC/i/2Saw57Ug82Ydp+x5m32YTqk1wYKMJeUcFUSMvr2HN\nGTcQT2s4UoWiVDPLU5PJyi5DCIGxoBKkxFhSBVKSXWoBIcgutbA26yAAWSVm9p9rQVaxmdg1+67q\nXtwq/KQ1GPvUJRq42rs4DjgkpawFmgNnGx07a9+HfXsGQEppBUoB38b7L+jjC5TY2154Lp3L4B1d\nglC0bZGIQJVQJCJ+0jkya1uDIjjUKoT0R3wwP59LQv4rV+w3uc1RDEJl/G2HmB/1KdPeMrC9fg0z\nF18czuB/UOBz0obPd9Bv3Ovccf8/GBb1V1KCK2ltKaZtr3Radc5BAptOBKEI6ORahBDQc1QZikHS\nc3IZ3YJO8V1R3BXH9u9+f6HL4SmcOhysmajdK5FS4lJcj0dGKa55tRx+40lCzaWawMktI/Jj7Xd0\ny5pkLKtMqLiiFpX8pHt5s3PVAkYI4QFsAP4opSy7ivYd0aYxM37+8P57hBCPCiEOCCEO5OfnX8+h\n/E9wd+BdKCh4/NvC/S3deHvB0wQ0+/QnnSPMwwVUSVUwSAT7zoSTVbbhkm0bO7T5bzIyw5ZKh8Az\nGBSJr9t3vPCbEU20j5kHXmLhsnjqazU/FKSCAGxVNiTgcUBlUMBRRvkeYmibJAQwpk0OqoSUGgtS\nQsB8T353LAufP2unCPC4OpP97OmDmNyvKwZFEPhmOc3ePY/ZNxcpJWa/PFZkrcQ4I5eSbrWcnuhD\n+f0uTNv3MAE98hBS4JruxIgxV177upW4KgEjhHBCEy4fSSk/uYr2LYCNwDQpZaZ99zmgRaNmLez7\nGo61tPc1At5AYeP9F/QpBHzsbS88VxOklEullD2klD38/f2vNPSbnmkhU3m/1zIyVp1Ctak/q4To\n8g9nMXZ4NKbzAoGkT6sMyhMjL+3b0qhcaezyUkKDi2jjXIdqhSOrvfh2nSuKgPjNkZx4LYLMz6vY\nHJeE67fpuO89ibGkFqTE4G5AAJZPqglxLUAREOJaQOas2bwW8wbGoDS6hu5lRe93Ge51jJHuZYzx\nPouCwt0Bd13V55q7K573ziVQ1tLG3vgOuKW4s3LVbqKeyiW1ewSf7vieGMsBqjzdQEBAgJY/xbdF\nGYoiaNPSj3W5pT/qo3MrcjVWJAG8C6RKKd+4ivY+QCzwFynlnob9UsocoEwI0cd+zmnAZvvhT9EW\nhAHGAzvt6zTbgSFCCLN9cXcIsN1+bJe9Lfa+DefSuQpGzBj8o+sfV8Ps6YM4/LfZZM56itJ32rL0\noyhq+0aydVNi04YXlCsd3f8YXV3raFMomfNoDgu/TUOVsOnrDiAFZQlmzbqVV4yw+OBaUIMpvYTd\nH/6Jz5JfYnvaaw7Lj1Vc2lQd6mQ3MTvZeL/Xsia5TRq8hPOy+2DNacfRowO5fdzrdHthPmuL96D4\naGEBVg/YezQERcCOw5GoUiHteCsUAcHOxSChuNSMlFBXGUBZiIGjVcWoqvzVi5v9L3M10dT9gPuB\nw0KIhm/Ps4ALsAjwB2KFEIlSyqHA40AYMFcIMdfefoiUMg/4A7AccAM+s79AE2AfCiEygCJgMoCU\nskgI8SLwvb3dfCllg+30z8BqIcRLQIL9HDpXyczFj1xy7eNSLF6whW3r9zN8fC9kTi6tWrxHzAMF\nnKw3crC+F8VOHTXfGz8TbiXWpn2fyiZ2pYWYB808tuAsVGvOclGhVSgCIlrUYAxKw6n0BwfB2dMH\ncfzdXWSdKQGLDyHBXk3O2dgh7lIItyks+PQM65M64OU8F/ctNoSpgoB/VWDNgcIJHYk9nYwioJ35\nLBKo7iQRAgweVmwlWizXmC4ZSAmDO6cSdziS7pGZSClYNN5EtP8PTn5d/++f2FSJ6ikwFWs+Oiuy\nVpJfsYIQtwLaeE0g2v+Zq7rXNxu6J6/OFekz8RUqm7tgOleL98ZEtp5MwGDUnHE3VZr44E9TKHbS\nLC7mUS1IcSlzeL0OdRqPahMoBul4qMFAAeFY5DGKRAQBzT5tIsSu5FEMWrjB1iU7GDFjMMWPBLH6\n5AFsFU5MatGL+QMG0W7BQqweYKyANmuKkVLS7N3zSAk5fctYsCOdbh2qSCtuwYznhlMZVUVNZ8nk\nNj2Y2zWmybWm7XtYWw6ScCinNSlj5jY5vmDDTj5/71tMZ2sIvKOUgwN96d78LCMtB1EECAyMbXtz\nfe/0hFM6vxhVLV0d2/tmDGbbyjMODcYqurBly9OOtuGL3sAmJatSkpk/YBCt72zFqVw3gvxzybIa\nCTFaUdwnEWAPDwiw93t8zsiLBMvr/36ZT780MuouK0899iwz//I66Z8X493ChZJTtcgAP7Yu2cG5\nQR2RgDDVO65r9ZSAwOopkVIiTBVICdZcHxRDBfs2Pk6vux+hQxB8fen1aQfehlBKbSfJ+8CX5nvq\nGPj6C7SKNNLdJdAh5DzO1WhOiF97YRsoyKswccrdnxC3At46MoZnkl4gzKUZW2Ouq83jV0cXMDpX\nZNJtXVi3N5kJfaKYOW4goE2tGrwlQVsg/ehwEtSBcP4hNcTZQhNCSHKLmnG4zp1y13FEe196upB3\nfhQWeYwn9t9OeSBkFIVQ3tKVD48ZeApI/7wYVEHp6VqEEGDxYcTYaIpDNA1GrXRyXPeecJW4DEEb\ntzwq2gVSHWzm895PaReq/2mf31zeh9hkN8L3FCMkOJXXk777DOfSE+n/fB6HWnxPhHslx+JaETnk\nNGcJo69lCLM7/QuAOUkvIARk1J5nwYadt1TyKl3A6FyROeMGXvGhWJWSjARwAq8zBubP0jyJh4/v\nxbb1+yl+wotnkkYS5mJha4y2rhO7Zh9qUQkjxnRl5uJHHI5/5YEgFCgvNYEQqPYgkPB7zA4Npvxc\nPcPH93ZoPRdOa5oFdcS55gBnpAcuPWvxOOBMQv4rV7UWsiJrJV/kfcnp2ObUp3iSfTugCEoinPE5\nVkdJhDOeG0oB6Di5jA3L2jGs/34env45B4+2Y4r1DuZ0/eF+hbk0Y3Lwp0wMzGBDUhKaj+itgS5g\ndH4RpnSK4qPDSRgrtGLrDTw+ZyS1AW58sjUBU7gzGT3PA7Bt/X5NIJm92bpkBzMXP0KRiMAij+Fx\nHiqagbeljNJCb8ICNU/cRX97Cv52deNZm3VQO7+A2nArU10z8KzZDzzD/MRY1mYdxPWsmSJbHeEu\nFcSO/oiZp+6iUtgor3XBy1VSf8QDAPdsqGoOxZ1NlEZ4UG+RuB3zwOlwOcc3edA9Mo2NKb1Yd6oX\nxnJwL01uIpC3xszAmvMPFCGZ0PXof3+zbyB0AaPzizB/wKAfTWi1OS7J7ohmJKi/Frc0fHwvYtfs\nQxaXOkzlDQ5/xg/Gk7sVuo0o5c2N6y95zivRxsOP9PI8ADpmnWPHX8pxSgpgXelrGN2r6TbzFN+c\nMoGA9FoPFAGVwoYQ4OlSCwicOlZQn+KJ/6Faanfk4J6cS3VUIHsSFrNxRA8kNlQrfBlZxJwvv2ZK\nWCqrMiM5mzfLMY6GxehXN3Yhqkcyivukn/V5blR0AXMD0tiCcrWm5uvJ6CFd2ByXxOghXZkdowmh\nSy3qNnB8K6g2wfGtkgeWP4vSIf+qavU05kRFASBAhYKV3jjZSohd4QtjBNYqN4QAD6WGCtWVUKcy\nVAkmaaASG96GUBb1+KsWXmtnsHEiSHA/rAmtgroemJ32cyipGQBT2qZiVCRT2qbyklVl4bJ4Nscl\noWScx8mm8uexCkPeWsTmuCQCoj4go6z4lkgmrpupb0CGOk1CtakoBoXt9RfnU7nReXP6o8QuLyJi\noErL18sJcSvgVI0/sztdPqaoQfDGPOhN/CAv0o2eiPNOqHku1FkkrgVVWI64UdbORkWwEb/6cowr\nC3FPzmX074deUlg3JMnqklJCdvxRKgeb8X+kO2nkaImOkbR+oZ4HnjvE+D4n2PqhhVe2daf6tlCe\nj/6a0f1TSTjmxplWCnvTwunVLp0DR8LZ9nUfDIog8bU/XpubeI3RzdQ3KfMTYykb7IMprojAe8Ov\n3OEGZNaypRxS3uFgfjE+6tdsLYqmtYuW1GrurnhHdjmXIoV1e5Np3t5MWnUhHnnn8bOpxC4vIte7\nPUZV4LnrBOenhYAQ1Pq7U3hfJdZKI5Q4UWD0ok3yUYSET5fEsWRQNgNaKFSop/A95s/hhzPJmdkH\nKWDfeCeY3hGRa6RqVxkxY1Lo0zqTFfF3cfLuFsw5fTfvTvJAqOAlcikcH8ro/qkYDJLoyCqe6T2Q\n38fvQ1GgZ8d0tn3VG5fT1cwY+ipLtv/5+t7wa4ie0e4GY23WQUqmB3NuXScOTbl5c2y5ZBViSi8h\n9YlmjLQkcDSzOeGL3mDl4SSHn826vcnYVElqZQE2KamObMb5J/pS93A3PLNU3LOtuCfn4vVtLtgk\nfVqlgQJGj3pA0jGoiNBoAUB9uDc2KSm1naTkIw9S3hDIAD/cks8z4o59YLZqznaBVkzZ0LtVJoqQ\nZGU0BwTuaeWU9Q1ECqiJCGRouI1P90Riswm2bW2LyC7kyGovVCvsSwsDATY3I1nZV4wbvqHRNZgb\njIkh3Vl18gDC/v5GZkXWSr7I3UVupYm/heynk1uRw7O3IR9LaaE/74wfRo23gTYlRdQ61WJMzKLZ\niA5YZrpRYkqnpiiIhEwLzpUCqUCBuyveUsWpDoTZB/+NJ7nTJQm3nh4cymtOgKmcOlFHhsGZSmcP\njIYy/ENLaRWs4iw8qf7KHVSBsPgwNSKUFp2+YE9yS/KkByLXSHUwFFX2wWLaS/OWeZw5HciUQXey\nxj2J6l5tAYnzx5+xZJUPZ6YGE9oX1GBfvp4P+7d34HSfcE2j8jNiqK1kaOc5BAbWsCJ+4fX+l/zi\n6ALmBmJF1kpO1n3FM9E/bcHzerHo8XfYuikBYfEhfLiZRX97ivEvfsDx4kLam33xHPqNFpVsqqST\nW1GT5FeeJmfKK+s0rUFVcClWAYFLrTOqCvmxx3B6VkvdafLLJX34S0x69l2O1pTiUmAFKegSeo5/\nLtrN5i/D+XdZL+72SCWp7cd8XxnEIxV3aVn19pcjVUHJdon782CjkhET7raHLWh+Ngn5+fwpagMh\nXuOa+NHM3RVPhpJM32pX9ry0i1f/lsbdnRPZfSaYv/f3Rarw2Ue+bF1wmLff7sagzzJJqfKkcGM1\nlbVutDf7Uu5SiBCC3FzX6/I/utboU6QbiF15X6Gi3jC5X7cu2QFmH0BoXrjA8eJCEILjxYUMCLgT\nJORVmkiptjRJflVVa9W8dREoBkHrsEAUg9ACHw2C8sE+VCR7a1nossy0//BlknucxdamBmONFnD5\nzyc/w2CQjBqQTkGmhcw6b4xC0tcjl4AcV1Al9X18EAZJwAgjCgoDAu50ZM9rsHJF+z/D2LYHLnLS\ncylSMJ1WyNuTjWqTpKS6M+iJh9m+M5Ktpw7z29VlDLuvkM3fRFLn6UyISyEhLvlEjM0kclARh7wK\nyB3ljpSSVgHnmZ8Y+6v9b34tdAFzAzEg4E7HQ3AjMGLGYCguASTh92iplNubfR15cqeFTEW815eK\nxS3556uPYAxKc/jCNOTgbR3kiTWviKyMXAx/raB6fhquOwIIe95KzrZATrwWyeGcAISpHgTI4Hqq\nWroxdli0tgYiBV9WNCP8zpO0zq/EZhPgNon6bSdpPukIdZ6CM6s6kRYYcFFqhyvRsAZU2cIVKWDz\n1x1QVYV9h0IwKpJx/bNYXzqcf6zpR12AieS9YXQyncOvrpTEQ2aciwRlAa5sjVvPhLczrirz3o2G\nPkW6gYj/exm5ewKJ71fGtLeu92iuzMzFj5D2oFZLCYMbAOufa1o/yVGONb+4yf7H54ykKEZhVcb3\neBzwxXebirlFGUKA2a0aIcDVo5KaChNBRS4UWOoQpnqU805Muq0Ls8cNBAbxwH4tF7xHQBXxr/Zg\nT2VXdmx/BtOOiaCCaUcxJY82p2KImTsmLGT0kC4/mjD9iaf/SFqcO+2GVPGvv/8TD1dBtq8Vb3dP\nej/Vh9jt+3HNcCIiKgerKvg8JQQml5BX647Rw0pKZSc+2tZb8zD2BPfT0LalH4+cuR2QV51570ZC\nFzA3ELl7shFS294oNNRSKrWdvOTxMH8zGfnFhPlrGo5aOo/Ff9xN7EpfTq/pCAZBRU8FyzYbBec8\n8GtegbRZMBhLmDY/7KetRQlBtUn7yo+aMYQtb8dR29UHBcmEZulE3FfJWx9pTTfHJdHG1Ymc1Xvw\n+cPtHHe20izOBFKQFucOf4ds33pQBDn+9US3+gtf+w/kfE93ivNVjIrCRp9WVGwxE5AjqQlXONar\nlt6ex9ny5dvzAAAgAElEQVR7qh3GckGEl5W1I/7GcWs0f8824fFJe4bPeO6qU1bcCOgC5n+Y1ZkP\nYpRJjqqDgf2Cyd2TTWC/4Os9tKti7q54vk2JZHKbIwxqr+VDnp8Yy3dFcQR4VHJ3wF3cN3wHA3om\ncNJqJCE/ny62NcSu7IhqA9c0IzXhNlzSnUh/yAPXLw1se/NfP2kMdwcMYFfeV/iU1zPqlY/JSuoI\naNrVJ8dyUb2cGaKkcsrJhbRaM8UtBRs/1/KqZVTU4mZTOarUaWVJmrvgmV1Dy4GlhC96A1/pTKFa\nR5+QNCQ2HhsVj3G9CzH3F4LbbxgQEEZ6Tg7YwyTKO6iMv+17xnY8wOGzf2de5EzARntjAu/3SmX4\njOccVRp0AaNzzTHKJEfVQYAVb/3hOo8IEvJfIavsYotKAw2BhN1W1ZG94TiW2wJZM6EDc6O1XL1r\nsw7SLagC0Batl/ZIRFG0NJdbyjbQxW8SMVM1DaZnSQWpqy0YsssJLKtCFpfAmz9tvHtmnCM7O4BT\noo7dfX5D6xb5dNo0n4kh3R3VLwsDtTrTxtbVsF9Q6wkuFRJRVI5QBB1UZ46KOuo9jPzuDwkMG3GC\nVZnnmJ9wO6+338V3Pi6oUrCvKITkuQqn0lyZ8sohpoXMI39oPJ98nkhlkKAlpUgEp2v9CAs9D26T\neOP903y6J5LRQ+IdkedXVfvpBkEPFfgf5nevP8ORfWY69i7mP09duSzIr8HGTC3IDwQChdj8/tSJ\nckf8zrCdT+BvqiCnXxmoIBXovcmTSJdipg7eeJEGE5S0ha8M7qw+2YEhYZK3hj190TWHRf1VSygF\nfJb8kmN/Qv4reNasJNTJyltvT+SzT6FlqD9nTuY7phlDO89BCIGUkuzBvnidtlF0XxVSQvBBH2qP\n1xEw4RyeIeUUnPDmzMEW+LUtomV0Didei0RRBEMnRzsy1m3Ztg6DQWJVBRHrH+X4uKWMOTCCTJsX\nvsKVr/q8i6KVfcIYlAY09T4+5bYaFAmq4IM+7zhqbv9Yre3/VfRQgevIgzPecawrLF/y84MRv0/z\np66ltr1ejP37Co7U5WP1hDd7fE/5WQPuXW0IgwRho06UN1ljaViodB/rRM0mG+Wd/Pl0V1s+lZLc\nrHjmTo8BGuVuCZnK7xYtRErYnnHx9dXSeWz5fD17vvLm5Wkt+ev9U3jpw1WMiF3Cg+3XMcZUrwme\nzTZUVeFUhhaMuHWtVq0yJNiLrOwy6kUdTmUSm3MF2AS2Kieyu5cgekARPpBtBmdJR98TuHetpjDN\nB4kWqPnh3mRsESZKIkzEpXdjaPuDKEIyv/uXfLIvgk29t7Lli3CWPOzGwqkdmf3yEYpEBIsbCZb0\nmU8CMOHVzbjdUUX1bjfo0zgQ9NIJzG90dAFzDfgxy8hPpd7T7sbu+UuM6mI0T9ovyUs3k/tlMzr3\nL4SIXCo31nJHkTuzli0lI7cQaytAwJDQBEbe1RnVJrh9Xj6d76vAWXpSh6bBANwdcBe78r5i3GvD\nmbZuKgs27GT1nkScyrVs+5ey0ER0yGJA4DG8DNWsz1jpWHPSghdTiJkaxO9fPIdqa8X3q+vhQy07\n3L7CELo4HyPUycrtw07x9WetqXUzYqxSqWzuwqLH3yFr5yH6f1tBpDmb1OJgvurrjnomkIIJIRhU\nCZ42nG0qdU4KprgiSpflUhYUgPBzo20/d2osCqr6g5Y/J7Y3g9sdwqhIJoam0eOTGSx/oROqCjKg\nhJ0rCzj72DRKbSfJrYvFJls40ngC3GkdwtYZ+xACFlu3MHvOyB+1Wt0M6ALmGnChZeRqUUvnQfUa\ncJuE4j2Pdj4WKkMP4x9WzIqslWSVmJskt3YpUljzbRJO5ZLf9IzCJa/akSUupGNLvh5Zjxpsw6sC\nvh38EUUighfP9qLUdtKRZ1YI8A8r4lSpmf3ezgSUmmk9pojYO4qYtQzCAn05Uq5pMHEno4mZmkfs\nSl/MeVMZ2/YRxrZt+hmmhUxtYtmZM24g+86fJsVaSAujViO6sTfv+ucewNejihBXLZix8ZrT1iU7\nUG2C2JW+dI+pQDFIukys5qH90/EVYWw514XD5yMICjrP0lnf8OcnvueluNsJ8y1iQtejbPvQF9XW\nnEhzNoqASHM27y+cSnO1nHbvFcNt9dTGVWE4mUvlkAgMbi2p6+KMm80FJOTvySbBrQZtciYxKAoT\n+kSxKjOSKW213C+TbuvKN1/sRAgcKTy/t32HEBDoU0aGKrF8X0//Xa8xdlg0s+eMZNv6/TfdYu6P\noQuYa8DVTItmHtD8Q2pXtSAvxRmrtwttnAo4v6EjMVN3M+t9aNd+G926pZFV48euvK/4Prtlk+TW\nptMKEqjz0MyqHhkljixxWdllqMHOCAFlHjjc8Ett/o4pTU6umaDAYnLyzMhm9YAgr8oD/53nHYXv\nNz49zbFwe8h0P3Pfj2HW+z/tfhwx5ILNoG1p6s0LWvXFrBo/vAzVWJwqHfWORswY7Ei/sCO8lqA9\nXgS4l9LL9QCd3E8xu1Mc1px2fFTcli8rmjHAI5fRLWx0aH8Ug0ESM62Qt55ryf6sMHq2zuTQ6VAy\nJi3BZhOMfH8CfOuE86l8VAkGVy8QAltoIPX51RhL66j3bhpM+thvj2F2WsHb+wfyQsLtIKHFNwm0\n6R1C3v5TDB/fm9IIE3l5RwgIKMPbEErYu8VUhvuAEA4N7mZczP0xdE/e64TDP+RLK/Vezki0ms8N\nv9gA3aLTHRUMBwTcycSQ7tpvqT259YQ+UQjAuUKbyw8f30tLUVJcSkiwF0q2ASnBqwKHG763IRQp\ntUz5Th8HkPtoEIZPDAR4lAMSY40Lhzt14D/DmzM/MZatX0/hLwFP8ozPQUex95+KrDMAwr5t6s0L\nmin5cEUr4jZHk5XbAqNMYnXmg8xc/Ajb69fw+Itf8wffdN5p+Q2hDVUd3TSNp0hEcJ85ky6ePhiD\njtNl4HIMHlMAA4ppCtvr17D+SB/+/Nl9rEm5DTCw53AkKJp38YgZg0ER2GrKkEiMJbVYK8qobOeN\n65Baunc8S61FpbK1ypfHVRQh+X2vnSDBWA4VPpBZWOIILVi3N5lzX7YiYU1H2m/vQkiwF8aSWiRg\nUyWDH118UShCA3N3xRO+6A3m7rp5KkPqGszPoGEqU0A4eyqzf9Rkezl6eJQQ7HKCuLv7kp7kDiez\nMWZpC5T3rXZlY2YPjpcG83VZGwJMlZzPTcQprzPGVC/cyiWnq4+SsyuN5hYfho8V/GHkY5ysN+I3\nuSefFRo5VZGN7Vwgk8x9OHrkHNGv/Y72Zl/uzK1n66bz5FtqQNQgJIhEIyOfOkSIawHfZbUjtqwD\nEs2k/Jde2nrDhHbHyMx79GfdrzD/MjLyvQjz11IT3KVYKEw+S653PguXxXO8rJTMPREYS+sIGf9N\nk2kSAG6ToHw1AEGGenJVV0K9xgE/pNkMaHQ9xXse2MuiAJgqDVSabJgqDUxc9heOFxfi1lnlUDqk\nBlbh3Lk9fr5u1CWXIAtLqHOFNk8d41SpmRNVXtgqNBvWvjPh3Nvpe4rre+F11oBNldR7SmTRD2s0\nE/pEsXpPIsYKK0tIZ/KjPVkybiD9xr2OAKoKa370Pn2ckogqBR+nJP5o+tEbDV2D+TlUrwFsWOQx\nJDZOlq0lIf/KZuTHpj3NYOMERk/4DUuPdOavyWP4KrI5ZW3ckM18UTq0QwkO5LZehxjpXsbEgBME\nmCoRApoFFpNaWeCYEmVU1ILZG4lmQRFIQoz19gdTEmCqcEylGk9JtABErZ+UEkVRGTY801HvuW9I\nOrLSyZEOIi6zG1ZVEJfZ7aLM/Zdi/Isf0PnJNxj/4gfMGPoqQzvPYdtdq8mYuJRtd2lCYtv6/Q6t\nbXNcEke/q9IqQ3o7k5Xb4qKysIr3PCwGFUVAL9e6SwYeNubN6Y8y1Gk8b07XBKJzlorplMA5y8qf\nRi4BIfDIqsIjvYTO1als3rqW5qH5VLTzoaK7GWNWHrULXMir8gCEFueEpHfLdI6WB3GuuJzx3Woc\n2mOYnw/Do59j8YItzBk3kBm+4Vg9jCAE6/YmA+Du64oE3Mz1WHPakXd+1EXj7tMqHUWo9GmVfsX7\nfKOgC5ifg9skwECRtCCQWBQrWWVXqN4FpH18ElSo2liP1SgQAoTFSp0HWAM9EUKgWHwa1Va2klvp\noVUjzPUh0uT3w5fawwWKSxHAsNEGJIIsq5P9wRTkVXo4plKNpyRaAKLWL2aswtbPN/L4nyM4VX8X\nnxZGc6r+To7f/yzjffrx4dfH2W99mBKlPfeEHSTv/CgWL9jCPV3/St/JLzJ3V/xFD3NjYdaQ0+VQ\npg+qhH0VPyT8diqrQ6BN7Tr0dQch8epWzCmX3owPS7ioPGyRiECVsLfIzzGFiHnnA9r8ayF/OzCG\n9RnRrM58EIDY5UXaVHO5VmW4zlPgWqTiWggfx3dkeP+9OJVq1z+eYMZgkBw9FoSQAsXgjZBQuC2f\nFk71IMHJuR6P04KaFE8+XzCALZ92otYrjeSFf+Lg0ifJ238K1SZ57+xhwhe9Qd5tbkzu1xUAm01l\n/IsfsGPp4+zZ8BSfv/h+k7QUjZl9WwivDV/D7NtCftLX8X8ZfYp0GRYui2fT54kYS2sZNyAKNWsL\nscuLiHnQwuOvT8JS8THKOgtJx9244+9Drni+dr8JJe3jk7iPdcJolViNAllk1ASGv5m8k2UE9GrN\ngJmPMKpfKoPCKlFHZZMtIHh8ECvWPODwpK2lE5/NNJJXUU6xZQgvpN6plQ0ph2kR0XwwbiA7Nk/i\nyAc7KFvpi1/rQApDqxEDovjsiB+L/7ibrS/7QuFsLRftmcGMsBRwqkYrEbLm7H4MzetZc3Y/vivK\n2bYyiuFTC9meuB9U8EqtZVVKMm0aPcyzlmnrKw0WIt/gerKyy/jr5J6UR1kZ9vIo+nGphN+DHOVZ\nS23angvrJvV/vi/9P++NYrKiVu5jPoNIrSwAAWE+p5pMq2IetDj+T6BZyWqzvBFA8r5wnhizmpRO\n3bEeKaNz7zJsNkHHsPMkpwXjRT31AqqiAimrN2oGJJNkUt9otq1SteoIGUZWBXfgK3twZMOibWl7\nZ6SUfJScROYTs1m9J7HJYjbgKM2SUmPhjX0P/5BgHC0txM1Ww1r35G1Eg7UkLLcFWRllGEpV3ApV\nkBKvk2XYUlIddZZ/dyyDEKOVzs51bKo0kV3bhvJjj7HiWAJWT7ivcxfmDxh0kZDK2/8u+7YZ6f+b\nItyeMnA+oSfHfFuTUXse7xpPqg6AU7nEowTcvjupTWeKShC5eXx2NoUT9QrJdc6oErYUdXPUS649\n44FNSpDgddZA4mt/pP5ce0aEaH4rUkDN6F54nSxj62frGdayo/2zaInDN2REO+ovjwtLoMPGFxze\nsy0nHnZ87pHzHmDrun2URrgweEZf/D5e63iYZy1b+rP/N723zKHM6gS1CtJZYjwjaPFuHVJKOJbB\n745l8mzyCG1EUpJ67zxi3vmA1MoCHu33NWE+pxz+Mxcy5/BcEjZbKUs0E9U7HdMdBXy2tj8CQbcW\n2SSda0bnkByOr63B69tcTM3NVJ4txuXl5pxq581Q/0yCffI4vn00R7+rpioIqiwCp3KBcwUcXKo5\n0UVPfJrSvgF4f5dHwtq/X2SOb0zjetcrer/7s+/b9UL35P0ZrM06iE1KMtJKEAhUT4FbIRhL6wju\nEERUj1xilxfR/74i+5TEiIfQ1gaCXU7w0t5k6lto52pwrtocl4QE6r2c2bZ+P7YUI6pN8M3HFqY/\nl0ly+Hkycly0X2/XcpyEF/WeMLpXFPHHizWzs8WHYYOPAjZCnVQO17lhFZ0AQX6lyRFXc2Hhsy8P\ndGXYfXlsW+mLtXUgTmV1mmnUzeCI92moSRTkZCLXWkEzJ63Y2OTQHqzNOsjEkO74PHjuB83tQu1j\nwCBmLfvv731pvWZSl84SIcDaUmoWM3vdpBCvrjzc9gtC3AvJqtZucuwjDQ/t5V3sv/tGclb4Yr1D\nUpXXHvdXw7n33m+J6nOCfedCKVOasb80iJbf7uX3b5cyangyn25rzdI/KLx47But/pGElNsT+Wa2\n9mGjZv8DlyIbzuWSHn95hVGTo/htQDve+y6Nsn6BzN0Vf5FQaUyDH9KTAUew5rRzpAq92dA1mEZc\nqMFM6BPF9tUJTWJFfojFgVCviXyRu5MQ1wKyavyoPf7Mf63B1CYojno5ixdsIXbtPqSEV/95ls4d\n9jmc8H5pGupCX6sv+oqslezK+4rjBztxvs6KV74kcHMx5T3NlPsoGIWkul8FotqIdLNeslD8+oxo\nR5zP+LCES5x/F3d5ZHP2QzPx33fE6u3CmHu68sHxw1RHVWHwsGKrMBK42YU/vvIxikGiSsHT2+5D\nIBkUa2Pxe+9hMEhsNsF/Xvk/+j+fz4mydWRV++HvMc3hRLhgw062fXxIE4JCUjq1mpQxcwlf9AY2\nKTEI4QgPuBzWnHa89Wxzu7C/54aocwVXr8HoAuYKNBTQakhEdGE0ccOD81MKg/V7/k1yLHUEFTmz\n54VZV+7wK2DNaXdRkN7PoXEcVpvfB/FtYRwBpgp8ncrp553O07FTGxxjafduMecGWWiYKxx+4/IP\nZMKRfux+3ZmVzp3xnSgI9NQCJjubzpBZupasGj+OVLUk99FmlLUxgxCOYMUPxdeOKYnfSncGjd9P\np16Z7MsNZZRPNn0thRzKNHP2RAAj705j7jt3syclhFF3WXnqsWcv/Vnvf5P0qlpqwq0YlBqmmXqQ\nd5sbq1KSGRxmZXC7tRe5MCxcFs+muES8uhQzaWok97iu5f6WzvYpKGyvX/ez7/2viS5gLsH/SjR1\nm3+97nioTjzx1PUeDtBUg/nP+RmO6dHcrjFMHfM857cepdmIDqzc9IJj7SOgTMF7/rfETC0k9E++\n/F9GJ/xWujs+W8m0aroFndKsZUhG+SbwRlwM2XXmizSY9mZfRk46yJclFdzl48ED7d50FGBrWN+p\ny27PyNadOb2qEz1bnkEIUFAY5ZvgmMZU1jW7SIOZPX0QfZe9QrFvHSLHxpR+vZnbNcahbaRNWOIQ\nrqOGT2LY8AzWpUWjqgqKorJ7XdMI7wt/VHo9+zzl3QWeByX7X34B+CHq/IuNPTm8r73jB6ohehop\n8S44TezuRbz50EBiV1qImVrErPd3Xo9//09GX4P5HyaoyJkcSx1u2Spzd8Vf1qmqcZnY/HEhrEpJ\nJlKxUPJlIaOHdCFt/UGysssICfbixQ/2NJnm/OfYWJK3+HF4Xzuc2juT3b0E7xpPqg8KnMolwTlW\n6rI0r1+rtTln8zrTIqCI7DlxdAuq4LuiQiCGcX3iGLG4kK0rzwIvOKw3eV4qnjaIXWlhy8vJPJ3Z\nCelSh6h11jSYkA58W1hAgKkS36JKhK+BReNNRPvP1n7J2yVS4WWjsrXgcEUBfWpTibEUkFWtWbJi\nL7BQrU/swLCphazcUUTeRA8CPSsZEHAnIaY2nChdz95TYbgr05n/yiCwV2SssWieGF4vnMPL7I0s\nLmHL/cnsWJBKi4oynM/a+NyjBfcMO8u+XD/NIrRO0qZ7PifK/BnSL4eNmT2aaCKNk69PC5lKRQ8F\nBFT0EA4nzH4mzQnz8L5wVFWyOS6B2dMHMXpIFzZ+loCxtA5rsRcAj//zDh5/ZY3d/eHmQhcw/wUX\nTp9mDH3V8bAv2f7ni9Y1GuKPqvwjwKZQazGw8nASp1dnOaYV3dT9TX61t25KgIgwtm46xKmB58Db\nSEpxIaaWgo+/T8bP7muSlV2GRR5r4mPhZ8xiX3o/6lopOOVZf1hIxos6Dyh2EnjY+4IFIQRn8yw0\n89BihhpSL4yYWojBqG0BIk1+Dg1GMUDM1CK250chJZin+jVZO7Hm/AlFwKIlzXlrZRsqB2dxz8ux\nxMcdQwIVoQYQUO+huf83hEbAxebmk9UzWW1OxP1MDa3/bmhSETHl+H5ejkxkzYl/A4P4OHcvat96\nPiz+juWLEmlj8UYgwOKDa7oTUkK9mycuopRF/+jLMym+uCXnYs7bi0CQd8iV3QlPOzSRrLINDgEz\nIOBOvsjdhU3aeGrFs0yO6qdpfKHdofopwIYf6Yxtm0pmv9/y6Z4IRvU7ppWhTUvBz0tgSK/SKiRw\nsefxzYQuYC5Dg0Bo7KvQeI3hsCyjzv6gz54+yOFY1lCt78IH/of8tNovnuoKyKbpHXK2NP3VFhat\n7AcWM0KAwcOKOA0IQb0njnwnIcFeDh+LIhFBAFBgDaHOUwEE9V5Ci0Gq8aQacKoAc72kTkpCgr04\n51RBibMXPnVljpQLDdULjqbdRof233E0rS9dWjS23gDP/cnxdmTUxffwWG1zIlzOafFVNol7XBFr\nHz3IQ0NuY9PniXictFERasSpAhK+bEH07Wc5stqL8c9rJWQbW6jmjBvI+rjvyO/nwh6q6LRpPpGF\nvhSsKmHHiiMoCkxpewRAC94UgNmKrVJSEumCz7E6yiJdGX93VzbFJUJJFVJKal3q8D5pw1BoQxZW\ngJ/ZEYgY4jWOrLINVNl8WZ/RjeL6XkyP/A/xOTsRBkFe+Hle7xrj8HJWS793RMQDPPlQK56c/D59\n//kAVac1v5h8P4Wkwwv+m6/mDcMVBYwQoiWwAggEJLBUSvkvIcQEYB4QCfSSUh6wt/cF1gM9geVS\nyscbnas7sBxwA7YBT0gppRDCxX6N7kAhMElKmWXv8wDwV/spXpJSfmDfHwqsBnyBg8D9Usq6n30n\nLsGlElY3Fgb1odrta8jX0vhhBy564BtMk94GlVKbglID7X398Pev/0GDueBXu/09laTFudPy7hLO\nimZMDO2OQbqxbm+yZm1aOPCicTfE5fwuYiOFt+38oe299ra/0TYx73xAeqUBo8mP0xkFVAZJSnN8\nLkq50GXgcm3b/Mr3bEXWSvIrVhDiVkAbrwk8cyKKAFMbZIwVuaWKqiEWJoZ0Z/aYQRflQXlz+nGW\n/d7F8dkbxnguMR+lVlDvqSCc3TCdgeYxhQSYKsjzLKDeqyUnrUZCnaxkWZ0IA8IJIk3m4F3jSZEA\n88hWZPYvYkqnKGYP0K49d1c8Hx1OwlAGHqfAnUAqOU3QveGsTUyjdlk8s6drzm/rM7qhCInZab92\nj9ObkRd+noD0Zkz4/jVSgivplG1i3ax54D0PtXQe6vlIzerXLJWqujfwPlaJ6VwtpqgqEvJfuemc\n6i7FFRd5hRBBQJCU8pAQwhPtYR6DJmxUYAnwVCMBYwKigU5ApwsEzH5gFrAPTcC8KaX8TAjxByBK\nSvk7IcRkYKyUcpIQwgIcAHrYr3cQ6C6lLBZCrAU+kVKuFkL8B0iSUr59uc/yUxd5L6XBaBageozl\n0NHZn5P5RQ6z8o1Gm38tdFh0hMDhWJc5q6lfyaRP3+L7rCp6hrizZpSWF/j/Yp9k04kghrY+RaaH\nwZECc1feV8RYDqAIEBjYWNDFXp0Ren0x5pL5TxoWc33bqBRUBuHymoK5TRXehlBi97gRtFtS1lpx\nLB4jBNETUxx/npnThtsfSKJL30zaeI/n/9k77/CoyrT/f54zM0kmbZJJJbRJAwIxoRcVKSIIoagQ\nirLourq+uuC6uruuiyKirK6rroVdF8ursiBdUQhdwUqREkLoIQk1vUwyqVOe3x9nZjJDEkjQ/a36\n8r0urhPOnOc5ZWbuuZ+7fL99Ip6g9x9exe4kitIogvTBKez8+GvqavX46GvRjzCRcd/dTcdJyT1J\nKV6BWE8ay7eP/Q+huj1U2/wI1jUQF5zuNhBJa+aDRoBdcmzKfAAchUlM/3YM+853YoDJn/xvqwnZ\nWI0AhOLg12u3cnv8fz/hcLVoa5D3ir1IUsoCKeUB59/VwDGgo5TymJTyRAvH10gpvwa82kadhipY\nSrlbqlZtCaqhApgEfOD8ew1ws1Bl/cYA26SU5VLKCmAbcKvztZHOY3GOdc31g8GvIZcDFzvh15DL\nnH3PMWvPrwi8Pg8E2IIgr6SczL898pM0LqDGUjQh9fh2thAYXY9PJwvBwY10X/gy8a+/7O75+S6/\nFk1IA4dsJW71wXW5HbBLhS1nuhIRYAGke1l1pj4CicAUPBklK4Kqeh8QsDllB3GvvcyjU6YyRjeF\nBfeMY01OH3cwt+SUgggNITSu1u05JgWEU9NBrW5GgrACSMxFRhQURkWNYMf2uSz4xSomJ+x3f+nT\nB6egUVQyb7tDsnp3FnW1ehCCxjp/jtWUMq7PU3TXBaFRBNNv6O32qCaNTkVRBE9N/wbr+W5kbpjG\n/Un/IqO8P0HaelJ96rnO9p4a0AWSLwaAXapbF/TTOGiJwKdTDQcqK9jzwuNMmDYIoUDS6HOYnN3g\nP3e0KwYjhDCheid7ruJcHYHzHv8/79zneu0cgJTSJoQwoy593PsvGRMGVEopbS3M9YNhU3Fn7Chs\nKu5M35i8JpYy8KqY/U/iUpa7RQvXs3HNXsZOhN88uAb001hVmu+WNzl6dqbaRxRoJVF2oF/MenqG\nn+f4xU6s+mQkSTYdlWuPoxhD6HarhVdnbyVWZ2NFUSJLyxOI7GihwBjK6fwO7mrkASZ/DtnUru5V\n+fuZ1zuN2+IKmjyYmkAe7ZzJiMAC8m3fsI5OvHNmKOXVGkIWaYl6S9WYNkaaIa8jRz5x4LALvlnm\nT/JTcOOd5Xz9oVH1YCoqqcj1d3swSzzjPeAmFS+pCeS9gS2XEB8seZ6evdfy3k2T2fjlIDY+9zH+\nh4tw3NaTBkcAPvpatEFacp/Solws4OjsJ73G+xzKR79uL0cCKrj5BujVWy3qGxE5jDOWM9wWkI8i\nwG5Zzj8X9WP13D80uwbFMB9tkJqy1gapH9PmPVg/f7S5m1oIEQisBR6RUlb95y7ph4UQ4tdCiH1C\niH0lJSXtGhufWwx2SXxusRdR0+mHH+PE3MeYO3kkb8x+hzG6abwxW5XlKC6ciK2gGyfODeWXe+9n\n+vAIz60AACAASURBVOdP0OOjZ+i2ZCHzdmxn0cL1jBi1kKGTX+Llt1UP4WDJ8+Sc64W9sDs7c8Yz\na8+vmLNPZc8f96CVsWMmM+5BK6BSHdQa/Vh5OJhfPnIzY8Oz2fX0BXez3/LsLESAFQmcpICe4edR\nBPSIOY8EVePHSddwcqu/u3N7WlSOSvEgoENkBQKYkawa0JUTH+LOuP5ohGCqqR8AF+yCIQOPc6ZG\nMO6zImL9Sjjc6INJa8PkV0JEgAWzvY7q/oLys2pHeHmxAST0mqSgaCQ33FWLQ0LivC5ssa7hwxMf\nEfzAQPK/i6V2603uZaknIgNVQ3c5FcT8qrXOzM9qZO2H6LMKwSHRfnKM+K5+6LKthH9TjxDgiLHj\nKExyeyPgoup0sGlpOHYbFBSEYL3QndTc7TyWvBXF/07sdsHGDXFsXLPX69wrTt/j7uyeEas+sxmx\nV1xJ/GzRJg9GCKFDNS7LpJQfXeW5LgCdPP7fybnP9Vpn4LwQQgsYUIO9F4Dhl4zZ6XwtRAihdXox\nnnN5QUr5FvAWqDGYtl6swzyf+j+V0MleSi3Q7aF+NKYO5sPvskhZ/nemXZ+K4XgNG77IQ0aGs2Hx\nNuYsus+dOYrXFuGgGz4BxQhzF5RAG8uzs0hcU4E1Vg0CuygU86vWMsFfZce/IeAk75VHuQPL8ohA\nSHULKtXBiv3HQQhON3RFby/i2MoQhs4vxSZSmZGcwsrze1ECrSTSgaOlndwejACSHD5UVpgRxhC6\nja4lz6oGRzX+MxgVlaAuc6KHseRh76rkeR6ZEgBtVKUq4xpXy6a/xvHg7AOsr/UnSHGQXx9BSU0g\nBo2e8rQ6jL49WTLIo+z/t60/90vpNC/FpRkugPEZi8lpKORO8156Xn+RyuoQDAYz5ZVh/PtsEobr\n8wj+tojoUUnckbSRcb/PZWNGHI/LwfgVOxjbuYmmFJqoOsc/cAu6TqvpILqj0Uh6dt8FqN7JPxf1\nczZ9+njVMnlqWc3r/X6bOHR+zmhLFkkA7wLHpJSvXO2JpJQFQogqIcRg1CXWLOAN58ufAncDu4Ap\nwOfO7NIW4C9CCBd79mjgCedrO5zHrnCO/eRqr61F1K0kbWY06z8IAwQbFm+j7raBNHZWv+ird2cR\ns70MIYSb7BmaMkenbVEoKNTVhCMlOCxaZiSnEDmljrU7srAZfN1SFabgyeQ79X2+qUl0e0oAItmA\nzDYjkg2A6mY3vK1XpU39fSjQKIx/4BamJDhLzONhAZ7ZGScLXQI8eZNzVyviiLMMtLndwVYUgjZK\nXc6MTcsl36bDFDyNhIgn+H1n8KxPVr26l9vU5+RJ9+CCq0dsqqkfphDopc/H37aPFzZt409jPyCn\noRAhoOf1F1G0YDCYeXzTXWiExBEkKU2PpSw9ltJzGt5Jy0WjkYwbn8ukmE2M0aWrZQHberCx95OM\nTx/k7gfasHgbADfdMYSe3Xex87tuPPvIi2r7wNw/81rwKexSeqkG2ESqe7naVixZ+wv8k7OpzU5m\n1uR/t3ncTwFtySLdCHwFHEbNGgH8GfBFNRARQCWQKaUc4xyTDwQDPs7XRkspjwoh+tOUpt4EzHEa\nCz/g36jxnXJgupQy1znXvc7zASyUUr7n3B+HalyMwEFgppSy4XL30p4skiv2seipoWS8r3b0Nqaa\n+PC7LKxBwu3BuMibfwpra8+q4B+iqe5KKo8uXK7PaeFajzT65JH0/ec/qA6sRBtoY0Zcf0whFWwv\n2kFxTSDnq8IYEHPOnaVyOARTEg8082BOnu7Be6cHkCTDyD9bTmOgJDypjNi6ToyL2kZ676Mo/tNR\nDPN5Y/Y7rPnmOPbYKLTmRvzK6tic+RxjdNNw2B0oGoWbVjzA6t1ZaMw29GWgKA5e+6edj7MHsDw7\ni9s2f0vWVhicpuOZdcvb/RzXnOiDogWHDaZ0P3jlAT8CXOtFagE/ll6k/xY8vzRbrCubBZDbC1eV\nq0Bz2ZTrvsND6R1exK7yMF7ZMIE1d39AnlVLtd9MntxWTlhcOWW5RjLu/Btxr72MT2c1FqQRggEx\n53DgQEpI8L0DU0gFxdUfYNKXknMqhT+N/cDrXL9++R8c3VVLzyH+7C20qiloIekcUkpVZii3j+nT\nrP7mxikv4eQQJaLTRW5/tB/ml+rdxvhdvQW7QyKQhJy1Mfz64/SZmOW+5zG6KW6+nC3WNbQXP0UP\n5lov0jU0g2dsAXBzC1O38qpK1V1Vrq6Uq6t1Is5ooGhXPo7ySroYfdg96nZqukq1yMZPuvmD11et\nJTy+NwgIj1dF6kJ0flRb6tEG2pga2w9TSJwac4kaxiyTq1o2h0WPfMmOpbUEPPCOlzd2dFctSMHR\nXbVMmWxnzX4dN6eUsOfTMJCCdVszmxmY28f0Zt2WTIL6VHDDbdn423Zy3dNTmbNoJQBVbi8rlXF/\n2kN+VZZXmnlwmo7dGVYGp+na/QyBJqPS/aqG/6hxzYNpBZ7r/p9roO77ejCgxlde3x/GitxeaEtV\nljddlSRybwVSSuxHT1J+72AsXdXaIW01HLvvLbcHc7imc4t0F5d7/o7CJKb+vR/+t/lQ+7GVNS/+\n223cwrvbKT4u6DnEn+Tste4u5S3xQzBnhmDoXUnGky2X6S/JX4q/7WUUAW+9M47qk6F0Sg5j5TO/\nbHbsgswMNv/5UwK3lTN+ZhmzX73pP8LT82PFNQ/me2JXuXdH8c8R37fJzmGeT5g8TndDTxxS0GgE\nnUVgDcbNRld1fRQOP0nEQbAGCyaN74Mm+gQJzjn6RDQFlj1pEHaVf9f689dPI+D2s6AI/G/34Y3Z\n77DpzS0opkhKiePrNWr17RjdThx2yFgaxl2nktgx2jv7dClmmWZysOQcpytX07dPDn3vPcWBg4lA\ncwOzKn8/0VvLkQ61m3z281fnBcJ/nuzrv4lrqgKtoC31Fv/nUbcSIWBG/FEUIenuW45GOEjvc4RN\nWc+x5fwiIu4eQFWCIGRsBHvfe+yyVc+eNAiXe/6KYT6RF+KQdoi6GMuGxdsQErT5xV4i8mn3hKJo\nJGn3hHJdwDkmhh3kuoCmus2Faz9vVrXcJ+IJTmS9pIreKZK+fU6xcO3n9P7Dqyxc28TVMtXUj9rR\nRqxDelAzYRD3PtW27FtLuLQp9ueEawamFdwcORwFhZsjh/+3L+XHC6d8i+J/Jzlzfk/GDB0Hfv8O\nT07szMtvb+em9JcpPH4RpCSn9iI9PnqG8RmLvaZYkJlB8roFLMjMUL0LKSjOCaHxGwVpB9u3Grc0\nyt13zmXo5JcYMWohW/b78vXennxyTI8yoAuKRmHSg2O84yu2HPc2qH4pE/yrCKpf6n559e4srIFq\nfHd5dpZ7/9zJIzn4jQmHQ3DwGxOrd2dhd0hWfJPpLo6c1zuNbzcuxhalSs7mlHnLzLYHLkmWctHj\nquf4seLaEqkVXNpRfA3N8fz2m1jxrSoHMu36z4GbWL07hPTBKWzeegDpgIrOOpVaAh2+opGchkKv\nOVxE6/G8yXS/U3QIjuS3+psJKNIT9oADKSUZx0/gsAtO14WAohKoW6KE2hMWLMm/K5Rj3/6t2fVl\nLA1zL5Ekko1Lwxg3s4zfOgvq0genuDmUXVXLLhx4pSf7X+mJANKfTqFKWcyA5FNk7UkEjzoj/0Ar\ntRYd/oHWq36OLalT/lxwzcD8yOFJauVzKJ8Ni7cxaJaRPn/+DlPwZD780s6Ro7VUHQrFx8lal+Ab\njd8BP3fBWoex5zDb87AVhVD2UAOKMYSUtHLuf2gnJq2Nz8y9ePViFyIDa6grjWbfqVCSAsIZKTvy\nydZDhAwP45ijlOlxR3nmxi5M/LqDaigqtejwR4L7Vx5gxTeZRDqKaRARBJ61Yunsg06xOlPN0V73\nN9XUj13lW5kadRIBDAspRiKwDFAwZtgJCa/iBieFRby+kqN1WupNBnTFDVijdCgBVmRoy19un1sH\nUKEThFolGUu/Q9ohY2m428DMnTySubS8ZEubNqipxmnySNbm/AEhJKmDc7yOi/7NaXdX9zU0xzUD\n8/8BL7+9nY83ZyIE3Damt2oo1mWiOHWlf/PgGkpJ5Kua8+TXhZNrHsn2XAeaQCu+5VpEiB/vH8vC\n/6yZkB4J7NlSwaz5tZhs73FLcgd2LR8PUtBwohHRH3IaCtFVBLlL7v2dvDbaqEoIjUYCWZtCMD2s\n9iGNMBxlmVnlYPELK4CcUI7VlFL9dSkOhyTbppbvr8hN4pl+/0tOw3T1SxVqA1R5kbSU83ya2dQJ\notldQ2CYDv/dldDQyMRHJjL7jgnM27Gd+NdfRlsN3YPCOSbKiIoMZGfnDgwPLOCLykgUwFARzMVb\nICi0Gw8/dTcPv60upw58cAIUgU+tLzKkDiXQ1sxouVChEyAEFTrwSTKhkz5YRdsogy5tTDxfGU+M\nIYeL5njm7djO8uwsuunDeHpYFn0DzRyoMVyR/vT/Iq4ZmMvAM7r/9jePsHLXIexRjdii7UzrNLBN\nH6aFaz9nxbEsggGk2n+kX7cXeiS4daV/86Cqcy0IoKtfCYdqTiECuiCBhkQbmiL1i1IbbyA0vxyM\noZi0TuMQXMirqRVUZYbSENHg9hL8Qps8GBfRla0oRJWNNYaQMraSfKsWk87G5vIESmoCiQysob4s\nGqRK5TBydEeVde54DTU9/JkWf4ztVZH4OxRqFQcJvtFMuXcdX9R04FSNL/bCRpRCHQHn6+k03srF\nXQIRGoL9yElW7D9Ow9t6ltdnqTpRgZB7pgx7V0lBsZEPK7pRoLufWUkzOZIE1z36SrOepFX5+wm4\noKW2ox8BF+o5/Pe5l332Ph31lOgaibD64DCHUGPwQWtuMjCLFq5nw5drsH9Wi9+4YCp1SW55mS9v\n+BY/fTFF5cHcVDuBD2pTUQJ64bBosZVlgkZwrKaUvoFmFAF9A8zc5dEycA0qrhmYy8Azur96d5bK\ndVSoQ8TXe/WfXA6rd2epHCSB4Fejco34RBnYsC4TYQxh7CQNoKFcJCI5z5n6cIJsicgaB0qglelx\n/d0MdqFSVWg03KDqMkkJGm0CY3J3k/GJkZ79u/PWm84aj9Yy607NdYd5Ps8e6c2qokQ0FoGlPAgl\nIJyM++5WCbk3ZbLBfB7/4wVEzjBTV9WZne8lcaB3NMm35NP/HQ0Z7x/m9Aw7afMOku8fzuGEaGzx\n9YTOt1KgqDrajvJKbLGRIIRazDZST6W1Hm01xHUN45goY0ZyCgsGepNcieusNBrq8TH7ufdNNfVj\na/AeOu6oZXz6IGZNe5KLa0+QMM2XWxYcVb2/F3uTszyPtJllnI9PwxYEDdUNBNb7YQ0S6Kr9WJCZ\nwbzeaaoQ3uFacED9xirkpCaBvPBRxSo9h7GK1Z9nETe2iMiAGootARSu96Xq+ih6Hatk/m9i+W59\nEH2nWgieWE7O2V7E+tj4+9q7+XSnr5uv+f8qrhmYy8CT8jJ9cAordx3CEWXFbtGSEG1o0xzpg1PY\n/L/fEnC+nvFTBzHb+WGbs8jzqGeJBLwoiG7w+Ls3biG2jUoZ58oD6Lb6ATRCcCL9bQTRCAHX9Y9t\n+83VrWR10VQcKNgDgApUtQDwUqMc+fh5pk86ya8eu47aUAVzeTj2gyFkvL8Xh12wd3kwfZ4uweRX\nhpSgzXMAkm6ja3ntxVf55d77KdoaQVWmxBrswH97LcGVDWA28+n+1hUZGw0qnUKHrhe5e++vALg5\ncgRfv7PAfcwo7RKEA3JX1SMWSLr6lbD5wzxw1qbYXsJNDmYNUr1Aa3ATp824KQPZEHnW7cHUA1qn\n+uXg8Gfp7V/JgRoD2wbfhW9khiqwFxDOtnVGYpM7c6hnCOe+SSHCns93K4Oom6LBpFO74pcf8vHi\na74SrkZf66eAa2nqyyAy+lO0HU4SGf0pcyePJOul39Gl30WGdM+FsKwrT4BqGLQNAku8gbU72jam\nNWxcsxeHXWI43qDyjCSngH6aM1si3N2/bYJ+GulROSg4CKjTupdFoHpZhjsvEPf4cZLGniVWZ2Pi\nDcfcX9Ki0z6k3WNE0UhGzlR7keIN6Ry/42k+v+sgG7asZu6juTy06UW+2tMNbVINQQ+dx6rRYjZp\nqIrT49t4+bRugm80UkJUgMW9b0fxF17HxEzujlQgbqofEsGZ+gi63RnrVjroobejCanHp7MFn+4N\nICQBXavdnDaz507g+aU9eOhEHgveTeCrtb9nx/a5zJ47gd7+le6lz9zJI4nVl6EIiNWXscW6kmyj\nDRRB1Q1RSAUaUsMxLgtkwfKhSFT+YJWYXbTp7SixLCHNuI8Sy5K2v4c/AVzzYNoJV+FXewrwbAZf\nr+3VYuSf8zGlHiH/UC82pz/n3DuKqn+qomKhzlqMhWs/Z+W3h9BVS+4ckMKOmNPkNBSiPSvo+FIx\n42/rzbQnDzA39jhjHad4ofB6eg2upr4u0h2AHZRShRCQXx9Gvm8Dv5v+LfU7urPmgB/pg1N4ePIj\nLWpSey4rt+YMxSEVjl7sRM7kP5CS8XcArMG4idE94dkeMOCrb3Fs7kjcrY3k3aHe16VVuEtWPtds\nDpY4/wEh+UubOrGVMO7opnY/2yqa3ocmcqq1Xh3h4/dOId/ui0nTwOZJEBecTn7VWmKdPUiJexSq\naq04hI3C3w7Btxr0ZQ527urJgkffZZoH2XpbYNKXIpzbnxOuGZh2YmyYzYvv41IKhJbKvs3X2bGE\nagmssLVIJO5SSnSlhj21rGVBERsWbyFtZhmTninksNUXU+9sZu35lXuOijCVkrIiTA1grt6tBlIb\nA9XlTvEMtTvZ1kVCqIENi7fx4FzVEPSNryRQV40Q4KcvRhKONRCKi4OJjKziTP0wEpLV63xyhvrv\ncjhtiyJeW8TBCgMJ8iI5IoZbO57EVtCNCb0nsP5gR/RZhfSKrfToY+qJQypoA61oQiWr8vfTZXNH\nHA6FvZs7s/GFv1zVe7Wj+AtSAs5iCiulwjqIF7dnNeNvuSEgxv1+eSLf7qsaWLtqjPpEPOFlgKpq\nrao0rdQiUCVkAiqEu5K4weig9roa/i2+4vCWLTzXcwOxOhsZeX15ZG9/kgLCeW7SRfKr1vLR2luI\nSUxkQPIp4kPSr+pef6y4ZmCugBWn73EblOnx7/PhB53Is6QQG1jO9AWwYV2mUxgtkzmLWi77toRq\nVeW/UC1m+8lmUigupURXatgV/9i4Zi/27JPOYjEjD/3lPIfq/chvCPOaw27RuoXdQY37rPz2EDqL\nutzZ4dvkwVChctuUizqM8jgHTodgKQwisLPqwQhUvuGhjROYO6j9ZOYvFPSgaOtQzlYbqY0B34Ba\nXh3yBYqAZ0at59OD/4PdGETG+7k8tOA4K3PvxyEVnu7zFTPij7G6OJHTPIh9xHK+29GFASPOes3v\n6eXkvlnglnvxzS9zS8acT49WMzxomXT7BWJ1NvKsX/L3TtEoFh3TOg1qen+fsJCxNMUp29p0Hn2B\nlroONvQF6jO9VMZW61+HrVaP1r8OZCAdFEnMH44TERkFqJXBmo6q2F1WrR8mrRqbubXrAfiuP8dq\nSt3e06HicDKLItn45SAO//3y+tw/NVwzMFeAJwUiQJ5FFWvPs6h1I4oxRJX7MIYAzbWQACLNDRQb\nfIk0N3hoIzUFZF1KiZ6pYVewUd7Q1enBlHOwcBjPfdiLHsNL8AkvdM/RI7qCUEMFFWaV+G/u5JFe\nPT+PeTLcPeL64z6mPPuBO5W9ZIqTXHv493teIyKH8VZmAbVDASGQoZLd1UYGB5WzpygcXbVE6PXc\ncJdCdr2RaXFHWZHbkzvjjqFRJFMjTqLR/J4Xy+KwH6lHm1rOsyumsWVVfxIiQimadtjdBFld0smt\nURXgIXp3qkY16JWPlhKbrqbzTTobEoEusNEr++dZ7etpYCL/VYsQAikb4TfNZWzH/+lrTH4l5NeF\ns/2uQaBIHFOb5GRnJKewpyGDWzplY/Ir5et6P4bqG9h8pq873uWiu0iNLCWzIIKejqtvN/ix4pqB\nuQIupUAMr62n1N+P8FpVlcWz4hNaLvseMM6B2X7Ua1nkiYxLmPMvzTq4+E5cGj5Hd4TTb2oxA8JN\nAIQaKlR+XIPKqdJWqokr8d9eDWaZZlIyZjvvnz5EbQz42Wzcf/hWRKEPmlw9BEn8zzgIeKaSV4p7\nISLg+vDjbPi3kfEzy9iwNIxJ95Txh7+e4o8vqix466or2bJ6ADklFcR7xMCiIkKbPJgah9uD0ToN\ntuamrvxheh1Hd/lx3UQbpt+UERlYw5L8pe5MzfgHxnhz5DjhYzJwIUqDNViwcO3nzWRsbzOcx6S1\nkefTwLoEAxGGGiYYD7g/JwtGjOKXe1di8lPlcCscPmiis5gYDROHNJ2nT8QT3P5H2PbJNIb3z2Tb\nJ19xy6SVP9j78d/GNQNzBUyPf9/r/z4bLhITaoAKM9A2KYqWFCKvBumDU1i9OwtjXJmX+PqlXtGq\n/P2M7ZBJz8CPeTn7NSICZ7WY+myJ//aHwGP3j3J7TQdLnufPt1RT1D8Ia7BEVyVJHXISk76U/Pqb\n3Ne9fksn/jH3KF1uDGfSPTspbohk5TMKm5aGETVSQIAkISKUkR6k37MWXyGd+1sY02k29DBweI+Z\n0c8cp6tfCWcs5wB17JxF97VIH2r2U40LQrB6dxaZl8jYxursCCBWawMhKLX4owjwJVutI9qcScRN\ngcRNFKT4WThwOoRFK9a3+lk58nExL025jrF3FXPLpKt56j9OXDMw7cSlS6K2oKVl0dWgweigpouD\n7h07oFDozqq8lmiDum9B3xmAyO8M7D45mNpBYYy4bR8ZxV+w6kgNOQ2F+Jj9kId1dA8No3rTUWKq\ntejDjrPtrpeplhqCdPHc0qX9tI+t4aPZ2TiONHBTuJ19wdfT0beKUbcfxBSczuR4Dx7fHbg1n/75\n7ovMnjuBTdtU41B0xMzX55u0h9pTJ+L5fk1yeh35vk3Uza5zXsqrPGl0Km/LPRBuw78+yEuT/P3F\n9zF/dj/2ftJIt1vtXBwl0FZrOPJtH2rj9awzfoPvAC3yixhSp6oB9j6xZubP2duqgdm4NBzpULeP\nvN/m2/vR41odTDsRNcSEJcFA1BBTm8c0ztVRdF80jXOvjlLRheXZahZk/5laL24TWbccsDu30HDc\ninQoZO1J5Ex9BCMih7mZ9xsN9U3LomotQgiKyyKolupHoarxNIlvvOLmR/m+2PtRAw674NgXGm75\n/UGyp2o4XP1MiyThrjofl9aQYgxBCIHSDmN+KRqGRXNhlJGGYdHE6uxqLYvO7nXOWqMfK/Yfd1Mx\ngHOZGq4Gac1+1V6a5AC7Praq97VJ6y7mW3q2F+uLwkFRWzx0VY1U1vnjcMCmjDj3MrolTPifMSga\nhQn/M+aq7/XHiGsGpp04LKswmzQcbof2XL5HAPL7YEZyChohGNzllLt2AyDPqsUh1S1AeKoDhMR4\nHTyWvJVZppnuwjUfsx9IqS6LgmxIKYkMKyFIqIIRhdUG7FKy7PCh73WtLgy8wxdFI+l6k4EVBd1w\nIFiR2wptaa8wLAkGahOD6f2HV6kcEuY2DleLEl0jCEGJrpF/PDWMsZ1T+MdTTfU046YMxGbwASH4\nZKv3PbueWYJvNAkRoSDVZRpAl5t6IgXUpRgJPikJyQafMoHvOa1aBBnfnx3b5/LnB2cw7sY0/vFG\nXw5/ebTV65yz6D62WFf+IGoPPyZcWyK1E67KTGtQ28eYYoLdAcjvgwUjRpEQW8jnxUfIsnRhUsxg\nAN79eBZffyW4cajk+Yfh6V+sJMWvmqz6IOCPAGxIe6DZfK+fVVOvA+4xsuyvD5NTUkFxXwWC1FT1\nD4FnVy4DYFzvuQR+58AyQEEUtZwtMdfZEEJgtat60pYA6TYOVwt9B19KfeoJb/QjY5UP9OhOxiYz\nDztf99SZ8mTDA5jZY5c7wH+6fha7jh+kIMjMvB3b+d8dz7iPu3HKS5i7qPGaxrwA+m2qwnijg3G/\nfAq7zYEI8Hf/wOSc60WszkZxfTRhPoV8VhnL8uqOOBr1KLo6wsoT+fu4P131/f7YcM2DaSeGj2ug\nT3o2w8ddVoLJC2U3RnPxljDKbrz6X2IXdhR/gQRya8P4+pkIALZm66jsrGVrtroES/GrRhHq9nLw\nTL26lgCB+RB8XsOsHn2+97V6Ylz6YMI2Oei6uY5+/U67pXE90Sk5DAn4dPFDowiMim+Tt3WVMEeb\n8elswRxtprF7B2oSQ2js3sHrmMfuH8WXqx9rlr3zLFFojf0OoFPfEHTVEqTEt7AOS/Jp9o5cR8C0\nSqitw+ZoQEqJ1NQ562Ekkb4FaBXJqNBchADFpw6hQJnx1FXf648R1wxMO9E16nMmhh+ga9TnVz7Y\niR8yHTwichjSLqn5yOruPXI38jm9q3LRgzee6EhalxS3ZnZLcPUTpd1jdC8BUjQGftEtmS0rDnrF\nJEDtwLYV9GBZ5ngWZGa067pnz53A5kPPof+Fukw8X9tc6dfSWaHgJoF/ryAy//YIQSO0WG+spr5v\nfbvO5QlNoFXVWAq0UhXn5+yF8vM6piXOXYDrfAOZ6F/Ddb6BpA9OQWfBS7PbhaykC9SNs2C7oYqQ\nlZkE3KFDaEA/rJYJ946geEwMF0eHUzCyE/k2HRJBcUMHbA7B9oo4VfmzUY90QFh54lXf648R1wxM\nO2HSq3UN7ekZ6R4a9r1/iV1QyaszSe1ShWlkXwCmXZ+KRlHVJgFWPjeRDR+EX7EB8oAykJoJg9iR\nH0/x3jNM79eD9xffx1f2zZgeO8pX9s3eA+pWoggH6VGnWJW//6quP8hXbWsI8m1kSf5Sfrn3fh7+\n7AV6/+FVr4pmwB2YvpRmsz24ubOGATFnubmzhuquUNNVUt3V+5glxw9S1cnOkuPeqopb5ulI65LC\nlnk67PF13HbLN7w4bhm3J3/ndZzdolONRK0Pkx4aQ7I8ywTjAXppL9AQqUffwZeaLg70HXxJtrZJ\ngAAAIABJREFU6HwETfQJOpi+wCfmBGN7bmbJoHdZOnQR3S/cxY4dfs0M3U8Z12Iw7YRn05unrtDS\nigR3fUZOXjTLDh9CUwVBZwW1w+qQehsnGtVl1QNj/uqOySze8ri7f+m0LYoXCnoQqHTls3N27BYd\n0zoN5OjXF9z1Kl2qj3Js6630uOUs54rVQMkuv1PUDzGzy/cUMNLLqFiSI1m49vMW2fxdy6LaomoE\nakZl9twJGPpUgkDdekI/DUftClYXJbg7ktuL+rpI/PTF1NdFulUEKgNOYXckk5h4nqiwKndF8j1x\n+0kIPEeOpfNVnQvA5PelWvtSfw57sJqhsV8SCrMFeW9d8KzyvTBpP/OT8xFCNmuMnNZpIMuyDmE4\n3oDoFEVcpNp5HR9axMLyPdQl2tBYtFSYW++snrdjO0vPH0JrUHvJLqe+8FPCNQPTBrj0k7s3aina\nV4stahraoiru6PYNs5+346j9kBKLCQed2V60gz3n45H4YgtSGw6lXk13Wn3UYOWlWSVX/1K8tggH\n3TDb85B0QQRYWZ6dhV8F7iVWzeddkQ44trUr46eqac9Lf+ldCo6W5EiqRsa1+oFNcFbC+kcF0VBq\ncadRb44azmfFOymuCWBBZgbGDIe7VqQh8kZnQNQXejdVDY+MEoyI/OSKOtWHzgUhAvyYEHmYwWGn\nQcKF6gSyFEFUWJVXRXJC4DkUoW6vFp5dyknxgeQ0FDaj2LzrulSWZ2c1W/p4cvpONfXiu/JMBhjz\n2XUmnn+d/B1RxiqOZXbBEiHp1N1CZF0DG1fWMX2yP/7aWmpt/tTHWxFCoAm0MbVz653Vy7Oz3Onu\n9KS2dWD/FHBtidQGuAitjyqNbpkKW1Sw+gsnId+mxaQvRUoorglU1/2oKoY+FhB1WqQEnZMDxRQT\njJTSnVVyyVactkWhoGDQxKrCZTU6ZiSneC2x0tIHoWgE46cOdhdtJfhGM9e0l8NDPsRhno/oEIUm\nuRtBPbtQ08VBx+6hze7pkWV/Y39gFbVhCvp+UWw8+Kx7vlmmmey/2IV8s5FV+fu96lPWbc7E4ZCs\n25wJNKkCbC+0eaXOW8Ibs9+h8y8PEvrORQZF5yIAIaBj8Gn6pB9B2o1Iibsg0SZScUjc5fdXg0N/\nGcTiHvGcf87Ar2NXM7DjWex673TxghGjODXn0WYMhU2cvoJ5vdPoFXkHn5b1IaumM1FG1RhawtWb\nKK4LRD+slnFTBnKnoYQ7Amu4M7iEgK3lYJfMiD7J/L5ft3qdrhKEmSmpPxvvBa55MG2Cq0S/u01H\nUVERtqhgtEVVjH9gDIe1fcmvXUtc8GQSqlM4ULCf6bH9mHd7Uw+Q51IKYPGWx73md/UvdQfec60G\nPEU5R3hfz6XVoGM2afj3Yj3lM2OY/fxKNq6x47BLZLYZBoVysq55cPnzgwo4aQbOnGoeT5pq6ufu\nZzJOafJg1qz5EpspEk1+sddxI6O0CDRems3grYqwdfE2hAMGV57l7aQ4Xt51gh4dG8iqD8KBg9Sg\nTEw+pdRmZuNItFH8gg8Z78eTdo8PtMA90xbsWaJmyjYuDSPjL1k0+pSRHxDhdUxrvVs+HSUlOg0R\nVhv3jnianq9/y8QwJ6vduWSijFUElkJNpGSAMY8Bulpmz53AgGUHqNaDvlIS8V42v7AeZs7zF6Du\nQKvqjwtGjPpZ8vle06ZuA1ws8jOSUzi7It+rZLwteP2XI90ayQ+/98MH8MbopuGwO1A0kk2lyfxz\nUT+VV3ZIB3Yl1auct5d8eB9Z9jc+O6BBVyXpERbGhy/c0+Lcnsbx8e1aimLyqN2iYVjpwDYVhQ2d\n/JJaqg/08d/P8RWqd+ewCzaePYRGCw4puP/cTaSF7kNRwGGDOwz17DviS9+etRw46s/AmzPb9Uxc\ny9rU7EoKDxejGEO5MS2XpPuOIyXsLB+KWdZg0MRy6t0q2KWDIVYSfxXsbuvYukWPNRC0VdBl/m7e\nzDtCrM5Gvk1LQucmL+jj0/2RqMx+t8fvo8dHz7ilTOZ3+Zb+UefY9K/r2JiRQMKtobzxwu/bdS8/\nRlzTpv4B4SrRX56dRVSJ3atkvC1ojRLgh4Ir5jL+gVtQDPcxey40ROpZtyWTEIMV7dDmNTtxO09x\nzMVv8sJb7v0LMjNYvzILv1M6bhvTm99NWAnYoW4lRTHXIzQweHIenfwPUFz4qZNPJYzxD6gBVE/y\nLQBNbpHb47lp9XGGz4cjC0L5+kMjR/bFkDK4CMV/GpbdAewZWMagsHz2VJp46mgKhwd/qJJi9azl\n6c/Sua7raXIu9OCrU2Pc9BYR31ndBv/FZz51U2UsOT4Mayc4XBWIvz4ArbmRbzbF8vjD+zlw1B+z\nU5rWbM+DXdHgELBLh/mepsZUW1ASILAFSRzGIDY+HdVMvG3h2s8ZHu/DoKhSN2mVKFSQ0Q5EoYI2\npYSsRl82ZsQjHYJTmyvghR/+M/BjxbUYTBvgWh/PSE5pVjLeFphG9sc6PJWaCQOb1Zb8EGhMNVE7\ncQAfHS9i0cL1gJO4W4LPKW2LKWXPIjtPrMrfj88pNWb0ydZDbnlY9NOIuhiLtKu8tBJVaiVjqRGH\nXTUsGxZvw2F3uLNYDvN8uhnLCcippHtkOF+9NYzXfz2ZLdVj6XDvrXy0PolbO/di/qNFZMfUsKEg\nlacOT+RwTWcGxJzjlXO9cEjYdy6M67qeRhGShI7HvdLZnj1CnmRftiBAgL4UasMUylL1BI1We5H6\n9qjFIALc8Z5ON5QjFAedbijHoIl170+KDyIx+Sw3DjnG+NVWNm5Lgh7d2bitp/t5rd6dxQBn1igc\ntUguao0gfKk/UWsEbyXFce65EAaMPg+KJPHWtn9ufg645sG0AZ7r47TTH3CxRsEQ0PbGxXPFFmyx\nwe5+lx9axsJTBcCVap40OpV1WzJpSLS1mFK+lN/EhammfqxPVD2YSaNTUQyjwDAfh3k+f71hGein\ncagxgfyqtZSLHqTNLHd6MLew31xLjqWBhEAn523dSs6X3Y4QgnPFFkq1BqofsuN7qpGcvRVcXF+C\ntAt2LykhOTWO7JgafKoaiOyodiBnO4wM/839OBQbtzx4wO3BeBJ0RUQ0eTCeZF+uzFCnZCMHdeXY\ngiSZlkhAgxI4jTcGznffc05UL0xaK/k2HQmdj7j3J69bQN9w9VoO++tQjKFIBMLYZCQ6dg/ld7N7\nkbNeoeewRj6Z8DIxIb5qIiDEF50r/nN2L9oXf16E3m3BNQPTTlxaDNYWjJsykLU7srAZfJv1u1wt\nPIOnk0ansuGFj9HkFTN4Wh22gm6MvzWKrNRuAJxuzOH6N3MobLThU2kn+ksrNkMiTIADivcv6rze\naS2TVNU1LZX6RB9zp6JDnl5KzINfYIj0I/cPZlAEufVOKVf9NMamneCj3b2wGnyxO2ygNNLQzYbx\ngoHBsyLYvaSEwbMiWPCwSsewJH8pyXILKX4WsmvDmNavJ7YgH0oaB6AReYzpeR1/GuZB0OUVBlL/\nEwksiMb9oxD/+suAmgJWoo81u7VYnU3ldtHZvParsrYqSdXwkACqJuSyKSOecelNlJsn68po+FSD\ncMDhz31hIjQGCHxqwdBgxRYTiWIM4c1/JTHnGf7P4ZqBaSc8fz2huZ6NKyBskL7Un2kgrmsYn869\nm52Ock5UlLHiqwNsfWYdaWMb+c2zX5Bn1bKxqgf7LCEU1wRy+kAn7DoFnzKI/qyS27t9zbhnithv\nHcjS40PIaSjEUB9E7THQhajeiylCj49/CLIDfLOmCOXvak0NdHNfd2GjDQQ0hmiwGdT0K3DFWNJt\nNz5JnVmiDx7HR2s3ujNhLriK5T5+eT+a8nBkSJMRVQzzmbMQVt7+NxACfY6WXrfnUFgRzJnoQBbM\nfRPe9T7fLNNMis6rfUodfCuwBqr7t+YIRnVrzv7fFnjWufxm1h85+WEeIamR1DiMjJsykF1LUik+\n5SAyUWHZiaZxEzpmcWfYdtUA6WegLHydOQu9556RnMLmIbkEf1uE6KA2K0UMi3CzFI4YtRBrsA8f\nfdPInHZd9c8D1wxMG+FSD4i6I5FXn97N2NCznDj3Dv42C738w9lRDPmVoayq2AcGLeUVkgAUcs+U\nMW/Hdg4El6IVAFoINZDx/glmPysxaa3E+OYiavoSGWDhpE5RDUEY2KKC2bg0jN/85QKHGg+R0xDr\n5ifRiWCsQTBpYApbF+1ECAHGEPrdmOuuqfFEtI/W7cFozVaVogAuG0uas+85Kn38sCX60lDZwPA5\n9zFpdCq+xU0kTSPuGsb2gh3UfemPr6xDX17PY/eP8sq8aXwFNisYUlVqz+jQKkS/862eN0zjQBGw\n6s1UEjdUUNnDh/7TCpjoX8MFh7HVca1BG9qAb2cL2tAGTn1eg5LUDXNhJUqYWttjPaXmuYpPeWdU\nlzy6g6MrkkibWcbs51e2mGJeMGIUC75qeck7PmMxBQ/ZEEUQvv3KkjXjMxa7CwFb6n7/KeKKBkYI\n0RlVaSYKtZn0LSnla0KIdGA+kAQMlFLu8xjzBPArwA48LKXc4tzfD3gf0AMbgd9KKaUQwtd5jn5A\nGTBNSpnvHHM34CKyfU5K+YFzfyywAggD9gO/kFJefV//FeAKYF5ce4Kxr55F46y8PdIYgMmvlMjA\nu3kxc7+zsc6GodKPelQPxrNK03DSBhVm0u4xIhHk27RcbIhrKtKzOtwejLaoinEzy8izarGJVBJ8\no90eTIMiSB+cymOTR3Lo4EmKvrlIVYIv58ZO5P5zBxgROYwPBnowv7XOddQqzPY8bCE93PEEHJJP\nth4iMKfSXXi3ce6zVC0zsEHuQQjc1cCemTe/GFWELDi2UZXfFRAV2jo3zuEzYVzXtYyNGfEICSHH\nGnltyGcoAjoq5a2Oaw1C/oP5yQUcq96NYuwDCERYCDf8OpueY87yj5EDUS6W4YgJc3/JQysFwZkD\nkJGVZCyF2a8Ou+J5LoWrwlpG2bjt1kFtPv779F792NAWD8YGPCalPCCECAL2CyG2AdnAHcBiz4OF\nED2B6UAvIAbYLoToJqW0A28C9wN7UA3MrcAmVGNUIaVMEEJMB/4KTBNCGIGnUcvOpPPcn0opK5zH\n/F1KuUII8S/nHG9+n4dxObhSwVF3JLKpooKxoWfJtUUhqCPeMJk+ETPJr3QWbMX2o6TLQcyD1HqK\n1DINeykmKqQKww2xvLGkSTc2AXgYdalVYlnC/bd/RVxwuroMaFJJJRGYHu9xQXc2/bnknw+55VUK\nGw1E+5g5YzmDi3f2alFcHIwmrwi7KQpRXUdtXCDWIEGHRBPVm/LdxqQlXuJBn5kp3HCU6PE9Ka4U\nKOVWHCtrsfiXU52rJeSOMOY92OTleNbp/O7PadhCfPHzsaBrsGM1+HCyohPdQs97qTW0FUlBBShC\n3X44fyCB3zm4O3AAHcduQSJpHBgPJICUXHR+yStCJAanVzj+9j4ohvYTQbl+EBJ8o9sU2Pc8/ueC\nKxoYKWUBUOD8u1oIcQzoKKXcBqiuuTcmASuklA1AnhAiBxgohMgHgqWUu53jlgC3oRqYSajeEMAa\nYJFQJx4DbJNSljvHbANuFUKsAEbS9DX7wDn+P2JgDpY8T57/UZReiVBWxz9SQ8ibaWfOq8Po7uE2\newZIZ+35yF1P8Vrqt9xz5vrLEn/vKP6CNGMJAq4qzuDiLon2Mbe727s1DG2cwPLBX1DbTZBaFUKe\nxUGHEWfwDatCjo5k9nBvo+IqbouNMFKUX4a/A4o+PYrSq5vqtoSGUn1ErQCu+riC5UObC6EBqrck\nBPWdAtn+kYuLd56HzMoHrHnKW4nhcli2cBIl5gBCgivoOquCswONzL59AgdLssmvWosmvpHaIl98\nLIKY/SFc7FdJaKVAURyMnaRhzjPNjUtrXL6e2JD2gPuapxy48jX/XJZFnmhXDEYIYQL6oHograEj\nsNvj/+ed+6zOvy/d7xpzDkBKaRNCmFGXPu79l4wJAyqllLYW5rr0mn8N/BqgS5cul7u9VpFftZZj\nW0cjHVBU5OcuPZ/TyrocLiH61nfGIPMwo22V+HtE5DDOWM5g0pe65UnbA9eXKNxQQZ/781lV1I0j\n1RnM653GQ5teZGuOYHSC5J9j/9jmOedOHsn7FzNBSg6FWvFxNDUkWuZZGFMxl6jQEv535U6yLkSw\nenc6dockp6iMqMNFzl4jgSkmmDMFVTx0/y7yD0g2LlPT2iXJphabDC3962no7sD3hHeZ1tXy6pSY\nA0AIKqtCiQso4nrjaKBJrfEZ+SoBFjWTZDtp4/jCp9WB97Y+59JD2dQMD2XpoWxm07qqxH9CGuan\nhDYX2gkhAoG1wCNStoOQ9r8MKeVbUsr+Usr+ERERVx7QAkzBk0kafQ6hQFRUPYpGMm5mWbOMiife\n6P8kSwa9yxv9n0QxzKfx6Z6XJf6eZZqJ7jUTb/WI46s/t1/exPUlKjWHsrooEQfCXWC3NUfgkApb\nc9omxO4JV5EhEhrDJIUVwUgJ9opghBAUVUSo7HkdS+iuC0KjCBKiwqhLiQZFMOHB0Sze8jibsxYy\nYWoBc164wIa8LGTDXiK2v0viu2Xs/e1Od4EgQPTgUgZ0Okv0YG8vzJNXpT1wFUf6BdRQ+1FjszR8\n+uAUaqIVzF0VIlPC2zRnbWc/UIS6vQw8G1U/OPkwv9x7Lx+cfLjFYxeu/ZzuC18m/vWXfzDS9f82\n2mRghBA6VOOyTEr50RUOvwB4Enh0cu674Pz70v1eY4QQWsCAGuxtba4yIMR57KVz/eDoE/EEr7z4\nbzZlPseS7S9jGjmAjfuu58Gp+jbP0Rbi79aqa9sCd4VxWCNTo3LQIN0FdqMTJIpwMDqh/X1nrk7j\nVwfu40T6Yv7Rcwu/i0twd4RHhJXgkLCrPIzKjDzuuCuRj/84i28OvsE22yrvfiX9NOw2yPh3GBnv\nl7MpIxaHQzV6LiUBgMgAtbgtMsCbGNiT/rI96KcD/0++Qyw7wrCa5sHauZNHUhcjqekqOay0bWl5\nKclXa1jz1N0cfuVR1jx1NzsrLTgQ7KxsmfD4crScP1Vc0cA4YyHvAseklK+0Yc5PgelCCF9npicR\n2OuM5VQJIQY755wFfOIxxrVAnQJ8LtUuzC3AaCFEqBAiFBgNbHG+tsN5LM6xrrn+47galYBLKRpa\ngieF5ZXgMM/HUZikNiMCtZPyiXv8OGXpFawo6obV4kNhwRE+Pt2fwdWfEf/oHnp8lNPm670U42Mz\n+ev2G0l//Vcs2nCGxVseR6NVONK9K91W/ZrHD4/E77fmyzLdKYb5/OuFP/LmvC6k3WNkbFoeiqIa\nPU9Jj6KaQKRUt57wpL9sK15+ezufvLkFKSWKRmm1QfOd29Zycupi3rltLXP2PcesPb9qkTcY1Jhc\nz95/5L0/1rWLWmF4SCAKkuEhgS2+fjlazp8qrthNLYS4EfgKOAw4nLv/DPgCbwARQCWQKaUc4xwz\nF3UFa0NdUm1y7u9PU5p6EzDHmab2A/6NGt8pB6ZLKXOdY+51ng9goZTyPef+ONQ0tRE4CMx0BpZb\nxdV2U1+KSxnpwLvgLicvull2ZOCcV6nTOdDWgU2vus5rnrrba64Hnl9PSodisswhvFaVQrElgPLC\nrpSUSFW3Wjp1q80NJMpcznxpdndov5R9Cya/UvLrw3n31I1ICbYL/hyf8jZ5jVoeiu2FopFssV6d\nqJrDPJ++zwYReLIRtFpCtDpuTY1n45q9RLx5ERSQDkjwu+OycrWtYd6O7Sw7fAj/izA9fSfdDefJ\nsXTmT70/dR/z+pHJxPjmcrEhjod7tc4744l+v34F3725+B8uYtKDY1o1MLaCbihClaq99+xQdzf0\nkkHvNjv20u5pT7SnluXhXc+yvdDGqGgtrw95qsVj2ioD/P8bP1g3tZTya1Sj2hI+bmXMQmBhC/v3\nAckt7K8H0luZ63+B/21hfy5XVd3x/XHBX63rOFNcwRhdOmkzy7hxnhl/o4MzljOsPD8cTUcrK8/v\nZYFTQrVO51DrSfTSK+jn6Q2ldChW4xmGSqiSRARYyPOrBhHIsZpSqr8udfccnTkVjcNe5e7QNvmp\nDXcmP5XBzVGjY0bcMVVozMfWZs+oNSiG+aQP+ZxNufvVgKnN6k5P3/av32N2+FF62kj36/XQu/3z\nL8/OQgI1HSTdDedbZLKL8c1FEeq2rbAGCRpvjsdyczxzXm491ezZx+QK0AdIDbaCbmpq3MnZM2/H\ndj7Mns7gLqd47HpTs3k8a1kurfK+FCpJl8L2Qluz11xYvzILwyk96xOzflQGpq24Vsl7FbCeNquM\nczaNk4bByEN/OU9+bQAmfSmaQCsSUDxceb1V8fBgmgjAPTWTsgoi3R4MCEpqAjDUB1EinR7MaKcH\nU9WojjuuuEXbLzbEun/dj96uZkHeePop0p5Ix1FeSUMXOH+hmDG6KSpFw9tv0R4sWrier1ftwc9X\nQ32nQEK0TcHqoZpbef9EFiiCFd9kXhUj24zkFNWDKRAs2z+Mw8UdGdj5AlMSmo65zjeQeG0Rp21R\n7l6smD4GspIuEPzPQoJ3ltJzupnOj0PNSyGsSkrEdoMPVGj5RciQ1k9OE+lXJPCGswzF5dUY5XH3\ncSvP7yV84xkKt5Xz9f8MoM8i73k8a1lKLEtIM5a0WpM0KlrL9kIb/YzVzNrzK4prAvGt7MUnd/za\nfYzfKZVQ3O/U91MF/W/hmoG5CujiDaqR0dpRNJA2s5xy0QPBRWKDJzM9NsXt1rpw6x3JLRaVebLb\nvbP7LLmWXVRWDuCDwf9o8dytFWzts4QgavriueLd9ClIBISGoD16kkNnpTuIvHPo4wR2K8VyMpyP\nZv31sve7JH8pG1YfAynQ1tsJzqtiw8Fnva5pVfpeajv5IaItJK9b4HbpXQWANpHK9Pj3Wz2HZ8d6\n3GsvgRDsPtPJ65h4TYnKXawp4cPvsmjsLLDkmZFJEHxMQfToxrEdFdz49C7eXhaMbaWPutQJtTH3\njvYZvYMlz6Nt0JPkW8dpWxTdnfs1gVYCt5UjHPDJv7ZQMtnEghGj3N7K1F7DmGVSDfza04sRQFe/\nUhLfeKXZe+9aFv1y7/04UIPa31UWuF+ft2M7F4YKtNWQItuW3fqx4ZqBuRrcF8yZhloSfDuzIa2J\nPeh257ZPBM3c2ZXn9zZbNl2KkLBdKIokJGxXuy/Jq+7GiXFTBpKxcg+O8kpspkj6di/m0DZ1qbSv\nWylCgcBu3lmTeTu2q9caaCUhKIJcSyn9Ys6iHxZE3Rf+4BAtaiz3rtKQv70M8Wo1kYE17CovA9K8\nxMvaCv8LUNtR4n9JXnBjRhxjx51m08a4JoXNYKHW2xhDEAgwhrK2sB9RX0swl3PGYmxXZazqGR1k\n4g0nyb6+3/9r77zDo6q2PvzuMzPpPZBGCxBKAgQiSBEVQYrSO6goehW9V8Hud/WCyEW56LULFhQV\nEJUWigiIImBBIZSQAAmQAAFCSCG9Z8r+/jhnhklPEBC88z5PnjM5c86ZNW3P2muv9VtIBAoKn3rN\ngdKVTG42ie8G++H2fQ4FNwXy9eF4xnTei5tpla0mzTodsnag2JMeiq5ZYa3vff+AfmxL30HmMn9a\n7jJyx5xZDJ/Ui6+9kmwlJsmpDRc4u5ZwDDCXwKXUjNQ0bapKXnYffPx/Jy+7j7r21ggW9JhVbV9N\nKfwAifu782hIIU8l9WHbhdbM+O5R3uryI4fO3MLXhyPQNVNtTSrMAiCjyJ3ge4oY81T3GmMJAF4P\nGwlslg5aoXaAeyHJZzshRTAWmd0o4W6f1HK8TzhjVsoZ0mUmrQLS+WhtC85k/oNRw9Xs2Uk3ubN6\ndzwTekcyc8wAFiZYM2t7EWNYr9Y7eRdxs/tJwgNTWXHi9zo9KCsbvo/DYhF8syucvw3awc7iEPoH\n9IPSeYCZWS1XMntzYqViTs+yJxjtbuSUUzkBHhezda2JfDPjVQlNxcNol43sb8vsvS90CvlvlPHt\nL6esRe4U9fiA+W3TSSgM5qsDfZnQu+4p3rWKY4C5BC6lZuTv7eNtMZLacArqw8aMci6cdCPjXM29\njGrD2lvJPiBZG+1C1NayO7JDQQh2lDZFp5N0afkLd5VNZmVqDMLdiMUoEAbJqXOBfHfvv+q8ZkbI\nKYSirrwoSG7zPE+o3sihijzGhMXWeW5V8oJdEQgkrvgcK+V0ZhCUrmT6zDmVBsyht+4hpeD/iM0a\nx6GfFcwmC4d+TsB7iOrNZWZ6MTL8gM2DGr5pUZ0rO7N3bEPmFYOnK855RXw2ZwCjBkdx37SBxJ5b\nS0rZSUJd2hBF5SmdOV3NAm7jZKZdUPUBeHLrHrYp8+pfjlXL7P1856MEP76bdnIAJ351QUoIa5uO\nIiDC8zx6fzMzR1+fnQYckpmNJDZrPg90/Ih5keuZ0rHhU5mGrIDsyPwJhMS/TQ6rdzcu0cpeLrI+\nktI8sUgY5HEKHRb6u2ZhNgsOnbmFuf0Hcuzef6H/1ROZ5E7FWQ8mNa9/sS433gNphtyDHnzaoSVT\n/E6SYtRzeHNzhjSfXmcL26o0b2Pko3tXc/DZj5j7wfe0CkivMWv6VMEqJGZOFayqtBp3Ylo5PbeN\n5rsRb9tanyQWBpNcns6QLjN5eODTmNM7kHy2E7FZ823XW5kag1t6OR7J+SjpZlyP5bP5i9+4//45\nPD80gtVz+pNSdqaaHcdN3TFLwdfpYTW21J3dbRiHR89mdrdhtszegG2nGaRM4OHeM/EM2Y2ik9z2\nxHa2xL3Cd/GvkJzgZ7NbiS1mkH5io17DawWHB9NIUgqi1TX7RsYVTKKrLdhZG/0D+vFjxk6yT/oy\noXfjEq3e/Fcnti/XMWCKmX/WICw+cvPTJJd7EuZcyDdD1WS4tyv3gOeGZhdzfDxv9AUUIqV/ve00\nLPlzMEsPfo1pSaiLRPF+Frzn8HjUi1jMEnwl3y76od4uBBMHPUbO9kyMLX3pNfYC76zAttjwAAAg\nAElEQVTsyze7wuk41J0Hjx2kf8DyKlM0AVrPAqOowCBVjRuLWbJp5R6mzxzB5LZLbLkp+jMCIQSn\nM1wRqFo8n13YzEvLTpEUGoJFGih3LcO51MVWxOuUX8H5WBASsuPd+Wn3JMa0VfNTiis+padfCill\nTVicdBcg0In9dS4nW6dFgxQ1K+NUzHF+P9uOPi2TKEzrzYyCV1SZDLqxIzyV5Dd60nrebrDQoNfw\nWsPhwTSSUK9xSNSpQGPiCpmvOvFJeFsyX3Wq9Zj7QqewtNdiNt39eqOXerf/0Aw6dlC3NZBc7olE\nIbncs8b7rVg9Ac+9ubYU9/p4/7/H4CPJU5kxzBi4wrY/oIcLRWHelHtdXE6vi5ztmQgJhjO5HDjh\nyze7wrFYFBJ+L8GChR8zd9J5/VymPrWAoVEvUnT8RgQ6WntN4PaX7iTjjqbI3DyklFhyLra9/XbY\nIxwd+xJ9tzgjpaRVYKmmxWPAz1BEUqsQUNTui2emBNP3i5sYPkltcDdsYi904W4UtvMm4xYfNp9S\nvzKrUvZzo5/aSjbU9QKBbsUIoIWxGW3fe5MO896ss8d0656q2mBFWz/WHenJC99N4YHbPiDfrMZh\n9IF5bDWu5J7IrhTeFAiKoMNkhTXJUaw4cX+9r+W1gsODaSS7Pu5M9A4LJm8nRg0wwmMNO8++zujx\nS2wiVheKn4/6W+7nU2n/2K8WkeicTmvXXFLKfQlzLqzzOvZ5OXVx/73v2QS+Mw+1xWKBLZvaMu/J\ni1l2J/MMIASWEE+23mmuVzLSb0CAzYN59OMbEW4KzkWSiD5uGFFIL3LDLCXp2zMQEtKUM4RJM8cK\njjFz3AvMHDeAcVv/SZEEDz/3atev3PDuLcKAfSfup93pNNWDKTYwpUs3ZncbCN0uNrhbNeE4Aon7\neSjQgu8TQ7uzN+cgPf1SaOM9gZ1DVHmNdgveUpMhPar3mF44b6NNm3n0g/35ePc8Htv1Kq30CXia\n1AvbrwbOi97ON7sPM+GJscz8eQBrkqMavSL3Z+MYYBqItQFZl5EuBE0QxO8JY8OGHrS+4wYuFPbm\njV/CamxwZqU2Ff/LxbBJvWz6JPYkOqeDAqdK/Ukc91K916nadbI2kovKQREkF5UzeYL1sfsQ1fRi\nEHbkbSa+2aknPCqNn8pLbVnP09+5FaUGmYtVP1zM/eny9FuqJoy/5B/3FZBSEMuxwjakmH1J+4cz\nxgCLLRBq/4UrknqEEBTJhn20J7ddwq5+r+Cjfann9qj+/o0a3JW138VSHCxwOVUCWNMQqk+FrAmD\n+iLw33qKgW9NwD28BRsOv6XKc7ZWB25rd4kiQzICKDKodWL2q4Edtr6JsTksOxrLTAbYptldnD2w\npIeD66QaX8drCccUqaFoqvo5bhJFJ4nslUyXXkkIJH7uu8G7lFW5u4h6bV6NvY8OKD0pHtGLA8qV\nqW6YPnNEpf7SVsLLg8CibRvIzEOzmRrzIDMPza71mDAPVUIzzMO51sf+JbgJWXeV8nNwE/RJRlvW\ns/pa1k3TUrUYyOWCiZN5q5GYCWueRPOJRzAGWBACEgqDK/Wujs2az7ToLdw07VC9Hpg91mlJbWJg\nz0wbyORgXwIX7eUfpuAaj7Gy/8Q5dRUosAniSBpCQnHiWYYtXsrR+33IjlAjR1Zh9MwitT9TZtFF\nj2te9Ha6PfeOKniu5cGAOhiOD4vFV2RhkWYuFK6obsA1hsODaSiuk6B0JaEGd1KMxfgZfGh752kk\ngpzi3ug8TAgBZWEmluyKpyxaqeQe2zcIW3HifrZmG+gf0I+CL70rKaNZVeEm9I7k2KrtpEUfw2Wk\nF37/VN3n0NjerNt6kJJgaN6xCeficjB6CgIuFKI7UA45eQwfE8V+I2QNPoJ/2wK6/eZGzmcVPPzZ\n03y4fBOnjHr2lbVia24Qt/l4MLX9e5WeamrpuUrbmljyRc2aJvYc57z6bfI288j+UL7VHWPYlBzb\nilBdhXyGxbsJ6RiGEIKErS3pfGcqJYfDyR3fHsOv7iiKmRinUcy2W3b2LPuC0Z4muo1K4v22fXgg\nZlqtdUD25Ca54NuujNwkF6hFOnfGwocaFGC1b2vTJbwFxYlnMd7oS6pfCjonPeW4kF+q8NVedZWw\nz42Dba+Btfwhr6WCBAxFYPIAr10ZLDi+2Pb4fpooup/OUocl1waO3tSXibkHN7Hi5D44b0B30hWd\nkDzdbyNuHfJJ+TmEbz+/AVOgJ2G+mbQ17efnL/1xH+PEmSadyOvghM+xCg58+C+6PfcO/9f/J8Z3\nS2B4qy5IswAFQn5ThZ5S3ojAYpFI4PytAvfTWmabRdLsxxyklHA0meIRPWjzz6NqqrwZMh8JRkrJ\nlh9WY5GwvtidjTk3oCD5vGflWtKZh2ZztuQcGcUeGEojGiXlOObf7xHnVUHXAicsXVx4rvNn9PbM\nqTE/J2Ltv5FCXaFJGFt5+rZg+mI2ro9F8fPB6SbJ1AEJjLr5KFFvPIy11PnQW09XOqdSRfTpWxBq\ngwaeKjIT0eF3xr00hlOeAQSezUS3IZkHvytndPhxtmxsw4fvdwckQX1a19p73D65zn4qHJs1n5SC\naEK9xjFrQ4itrY21dUn4mjmgE6pQ1zEPzG6gL4SgOPh59TO269w64U0sFkmpv4LZW6GDwZOcV78D\nQNEpbDWqnl9jcp6uFA2tpnZMkS4Ts7sNI2HsS9wT1BudIhjfNQG3DvkoOknorWk8OfwHdi78hFlz\nNiHbmsECJeuN5Hd0BkWoW1RNkPHdEtArkmFTcpAKOI/0srUzHTW4KwgoDYHOen+cNP2QwJwidXDJ\nyWP4I4MIa+pLdqp6XvHPhmqrJyYZXKs2ybwuc4k515Iz+X4kl6cz/uWlDX4d4rwqQCeI86rgrq6/\n0dszp9b8HOckPVi0rUZs1nyiT9xAxd9XERRdRuDidHweyGBk30QUxUIHjxybQpyVBdMXM8QwiX27\nm6utZlObYDiPuhTtfIGIDr+j00lOeQaAIshoEYDFLBgdfhy9Ihk64gRCsRB+x+lKnmZVvjwUh1lK\nvjx0MeZjyRpGF9PndHEqIaUgmk0PTeXkE8/YBheATmeLwSxpfyqd+ROWM7XPTkyeoMstq6TkN2pw\nVxRFcPeNkRx8/UkKt6TQ+dYKrRLe23bci1P7MmzwBF6c2rfB78ufhWOKdJmZOW4AM8cNwJI/h+U/\nn7B5ME/cexxFgVBhotNdBex6OUjVpY3UdGm7RNrOt+TfBaUrmfHOrTzx+ZzKD9Cj5oLHmqQBFs7b\nyOZXtOnXIWt8RF09Kcyaz565O/hqhTcFjyyu5v5bs5Vljr5RerKtLmRyukkArS5kopdxpJj0hOpN\nNXYDmOLXiw0r4ip1u1TzjCQHkkPJcnEnyLeArEwvvjkdzsi+ifxzTAaLn/ckJe04D//0NDk3uZH3\n4TGEhJcmNmWrcTu9g8E59KJXkXDIl4gOv9O6MNPmwSg6yfrE9owOP87BEi8eXLOFxMJgwj7ytXkw\nVXFLU+Uk3M7bqZeYk1SZDL2JQpeatZTXPPW6utVWgTr5pdL82wKcM818q+XrgPq+2r+3Q8f35JH7\nV6HTSUBn23/Qy0xJhD95qWUNfl/+LBxTpMuIvatctStAYurdtNPtI8Wk55SMYFDLSxN+qo0HYqbR\nyS2FUJcLtPWeWG9XgnUnevBhx1CkWSAFNH9oSPUpwTd3Exl+lH3x7fDkkQbl5li/RNbga0Mqqe2J\nzZrPyYLV/N+mu5AoIMHtjECvKJgtEp0iCPwuCyEEUkrSBvnjueMkbvF1C0pZefOTbTbRLp87Ajns\nXAAY0TcrQ0k3cOTR2ksi3vxkGx06/ZfFP3cj3iWAriYfoqeuA3MS6NqhNFWzeGc8/wZJ3+XS7g5f\nFrz6rO18+8ryj6aFYfJxRp9Xzs7t1evIrFhXL60rRpb8OXT9t1et08SrxWUTnHLQcDak7SalPJLQ\not1EVdEX/2+aO8P83FEECFIu+2P3D+iHm2kfirjY9qSuAS/UaxydJu/g8NfemFoF1Dgl6BJ+FEWR\ndI9MYu6HB3HJsdh+Ya3Xzs7qxcLodmrR4bgBlzSo2GMtEIzrso3l8XHoC8HTx4XhER1twe8z8XvJ\nvu0s7v1LUX4VpPZvQ8jYG5lRQ1KgtSOnz6O3cMzJhC7fgiuqaFecPg+kQKDH+XfverOnmw5KJzqz\nOcXhZjgtiNPn2QYVe5K+ywWLULcXi+0rvR4LfdR2unmDBBHr/o25yMCk5j2ZHv4eKxe4smljGJac\nPLp2TiX+x04MnfITw+Z2YtPsAHz8e5NHU0LamSpJY1yLOAaYy0hKeROktq1K/4B+pBSl0NrlAp5O\noZf9sZNPBXHwxT6U5/vi5V9Iq/kPsevbQrZsGkzHwQlE/bfy8VFNXyDqixe4321xrVOCnOLe+Lnv\nJvZcKFETj/Bz7DnefzeOcPcmvDtkOSPcjJwK2cG7ljBW7DrI8egfSf/ZHcVvKEPHKMwYoaa9VxQH\nEPt7E0ye0EnnT+72C+jzy2mv05OyfR/DpmQzeb4HvxSfBQlG0ZW5/ZdUCqS++ck2vFLMJKUf5vz2\nA7h66eF2F4JuzWBLz5q1c+FiR84EpQIsAounwC0b9AXltC4p4rSnP3d3jmLu4/U3RtuWsQMhBMFB\neZw4FUxXU+WkRmsQOOpmAwW/Gml3h2+NgeGBTyygxF/B6Cmw6PVITAh3I8vjD+IV58/2TcGAQPj6\nEP9jhq1NzmP/Ocfm5f64mJMJVpI5t6YLzb2ySS5fy7KU3HpXy/4MHEHeP4A1X8GaEj4goD8KCgMC\n+lc7dopvMk/6n6arczlFxpTLasewxUtZHh9Heb4vQggKsj3p0vIXtmxqi8WikPh9q1rPXbLoIX5d\n+1yl6ZE1aFr+volxnqWkuvgiFPCOyrMtwbY2mFQ5ToMZpMRQKDlR6gO+PkgEWzaYbfklTu6ZNrX8\nw6Zsm+xnSlqBLTfGTx7V+ijVnKmqyihIkovKsZgtlKw3oqDQP6BfjSLdsVnzWXeiB/escELRKURY\nnGxdAH6Jfpa3vtYxfdI2Vk821ZocOXzTIjqu/TfDN6nNSzOLtZyVYnei7zGy7tnK0zFV86eQuF5O\nfHdwHgtefbbGwHBpajlGT8FH960hbsqnLO60BXORHqccwdIzXajo7gRIZG4ekbcbbW1yUkwGmvYT\nPPqfVDadjuezLqdsHRi2Zeyotzzhz8DhwfwBVu+Ox2yRtpTw+0Kn1P4rUrqy3mAgqINF1WXO+rDm\nXpQ7VeBc4YSbr1oZfcfQk2zZ3BaPGSGV3PDavlCq3uxBWn+0ByxqecP0l80IoRYUXsj0Agnh7k0Q\nrmogWnGbxKSWZ/l+VzAtnTPIyi1D+Plw5ygdx7W094riADWnwxM66f3J5YJN9vPUUcmdU7KJLQ5A\nimKopcarjYuB5KJymlkyyNNJbr4nh+Gto4hqOoVtGQ9WS5RLKYhGYsazWyJbjdXjbtapWFUWTF9M\n9K5jmNsEknVPcSXdn6Y6PfvSmtPdr7DGc2vS/DFkQ4UfGHJUL+yZaQNxbe5MaWEFvQIvoAjo5ZnD\n38t7saQwHoQgw8uLQ/GVYyvLUpYz7/xP6KY0ZfigeHQ6yQ2uvzO0SW/0Mo4jOc351SOiWnnCn41j\ngPkDTOgdaYsL1IuWqKe4TSLKu/YArH2iVkNpsekUhu0ZGAcEsvX71237b+gDj/8HOq+fqzaddzdW\na9Nqz9eH47FIQf5NAfj8nqGVNegY4OvBzrxSJkd2576RdgOolqbeaUQPIkaoKvuxZ17l68PxZHWO\nZIF92r39Z96ufit83b9ZBCw6BIljqpcyWAOjHSf4cW60H8vPxKHTq0HkjVqsqSY1v1Cvcbb4U31Y\n8ucgS7/mlFFPbkBTTKFqPEPJ0GMJNNl0f77o9xYP957JqZizTIh6DI8PK2yrdjMPzebGZucoqdDT\nxWOk7dpORQqGIkBKW3nAtnfVqqzM9J9s+SzPTBtIzL9Ok1CWT2BOUTXt5B8zdoKQyPAMtmxqw53D\nTrJlcxucBxxGCojwPYe+EHR5ZvoPnMe4/pG1trS9mjhWkf4g9pm3l+OXo6EejH1v5PUvLUNYQCqw\nzbS62rFzD25ixal9mCsEit5Cp5Q0Vj0UUq2OxerBWBXzG9of2z6YPHGFM2Yp0QlB0oy6VzjUL+tx\njB198Hovim8GPlrtGOuqVFxRc06VNKVbuZEnOsZwyqin0GVKg2y0ZsiOGty1xiV+S3o4YMYiYUOR\nBwsm3o65TSCj7+hW7XirzAJAyG4vFBQ+7/kJU2MetO1f2vNiq5Nh41/HlJRPSbAzo8f1qVVT2Z4h\nhvFYzAJFJ3nk6ElAcji7OckygPQMHzr/msnRH0IZOr4n7n234Bmym5Qjnfk1vSleUXkUxPpQ/qEL\nlsRjlyTw3hAauorkGGD+IN2ee8e2fHrw9Scv67VrY8H0xUQnpGPyccZQUEEL/1LSoo8RMq4Dy1bW\nHvC0ZpRilhy5eSVKUOJlscc+s/Rv+4c1uC+Q/Zf1B0v1gREuejBtdIJIlyLiyzzYcuANVvwWh0Dt\nsJje6jebB7Ogx6xqfatunfAmRT5qC5PJfbvhkmOxLVWP6x/Jo9P32zyY+gYt66DoExVg82D2Xkix\nxZuauzZjXpe5tuOHdJ2FkCAF9I06zq4vLbQba+LMtMHVBtRlKcv5MXMnGYVuZK+CkeVH6PRiDhYJ\nh4pbsPJEdwJEEe/e7Gez0Zr9C9DmuURVVdACGeOdsaRloegkgz/4e50D7KXgyOS9CszesY3CFmYq\n/CyNFohqKMMWL6XNu28ybLGaTZuZPpJvF32HycdZ7bPk7UyY63HyHwxm30R9rcWWAJ3T3MEs8TKX\n03713xi/tuZmXw3lvWkPM8Qwnq9fKLRl66YYMxACUowZdZ67LGU5hi5qgZ9VG6UmrAV+kS5Fas8o\nlyKb2p9EjYNVLVas2nlz1OCuqki4EKzeHc+G7+NsgebNa2JQvOegCzpGWIsj9XpEH++exw+W1aze\n/z6f9/yEO1xW8XazZTwZEIuUVBpcAEK6N0MKdbvrSwsWsyBprd6md2zPjsyfAEmARzFFQ/xZcsOd\nRB+6kZSyJpwqa0pFqjvpuf6VbLRm/7Zu4U/BQV+QAv+cdoR3TkfRSV5bfYHHhz7G4+N/YcP3V1/m\nwTHA/AFWpsZgaF4ELcuvWGCtakzGTx5l2JRs9KcyEMDoO7qx60sLRYP8kIqgLMxU6wdp9ePPkTh+\nDtmZflikwsFzDa84rgmrxs3m5f5YpNq8bGJod3RCVGrZUpW/9X+JL8I2YGhfQfPdPny8u1qPvmoc\nyAvEItWtdTAXqHEwb11rWykFVG/T+8y0gUzu2w2dIpjQO5JRg7siAENBBc5NXRnSdRb3PfpBg57z\nm59sY29CT0zn27M34UabVGmkS1GlGJCVzz/7B1vjXuHzz/5B33sUFJ2k3VgTPiXu1Rrd9w/oh9oP\nywNToR6J4PfT7TlSEsr5DF9AYCoyEPns2wz48EWWpSznmWkD+Xn1M3zxzgOs//sbLO21mP2fG9jn\nfhOlo/sQ2TsDnU4y6ubEShnTVwvHFOkPELHu35pgI7ZmZ5cLa6WxS6ovOeYKW0zGOh2JL/Pg1dND\n2B/fhDu27yImsDnFg/1wTjIwxb9Xna7w+LUvcvCcF92aFdCidRY5xgr8DE68HfVRo2ycNONFEvS+\nRJhyWbng5fpP0Biom4CQgAL3Jo+qdeXtla9fZc1+A+O7G5l11/ONsq0u7Nu7Gv911jaF2RpX+/TS\neg4X9BwesdSWrbzvrD89WmQ3uvCw23PvUNDcbFP9fMxNnb7Mi97Oyt/iqPCwUOEr6WryYd2zD9ny\naZQCiVOOAkLSY2Iin/esrl5mH3N6auKvlTKBrdTXdbI+HJm8VwF7tfjLzaqU/ZilpKx5LidHX9Rl\nCQj6hvv2qMuyLq6ZSJqwpX9fPM7CCF0MW7P78Mzzdc+z14y9OBhMjfkbIMgxVjTaxoNBPhg9JAeL\nfOo/WGP8y0vJeKIPzqnFRGaZ6vxwr9lvwCwV1uw3MOuuRpsHXEy1TzI24VB5ESbRleTy1rbl5559\nQ8jYlUZg35Aaz7f2zDY0V/NNZBMTBwp8SDD5s7M4GJkQxNKe/6lWZ1UfE3pHsuxoLEYPcEuTrEuK\nxTmzlNV5J1SphkJBQAKsW63m2li7GMyL3s7K3+No0jZX83iqU7mmaaBttc+eHZk/YcHCjsyfrmiC\nnmOA+QPM7jbsiqRox2bN50bfk8TktK5x8LIuy5aVBiAAfRG0DWjK1l19Gh0L8jM42TwYgBGPvk1u\nhgnfQD0bP3iqznOtQkimumV+K3EsNxuEoLy5O5+tqnuVqXdECrsTQrmjy/FGK7jd/4iaoexbUUHF\n1k4MnZJNi1lqEl+Ycx+bB7Psg7oD0dae2eYiPToPE95lnjy8+G66jj8MQqJEVI+lNISZ4wYwkwG8\n+ck21iXFos+v4NtVeyh7yYDM0eMR41rjlMZaTPtH6R/Qz+bBXEkcU6RrkAd+up89Oa3o5Xeaz/st\nuaqPffO417H67T3GwvZYhfYdzjJyUI9qv3S16aPURU2Nx2pizL/fI86nguDAXH7qtwZFSCxSodue\nu6vV3link6OjE/khvz0lbb0xFErcciVIiev6GBSdZFriiRprpN6b9rBNzrTqku7EnS/g4ppJRo4X\nt5aMsH25rSs+mUXu9PEbXOcPTWzWfDzLltPaYEK43lVtkLSmHOTdALnD9UgJR8de3in35caxinQd\nE5PTGolCTE71oOGVxjdQD0h8A/Vsj1WQUuH4sRZ0lm9jOt+ezPSRLJy3kf4D57F9YSyDyhKJaLm8\nwddf8+LUOrsVTH1qAUO6ziJnXyZNfyvhfIYvKzPaYZEKKzPCMEtJccWnrDvRw9bTyDqd3LvCSElb\nb1AERi+12tjXKFF0CsMfuYPxYbE1FmDaC7JXxcU1U+0S6VdQyXO4L3QK+9NakpLvx6qU/XU+55SC\naEL1RgSyRrlQq+So39jmqtxmIxr6Xes4pkjXIJOuYGynPuynRU9++TrbY6F9h7NEulxciv521R6M\nbb1xyizlxBeBOGelYBw5hrvaJqK4Ta72C121qruqx2Dv1RRqHQNczoALFeQMMvDKqRuZn9JTW6Ha\nT0+/FCTSVjU+MbS72kZksoEfTuRT0tabCFdvVq59kIZQmyD77B3b2HUonMCAXLqHuVY7zzPLQK5/\nBSK9gmUpVXs2XSTUaxwpNg+megM5K41RDrxecEyRrnGq6oH8Wdgn0414ogeuF3Q4Z5WqTegUyTeb\n1/DRzBA2LfenVfcOpJYrDB3fk/IAV0YOeZzWBhMpRgNhLY9UylTdalxj6yCAlLTsm4J/82KyU90J\nXtuRls+1UgfbEAuzWqqvQ1yFMykF0XgYQtk8s4CEFd4Mf6R+LZjGMP7lpcS1SkXnYUIWGzhWQ+vc\nNm+/gc6/HJ2HiQjvNO5uuZf9Ce3xMD18TdUDXQkcq0h/FbRuBpaSr4ircG5QarzVI3DJNjG1ffhl\nqUl5ObUn+eameOta02RQCxKLL9A+xgkloYAmfUJYcSKcTcv1WMyCUzHH0XXuwOY1MRSF+fD4cLXy\nOtSgFgFaPQbXf3Wk3YK38A12pvR8OR18/XFrfgQhIHtfIGcCy8jbeIHDL862pfPPiD1DoavA0zSe\ngUFrOLIiFGn+410Pn9r8Ktl+SfjntOPtoc9zLDcbXSeTrWl9TXQtcCKxlVoQebQgSNXOiTjOrJ9/\n54u1vxDmHMTETu78mLGTCyd8ucn5zr/8wFMVRwzmGid+XyQWCb+WOXOqYFWlXsr2vP/rKNYkR/H+\nr6NsKzVl/no2r4m5LHbYZ8tadWe/+/I5Nse+zLIPHuXlg33xGSYQOknQDb4oOsHQ8T0ZNbgr0TGd\nMFkEsenqisXjn3zMVuMajjTxwywluS7lPFzhReHczRSd9VR1hMtdbU3i27z7JsO/eQDQUegqEAIK\n9UmcKPUlYJwZRUeDOkfWRbZfEkJRtwAdfP1RzhtAqukINbHupce5u00PhISwomwsFsH+hPbga7It\ng2/P2A5C0rRtNit/i+PWCW/Wmmn9V8QxwFzj/HMMzPs4mGyz6mymFERXOyY2az5BQWdIKWtCpqfF\n1mDdJdtUrRHbpVI1W9aeZSnLuannUSa8kczfj55g7MoDFHTVsXHVHtbt+pXJo9bhFHKMG6MqJ4Xd\n1TkSnRDc1TmSbz76HovZQuHkNJb1+tT2HDBLEFCyKIs7B40l51lfpITCdFeaJ7vz2VsJPPmt8oen\nR/457ZAWdQtqMDrhsX+ROPalOleIdn56Ct2vnqT+3JrTO//L/FErCHMOQkq1Gvs29/OquLr7eaSU\nFPnwp6Ts/1nUG4MRQrQAlgGBqOUfH0sp3xVC+AErgVAgBZgopcwVQjgBi4AegAV4Qkq5U7tWd2AJ\n4Aps1u6TQghn7TG6A9nAJCllinbOVMAqWvqKlHKptr81sALwB/YD90op68wWux5jMPdNmkVa9DHu\nWGKkbZ9Uzpa1Yl+Rj62wD1R9XalVA2/MjmJpr89sRYI//7sjR78yg5837t3CKMkopEWXEIw5mZz7\n/ggunUMwJqQxbEo2ef+4lbZO+5gUmMzx3BAS9HkUpvUm1tySloE/EupygcOp7WgTOpIfM3ZyPsOH\n3p53cNZ9JXf7Hqe/x3lSTAYKXabw/MBiW4Zs4EfnCUxrzevjatee7Rs1A9f4dEojg9gVu8C231pd\n3m5xjk2H99XtHjz+qI4f3/0UvSJZlt2WHcUh3B7Q/4qrulkzbQ2FFu6KOMzSM11s8SPfs9LWhmT2\njm18u/Yg/7r5V0bdnMjquAjm/3grSEn3Yi8yY07bemFdj1zOZWoT8IyUMgLoDTwmhIgAngd+lFK2\nA37U/geYBiCl7AIMAt4UQlgf50Pt/nba3x3a/geBXCllGPA28Jr2JPyAl1DbYSMGU44AABh/SURB\nVPUEXhJCWLUdXwPe1s7J1a7xpzH+5aV0efqtRrX4qA1L/hws6eFY8udw4C4nzq3uzBKPGxjTdh/7\ninyqiSt9uXco/7f5bpbF3UJ+rLoSopdxKAKOrjAipURm51GSUYgAzh5K49z3RxASyg6n2VTlVp2T\nTAhMQhEW2vumougkniG7yXNPItRFFUfq1CxZLcoTkqDAXFZl/sb5IleW57Tly9y2tDFY2HgukjOz\n9WQPUyi5AYQOMkJq7ppoZeisMVx4ui9DZ42ptN86HbPWF3nIAozxK9nx3mIO53pjlrCzWO22qBYL\nXn5m79hGuwVv0eO99/k0NZYyXwsVHoJvdoXTtKLYpuhnnxj39eF48toJXsi8FUOzY5wqnYFOUau5\nT5/IoKC1F9E74q+IvdcS9Q4wUsrzUsoD2u1CIBFoBowCrN+mpcBo7XYEsF07PhPIA3oIIYIBLynl\nbqm6TcvszrG/1hrgdiGEAIYAP0gpc6SUucAPwB3afQO0Y6s+/p+CNe7RmBYftbHwyZ+5s0UnFj75\nEwd7fcWs1nttS9bWqYqT8OSBmGksS1nOgQxvLFLhcGorbtGpY7ZJdMUioeNkA0IIhL8PboGeSKBF\nlxCaDe6EFODSOQRFB8Om5DCxmWC1lnNyPLc5FrOgMK03PsXtSClrgkXCkXNhavanFKRn+CKcJAHu\nxSAEO4uCwXWSmheiCEp76ek93AVphtTvmtHlqbeYNKNyBfebn2zj1glv4pJj4eDrT1YLgs49uInO\n6+fS7LXObD00j6Jj57khogRFQDz+PHT2FqRUm5p5Frb9w6+97T2Yt5E7I2cxpPl0Vpzdg65ZITmy\nzNbK1alIMrJvIitm7eXQW09z4JNnKtV/2U//QM3AtT4/k7daCW/0cmKIYRILpi++bHZfazRqFUkI\nEQpEAXuAQCnlee2udNQpFEAcMFII8TXQAnXa0wJ1upRqd7lU1IEKbXsWQEppEkLko059bPurnOMP\n5EkpTTVcq6rNDwMPA7Rs2bIxT7dRdPD1t+Vy/FE2LffXvAp/ps8/x11BJ1CC1DjAgh6zmHtwE8nl\na21arD6GG8gzlhHu3gTnjFKGRr3I0PHjmD5zCeO/AL5ovA0RweovBe3hASAz/Tf8ZDG3diwjIOii\nNOjIbR+QWZxDgHsR/QMHMOdAEMbCGHQexkoZt11WvQWKIEFfWVz8q73xVLQQfLU3vsYCTWsS3aqU\n/czuNoxh9/txIMGNGyJKuCBNjPA7QEpZE5Z+PhSdIuD2mp9PXdm6Vmbse8WmK3NiTTkSwNcbnbsR\nhEBntmDWKWrh6ccXEwWtZQn23SCttUM1MfqObmz4Po4SUUr+9F4sP5TEjFrfieubBg8wQggPIBp4\nUkpZoDoRKlocxRrM+QwIB/YBp4HfAPNls7iRSCk/Bj4GNQZzpR7HPjO1quBRYxn+yBC+XfQDfe+R\nmCUkm6MIt7t/Vcp+mnt58HTzg/T3TGeFMYd7b17H+JeXsig3CUN3H6J3xF/W+f2jH3ThWNFtdPDI\nZo2d5ElV0aR2G9/CLJ2x5Lkwe8zF4GiEKddWeW2P0VNo2+qPacmfw8SAJFZltGNiaA+WpSxn/zQL\nW4r60SdjMBEes9Tlb5cLNimG2rDP1n1cizUvS1lOVtEyQl0v0MZrQqWVsqHjR7Np5R5kbj6dz7Ui\nsWUpdw2IqDHgW7UbZH0qh9ZixMin31a7dEb+dTJ3q9KgVSQhhAF1cPlSSrlW252hTXvQtpmgeiBS\nyqeklN2klKMAH+A4cA5obnfZ5to+tG0L7Vp6wBs12GvbX+WcbMBHO7bqtf507AWPMtNH2lLsG8qM\nhQ+x1bgS92fz2FDszua8yvq8E0O7k1rgT3/PdHRCcizflzbvvUGcd7rmeqtCVJeTY0X+6hSwqG4P\nrerUwMrKBS9z6O2nq8k6TLqpq03tvxqlK5nVZi/xfVYyu9swmyBTU/ciVpzYyyfhbTky15ejuZ0q\nTa/uf2QxN499nfsfuTj1GHa/n9aC9WK27o7Mn2jlkoXQsoLtV8qmzxzBlvhX2Jq6kC63RtT5nMOa\n+oKUttYv9mLwNWHtePD4xGR0iiDcxYuhUS9WaiP7V6FeD0aLd3wKJEop37K76xtgKmprqanABu14\nN9TVqWIhxCDAJKVM0O4rEEL0Rp1i3QcsqHKt34HxwHbNK9oK/McusDsYeEG7b4d27Ar7x78WCA3x\nsnkwVkGimnoz13sd1wsIbWuf0Tu72xx8F59n01E/ht2bzYoT4YDAjA7/gyVUeJgZPfymy/qcXPSC\nMpPERS/qPK6uqYGVyM9fI7hVGoHuRQzs3p+D42qRGtWE0nGdxMJ5GynSu+B6WwlZxR64f696JL9+\n5cfWpZVroWrqL/34Jx/bPBcr/QP6cbroNKGuF2jtNY4FbasnMS6ct5GvO6oxpVXbDrPmi+NIYPJN\nXW0D2pJFD9m8lnnR2+sVg7d2PPBvuoeDr7/P0KgXKfFzYcX+o5R/4nrZZC2vBRriwfQF7gUGCCEO\nan9DUQeWQUKIJGAgF3vYBQAHhBCJwD+1c608CiwGkoETwBZt/6eAvxAiGXgabUVKSpkDvAzs1f7m\navvQrv20do6/do1rgkVb/8nWQ/NYtPWf5IiONrW3xtLGawICHW28JkDpSt5fEMnwfhUsnLeRbxf9\nwPv/as7QVl0JCMgDJHqLGZO3E54ny3GKS7msz6mwdwGmWwop7F1Q7b6q/aHqo8K7jEBrP5/zO3hk\nyGuV7rcGft9edTNKUCKK9xw2r4mh8EtvLvw9hC0D3uVeS1k1j8RKVY+iNu4LnQK//x/vPn8P29ff\nWOMxm9fE4LHXgu9GE82+KMQrsQhQvZTYrPlEJ3dnbswIjjX/kqa3pLLsaGylgG5NhHqNQ6Aj1Gsc\ny1KW0/TD85h8nECIv1yOjKMW6RrEPthozXWx5M9heL8KLBYFRSe4s28rNi76HrfRBsa+fidZPwSx\n7ruD6HPLcDp2Hq8pBXiOc7lkxbKqRL0/j9JgE67n9cQ+NrPSfY0VPrd5MG5FlO50o+BLL3R6xZYX\ncsv4N9Q2KwJ+WaP2drbvonA5Y0tW0WxFEbYcFnusjystEqnl9aQN9GfyTV2J6PZ/F/OPcm5ASti1\nJ4ITj1e/Tm08EDMNCxYufB9EYZzfZRXmvpI4ugrUwPUywFgV66SEZb0uOmYN+ZK9PHUAv37lR9Av\nXqAIQLA/raVtRceqnWL9v6HSiUO6zLQlum09VFlDt6GtWyxZwyo1ircGwykpRbi7IaVkeL/WfFGc\nj6FAYvRSYzOXWxHfnjc/2cYv5u/wjsrj9sDban0NampoH5s1n5P5aziSE6K1FPGlt+cdDdbGgT8u\nXfln4RhgauB6GWBq8mAaiul8exSBmt1a1Iy0DG9OZTXBxd/I4dGz6bx+rq1v0eHRs22/oNb+PrVR\n08qYtbH88EcGNShV35J+sXuAEnTcdnvhvI1sXLEbysoRrs5YcvIobioYOmssW1fE1ulhXA6sr0H+\n62WUrjfV+Hzqep2sxaXuhSY8Pt9bb/uYvwIOwanrmAU9ZrGs16eNHlwAvj6hFhbqKxR+3RPOiZQQ\nLMUGW6JeVdX//gH9UFBocrZVpZUMaxzEWpiXZTKDEOpWw9pY/ttFPzTMOF27yluN6TNHMLxfa86O\na8rxB/1IndISj8PpJLf4mo69XVAU0ShF/MZmVVtfg5L1RtvzsSb4zT24ieGbFpFW5IaUVJKYtGZc\nj+2+HoSg2FOPsEBa9LEG2/pXxzHA/MVIMj5G5O67mZfSE52HEZ0QTOnSzZa/MbvbMA6Pnm37/77Q\nKXze8xOOvFKOxSxt1dfWZvPWoGNxVglC21oZ/sggTS2u9kpmS/4cTGkdiV41mrfXP4USdByl6aZq\nx81Y+BBlwXoQUBasp+ddBViwcLhZGqk3w5ITcQ2uQrbPqr5vz4MM/uZZW2sQK8tSlvPG4UGsSY7i\nTNZ3fN7zE0Y8Mtj2fOwT/I6m55B0uAW/HQ7jrfcv2ILZrxxJIvL3iRz3dgMpcS80IRUIGdehQXb+\nL+DQg7nGePOTbZW6DjY2oDm3/0D0B8tZlbKfu27oUi0xzKqj2yfRhbPHczF5OzP6jm4MHd/TFt8B\ntaGXNfYBoDdXYFIM6C0XtVFmLHyo/qlR6UoUxcLIvonc/mRcrXGU2Tu2oZSDxRnC3ZvQbu59nM7Y\nQZ+mSfTunszu02FsWESD4jDWrGp351KEgKDAXL4+toc1a3cxuU0PW07NMD+1vqqjbwKZ6SP5x8yj\nTJrVkYCgh8i1i1UtOaOmGFiKDbb8lpnjBrAqox1mBGsy23H4LU3AvPZZ5v8kDg/mGqNq18FLweql\n+C4+X63WZWVqDLpmhWTsSsPo5YTkonyAlJKT+armjCFmFa7rf8cQswoAU35JpW19LEtZztSYhxiW\nMIiXT9zIN7vCa53mzNj3CiluX9MmMhWdItj00FTuC51CmPNYerdKZtdcfw7daSHsgrpEbl8nVFMd\nz5oXpzLhvg74DspESjif4YvOw0RLnxySy9cydcm/yN3vZauvOpobYctX2p5/gTXJUbT3XM3h0bMZ\n0Syem1odRyBxOweuOWoXz+hfRnGg99fMbB3D+IAkNrx601+6puhScQR5rzH+qAdjZe7BTfzcYwnC\nov5vzRn5aGgzJOD3rQmn0y42D+bHD37CYpYIxcLD0d/zUcfQSrKWd0bOsjWZ2xJffwDTGhSVEg6c\nb8Vhu95O9sRmzefJAxfILPEkwK0I72NdOHM217YiFZs1n+dD9mu2wFbjaoZGvYjFLJFSUq6vwBIW\nVOcq07zo7XyZsZse3U+oq3MWCE0qJLJXMm19JxDV9AWbJOj6YndbUzXLgRaMvvkYa/eGs3BZX0DY\ngs0V5zugF9K2nG42wZsHWhAWkVNj54K/Go4g73XKM9MG8kv0s+zYNvMP5XusStlP8WA/pAJCSFsd\nzuTWPdAJwZAZvdmxbSa/RD/LM9MGMnR8T4QC4YPPcLLUz9bm1JrINmxSL3KG60iZY6DDF/+pFtOw\nYk3Tz/2oA9Y2qHWJl6cURJNV4gkIMks8OHM2lxJvM5+mxjJs8VKimr7A0CnZKDrJ0ClqycTQ8T1V\nLeDcfMxtAinygSWJ8bUm+s0cN4Dbe1ps/4ujgUT2SkbRqSUCC+dt5P47u3Ik8SZMZjcsEpJPBDH6\n5mPoFcnYGxMBbMHm8S8vZU1sBCaL4HiRD2aLYPPyJoRF5KAIVSqj49p/02HxPAbMWPiXLQNoCA4P\n5hrD2klQXwj3dYy6ZA1X+3wXn/c31FtJbKWu5VjrEreUYD7nSdKMp20xnRsu+HI+IQeL2WITYPp1\n7XP12hmbNZ93jhzVWrQI2hPMobOFtpaq/xl+CH/LSW7zSGdnURCD2v1c6fw3P9nGksR4tdq5lkS/\nmpbY7TsdzBxcgsUs2bhlNTqdxGyG4b0G8uBbZxl983HW7o3gXOZjPDNtIAumL+ZjQwFWN+fQ2xeb\nx1lFvhIKg/k6pRdSguFXT5pty0HRCTbHNry97rWOw4O5TrF2EjR6UGuxXEOwXy1SQkeg6xyOElq/\nR2Rdsq2p49/E0O4IwFKkx+Wc5IX3XuOrw7GYpST1cLaar1JqalCavpWopi8QmXSvmiIr4ISSjnA2\nARKcTehlHInlnjx89mbSZLdq51dtbL9g+uJqcSf74lP7xx3Tdp/qIY3vCQps/rYNZrNg8xd+WNKy\niK2ADcXu5LcKtk2/vl30A67x6WCRuB3KqGTL5LZLGB8WS0zaKDXrN0dPU6OTTZ+4Jtv+6jg8mGuM\ny+XB2GONWVyuX1Frer1QLLSakszuM+3ofqEJ5xNyLjnj1t7jWnFqHxI1k/me1nsI9zzf4LhGr4H/\npKRLIG6HMtiz7TVis+bz2sST5F4IqFM+487tTyDmWDDnetEtKJGDOxUeSjiJTpFYzPDJuKEEPpSD\n6FVO8Voj+W+UMfLRhrVKsTajd1m3B2lRG8FtNVZvwHY94Whbcp3SkGrkxlJ1CboxxGbN51TBakDS\n2msiUU1fsC1h971F0rPzAZ65qTVRTR/4QzZW7fP91Un1h2D54Ztr7ElUG6WRQTaNFbVl6xcs/8pE\niklPWIuEGs+ZF72d1N9aYeggCWqVzWuzVEWSRQcfxc99N4lbWyCEgJ4VoAg8xhtY89+Gq3hZc4qM\noQE4nc76wx0QriccHoyDGrHWPT24ahNCUT8jAh1j2l6d1+9S+l5D5bqoiG7/x0i3Altd17pi9xo9\nIWuxJlLic9bCL6ufrXS/NYYT+FAOSp9yunh680z42w22yerBXC+FjA3BUYtUA44Bpm7siyk3r4nB\nYpb0ffgwne48g70Hc70QmzWf0IoleCmSTJMTv1cYsEg4/85jfPPR95R0CWTorDHIihhW7XPCUCi5\n+8a/ziBwJXEMMDXwvzrANLRi1z5WYz+tul5ba9hjXeExia583rEUi9mCFHDjWh0v9zygFp6jQwlK\n/LNNvS5wrCI5sLEj8ycsWOpt6zF0fE/b4DJ95gg2x778lxhc4OIKz+S2S9QYiCIojQyiR6ckUkx6\nLBJVQc/BZcXhwfwPcL1qjlwN7PNhrqfp35+NY4pUA/+rA4wDB5cbxxTJgQMHfzqOAcaBAwdXDMcA\n48CBgyuGY4Bx4MDBFcMxwDhw4OCK4RhgHDhwcMVwDDAOHDi4YvxP5cEIIbKA0w04tAlwod6jrh0c\n9l5Zrjd74crb3EpK2bS+g/6nBpiGIoTY15AkomsFh71XluvNXrh2bHZMkRw4cHDFcAwwDhw4uGI4\nBpiaqVsZ+9rDYe+V5XqzF64Rmx0xGAcOHFwxHB6MAwcOrhxSyuv6D0gBDgEHgX3avq7A79r+jYCX\ntt8ALNX2JwIv2F2nu7Y/GXiPi96dM7BS278HCLU7ZyqQpP1NtdvfWjs2WTvX6RLtdQI+1/bHAbdd\nbXu1+32ANcBR7XXrA/gBP2jX+gHwtTv+Be1ax4Ahf8Jr3GB7AX9gB1AELKzyvK9FewcB+zW79gMD\n/ozPRIO/n3/2AHGZBpgmVfbtBfppt/8GvKzdvhtYod12084N1f6PAXqjdUcF7tT2Pwp8pN2eDKzU\nbvsBJ7Wtr3bb+iFYBUzWbn8E/OMS7X0M+Fy7HaB9oJSraa+2bynwkHbbCfUL8V/geW3f88Br2u0I\n1MHQWfuQngB0V/k1boy97sDNwN+pPsBci/ZGASHa7c7Auattr2OAgXwujt4tgATt9l2oHoIe9Zfr\nuPbiBgNH7c6/C1ik3d4K9NFu61GTl4T9Mdp9i7R9QjtGr+3vA2y9RHvfB+61O+5HoOdVttcbOGW1\nz27/MSBYux0MHNNuv0Blz3Crds2rYnNj7bW7/37sBphr3V5tvwByUAfzq/aZaMzfXyEGI4FtQoj9\nQoiHtX1HgFHa7QmoX1pQ3dBi4DxwBnhDSpkDNANS7a6Zqu1D254FkFKaUAcDf/v9Vc7xB/K0Y6te\nq7H2xgEjhRB6IURrVBe4xVW2tzWQBXwuhIgVQiwWQrgDgVLK89ox6UBg1cevcr2rZXNj7a2N68He\nccABKWX5VbS3UfwVBpibpZTdgDuBx4QQt6JOMx4VQuwHPIEK7diegBkIQX1jnxFCtLmG7f0M9c3d\nB7wD/KbZfzXRAzcAH0opo1AH6OftD5Dqz5y8ynbVxv+EvUKITsBrwCNXyc5L4rofYKSU57RtJrAO\n6CmlPCqlHCyl7A58jRoHADUG852U0qgdvwvoAZwDmttdtrm2D23bAkAIoUd1abPt91c5Jxvw0Y6t\neq1G2SulNEkpn5JSdpNSjkKdmx+/mvaiDnCpUso92v9rUL8QGUKIYO1xgoHMqo9f5XpXy+bG2lsb\n16y9QojmqJ+d+6SU1s/21fxMNJjreoARQrgLITytt4HBwGEhRIC2TwFmoQapQJ0WDbA7vjfqvPU8\nUCCE6C2EEMB9wAbtnG9QI+0A44Ht2i/KVmCwEMJXCOGrPfZW7b4d2rFo5264FHuFEG7acQghBgEm\nKWXC1bIXQEqZDpwVQnTQdt0OJFR5HPtzvgEmCyGctWldOyDmatl8CfbWyLVqrxDCB9iEGgDedbXt\nbTSXEri5Vv6ANqhxijjUOMZMbf8TqL/0x4FXuRhA9QBWa8cmAM/ZXasHcBjVe1hod46Ldk4yapS+\njd05f9P2JwMPVLErRtu/GnC+RHtDUYN9icA21ArWq2av3f3dUKdp8cB61BUHf9Sgc5Jmm5/d8TM1\nu46hrWRcTZsvwd4U1GBpEapHEXGt2ov6A1SMmuZg/Qu42p+Jhv45MnkdOHBwxbiup0gOHDi4tnEM\nMA4cOLhiOAYYBw4cXDEcA4wDBw6uGI4BxoEDB1cMxwDjwIGDK4ZjgHHgwMEVwzHAOHDg4Irx//wf\nPkYcc0yYAAAAAElFTkSuQmCC\n",
      "text/plain": [
       "<matplotlib.figure.Figure at 0x18fd09be240>"
=======
      "image/png": "iVBORw0KGgoAAAANSUhEUgAAAREAAAD8CAYAAABQOZBmAAAABHNCSVQICAgIfAhkiAAAAAlwSFlz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\n",
      "text/plain": [
       "<matplotlib.figure.Figure at 0x1b46bbe9208>"
>>>>>>> 6e43ba4dca69e340b79d1a3d9b929f6bae11c8f8
      ]
     },
     "metadata": {},
     "output_type": "display_data"
    }
   ],
   "source": [
    "stops.plot()"
   ]
  },
  {
   "cell_type": "markdown",
   "metadata": {},
   "source": [
    "# Create Buffers Around Bus Stop Points"
   ]
  },
  {
   "cell_type": "code",
<<<<<<< HEAD
   "execution_count": 82,
=======
   "execution_count": 18,
>>>>>>> 6e43ba4dca69e340b79d1a3d9b929f6bae11c8f8
   "metadata": {
    "collapsed": true
   },
   "outputs": [],
   "source": [
    "buffers_third = stops.copy()\n",
    "buffers_third.geometry = stops.buffer(1760)"
   ]
  },
  {
   "cell_type": "code",
<<<<<<< HEAD
   "execution_count": 83,
=======
   "execution_count": 19,
>>>>>>> 6e43ba4dca69e340b79d1a3d9b929f6bae11c8f8
   "metadata": {
    "collapsed": true
   },
   "outputs": [],
   "source": [
    "buffers_quarter = stops.copy()\n",
    "buffers_quarter.geometry = stops.buffer(1320)"
   ]
  },
  {
   "cell_type": "code",
<<<<<<< HEAD
   "execution_count": 84,
=======
   "execution_count": 20,
>>>>>>> 6e43ba4dca69e340b79d1a3d9b929f6bae11c8f8
   "metadata": {
    "collapsed": false
   },
   "outputs": [],
   "source": [
    "buffers_tenth = stops.copy()\n",
    "buffers_tenth.geometry = stops.buffer(528)"
   ]
  },
  {
   "cell_type": "code",
<<<<<<< HEAD
   "execution_count": 101,
=======
   "execution_count": null,
>>>>>>> 6e43ba4dca69e340b79d1a3d9b929f6bae11c8f8
   "metadata": {
    "collapsed": false
   },
   "outputs": [],
<<<<<<< HEAD
   "source": [
    "buffers_third.to_file('Buffers/Buffers_Third.shp',driver = 'ESRI Shapefile')"
   ]
  },
  {
   "cell_type": "code",
   "execution_count": 102,
=======
   "source": []
  },
  {
   "cell_type": "code",
   "execution_count": null,
>>>>>>> 6e43ba4dca69e340b79d1a3d9b929f6bae11c8f8
   "metadata": {
    "collapsed": false
   },
   "outputs": [],
<<<<<<< HEAD
   "source": [
    "buffers_quarter.to_file('Buffers/Buffers_Quarter.shp',driver = 'ESRI Shapefile')"
   ]
  },
  {
   "cell_type": "code",
   "execution_count": 103,
=======
   "source": []
  },
  {
   "cell_type": "code",
   "execution_count": null,
>>>>>>> 6e43ba4dca69e340b79d1a3d9b929f6bae11c8f8
   "metadata": {
    "collapsed": false
   },
   "outputs": [],
<<<<<<< HEAD
   "source": [
    "buffers_tenth.to_file('Buffers/Buffers_Tenth.shp',driver = 'ESRI Shapefile')"
   ]
=======
   "source": []
>>>>>>> 6e43ba4dca69e340b79d1a3d9b929f6bae11c8f8
  },
  {
   "cell_type": "markdown",
   "metadata": {},
   "source": [
    "# Issues with projections and creating buffers with correct untis\n",
    "#### Used arc map to define projection as GCS_NAD_1983_2011 \n",
    "#### reprojected to  NAD_1927_StatePlane_California_III_FIPS_0403\n",
    "#### Created quarter, third, and half mile buffers using the buffer analysis tool"
   ]
  },
  {
   "cell_type": "markdown",
   "metadata": {},
   "source": []
  },
  {
   "cell_type": "code",
<<<<<<< HEAD
   "execution_count": 94,
=======
   "execution_count": 27,
>>>>>>> 6e43ba4dca69e340b79d1a3d9b929f6bae11c8f8
   "metadata": {
    "collapsed": false
   },
   "outputs": [],
   "source": [
    "tenth = gp.read_file('Buffers/Buffers_Tenth.shp')"
   ]
  },
  {
   "cell_type": "code",
   "execution_count": 28,
   "metadata": {
    "collapsed": false
   },
   "outputs": [
    {
     "data": {
      "text/plain": [
       "<matplotlib.axes._subplots.AxesSubplot at 0x1b46be04860>"
      ]
     },
     "execution_count": 28,
     "metadata": {},
     "output_type": "execute_result"
    },
    {
     "data": {
      "image/png": "iVBORw0KGgoAAAANSUhEUgAAAREAAAD8CAYAAABQOZBmAAAABHNCSVQICAgIfAhkiAAAAAlwSFlz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\nRSIWLFhoEywSsWDBQpvw/wG+DxqMK5km1gAAAABJRU5ErkJggg==\n",
      "text/plain": [
       "<matplotlib.figure.Figure at 0x1b46be114e0>"
      ]
     },
     "metadata": {},
     "output_type": "display_data"
    }
   ],
   "source": [
    "tenth.plot()"
   ]
  },
  {
   "cell_type": "code",
<<<<<<< HEAD
   "execution_count": 95,
=======
   "execution_count": 25,
>>>>>>> 6e43ba4dca69e340b79d1a3d9b929f6bae11c8f8
   "metadata": {
    "collapsed": true
   },
   "outputs": [],
   "source": [
    "third = gp.read_file('Buffers/Buffers_Third.shp')"
   ]
  },
  {
   "cell_type": "code",
   "execution_count": 26,
   "metadata": {
    "collapsed": false
   },
   "outputs": [
    {
     "data": {
      "text/plain": [
       "<matplotlib.axes._subplots.AxesSubplot at 0x1b8bad7d358>"
      ]
     },
     "execution_count": 26,
     "metadata": {},
     "output_type": "execute_result"
    },
    {
     "data": {
      "image/png": "iVBORw0KGgoAAAANSUhEUgAAAREAAAD8CAYAAABQOZBmAAAABHNCSVQICAgIfAhkiAAAAAlwSFlz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\nAAAAAElFTkSuQmCC\n",
      "text/plain": [
       "<matplotlib.figure.Figure at 0x1b8ad4f4780>"
      ]
     },
     "metadata": {},
     "output_type": "display_data"
    }
   ],
   "source": [
    "third.plot()"
   ]
  },
  {
   "cell_type": "code",
<<<<<<< HEAD
   "execution_count": 96,
=======
   "execution_count": 27,
>>>>>>> 6e43ba4dca69e340b79d1a3d9b929f6bae11c8f8
   "metadata": {
    "collapsed": false
   },
   "outputs": [],
   "source": [
    "quarter = gp.read_file('Buffers/Buffers_Quarter.shp')"
   ]
  },
  {
   "cell_type": "code",
   "execution_count": 28,
   "metadata": {
    "collapsed": false
   },
   "outputs": [
    {
     "data": {
      "text/plain": [
       "<matplotlib.axes._subplots.AxesSubplot at 0x1b8c7262cc0>"
      ]
     },
     "execution_count": 28,
     "metadata": {},
     "output_type": "execute_result"
    },
    {
     "data": {
      "image/png": "iVBORw0KGgoAAAANSUhEUgAAAREAAAD8CAYAAABQOZBmAAAABHNCSVQICAgIfAhkiAAAAAlwSFlz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\n",
      "text/plain": [
       "<matplotlib.figure.Figure at 0x1b8c5895198>"
      ]
     },
     "metadata": {},
     "output_type": "display_data"
    }
   ],
   "source": [
    "quarter.plot()"
   ]
  },
  {
   "cell_type": "code",
   "execution_count": 36,
   "metadata": {
    "collapsed": false
   },
   "outputs": [],
   "source": [
    "import folium\n",
    "stops_half_map = folium.Map([37.77493,-122.419416], zoom_start=12, tiles='cartodbpositron',control_scale = True)\n",
    "\n",
    "folium.GeoJson(half).add_to(stops_half_map)\n",
    "\n",
    "stops_half_map.save('stops_half.html')"
   ]
  },
  {
   "cell_type": "code",
   "execution_count": 37,
   "metadata": {
    "collapsed": true
   },
   "outputs": [],
   "source": [
    "stops_third_map = folium.Map([37.77493,-122.419416], zoom_start=12, tiles='cartodbpositron',control_scale = True)\n",
    "\n",
    "folium.GeoJson(half).add_to(stops_third_map)\n",
    "\n",
    "stops_third_map.save('stops_third.html')"
   ]
  },
  {
   "cell_type": "code",
   "execution_count": 38,
   "metadata": {
    "collapsed": true
   },
   "outputs": [],
   "source": [
    "stops_quarter_map = folium.Map([37.77493,-122.419416], zoom_start=12, tiles='cartodbpositron',control_scale = True)\n",
    "\n",
    "folium.GeoJson(half).add_to(stops_quarter_map)\n",
    "\n",
    "stops_quarter_map.save('stops_quarter.html')"
   ]
  },
  {
   "cell_type": "code",
   "execution_count": null,
   "metadata": {
    "collapsed": true
   },
   "outputs": [],
   "source": []
  }
 ],
 "metadata": {
  "anaconda-cloud": {},
  "kernelspec": {
   "display_name": "Python [conda root]",
   "language": "python",
   "name": "conda-root-py"
  },
  "language_info": {
   "codemirror_mode": {
    "name": "ipython",
    "version": 3
   },
   "file_extension": ".py",
   "mimetype": "text/x-python",
   "name": "python",
   "nbconvert_exporter": "python",
   "pygments_lexer": "ipython3",
   "version": "3.5.2"
  }
 },
 "nbformat": 4,
 "nbformat_minor": 1
}
