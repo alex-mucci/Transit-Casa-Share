{
 "cells": [
  {
   "cell_type": "code",
   "execution_count": 1,
   "metadata": {
    "collapsed": true
   },
   "outputs": [],
   "source": [
    "import pandas as pd"
   ]
  },
  {
   "cell_type": "code",
   "execution_count": 2,
   "metadata": {
    "collapsed": true
   },
   "outputs": [],
   "source": [
    "muni16 = pd.read_csv('E:/Transit-Casa-Alex/Output/Processed MUNI Rail/Mapping_Data_16.csv',thousands = ',')"
   ]
  },
  {
   "cell_type": "code",
   "execution_count": 3,
   "metadata": {
    "collapsed": true
   },
   "outputs": [],
   "source": [
    "muni09 = pd.read_csv('E:/Transit-Casa-Alex/Output/Processed MUNI Rail/2009_MUNI_Rail.csv',thousands = ',')"
   ]
  },
  {
   "cell_type": "code",
   "execution_count": 4,
   "metadata": {
    "collapsed": false
   },
   "outputs": [
    {
     "data": {
      "text/html": [
       "<div>\n",
       "<table border=\"1\" class=\"dataframe\">\n",
       "  <thead>\n",
       "    <tr style=\"text-align: right;\">\n",
       "      <th></th>\n",
       "      <th>Boardings</th>\n",
       "      <th>Alightings</th>\n",
       "      <th>STOP_ID</th>\n",
       "    </tr>\n",
       "  </thead>\n",
       "  <tbody>\n",
       "    <tr>\n",
       "      <th>0</th>\n",
       "      <td>132</td>\n",
       "      <td>58</td>\n",
       "      <td>3537</td>\n",
       "    </tr>\n",
       "    <tr>\n",
       "      <th>1</th>\n",
       "      <td>60</td>\n",
       "      <td>170</td>\n",
       "      <td>3538</td>\n",
       "    </tr>\n",
       "    <tr>\n",
       "      <th>2</th>\n",
       "      <td>726</td>\n",
       "      <td>810</td>\n",
       "      <td>7316</td>\n",
       "    </tr>\n",
       "    <tr>\n",
       "      <th>3</th>\n",
       "      <td>198</td>\n",
       "      <td>239</td>\n",
       "      <td>3985</td>\n",
       "    </tr>\n",
       "    <tr>\n",
       "      <th>4</th>\n",
       "      <td>286</td>\n",
       "      <td>340</td>\n",
       "      <td>3987</td>\n",
       "    </tr>\n",
       "  </tbody>\n",
       "</table>\n",
       "</div>"
      ],
      "text/plain": [
       "   Boardings  Alightings  STOP_ID\n",
       "0        132          58     3537\n",
       "1         60         170     3538\n",
       "2        726         810     7316\n",
       "3        198         239     3985\n",
       "4        286         340     3987"
      ]
     },
     "execution_count": 4,
     "metadata": {},
     "output_type": "execute_result"
    }
   ],
   "source": [
    "muni09.head()"
   ]
  },
  {
   "cell_type": "code",
   "execution_count": 5,
   "metadata": {
    "collapsed": false
   },
   "outputs": [
    {
     "data": {
      "text/html": [
       "<div>\n",
       "<table border=\"1\" class=\"dataframe\">\n",
       "  <thead>\n",
       "    <tr style=\"text-align: right;\">\n",
       "      <th></th>\n",
       "      <th>STOP NAME</th>\n",
       "      <th>STOP ID</th>\n",
       "      <th>Total Boardings</th>\n",
       "      <th>Total Alightings</th>\n",
       "      <th>Stop Latitude</th>\n",
       "      <th>Stop Longitude</th>\n",
       "    </tr>\n",
       "  </thead>\n",
       "  <tbody>\n",
       "    <tr>\n",
       "      <th>0</th>\n",
       "      <td>9th Ave &amp; Irving St</td>\n",
       "      <td>3212</td>\n",
       "      <td>4.0</td>\n",
       "      <td>2.1</td>\n",
       "      <td>37.763912</td>\n",
       "      <td>-122.46624</td>\n",
       "    </tr>\n",
       "    <tr>\n",
       "      <th>1</th>\n",
       "      <td>9th Ave &amp; Irving St</td>\n",
       "      <td>3212</td>\n",
       "      <td>248.0</td>\n",
       "      <td>70.6</td>\n",
       "      <td>37.763912</td>\n",
       "      <td>-122.46624</td>\n",
       "    </tr>\n",
       "    <tr>\n",
       "      <th>2</th>\n",
       "      <td>9th Ave &amp; Irving St</td>\n",
       "      <td>3212</td>\n",
       "      <td>247.7</td>\n",
       "      <td>84.2</td>\n",
       "      <td>37.763912</td>\n",
       "      <td>-122.46624</td>\n",
       "    </tr>\n",
       "    <tr>\n",
       "      <th>3</th>\n",
       "      <td>9th Ave &amp; Irving St</td>\n",
       "      <td>3212</td>\n",
       "      <td>264.9</td>\n",
       "      <td>62.6</td>\n",
       "      <td>37.763912</td>\n",
       "      <td>-122.46624</td>\n",
       "    </tr>\n",
       "    <tr>\n",
       "      <th>4</th>\n",
       "      <td>9th Ave &amp; Irving St</td>\n",
       "      <td>3212</td>\n",
       "      <td>208.3</td>\n",
       "      <td>49.1</td>\n",
       "      <td>37.763912</td>\n",
       "      <td>-122.46624</td>\n",
       "    </tr>\n",
       "  </tbody>\n",
       "</table>\n",
       "</div>"
      ],
      "text/plain": [
       "             STOP NAME  STOP ID  Total Boardings  Total Alightings  \\\n",
       "0  9th Ave & Irving St     3212              4.0               2.1   \n",
       "1  9th Ave & Irving St     3212            248.0              70.6   \n",
       "2  9th Ave & Irving St     3212            247.7              84.2   \n",
       "3  9th Ave & Irving St     3212            264.9              62.6   \n",
       "4  9th Ave & Irving St     3212            208.3              49.1   \n",
       "\n",
       "   Stop Latitude  Stop Longitude  \n",
       "0      37.763912      -122.46624  \n",
       "1      37.763912      -122.46624  \n",
       "2      37.763912      -122.46624  \n",
       "3      37.763912      -122.46624  \n",
       "4      37.763912      -122.46624  "
      ]
     },
     "execution_count": 5,
     "metadata": {},
     "output_type": "execute_result"
    }
   ],
   "source": [
    "muni16.head()"
   ]
  },
  {
   "cell_type": "code",
   "execution_count": 6,
   "metadata": {
    "collapsed": false
   },
   "outputs": [
    {
     "name": "stdout",
     "output_type": "stream",
     "text": [
      "<class 'pandas.core.frame.DataFrame'>\n",
      "RangeIndex: 2127 entries, 0 to 2126\n",
      "Data columns (total 6 columns):\n",
      "STOP NAME           2127 non-null object\n",
      "STOP ID             2127 non-null int64\n",
      "Total Boardings     1858 non-null float64\n",
      "Total Alightings    1862 non-null float64\n",
      "Stop Latitude       2127 non-null float64\n",
      "Stop Longitude      2127 non-null float64\n",
      "dtypes: float64(4), int64(1), object(1)\n",
      "memory usage: 99.8+ KB\n"
     ]
    }
   ],
   "source": [
    "muni16.info()"
   ]
  },
  {
   "cell_type": "code",
   "execution_count": null,
   "metadata": {
    "collapsed": false
   },
   "outputs": [],
   "source": []
  },
  {
   "cell_type": "code",
   "execution_count": 7,
   "metadata": {
    "collapsed": false
   },
   "outputs": [],
   "source": [
    "muni16_group = muni16.groupby(by = 'STOP ID',as_index = False).agg({'STOP NAME':'first','Stop Latitude':'mean','Stop Longitude':'mean','Total Alightings':'sum','Total Boardings':'sum'})"
   ]
  },
  {
   "cell_type": "code",
   "execution_count": 8,
   "metadata": {
    "collapsed": false
   },
   "outputs": [
    {
     "data": {
      "text/plain": [
       "Index(['STOP ID', 'Stop Latitude', 'Stop Longitude', 'STOP NAME',\n",
       "       'Total Alightings', 'Total Boardings'],\n",
       "      dtype='object')"
      ]
     },
     "execution_count": 8,
     "metadata": {},
     "output_type": "execute_result"
    }
   ],
   "source": [
    "muni16_group.columns"
   ]
  },
  {
   "cell_type": "code",
   "execution_count": 9,
   "metadata": {
    "collapsed": true
   },
   "outputs": [],
   "source": [
    "rename = ['STOP_ID', 'LON', 'Alightings', 'LAT',\n",
    "       'Boardings', 'STOP_NAME']"
   ]
  },
  {
   "cell_type": "code",
   "execution_count": 10,
   "metadata": {
    "collapsed": true
   },
   "outputs": [],
   "source": [
    "muni16_group.columns = rename"
   ]
  },
  {
   "cell_type": "code",
   "execution_count": 11,
   "metadata": {
    "collapsed": false
   },
   "outputs": [
    {
     "data": {
      "text/html": [
       "<div>\n",
       "<table border=\"1\" class=\"dataframe\">\n",
       "  <thead>\n",
       "    <tr style=\"text-align: right;\">\n",
       "      <th></th>\n",
       "      <th>STOP_ID</th>\n",
       "      <th>LON</th>\n",
       "      <th>Alightings</th>\n",
       "      <th>LAT</th>\n",
       "      <th>Boardings</th>\n",
       "      <th>STOP_NAME</th>\n",
       "    </tr>\n",
       "  </thead>\n",
       "  <tbody>\n",
       "    <tr>\n",
       "      <th>0</th>\n",
       "      <td>3212</td>\n",
       "      <td>37.763912</td>\n",
       "      <td>-122.466240</td>\n",
       "      <td>9th Ave &amp; Irving St</td>\n",
       "      <td>292.4</td>\n",
       "      <td>1046.3</td>\n",
       "    </tr>\n",
       "    <tr>\n",
       "      <th>1</th>\n",
       "      <td>3266</td>\n",
       "      <td>37.743122</td>\n",
       "      <td>-122.471300</td>\n",
       "      <td>15th Ave &amp; Taraval St</td>\n",
       "      <td>313.8</td>\n",
       "      <td>119.6</td>\n",
       "    </tr>\n",
       "    <tr>\n",
       "      <th>2</th>\n",
       "      <td>3267</td>\n",
       "      <td>37.743070</td>\n",
       "      <td>-122.471405</td>\n",
       "      <td>15th Ave &amp; Taraval St</td>\n",
       "      <td>92.3</td>\n",
       "      <td>240.7</td>\n",
       "    </tr>\n",
       "    <tr>\n",
       "      <th>3</th>\n",
       "      <td>3268</td>\n",
       "      <td>37.741524</td>\n",
       "      <td>-122.471190</td>\n",
       "      <td>15th Ave &amp; Ulloa St</td>\n",
       "      <td>233.4</td>\n",
       "      <td>16.5</td>\n",
       "    </tr>\n",
       "    <tr>\n",
       "      <th>4</th>\n",
       "      <td>3269</td>\n",
       "      <td>37.741486</td>\n",
       "      <td>-122.471300</td>\n",
       "      <td>15th Ave &amp; Ulloa St</td>\n",
       "      <td>23.3</td>\n",
       "      <td>90.4</td>\n",
       "    </tr>\n",
       "  </tbody>\n",
       "</table>\n",
       "</div>"
      ],
      "text/plain": [
       "   STOP_ID        LON  Alightings                    LAT  Boardings  STOP_NAME\n",
       "0     3212  37.763912 -122.466240    9th Ave & Irving St      292.4     1046.3\n",
       "1     3266  37.743122 -122.471300  15th Ave & Taraval St      313.8      119.6\n",
       "2     3267  37.743070 -122.471405  15th Ave & Taraval St       92.3      240.7\n",
       "3     3268  37.741524 -122.471190    15th Ave & Ulloa St      233.4       16.5\n",
       "4     3269  37.741486 -122.471300    15th Ave & Ulloa St       23.3       90.4"
      ]
     },
     "execution_count": 11,
     "metadata": {},
     "output_type": "execute_result"
    }
   ],
   "source": [
    "muni16_group.head()"
   ]
  },
  {
   "cell_type": "code",
   "execution_count": 12,
   "metadata": {
    "collapsed": false
   },
   "outputs": [],
   "source": [
    "rail = pd.merge(muni16_group,muni09,on = 'STOP_ID',how = 'outer',suffixes = ('_09','_16'))"
   ]
  },
  {
   "cell_type": "code",
   "execution_count": 19,
   "metadata": {
    "collapsed": false
   },
   "outputs": [
    {
     "data": {
      "text/html": [
       "<div>\n",
       "<table border=\"1\" class=\"dataframe\">\n",
       "  <thead>\n",
       "    <tr style=\"text-align: right;\">\n",
       "      <th></th>\n",
       "      <th>STOP_ID</th>\n",
       "      <th>LON</th>\n",
       "      <th>Alightings_09</th>\n",
       "      <th>LAT</th>\n",
       "      <th>Boardings_09</th>\n",
       "      <th>STOP_NAME</th>\n",
       "      <th>Boardings_16</th>\n",
       "      <th>Alightings_16</th>\n",
       "      <th>DIFF</th>\n",
       "      <th>P_DIFF</th>\n",
       "      <th>P_DIFF_STR</th>\n",
       "    </tr>\n",
       "  </thead>\n",
       "  <tbody>\n",
       "    <tr>\n",
       "      <th>0</th>\n",
       "      <td>3212</td>\n",
       "      <td>37.763912</td>\n",
       "      <td>-122.466240</td>\n",
       "      <td>9th Ave &amp; Irving St</td>\n",
       "      <td>292.4</td>\n",
       "      <td>1046.3</td>\n",
       "      <td>1223.0</td>\n",
       "      <td>270.0</td>\n",
       "      <td>931.0</td>\n",
       "      <td>318.0</td>\n",
       "      <td>318.0%</td>\n",
       "    </tr>\n",
       "    <tr>\n",
       "      <th>1</th>\n",
       "      <td>3266</td>\n",
       "      <td>37.743122</td>\n",
       "      <td>-122.471300</td>\n",
       "      <td>15th Ave &amp; Taraval St</td>\n",
       "      <td>313.8</td>\n",
       "      <td>119.6</td>\n",
       "      <td>77.0</td>\n",
       "      <td>255.0</td>\n",
       "      <td>-237.0</td>\n",
       "      <td>-76.0</td>\n",
       "      <td>-76.0%</td>\n",
       "    </tr>\n",
       "    <tr>\n",
       "      <th>2</th>\n",
       "      <td>3267</td>\n",
       "      <td>37.743070</td>\n",
       "      <td>-122.471405</td>\n",
       "      <td>15th Ave &amp; Taraval St</td>\n",
       "      <td>92.3</td>\n",
       "      <td>240.7</td>\n",
       "      <td>280.0</td>\n",
       "      <td>77.0</td>\n",
       "      <td>188.0</td>\n",
       "      <td>204.0</td>\n",
       "      <td>204.0%</td>\n",
       "    </tr>\n",
       "    <tr>\n",
       "      <th>3</th>\n",
       "      <td>3268</td>\n",
       "      <td>37.741524</td>\n",
       "      <td>-122.471190</td>\n",
       "      <td>15th Ave &amp; Ulloa St</td>\n",
       "      <td>233.4</td>\n",
       "      <td>16.5</td>\n",
       "      <td>22.0</td>\n",
       "      <td>111.0</td>\n",
       "      <td>-211.0</td>\n",
       "      <td>-90.0</td>\n",
       "      <td>-90.0%</td>\n",
       "    </tr>\n",
       "    <tr>\n",
       "      <th>4</th>\n",
       "      <td>3269</td>\n",
       "      <td>37.741486</td>\n",
       "      <td>-122.471300</td>\n",
       "      <td>15th Ave &amp; Ulloa St</td>\n",
       "      <td>23.3</td>\n",
       "      <td>90.4</td>\n",
       "      <td>47.0</td>\n",
       "      <td>13.0</td>\n",
       "      <td>24.0</td>\n",
       "      <td>103.0</td>\n",
       "      <td>103.0%</td>\n",
       "    </tr>\n",
       "  </tbody>\n",
       "</table>\n",
       "</div>"
      ],
      "text/plain": [
       "   STOP_ID        LON  Alightings_09                    LAT  Boardings_09  \\\n",
       "0     3212  37.763912    -122.466240    9th Ave & Irving St         292.4   \n",
       "1     3266  37.743122    -122.471300  15th Ave & Taraval St         313.8   \n",
       "2     3267  37.743070    -122.471405  15th Ave & Taraval St          92.3   \n",
       "3     3268  37.741524    -122.471190    15th Ave & Ulloa St         233.4   \n",
       "4     3269  37.741486    -122.471300    15th Ave & Ulloa St          23.3   \n",
       "\n",
       "   STOP_NAME  Boardings_16  Alightings_16   DIFF  P_DIFF P_DIFF_STR  \n",
       "0     1046.3        1223.0          270.0  931.0   318.0     318.0%  \n",
       "1      119.6          77.0          255.0 -237.0   -76.0     -76.0%  \n",
       "2      240.7         280.0           77.0  188.0   204.0     204.0%  \n",
       "3       16.5          22.0          111.0 -211.0   -90.0     -90.0%  \n",
       "4       90.4          47.0           13.0   24.0   103.0     103.0%  "
      ]
     },
     "execution_count": 19,
     "metadata": {},
     "output_type": "execute_result"
    }
   ],
   "source": [
    "\n",
    "rail.head()"
   ]
  },
  {
   "cell_type": "code",
   "execution_count": 20,
   "metadata": {
    "collapsed": false
   },
   "outputs": [],
   "source": [
    "rail['DIFF'] = round(rail['Boardings_16'].astype(float) - rail['Boardings_09'].astype(float))"
   ]
  },
  {
   "cell_type": "code",
   "execution_count": 21,
   "metadata": {
    "collapsed": false
   },
   "outputs": [],
   "source": [
    "rail['P_DIFF'] = round((rail['DIFF']/rail['Boardings_09'].astype(float))*100)"
   ]
  },
  {
   "cell_type": "code",
   "execution_count": 22,
   "metadata": {
    "collapsed": true
   },
   "outputs": [],
   "source": [
    "rail['P_DIFF_STR'] = rail['P_DIFF'].apply(lambda value: str(value) + '%')"
   ]
  },
  {
   "cell_type": "code",
   "execution_count": 23,
   "metadata": {
    "collapsed": false
   },
   "outputs": [
    {
     "data": {
      "text/html": [
       "<div>\n",
       "<table border=\"1\" class=\"dataframe\">\n",
       "  <thead>\n",
       "    <tr style=\"text-align: right;\">\n",
       "      <th></th>\n",
       "      <th>STOP_ID</th>\n",
       "      <th>LON</th>\n",
       "      <th>Alightings_09</th>\n",
       "      <th>LAT</th>\n",
       "      <th>Boardings_09</th>\n",
       "      <th>STOP_NAME</th>\n",
       "      <th>Boardings_16</th>\n",
       "      <th>Alightings_16</th>\n",
       "      <th>DIFF</th>\n",
       "      <th>P_DIFF</th>\n",
       "      <th>P_DIFF_STR</th>\n",
       "    </tr>\n",
       "  </thead>\n",
       "  <tbody>\n",
       "    <tr>\n",
       "      <th>0</th>\n",
       "      <td>3212</td>\n",
       "      <td>37.763912</td>\n",
       "      <td>-122.466240</td>\n",
       "      <td>9th Ave &amp; Irving St</td>\n",
       "      <td>292.4</td>\n",
       "      <td>1046.3</td>\n",
       "      <td>1223.0</td>\n",
       "      <td>270.0</td>\n",
       "      <td>931.0</td>\n",
       "      <td>318.0</td>\n",
       "      <td>318.0%</td>\n",
       "    </tr>\n",
       "    <tr>\n",
       "      <th>1</th>\n",
       "      <td>3266</td>\n",
       "      <td>37.743122</td>\n",
       "      <td>-122.471300</td>\n",
       "      <td>15th Ave &amp; Taraval St</td>\n",
       "      <td>313.8</td>\n",
       "      <td>119.6</td>\n",
       "      <td>77.0</td>\n",
       "      <td>255.0</td>\n",
       "      <td>-237.0</td>\n",
       "      <td>-76.0</td>\n",
       "      <td>-76.0%</td>\n",
       "    </tr>\n",
       "    <tr>\n",
       "      <th>2</th>\n",
       "      <td>3267</td>\n",
       "      <td>37.743070</td>\n",
       "      <td>-122.471405</td>\n",
       "      <td>15th Ave &amp; Taraval St</td>\n",
       "      <td>92.3</td>\n",
       "      <td>240.7</td>\n",
       "      <td>280.0</td>\n",
       "      <td>77.0</td>\n",
       "      <td>188.0</td>\n",
       "      <td>204.0</td>\n",
       "      <td>204.0%</td>\n",
       "    </tr>\n",
       "    <tr>\n",
       "      <th>3</th>\n",
       "      <td>3268</td>\n",
       "      <td>37.741524</td>\n",
       "      <td>-122.471190</td>\n",
       "      <td>15th Ave &amp; Ulloa St</td>\n",
       "      <td>233.4</td>\n",
       "      <td>16.5</td>\n",
       "      <td>22.0</td>\n",
       "      <td>111.0</td>\n",
       "      <td>-211.0</td>\n",
       "      <td>-90.0</td>\n",
       "      <td>-90.0%</td>\n",
       "    </tr>\n",
       "    <tr>\n",
       "      <th>4</th>\n",
       "      <td>3269</td>\n",
       "      <td>37.741486</td>\n",
       "      <td>-122.471300</td>\n",
       "      <td>15th Ave &amp; Ulloa St</td>\n",
       "      <td>23.3</td>\n",
       "      <td>90.4</td>\n",
       "      <td>47.0</td>\n",
       "      <td>13.0</td>\n",
       "      <td>24.0</td>\n",
       "      <td>103.0</td>\n",
       "      <td>103.0%</td>\n",
       "    </tr>\n",
       "  </tbody>\n",
       "</table>\n",
       "</div>"
      ],
      "text/plain": [
       "   STOP_ID        LON  Alightings_09                    LAT  Boardings_09  \\\n",
       "0     3212  37.763912    -122.466240    9th Ave & Irving St         292.4   \n",
       "1     3266  37.743122    -122.471300  15th Ave & Taraval St         313.8   \n",
       "2     3267  37.743070    -122.471405  15th Ave & Taraval St          92.3   \n",
       "3     3268  37.741524    -122.471190    15th Ave & Ulloa St         233.4   \n",
       "4     3269  37.741486    -122.471300    15th Ave & Ulloa St          23.3   \n",
       "\n",
       "   STOP_NAME  Boardings_16  Alightings_16   DIFF  P_DIFF P_DIFF_STR  \n",
       "0     1046.3        1223.0          270.0  931.0   318.0     318.0%  \n",
       "1      119.6          77.0          255.0 -237.0   -76.0     -76.0%  \n",
       "2      240.7         280.0           77.0  188.0   204.0     204.0%  \n",
       "3       16.5          22.0          111.0 -211.0   -90.0     -90.0%  \n",
       "4       90.4          47.0           13.0   24.0   103.0     103.0%  "
      ]
     },
     "execution_count": 23,
     "metadata": {},
     "output_type": "execute_result"
    }
   ],
   "source": [
    "rail = rail.fillna(0)\n",
    "rail.head()"
   ]
  },
  {
   "cell_type": "code",
   "execution_count": 24,
   "metadata": {
    "collapsed": false
   },
   "outputs": [],
   "source": [
    "rail.to_csv('E:/Transit-Casa-Alex/Output/Processed MUNI Rail/MUNI_Rail_Map_Data.csv')"
   ]
  },
  {
   "cell_type": "code",
   "execution_count": 26,
   "metadata": {
    "collapsed": false
   },
   "outputs": [
    {
     "data": {
      "text/html": [
       "<div>\n",
       "<table border=\"1\" class=\"dataframe\">\n",
       "  <thead>\n",
       "    <tr style=\"text-align: right;\">\n",
       "      <th></th>\n",
       "      <th>STOP_ID</th>\n",
       "      <th>LON</th>\n",
       "      <th>Alightings_09</th>\n",
       "      <th>LAT</th>\n",
       "      <th>Boardings_09</th>\n",
       "      <th>STOP_NAME</th>\n",
       "      <th>Boardings_16</th>\n",
       "      <th>Alightings_16</th>\n",
       "      <th>DIFF</th>\n",
       "      <th>P_DIFF</th>\n",
       "      <th>P_DIFF_STR</th>\n",
       "    </tr>\n",
       "  </thead>\n",
       "  <tbody>\n",
       "    <tr>\n",
       "      <th>315</th>\n",
       "      <td>7058</td>\n",
       "      <td>0.0</td>\n",
       "      <td>0.0</td>\n",
       "      <td>0</td>\n",
       "      <td>0.0</td>\n",
       "      <td>0.0</td>\n",
       "      <td>0.0</td>\n",
       "      <td>0.0</td>\n",
       "      <td>0.0</td>\n",
       "      <td>0.0</td>\n",
       "      <td>nan%</td>\n",
       "    </tr>\n",
       "    <tr>\n",
       "      <th>320</th>\n",
       "      <td>7165</td>\n",
       "      <td>0.0</td>\n",
       "      <td>0.0</td>\n",
       "      <td>0</td>\n",
       "      <td>0.0</td>\n",
       "      <td>0.0</td>\n",
       "      <td>0.0</td>\n",
       "      <td>32.0</td>\n",
       "      <td>0.0</td>\n",
       "      <td>0.0</td>\n",
       "      <td>nan%</td>\n",
       "    </tr>\n",
       "    <tr>\n",
       "      <th>321</th>\n",
       "      <td>7162</td>\n",
       "      <td>0.0</td>\n",
       "      <td>0.0</td>\n",
       "      <td>0</td>\n",
       "      <td>0.0</td>\n",
       "      <td>0.0</td>\n",
       "      <td>0.0</td>\n",
       "      <td>0.0</td>\n",
       "      <td>0.0</td>\n",
       "      <td>0.0</td>\n",
       "      <td>nan%</td>\n",
       "    </tr>\n",
       "  </tbody>\n",
       "</table>\n",
       "</div>"
      ],
      "text/plain": [
       "     STOP_ID  LON  Alightings_09 LAT  Boardings_09  STOP_NAME  Boardings_16  \\\n",
       "315     7058  0.0            0.0   0           0.0        0.0           0.0   \n",
       "320     7165  0.0            0.0   0           0.0        0.0           0.0   \n",
       "321     7162  0.0            0.0   0           0.0        0.0           0.0   \n",
       "\n",
       "     Alightings_16  DIFF  P_DIFF P_DIFF_STR  \n",
       "315            0.0   0.0     0.0       nan%  \n",
       "320           32.0   0.0     0.0       nan%  \n",
       "321            0.0   0.0     0.0       nan%  "
      ]
     },
     "execution_count": 26,
     "metadata": {},
     "output_type": "execute_result"
    }
   ],
   "source": [
    "import numpy as np\n",
    "rail[rail['P_DIFF'] == 0]"
   ]
  },
  {
   "cell_type": "code",
   "execution_count": null,
   "metadata": {
    "collapsed": true
   },
   "outputs": [],
   "source": []
  }
 ],
 "metadata": {
  "anaconda-cloud": {},
  "kernelspec": {
   "display_name": "Python [conda root]",
   "language": "python",
   "name": "conda-root-py"
  },
  "language_info": {
   "codemirror_mode": {
    "name": "ipython",
    "version": 3
   },
   "file_extension": ".py",
   "mimetype": "text/x-python",
   "name": "python",
   "nbconvert_exporter": "python",
   "pygments_lexer": "ipython3",
   "version": "3.5.2"
  }
 },
 "nbformat": 4,
 "nbformat_minor": 1
}
