{
 "cells": [
  {
   "cell_type": "code",
   "execution_count": 1,
   "metadata": {
    "collapsed": true
   },
   "outputs": [],
   "source": [
    "import pandas as pd"
   ]
  },
  {
   "cell_type": "code",
   "execution_count": 2,
   "metadata": {
    "collapsed": true
   },
   "outputs": [],
   "source": [
    "muni16 = pd.read_csv('E:/Transit-Casa-Alex/Output/Processed MUNI Rail/Mapping_Data_16.csv',thousands = ',')"
   ]
  },
  {
   "cell_type": "code",
   "execution_count": 3,
   "metadata": {
    "collapsed": true
   },
   "outputs": [],
   "source": [
    "muni09 = pd.read_csv('E:/Transit-Casa-Alex/Output/Processed MUNI Rail/2009_MUNI_Rail.csv',thousands = ',')"
   ]
  },
  {
   "cell_type": "code",
   "execution_count": 4,
   "metadata": {
    "collapsed": false
   },
   "outputs": [
    {
     "data": {
      "text/html": [
       "<div>\n",
       "<table border=\"1\" class=\"dataframe\">\n",
       "  <thead>\n",
       "    <tr style=\"text-align: right;\">\n",
       "      <th></th>\n",
       "      <th>Boardings</th>\n",
       "      <th>Alightings</th>\n",
       "      <th>STOP_ID</th>\n",
       "    </tr>\n",
       "  </thead>\n",
       "  <tbody>\n",
       "    <tr>\n",
       "      <th>0</th>\n",
       "      <td>132</td>\n",
       "      <td>58</td>\n",
       "      <td>3537</td>\n",
       "    </tr>\n",
       "    <tr>\n",
       "      <th>1</th>\n",
       "      <td>60</td>\n",
       "      <td>170</td>\n",
       "      <td>3538</td>\n",
       "    </tr>\n",
       "    <tr>\n",
       "      <th>2</th>\n",
       "      <td>726</td>\n",
       "      <td>810</td>\n",
       "      <td>7316</td>\n",
       "    </tr>\n",
       "    <tr>\n",
       "      <th>3</th>\n",
       "      <td>198</td>\n",
       "      <td>239</td>\n",
       "      <td>3985</td>\n",
       "    </tr>\n",
       "    <tr>\n",
       "      <th>4</th>\n",
       "      <td>286</td>\n",
       "      <td>340</td>\n",
       "      <td>3987</td>\n",
       "    </tr>\n",
       "  </tbody>\n",
       "</table>\n",
       "</div>"
      ],
      "text/plain": [
       "   Boardings  Alightings  STOP_ID\n",
       "0        132          58     3537\n",
       "1         60         170     3538\n",
       "2        726         810     7316\n",
       "3        198         239     3985\n",
       "4        286         340     3987"
      ]
     },
     "execution_count": 4,
     "metadata": {},
     "output_type": "execute_result"
    }
   ],
   "source": [
    "muni09.head()"
   ]
  },
  {
   "cell_type": "code",
   "execution_count": 45,
   "metadata": {
    "collapsed": false
   },
   "outputs": [
    {
     "data": {
      "text/html": [
       "<div>\n",
       "<table border=\"1\" class=\"dataframe\">\n",
       "  <thead>\n",
       "    <tr style=\"text-align: right;\">\n",
       "      <th></th>\n",
       "      <th>STOP NAME</th>\n",
       "      <th>STOP ID</th>\n",
       "      <th>Total Boardings</th>\n",
       "      <th>Total Alightings</th>\n",
       "      <th>Stop Latitude</th>\n",
       "      <th>Stop Longitude</th>\n",
       "    </tr>\n",
       "  </thead>\n",
       "  <tbody>\n",
       "    <tr>\n",
       "      <th>0</th>\n",
       "      <td>9th Ave &amp; Irving St</td>\n",
       "      <td>3212</td>\n",
       "      <td>4.0</td>\n",
       "      <td>2.1</td>\n",
       "      <td>37.763912</td>\n",
       "      <td>-122.46624</td>\n",
       "    </tr>\n",
       "    <tr>\n",
       "      <th>1</th>\n",
       "      <td>9th Ave &amp; Irving St</td>\n",
       "      <td>3212</td>\n",
       "      <td>248.0</td>\n",
       "      <td>70.6</td>\n",
       "      <td>37.763912</td>\n",
       "      <td>-122.46624</td>\n",
       "    </tr>\n",
       "    <tr>\n",
       "      <th>2</th>\n",
       "      <td>9th Ave &amp; Irving St</td>\n",
       "      <td>3212</td>\n",
       "      <td>247.7</td>\n",
       "      <td>84.2</td>\n",
       "      <td>37.763912</td>\n",
       "      <td>-122.46624</td>\n",
       "    </tr>\n",
       "    <tr>\n",
       "      <th>3</th>\n",
       "      <td>9th Ave &amp; Irving St</td>\n",
       "      <td>3212</td>\n",
       "      <td>264.9</td>\n",
       "      <td>62.6</td>\n",
       "      <td>37.763912</td>\n",
       "      <td>-122.46624</td>\n",
       "    </tr>\n",
       "    <tr>\n",
       "      <th>4</th>\n",
       "      <td>9th Ave &amp; Irving St</td>\n",
       "      <td>3212</td>\n",
       "      <td>208.3</td>\n",
       "      <td>49.1</td>\n",
       "      <td>37.763912</td>\n",
       "      <td>-122.46624</td>\n",
       "    </tr>\n",
       "  </tbody>\n",
       "</table>\n",
       "</div>"
      ],
      "text/plain": [
       "             STOP NAME  STOP ID  Total Boardings  Total Alightings  \\\n",
       "0  9th Ave & Irving St     3212              4.0               2.1   \n",
       "1  9th Ave & Irving St     3212            248.0              70.6   \n",
       "2  9th Ave & Irving St     3212            247.7              84.2   \n",
       "3  9th Ave & Irving St     3212            264.9              62.6   \n",
       "4  9th Ave & Irving St     3212            208.3              49.1   \n",
       "\n",
       "   Stop Latitude  Stop Longitude  \n",
       "0      37.763912      -122.46624  \n",
       "1      37.763912      -122.46624  \n",
       "2      37.763912      -122.46624  \n",
       "3      37.763912      -122.46624  \n",
       "4      37.763912      -122.46624  "
      ]
     },
     "execution_count": 45,
     "metadata": {},
     "output_type": "execute_result"
    }
   ],
   "source": [
    "muni16.head()"
   ]
  },
  {
   "cell_type": "code",
   "execution_count": 46,
   "metadata": {
    "collapsed": false
   },
   "outputs": [
    {
     "name": "stdout",
     "output_type": "stream",
     "text": [
      "<class 'pandas.core.frame.DataFrame'>\n",
      "RangeIndex: 2127 entries, 0 to 2126\n",
      "Data columns (total 6 columns):\n",
      "STOP NAME           2127 non-null object\n",
      "STOP ID             2127 non-null int64\n",
      "Total Boardings     1858 non-null float64\n",
      "Total Alightings    1862 non-null float64\n",
      "Stop Latitude       2127 non-null float64\n",
      "Stop Longitude      2127 non-null float64\n",
      "dtypes: float64(4), int64(1), object(1)\n",
      "memory usage: 99.8+ KB\n"
     ]
    }
   ],
   "source": [
    "muni16.info()"
   ]
  },
  {
   "cell_type": "code",
   "execution_count": 102,
   "metadata": {
    "collapsed": false
   },
   "outputs": [],
   "source": [
    "muni09_group = muni09.groupby(by = 'STOP_ID',as_index = False).sum()"
   ]
  },
  {
   "cell_type": "code",
   "execution_count": 103,
   "metadata": {
    "collapsed": false
   },
   "outputs": [],
   "source": [
    "muni16_group = muni16.groupby(by = 'STOP ID',as_index = False).agg({'STOP NAME':'first','Stop Latitude':'mean','Stop Longitude':'mean','Total Alightings':'sum','Total Boardings':'sum'})"
   ]
  },
  {
   "cell_type": "code",
   "execution_count": 105,
   "metadata": {
    "collapsed": false
   },
   "outputs": [
    {
     "data": {
      "text/plain": [
       "Index(['STOP ID', 'Stop Latitude', 'Stop Longitude', 'STOP NAME',\n",
       "       'Total Alightings', 'Total Boardings'],\n",
       "      dtype='object')"
      ]
     },
     "execution_count": 105,
     "metadata": {},
     "output_type": "execute_result"
    }
   ],
   "source": [
    "muni16_group.columns"
   ]
  },
  {
   "cell_type": "code",
   "execution_count": 106,
   "metadata": {
    "collapsed": true
   },
   "outputs": [],
   "source": [
    "rename = ['STOP_ID', 'LAT', 'LON', 'STOP_NAME',\n",
    "       'Alightings', 'Boardings']"
   ]
  },
  {
   "cell_type": "code",
   "execution_count": 107,
   "metadata": {
    "collapsed": true
   },
   "outputs": [],
   "source": [
    "muni16_group.columns = rename"
   ]
  },
  {
   "cell_type": "code",
   "execution_count": 108,
   "metadata": {
    "collapsed": false
   },
   "outputs": [
    {
     "data": {
      "text/html": [
       "<div>\n",
       "<table border=\"1\" class=\"dataframe\">\n",
       "  <thead>\n",
       "    <tr style=\"text-align: right;\">\n",
       "      <th></th>\n",
       "      <th>STOP_ID</th>\n",
       "      <th>LAT</th>\n",
       "      <th>LON</th>\n",
       "      <th>STOP_NAME</th>\n",
       "      <th>Alightings</th>\n",
       "      <th>Boardings</th>\n",
       "    </tr>\n",
       "  </thead>\n",
       "  <tbody>\n",
       "    <tr>\n",
       "      <th>0</th>\n",
       "      <td>3212</td>\n",
       "      <td>37.763912</td>\n",
       "      <td>-122.466240</td>\n",
       "      <td>9th Ave &amp; Irving St</td>\n",
       "      <td>292.4</td>\n",
       "      <td>1046.3</td>\n",
       "    </tr>\n",
       "    <tr>\n",
       "      <th>1</th>\n",
       "      <td>3266</td>\n",
       "      <td>37.743122</td>\n",
       "      <td>-122.471300</td>\n",
       "      <td>15th Ave &amp; Taraval St</td>\n",
       "      <td>313.8</td>\n",
       "      <td>119.6</td>\n",
       "    </tr>\n",
       "    <tr>\n",
       "      <th>2</th>\n",
       "      <td>3267</td>\n",
       "      <td>37.743070</td>\n",
       "      <td>-122.471405</td>\n",
       "      <td>15th Ave &amp; Taraval St</td>\n",
       "      <td>92.3</td>\n",
       "      <td>240.7</td>\n",
       "    </tr>\n",
       "    <tr>\n",
       "      <th>3</th>\n",
       "      <td>3268</td>\n",
       "      <td>37.741524</td>\n",
       "      <td>-122.471190</td>\n",
       "      <td>15th Ave &amp; Ulloa St</td>\n",
       "      <td>233.4</td>\n",
       "      <td>16.5</td>\n",
       "    </tr>\n",
       "    <tr>\n",
       "      <th>4</th>\n",
       "      <td>3269</td>\n",
       "      <td>37.741486</td>\n",
       "      <td>-122.471300</td>\n",
       "      <td>15th Ave &amp; Ulloa St</td>\n",
       "      <td>23.3</td>\n",
       "      <td>90.4</td>\n",
       "    </tr>\n",
       "  </tbody>\n",
       "</table>\n",
       "</div>"
      ],
      "text/plain": [
       "   STOP_ID        LAT         LON              STOP_NAME  Alightings  \\\n",
       "0     3212  37.763912 -122.466240    9th Ave & Irving St       292.4   \n",
       "1     3266  37.743122 -122.471300  15th Ave & Taraval St       313.8   \n",
       "2     3267  37.743070 -122.471405  15th Ave & Taraval St        92.3   \n",
       "3     3268  37.741524 -122.471190    15th Ave & Ulloa St       233.4   \n",
       "4     3269  37.741486 -122.471300    15th Ave & Ulloa St        23.3   \n",
       "\n",
       "   Boardings  \n",
       "0     1046.3  \n",
       "1      119.6  \n",
       "2      240.7  \n",
       "3       16.5  \n",
       "4       90.4  "
      ]
     },
     "execution_count": 108,
     "metadata": {},
     "output_type": "execute_result"
    }
   ],
   "source": [
    "muni16_group.head()"
   ]
  },
  {
   "cell_type": "code",
   "execution_count": 109,
   "metadata": {
    "collapsed": false
   },
   "outputs": [],
   "source": [
    "rail = pd.merge(muni16_group,muni09_group,on = 'STOP_ID',how = 'inner',suffixes = ('_16','_09'))"
   ]
  },
  {
   "cell_type": "code",
   "execution_count": 110,
   "metadata": {
    "collapsed": false
   },
   "outputs": [
    {
     "data": {
      "text/html": [
       "<div>\n",
       "<table border=\"1\" class=\"dataframe\">\n",
       "  <thead>\n",
       "    <tr style=\"text-align: right;\">\n",
       "      <th></th>\n",
       "      <th>STOP_ID</th>\n",
       "      <th>LAT</th>\n",
       "      <th>LON</th>\n",
       "      <th>STOP_NAME</th>\n",
       "      <th>Alightings_16</th>\n",
       "      <th>Boardings_16</th>\n",
       "      <th>Boardings_09</th>\n",
       "      <th>Alightings_09</th>\n",
       "    </tr>\n",
       "  </thead>\n",
       "  <tbody>\n",
       "    <tr>\n",
       "      <th>10</th>\n",
       "      <td>3537</td>\n",
       "      <td>37.742306</td>\n",
       "      <td>-122.42403</td>\n",
       "      <td>30th St &amp; Dolores St</td>\n",
       "      <td>101.4</td>\n",
       "      <td>249.0</td>\n",
       "      <td>132</td>\n",
       "      <td>58</td>\n",
       "    </tr>\n",
       "  </tbody>\n",
       "</table>\n",
       "</div>"
      ],
      "text/plain": [
       "    STOP_ID        LAT        LON             STOP_NAME  Alightings_16  \\\n",
       "10     3537  37.742306 -122.42403  30th St & Dolores St          101.4   \n",
       "\n",
       "    Boardings_16  Boardings_09  Alightings_09  \n",
       "10         249.0           132             58  "
      ]
     },
     "execution_count": 110,
     "metadata": {},
     "output_type": "execute_result"
    }
   ],
   "source": [
    "rail[rail['STOP_ID'] == 3537]"
   ]
  },
  {
   "cell_type": "code",
   "execution_count": 111,
   "metadata": {
    "collapsed": false
   },
   "outputs": [
    {
     "data": {
      "text/html": [
       "<div>\n",
       "<table border=\"1\" class=\"dataframe\">\n",
       "  <thead>\n",
       "    <tr style=\"text-align: right;\">\n",
       "      <th></th>\n",
       "      <th>STOP_ID</th>\n",
       "      <th>LAT</th>\n",
       "      <th>LON</th>\n",
       "      <th>STOP_NAME</th>\n",
       "      <th>Alightings</th>\n",
       "      <th>Boardings</th>\n",
       "    </tr>\n",
       "  </thead>\n",
       "  <tbody>\n",
       "    <tr>\n",
       "      <th>10</th>\n",
       "      <td>3537</td>\n",
       "      <td>37.742306</td>\n",
       "      <td>-122.42403</td>\n",
       "      <td>30th St &amp; Dolores St</td>\n",
       "      <td>101.4</td>\n",
       "      <td>249.0</td>\n",
       "    </tr>\n",
       "  </tbody>\n",
       "</table>\n",
       "</div>"
      ],
      "text/plain": [
       "    STOP_ID        LAT        LON             STOP_NAME  Alightings  Boardings\n",
       "10     3537  37.742306 -122.42403  30th St & Dolores St       101.4      249.0"
      ]
     },
     "execution_count": 111,
     "metadata": {},
     "output_type": "execute_result"
    }
   ],
   "source": [
    "muni16_group[muni16_group['STOP_ID'] == 3537]"
   ]
  },
  {
   "cell_type": "code",
   "execution_count": 112,
   "metadata": {
    "collapsed": false
   },
   "outputs": [],
   "source": [
    "rail['DIFF'] = round(rail['Boardings_16'].astype(float) - rail['Boardings_09'].astype(float))"
   ]
  },
  {
   "cell_type": "code",
   "execution_count": 113,
   "metadata": {
    "collapsed": false
   },
   "outputs": [],
   "source": [
    "rail['P_DIFF'] = round((rail['DIFF']/rail['Boardings_09'].astype(float))*100)"
   ]
  },
  {
   "cell_type": "code",
   "execution_count": 114,
   "metadata": {
    "collapsed": true
   },
   "outputs": [],
   "source": [
    "rail['P_DIFF_STR'] = rail['P_DIFF'].apply(lambda value: str(value) + '%')"
   ]
  },
  {
   "cell_type": "code",
   "execution_count": 115,
   "metadata": {
    "collapsed": false
   },
   "outputs": [
    {
     "data": {
      "text/html": [
       "<div>\n",
       "<table border=\"1\" class=\"dataframe\">\n",
       "  <thead>\n",
       "    <tr style=\"text-align: right;\">\n",
       "      <th></th>\n",
       "      <th>STOP_ID</th>\n",
       "      <th>LAT</th>\n",
       "      <th>LON</th>\n",
       "      <th>STOP_NAME</th>\n",
       "      <th>Alightings_16</th>\n",
       "      <th>Boardings_16</th>\n",
       "      <th>Boardings_09</th>\n",
       "      <th>Alightings_09</th>\n",
       "      <th>DIFF</th>\n",
       "      <th>P_DIFF</th>\n",
       "      <th>P_DIFF_STR</th>\n",
       "    </tr>\n",
       "  </thead>\n",
       "  <tbody>\n",
       "    <tr>\n",
       "      <th>0</th>\n",
       "      <td>3212</td>\n",
       "      <td>37.763912</td>\n",
       "      <td>-122.466240</td>\n",
       "      <td>9th Ave &amp; Irving St</td>\n",
       "      <td>292.4</td>\n",
       "      <td>1046.3</td>\n",
       "      <td>1223</td>\n",
       "      <td>270</td>\n",
       "      <td>-177.0</td>\n",
       "      <td>-14.0</td>\n",
       "      <td>-14.0%</td>\n",
       "    </tr>\n",
       "    <tr>\n",
       "      <th>1</th>\n",
       "      <td>3266</td>\n",
       "      <td>37.743122</td>\n",
       "      <td>-122.471300</td>\n",
       "      <td>15th Ave &amp; Taraval St</td>\n",
       "      <td>313.8</td>\n",
       "      <td>119.6</td>\n",
       "      <td>77</td>\n",
       "      <td>255</td>\n",
       "      <td>43.0</td>\n",
       "      <td>56.0</td>\n",
       "      <td>56.0%</td>\n",
       "    </tr>\n",
       "    <tr>\n",
       "      <th>2</th>\n",
       "      <td>3267</td>\n",
       "      <td>37.743070</td>\n",
       "      <td>-122.471405</td>\n",
       "      <td>15th Ave &amp; Taraval St</td>\n",
       "      <td>92.3</td>\n",
       "      <td>240.7</td>\n",
       "      <td>280</td>\n",
       "      <td>77</td>\n",
       "      <td>-39.0</td>\n",
       "      <td>-14.0</td>\n",
       "      <td>-14.0%</td>\n",
       "    </tr>\n",
       "    <tr>\n",
       "      <th>3</th>\n",
       "      <td>3268</td>\n",
       "      <td>37.741524</td>\n",
       "      <td>-122.471190</td>\n",
       "      <td>15th Ave &amp; Ulloa St</td>\n",
       "      <td>233.4</td>\n",
       "      <td>16.5</td>\n",
       "      <td>22</td>\n",
       "      <td>111</td>\n",
       "      <td>-6.0</td>\n",
       "      <td>-27.0</td>\n",
       "      <td>-27.0%</td>\n",
       "    </tr>\n",
       "    <tr>\n",
       "      <th>4</th>\n",
       "      <td>3269</td>\n",
       "      <td>37.741486</td>\n",
       "      <td>-122.471300</td>\n",
       "      <td>15th Ave &amp; Ulloa St</td>\n",
       "      <td>23.3</td>\n",
       "      <td>90.4</td>\n",
       "      <td>47</td>\n",
       "      <td>13</td>\n",
       "      <td>43.0</td>\n",
       "      <td>91.0</td>\n",
       "      <td>91.0%</td>\n",
       "    </tr>\n",
       "  </tbody>\n",
       "</table>\n",
       "</div>"
      ],
      "text/plain": [
       "   STOP_ID        LAT         LON              STOP_NAME  Alightings_16  \\\n",
       "0     3212  37.763912 -122.466240    9th Ave & Irving St          292.4   \n",
       "1     3266  37.743122 -122.471300  15th Ave & Taraval St          313.8   \n",
       "2     3267  37.743070 -122.471405  15th Ave & Taraval St           92.3   \n",
       "3     3268  37.741524 -122.471190    15th Ave & Ulloa St          233.4   \n",
       "4     3269  37.741486 -122.471300    15th Ave & Ulloa St           23.3   \n",
       "\n",
       "   Boardings_16  Boardings_09  Alightings_09   DIFF  P_DIFF P_DIFF_STR  \n",
       "0        1046.3          1223            270 -177.0   -14.0     -14.0%  \n",
       "1         119.6            77            255   43.0    56.0      56.0%  \n",
       "2         240.7           280             77  -39.0   -14.0     -14.0%  \n",
       "3          16.5            22            111   -6.0   -27.0     -27.0%  \n",
       "4          90.4            47             13   43.0    91.0      91.0%  "
      ]
     },
     "execution_count": 115,
     "metadata": {},
     "output_type": "execute_result"
    }
   ],
   "source": [
    "rail2 = rail[['STOP_ID','Alightings_09','Boardings_09','STOP_NAME','Boardings_16','Alightings_16','DIFF','P_DIFF']].fillna(0)\n",
    "rail['STOP_ID'] = rail2.STOP_ID\n",
    "rail.Boardings_09 = rail2.Boardings_09\n",
    "rail.Alightings_09 = rail2.Alightings_09\n",
    "rail.STOP_NAME = rail2.STOP_NAME\n",
    "rail.Boardings_16 = rail2.Boardings_16\n",
    "rail.Alightings_16 = rail2.Alightings_16\n",
    "rail.DIFF = rail2.DIFF\n",
    "rail.P_DIFF = rail2.P_DIFF\n",
    "rail.LAT = rail.LAT.astype(float)\n",
    "rail.head()"
   ]
  },
  {
   "cell_type": "code",
   "execution_count": 120,
   "metadata": {
    "collapsed": false
   },
   "outputs": [],
   "source": [
    "rail.to_csv('E:/Transit-Casa-Alex/Output/Processed MUNI Rail/MUNI_Rail_Map_Data.csv')"
   ]
  },
  {
   "cell_type": "code",
   "execution_count": 117,
   "metadata": {
    "collapsed": false
   },
   "outputs": [
    {
     "name": "stdout",
     "output_type": "stream",
     "text": [
      "<class 'pandas.core.frame.DataFrame'>\n",
      "Int64Index: 236 entries, 0 to 235\n",
      "Data columns (total 11 columns):\n",
      "STOP_ID          236 non-null int64\n",
      "LAT              236 non-null float64\n",
      "LON              236 non-null float64\n",
      "STOP_NAME        236 non-null object\n",
      "Alightings_16    236 non-null float64\n",
      "Boardings_16     236 non-null float64\n",
      "Boardings_09     236 non-null int64\n",
      "Alightings_09    236 non-null int64\n",
      "DIFF             236 non-null float64\n",
      "P_DIFF           236 non-null float64\n",
      "P_DIFF_STR       236 non-null object\n",
      "dtypes: float64(6), int64(3), object(2)\n",
      "memory usage: 22.1+ KB\n"
     ]
    }
   ],
   "source": [
    "rail.info()"
   ]
  },
  {
   "cell_type": "code",
   "execution_count": 118,
   "metadata": {
    "collapsed": false
   },
   "outputs": [
    {
     "data": {
      "text/html": [
       "<div>\n",
       "<table border=\"1\" class=\"dataframe\">\n",
       "  <thead>\n",
       "    <tr style=\"text-align: right;\">\n",
       "      <th></th>\n",
       "      <th>STOP_ID</th>\n",
       "      <th>LAT</th>\n",
       "      <th>LON</th>\n",
       "      <th>STOP_NAME</th>\n",
       "      <th>Alightings_16</th>\n",
       "      <th>Boardings_16</th>\n",
       "      <th>Boardings_09</th>\n",
       "      <th>Alightings_09</th>\n",
       "      <th>DIFF</th>\n",
       "      <th>P_DIFF</th>\n",
       "      <th>P_DIFF_STR</th>\n",
       "    </tr>\n",
       "  </thead>\n",
       "  <tbody>\n",
       "    <tr>\n",
       "      <th>81</th>\n",
       "      <td>5221</td>\n",
       "      <td>37.760365</td>\n",
       "      <td>-122.50901</td>\n",
       "      <td>Judah/La Playa/Ocean Beach</td>\n",
       "      <td>518.7</td>\n",
       "      <td>0.0</td>\n",
       "      <td>0</td>\n",
       "      <td>701</td>\n",
       "      <td>0.0</td>\n",
       "      <td>0.0</td>\n",
       "      <td>nan%</td>\n",
       "    </tr>\n",
       "    <tr>\n",
       "      <th>223</th>\n",
       "      <td>7393</td>\n",
       "      <td>37.732280</td>\n",
       "      <td>-122.39153</td>\n",
       "      <td>Third Street/Revere/Shafter</td>\n",
       "      <td>428.5</td>\n",
       "      <td>185.3</td>\n",
       "      <td>185</td>\n",
       "      <td>421</td>\n",
       "      <td>0.0</td>\n",
       "      <td>0.0</td>\n",
       "      <td>0.0%</td>\n",
       "    </tr>\n",
       "    <tr>\n",
       "      <th>226</th>\n",
       "      <td>7396</td>\n",
       "      <td>37.708970</td>\n",
       "      <td>-122.40511</td>\n",
       "      <td>Bay Shore Blvd &amp; Sunnydale Ave</td>\n",
       "      <td>182.5</td>\n",
       "      <td>0.0</td>\n",
       "      <td>0</td>\n",
       "      <td>561</td>\n",
       "      <td>0.0</td>\n",
       "      <td>0.0</td>\n",
       "      <td>nan%</td>\n",
       "    </tr>\n",
       "  </tbody>\n",
       "</table>\n",
       "</div>"
      ],
      "text/plain": [
       "     STOP_ID        LAT        LON                       STOP_NAME  \\\n",
       "81      5221  37.760365 -122.50901      Judah/La Playa/Ocean Beach   \n",
       "223     7393  37.732280 -122.39153     Third Street/Revere/Shafter   \n",
       "226     7396  37.708970 -122.40511  Bay Shore Blvd & Sunnydale Ave   \n",
       "\n",
       "     Alightings_16  Boardings_16  Boardings_09  Alightings_09  DIFF  P_DIFF  \\\n",
       "81           518.7           0.0             0            701   0.0     0.0   \n",
       "223          428.5         185.3           185            421   0.0     0.0   \n",
       "226          182.5           0.0             0            561   0.0     0.0   \n",
       "\n",
       "    P_DIFF_STR  \n",
       "81        nan%  \n",
       "223       0.0%  \n",
       "226       nan%  "
      ]
     },
     "execution_count": 118,
     "metadata": {},
     "output_type": "execute_result"
    }
   ],
   "source": [
    "import numpy as np\n",
    "rail[rail['P_DIFF'] == 0]"
   ]
  },
  {
   "cell_type": "code",
   "execution_count": 119,
   "metadata": {
    "collapsed": false
   },
   "outputs": [
    {
     "data": {
      "text/plain": [
       "5119    1\n",
       "6280    1\n",
       "5786    1\n",
       "5726    1\n",
       "5784    1\n",
       "6275    1\n",
       "5780    1\n",
       "5779    1\n",
       "6288    1\n",
       "6287    1\n",
       "6285    1\n",
       "3212    1\n",
       "6217    1\n",
       "7343    1\n",
       "3719    1\n",
       "5788    1\n",
       "3718    1\n",
       "3717    1\n",
       "3716    1\n",
       "3715    1\n",
       "6274    1\n",
       "5204    1\n",
       "6269    1\n",
       "6268    1\n",
       "6266    1\n",
       "6265    1\n",
       "5240    1\n",
       "5239    1\n",
       "5787    1\n",
       "3998    1\n",
       "       ..\n",
       "3376    1\n",
       "3385    1\n",
       "6637    1\n",
       "7363    1\n",
       "3985    1\n",
       "3984    1\n",
       "5118    1\n",
       "7252    1\n",
       "5793    1\n",
       "7365    1\n",
       "6503    1\n",
       "5203    1\n",
       "4448    1\n",
       "4447    1\n",
       "6633    1\n",
       "7342    1\n",
       "6998    1\n",
       "6997    1\n",
       "5201    1\n",
       "6995    1\n",
       "6994    1\n",
       "6993    1\n",
       "6992    1\n",
       "6991    1\n",
       "3403    1\n",
       "3913    1\n",
       "3912    1\n",
       "5198    1\n",
       "3909    1\n",
       "5120    1\n",
       "Name: STOP_ID, dtype: int64"
      ]
     },
     "execution_count": 119,
     "metadata": {},
     "output_type": "execute_result"
    }
   ],
   "source": [
    "rail.STOP_ID.value_counts()"
   ]
  },
  {
   "cell_type": "code",
   "execution_count": null,
   "metadata": {
    "collapsed": true
   },
   "outputs": [],
   "source": []
  },
  {
   "cell_type": "code",
   "execution_count": null,
   "metadata": {
    "collapsed": true
   },
   "outputs": [],
   "source": []
  }
 ],
 "metadata": {
  "anaconda-cloud": {},
  "kernelspec": {
   "display_name": "Python [conda root]",
   "language": "python",
   "name": "conda-root-py"
  },
  "language_info": {
   "codemirror_mode": {
    "name": "ipython",
    "version": 3
   },
   "file_extension": ".py",
   "mimetype": "text/x-python",
   "name": "python",
   "nbconvert_exporter": "python",
   "pygments_lexer": "ipython3",
   "version": "3.5.2"
  }
 },
 "nbformat": 4,
 "nbformat_minor": 1
}
