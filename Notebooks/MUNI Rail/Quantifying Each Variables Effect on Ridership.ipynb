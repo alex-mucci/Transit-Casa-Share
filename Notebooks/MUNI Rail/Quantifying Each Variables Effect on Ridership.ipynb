{
 "cells": [
  {
   "cell_type": "code",
   "execution_count": 2,
   "metadata": {
    "collapsed": true
   },
   "outputs": [],
   "source": [
    "import pandas as pd\n",
    "import numpy as np"
   ]
  },
  {
   "cell_type": "code",
   "execution_count": 22,
   "metadata": {
    "collapsed": false
   },
   "outputs": [],
   "source": [
    "df09 = pd.read_csv('E:/Transit-Casa-Alex/MUNI Rail/Output/Modeling/2009/Final_Model_Data_Post_Drop.csv',index_col = 0)\n",
    "df16 = pd.read_csv('E:/Transit-Casa-Alex/MUNI Rail/Output/Modeling/2016/Final_Model_Data_Post_Drop.csv',index_col = 0)\n",
    "\n",
    "model09 = pd.read_csv('Model_Rail_09.csv')\n",
    "model16 = pd.read_csv('Model_Rail_16.csv')"
   ]
  },
  {
   "cell_type": "code",
   "execution_count": 13,
   "metadata": {
    "collapsed": false
   },
   "outputs": [
    {
     "data": {
      "text/html": [
       "<div>\n",
       "<table border=\"1\" class=\"dataframe\">\n",
       "  <thead>\n",
       "    <tr style=\"text-align: right;\">\n",
       "      <th></th>\n",
       "      <th>ROUTE_SHORT_NAME</th>\n",
       "      <th>DIR</th>\n",
       "      <th>LOG_RIDERS</th>\n",
       "      <th>EDD_EMP_LOG</th>\n",
       "      <th>STOP_ID</th>\n",
       "      <th>AVG_RIDE</th>\n",
       "      <th>FREQ_S_LOG</th>\n",
       "      <th>EOL_SOL</th>\n",
       "      <th>HOUSING_09_DEN_LOG</th>\n",
       "      <th>MUNI_BUS_AVG</th>\n",
       "      <th>AVG_BART_LOG</th>\n",
       "      <th>CLOSE_STOP</th>\n",
       "      <th>J</th>\n",
       "    </tr>\n",
       "  </thead>\n",
       "  <tbody>\n",
       "    <tr>\n",
       "      <th>0</th>\n",
       "      <td>J</td>\n",
       "      <td>1</td>\n",
       "      <td>4.564348</td>\n",
       "      <td>7.089243</td>\n",
       "      <td>3537</td>\n",
       "      <td>95.0</td>\n",
       "      <td>1.534190</td>\n",
       "      <td>0.0</td>\n",
       "      <td>7.804466</td>\n",
       "      <td>6150.244661</td>\n",
       "      <td>0.0</td>\n",
       "      <td>1</td>\n",
       "      <td>1</td>\n",
       "    </tr>\n",
       "    <tr>\n",
       "      <th>1</th>\n",
       "      <td>J</td>\n",
       "      <td>0</td>\n",
       "      <td>4.753590</td>\n",
       "      <td>7.082549</td>\n",
       "      <td>3538</td>\n",
       "      <td>115.0</td>\n",
       "      <td>1.802634</td>\n",
       "      <td>0.0</td>\n",
       "      <td>7.788445</td>\n",
       "      <td>5819.619250</td>\n",
       "      <td>0.0</td>\n",
       "      <td>1</td>\n",
       "      <td>1</td>\n",
       "    </tr>\n",
       "    <tr>\n",
       "      <th>2</th>\n",
       "      <td>J</td>\n",
       "      <td>0</td>\n",
       "      <td>5.556828</td>\n",
       "      <td>8.032360</td>\n",
       "      <td>3984</td>\n",
       "      <td>258.0</td>\n",
       "      <td>1.795095</td>\n",
       "      <td>0.0</td>\n",
       "      <td>8.188915</td>\n",
       "      <td>2719.199380</td>\n",
       "      <td>0.0</td>\n",
       "      <td>1</td>\n",
       "      <td>1</td>\n",
       "    </tr>\n",
       "    <tr>\n",
       "      <th>3</th>\n",
       "      <td>J</td>\n",
       "      <td>1</td>\n",
       "      <td>5.391352</td>\n",
       "      <td>8.000014</td>\n",
       "      <td>3985</td>\n",
       "      <td>218.5</td>\n",
       "      <td>1.546459</td>\n",
       "      <td>0.0</td>\n",
       "      <td>8.181901</td>\n",
       "      <td>2817.825827</td>\n",
       "      <td>0.0</td>\n",
       "      <td>1</td>\n",
       "      <td>1</td>\n",
       "    </tr>\n",
       "    <tr>\n",
       "      <th>4</th>\n",
       "      <td>J</td>\n",
       "      <td>0</td>\n",
       "      <td>5.749393</td>\n",
       "      <td>7.532624</td>\n",
       "      <td>3987</td>\n",
       "      <td>313.0</td>\n",
       "      <td>1.795165</td>\n",
       "      <td>0.0</td>\n",
       "      <td>7.961077</td>\n",
       "      <td>1070.990155</td>\n",
       "      <td>0.0</td>\n",
       "      <td>1</td>\n",
       "      <td>1</td>\n",
       "    </tr>\n",
       "  </tbody>\n",
       "</table>\n",
       "</div>"
      ],
      "text/plain": [
       "  ROUTE_SHORT_NAME  DIR  LOG_RIDERS  EDD_EMP_LOG  STOP_ID  AVG_RIDE  \\\n",
       "0                J    1    4.564348     7.089243     3537      95.0   \n",
       "1                J    0    4.753590     7.082549     3538     115.0   \n",
       "2                J    0    5.556828     8.032360     3984     258.0   \n",
       "3                J    1    5.391352     8.000014     3985     218.5   \n",
       "4                J    0    5.749393     7.532624     3987     313.0   \n",
       "\n",
       "   FREQ_S_LOG  EOL_SOL  HOUSING_09_DEN_LOG  MUNI_BUS_AVG  AVG_BART_LOG  \\\n",
       "0    1.534190      0.0            7.804466   6150.244661           0.0   \n",
       "1    1.802634      0.0            7.788445   5819.619250           0.0   \n",
       "2    1.795095      0.0            8.188915   2719.199380           0.0   \n",
       "3    1.546459      0.0            8.181901   2817.825827           0.0   \n",
       "4    1.795165      0.0            7.961077   1070.990155           0.0   \n",
       "\n",
       "   CLOSE_STOP  J  \n",
       "0           1  1  \n",
       "1           1  1  \n",
       "2           1  1  \n",
       "3           1  1  \n",
       "4           1  1  "
      ]
     },
     "execution_count": 13,
     "metadata": {},
     "output_type": "execute_result"
    }
   ],
   "source": [
    "df09.head()"
   ]
  },
  {
   "cell_type": "code",
   "execution_count": 14,
   "metadata": {
    "collapsed": false
   },
   "outputs": [],
   "source": [
    "merged_df = pd.merge(df09,df16,how = 'inner',on=['ROUTE_SHORT_NAME','DIR','STOP_ID'],suffixes = ('_09','_16'))"
   ]
  },
  {
   "cell_type": "code",
   "execution_count": 15,
   "metadata": {
    "collapsed": false
   },
   "outputs": [
    {
     "data": {
      "text/html": [
       "<div>\n",
       "<table border=\"1\" class=\"dataframe\">\n",
       "  <thead>\n",
       "    <tr style=\"text-align: right;\">\n",
       "      <th></th>\n",
       "      <th>ROUTE_SHORT_NAME</th>\n",
       "      <th>DIR</th>\n",
       "      <th>LOG_RIDERS_09</th>\n",
       "      <th>EDD_EMP_LOG_09</th>\n",
       "      <th>STOP_ID</th>\n",
       "      <th>AVG_RIDE_09</th>\n",
       "      <th>FREQ_S_LOG_09</th>\n",
       "      <th>EOL_SOL_09</th>\n",
       "      <th>HOUSING_09_DEN_LOG</th>\n",
       "      <th>MUNI_BUS_AVG_09</th>\n",
       "      <th>...</th>\n",
       "      <th>LOG_RIDERS_16</th>\n",
       "      <th>EDD_EMP_LOG_16</th>\n",
       "      <th>AVG_RIDE_16</th>\n",
       "      <th>FREQ_S_LOG_16</th>\n",
       "      <th>EOL_SOL_16</th>\n",
       "      <th>HOUSING_16_DEN_LOG</th>\n",
       "      <th>MUNI_BUS_AVG_16</th>\n",
       "      <th>AVG_BART_LOG_16</th>\n",
       "      <th>CLOSE_STOP_16</th>\n",
       "      <th>J_16</th>\n",
       "    </tr>\n",
       "  </thead>\n",
       "  <tbody>\n",
       "    <tr>\n",
       "      <th>0</th>\n",
       "      <td>J</td>\n",
       "      <td>1</td>\n",
       "      <td>4.564348</td>\n",
       "      <td>7.089243</td>\n",
       "      <td>3537</td>\n",
       "      <td>95.0</td>\n",
       "      <td>1.534190</td>\n",
       "      <td>0.0</td>\n",
       "      <td>7.804466</td>\n",
       "      <td>6150.244661</td>\n",
       "      <td>...</td>\n",
       "      <td>5.171620</td>\n",
       "      <td>7.501082</td>\n",
       "      <td>175.20</td>\n",
       "      <td>1.537475</td>\n",
       "      <td>0.0</td>\n",
       "      <td>7.810161</td>\n",
       "      <td>5998.432593</td>\n",
       "      <td>0.0</td>\n",
       "      <td>1</td>\n",
       "      <td>1</td>\n",
       "    </tr>\n",
       "    <tr>\n",
       "      <th>1</th>\n",
       "      <td>J</td>\n",
       "      <td>0</td>\n",
       "      <td>4.753590</td>\n",
       "      <td>7.082549</td>\n",
       "      <td>3538</td>\n",
       "      <td>115.0</td>\n",
       "      <td>1.802634</td>\n",
       "      <td>0.0</td>\n",
       "      <td>7.788445</td>\n",
       "      <td>5819.619250</td>\n",
       "      <td>...</td>\n",
       "      <td>4.617099</td>\n",
       "      <td>7.442493</td>\n",
       "      <td>100.20</td>\n",
       "      <td>1.844041</td>\n",
       "      <td>0.0</td>\n",
       "      <td>7.794231</td>\n",
       "      <td>6027.654485</td>\n",
       "      <td>0.0</td>\n",
       "      <td>1</td>\n",
       "      <td>1</td>\n",
       "    </tr>\n",
       "    <tr>\n",
       "      <th>2</th>\n",
       "      <td>J</td>\n",
       "      <td>0</td>\n",
       "      <td>5.556828</td>\n",
       "      <td>8.032360</td>\n",
       "      <td>3984</td>\n",
       "      <td>258.0</td>\n",
       "      <td>1.795095</td>\n",
       "      <td>0.0</td>\n",
       "      <td>8.188915</td>\n",
       "      <td>2719.199380</td>\n",
       "      <td>...</td>\n",
       "      <td>5.838022</td>\n",
       "      <td>8.369157</td>\n",
       "      <td>342.10</td>\n",
       "      <td>1.845646</td>\n",
       "      <td>0.0</td>\n",
       "      <td>8.237437</td>\n",
       "      <td>2223.586227</td>\n",
       "      <td>0.0</td>\n",
       "      <td>1</td>\n",
       "      <td>1</td>\n",
       "    </tr>\n",
       "    <tr>\n",
       "      <th>3</th>\n",
       "      <td>J</td>\n",
       "      <td>1</td>\n",
       "      <td>5.391352</td>\n",
       "      <td>8.000014</td>\n",
       "      <td>3985</td>\n",
       "      <td>218.5</td>\n",
       "      <td>1.546459</td>\n",
       "      <td>0.0</td>\n",
       "      <td>8.181901</td>\n",
       "      <td>2817.825827</td>\n",
       "      <td>...</td>\n",
       "      <td>5.766444</td>\n",
       "      <td>8.393895</td>\n",
       "      <td>318.40</td>\n",
       "      <td>1.537099</td>\n",
       "      <td>0.0</td>\n",
       "      <td>8.225158</td>\n",
       "      <td>2312.494071</td>\n",
       "      <td>0.0</td>\n",
       "      <td>1</td>\n",
       "      <td>1</td>\n",
       "    </tr>\n",
       "    <tr>\n",
       "      <th>4</th>\n",
       "      <td>J</td>\n",
       "      <td>0</td>\n",
       "      <td>5.749393</td>\n",
       "      <td>7.532624</td>\n",
       "      <td>3987</td>\n",
       "      <td>313.0</td>\n",
       "      <td>1.795165</td>\n",
       "      <td>0.0</td>\n",
       "      <td>7.961077</td>\n",
       "      <td>1070.990155</td>\n",
       "      <td>...</td>\n",
       "      <td>6.062272</td>\n",
       "      <td>8.049108</td>\n",
       "      <td>428.35</td>\n",
       "      <td>1.845526</td>\n",
       "      <td>0.0</td>\n",
       "      <td>7.968209</td>\n",
       "      <td>1027.177723</td>\n",
       "      <td>0.0</td>\n",
       "      <td>1</td>\n",
       "      <td>1</td>\n",
       "    </tr>\n",
       "  </tbody>\n",
       "</table>\n",
       "<p>5 rows × 23 columns</p>\n",
       "</div>"
      ],
      "text/plain": [
       "  ROUTE_SHORT_NAME  DIR  LOG_RIDERS_09  EDD_EMP_LOG_09  STOP_ID  AVG_RIDE_09  \\\n",
       "0                J    1       4.564348        7.089243     3537         95.0   \n",
       "1                J    0       4.753590        7.082549     3538        115.0   \n",
       "2                J    0       5.556828        8.032360     3984        258.0   \n",
       "3                J    1       5.391352        8.000014     3985        218.5   \n",
       "4                J    0       5.749393        7.532624     3987        313.0   \n",
       "\n",
       "   FREQ_S_LOG_09  EOL_SOL_09  HOUSING_09_DEN_LOG  MUNI_BUS_AVG_09  ...   \\\n",
       "0       1.534190         0.0            7.804466      6150.244661  ...    \n",
       "1       1.802634         0.0            7.788445      5819.619250  ...    \n",
       "2       1.795095         0.0            8.188915      2719.199380  ...    \n",
       "3       1.546459         0.0            8.181901      2817.825827  ...    \n",
       "4       1.795165         0.0            7.961077      1070.990155  ...    \n",
       "\n",
       "   LOG_RIDERS_16  EDD_EMP_LOG_16  AVG_RIDE_16  FREQ_S_LOG_16  EOL_SOL_16  \\\n",
       "0       5.171620        7.501082       175.20       1.537475         0.0   \n",
       "1       4.617099        7.442493       100.20       1.844041         0.0   \n",
       "2       5.838022        8.369157       342.10       1.845646         0.0   \n",
       "3       5.766444        8.393895       318.40       1.537099         0.0   \n",
       "4       6.062272        8.049108       428.35       1.845526         0.0   \n",
       "\n",
       "   HOUSING_16_DEN_LOG  MUNI_BUS_AVG_16  AVG_BART_LOG_16  CLOSE_STOP_16  J_16  \n",
       "0            7.810161      5998.432593              0.0              1     1  \n",
       "1            7.794231      6027.654485              0.0              1     1  \n",
       "2            8.237437      2223.586227              0.0              1     1  \n",
       "3            8.225158      2312.494071              0.0              1     1  \n",
       "4            7.968209      1027.177723              0.0              1     1  \n",
       "\n",
       "[5 rows x 23 columns]"
      ]
     },
     "execution_count": 15,
     "metadata": {},
     "output_type": "execute_result"
    }
   ],
   "source": [
    "merged_df.head()"
   ]
  },
  {
   "cell_type": "code",
   "execution_count": 16,
   "metadata": {
    "collapsed": true
   },
   "outputs": [],
   "source": [
    "merged_df.to_csv('Rail Quantifying Variable Effects Data.csv')"
   ]
  },
  {
   "cell_type": "code",
   "execution_count": 17,
   "metadata": {
    "collapsed": true
   },
   "outputs": [],
   "source": [
    "merged_df_outer = pd.merge(df09,df16,how = 'outer',on=['ROUTE_SHORT_NAME','DIR','STOP_ID'],suffixes = ('_09','_16'))"
   ]
  },
  {
   "cell_type": "code",
   "execution_count": 20,
   "metadata": {
    "collapsed": false
   },
   "outputs": [
    {
     "name": "stdout",
     "output_type": "stream",
     "text": [
      "1432.6000000000004\n",
      "6285.5\n"
     ]
    }
   ],
   "source": [
    "missing09 = merged_df_outer[np.isnan(merged_df_outer['AVG_RIDE_09'])]\n",
    "print(missing09['AVG_RIDE_16'].sum())\n",
    "\n",
    "missing16 = merged_df_outer[np.isnan(merged_df_outer['AVG_RIDE_16'])]\n",
    "print(missing16['AVG_RIDE_09'].sum())"
   ]
  },
  {
   "cell_type": "code",
   "execution_count": 23,
   "metadata": {
    "collapsed": true
   },
   "outputs": [],
   "source": [
    "merged_model = pd.merge(model09,model16,how = 'inner',on=['ROUTE_SHORT_NAME','DIR','STOP_ID'],suffixes = ('_09','_16'))"
   ]
  },
  {
   "cell_type": "code",
   "execution_count": 28,
   "metadata": {
    "collapsed": false
   },
   "outputs": [],
   "source": [
    "merged_model[columns].to_csv('Merged_Model_Data_Rail.csv')"
   ]
  },
  {
   "cell_type": "code",
   "execution_count": 27,
   "metadata": {
    "collapsed": false
   },
   "outputs": [],
   "source": [
    "columns = merged_df.columns"
   ]
  },
  {
   "cell_type": "code",
   "execution_count": 29,
   "metadata": {
    "collapsed": true
   },
   "outputs": [],
   "source": [
    "merged_model_outer = pd.merge(model09,model16,how = 'outer',on=['ROUTE_SHORT_NAME','DIR','STOP_ID'],suffixes = ('_09','_16'))"
   ]
  },
  {
   "cell_type": "code",
   "execution_count": 32,
   "metadata": {
    "collapsed": false
   },
   "outputs": [
    {
     "name": "stdout",
     "output_type": "stream",
     "text": [
      "1432.6000000000004\n",
      "6285.5\n"
     ]
    }
   ],
   "source": [
    "missing09 = merged_model_outer[np.isnan(merged_model_outer['AVG_RIDE_09'])]\n",
    "print(missing09.AVG_RIDE_16.sum())\n",
    "\n",
    "missing16 = merged_model_outer[np.isnan(merged_model_outer['AVG_RIDE_16'])]\n",
    "print(missing16.AVG_RIDE_09.sum())"
   ]
  },
  {
   "cell_type": "code",
   "execution_count": null,
   "metadata": {
    "collapsed": true
   },
   "outputs": [],
   "source": []
  }
 ],
 "metadata": {
  "anaconda-cloud": {},
  "kernelspec": {
   "display_name": "Python [conda root]",
   "language": "python",
   "name": "conda-root-py"
  },
  "language_info": {
   "codemirror_mode": {
    "name": "ipython",
    "version": 3
   },
   "file_extension": ".py",
   "mimetype": "text/x-python",
   "name": "python",
   "nbconvert_exporter": "python",
   "pygments_lexer": "ipython3",
   "version": "3.5.2"
  }
 },
 "nbformat": 4,
 "nbformat_minor": 1
}
