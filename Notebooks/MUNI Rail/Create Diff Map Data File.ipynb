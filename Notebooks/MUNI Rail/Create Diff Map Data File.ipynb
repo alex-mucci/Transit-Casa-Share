{
 "cells": [
  {
   "cell_type": "code",
   "execution_count": 414,
   "metadata": {
    "collapsed": true
   },
   "outputs": [],
   "source": [
    "import pandas as pd"
   ]
  },
  {
   "cell_type": "code",
   "execution_count": 562,
   "metadata": {
    "collapsed": false
   },
   "outputs": [],
   "source": [
    "df = pd.read_csv('E:/Transit-Casa-Alex/MUNI Rail/Output/Modeling/2016/Diff_Mapping_Data.csv')"
   ]
  },
  {
   "cell_type": "markdown",
   "metadata": {},
   "source": [
    "# This Starts 2016 Data Processing"
   ]
  },
  {
   "cell_type": "code",
   "execution_count": 563,
   "metadata": {
    "collapsed": false
   },
   "outputs": [
    {
     "data": {
      "text/html": [
       "<div>\n",
       "<table border=\"1\" class=\"dataframe\">\n",
       "  <thead>\n",
       "    <tr style=\"text-align: right;\">\n",
       "      <th></th>\n",
       "      <th>LOG_RIDERS</th>\n",
       "      <th>EDD_EMP_LOG</th>\n",
       "      <th>STOP_ID</th>\n",
       "      <th>AVG_RIDE</th>\n",
       "      <th>FREQ_S_LOG</th>\n",
       "      <th>EOL_SOL</th>\n",
       "      <th>HOUSING_16_DEN_LOG</th>\n",
       "      <th>MUNI_BUS_AVG</th>\n",
       "      <th>AVG_BART_LOG</th>\n",
       "      <th>CLOSE_STOP</th>\n",
       "      <th>J</th>\n",
       "      <th>PRED_AVG_RIDERSHIP</th>\n",
       "    </tr>\n",
       "  </thead>\n",
       "  <tbody>\n",
       "    <tr>\n",
       "      <th>0</th>\n",
       "      <td>6.507800</td>\n",
       "      <td>7.527256</td>\n",
       "      <td>3212</td>\n",
       "      <td>669.35</td>\n",
       "      <td>1.320575</td>\n",
       "      <td>0.0</td>\n",
       "      <td>7.880741</td>\n",
       "      <td>2833.548265</td>\n",
       "      <td>0.0</td>\n",
       "      <td>1</td>\n",
       "      <td>0</td>\n",
       "      <td>318.98</td>\n",
       "    </tr>\n",
       "    <tr>\n",
       "      <th>1</th>\n",
       "      <td>5.383118</td>\n",
       "      <td>7.185387</td>\n",
       "      <td>3266</td>\n",
       "      <td>216.70</td>\n",
       "      <td>1.925794</td>\n",
       "      <td>0.0</td>\n",
       "      <td>7.193610</td>\n",
       "      <td>1168.639681</td>\n",
       "      <td>0.0</td>\n",
       "      <td>1</td>\n",
       "      <td>0</td>\n",
       "      <td>271.00</td>\n",
       "    </tr>\n",
       "    <tr>\n",
       "      <th>2</th>\n",
       "      <td>5.120983</td>\n",
       "      <td>7.184629</td>\n",
       "      <td>3267</td>\n",
       "      <td>166.50</td>\n",
       "      <td>1.497044</td>\n",
       "      <td>0.0</td>\n",
       "      <td>7.196664</td>\n",
       "      <td>1184.363119</td>\n",
       "      <td>0.0</td>\n",
       "      <td>1</td>\n",
       "      <td>0</td>\n",
       "      <td>238.14</td>\n",
       "    </tr>\n",
       "    <tr>\n",
       "      <th>3</th>\n",
       "      <td>4.835885</td>\n",
       "      <td>7.665285</td>\n",
       "      <td>3268</td>\n",
       "      <td>124.95</td>\n",
       "      <td>1.925890</td>\n",
       "      <td>0.0</td>\n",
       "      <td>7.152574</td>\n",
       "      <td>125.097364</td>\n",
       "      <td>0.0</td>\n",
       "      <td>1</td>\n",
       "      <td>0</td>\n",
       "      <td>271.46</td>\n",
       "    </tr>\n",
       "    <tr>\n",
       "      <th>4</th>\n",
       "      <td>4.057853</td>\n",
       "      <td>7.645876</td>\n",
       "      <td>3269</td>\n",
       "      <td>56.85</td>\n",
       "      <td>1.496992</td>\n",
       "      <td>0.0</td>\n",
       "      <td>7.155292</td>\n",
       "      <td>62.621274</td>\n",
       "      <td>0.0</td>\n",
       "      <td>1</td>\n",
       "      <td>0</td>\n",
       "      <td>236.65</td>\n",
       "    </tr>\n",
       "  </tbody>\n",
       "</table>\n",
       "</div>"
      ],
      "text/plain": [
       "   LOG_RIDERS  EDD_EMP_LOG  STOP_ID  AVG_RIDE  FREQ_S_LOG  EOL_SOL  \\\n",
       "0    6.507800     7.527256     3212    669.35    1.320575      0.0   \n",
       "1    5.383118     7.185387     3266    216.70    1.925794      0.0   \n",
       "2    5.120983     7.184629     3267    166.50    1.497044      0.0   \n",
       "3    4.835885     7.665285     3268    124.95    1.925890      0.0   \n",
       "4    4.057853     7.645876     3269     56.85    1.496992      0.0   \n",
       "\n",
       "   HOUSING_16_DEN_LOG  MUNI_BUS_AVG  AVG_BART_LOG  CLOSE_STOP  J  \\\n",
       "0            7.880741   2833.548265           0.0           1  0   \n",
       "1            7.193610   1168.639681           0.0           1  0   \n",
       "2            7.196664   1184.363119           0.0           1  0   \n",
       "3            7.152574    125.097364           0.0           1  0   \n",
       "4            7.155292     62.621274           0.0           1  0   \n",
       "\n",
       "   PRED_AVG_RIDERSHIP  \n",
       "0              318.98  \n",
       "1              271.00  \n",
       "2              238.14  \n",
       "3              271.46  \n",
       "4              236.65  "
      ]
     },
     "execution_count": 563,
     "metadata": {},
     "output_type": "execute_result"
    }
   ],
   "source": [
    "df.head()"
   ]
  },
  {
   "cell_type": "code",
   "execution_count": 564,
   "metadata": {
    "collapsed": false
   },
   "outputs": [
    {
     "data": {
      "text/plain": [
       "Index(['LOG_RIDERS', 'EDD_EMP_LOG', 'STOP_ID', 'AVG_RIDE', 'FREQ_S_LOG',\n",
       "       'EOL_SOL', 'HOUSING_16_DEN_LOG', 'MUNI_BUS_AVG', 'AVG_BART_LOG',\n",
       "       'CLOSE_STOP', 'J', 'PRED_AVG_RIDERSHIP'],\n",
       "      dtype='object')"
      ]
     },
     "execution_count": 564,
     "metadata": {},
     "output_type": "execute_result"
    }
   ],
   "source": [
    "df.columns"
   ]
  },
  {
   "cell_type": "code",
   "execution_count": 565,
   "metadata": {
    "collapsed": true
   },
   "outputs": [],
   "source": [
    "agg = {'AVG_RIDE':'sum','PRED_AVG_RIDERSHIP':'sum','EDD_EMP_LOG':'sum', 'AVG_RIDE':'sum', 'FREQ_S_LOG':'mean',\n",
    "       'EOL_SOL':'mean', 'HOUSING_16_DEN_LOG':'mean', 'MUNI_BUS_AVG':'sum', 'AVG_BART_LOG':'sum',\n",
    "       'CLOSE_STOP':'mean'}"
   ]
  },
  {
   "cell_type": "code",
   "execution_count": 566,
   "metadata": {
    "collapsed": false
   },
   "outputs": [],
   "source": [
    "grouped16 = df.groupby(by = 'STOP_ID', as_index = False).agg(agg)"
   ]
  },
  {
   "cell_type": "code",
   "execution_count": 567,
   "metadata": {
    "collapsed": false
   },
   "outputs": [
    {
     "data": {
      "text/html": [
       "<div>\n",
       "<table border=\"1\" class=\"dataframe\">\n",
       "  <thead>\n",
       "    <tr style=\"text-align: right;\">\n",
       "      <th></th>\n",
       "      <th>STOP_ID</th>\n",
       "      <th>CLOSE_STOP</th>\n",
       "      <th>MUNI_BUS_AVG</th>\n",
       "      <th>AVG_BART_LOG</th>\n",
       "      <th>PRED_AVG_RIDERSHIP</th>\n",
       "      <th>AVG_RIDE</th>\n",
       "      <th>EOL_SOL</th>\n",
       "      <th>EDD_EMP_LOG</th>\n",
       "      <th>FREQ_S_LOG</th>\n",
       "      <th>HOUSING_16_DEN_LOG</th>\n",
       "      <th>DIFF_AVG_RIDE</th>\n",
       "      <th>PDIFF_AVG_RIDE</th>\n",
       "    </tr>\n",
       "  </thead>\n",
       "  <tbody>\n",
       "    <tr>\n",
       "      <th>0</th>\n",
       "      <td>3212</td>\n",
       "      <td>1.0</td>\n",
       "      <td>2833.548265</td>\n",
       "      <td>0.0</td>\n",
       "      <td>292.966829</td>\n",
       "      <td>669.35</td>\n",
       "      <td>0.0</td>\n",
       "      <td>7.527256</td>\n",
       "      <td>1.320575</td>\n",
       "      <td>7.880741</td>\n",
       "      <td>-376.383171</td>\n",
       "      <td>-56.231145</td>\n",
       "    </tr>\n",
       "    <tr>\n",
       "      <th>1</th>\n",
       "      <td>3266</td>\n",
       "      <td>1.0</td>\n",
       "      <td>1168.639681</td>\n",
       "      <td>0.0</td>\n",
       "      <td>297.311558</td>\n",
       "      <td>216.70</td>\n",
       "      <td>0.0</td>\n",
       "      <td>7.185387</td>\n",
       "      <td>1.925794</td>\n",
       "      <td>7.193610</td>\n",
       "      <td>80.611558</td>\n",
       "      <td>37.199611</td>\n",
       "    </tr>\n",
       "    <tr>\n",
       "      <th>2</th>\n",
       "      <td>3267</td>\n",
       "      <td>1.0</td>\n",
       "      <td>1184.363119</td>\n",
       "      <td>0.0</td>\n",
       "      <td>218.341469</td>\n",
       "      <td>166.50</td>\n",
       "      <td>0.0</td>\n",
       "      <td>7.184629</td>\n",
       "      <td>1.497044</td>\n",
       "      <td>7.196664</td>\n",
       "      <td>51.841469</td>\n",
       "      <td>31.136018</td>\n",
       "    </tr>\n",
       "    <tr>\n",
       "      <th>3</th>\n",
       "      <td>3268</td>\n",
       "      <td>1.0</td>\n",
       "      <td>125.097364</td>\n",
       "      <td>0.0</td>\n",
       "      <td>312.426527</td>\n",
       "      <td>124.95</td>\n",
       "      <td>0.0</td>\n",
       "      <td>7.665285</td>\n",
       "      <td>1.925890</td>\n",
       "      <td>7.152574</td>\n",
       "      <td>187.476527</td>\n",
       "      <td>150.041238</td>\n",
       "    </tr>\n",
       "    <tr>\n",
       "      <th>4</th>\n",
       "      <td>3269</td>\n",
       "      <td>1.0</td>\n",
       "      <td>62.621274</td>\n",
       "      <td>0.0</td>\n",
       "      <td>227.660005</td>\n",
       "      <td>56.85</td>\n",
       "      <td>0.0</td>\n",
       "      <td>7.645876</td>\n",
       "      <td>1.496992</td>\n",
       "      <td>7.155292</td>\n",
       "      <td>170.810005</td>\n",
       "      <td>300.457352</td>\n",
       "    </tr>\n",
       "  </tbody>\n",
       "</table>\n",
       "</div>"
      ],
      "text/plain": [
       "   STOP_ID  CLOSE_STOP  MUNI_BUS_AVG  AVG_BART_LOG  PRED_AVG_RIDERSHIP  \\\n",
       "0     3212         1.0   2833.548265           0.0          292.966829   \n",
       "1     3266         1.0   1168.639681           0.0          297.311558   \n",
       "2     3267         1.0   1184.363119           0.0          218.341469   \n",
       "3     3268         1.0    125.097364           0.0          312.426527   \n",
       "4     3269         1.0     62.621274           0.0          227.660005   \n",
       "\n",
       "   AVG_RIDE  EOL_SOL  EDD_EMP_LOG  FREQ_S_LOG  HOUSING_16_DEN_LOG  \\\n",
       "0    669.35      0.0     7.527256    1.320575            7.880741   \n",
       "1    216.70      0.0     7.185387    1.925794            7.193610   \n",
       "2    166.50      0.0     7.184629    1.497044            7.196664   \n",
       "3    124.95      0.0     7.665285    1.925890            7.152574   \n",
       "4     56.85      0.0     7.645876    1.496992            7.155292   \n",
       "\n",
       "   DIFF_AVG_RIDE  PDIFF_AVG_RIDE  \n",
       "0    -376.383171      -56.231145  \n",
       "1      80.611558       37.199611  \n",
       "2      51.841469       31.136018  \n",
       "3     187.476527      150.041238  \n",
       "4     170.810005      300.457352  "
      ]
     },
     "execution_count": 567,
     "metadata": {},
     "output_type": "execute_result"
    }
   ],
   "source": [
    "grouped.head()"
   ]
  },
  {
   "cell_type": "code",
   "execution_count": null,
   "metadata": {
    "collapsed": false
   },
   "outputs": [],
   "source": []
  },
  {
   "cell_type": "code",
   "execution_count": null,
   "metadata": {
    "collapsed": false
   },
   "outputs": [],
   "source": [
    "\n"
   ]
  },
  {
   "cell_type": "code",
   "execution_count": null,
   "metadata": {
    "collapsed": false
   },
   "outputs": [],
   "source": []
  },
  {
   "cell_type": "code",
   "execution_count": 568,
   "metadata": {
    "collapsed": false
   },
   "outputs": [
    {
     "data": {
      "text/plain": [
       "Index(['Unnamed: 0', 'STOP_ID', 'ROUTE_SHORT_NAME', 'DIR', 'STOP NAME',\n",
       "       'Stop Latitude', ' Total Alightings ', 'Stop Longitude',\n",
       "       ' Total Boardings ', 'SEQ', 'HEADWAY_S', 'EOL', 'SOL', 'STOP_LAT',\n",
       "       'STOP_LON', 'DWELL_S', 'RUNTIME_S', 'TOTTIME_S', 'SERVMILES_S',\n",
       "       'RUNSPEED_S', 'TOTSPEED_S'],\n",
       "      dtype='object')"
      ]
     },
     "execution_count": 568,
     "metadata": {},
     "output_type": "execute_result"
    }
   ],
   "source": [
    "stops16.columns"
   ]
  },
  {
   "cell_type": "code",
   "execution_count": 569,
   "metadata": {
    "collapsed": true
   },
   "outputs": [],
   "source": [
    "stops16 = pd.read_csv('E:\\Transit-Casa-Alex\\MUNI Rail\\Input\\Rail Stops Performance Data/MUNI_Rail_Stops_2016.csv')"
   ]
  },
  {
   "cell_type": "code",
   "execution_count": 570,
   "metadata": {
    "collapsed": false
   },
   "outputs": [],
   "source": [
    "agg = {'STOP_LAT':'mean','STOP_LON':'mean','STOP NAME':'first'}"
   ]
  },
  {
   "cell_type": "code",
   "execution_count": 571,
   "metadata": {
    "collapsed": false
   },
   "outputs": [],
   "source": [
    "merge_ready_stops = stops16[['STOP_ID','STOP_LAT','STOP_LON','STOP NAME']].groupby(by = 'STOP_ID',as_index = False).agg(agg)"
   ]
  },
  {
   "cell_type": "code",
   "execution_count": 572,
   "metadata": {
    "collapsed": false
   },
   "outputs": [],
   "source": [
    "grouped_geo16 = pd.merge(grouped16,merge_ready_stops,on = 'STOP_ID',how = 'inner')"
   ]
  },
  {
   "cell_type": "code",
   "execution_count": 573,
   "metadata": {
    "collapsed": false
   },
   "outputs": [
    {
     "data": {
      "text/html": [
       "<div>\n",
       "<table border=\"1\" class=\"dataframe\">\n",
       "  <thead>\n",
       "    <tr style=\"text-align: right;\">\n",
       "      <th></th>\n",
       "      <th>STOP_ID</th>\n",
       "      <th>CLOSE_STOP</th>\n",
       "      <th>MUNI_BUS_AVG</th>\n",
       "      <th>AVG_BART_LOG</th>\n",
       "      <th>PRED_AVG_RIDERSHIP</th>\n",
       "      <th>AVG_RIDE</th>\n",
       "      <th>EOL_SOL</th>\n",
       "      <th>EDD_EMP_LOG</th>\n",
       "      <th>FREQ_S_LOG</th>\n",
       "      <th>HOUSING_16_DEN_LOG</th>\n",
       "      <th>STOP_LON</th>\n",
       "      <th>STOP_LAT</th>\n",
       "      <th>STOP NAME</th>\n",
       "    </tr>\n",
       "  </thead>\n",
       "  <tbody>\n",
       "    <tr>\n",
       "      <th>0</th>\n",
       "      <td>3212</td>\n",
       "      <td>1.0</td>\n",
       "      <td>2833.548265</td>\n",
       "      <td>0.0</td>\n",
       "      <td>318.98</td>\n",
       "      <td>669.35</td>\n",
       "      <td>0.0</td>\n",
       "      <td>7.527256</td>\n",
       "      <td>1.320575</td>\n",
       "      <td>7.880741</td>\n",
       "      <td>-122.466241</td>\n",
       "      <td>37.763913</td>\n",
       "      <td>9th Ave &amp; Irving St</td>\n",
       "    </tr>\n",
       "    <tr>\n",
       "      <th>1</th>\n",
       "      <td>3266</td>\n",
       "      <td>1.0</td>\n",
       "      <td>1168.639681</td>\n",
       "      <td>0.0</td>\n",
       "      <td>271.00</td>\n",
       "      <td>216.70</td>\n",
       "      <td>0.0</td>\n",
       "      <td>7.185387</td>\n",
       "      <td>1.925794</td>\n",
       "      <td>7.193610</td>\n",
       "      <td>-122.471297</td>\n",
       "      <td>37.743124</td>\n",
       "      <td>15th Ave &amp; Taraval St</td>\n",
       "    </tr>\n",
       "    <tr>\n",
       "      <th>2</th>\n",
       "      <td>3267</td>\n",
       "      <td>1.0</td>\n",
       "      <td>1184.363119</td>\n",
       "      <td>0.0</td>\n",
       "      <td>238.14</td>\n",
       "      <td>166.50</td>\n",
       "      <td>0.0</td>\n",
       "      <td>7.184629</td>\n",
       "      <td>1.497044</td>\n",
       "      <td>7.196664</td>\n",
       "      <td>-122.471405</td>\n",
       "      <td>37.743069</td>\n",
       "      <td>15th Ave &amp; Taraval St</td>\n",
       "    </tr>\n",
       "    <tr>\n",
       "      <th>3</th>\n",
       "      <td>3268</td>\n",
       "      <td>1.0</td>\n",
       "      <td>125.097364</td>\n",
       "      <td>0.0</td>\n",
       "      <td>271.46</td>\n",
       "      <td>124.95</td>\n",
       "      <td>0.0</td>\n",
       "      <td>7.665285</td>\n",
       "      <td>1.925890</td>\n",
       "      <td>7.152574</td>\n",
       "      <td>-122.471192</td>\n",
       "      <td>37.741525</td>\n",
       "      <td>15th Ave &amp; Ulloa St</td>\n",
       "    </tr>\n",
       "    <tr>\n",
       "      <th>4</th>\n",
       "      <td>3269</td>\n",
       "      <td>1.0</td>\n",
       "      <td>62.621274</td>\n",
       "      <td>0.0</td>\n",
       "      <td>236.65</td>\n",
       "      <td>56.85</td>\n",
       "      <td>0.0</td>\n",
       "      <td>7.645876</td>\n",
       "      <td>1.496992</td>\n",
       "      <td>7.155292</td>\n",
       "      <td>-122.471300</td>\n",
       "      <td>37.741484</td>\n",
       "      <td>15th Ave &amp; Ulloa St</td>\n",
       "    </tr>\n",
       "  </tbody>\n",
       "</table>\n",
       "</div>"
      ],
      "text/plain": [
       "   STOP_ID  CLOSE_STOP  MUNI_BUS_AVG  AVG_BART_LOG  PRED_AVG_RIDERSHIP  \\\n",
       "0     3212         1.0   2833.548265           0.0              318.98   \n",
       "1     3266         1.0   1168.639681           0.0              271.00   \n",
       "2     3267         1.0   1184.363119           0.0              238.14   \n",
       "3     3268         1.0    125.097364           0.0              271.46   \n",
       "4     3269         1.0     62.621274           0.0              236.65   \n",
       "\n",
       "   AVG_RIDE  EOL_SOL  EDD_EMP_LOG  FREQ_S_LOG  HOUSING_16_DEN_LOG    STOP_LON  \\\n",
       "0    669.35      0.0     7.527256    1.320575            7.880741 -122.466241   \n",
       "1    216.70      0.0     7.185387    1.925794            7.193610 -122.471297   \n",
       "2    166.50      0.0     7.184629    1.497044            7.196664 -122.471405   \n",
       "3    124.95      0.0     7.665285    1.925890            7.152574 -122.471192   \n",
       "4     56.85      0.0     7.645876    1.496992            7.155292 -122.471300   \n",
       "\n",
       "    STOP_LAT              STOP NAME  \n",
       "0  37.763913    9th Ave & Irving St  \n",
       "1  37.743124  15th Ave & Taraval St  \n",
       "2  37.743069  15th Ave & Taraval St  \n",
       "3  37.741525    15th Ave & Ulloa St  \n",
       "4  37.741484    15th Ave & Ulloa St  "
      ]
     },
     "execution_count": 573,
     "metadata": {},
     "output_type": "execute_result"
    }
   ],
   "source": [
    "grouped_geo16.head()"
   ]
  },
  {
   "cell_type": "code",
   "execution_count": 574,
   "metadata": {
    "collapsed": true
   },
   "outputs": [],
   "source": [
    "grouped_geo16['DIFF_AVG_RIDE'] = grouped_geo16.PRED_AVG_RIDERSHIP - grouped_geo16.AVG_RIDE"
   ]
  },
  {
   "cell_type": "code",
   "execution_count": 575,
   "metadata": {
    "collapsed": true
   },
   "outputs": [],
   "source": [
    "grouped_geo16['PDIFF_AVG_RIDE'] = (grouped_geo16.DIFF_AVG_RIDE/grouped_geo16.AVG_RIDE)*100"
   ]
  },
  {
   "cell_type": "code",
   "execution_count": 576,
   "metadata": {
    "collapsed": false
   },
   "outputs": [
    {
     "data": {
      "text/html": [
       "<div>\n",
       "<table border=\"1\" class=\"dataframe\">\n",
       "  <thead>\n",
       "    <tr style=\"text-align: right;\">\n",
       "      <th></th>\n",
       "      <th>STOP_ID</th>\n",
       "      <th>CLOSE_STOP</th>\n",
       "      <th>MUNI_BUS_AVG</th>\n",
       "      <th>AVG_BART_LOG</th>\n",
       "      <th>PRED_AVG_RIDERSHIP</th>\n",
       "      <th>AVG_RIDE</th>\n",
       "      <th>EOL_SOL</th>\n",
       "      <th>EDD_EMP_LOG</th>\n",
       "      <th>FREQ_S_LOG</th>\n",
       "      <th>HOUSING_16_DEN_LOG</th>\n",
       "      <th>STOP_LON</th>\n",
       "      <th>STOP_LAT</th>\n",
       "      <th>STOP NAME</th>\n",
       "      <th>DIFF_AVG_RIDE</th>\n",
       "      <th>PDIFF_AVG_RIDE</th>\n",
       "    </tr>\n",
       "  </thead>\n",
       "  <tbody>\n",
       "    <tr>\n",
       "      <th>0</th>\n",
       "      <td>3212</td>\n",
       "      <td>1.0</td>\n",
       "      <td>2833.548265</td>\n",
       "      <td>0.0</td>\n",
       "      <td>318.98</td>\n",
       "      <td>669.35</td>\n",
       "      <td>0.0</td>\n",
       "      <td>7.527256</td>\n",
       "      <td>1.320575</td>\n",
       "      <td>7.880741</td>\n",
       "      <td>-122.466241</td>\n",
       "      <td>37.763913</td>\n",
       "      <td>9th Ave &amp; Irving St</td>\n",
       "      <td>-350.37</td>\n",
       "      <td>-52.344812</td>\n",
       "    </tr>\n",
       "    <tr>\n",
       "      <th>1</th>\n",
       "      <td>3266</td>\n",
       "      <td>1.0</td>\n",
       "      <td>1168.639681</td>\n",
       "      <td>0.0</td>\n",
       "      <td>271.00</td>\n",
       "      <td>216.70</td>\n",
       "      <td>0.0</td>\n",
       "      <td>7.185387</td>\n",
       "      <td>1.925794</td>\n",
       "      <td>7.193610</td>\n",
       "      <td>-122.471297</td>\n",
       "      <td>37.743124</td>\n",
       "      <td>15th Ave &amp; Taraval St</td>\n",
       "      <td>54.30</td>\n",
       "      <td>25.057683</td>\n",
       "    </tr>\n",
       "    <tr>\n",
       "      <th>2</th>\n",
       "      <td>3267</td>\n",
       "      <td>1.0</td>\n",
       "      <td>1184.363119</td>\n",
       "      <td>0.0</td>\n",
       "      <td>238.14</td>\n",
       "      <td>166.50</td>\n",
       "      <td>0.0</td>\n",
       "      <td>7.184629</td>\n",
       "      <td>1.497044</td>\n",
       "      <td>7.196664</td>\n",
       "      <td>-122.471405</td>\n",
       "      <td>37.743069</td>\n",
       "      <td>15th Ave &amp; Taraval St</td>\n",
       "      <td>71.64</td>\n",
       "      <td>43.027027</td>\n",
       "    </tr>\n",
       "    <tr>\n",
       "      <th>3</th>\n",
       "      <td>3268</td>\n",
       "      <td>1.0</td>\n",
       "      <td>125.097364</td>\n",
       "      <td>0.0</td>\n",
       "      <td>271.46</td>\n",
       "      <td>124.95</td>\n",
       "      <td>0.0</td>\n",
       "      <td>7.665285</td>\n",
       "      <td>1.925890</td>\n",
       "      <td>7.152574</td>\n",
       "      <td>-122.471192</td>\n",
       "      <td>37.741525</td>\n",
       "      <td>15th Ave &amp; Ulloa St</td>\n",
       "      <td>146.51</td>\n",
       "      <td>117.254902</td>\n",
       "    </tr>\n",
       "    <tr>\n",
       "      <th>4</th>\n",
       "      <td>3269</td>\n",
       "      <td>1.0</td>\n",
       "      <td>62.621274</td>\n",
       "      <td>0.0</td>\n",
       "      <td>236.65</td>\n",
       "      <td>56.85</td>\n",
       "      <td>0.0</td>\n",
       "      <td>7.645876</td>\n",
       "      <td>1.496992</td>\n",
       "      <td>7.155292</td>\n",
       "      <td>-122.471300</td>\n",
       "      <td>37.741484</td>\n",
       "      <td>15th Ave &amp; Ulloa St</td>\n",
       "      <td>179.80</td>\n",
       "      <td>316.270888</td>\n",
       "    </tr>\n",
       "  </tbody>\n",
       "</table>\n",
       "</div>"
      ],
      "text/plain": [
       "   STOP_ID  CLOSE_STOP  MUNI_BUS_AVG  AVG_BART_LOG  PRED_AVG_RIDERSHIP  \\\n",
       "0     3212         1.0   2833.548265           0.0              318.98   \n",
       "1     3266         1.0   1168.639681           0.0              271.00   \n",
       "2     3267         1.0   1184.363119           0.0              238.14   \n",
       "3     3268         1.0    125.097364           0.0              271.46   \n",
       "4     3269         1.0     62.621274           0.0              236.65   \n",
       "\n",
       "   AVG_RIDE  EOL_SOL  EDD_EMP_LOG  FREQ_S_LOG  HOUSING_16_DEN_LOG    STOP_LON  \\\n",
       "0    669.35      0.0     7.527256    1.320575            7.880741 -122.466241   \n",
       "1    216.70      0.0     7.185387    1.925794            7.193610 -122.471297   \n",
       "2    166.50      0.0     7.184629    1.497044            7.196664 -122.471405   \n",
       "3    124.95      0.0     7.665285    1.925890            7.152574 -122.471192   \n",
       "4     56.85      0.0     7.645876    1.496992            7.155292 -122.471300   \n",
       "\n",
       "    STOP_LAT              STOP NAME  DIFF_AVG_RIDE  PDIFF_AVG_RIDE  \n",
       "0  37.763913    9th Ave & Irving St        -350.37      -52.344812  \n",
       "1  37.743124  15th Ave & Taraval St          54.30       25.057683  \n",
       "2  37.743069  15th Ave & Taraval St          71.64       43.027027  \n",
       "3  37.741525    15th Ave & Ulloa St         146.51      117.254902  \n",
       "4  37.741484    15th Ave & Ulloa St         179.80      316.270888  "
      ]
     },
     "execution_count": 576,
     "metadata": {},
     "output_type": "execute_result"
    }
   ],
   "source": [
    "grouped_geo16.head()"
   ]
  },
  {
   "cell_type": "code",
   "execution_count": 577,
   "metadata": {
    "collapsed": false
   },
   "outputs": [],
   "source": [
    "grouped_geo16.to_csv('E:/Transit-Casa-Alex/MUNI Rail/Output/Modeling/2016/Diff_Mapping_Data_Post_Process.csv')"
   ]
  },
  {
   "cell_type": "markdown",
   "metadata": {},
   "source": [
    "# Move on to 2009"
   ]
  },
  {
   "cell_type": "code",
   "execution_count": 578,
   "metadata": {
    "collapsed": false
   },
   "outputs": [],
   "source": [
    "df = pd.read_csv('E:/Transit-Casa-Alex/MUNI Rail/Output/Modeling/2009/Diff_Map_Data.csv')"
   ]
  },
  {
   "cell_type": "code",
   "execution_count": 579,
   "metadata": {
    "collapsed": false
   },
   "outputs": [
    {
     "data": {
      "text/html": [
       "<div>\n",
       "<table border=\"1\" class=\"dataframe\">\n",
       "  <thead>\n",
       "    <tr style=\"text-align: right;\">\n",
       "      <th></th>\n",
       "      <th>LOG_RIDERS</th>\n",
       "      <th>EDD_EMP_LOG</th>\n",
       "      <th>STOP_ID</th>\n",
       "      <th>AVG_RIDE</th>\n",
       "      <th>FREQ_S_LOG</th>\n",
       "      <th>EOL_SOL</th>\n",
       "      <th>HOUSING_09_DEN_LOG</th>\n",
       "      <th>MUNI_BUS_AVG</th>\n",
       "      <th>AVG_BART_LOG</th>\n",
       "      <th>CLOSE_STOP</th>\n",
       "      <th>J</th>\n",
       "      <th>PRED_AVG_RIDERSHIP</th>\n",
       "    </tr>\n",
       "  </thead>\n",
       "  <tbody>\n",
       "    <tr>\n",
       "      <th>0</th>\n",
       "      <td>4.564348</td>\n",
       "      <td>7.089243</td>\n",
       "      <td>3537</td>\n",
       "      <td>95.0</td>\n",
       "      <td>1.534190</td>\n",
       "      <td>0.0</td>\n",
       "      <td>7.804466</td>\n",
       "      <td>6150.244661</td>\n",
       "      <td>0.0</td>\n",
       "      <td>1</td>\n",
       "      <td>1</td>\n",
       "      <td>205.26</td>\n",
       "    </tr>\n",
       "    <tr>\n",
       "      <th>1</th>\n",
       "      <td>4.753590</td>\n",
       "      <td>7.082549</td>\n",
       "      <td>3538</td>\n",
       "      <td>115.0</td>\n",
       "      <td>1.802634</td>\n",
       "      <td>0.0</td>\n",
       "      <td>7.788445</td>\n",
       "      <td>5819.619250</td>\n",
       "      <td>0.0</td>\n",
       "      <td>1</td>\n",
       "      <td>1</td>\n",
       "      <td>217.10</td>\n",
       "    </tr>\n",
       "    <tr>\n",
       "      <th>2</th>\n",
       "      <td>5.556828</td>\n",
       "      <td>8.032360</td>\n",
       "      <td>3984</td>\n",
       "      <td>258.0</td>\n",
       "      <td>1.795095</td>\n",
       "      <td>0.0</td>\n",
       "      <td>8.188915</td>\n",
       "      <td>2719.199380</td>\n",
       "      <td>0.0</td>\n",
       "      <td>1</td>\n",
       "      <td>1</td>\n",
       "      <td>232.94</td>\n",
       "    </tr>\n",
       "    <tr>\n",
       "      <th>3</th>\n",
       "      <td>5.391352</td>\n",
       "      <td>8.000014</td>\n",
       "      <td>3985</td>\n",
       "      <td>218.5</td>\n",
       "      <td>1.546459</td>\n",
       "      <td>0.0</td>\n",
       "      <td>8.181901</td>\n",
       "      <td>2817.825827</td>\n",
       "      <td>0.0</td>\n",
       "      <td>1</td>\n",
       "      <td>1</td>\n",
       "      <td>215.67</td>\n",
       "    </tr>\n",
       "    <tr>\n",
       "      <th>4</th>\n",
       "      <td>5.749393</td>\n",
       "      <td>7.532624</td>\n",
       "      <td>3987</td>\n",
       "      <td>313.0</td>\n",
       "      <td>1.795165</td>\n",
       "      <td>0.0</td>\n",
       "      <td>7.961077</td>\n",
       "      <td>1070.990155</td>\n",
       "      <td>0.0</td>\n",
       "      <td>1</td>\n",
       "      <td>1</td>\n",
       "      <td>182.22</td>\n",
       "    </tr>\n",
       "  </tbody>\n",
       "</table>\n",
       "</div>"
      ],
      "text/plain": [
       "   LOG_RIDERS  EDD_EMP_LOG  STOP_ID  AVG_RIDE  FREQ_S_LOG  EOL_SOL  \\\n",
       "0    4.564348     7.089243     3537      95.0    1.534190      0.0   \n",
       "1    4.753590     7.082549     3538     115.0    1.802634      0.0   \n",
       "2    5.556828     8.032360     3984     258.0    1.795095      0.0   \n",
       "3    5.391352     8.000014     3985     218.5    1.546459      0.0   \n",
       "4    5.749393     7.532624     3987     313.0    1.795165      0.0   \n",
       "\n",
       "   HOUSING_09_DEN_LOG  MUNI_BUS_AVG  AVG_BART_LOG  CLOSE_STOP  J  \\\n",
       "0            7.804466   6150.244661           0.0           1  1   \n",
       "1            7.788445   5819.619250           0.0           1  1   \n",
       "2            8.188915   2719.199380           0.0           1  1   \n",
       "3            8.181901   2817.825827           0.0           1  1   \n",
       "4            7.961077   1070.990155           0.0           1  1   \n",
       "\n",
       "   PRED_AVG_RIDERSHIP  \n",
       "0              205.26  \n",
       "1              217.10  \n",
       "2              232.94  \n",
       "3              215.67  \n",
       "4              182.22  "
      ]
     },
     "execution_count": 579,
     "metadata": {},
     "output_type": "execute_result"
    }
   ],
   "source": [
    "df.head()"
   ]
  },
  {
   "cell_type": "code",
   "execution_count": null,
   "metadata": {
    "collapsed": true
   },
   "outputs": [],
   "source": []
  },
  {
   "cell_type": "code",
   "execution_count": null,
   "metadata": {
    "collapsed": true
   },
   "outputs": [],
   "source": []
  },
  {
   "cell_type": "code",
   "execution_count": null,
   "metadata": {
    "collapsed": false
   },
   "outputs": [],
   "source": []
  },
  {
   "cell_type": "code",
   "execution_count": null,
   "metadata": {
    "collapsed": false
   },
   "outputs": [],
   "source": []
  },
  {
   "cell_type": "code",
   "execution_count": null,
   "metadata": {
    "collapsed": false
   },
   "outputs": [],
   "source": []
  },
  {
   "cell_type": "code",
   "execution_count": 580,
   "metadata": {
    "collapsed": true
   },
   "outputs": [],
   "source": [
    "agg = {'LOG_RIDERS':'sum', 'EDD_EMP_LOG':'sum', 'AVG_RIDE':'sum', 'FREQ_S_LOG':'mean',\n",
    "       'EOL_SOL':'mean', 'HOUSING_09_DEN_LOG':'mean', 'MUNI_BUS_AVG':'sum', 'AVG_BART_LOG':'sum',\n",
    "       'CLOSE_STOP':'mean','PRED_AVG_RIDERSHIP':'sum','AVG_RIDE':'sum'}"
   ]
  },
  {
   "cell_type": "code",
   "execution_count": 581,
   "metadata": {
    "collapsed": false
   },
   "outputs": [],
   "source": [
    "grouped09 = df.groupby(by = 'STOP_ID', as_index = False).agg(agg)"
   ]
  },
  {
   "cell_type": "code",
   "execution_count": 582,
   "metadata": {
    "collapsed": true
   },
   "outputs": [],
   "source": [
    "stops09 = pd.read_csv('E:\\Transit-Casa-Alex\\MUNI Rail\\Input\\Rail Stops Performance Data/MUNI_Rail_Stops_2009.csv')"
   ]
  },
  {
   "cell_type": "code",
   "execution_count": 583,
   "metadata": {
    "collapsed": true
   },
   "outputs": [],
   "source": [
    "agg = {'STOP_LON':'mean','STOP_LAT':'mean','STOP':'first'}"
   ]
  },
  {
   "cell_type": "code",
   "execution_count": 584,
   "metadata": {
    "collapsed": true
   },
   "outputs": [],
   "source": [
    "merge_ready_stops = stops09[['STOP_ID','STOP_LAT','STOP_LON','STOP']].groupby(by = 'STOP_ID',as_index = False).agg(agg)"
   ]
  },
  {
   "cell_type": "code",
   "execution_count": 585,
   "metadata": {
    "collapsed": true
   },
   "outputs": [],
   "source": [
    "grouped_geo09 = pd.merge(grouped09,merge_ready_stops,on = 'STOP_ID',how = 'inner')"
   ]
  },
  {
   "cell_type": "code",
   "execution_count": 586,
   "metadata": {
    "collapsed": false
   },
   "outputs": [
    {
     "data": {
      "text/plain": [
       "240"
      ]
     },
     "execution_count": 586,
     "metadata": {},
     "output_type": "execute_result"
    }
   ],
   "source": [
    "len(grouped09)"
   ]
  },
  {
   "cell_type": "code",
   "execution_count": 587,
   "metadata": {
    "collapsed": false
   },
   "outputs": [
    {
     "data": {
      "text/plain": [
       "240"
      ]
     },
     "execution_count": 587,
     "metadata": {},
     "output_type": "execute_result"
    }
   ],
   "source": [
    "len(grouped_geo09)"
   ]
  },
  {
   "cell_type": "code",
   "execution_count": 588,
   "metadata": {
    "collapsed": false
   },
   "outputs": [],
   "source": [
    "grouped_geo09['DIFF_AVG_RIDE'] = grouped_geo09.PRED_AVG_RIDERSHIP - grouped_geo09.AVG_RIDE"
   ]
  },
  {
   "cell_type": "code",
   "execution_count": 589,
   "metadata": {
    "collapsed": true
   },
   "outputs": [],
   "source": [
    "grouped_geo09['PDIFF_AVG_RIDE'] = (grouped_geo09.DIFF_AVG_RIDE/grouped_geo09.AVG_RIDE)*100"
   ]
  },
  {
   "cell_type": "code",
   "execution_count": 590,
   "metadata": {
    "collapsed": false,
    "scrolled": true
   },
   "outputs": [
    {
     "data": {
      "text/html": [
       "<div>\n",
       "<table border=\"1\" class=\"dataframe\">\n",
       "  <thead>\n",
       "    <tr style=\"text-align: right;\">\n",
       "      <th></th>\n",
       "      <th>STOP_ID</th>\n",
       "      <th>CLOSE_STOP</th>\n",
       "      <th>MUNI_BUS_AVG</th>\n",
       "      <th>HOUSING_09_DEN_LOG</th>\n",
       "      <th>LOG_RIDERS</th>\n",
       "      <th>AVG_BART_LOG</th>\n",
       "      <th>AVG_RIDE</th>\n",
       "      <th>EOL_SOL</th>\n",
       "      <th>EDD_EMP_LOG</th>\n",
       "      <th>PRED_AVG_RIDERSHIP</th>\n",
       "      <th>FREQ_S_LOG</th>\n",
       "      <th>STOP_LON</th>\n",
       "      <th>STOP</th>\n",
       "      <th>STOP_LAT</th>\n",
       "      <th>DIFF_AVG_RIDE</th>\n",
       "      <th>PDIFF_AVG_RIDE</th>\n",
       "    </tr>\n",
       "  </thead>\n",
       "  <tbody>\n",
       "    <tr>\n",
       "      <th>0</th>\n",
       "      <td>3212</td>\n",
       "      <td>1.0</td>\n",
       "      <td>3262.918694</td>\n",
       "      <td>7.876545</td>\n",
       "      <td>6.616734</td>\n",
       "      <td>0.0</td>\n",
       "      <td>746.5</td>\n",
       "      <td>0.0</td>\n",
       "      <td>10.028357</td>\n",
       "      <td>498.25</td>\n",
       "      <td>1.378684</td>\n",
       "      <td>-122.466245</td>\n",
       "      <td>9th&amp;Irving</td>\n",
       "      <td>37.763888</td>\n",
       "      <td>-248.25</td>\n",
       "      <td>-33.255191</td>\n",
       "    </tr>\n",
       "    <tr>\n",
       "      <th>1</th>\n",
       "      <td>3266</td>\n",
       "      <td>1.0</td>\n",
       "      <td>1059.541883</td>\n",
       "      <td>7.193557</td>\n",
       "      <td>5.117994</td>\n",
       "      <td>0.0</td>\n",
       "      <td>166.0</td>\n",
       "      <td>0.0</td>\n",
       "      <td>7.056175</td>\n",
       "      <td>267.75</td>\n",
       "      <td>1.976664</td>\n",
       "      <td>-122.471297</td>\n",
       "      <td>15th&amp;Taraval</td>\n",
       "      <td>37.743124</td>\n",
       "      <td>101.75</td>\n",
       "      <td>61.295181</td>\n",
       "    </tr>\n",
       "    <tr>\n",
       "      <th>2</th>\n",
       "      <td>3267</td>\n",
       "      <td>1.0</td>\n",
       "      <td>1077.001132</td>\n",
       "      <td>7.196570</td>\n",
       "      <td>5.190175</td>\n",
       "      <td>0.0</td>\n",
       "      <td>178.5</td>\n",
       "      <td>0.0</td>\n",
       "      <td>7.057898</td>\n",
       "      <td>234.22</td>\n",
       "      <td>1.531410</td>\n",
       "      <td>-122.471405</td>\n",
       "      <td>15th&amp;Taraval</td>\n",
       "      <td>37.743069</td>\n",
       "      <td>55.72</td>\n",
       "      <td>31.215686</td>\n",
       "    </tr>\n",
       "    <tr>\n",
       "      <th>3</th>\n",
       "      <td>3268</td>\n",
       "      <td>1.0</td>\n",
       "      <td>225.696980</td>\n",
       "      <td>7.152492</td>\n",
       "      <td>4.212128</td>\n",
       "      <td>0.0</td>\n",
       "      <td>66.5</td>\n",
       "      <td>0.0</td>\n",
       "      <td>7.412764</td>\n",
       "      <td>266.34</td>\n",
       "      <td>1.976682</td>\n",
       "      <td>-122.471192</td>\n",
       "      <td>15th&amp;Ulloa</td>\n",
       "      <td>37.741525</td>\n",
       "      <td>199.84</td>\n",
       "      <td>300.511278</td>\n",
       "    </tr>\n",
       "    <tr>\n",
       "      <th>4</th>\n",
       "      <td>3269</td>\n",
       "      <td>1.0</td>\n",
       "      <td>111.449711</td>\n",
       "      <td>7.155132</td>\n",
       "      <td>3.433987</td>\n",
       "      <td>0.0</td>\n",
       "      <td>30.0</td>\n",
       "      <td>0.0</td>\n",
       "      <td>7.405496</td>\n",
       "      <td>230.75</td>\n",
       "      <td>1.531513</td>\n",
       "      <td>-122.471300</td>\n",
       "      <td>15th&amp;Ulloa</td>\n",
       "      <td>37.741484</td>\n",
       "      <td>200.75</td>\n",
       "      <td>669.166667</td>\n",
       "    </tr>\n",
       "  </tbody>\n",
       "</table>\n",
       "</div>"
      ],
      "text/plain": [
       "   STOP_ID  CLOSE_STOP  MUNI_BUS_AVG  HOUSING_09_DEN_LOG  LOG_RIDERS  \\\n",
       "0     3212         1.0   3262.918694            7.876545    6.616734   \n",
       "1     3266         1.0   1059.541883            7.193557    5.117994   \n",
       "2     3267         1.0   1077.001132            7.196570    5.190175   \n",
       "3     3268         1.0    225.696980            7.152492    4.212128   \n",
       "4     3269         1.0    111.449711            7.155132    3.433987   \n",
       "\n",
       "   AVG_BART_LOG  AVG_RIDE  EOL_SOL  EDD_EMP_LOG  PRED_AVG_RIDERSHIP  \\\n",
       "0           0.0     746.5      0.0    10.028357              498.25   \n",
       "1           0.0     166.0      0.0     7.056175              267.75   \n",
       "2           0.0     178.5      0.0     7.057898              234.22   \n",
       "3           0.0      66.5      0.0     7.412764              266.34   \n",
       "4           0.0      30.0      0.0     7.405496              230.75   \n",
       "\n",
       "   FREQ_S_LOG    STOP_LON          STOP   STOP_LAT  DIFF_AVG_RIDE  \\\n",
       "0    1.378684 -122.466245    9th&Irving  37.763888        -248.25   \n",
       "1    1.976664 -122.471297  15th&Taraval  37.743124         101.75   \n",
       "2    1.531410 -122.471405  15th&Taraval  37.743069          55.72   \n",
       "3    1.976682 -122.471192    15th&Ulloa  37.741525         199.84   \n",
       "4    1.531513 -122.471300    15th&Ulloa  37.741484         200.75   \n",
       "\n",
       "   PDIFF_AVG_RIDE  \n",
       "0      -33.255191  \n",
       "1       61.295181  \n",
       "2       31.215686  \n",
       "3      300.511278  \n",
       "4      669.166667  "
      ]
     },
     "execution_count": 590,
     "metadata": {},
     "output_type": "execute_result"
    }
   ],
   "source": [
    "grouped_geo09.head()"
   ]
  },
  {
   "cell_type": "code",
   "execution_count": 591,
   "metadata": {
    "collapsed": false
   },
   "outputs": [
    {
     "data": {
      "text/plain": [
       "240"
      ]
     },
     "execution_count": 591,
     "metadata": {},
     "output_type": "execute_result"
    }
   ],
   "source": [
    "len(grouped_geo09)"
   ]
  },
  {
   "cell_type": "code",
   "execution_count": 592,
   "metadata": {
    "collapsed": true
   },
   "outputs": [],
   "source": [
    "grouped_geo09.to_csv('E:/Transit-Casa-Alex/MUNI Rail/Output/Modeling/2009/Diff_Mapping_Data_Post_Process.csv')"
   ]
  },
  {
   "cell_type": "markdown",
   "metadata": {},
   "source": [
    "# Create the Difference of the Differences Map Data (09 Diff vs 16 Diff)"
   ]
  },
  {
   "cell_type": "code",
   "execution_count": 593,
   "metadata": {
    "collapsed": true
   },
   "outputs": [],
   "source": [
    "diff = pd.merge(grouped_geo09,grouped_geo16, how = 'outer',on = 'STOP_ID',suffixes = ('_09','_16'))"
   ]
  },
  {
   "cell_type": "code",
   "execution_count": 594,
   "metadata": {
    "collapsed": false
   },
   "outputs": [
    {
     "data": {
      "text/plain": [
       "245"
      ]
     },
     "execution_count": 594,
     "metadata": {},
     "output_type": "execute_result"
    }
   ],
   "source": [
    "len(diff)"
   ]
  },
  {
   "cell_type": "code",
   "execution_count": 595,
   "metadata": {
    "collapsed": true
   },
   "outputs": [],
   "source": [
    "diff_inner = pd.merge(grouped_geo09,grouped_geo16,how = 'inner',on = 'STOP_ID') "
   ]
  },
  {
   "cell_type": "code",
   "execution_count": 596,
   "metadata": {
    "collapsed": false
   },
   "outputs": [
    {
     "data": {
      "text/plain": [
       "230"
      ]
     },
     "execution_count": 596,
     "metadata": {},
     "output_type": "execute_result"
    }
   ],
   "source": [
    "len(diff_inner)"
   ]
  },
  {
   "cell_type": "code",
   "execution_count": 597,
   "metadata": {
    "collapsed": false
   },
   "outputs": [
    {
     "data": {
      "text/html": [
       "<div>\n",
       "<table border=\"1\" class=\"dataframe\">\n",
       "  <thead>\n",
       "    <tr style=\"text-align: right;\">\n",
       "      <th></th>\n",
       "      <th>STOP_ID</th>\n",
       "      <th>CLOSE_STOP_09</th>\n",
       "      <th>MUNI_BUS_AVG_09</th>\n",
       "      <th>HOUSING_09_DEN_LOG</th>\n",
       "      <th>LOG_RIDERS</th>\n",
       "      <th>AVG_BART_LOG_09</th>\n",
       "      <th>AVG_RIDE_09</th>\n",
       "      <th>EOL_SOL_09</th>\n",
       "      <th>EDD_EMP_LOG_09</th>\n",
       "      <th>PRED_AVG_RIDERSHIP_09</th>\n",
       "      <th>...</th>\n",
       "      <th>AVG_RIDE_16</th>\n",
       "      <th>EOL_SOL_16</th>\n",
       "      <th>EDD_EMP_LOG_16</th>\n",
       "      <th>FREQ_S_LOG_16</th>\n",
       "      <th>HOUSING_16_DEN_LOG</th>\n",
       "      <th>STOP_LON_16</th>\n",
       "      <th>STOP_LAT_16</th>\n",
       "      <th>STOP NAME</th>\n",
       "      <th>DIFF_AVG_RIDE_16</th>\n",
       "      <th>PDIFF_AVG_RIDE_16</th>\n",
       "    </tr>\n",
       "  </thead>\n",
       "  <tbody>\n",
       "    <tr>\n",
       "      <th>0</th>\n",
       "      <td>3212</td>\n",
       "      <td>1.0</td>\n",
       "      <td>3262.918694</td>\n",
       "      <td>7.876545</td>\n",
       "      <td>6.616734</td>\n",
       "      <td>0.0</td>\n",
       "      <td>746.5</td>\n",
       "      <td>0.0</td>\n",
       "      <td>10.028357</td>\n",
       "      <td>498.25</td>\n",
       "      <td>...</td>\n",
       "      <td>669.35</td>\n",
       "      <td>0.0</td>\n",
       "      <td>7.527256</td>\n",
       "      <td>1.320575</td>\n",
       "      <td>7.880741</td>\n",
       "      <td>-122.466241</td>\n",
       "      <td>37.763913</td>\n",
       "      <td>9th Ave &amp; Irving St</td>\n",
       "      <td>-350.37</td>\n",
       "      <td>-52.344812</td>\n",
       "    </tr>\n",
       "    <tr>\n",
       "      <th>1</th>\n",
       "      <td>3266</td>\n",
       "      <td>1.0</td>\n",
       "      <td>1059.541883</td>\n",
       "      <td>7.193557</td>\n",
       "      <td>5.117994</td>\n",
       "      <td>0.0</td>\n",
       "      <td>166.0</td>\n",
       "      <td>0.0</td>\n",
       "      <td>7.056175</td>\n",
       "      <td>267.75</td>\n",
       "      <td>...</td>\n",
       "      <td>216.70</td>\n",
       "      <td>0.0</td>\n",
       "      <td>7.185387</td>\n",
       "      <td>1.925794</td>\n",
       "      <td>7.193610</td>\n",
       "      <td>-122.471297</td>\n",
       "      <td>37.743124</td>\n",
       "      <td>15th Ave &amp; Taraval St</td>\n",
       "      <td>54.30</td>\n",
       "      <td>25.057683</td>\n",
       "    </tr>\n",
       "    <tr>\n",
       "      <th>2</th>\n",
       "      <td>3267</td>\n",
       "      <td>1.0</td>\n",
       "      <td>1077.001132</td>\n",
       "      <td>7.196570</td>\n",
       "      <td>5.190175</td>\n",
       "      <td>0.0</td>\n",
       "      <td>178.5</td>\n",
       "      <td>0.0</td>\n",
       "      <td>7.057898</td>\n",
       "      <td>234.22</td>\n",
       "      <td>...</td>\n",
       "      <td>166.50</td>\n",
       "      <td>0.0</td>\n",
       "      <td>7.184629</td>\n",
       "      <td>1.497044</td>\n",
       "      <td>7.196664</td>\n",
       "      <td>-122.471405</td>\n",
       "      <td>37.743069</td>\n",
       "      <td>15th Ave &amp; Taraval St</td>\n",
       "      <td>71.64</td>\n",
       "      <td>43.027027</td>\n",
       "    </tr>\n",
       "    <tr>\n",
       "      <th>3</th>\n",
       "      <td>3268</td>\n",
       "      <td>1.0</td>\n",
       "      <td>225.696980</td>\n",
       "      <td>7.152492</td>\n",
       "      <td>4.212128</td>\n",
       "      <td>0.0</td>\n",
       "      <td>66.5</td>\n",
       "      <td>0.0</td>\n",
       "      <td>7.412764</td>\n",
       "      <td>266.34</td>\n",
       "      <td>...</td>\n",
       "      <td>124.95</td>\n",
       "      <td>0.0</td>\n",
       "      <td>7.665285</td>\n",
       "      <td>1.925890</td>\n",
       "      <td>7.152574</td>\n",
       "      <td>-122.471192</td>\n",
       "      <td>37.741525</td>\n",
       "      <td>15th Ave &amp; Ulloa St</td>\n",
       "      <td>146.51</td>\n",
       "      <td>117.254902</td>\n",
       "    </tr>\n",
       "    <tr>\n",
       "      <th>4</th>\n",
       "      <td>3269</td>\n",
       "      <td>1.0</td>\n",
       "      <td>111.449711</td>\n",
       "      <td>7.155132</td>\n",
       "      <td>3.433987</td>\n",
       "      <td>0.0</td>\n",
       "      <td>30.0</td>\n",
       "      <td>0.0</td>\n",
       "      <td>7.405496</td>\n",
       "      <td>230.75</td>\n",
       "      <td>...</td>\n",
       "      <td>56.85</td>\n",
       "      <td>0.0</td>\n",
       "      <td>7.645876</td>\n",
       "      <td>1.496992</td>\n",
       "      <td>7.155292</td>\n",
       "      <td>-122.471300</td>\n",
       "      <td>37.741484</td>\n",
       "      <td>15th Ave &amp; Ulloa St</td>\n",
       "      <td>179.80</td>\n",
       "      <td>316.270888</td>\n",
       "    </tr>\n",
       "  </tbody>\n",
       "</table>\n",
       "<p>5 rows × 30 columns</p>\n",
       "</div>"
      ],
      "text/plain": [
       "   STOP_ID  CLOSE_STOP_09  MUNI_BUS_AVG_09  HOUSING_09_DEN_LOG  LOG_RIDERS  \\\n",
       "0     3212            1.0      3262.918694            7.876545    6.616734   \n",
       "1     3266            1.0      1059.541883            7.193557    5.117994   \n",
       "2     3267            1.0      1077.001132            7.196570    5.190175   \n",
       "3     3268            1.0       225.696980            7.152492    4.212128   \n",
       "4     3269            1.0       111.449711            7.155132    3.433987   \n",
       "\n",
       "   AVG_BART_LOG_09  AVG_RIDE_09  EOL_SOL_09  EDD_EMP_LOG_09  \\\n",
       "0              0.0        746.5         0.0       10.028357   \n",
       "1              0.0        166.0         0.0        7.056175   \n",
       "2              0.0        178.5         0.0        7.057898   \n",
       "3              0.0         66.5         0.0        7.412764   \n",
       "4              0.0         30.0         0.0        7.405496   \n",
       "\n",
       "   PRED_AVG_RIDERSHIP_09        ...          AVG_RIDE_16  EOL_SOL_16  \\\n",
       "0                 498.25        ...               669.35         0.0   \n",
       "1                 267.75        ...               216.70         0.0   \n",
       "2                 234.22        ...               166.50         0.0   \n",
       "3                 266.34        ...               124.95         0.0   \n",
       "4                 230.75        ...                56.85         0.0   \n",
       "\n",
       "  EDD_EMP_LOG_16  FREQ_S_LOG_16  HOUSING_16_DEN_LOG  STOP_LON_16  STOP_LAT_16  \\\n",
       "0       7.527256       1.320575            7.880741  -122.466241    37.763913   \n",
       "1       7.185387       1.925794            7.193610  -122.471297    37.743124   \n",
       "2       7.184629       1.497044            7.196664  -122.471405    37.743069   \n",
       "3       7.665285       1.925890            7.152574  -122.471192    37.741525   \n",
       "4       7.645876       1.496992            7.155292  -122.471300    37.741484   \n",
       "\n",
       "               STOP NAME  DIFF_AVG_RIDE_16  PDIFF_AVG_RIDE_16  \n",
       "0    9th Ave & Irving St           -350.37         -52.344812  \n",
       "1  15th Ave & Taraval St             54.30          25.057683  \n",
       "2  15th Ave & Taraval St             71.64          43.027027  \n",
       "3    15th Ave & Ulloa St            146.51         117.254902  \n",
       "4    15th Ave & Ulloa St            179.80         316.270888  \n",
       "\n",
       "[5 rows x 30 columns]"
      ]
     },
     "execution_count": 597,
     "metadata": {},
     "output_type": "execute_result"
    }
   ],
   "source": [
    "diff.head()"
   ]
  },
  {
   "cell_type": "code",
   "execution_count": 598,
   "metadata": {
    "collapsed": false
   },
   "outputs": [],
   "source": [
    "diff['DIFF_OBS'] = diff.AVG_RIDE_16 - diff.AVG_RIDE_09\n",
    "diff['DIFF_MOD'] = diff.PRED_AVG_RIDERSHIP_16 - diff.PRED_AVG_RIDERSHIP_09\n",
    "diff['ACCURACY_DIFF'] = diff.DIFF_AVG_RIDE_16 - diff.DIFF_AVG_RIDE_09\n",
    "diff['GROWTH_DIFF'] = diff.DIFF_MOD - diff.DIFF_OBS"
   ]
  },
  {
   "cell_type": "code",
   "execution_count": 599,
   "metadata": {
    "collapsed": false
   },
   "outputs": [],
   "source": [
    "diff.to_csv('E:/Transit-Casa-Alex/MUNI Rail/Output/Modeling/Diff_Mapping_Data.csv')"
   ]
  },
  {
   "cell_type": "code",
   "execution_count": null,
   "metadata": {
    "collapsed": true
   },
   "outputs": [],
   "source": []
  },
  {
   "cell_type": "code",
   "execution_count": null,
   "metadata": {
    "collapsed": true
   },
   "outputs": [],
   "source": []
  },
  {
   "cell_type": "code",
   "execution_count": null,
   "metadata": {
    "collapsed": true
   },
   "outputs": [],
   "source": []
  },
  {
   "cell_type": "code",
   "execution_count": null,
   "metadata": {
    "collapsed": true
   },
   "outputs": [],
   "source": []
  }
 ],
 "metadata": {
  "anaconda-cloud": {},
  "kernelspec": {
   "display_name": "Python [conda root]",
   "language": "python",
   "name": "conda-root-py"
  },
  "language_info": {
   "codemirror_mode": {
    "name": "ipython",
    "version": 3
   },
   "file_extension": ".py",
   "mimetype": "text/x-python",
   "name": "python",
   "nbconvert_exporter": "python",
   "pygments_lexer": "ipython3",
   "version": "3.5.2"
  }
 },
 "nbformat": 4,
 "nbformat_minor": 1
}
