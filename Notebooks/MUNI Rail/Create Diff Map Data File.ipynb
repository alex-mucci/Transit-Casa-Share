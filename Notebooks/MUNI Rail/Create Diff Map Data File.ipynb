{
 "cells": [
  {
   "cell_type": "code",
   "execution_count": 1,
   "metadata": {
    "collapsed": true
   },
   "outputs": [],
   "source": [
    "import pandas as pd"
   ]
  },
  {
   "cell_type": "code",
   "execution_count": 70,
   "metadata": {
    "collapsed": false
   },
   "outputs": [],
   "source": [
    "df = pd.read_csv('E:/Transit-Casa-Alex/MUNI Rail/Output/Modeling/2016/Diff_Mapping_Data.csv')"
   ]
  },
  {
   "cell_type": "code",
   "execution_count": 71,
   "metadata": {
    "collapsed": false
   },
   "outputs": [
    {
     "data": {
      "text/html": [
       "<div>\n",
       "<table border=\"1\" class=\"dataframe\">\n",
       "  <thead>\n",
       "    <tr style=\"text-align: right;\">\n",
       "      <th></th>\n",
       "      <th>EDD_EMP_LOG</th>\n",
       "      <th>FREQ_S_LOG</th>\n",
       "      <th>HOUSING_16_DEN_LOG</th>\n",
       "      <th>AVG_BART_LOG</th>\n",
       "      <th>CLOSE_STOP</th>\n",
       "      <th>EOL_SOL</th>\n",
       "      <th>MUNI_BUS_AVG</th>\n",
       "      <th>STOP_ID</th>\n",
       "      <th>AVG_RIDE</th>\n",
       "      <th>PRED_AVG_RIDERSHIP</th>\n",
       "    </tr>\n",
       "  </thead>\n",
       "  <tbody>\n",
       "    <tr>\n",
       "      <th>0</th>\n",
       "      <td>7.527256</td>\n",
       "      <td>1.320575</td>\n",
       "      <td>7.880741</td>\n",
       "      <td>0.0</td>\n",
       "      <td>1</td>\n",
       "      <td>0.0</td>\n",
       "      <td>2833.548265</td>\n",
       "      <td>3212</td>\n",
       "      <td>669.35</td>\n",
       "      <td>292.966829</td>\n",
       "    </tr>\n",
       "    <tr>\n",
       "      <th>1</th>\n",
       "      <td>7.185387</td>\n",
       "      <td>1.925794</td>\n",
       "      <td>7.193610</td>\n",
       "      <td>0.0</td>\n",
       "      <td>1</td>\n",
       "      <td>0.0</td>\n",
       "      <td>1168.639681</td>\n",
       "      <td>3266</td>\n",
       "      <td>216.70</td>\n",
       "      <td>297.311558</td>\n",
       "    </tr>\n",
       "    <tr>\n",
       "      <th>2</th>\n",
       "      <td>7.184629</td>\n",
       "      <td>1.497044</td>\n",
       "      <td>7.196664</td>\n",
       "      <td>0.0</td>\n",
       "      <td>1</td>\n",
       "      <td>0.0</td>\n",
       "      <td>1184.363119</td>\n",
       "      <td>3267</td>\n",
       "      <td>166.50</td>\n",
       "      <td>218.341469</td>\n",
       "    </tr>\n",
       "    <tr>\n",
       "      <th>3</th>\n",
       "      <td>7.665285</td>\n",
       "      <td>1.925890</td>\n",
       "      <td>7.152574</td>\n",
       "      <td>0.0</td>\n",
       "      <td>1</td>\n",
       "      <td>0.0</td>\n",
       "      <td>125.097364</td>\n",
       "      <td>3268</td>\n",
       "      <td>124.95</td>\n",
       "      <td>312.426527</td>\n",
       "    </tr>\n",
       "    <tr>\n",
       "      <th>4</th>\n",
       "      <td>7.645876</td>\n",
       "      <td>1.496992</td>\n",
       "      <td>7.155292</td>\n",
       "      <td>0.0</td>\n",
       "      <td>1</td>\n",
       "      <td>0.0</td>\n",
       "      <td>62.621274</td>\n",
       "      <td>3269</td>\n",
       "      <td>56.85</td>\n",
       "      <td>227.660005</td>\n",
       "    </tr>\n",
       "  </tbody>\n",
       "</table>\n",
       "</div>"
      ],
      "text/plain": [
       "   EDD_EMP_LOG  FREQ_S_LOG  HOUSING_16_DEN_LOG  AVG_BART_LOG  CLOSE_STOP  \\\n",
       "0     7.527256    1.320575            7.880741           0.0           1   \n",
       "1     7.185387    1.925794            7.193610           0.0           1   \n",
       "2     7.184629    1.497044            7.196664           0.0           1   \n",
       "3     7.665285    1.925890            7.152574           0.0           1   \n",
       "4     7.645876    1.496992            7.155292           0.0           1   \n",
       "\n",
       "   EOL_SOL  MUNI_BUS_AVG  STOP_ID  AVG_RIDE  PRED_AVG_RIDERSHIP  \n",
       "0      0.0   2833.548265     3212    669.35          292.966829  \n",
       "1      0.0   1168.639681     3266    216.70          297.311558  \n",
       "2      0.0   1184.363119     3267    166.50          218.341469  \n",
       "3      0.0    125.097364     3268    124.95          312.426527  \n",
       "4      0.0     62.621274     3269     56.85          227.660005  "
      ]
     },
     "execution_count": 71,
     "metadata": {},
     "output_type": "execute_result"
    }
   ],
   "source": [
    "df.head()"
   ]
  },
  {
   "cell_type": "code",
   "execution_count": 72,
   "metadata": {
    "collapsed": false
   },
   "outputs": [
    {
     "data": {
      "text/plain": [
       "Index(['EDD_EMP_LOG', 'FREQ_S_LOG', 'HOUSING_16_DEN_LOG', 'AVG_BART_LOG',\n",
       "       'CLOSE_STOP', 'EOL_SOL', 'MUNI_BUS_AVG', 'STOP_ID', 'AVG_RIDE',\n",
       "       'PRED_AVG_RIDERSHIP'],\n",
       "      dtype='object')"
      ]
     },
     "execution_count": 72,
     "metadata": {},
     "output_type": "execute_result"
    }
   ],
   "source": [
    "df.columns"
   ]
  },
  {
   "cell_type": "code",
   "execution_count": 78,
   "metadata": {
    "collapsed": true
   },
   "outputs": [],
   "source": [
    "agg = {'AVG_RIDE':'sum','PRED_AVG_RIDERSHIP':'sum','EDD_EMP_LOG':'sum', 'AVG_RIDE':'sum', 'FREQ_S_LOG':'mean',\n",
    "       'EOL_SOL':'mean', 'HOUSING_16_DEN_LOG':'mean', 'MUNI_BUS_AVG':'sum', 'AVG_BART_LOG':'sum',\n",
    "       'CLOSE_STOP':'mean'}"
   ]
  },
  {
   "cell_type": "code",
   "execution_count": 79,
   "metadata": {
    "collapsed": false
   },
   "outputs": [],
   "source": [
    "grouped = df.groupby(by = 'STOP_ID', as_index = False).agg(agg)"
   ]
  },
  {
   "cell_type": "code",
   "execution_count": 80,
   "metadata": {
    "collapsed": false
   },
   "outputs": [
    {
     "data": {
      "text/html": [
       "<div>\n",
       "<table border=\"1\" class=\"dataframe\">\n",
       "  <thead>\n",
       "    <tr style=\"text-align: right;\">\n",
       "      <th></th>\n",
       "      <th>STOP_ID</th>\n",
       "      <th>CLOSE_STOP</th>\n",
       "      <th>MUNI_BUS_AVG</th>\n",
       "      <th>AVG_BART_LOG</th>\n",
       "      <th>PRED_AVG_RIDERSHIP</th>\n",
       "      <th>AVG_RIDE</th>\n",
       "      <th>EOL_SOL</th>\n",
       "      <th>EDD_EMP_LOG</th>\n",
       "      <th>FREQ_S_LOG</th>\n",
       "      <th>HOUSING_16_DEN_LOG</th>\n",
       "    </tr>\n",
       "  </thead>\n",
       "  <tbody>\n",
       "    <tr>\n",
       "      <th>0</th>\n",
       "      <td>3212</td>\n",
       "      <td>1.0</td>\n",
       "      <td>2833.548265</td>\n",
       "      <td>0.0</td>\n",
       "      <td>292.966829</td>\n",
       "      <td>669.35</td>\n",
       "      <td>0.0</td>\n",
       "      <td>7.527256</td>\n",
       "      <td>1.320575</td>\n",
       "      <td>7.880741</td>\n",
       "    </tr>\n",
       "    <tr>\n",
       "      <th>1</th>\n",
       "      <td>3266</td>\n",
       "      <td>1.0</td>\n",
       "      <td>1168.639681</td>\n",
       "      <td>0.0</td>\n",
       "      <td>297.311558</td>\n",
       "      <td>216.70</td>\n",
       "      <td>0.0</td>\n",
       "      <td>7.185387</td>\n",
       "      <td>1.925794</td>\n",
       "      <td>7.193610</td>\n",
       "    </tr>\n",
       "    <tr>\n",
       "      <th>2</th>\n",
       "      <td>3267</td>\n",
       "      <td>1.0</td>\n",
       "      <td>1184.363119</td>\n",
       "      <td>0.0</td>\n",
       "      <td>218.341469</td>\n",
       "      <td>166.50</td>\n",
       "      <td>0.0</td>\n",
       "      <td>7.184629</td>\n",
       "      <td>1.497044</td>\n",
       "      <td>7.196664</td>\n",
       "    </tr>\n",
       "    <tr>\n",
       "      <th>3</th>\n",
       "      <td>3268</td>\n",
       "      <td>1.0</td>\n",
       "      <td>125.097364</td>\n",
       "      <td>0.0</td>\n",
       "      <td>312.426527</td>\n",
       "      <td>124.95</td>\n",
       "      <td>0.0</td>\n",
       "      <td>7.665285</td>\n",
       "      <td>1.925890</td>\n",
       "      <td>7.152574</td>\n",
       "    </tr>\n",
       "    <tr>\n",
       "      <th>4</th>\n",
       "      <td>3269</td>\n",
       "      <td>1.0</td>\n",
       "      <td>62.621274</td>\n",
       "      <td>0.0</td>\n",
       "      <td>227.660005</td>\n",
       "      <td>56.85</td>\n",
       "      <td>0.0</td>\n",
       "      <td>7.645876</td>\n",
       "      <td>1.496992</td>\n",
       "      <td>7.155292</td>\n",
       "    </tr>\n",
       "  </tbody>\n",
       "</table>\n",
       "</div>"
      ],
      "text/plain": [
       "   STOP_ID  CLOSE_STOP  MUNI_BUS_AVG  AVG_BART_LOG  PRED_AVG_RIDERSHIP  \\\n",
       "0     3212         1.0   2833.548265           0.0          292.966829   \n",
       "1     3266         1.0   1168.639681           0.0          297.311558   \n",
       "2     3267         1.0   1184.363119           0.0          218.341469   \n",
       "3     3268         1.0    125.097364           0.0          312.426527   \n",
       "4     3269         1.0     62.621274           0.0          227.660005   \n",
       "\n",
       "   AVG_RIDE  EOL_SOL  EDD_EMP_LOG  FREQ_S_LOG  HOUSING_16_DEN_LOG  \n",
       "0    669.35      0.0     7.527256    1.320575            7.880741  \n",
       "1    216.70      0.0     7.185387    1.925794            7.193610  \n",
       "2    166.50      0.0     7.184629    1.497044            7.196664  \n",
       "3    124.95      0.0     7.665285    1.925890            7.152574  \n",
       "4     56.85      0.0     7.645876    1.496992            7.155292  "
      ]
     },
     "execution_count": 80,
     "metadata": {},
     "output_type": "execute_result"
    }
   ],
   "source": [
    "grouped.head()"
   ]
  },
  {
   "cell_type": "code",
   "execution_count": 81,
   "metadata": {
    "collapsed": false
   },
   "outputs": [
    {
     "data": {
      "text/plain": [
       "235"
      ]
     },
     "execution_count": 81,
     "metadata": {},
     "output_type": "execute_result"
    }
   ],
   "source": [
    "len(grouped)"
   ]
  },
  {
   "cell_type": "code",
   "execution_count": 86,
   "metadata": {
    "collapsed": true
   },
   "outputs": [],
   "source": [
    "grouped['DIFF_AVG_RIDE'] = grouped.PRED_AVG_RIDERSHIP - grouped.AVG_RIDE"
   ]
  },
  {
   "cell_type": "code",
   "execution_count": 87,
   "metadata": {
    "collapsed": false
   },
   "outputs": [],
   "source": [
    "grouped['PDIFF_AVG_RIDE'] = (grouped.DIFF_AVG_RIDE/df.AVG_RIDE)*100"
   ]
  },
  {
   "cell_type": "code",
   "execution_count": 88,
   "metadata": {
    "collapsed": false
   },
   "outputs": [
    {
     "data": {
      "text/plain": [
       "235"
      ]
     },
     "execution_count": 88,
     "metadata": {},
     "output_type": "execute_result"
    }
   ],
   "source": [
    "len(grouped)"
   ]
  },
  {
   "cell_type": "code",
   "execution_count": 89,
   "metadata": {
    "collapsed": false
   },
   "outputs": [
    {
     "data": {
      "text/html": [
       "<div>\n",
       "<table border=\"1\" class=\"dataframe\">\n",
       "  <thead>\n",
       "    <tr style=\"text-align: right;\">\n",
       "      <th></th>\n",
       "      <th>STOP_ID</th>\n",
       "      <th>CLOSE_STOP</th>\n",
       "      <th>MUNI_BUS_AVG</th>\n",
       "      <th>AVG_BART_LOG</th>\n",
       "      <th>PRED_AVG_RIDERSHIP</th>\n",
       "      <th>AVG_RIDE</th>\n",
       "      <th>EOL_SOL</th>\n",
       "      <th>EDD_EMP_LOG</th>\n",
       "      <th>FREQ_S_LOG</th>\n",
       "      <th>HOUSING_16_DEN_LOG</th>\n",
       "      <th>DIFF_AVG_RIDE</th>\n",
       "      <th>PDIFF_AVG_RIDE</th>\n",
       "    </tr>\n",
       "  </thead>\n",
       "  <tbody>\n",
       "    <tr>\n",
       "      <th>0</th>\n",
       "      <td>3212</td>\n",
       "      <td>1.0</td>\n",
       "      <td>2833.548265</td>\n",
       "      <td>0.0</td>\n",
       "      <td>292.966829</td>\n",
       "      <td>669.35</td>\n",
       "      <td>0.0</td>\n",
       "      <td>7.527256</td>\n",
       "      <td>1.320575</td>\n",
       "      <td>7.880741</td>\n",
       "      <td>-376.383171</td>\n",
       "      <td>-56.231145</td>\n",
       "    </tr>\n",
       "    <tr>\n",
       "      <th>1</th>\n",
       "      <td>3266</td>\n",
       "      <td>1.0</td>\n",
       "      <td>1168.639681</td>\n",
       "      <td>0.0</td>\n",
       "      <td>297.311558</td>\n",
       "      <td>216.70</td>\n",
       "      <td>0.0</td>\n",
       "      <td>7.185387</td>\n",
       "      <td>1.925794</td>\n",
       "      <td>7.193610</td>\n",
       "      <td>80.611558</td>\n",
       "      <td>37.199611</td>\n",
       "    </tr>\n",
       "    <tr>\n",
       "      <th>2</th>\n",
       "      <td>3267</td>\n",
       "      <td>1.0</td>\n",
       "      <td>1184.363119</td>\n",
       "      <td>0.0</td>\n",
       "      <td>218.341469</td>\n",
       "      <td>166.50</td>\n",
       "      <td>0.0</td>\n",
       "      <td>7.184629</td>\n",
       "      <td>1.497044</td>\n",
       "      <td>7.196664</td>\n",
       "      <td>51.841469</td>\n",
       "      <td>31.136018</td>\n",
       "    </tr>\n",
       "    <tr>\n",
       "      <th>3</th>\n",
       "      <td>3268</td>\n",
       "      <td>1.0</td>\n",
       "      <td>125.097364</td>\n",
       "      <td>0.0</td>\n",
       "      <td>312.426527</td>\n",
       "      <td>124.95</td>\n",
       "      <td>0.0</td>\n",
       "      <td>7.665285</td>\n",
       "      <td>1.925890</td>\n",
       "      <td>7.152574</td>\n",
       "      <td>187.476527</td>\n",
       "      <td>150.041238</td>\n",
       "    </tr>\n",
       "    <tr>\n",
       "      <th>4</th>\n",
       "      <td>3269</td>\n",
       "      <td>1.0</td>\n",
       "      <td>62.621274</td>\n",
       "      <td>0.0</td>\n",
       "      <td>227.660005</td>\n",
       "      <td>56.85</td>\n",
       "      <td>0.0</td>\n",
       "      <td>7.645876</td>\n",
       "      <td>1.496992</td>\n",
       "      <td>7.155292</td>\n",
       "      <td>170.810005</td>\n",
       "      <td>300.457352</td>\n",
       "    </tr>\n",
       "  </tbody>\n",
       "</table>\n",
       "</div>"
      ],
      "text/plain": [
       "   STOP_ID  CLOSE_STOP  MUNI_BUS_AVG  AVG_BART_LOG  PRED_AVG_RIDERSHIP  \\\n",
       "0     3212         1.0   2833.548265           0.0          292.966829   \n",
       "1     3266         1.0   1168.639681           0.0          297.311558   \n",
       "2     3267         1.0   1184.363119           0.0          218.341469   \n",
       "3     3268         1.0    125.097364           0.0          312.426527   \n",
       "4     3269         1.0     62.621274           0.0          227.660005   \n",
       "\n",
       "   AVG_RIDE  EOL_SOL  EDD_EMP_LOG  FREQ_S_LOG  HOUSING_16_DEN_LOG  \\\n",
       "0    669.35      0.0     7.527256    1.320575            7.880741   \n",
       "1    216.70      0.0     7.185387    1.925794            7.193610   \n",
       "2    166.50      0.0     7.184629    1.497044            7.196664   \n",
       "3    124.95      0.0     7.665285    1.925890            7.152574   \n",
       "4     56.85      0.0     7.645876    1.496992            7.155292   \n",
       "\n",
       "   DIFF_AVG_RIDE  PDIFF_AVG_RIDE  \n",
       "0    -376.383171      -56.231145  \n",
       "1      80.611558       37.199611  \n",
       "2      51.841469       31.136018  \n",
       "3     187.476527      150.041238  \n",
       "4     170.810005      300.457352  "
      ]
     },
     "execution_count": 89,
     "metadata": {},
     "output_type": "execute_result"
    }
   ],
   "source": [
    "grouped.head()"
   ]
  },
  {
   "cell_type": "code",
   "execution_count": 90,
   "metadata": {
    "collapsed": false
   },
   "outputs": [],
   "source": [
    "grouped.to_csv('E:/Transit-Casa-Alex/MUNI Rail/Output/Modeling/2016/Diff_Mapping_Data_Post_Process.csv')"
   ]
  },
  {
   "cell_type": "markdown",
   "metadata": {},
   "source": [
    "# Move on to 2009"
   ]
  },
  {
   "cell_type": "code",
   "execution_count": 91,
   "metadata": {
    "collapsed": true
   },
   "outputs": [],
   "source": [
    "df = pd.read_csv('E:/Transit-Casa-Alex/MUNI Rail/Output/Modeling/2009/Diff_Map_Data.csv')"
   ]
  },
  {
   "cell_type": "code",
   "execution_count": 92,
   "metadata": {
    "collapsed": false
   },
   "outputs": [
    {
     "data": {
      "text/html": [
       "<div>\n",
       "<table border=\"1\" class=\"dataframe\">\n",
       "  <thead>\n",
       "    <tr style=\"text-align: right;\">\n",
       "      <th></th>\n",
       "      <th>STOP_ID</th>\n",
       "      <th>LOG_RIDERS</th>\n",
       "      <th>PRED_LOG_RIDERS</th>\n",
       "      <th>AVG_RIDE</th>\n",
       "      <th>PRED_AVG_RIDERSHIP</th>\n",
       "      <th>EDD_EMP_LOG</th>\n",
       "      <th>FREQ_S_LOG</th>\n",
       "      <th>EOL_SOL</th>\n",
       "      <th>HOUSING_09_DEN_LOG</th>\n",
       "      <th>MUNI_BUS_AVG</th>\n",
       "      <th>AVG_BART_LOG</th>\n",
       "      <th>CLOSE_STOP</th>\n",
       "    </tr>\n",
       "  </thead>\n",
       "  <tbody>\n",
       "    <tr>\n",
       "      <th>0</th>\n",
       "      <td>3984</td>\n",
       "      <td>5.556828</td>\n",
       "      <td>6.258936</td>\n",
       "      <td>258.0</td>\n",
       "      <td>521.662337</td>\n",
       "      <td>8.032360</td>\n",
       "      <td>1.795095</td>\n",
       "      <td>0.000000</td>\n",
       "      <td>8.188915</td>\n",
       "      <td>2719.19938</td>\n",
       "      <td>0.000000</td>\n",
       "      <td>1</td>\n",
       "    </tr>\n",
       "    <tr>\n",
       "      <th>1</th>\n",
       "      <td>4006</td>\n",
       "      <td>6.243196</td>\n",
       "      <td>6.565914</td>\n",
       "      <td>513.5</td>\n",
       "      <td>709.461200</td>\n",
       "      <td>7.722235</td>\n",
       "      <td>1.546350</td>\n",
       "      <td>0.333333</td>\n",
       "      <td>8.232646</td>\n",
       "      <td>4634.81908</td>\n",
       "      <td>0.000000</td>\n",
       "      <td>1</td>\n",
       "    </tr>\n",
       "    <tr>\n",
       "      <th>2</th>\n",
       "      <td>5417</td>\n",
       "      <td>6.557488</td>\n",
       "      <td>10.552604</td>\n",
       "      <td>703.5</td>\n",
       "      <td>38275.975030</td>\n",
       "      <td>10.425757</td>\n",
       "      <td>1.881187</td>\n",
       "      <td>0.000000</td>\n",
       "      <td>8.376506</td>\n",
       "      <td>25941.25750</td>\n",
       "      <td>8.460305</td>\n",
       "      <td>1</td>\n",
       "    </tr>\n",
       "    <tr>\n",
       "      <th>3</th>\n",
       "      <td>5419</td>\n",
       "      <td>6.347389</td>\n",
       "      <td>6.892125</td>\n",
       "      <td>570.0</td>\n",
       "      <td>983.491388</td>\n",
       "      <td>10.560152</td>\n",
       "      <td>1.831209</td>\n",
       "      <td>0.333333</td>\n",
       "      <td>7.937188</td>\n",
       "      <td>12085.86851</td>\n",
       "      <td>0.000000</td>\n",
       "      <td>0</td>\n",
       "    </tr>\n",
       "    <tr>\n",
       "      <th>4</th>\n",
       "      <td>5727</td>\n",
       "      <td>6.278521</td>\n",
       "      <td>7.099374</td>\n",
       "      <td>532.0</td>\n",
       "      <td>1210.209085</td>\n",
       "      <td>10.698943</td>\n",
       "      <td>1.880964</td>\n",
       "      <td>0.000000</td>\n",
       "      <td>8.288463</td>\n",
       "      <td>12165.03870</td>\n",
       "      <td>8.848222</td>\n",
       "      <td>1</td>\n",
       "    </tr>\n",
       "  </tbody>\n",
       "</table>\n",
       "</div>"
      ],
      "text/plain": [
       "   STOP_ID  LOG_RIDERS  PRED_LOG_RIDERS  AVG_RIDE  PRED_AVG_RIDERSHIP  \\\n",
       "0     3984    5.556828         6.258936     258.0          521.662337   \n",
       "1     4006    6.243196         6.565914     513.5          709.461200   \n",
       "2     5417    6.557488        10.552604     703.5        38275.975030   \n",
       "3     5419    6.347389         6.892125     570.0          983.491388   \n",
       "4     5727    6.278521         7.099374     532.0         1210.209085   \n",
       "\n",
       "   EDD_EMP_LOG  FREQ_S_LOG   EOL_SOL  HOUSING_09_DEN_LOG  MUNI_BUS_AVG  \\\n",
       "0     8.032360    1.795095  0.000000            8.188915    2719.19938   \n",
       "1     7.722235    1.546350  0.333333            8.232646    4634.81908   \n",
       "2    10.425757    1.881187  0.000000            8.376506   25941.25750   \n",
       "3    10.560152    1.831209  0.333333            7.937188   12085.86851   \n",
       "4    10.698943    1.880964  0.000000            8.288463   12165.03870   \n",
       "\n",
       "   AVG_BART_LOG  CLOSE_STOP  \n",
       "0      0.000000           1  \n",
       "1      0.000000           1  \n",
       "2      8.460305           1  \n",
       "3      0.000000           0  \n",
       "4      8.848222           1  "
      ]
     },
     "execution_count": 92,
     "metadata": {},
     "output_type": "execute_result"
    }
   ],
   "source": [
    "df.head()"
   ]
  },
  {
   "cell_type": "code",
   "execution_count": null,
   "metadata": {
    "collapsed": true
   },
   "outputs": [],
   "source": []
  },
  {
   "cell_type": "code",
   "execution_count": null,
   "metadata": {
    "collapsed": true
   },
   "outputs": [],
   "source": []
  },
  {
   "cell_type": "code",
   "execution_count": 93,
   "metadata": {
    "collapsed": false
   },
   "outputs": [
    {
     "data": {
      "text/html": [
       "<div>\n",
       "<table border=\"1\" class=\"dataframe\">\n",
       "  <thead>\n",
       "    <tr style=\"text-align: right;\">\n",
       "      <th></th>\n",
       "      <th>STOP_ID</th>\n",
       "      <th>LOG_RIDERS</th>\n",
       "      <th>PRED_LOG_RIDERS</th>\n",
       "      <th>AVG_RIDE</th>\n",
       "      <th>PRED_AVG_RIDERSHIP</th>\n",
       "      <th>EDD_EMP_LOG</th>\n",
       "      <th>FREQ_S_LOG</th>\n",
       "      <th>EOL_SOL</th>\n",
       "      <th>HOUSING_09_DEN_LOG</th>\n",
       "      <th>MUNI_BUS_AVG</th>\n",
       "      <th>AVG_BART_LOG</th>\n",
       "      <th>CLOSE_STOP</th>\n",
       "    </tr>\n",
       "  </thead>\n",
       "  <tbody>\n",
       "    <tr>\n",
       "      <th>0</th>\n",
       "      <td>3984</td>\n",
       "      <td>5.556828</td>\n",
       "      <td>6.258936</td>\n",
       "      <td>258.0</td>\n",
       "      <td>521.662337</td>\n",
       "      <td>8.032360</td>\n",
       "      <td>1.795095</td>\n",
       "      <td>0.000000</td>\n",
       "      <td>8.188915</td>\n",
       "      <td>2719.19938</td>\n",
       "      <td>0.000000</td>\n",
       "      <td>1</td>\n",
       "    </tr>\n",
       "    <tr>\n",
       "      <th>1</th>\n",
       "      <td>4006</td>\n",
       "      <td>6.243196</td>\n",
       "      <td>6.565914</td>\n",
       "      <td>513.5</td>\n",
       "      <td>709.461200</td>\n",
       "      <td>7.722235</td>\n",
       "      <td>1.546350</td>\n",
       "      <td>0.333333</td>\n",
       "      <td>8.232646</td>\n",
       "      <td>4634.81908</td>\n",
       "      <td>0.000000</td>\n",
       "      <td>1</td>\n",
       "    </tr>\n",
       "    <tr>\n",
       "      <th>2</th>\n",
       "      <td>5417</td>\n",
       "      <td>6.557488</td>\n",
       "      <td>10.552604</td>\n",
       "      <td>703.5</td>\n",
       "      <td>38275.975030</td>\n",
       "      <td>10.425757</td>\n",
       "      <td>1.881187</td>\n",
       "      <td>0.000000</td>\n",
       "      <td>8.376506</td>\n",
       "      <td>25941.25750</td>\n",
       "      <td>8.460305</td>\n",
       "      <td>1</td>\n",
       "    </tr>\n",
       "    <tr>\n",
       "      <th>3</th>\n",
       "      <td>5419</td>\n",
       "      <td>6.347389</td>\n",
       "      <td>6.892125</td>\n",
       "      <td>570.0</td>\n",
       "      <td>983.491388</td>\n",
       "      <td>10.560152</td>\n",
       "      <td>1.831209</td>\n",
       "      <td>0.333333</td>\n",
       "      <td>7.937188</td>\n",
       "      <td>12085.86851</td>\n",
       "      <td>0.000000</td>\n",
       "      <td>0</td>\n",
       "    </tr>\n",
       "    <tr>\n",
       "      <th>4</th>\n",
       "      <td>5727</td>\n",
       "      <td>6.278521</td>\n",
       "      <td>7.099374</td>\n",
       "      <td>532.0</td>\n",
       "      <td>1210.209085</td>\n",
       "      <td>10.698943</td>\n",
       "      <td>1.880964</td>\n",
       "      <td>0.000000</td>\n",
       "      <td>8.288463</td>\n",
       "      <td>12165.03870</td>\n",
       "      <td>8.848222</td>\n",
       "      <td>1</td>\n",
       "    </tr>\n",
       "  </tbody>\n",
       "</table>\n",
       "</div>"
      ],
      "text/plain": [
       "   STOP_ID  LOG_RIDERS  PRED_LOG_RIDERS  AVG_RIDE  PRED_AVG_RIDERSHIP  \\\n",
       "0     3984    5.556828         6.258936     258.0          521.662337   \n",
       "1     4006    6.243196         6.565914     513.5          709.461200   \n",
       "2     5417    6.557488        10.552604     703.5        38275.975030   \n",
       "3     5419    6.347389         6.892125     570.0          983.491388   \n",
       "4     5727    6.278521         7.099374     532.0         1210.209085   \n",
       "\n",
       "   EDD_EMP_LOG  FREQ_S_LOG   EOL_SOL  HOUSING_09_DEN_LOG  MUNI_BUS_AVG  \\\n",
       "0     8.032360    1.795095  0.000000            8.188915    2719.19938   \n",
       "1     7.722235    1.546350  0.333333            8.232646    4634.81908   \n",
       "2    10.425757    1.881187  0.000000            8.376506   25941.25750   \n",
       "3    10.560152    1.831209  0.333333            7.937188   12085.86851   \n",
       "4    10.698943    1.880964  0.000000            8.288463   12165.03870   \n",
       "\n",
       "   AVG_BART_LOG  CLOSE_STOP  \n",
       "0      0.000000           1  \n",
       "1      0.000000           1  \n",
       "2      8.460305           1  \n",
       "3      0.000000           0  \n",
       "4      8.848222           1  "
      ]
     },
     "execution_count": 93,
     "metadata": {},
     "output_type": "execute_result"
    }
   ],
   "source": [
    "df.head()"
   ]
  },
  {
   "cell_type": "code",
   "execution_count": 100,
   "metadata": {
    "collapsed": true
   },
   "outputs": [],
   "source": [
    "agg = {'LOG_RIDERS':'sum', 'EDD_EMP_LOG':'sum', 'AVG_RIDE':'sum', 'FREQ_S_LOG':'mean',\n",
    "       'EOL_SOL':'mean', 'HOUSING_09_DEN_LOG':'mean', 'MUNI_BUS_AVG':'sum', 'AVG_BART_LOG':'sum',\n",
    "       'CLOSE_STOP':'mean','PRED_AVG_RIDERSHIP':'sum','AVG_RIDE':'sum'}"
   ]
  },
  {
   "cell_type": "code",
   "execution_count": 101,
   "metadata": {
    "collapsed": false
   },
   "outputs": [],
   "source": [
    "grouped = df.groupby(by = 'STOP_ID', as_index = False).agg(agg)"
   ]
  },
  {
   "cell_type": "code",
   "execution_count": null,
   "metadata": {
    "collapsed": true
   },
   "outputs": [],
   "source": []
  },
  {
   "cell_type": "code",
   "execution_count": 102,
   "metadata": {
    "collapsed": false
   },
   "outputs": [],
   "source": [
    "grouped['DIFF_AVG_RIDE'] = grouped.PRED_AVG_RIDERSHIP - grouped.AVG_RIDE"
   ]
  },
  {
   "cell_type": "code",
   "execution_count": 103,
   "metadata": {
    "collapsed": true
   },
   "outputs": [],
   "source": [
    "grouped['PDIFF_AVG_RIDE'] = (grouped.DIFF_AVG_RIDE/grouped.AVG_RIDE)*100"
   ]
  },
  {
   "cell_type": "code",
   "execution_count": 104,
   "metadata": {
    "collapsed": false
   },
   "outputs": [
    {
     "data": {
      "text/html": [
       "<div>\n",
       "<table border=\"1\" class=\"dataframe\">\n",
       "  <thead>\n",
       "    <tr style=\"text-align: right;\">\n",
       "      <th></th>\n",
       "      <th>STOP_ID</th>\n",
       "      <th>CLOSE_STOP</th>\n",
       "      <th>MUNI_BUS_AVG</th>\n",
       "      <th>HOUSING_09_DEN_LOG</th>\n",
       "      <th>LOG_RIDERS</th>\n",
       "      <th>AVG_BART_LOG</th>\n",
       "      <th>AVG_RIDE</th>\n",
       "      <th>EOL_SOL</th>\n",
       "      <th>EDD_EMP_LOG</th>\n",
       "      <th>PRED_AVG_RIDERSHIP</th>\n",
       "      <th>FREQ_S_LOG</th>\n",
       "      <th>DIFF_AVG_RIDE</th>\n",
       "      <th>PDIFF_AVG_RIDE</th>\n",
       "    </tr>\n",
       "  </thead>\n",
       "  <tbody>\n",
       "    <tr>\n",
       "      <th>0</th>\n",
       "      <td>3212</td>\n",
       "      <td>1.0</td>\n",
       "      <td>3262.918694</td>\n",
       "      <td>7.876545</td>\n",
       "      <td>6.616734</td>\n",
       "      <td>0.0</td>\n",
       "      <td>746.5</td>\n",
       "      <td>0.0</td>\n",
       "      <td>10.028357</td>\n",
       "      <td>612.964145</td>\n",
       "      <td>1.378684</td>\n",
       "      <td>-133.535855</td>\n",
       "      <td>-17.888259</td>\n",
       "    </tr>\n",
       "    <tr>\n",
       "      <th>1</th>\n",
       "      <td>3266</td>\n",
       "      <td>1.0</td>\n",
       "      <td>1059.541883</td>\n",
       "      <td>7.193557</td>\n",
       "      <td>5.117994</td>\n",
       "      <td>0.0</td>\n",
       "      <td>166.0</td>\n",
       "      <td>0.0</td>\n",
       "      <td>7.056175</td>\n",
       "      <td>363.836175</td>\n",
       "      <td>1.976664</td>\n",
       "      <td>197.836175</td>\n",
       "      <td>119.178419</td>\n",
       "    </tr>\n",
       "    <tr>\n",
       "      <th>2</th>\n",
       "      <td>3267</td>\n",
       "      <td>1.0</td>\n",
       "      <td>1077.001132</td>\n",
       "      <td>7.196570</td>\n",
       "      <td>5.190175</td>\n",
       "      <td>0.0</td>\n",
       "      <td>178.5</td>\n",
       "      <td>0.0</td>\n",
       "      <td>7.057898</td>\n",
       "      <td>264.051085</td>\n",
       "      <td>1.531410</td>\n",
       "      <td>85.551085</td>\n",
       "      <td>47.927779</td>\n",
       "    </tr>\n",
       "    <tr>\n",
       "      <th>3</th>\n",
       "      <td>3268</td>\n",
       "      <td>1.0</td>\n",
       "      <td>225.696980</td>\n",
       "      <td>7.152492</td>\n",
       "      <td>4.212128</td>\n",
       "      <td>0.0</td>\n",
       "      <td>66.5</td>\n",
       "      <td>0.0</td>\n",
       "      <td>7.412764</td>\n",
       "      <td>388.461579</td>\n",
       "      <td>1.976682</td>\n",
       "      <td>321.961579</td>\n",
       "      <td>484.152751</td>\n",
       "    </tr>\n",
       "    <tr>\n",
       "      <th>4</th>\n",
       "      <td>3269</td>\n",
       "      <td>1.0</td>\n",
       "      <td>111.449711</td>\n",
       "      <td>7.155132</td>\n",
       "      <td>3.433987</td>\n",
       "      <td>0.0</td>\n",
       "      <td>30.0</td>\n",
       "      <td>0.0</td>\n",
       "      <td>7.405496</td>\n",
       "      <td>281.335227</td>\n",
       "      <td>1.531513</td>\n",
       "      <td>251.335227</td>\n",
       "      <td>837.784091</td>\n",
       "    </tr>\n",
       "  </tbody>\n",
       "</table>\n",
       "</div>"
      ],
      "text/plain": [
       "   STOP_ID  CLOSE_STOP  MUNI_BUS_AVG  HOUSING_09_DEN_LOG  LOG_RIDERS  \\\n",
       "0     3212         1.0   3262.918694            7.876545    6.616734   \n",
       "1     3266         1.0   1059.541883            7.193557    5.117994   \n",
       "2     3267         1.0   1077.001132            7.196570    5.190175   \n",
       "3     3268         1.0    225.696980            7.152492    4.212128   \n",
       "4     3269         1.0    111.449711            7.155132    3.433987   \n",
       "\n",
       "   AVG_BART_LOG  AVG_RIDE  EOL_SOL  EDD_EMP_LOG  PRED_AVG_RIDERSHIP  \\\n",
       "0           0.0     746.5      0.0    10.028357          612.964145   \n",
       "1           0.0     166.0      0.0     7.056175          363.836175   \n",
       "2           0.0     178.5      0.0     7.057898          264.051085   \n",
       "3           0.0      66.5      0.0     7.412764          388.461579   \n",
       "4           0.0      30.0      0.0     7.405496          281.335227   \n",
       "\n",
       "   FREQ_S_LOG  DIFF_AVG_RIDE  PDIFF_AVG_RIDE  \n",
       "0    1.378684    -133.535855      -17.888259  \n",
       "1    1.976664     197.836175      119.178419  \n",
       "2    1.531410      85.551085       47.927779  \n",
       "3    1.976682     321.961579      484.152751  \n",
       "4    1.531513     251.335227      837.784091  "
      ]
     },
     "execution_count": 104,
     "metadata": {},
     "output_type": "execute_result"
    }
   ],
   "source": [
    "grouped.head()"
   ]
  },
  {
   "cell_type": "code",
   "execution_count": 105,
   "metadata": {
    "collapsed": false
   },
   "outputs": [
    {
     "data": {
      "text/plain": [
       "187"
      ]
     },
     "execution_count": 105,
     "metadata": {},
     "output_type": "execute_result"
    }
   ],
   "source": [
    "len(grouped)"
   ]
  },
  {
   "cell_type": "code",
   "execution_count": 106,
   "metadata": {
    "collapsed": true
   },
   "outputs": [],
   "source": [
    "grouped.to_csv('E:/Transit-Casa-Alex/MUNI Rail/Output/Modeling/2009/Diff_Map_Data_Post_Process.csv')"
   ]
  },
  {
   "cell_type": "code",
   "execution_count": null,
   "metadata": {
    "collapsed": true
   },
   "outputs": [],
   "source": []
  }
 ],
 "metadata": {
  "anaconda-cloud": {},
  "kernelspec": {
   "display_name": "Python [conda root]",
   "language": "python",
   "name": "conda-root-py"
  },
  "language_info": {
   "codemirror_mode": {
    "name": "ipython",
    "version": 3
   },
   "file_extension": ".py",
   "mimetype": "text/x-python",
   "name": "python",
   "nbconvert_exporter": "python",
   "pygments_lexer": "ipython3",
   "version": "3.5.2"
  }
 },
 "nbformat": 4,
 "nbformat_minor": 1
}
