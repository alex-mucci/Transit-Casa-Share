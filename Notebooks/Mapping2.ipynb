{
 "cells": [
  {
   "cell_type": "code",
   "execution_count": 1,
   "metadata": {
    "collapsed": true
   },
   "outputs": [],
   "source": [
    "import csv as csv\n",
    "import pandas as pd\n",
    "import numpy as np\n",
    "import folium\n",
    "%load_ext autoreload\n",
    "%autoreload 2\n",
    "%matplotlib inline\n"
   ]
  },
  {
   "cell_type": "code",
   "execution_count": 2,
   "metadata": {
    "collapsed": true
   },
   "outputs": [],
   "source": [
    "hdffile = \"E:/Transit_Casa/Output/sfmuni_monthly_ts.h5\"\n",
    "store = pd.HDFStore(hdffile)\n",
    "df = store.get('stop_day')"
   ]
  },
  {
   "cell_type": "code",
   "execution_count": 21,
   "metadata": {
    "collapsed": false
   },
   "outputs": [],
   "source": [
    "after  = store.select('rs_tod', where=\"MONTH=Timestamp('2013-09-01') & DOW=1 & TOD='2200-0259' & ROUTE_SHORT_NAME='2' & DIR=0\")  \n",
    "after.to_csv('after.csv')"
   ]
  },
  {
   "cell_type": "code",
   "execution_count": 22,
   "metadata": {
    "collapsed": true
   },
   "outputs": [],
   "source": [
    "load = 0.0\n",
    "for i, row in after.iterrows():\n",
    "    load -= row['OFF']\n",
    "    load += row['ON']\n",
    "    after.at[i, 'LOAD_DEP'] = load"
   ]
  },
  {
   "cell_type": "code",
   "execution_count": 24,
   "metadata": {
    "collapsed": false
   },
   "outputs": [],
   "source": [
    "after.to_csv('after_2_2200-0259.csv')"
   ]
  },
  {
   "cell_type": "code",
   "execution_count": 5,
   "metadata": {
    "collapsed": false
   },
   "outputs": [
    {
     "data": {
      "text/plain": [
       "3744"
      ]
     },
     "execution_count": 5,
     "metadata": {},
     "output_type": "execute_result"
    }
   ],
   "source": [
    "# number of unique bus stops in san fran\n",
    "len(df.STOP_ID.unique())"
   ]
  },
  {
   "cell_type": "code",
   "execution_count": 3,
   "metadata": {
    "collapsed": true
   },
   "outputs": [],
   "source": [
    "df1 = df[df['MONTH'] == '2009-09-01']\n",
    "df2 = df[df['MONTH'] == '2013-09-01']"
   ]
  },
  {
   "cell_type": "code",
   "execution_count": 5,
   "metadata": {
    "collapsed": false
   },
   "outputs": [
    {
     "name": "stdout",
     "output_type": "stream",
     "text": [
      "<class 'pandas.core.frame.DataFrame'>\n",
      "Int64Index: 3563 entries, 10689 to 14251\n",
      "Data columns (total 51 columns):\n",
      "MONTH                 3563 non-null datetime64[ns]\n",
      "DOW                   3563 non-null int64\n",
      "AGENCY_ID             3563 non-null object\n",
      "STOP_ID               3563 non-null int64\n",
      "NUMDAYS               3563 non-null int64\n",
      "OBSDAYS               3563 non-null int64\n",
      "TRIP_STOPS            3563 non-null int64\n",
      "OBS_TRIP_STOPS        3563 non-null int64\n",
      "WGT_TRIP_STOPS        3538 non-null float64\n",
      "HEADWAY_S             3545 non-null float64\n",
      "FARE                  3563 non-null float64\n",
      "STOPNAME              3563 non-null object\n",
      "STOPNAME_AVL          3563 non-null object\n",
      "STOP_LAT              3563 non-null float64\n",
      "STOP_LON              3563 non-null float64\n",
      "EOL                   3563 non-null int64\n",
      "SOL                   3563 non-null int64\n",
      "TIMEPOINT             3517 non-null float64\n",
      "ARRIVAL_TIME_DEV      3517 non-null float64\n",
      "DEPARTURE_TIME_DEV    3517 non-null float64\n",
      "DWELL_S               3563 non-null float64\n",
      "DWELL                 3517 non-null float64\n",
      "RUNTIME_S             3563 non-null float64\n",
      "RUNTIME               3517 non-null float64\n",
      "TOTTIME_S             3563 non-null float64\n",
      "TOTTIME               3517 non-null float64\n",
      "SERVMILES_S           3563 non-null float64\n",
      "SERVMILES             3538 non-null float64\n",
      "RUNSPEED_S            3563 non-null float64\n",
      "RUNSPEED              3517 non-null float64\n",
      "TOTSPEED_S            3563 non-null float64\n",
      "TOTSPEED              3517 non-null float64\n",
      "ONTIME5               3517 non-null float64\n",
      "ON                    3517 non-null float64\n",
      "OFF                   3517 non-null float64\n",
      "LOAD_ARR              3517 non-null float64\n",
      "LOAD_DEP              3517 non-null float64\n",
      "PASSMILES             3517 non-null float64\n",
      "PASSHOURS             3517 non-null float64\n",
      "WAITHOURS             3499 non-null float64\n",
      "FULLFARE_REV          3517 non-null float64\n",
      "PASSDELAY_DEP         3517 non-null float64\n",
      "PASSDELAY_ARR         3517 non-null float64\n",
      "RDBRDNGS              3517 non-null float64\n",
      "DOORCYCLES            3517 non-null float64\n",
      "WHEELCHAIR            3517 non-null float64\n",
      "BIKERACK              3517 non-null float64\n",
      "CAPACITY              3517 non-null float64\n",
      "VC                    3517 non-null float64\n",
      "CROWDED               3517 non-null float64\n",
      "CROWDHOURS            3517 non-null float64\n",
      "dtypes: datetime64[ns](1), float64(39), int64(8), object(3)\n",
      "memory usage: 1.4+ MB\n"
     ]
    }
   ],
   "source": [
    "df1.info()"
   ]
  },
  {
   "cell_type": "code",
   "execution_count": 4,
   "metadata": {
    "collapsed": false
   },
   "outputs": [],
   "source": [
    "import sys \n",
    "sys.path.append('E:\\Transit_Casa\\Alex\\Scripts')\n",
    "import Muni_Estimates_day as muni\n"
   ]
  },
  {
   "cell_type": "code",
   "execution_count": 5,
   "metadata": {
    "collapsed": true
   },
   "outputs": [],
   "source": [
    "df_final = pd.merge(df1,df2, how = 'outer', on = ['DOW', 'AGENCY_ID', 'STOP_ID'], suffixes = ['_09','_13'])\n",
    "df_final = df_final.reindex_axis(sorted(df_final.columns), axis=1)\n"
   ]
  },
  {
   "cell_type": "code",
   "execution_count": null,
   "metadata": {
    "collapsed": false
   },
   "outputs": [],
   "source": [
    "import "
   ]
  },
  {
   "cell_type": "code",
   "execution_count": 9,
   "metadata": {
    "collapsed": false
   },
   "outputs": [
    {
     "data": {
      "text/plain": [
       "True"
      ]
     },
     "execution_count": 9,
     "metadata": {},
     "output_type": "execute_result"
    }
   ],
   "source": [
    "import math\n",
    "np.isnan(np.nan)"
   ]
  },
  {
   "cell_type": "code",
   "execution_count": 6,
   "metadata": {
    "collapsed": true
   },
   "outputs": [],
   "source": [
    "def choose_right_latlon(val1, val2): \n",
    "    if np.isnan(val1): \n",
    "        return val2\n",
    "    else: \n",
    "        return val1"
   ]
  },
  {
   "cell_type": "code",
   "execution_count": 7,
   "metadata": {
    "collapsed": false
   },
   "outputs": [],
   "source": [
    "df_final['LAT'] = df_final.apply(lambda row: choose_right_latlon(row['STOP_LAT_09'], row['STOP_LAT_13']), axis=1)"
   ]
  },
  {
   "cell_type": "code",
   "execution_count": 8,
   "metadata": {
    "collapsed": true
   },
   "outputs": [],
   "source": [
    "df_final['LON'] = df_final.apply(lambda row: choose_right_latlon(row['STOP_LON_09'], row['STOP_LON_13']), axis=1)"
   ]
  },
  {
   "cell_type": "code",
   "execution_count": null,
   "metadata": {
    "collapsed": true
   },
   "outputs": [],
   "source": []
  },
  {
   "cell_type": "code",
   "execution_count": 209,
   "metadata": {
    "collapsed": false
   },
   "outputs": [],
   "source": []
  },
  {
   "cell_type": "code",
   "execution_count": 211,
   "metadata": {
    "collapsed": false
   },
   "outputs": [
    {
     "data": {
      "text/html": [
       "<div>\n",
       "<table border=\"1\" class=\"dataframe\">\n",
       "  <thead>\n",
       "    <tr style=\"text-align: right;\">\n",
       "      <th></th>\n",
       "      <th>AGENCY_ID</th>\n",
       "      <th>ARRIVAL_TIME_DEV_09</th>\n",
       "      <th>ARRIVAL_TIME_DEV_13</th>\n",
       "      <th>BIKERACK_09</th>\n",
       "      <th>BIKERACK_13</th>\n",
       "      <th>CAPACITY_09</th>\n",
       "      <th>CAPACITY_13</th>\n",
       "      <th>CROWDED_09</th>\n",
       "      <th>CROWDED_13</th>\n",
       "      <th>CROWDHOURS_09</th>\n",
       "      <th>...</th>\n",
       "      <th>WGT_TRIP_STOPS_13</th>\n",
       "      <th>WHEELCHAIR_09</th>\n",
       "      <th>WHEELCHAIR_13</th>\n",
       "      <th>ON_DIFF</th>\n",
       "      <th>ON_P_DIFF(FLOAT)</th>\n",
       "      <th>ON_P_DIFF</th>\n",
       "      <th>LAT</th>\n",
       "      <th>LON</th>\n",
       "      <th>ON_P_DIFF_FLOAT</th>\n",
       "      <th>STOPNAME</th>\n",
       "    </tr>\n",
       "  </thead>\n",
       "  <tbody>\n",
       "    <tr>\n",
       "      <th>0</th>\n",
       "      <td>SFMTA</td>\n",
       "      <td>0.934607</td>\n",
       "      <td>1.757239</td>\n",
       "      <td>0.219167</td>\n",
       "      <td>1.592472</td>\n",
       "      <td>2877.954545</td>\n",
       "      <td>2560.95</td>\n",
       "      <td>0.060312</td>\n",
       "      <td>0.037341</td>\n",
       "      <td>21.520189</td>\n",
       "      <td>...</td>\n",
       "      <td>265.943718</td>\n",
       "      <td>0.000000</td>\n",
       "      <td>0.566667</td>\n",
       "      <td>-213.317617</td>\n",
       "      <td>-9.498760</td>\n",
       "      <td>-9.49876029208%</td>\n",
       "      <td>37.721190</td>\n",
       "      <td>-122.475096</td>\n",
       "      <td>-9.498760</td>\n",
       "      <td>19th Avenue &amp;  Holloway St</td>\n",
       "    </tr>\n",
       "    <tr>\n",
       "      <th>1</th>\n",
       "      <td>SFMTA</td>\n",
       "      <td>3.542134</td>\n",
       "      <td>NaN</td>\n",
       "      <td>0.399840</td>\n",
       "      <td>NaN</td>\n",
       "      <td>1093.909091</td>\n",
       "      <td>NaN</td>\n",
       "      <td>0.031747</td>\n",
       "      <td>NaN</td>\n",
       "      <td>4.584047</td>\n",
       "      <td>...</td>\n",
       "      <td>NaN</td>\n",
       "      <td>0.126824</td>\n",
       "      <td>NaN</td>\n",
       "      <td>NaN</td>\n",
       "      <td>NaN</td>\n",
       "      <td>nan%</td>\n",
       "      <td>37.765159</td>\n",
       "      <td>-122.477210</td>\n",
       "      <td>0.000000</td>\n",
       "      <td>19TH AVE &amp;  LINCOLN WAY</td>\n",
       "    </tr>\n",
       "    <tr>\n",
       "      <th>2</th>\n",
       "      <td>SFMTA</td>\n",
       "      <td>1.770704</td>\n",
       "      <td>-0.344797</td>\n",
       "      <td>0.000000</td>\n",
       "      <td>0.000000</td>\n",
       "      <td>1505.818182</td>\n",
       "      <td>1242.70</td>\n",
       "      <td>0.000000</td>\n",
       "      <td>0.000000</td>\n",
       "      <td>0.000000</td>\n",
       "      <td>...</td>\n",
       "      <td>101.784411</td>\n",
       "      <td>0.000000</td>\n",
       "      <td>0.000000</td>\n",
       "      <td>0.178389</td>\n",
       "      <td>8.394136</td>\n",
       "      <td>8.3941360784%</td>\n",
       "      <td>37.723914</td>\n",
       "      <td>-122.435387</td>\n",
       "      <td>8.394136</td>\n",
       "      <td>MISSION ST &amp; OCEAN AVENUE</td>\n",
       "    </tr>\n",
       "    <tr>\n",
       "      <th>3</th>\n",
       "      <td>SFMTA</td>\n",
       "      <td>4.582892</td>\n",
       "      <td>2.994147</td>\n",
       "      <td>0.226340</td>\n",
       "      <td>0.133333</td>\n",
       "      <td>1437.882353</td>\n",
       "      <td>1562.40</td>\n",
       "      <td>0.000000</td>\n",
       "      <td>0.000000</td>\n",
       "      <td>0.000000</td>\n",
       "      <td>...</td>\n",
       "      <td>79.000000</td>\n",
       "      <td>0.000000</td>\n",
       "      <td>0.000000</td>\n",
       "      <td>-29.414361</td>\n",
       "      <td>-68.157279</td>\n",
       "      <td>-68.1572790684%</td>\n",
       "      <td>37.719192</td>\n",
       "      <td>-122.425802</td>\n",
       "      <td>-68.157279</td>\n",
       "      <td>DUBLIN ST &amp; LAGRANDE AVE</td>\n",
       "    </tr>\n",
       "    <tr>\n",
       "      <th>4</th>\n",
       "      <td>SFMTA</td>\n",
       "      <td>2.883022</td>\n",
       "      <td>NaN</td>\n",
       "      <td>0.150224</td>\n",
       "      <td>NaN</td>\n",
       "      <td>804.681818</td>\n",
       "      <td>NaN</td>\n",
       "      <td>0.012185</td>\n",
       "      <td>NaN</td>\n",
       "      <td>0.929952</td>\n",
       "      <td>...</td>\n",
       "      <td>NaN</td>\n",
       "      <td>0.286364</td>\n",
       "      <td>NaN</td>\n",
       "      <td>NaN</td>\n",
       "      <td>NaN</td>\n",
       "      <td>nan%</td>\n",
       "      <td>37.788530</td>\n",
       "      <td>-122.396044</td>\n",
       "      <td>0.000000</td>\n",
       "      <td>1st St &amp; Howard St</td>\n",
       "    </tr>\n",
       "  </tbody>\n",
       "</table>\n",
       "<p>5 rows × 106 columns</p>\n",
       "</div>"
      ],
      "text/plain": [
       "  AGENCY_ID  ARRIVAL_TIME_DEV_09  ARRIVAL_TIME_DEV_13  BIKERACK_09  \\\n",
       "0     SFMTA             0.934607             1.757239     0.219167   \n",
       "1     SFMTA             3.542134                  NaN     0.399840   \n",
       "2     SFMTA             1.770704            -0.344797     0.000000   \n",
       "3     SFMTA             4.582892             2.994147     0.226340   \n",
       "4     SFMTA             2.883022                  NaN     0.150224   \n",
       "\n",
       "   BIKERACK_13  CAPACITY_09  CAPACITY_13  CROWDED_09  CROWDED_13  \\\n",
       "0     1.592472  2877.954545      2560.95    0.060312    0.037341   \n",
       "1          NaN  1093.909091          NaN    0.031747         NaN   \n",
       "2     0.000000  1505.818182      1242.70    0.000000    0.000000   \n",
       "3     0.133333  1437.882353      1562.40    0.000000    0.000000   \n",
       "4          NaN   804.681818          NaN    0.012185         NaN   \n",
       "\n",
       "   CROWDHOURS_09             ...              WGT_TRIP_STOPS_13  \\\n",
       "0      21.520189             ...                     265.943718   \n",
       "1       4.584047             ...                            NaN   \n",
       "2       0.000000             ...                     101.784411   \n",
       "3       0.000000             ...                      79.000000   \n",
       "4       0.929952             ...                            NaN   \n",
       "\n",
       "   WHEELCHAIR_09  WHEELCHAIR_13     ON_DIFF  ON_P_DIFF(FLOAT)  \\\n",
       "0       0.000000       0.566667 -213.317617         -9.498760   \n",
       "1       0.126824            NaN         NaN               NaN   \n",
       "2       0.000000       0.000000    0.178389          8.394136   \n",
       "3       0.000000       0.000000  -29.414361        -68.157279   \n",
       "4       0.286364            NaN         NaN               NaN   \n",
       "\n",
       "         ON_P_DIFF        LAT         LON  ON_P_DIFF_FLOAT  \\\n",
       "0  -9.49876029208%  37.721190 -122.475096        -9.498760   \n",
       "1             nan%  37.765159 -122.477210         0.000000   \n",
       "2    8.3941360784%  37.723914 -122.435387         8.394136   \n",
       "3  -68.1572790684%  37.719192 -122.425802       -68.157279   \n",
       "4             nan%  37.788530 -122.396044         0.000000   \n",
       "\n",
       "                     STOPNAME  \n",
       "0  19th Avenue &  Holloway St  \n",
       "1     19TH AVE &  LINCOLN WAY  \n",
       "2   MISSION ST & OCEAN AVENUE  \n",
       "3    DUBLIN ST & LAGRANDE AVE  \n",
       "4       1st St & Howard St     \n",
       "\n",
       "[5 rows x 106 columns]"
      ]
     },
     "execution_count": 211,
     "metadata": {},
     "output_type": "execute_result"
    }
   ],
   "source": []
  },
  {
   "cell_type": "code",
   "execution_count": 13,
   "metadata": {
    "collapsed": false
   },
   "outputs": [],
   "source": [
    "df_final.to_csv('E:\\Transit_Casa\\Alex\\C_Drive/map.csv')"
   ]
  },
  {
   "cell_type": "code",
   "execution_count": 9,
   "metadata": {
    "collapsed": true
   },
   "outputs": [],
   "source": [
    "df_final['ON_DIFF'] = df_final['ON_13'] - df_final['ON_09']\n",
    "df_final['ON_P_DIFF_FLOAT'] = ((df_final['ON_13'] - df_final['ON_09'])/df_final['ON_09'])*100\n",
    "df_final['ON_P_DIFF'] = df_final.ON_P_DIFF_FLOAT.astype(str) + '%'"
   ]
  },
  {
   "cell_type": "code",
   "execution_count": 106,
   "metadata": {
    "collapsed": false
   },
   "outputs": [
    {
     "name": "stdout",
     "output_type": "stream",
     "text": [
      "0    2032.424038\n",
      "1            NaN\n",
      "2       2.303550\n",
      "3      13.742234\n",
      "4            NaN\n",
      "Name: ON_13, dtype: float64\n"
     ]
    },
    {
     "data": {
      "text/plain": [
       "0    2245.741655\n",
       "1     426.308055\n",
       "2       2.125161\n",
       "3      43.156595\n",
       "4      11.328142\n",
       "Name: ON_09, dtype: float64"
      ]
     },
     "execution_count": 106,
     "metadata": {},
     "output_type": "execute_result"
    }
   ],
   "source": [
    "print(df_final.ON_13.head())\n",
    "df_final.ON_09.head()"
   ]
  },
  {
   "cell_type": "code",
   "execution_count": 29,
   "metadata": {
    "collapsed": false
   },
   "outputs": [
    {
     "data": {
      "text/html": [
       "<div>\n",
       "<table border=\"1\" class=\"dataframe\">\n",
       "  <thead>\n",
       "    <tr style=\"text-align: right;\">\n",
       "      <th></th>\n",
       "      <th>AGENCY_ID</th>\n",
       "      <th>ARRIVAL_TIME_DEV_09</th>\n",
       "      <th>ARRIVAL_TIME_DEV_13</th>\n",
       "      <th>BIKERACK_09</th>\n",
       "      <th>BIKERACK_13</th>\n",
       "      <th>CAPACITY_09</th>\n",
       "      <th>CAPACITY_13</th>\n",
       "      <th>CROWDED_09</th>\n",
       "      <th>CROWDED_13</th>\n",
       "      <th>CROWDHOURS_09</th>\n",
       "      <th>...</th>\n",
       "      <th>WAITHOURS_13</th>\n",
       "      <th>WGT_TRIP_STOPS_09</th>\n",
       "      <th>WGT_TRIP_STOPS_13</th>\n",
       "      <th>WHEELCHAIR_09</th>\n",
       "      <th>WHEELCHAIR_13</th>\n",
       "      <th>LAT</th>\n",
       "      <th>LON</th>\n",
       "      <th>ON_DIFF</th>\n",
       "      <th>ON_P_DIFF_FLOAT</th>\n",
       "      <th>ON_P_DIFF</th>\n",
       "    </tr>\n",
       "  </thead>\n",
       "  <tbody>\n",
       "    <tr>\n",
       "      <th>0</th>\n",
       "      <td>SFMTA</td>\n",
       "      <td>0.934607</td>\n",
       "      <td>1.757239</td>\n",
       "      <td>0.219167</td>\n",
       "      <td>1.592472</td>\n",
       "      <td>2877.954545</td>\n",
       "      <td>2560.95</td>\n",
       "      <td>0.060312</td>\n",
       "      <td>0.037341</td>\n",
       "      <td>21.520189</td>\n",
       "      <td>...</td>\n",
       "      <td>393.842721</td>\n",
       "      <td>273.297197</td>\n",
       "      <td>265.943718</td>\n",
       "      <td>0.000000</td>\n",
       "      <td>0.566667</td>\n",
       "      <td>37.721190</td>\n",
       "      <td>-122.475096</td>\n",
       "      <td>-213.317617</td>\n",
       "      <td>-9.498760</td>\n",
       "      <td>-9.49876029208%</td>\n",
       "    </tr>\n",
       "    <tr>\n",
       "      <th>1</th>\n",
       "      <td>SFMTA</td>\n",
       "      <td>3.542134</td>\n",
       "      <td>NaN</td>\n",
       "      <td>0.399840</td>\n",
       "      <td>NaN</td>\n",
       "      <td>1093.909091</td>\n",
       "      <td>NaN</td>\n",
       "      <td>0.031747</td>\n",
       "      <td>NaN</td>\n",
       "      <td>4.584047</td>\n",
       "      <td>...</td>\n",
       "      <td>NaN</td>\n",
       "      <td>119.847627</td>\n",
       "      <td>NaN</td>\n",
       "      <td>0.126824</td>\n",
       "      <td>NaN</td>\n",
       "      <td>37.765159</td>\n",
       "      <td>-122.477210</td>\n",
       "      <td>NaN</td>\n",
       "      <td>0.000000</td>\n",
       "      <td>nan%</td>\n",
       "    </tr>\n",
       "    <tr>\n",
       "      <th>2</th>\n",
       "      <td>SFMTA</td>\n",
       "      <td>1.770704</td>\n",
       "      <td>-0.344797</td>\n",
       "      <td>0.000000</td>\n",
       "      <td>0.000000</td>\n",
       "      <td>1505.818182</td>\n",
       "      <td>1242.70</td>\n",
       "      <td>0.000000</td>\n",
       "      <td>0.000000</td>\n",
       "      <td>0.000000</td>\n",
       "      <td>...</td>\n",
       "      <td>0.228783</td>\n",
       "      <td>135.850975</td>\n",
       "      <td>101.784411</td>\n",
       "      <td>0.000000</td>\n",
       "      <td>0.000000</td>\n",
       "      <td>37.723914</td>\n",
       "      <td>-122.435387</td>\n",
       "      <td>0.178389</td>\n",
       "      <td>8.394136</td>\n",
       "      <td>8.3941360784%</td>\n",
       "    </tr>\n",
       "    <tr>\n",
       "      <th>3</th>\n",
       "      <td>SFMTA</td>\n",
       "      <td>4.582892</td>\n",
       "      <td>2.994147</td>\n",
       "      <td>0.226340</td>\n",
       "      <td>0.133333</td>\n",
       "      <td>1437.882353</td>\n",
       "      <td>1562.40</td>\n",
       "      <td>0.000000</td>\n",
       "      <td>0.000000</td>\n",
       "      <td>0.000000</td>\n",
       "      <td>...</td>\n",
       "      <td>2.838759</td>\n",
       "      <td>87.038251</td>\n",
       "      <td>79.000000</td>\n",
       "      <td>0.000000</td>\n",
       "      <td>0.000000</td>\n",
       "      <td>37.719192</td>\n",
       "      <td>-122.425802</td>\n",
       "      <td>-29.414361</td>\n",
       "      <td>-68.157279</td>\n",
       "      <td>-68.1572790684%</td>\n",
       "    </tr>\n",
       "    <tr>\n",
       "      <th>4</th>\n",
       "      <td>SFMTA</td>\n",
       "      <td>2.883022</td>\n",
       "      <td>NaN</td>\n",
       "      <td>0.150224</td>\n",
       "      <td>NaN</td>\n",
       "      <td>804.681818</td>\n",
       "      <td>NaN</td>\n",
       "      <td>0.012185</td>\n",
       "      <td>NaN</td>\n",
       "      <td>0.929952</td>\n",
       "      <td>...</td>\n",
       "      <td>NaN</td>\n",
       "      <td>63.000000</td>\n",
       "      <td>NaN</td>\n",
       "      <td>0.286364</td>\n",
       "      <td>NaN</td>\n",
       "      <td>37.788530</td>\n",
       "      <td>-122.396044</td>\n",
       "      <td>NaN</td>\n",
       "      <td>0.000000</td>\n",
       "      <td>nan%</td>\n",
       "    </tr>\n",
       "  </tbody>\n",
       "</table>\n",
       "<p>5 rows × 104 columns</p>\n",
       "</div>"
      ],
      "text/plain": [
       "  AGENCY_ID  ARRIVAL_TIME_DEV_09  ARRIVAL_TIME_DEV_13  BIKERACK_09  \\\n",
       "0     SFMTA             0.934607             1.757239     0.219167   \n",
       "1     SFMTA             3.542134                  NaN     0.399840   \n",
       "2     SFMTA             1.770704            -0.344797     0.000000   \n",
       "3     SFMTA             4.582892             2.994147     0.226340   \n",
       "4     SFMTA             2.883022                  NaN     0.150224   \n",
       "\n",
       "   BIKERACK_13  CAPACITY_09  CAPACITY_13  CROWDED_09  CROWDED_13  \\\n",
       "0     1.592472  2877.954545      2560.95    0.060312    0.037341   \n",
       "1          NaN  1093.909091          NaN    0.031747         NaN   \n",
       "2     0.000000  1505.818182      1242.70    0.000000    0.000000   \n",
       "3     0.133333  1437.882353      1562.40    0.000000    0.000000   \n",
       "4          NaN   804.681818          NaN    0.012185         NaN   \n",
       "\n",
       "   CROWDHOURS_09       ...         WAITHOURS_13  WGT_TRIP_STOPS_09  \\\n",
       "0      21.520189       ...           393.842721         273.297197   \n",
       "1       4.584047       ...                  NaN         119.847627   \n",
       "2       0.000000       ...             0.228783         135.850975   \n",
       "3       0.000000       ...             2.838759          87.038251   \n",
       "4       0.929952       ...                  NaN          63.000000   \n",
       "\n",
       "   WGT_TRIP_STOPS_13  WHEELCHAIR_09  WHEELCHAIR_13        LAT         LON  \\\n",
       "0         265.943718       0.000000       0.566667  37.721190 -122.475096   \n",
       "1                NaN       0.126824            NaN  37.765159 -122.477210   \n",
       "2         101.784411       0.000000       0.000000  37.723914 -122.435387   \n",
       "3          79.000000       0.000000       0.000000  37.719192 -122.425802   \n",
       "4                NaN       0.286364            NaN  37.788530 -122.396044   \n",
       "\n",
       "      ON_DIFF  ON_P_DIFF_FLOAT        ON_P_DIFF  \n",
       "0 -213.317617        -9.498760  -9.49876029208%  \n",
       "1         NaN         0.000000             nan%  \n",
       "2    0.178389         8.394136    8.3941360784%  \n",
       "3  -29.414361       -68.157279  -68.1572790684%  \n",
       "4         NaN         0.000000             nan%  \n",
       "\n",
       "[5 rows x 104 columns]"
      ]
     },
     "execution_count": 29,
     "metadata": {},
     "output_type": "execute_result"
    }
   ],
   "source": [
    "df_final.head()"
   ]
  },
  {
   "cell_type": "code",
   "execution_count": null,
   "metadata": {
    "collapsed": false
   },
   "outputs": [],
   "source": []
  },
  {
   "cell_type": "code",
   "execution_count": 28,
   "metadata": {
    "collapsed": false
   },
   "outputs": [
    {
     "data": {
      "text/plain": [
       "-100.0"
      ]
     },
     "execution_count": 28,
     "metadata": {},
     "output_type": "execute_result"
    }
   ],
   "source": [
    "min(df_final.ON_P_DIFF_FLOAT)"
   ]
  },
  {
   "cell_type": "code",
   "execution_count": null,
   "metadata": {
    "collapsed": false
   },
   "outputs": [],
   "source": []
  },
  {
   "cell_type": "code",
   "execution_count": null,
   "metadata": {
    "collapsed": false
   },
   "outputs": [],
   "source": []
  },
  {
   "cell_type": "code",
   "execution_count": null,
   "metadata": {
    "collapsed": false
   },
   "outputs": [],
   "source": []
  },
  {
   "cell_type": "code",
   "execution_count": 17,
   "metadata": {
    "collapsed": false
   },
   "outputs": [
    {
     "data": {
      "text/plain": [
       "Index(['AGENCY_ID', 'ARRIVAL_TIME_DEV_09', 'ARRIVAL_TIME_DEV_13',\n",
       "       'BIKERACK_09', 'BIKERACK_13', 'CAPACITY_09', 'CAPACITY_13',\n",
       "       'CROWDED_09', 'CROWDED_13', 'CROWDHOURS_09',\n",
       "       ...\n",
       "       'WAITHOURS_13', 'WGT_TRIP_STOPS_09', 'WGT_TRIP_STOPS_13',\n",
       "       'WHEELCHAIR_09', 'WHEELCHAIR_13', 'LAT', 'LON', 'ON_DIFF',\n",
       "       'ON_P_DIFF_FLOAT', 'ON_P_DIFF'],\n",
       "      dtype='object', length=104)"
      ]
     },
     "execution_count": 17,
     "metadata": {},
     "output_type": "execute_result"
    }
   ],
   "source": [
    "df_final.columns"
   ]
  },
  {
   "cell_type": "code",
   "execution_count": 10,
   "metadata": {
    "collapsed": true
   },
   "outputs": [],
   "source": [
    "mapa = folium.Map([37.775, -122.4813333],\n",
    "                  zoom_start=10,\n",
    "                  tiles='cartodbpositron')\n"
   ]
  },
  {
   "cell_type": "code",
   "execution_count": null,
   "metadata": {
    "collapsed": true
   },
   "outputs": [],
   "source": [
    "def map(colmn_per,colmn_diff,df,show_list,outfile)\n",
    "    mapa = folium.Map([37.775, -122.4813333],\n",
    "                  zoom_start=10,\n",
    "                  tiles='cartodbpositron')\n",
    "                  \n",
    "    for name, row in df.iterrows():\n",
    "    if row['ON_P_DIFF_FLOAT'] == np.inf:\n",
    "        popup_string =  show_list[0] + ': '+str(row['STOP_ID'])+ '\\n' + '     Percent Diff: ' + str(row['ON_P_DIFF_FLOAT']) + '\\n' + '     Difference: ' + str(row['ON_DIFF'])\n",
    "        marker = folium.CircleMarker([row[\"LAT\"], row[\"LON\"]], \n",
    "                                     color='Blue',\n",
    "                                     fill_color='Blue', \n",
    "                                     radius=5,\n",
    "                                     fill_opacity = 0.3, popup=popup_string)\n",
    "        marker.add_to(mapa)\n",
    "    elif row['ON_P_DIFF'] == 'nan%':\n",
    "        popup_string =  'Stop_ID: '+str(row['STOP_ID'])+ '\\n' + '     Percent Diff: ' + str(row['ON_P_DIFF_FLOAT']) + '\\n' + '     Difference: ' + str(row['ON_DIFF'])\n",
    "        marker = folium.CircleMarker([row[\"LAT\"], row[\"LON\"]], \n",
    "                                     color='#6600cc',\n",
    "                                     fill_color='#cc99ff', \n",
    "                                     radius=5,\n",
    "                                     fill_opacity = 0.3, popup=popup_string)\n",
    "        marker.add_to(mapa)\n",
    "\n",
    "    else:\n",
    "        popup_string =  'Stop_ID: '+str(row['STOP_ID'])+ '\\n' + '     Percent Diff: ' + str(round(row['ON_P_DIFF_FLOAT'])) + '\\n' + '     Difference: ' + str(round(row['ON_DIFF']))\n",
    "        marker = folium.CircleMarker([row[\"LAT\"], row[\"LON\"]], \n",
    "                                     color=color(row['ON_P_DIFF_FLOAT'],df_final['ON_P_DIFF_FLOAT']), \n",
    "                                     fill_color=color(row['ON_P_DIFF_FLOAT'],df_final['ON_P_DIFF_FLOAT']), \n",
    "                                     radius=radius(row['ON_DIFF']),\n",
    "                                     fill_opacity = 0.3, popup=popup_string)\n",
    "        marker.add_to(mapa)\n",
    "    mapa.save(outfile)\n"
   ]
  },
  {
   "cell_type": "code",
   "execution_count": 76,
   "metadata": {
    "collapsed": false
   },
   "outputs": [],
   "source": []
  },
  {
   "cell_type": "code",
   "execution_count": 22,
   "metadata": {
    "collapsed": false
   },
   "outputs": [
    {
     "data": {
      "text/html": [
       "<div>\n",
       "<table border=\"1\" class=\"dataframe\">\n",
       "  <thead>\n",
       "    <tr style=\"text-align: right;\">\n",
       "      <th></th>\n",
       "      <th>AGENCY_ID</th>\n",
       "      <th>ARRIVAL_TIME_DEV_09</th>\n",
       "      <th>ARRIVAL_TIME_DEV_13</th>\n",
       "      <th>BIKERACK_09</th>\n",
       "      <th>BIKERACK_13</th>\n",
       "      <th>CAPACITY_09</th>\n",
       "      <th>CAPACITY_13</th>\n",
       "      <th>CROWDED_09</th>\n",
       "      <th>CROWDED_13</th>\n",
       "      <th>CROWDHOURS_09</th>\n",
       "      <th>...</th>\n",
       "      <th>WAITHOURS_13</th>\n",
       "      <th>WGT_TRIP_STOPS_09</th>\n",
       "      <th>WGT_TRIP_STOPS_13</th>\n",
       "      <th>WHEELCHAIR_09</th>\n",
       "      <th>WHEELCHAIR_13</th>\n",
       "      <th>LAT</th>\n",
       "      <th>LON</th>\n",
       "      <th>ON_DIFF</th>\n",
       "      <th>ON_P_DIFF_FLOAT</th>\n",
       "      <th>ON_P_DIFF</th>\n",
       "    </tr>\n",
       "  </thead>\n",
       "  <tbody>\n",
       "    <tr>\n",
       "      <th>0</th>\n",
       "      <td>SFMTA</td>\n",
       "      <td>0.934607</td>\n",
       "      <td>1.757239</td>\n",
       "      <td>0.219167</td>\n",
       "      <td>1.592472</td>\n",
       "      <td>2877.954545</td>\n",
       "      <td>2560.95</td>\n",
       "      <td>0.060312</td>\n",
       "      <td>0.037341</td>\n",
       "      <td>21.520189</td>\n",
       "      <td>...</td>\n",
       "      <td>393.842721</td>\n",
       "      <td>273.297197</td>\n",
       "      <td>265.943718</td>\n",
       "      <td>0.000000</td>\n",
       "      <td>0.566667</td>\n",
       "      <td>37.721190</td>\n",
       "      <td>-122.475096</td>\n",
       "      <td>-213.317617</td>\n",
       "      <td>-9.498760</td>\n",
       "      <td>-9.49876029208%</td>\n",
       "    </tr>\n",
       "    <tr>\n",
       "      <th>1</th>\n",
       "      <td>SFMTA</td>\n",
       "      <td>3.542134</td>\n",
       "      <td>NaN</td>\n",
       "      <td>0.399840</td>\n",
       "      <td>NaN</td>\n",
       "      <td>1093.909091</td>\n",
       "      <td>NaN</td>\n",
       "      <td>0.031747</td>\n",
       "      <td>NaN</td>\n",
       "      <td>4.584047</td>\n",
       "      <td>...</td>\n",
       "      <td>NaN</td>\n",
       "      <td>119.847627</td>\n",
       "      <td>NaN</td>\n",
       "      <td>0.126824</td>\n",
       "      <td>NaN</td>\n",
       "      <td>37.765159</td>\n",
       "      <td>-122.477210</td>\n",
       "      <td>NaN</td>\n",
       "      <td>NaN</td>\n",
       "      <td>nan%</td>\n",
       "    </tr>\n",
       "    <tr>\n",
       "      <th>2</th>\n",
       "      <td>SFMTA</td>\n",
       "      <td>1.770704</td>\n",
       "      <td>-0.344797</td>\n",
       "      <td>0.000000</td>\n",
       "      <td>0.000000</td>\n",
       "      <td>1505.818182</td>\n",
       "      <td>1242.70</td>\n",
       "      <td>0.000000</td>\n",
       "      <td>0.000000</td>\n",
       "      <td>0.000000</td>\n",
       "      <td>...</td>\n",
       "      <td>0.228783</td>\n",
       "      <td>135.850975</td>\n",
       "      <td>101.784411</td>\n",
       "      <td>0.000000</td>\n",
       "      <td>0.000000</td>\n",
       "      <td>37.723914</td>\n",
       "      <td>-122.435387</td>\n",
       "      <td>0.178389</td>\n",
       "      <td>8.394136</td>\n",
       "      <td>8.3941360784%</td>\n",
       "    </tr>\n",
       "    <tr>\n",
       "      <th>3</th>\n",
       "      <td>SFMTA</td>\n",
       "      <td>4.582892</td>\n",
       "      <td>2.994147</td>\n",
       "      <td>0.226340</td>\n",
       "      <td>0.133333</td>\n",
       "      <td>1437.882353</td>\n",
       "      <td>1562.40</td>\n",
       "      <td>0.000000</td>\n",
       "      <td>0.000000</td>\n",
       "      <td>0.000000</td>\n",
       "      <td>...</td>\n",
       "      <td>2.838759</td>\n",
       "      <td>87.038251</td>\n",
       "      <td>79.000000</td>\n",
       "      <td>0.000000</td>\n",
       "      <td>0.000000</td>\n",
       "      <td>37.719192</td>\n",
       "      <td>-122.425802</td>\n",
       "      <td>-29.414361</td>\n",
       "      <td>-68.157279</td>\n",
       "      <td>-68.1572790684%</td>\n",
       "    </tr>\n",
       "    <tr>\n",
       "      <th>4</th>\n",
       "      <td>SFMTA</td>\n",
       "      <td>2.883022</td>\n",
       "      <td>NaN</td>\n",
       "      <td>0.150224</td>\n",
       "      <td>NaN</td>\n",
       "      <td>804.681818</td>\n",
       "      <td>NaN</td>\n",
       "      <td>0.012185</td>\n",
       "      <td>NaN</td>\n",
       "      <td>0.929952</td>\n",
       "      <td>...</td>\n",
       "      <td>NaN</td>\n",
       "      <td>63.000000</td>\n",
       "      <td>NaN</td>\n",
       "      <td>0.286364</td>\n",
       "      <td>NaN</td>\n",
       "      <td>37.788530</td>\n",
       "      <td>-122.396044</td>\n",
       "      <td>NaN</td>\n",
       "      <td>NaN</td>\n",
       "      <td>nan%</td>\n",
       "    </tr>\n",
       "  </tbody>\n",
       "</table>\n",
       "<p>5 rows × 104 columns</p>\n",
       "</div>"
      ],
      "text/plain": [
       "  AGENCY_ID  ARRIVAL_TIME_DEV_09  ARRIVAL_TIME_DEV_13  BIKERACK_09  \\\n",
       "0     SFMTA             0.934607             1.757239     0.219167   \n",
       "1     SFMTA             3.542134                  NaN     0.399840   \n",
       "2     SFMTA             1.770704            -0.344797     0.000000   \n",
       "3     SFMTA             4.582892             2.994147     0.226340   \n",
       "4     SFMTA             2.883022                  NaN     0.150224   \n",
       "\n",
       "   BIKERACK_13  CAPACITY_09  CAPACITY_13  CROWDED_09  CROWDED_13  \\\n",
       "0     1.592472  2877.954545      2560.95    0.060312    0.037341   \n",
       "1          NaN  1093.909091          NaN    0.031747         NaN   \n",
       "2     0.000000  1505.818182      1242.70    0.000000    0.000000   \n",
       "3     0.133333  1437.882353      1562.40    0.000000    0.000000   \n",
       "4          NaN   804.681818          NaN    0.012185         NaN   \n",
       "\n",
       "   CROWDHOURS_09       ...         WAITHOURS_13  WGT_TRIP_STOPS_09  \\\n",
       "0      21.520189       ...           393.842721         273.297197   \n",
       "1       4.584047       ...                  NaN         119.847627   \n",
       "2       0.000000       ...             0.228783         135.850975   \n",
       "3       0.000000       ...             2.838759          87.038251   \n",
       "4       0.929952       ...                  NaN          63.000000   \n",
       "\n",
       "   WGT_TRIP_STOPS_13  WHEELCHAIR_09  WHEELCHAIR_13        LAT         LON  \\\n",
       "0         265.943718       0.000000       0.566667  37.721190 -122.475096   \n",
       "1                NaN       0.126824            NaN  37.765159 -122.477210   \n",
       "2         101.784411       0.000000       0.000000  37.723914 -122.435387   \n",
       "3          79.000000       0.000000       0.000000  37.719192 -122.425802   \n",
       "4                NaN       0.286364            NaN  37.788530 -122.396044   \n",
       "\n",
       "      ON_DIFF  ON_P_DIFF_FLOAT        ON_P_DIFF  \n",
       "0 -213.317617        -9.498760  -9.49876029208%  \n",
       "1         NaN              NaN             nan%  \n",
       "2    0.178389         8.394136    8.3941360784%  \n",
       "3  -29.414361       -68.157279  -68.1572790684%  \n",
       "4         NaN              NaN             nan%  \n",
       "\n",
       "[5 rows x 104 columns]"
      ]
     },
     "execution_count": 22,
     "metadata": {},
     "output_type": "execute_result"
    }
   ],
   "source": [
    "df_final.head()"
   ]
  },
  {
   "cell_type": "code",
   "execution_count": 27,
   "metadata": {
    "collapsed": false
   },
   "outputs": [
    {
     "data": {
      "text/plain": [
       "-100"
      ]
     },
     "execution_count": 27,
     "metadata": {},
     "output_type": "execute_result"
    }
   ],
   "source": [
    "int(min(df_final['ON_P_DIFF_FLOAT']))"
   ]
  },
  {
   "cell_type": "code",
   "execution_count": 55,
   "metadata": {
    "collapsed": false
   },
   "outputs": [
    {
     "name": "stdout",
     "output_type": "stream",
     "text": [
      "<class 'pandas.core.frame.DataFrame'>\n",
      "Int64Index: 3645 entries, 0 to 3644\n",
      "Columns: 104 entries, AGENCY_ID to ON_P_DIFF\n",
      "dtypes: datetime64[ns](2), float64(96), object(6)\n",
      "memory usage: 2.9+ MB\n"
     ]
    }
   ],
   "source": [
    "df_final.info()"
   ]
  },
  {
   "cell_type": "code",
   "execution_count": 24,
   "metadata": {
    "collapsed": false
   },
   "outputs": [],
   "source": [
    "df_final.ON_P_DIFF_FLOAT = df_final.ON_P_DIFF_FLOAT.replace(to_replace = np.nan, value = 0)"
   ]
  },
  {
   "cell_type": "code",
   "execution_count": 87,
   "metadata": {
    "collapsed": false
   },
   "outputs": [
    {
     "name": "stdout",
     "output_type": "stream",
     "text": [
      "AGENCY_ID\n",
      "ARRIVAL_TIME_DEV_09\n",
      "ARRIVAL_TIME_DEV_13\n",
      "BIKERACK_09\n",
      "BIKERACK_13\n",
      "CAPACITY_09\n",
      "CAPACITY_13\n",
      "CROWDED_09\n",
      "CROWDED_13\n",
      "CROWDHOURS_09\n",
      "CROWDHOURS_13\n",
      "DEPARTURE_TIME_DEV_09\n",
      "DEPARTURE_TIME_DEV_13\n",
      "DOORCYCLES_09\n",
      "DOORCYCLES_13\n",
      "DOW\n",
      "DWELL_09\n",
      "DWELL_13\n",
      "DWELL_S_09\n",
      "DWELL_S_13\n",
      "EOL_09\n",
      "EOL_13\n",
      "FARE_09\n",
      "FARE_13\n",
      "FULLFARE_REV_09\n",
      "FULLFARE_REV_13\n",
      "HEADWAY_S_09\n",
      "HEADWAY_S_13\n",
      "LOAD_ARR_09\n",
      "LOAD_ARR_13\n",
      "LOAD_DEP_09\n",
      "LOAD_DEP_13\n",
      "MONTH_09\n",
      "MONTH_13\n",
      "NUMDAYS_09\n",
      "NUMDAYS_13\n",
      "OBSDAYS_09\n",
      "OBSDAYS_13\n",
      "OBS_TRIP_STOPS_09\n",
      "OBS_TRIP_STOPS_13\n",
      "OFF_09\n",
      "OFF_13\n",
      "ONTIME5_09\n",
      "ONTIME5_13\n",
      "ON_09\n",
      "ON_13\n",
      "PASSDELAY_ARR_09\n",
      "PASSDELAY_ARR_13\n",
      "PASSDELAY_DEP_09\n",
      "PASSDELAY_DEP_13\n",
      "PASSHOURS_09\n",
      "PASSHOURS_13\n",
      "PASSMILES_09\n",
      "PASSMILES_13\n",
      "RDBRDNGS_09\n",
      "RDBRDNGS_13\n",
      "RUNSPEED_09\n",
      "RUNSPEED_13\n",
      "RUNSPEED_S_09\n",
      "RUNSPEED_S_13\n",
      "RUNTIME_09\n",
      "RUNTIME_13\n",
      "RUNTIME_S_09\n",
      "RUNTIME_S_13\n",
      "SERVMILES_09\n",
      "SERVMILES_13\n",
      "SERVMILES_S_09\n",
      "SERVMILES_S_13\n",
      "SOL_09\n",
      "SOL_13\n",
      "STOPNAME_09\n",
      "STOPNAME_13\n",
      "STOPNAME_AVL_09\n",
      "STOPNAME_AVL_13\n",
      "STOP_ID\n",
      "STOP_LAT_09\n",
      "STOP_LAT_13\n",
      "STOP_LON_09\n",
      "STOP_LON_13\n",
      "TIMEPOINT_09\n",
      "TIMEPOINT_13\n",
      "TOTSPEED_09\n",
      "TOTSPEED_13\n",
      "TOTSPEED_S_09\n",
      "TOTSPEED_S_13\n",
      "TOTTIME_09\n",
      "TOTTIME_13\n",
      "TOTTIME_S_09\n",
      "TOTTIME_S_13\n",
      "TRIP_STOPS_09\n",
      "TRIP_STOPS_13\n",
      "VC_09\n",
      "VC_13\n",
      "WAITHOURS_09\n",
      "WAITHOURS_13\n",
      "WGT_TRIP_STOPS_09\n",
      "WGT_TRIP_STOPS_13\n",
      "WHEELCHAIR_09\n",
      "WHEELCHAIR_13\n",
      "LAT\n",
      "LON\n",
      "ON_DIFF\n",
      "ON_P_DIFF_FLOAT\n",
      "ON_P_DIFF\n"
     ]
    }
   ],
   "source": [
    "for c in df_final.columns:\n",
    "    print(c)"
   ]
  },
  {
   "cell_type": "code",
   "execution_count": 11,
   "metadata": {
    "collapsed": false
   },
   "outputs": [
    {
     "data": {
      "text/html": [
       "<div>\n",
       "<table border=\"1\" class=\"dataframe\">\n",
       "  <thead>\n",
       "    <tr style=\"text-align: right;\">\n",
       "      <th></th>\n",
       "      <th>AGENCY_ID</th>\n",
       "      <th>ARRIVAL_TIME_DEV_09</th>\n",
       "      <th>ARRIVAL_TIME_DEV_13</th>\n",
       "      <th>BIKERACK_09</th>\n",
       "      <th>BIKERACK_13</th>\n",
       "      <th>CAPACITY_09</th>\n",
       "      <th>CAPACITY_13</th>\n",
       "      <th>CROWDED_09</th>\n",
       "      <th>CROWDED_13</th>\n",
       "      <th>CROWDHOURS_09</th>\n",
       "      <th>...</th>\n",
       "      <th>WAITHOURS_13</th>\n",
       "      <th>WGT_TRIP_STOPS_09</th>\n",
       "      <th>WGT_TRIP_STOPS_13</th>\n",
       "      <th>WHEELCHAIR_09</th>\n",
       "      <th>WHEELCHAIR_13</th>\n",
       "      <th>LAT</th>\n",
       "      <th>LON</th>\n",
       "      <th>ON_DIFF</th>\n",
       "      <th>ON_P_DIFF_FLOAT</th>\n",
       "      <th>ON_P_DIFF</th>\n",
       "    </tr>\n",
       "  </thead>\n",
       "  <tbody>\n",
       "    <tr>\n",
       "      <th>0</th>\n",
       "      <td>SFMTA</td>\n",
       "      <td>0.934607</td>\n",
       "      <td>1.757239</td>\n",
       "      <td>0.219167</td>\n",
       "      <td>1.592472</td>\n",
       "      <td>2877.954545</td>\n",
       "      <td>2560.95</td>\n",
       "      <td>0.060312</td>\n",
       "      <td>0.037341</td>\n",
       "      <td>21.520189</td>\n",
       "      <td>...</td>\n",
       "      <td>393.842721</td>\n",
       "      <td>273.297197</td>\n",
       "      <td>265.943718</td>\n",
       "      <td>0.000000</td>\n",
       "      <td>0.566667</td>\n",
       "      <td>37.721190</td>\n",
       "      <td>-122.475096</td>\n",
       "      <td>27.399224</td>\n",
       "      <td>98.824807</td>\n",
       "      <td>98.8248072702%</td>\n",
       "    </tr>\n",
       "    <tr>\n",
       "      <th>1</th>\n",
       "      <td>SFMTA</td>\n",
       "      <td>3.542134</td>\n",
       "      <td>NaN</td>\n",
       "      <td>0.399840</td>\n",
       "      <td>NaN</td>\n",
       "      <td>1093.909091</td>\n",
       "      <td>NaN</td>\n",
       "      <td>0.031747</td>\n",
       "      <td>NaN</td>\n",
       "      <td>4.584047</td>\n",
       "      <td>...</td>\n",
       "      <td>NaN</td>\n",
       "      <td>119.847627</td>\n",
       "      <td>NaN</td>\n",
       "      <td>0.126824</td>\n",
       "      <td>NaN</td>\n",
       "      <td>37.765159</td>\n",
       "      <td>-122.477210</td>\n",
       "      <td>NaN</td>\n",
       "      <td>NaN</td>\n",
       "      <td>nan%</td>\n",
       "    </tr>\n",
       "    <tr>\n",
       "      <th>2</th>\n",
       "      <td>SFMTA</td>\n",
       "      <td>1.770704</td>\n",
       "      <td>-0.344797</td>\n",
       "      <td>0.000000</td>\n",
       "      <td>0.000000</td>\n",
       "      <td>1505.818182</td>\n",
       "      <td>1242.70</td>\n",
       "      <td>0.000000</td>\n",
       "      <td>0.000000</td>\n",
       "      <td>0.000000</td>\n",
       "      <td>...</td>\n",
       "      <td>0.228783</td>\n",
       "      <td>135.850975</td>\n",
       "      <td>101.784411</td>\n",
       "      <td>0.000000</td>\n",
       "      <td>0.000000</td>\n",
       "      <td>37.723914</td>\n",
       "      <td>-122.435387</td>\n",
       "      <td>-0.953864</td>\n",
       "      <td>-25.076422</td>\n",
       "      <td>-25.0764220521%</td>\n",
       "    </tr>\n",
       "    <tr>\n",
       "      <th>3</th>\n",
       "      <td>SFMTA</td>\n",
       "      <td>4.582892</td>\n",
       "      <td>2.994147</td>\n",
       "      <td>0.226340</td>\n",
       "      <td>0.133333</td>\n",
       "      <td>1437.882353</td>\n",
       "      <td>1562.40</td>\n",
       "      <td>0.000000</td>\n",
       "      <td>0.000000</td>\n",
       "      <td>0.000000</td>\n",
       "      <td>...</td>\n",
       "      <td>2.838759</td>\n",
       "      <td>87.038251</td>\n",
       "      <td>79.000000</td>\n",
       "      <td>0.000000</td>\n",
       "      <td>0.000000</td>\n",
       "      <td>37.719192</td>\n",
       "      <td>-122.425802</td>\n",
       "      <td>-0.405600</td>\n",
       "      <td>-8.637873</td>\n",
       "      <td>-8.6378729809%</td>\n",
       "    </tr>\n",
       "    <tr>\n",
       "      <th>4</th>\n",
       "      <td>SFMTA</td>\n",
       "      <td>2.883022</td>\n",
       "      <td>NaN</td>\n",
       "      <td>0.150224</td>\n",
       "      <td>NaN</td>\n",
       "      <td>804.681818</td>\n",
       "      <td>NaN</td>\n",
       "      <td>0.012185</td>\n",
       "      <td>NaN</td>\n",
       "      <td>0.929952</td>\n",
       "      <td>...</td>\n",
       "      <td>NaN</td>\n",
       "      <td>63.000000</td>\n",
       "      <td>NaN</td>\n",
       "      <td>0.286364</td>\n",
       "      <td>NaN</td>\n",
       "      <td>37.788530</td>\n",
       "      <td>-122.396044</td>\n",
       "      <td>NaN</td>\n",
       "      <td>NaN</td>\n",
       "      <td>nan%</td>\n",
       "    </tr>\n",
       "  </tbody>\n",
       "</table>\n",
       "<p>5 rows × 104 columns</p>\n",
       "</div>"
      ],
      "text/plain": [
       "  AGENCY_ID  ARRIVAL_TIME_DEV_09  ARRIVAL_TIME_DEV_13  BIKERACK_09  \\\n",
       "0     SFMTA             0.934607             1.757239     0.219167   \n",
       "1     SFMTA             3.542134                  NaN     0.399840   \n",
       "2     SFMTA             1.770704            -0.344797     0.000000   \n",
       "3     SFMTA             4.582892             2.994147     0.226340   \n",
       "4     SFMTA             2.883022                  NaN     0.150224   \n",
       "\n",
       "   BIKERACK_13  CAPACITY_09  CAPACITY_13  CROWDED_09  CROWDED_13  \\\n",
       "0     1.592472  2877.954545      2560.95    0.060312    0.037341   \n",
       "1          NaN  1093.909091          NaN    0.031747         NaN   \n",
       "2     0.000000  1505.818182      1242.70    0.000000    0.000000   \n",
       "3     0.133333  1437.882353      1562.40    0.000000    0.000000   \n",
       "4          NaN   804.681818          NaN    0.012185         NaN   \n",
       "\n",
       "   CROWDHOURS_09       ...         WAITHOURS_13  WGT_TRIP_STOPS_09  \\\n",
       "0      21.520189       ...           393.842721         273.297197   \n",
       "1       4.584047       ...                  NaN         119.847627   \n",
       "2       0.000000       ...             0.228783         135.850975   \n",
       "3       0.000000       ...             2.838759          87.038251   \n",
       "4       0.929952       ...                  NaN          63.000000   \n",
       "\n",
       "   WGT_TRIP_STOPS_13  WHEELCHAIR_09  WHEELCHAIR_13        LAT         LON  \\\n",
       "0         265.943718       0.000000       0.566667  37.721190 -122.475096   \n",
       "1                NaN       0.126824            NaN  37.765159 -122.477210   \n",
       "2         101.784411       0.000000       0.000000  37.723914 -122.435387   \n",
       "3          79.000000       0.000000       0.000000  37.719192 -122.425802   \n",
       "4                NaN       0.286364            NaN  37.788530 -122.396044   \n",
       "\n",
       "     ON_DIFF  ON_P_DIFF_FLOAT        ON_P_DIFF  \n",
       "0  27.399224        98.824807   98.8248072702%  \n",
       "1        NaN              NaN             nan%  \n",
       "2  -0.953864       -25.076422  -25.0764220521%  \n",
       "3  -0.405600        -8.637873   -8.6378729809%  \n",
       "4        NaN              NaN             nan%  \n",
       "\n",
       "[5 rows x 104 columns]"
      ]
     },
     "execution_count": 11,
     "metadata": {},
     "output_type": "execute_result"
    }
   ],
   "source": [
    "df_final['ON_DIFF'] = df_final['SERVMILES_13'] - df_final['SERVMILES_09']\n",
    "df_final['ON_P_DIFF_FLOAT'] = ((df_final['SERVMILES_13'] - df_final['SERVMILES_09'])/df_final['SERVMILES_09'])*100\n",
    "df_final['ON_P_DIFF'] = df_final.ON_P_DIFF_FLOAT.astype(str) + '%'\n",
    "df_final.head()"
   ]
  },
  {
   "cell_type": "code",
   "execution_count": 47,
   "metadata": {
    "collapsed": false
   },
   "outputs": [],
   "source": [
    "def color(col_value,colname):\n",
    "    #minimum=int(min(colname))\n",
    "    #maximum=int(max(colname))\n",
    "    #set to -200 to encompase all valid points  \n",
    "    #in the future need to find a way to set a minimum value for all data sets\n",
    "    #need to make the percent difference change the color \n",
    "   \n",
    "    if int(col_value) in range (-10000, -500):\n",
    "        col='#b30000'\n",
    "    elif int(col_value) in range (-500, -100):\n",
    "        col='#e60000'\n",
    "    elif int(col_value) in range(-100,-75):\n",
    "        col='#ff1a1a'\n",
    "    elif int(col_value) in range(-75,-50):\n",
    "        col='#ff4d4d'\n",
    "    elif int(col_value) in range(-50,-25):\n",
    "        col='#ff8080'\n",
    "    elif int(col_value) in range(-25,-10):\n",
    "        col='#ffb3b3'\n",
    "    elif int(col_value) in range(-10,10):\n",
    "        col='#ffff99'\n",
    "    elif int(col_value) in range(10,25):\n",
    "        col= '#99ffbb'\n",
    "    elif int(col_value) in range(25,50):\n",
    "        col='#66ff99'\n",
    "    elif int(col_value) in range(50,75):\n",
    "        col='#33ff77'\n",
    "    elif int(col_value) in range(75,100):\n",
    "        col='#00ff55'\n",
    "    elif int(col_value) in range(100,500):\n",
    "        col='#00cc44'\n",
    "    elif int(col_value) in range(500,10000):\n",
    "        col='#009933'\n",
    "    else:\n",
    "        col='Fuchsia'\n",
    "    return col"
   ]
  },
  {
   "cell_type": "code",
   "execution_count": 59,
   "metadata": {
    "collapsed": false
   },
   "outputs": [],
   "source": [
    "def radius(colmn_value):\n",
    "    #minimum=int(min(colname))\n",
    "    #maximum=int(max(colname))\n",
    "    \n",
    "    if abs(int(colmn_value)) in range(0,50):\n",
    "        rad = 5\n",
    "    elif abs(int(colmn_value)) in range(50,100):\n",
    "        rad = 15\n",
    "    elif abs(int(colmn_value)) in range(100,500):\n",
    "        rad = 40\n",
    "    elif abs(int(colmn_value)) in range(500,1500):\n",
    "        rad = 80\n",
    "    elif abs(int(colmn_value)) in range(1500,3000):\n",
    "        rad = 125\n",
    "    else:\n",
    "        rad=500\n",
    "    return rad"
   ]
  },
  {
   "cell_type": "code",
   "execution_count": 33,
   "metadata": {
    "collapsed": false
   },
   "outputs": [
    {
     "data": {
      "text/plain": [
       "425"
      ]
     },
     "execution_count": 33,
     "metadata": {},
     "output_type": "execute_result"
    }
   ],
   "source": [
    "d = (max(df_final['ON_DIFF']) - min(df_final['ON_DIFF']))/11\n",
    "int(d)"
   ]
  },
  {
   "cell_type": "code",
   "execution_count": 45,
   "metadata": {
    "collapsed": false
   },
   "outputs": [
    {
     "data": {
      "text/plain": [
       "-1910"
      ]
     },
     "execution_count": 45,
     "metadata": {},
     "output_type": "execute_result"
    }
   ],
   "source": [
    "int(min(df_final['ON_DIFF']))"
   ]
  },
  {
   "cell_type": "code",
   "execution_count": 36,
   "metadata": {
    "collapsed": false
   },
   "outputs": [
    {
     "data": {
      "text/plain": [
       "2772.6941326272286"
      ]
     },
     "execution_count": 36,
     "metadata": {},
     "output_type": "execute_result"
    }
   ],
   "source": [
    "max(df_final['ON_DIFF'])"
   ]
  },
  {
   "cell_type": "code",
   "execution_count": 82,
   "metadata": {
    "collapsed": false
   },
   "outputs": [
    {
     "data": {
      "text/plain": [
       "True"
      ]
     },
     "execution_count": 82,
     "metadata": {},
     "output_type": "execute_result"
    }
   ],
   "source": [
    "-2 in range(-3,-1)"
   ]
  },
  {
   "cell_type": "code",
   "execution_count": 64,
   "metadata": {
    "collapsed": false
   },
   "outputs": [
    {
     "data": {
      "text/plain": [
       "True"
      ]
     },
     "execution_count": 64,
     "metadata": {},
     "output_type": "execute_result"
    }
   ],
   "source": [
    "-2 in range(-3,2)"
   ]
  },
  {
   "cell_type": "code",
   "execution_count": 31,
   "metadata": {
    "collapsed": false
   },
   "outputs": [
    {
     "data": {
      "text/plain": [
       "True"
      ]
     },
     "execution_count": 31,
     "metadata": {},
     "output_type": "execute_result"
    }
   ],
   "source": [
    "-15 in range(-25,-10)"
   ]
  },
  {
   "cell_type": "code",
   "execution_count": 57,
   "metadata": {
    "collapsed": false,
    "scrolled": true
   },
   "outputs": [
    {
     "name": "stdout",
     "output_type": "stream",
     "text": [
      "AGENCY_ID\n",
      "ARRIVAL_TIME_DEV_09\n",
      "ARRIVAL_TIME_DEV_13\n",
      "BIKERACK_09\n",
      "BIKERACK_13\n",
      "CAPACITY_09\n",
      "CAPACITY_13\n",
      "CROWDED_09\n",
      "CROWDED_13\n",
      "CROWDHOURS_09\n",
      "CROWDHOURS_13\n",
      "DEPARTURE_TIME_DEV_09\n",
      "DEPARTURE_TIME_DEV_13\n",
      "DOORCYCLES_09\n",
      "DOORCYCLES_13\n",
      "DOW\n",
      "DWELL_09\n",
      "DWELL_13\n",
      "DWELL_S_09\n",
      "DWELL_S_13\n",
      "EOL_09\n",
      "EOL_13\n",
      "FARE_09\n",
      "FARE_13\n",
      "FULLFARE_REV_09\n",
      "FULLFARE_REV_13\n",
      "HEADWAY_S_09\n",
      "HEADWAY_S_13\n",
      "LOAD_ARR_09\n",
      "LOAD_ARR_13\n",
      "LOAD_DEP_09\n",
      "LOAD_DEP_13\n",
      "MONTH_09\n",
      "MONTH_13\n",
      "NUMDAYS_09\n",
      "NUMDAYS_13\n",
      "OBSDAYS_09\n",
      "OBSDAYS_13\n",
      "OBS_TRIP_STOPS_09\n",
      "OBS_TRIP_STOPS_13\n",
      "OFF_09\n",
      "OFF_13\n",
      "ONTIME5_09\n",
      "ONTIME5_13\n",
      "ON_09\n",
      "ON_13\n",
      "PASSDELAY_ARR_09\n",
      "PASSDELAY_ARR_13\n",
      "PASSDELAY_DEP_09\n",
      "PASSDELAY_DEP_13\n",
      "PASSHOURS_09\n",
      "PASSHOURS_13\n",
      "PASSMILES_09\n",
      "PASSMILES_13\n",
      "RDBRDNGS_09\n",
      "RDBRDNGS_13\n",
      "RUNSPEED_09\n",
      "RUNSPEED_13\n",
      "RUNSPEED_S_09\n",
      "RUNSPEED_S_13\n",
      "RUNTIME_09\n",
      "RUNTIME_13\n",
      "RUNTIME_S_09\n",
      "RUNTIME_S_13\n",
      "SERVMILES_09\n",
      "SERVMILES_13\n",
      "SERVMILES_S_09\n",
      "SERVMILES_S_13\n",
      "SOL_09\n",
      "SOL_13\n",
      "STOPNAME_09\n",
      "STOPNAME_13\n",
      "STOPNAME_AVL_09\n",
      "STOPNAME_AVL_13\n",
      "STOP_ID\n",
      "STOP_LAT_09\n",
      "STOP_LAT_13\n",
      "STOP_LON_09\n",
      "STOP_LON_13\n",
      "TIMEPOINT_09\n",
      "TIMEPOINT_13\n",
      "TOTSPEED_09\n",
      "TOTSPEED_13\n",
      "TOTSPEED_S_09\n",
      "TOTSPEED_S_13\n",
      "TOTTIME_09\n",
      "TOTTIME_13\n",
      "TOTTIME_S_09\n",
      "TOTTIME_S_13\n",
      "TRIP_STOPS_09\n",
      "TRIP_STOPS_13\n",
      "VC_09\n",
      "VC_13\n",
      "WAITHOURS_09\n",
      "WAITHOURS_13\n",
      "WGT_TRIP_STOPS_09\n",
      "WGT_TRIP_STOPS_13\n",
      "WHEELCHAIR_09\n",
      "WHEELCHAIR_13\n",
      "LAT\n",
      "LON\n",
      "ON_DIFF\n",
      "ON_P_DIFF_FLOAT\n",
      "ON_P_DIFF\n"
     ]
    }
   ],
   "source": [
    "for c in df_final.columns: \n",
    "    print(c)"
   ]
  },
  {
   "cell_type": "code",
   "execution_count": 98,
   "metadata": {
    "collapsed": false
   },
   "outputs": [
    {
     "data": {
      "text/plain": [
       "0.0"
      ]
     },
     "execution_count": 98,
     "metadata": {},
     "output_type": "execute_result"
    }
   ],
   "source": [
    "df_final.ONTIME5_09.min()"
   ]
  },
  {
   "cell_type": "code",
   "execution_count": 99,
   "metadata": {
    "collapsed": false
   },
   "outputs": [
    {
     "data": {
      "text/plain": [
       "-inf"
      ]
     },
     "execution_count": 99,
     "metadata": {},
     "output_type": "execute_result"
    }
   ],
   "source": [
    "-np.inf"
   ]
  },
  {
   "cell_type": "code",
   "execution_count": 101,
   "metadata": {
    "collapsed": false
   },
   "outputs": [],
   "source": [
    "def get_names(colmn_name):\n",
    "    COLMN_NAME_BASE = colmn_name + '_09'\n",
    "    COLMN_NAME_FUTURE = colmn_name +'_13'\n",
    "    COLMN_PER_STR = colmn_name + '_P_DIFF_STR'\n",
    "    COLMN_PER = colmn_name + '_P_DIFF'\n",
    "    COLMN_DIFF = colmn_name + '_DIFF'\n",
    "    return COLMN_NAME_BASE, COLMN_NAME_FUTURE, COLMN_PER_STR, COLMN_PER, COLMN_DIFF"
   ]
  },
  {
   "cell_type": "code",
   "execution_count": 105,
   "metadata": {
    "collapsed": false
   },
   "outputs": [],
   "source": [
    "l = get_names('ON')"
   ]
  },
  {
   "cell_type": "code",
   "execution_count": 108,
   "metadata": {
    "collapsed": false
   },
   "outputs": [
    {
     "data": {
      "text/plain": [
       "'ON_09'"
      ]
     },
     "execution_count": 108,
     "metadata": {},
     "output_type": "execute_result"
    }
   ],
   "source": [
    "l[0]"
   ]
  },
  {
   "cell_type": "code",
   "execution_count": 21,
   "metadata": {
    "collapsed": false
   },
   "outputs": [
    {
     "data": {
      "text/html": [
       "<div>\n",
       "<table border=\"1\" class=\"dataframe\">\n",
       "  <thead>\n",
       "    <tr style=\"text-align: right;\">\n",
       "      <th></th>\n",
       "      <th>AGENCY_ID</th>\n",
       "      <th>ARRIVAL_TIME_DEV_09</th>\n",
       "      <th>ARRIVAL_TIME_DEV_13</th>\n",
       "      <th>BIKERACK_09</th>\n",
       "      <th>BIKERACK_13</th>\n",
       "      <th>CAPACITY_09</th>\n",
       "      <th>CAPACITY_13</th>\n",
       "      <th>CROWDED_09</th>\n",
       "      <th>CROWDED_13</th>\n",
       "      <th>CROWDHOURS_09</th>\n",
       "      <th>...</th>\n",
       "      <th>WAITHOURS_13</th>\n",
       "      <th>WGT_TRIP_STOPS_09</th>\n",
       "      <th>WGT_TRIP_STOPS_13</th>\n",
       "      <th>WHEELCHAIR_09</th>\n",
       "      <th>WHEELCHAIR_13</th>\n",
       "      <th>LAT</th>\n",
       "      <th>LON</th>\n",
       "      <th>ON_DIFF</th>\n",
       "      <th>ON_P_DIFF_FLOAT</th>\n",
       "      <th>ON_P_DIFF</th>\n",
       "    </tr>\n",
       "  </thead>\n",
       "  <tbody>\n",
       "    <tr>\n",
       "      <th>2063</th>\n",
       "      <td>NaN</td>\n",
       "      <td>NaN</td>\n",
       "      <td>NaN</td>\n",
       "      <td>NaN</td>\n",
       "      <td>NaN</td>\n",
       "      <td>NaN</td>\n",
       "      <td>NaN</td>\n",
       "      <td>NaN</td>\n",
       "      <td>NaN</td>\n",
       "      <td>NaN</td>\n",
       "      <td>...</td>\n",
       "      <td>NaN</td>\n",
       "      <td>NaN</td>\n",
       "      <td>NaN</td>\n",
       "      <td>NaN</td>\n",
       "      <td>NaN</td>\n",
       "      <td>NaN</td>\n",
       "      <td>NaN</td>\n",
       "      <td>NaN</td>\n",
       "      <td>NaN</td>\n",
       "      <td>NaN</td>\n",
       "    </tr>\n",
       "  </tbody>\n",
       "</table>\n",
       "<p>1 rows × 104 columns</p>\n",
       "</div>"
      ],
      "text/plain": [
       "     AGENCY_ID  ARRIVAL_TIME_DEV_09  ARRIVAL_TIME_DEV_13  BIKERACK_09  \\\n",
       "2063       NaN                  NaN                  NaN          NaN   \n",
       "\n",
       "      BIKERACK_13  CAPACITY_09  CAPACITY_13  CROWDED_09  CROWDED_13  \\\n",
       "2063          NaN          NaN          NaN         NaN         NaN   \n",
       "\n",
       "      CROWDHOURS_09    ...      WAITHOURS_13  WGT_TRIP_STOPS_09  \\\n",
       "2063            NaN    ...               NaN                NaN   \n",
       "\n",
       "      WGT_TRIP_STOPS_13  WHEELCHAIR_09  WHEELCHAIR_13  LAT  LON  ON_DIFF  \\\n",
       "2063                NaN            NaN            NaN  NaN  NaN      NaN   \n",
       "\n",
       "      ON_P_DIFF_FLOAT  ON_P_DIFF  \n",
       "2063              NaN        NaN  \n",
       "\n",
       "[1 rows x 104 columns]"
      ]
     },
     "execution_count": 21,
     "metadata": {},
     "output_type": "execute_result"
    }
   ],
   "source": [
    "df_final[df_final['STOP_ID'] == 5463] & df_final[df_final['ON_DIFF'] == np.nan]"
   ]
  },
  {
   "cell_type": "code",
   "execution_count": 22,
   "metadata": {
    "collapsed": false
   },
   "outputs": [
    {
     "data": {
      "text/plain": [
       "'nan'"
      ]
     },
     "execution_count": 22,
     "metadata": {},
     "output_type": "execute_result"
    }
   ],
   "source": [
    "str(np.nan)"
   ]
  },
  {
   "cell_type": "code",
   "execution_count": 6,
   "metadata": {
    "collapsed": false
   },
   "outputs": [
    {
     "name": "stdout",
     "output_type": "stream",
     "text": [
      "<class 'pandas.core.frame.DataFrame'>\n",
      "Int64Index: 177415 entries, 0 to 177414\n",
      "Data columns (total 51 columns):\n",
      "MONTH                 177415 non-null datetime64[ns]\n",
      "DOW                   177415 non-null int64\n",
      "AGENCY_ID             177415 non-null object\n",
      "STOP_ID               177415 non-null int64\n",
      "NUMDAYS               177415 non-null int64\n",
      "OBSDAYS               177415 non-null int64\n",
      "TRIP_STOPS            177415 non-null int64\n",
      "OBS_TRIP_STOPS        177415 non-null int64\n",
      "WGT_TRIP_STOPS        175913 non-null float64\n",
      "HEADWAY_S             176957 non-null float64\n",
      "FARE                  177415 non-null float64\n",
      "STOPNAME              177415 non-null object\n",
      "STOPNAME_AVL          177415 non-null object\n",
      "STOP_LAT              177415 non-null float64\n",
      "STOP_LON              177415 non-null float64\n",
      "EOL                   177415 non-null int64\n",
      "SOL                   177415 non-null int64\n",
      "TIMEPOINT             174761 non-null float64\n",
      "ARRIVAL_TIME_DEV      174761 non-null float64\n",
      "DEPARTURE_TIME_DEV    174761 non-null float64\n",
      "DWELL_S               177415 non-null float64\n",
      "DWELL                 174761 non-null float64\n",
      "RUNTIME_S             177415 non-null float64\n",
      "RUNTIME               174761 non-null float64\n",
      "TOTTIME_S             177415 non-null float64\n",
      "TOTTIME               174761 non-null float64\n",
      "SERVMILES_S           177415 non-null float64\n",
      "SERVMILES             175913 non-null float64\n",
      "RUNSPEED_S            177415 non-null float64\n",
      "RUNSPEED              174761 non-null float64\n",
      "TOTSPEED_S            177415 non-null float64\n",
      "TOTSPEED              174761 non-null float64\n",
      "ONTIME5               174761 non-null float64\n",
      "ON                    174761 non-null float64\n",
      "OFF                   174761 non-null float64\n",
      "LOAD_ARR              174761 non-null float64\n",
      "LOAD_DEP              174761 non-null float64\n",
      "PASSMILES             174761 non-null float64\n",
      "PASSHOURS             174761 non-null float64\n",
      "WAITHOURS             174258 non-null float64\n",
      "FULLFARE_REV          174761 non-null float64\n",
      "PASSDELAY_DEP         174761 non-null float64\n",
      "PASSDELAY_ARR         174761 non-null float64\n",
      "RDBRDNGS              174761 non-null float64\n",
      "DOORCYCLES            174761 non-null float64\n",
      "WHEELCHAIR            174761 non-null float64\n",
      "BIKERACK              174761 non-null float64\n",
      "CAPACITY              174761 non-null float64\n",
      "VC                    174761 non-null float64\n",
      "CROWDED               174761 non-null float64\n",
      "CROWDHOURS            174761 non-null float64\n",
      "dtypes: datetime64[ns](1), float64(39), int64(8), object(3)\n",
      "memory usage: 70.4+ MB\n"
     ]
    }
   ],
   "source": [
    "df.info()"
   ]
  },
  {
   "cell_type": "code",
   "execution_count": null,
   "metadata": {
    "collapsed": true
   },
   "outputs": [],
   "source": []
  }
 ],
 "metadata": {
  "anaconda-cloud": {},
  "kernelspec": {
   "display_name": "Python [conda root]",
   "language": "python",
   "name": "conda-root-py"
  },
  "language_info": {
   "codemirror_mode": {
    "name": "ipython",
    "version": 3
   },
   "file_extension": ".py",
   "mimetype": "text/x-python",
   "name": "python",
   "nbconvert_exporter": "python",
   "pygments_lexer": "ipython3",
   "version": "3.5.2"
  }
 },
 "nbformat": 4,
 "nbformat_minor": 1
}
