{
 "cells": [
  {
   "cell_type": "code",
   "execution_count": 1,
   "metadata": {
    "collapsed": true
   },
   "outputs": [],
   "source": [
    "import pandas as pd\n",
    "import seaborn as sns\n",
    "import numpy as np\n",
    "import statsmodels.api as smf\n",
    "\n",
    "# this allows plots to appear directly in the notebook\n",
    "%matplotlib inline"
   ]
  },
  {
   "cell_type": "code",
   "execution_count": 90,
   "metadata": {
    "collapsed": true
   },
   "outputs": [],
   "source": [
    "store = pd.HDFStore(\"E:/Transit_Casa/Output/sfmuni_monthly_ts.h5\")\n",
    "\n",
    "df = store.get('stop_day')"
   ]
  },
  {
   "cell_type": "code",
   "execution_count": 91,
   "metadata": {
    "collapsed": false
   },
   "outputs": [],
   "source": [
    "df = df.sort_index(axis = 1)"
   ]
  },
  {
   "cell_type": "code",
   "execution_count": 64,
   "metadata": {
    "collapsed": false
   },
   "outputs": [],
   "source": [
    "df.columns = ['AGENCY_ID',\n",
    "'ALAND10',\n",
    "'AREA_FT',\n",
    "'ARRIVAL_TIME',\n",
    "'BIKERACK_09',\n",
    "'BUFF_DIST',\n",
    "'CAPACITY_09',\n",
    "'CROWDED_09',\n",
    "'CROWDHOURS_09',\n",
    "'DEPARTURE_09',\n",
    "'DOORCYCLES_09',\n",
    "'DWELL_09',\n",
    "'EDHEALTH',\n",
    "'EDHEALTH_DEN',\n",
    "'EOL_09',\n",
    "'Employment_DEN',\n",
    "'FARE_09',\n",
    "'FULLFARE_RATE_09',\n",
    "'GEOID10',\n",
    "'HEADWAY_S_09',\n",
    "'HOUSING10',\n",
    "'HOUSING10_DEN',\n",
    "'Join_Cou_1',\n",
    "'Join_Count',\n",
    "'LEISURE',\n",
    "'LEISURE_DEN',\n",
    "'LOAD_ARR_09',\n",
    "'LOAD_DEP_09',\n",
    "'MONTH_09',\n",
    "'OBSDAYS_09',\n",
    "'OBS_TRIP_S',\n",
    "'OFF_09',\n",
    "'ONTIME5_09',\n",
    "'ON_09',\n",
    "'ORIG_FID',\n",
    "'OTHER',\n",
    "'OTHER_DEN',\n",
    "'PASSDELAY_',\n",
    "'PASSDELA_1',\n",
    "'PASSHOURS_09',\n",
    "'PASSMILES_09',\n",
    "'POP10',\n",
    "'POP10_DEN',\n",
    "'RDBRDNGS_09',\n",
    "'RETAIL',\n",
    "'RETAIL_DEN',\n",
    "'RUNSPEED_09',\n",
    "'RUNTIME_09',\n",
    "'SERVMILES_S_09',\n",
    "'SOL_09',\n",
    "'STOPNAME_0',\n",
    "'STOP_ID',\n",
    "'STOP_LAT',\n",
    "'STOP_LON',\n",
    "'TARGET_FID',\n",
    "'TARGET_F_1',\n",
    "'TIMEPOINT_',\n",
    "'TOTAL_EMP',\n",
    "'TOTSPEED_0',\n",
    "'TOTTIME_09',\n",
    "'TRIP_STOPS',\n",
    "'Unnamed: 0',\n",
    "'VC_09',\n",
    "'WAITHOURS_09',\n",
    "'WGT_TRIP_S',\n",
    "'WHEELCHAIR',\n",
    "'geometry',\n",
    "'w_geocode']"
   ]
  },
  {
   "cell_type": "code",
   "execution_count": 57,
   "metadata": {
    "collapsed": false
   },
   "outputs": [
    {
     "data": {
      "text/plain": [
       "67"
      ]
     },
     "execution_count": 57,
     "metadata": {},
     "output_type": "execute_result"
    }
   ],
   "source": []
  },
  {
   "cell_type": "code",
   "execution_count": 92,
   "metadata": {
    "collapsed": false
   },
   "outputs": [
    {
     "name": "stdout",
     "output_type": "stream",
     "text": [
      "AGENCY_ID\n",
      "ARRIVAL_TIME_DEV\n",
      "BIKERACK\n",
      "CAPACITY\n",
      "CROWDED\n",
      "CROWDHOURS\n",
      "DEPARTURE_TIME_DEV\n",
      "DOORCYCLES\n",
      "DOW\n",
      "DWELL\n",
      "DWELL_S\n",
      "EOL\n",
      "FARE\n",
      "FULLFARE_REV\n",
      "HEADWAY_S\n",
      "LOAD_ARR\n",
      "LOAD_DEP\n",
      "MONTH\n",
      "NUMDAYS\n",
      "OBSDAYS\n",
      "OBS_TRIP_STOPS\n",
      "OFF\n",
      "ON\n",
      "ONTIME5\n",
      "PASSDELAY_ARR\n",
      "PASSDELAY_DEP\n",
      "PASSHOURS\n",
      "PASSMILES\n",
      "RDBRDNGS\n",
      "RUNSPEED\n",
      "RUNSPEED_S\n",
      "RUNTIME\n",
      "RUNTIME_S\n",
      "SERVMILES\n",
      "SERVMILES_S\n",
      "SOL\n",
      "STOPNAME\n",
      "STOPNAME_AVL\n",
      "STOP_ID\n",
      "STOP_LAT\n",
      "STOP_LON\n",
      "TIMEPOINT\n",
      "TOTSPEED\n",
      "TOTSPEED_S\n",
      "TOTTIME\n",
      "TOTTIME_S\n",
      "TRIP_STOPS\n",
      "VC\n",
      "WAITHOURS\n",
      "WGT_TRIP_STOPS\n",
      "WHEELCHAIR\n"
     ]
    }
   ],
   "source": [
    "for column in df.columns:\n",
    "    print(column)"
   ]
  },
  {
   "cell_type": "code",
   "execution_count": 87,
   "metadata": {
    "collapsed": false
   },
   "outputs": [],
   "source": [
    "#rewrite the estimation file with the new column names\n",
    "df.to_csv('E:\\Transit-Casa-Alex\\Output\\Modeling\\Estimation File.csv')"
   ]
  },
  {
   "cell_type": "code",
   "execution_count": 89,
   "metadata": {
    "collapsed": false
   },
   "outputs": [
    {
     "data": {
      "text/plain": [
       "array(['9/1/2009', nan], dtype=object)"
      ]
     },
     "execution_count": 89,
     "metadata": {},
     "output_type": "execute_result"
    }
   ],
   "source": [
    "df.MONTH_09.unique()"
   ]
  },
  {
   "cell_type": "code",
   "execution_count": 82,
   "metadata": {
    "collapsed": false
   },
   "outputs": [
    {
     "name": "stdout",
     "output_type": "stream",
     "text": [
      "                            OLS Regression Results                            \n",
      "==============================================================================\n",
      "Dep. Variable:                  ON_09   R-squared:                       0.358\n",
      "Model:                            OLS   Adj. R-squared:                  0.357\n",
      "Method:                 Least Squares   F-statistic:                     290.1\n",
      "Date:                Tue, 25 Apr 2017   Prob (F-statistic):               0.00\n",
      "Time:                        23:14:40   Log-Likelihood:                -25779.\n",
      "No. Observations:                3645   AIC:                         5.157e+04\n",
      "Df Residuals:                    3638   BIC:                         5.161e+04\n",
      "Df Model:                           7                                         \n",
      "Covariance Type:            nonrobust                                         \n",
      "==================================================================================\n",
      "                     coef    std err          t      P>|t|      [0.025      0.975]\n",
      "----------------------------------------------------------------------------------\n",
      "Employment_DEN     0.4872      0.049     10.002      0.000       0.392       0.583\n",
      "HOUSING10_DEN      2.2056      0.261      8.442      0.000       1.693       2.718\n",
      "ONTIME5_09       340.2819     33.925     10.030      0.000     273.768     406.796\n",
      "SERVMILES_S_09     4.3276      0.202     21.393      0.000       3.931       4.724\n",
      "EOL_09           253.6882     39.197      6.472      0.000     176.837     330.539\n",
      "SOL_09           307.8446     35.894      8.576      0.000     237.470     378.220\n",
      "FARE_09          -94.2322     10.549     -8.933      0.000    -114.914     -73.550\n",
      "==============================================================================\n",
      "Omnibus:                     3988.226   Durbin-Watson:                   1.565\n",
      "Prob(Omnibus):                  0.000   Jarque-Bera (JB):           463899.487\n",
      "Skew:                           5.395   Prob(JB):                         0.00\n",
      "Kurtosis:                      57.204   Cond. No.                         878.\n",
      "==============================================================================\n",
      "\n",
      "Warnings:\n",
      "[1] Standard Errors assume that the covariance matrix of the errors is correctly specified.\n"
     ]
    }
   ],
   "source": [
    "mod = smf.formula.ols(formula=\"ON_09 \\\n",
    "                       ~ Employment_DEN \\\n",
    "                       + HOUSING10_DEN\\\n",
    "                       + ONTIME5_09 \\\n",
    "                       + SERVMILES_S_09 \\\n",
    "                       + EOL_09\\\n",
    "                       + SOL_09 \\\n",
    "                       + FARE_09 \\\n",
    "                       -1\",\n",
    "             data = df)\n",
    "\n",
    "res = mod.fit()\n",
    "print(res.summary())"
   ]
  },
  {
   "cell_type": "code",
   "execution_count": 83,
   "metadata": {
    "collapsed": false
   },
   "outputs": [
    {
     "name": "stdout",
     "output_type": "stream",
     "text": [
      "                            OLS Regression Results                            \n",
      "==============================================================================\n",
      "Dep. Variable:                  ON_09   R-squared:                       0.117\n",
      "Model:                            OLS   Adj. R-squared:                  0.117\n",
      "Method:                 Least Squares   F-statistic:                     483.0\n",
      "Date:                Wed, 26 Apr 2017   Prob (F-statistic):          1.24e-100\n",
      "Time:                        11:14:46   Log-Likelihood:                -26360.\n",
      "No. Observations:                3645   AIC:                         5.272e+04\n",
      "Df Residuals:                    3644   BIC:                         5.273e+04\n",
      "Df Model:                           1                                         \n",
      "Covariance Type:            nonrobust                                         \n",
      "==================================================================================\n",
      "                     coef    std err          t      P>|t|      [0.025      0.975]\n",
      "----------------------------------------------------------------------------------\n",
      "Employment_DEN     1.1586      0.053     21.978      0.000       1.055       1.262\n",
      "==============================================================================\n",
      "Omnibus:                     3829.298   Durbin-Watson:                   1.240\n",
      "Prob(Omnibus):                  0.000   Jarque-Bera (JB):           331498.346\n",
      "Skew:                           5.139   Prob(JB):                         0.00\n",
      "Kurtosis:                      48.575   Cond. No.                         1.00\n",
      "==============================================================================\n",
      "\n",
      "Warnings:\n",
      "[1] Standard Errors assume that the covariance matrix of the errors is correctly specified.\n"
     ]
    }
   ],
   "source": [
    "mod = smf.formula.ols(formula=\"ON_09 \\\n",
    "                       ~ Employment_DEN \\\n",
    "                       -1\",\n",
    "             data = df)\n",
    "\n",
    "res = mod.fit()\n",
    "print(res.summary())"
   ]
  },
  {
   "cell_type": "code",
   "execution_count": 84,
   "metadata": {
    "collapsed": false
   },
   "outputs": [
    {
     "name": "stdout",
     "output_type": "stream",
     "text": [
      "                            OLS Regression Results                            \n",
      "==============================================================================\n",
      "Dep. Variable:                 OFF_09   R-squared:                       0.114\n",
      "Model:                            OLS   Adj. R-squared:                  0.114\n",
      "Method:                 Least Squares   F-statistic:                     471.1\n",
      "Date:                Wed, 26 Apr 2017   Prob (F-statistic):           2.38e-98\n",
      "Time:                        11:15:01   Log-Likelihood:                -26388.\n",
      "No. Observations:                3645   AIC:                         5.278e+04\n",
      "Df Residuals:                    3644   BIC:                         5.278e+04\n",
      "Df Model:                           1                                         \n",
      "Covariance Type:            nonrobust                                         \n",
      "==================================================================================\n",
      "                     coef    std err          t      P>|t|      [0.025      0.975]\n",
      "----------------------------------------------------------------------------------\n",
      "Employment_DEN     1.1531      0.053     21.706      0.000       1.049       1.257\n",
      "==============================================================================\n",
      "Omnibus:                     4834.251   Durbin-Watson:                   1.252\n",
      "Prob(Omnibus):                  0.000   Jarque-Bera (JB):          1767992.160\n",
      "Skew:                           7.187   Prob(JB):                         0.00\n",
      "Kurtosis:                     109.932   Cond. No.                         1.00\n",
      "==============================================================================\n",
      "\n",
      "Warnings:\n",
      "[1] Standard Errors assume that the covariance matrix of the errors is correctly specified.\n"
     ]
    }
   ],
   "source": [
    "mod = smf.formula.ols(formula=\"OFF_09 \\\n",
    "                       ~ Employment_DEN \\\n",
    "                       -1\",\n",
    "             data = df)\n",
    "\n",
    "res = mod.fit()\n",
    "print(res.summary())"
   ]
  },
  {
   "cell_type": "code",
   "execution_count": 86,
   "metadata": {
    "collapsed": false
   },
   "outputs": [
    {
     "name": "stdout",
     "output_type": "stream",
     "text": [
      "                            OLS Regression Results                            \n",
      "==============================================================================\n",
      "Dep. Variable:                 OFF_09   R-squared:                       0.352\n",
      "Model:                            OLS   Adj. R-squared:                  0.351\n",
      "Method:                 Least Squares   F-statistic:                     329.4\n",
      "Date:                Wed, 26 Apr 2017   Prob (F-statistic):               0.00\n",
      "Time:                        11:16:18   Log-Likelihood:                -25819.\n",
      "No. Observations:                3645   AIC:                         5.165e+04\n",
      "Df Residuals:                    3639   BIC:                         5.169e+04\n",
      "Df Model:                           6                                         \n",
      "Covariance Type:            nonrobust                                         \n",
      "==================================================================================\n",
      "                     coef    std err          t      P>|t|      [0.025      0.975]\n",
      "----------------------------------------------------------------------------------\n",
      "Employment_DEN     0.4893      0.049      9.952      0.000       0.393       0.586\n",
      "HOUSING10_DEN      2.4920      0.263      9.459      0.000       1.975       3.009\n",
      "SERVMILES_S_09     4.9629      0.204     24.276      0.000       4.562       5.364\n",
      "EOL_09           217.1566     39.627      5.480      0.000     139.463     294.851\n",
      "SOL_09           251.0569     36.275      6.921      0.000     179.935     322.179\n",
      "FARE_09            0.2405      3.772      0.064      0.949      -7.155       7.636\n",
      "==============================================================================\n",
      "Omnibus:                     5169.984   Durbin-Watson:                   1.591\n",
      "Prob(Omnibus):                  0.000   Jarque-Bera (JB):          3127195.572\n",
      "Skew:                           8.000   Prob(JB):                         0.00\n",
      "Kurtosis:                     145.599   Cond. No.                         878.\n",
      "==============================================================================\n",
      "\n",
      "Warnings:\n",
      "[1] Standard Errors assume that the covariance matrix of the errors is correctly specified.\n"
     ]
    }
   ],
   "source": [
    "mod = smf.formula.ols(formula=\"OFF_09 \\\n",
    "                       ~ Employment_DEN \\\n",
    "                       + HOUSING10_DEN\\\n",
    "                       + SERVMILES_S_09 \\\n",
    "                       + EOL_09\\\n",
    "                       + SOL_09 \\\n",
    "                       + FARE_09 \\\n",
    "                       -1\",\n",
    "             data = df)\n",
    "\n",
    "res = mod.fit()\n",
    "print(res.summary())"
   ]
  },
  {
   "cell_type": "code",
   "execution_count": null,
   "metadata": {
    "collapsed": true
   },
   "outputs": [],
   "source": []
  }
 ],
 "metadata": {
  "anaconda-cloud": {},
  "kernelspec": {
   "display_name": "Python [conda root]",
   "language": "python",
   "name": "conda-root-py"
  },
  "language_info": {
   "codemirror_mode": {
    "name": "ipython",
    "version": 3
   },
   "file_extension": ".py",
   "mimetype": "text/x-python",
   "name": "python",
   "nbconvert_exporter": "python",
   "pygments_lexer": "ipython3",
   "version": "3.5.2"
  }
 },
 "nbformat": 4,
 "nbformat_minor": 1
}
