{
 "cells": [
  {
   "cell_type": "code",
   "execution_count": 1,
   "metadata": {
    "collapsed": false
   },
   "outputs": [],
   "source": [
    "import pandas as pd\n",
    "import geopandas as gp\n",
    "import geocoder \n",
    "from shapely.geometry import Point\n",
    "%matplotlib inline\n",
    "pd.set_option('max_columns',500)"
   ]
  },
  {
   "cell_type": "markdown",
   "metadata": {},
   "source": [
    "# Scroll Down to where the Pivoting Starts"
   ]
  },
  {
   "cell_type": "code",
   "execution_count": 34,
   "metadata": {
    "collapsed": false
   },
   "outputs": [],
   "source": [
    "hi = pd.read_csv('C:/Users/ramu225/University of Kentucky/Erhardt, Greg - SF-TNC/Data/HousingInventory/sfhousingcompletesthrough2011.csv')"
   ]
  },
  {
   "cell_type": "code",
   "execution_count": 35,
   "metadata": {
    "collapsed": false
   },
   "outputs": [],
   "source": [
    "hu10 = gp.read_file('E:/Transit-Casa-Alex/Input/Population and Housing Units (Blocks)/2010/Population_Houses_Blocks.shp')"
   ]
  },
  {
   "cell_type": "code",
   "execution_count": 36,
   "metadata": {
    "collapsed": false
   },
   "outputs": [
    {
     "data": {
      "text/html": [
       "<div>\n",
       "<table border=\"1\" class=\"dataframe\">\n",
       "  <thead>\n",
       "    <tr style=\"text-align: right;\">\n",
       "      <th></th>\n",
       "      <th>BLOCKCE</th>\n",
       "      <th>BLOCKID10</th>\n",
       "      <th>COUNTYFP10</th>\n",
       "      <th>HOUSING10</th>\n",
       "      <th>PARTFLG</th>\n",
       "      <th>POP10</th>\n",
       "      <th>STATEFP10</th>\n",
       "      <th>TRACTCE10</th>\n",
       "      <th>geometry</th>\n",
       "    </tr>\n",
       "  </thead>\n",
       "  <tbody>\n",
       "    <tr>\n",
       "      <th>0</th>\n",
       "      <td>3028</td>\n",
       "      <td>060750313023028</td>\n",
       "      <td>075</td>\n",
       "      <td>33</td>\n",
       "      <td>N</td>\n",
       "      <td>116</td>\n",
       "      <td>06</td>\n",
       "      <td>031302</td>\n",
       "      <td>POLYGON ((-122.469306 37.712526, -122.468748 3...</td>\n",
       "    </tr>\n",
       "    <tr>\n",
       "      <th>1</th>\n",
       "      <td>6025</td>\n",
       "      <td>060750255006025</td>\n",
       "      <td>075</td>\n",
       "      <td>1</td>\n",
       "      <td>N</td>\n",
       "      <td>1</td>\n",
       "      <td>06</td>\n",
       "      <td>025500</td>\n",
       "      <td>POLYGON ((-122.442387 37.725793, -122.443066 3...</td>\n",
       "    </tr>\n",
       "    <tr>\n",
       "      <th>2</th>\n",
       "      <td>1010</td>\n",
       "      <td>060750261001010</td>\n",
       "      <td>075</td>\n",
       "      <td>64</td>\n",
       "      <td>N</td>\n",
       "      <td>237</td>\n",
       "      <td>06</td>\n",
       "      <td>026100</td>\n",
       "      <td>POLYGON ((-122.439127 37.720972, -122.439382 3...</td>\n",
       "    </tr>\n",
       "    <tr>\n",
       "      <th>3</th>\n",
       "      <td>1001</td>\n",
       "      <td>060750201001001</td>\n",
       "      <td>075</td>\n",
       "      <td>0</td>\n",
       "      <td>N</td>\n",
       "      <td>0</td>\n",
       "      <td>06</td>\n",
       "      <td>020100</td>\n",
       "      <td>POLYGON ((-122.418618 37.773053, -122.418855 3...</td>\n",
       "    </tr>\n",
       "    <tr>\n",
       "      <th>4</th>\n",
       "      <td>2006</td>\n",
       "      <td>060750178022006</td>\n",
       "      <td>075</td>\n",
       "      <td>145</td>\n",
       "      <td>N</td>\n",
       "      <td>196</td>\n",
       "      <td>06</td>\n",
       "      <td>017802</td>\n",
       "      <td>POLYGON ((-122.413587 37.77466, -122.413161 37...</td>\n",
       "    </tr>\n",
       "  </tbody>\n",
       "</table>\n",
       "</div>"
      ],
      "text/plain": [
       "  BLOCKCE        BLOCKID10 COUNTYFP10  HOUSING10 PARTFLG  POP10 STATEFP10  \\\n",
       "0    3028  060750313023028        075         33       N    116        06   \n",
       "1    6025  060750255006025        075          1       N      1        06   \n",
       "2    1010  060750261001010        075         64       N    237        06   \n",
       "3    1001  060750201001001        075          0       N      0        06   \n",
       "4    2006  060750178022006        075        145       N    196        06   \n",
       "\n",
       "  TRACTCE10                                           geometry  \n",
       "0    031302  POLYGON ((-122.469306 37.712526, -122.468748 3...  \n",
       "1    025500  POLYGON ((-122.442387 37.725793, -122.443066 3...  \n",
       "2    026100  POLYGON ((-122.439127 37.720972, -122.439382 3...  \n",
       "3    020100  POLYGON ((-122.418618 37.773053, -122.418855 3...  \n",
       "4    017802  POLYGON ((-122.413587 37.77466, -122.413161 37...  "
      ]
     },
     "execution_count": 36,
     "metadata": {},
     "output_type": "execute_result"
    }
   ],
   "source": [
    "hu10.head()"
   ]
  },
  {
   "cell_type": "code",
   "execution_count": 37,
   "metadata": {
    "collapsed": false
   },
   "outputs": [
    {
     "data": {
      "text/plain": [
       "array([2009], dtype=int64)"
      ]
     },
     "execution_count": 37,
     "metadata": {},
     "output_type": "execute_result"
    }
   ],
   "source": [
    "hi.YEAR.unique()"
   ]
  },
  {
   "cell_type": "code",
   "execution_count": 38,
   "metadata": {
    "collapsed": true
   },
   "outputs": [],
   "source": [
    "hu09 = hi[hi['YEAR'] == 2009]"
   ]
  },
  {
   "cell_type": "code",
   "execution_count": 39,
   "metadata": {
    "collapsed": false
   },
   "outputs": [
    {
     "data": {
      "text/html": [
       "<div>\n",
       "<table border=\"1\" class=\"dataframe\">\n",
       "  <thead>\n",
       "    <tr style=\"text-align: right;\">\n",
       "      <th></th>\n",
       "      <th>X</th>\n",
       "      <th>Y</th>\n",
       "      <th>OBJECTID_1</th>\n",
       "      <th>OBJECTID</th>\n",
       "      <th>PLANAREA</th>\n",
       "      <th>ACTDATE</th>\n",
       "      <th>YEAR</th>\n",
       "      <th>APP_NO</th>\n",
       "      <th>APP_ID</th>\n",
       "      <th>NUMBER</th>\n",
       "      <th>STREET</th>\n",
       "      <th>ST_TYPE</th>\n",
       "      <th>DESCRIPT</th>\n",
       "      <th>PROP_USE</th>\n",
       "      <th>PD</th>\n",
       "      <th>SD</th>\n",
       "      <th>BLOCK</th>\n",
       "      <th>LOT</th>\n",
       "      <th>BLOCKLOT</th>\n",
       "      <th>NETUNITS</th>\n",
       "      <th>UNITS</th>\n",
       "      <th>FILEDT</th>\n",
       "      <th>FM</th>\n",
       "      <th>EXT_USE</th>\n",
       "      <th>ACTION</th>\n",
       "      <th>ZONING</th>\n",
       "      <th>STAFF</th>\n",
       "      <th>AFFORD</th>\n",
       "      <th>HEIGHT</th>\n",
       "      <th>AFF_HSG</th>\n",
       "      <th>DEV_NAME</th>\n",
       "      <th>AFF_NOTES</th>\n",
       "      <th>AFF_TARGET</th>\n",
       "      <th>MERGELEGAL</th>\n",
       "      <th>GENZONE</th>\n",
       "      <th>TENURE</th>\n",
       "      <th>AFF_GROUP</th>\n",
       "      <th>ADDRESS</th>\n",
       "      <th>supervisor</th>\n",
       "      <th>supname</th>\n",
       "      <th>Distance</th>\n",
       "    </tr>\n",
       "  </thead>\n",
       "  <tbody>\n",
       "    <tr>\n",
       "      <th>0</th>\n",
       "      <td>6005822.338</td>\n",
       "      <td>2104358.321</td>\n",
       "      <td>389</td>\n",
       "      <td>608</td>\n",
       "      <td>Mission</td>\n",
       "      <td>6/1/2009</td>\n",
       "      <td>2009</td>\n",
       "      <td>2.010000e+11</td>\n",
       "      <td>657033.0</td>\n",
       "      <td>3676</td>\n",
       "      <td>20TH</td>\n",
       "      <td>ST</td>\n",
       "      <td>ADD STORY TO HOUSE, MAKE 2 UNITS.  REVISION TO...</td>\n",
       "      <td>2 FAMILY DWELLING</td>\n",
       "      <td>8</td>\n",
       "      <td>8</td>\n",
       "      <td>3597</td>\n",
       "      <td>26</td>\n",
       "      <td>3597026</td>\n",
       "      <td>1</td>\n",
       "      <td>2</td>\n",
       "      <td>3/6/2008</td>\n",
       "      <td>8</td>\n",
       "      <td>1 FAMILY DWELLING</td>\n",
       "      <td>FINAL INSPECT/APPRVD</td>\n",
       "      <td>RTO-Mission</td>\n",
       "      <td>MWOODS</td>\n",
       "      <td>NaN</td>\n",
       "      <td>55-X</td>\n",
       "      <td>0</td>\n",
       "      <td>NaN</td>\n",
       "      <td>NaN</td>\n",
       "      <td>NaN</td>\n",
       "      <td>NaN</td>\n",
       "      <td>NaN</td>\n",
       "      <td>NaN</td>\n",
       "      <td>NaN</td>\n",
       "      <td>NaN</td>\n",
       "      <td>NaN</td>\n",
       "      <td>NaN</td>\n",
       "      <td>NaN</td>\n",
       "    </tr>\n",
       "    <tr>\n",
       "      <th>1</th>\n",
       "      <td>6000451.148</td>\n",
       "      <td>2114764.120</td>\n",
       "      <td>4139</td>\n",
       "      <td>969</td>\n",
       "      <td>NaN</td>\n",
       "      <td>7/1/2009</td>\n",
       "      <td>2009</td>\n",
       "      <td>2.010000e+11</td>\n",
       "      <td>600372.0</td>\n",
       "      <td>2815</td>\n",
       "      <td>PINE</td>\n",
       "      <td>ST</td>\n",
       "      <td>TO COMPLY WITH HIS NOV 199602226. LEGALIZE SEC...</td>\n",
       "      <td>2 FAMILY DWELLING</td>\n",
       "      <td>5</td>\n",
       "      <td>5</td>\n",
       "      <td>1048</td>\n",
       "      <td>34</td>\n",
       "      <td>1048034</td>\n",
       "      <td>1</td>\n",
       "      <td>2</td>\n",
       "      <td>28/11/2006</td>\n",
       "      <td>3</td>\n",
       "      <td>1 FAMILY DWELLING</td>\n",
       "      <td>CFC ISSUED</td>\n",
       "      <td>RH-2</td>\n",
       "      <td>DLINDSAY</td>\n",
       "      <td>NaN</td>\n",
       "      <td>40-X</td>\n",
       "      <td>0</td>\n",
       "      <td>NaN</td>\n",
       "      <td>NaN</td>\n",
       "      <td>NaN</td>\n",
       "      <td>NaN</td>\n",
       "      <td>NaN</td>\n",
       "      <td>NaN</td>\n",
       "      <td>NaN</td>\n",
       "      <td>NaN</td>\n",
       "      <td>NaN</td>\n",
       "      <td>NaN</td>\n",
       "      <td>NaN</td>\n",
       "    </tr>\n",
       "    <tr>\n",
       "      <th>2</th>\n",
       "      <td>5992750.911</td>\n",
       "      <td>2104090.111</td>\n",
       "      <td>23</td>\n",
       "      <td>913</td>\n",
       "      <td>NaN</td>\n",
       "      <td>8/1/2009</td>\n",
       "      <td>2009</td>\n",
       "      <td>2.000000e+11</td>\n",
       "      <td>515343.0</td>\n",
       "      <td>1675</td>\n",
       "      <td>11TH</td>\n",
       "      <td>AV</td>\n",
       "      <td>HORIZONTAL AND VERTICAL ADDITION WHILE ADDING ...</td>\n",
       "      <td>2 FAMILY DWELLING</td>\n",
       "      <td>14</td>\n",
       "      <td>7</td>\n",
       "      <td>1932</td>\n",
       "      <td>13</td>\n",
       "      <td>1932013</td>\n",
       "      <td>1</td>\n",
       "      <td>2</td>\n",
       "      <td>15/06/2004</td>\n",
       "      <td>3</td>\n",
       "      <td>1 FAMILY DWELLING</td>\n",
       "      <td>PRE-FINAL</td>\n",
       "      <td>RH-2</td>\n",
       "      <td>MSMITH</td>\n",
       "      <td>NaN</td>\n",
       "      <td>40-X</td>\n",
       "      <td>0</td>\n",
       "      <td>NaN</td>\n",
       "      <td>NaN</td>\n",
       "      <td>NaN</td>\n",
       "      <td>NaN</td>\n",
       "      <td>NaN</td>\n",
       "      <td>NaN</td>\n",
       "      <td>NaN</td>\n",
       "      <td>NaN</td>\n",
       "      <td>NaN</td>\n",
       "      <td>NaN</td>\n",
       "      <td>NaN</td>\n",
       "    </tr>\n",
       "    <tr>\n",
       "      <th>3</th>\n",
       "      <td>6005733.081</td>\n",
       "      <td>2100189.099</td>\n",
       "      <td>409</td>\n",
       "      <td>929</td>\n",
       "      <td>NaN</td>\n",
       "      <td>8/1/2009</td>\n",
       "      <td>2009</td>\n",
       "      <td>2.010000e+11</td>\n",
       "      <td>565195.0</td>\n",
       "      <td>119</td>\n",
       "      <td>27TH</td>\n",
       "      <td>ST</td>\n",
       "      <td>SCOPE IS TO LEGALIZE /CONVERT GRD FL CHURCH SP...</td>\n",
       "      <td>2 FAMILY DWELLING</td>\n",
       "      <td>7</td>\n",
       "      <td>8</td>\n",
       "      <td>6594</td>\n",
       "      <td>43</td>\n",
       "      <td>6594043</td>\n",
       "      <td>1</td>\n",
       "      <td>2</td>\n",
       "      <td>23/11/2005</td>\n",
       "      <td>3</td>\n",
       "      <td>1 FAMILY DWELLING</td>\n",
       "      <td>FINAL INSPECT/APPRVD</td>\n",
       "      <td>RH-2</td>\n",
       "      <td>TWANG</td>\n",
       "      <td>NaN</td>\n",
       "      <td>40-X</td>\n",
       "      <td>0</td>\n",
       "      <td>NaN</td>\n",
       "      <td>NaN</td>\n",
       "      <td>NaN</td>\n",
       "      <td>NaN</td>\n",
       "      <td>NaN</td>\n",
       "      <td>NaN</td>\n",
       "      <td>NaN</td>\n",
       "      <td>NaN</td>\n",
       "      <td>NaN</td>\n",
       "      <td>NaN</td>\n",
       "      <td>NaN</td>\n",
       "    </tr>\n",
       "    <tr>\n",
       "      <th>4</th>\n",
       "      <td>6008647.518</td>\n",
       "      <td>2101419.641</td>\n",
       "      <td>1472</td>\n",
       "      <td>607</td>\n",
       "      <td>Mission</td>\n",
       "      <td>8/1/2009</td>\n",
       "      <td>2009</td>\n",
       "      <td>2.010000e+11</td>\n",
       "      <td>614915.0</td>\n",
       "      <td>1218</td>\n",
       "      <td>TREAT</td>\n",
       "      <td>AV</td>\n",
       "      <td>ERECT 3 STORY TYPE 5 2 FAMILY DWELLINGS</td>\n",
       "      <td>2 FAMILY DWELLING</td>\n",
       "      <td>1</td>\n",
       "      <td>9</td>\n",
       "      <td>6524</td>\n",
       "      <td>4</td>\n",
       "      <td>6524004</td>\n",
       "      <td>2</td>\n",
       "      <td>2</td>\n",
       "      <td>2/5/2007</td>\n",
       "      <td>2</td>\n",
       "      <td>NaN</td>\n",
       "      <td>CFC ISSUED</td>\n",
       "      <td>RH-2</td>\n",
       "      <td>EOROPEZA</td>\n",
       "      <td>NaN</td>\n",
       "      <td>40-X</td>\n",
       "      <td>0</td>\n",
       "      <td>NaN</td>\n",
       "      <td>NaN</td>\n",
       "      <td>NaN</td>\n",
       "      <td>NaN</td>\n",
       "      <td>NaN</td>\n",
       "      <td>NaN</td>\n",
       "      <td>NaN</td>\n",
       "      <td>NaN</td>\n",
       "      <td>NaN</td>\n",
       "      <td>NaN</td>\n",
       "      <td>NaN</td>\n",
       "    </tr>\n",
       "  </tbody>\n",
       "</table>\n",
       "</div>"
      ],
      "text/plain": [
       "             X            Y  OBJECTID_1  OBJECTID PLANAREA   ACTDATE  YEAR  \\\n",
       "0  6005822.338  2104358.321         389       608  Mission  6/1/2009  2009   \n",
       "1  6000451.148  2114764.120        4139       969      NaN  7/1/2009  2009   \n",
       "2  5992750.911  2104090.111          23       913      NaN  8/1/2009  2009   \n",
       "3  6005733.081  2100189.099         409       929      NaN  8/1/2009  2009   \n",
       "4  6008647.518  2101419.641        1472       607  Mission  8/1/2009  2009   \n",
       "\n",
       "         APP_NO    APP_ID  NUMBER STREET ST_TYPE  \\\n",
       "0  2.010000e+11  657033.0    3676   20TH      ST   \n",
       "1  2.010000e+11  600372.0    2815   PINE      ST   \n",
       "2  2.000000e+11  515343.0    1675   11TH      AV   \n",
       "3  2.010000e+11  565195.0     119   27TH      ST   \n",
       "4  2.010000e+11  614915.0    1218  TREAT      AV   \n",
       "\n",
       "                                            DESCRIPT           PROP_USE  PD  \\\n",
       "0  ADD STORY TO HOUSE, MAKE 2 UNITS.  REVISION TO...  2 FAMILY DWELLING   8   \n",
       "1  TO COMPLY WITH HIS NOV 199602226. LEGALIZE SEC...  2 FAMILY DWELLING   5   \n",
       "2  HORIZONTAL AND VERTICAL ADDITION WHILE ADDING ...  2 FAMILY DWELLING  14   \n",
       "3  SCOPE IS TO LEGALIZE /CONVERT GRD FL CHURCH SP...  2 FAMILY DWELLING   7   \n",
       "4            ERECT 3 STORY TYPE 5 2 FAMILY DWELLINGS  2 FAMILY DWELLING   1   \n",
       "\n",
       "   SD BLOCK LOT BLOCKLOT  NETUNITS  UNITS      FILEDT  FM            EXT_USE  \\\n",
       "0   8  3597  26  3597026         1      2    3/6/2008   8  1 FAMILY DWELLING   \n",
       "1   5  1048  34  1048034         1      2  28/11/2006   3  1 FAMILY DWELLING   \n",
       "2   7  1932  13  1932013         1      2  15/06/2004   3  1 FAMILY DWELLING   \n",
       "3   8  6594  43  6594043         1      2  23/11/2005   3  1 FAMILY DWELLING   \n",
       "4   9  6524   4  6524004         2      2    2/5/2007   2                NaN   \n",
       "\n",
       "                 ACTION       ZONING     STAFF AFFORD HEIGHT  AFF_HSG  \\\n",
       "0  FINAL INSPECT/APPRVD  RTO-Mission    MWOODS    NaN   55-X        0   \n",
       "1            CFC ISSUED         RH-2  DLINDSAY    NaN   40-X        0   \n",
       "2             PRE-FINAL         RH-2    MSMITH    NaN   40-X        0   \n",
       "3  FINAL INSPECT/APPRVD         RH-2     TWANG    NaN   40-X        0   \n",
       "4            CFC ISSUED         RH-2  EOROPEZA    NaN   40-X        0   \n",
       "\n",
       "   DEV_NAME  AFF_NOTES  AFF_TARGET  MERGELEGAL  GENZONE  TENURE  AFF_GROUP  \\\n",
       "0       NaN        NaN         NaN         NaN      NaN     NaN        NaN   \n",
       "1       NaN        NaN         NaN         NaN      NaN     NaN        NaN   \n",
       "2       NaN        NaN         NaN         NaN      NaN     NaN        NaN   \n",
       "3       NaN        NaN         NaN         NaN      NaN     NaN        NaN   \n",
       "4       NaN        NaN         NaN         NaN      NaN     NaN        NaN   \n",
       "\n",
       "   ADDRESS  supervisor  supname  Distance  \n",
       "0      NaN         NaN      NaN       NaN  \n",
       "1      NaN         NaN      NaN       NaN  \n",
       "2      NaN         NaN      NaN       NaN  \n",
       "3      NaN         NaN      NaN       NaN  \n",
       "4      NaN         NaN      NaN       NaN  "
      ]
     },
     "execution_count": 39,
     "metadata": {},
     "output_type": "execute_result"
    }
   ],
   "source": [
    "hu09.head()"
   ]
  },
  {
   "cell_type": "code",
   "execution_count": 40,
   "metadata": {
    "collapsed": false
   },
   "outputs": [
    {
     "data": {
      "text/plain": [
       "260"
      ]
     },
     "execution_count": 40,
     "metadata": {},
     "output_type": "execute_result"
    }
   ],
   "source": [
    "len(hu09)"
   ]
  },
  {
   "cell_type": "code",
   "execution_count": 41,
   "metadata": {
    "collapsed": false
   },
   "outputs": [],
   "source": [
    "add = geocoder.google('3676 20TH ST San Francisco, Ca')"
   ]
  },
  {
   "cell_type": "code",
   "execution_count": 42,
   "metadata": {
    "collapsed": false
   },
   "outputs": [
    {
     "data": {
      "text/plain": [
       "37.758642"
      ]
     },
     "execution_count": 42,
     "metadata": {},
     "output_type": "execute_result"
    }
   ],
   "source": [
    "add.lat"
   ]
  },
  {
   "cell_type": "code",
   "execution_count": 43,
   "metadata": {
    "collapsed": false
   },
   "outputs": [
    {
     "name": "stderr",
     "output_type": "stream",
     "text": [
      "C:\\Anaconda\\lib\\site-packages\\pandas\\core\\indexing.py:141: SettingWithCopyWarning: \n",
      "A value is trying to be set on a copy of a slice from a DataFrame\n",
      "\n",
      "See the caveats in the documentation: http://pandas.pydata.org/pandas-docs/stable/indexing.html#indexing-view-versus-copy\n",
      "  self._setitem_with_indexer(indexer, value)\n"
     ]
    }
   ],
   "source": [
    "#there was one address that initially had 08th instead of 8th\n",
    "hu09['STREET'].loc[157] = '8TH'"
   ]
  },
  {
   "cell_type": "code",
   "execution_count": 44,
   "metadata": {
    "collapsed": false
   },
   "outputs": [
    {
     "data": {
      "text/plain": [
       "'3676 20TH ST San Francisco, CA'"
      ]
     },
     "execution_count": 44,
     "metadata": {},
     "output_type": "execute_result"
    }
   ],
   "source": [
    "str(hu09['NUMBER'][0]) + ' '+ str(hu09['STREET'][0]) + ' ' + str(hu09['ST_TYPE'][0]) + ' San Francisco, CA'"
   ]
  },
  {
   "cell_type": "code",
   "execution_count": 45,
   "metadata": {
    "collapsed": true
   },
   "outputs": [],
   "source": [
    "def combine_address(row):\n",
    "    address = str(row['NUMBER']) + ' '+ str(row['STREET']) + ' ' + str(row['ST_TYPE']) + ' San Francisco, CA'\n",
    "    return address"
   ]
  },
  {
   "cell_type": "code",
   "execution_count": 46,
   "metadata": {
    "collapsed": false
   },
   "outputs": [],
   "source": [
    "hu09['ADDRESS'] = hu09.apply(lambda row: combine_address(row),axis = 1)"
   ]
  },
  {
   "cell_type": "code",
   "execution_count": 47,
   "metadata": {
    "collapsed": false
   },
   "outputs": [
    {
     "data": {
      "text/html": [
       "<div>\n",
       "<table border=\"1\" class=\"dataframe\">\n",
       "  <thead>\n",
       "    <tr style=\"text-align: right;\">\n",
       "      <th></th>\n",
       "      <th>X</th>\n",
       "      <th>Y</th>\n",
       "      <th>OBJECTID_1</th>\n",
       "      <th>OBJECTID</th>\n",
       "      <th>PLANAREA</th>\n",
       "      <th>ACTDATE</th>\n",
       "      <th>YEAR</th>\n",
       "      <th>APP_NO</th>\n",
       "      <th>APP_ID</th>\n",
       "      <th>NUMBER</th>\n",
       "      <th>STREET</th>\n",
       "      <th>ST_TYPE</th>\n",
       "      <th>DESCRIPT</th>\n",
       "      <th>PROP_USE</th>\n",
       "      <th>PD</th>\n",
       "      <th>SD</th>\n",
       "      <th>BLOCK</th>\n",
       "      <th>LOT</th>\n",
       "      <th>BLOCKLOT</th>\n",
       "      <th>NETUNITS</th>\n",
       "      <th>UNITS</th>\n",
       "      <th>FILEDT</th>\n",
       "      <th>FM</th>\n",
       "      <th>EXT_USE</th>\n",
       "      <th>ACTION</th>\n",
       "      <th>ZONING</th>\n",
       "      <th>STAFF</th>\n",
       "      <th>AFFORD</th>\n",
       "      <th>HEIGHT</th>\n",
       "      <th>AFF_HSG</th>\n",
       "      <th>DEV_NAME</th>\n",
       "      <th>AFF_NOTES</th>\n",
       "      <th>AFF_TARGET</th>\n",
       "      <th>MERGELEGAL</th>\n",
       "      <th>GENZONE</th>\n",
       "      <th>TENURE</th>\n",
       "      <th>AFF_GROUP</th>\n",
       "      <th>ADDRESS</th>\n",
       "      <th>supervisor</th>\n",
       "      <th>supname</th>\n",
       "      <th>Distance</th>\n",
       "    </tr>\n",
       "  </thead>\n",
       "  <tbody>\n",
       "    <tr>\n",
       "      <th>0</th>\n",
       "      <td>6005822.338</td>\n",
       "      <td>2104358.321</td>\n",
       "      <td>389</td>\n",
       "      <td>608</td>\n",
       "      <td>Mission</td>\n",
       "      <td>6/1/2009</td>\n",
       "      <td>2009</td>\n",
       "      <td>2.010000e+11</td>\n",
       "      <td>657033.0</td>\n",
       "      <td>3676</td>\n",
       "      <td>20TH</td>\n",
       "      <td>ST</td>\n",
       "      <td>ADD STORY TO HOUSE, MAKE 2 UNITS.  REVISION TO...</td>\n",
       "      <td>2 FAMILY DWELLING</td>\n",
       "      <td>8</td>\n",
       "      <td>8</td>\n",
       "      <td>3597</td>\n",
       "      <td>26</td>\n",
       "      <td>3597026</td>\n",
       "      <td>1</td>\n",
       "      <td>2</td>\n",
       "      <td>3/6/2008</td>\n",
       "      <td>8</td>\n",
       "      <td>1 FAMILY DWELLING</td>\n",
       "      <td>FINAL INSPECT/APPRVD</td>\n",
       "      <td>RTO-Mission</td>\n",
       "      <td>MWOODS</td>\n",
       "      <td>NaN</td>\n",
       "      <td>55-X</td>\n",
       "      <td>0</td>\n",
       "      <td>NaN</td>\n",
       "      <td>NaN</td>\n",
       "      <td>NaN</td>\n",
       "      <td>NaN</td>\n",
       "      <td>NaN</td>\n",
       "      <td>NaN</td>\n",
       "      <td>NaN</td>\n",
       "      <td>3676 20TH ST San Francisco, CA</td>\n",
       "      <td>NaN</td>\n",
       "      <td>NaN</td>\n",
       "      <td>NaN</td>\n",
       "    </tr>\n",
       "    <tr>\n",
       "      <th>1</th>\n",
       "      <td>6000451.148</td>\n",
       "      <td>2114764.120</td>\n",
       "      <td>4139</td>\n",
       "      <td>969</td>\n",
       "      <td>NaN</td>\n",
       "      <td>7/1/2009</td>\n",
       "      <td>2009</td>\n",
       "      <td>2.010000e+11</td>\n",
       "      <td>600372.0</td>\n",
       "      <td>2815</td>\n",
       "      <td>PINE</td>\n",
       "      <td>ST</td>\n",
       "      <td>TO COMPLY WITH HIS NOV 199602226. LEGALIZE SEC...</td>\n",
       "      <td>2 FAMILY DWELLING</td>\n",
       "      <td>5</td>\n",
       "      <td>5</td>\n",
       "      <td>1048</td>\n",
       "      <td>34</td>\n",
       "      <td>1048034</td>\n",
       "      <td>1</td>\n",
       "      <td>2</td>\n",
       "      <td>28/11/2006</td>\n",
       "      <td>3</td>\n",
       "      <td>1 FAMILY DWELLING</td>\n",
       "      <td>CFC ISSUED</td>\n",
       "      <td>RH-2</td>\n",
       "      <td>DLINDSAY</td>\n",
       "      <td>NaN</td>\n",
       "      <td>40-X</td>\n",
       "      <td>0</td>\n",
       "      <td>NaN</td>\n",
       "      <td>NaN</td>\n",
       "      <td>NaN</td>\n",
       "      <td>NaN</td>\n",
       "      <td>NaN</td>\n",
       "      <td>NaN</td>\n",
       "      <td>NaN</td>\n",
       "      <td>2815 PINE ST San Francisco, CA</td>\n",
       "      <td>NaN</td>\n",
       "      <td>NaN</td>\n",
       "      <td>NaN</td>\n",
       "    </tr>\n",
       "    <tr>\n",
       "      <th>2</th>\n",
       "      <td>5992750.911</td>\n",
       "      <td>2104090.111</td>\n",
       "      <td>23</td>\n",
       "      <td>913</td>\n",
       "      <td>NaN</td>\n",
       "      <td>8/1/2009</td>\n",
       "      <td>2009</td>\n",
       "      <td>2.000000e+11</td>\n",
       "      <td>515343.0</td>\n",
       "      <td>1675</td>\n",
       "      <td>11TH</td>\n",
       "      <td>AV</td>\n",
       "      <td>HORIZONTAL AND VERTICAL ADDITION WHILE ADDING ...</td>\n",
       "      <td>2 FAMILY DWELLING</td>\n",
       "      <td>14</td>\n",
       "      <td>7</td>\n",
       "      <td>1932</td>\n",
       "      <td>13</td>\n",
       "      <td>1932013</td>\n",
       "      <td>1</td>\n",
       "      <td>2</td>\n",
       "      <td>15/06/2004</td>\n",
       "      <td>3</td>\n",
       "      <td>1 FAMILY DWELLING</td>\n",
       "      <td>PRE-FINAL</td>\n",
       "      <td>RH-2</td>\n",
       "      <td>MSMITH</td>\n",
       "      <td>NaN</td>\n",
       "      <td>40-X</td>\n",
       "      <td>0</td>\n",
       "      <td>NaN</td>\n",
       "      <td>NaN</td>\n",
       "      <td>NaN</td>\n",
       "      <td>NaN</td>\n",
       "      <td>NaN</td>\n",
       "      <td>NaN</td>\n",
       "      <td>NaN</td>\n",
       "      <td>1675 11TH AV San Francisco, CA</td>\n",
       "      <td>NaN</td>\n",
       "      <td>NaN</td>\n",
       "      <td>NaN</td>\n",
       "    </tr>\n",
       "    <tr>\n",
       "      <th>3</th>\n",
       "      <td>6005733.081</td>\n",
       "      <td>2100189.099</td>\n",
       "      <td>409</td>\n",
       "      <td>929</td>\n",
       "      <td>NaN</td>\n",
       "      <td>8/1/2009</td>\n",
       "      <td>2009</td>\n",
       "      <td>2.010000e+11</td>\n",
       "      <td>565195.0</td>\n",
       "      <td>119</td>\n",
       "      <td>27TH</td>\n",
       "      <td>ST</td>\n",
       "      <td>SCOPE IS TO LEGALIZE /CONVERT GRD FL CHURCH SP...</td>\n",
       "      <td>2 FAMILY DWELLING</td>\n",
       "      <td>7</td>\n",
       "      <td>8</td>\n",
       "      <td>6594</td>\n",
       "      <td>43</td>\n",
       "      <td>6594043</td>\n",
       "      <td>1</td>\n",
       "      <td>2</td>\n",
       "      <td>23/11/2005</td>\n",
       "      <td>3</td>\n",
       "      <td>1 FAMILY DWELLING</td>\n",
       "      <td>FINAL INSPECT/APPRVD</td>\n",
       "      <td>RH-2</td>\n",
       "      <td>TWANG</td>\n",
       "      <td>NaN</td>\n",
       "      <td>40-X</td>\n",
       "      <td>0</td>\n",
       "      <td>NaN</td>\n",
       "      <td>NaN</td>\n",
       "      <td>NaN</td>\n",
       "      <td>NaN</td>\n",
       "      <td>NaN</td>\n",
       "      <td>NaN</td>\n",
       "      <td>NaN</td>\n",
       "      <td>119 27TH ST San Francisco, CA</td>\n",
       "      <td>NaN</td>\n",
       "      <td>NaN</td>\n",
       "      <td>NaN</td>\n",
       "    </tr>\n",
       "    <tr>\n",
       "      <th>4</th>\n",
       "      <td>6008647.518</td>\n",
       "      <td>2101419.641</td>\n",
       "      <td>1472</td>\n",
       "      <td>607</td>\n",
       "      <td>Mission</td>\n",
       "      <td>8/1/2009</td>\n",
       "      <td>2009</td>\n",
       "      <td>2.010000e+11</td>\n",
       "      <td>614915.0</td>\n",
       "      <td>1218</td>\n",
       "      <td>TREAT</td>\n",
       "      <td>AV</td>\n",
       "      <td>ERECT 3 STORY TYPE 5 2 FAMILY DWELLINGS</td>\n",
       "      <td>2 FAMILY DWELLING</td>\n",
       "      <td>1</td>\n",
       "      <td>9</td>\n",
       "      <td>6524</td>\n",
       "      <td>4</td>\n",
       "      <td>6524004</td>\n",
       "      <td>2</td>\n",
       "      <td>2</td>\n",
       "      <td>2/5/2007</td>\n",
       "      <td>2</td>\n",
       "      <td>NaN</td>\n",
       "      <td>CFC ISSUED</td>\n",
       "      <td>RH-2</td>\n",
       "      <td>EOROPEZA</td>\n",
       "      <td>NaN</td>\n",
       "      <td>40-X</td>\n",
       "      <td>0</td>\n",
       "      <td>NaN</td>\n",
       "      <td>NaN</td>\n",
       "      <td>NaN</td>\n",
       "      <td>NaN</td>\n",
       "      <td>NaN</td>\n",
       "      <td>NaN</td>\n",
       "      <td>NaN</td>\n",
       "      <td>1218 TREAT AV San Francisco, CA</td>\n",
       "      <td>NaN</td>\n",
       "      <td>NaN</td>\n",
       "      <td>NaN</td>\n",
       "    </tr>\n",
       "  </tbody>\n",
       "</table>\n",
       "</div>"
      ],
      "text/plain": [
       "             X            Y  OBJECTID_1  OBJECTID PLANAREA   ACTDATE  YEAR  \\\n",
       "0  6005822.338  2104358.321         389       608  Mission  6/1/2009  2009   \n",
       "1  6000451.148  2114764.120        4139       969      NaN  7/1/2009  2009   \n",
       "2  5992750.911  2104090.111          23       913      NaN  8/1/2009  2009   \n",
       "3  6005733.081  2100189.099         409       929      NaN  8/1/2009  2009   \n",
       "4  6008647.518  2101419.641        1472       607  Mission  8/1/2009  2009   \n",
       "\n",
       "         APP_NO    APP_ID  NUMBER STREET ST_TYPE  \\\n",
       "0  2.010000e+11  657033.0    3676   20TH      ST   \n",
       "1  2.010000e+11  600372.0    2815   PINE      ST   \n",
       "2  2.000000e+11  515343.0    1675   11TH      AV   \n",
       "3  2.010000e+11  565195.0     119   27TH      ST   \n",
       "4  2.010000e+11  614915.0    1218  TREAT      AV   \n",
       "\n",
       "                                            DESCRIPT           PROP_USE  PD  \\\n",
       "0  ADD STORY TO HOUSE, MAKE 2 UNITS.  REVISION TO...  2 FAMILY DWELLING   8   \n",
       "1  TO COMPLY WITH HIS NOV 199602226. LEGALIZE SEC...  2 FAMILY DWELLING   5   \n",
       "2  HORIZONTAL AND VERTICAL ADDITION WHILE ADDING ...  2 FAMILY DWELLING  14   \n",
       "3  SCOPE IS TO LEGALIZE /CONVERT GRD FL CHURCH SP...  2 FAMILY DWELLING   7   \n",
       "4            ERECT 3 STORY TYPE 5 2 FAMILY DWELLINGS  2 FAMILY DWELLING   1   \n",
       "\n",
       "   SD BLOCK LOT BLOCKLOT  NETUNITS  UNITS      FILEDT  FM            EXT_USE  \\\n",
       "0   8  3597  26  3597026         1      2    3/6/2008   8  1 FAMILY DWELLING   \n",
       "1   5  1048  34  1048034         1      2  28/11/2006   3  1 FAMILY DWELLING   \n",
       "2   7  1932  13  1932013         1      2  15/06/2004   3  1 FAMILY DWELLING   \n",
       "3   8  6594  43  6594043         1      2  23/11/2005   3  1 FAMILY DWELLING   \n",
       "4   9  6524   4  6524004         2      2    2/5/2007   2                NaN   \n",
       "\n",
       "                 ACTION       ZONING     STAFF AFFORD HEIGHT  AFF_HSG  \\\n",
       "0  FINAL INSPECT/APPRVD  RTO-Mission    MWOODS    NaN   55-X        0   \n",
       "1            CFC ISSUED         RH-2  DLINDSAY    NaN   40-X        0   \n",
       "2             PRE-FINAL         RH-2    MSMITH    NaN   40-X        0   \n",
       "3  FINAL INSPECT/APPRVD         RH-2     TWANG    NaN   40-X        0   \n",
       "4            CFC ISSUED         RH-2  EOROPEZA    NaN   40-X        0   \n",
       "\n",
       "   DEV_NAME  AFF_NOTES  AFF_TARGET  MERGELEGAL  GENZONE  TENURE  AFF_GROUP  \\\n",
       "0       NaN        NaN         NaN         NaN      NaN     NaN        NaN   \n",
       "1       NaN        NaN         NaN         NaN      NaN     NaN        NaN   \n",
       "2       NaN        NaN         NaN         NaN      NaN     NaN        NaN   \n",
       "3       NaN        NaN         NaN         NaN      NaN     NaN        NaN   \n",
       "4       NaN        NaN         NaN         NaN      NaN     NaN        NaN   \n",
       "\n",
       "                           ADDRESS  supervisor  supname  Distance  \n",
       "0   3676 20TH ST San Francisco, CA         NaN      NaN       NaN  \n",
       "1   2815 PINE ST San Francisco, CA         NaN      NaN       NaN  \n",
       "2   1675 11TH AV San Francisco, CA         NaN      NaN       NaN  \n",
       "3    119 27TH ST San Francisco, CA         NaN      NaN       NaN  \n",
       "4  1218 TREAT AV San Francisco, CA         NaN      NaN       NaN  "
      ]
     },
     "execution_count": 47,
     "metadata": {},
     "output_type": "execute_result"
    }
   ],
   "source": [
    "hu09.head()"
   ]
  },
  {
   "cell_type": "code",
   "execution_count": null,
   "metadata": {
    "collapsed": false
   },
   "outputs": [],
   "source": [
    "hu09['LAT'] = hu09['ADDRESS'].apply(lambda value: geocoder.google(value).lat)"
   ]
  },
  {
   "cell_type": "code",
   "execution_count": null,
   "metadata": {
    "collapsed": false
   },
   "outputs": [],
   "source": [
    "t= geocoder.google(hu09['ADDRESS'][0])\n"
   ]
  },
  {
   "cell_type": "code",
   "execution_count": null,
   "metadata": {
    "collapsed": false
   },
   "outputs": [],
   "source": [
    "hu09['LON'] = hu09['ADDRESS'].apply(lambda value:  geocoder.google(value).lng)"
   ]
  },
  {
   "cell_type": "code",
   "execution_count": null,
   "metadata": {
    "collapsed": false
   },
   "outputs": [],
   "source": [
    "t.geometry"
   ]
  },
  {
   "cell_type": "code",
   "execution_count": null,
   "metadata": {
    "collapsed": true
   },
   "outputs": [],
   "source": [
    "#hu09['geometry'] = hu09['ADDRESS'].apply(lambda value: geocoder.google(value).geometry)"
   ]
  },
  {
   "cell_type": "code",
   "execution_count": null,
   "metadata": {
    "collapsed": false
   },
   "outputs": [],
   "source": []
  },
  {
   "cell_type": "code",
   "execution_count": null,
   "metadata": {
    "collapsed": true
   },
   "outputs": [],
   "source": []
  },
  {
   "cell_type": "code",
   "execution_count": null,
   "metadata": {
    "collapsed": false
   },
   "outputs": [],
   "source": []
  },
  {
   "cell_type": "code",
   "execution_count": null,
   "metadata": {
    "collapsed": false,
    "scrolled": true
   },
   "outputs": [],
   "source": [
    "hu09['geometry'] = [Point(xy) for xy in zip(hu09.LON, hu09.LAT)]"
   ]
  },
  {
   "cell_type": "code",
   "execution_count": null,
   "metadata": {
    "collapsed": false
   },
   "outputs": [],
   "source": [
    "hu09['LAT'].head()"
   ]
  },
  {
   "cell_type": "code",
   "execution_count": null,
   "metadata": {
    "collapsed": false
   },
   "outputs": [],
   "source": [
    "hu09_geo = gp.GeoDataFrame(hu09)\n"
   ]
  },
  {
   "cell_type": "code",
   "execution_count": null,
   "metadata": {
    "collapsed": true
   },
   "outputs": [],
   "source": [
    "hu09_geo.crs = {'init':'epsg:4326'}"
   ]
  },
  {
   "cell_type": "code",
   "execution_count": null,
   "metadata": {
    "collapsed": false
   },
   "outputs": [],
   "source": [
    "hu09_geo.plot()"
   ]
  },
  {
   "cell_type": "code",
   "execution_count": null,
   "metadata": {
    "collapsed": false
   },
   "outputs": [],
   "source": []
  },
  {
   "cell_type": "code",
   "execution_count": null,
   "metadata": {
    "collapsed": false
   },
   "outputs": [],
   "source": [
    "len(hu09)"
   ]
  },
  {
   "cell_type": "code",
   "execution_count": null,
   "metadata": {
    "collapsed": true
   },
   "outputs": [],
   "source": [
    "hu09_geo.to_file('housing_units_change09.shp',driver = 'ESRI Shapefile')"
   ]
  },
  {
   "cell_type": "code",
   "execution_count": null,
   "metadata": {
    "collapsed": false
   },
   "outputs": [],
   "source": []
  },
  {
   "cell_type": "code",
   "execution_count": null,
   "metadata": {
    "collapsed": true
   },
   "outputs": [],
   "source": [
    "blocks = gp.read_file('E:/Transit-Casa-Alex/Input/Population and Housing Units (Blocks)/2010/SF/San_Fran_Pop_HU.shp')"
   ]
  },
  {
   "cell_type": "code",
   "execution_count": null,
   "metadata": {
    "collapsed": false
   },
   "outputs": [],
   "source": [
    "hu09_geo = hu09_geo.to_crs = blocks.crs"
   ]
  },
  {
   "cell_type": "code",
   "execution_count": null,
   "metadata": {
    "collapsed": false
   },
   "outputs": [],
   "source": [
    "final = gp.sjoin(hu09_geo,blocks, how= 'left')"
   ]
  },
  {
   "cell_type": "code",
   "execution_count": null,
   "metadata": {
    "collapsed": false
   },
   "outputs": [],
   "source": [
    "final.plot()"
   ]
  },
  {
   "cell_type": "code",
   "execution_count": null,
   "metadata": {
    "collapsed": false
   },
   "outputs": [],
   "source": [
    "final.head()"
   ]
  },
  {
   "cell_type": "code",
   "execution_count": null,
   "metadata": {
    "collapsed": false
   },
   "outputs": [],
   "source": [
    "net_change = final[['NETUNITS','GEOID10']].groupby(by = 'GEOID10',as_index = False).sum()"
   ]
  },
  {
   "cell_type": "code",
   "execution_count": null,
   "metadata": {
    "collapsed": true
   },
   "outputs": [],
   "source": []
  },
  {
   "cell_type": "code",
   "execution_count": null,
   "metadata": {
    "collapsed": false,
    "scrolled": true
   },
   "outputs": [],
   "source": [
    "final2.head(20)"
   ]
  },
  {
   "cell_type": "code",
   "execution_count": null,
   "metadata": {
    "collapsed": false
   },
   "outputs": [],
   "source": [
    "final2 ['NETUNITS'] = final2.NETUNITS.fillna(0)"
   ]
  },
  {
   "cell_type": "code",
   "execution_count": 142,
   "metadata": {
    "collapsed": false
   },
   "outputs": [],
   "source": [
    "final2['HU09'] = final2['HOUSING10'] + final2['NETUNITS']"
   ]
  },
  {
   "cell_type": "code",
   "execution_count": 144,
   "metadata": {
    "collapsed": false
   },
   "outputs": [
    {
     "data": {
      "text/plain": [
       "array([   0.,    3.,   -2.,    2.,    1.,   -3.,   23.,    6.,    8.,\n",
       "         -1.,    7.,  440.,   53.,   69.,    5.,  -11.,  413.,  420.,\n",
       "         50.,   35.,   12.,   -6.,   -5.,   75.,  136.,   67.,  138.,\n",
       "         -4.,   83.,   65.,  122.,   48.,    9.,   11.,    4.,   18.,\n",
       "        192.,   98.,   56.])"
      ]
     },
     "execution_count": 144,
     "metadata": {},
     "output_type": "execute_result"
    }
   ],
   "source": [
    "final2.NETUNITS.unique()"
   ]
  },
  {
   "cell_type": "code",
   "execution_count": 146,
   "metadata": {
    "collapsed": false
   },
   "outputs": [],
   "source": [
    "final2['HU09'] = final2['HU09'].clip(lower = 0)"
   ]
  },
  {
   "cell_type": "code",
   "execution_count": 147,
   "metadata": {
    "collapsed": false
   },
   "outputs": [
    {
     "data": {
      "text/html": [
       "<div>\n",
       "<table border=\"1\" class=\"dataframe\">\n",
       "  <thead>\n",
       "    <tr style=\"text-align: right;\">\n",
       "      <th></th>\n",
       "      <th>ALAND10</th>\n",
       "      <th>AWATER10</th>\n",
       "      <th>BLOCKCE</th>\n",
       "      <th>BLOCKCE10</th>\n",
       "      <th>BLOCKID10</th>\n",
       "      <th>BLOCK_ID</th>\n",
       "      <th>COUNTYFP10</th>\n",
       "      <th>COUNTYFP_1</th>\n",
       "      <th>EDHLTH_RAC</th>\n",
       "      <th>EDHLTH_WAC</th>\n",
       "      <th>EMP_RAC</th>\n",
       "      <th>EMP_WAC</th>\n",
       "      <th>FUNCSTAT10</th>\n",
       "      <th>GEOID10</th>\n",
       "      <th>HOUSING10</th>\n",
       "      <th>INTPTLAT10</th>\n",
       "      <th>INTPTLON10</th>\n",
       "      <th>LEISER_RAC</th>\n",
       "      <th>LEISER_WAC</th>\n",
       "      <th>MTFCC10</th>\n",
       "      <th>NAME10</th>\n",
       "      <th>OTHER_RAC</th>\n",
       "      <th>OTHER_WAC</th>\n",
       "      <th>PARTFLG</th>\n",
       "      <th>POP10</th>\n",
       "      <th>RETAIL_RAC</th>\n",
       "      <th>RETAIL_WAC</th>\n",
       "      <th>STATEFP10_</th>\n",
       "      <th>STATEFP1_1</th>\n",
       "      <th>TRACTCE10_</th>\n",
       "      <th>TRACTCE1_1</th>\n",
       "      <th>UACE10</th>\n",
       "      <th>UATYP10</th>\n",
       "      <th>UR10</th>\n",
       "      <th>Unnamed_ 0</th>\n",
       "      <th>Unnamed__1</th>\n",
       "      <th>createda_1</th>\n",
       "      <th>createdate</th>\n",
       "      <th>geometry</th>\n",
       "      <th>geometry_y</th>\n",
       "      <th>h_geocode</th>\n",
       "      <th>w_geocode</th>\n",
       "      <th>NETUNITS</th>\n",
       "      <th>HU09</th>\n",
       "    </tr>\n",
       "  </thead>\n",
       "  <tbody>\n",
       "    <tr>\n",
       "      <th>0</th>\n",
       "      <td>13606.0</td>\n",
       "      <td>0.0</td>\n",
       "      <td>3028</td>\n",
       "      <td>3028.0</td>\n",
       "      <td>6.075031e+13</td>\n",
       "      <td>6.075031e+13</td>\n",
       "      <td>075</td>\n",
       "      <td>75.0</td>\n",
       "      <td>5.0</td>\n",
       "      <td>0.0</td>\n",
       "      <td>28.0</td>\n",
       "      <td>4.0</td>\n",
       "      <td>S</td>\n",
       "      <td>6.075031e+13</td>\n",
       "      <td>33</td>\n",
       "      <td>37.711634</td>\n",
       "      <td>-122.468893</td>\n",
       "      <td>7.0</td>\n",
       "      <td>0.0</td>\n",
       "      <td>G5040</td>\n",
       "      <td>Block 3028</td>\n",
       "      <td>13.0</td>\n",
       "      <td>4.0</td>\n",
       "      <td>N</td>\n",
       "      <td>116</td>\n",
       "      <td>3.0</td>\n",
       "      <td>0.0</td>\n",
       "      <td>06</td>\n",
       "      <td>6.0</td>\n",
       "      <td>031302</td>\n",
       "      <td>31302.0</td>\n",
       "      <td>78904.0</td>\n",
       "      <td>U</td>\n",
       "      <td>U</td>\n",
       "      <td>4707.0</td>\n",
       "      <td>4707.0</td>\n",
       "      <td>20160228.0</td>\n",
       "      <td>20160228.0</td>\n",
       "      <td>POLYGON ((-122.469306 37.712526, -122.468748 3...</td>\n",
       "      <td>POLYGON ((-122.469306 37.712526, -122.468748 3...</td>\n",
       "      <td>6.075031e+13</td>\n",
       "      <td>6.075031e+13</td>\n",
       "      <td>0.0</td>\n",
       "      <td>33.0</td>\n",
       "    </tr>\n",
       "    <tr>\n",
       "      <th>1</th>\n",
       "      <td>133856.0</td>\n",
       "      <td>0.0</td>\n",
       "      <td>6025</td>\n",
       "      <td>6025.0</td>\n",
       "      <td>6.075026e+13</td>\n",
       "      <td>6.075026e+13</td>\n",
       "      <td>075</td>\n",
       "      <td>75.0</td>\n",
       "      <td>2.0</td>\n",
       "      <td>0.0</td>\n",
       "      <td>13.0</td>\n",
       "      <td>4.0</td>\n",
       "      <td>S</td>\n",
       "      <td>6.075026e+13</td>\n",
       "      <td>1</td>\n",
       "      <td>37.725038</td>\n",
       "      <td>-122.444836</td>\n",
       "      <td>3.0</td>\n",
       "      <td>0.0</td>\n",
       "      <td>G5040</td>\n",
       "      <td>Block 6025</td>\n",
       "      <td>8.0</td>\n",
       "      <td>1.0</td>\n",
       "      <td>N</td>\n",
       "      <td>1</td>\n",
       "      <td>0.0</td>\n",
       "      <td>3.0</td>\n",
       "      <td>06</td>\n",
       "      <td>6.0</td>\n",
       "      <td>025500</td>\n",
       "      <td>25500.0</td>\n",
       "      <td>78904.0</td>\n",
       "      <td>U</td>\n",
       "      <td>U</td>\n",
       "      <td>1287.0</td>\n",
       "      <td>1287.0</td>\n",
       "      <td>20160228.0</td>\n",
       "      <td>20160228.0</td>\n",
       "      <td>POLYGON ((-122.442387 37.725793, -122.443066 3...</td>\n",
       "      <td>POLYGON ((-122.442387 37.725793, -122.443066 3...</td>\n",
       "      <td>6.075026e+13</td>\n",
       "      <td>6.075026e+13</td>\n",
       "      <td>0.0</td>\n",
       "      <td>1.0</td>\n",
       "    </tr>\n",
       "    <tr>\n",
       "      <th>2</th>\n",
       "      <td>14510.0</td>\n",
       "      <td>0.0</td>\n",
       "      <td>1010</td>\n",
       "      <td>1010.0</td>\n",
       "      <td>6.075026e+13</td>\n",
       "      <td>6.075026e+13</td>\n",
       "      <td>075</td>\n",
       "      <td>75.0</td>\n",
       "      <td>24.0</td>\n",
       "      <td>0.0</td>\n",
       "      <td>118.0</td>\n",
       "      <td>2.0</td>\n",
       "      <td>S</td>\n",
       "      <td>6.075026e+13</td>\n",
       "      <td>64</td>\n",
       "      <td>37.721304</td>\n",
       "      <td>-122.439586</td>\n",
       "      <td>16.0</td>\n",
       "      <td>0.0</td>\n",
       "      <td>G5040</td>\n",
       "      <td>Block 1010</td>\n",
       "      <td>66.0</td>\n",
       "      <td>2.0</td>\n",
       "      <td>N</td>\n",
       "      <td>237</td>\n",
       "      <td>12.0</td>\n",
       "      <td>0.0</td>\n",
       "      <td>06</td>\n",
       "      <td>6.0</td>\n",
       "      <td>026100</td>\n",
       "      <td>26100.0</td>\n",
       "      <td>78904.0</td>\n",
       "      <td>U</td>\n",
       "      <td>U</td>\n",
       "      <td>4710.0</td>\n",
       "      <td>4710.0</td>\n",
       "      <td>20160228.0</td>\n",
       "      <td>20160228.0</td>\n",
       "      <td>POLYGON ((-122.439127 37.720972, -122.439382 3...</td>\n",
       "      <td>POLYGON ((-122.439127 37.720972, -122.439382 3...</td>\n",
       "      <td>6.075026e+13</td>\n",
       "      <td>6.075026e+13</td>\n",
       "      <td>0.0</td>\n",
       "      <td>64.0</td>\n",
       "    </tr>\n",
       "    <tr>\n",
       "      <th>3</th>\n",
       "      <td>10639.0</td>\n",
       "      <td>0.0</td>\n",
       "      <td>1001</td>\n",
       "      <td>1001.0</td>\n",
       "      <td>6.075020e+13</td>\n",
       "      <td>6.075020e+13</td>\n",
       "      <td>075</td>\n",
       "      <td>75.0</td>\n",
       "      <td>0.0</td>\n",
       "      <td>0.0</td>\n",
       "      <td>1.0</td>\n",
       "      <td>115.0</td>\n",
       "      <td>S</td>\n",
       "      <td>6.075020e+13</td>\n",
       "      <td>0</td>\n",
       "      <td>37.774160</td>\n",
       "      <td>-122.419404</td>\n",
       "      <td>0.0</td>\n",
       "      <td>0.0</td>\n",
       "      <td>G5040</td>\n",
       "      <td>Block 1001</td>\n",
       "      <td>1.0</td>\n",
       "      <td>36.0</td>\n",
       "      <td>N</td>\n",
       "      <td>0</td>\n",
       "      <td>0.0</td>\n",
       "      <td>79.0</td>\n",
       "      <td>06</td>\n",
       "      <td>6.0</td>\n",
       "      <td>020100</td>\n",
       "      <td>20100.0</td>\n",
       "      <td>78904.0</td>\n",
       "      <td>U</td>\n",
       "      <td>U</td>\n",
       "      <td>1516.0</td>\n",
       "      <td>1516.0</td>\n",
       "      <td>20160228.0</td>\n",
       "      <td>20160228.0</td>\n",
       "      <td>POLYGON ((-122.418618 37.773053, -122.418855 3...</td>\n",
       "      <td>POLYGON ((-122.418618 37.773053, -122.418855 3...</td>\n",
       "      <td>6.075020e+13</td>\n",
       "      <td>6.075020e+13</td>\n",
       "      <td>0.0</td>\n",
       "      <td>0.0</td>\n",
       "    </tr>\n",
       "    <tr>\n",
       "      <th>4</th>\n",
       "      <td>14524.0</td>\n",
       "      <td>0.0</td>\n",
       "      <td>2006</td>\n",
       "      <td>2006.0</td>\n",
       "      <td>6.075018e+13</td>\n",
       "      <td>6.075018e+13</td>\n",
       "      <td>075</td>\n",
       "      <td>75.0</td>\n",
       "      <td>4.0</td>\n",
       "      <td>0.0</td>\n",
       "      <td>17.0</td>\n",
       "      <td>296.0</td>\n",
       "      <td>S</td>\n",
       "      <td>6.075018e+13</td>\n",
       "      <td>145</td>\n",
       "      <td>37.774138</td>\n",
       "      <td>-122.412692</td>\n",
       "      <td>2.0</td>\n",
       "      <td>2.0</td>\n",
       "      <td>G5040</td>\n",
       "      <td>Block 2006</td>\n",
       "      <td>9.0</td>\n",
       "      <td>263.0</td>\n",
       "      <td>N</td>\n",
       "      <td>196</td>\n",
       "      <td>2.0</td>\n",
       "      <td>31.0</td>\n",
       "      <td>06</td>\n",
       "      <td>6.0</td>\n",
       "      <td>017802</td>\n",
       "      <td>17802.0</td>\n",
       "      <td>78904.0</td>\n",
       "      <td>U</td>\n",
       "      <td>U</td>\n",
       "      <td>1294.0</td>\n",
       "      <td>1294.0</td>\n",
       "      <td>20160228.0</td>\n",
       "      <td>20160228.0</td>\n",
       "      <td>POLYGON ((-122.413587 37.77466, -122.413161 37...</td>\n",
       "      <td>POLYGON ((-122.413587 37.77466, -122.413161 37...</td>\n",
       "      <td>6.075018e+13</td>\n",
       "      <td>6.075018e+13</td>\n",
       "      <td>0.0</td>\n",
       "      <td>145.0</td>\n",
       "    </tr>\n",
       "  </tbody>\n",
       "</table>\n",
       "</div>"
      ],
      "text/plain": [
       "    ALAND10  AWATER10 BLOCKCE  BLOCKCE10     BLOCKID10      BLOCK_ID  \\\n",
       "0   13606.0       0.0    3028     3028.0  6.075031e+13  6.075031e+13   \n",
       "1  133856.0       0.0    6025     6025.0  6.075026e+13  6.075026e+13   \n",
       "2   14510.0       0.0    1010     1010.0  6.075026e+13  6.075026e+13   \n",
       "3   10639.0       0.0    1001     1001.0  6.075020e+13  6.075020e+13   \n",
       "4   14524.0       0.0    2006     2006.0  6.075018e+13  6.075018e+13   \n",
       "\n",
       "  COUNTYFP10  COUNTYFP_1  EDHLTH_RAC  EDHLTH_WAC  EMP_RAC  EMP_WAC FUNCSTAT10  \\\n",
       "0        075        75.0         5.0         0.0     28.0      4.0          S   \n",
       "1        075        75.0         2.0         0.0     13.0      4.0          S   \n",
       "2        075        75.0        24.0         0.0    118.0      2.0          S   \n",
       "3        075        75.0         0.0         0.0      1.0    115.0          S   \n",
       "4        075        75.0         4.0         0.0     17.0    296.0          S   \n",
       "\n",
       "        GEOID10  HOUSING10  INTPTLAT10  INTPTLON10  LEISER_RAC  LEISER_WAC  \\\n",
       "0  6.075031e+13         33   37.711634 -122.468893         7.0         0.0   \n",
       "1  6.075026e+13          1   37.725038 -122.444836         3.0         0.0   \n",
       "2  6.075026e+13         64   37.721304 -122.439586        16.0         0.0   \n",
       "3  6.075020e+13          0   37.774160 -122.419404         0.0         0.0   \n",
       "4  6.075018e+13        145   37.774138 -122.412692         2.0         2.0   \n",
       "\n",
       "  MTFCC10      NAME10  OTHER_RAC  OTHER_WAC PARTFLG  POP10  RETAIL_RAC  \\\n",
       "0   G5040  Block 3028       13.0        4.0       N    116         3.0   \n",
       "1   G5040  Block 6025        8.0        1.0       N      1         0.0   \n",
       "2   G5040  Block 1010       66.0        2.0       N    237        12.0   \n",
       "3   G5040  Block 1001        1.0       36.0       N      0         0.0   \n",
       "4   G5040  Block 2006        9.0      263.0       N    196         2.0   \n",
       "\n",
       "   RETAIL_WAC STATEFP10_  STATEFP1_1 TRACTCE10_  TRACTCE1_1   UACE10 UATYP10  \\\n",
       "0         0.0         06         6.0     031302     31302.0  78904.0       U   \n",
       "1         3.0         06         6.0     025500     25500.0  78904.0       U   \n",
       "2         0.0         06         6.0     026100     26100.0  78904.0       U   \n",
       "3        79.0         06         6.0     020100     20100.0  78904.0       U   \n",
       "4        31.0         06         6.0     017802     17802.0  78904.0       U   \n",
       "\n",
       "  UR10  Unnamed_ 0  Unnamed__1  createda_1  createdate  \\\n",
       "0    U      4707.0      4707.0  20160228.0  20160228.0   \n",
       "1    U      1287.0      1287.0  20160228.0  20160228.0   \n",
       "2    U      4710.0      4710.0  20160228.0  20160228.0   \n",
       "3    U      1516.0      1516.0  20160228.0  20160228.0   \n",
       "4    U      1294.0      1294.0  20160228.0  20160228.0   \n",
       "\n",
       "                                            geometry  \\\n",
       "0  POLYGON ((-122.469306 37.712526, -122.468748 3...   \n",
       "1  POLYGON ((-122.442387 37.725793, -122.443066 3...   \n",
       "2  POLYGON ((-122.439127 37.720972, -122.439382 3...   \n",
       "3  POLYGON ((-122.418618 37.773053, -122.418855 3...   \n",
       "4  POLYGON ((-122.413587 37.77466, -122.413161 37...   \n",
       "\n",
       "                                          geometry_y     h_geocode  \\\n",
       "0  POLYGON ((-122.469306 37.712526, -122.468748 3...  6.075031e+13   \n",
       "1  POLYGON ((-122.442387 37.725793, -122.443066 3...  6.075026e+13   \n",
       "2  POLYGON ((-122.439127 37.720972, -122.439382 3...  6.075026e+13   \n",
       "3  POLYGON ((-122.418618 37.773053, -122.418855 3...  6.075020e+13   \n",
       "4  POLYGON ((-122.413587 37.77466, -122.413161 37...  6.075018e+13   \n",
       "\n",
       "      w_geocode  NETUNITS   HU09  \n",
       "0  6.075031e+13       0.0   33.0  \n",
       "1  6.075026e+13       0.0    1.0  \n",
       "2  6.075026e+13       0.0   64.0  \n",
       "3  6.075020e+13       0.0    0.0  \n",
       "4  6.075018e+13       0.0  145.0  "
      ]
     },
     "execution_count": 147,
     "metadata": {},
     "output_type": "execute_result"
    }
   ],
   "source": [
    "final2.head()"
   ]
  },
  {
   "cell_type": "code",
   "execution_count": null,
   "metadata": {
    "collapsed": false,
    "scrolled": true
   },
   "outputs": [],
   "source": []
  },
  {
   "cell_type": "code",
   "execution_count": null,
   "metadata": {
    "collapsed": false
   },
   "outputs": [],
   "source": []
  },
  {
   "cell_type": "markdown",
   "metadata": {
    "collapsed": true
   },
   "source": [
    "# Pivoting from 2010 to 2009 "
   ]
  },
  {
   "cell_type": "code",
   "execution_count": 109,
   "metadata": {
    "collapsed": false
   },
   "outputs": [],
   "source": [
    "hu = gp.read_file('E:/Transit-Casa-Alex/Input/Population and Housing Units (Blocks)/2010/SF/San_Fran_Pop_HU.shp')"
   ]
  },
  {
   "cell_type": "code",
   "execution_count": 110,
   "metadata": {
    "collapsed": false
   },
   "outputs": [],
   "source": [
    "change = gp.read_file('E:/Transit-Casa-Alex/Output/Housing Inventory/2009/2009_housing_units_change.shp')"
   ]
  },
  {
   "cell_type": "code",
   "execution_count": 4,
   "metadata": {
    "collapsed": false
   },
   "outputs": [
    {
     "data": {
      "text/html": [
       "<div>\n",
       "<table border=\"1\" class=\"dataframe\">\n",
       "  <thead>\n",
       "    <tr style=\"text-align: right;\">\n",
       "      <th></th>\n",
       "      <th>ALAND10_x</th>\n",
       "      <th>ALAND10_y</th>\n",
       "      <th>AWATER10</th>\n",
       "      <th>BLOCKCE</th>\n",
       "      <th>BLOCKCE10</th>\n",
       "      <th>BLOCKID10</th>\n",
       "      <th>BLOCK_ID</th>\n",
       "      <th>COUNTYFP10</th>\n",
       "      <th>COUNTYFP_1</th>\n",
       "      <th>EDHLTH_RAC</th>\n",
       "      <th>EDHLTH_WAC</th>\n",
       "      <th>EMP_RAC</th>\n",
       "      <th>EMP_WAC</th>\n",
       "      <th>FUNCSTAT10</th>\n",
       "      <th>GEOID10</th>\n",
       "      <th>HOUSING16</th>\n",
       "      <th>INTPTLAT10</th>\n",
       "      <th>INTPTLON10</th>\n",
       "      <th>LEISER_RAC</th>\n",
       "      <th>LEISER_WAC</th>\n",
       "      <th>MTFCC10</th>\n",
       "      <th>NAME10</th>\n",
       "      <th>OTHER_RAC</th>\n",
       "      <th>OTHER_WAC</th>\n",
       "      <th>PARTFLG</th>\n",
       "      <th>RETAIL_RAC</th>\n",
       "      <th>RETAIL_WAC</th>\n",
       "      <th>STATEFP10_</th>\n",
       "      <th>STATEFP1_1</th>\n",
       "      <th>TRACTCE10_</th>\n",
       "      <th>TRACTCE1_1</th>\n",
       "      <th>UACE10</th>\n",
       "      <th>UATYP10</th>\n",
       "      <th>UR10</th>\n",
       "      <th>Unnamed_ 0</th>\n",
       "      <th>createda_1</th>\n",
       "      <th>createdate</th>\n",
       "      <th>geometry</th>\n",
       "      <th>geometry_y</th>\n",
       "      <th>h_geocode</th>\n",
       "      <th>w_geocode</th>\n",
       "    </tr>\n",
       "  </thead>\n",
       "  <tbody>\n",
       "    <tr>\n",
       "      <th>0</th>\n",
       "      <td>1.464361e+05</td>\n",
       "      <td>13606.0</td>\n",
       "      <td>0.0</td>\n",
       "      <td>3028</td>\n",
       "      <td>3028.0</td>\n",
       "      <td>6.075031e+13</td>\n",
       "      <td>6.075031e+13</td>\n",
       "      <td>075</td>\n",
       "      <td>75.0</td>\n",
       "      <td>5.0</td>\n",
       "      <td>0.0</td>\n",
       "      <td>28.0</td>\n",
       "      <td>4.0</td>\n",
       "      <td>S</td>\n",
       "      <td>6.075031e+13</td>\n",
       "      <td>32.0</td>\n",
       "      <td>37.711634</td>\n",
       "      <td>-122.468893</td>\n",
       "      <td>7.0</td>\n",
       "      <td>0.0</td>\n",
       "      <td>G5040</td>\n",
       "      <td>Block 3028</td>\n",
       "      <td>13.0</td>\n",
       "      <td>4.0</td>\n",
       "      <td>N</td>\n",
       "      <td>3.0</td>\n",
       "      <td>0.0</td>\n",
       "      <td>06</td>\n",
       "      <td>6.0</td>\n",
       "      <td>031302</td>\n",
       "      <td>31302.0</td>\n",
       "      <td>78904.0</td>\n",
       "      <td>U</td>\n",
       "      <td>U</td>\n",
       "      <td>4707.0</td>\n",
       "      <td>20160228.0</td>\n",
       "      <td>20160228.0</td>\n",
       "      <td>POLYGON ((-122.469306 37.71252599999976, -122....</td>\n",
       "      <td>POLYGON ((-122.469306 37.712526, -122.468748 3...</td>\n",
       "      <td>6.075031e+13</td>\n",
       "      <td>6.075031e+13</td>\n",
       "    </tr>\n",
       "    <tr>\n",
       "      <th>1</th>\n",
       "      <td>1.440598e+06</td>\n",
       "      <td>133856.0</td>\n",
       "      <td>0.0</td>\n",
       "      <td>6025</td>\n",
       "      <td>6025.0</td>\n",
       "      <td>6.075026e+13</td>\n",
       "      <td>6.075026e+13</td>\n",
       "      <td>075</td>\n",
       "      <td>75.0</td>\n",
       "      <td>2.0</td>\n",
       "      <td>0.0</td>\n",
       "      <td>13.0</td>\n",
       "      <td>4.0</td>\n",
       "      <td>S</td>\n",
       "      <td>6.075026e+13</td>\n",
       "      <td>1.0</td>\n",
       "      <td>37.725038</td>\n",
       "      <td>-122.444836</td>\n",
       "      <td>3.0</td>\n",
       "      <td>0.0</td>\n",
       "      <td>G5040</td>\n",
       "      <td>Block 6025</td>\n",
       "      <td>8.0</td>\n",
       "      <td>1.0</td>\n",
       "      <td>N</td>\n",
       "      <td>0.0</td>\n",
       "      <td>3.0</td>\n",
       "      <td>06</td>\n",
       "      <td>6.0</td>\n",
       "      <td>025500</td>\n",
       "      <td>25500.0</td>\n",
       "      <td>78904.0</td>\n",
       "      <td>U</td>\n",
       "      <td>U</td>\n",
       "      <td>1287.0</td>\n",
       "      <td>20160228.0</td>\n",
       "      <td>20160228.0</td>\n",
       "      <td>POLYGON ((-122.442387 37.72579299999975, -122....</td>\n",
       "      <td>POLYGON ((-122.442387 37.725793, -122.443066 3...</td>\n",
       "      <td>6.075026e+13</td>\n",
       "      <td>6.075026e+13</td>\n",
       "    </tr>\n",
       "    <tr>\n",
       "      <th>2</th>\n",
       "      <td>1.561624e+05</td>\n",
       "      <td>14510.0</td>\n",
       "      <td>0.0</td>\n",
       "      <td>1010</td>\n",
       "      <td>1010.0</td>\n",
       "      <td>6.075026e+13</td>\n",
       "      <td>6.075026e+13</td>\n",
       "      <td>075</td>\n",
       "      <td>75.0</td>\n",
       "      <td>24.0</td>\n",
       "      <td>0.0</td>\n",
       "      <td>118.0</td>\n",
       "      <td>2.0</td>\n",
       "      <td>S</td>\n",
       "      <td>6.075026e+13</td>\n",
       "      <td>64.0</td>\n",
       "      <td>37.721304</td>\n",
       "      <td>-122.439586</td>\n",
       "      <td>16.0</td>\n",
       "      <td>0.0</td>\n",
       "      <td>G5040</td>\n",
       "      <td>Block 1010</td>\n",
       "      <td>66.0</td>\n",
       "      <td>2.0</td>\n",
       "      <td>N</td>\n",
       "      <td>12.0</td>\n",
       "      <td>0.0</td>\n",
       "      <td>06</td>\n",
       "      <td>6.0</td>\n",
       "      <td>026100</td>\n",
       "      <td>26100.0</td>\n",
       "      <td>78904.0</td>\n",
       "      <td>U</td>\n",
       "      <td>U</td>\n",
       "      <td>4710.0</td>\n",
       "      <td>20160228.0</td>\n",
       "      <td>20160228.0</td>\n",
       "      <td>POLYGON ((-122.439127 37.72097199999975, -122....</td>\n",
       "      <td>POLYGON ((-122.439127 37.720972, -122.439382 3...</td>\n",
       "      <td>6.075026e+13</td>\n",
       "      <td>6.075026e+13</td>\n",
       "    </tr>\n",
       "    <tr>\n",
       "      <th>3</th>\n",
       "      <td>1.145054e+05</td>\n",
       "      <td>10639.0</td>\n",
       "      <td>0.0</td>\n",
       "      <td>1001</td>\n",
       "      <td>1001.0</td>\n",
       "      <td>6.075020e+13</td>\n",
       "      <td>6.075020e+13</td>\n",
       "      <td>075</td>\n",
       "      <td>75.0</td>\n",
       "      <td>0.0</td>\n",
       "      <td>0.0</td>\n",
       "      <td>1.0</td>\n",
       "      <td>115.0</td>\n",
       "      <td>S</td>\n",
       "      <td>6.075020e+13</td>\n",
       "      <td>0.0</td>\n",
       "      <td>37.774160</td>\n",
       "      <td>-122.419404</td>\n",
       "      <td>0.0</td>\n",
       "      <td>0.0</td>\n",
       "      <td>G5040</td>\n",
       "      <td>Block 1001</td>\n",
       "      <td>1.0</td>\n",
       "      <td>36.0</td>\n",
       "      <td>N</td>\n",
       "      <td>0.0</td>\n",
       "      <td>79.0</td>\n",
       "      <td>06</td>\n",
       "      <td>6.0</td>\n",
       "      <td>020100</td>\n",
       "      <td>20100.0</td>\n",
       "      <td>78904.0</td>\n",
       "      <td>U</td>\n",
       "      <td>U</td>\n",
       "      <td>1516.0</td>\n",
       "      <td>20160228.0</td>\n",
       "      <td>20160228.0</td>\n",
       "      <td>POLYGON ((-122.418618 37.77305299999977, -122....</td>\n",
       "      <td>POLYGON ((-122.418618 37.773053, -122.418855 3...</td>\n",
       "      <td>6.075020e+13</td>\n",
       "      <td>6.075020e+13</td>\n",
       "    </tr>\n",
       "    <tr>\n",
       "      <th>4</th>\n",
       "      <td>1.563077e+05</td>\n",
       "      <td>14524.0</td>\n",
       "      <td>0.0</td>\n",
       "      <td>2006</td>\n",
       "      <td>2006.0</td>\n",
       "      <td>6.075018e+13</td>\n",
       "      <td>6.075018e+13</td>\n",
       "      <td>075</td>\n",
       "      <td>75.0</td>\n",
       "      <td>4.0</td>\n",
       "      <td>0.0</td>\n",
       "      <td>17.0</td>\n",
       "      <td>296.0</td>\n",
       "      <td>S</td>\n",
       "      <td>6.075018e+13</td>\n",
       "      <td>161.0</td>\n",
       "      <td>37.774138</td>\n",
       "      <td>-122.412692</td>\n",
       "      <td>2.0</td>\n",
       "      <td>2.0</td>\n",
       "      <td>G5040</td>\n",
       "      <td>Block 2006</td>\n",
       "      <td>9.0</td>\n",
       "      <td>263.0</td>\n",
       "      <td>N</td>\n",
       "      <td>2.0</td>\n",
       "      <td>31.0</td>\n",
       "      <td>06</td>\n",
       "      <td>6.0</td>\n",
       "      <td>017802</td>\n",
       "      <td>17802.0</td>\n",
       "      <td>78904.0</td>\n",
       "      <td>U</td>\n",
       "      <td>U</td>\n",
       "      <td>1294.0</td>\n",
       "      <td>20160228.0</td>\n",
       "      <td>20160228.0</td>\n",
       "      <td>POLYGON ((-122.413587 37.77465999999975, -122....</td>\n",
       "      <td>POLYGON ((-122.413587 37.77466, -122.413161 37...</td>\n",
       "      <td>6.075018e+13</td>\n",
       "      <td>6.075018e+13</td>\n",
       "    </tr>\n",
       "  </tbody>\n",
       "</table>\n",
       "</div>"
      ],
      "text/plain": [
       "      ALAND10_x  ALAND10_y  AWATER10 BLOCKCE  BLOCKCE10     BLOCKID10  \\\n",
       "0  1.464361e+05    13606.0       0.0    3028     3028.0  6.075031e+13   \n",
       "1  1.440598e+06   133856.0       0.0    6025     6025.0  6.075026e+13   \n",
       "2  1.561624e+05    14510.0       0.0    1010     1010.0  6.075026e+13   \n",
       "3  1.145054e+05    10639.0       0.0    1001     1001.0  6.075020e+13   \n",
       "4  1.563077e+05    14524.0       0.0    2006     2006.0  6.075018e+13   \n",
       "\n",
       "       BLOCK_ID COUNTYFP10  COUNTYFP_1  EDHLTH_RAC  EDHLTH_WAC  EMP_RAC  \\\n",
       "0  6.075031e+13        075        75.0         5.0         0.0     28.0   \n",
       "1  6.075026e+13        075        75.0         2.0         0.0     13.0   \n",
       "2  6.075026e+13        075        75.0        24.0         0.0    118.0   \n",
       "3  6.075020e+13        075        75.0         0.0         0.0      1.0   \n",
       "4  6.075018e+13        075        75.0         4.0         0.0     17.0   \n",
       "\n",
       "   EMP_WAC FUNCSTAT10       GEOID10  HOUSING16  INTPTLAT10  INTPTLON10  \\\n",
       "0      4.0          S  6.075031e+13       32.0   37.711634 -122.468893   \n",
       "1      4.0          S  6.075026e+13        1.0   37.725038 -122.444836   \n",
       "2      2.0          S  6.075026e+13       64.0   37.721304 -122.439586   \n",
       "3    115.0          S  6.075020e+13        0.0   37.774160 -122.419404   \n",
       "4    296.0          S  6.075018e+13      161.0   37.774138 -122.412692   \n",
       "\n",
       "   LEISER_RAC  LEISER_WAC MTFCC10      NAME10  OTHER_RAC  OTHER_WAC PARTFLG  \\\n",
       "0         7.0         0.0   G5040  Block 3028       13.0        4.0       N   \n",
       "1         3.0         0.0   G5040  Block 6025        8.0        1.0       N   \n",
       "2        16.0         0.0   G5040  Block 1010       66.0        2.0       N   \n",
       "3         0.0         0.0   G5040  Block 1001        1.0       36.0       N   \n",
       "4         2.0         2.0   G5040  Block 2006        9.0      263.0       N   \n",
       "\n",
       "   RETAIL_RAC  RETAIL_WAC STATEFP10_  STATEFP1_1 TRACTCE10_  TRACTCE1_1  \\\n",
       "0         3.0         0.0         06         6.0     031302     31302.0   \n",
       "1         0.0         3.0         06         6.0     025500     25500.0   \n",
       "2        12.0         0.0         06         6.0     026100     26100.0   \n",
       "3         0.0        79.0         06         6.0     020100     20100.0   \n",
       "4         2.0        31.0         06         6.0     017802     17802.0   \n",
       "\n",
       "    UACE10 UATYP10 UR10  Unnamed_ 0  createda_1  createdate  \\\n",
       "0  78904.0       U    U      4707.0  20160228.0  20160228.0   \n",
       "1  78904.0       U    U      1287.0  20160228.0  20160228.0   \n",
       "2  78904.0       U    U      4710.0  20160228.0  20160228.0   \n",
       "3  78904.0       U    U      1516.0  20160228.0  20160228.0   \n",
       "4  78904.0       U    U      1294.0  20160228.0  20160228.0   \n",
       "\n",
       "                                            geometry  \\\n",
       "0  POLYGON ((-122.469306 37.71252599999976, -122....   \n",
       "1  POLYGON ((-122.442387 37.72579299999975, -122....   \n",
       "2  POLYGON ((-122.439127 37.72097199999975, -122....   \n",
       "3  POLYGON ((-122.418618 37.77305299999977, -122....   \n",
       "4  POLYGON ((-122.413587 37.77465999999975, -122....   \n",
       "\n",
       "                                          geometry_y     h_geocode  \\\n",
       "0  POLYGON ((-122.469306 37.712526, -122.468748 3...  6.075031e+13   \n",
       "1  POLYGON ((-122.442387 37.725793, -122.443066 3...  6.075026e+13   \n",
       "2  POLYGON ((-122.439127 37.720972, -122.439382 3...  6.075026e+13   \n",
       "3  POLYGON ((-122.418618 37.773053, -122.418855 3...  6.075020e+13   \n",
       "4  POLYGON ((-122.413587 37.77466, -122.413161 37...  6.075018e+13   \n",
       "\n",
       "      w_geocode  \n",
       "0  6.075031e+13  \n",
       "1  6.075026e+13  \n",
       "2  6.075026e+13  \n",
       "3  6.075020e+13  \n",
       "4  6.075018e+13  "
      ]
     },
     "execution_count": 4,
     "metadata": {},
     "output_type": "execute_result"
    }
   ],
   "source": [
    "hu.head()"
   ]
  },
  {
   "cell_type": "code",
   "execution_count": 19,
   "metadata": {
    "collapsed": false
   },
   "outputs": [
    {
     "data": {
      "text/html": [
       "<div>\n",
       "<table border=\"1\" class=\"dataframe\">\n",
       "  <thead>\n",
       "    <tr style=\"text-align: right;\">\n",
       "      <th></th>\n",
       "      <th>GEOID10</th>\n",
       "      <th>NETUNITS</th>\n",
       "      <th>geometry</th>\n",
       "    </tr>\n",
       "  </thead>\n",
       "  <tbody>\n",
       "    <tr>\n",
       "      <th>0</th>\n",
       "      <td>060750101001000</td>\n",
       "      <td>NaN</td>\n",
       "      <td>POLYGON ((-122.419942 37.809021, -122.419948 3...</td>\n",
       "    </tr>\n",
       "    <tr>\n",
       "      <th>1</th>\n",
       "      <td>060750101001001</td>\n",
       "      <td>NaN</td>\n",
       "      <td>POLYGON ((-122.419942 37.809021, -122.419938 3...</td>\n",
       "    </tr>\n",
       "    <tr>\n",
       "      <th>2</th>\n",
       "      <td>060750101001002</td>\n",
       "      <td>NaN</td>\n",
       "      <td>POLYGON ((-122.405659 37.806674, -122.405974 3...</td>\n",
       "    </tr>\n",
       "    <tr>\n",
       "      <th>3</th>\n",
       "      <td>060750101001003</td>\n",
       "      <td>NaN</td>\n",
       "      <td>POLYGON ((-122.407304 37.807379, -122.407548 3...</td>\n",
       "    </tr>\n",
       "    <tr>\n",
       "      <th>4</th>\n",
       "      <td>060750101001004</td>\n",
       "      <td>NaN</td>\n",
       "      <td>POLYGON ((-122.412524 37.808625, -122.414164 3...</td>\n",
       "    </tr>\n",
       "  </tbody>\n",
       "</table>\n",
       "</div>"
      ],
      "text/plain": [
       "           GEOID10  NETUNITS  \\\n",
       "0  060750101001000       NaN   \n",
       "1  060750101001001       NaN   \n",
       "2  060750101001002       NaN   \n",
       "3  060750101001003       NaN   \n",
       "4  060750101001004       NaN   \n",
       "\n",
       "                                            geometry  \n",
       "0  POLYGON ((-122.419942 37.809021, -122.419948 3...  \n",
       "1  POLYGON ((-122.419942 37.809021, -122.419938 3...  \n",
       "2  POLYGON ((-122.405659 37.806674, -122.405974 3...  \n",
       "3  POLYGON ((-122.407304 37.807379, -122.407548 3...  \n",
       "4  POLYGON ((-122.412524 37.808625, -122.414164 3...  "
      ]
     },
     "execution_count": 19,
     "metadata": {},
     "output_type": "execute_result"
    }
   ],
   "source": [
    "change.head()"
   ]
  },
  {
   "cell_type": "code",
   "execution_count": 111,
   "metadata": {
    "collapsed": false
   },
   "outputs": [],
   "source": [
    "change_grouped = change.groupby(by = 'GEOID10',as_index = False).agg({'geometry':'first','NETUNITS':'sum'})"
   ]
  },
  {
   "cell_type": "code",
   "execution_count": 112,
   "metadata": {
    "collapsed": false
   },
   "outputs": [],
   "source": [
    "change_grouped_geo = gp.GeoDataFrame(change_grouped)"
   ]
  },
  {
   "cell_type": "code",
   "execution_count": 117,
   "metadata": {
    "collapsed": false
   },
   "outputs": [
    {
     "name": "stdout",
     "output_type": "stream",
     "text": [
      "{'init': 'epsg:4326'}\n"
     ]
    }
   ],
   "source": [
    "change.crs = {'init' :'epsg:4326'}\n",
    "print(change.crs)\n",
    "hu.crs = {'init' :'epsg:4269'}\n",
    "#change.plot()"
   ]
  },
  {
   "cell_type": "code",
   "execution_count": 89,
   "metadata": {
    "collapsed": false
   },
   "outputs": [],
   "source": [
    "hu09 = hu.merge(change_grouped_geo, left_on = 'BLOCKID10',right_on = 'GEOID10')"
   ]
  },
  {
   "cell_type": "code",
   "execution_count": 118,
   "metadata": {
    "collapsed": false
   },
   "outputs": [],
   "source": [
    "change_grouped_geo.crs = {'init':'epsg:4326'}\n",
    "change_grouped_geo = change_grouped_geo.to_crs(hu.crs)"
   ]
  },
  {
   "cell_type": "code",
   "execution_count": 119,
   "metadata": {
    "collapsed": false
   },
   "outputs": [
    {
     "name": "stderr",
     "output_type": "stream",
     "text": [
      "C:\\Anaconda\\lib\\site-packages\\numpy\\lib\\function_base.py:2287: RuntimeWarning: invalid value encountered in ? (vectorized)\n",
      "  outputs = ufunc(*inputs)\n"
     ]
    }
   ],
   "source": [
    "hu09 = gp.sjoin(hu,change_grouped_geo, how = 'left',op = 'intersects')"
   ]
  },
  {
   "cell_type": "code",
   "execution_count": null,
   "metadata": {
    "collapsed": false
   },
   "outputs": [],
   "source": []
  },
  {
   "cell_type": "code",
   "execution_count": null,
   "metadata": {
    "collapsed": false
   },
   "outputs": [],
   "source": []
  },
  {
   "cell_type": "code",
   "execution_count": 93,
   "metadata": {
    "collapsed": false
   },
   "outputs": [
    {
     "data": {
      "text/plain": [
       "7386"
      ]
     },
     "execution_count": 93,
     "metadata": {},
     "output_type": "execute_result"
    }
   ],
   "source": [
    "len(change)"
   ]
  },
  {
   "cell_type": "code",
   "execution_count": 94,
   "metadata": {
    "collapsed": false
   },
   "outputs": [
    {
     "data": {
      "text/plain": [
       "7386"
      ]
     },
     "execution_count": 94,
     "metadata": {},
     "output_type": "execute_result"
    }
   ],
   "source": [
    "len(hu09)"
   ]
  },
  {
   "cell_type": "code",
   "execution_count": 95,
   "metadata": {
    "collapsed": false
   },
   "outputs": [],
   "source": [
    "hu09['NETUNITS'] = hu09['NETUNITS'].fillna(0)"
   ]
  },
  {
   "cell_type": "code",
   "execution_count": 96,
   "metadata": {
    "collapsed": false
   },
   "outputs": [
    {
     "data": {
      "text/plain": [
       "0        33\n",
       "1         1\n",
       "2        64\n",
       "3         0\n",
       "4       145\n",
       "5         0\n",
       "6       114\n",
       "7        82\n",
       "8        96\n",
       "9       135\n",
       "10        0\n",
       "11       59\n",
       "12       46\n",
       "13       80\n",
       "14        0\n",
       "15      339\n",
       "16        0\n",
       "17       94\n",
       "18       65\n",
       "19       78\n",
       "20        0\n",
       "21       84\n",
       "22        0\n",
       "23      142\n",
       "24      119\n",
       "25       41\n",
       "26       53\n",
       "27       70\n",
       "28      112\n",
       "29      148\n",
       "       ... \n",
       "7356    210\n",
       "7357      0\n",
       "7358      0\n",
       "7359     17\n",
       "7360      3\n",
       "7361      0\n",
       "7362      0\n",
       "7363      0\n",
       "7364      0\n",
       "7365      0\n",
       "7366      0\n",
       "7367      0\n",
       "7368      0\n",
       "7369      0\n",
       "7370      0\n",
       "7371      0\n",
       "7372      0\n",
       "7373      4\n",
       "7374      0\n",
       "7375      0\n",
       "7376     18\n",
       "7377      0\n",
       "7378     82\n",
       "7379     23\n",
       "7380      0\n",
       "7381      0\n",
       "7382      0\n",
       "7383      0\n",
       "7384    130\n",
       "7385      0\n",
       "Name: HOUSING10, dtype: int64"
      ]
     },
     "execution_count": 96,
     "metadata": {},
     "output_type": "execute_result"
    }
   ],
   "source": [
    "hu09.HOUSING10"
   ]
  },
  {
   "cell_type": "code",
   "execution_count": 97,
   "metadata": {
    "collapsed": false
   },
   "outputs": [],
   "source": [
    "hu09['HOUSING09'] = hu09['HOUSING10'] - hu09['NETUNITS']"
   ]
  },
  {
   "cell_type": "code",
   "execution_count": 98,
   "metadata": {
    "collapsed": false
   },
   "outputs": [
    {
     "data": {
      "text/html": [
       "<div>\n",
       "<table border=\"1\" class=\"dataframe\">\n",
       "  <thead>\n",
       "    <tr style=\"text-align: right;\">\n",
       "      <th></th>\n",
       "      <th>BLOCKCE</th>\n",
       "      <th>BLOCKID10</th>\n",
       "      <th>COUNTYFP10</th>\n",
       "      <th>HOUSING10</th>\n",
       "      <th>PARTFLG</th>\n",
       "      <th>POP10</th>\n",
       "      <th>STATEFP10</th>\n",
       "      <th>TRACTCE10</th>\n",
       "      <th>geometry_x</th>\n",
       "      <th>GEOID10</th>\n",
       "      <th>geometry_y</th>\n",
       "      <th>NETUNITS</th>\n",
       "      <th>HOUSING09</th>\n",
       "    </tr>\n",
       "  </thead>\n",
       "  <tbody>\n",
       "    <tr>\n",
       "      <th>0</th>\n",
       "      <td>3028</td>\n",
       "      <td>060750313023028</td>\n",
       "      <td>075</td>\n",
       "      <td>33</td>\n",
       "      <td>N</td>\n",
       "      <td>116</td>\n",
       "      <td>06</td>\n",
       "      <td>031302</td>\n",
       "      <td>POLYGON ((-122.469306 37.712526, -122.468748 3...</td>\n",
       "      <td>060750313023028</td>\n",
       "      <td>POLYGON ((-122.469306 37.712526, -122.468748 3...</td>\n",
       "      <td>0.0</td>\n",
       "      <td>33.0</td>\n",
       "    </tr>\n",
       "    <tr>\n",
       "      <th>1</th>\n",
       "      <td>6025</td>\n",
       "      <td>060750255006025</td>\n",
       "      <td>075</td>\n",
       "      <td>1</td>\n",
       "      <td>N</td>\n",
       "      <td>1</td>\n",
       "      <td>06</td>\n",
       "      <td>025500</td>\n",
       "      <td>POLYGON ((-122.442387 37.725793, -122.443066 3...</td>\n",
       "      <td>060750255006025</td>\n",
       "      <td>POLYGON ((-122.442387 37.725793, -122.443066 3...</td>\n",
       "      <td>0.0</td>\n",
       "      <td>1.0</td>\n",
       "    </tr>\n",
       "    <tr>\n",
       "      <th>2</th>\n",
       "      <td>1010</td>\n",
       "      <td>060750261001010</td>\n",
       "      <td>075</td>\n",
       "      <td>64</td>\n",
       "      <td>N</td>\n",
       "      <td>237</td>\n",
       "      <td>06</td>\n",
       "      <td>026100</td>\n",
       "      <td>POLYGON ((-122.439127 37.720972, -122.439382 3...</td>\n",
       "      <td>060750261001010</td>\n",
       "      <td>POLYGON ((-122.439127 37.720972, -122.439382 3...</td>\n",
       "      <td>0.0</td>\n",
       "      <td>64.0</td>\n",
       "    </tr>\n",
       "    <tr>\n",
       "      <th>3</th>\n",
       "      <td>1001</td>\n",
       "      <td>060750201001001</td>\n",
       "      <td>075</td>\n",
       "      <td>0</td>\n",
       "      <td>N</td>\n",
       "      <td>0</td>\n",
       "      <td>06</td>\n",
       "      <td>020100</td>\n",
       "      <td>POLYGON ((-122.418618 37.773053, -122.418855 3...</td>\n",
       "      <td>060750201001001</td>\n",
       "      <td>POLYGON ((-122.418618 37.773053, -122.418855 3...</td>\n",
       "      <td>0.0</td>\n",
       "      <td>0.0</td>\n",
       "    </tr>\n",
       "    <tr>\n",
       "      <th>4</th>\n",
       "      <td>2006</td>\n",
       "      <td>060750178022006</td>\n",
       "      <td>075</td>\n",
       "      <td>145</td>\n",
       "      <td>N</td>\n",
       "      <td>196</td>\n",
       "      <td>06</td>\n",
       "      <td>017802</td>\n",
       "      <td>POLYGON ((-122.413587 37.77466, -122.413161 37...</td>\n",
       "      <td>060750178022006</td>\n",
       "      <td>POLYGON ((-122.413587 37.77466, -122.413161 37...</td>\n",
       "      <td>0.0</td>\n",
       "      <td>145.0</td>\n",
       "    </tr>\n",
       "  </tbody>\n",
       "</table>\n",
       "</div>"
      ],
      "text/plain": [
       "  BLOCKCE        BLOCKID10 COUNTYFP10  HOUSING10 PARTFLG  POP10 STATEFP10  \\\n",
       "0    3028  060750313023028        075         33       N    116        06   \n",
       "1    6025  060750255006025        075          1       N      1        06   \n",
       "2    1010  060750261001010        075         64       N    237        06   \n",
       "3    1001  060750201001001        075          0       N      0        06   \n",
       "4    2006  060750178022006        075        145       N    196        06   \n",
       "\n",
       "  TRACTCE10                                         geometry_x  \\\n",
       "0    031302  POLYGON ((-122.469306 37.712526, -122.468748 3...   \n",
       "1    025500  POLYGON ((-122.442387 37.725793, -122.443066 3...   \n",
       "2    026100  POLYGON ((-122.439127 37.720972, -122.439382 3...   \n",
       "3    020100  POLYGON ((-122.418618 37.773053, -122.418855 3...   \n",
       "4    017802  POLYGON ((-122.413587 37.77466, -122.413161 37...   \n",
       "\n",
       "           GEOID10                                         geometry_y  \\\n",
       "0  060750313023028  POLYGON ((-122.469306 37.712526, -122.468748 3...   \n",
       "1  060750255006025  POLYGON ((-122.442387 37.725793, -122.443066 3...   \n",
       "2  060750261001010  POLYGON ((-122.439127 37.720972, -122.439382 3...   \n",
       "3  060750201001001  POLYGON ((-122.418618 37.773053, -122.418855 3...   \n",
       "4  060750178022006  POLYGON ((-122.413587 37.77466, -122.413161 37...   \n",
       "\n",
       "   NETUNITS  HOUSING09  \n",
       "0       0.0       33.0  \n",
       "1       0.0        1.0  \n",
       "2       0.0       64.0  \n",
       "3       0.0        0.0  \n",
       "4       0.0      145.0  "
      ]
     },
     "execution_count": 98,
     "metadata": {},
     "output_type": "execute_result"
    }
   ],
   "source": [
    "hu09.head()"
   ]
  },
  {
   "cell_type": "code",
   "execution_count": 99,
   "metadata": {
    "collapsed": false
   },
   "outputs": [],
   "source": [
    "hu09['HOUSING09'] = hu09.HOUSING09.clip_lower(0)"
   ]
  },
  {
   "cell_type": "code",
   "execution_count": 100,
   "metadata": {
    "collapsed": false
   },
   "outputs": [
    {
     "data": {
      "text/plain": [
       "0.0"
      ]
     },
     "execution_count": 100,
     "metadata": {},
     "output_type": "execute_result"
    }
   ],
   "source": [
    "min(hu09['HOUSING09'])"
   ]
  },
  {
   "cell_type": "code",
   "execution_count": 101,
   "metadata": {
    "collapsed": false
   },
   "outputs": [
    {
     "data": {
      "text/plain": [
       "0     2450\n",
       "1       89\n",
       "55      67\n",
       "56      65\n",
       "50      64\n",
       "Name: HOUSING10, dtype: int64"
      ]
     },
     "execution_count": 101,
     "metadata": {},
     "output_type": "execute_result"
    }
   ],
   "source": [
    "hu09.HOUSING10.value_counts().head()"
   ]
  },
  {
   "cell_type": "code",
   "execution_count": 102,
   "metadata": {
    "collapsed": false
   },
   "outputs": [
    {
     "data": {
      "text/plain": [
       "0.0     2451\n",
       "1.0       91\n",
       "55.0      71\n",
       "50.0      64\n",
       "56.0      61\n",
       "Name: HOUSING09, dtype: int64"
      ]
     },
     "execution_count": 102,
     "metadata": {},
     "output_type": "execute_result"
    }
   ],
   "source": [
    "hu09.HOUSING09.value_counts().head()"
   ]
  },
  {
   "cell_type": "code",
   "execution_count": 103,
   "metadata": {
    "collapsed": false
   },
   "outputs": [
    {
     "data": {
      "text/html": [
       "<div>\n",
       "<table border=\"1\" class=\"dataframe\">\n",
       "  <thead>\n",
       "    <tr style=\"text-align: right;\">\n",
       "      <th></th>\n",
       "      <th>BLOCKCE</th>\n",
       "      <th>BLOCKID10</th>\n",
       "      <th>COUNTYFP10</th>\n",
       "      <th>HOUSING10</th>\n",
       "      <th>PARTFLG</th>\n",
       "      <th>POP10</th>\n",
       "      <th>STATEFP10</th>\n",
       "      <th>TRACTCE10</th>\n",
       "      <th>geometry_x</th>\n",
       "      <th>GEOID10</th>\n",
       "      <th>geometry_y</th>\n",
       "      <th>NETUNITS</th>\n",
       "      <th>HOUSING09</th>\n",
       "    </tr>\n",
       "  </thead>\n",
       "  <tbody>\n",
       "    <tr>\n",
       "      <th>0</th>\n",
       "      <td>3028</td>\n",
       "      <td>060750313023028</td>\n",
       "      <td>075</td>\n",
       "      <td>33</td>\n",
       "      <td>N</td>\n",
       "      <td>116</td>\n",
       "      <td>06</td>\n",
       "      <td>031302</td>\n",
       "      <td>POLYGON ((-122.469306 37.712526, -122.468748 3...</td>\n",
       "      <td>060750313023028</td>\n",
       "      <td>POLYGON ((-122.469306 37.712526, -122.468748 3...</td>\n",
       "      <td>0.0</td>\n",
       "      <td>33.0</td>\n",
       "    </tr>\n",
       "    <tr>\n",
       "      <th>1</th>\n",
       "      <td>6025</td>\n",
       "      <td>060750255006025</td>\n",
       "      <td>075</td>\n",
       "      <td>1</td>\n",
       "      <td>N</td>\n",
       "      <td>1</td>\n",
       "      <td>06</td>\n",
       "      <td>025500</td>\n",
       "      <td>POLYGON ((-122.442387 37.725793, -122.443066 3...</td>\n",
       "      <td>060750255006025</td>\n",
       "      <td>POLYGON ((-122.442387 37.725793, -122.443066 3...</td>\n",
       "      <td>0.0</td>\n",
       "      <td>1.0</td>\n",
       "    </tr>\n",
       "    <tr>\n",
       "      <th>2</th>\n",
       "      <td>1010</td>\n",
       "      <td>060750261001010</td>\n",
       "      <td>075</td>\n",
       "      <td>64</td>\n",
       "      <td>N</td>\n",
       "      <td>237</td>\n",
       "      <td>06</td>\n",
       "      <td>026100</td>\n",
       "      <td>POLYGON ((-122.439127 37.720972, -122.439382 3...</td>\n",
       "      <td>060750261001010</td>\n",
       "      <td>POLYGON ((-122.439127 37.720972, -122.439382 3...</td>\n",
       "      <td>0.0</td>\n",
       "      <td>64.0</td>\n",
       "    </tr>\n",
       "    <tr>\n",
       "      <th>3</th>\n",
       "      <td>1001</td>\n",
       "      <td>060750201001001</td>\n",
       "      <td>075</td>\n",
       "      <td>0</td>\n",
       "      <td>N</td>\n",
       "      <td>0</td>\n",
       "      <td>06</td>\n",
       "      <td>020100</td>\n",
       "      <td>POLYGON ((-122.418618 37.773053, -122.418855 3...</td>\n",
       "      <td>060750201001001</td>\n",
       "      <td>POLYGON ((-122.418618 37.773053, -122.418855 3...</td>\n",
       "      <td>0.0</td>\n",
       "      <td>0.0</td>\n",
       "    </tr>\n",
       "    <tr>\n",
       "      <th>4</th>\n",
       "      <td>2006</td>\n",
       "      <td>060750178022006</td>\n",
       "      <td>075</td>\n",
       "      <td>145</td>\n",
       "      <td>N</td>\n",
       "      <td>196</td>\n",
       "      <td>06</td>\n",
       "      <td>017802</td>\n",
       "      <td>POLYGON ((-122.413587 37.77466, -122.413161 37...</td>\n",
       "      <td>060750178022006</td>\n",
       "      <td>POLYGON ((-122.413587 37.77466, -122.413161 37...</td>\n",
       "      <td>0.0</td>\n",
       "      <td>145.0</td>\n",
       "    </tr>\n",
       "  </tbody>\n",
       "</table>\n",
       "</div>"
      ],
      "text/plain": [
       "  BLOCKCE        BLOCKID10 COUNTYFP10  HOUSING10 PARTFLG  POP10 STATEFP10  \\\n",
       "0    3028  060750313023028        075         33       N    116        06   \n",
       "1    6025  060750255006025        075          1       N      1        06   \n",
       "2    1010  060750261001010        075         64       N    237        06   \n",
       "3    1001  060750201001001        075          0       N      0        06   \n",
       "4    2006  060750178022006        075        145       N    196        06   \n",
       "\n",
       "  TRACTCE10                                         geometry_x  \\\n",
       "0    031302  POLYGON ((-122.469306 37.712526, -122.468748 3...   \n",
       "1    025500  POLYGON ((-122.442387 37.725793, -122.443066 3...   \n",
       "2    026100  POLYGON ((-122.439127 37.720972, -122.439382 3...   \n",
       "3    020100  POLYGON ((-122.418618 37.773053, -122.418855 3...   \n",
       "4    017802  POLYGON ((-122.413587 37.77466, -122.413161 37...   \n",
       "\n",
       "           GEOID10                                         geometry_y  \\\n",
       "0  060750313023028  POLYGON ((-122.469306 37.712526, -122.468748 3...   \n",
       "1  060750255006025  POLYGON ((-122.442387 37.725793, -122.443066 3...   \n",
       "2  060750261001010  POLYGON ((-122.439127 37.720972, -122.439382 3...   \n",
       "3  060750201001001  POLYGON ((-122.418618 37.773053, -122.418855 3...   \n",
       "4  060750178022006  POLYGON ((-122.413587 37.77466, -122.413161 37...   \n",
       "\n",
       "   NETUNITS  HOUSING09  \n",
       "0       0.0       33.0  \n",
       "1       0.0        1.0  \n",
       "2       0.0       64.0  \n",
       "3       0.0        0.0  \n",
       "4       0.0      145.0  "
      ]
     },
     "execution_count": 103,
     "metadata": {},
     "output_type": "execute_result"
    }
   ],
   "source": [
    "hu09.head()"
   ]
  },
  {
   "cell_type": "code",
   "execution_count": 104,
   "metadata": {
    "collapsed": false
   },
   "outputs": [
    {
     "data": {
      "text/plain": [
       "Index(['BLOCKCE', 'BLOCKID10', 'COUNTYFP10', 'HOUSING10', 'PARTFLG', 'POP10',\n",
       "       'STATEFP10', 'TRACTCE10', 'geometry_x', 'GEOID10', 'geometry_y',\n",
       "       'NETUNITS', 'HOUSING09'],\n",
       "      dtype='object')"
      ]
     },
     "execution_count": 104,
     "metadata": {},
     "output_type": "execute_result"
    }
   ],
   "source": [
    "hu09.columns"
   ]
  },
  {
   "cell_type": "code",
   "execution_count": 105,
   "metadata": {
    "collapsed": false
   },
   "outputs": [
    {
     "data": {
      "text/html": [
       "<div>\n",
       "<table border=\"1\" class=\"dataframe\">\n",
       "  <thead>\n",
       "    <tr style=\"text-align: right;\">\n",
       "      <th></th>\n",
       "      <th>BLOCKCE</th>\n",
       "      <th>BLOCKID10</th>\n",
       "      <th>COUNTYFP10</th>\n",
       "      <th>HOUSING10</th>\n",
       "      <th>PARTFLG</th>\n",
       "      <th>POP10</th>\n",
       "      <th>STATEFP10</th>\n",
       "      <th>TRACTCE10</th>\n",
       "      <th>geometry_x</th>\n",
       "      <th>GEOID10</th>\n",
       "      <th>geometry_y</th>\n",
       "      <th>NETUNITS</th>\n",
       "      <th>HOUSING09</th>\n",
       "    </tr>\n",
       "  </thead>\n",
       "  <tbody>\n",
       "    <tr>\n",
       "      <th>0</th>\n",
       "      <td>3028</td>\n",
       "      <td>060750313023028</td>\n",
       "      <td>075</td>\n",
       "      <td>33</td>\n",
       "      <td>N</td>\n",
       "      <td>116</td>\n",
       "      <td>06</td>\n",
       "      <td>031302</td>\n",
       "      <td>POLYGON ((-122.469306 37.712526, -122.468748 3...</td>\n",
       "      <td>060750313023028</td>\n",
       "      <td>POLYGON ((-122.469306 37.712526, -122.468748 3...</td>\n",
       "      <td>0.0</td>\n",
       "      <td>33.0</td>\n",
       "    </tr>\n",
       "    <tr>\n",
       "      <th>1</th>\n",
       "      <td>6025</td>\n",
       "      <td>060750255006025</td>\n",
       "      <td>075</td>\n",
       "      <td>1</td>\n",
       "      <td>N</td>\n",
       "      <td>1</td>\n",
       "      <td>06</td>\n",
       "      <td>025500</td>\n",
       "      <td>POLYGON ((-122.442387 37.725793, -122.443066 3...</td>\n",
       "      <td>060750255006025</td>\n",
       "      <td>POLYGON ((-122.442387 37.725793, -122.443066 3...</td>\n",
       "      <td>0.0</td>\n",
       "      <td>1.0</td>\n",
       "    </tr>\n",
       "    <tr>\n",
       "      <th>2</th>\n",
       "      <td>1010</td>\n",
       "      <td>060750261001010</td>\n",
       "      <td>075</td>\n",
       "      <td>64</td>\n",
       "      <td>N</td>\n",
       "      <td>237</td>\n",
       "      <td>06</td>\n",
       "      <td>026100</td>\n",
       "      <td>POLYGON ((-122.439127 37.720972, -122.439382 3...</td>\n",
       "      <td>060750261001010</td>\n",
       "      <td>POLYGON ((-122.439127 37.720972, -122.439382 3...</td>\n",
       "      <td>0.0</td>\n",
       "      <td>64.0</td>\n",
       "    </tr>\n",
       "    <tr>\n",
       "      <th>3</th>\n",
       "      <td>1001</td>\n",
       "      <td>060750201001001</td>\n",
       "      <td>075</td>\n",
       "      <td>0</td>\n",
       "      <td>N</td>\n",
       "      <td>0</td>\n",
       "      <td>06</td>\n",
       "      <td>020100</td>\n",
       "      <td>POLYGON ((-122.418618 37.773053, -122.418855 3...</td>\n",
       "      <td>060750201001001</td>\n",
       "      <td>POLYGON ((-122.418618 37.773053, -122.418855 3...</td>\n",
       "      <td>0.0</td>\n",
       "      <td>0.0</td>\n",
       "    </tr>\n",
       "    <tr>\n",
       "      <th>4</th>\n",
       "      <td>2006</td>\n",
       "      <td>060750178022006</td>\n",
       "      <td>075</td>\n",
       "      <td>145</td>\n",
       "      <td>N</td>\n",
       "      <td>196</td>\n",
       "      <td>06</td>\n",
       "      <td>017802</td>\n",
       "      <td>POLYGON ((-122.413587 37.77466, -122.413161 37...</td>\n",
       "      <td>060750178022006</td>\n",
       "      <td>POLYGON ((-122.413587 37.77466, -122.413161 37...</td>\n",
       "      <td>0.0</td>\n",
       "      <td>145.0</td>\n",
       "    </tr>\n",
       "  </tbody>\n",
       "</table>\n",
       "</div>"
      ],
      "text/plain": [
       "  BLOCKCE        BLOCKID10 COUNTYFP10  HOUSING10 PARTFLG  POP10 STATEFP10  \\\n",
       "0    3028  060750313023028        075         33       N    116        06   \n",
       "1    6025  060750255006025        075          1       N      1        06   \n",
       "2    1010  060750261001010        075         64       N    237        06   \n",
       "3    1001  060750201001001        075          0       N      0        06   \n",
       "4    2006  060750178022006        075        145       N    196        06   \n",
       "\n",
       "  TRACTCE10                                         geometry_x  \\\n",
       "0    031302  POLYGON ((-122.469306 37.712526, -122.468748 3...   \n",
       "1    025500  POLYGON ((-122.442387 37.725793, -122.443066 3...   \n",
       "2    026100  POLYGON ((-122.439127 37.720972, -122.439382 3...   \n",
       "3    020100  POLYGON ((-122.418618 37.773053, -122.418855 3...   \n",
       "4    017802  POLYGON ((-122.413587 37.77466, -122.413161 37...   \n",
       "\n",
       "           GEOID10                                         geometry_y  \\\n",
       "0  060750313023028  POLYGON ((-122.469306 37.712526, -122.468748 3...   \n",
       "1  060750255006025  POLYGON ((-122.442387 37.725793, -122.443066 3...   \n",
       "2  060750261001010  POLYGON ((-122.439127 37.720972, -122.439382 3...   \n",
       "3  060750201001001  POLYGON ((-122.418618 37.773053, -122.418855 3...   \n",
       "4  060750178022006  POLYGON ((-122.413587 37.77466, -122.413161 37...   \n",
       "\n",
       "   NETUNITS  HOUSING09  \n",
       "0       0.0       33.0  \n",
       "1       0.0        1.0  \n",
       "2       0.0       64.0  \n",
       "3       0.0        0.0  \n",
       "4       0.0      145.0  "
      ]
     },
     "execution_count": 105,
     "metadata": {},
     "output_type": "execute_result"
    }
   ],
   "source": [
    "hu09.head()"
   ]
  },
  {
   "cell_type": "code",
   "execution_count": 106,
   "metadata": {
    "collapsed": true
   },
   "outputs": [],
   "source": [
    "def clean_id(row,clean1,clean2,id):\n",
    "    \"\"\"\n",
    "    This is a function to clean missing values from two columns. Example: if a census block id column has missing values in one id but does have an id in another (after a merge) then this will\n",
    "    select the column with the non-missing Block ID. \n",
    "    \n",
    "    row = a row of a dataframe passed to this function using the .apply(lambda row: function(row)) method\n",
    "    clean1 = one of the column names that is to be checked\n",
    "    clean2 = the other column name to be checked\n",
    "    id = the column that you want the non-missing values to go to \n",
    "    \n",
    "    \"\"\"\n",
    "    if np.isnan(row[clean1]):\n",
    "        row[id] = row[clean2]\n",
    "        \n",
    "    elif np.isnan(row[clean1]) & np.isnan(row[clean2]):\n",
    "        print('bad row')\n",
    "        \n",
    "    else:\n",
    "        row[id] = row[clean1] \n",
    "    return row[id]\n",
    "    "
   ]
  },
  {
   "cell_type": "code",
   "execution_count": null,
   "metadata": {
    "collapsed": false
   },
   "outputs": [],
   "source": []
  },
  {
   "cell_type": "code",
   "execution_count": 76,
   "metadata": {
    "collapsed": false
   },
   "outputs": [],
   "source": [
    "hu09['geometry'] = hu09.geometry_x\n",
    "hu09_geo = gp.GeoDataFrame(hu09)"
   ]
  },
  {
   "cell_type": "code",
   "execution_count": 107,
   "metadata": {
    "collapsed": false
   },
   "outputs": [
    {
     "ename": "ValueError",
     "evalue": "Invalid field type <class 'shapely.geometry.polygon.Polygon'>",
     "output_type": "error",
     "traceback": [
      "\u001b[0;31m---------------------------------------------------------------------------\u001b[0m",
      "\u001b[0;31mValueError\u001b[0m                                Traceback (most recent call last)",
      "\u001b[0;32m<ipython-input-107-d4de73592f38>\u001b[0m in \u001b[0;36m<module>\u001b[0;34m()\u001b[0m\n\u001b[0;32m----> 1\u001b[0;31m \u001b[0mhu09_geo\u001b[0m\u001b[1;33m.\u001b[0m\u001b[0mto_file\u001b[0m\u001b[1;33m(\u001b[0m\u001b[1;34m'E:/Transit-Casa-Alex/Input/Population and Housing Units (Blocks)/2009/San_Fran_Pop_HU.shp'\u001b[0m\u001b[1;33m)\u001b[0m\u001b[1;33m\u001b[0m\u001b[0m\n\u001b[0m",
      "\u001b[0;32mC:\\Anaconda\\lib\\site-packages\\geopandas\\geodataframe.py\u001b[0m in \u001b[0;36mto_file\u001b[0;34m(self, filename, driver, schema, **kwargs)\u001b[0m\n\u001b[1;32m    341\u001b[0m         \"\"\"\n\u001b[1;32m    342\u001b[0m         \u001b[1;32mfrom\u001b[0m \u001b[0mgeopandas\u001b[0m\u001b[1;33m.\u001b[0m\u001b[0mio\u001b[0m\u001b[1;33m.\u001b[0m\u001b[0mfile\u001b[0m \u001b[1;32mimport\u001b[0m \u001b[0mto_file\u001b[0m\u001b[1;33m\u001b[0m\u001b[0m\n\u001b[0;32m--> 343\u001b[0;31m         \u001b[0mto_file\u001b[0m\u001b[1;33m(\u001b[0m\u001b[0mself\u001b[0m\u001b[1;33m,\u001b[0m \u001b[0mfilename\u001b[0m\u001b[1;33m,\u001b[0m \u001b[0mdriver\u001b[0m\u001b[1;33m,\u001b[0m \u001b[0mschema\u001b[0m\u001b[1;33m,\u001b[0m \u001b[1;33m**\u001b[0m\u001b[0mkwargs\u001b[0m\u001b[1;33m)\u001b[0m\u001b[1;33m\u001b[0m\u001b[0m\n\u001b[0m\u001b[1;32m    344\u001b[0m \u001b[1;33m\u001b[0m\u001b[0m\n\u001b[1;32m    345\u001b[0m     \u001b[1;32mdef\u001b[0m \u001b[0mto_crs\u001b[0m\u001b[1;33m(\u001b[0m\u001b[0mself\u001b[0m\u001b[1;33m,\u001b[0m \u001b[0mcrs\u001b[0m\u001b[1;33m=\u001b[0m\u001b[1;32mNone\u001b[0m\u001b[1;33m,\u001b[0m \u001b[0mepsg\u001b[0m\u001b[1;33m=\u001b[0m\u001b[1;32mNone\u001b[0m\u001b[1;33m,\u001b[0m \u001b[0minplace\u001b[0m\u001b[1;33m=\u001b[0m\u001b[1;32mFalse\u001b[0m\u001b[1;33m)\u001b[0m\u001b[1;33m:\u001b[0m\u001b[1;33m\u001b[0m\u001b[0m\n",
      "\u001b[0;32mC:\\Anaconda\\lib\\site-packages\\geopandas\\io\\file.py\u001b[0m in \u001b[0;36mto_file\u001b[0;34m(df, filename, driver, schema, **kwargs)\u001b[0m\n\u001b[1;32m     61\u001b[0m                     schema=schema, **kwargs) as c:\n\u001b[1;32m     62\u001b[0m         \u001b[1;32mfor\u001b[0m \u001b[0mfeature\u001b[0m \u001b[1;32min\u001b[0m \u001b[0mdf\u001b[0m\u001b[1;33m.\u001b[0m\u001b[0miterfeatures\u001b[0m\u001b[1;33m(\u001b[0m\u001b[1;33m)\u001b[0m\u001b[1;33m:\u001b[0m\u001b[1;33m\u001b[0m\u001b[0m\n\u001b[0;32m---> 63\u001b[0;31m             \u001b[0mc\u001b[0m\u001b[1;33m.\u001b[0m\u001b[0mwrite\u001b[0m\u001b[1;33m(\u001b[0m\u001b[0mfeature\u001b[0m\u001b[1;33m)\u001b[0m\u001b[1;33m\u001b[0m\u001b[0m\n\u001b[0m\u001b[1;32m     64\u001b[0m \u001b[1;33m\u001b[0m\u001b[0m\n\u001b[1;32m     65\u001b[0m \u001b[1;33m\u001b[0m\u001b[0m\n",
      "\u001b[0;32mC:\\Anaconda\\lib\\site-packages\\fiona\\collection.py\u001b[0m in \u001b[0;36mwrite\u001b[0;34m(self, record)\u001b[0m\n\u001b[1;32m    337\u001b[0m     \u001b[1;32mdef\u001b[0m \u001b[0mwrite\u001b[0m\u001b[1;33m(\u001b[0m\u001b[0mself\u001b[0m\u001b[1;33m,\u001b[0m \u001b[0mrecord\u001b[0m\u001b[1;33m)\u001b[0m\u001b[1;33m:\u001b[0m\u001b[1;33m\u001b[0m\u001b[0m\n\u001b[1;32m    338\u001b[0m         \u001b[1;34m\"\"\"Stages a record for writing to disk.\"\"\"\u001b[0m\u001b[1;33m\u001b[0m\u001b[0m\n\u001b[0;32m--> 339\u001b[0;31m         \u001b[0mself\u001b[0m\u001b[1;33m.\u001b[0m\u001b[0mwriterecords\u001b[0m\u001b[1;33m(\u001b[0m\u001b[1;33m[\u001b[0m\u001b[0mrecord\u001b[0m\u001b[1;33m]\u001b[0m\u001b[1;33m)\u001b[0m\u001b[1;33m\u001b[0m\u001b[0m\n\u001b[0m\u001b[1;32m    340\u001b[0m \u001b[1;33m\u001b[0m\u001b[0m\n\u001b[1;32m    341\u001b[0m     \u001b[1;32mdef\u001b[0m \u001b[0mvalidate_record\u001b[0m\u001b[1;33m(\u001b[0m\u001b[0mself\u001b[0m\u001b[1;33m,\u001b[0m \u001b[0mrecord\u001b[0m\u001b[1;33m)\u001b[0m\u001b[1;33m:\u001b[0m\u001b[1;33m\u001b[0m\u001b[0m\n",
      "\u001b[0;32mC:\\Anaconda\\lib\\site-packages\\fiona\\collection.py\u001b[0m in \u001b[0;36mwriterecords\u001b[0;34m(self, records)\u001b[0m\n\u001b[1;32m    331\u001b[0m         \u001b[1;32mif\u001b[0m \u001b[0mself\u001b[0m\u001b[1;33m.\u001b[0m\u001b[0mmode\u001b[0m \u001b[1;32mnot\u001b[0m \u001b[1;32min\u001b[0m \u001b[1;33m(\u001b[0m\u001b[1;34m'a'\u001b[0m\u001b[1;33m,\u001b[0m \u001b[1;34m'w'\u001b[0m\u001b[1;33m)\u001b[0m\u001b[1;33m:\u001b[0m\u001b[1;33m\u001b[0m\u001b[0m\n\u001b[1;32m    332\u001b[0m             \u001b[1;32mraise\u001b[0m \u001b[0mIOError\u001b[0m\u001b[1;33m(\u001b[0m\u001b[1;34m\"collection not open for writing\"\u001b[0m\u001b[1;33m)\u001b[0m\u001b[1;33m\u001b[0m\u001b[0m\n\u001b[0;32m--> 333\u001b[0;31m         \u001b[0mself\u001b[0m\u001b[1;33m.\u001b[0m\u001b[0msession\u001b[0m\u001b[1;33m.\u001b[0m\u001b[0mwriterecs\u001b[0m\u001b[1;33m(\u001b[0m\u001b[0mrecords\u001b[0m\u001b[1;33m,\u001b[0m \u001b[0mself\u001b[0m\u001b[1;33m)\u001b[0m\u001b[1;33m\u001b[0m\u001b[0m\n\u001b[0m\u001b[1;32m    334\u001b[0m         \u001b[0mself\u001b[0m\u001b[1;33m.\u001b[0m\u001b[0m_len\u001b[0m \u001b[1;33m=\u001b[0m \u001b[0mself\u001b[0m\u001b[1;33m.\u001b[0m\u001b[0msession\u001b[0m\u001b[1;33m.\u001b[0m\u001b[0mget_length\u001b[0m\u001b[1;33m(\u001b[0m\u001b[1;33m)\u001b[0m\u001b[1;33m\u001b[0m\u001b[0m\n\u001b[1;32m    335\u001b[0m         \u001b[0mself\u001b[0m\u001b[1;33m.\u001b[0m\u001b[0m_bounds\u001b[0m \u001b[1;33m=\u001b[0m \u001b[0mself\u001b[0m\u001b[1;33m.\u001b[0m\u001b[0msession\u001b[0m\u001b[1;33m.\u001b[0m\u001b[0mget_extent\u001b[0m\u001b[1;33m(\u001b[0m\u001b[1;33m)\u001b[0m\u001b[1;33m\u001b[0m\u001b[0m\n",
      "\u001b[0;32mfiona\\ogrext.pyx\u001b[0m in \u001b[0;36mfiona.ogrext.WritingSession.writerecs (fiona/ogrext.c:18412)\u001b[0;34m()\u001b[0m\n",
      "\u001b[0;32mfiona\\ogrext.pyx\u001b[0m in \u001b[0;36mfiona.ogrext.OGRFeatureBuilder.build (fiona/ogrext.c:7387)\u001b[0;34m()\u001b[0m\n",
      "\u001b[0;31mValueError\u001b[0m: Invalid field type <class 'shapely.geometry.polygon.Polygon'>"
     ]
    }
   ],
   "source": [
    "hu09_geo.to_file('E:/Transit-Casa-Alex/Input/Population and Housing Units (Blocks)/2009/San_Fran_Pop_HU.shp')"
   ]
  },
  {
   "cell_type": "code",
   "execution_count": null,
   "metadata": {
    "collapsed": false
   },
   "outputs": [],
   "source": []
  },
  {
   "cell_type": "code",
   "execution_count": 89,
   "metadata": {
    "collapsed": false
   },
   "outputs": [],
   "source": []
  },
  {
   "cell_type": "code",
   "execution_count": null,
   "metadata": {
    "collapsed": false
   },
   "outputs": [],
   "source": []
  },
  {
   "cell_type": "code",
   "execution_count": null,
   "metadata": {
    "collapsed": false
   },
   "outputs": [],
   "source": []
  },
  {
   "cell_type": "code",
   "execution_count": null,
   "metadata": {
    "collapsed": false
   },
   "outputs": [],
   "source": []
  },
  {
   "cell_type": "code",
   "execution_count": null,
   "metadata": {
    "collapsed": false
   },
   "outputs": [],
   "source": []
  },
  {
   "cell_type": "code",
   "execution_count": null,
   "metadata": {
    "collapsed": false
   },
   "outputs": [],
   "source": []
  },
  {
   "cell_type": "code",
   "execution_count": 70,
   "metadata": {
    "collapsed": true
   },
   "outputs": [],
   "source": []
  },
  {
   "cell_type": "code",
   "execution_count": null,
   "metadata": {
    "collapsed": false
   },
   "outputs": [],
   "source": []
  },
  {
   "cell_type": "code",
   "execution_count": null,
   "metadata": {
    "collapsed": false,
    "scrolled": true
   },
   "outputs": [],
   "source": []
  },
  {
   "cell_type": "code",
   "execution_count": 80,
   "metadata": {
    "collapsed": true
   },
   "outputs": [],
   "source": []
  },
  {
   "cell_type": "code",
   "execution_count": null,
   "metadata": {
    "collapsed": false
   },
   "outputs": [],
   "source": []
  },
  {
   "cell_type": "code",
   "execution_count": null,
   "metadata": {
    "collapsed": true
   },
   "outputs": [],
   "source": []
  }
 ],
 "metadata": {
  "anaconda-cloud": {},
  "kernelspec": {
   "display_name": "Python [conda root]",
   "language": "python",
   "name": "conda-root-py"
  },
  "language_info": {
   "codemirror_mode": {
    "name": "ipython",
    "version": 3
   },
   "file_extension": ".py",
   "mimetype": "text/x-python",
   "name": "python",
   "nbconvert_exporter": "python",
   "pygments_lexer": "ipython3",
   "version": "3.5.2"
  }
 },
 "nbformat": 4,
 "nbformat_minor": 1
}
