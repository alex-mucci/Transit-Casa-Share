{
 "cells": [
  {
   "cell_type": "code",
   "execution_count": 3,
   "metadata": {
    "collapsed": false
   },
   "outputs": [],
   "source": [
    "import pandas as pd\n"
   ]
  },
  {
   "cell_type": "code",
   "execution_count": 4,
   "metadata": {
    "collapsed": true
   },
   "outputs": [],
   "source": [
    "transit = pd.read_csv('E:/Transit-Casa-Alex/Output/Final Data/2009/Competing Transit Buffers/Tenth_Competing_Transit.csv')"
   ]
  },
  {
   "cell_type": "code",
   "execution_count": 5,
   "metadata": {
    "collapsed": false
   },
   "outputs": [
    {
     "data": {
      "text/html": [
       "<div>\n",
       "<table border=\"1\" class=\"dataframe\">\n",
       "  <thead>\n",
       "    <tr style=\"text-align: right;\">\n",
       "      <th></th>\n",
       "      <th>Unnamed: 0</th>\n",
       "      <th>STOP_ID</th>\n",
       "      <th>BART_TOS</th>\n",
       "      <th>BART_FROMS</th>\n",
       "      <th>CALTRAIN_OFF</th>\n",
       "      <th>CALTRAIN_ON</th>\n",
       "      <th>MUNI_RAIL_BOARDINGS</th>\n",
       "      <th>MUNI_RAIL_ALIGHTINGS</th>\n",
       "    </tr>\n",
       "  </thead>\n",
       "  <tbody>\n",
       "    <tr>\n",
       "      <th>0</th>\n",
       "      <td>0</td>\n",
       "      <td>390</td>\n",
       "      <td>NaN</td>\n",
       "      <td>NaN</td>\n",
       "      <td>NaN</td>\n",
       "      <td>NaN</td>\n",
       "      <td>769.0</td>\n",
       "      <td>883.0</td>\n",
       "    </tr>\n",
       "    <tr>\n",
       "      <th>1</th>\n",
       "      <td>1</td>\n",
       "      <td>392</td>\n",
       "      <td>NaN</td>\n",
       "      <td>NaN</td>\n",
       "      <td>NaN</td>\n",
       "      <td>NaN</td>\n",
       "      <td>NaN</td>\n",
       "      <td>NaN</td>\n",
       "    </tr>\n",
       "    <tr>\n",
       "      <th>2</th>\n",
       "      <td>2</td>\n",
       "      <td>660</td>\n",
       "      <td>NaN</td>\n",
       "      <td>NaN</td>\n",
       "      <td>NaN</td>\n",
       "      <td>NaN</td>\n",
       "      <td>NaN</td>\n",
       "      <td>NaN</td>\n",
       "    </tr>\n",
       "    <tr>\n",
       "      <th>3</th>\n",
       "      <td>3</td>\n",
       "      <td>913</td>\n",
       "      <td>NaN</td>\n",
       "      <td>NaN</td>\n",
       "      <td>NaN</td>\n",
       "      <td>NaN</td>\n",
       "      <td>NaN</td>\n",
       "      <td>NaN</td>\n",
       "    </tr>\n",
       "    <tr>\n",
       "      <th>4</th>\n",
       "      <td>4</td>\n",
       "      <td>3001</td>\n",
       "      <td>NaN</td>\n",
       "      <td>NaN</td>\n",
       "      <td>NaN</td>\n",
       "      <td>NaN</td>\n",
       "      <td>NaN</td>\n",
       "      <td>NaN</td>\n",
       "    </tr>\n",
       "  </tbody>\n",
       "</table>\n",
       "</div>"
      ],
      "text/plain": [
       "   Unnamed: 0  STOP_ID BART_TOS BART_FROMS  CALTRAIN_OFF  CALTRAIN_ON  \\\n",
       "0           0      390      NaN        NaN           NaN          NaN   \n",
       "1           1      392      NaN        NaN           NaN          NaN   \n",
       "2           2      660      NaN        NaN           NaN          NaN   \n",
       "3           3      913      NaN        NaN           NaN          NaN   \n",
       "4           4     3001      NaN        NaN           NaN          NaN   \n",
       "\n",
       "   MUNI_RAIL_BOARDINGS  MUNI_RAIL_ALIGHTINGS  \n",
       "0                769.0                 883.0  \n",
       "1                  NaN                   NaN  \n",
       "2                  NaN                   NaN  \n",
       "3                  NaN                   NaN  \n",
       "4                  NaN                   NaN  "
      ]
     },
     "execution_count": 5,
     "metadata": {},
     "output_type": "execute_result"
    }
   ],
   "source": [
    "transit.head()"
   ]
  },
  {
   "cell_type": "code",
   "execution_count": 25,
   "metadata": {
    "collapsed": false
   },
   "outputs": [],
   "source": [
    "drop = transit[transit[['BART_TOS','BART_FROMS','CALTRAIN_OFF','CALTRAIN_ON','MUNI_RAIL_BOARDINGS','MUNI_RAIL_ALIGHTINGS']].isnull().all(axis=1)].index"
   ]
  },
  {
   "cell_type": "code",
   "execution_count": 26,
   "metadata": {
    "collapsed": false
   },
   "outputs": [
    {
     "data": {
      "text/plain": [
       "Int64Index([   1,    2,    3,    4,    5,    6,    7,    8,    9,   10,\n",
       "            ...\n",
       "            3577, 3578, 3579, 3580, 3581, 3582, 3583, 3584, 3585, 3587],\n",
       "           dtype='int64', length=3157)"
      ]
     },
     "execution_count": 26,
     "metadata": {},
     "output_type": "execute_result"
    }
   ],
   "source": [
    "drop"
   ]
  },
  {
   "cell_type": "code",
   "execution_count": 27,
   "metadata": {
    "collapsed": true
   },
   "outputs": [],
   "source": [
    "transit = transit.drop(drop,axis = 0)"
   ]
  },
  {
   "cell_type": "code",
   "execution_count": 31,
   "metadata": {
    "collapsed": false
   },
   "outputs": [],
   "source": [
    "transit = transit.drop('Unnamed: 0',axis = 1)"
   ]
  },
  {
   "cell_type": "code",
   "execution_count": 33,
   "metadata": {
    "collapsed": false
   },
   "outputs": [],
   "source": [
    "transit.to_csv('E:/Transit-Casa-Alex/Mapping Data/2009/Tenth_Mapping_Comp_Transit.csv')"
   ]
  },
  {
   "cell_type": "code",
   "execution_count": 34,
   "metadata": {
    "collapsed": true
   },
   "outputs": [],
   "source": [
    "transit = pd.read_csv('E:/Transit-Casa-Alex/Output/Final Data/2009/Competing Transit Buffers/Quarter_Competing_Transit.csv')"
   ]
  },
  {
   "cell_type": "code",
   "execution_count": 35,
   "metadata": {
    "collapsed": true
   },
   "outputs": [],
   "source": [
    "def clean_transit(path):\n",
    "    transit = pd.read_csv(path)\n",
    "    drop = transit[transit[['BART_TOS','BART_FROMS','CALTRAIN_OFF','CALTRAIN_ON','MUNI_RAIL_BOARDINGS','MUNI_RAIL_ALIGHTINGS']].isnull().all(axis=1)].index\n",
    "    transit = transit.drop(drop,axis = 0)\n",
    "    \n",
    "    return transit"
   ]
  },
  {
   "cell_type": "code",
   "execution_count": 36,
   "metadata": {
    "collapsed": true
   },
   "outputs": [],
   "source": [
    "df = clean_transit('E:/Transit-Casa-Alex/Output/Final Data/2009/Competing Transit Buffers/Quarter_Competing_Transit.csv')\n",
    "df.to_csv('E:/Transit-Casa-Alex/Mapping Data/2009/Quarter_Mapping_Comp_Transit.csv')\n",
    "\n",
    "df = clean_transit('E:/Transit-Casa-Alex/Output/Final Data/2009/Competing Transit Buffers/Third_Competing_Transit.csv')\n",
    "df.to_csv('E:/Transit-Casa-Alex/Mapping Data/2009/Third_Mapping_Comp_Transit.csv')\n",
    "\n",
    "df = clean_transit('E:/Transit-Casa-Alex/Output/Final Data/2016/Competing Transit Buffers/Tenth_Competing_Transit.csv')\n",
    "df.to_csv('E:/Transit-Casa-Alex/Mapping Data/2016/Tenth_Mapping_Comp_Transit.csv')\n",
    "\n",
    "df = clean_transit('E:/Transit-Casa-Alex/Output/Final Data/2016/Competing Transit Buffers/Quarter_Competing_Transit.csv')\n",
    "df.to_csv('E:/Transit-Casa-Alex/Mapping Data/2016/Quarter_Mapping_Comp_Transit.csv')\n",
    "\n",
    "df = clean_transit('E:/Transit-Casa-Alex/Output/Final Data/2016/Competing Transit Buffers/Third_Competing_Transit.csv')\n",
    "df.to_csv('E:/Transit-Casa-Alex/Mapping Data/2016/Third_Mapping_Comp_Transit.csv')"
   ]
  },
  {
   "cell_type": "code",
   "execution_count": 41,
   "metadata": {
    "collapsed": false
   },
   "outputs": [],
   "source": [
    "pd.to_numeric?"
   ]
  },
  {
   "cell_type": "code",
   "execution_count": 42,
   "metadata": {
    "collapsed": true
   },
   "outputs": [],
   "source": [
    "import locale"
   ]
  },
  {
   "cell_type": "code",
   "execution_count": 49,
   "metadata": {
    "collapsed": false
   },
   "outputs": [
    {
     "data": {
      "text/plain": [
       "'English_United States.1252'"
      ]
     },
     "execution_count": 49,
     "metadata": {},
     "output_type": "execute_result"
    }
   ],
   "source": [
    "import locale\n",
    "from locale import atof\n",
    "\n",
    "locale.setlocale(locale.LC_NUMERIC, '')"
   ]
  },
  {
   "cell_type": "code",
   "execution_count": null,
   "metadata": {
    "collapsed": true
   },
   "outputs": [],
   "source": []
  }
 ],
 "metadata": {
  "anaconda-cloud": {},
  "kernelspec": {
   "display_name": "Python [conda root]",
   "language": "python",
   "name": "conda-root-py"
  },
  "language_info": {
   "codemirror_mode": {
    "name": "ipython",
    "version": 3
   },
   "file_extension": ".py",
   "mimetype": "text/x-python",
   "name": "python",
   "nbconvert_exporter": "python",
   "pygments_lexer": "ipython3",
   "version": "3.5.2"
  }
 },
 "nbformat": 4,
 "nbformat_minor": 1
}
