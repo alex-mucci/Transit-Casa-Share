{
 "cells": [
  {
   "cell_type": "code",
<<<<<<< HEAD
   "execution_count": 8,
=======
   "execution_count": 1,
>>>>>>> 6e43ba4dca69e340b79d1a3d9b929f6bae11c8f8
   "metadata": {
    "collapsed": true
   },
   "outputs": [],
   "source": [
    "import numpy as np\n",
    "import pandas as pd\n",
    "import csv\n",
    "import bokeh.plotting as bk\n",
    "import datetime\n",
<<<<<<< HEAD
    "import os\n",
    "pd.set_option('max_columns',500)"
=======
    "import os"
>>>>>>> 6e43ba4dca69e340b79d1a3d9b929f6bae11c8f8
   ]
  },
  {
   "cell_type": "code",
<<<<<<< HEAD
   "execution_count": null,
   "metadata": {
    "collapsed": false
   },
   "outputs": [],
   "source": []
  },
  {
   "cell_type": "code",
   "execution_count": 40,
=======
   "execution_count": 3,
>>>>>>> 6e43ba4dca69e340b79d1a3d9b929f6bae11c8f8
   "metadata": {
    "collapsed": false
   },
   "outputs": [
    {
<<<<<<< HEAD
     "name": "stdout",
     "output_type": "stream",
     "text": [
      "<bound method HDFStore.items of <class 'pandas.io.pytables.HDFStore'>\n",
      "File path: E:/Transit_Casa/Output/sfmuni_monthly_ts.h5\n",
      "/rs_day                  frame_table  (typ->appendable,nrows->301137,ncols->57,indexers->[index],dc->[MONTH,DOW,AGENCY_ID,ROUTE_SHORT_NAME,DIR,SEQ,NUMDAYS,OBSDAYS,TRIP_STOPS,OBS_TRIP_STOPS,WGT_TRIP_STOPS,STOP_ID,ROUTE_LONG_NAME,ROUTE_TYPE,TRIP_HEADSIGN,HEADWAY_S,FARE,STOPNAME,STOPNAME_AVL,STOP_LAT,STOP_LON,EOL,SOL,TIMEPOINT,ARRIVAL_TIME_DEV,DEPARTURE_TIME_DEV,DWELL_S,DWELL,RUNTIME_S,RUNTIME,TOTTIME_S,TOTTIME,SERVMILES_S,SERVMILES,RUNSPEED_S,RUNSPEED,TOTSPEED_S,TOTSPEED,ONTIME5,ON,OFF,LOAD_ARR,LOAD_DEP,PASSMILES,PASSHOURS,WAITHOURS,FULLFARE_REV,PASSDELAY_DEP,PASSDELAY_ARR,RDBRDNGS,DOORCYCLES,WHEELCHAIR,BIKERACK,CAPACITY,VC,CROWDED,CROWDHOURS])     \n",
      "/rs_tod                  frame_table  (typ->appendable,nrows->1565864,ncols->58,indexers->[index],dc->[MONTH,DOW,TOD,AGENCY_ID,ROUTE_SHORT_NAME,DIR,SEQ,NUMDAYS,OBSDAYS,TRIP_STOPS,OBS_TRIP_STOPS,WGT_TRIP_STOPS,STOP_ID,ROUTE_LONG_NAME,ROUTE_TYPE,TRIP_HEADSIGN,HEADWAY_S,FARE,STOPNAME,STOPNAME_AVL,STOP_LAT,STOP_LON,EOL,SOL,TIMEPOINT,ARRIVAL_TIME_DEV,DEPARTURE_TIME_DEV,DWELL_S,DWELL,RUNTIME_S,RUNTIME,TOTTIME_S,TOTTIME,SERVMILES_S,SERVMILES,RUNSPEED_S,RUNSPEED,TOTSPEED_S,TOTSPEED,ONTIME5,ON,OFF,LOAD_ARR,LOAD_DEP,PASSMILES,PASSHOURS,WAITHOURS,FULLFARE_REV,PASSDELAY_DEP,PASSDELAY_ARR,RDBRDNGS,DOORCYCLES,WHEELCHAIR,BIKERACK,CAPACITY,VC,CROWDED,CROWDHOURS])\n",
      "/stop_day                frame_table  (typ->appendable,nrows->177415,ncols->51,indexers->[index],dc->[MONTH,DOW,AGENCY_ID,STOP_ID,NUMDAYS,OBSDAYS,TRIP_STOPS,OBS_TRIP_STOPS,WGT_TRIP_STOPS,HEADWAY_S,FARE,STOPNAME,STOPNAME_AVL,STOP_LAT,STOP_LON,EOL,SOL,TIMEPOINT,ARRIVAL_TIME_DEV,DEPARTURE_TIME_DEV,DWELL_S,DWELL,RUNTIME_S,RUNTIME,TOTTIME_S,TOTTIME,SERVMILES_S,SERVMILES,RUNSPEED_S,RUNSPEED,TOTSPEED_S,TOTSPEED,ONTIME5,ON,OFF,LOAD_ARR,LOAD_DEP,PASSMILES,PASSHOURS,WAITHOURS,FULLFARE_REV,PASSDELAY_DEP,PASSDELAY_ARR,RDBRDNGS,DOORCYCLES,WHEELCHAIR,BIKERACK,CAPACITY,VC,CROWDED,CROWDHOURS])                                                                       \n",
      "/stop_tod                frame_table  (typ->appendable,nrows->1125515,ncols->52,indexers->[index],dc->[MONTH,DOW,TOD,AGENCY_ID,STOP_ID,NUMDAYS,OBSDAYS,TRIP_STOPS,OBS_TRIP_STOPS,WGT_TRIP_STOPS,HEADWAY_S,FARE,STOPNAME,STOPNAME_AVL,STOP_LAT,STOP_LON,EOL,SOL,TIMEPOINT,ARRIVAL_TIME_DEV,DEPARTURE_TIME_DEV,DWELL_S,DWELL,RUNTIME_S,RUNTIME,TOTTIME_S,TOTTIME,SERVMILES_S,SERVMILES,RUNSPEED_S,RUNSPEED,TOTSPEED_S,TOTSPEED,ONTIME5,ON,OFF,LOAD_ARR,LOAD_DEP,PASSMILES,PASSHOURS,WAITHOURS,FULLFARE_REV,PASSDELAY_DEP,PASSDELAY_ARR,RDBRDNGS,DOORCYCLES,WHEELCHAIR,BIKERACK,CAPACITY,VC,CROWDED,CROWDHOURS])                                                                  \n",
      "/system_day_s            frame_table  (typ->appendable,nrows->53,ncols->38,indexers->[index],dc->[MONTH,DOW,AGENCY_ID,NUMDAYS,OBSDAYS,TRIP_STOPS,OBS_TRIP_STOPS,WGT_TRIP_STOPS,HEADWAY_S,FARE,DWELL_S,DWELL,RUNTIME_S,RUNTIME,TOTTIME_S,TOTTIME,SERVMILES_S,SERVMILES,RUNSPEED_S,RUNSPEED,TOTSPEED_S,TOTSPEED,ONTIME5,ON,OFF,PASSMILES,PASSHOURS,WAITHOURS,FULLFARE_REV,PASSDELAY_DEP,PASSDELAY_ARR,RDBRDNGS,DOORCYCLES,WHEELCHAIR,BIKERACK,VC,CROWDED,CROWDHOURS])                                                                                                                                                                                                            \n",
      "/system_tod_s            frame_table  (typ->appendable,nrows->371,ncols->39,indexers->[index],dc->[MONTH,DOW,TOD,AGENCY_ID,NUMDAYS,OBSDAYS,TRIP_STOPS,OBS_TRIP_STOPS,WGT_TRIP_STOPS,HEADWAY_S,FARE,DWELL_S,DWELL,RUNTIME_S,RUNTIME,TOTTIME_S,TOTTIME,SERVMILES_S,SERVMILES,RUNSPEED_S,RUNSPEED,TOTSPEED_S,TOTSPEED,ONTIME5,ON,OFF,PASSMILES,PASSHOURS,WAITHOURS,FULLFARE_REV,PASSDELAY_DEP,PASSDELAY_ARR,RDBRDNGS,DOORCYCLES,WHEELCHAIR,BIKERACK,VC,CROWDED,CROWDHOURS])                                                                                                                                                                                                       >\n"
     ]
    }
   ],
   "source": [
    "hdffile = \"E:/Transit_Casa/Output/sfmuni_monthly_ts.h5\"\n",
    "store = pd.HDFStore(hdffile)\n",
    "print(store.items)\n",
    "df = store.get('rs_tod')"
   ]
  },
  {
   "cell_type": "code",
   "execution_count": 4,
   "metadata": {
    "collapsed": false
   },
   "outputs": [],
   "source": [
    "TOD = ['0300-0559', '0600-0859','0900,1359','1400-1559','1600-1859','1900-2159','2200-0259']"
=======
     "ename": "AttributeError",
     "evalue": "'str' object has no attribute 'ts_file'",
     "output_type": "error",
     "traceback": [
      "\u001b[0;31m---------------------------------------------------------------------------\u001b[0m",
      "\u001b[0;31mAttributeError\u001b[0m                            Traceback (most recent call last)",
      "\u001b[0;32m<ipython-input-3-ceda26cffd11>\u001b[0m in \u001b[0;36m<module>\u001b[0;34m()\u001b[0m\n\u001b[1;32m      1\u001b[0m \u001b[0mself\u001b[0m \u001b[1;33m=\u001b[0m \u001b[1;34m\"E:\\Transit_Casa\\Alex\\Output\\Performence Report/RoutePlots.html\"\u001b[0m\u001b[1;33m\u001b[0m\u001b[0m\n\u001b[0;32m----> 2\u001b[0;31m \u001b[0mts_store\u001b[0m \u001b[1;33m=\u001b[0m \u001b[0mpd\u001b[0m\u001b[1;33m.\u001b[0m\u001b[0mHDFStore\u001b[0m\u001b[1;33m(\u001b[0m\u001b[0mself\u001b[0m\u001b[1;33m.\u001b[0m\u001b[0mts_file\u001b[0m\u001b[1;33m)\u001b[0m\u001b[1;33m\u001b[0m\u001b[0m\n\u001b[0m",
      "\u001b[0;31mAttributeError\u001b[0m: 'str' object has no attribute 'ts_file'"
     ]
    }
   ],
   "source": []
  },
  {
   "cell_type": "code",
   "execution_count": 2,
   "metadata": {
    "collapsed": true
   },
   "outputs": [],
   "source": [
    "hdffile = \"E:/Transit_Casa/Output/sfmuni_monthly_ts.h5\"\n",
    "store = pd.HDFStore(hdffile)\n",
    "df = store.get('rs_tod')"
>>>>>>> 6e43ba4dca69e340b79d1a3d9b929f6bae11c8f8
   ]
  },
  {
   "cell_type": "code",
<<<<<<< HEAD
   "execution_count": 5,
=======
   "execution_count": 6,
>>>>>>> 6e43ba4dca69e340b79d1a3d9b929f6bae11c8f8
   "metadata": {
    "collapsed": false
   },
   "outputs": [],
   "source": [
<<<<<<< HEAD
    "import sys \n",
    "sys.path.append('C:\\Workspace\\SOURCE\\sf_taxi\\sfdata_wrangler')\n",
    "import TransitReporter as tr\n"
=======
    "TOD = ['0300-0559', '0600-0859','0900,1359','1400-1559','1600-1859','1900-2159','2200-0259']"
>>>>>>> 6e43ba4dca69e340b79d1a3d9b929f6bae11c8f8
   ]
  },
  {
   "cell_type": "code",
<<<<<<< HEAD
   "execution_count": 6,
=======
   "execution_count": 9,
>>>>>>> 6e43ba4dca69e340b79d1a3d9b929f6bae11c8f8
   "metadata": {
    "collapsed": false
   },
   "outputs": [
    {
<<<<<<< HEAD
     "ename": "TypeError",
     "evalue": "createRoutePlot() missing 7 required positional arguments: 'self', 'outfile', 'months', 'dow', 'tod', 'route_short_name', and 'dir'",
     "output_type": "error",
     "traceback": [
      "\u001b[0;31m---------------------------------------------------------------------------\u001b[0m",
      "\u001b[0;31mTypeError\u001b[0m                                 Traceback (most recent call last)",
      "\u001b[0;32m<ipython-input-6-fab0a703102b>\u001b[0m in \u001b[0;36m<module>\u001b[0;34m()\u001b[0m\n\u001b[1;32m      1\u001b[0m \u001b[0mREPORT_ROUTEPLOTS\u001b[0m \u001b[1;33m=\u001b[0m \u001b[1;34m\"E:\\Transit_Casa\\Alex\\Output\\Performence Report/RoutePlots\"\u001b[0m\u001b[1;33m\u001b[0m\u001b[0m\n\u001b[1;32m      2\u001b[0m \u001b[1;33m\u001b[0m\u001b[0m\n\u001b[0;32m----> 3\u001b[0;31m \u001b[0mtr\u001b[0m\u001b[1;33m.\u001b[0m\u001b[0mTransitReporter\u001b[0m\u001b[1;33m.\u001b[0m\u001b[0mcreateRoutePlot\u001b[0m\u001b[1;33m(\u001b[0m\u001b[1;33m)\u001b[0m\u001b[1;33m\u001b[0m\u001b[0m\n\u001b[0m",
      "\u001b[0;31mTypeError\u001b[0m: createRoutePlot() missing 7 required positional arguments: 'self', 'outfile', 'months', 'dow', 'tod', 'route_short_name', and 'dir'"
=======
     "ename": "ImportError",
     "evalue": "No module named 'TransitReporter.createRoutePlot'; 'TransitReporter' is not a package",
     "output_type": "error",
     "traceback": [
      "\u001b[0;31m---------------------------------------------------------------------------\u001b[0m",
      "\u001b[0;31mImportError\u001b[0m                               Traceback (most recent call last)",
      "\u001b[0;32m<ipython-input-9-17a3d9d02c51>\u001b[0m in \u001b[0;36m<module>\u001b[0;34m()\u001b[0m\n\u001b[1;32m      1\u001b[0m \u001b[1;32mimport\u001b[0m \u001b[0msys\u001b[0m\u001b[1;33m\u001b[0m\u001b[0m\n\u001b[1;32m      2\u001b[0m \u001b[0msys\u001b[0m\u001b[1;33m.\u001b[0m\u001b[0mpath\u001b[0m\u001b[1;33m.\u001b[0m\u001b[0mappend\u001b[0m\u001b[1;33m(\u001b[0m\u001b[1;34m'C:\\Workspace\\SOURCE\\sf_taxi\\sfdata_wrangler'\u001b[0m\u001b[1;33m)\u001b[0m\u001b[1;33m\u001b[0m\u001b[0m\n\u001b[0;32m----> 3\u001b[0;31m \u001b[1;32mimport\u001b[0m \u001b[0mTransitReporter\u001b[0m\u001b[1;33m.\u001b[0m\u001b[0mcreateRoutePlot\u001b[0m \u001b[1;32mas\u001b[0m \u001b[0mtr\u001b[0m\u001b[1;33m\u001b[0m\u001b[0m\n\u001b[0m",
      "\u001b[0;31mImportError\u001b[0m: No module named 'TransitReporter.createRoutePlot'; 'TransitReporter' is not a package"
>>>>>>> 6e43ba4dca69e340b79d1a3d9b929f6bae11c8f8
     ]
    }
   ],
   "source": [
<<<<<<< HEAD
    "REPORT_ROUTEPLOTS = \"E:\\Transit_Casa\\Alex\\Output\\Performence Report/RoutePlots\"\n",
    "\n",
    "tr.TransitReporter.createRoutePlot()"
   ]
  },
  {
   "cell_type": "code",
   "execution_count": 16,
   "metadata": {
    "collapsed": false
   },
   "outputs": [
    {
     "data": {
      "text/html": [
       "<div>\n",
       "<table border=\"1\" class=\"dataframe\">\n",
       "  <thead>\n",
       "    <tr style=\"text-align: right;\">\n",
       "      <th></th>\n",
       "      <th>MONTH</th>\n",
       "      <th>DOW</th>\n",
       "      <th>AGENCY_ID</th>\n",
       "      <th>ROUTE_SHORT_NAME</th>\n",
       "      <th>DIR</th>\n",
       "      <th>SEQ</th>\n",
       "      <th>NUMDAYS</th>\n",
       "      <th>OBSDAYS</th>\n",
       "      <th>TRIP_STOPS</th>\n",
       "      <th>OBS_TRIP_STOPS</th>\n",
       "      <th>WGT_TRIP_STOPS</th>\n",
       "      <th>STOP_ID</th>\n",
       "      <th>ROUTE_LONG_NAME</th>\n",
       "      <th>ROUTE_TYPE</th>\n",
       "      <th>TRIP_HEADSIGN</th>\n",
       "      <th>HEADWAY_S</th>\n",
       "      <th>FARE</th>\n",
       "      <th>STOPNAME</th>\n",
       "      <th>STOPNAME_AVL</th>\n",
       "      <th>STOP_LAT</th>\n",
       "      <th>STOP_LON</th>\n",
       "      <th>EOL</th>\n",
       "      <th>SOL</th>\n",
       "      <th>TIMEPOINT</th>\n",
       "      <th>ARRIVAL_TIME_DEV</th>\n",
       "      <th>DEPARTURE_TIME_DEV</th>\n",
       "      <th>DWELL_S</th>\n",
       "      <th>DWELL</th>\n",
       "      <th>RUNTIME_S</th>\n",
       "      <th>RUNTIME</th>\n",
       "      <th>TOTTIME_S</th>\n",
       "      <th>TOTTIME</th>\n",
       "      <th>SERVMILES_S</th>\n",
       "      <th>SERVMILES</th>\n",
       "      <th>RUNSPEED_S</th>\n",
       "      <th>RUNSPEED</th>\n",
       "      <th>TOTSPEED_S</th>\n",
       "      <th>TOTSPEED</th>\n",
       "      <th>ONTIME5</th>\n",
       "      <th>ON</th>\n",
       "      <th>OFF</th>\n",
       "      <th>LOAD_ARR</th>\n",
       "      <th>LOAD_DEP</th>\n",
       "      <th>PASSMILES</th>\n",
       "      <th>PASSHOURS</th>\n",
       "      <th>WAITHOURS</th>\n",
       "      <th>FULLFARE_REV</th>\n",
       "      <th>PASSDELAY_DEP</th>\n",
       "      <th>PASSDELAY_ARR</th>\n",
       "      <th>RDBRDNGS</th>\n",
       "      <th>DOORCYCLES</th>\n",
       "      <th>WHEELCHAIR</th>\n",
       "      <th>BIKERACK</th>\n",
       "      <th>CAPACITY</th>\n",
       "      <th>VC</th>\n",
       "      <th>CROWDED</th>\n",
       "      <th>CROWDHOURS</th>\n",
       "    </tr>\n",
       "  </thead>\n",
       "  <tbody>\n",
       "    <tr>\n",
       "      <th>0</th>\n",
       "      <td>2009-06-01</td>\n",
       "      <td>1</td>\n",
       "      <td>SFMTA</td>\n",
       "      <td>016AX</td>\n",
       "      <td>0</td>\n",
       "      <td>3</td>\n",
       "      <td>12</td>\n",
       "      <td>11</td>\n",
       "      <td>13</td>\n",
       "      <td>2</td>\n",
       "      <td>13.0</td>\n",
       "      <td>3612</td>\n",
       "      <td>NORIEGA A EXP</td>\n",
       "      <td>3</td>\n",
       "      <td>48th Avenue</td>\n",
       "      <td>10.666667</td>\n",
       "      <td>2.0</td>\n",
       "      <td>Cyril Magnin St &amp; Market St</td>\n",
       "      <td>5TH ST NORTH&amp;MARKET ST NW</td>\n",
       "      <td>37.784011</td>\n",
       "      <td>-122.408210</td>\n",
       "      <td>0</td>\n",
       "      <td>1</td>\n",
       "      <td>1.0</td>\n",
       "      <td>-4.083968</td>\n",
       "      <td>-0.189805</td>\n",
       "      <td>0.0</td>\n",
       "      <td>50.597210</td>\n",
       "      <td>0.00</td>\n",
       "      <td>0.000000</td>\n",
       "      <td>0.00</td>\n",
       "      <td>50.597210</td>\n",
       "      <td>0.000</td>\n",
       "      <td>0.000</td>\n",
       "      <td>0.00</td>\n",
       "      <td>0.00</td>\n",
       "      <td>0.00</td>\n",
       "      <td>0.00</td>\n",
       "      <td>0.671212</td>\n",
       "      <td>212.620346</td>\n",
       "      <td>1.181818</td>\n",
       "      <td>1.181818</td>\n",
       "      <td>212.620346</td>\n",
       "      <td>0.000000</td>\n",
       "      <td>14.251523</td>\n",
       "      <td>20.181656</td>\n",
       "      <td>425.240693</td>\n",
       "      <td>140.166169</td>\n",
       "      <td>75.003247</td>\n",
       "      <td>0.0</td>\n",
       "      <td>19.716667</td>\n",
       "      <td>0.0</td>\n",
       "      <td>0.0</td>\n",
       "      <td>177.545455</td>\n",
       "      <td>0.001443</td>\n",
       "      <td>0.0</td>\n",
       "      <td>0.0</td>\n",
       "    </tr>\n",
       "    <tr>\n",
       "      <th>1</th>\n",
       "      <td>2009-06-01</td>\n",
       "      <td>1</td>\n",
       "      <td>SFMTA</td>\n",
       "      <td>016AX</td>\n",
       "      <td>0</td>\n",
       "      <td>4</td>\n",
       "      <td>12</td>\n",
       "      <td>0</td>\n",
       "      <td>13</td>\n",
       "      <td>0</td>\n",
       "      <td>13.0</td>\n",
       "      <td>7305</td>\n",
       "      <td>NORIEGA A EXP</td>\n",
       "      <td>3</td>\n",
       "      <td>48th Avenue</td>\n",
       "      <td>10.666667</td>\n",
       "      <td>2.0</td>\n",
       "      <td>Eddy St &amp; Cyril Magnin St</td>\n",
       "      <td>nan</td>\n",
       "      <td>37.784386</td>\n",
       "      <td>-122.408599</td>\n",
       "      <td>0</td>\n",
       "      <td>0</td>\n",
       "      <td>NaN</td>\n",
       "      <td>NaN</td>\n",
       "      <td>NaN</td>\n",
       "      <td>0.0</td>\n",
       "      <td>NaN</td>\n",
       "      <td>2.99</td>\n",
       "      <td>NaN</td>\n",
       "      <td>2.99</td>\n",
       "      <td>NaN</td>\n",
       "      <td>0.546</td>\n",
       "      <td>0.546</td>\n",
       "      <td>10.96</td>\n",
       "      <td>NaN</td>\n",
       "      <td>10.96</td>\n",
       "      <td>NaN</td>\n",
       "      <td>NaN</td>\n",
       "      <td>NaN</td>\n",
       "      <td>NaN</td>\n",
       "      <td>NaN</td>\n",
       "      <td>NaN</td>\n",
       "      <td>NaN</td>\n",
       "      <td>NaN</td>\n",
       "      <td>NaN</td>\n",
       "      <td>NaN</td>\n",
       "      <td>NaN</td>\n",
       "      <td>NaN</td>\n",
       "      <td>NaN</td>\n",
       "      <td>NaN</td>\n",
       "      <td>NaN</td>\n",
       "      <td>NaN</td>\n",
       "      <td>NaN</td>\n",
       "      <td>NaN</td>\n",
       "      <td>NaN</td>\n",
       "      <td>NaN</td>\n",
       "    </tr>\n",
       "    <tr>\n",
       "      <th>2</th>\n",
       "      <td>2009-06-01</td>\n",
       "      <td>1</td>\n",
       "      <td>SFMTA</td>\n",
       "      <td>016AX</td>\n",
       "      <td>0</td>\n",
       "      <td>5</td>\n",
       "      <td>12</td>\n",
       "      <td>11</td>\n",
       "      <td>13</td>\n",
       "      <td>2</td>\n",
       "      <td>13.0</td>\n",
       "      <td>6733</td>\n",
       "      <td>NORIEGA A EXP</td>\n",
       "      <td>3</td>\n",
       "      <td>48th Avenue</td>\n",
       "      <td>10.666667</td>\n",
       "      <td>2.0</td>\n",
       "      <td>Turk St &amp; Taylor St</td>\n",
       "      <td>TURK ST&amp;TAYLOR ST N-MB/BZ</td>\n",
       "      <td>37.783387</td>\n",
       "      <td>-122.409895</td>\n",
       "      <td>0</td>\n",
       "      <td>0</td>\n",
       "      <td>0.0</td>\n",
       "      <td>-0.104658</td>\n",
       "      <td>-0.083203</td>\n",
       "      <td>0.0</td>\n",
       "      <td>0.286000</td>\n",
       "      <td>11.05</td>\n",
       "      <td>15.190106</td>\n",
       "      <td>11.05</td>\n",
       "      <td>15.476106</td>\n",
       "      <td>1.716</td>\n",
       "      <td>1.716</td>\n",
       "      <td>9.32</td>\n",
       "      <td>6.78</td>\n",
       "      <td>9.32</td>\n",
       "      <td>6.65</td>\n",
       "      <td>0.739394</td>\n",
       "      <td>3.309091</td>\n",
       "      <td>0.000000</td>\n",
       "      <td>212.620346</td>\n",
       "      <td>215.929437</td>\n",
       "      <td>28.065886</td>\n",
       "      <td>4.450685</td>\n",
       "      <td>0.281667</td>\n",
       "      <td>6.618182</td>\n",
       "      <td>0.269455</td>\n",
       "      <td>0.222182</td>\n",
       "      <td>0.0</td>\n",
       "      <td>2.600000</td>\n",
       "      <td>0.0</td>\n",
       "      <td>0.0</td>\n",
       "      <td>177.545455</td>\n",
       "      <td>0.259610</td>\n",
       "      <td>0.0</td>\n",
       "      <td>0.0</td>\n",
       "    </tr>\n",
       "    <tr>\n",
       "      <th>3</th>\n",
       "      <td>2009-06-01</td>\n",
       "      <td>1</td>\n",
       "      <td>SFMTA</td>\n",
       "      <td>016AX</td>\n",
       "      <td>0</td>\n",
       "      <td>6</td>\n",
       "      <td>12</td>\n",
       "      <td>11</td>\n",
       "      <td>13</td>\n",
       "      <td>2</td>\n",
       "      <td>13.0</td>\n",
       "      <td>6719</td>\n",
       "      <td>NORIEGA A EXP</td>\n",
       "      <td>3</td>\n",
       "      <td>48th Avenue</td>\n",
       "      <td>10.666667</td>\n",
       "      <td>2.0</td>\n",
       "      <td>Turk St &amp; Jones St</td>\n",
       "      <td>TURK ST&amp;JONES ST NW-FS/BZ</td>\n",
       "      <td>37.783039</td>\n",
       "      <td>-122.412577</td>\n",
       "      <td>0</td>\n",
       "      <td>0</td>\n",
       "      <td>0.0</td>\n",
       "      <td>-0.286771</td>\n",
       "      <td>-0.281673</td>\n",
       "      <td>0.0</td>\n",
       "      <td>0.067955</td>\n",
       "      <td>12.74</td>\n",
       "      <td>10.124777</td>\n",
       "      <td>12.74</td>\n",
       "      <td>10.192732</td>\n",
       "      <td>1.937</td>\n",
       "      <td>1.937</td>\n",
       "      <td>9.12</td>\n",
       "      <td>11.48</td>\n",
       "      <td>9.12</td>\n",
       "      <td>11.40</td>\n",
       "      <td>0.643074</td>\n",
       "      <td>0.531818</td>\n",
       "      <td>0.000000</td>\n",
       "      <td>215.929437</td>\n",
       "      <td>216.461255</td>\n",
       "      <td>32.173486</td>\n",
       "      <td>2.842919</td>\n",
       "      <td>0.059091</td>\n",
       "      <td>1.063636</td>\n",
       "      <td>0.850909</td>\n",
       "      <td>0.806591</td>\n",
       "      <td>0.0</td>\n",
       "      <td>0.937013</td>\n",
       "      <td>0.0</td>\n",
       "      <td>0.0</td>\n",
       "      <td>177.545455</td>\n",
       "      <td>0.263650</td>\n",
       "      <td>0.0</td>\n",
       "      <td>0.0</td>\n",
       "    </tr>\n",
       "    <tr>\n",
       "      <th>4</th>\n",
       "      <td>2009-06-01</td>\n",
       "      <td>1</td>\n",
       "      <td>SFMTA</td>\n",
       "      <td>016AX</td>\n",
       "      <td>0</td>\n",
       "      <td>7</td>\n",
       "      <td>12</td>\n",
       "      <td>11</td>\n",
       "      <td>13</td>\n",
       "      <td>2</td>\n",
       "      <td>13.0</td>\n",
       "      <td>6721</td>\n",
       "      <td>NORIEGA A EXP</td>\n",
       "      <td>3</td>\n",
       "      <td>48th Avenue</td>\n",
       "      <td>10.666667</td>\n",
       "      <td>2.0</td>\n",
       "      <td>Turk St &amp; Leavenworth St</td>\n",
       "      <td>TURK ST&amp;LEAVENWORTH ST NW</td>\n",
       "      <td>37.782835</td>\n",
       "      <td>-122.414217</td>\n",
       "      <td>0</td>\n",
       "      <td>0</td>\n",
       "      <td>0.0</td>\n",
       "      <td>-0.230974</td>\n",
       "      <td>-0.212814</td>\n",
       "      <td>0.0</td>\n",
       "      <td>0.236082</td>\n",
       "      <td>7.80</td>\n",
       "      <td>8.448762</td>\n",
       "      <td>7.80</td>\n",
       "      <td>8.684844</td>\n",
       "      <td>1.183</td>\n",
       "      <td>1.183</td>\n",
       "      <td>9.10</td>\n",
       "      <td>8.40</td>\n",
       "      <td>9.10</td>\n",
       "      <td>8.17</td>\n",
       "      <td>0.643074</td>\n",
       "      <td>4.445887</td>\n",
       "      <td>0.000000</td>\n",
       "      <td>216.461255</td>\n",
       "      <td>220.907143</td>\n",
       "      <td>19.697974</td>\n",
       "      <td>2.593526</td>\n",
       "      <td>0.492424</td>\n",
       "      <td>8.891775</td>\n",
       "      <td>0.263377</td>\n",
       "      <td>0.187403</td>\n",
       "      <td>0.0</td>\n",
       "      <td>8.047619</td>\n",
       "      <td>0.0</td>\n",
       "      <td>0.0</td>\n",
       "      <td>177.545455</td>\n",
       "      <td>0.264299</td>\n",
       "      <td>0.0</td>\n",
       "      <td>0.0</td>\n",
       "    </tr>\n",
       "  </tbody>\n",
       "</table>\n",
       "</div>"
      ],
      "text/plain": [
       "       MONTH  DOW AGENCY_ID ROUTE_SHORT_NAME  DIR  SEQ  NUMDAYS  OBSDAYS  \\\n",
       "0 2009-06-01    1     SFMTA            016AX    0    3       12       11   \n",
       "1 2009-06-01    1     SFMTA            016AX    0    4       12        0   \n",
       "2 2009-06-01    1     SFMTA            016AX    0    5       12       11   \n",
       "3 2009-06-01    1     SFMTA            016AX    0    6       12       11   \n",
       "4 2009-06-01    1     SFMTA            016AX    0    7       12       11   \n",
       "\n",
       "   TRIP_STOPS  OBS_TRIP_STOPS  WGT_TRIP_STOPS  STOP_ID ROUTE_LONG_NAME  \\\n",
       "0          13               2            13.0     3612   NORIEGA A EXP   \n",
       "1          13               0            13.0     7305   NORIEGA A EXP   \n",
       "2          13               2            13.0     6733   NORIEGA A EXP   \n",
       "3          13               2            13.0     6719   NORIEGA A EXP   \n",
       "4          13               2            13.0     6721   NORIEGA A EXP   \n",
       "\n",
       "   ROUTE_TYPE TRIP_HEADSIGN  HEADWAY_S  FARE                       STOPNAME  \\\n",
       "0           3   48th Avenue  10.666667   2.0  Cyril Magnin St & Market St     \n",
       "1           3   48th Avenue  10.666667   2.0      Eddy St & Cyril Magnin St   \n",
       "2           3   48th Avenue  10.666667   2.0         Turk St & Taylor St      \n",
       "3           3   48th Avenue  10.666667   2.0           Turk St & Jones St     \n",
       "4           3   48th Avenue  10.666667   2.0     Turk St & Leavenworth St     \n",
       "\n",
       "                STOPNAME_AVL   STOP_LAT    STOP_LON  EOL  SOL  TIMEPOINT  \\\n",
       "0  5TH ST NORTH&MARKET ST NW  37.784011 -122.408210    0    1        1.0   \n",
       "1                        nan  37.784386 -122.408599    0    0        NaN   \n",
       "2  TURK ST&TAYLOR ST N-MB/BZ  37.783387 -122.409895    0    0        0.0   \n",
       "3  TURK ST&JONES ST NW-FS/BZ  37.783039 -122.412577    0    0        0.0   \n",
       "4  TURK ST&LEAVENWORTH ST NW  37.782835 -122.414217    0    0        0.0   \n",
       "\n",
       "   ARRIVAL_TIME_DEV  DEPARTURE_TIME_DEV  DWELL_S      DWELL  RUNTIME_S  \\\n",
       "0         -4.083968           -0.189805      0.0  50.597210       0.00   \n",
       "1               NaN                 NaN      0.0        NaN       2.99   \n",
       "2         -0.104658           -0.083203      0.0   0.286000      11.05   \n",
       "3         -0.286771           -0.281673      0.0   0.067955      12.74   \n",
       "4         -0.230974           -0.212814      0.0   0.236082       7.80   \n",
       "\n",
       "     RUNTIME  TOTTIME_S    TOTTIME  SERVMILES_S  SERVMILES  RUNSPEED_S  \\\n",
       "0   0.000000       0.00  50.597210        0.000      0.000        0.00   \n",
       "1        NaN       2.99        NaN        0.546      0.546       10.96   \n",
       "2  15.190106      11.05  15.476106        1.716      1.716        9.32   \n",
       "3  10.124777      12.74  10.192732        1.937      1.937        9.12   \n",
       "4   8.448762       7.80   8.684844        1.183      1.183        9.10   \n",
       "\n",
       "   RUNSPEED  TOTSPEED_S  TOTSPEED   ONTIME5          ON       OFF    LOAD_ARR  \\\n",
       "0      0.00        0.00      0.00  0.671212  212.620346  1.181818    1.181818   \n",
       "1       NaN       10.96       NaN       NaN         NaN       NaN         NaN   \n",
       "2      6.78        9.32      6.65  0.739394    3.309091  0.000000  212.620346   \n",
       "3     11.48        9.12     11.40  0.643074    0.531818  0.000000  215.929437   \n",
       "4      8.40        9.10      8.17  0.643074    4.445887  0.000000  216.461255   \n",
       "\n",
       "     LOAD_DEP  PASSMILES  PASSHOURS  WAITHOURS  FULLFARE_REV  PASSDELAY_DEP  \\\n",
       "0  212.620346   0.000000  14.251523  20.181656    425.240693     140.166169   \n",
       "1         NaN        NaN        NaN        NaN           NaN            NaN   \n",
       "2  215.929437  28.065886   4.450685   0.281667      6.618182       0.269455   \n",
       "3  216.461255  32.173486   2.842919   0.059091      1.063636       0.850909   \n",
       "4  220.907143  19.697974   2.593526   0.492424      8.891775       0.263377   \n",
       "\n",
       "   PASSDELAY_ARR  RDBRDNGS  DOORCYCLES  WHEELCHAIR  BIKERACK    CAPACITY  \\\n",
       "0      75.003247       0.0   19.716667         0.0       0.0  177.545455   \n",
       "1            NaN       NaN         NaN         NaN       NaN         NaN   \n",
       "2       0.222182       0.0    2.600000         0.0       0.0  177.545455   \n",
       "3       0.806591       0.0    0.937013         0.0       0.0  177.545455   \n",
       "4       0.187403       0.0    8.047619         0.0       0.0  177.545455   \n",
       "\n",
       "         VC  CROWDED  CROWDHOURS  \n",
       "0  0.001443      0.0         0.0  \n",
       "1       NaN      NaN         NaN  \n",
       "2  0.259610      0.0         0.0  \n",
       "3  0.263650      0.0         0.0  \n",
       "4  0.264299      0.0         0.0  "
      ]
     },
     "execution_count": 16,
     "metadata": {},
     "output_type": "execute_result"
    }
   ],
   "source": [
    "df.head()"
=======
    "import sys \n",
    "sys.path.append('C:\\Workspace\\SOURCE\\sf_taxi\\sfdata_wrangler')\n",
    "import TransitReporter as tr\n"
>>>>>>> 6e43ba4dca69e340b79d1a3d9b929f6bae11c8f8
   ]
  },
  {
   "cell_type": "code",
<<<<<<< HEAD
   "execution_count": 25,
=======
   "execution_count": 10,
>>>>>>> 6e43ba4dca69e340b79d1a3d9b929f6bae11c8f8
   "metadata": {
    "collapsed": true
   },
   "outputs": [],
   "source": [
<<<<<<< HEAD
    "df2 = df[np.isnan(df[['ON',''])]"
   ]
  },
  {
   "cell_type": "code",
   "execution_count": 27,
   "metadata": {
    "collapsed": false
   },
   "outputs": [],
   "source": [
    "df3 = df2.groupby(by = 'STOP_ID').first()"
   ]
  },
  {
   "cell_type": "code",
   "execution_count": 30,
   "metadata": {
    "collapsed": false
   },
   "outputs": [
    {
     "data": {
      "text/plain": [
       "array([3], dtype=int64)"
      ]
     },
     "execution_count": 30,
     "metadata": {},
     "output_type": "execute_result"
    }
   ],
   "source": [
    "df3.ROUTE_TYPE.unique()"
   ]
  },
  {
   "cell_type": "code",
   "execution_count": 31,
   "metadata": {
    "collapsed": false
   },
   "outputs": [
    {
     "ename": "PermissionError",
     "evalue": "[Errno 13] Permission denied: 'MUNI Rail Stops.csv'",
     "output_type": "error",
     "traceback": [
      "\u001b[0;31m---------------------------------------------------------------------------\u001b[0m",
      "\u001b[0;31mPermissionError\u001b[0m                           Traceback (most recent call last)",
      "\u001b[0;32m<ipython-input-31-6d536993dafd>\u001b[0m in \u001b[0;36m<module>\u001b[0;34m()\u001b[0m\n\u001b[0;32m----> 1\u001b[0;31m \u001b[0mdf3\u001b[0m\u001b[1;33m.\u001b[0m\u001b[0mto_csv\u001b[0m\u001b[1;33m(\u001b[0m\u001b[1;34m'MUNI Rail Stops.csv'\u001b[0m\u001b[1;33m)\u001b[0m\u001b[1;33m\u001b[0m\u001b[0m\n\u001b[0m",
      "\u001b[0;32mC:\\Anaconda\\lib\\site-packages\\pandas\\core\\frame.py\u001b[0m in \u001b[0;36mto_csv\u001b[0;34m(self, path_or_buf, sep, na_rep, float_format, columns, header, index, index_label, mode, encoding, compression, quoting, quotechar, line_terminator, chunksize, tupleize_cols, date_format, doublequote, escapechar, decimal)\u001b[0m\n\u001b[1;32m   1381\u001b[0m                                      \u001b[0mdoublequote\u001b[0m\u001b[1;33m=\u001b[0m\u001b[0mdoublequote\u001b[0m\u001b[1;33m,\u001b[0m\u001b[1;33m\u001b[0m\u001b[0m\n\u001b[1;32m   1382\u001b[0m                                      escapechar=escapechar, decimal=decimal)\n\u001b[0;32m-> 1383\u001b[0;31m         \u001b[0mformatter\u001b[0m\u001b[1;33m.\u001b[0m\u001b[0msave\u001b[0m\u001b[1;33m(\u001b[0m\u001b[1;33m)\u001b[0m\u001b[1;33m\u001b[0m\u001b[0m\n\u001b[0m\u001b[1;32m   1384\u001b[0m \u001b[1;33m\u001b[0m\u001b[0m\n\u001b[1;32m   1385\u001b[0m         \u001b[1;32mif\u001b[0m \u001b[0mpath_or_buf\u001b[0m \u001b[1;32mis\u001b[0m \u001b[1;32mNone\u001b[0m\u001b[1;33m:\u001b[0m\u001b[1;33m\u001b[0m\u001b[0m\n",
      "\u001b[0;32mC:\\Anaconda\\lib\\site-packages\\pandas\\formats\\format.py\u001b[0m in \u001b[0;36msave\u001b[0;34m(self)\u001b[0m\n\u001b[1;32m   1458\u001b[0m             f = _get_handle(self.path_or_buf, self.mode,\n\u001b[1;32m   1459\u001b[0m                             \u001b[0mencoding\u001b[0m\u001b[1;33m=\u001b[0m\u001b[0mself\u001b[0m\u001b[1;33m.\u001b[0m\u001b[0mencoding\u001b[0m\u001b[1;33m,\u001b[0m\u001b[1;33m\u001b[0m\u001b[0m\n\u001b[0;32m-> 1460\u001b[0;31m                             compression=self.compression)\n\u001b[0m\u001b[1;32m   1461\u001b[0m             \u001b[0mclose\u001b[0m \u001b[1;33m=\u001b[0m \u001b[1;32mTrue\u001b[0m\u001b[1;33m\u001b[0m\u001b[0m\n\u001b[1;32m   1462\u001b[0m \u001b[1;33m\u001b[0m\u001b[0m\n",
      "\u001b[0;32mC:\\Anaconda\\lib\\site-packages\\pandas\\io\\common.py\u001b[0m in \u001b[0;36m_get_handle\u001b[0;34m(path, mode, encoding, compression, memory_map)\u001b[0m\n\u001b[1;32m    330\u001b[0m                 \u001b[0mf\u001b[0m \u001b[1;33m=\u001b[0m \u001b[0mopen\u001b[0m\u001b[1;33m(\u001b[0m\u001b[0mpath\u001b[0m\u001b[1;33m,\u001b[0m \u001b[0mmode\u001b[0m\u001b[1;33m,\u001b[0m \u001b[0mencoding\u001b[0m\u001b[1;33m=\u001b[0m\u001b[0mencoding\u001b[0m\u001b[1;33m)\u001b[0m\u001b[1;33m\u001b[0m\u001b[0m\n\u001b[1;32m    331\u001b[0m             \u001b[1;32melse\u001b[0m\u001b[1;33m:\u001b[0m\u001b[1;33m\u001b[0m\u001b[0m\n\u001b[0;32m--> 332\u001b[0;31m                 \u001b[0mf\u001b[0m \u001b[1;33m=\u001b[0m \u001b[0mopen\u001b[0m\u001b[1;33m(\u001b[0m\u001b[0mpath\u001b[0m\u001b[1;33m,\u001b[0m \u001b[0mmode\u001b[0m\u001b[1;33m,\u001b[0m \u001b[0merrors\u001b[0m\u001b[1;33m=\u001b[0m\u001b[1;34m'replace'\u001b[0m\u001b[1;33m)\u001b[0m\u001b[1;33m\u001b[0m\u001b[0m\n\u001b[0m\u001b[1;32m    333\u001b[0m         \u001b[1;32melse\u001b[0m\u001b[1;33m:\u001b[0m\u001b[1;33m\u001b[0m\u001b[0m\n\u001b[1;32m    334\u001b[0m             \u001b[0mf\u001b[0m \u001b[1;33m=\u001b[0m \u001b[0mopen\u001b[0m\u001b[1;33m(\u001b[0m\u001b[0mpath\u001b[0m\u001b[1;33m,\u001b[0m \u001b[0mmode\u001b[0m\u001b[1;33m)\u001b[0m\u001b[1;33m\u001b[0m\u001b[0m\n",
      "\u001b[0;31mPermissionError\u001b[0m: [Errno 13] Permission denied: 'MUNI Rail Stops.csv'"
     ]
    }
   ],
   "source": [
    "df3.to_csv('MUNI Rail Stops.csv')"
=======
    "REPORT_ROUTEPLOTS = \"E:\\Transit_Casa\\Alex\\Output\\Performence Report/RoutePlots\"\n",
    "\n",
    "tr.TransitReporter.createRoutePlot()"
>>>>>>> 6e43ba4dca69e340b79d1a3d9b929f6bae11c8f8
   ]
  },
  {
   "cell_type": "code",
<<<<<<< HEAD
   "execution_count": null,
   "metadata": {
    "collapsed": false
=======
   "execution_count": 2,
   "metadata": {
    "collapsed": true
>>>>>>> 6e43ba4dca69e340b79d1a3d9b929f6bae11c8f8
   },
   "outputs": [],
   "source": []
  },
  {
   "cell_type": "code",
<<<<<<< HEAD
   "execution_count": 41,
   "metadata": {
    "collapsed": false
   },
   "outputs": [
    {
     "data": {
      "text/plain": [
       "array([3], dtype=int64)"
      ]
     },
     "execution_count": 41,
     "metadata": {},
     "output_type": "execute_result"
    }
   ],
   "source": [
    "df.ROUTE_TYPE.unique()"
   ]
  },
  {
   "cell_type": "code",
=======
>>>>>>> 6e43ba4dca69e340b79d1a3d9b929f6bae11c8f8
   "execution_count": null,
   "metadata": {
    "collapsed": true
   },
   "outputs": [],
   "source": []
  }
 ],
 "metadata": {
  "anaconda-cloud": {},
  "kernelspec": {
   "display_name": "Python [conda root]",
   "language": "python",
   "name": "conda-root-py"
  },
  "language_info": {
   "codemirror_mode": {
    "name": "ipython",
    "version": 3
   },
   "file_extension": ".py",
   "mimetype": "text/x-python",
   "name": "python",
   "nbconvert_exporter": "python",
   "pygments_lexer": "ipython3",
   "version": "3.5.2"
  }
 },
 "nbformat": 4,
 "nbformat_minor": 1
}
