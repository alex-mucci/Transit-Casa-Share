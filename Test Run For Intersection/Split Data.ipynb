{
 "cells": [
  {
   "cell_type": "code",
<<<<<<< HEAD
   "execution_count": 1,
=======
   "execution_count": 40,
>>>>>>> 6e43ba4dca69e340b79d1a3d9b929f6bae11c8f8
   "metadata": {
    "collapsed": false
   },
   "outputs": [],
   "source": [
    "import pandas as pd\n",
    "import geopandas as gp\n",
    "import datetime\n",
    "import numpy as np\n",
    "%matplotlib inline\n"
   ]
  },
  {
   "cell_type": "code",
   "execution_count": 2,
   "metadata": {
    "collapsed": false
   },
   "outputs": [],
   "source": [
    "blocks10 = gp.read_file('E:/Transit-Casa-Alex/Input/2010 Cenusus Shapefiles/2010 Census Blocks/Combined_Counties.shp')"
   ]
  },
  {
   "cell_type": "code",
   "execution_count": 4,
   "metadata": {
    "collapsed": false
   },
   "outputs": [
    {
     "ename": "IndexError",
     "evalue": "too many indices for array",
     "output_type": "error",
     "traceback": [
      "\u001b[0;31m---------------------------------------------------------------------------\u001b[0m",
      "\u001b[0;31mIndexError\u001b[0m                                Traceback (most recent call last)",
      "\u001b[0;32m<ipython-input-4-9b9660f70dbd>\u001b[0m in \u001b[0;36m<module>\u001b[0;34m()\u001b[0m\n\u001b[0;32m----> 1\u001b[0;31m \u001b[0mblocks10\u001b[0m\u001b[1;33m.\u001b[0m\u001b[0mplot\u001b[0m\u001b[1;33m(\u001b[0m\u001b[1;33m)\u001b[0m\u001b[1;33m\u001b[0m\u001b[0m\n\u001b[0m",
      "\u001b[0;32mC:\\Anaconda\\lib\\site-packages\\geopandas\\geodataframe.py\u001b[0m in \u001b[0;36mplot\u001b[0;34m(self, *args, **kwargs)\u001b[0m\n\u001b[1;32m    445\u001b[0m     \u001b[1;32mdef\u001b[0m \u001b[0mplot\u001b[0m\u001b[1;33m(\u001b[0m\u001b[0mself\u001b[0m\u001b[1;33m,\u001b[0m \u001b[1;33m*\u001b[0m\u001b[0margs\u001b[0m\u001b[1;33m,\u001b[0m \u001b[1;33m**\u001b[0m\u001b[0mkwargs\u001b[0m\u001b[1;33m)\u001b[0m\u001b[1;33m:\u001b[0m\u001b[1;33m\u001b[0m\u001b[0m\n\u001b[1;32m    446\u001b[0m \u001b[1;33m\u001b[0m\u001b[0m\n\u001b[0;32m--> 447\u001b[0;31m         \u001b[1;32mreturn\u001b[0m \u001b[0mplot_dataframe\u001b[0m\u001b[1;33m(\u001b[0m\u001b[0mself\u001b[0m\u001b[1;33m,\u001b[0m \u001b[1;33m*\u001b[0m\u001b[0margs\u001b[0m\u001b[1;33m,\u001b[0m \u001b[1;33m**\u001b[0m\u001b[0mkwargs\u001b[0m\u001b[1;33m)\u001b[0m\u001b[1;33m\u001b[0m\u001b[0m\n\u001b[0m\u001b[1;32m    448\u001b[0m \u001b[1;33m\u001b[0m\u001b[0m\n\u001b[1;32m    449\u001b[0m     \u001b[0mplot\u001b[0m\u001b[1;33m.\u001b[0m\u001b[0m__doc__\u001b[0m \u001b[1;33m=\u001b[0m \u001b[0mplot_dataframe\u001b[0m\u001b[1;33m.\u001b[0m\u001b[0m__doc__\u001b[0m\u001b[1;33m\u001b[0m\u001b[0m\n",
      "\u001b[0;32mC:\\Anaconda\\lib\\site-packages\\geopandas\\plotting.py\u001b[0m in \u001b[0;36mplot_dataframe\u001b[0;34m(s, column, cmap, color, linewidth, categorical, legend, ax, scheme, k, vmin, vmax, figsize, **color_kwds)\u001b[0m\n\u001b[1;32m    238\u001b[0m         return plot_series(s.geometry, cmap=cmap, color=color,\n\u001b[1;32m    239\u001b[0m                            \u001b[0max\u001b[0m\u001b[1;33m=\u001b[0m\u001b[0max\u001b[0m\u001b[1;33m,\u001b[0m \u001b[0mlinewidth\u001b[0m\u001b[1;33m=\u001b[0m\u001b[0mlinewidth\u001b[0m\u001b[1;33m,\u001b[0m \u001b[0mfigsize\u001b[0m\u001b[1;33m=\u001b[0m\u001b[0mfigsize\u001b[0m\u001b[1;33m,\u001b[0m\u001b[1;33m\u001b[0m\u001b[0m\n\u001b[0;32m--> 240\u001b[0;31m                            **color_kwds)\n\u001b[0m\u001b[1;32m    241\u001b[0m     \u001b[1;32melse\u001b[0m\u001b[1;33m:\u001b[0m\u001b[1;33m\u001b[0m\u001b[0m\n\u001b[1;32m    242\u001b[0m         \u001b[1;32mif\u001b[0m \u001b[0ms\u001b[0m\u001b[1;33m[\u001b[0m\u001b[0mcolumn\u001b[0m\u001b[1;33m]\u001b[0m\u001b[1;33m.\u001b[0m\u001b[0mdtype\u001b[0m \u001b[1;32mis\u001b[0m \u001b[0mnp\u001b[0m\u001b[1;33m.\u001b[0m\u001b[0mdtype\u001b[0m\u001b[1;33m(\u001b[0m\u001b[1;34m'O'\u001b[0m\u001b[1;33m)\u001b[0m\u001b[1;33m:\u001b[0m\u001b[1;33m\u001b[0m\u001b[0m\n",
      "\u001b[0;32mC:\\Anaconda\\lib\\site-packages\\geopandas\\plotting.py\u001b[0m in \u001b[0;36mplot_series\u001b[0;34m(s, cmap, color, ax, linewidth, figsize, **color_kwds)\u001b[0m\n\u001b[1;32m    141\u001b[0m                 \u001b[0mplot_multipolygon\u001b[0m\u001b[1;33m(\u001b[0m\u001b[0max\u001b[0m\u001b[1;33m,\u001b[0m \u001b[0mgeom\u001b[0m\u001b[1;33m,\u001b[0m \u001b[0mlinewidth\u001b[0m\u001b[1;33m=\u001b[0m\u001b[0mlinewidth\u001b[0m\u001b[1;33m,\u001b[0m \u001b[1;33m**\u001b[0m\u001b[0mcolor_kwds\u001b[0m\u001b[1;33m)\u001b[0m\u001b[1;33m\u001b[0m\u001b[0m\n\u001b[1;32m    142\u001b[0m             \u001b[1;32melse\u001b[0m\u001b[1;33m:\u001b[0m\u001b[1;33m\u001b[0m\u001b[0m\n\u001b[0;32m--> 143\u001b[0;31m                 \u001b[0mplot_multipolygon\u001b[0m\u001b[1;33m(\u001b[0m\u001b[0max\u001b[0m\u001b[1;33m,\u001b[0m \u001b[0mgeom\u001b[0m\u001b[1;33m,\u001b[0m \u001b[0mfacecolor\u001b[0m\u001b[1;33m=\u001b[0m\u001b[0mcol\u001b[0m\u001b[1;33m,\u001b[0m \u001b[0mlinewidth\u001b[0m\u001b[1;33m=\u001b[0m\u001b[0mlinewidth\u001b[0m\u001b[1;33m,\u001b[0m \u001b[1;33m**\u001b[0m\u001b[0mcolor_kwds\u001b[0m\u001b[1;33m)\u001b[0m\u001b[1;33m\u001b[0m\u001b[0m\n\u001b[0m\u001b[1;32m    144\u001b[0m         \u001b[1;32melif\u001b[0m \u001b[0mgeom\u001b[0m\u001b[1;33m.\u001b[0m\u001b[0mtype\u001b[0m \u001b[1;33m==\u001b[0m \u001b[1;34m'LineString'\u001b[0m \u001b[1;32mor\u001b[0m \u001b[0mgeom\u001b[0m\u001b[1;33m.\u001b[0m\u001b[0mtype\u001b[0m \u001b[1;33m==\u001b[0m \u001b[1;34m'MultiLineString'\u001b[0m\u001b[1;33m:\u001b[0m\u001b[1;33m\u001b[0m\u001b[0m\n\u001b[1;32m    145\u001b[0m             \u001b[0mplot_multilinestring\u001b[0m\u001b[1;33m(\u001b[0m\u001b[0max\u001b[0m\u001b[1;33m,\u001b[0m \u001b[0mgeom\u001b[0m\u001b[1;33m,\u001b[0m \u001b[0mcolor\u001b[0m\u001b[1;33m=\u001b[0m\u001b[0mcol\u001b[0m\u001b[1;33m,\u001b[0m \u001b[0mlinewidth\u001b[0m\u001b[1;33m=\u001b[0m\u001b[0mlinewidth\u001b[0m\u001b[1;33m,\u001b[0m \u001b[1;33m**\u001b[0m\u001b[0mcolor_kwds\u001b[0m\u001b[1;33m)\u001b[0m\u001b[1;33m\u001b[0m\u001b[0m\n",
      "\u001b[0;32mC:\\Anaconda\\lib\\site-packages\\geopandas\\plotting.py\u001b[0m in \u001b[0;36mplot_multipolygon\u001b[0;34m(ax, geom, facecolor, edgecolor, alpha, linewidth, **kwargs)\u001b[0m\n\u001b[1;32m     28\u001b[0m     \"\"\"\n\u001b[1;32m     29\u001b[0m     \u001b[1;32mif\u001b[0m \u001b[0mgeom\u001b[0m\u001b[1;33m.\u001b[0m\u001b[0mtype\u001b[0m \u001b[1;33m==\u001b[0m \u001b[1;34m'Polygon'\u001b[0m\u001b[1;33m:\u001b[0m\u001b[1;33m\u001b[0m\u001b[0m\n\u001b[0;32m---> 30\u001b[0;31m         \u001b[0mplot_polygon\u001b[0m\u001b[1;33m(\u001b[0m\u001b[0max\u001b[0m\u001b[1;33m,\u001b[0m \u001b[0mgeom\u001b[0m\u001b[1;33m,\u001b[0m \u001b[0mfacecolor\u001b[0m\u001b[1;33m=\u001b[0m\u001b[0mfacecolor\u001b[0m\u001b[1;33m,\u001b[0m \u001b[0medgecolor\u001b[0m\u001b[1;33m=\u001b[0m\u001b[0medgecolor\u001b[0m\u001b[1;33m,\u001b[0m \u001b[0malpha\u001b[0m\u001b[1;33m=\u001b[0m\u001b[0malpha\u001b[0m\u001b[1;33m,\u001b[0m \u001b[0mlinewidth\u001b[0m\u001b[1;33m=\u001b[0m\u001b[0mlinewidth\u001b[0m\u001b[1;33m,\u001b[0m \u001b[1;33m**\u001b[0m\u001b[0mkwargs\u001b[0m\u001b[1;33m)\u001b[0m\u001b[1;33m\u001b[0m\u001b[0m\n\u001b[0m\u001b[1;32m     31\u001b[0m     \u001b[1;32melif\u001b[0m \u001b[0mgeom\u001b[0m\u001b[1;33m.\u001b[0m\u001b[0mtype\u001b[0m \u001b[1;33m==\u001b[0m \u001b[1;34m'MultiPolygon'\u001b[0m\u001b[1;33m:\u001b[0m\u001b[1;33m\u001b[0m\u001b[0m\n\u001b[1;32m     32\u001b[0m         \u001b[1;32mfor\u001b[0m \u001b[0mpoly\u001b[0m \u001b[1;32min\u001b[0m \u001b[0mgeom\u001b[0m\u001b[1;33m.\u001b[0m\u001b[0mgeoms\u001b[0m\u001b[1;33m:\u001b[0m\u001b[1;33m\u001b[0m\u001b[0m\n",
      "\u001b[0;32mC:\\Anaconda\\lib\\site-packages\\geopandas\\plotting.py\u001b[0m in \u001b[0;36mplot_polygon\u001b[0;34m(ax, poly, facecolor, edgecolor, alpha, linewidth, **kwargs)\u001b[0m\n\u001b[1;32m     17\u001b[0m \u001b[1;33m\u001b[0m\u001b[0m\n\u001b[1;32m     18\u001b[0m     \u001b[1;31m# without Descartes, we could make a Patch of exterior\u001b[0m\u001b[1;33m\u001b[0m\u001b[1;33m\u001b[0m\u001b[0m\n\u001b[0;32m---> 19\u001b[0;31m     \u001b[0max\u001b[0m\u001b[1;33m.\u001b[0m\u001b[0madd_patch\u001b[0m\u001b[1;33m(\u001b[0m\u001b[0mPolygonPatch\u001b[0m\u001b[1;33m(\u001b[0m\u001b[0mpoly\u001b[0m\u001b[1;33m,\u001b[0m \u001b[0mfacecolor\u001b[0m\u001b[1;33m=\u001b[0m\u001b[0mfacecolor\u001b[0m\u001b[1;33m,\u001b[0m \u001b[0mlinewidth\u001b[0m\u001b[1;33m=\u001b[0m\u001b[1;36m0\u001b[0m\u001b[1;33m,\u001b[0m \u001b[0malpha\u001b[0m\u001b[1;33m=\u001b[0m\u001b[0malpha\u001b[0m\u001b[1;33m)\u001b[0m\u001b[1;33m)\u001b[0m  \u001b[1;31m# linewidth=0 because boundaries are drawn separately\u001b[0m\u001b[1;33m\u001b[0m\u001b[0m\n\u001b[0m\u001b[1;32m     20\u001b[0m     \u001b[0max\u001b[0m\u001b[1;33m.\u001b[0m\u001b[0mplot\u001b[0m\u001b[1;33m(\u001b[0m\u001b[0ma\u001b[0m\u001b[1;33m[\u001b[0m\u001b[1;33m:\u001b[0m\u001b[1;33m,\u001b[0m \u001b[1;36m0\u001b[0m\u001b[1;33m]\u001b[0m\u001b[1;33m,\u001b[0m \u001b[0ma\u001b[0m\u001b[1;33m[\u001b[0m\u001b[1;33m:\u001b[0m\u001b[1;33m,\u001b[0m \u001b[1;36m1\u001b[0m\u001b[1;33m]\u001b[0m\u001b[1;33m,\u001b[0m \u001b[0mcolor\u001b[0m\u001b[1;33m=\u001b[0m\u001b[0medgecolor\u001b[0m\u001b[1;33m,\u001b[0m \u001b[0mlinewidth\u001b[0m\u001b[1;33m=\u001b[0m\u001b[0mlinewidth\u001b[0m\u001b[1;33m,\u001b[0m \u001b[1;33m**\u001b[0m\u001b[0mkwargs\u001b[0m\u001b[1;33m)\u001b[0m\u001b[1;33m\u001b[0m\u001b[0m\n\u001b[1;32m     21\u001b[0m     \u001b[1;32mfor\u001b[0m \u001b[0mp\u001b[0m \u001b[1;32min\u001b[0m \u001b[0mpoly\u001b[0m\u001b[1;33m.\u001b[0m\u001b[0minteriors\u001b[0m\u001b[1;33m:\u001b[0m\u001b[1;33m\u001b[0m\u001b[0m\n",
      "\u001b[0;32mC:\\Anaconda\\lib\\site-packages\\descartes\\patch.py\u001b[0m in \u001b[0;36mPolygonPatch\u001b[0;34m(polygon, **kwargs)\u001b[0m\n\u001b[1;32m     85\u001b[0m \u001b[1;33m\u001b[0m\u001b[0m\n\u001b[1;32m     86\u001b[0m     \"\"\"\n\u001b[0;32m---> 87\u001b[0;31m     \u001b[1;32mreturn\u001b[0m \u001b[0mPathPatch\u001b[0m\u001b[1;33m(\u001b[0m\u001b[0mPolygonPath\u001b[0m\u001b[1;33m(\u001b[0m\u001b[0mpolygon\u001b[0m\u001b[1;33m)\u001b[0m\u001b[1;33m,\u001b[0m \u001b[1;33m**\u001b[0m\u001b[0mkwargs\u001b[0m\u001b[1;33m)\u001b[0m\u001b[1;33m\u001b[0m\u001b[0m\n\u001b[0m",
      "\u001b[0;32mC:\\Anaconda\\lib\\site-packages\\descartes\\patch.py\u001b[0m in \u001b[0;36mPolygonPath\u001b[0;34m(polygon)\u001b[0m\n\u001b[1;32m     63\u001b[0m         concatenate([asarray(t.exterior)[:, :2]] +\n\u001b[1;32m     64\u001b[0m                     [asarray(r)[:, :2] for r in t.interiors])\n\u001b[0;32m---> 65\u001b[0;31m         for t in polygon])\n\u001b[0m\u001b[1;32m     66\u001b[0m     codes = concatenate([\n\u001b[1;32m     67\u001b[0m         concatenate([coding(t.exterior)] +\n",
      "\u001b[0;32mC:\\Anaconda\\lib\\site-packages\\descartes\\patch.py\u001b[0m in \u001b[0;36m<listcomp>\u001b[0;34m(.0)\u001b[0m\n\u001b[1;32m     63\u001b[0m         concatenate([asarray(t.exterior)[:, :2]] +\n\u001b[1;32m     64\u001b[0m                     [asarray(r)[:, :2] for r in t.interiors])\n\u001b[0;32m---> 65\u001b[0;31m         for t in polygon])\n\u001b[0m\u001b[1;32m     66\u001b[0m     codes = concatenate([\n\u001b[1;32m     67\u001b[0m         concatenate([coding(t.exterior)] +\n",
      "\u001b[0;31mIndexError\u001b[0m: too many indices for array"
     ]
    },
    {
     "data": {
      "image/png": "iVBORw0KGgoAAAANSUhEUgAAANQAAAD8CAYAAAAPIYpDAAAABHNCSVQICAgIfAhkiAAAAAlwSFlz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\n",
      "text/plain": [
       "<matplotlib.figure.Figure at 0x16a7db5b048>"
      ]
     },
     "metadata": {},
     "output_type": "display_data"
    }
   ],
   "source": [
    "blocks10.plot()"
   ]
  },
  {
   "cell_type": "code",
<<<<<<< HEAD
   "execution_count": 4,
=======
   "execution_count": 3,
>>>>>>> 6e43ba4dca69e340b79d1a3d9b929f6bae11c8f8
   "metadata": {
    "collapsed": true
   },
   "outputs": [],
   "source": [
    "blocks00 = gp.read_file('E:/Transit-Casa-Alex/Input/2000 Census Shapefiles/2000 Census Blocks/Combined_Counties.shp')"
   ]
  },
  {
   "cell_type": "code",
<<<<<<< HEAD
   "execution_count": 5,
=======
   "execution_count": 4,
>>>>>>> 6e43ba4dca69e340b79d1a3d9b929f6bae11c8f8
   "metadata": {
    "collapsed": false
   },
   "outputs": [
    {
     "name": "stdout",
     "output_type": "stream",
     "text": [
<<<<<<< HEAD
      "24034\n"
=======
      "16648\n"
>>>>>>> 6e43ba4dca69e340b79d1a3d9b929f6bae11c8f8
     ]
    },
    {
     "data": {
      "text/plain": [
       "14698"
      ]
     },
<<<<<<< HEAD
     "execution_count": 5,
=======
     "execution_count": 4,
>>>>>>> 6e43ba4dca69e340b79d1a3d9b929f6bae11c8f8
     "metadata": {},
     "output_type": "execute_result"
    }
   ],
   "source": [
    "# the blocks change between 2000 and 2010 \n",
    "print(len(blocks10))\n",
    "len(blocks00)"
   ]
  },
  {
   "cell_type": "code",
   "execution_count": null,
   "metadata": {
    "collapsed": false
   },
   "outputs": [],
   "source": [
    "blocks00.head()"
   ]
  },
  {
   "cell_type": "code",
<<<<<<< HEAD
   "execution_count": 7,
=======
   "execution_count": 4,
>>>>>>> 6e43ba4dca69e340b79d1a3d9b929f6bae11c8f8
   "metadata": {
    "collapsed": false
   },
   "outputs": [],
   "source": [
<<<<<<< HEAD
    "buffers = gp.read_file('buffer.shp')"
=======
    "buffers = gp.read_file('buffers.shp')"
>>>>>>> 6e43ba4dca69e340b79d1a3d9b929f6bae11c8f8
   ]
  },
  {
   "cell_type": "code",
<<<<<<< HEAD
   "execution_count": 10,
=======
   "execution_count": 5,
>>>>>>> 6e43ba4dca69e340b79d1a3d9b929f6bae11c8f8
   "metadata": {
    "collapsed": false
   },
   "outputs": [
    {
     "data": {
      "text/plain": [
<<<<<<< HEAD
       "<matplotlib.axes._subplots.AxesSubplot at 0x2367ab38470>"
      ]
     },
     "execution_count": 10,
=======
       "<matplotlib.axes._subplots.AxesSubplot at 0x1eebe8feb70>"
      ]
     },
     "execution_count": 5,
>>>>>>> 6e43ba4dca69e340b79d1a3d9b929f6bae11c8f8
     "metadata": {},
     "output_type": "execute_result"
    },
    {
     "data": {
<<<<<<< HEAD
      "image/png": "iVBORw0KGgoAAAANSUhEUgAAARgAAAD8CAYAAACsLLusAAAABHNCSVQICAgIfAhkiAAAAAlwSFlz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\nAWOM8RsLGGOM31jAGGP85v8BrWQf+lRBjKgAAAAASUVORK5CYII=\n",
      "text/plain": [
       "<matplotlib.figure.Figure at 0x2367ab56048>"
=======
      "image/png": "iVBORw0KGgoAAAANSUhEUgAAAV4AAAEJCAYAAADcoE9VAAAABHNCSVQICAgIfAhkiAAAAAlwSFlz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\n",
      "text/plain": [
       "<matplotlib.figure.Figure at 0x1eebe8f7048>"
>>>>>>> 6e43ba4dca69e340b79d1a3d9b929f6bae11c8f8
      ]
     },
     "metadata": {},
     "output_type": "display_data"
    }
   ],
   "source": [
    "buffers.plot()"
   ]
  },
  {
   "cell_type": "code",
<<<<<<< HEAD
   "execution_count": 11,
=======
   "execution_count": 8,
>>>>>>> 6e43ba4dca69e340b79d1a3d9b929f6bae11c8f8
   "metadata": {
    "collapsed": false
   },
   "outputs": [
    {
     "ename": "KeyboardInterrupt",
     "evalue": "",
     "output_type": "error",
     "traceback": [
      "\u001b[0;31m---------------------------------------------------------------------------\u001b[0m",
      "\u001b[0;31mKeyboardInterrupt\u001b[0m                         Traceback (most recent call last)",
<<<<<<< HEAD
      "\u001b[0;32m<ipython-input-11-4838d2c56e52>\u001b[0m in \u001b[0;36m<module>\u001b[0;34m()\u001b[0m\n\u001b[0;32m----> 1\u001b[0;31m \u001b[0mbuffers\u001b[0m\u001b[1;33m.\u001b[0m\u001b[0mplot\u001b[0m\u001b[1;33m(\u001b[0m\u001b[0max\u001b[0m \u001b[1;33m=\u001b[0m \u001b[0mblocks00\u001b[0m\u001b[1;33m.\u001b[0m\u001b[0mplot\u001b[0m\u001b[1;33m(\u001b[0m\u001b[1;33m)\u001b[0m\u001b[1;33m)\u001b[0m\u001b[1;33m\u001b[0m\u001b[0m\n\u001b[0m",
=======
      "\u001b[0;32m<ipython-input-8-4838d2c56e52>\u001b[0m in \u001b[0;36m<module>\u001b[0;34m()\u001b[0m\n\u001b[0;32m----> 1\u001b[0;31m \u001b[0mbuffers\u001b[0m\u001b[1;33m.\u001b[0m\u001b[0mplot\u001b[0m\u001b[1;33m(\u001b[0m\u001b[0max\u001b[0m \u001b[1;33m=\u001b[0m \u001b[0mblocks00\u001b[0m\u001b[1;33m.\u001b[0m\u001b[0mplot\u001b[0m\u001b[1;33m(\u001b[0m\u001b[1;33m)\u001b[0m\u001b[1;33m)\u001b[0m\u001b[1;33m\u001b[0m\u001b[0m\n\u001b[0m",
>>>>>>> 6e43ba4dca69e340b79d1a3d9b929f6bae11c8f8
      "\u001b[0;32mC:\\Anaconda\\lib\\site-packages\\geopandas\\geodataframe.py\u001b[0m in \u001b[0;36mplot\u001b[0;34m(self, *args, **kwargs)\u001b[0m\n\u001b[1;32m    445\u001b[0m     \u001b[1;32mdef\u001b[0m \u001b[0mplot\u001b[0m\u001b[1;33m(\u001b[0m\u001b[0mself\u001b[0m\u001b[1;33m,\u001b[0m \u001b[1;33m*\u001b[0m\u001b[0margs\u001b[0m\u001b[1;33m,\u001b[0m \u001b[1;33m**\u001b[0m\u001b[0mkwargs\u001b[0m\u001b[1;33m)\u001b[0m\u001b[1;33m:\u001b[0m\u001b[1;33m\u001b[0m\u001b[0m\n\u001b[1;32m    446\u001b[0m \u001b[1;33m\u001b[0m\u001b[0m\n\u001b[0;32m--> 447\u001b[0;31m         \u001b[1;32mreturn\u001b[0m \u001b[0mplot_dataframe\u001b[0m\u001b[1;33m(\u001b[0m\u001b[0mself\u001b[0m\u001b[1;33m,\u001b[0m \u001b[1;33m*\u001b[0m\u001b[0margs\u001b[0m\u001b[1;33m,\u001b[0m \u001b[1;33m**\u001b[0m\u001b[0mkwargs\u001b[0m\u001b[1;33m)\u001b[0m\u001b[1;33m\u001b[0m\u001b[0m\n\u001b[0m\u001b[1;32m    448\u001b[0m \u001b[1;33m\u001b[0m\u001b[0m\n\u001b[1;32m    449\u001b[0m     \u001b[0mplot\u001b[0m\u001b[1;33m.\u001b[0m\u001b[0m__doc__\u001b[0m \u001b[1;33m=\u001b[0m \u001b[0mplot_dataframe\u001b[0m\u001b[1;33m.\u001b[0m\u001b[0m__doc__\u001b[0m\u001b[1;33m\u001b[0m\u001b[0m\n",
      "\u001b[0;32mC:\\Anaconda\\lib\\site-packages\\geopandas\\plotting.py\u001b[0m in \u001b[0;36mplot_dataframe\u001b[0;34m(s, column, cmap, color, linewidth, categorical, legend, ax, scheme, k, vmin, vmax, figsize, **color_kwds)\u001b[0m\n\u001b[1;32m    238\u001b[0m         return plot_series(s.geometry, cmap=cmap, color=color,\n\u001b[1;32m    239\u001b[0m                            \u001b[0max\u001b[0m\u001b[1;33m=\u001b[0m\u001b[0max\u001b[0m\u001b[1;33m,\u001b[0m \u001b[0mlinewidth\u001b[0m\u001b[1;33m=\u001b[0m\u001b[0mlinewidth\u001b[0m\u001b[1;33m,\u001b[0m \u001b[0mfigsize\u001b[0m\u001b[1;33m=\u001b[0m\u001b[0mfigsize\u001b[0m\u001b[1;33m,\u001b[0m\u001b[1;33m\u001b[0m\u001b[0m\n\u001b[0;32m--> 240\u001b[0;31m                            **color_kwds)\n\u001b[0m\u001b[1;32m    241\u001b[0m     \u001b[1;32melse\u001b[0m\u001b[1;33m:\u001b[0m\u001b[1;33m\u001b[0m\u001b[0m\n\u001b[1;32m    242\u001b[0m         \u001b[1;32mif\u001b[0m \u001b[0ms\u001b[0m\u001b[1;33m[\u001b[0m\u001b[0mcolumn\u001b[0m\u001b[1;33m]\u001b[0m\u001b[1;33m.\u001b[0m\u001b[0mdtype\u001b[0m \u001b[1;32mis\u001b[0m \u001b[0mnp\u001b[0m\u001b[1;33m.\u001b[0m\u001b[0mdtype\u001b[0m\u001b[1;33m(\u001b[0m\u001b[1;34m'O'\u001b[0m\u001b[1;33m)\u001b[0m\u001b[1;33m:\u001b[0m\u001b[1;33m\u001b[0m\u001b[0m\n",
      "\u001b[0;32mC:\\Anaconda\\lib\\site-packages\\geopandas\\plotting.py\u001b[0m in \u001b[0;36mplot_series\u001b[0;34m(s, cmap, color, ax, linewidth, figsize, **color_kwds)\u001b[0m\n\u001b[1;32m    141\u001b[0m                 \u001b[0mplot_multipolygon\u001b[0m\u001b[1;33m(\u001b[0m\u001b[0max\u001b[0m\u001b[1;33m,\u001b[0m \u001b[0mgeom\u001b[0m\u001b[1;33m,\u001b[0m \u001b[0mlinewidth\u001b[0m\u001b[1;33m=\u001b[0m\u001b[0mlinewidth\u001b[0m\u001b[1;33m,\u001b[0m \u001b[1;33m**\u001b[0m\u001b[0mcolor_kwds\u001b[0m\u001b[1;33m)\u001b[0m\u001b[1;33m\u001b[0m\u001b[0m\n\u001b[1;32m    142\u001b[0m             \u001b[1;32melse\u001b[0m\u001b[1;33m:\u001b[0m\u001b[1;33m\u001b[0m\u001b[0m\n\u001b[0;32m--> 143\u001b[0;31m                 \u001b[0mplot_multipolygon\u001b[0m\u001b[1;33m(\u001b[0m\u001b[0max\u001b[0m\u001b[1;33m,\u001b[0m \u001b[0mgeom\u001b[0m\u001b[1;33m,\u001b[0m \u001b[0mfacecolor\u001b[0m\u001b[1;33m=\u001b[0m\u001b[0mcol\u001b[0m\u001b[1;33m,\u001b[0m \u001b[0mlinewidth\u001b[0m\u001b[1;33m=\u001b[0m\u001b[0mlinewidth\u001b[0m\u001b[1;33m,\u001b[0m \u001b[1;33m**\u001b[0m\u001b[0mcolor_kwds\u001b[0m\u001b[1;33m)\u001b[0m\u001b[1;33m\u001b[0m\u001b[0m\n\u001b[0m\u001b[1;32m    144\u001b[0m         \u001b[1;32melif\u001b[0m \u001b[0mgeom\u001b[0m\u001b[1;33m.\u001b[0m\u001b[0mtype\u001b[0m \u001b[1;33m==\u001b[0m \u001b[1;34m'LineString'\u001b[0m \u001b[1;32mor\u001b[0m \u001b[0mgeom\u001b[0m\u001b[1;33m.\u001b[0m\u001b[0mtype\u001b[0m \u001b[1;33m==\u001b[0m \u001b[1;34m'MultiLineString'\u001b[0m\u001b[1;33m:\u001b[0m\u001b[1;33m\u001b[0m\u001b[0m\n\u001b[1;32m    145\u001b[0m             \u001b[0mplot_multilinestring\u001b[0m\u001b[1;33m(\u001b[0m\u001b[0max\u001b[0m\u001b[1;33m,\u001b[0m \u001b[0mgeom\u001b[0m\u001b[1;33m,\u001b[0m \u001b[0mcolor\u001b[0m\u001b[1;33m=\u001b[0m\u001b[0mcol\u001b[0m\u001b[1;33m,\u001b[0m \u001b[0mlinewidth\u001b[0m\u001b[1;33m=\u001b[0m\u001b[0mlinewidth\u001b[0m\u001b[1;33m,\u001b[0m \u001b[1;33m**\u001b[0m\u001b[0mcolor_kwds\u001b[0m\u001b[1;33m)\u001b[0m\u001b[1;33m\u001b[0m\u001b[0m\n",
      "\u001b[0;32mC:\\Anaconda\\lib\\site-packages\\geopandas\\plotting.py\u001b[0m in \u001b[0;36mplot_multipolygon\u001b[0;34m(ax, geom, facecolor, edgecolor, alpha, linewidth, **kwargs)\u001b[0m\n\u001b[1;32m     28\u001b[0m     \"\"\"\n\u001b[1;32m     29\u001b[0m     \u001b[1;32mif\u001b[0m \u001b[0mgeom\u001b[0m\u001b[1;33m.\u001b[0m\u001b[0mtype\u001b[0m \u001b[1;33m==\u001b[0m \u001b[1;34m'Polygon'\u001b[0m\u001b[1;33m:\u001b[0m\u001b[1;33m\u001b[0m\u001b[0m\n\u001b[0;32m---> 30\u001b[0;31m         \u001b[0mplot_polygon\u001b[0m\u001b[1;33m(\u001b[0m\u001b[0max\u001b[0m\u001b[1;33m,\u001b[0m \u001b[0mgeom\u001b[0m\u001b[1;33m,\u001b[0m \u001b[0mfacecolor\u001b[0m\u001b[1;33m=\u001b[0m\u001b[0mfacecolor\u001b[0m\u001b[1;33m,\u001b[0m \u001b[0medgecolor\u001b[0m\u001b[1;33m=\u001b[0m\u001b[0medgecolor\u001b[0m\u001b[1;33m,\u001b[0m \u001b[0malpha\u001b[0m\u001b[1;33m=\u001b[0m\u001b[0malpha\u001b[0m\u001b[1;33m,\u001b[0m \u001b[0mlinewidth\u001b[0m\u001b[1;33m=\u001b[0m\u001b[0mlinewidth\u001b[0m\u001b[1;33m,\u001b[0m \u001b[1;33m**\u001b[0m\u001b[0mkwargs\u001b[0m\u001b[1;33m)\u001b[0m\u001b[1;33m\u001b[0m\u001b[0m\n\u001b[0m\u001b[1;32m     31\u001b[0m     \u001b[1;32melif\u001b[0m \u001b[0mgeom\u001b[0m\u001b[1;33m.\u001b[0m\u001b[0mtype\u001b[0m \u001b[1;33m==\u001b[0m \u001b[1;34m'MultiPolygon'\u001b[0m\u001b[1;33m:\u001b[0m\u001b[1;33m\u001b[0m\u001b[0m\n\u001b[1;32m     32\u001b[0m         \u001b[1;32mfor\u001b[0m \u001b[0mpoly\u001b[0m \u001b[1;32min\u001b[0m \u001b[0mgeom\u001b[0m\u001b[1;33m.\u001b[0m\u001b[0mgeoms\u001b[0m\u001b[1;33m:\u001b[0m\u001b[1;33m\u001b[0m\u001b[0m\n",
<<<<<<< HEAD
      "\u001b[0;32mC:\\Anaconda\\lib\\site-packages\\geopandas\\plotting.py\u001b[0m in \u001b[0;36mplot_polygon\u001b[0;34m(ax, poly, facecolor, edgecolor, alpha, linewidth, **kwargs)\u001b[0m\n\u001b[1;32m     19\u001b[0m     \u001b[0max\u001b[0m\u001b[1;33m.\u001b[0m\u001b[0madd_patch\u001b[0m\u001b[1;33m(\u001b[0m\u001b[0mPolygonPatch\u001b[0m\u001b[1;33m(\u001b[0m\u001b[0mpoly\u001b[0m\u001b[1;33m,\u001b[0m \u001b[0mfacecolor\u001b[0m\u001b[1;33m=\u001b[0m\u001b[0mfacecolor\u001b[0m\u001b[1;33m,\u001b[0m \u001b[0mlinewidth\u001b[0m\u001b[1;33m=\u001b[0m\u001b[1;36m0\u001b[0m\u001b[1;33m,\u001b[0m \u001b[0malpha\u001b[0m\u001b[1;33m=\u001b[0m\u001b[0malpha\u001b[0m\u001b[1;33m)\u001b[0m\u001b[1;33m)\u001b[0m  \u001b[1;31m# linewidth=0 because boundaries are drawn separately\u001b[0m\u001b[1;33m\u001b[0m\u001b[0m\n\u001b[1;32m     20\u001b[0m     \u001b[0max\u001b[0m\u001b[1;33m.\u001b[0m\u001b[0mplot\u001b[0m\u001b[1;33m(\u001b[0m\u001b[0ma\u001b[0m\u001b[1;33m[\u001b[0m\u001b[1;33m:\u001b[0m\u001b[1;33m,\u001b[0m \u001b[1;36m0\u001b[0m\u001b[1;33m]\u001b[0m\u001b[1;33m,\u001b[0m \u001b[0ma\u001b[0m\u001b[1;33m[\u001b[0m\u001b[1;33m:\u001b[0m\u001b[1;33m,\u001b[0m \u001b[1;36m1\u001b[0m\u001b[1;33m]\u001b[0m\u001b[1;33m,\u001b[0m \u001b[0mcolor\u001b[0m\u001b[1;33m=\u001b[0m\u001b[0medgecolor\u001b[0m\u001b[1;33m,\u001b[0m \u001b[0mlinewidth\u001b[0m\u001b[1;33m=\u001b[0m\u001b[0mlinewidth\u001b[0m\u001b[1;33m,\u001b[0m \u001b[1;33m**\u001b[0m\u001b[0mkwargs\u001b[0m\u001b[1;33m)\u001b[0m\u001b[1;33m\u001b[0m\u001b[0m\n\u001b[0;32m---> 21\u001b[0;31m     \u001b[1;32mfor\u001b[0m \u001b[0mp\u001b[0m \u001b[1;32min\u001b[0m \u001b[0mpoly\u001b[0m\u001b[1;33m.\u001b[0m\u001b[0minteriors\u001b[0m\u001b[1;33m:\u001b[0m\u001b[1;33m\u001b[0m\u001b[0m\n\u001b[0m\u001b[1;32m     22\u001b[0m         \u001b[0mx\u001b[0m\u001b[1;33m,\u001b[0m \u001b[0my\u001b[0m \u001b[1;33m=\u001b[0m \u001b[0mzip\u001b[0m\u001b[1;33m(\u001b[0m\u001b[1;33m*\u001b[0m\u001b[0mp\u001b[0m\u001b[1;33m.\u001b[0m\u001b[0mcoords\u001b[0m\u001b[1;33m)\u001b[0m\u001b[1;33m\u001b[0m\u001b[0m\n\u001b[1;32m     23\u001b[0m         \u001b[0max\u001b[0m\u001b[1;33m.\u001b[0m\u001b[0mplot\u001b[0m\u001b[1;33m(\u001b[0m\u001b[0mx\u001b[0m\u001b[1;33m,\u001b[0m \u001b[0my\u001b[0m\u001b[1;33m,\u001b[0m \u001b[0mcolor\u001b[0m\u001b[1;33m=\u001b[0m\u001b[0medgecolor\u001b[0m\u001b[1;33m,\u001b[0m \u001b[0mlinewidth\u001b[0m\u001b[1;33m=\u001b[0m\u001b[0mlinewidth\u001b[0m\u001b[1;33m)\u001b[0m\u001b[1;33m\u001b[0m\u001b[0m\n",
      "\u001b[0;32mC:\\Anaconda\\lib\\site-packages\\shapely\\geometry\\polygon.py\u001b[0m in \u001b[0;36m__iter__\u001b[0;34m(self)\u001b[0m\n\u001b[1;32m    123\u001b[0m     \u001b[1;32mdef\u001b[0m \u001b[0m__iter__\u001b[0m\u001b[1;33m(\u001b[0m\u001b[0mself\u001b[0m\u001b[1;33m)\u001b[0m\u001b[1;33m:\u001b[0m\u001b[1;33m\u001b[0m\u001b[0m\n\u001b[1;32m    124\u001b[0m         \u001b[0mself\u001b[0m\u001b[1;33m.\u001b[0m\u001b[0m_index\u001b[0m \u001b[1;33m=\u001b[0m \u001b[1;36m0\u001b[0m\u001b[1;33m\u001b[0m\u001b[0m\n\u001b[0;32m--> 125\u001b[0;31m         \u001b[0mself\u001b[0m\u001b[1;33m.\u001b[0m\u001b[0m_length\u001b[0m \u001b[1;33m=\u001b[0m \u001b[0mself\u001b[0m\u001b[1;33m.\u001b[0m\u001b[0m__len__\u001b[0m\u001b[1;33m(\u001b[0m\u001b[1;33m)\u001b[0m\u001b[1;33m\u001b[0m\u001b[0m\n\u001b[0m\u001b[1;32m    126\u001b[0m         \u001b[1;32mreturn\u001b[0m \u001b[0mself\u001b[0m\u001b[1;33m\u001b[0m\u001b[0m\n\u001b[1;32m    127\u001b[0m \u001b[1;33m\u001b[0m\u001b[0m\n",
      "\u001b[0;32mC:\\Anaconda\\lib\\site-packages\\shapely\\geometry\\polygon.py\u001b[0m in \u001b[0;36m__len__\u001b[0;34m(self)\u001b[0m\n\u001b[1;32m    138\u001b[0m \u001b[1;33m\u001b[0m\u001b[0m\n\u001b[1;32m    139\u001b[0m     \u001b[1;32mdef\u001b[0m \u001b[0m__len__\u001b[0m\u001b[1;33m(\u001b[0m\u001b[0mself\u001b[0m\u001b[1;33m)\u001b[0m\u001b[1;33m:\u001b[0m\u001b[1;33m\u001b[0m\u001b[0m\n\u001b[0;32m--> 140\u001b[0;31m         \u001b[1;32mreturn\u001b[0m \u001b[0mlgeos\u001b[0m\u001b[1;33m.\u001b[0m\u001b[0mGEOSGetNumInteriorRings\u001b[0m\u001b[1;33m(\u001b[0m\u001b[0mself\u001b[0m\u001b[1;33m.\u001b[0m\u001b[0m_geom\u001b[0m\u001b[1;33m)\u001b[0m\u001b[1;33m\u001b[0m\u001b[0m\n\u001b[0m\u001b[1;32m    141\u001b[0m \u001b[1;33m\u001b[0m\u001b[0m\n\u001b[1;32m    142\u001b[0m     \u001b[1;32mdef\u001b[0m \u001b[0m__getitem__\u001b[0m\u001b[1;33m(\u001b[0m\u001b[0mself\u001b[0m\u001b[1;33m,\u001b[0m \u001b[0mkey\u001b[0m\u001b[1;33m)\u001b[0m\u001b[1;33m:\u001b[0m\u001b[1;33m\u001b[0m\u001b[0m\n",
=======
      "\u001b[0;32mC:\\Anaconda\\lib\\site-packages\\geopandas\\plotting.py\u001b[0m in \u001b[0;36mplot_polygon\u001b[0;34m(ax, poly, facecolor, edgecolor, alpha, linewidth, **kwargs)\u001b[0m\n\u001b[1;32m     18\u001b[0m     \u001b[1;31m# without Descartes, we could make a Patch of exterior\u001b[0m\u001b[1;33m\u001b[0m\u001b[1;33m\u001b[0m\u001b[0m\n\u001b[1;32m     19\u001b[0m     \u001b[0max\u001b[0m\u001b[1;33m.\u001b[0m\u001b[0madd_patch\u001b[0m\u001b[1;33m(\u001b[0m\u001b[0mPolygonPatch\u001b[0m\u001b[1;33m(\u001b[0m\u001b[0mpoly\u001b[0m\u001b[1;33m,\u001b[0m \u001b[0mfacecolor\u001b[0m\u001b[1;33m=\u001b[0m\u001b[0mfacecolor\u001b[0m\u001b[1;33m,\u001b[0m \u001b[0mlinewidth\u001b[0m\u001b[1;33m=\u001b[0m\u001b[1;36m0\u001b[0m\u001b[1;33m,\u001b[0m \u001b[0malpha\u001b[0m\u001b[1;33m=\u001b[0m\u001b[0malpha\u001b[0m\u001b[1;33m)\u001b[0m\u001b[1;33m)\u001b[0m  \u001b[1;31m# linewidth=0 because boundaries are drawn separately\u001b[0m\u001b[1;33m\u001b[0m\u001b[0m\n\u001b[0;32m---> 20\u001b[0;31m     \u001b[0max\u001b[0m\u001b[1;33m.\u001b[0m\u001b[0mplot\u001b[0m\u001b[1;33m(\u001b[0m\u001b[0ma\u001b[0m\u001b[1;33m[\u001b[0m\u001b[1;33m:\u001b[0m\u001b[1;33m,\u001b[0m \u001b[1;36m0\u001b[0m\u001b[1;33m]\u001b[0m\u001b[1;33m,\u001b[0m \u001b[0ma\u001b[0m\u001b[1;33m[\u001b[0m\u001b[1;33m:\u001b[0m\u001b[1;33m,\u001b[0m \u001b[1;36m1\u001b[0m\u001b[1;33m]\u001b[0m\u001b[1;33m,\u001b[0m \u001b[0mcolor\u001b[0m\u001b[1;33m=\u001b[0m\u001b[0medgecolor\u001b[0m\u001b[1;33m,\u001b[0m \u001b[0mlinewidth\u001b[0m\u001b[1;33m=\u001b[0m\u001b[0mlinewidth\u001b[0m\u001b[1;33m,\u001b[0m \u001b[1;33m**\u001b[0m\u001b[0mkwargs\u001b[0m\u001b[1;33m)\u001b[0m\u001b[1;33m\u001b[0m\u001b[0m\n\u001b[0m\u001b[1;32m     21\u001b[0m     \u001b[1;32mfor\u001b[0m \u001b[0mp\u001b[0m \u001b[1;32min\u001b[0m \u001b[0mpoly\u001b[0m\u001b[1;33m.\u001b[0m\u001b[0minteriors\u001b[0m\u001b[1;33m:\u001b[0m\u001b[1;33m\u001b[0m\u001b[0m\n\u001b[1;32m     22\u001b[0m         \u001b[0mx\u001b[0m\u001b[1;33m,\u001b[0m \u001b[0my\u001b[0m \u001b[1;33m=\u001b[0m \u001b[0mzip\u001b[0m\u001b[1;33m(\u001b[0m\u001b[1;33m*\u001b[0m\u001b[0mp\u001b[0m\u001b[1;33m.\u001b[0m\u001b[0mcoords\u001b[0m\u001b[1;33m)\u001b[0m\u001b[1;33m\u001b[0m\u001b[0m\n",
      "\u001b[0;32mC:\\Anaconda\\lib\\site-packages\\matplotlib\\__init__.py\u001b[0m in \u001b[0;36minner\u001b[0;34m(ax, *args, **kwargs)\u001b[0m\n\u001b[1;32m   1889\u001b[0m                     warnings.warn(msg % (label_namer, func.__name__),\n\u001b[1;32m   1890\u001b[0m                                   RuntimeWarning, stacklevel=2)\n\u001b[0;32m-> 1891\u001b[0;31m             \u001b[1;32mreturn\u001b[0m \u001b[0mfunc\u001b[0m\u001b[1;33m(\u001b[0m\u001b[0max\u001b[0m\u001b[1;33m,\u001b[0m \u001b[1;33m*\u001b[0m\u001b[0margs\u001b[0m\u001b[1;33m,\u001b[0m \u001b[1;33m**\u001b[0m\u001b[0mkwargs\u001b[0m\u001b[1;33m)\u001b[0m\u001b[1;33m\u001b[0m\u001b[0m\n\u001b[0m\u001b[1;32m   1892\u001b[0m         \u001b[0mpre_doc\u001b[0m \u001b[1;33m=\u001b[0m \u001b[0minner\u001b[0m\u001b[1;33m.\u001b[0m\u001b[0m__doc__\u001b[0m\u001b[1;33m\u001b[0m\u001b[0m\n\u001b[1;32m   1893\u001b[0m         \u001b[1;32mif\u001b[0m \u001b[0mpre_doc\u001b[0m \u001b[1;32mis\u001b[0m \u001b[1;32mNone\u001b[0m\u001b[1;33m:\u001b[0m\u001b[1;33m\u001b[0m\u001b[0m\n",
      "\u001b[0;32mC:\\Anaconda\\lib\\site-packages\\matplotlib\\axes\\_axes.py\u001b[0m in \u001b[0;36mplot\u001b[0;34m(self, *args, **kwargs)\u001b[0m\n\u001b[1;32m   1408\u001b[0m             \u001b[0mlines\u001b[0m\u001b[1;33m.\u001b[0m\u001b[0mappend\u001b[0m\u001b[1;33m(\u001b[0m\u001b[0mline\u001b[0m\u001b[1;33m)\u001b[0m\u001b[1;33m\u001b[0m\u001b[0m\n\u001b[1;32m   1409\u001b[0m \u001b[1;33m\u001b[0m\u001b[0m\n\u001b[0;32m-> 1410\u001b[0;31m         \u001b[0mself\u001b[0m\u001b[1;33m.\u001b[0m\u001b[0mautoscale_view\u001b[0m\u001b[1;33m(\u001b[0m\u001b[0mscalex\u001b[0m\u001b[1;33m=\u001b[0m\u001b[0mscalex\u001b[0m\u001b[1;33m,\u001b[0m \u001b[0mscaley\u001b[0m\u001b[1;33m=\u001b[0m\u001b[0mscaley\u001b[0m\u001b[1;33m)\u001b[0m\u001b[1;33m\u001b[0m\u001b[0m\n\u001b[0m\u001b[1;32m   1411\u001b[0m         \u001b[1;32mreturn\u001b[0m \u001b[0mlines\u001b[0m\u001b[1;33m\u001b[0m\u001b[0m\n\u001b[1;32m   1412\u001b[0m \u001b[1;33m\u001b[0m\u001b[0m\n",
      "\u001b[0;32mC:\\Anaconda\\lib\\site-packages\\matplotlib\\axes\\_base.py\u001b[0m in \u001b[0;36mautoscale_view\u001b[0;34m(self, tight, scalex, scaley)\u001b[0m\n\u001b[1;32m   2260\u001b[0m             \u001b[0mstickies\u001b[0m \u001b[1;33m=\u001b[0m \u001b[1;33m[\u001b[0m\u001b[0martist\u001b[0m\u001b[1;33m.\u001b[0m\u001b[0msticky_edges\u001b[0m \u001b[1;32mfor\u001b[0m \u001b[0martist\u001b[0m \u001b[1;32min\u001b[0m \u001b[0mself\u001b[0m\u001b[1;33m.\u001b[0m\u001b[0mget_children\u001b[0m\u001b[1;33m(\u001b[0m\u001b[1;33m)\u001b[0m\u001b[1;33m]\u001b[0m\u001b[1;33m\u001b[0m\u001b[0m\n\u001b[1;32m   2261\u001b[0m             \u001b[0mx_stickies\u001b[0m \u001b[1;33m=\u001b[0m \u001b[0msum\u001b[0m\u001b[1;33m(\u001b[0m\u001b[1;33m[\u001b[0m\u001b[0msticky\u001b[0m\u001b[1;33m.\u001b[0m\u001b[0mx\u001b[0m \u001b[1;32mfor\u001b[0m \u001b[0msticky\u001b[0m \u001b[1;32min\u001b[0m \u001b[0mstickies\u001b[0m\u001b[1;33m]\u001b[0m\u001b[1;33m,\u001b[0m \u001b[1;33m[\u001b[0m\u001b[1;33m]\u001b[0m\u001b[1;33m)\u001b[0m\u001b[1;33m\u001b[0m\u001b[0m\n\u001b[0;32m-> 2262\u001b[0;31m             \u001b[0my_stickies\u001b[0m \u001b[1;33m=\u001b[0m \u001b[0msum\u001b[0m\u001b[1;33m(\u001b[0m\u001b[1;33m[\u001b[0m\u001b[0msticky\u001b[0m\u001b[1;33m.\u001b[0m\u001b[0my\u001b[0m \u001b[1;32mfor\u001b[0m \u001b[0msticky\u001b[0m \u001b[1;32min\u001b[0m \u001b[0mstickies\u001b[0m\u001b[1;33m]\u001b[0m\u001b[1;33m,\u001b[0m \u001b[1;33m[\u001b[0m\u001b[1;33m]\u001b[0m\u001b[1;33m)\u001b[0m\u001b[1;33m\u001b[0m\u001b[0m\n\u001b[0m\u001b[1;32m   2263\u001b[0m             \u001b[1;32mif\u001b[0m \u001b[0mself\u001b[0m\u001b[1;33m.\u001b[0m\u001b[0mget_xscale\u001b[0m\u001b[1;33m(\u001b[0m\u001b[1;33m)\u001b[0m\u001b[1;33m.\u001b[0m\u001b[0mlower\u001b[0m\u001b[1;33m(\u001b[0m\u001b[1;33m)\u001b[0m \u001b[1;33m==\u001b[0m \u001b[1;34m'log'\u001b[0m\u001b[1;33m:\u001b[0m\u001b[1;33m\u001b[0m\u001b[0m\n\u001b[1;32m   2264\u001b[0m                 \u001b[0mx_stickies\u001b[0m \u001b[1;33m=\u001b[0m \u001b[1;33m[\u001b[0m\u001b[0mxs\u001b[0m \u001b[1;32mfor\u001b[0m \u001b[0mxs\u001b[0m \u001b[1;32min\u001b[0m \u001b[0mx_stickies\u001b[0m \u001b[1;32mif\u001b[0m \u001b[0mxs\u001b[0m \u001b[1;33m>\u001b[0m \u001b[1;36m0\u001b[0m\u001b[1;33m]\u001b[0m\u001b[1;33m\u001b[0m\u001b[0m\n",
      "\u001b[0;32mC:\\Anaconda\\lib\\site-packages\\matplotlib\\axes\\_base.py\u001b[0m in \u001b[0;36m<listcomp>\u001b[0;34m(.0)\u001b[0m\n\u001b[1;32m   2260\u001b[0m             \u001b[0mstickies\u001b[0m \u001b[1;33m=\u001b[0m \u001b[1;33m[\u001b[0m\u001b[0martist\u001b[0m\u001b[1;33m.\u001b[0m\u001b[0msticky_edges\u001b[0m \u001b[1;32mfor\u001b[0m \u001b[0martist\u001b[0m \u001b[1;32min\u001b[0m \u001b[0mself\u001b[0m\u001b[1;33m.\u001b[0m\u001b[0mget_children\u001b[0m\u001b[1;33m(\u001b[0m\u001b[1;33m)\u001b[0m\u001b[1;33m]\u001b[0m\u001b[1;33m\u001b[0m\u001b[0m\n\u001b[1;32m   2261\u001b[0m             \u001b[0mx_stickies\u001b[0m \u001b[1;33m=\u001b[0m \u001b[0msum\u001b[0m\u001b[1;33m(\u001b[0m\u001b[1;33m[\u001b[0m\u001b[0msticky\u001b[0m\u001b[1;33m.\u001b[0m\u001b[0mx\u001b[0m \u001b[1;32mfor\u001b[0m \u001b[0msticky\u001b[0m \u001b[1;32min\u001b[0m \u001b[0mstickies\u001b[0m\u001b[1;33m]\u001b[0m\u001b[1;33m,\u001b[0m \u001b[1;33m[\u001b[0m\u001b[1;33m]\u001b[0m\u001b[1;33m)\u001b[0m\u001b[1;33m\u001b[0m\u001b[0m\n\u001b[0;32m-> 2262\u001b[0;31m             \u001b[0my_stickies\u001b[0m \u001b[1;33m=\u001b[0m \u001b[0msum\u001b[0m\u001b[1;33m(\u001b[0m\u001b[1;33m[\u001b[0m\u001b[0msticky\u001b[0m\u001b[1;33m.\u001b[0m\u001b[0my\u001b[0m \u001b[1;32mfor\u001b[0m \u001b[0msticky\u001b[0m \u001b[1;32min\u001b[0m \u001b[0mstickies\u001b[0m\u001b[1;33m]\u001b[0m\u001b[1;33m,\u001b[0m \u001b[1;33m[\u001b[0m\u001b[1;33m]\u001b[0m\u001b[1;33m)\u001b[0m\u001b[1;33m\u001b[0m\u001b[0m\n\u001b[0m\u001b[1;32m   2263\u001b[0m             \u001b[1;32mif\u001b[0m \u001b[0mself\u001b[0m\u001b[1;33m.\u001b[0m\u001b[0mget_xscale\u001b[0m\u001b[1;33m(\u001b[0m\u001b[1;33m)\u001b[0m\u001b[1;33m.\u001b[0m\u001b[0mlower\u001b[0m\u001b[1;33m(\u001b[0m\u001b[1;33m)\u001b[0m \u001b[1;33m==\u001b[0m \u001b[1;34m'log'\u001b[0m\u001b[1;33m:\u001b[0m\u001b[1;33m\u001b[0m\u001b[0m\n\u001b[1;32m   2264\u001b[0m                 \u001b[0mx_stickies\u001b[0m \u001b[1;33m=\u001b[0m \u001b[1;33m[\u001b[0m\u001b[0mxs\u001b[0m \u001b[1;32mfor\u001b[0m \u001b[0mxs\u001b[0m \u001b[1;32min\u001b[0m \u001b[0mx_stickies\u001b[0m \u001b[1;32mif\u001b[0m \u001b[0mxs\u001b[0m \u001b[1;33m>\u001b[0m \u001b[1;36m0\u001b[0m\u001b[1;33m]\u001b[0m\u001b[1;33m\u001b[0m\u001b[0m\n",
>>>>>>> 6e43ba4dca69e340b79d1a3d9b929f6bae11c8f8
      "\u001b[0;31mKeyboardInterrupt\u001b[0m: "
     ]
    },
    {
     "data": {
<<<<<<< HEAD
      "image/png": "iVBORw0KGgoAAAANSUhEUgAAAX4AAACPCAYAAAD9Y7D0AAAABHNCSVQICAgIfAhkiAAAAAlwSFlz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\n8QshRCHz/6EiW8lBcPK/AAAAAElFTkSuQmCC\n",
      "text/plain": [
       "<matplotlib.figure.Figure at 0x2367bbec668>"
=======
      "image/png": "iVBORw0KGgoAAAANSUhEUgAAAX4AAACPCAYAAAD9Y7D0AAAABHNCSVQICAgIfAhkiAAAAAlwSFlz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\nRU5ErkJggg==\n",
      "text/plain": [
       "<matplotlib.figure.Figure at 0x16a03d326a0>"
>>>>>>> 6e43ba4dca69e340b79d1a3d9b929f6bae11c8f8
      ]
     },
     "metadata": {},
     "output_type": "display_data"
    }
   ],
   "source": [
    "buffers.plot(ax = blocks00.plot())"
   ]
  },
  {
   "cell_type": "code",
   "execution_count": 12,
   "metadata": {
    "collapsed": false
   },
   "outputs": [
    {
     "data": {
      "text/html": [
       "<div>\n",
       "<table border=\"1\" class=\"dataframe\">\n",
       "  <thead>\n",
       "    <tr style=\"text-align: right;\">\n",
       "      <th></th>\n",
       "      <th>ALAND10</th>\n",
       "      <th>AWATER10</th>\n",
       "      <th>BLOCKCE10</th>\n",
       "      <th>COUNTYFP10</th>\n",
       "      <th>FUNCSTAT10</th>\n",
       "      <th>GEOID10</th>\n",
       "      <th>INTPTLAT10</th>\n",
       "      <th>INTPTLON10</th>\n",
       "      <th>MTFCC10</th>\n",
       "      <th>NAME10</th>\n",
       "      <th>STATEFP10</th>\n",
       "      <th>TRACTCE10</th>\n",
       "      <th>UACE10</th>\n",
       "      <th>UATYP10</th>\n",
       "      <th>UR10</th>\n",
       "      <th>geometry</th>\n",
       "    </tr>\n",
       "  </thead>\n",
       "  <tbody>\n",
       "    <tr>\n",
       "      <th>0</th>\n",
       "      <td>8060.0</td>\n",
       "      <td>0.0</td>\n",
       "      <td>2004</td>\n",
       "      <td>075</td>\n",
       "      <td>S</td>\n",
       "      <td>060750176012004</td>\n",
       "      <td>+37.7799132</td>\n",
       "      <td>-122.4084854</td>\n",
       "      <td>G5040</td>\n",
       "      <td>Block 2004</td>\n",
       "      <td>06</td>\n",
       "      <td>017601</td>\n",
       "      <td>78904</td>\n",
       "      <td>U</td>\n",
       "      <td>U</td>\n",
       "      <td>POLYGON ((-122.408161 37.780535, -122.407691 3...</td>\n",
       "    </tr>\n",
       "    <tr>\n",
       "      <th>1</th>\n",
       "      <td>18340.0</td>\n",
       "      <td>0.0</td>\n",
       "      <td>1000</td>\n",
       "      <td>075</td>\n",
       "      <td>S</td>\n",
       "      <td>060750178021000</td>\n",
       "      <td>+37.7804073</td>\n",
       "      <td>-122.4057816</td>\n",
       "      <td>G5040</td>\n",
       "      <td>Block 1000</td>\n",
       "      <td>06</td>\n",
       "      <td>017802</td>\n",
       "      <td>78904</td>\n",
       "      <td>U</td>\n",
       "      <td>U</td>\n",
       "      <td>POLYGON ((-122.407159 37.779739, -122.405719 3...</td>\n",
       "    </tr>\n",
       "    <tr>\n",
       "      <th>2</th>\n",
       "      <td>13222.0</td>\n",
       "      <td>0.0</td>\n",
       "      <td>1010</td>\n",
       "      <td>075</td>\n",
       "      <td>S</td>\n",
       "      <td>060750178021010</td>\n",
       "      <td>+37.7775808</td>\n",
       "      <td>-122.4083406</td>\n",
       "      <td>G5040</td>\n",
       "      <td>Block 1010</td>\n",
       "      <td>06</td>\n",
       "      <td>017802</td>\n",
       "      <td>78904</td>\n",
       "      <td>U</td>\n",
       "      <td>U</td>\n",
       "      <td>POLYGON ((-122.408833 37.778416, -122.407294 3...</td>\n",
       "    </tr>\n",
       "    <tr>\n",
       "      <th>3</th>\n",
       "      <td>7038.0</td>\n",
       "      <td>0.0</td>\n",
       "      <td>1015</td>\n",
       "      <td>075</td>\n",
       "      <td>S</td>\n",
       "      <td>060750178021015</td>\n",
       "      <td>+37.7768534</td>\n",
       "      <td>-122.4071553</td>\n",
       "      <td>G5040</td>\n",
       "      <td>Block 1015</td>\n",
       "      <td>06</td>\n",
       "      <td>017802</td>\n",
       "      <td>78904</td>\n",
       "      <td>U</td>\n",
       "      <td>U</td>\n",
       "      <td>POLYGON ((-122.407015 37.7774, -122.406471 37....</td>\n",
       "    </tr>\n",
       "    <tr>\n",
       "      <th>4</th>\n",
       "      <td>12945.0</td>\n",
       "      <td>0.0</td>\n",
       "      <td>1011</td>\n",
       "      <td>075</td>\n",
       "      <td>S</td>\n",
       "      <td>060750178021011</td>\n",
       "      <td>+37.7771466</td>\n",
       "      <td>-122.4088823</td>\n",
       "      <td>G5040</td>\n",
       "      <td>Block 1011</td>\n",
       "      <td>06</td>\n",
       "      <td>017802</td>\n",
       "      <td>78904</td>\n",
       "      <td>U</td>\n",
       "      <td>U</td>\n",
       "      <td>POLYGON ((-122.409387 37.777977, -122.407842 3...</td>\n",
       "    </tr>\n",
       "  </tbody>\n",
       "</table>\n",
       "</div>"
      ],
      "text/plain": [
       "   ALAND10  AWATER10 BLOCKCE10 COUNTYFP10 FUNCSTAT10          GEOID10  \\\n",
       "0   8060.0       0.0      2004        075          S  060750176012004   \n",
       "1  18340.0       0.0      1000        075          S  060750178021000   \n",
       "2  13222.0       0.0      1010        075          S  060750178021010   \n",
       "3   7038.0       0.0      1015        075          S  060750178021015   \n",
       "4  12945.0       0.0      1011        075          S  060750178021011   \n",
       "\n",
       "    INTPTLAT10    INTPTLON10 MTFCC10      NAME10 STATEFP10 TRACTCE10 UACE10  \\\n",
       "0  +37.7799132  -122.4084854   G5040  Block 2004        06    017601  78904   \n",
       "1  +37.7804073  -122.4057816   G5040  Block 1000        06    017802  78904   \n",
       "2  +37.7775808  -122.4083406   G5040  Block 1010        06    017802  78904   \n",
       "3  +37.7768534  -122.4071553   G5040  Block 1015        06    017802  78904   \n",
       "4  +37.7771466  -122.4088823   G5040  Block 1011        06    017802  78904   \n",
       "\n",
       "  UATYP10 UR10                                           geometry  \n",
       "0       U    U  POLYGON ((-122.408161 37.780535, -122.407691 3...  \n",
       "1       U    U  POLYGON ((-122.407159 37.779739, -122.405719 3...  \n",
       "2       U    U  POLYGON ((-122.408833 37.778416, -122.407294 3...  \n",
       "3       U    U  POLYGON ((-122.407015 37.7774, -122.406471 37....  \n",
       "4       U    U  POLYGON ((-122.409387 37.777977, -122.407842 3...  "
      ]
     },
     "execution_count": 12,
     "metadata": {},
     "output_type": "execute_result"
    }
   ],
   "source": [
    "blocks.head()"
   ]
  },
  {
   "cell_type": "code",
<<<<<<< HEAD
   "execution_count": 13,
   "metadata": {
    "collapsed": false
   },
   "outputs": [
    {
     "data": {
      "text/plain": [
       "{'init': 'epsg:4269'}"
      ]
     },
     "execution_count": 13,
     "metadata": {},
     "output_type": "execute_result"
    }
   ],
   "source": [
    "blocks00.crs"
   ]
  },
  {
   "cell_type": "code",
   "execution_count": 14,
   "metadata": {
    "collapsed": false
   },
   "outputs": [
    {
     "data": {
      "text/plain": [
       "{'init': 'epsg:4269'}"
      ]
     },
     "execution_count": 14,
     "metadata": {},
     "output_type": "execute_result"
    }
   ],
   "source": [
    "blocks10.crs"
   ]
=======
   "execution_count": null,
   "metadata": {
    "collapsed": true
   },
   "outputs": [],
   "source": []
>>>>>>> 6e43ba4dca69e340b79d1a3d9b929f6bae11c8f8
  },
  {
   "cell_type": "code",
   "execution_count": 44,
   "metadata": {
    "collapsed": false
   },
   "outputs": [
    {
     "data": {
      "text/html": [
       "<div>\n",
       "<table border=\"1\" class=\"dataframe\">\n",
       "  <thead>\n",
       "    <tr style=\"text-align: right;\">\n",
       "      <th></th>\n",
       "      <th>ALAND10</th>\n",
       "      <th>AWATER10</th>\n",
       "      <th>BLOCKCE10</th>\n",
       "      <th>COUNTYFP10</th>\n",
       "      <th>FUNCSTAT10</th>\n",
       "      <th>GEOID10</th>\n",
       "      <th>INTPTLAT10</th>\n",
       "      <th>INTPTLON10</th>\n",
       "      <th>MTFCC10</th>\n",
       "      <th>NAME10</th>\n",
       "      <th>STATEFP10</th>\n",
       "      <th>TRACTCE10</th>\n",
       "      <th>UACE10</th>\n",
       "      <th>UATYP10</th>\n",
       "      <th>UR10</th>\n",
       "      <th>geometry</th>\n",
       "      <th>AREA</th>\n",
       "      <th>DATA</th>\n",
       "    </tr>\n",
       "  </thead>\n",
       "  <tbody>\n",
       "    <tr>\n",
       "      <th>0</th>\n",
       "      <td>8060.0</td>\n",
       "      <td>0.0</td>\n",
       "      <td>2004</td>\n",
       "      <td>075</td>\n",
       "      <td>S</td>\n",
       "      <td>060750176012004</td>\n",
       "      <td>+37.7799132</td>\n",
       "      <td>-122.4084854</td>\n",
       "      <td>G5040</td>\n",
       "      <td>Block 2004</td>\n",
       "      <td>06</td>\n",
       "      <td>017601</td>\n",
       "      <td>78904</td>\n",
       "      <td>U</td>\n",
       "      <td>U</td>\n",
       "      <td>POLYGON ((-122.408161 37.780535, -122.407691 3...</td>\n",
       "      <td>1.991666</td>\n",
       "      <td>1</td>\n",
       "    </tr>\n",
       "    <tr>\n",
       "      <th>1</th>\n",
       "      <td>18340.0</td>\n",
       "      <td>0.0</td>\n",
       "      <td>1000</td>\n",
       "      <td>075</td>\n",
       "      <td>S</td>\n",
       "      <td>060750178021000</td>\n",
       "      <td>+37.7804073</td>\n",
       "      <td>-122.4057816</td>\n",
       "      <td>G5040</td>\n",
       "      <td>Block 1000</td>\n",
       "      <td>06</td>\n",
       "      <td>017802</td>\n",
       "      <td>78904</td>\n",
       "      <td>U</td>\n",
       "      <td>U</td>\n",
       "      <td>POLYGON ((-122.407159 37.779739, -122.405719 3...</td>\n",
       "      <td>4.531906</td>\n",
       "      <td>1</td>\n",
       "    </tr>\n",
       "    <tr>\n",
       "      <th>2</th>\n",
       "      <td>13222.0</td>\n",
       "      <td>0.0</td>\n",
       "      <td>1010</td>\n",
       "      <td>075</td>\n",
       "      <td>S</td>\n",
       "      <td>060750178021010</td>\n",
       "      <td>+37.7775808</td>\n",
       "      <td>-122.4083406</td>\n",
       "      <td>G5040</td>\n",
       "      <td>Block 1010</td>\n",
       "      <td>06</td>\n",
       "      <td>017802</td>\n",
       "      <td>78904</td>\n",
       "      <td>U</td>\n",
       "      <td>U</td>\n",
       "      <td>POLYGON ((-122.408833 37.778416, -122.407294 3...</td>\n",
       "      <td>3.267222</td>\n",
       "      <td>1</td>\n",
       "    </tr>\n",
       "    <tr>\n",
       "      <th>3</th>\n",
       "      <td>7038.0</td>\n",
       "      <td>0.0</td>\n",
       "      <td>1015</td>\n",
       "      <td>075</td>\n",
       "      <td>S</td>\n",
       "      <td>060750178021015</td>\n",
       "      <td>+37.7768534</td>\n",
       "      <td>-122.4071553</td>\n",
       "      <td>G5040</td>\n",
       "      <td>Block 1015</td>\n",
       "      <td>06</td>\n",
       "      <td>017802</td>\n",
       "      <td>78904</td>\n",
       "      <td>U</td>\n",
       "      <td>U</td>\n",
       "      <td>POLYGON ((-122.407015 37.7774, -122.406471 37....</td>\n",
       "      <td>1.739125</td>\n",
       "      <td>1</td>\n",
       "    </tr>\n",
       "    <tr>\n",
       "      <th>4</th>\n",
       "      <td>12945.0</td>\n",
       "      <td>0.0</td>\n",
       "      <td>1011</td>\n",
       "      <td>075</td>\n",
       "      <td>S</td>\n",
       "      <td>060750178021011</td>\n",
       "      <td>+37.7771466</td>\n",
       "      <td>-122.4088823</td>\n",
       "      <td>G5040</td>\n",
       "      <td>Block 1011</td>\n",
       "      <td>06</td>\n",
       "      <td>017802</td>\n",
       "      <td>78904</td>\n",
       "      <td>U</td>\n",
       "      <td>U</td>\n",
       "      <td>POLYGON ((-122.409387 37.777977, -122.407842 3...</td>\n",
       "      <td>3.198774</td>\n",
       "      <td>1</td>\n",
       "    </tr>\n",
       "  </tbody>\n",
       "</table>\n",
       "</div>"
      ],
      "text/plain": [
       "   ALAND10  AWATER10 BLOCKCE10 COUNTYFP10 FUNCSTAT10          GEOID10  \\\n",
       "0   8060.0       0.0      2004        075          S  060750176012004   \n",
       "1  18340.0       0.0      1000        075          S  060750178021000   \n",
       "2  13222.0       0.0      1010        075          S  060750178021010   \n",
       "3   7038.0       0.0      1015        075          S  060750178021015   \n",
       "4  12945.0       0.0      1011        075          S  060750178021011   \n",
       "\n",
       "    INTPTLAT10    INTPTLON10 MTFCC10      NAME10 STATEFP10 TRACTCE10 UACE10  \\\n",
       "0  +37.7799132  -122.4084854   G5040  Block 2004        06    017601  78904   \n",
       "1  +37.7804073  -122.4057816   G5040  Block 1000        06    017802  78904   \n",
       "2  +37.7775808  -122.4083406   G5040  Block 1010        06    017802  78904   \n",
       "3  +37.7768534  -122.4071553   G5040  Block 1015        06    017802  78904   \n",
       "4  +37.7771466  -122.4088823   G5040  Block 1011        06    017802  78904   \n",
       "\n",
       "  UATYP10 UR10                                           geometry      AREA  \\\n",
       "0       U    U  POLYGON ((-122.408161 37.780535, -122.407691 3...  1.991666   \n",
       "1       U    U  POLYGON ((-122.407159 37.779739, -122.405719 3...  4.531906   \n",
       "2       U    U  POLYGON ((-122.408833 37.778416, -122.407294 3...  3.267222   \n",
       "3       U    U  POLYGON ((-122.407015 37.7774, -122.406471 37....  1.739125   \n",
       "4       U    U  POLYGON ((-122.409387 37.777977, -122.407842 3...  3.198774   \n",
       "\n",
       "   DATA  \n",
       "0     1  \n",
       "1     1  \n",
       "2     1  \n",
       "3     1  \n",
       "4     1  "
      ]
     },
     "execution_count": 44,
     "metadata": {},
     "output_type": "execute_result"
    }
   ],
   "source": [
    "blocks.head()"
   ]
  },
  {
   "cell_type": "code",
<<<<<<< HEAD
   "execution_count": 15,
=======
   "execution_count": 9,
>>>>>>> 6e43ba4dca69e340b79d1a3d9b929f6bae11c8f8
   "metadata": {
    "collapsed": false
   },
   "outputs": [],
   "source": [
    "blocks00['AREA'] = blocks00['ALAND']*0.000247105"
   ]
  },
  {
   "cell_type": "code",
<<<<<<< HEAD
   "execution_count": 16,
=======
   "execution_count": 10,
>>>>>>> 6e43ba4dca69e340b79d1a3d9b929f6bae11c8f8
   "metadata": {
    "collapsed": false
   },
   "outputs": [
    {
     "data": {
      "text/html": [
       "<div>\n",
       "<table border=\"1\" class=\"dataframe\">\n",
       "  <thead>\n",
       "    <tr style=\"text-align: right;\">\n",
       "      <th></th>\n",
       "      <th>ALAND</th>\n",
       "      <th>ALAND00</th>\n",
       "      <th>AWATER</th>\n",
       "      <th>AWATER00</th>\n",
       "      <th>BLKIDFP</th>\n",
       "      <th>BLKIDFP00</th>\n",
       "      <th>BLOCKCE00</th>\n",
       "      <th>BLOCKCE0_1</th>\n",
       "      <th>COUNTYFP</th>\n",
       "      <th>COUNTYFP00</th>\n",
       "      <th>...</th>\n",
       "      <th>STATEFP0_1</th>\n",
       "      <th>SUFFIX1CE</th>\n",
       "      <th>TRACTCE00</th>\n",
       "      <th>TRACTCE0_1</th>\n",
       "      <th>UACE</th>\n",
       "      <th>UACE00</th>\n",
       "      <th>UR</th>\n",
       "      <th>UR00</th>\n",
       "      <th>geometry</th>\n",
       "      <th>AREA</th>\n",
       "    </tr>\n",
       "  </thead>\n",
       "  <tbody>\n",
       "    <tr>\n",
       "      <th>0</th>\n",
       "      <td>19552.0</td>\n",
       "      <td>0.0</td>\n",
       "      <td>0.0</td>\n",
       "      <td>0.0</td>\n",
       "      <td>060750477022005</td>\n",
       "      <td>None</td>\n",
       "      <td>2005</td>\n",
       "      <td>None</td>\n",
       "      <td>075</td>\n",
       "      <td>075</td>\n",
       "      <td>...</td>\n",
       "      <td>None</td>\n",
       "      <td>None</td>\n",
       "      <td>047702</td>\n",
       "      <td>None</td>\n",
       "      <td>78904</td>\n",
       "      <td>None</td>\n",
       "      <td>U</td>\n",
       "      <td>None</td>\n",
       "      <td>POLYGON ((-122.478837 37.77281499999999, -122....</td>\n",
       "      <td>4.831397</td>\n",
       "    </tr>\n",
       "    <tr>\n",
       "      <th>1</th>\n",
       "      <td>19607.0</td>\n",
       "      <td>0.0</td>\n",
       "      <td>0.0</td>\n",
       "      <td>0.0</td>\n",
       "      <td>060750476004006</td>\n",
       "      <td>None</td>\n",
       "      <td>4006</td>\n",
       "      <td>None</td>\n",
       "      <td>075</td>\n",
       "      <td>075</td>\n",
       "      <td>...</td>\n",
       "      <td>None</td>\n",
       "      <td>None</td>\n",
       "      <td>047600</td>\n",
       "      <td>None</td>\n",
       "      <td>78904</td>\n",
       "      <td>None</td>\n",
       "      <td>U</td>\n",
       "      <td>None</td>\n",
       "      <td>POLYGON ((-122.477767 37.77286399999996, -122....</td>\n",
       "      <td>4.844988</td>\n",
       "    </tr>\n",
       "    <tr>\n",
       "      <th>2</th>\n",
       "      <td>19645.0</td>\n",
       "      <td>0.0</td>\n",
       "      <td>0.0</td>\n",
       "      <td>0.0</td>\n",
       "      <td>060750476002004</td>\n",
       "      <td>None</td>\n",
       "      <td>2004</td>\n",
       "      <td>None</td>\n",
       "      <td>075</td>\n",
       "      <td>075</td>\n",
       "      <td>...</td>\n",
       "      <td>None</td>\n",
       "      <td>None</td>\n",
       "      <td>047600</td>\n",
       "      <td>None</td>\n",
       "      <td>78904</td>\n",
       "      <td>None</td>\n",
       "      <td>U</td>\n",
       "      <td>None</td>\n",
       "      <td>POLYGON ((-122.475888 37.77669299999996, -122....</td>\n",
       "      <td>4.854378</td>\n",
       "    </tr>\n",
       "    <tr>\n",
       "      <th>3</th>\n",
       "      <td>19494.0</td>\n",
       "      <td>0.0</td>\n",
       "      <td>0.0</td>\n",
       "      <td>0.0</td>\n",
       "      <td>060750476002003</td>\n",
       "      <td>None</td>\n",
       "      <td>2003</td>\n",
       "      <td>None</td>\n",
       "      <td>075</td>\n",
       "      <td>075</td>\n",
       "      <td>...</td>\n",
       "      <td>None</td>\n",
       "      <td>None</td>\n",
       "      <td>047600</td>\n",
       "      <td>None</td>\n",
       "      <td>78904</td>\n",
       "      <td>None</td>\n",
       "      <td>U</td>\n",
       "      <td>None</td>\n",
       "      <td>POLYGON ((-122.474821 37.77674200000002, -122....</td>\n",
       "      <td>4.817065</td>\n",
       "    </tr>\n",
       "    <tr>\n",
       "      <th>4</th>\n",
       "      <td>22057.0</td>\n",
       "      <td>0.0</td>\n",
       "      <td>0.0</td>\n",
       "      <td>0.0</td>\n",
       "      <td>060750476001001</td>\n",
       "      <td>None</td>\n",
       "      <td>1001</td>\n",
       "      <td>None</td>\n",
       "      <td>075</td>\n",
       "      <td>075</td>\n",
       "      <td>...</td>\n",
       "      <td>None</td>\n",
       "      <td>None</td>\n",
       "      <td>047600</td>\n",
       "      <td>None</td>\n",
       "      <td>78904</td>\n",
       "      <td>None</td>\n",
       "      <td>U</td>\n",
       "      <td>None</td>\n",
       "      <td>POLYGON ((-122.472844 37.78063100000001, -122....</td>\n",
       "      <td>5.450395</td>\n",
       "    </tr>\n",
       "  </tbody>\n",
       "</table>\n",
       "<p>5 rows × 36 columns</p>\n",
       "</div>"
      ],
      "text/plain": [
       "     ALAND  ALAND00  AWATER  AWATER00          BLKIDFP BLKIDFP00 BLOCKCE00  \\\n",
       "0  19552.0      0.0     0.0       0.0  060750477022005      None      2005   \n",
       "1  19607.0      0.0     0.0       0.0  060750476004006      None      4006   \n",
       "2  19645.0      0.0     0.0       0.0  060750476002004      None      2004   \n",
       "3  19494.0      0.0     0.0       0.0  060750476002003      None      2003   \n",
       "4  22057.0      0.0     0.0       0.0  060750476001001      None      1001   \n",
       "\n",
       "  BLOCKCE0_1 COUNTYFP COUNTYFP00    ...    STATEFP0_1 SUFFIX1CE  TRACTCE00  \\\n",
       "0       None      075        075    ...          None      None     047702   \n",
       "1       None      075        075    ...          None      None     047600   \n",
       "2       None      075        075    ...          None      None     047600   \n",
       "3       None      075        075    ...          None      None     047600   \n",
       "4       None      075        075    ...          None      None     047600   \n",
       "\n",
       "   TRACTCE0_1   UACE UACE00 UR  UR00  \\\n",
       "0        None  78904   None  U  None   \n",
       "1        None  78904   None  U  None   \n",
       "2        None  78904   None  U  None   \n",
       "3        None  78904   None  U  None   \n",
       "4        None  78904   None  U  None   \n",
       "\n",
       "                                            geometry      AREA  \n",
       "0  POLYGON ((-122.478837 37.77281499999999, -122....  4.831397  \n",
       "1  POLYGON ((-122.477767 37.77286399999996, -122....  4.844988  \n",
       "2  POLYGON ((-122.475888 37.77669299999996, -122....  4.854378  \n",
       "3  POLYGON ((-122.474821 37.77674200000002, -122....  4.817065  \n",
       "4  POLYGON ((-122.472844 37.78063100000001, -122....  5.450395  \n",
       "\n",
       "[5 rows x 36 columns]"
      ]
     },
<<<<<<< HEAD
     "execution_count": 16,
=======
     "execution_count": 10,
>>>>>>> 6e43ba4dca69e340b79d1a3d9b929f6bae11c8f8
     "metadata": {},
     "output_type": "execute_result"
    }
   ],
   "source": [
    "blocks00.head()"
   ]
  },
  {
   "cell_type": "code",
<<<<<<< HEAD
   "execution_count": 17,
=======
   "execution_count": 11,
>>>>>>> 6e43ba4dca69e340b79d1a3d9b929f6bae11c8f8
   "metadata": {
    "collapsed": false
   },
   "outputs": [
    {
     "name": "stdout",
     "output_type": "stream",
     "text": [
<<<<<<< HEAD
      "2017-06-14 12:46:14.038095\n"
=======
      "2017-05-12 08:06:35.240038\n"
>>>>>>> 6e43ba4dca69e340b79d1a3d9b929f6bae11c8f8
     ]
    },
    {
     "data": {
      "text/plain": [
       "0"
      ]
     },
<<<<<<< HEAD
     "execution_count": 17,
=======
     "execution_count": 11,
>>>>>>> 6e43ba4dca69e340b79d1a3d9b929f6bae11c8f8
     "metadata": {},
     "output_type": "execute_result"
    }
   ],
   "source": [
    "\n",
    "start_time = datetime.datetime.now()\n",
    "print(start_time)\n",
    "time = datetime.datetime.now() - start_time\n",
    "time.seconds "
   ]
  },
  {
   "cell_type": "code",
<<<<<<< HEAD
   "execution_count": 18,
=======
   "execution_count": 12,
>>>>>>> 6e43ba4dca69e340b79d1a3d9b929f6bae11c8f8
   "metadata": {
    "collapsed": false
   },
   "outputs": [
    {
     "name": "stderr",
     "output_type": "stream",
     "text": [
      "Ring Self-intersection at or near point -122.45601400000002 37.75235899999997\n",
      "Ring Self-intersection at or near point -122.45586299999997 37.796555000000041\n",
      "Ring Self-intersection at or near point -122.44720999999997 37.754043000000038\n",
      "Ring Self-intersection at or near point -122.459349 37.743451000000015\n",
      "Ring Self-intersection at or near point -122.37996999999997 37.760224000000044\n",
      "Ring Self-intersection at or near point -122.39236199999998 37.715494000000014\n",
      "Ring Self-intersection at or near point -122.47349300000002 37.798060000000042\n",
      "Ring Self-intersection at or near point -122.21263599999997 37.275470000000034\n",
      "Ring Self-intersection at or near point -122.21617700000003 37.255043000000008\n",
      "Ring Self-intersection at or near point -122.38733900000004 37.673357000000038\n",
      "Ring Self-intersection at or near point -122.24311899999998 37.553120999999976\n",
      "Ring Self-intersection at or near point -122.22489499999999 37.437563999999988\n",
      "Ring Self-intersection at or near point -122.29268200000004 37.565558999999972\n",
      "Ring Self-intersection at or near point -122.25785099999997 37.448359000000018\n",
      "Ring Self-intersection at or near point -122.15761599999995 37.454441000000003\n",
      "Ring Self-intersection at or near point -122.37341000000005 37.546714000000016\n",
      "Ring Self-intersection at or near point -122.22424700000002 37.460686999999972\n"
     ]
    },
    {
     "name": "stdout",
     "output_type": "stream",
     "text": [
      "took -999999999 days, 0:00:00 minutes\n"
     ]
    }
   ],
   "source": [
    "\n",
    "start_time = datetime.datetime.now()\n",
<<<<<<< HEAD
    "identity = gp.overlay(buffers,blocks10,how = 'identity')\n",
=======
    "identity = gp.overlay(buffers,blocks00,how = 'identity')\n",
>>>>>>> 6e43ba4dca69e340b79d1a3d9b929f6bae11c8f8
    "time = datetime.datetime.now() - start_time\n",
    "print('took '+ str(time.min) + ' minutes')"
   ]
  },
  {
   "cell_type": "code",
   "execution_count": 13,
   "metadata": {
    "collapsed": false
   },
   "outputs": [
    {
     "data": {
      "text/plain": [
       "<matplotlib.axes._subplots.AxesSubplot at 0x1eebfb604a8>"
      ]
     },
     "execution_count": 13,
     "metadata": {},
     "output_type": "execute_result"
    },
    {
     "data": {
      "image/png": "iVBORw0KGgoAAAANSUhEUgAAAV4AAAEJCAYAAADcoE9VAAAABHNCSVQICAgIfAhkiAAAAAlwSFlz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\nTkSuQmCC\n",
      "text/plain": [
       "<matplotlib.figure.Figure at 0x1eebfb63eb8>"
      ]
     },
     "metadata": {},
     "output_type": "display_data"
    }
   ],
   "source": [
    "identity.plot()"
   ]
  },
  {
   "cell_type": "code",
   "execution_count": 14,
   "metadata": {
    "collapsed": false
   },
   "outputs": [
    {
     "data": {
      "text/html": [
       "<div>\n",
       "<table border=\"1\" class=\"dataframe\">\n",
       "  <thead>\n",
       "    <tr style=\"text-align: right;\">\n",
       "      <th></th>\n",
       "      <th>BUFF_DIST</th>\n",
       "      <th>ORIG_FID</th>\n",
       "      <th>STOP_ID</th>\n",
       "      <th>STOP_LAT</th>\n",
       "      <th>STOP_LON</th>\n",
       "      <th>ALAND</th>\n",
       "      <th>ALAND00</th>\n",
       "      <th>AWATER</th>\n",
       "      <th>AWATER00</th>\n",
       "      <th>BLKIDFP</th>\n",
       "      <th>...</th>\n",
       "      <th>STATEFP0_1</th>\n",
       "      <th>SUFFIX1CE</th>\n",
       "      <th>TRACTCE00</th>\n",
       "      <th>TRACTCE0_1</th>\n",
       "      <th>UACE</th>\n",
       "      <th>UACE00</th>\n",
       "      <th>UR</th>\n",
       "      <th>UR00</th>\n",
       "      <th>AREA</th>\n",
       "      <th>geometry</th>\n",
       "    </tr>\n",
       "  </thead>\n",
       "  <tbody>\n",
       "    <tr>\n",
       "      <th>0</th>\n",
       "      <td>528.0</td>\n",
       "      <td>1433</td>\n",
       "      <td>4660</td>\n",
       "      <td>37.778629</td>\n",
       "      <td>-122.405324</td>\n",
       "      <td>7038.0</td>\n",
       "      <td>0.0</td>\n",
       "      <td>0.0</td>\n",
       "      <td>0.0</td>\n",
       "      <td>060750178003017</td>\n",
       "      <td>...</td>\n",
       "      <td>None</td>\n",
       "      <td>None</td>\n",
       "      <td>017800</td>\n",
       "      <td>None</td>\n",
       "      <td>78904</td>\n",
       "      <td>None</td>\n",
       "      <td>U</td>\n",
       "      <td>None</td>\n",
       "      <td>1.739125</td>\n",
       "      <td>POLYGON ((-122.407200409276 37.77725313458787,...</td>\n",
       "    </tr>\n",
       "    <tr>\n",
       "      <th>1</th>\n",
       "      <td>528.0</td>\n",
       "      <td>1433</td>\n",
       "      <td>4660</td>\n",
       "      <td>37.778629</td>\n",
       "      <td>-122.405324</td>\n",
       "      <td>13578.0</td>\n",
       "      <td>0.0</td>\n",
       "      <td>0.0</td>\n",
       "      <td>0.0</td>\n",
       "      <td>060750178003008</td>\n",
       "      <td>...</td>\n",
       "      <td>None</td>\n",
       "      <td>None</td>\n",
       "      <td>017800</td>\n",
       "      <td>None</td>\n",
       "      <td>78904</td>\n",
       "      <td>None</td>\n",
       "      <td>U</td>\n",
       "      <td>None</td>\n",
       "      <td>3.355192</td>\n",
       "      <td>POLYGON ((-122.407015 37.77740000000001, -122....</td>\n",
       "    </tr>\n",
       "    <tr>\n",
       "      <th>2</th>\n",
       "      <td>528.0</td>\n",
       "      <td>1433</td>\n",
       "      <td>4660</td>\n",
       "      <td>37.778629</td>\n",
       "      <td>-122.405324</td>\n",
       "      <td>13885.0</td>\n",
       "      <td>0.0</td>\n",
       "      <td>0.0</td>\n",
       "      <td>0.0</td>\n",
       "      <td>060750178003018</td>\n",
       "      <td>...</td>\n",
       "      <td>None</td>\n",
       "      <td>None</td>\n",
       "      <td>017800</td>\n",
       "      <td>None</td>\n",
       "      <td>78904</td>\n",
       "      <td>None</td>\n",
       "      <td>U</td>\n",
       "      <td>None</td>\n",
       "      <td>3.431053</td>\n",
       "      <td>POLYGON ((-122.4066662407453 37.77712047971495...</td>\n",
       "    </tr>\n",
       "    <tr>\n",
       "      <th>3</th>\n",
       "      <td>528.0</td>\n",
       "      <td>1433</td>\n",
       "      <td>4660</td>\n",
       "      <td>37.778629</td>\n",
       "      <td>-122.405324</td>\n",
       "      <td>13838.0</td>\n",
       "      <td>0.0</td>\n",
       "      <td>0.0</td>\n",
       "      <td>0.0</td>\n",
       "      <td>060750178003007</td>\n",
       "      <td>...</td>\n",
       "      <td>None</td>\n",
       "      <td>None</td>\n",
       "      <td>017800</td>\n",
       "      <td>None</td>\n",
       "      <td>78904</td>\n",
       "      <td>None</td>\n",
       "      <td>U</td>\n",
       "      <td>None</td>\n",
       "      <td>3.419439</td>\n",
       "      <td>POLYGON ((-122.406436 37.77785699999999, -122....</td>\n",
       "    </tr>\n",
       "    <tr>\n",
       "      <th>4</th>\n",
       "      <td>528.0</td>\n",
       "      <td>1433</td>\n",
       "      <td>4660</td>\n",
       "      <td>37.778629</td>\n",
       "      <td>-122.405324</td>\n",
       "      <td>9125.0</td>\n",
       "      <td>0.0</td>\n",
       "      <td>0.0</td>\n",
       "      <td>0.0</td>\n",
       "      <td>060750178003020</td>\n",
       "      <td>...</td>\n",
       "      <td>None</td>\n",
       "      <td>None</td>\n",
       "      <td>017800</td>\n",
       "      <td>None</td>\n",
       "      <td>78904</td>\n",
       "      <td>None</td>\n",
       "      <td>U</td>\n",
       "      <td>None</td>\n",
       "      <td>2.254833</td>\n",
       "      <td>POLYGON ((-122.406436 37.77785699999999, -122....</td>\n",
       "    </tr>\n",
       "  </tbody>\n",
       "</table>\n",
       "<p>5 rows × 41 columns</p>\n",
       "</div>"
      ],
      "text/plain": [
       "   BUFF_DIST  ORIG_FID  STOP_ID   STOP_LAT    STOP_LON    ALAND  ALAND00  \\\n",
       "0      528.0      1433     4660  37.778629 -122.405324   7038.0      0.0   \n",
       "1      528.0      1433     4660  37.778629 -122.405324  13578.0      0.0   \n",
       "2      528.0      1433     4660  37.778629 -122.405324  13885.0      0.0   \n",
       "3      528.0      1433     4660  37.778629 -122.405324  13838.0      0.0   \n",
       "4      528.0      1433     4660  37.778629 -122.405324   9125.0      0.0   \n",
       "\n",
       "   AWATER  AWATER00          BLKIDFP  \\\n",
       "0     0.0       0.0  060750178003017   \n",
       "1     0.0       0.0  060750178003008   \n",
       "2     0.0       0.0  060750178003018   \n",
       "3     0.0       0.0  060750178003007   \n",
       "4     0.0       0.0  060750178003020   \n",
       "\n",
       "                         ...                         STATEFP0_1 SUFFIX1CE  \\\n",
       "0                        ...                               None      None   \n",
       "1                        ...                               None      None   \n",
       "2                        ...                               None      None   \n",
       "3                        ...                               None      None   \n",
       "4                        ...                               None      None   \n",
       "\n",
       "  TRACTCE00 TRACTCE0_1   UACE UACE00 UR  UR00      AREA  \\\n",
       "0    017800       None  78904   None  U  None  1.739125   \n",
       "1    017800       None  78904   None  U  None  3.355192   \n",
       "2    017800       None  78904   None  U  None  3.431053   \n",
       "3    017800       None  78904   None  U  None  3.419439   \n",
       "4    017800       None  78904   None  U  None  2.254833   \n",
       "\n",
       "                                            geometry  \n",
       "0  POLYGON ((-122.407200409276 37.77725313458787,...  \n",
       "1  POLYGON ((-122.407015 37.77740000000001, -122....  \n",
       "2  POLYGON ((-122.4066662407453 37.77712047971495...  \n",
       "3  POLYGON ((-122.406436 37.77785699999999, -122....  \n",
       "4  POLYGON ((-122.406436 37.77785699999999, -122....  \n",
       "\n",
       "[5 rows x 41 columns]"
      ]
     },
     "execution_count": 14,
     "metadata": {},
     "output_type": "execute_result"
    }
   ],
   "source": [
    "identity.head()"
   ]
  },
  {
   "cell_type": "code",
   "execution_count": 19,
   "metadata": {
    "collapsed": false
   },
   "outputs": [
    {
     "data": {
      "text/html": [
       "<div>\n",
       "<table border=\"1\" class=\"dataframe\">\n",
       "  <thead>\n",
       "    <tr style=\"text-align: right;\">\n",
       "      <th></th>\n",
       "      <th>BUFF_DIST</th>\n",
       "      <th>ORIG_FID</th>\n",
       "      <th>STOP_ID</th>\n",
       "      <th>STOP_LAT</th>\n",
       "      <th>STOP_LON</th>\n",
       "      <th>ALAND</th>\n",
       "      <th>ALAND00</th>\n",
       "      <th>AWATER</th>\n",
       "      <th>AWATER00</th>\n",
       "      <th>BLKIDFP</th>\n",
       "      <th>...</th>\n",
       "      <th>STATEFP0_1</th>\n",
       "      <th>SUFFIX1CE</th>\n",
       "      <th>TRACTCE00</th>\n",
       "      <th>TRACTCE0_1</th>\n",
       "      <th>UACE</th>\n",
       "      <th>UACE00</th>\n",
       "      <th>UR</th>\n",
       "      <th>UR00</th>\n",
       "      <th>AREA</th>\n",
       "      <th>geometry</th>\n",
       "    </tr>\n",
       "  </thead>\n",
       "  <tbody>\n",
       "    <tr>\n",
       "      <th>0</th>\n",
       "      <td>528.0</td>\n",
       "      <td>1433</td>\n",
       "      <td>4660</td>\n",
       "      <td>37.778629</td>\n",
       "      <td>-122.405324</td>\n",
       "      <td>7038.0</td>\n",
       "      <td>0.0</td>\n",
       "      <td>0.0</td>\n",
       "      <td>0.0</td>\n",
       "      <td>060750178003017</td>\n",
       "      <td>...</td>\n",
       "      <td>None</td>\n",
       "      <td>None</td>\n",
       "      <td>017800</td>\n",
       "      <td>None</td>\n",
       "      <td>78904</td>\n",
       "      <td>None</td>\n",
       "      <td>U</td>\n",
       "      <td>None</td>\n",
       "      <td>1.739125</td>\n",
       "      <td>POLYGON ((-122.407200409276 37.77725313458787,...</td>\n",
       "    </tr>\n",
       "    <tr>\n",
       "      <th>1</th>\n",
       "      <td>528.0</td>\n",
       "      <td>1433</td>\n",
       "      <td>4660</td>\n",
       "      <td>37.778629</td>\n",
       "      <td>-122.405324</td>\n",
       "      <td>13578.0</td>\n",
       "      <td>0.0</td>\n",
       "      <td>0.0</td>\n",
       "      <td>0.0</td>\n",
       "      <td>060750178003008</td>\n",
       "      <td>...</td>\n",
       "      <td>None</td>\n",
       "      <td>None</td>\n",
       "      <td>017800</td>\n",
       "      <td>None</td>\n",
       "      <td>78904</td>\n",
       "      <td>None</td>\n",
       "      <td>U</td>\n",
       "      <td>None</td>\n",
       "      <td>3.355192</td>\n",
       "      <td>POLYGON ((-122.407015 37.77740000000001, -122....</td>\n",
       "    </tr>\n",
       "    <tr>\n",
       "      <th>2</th>\n",
       "      <td>528.0</td>\n",
       "      <td>1433</td>\n",
       "      <td>4660</td>\n",
       "      <td>37.778629</td>\n",
       "      <td>-122.405324</td>\n",
       "      <td>13885.0</td>\n",
       "      <td>0.0</td>\n",
       "      <td>0.0</td>\n",
       "      <td>0.0</td>\n",
       "      <td>060750178003018</td>\n",
       "      <td>...</td>\n",
       "      <td>None</td>\n",
       "      <td>None</td>\n",
       "      <td>017800</td>\n",
       "      <td>None</td>\n",
       "      <td>78904</td>\n",
       "      <td>None</td>\n",
       "      <td>U</td>\n",
       "      <td>None</td>\n",
       "      <td>3.431053</td>\n",
       "      <td>POLYGON ((-122.4066662407453 37.77712047971495...</td>\n",
       "    </tr>\n",
       "    <tr>\n",
       "      <th>3</th>\n",
       "      <td>528.0</td>\n",
       "      <td>1433</td>\n",
       "      <td>4660</td>\n",
       "      <td>37.778629</td>\n",
       "      <td>-122.405324</td>\n",
       "      <td>13838.0</td>\n",
       "      <td>0.0</td>\n",
       "      <td>0.0</td>\n",
       "      <td>0.0</td>\n",
       "      <td>060750178003007</td>\n",
       "      <td>...</td>\n",
       "      <td>None</td>\n",
       "      <td>None</td>\n",
       "      <td>017800</td>\n",
       "      <td>None</td>\n",
       "      <td>78904</td>\n",
       "      <td>None</td>\n",
       "      <td>U</td>\n",
       "      <td>None</td>\n",
       "      <td>3.419439</td>\n",
       "      <td>POLYGON ((-122.406436 37.77785699999999, -122....</td>\n",
       "    </tr>\n",
       "    <tr>\n",
       "      <th>4</th>\n",
       "      <td>528.0</td>\n",
       "      <td>1433</td>\n",
       "      <td>4660</td>\n",
       "      <td>37.778629</td>\n",
       "      <td>-122.405324</td>\n",
       "      <td>9125.0</td>\n",
       "      <td>0.0</td>\n",
       "      <td>0.0</td>\n",
       "      <td>0.0</td>\n",
       "      <td>060750178003020</td>\n",
       "      <td>...</td>\n",
       "      <td>None</td>\n",
       "      <td>None</td>\n",
       "      <td>017800</td>\n",
       "      <td>None</td>\n",
       "      <td>78904</td>\n",
       "      <td>None</td>\n",
       "      <td>U</td>\n",
       "      <td>None</td>\n",
       "      <td>2.254833</td>\n",
       "      <td>POLYGON ((-122.406436 37.77785699999999, -122....</td>\n",
       "    </tr>\n",
       "  </tbody>\n",
       "</table>\n",
       "<p>5 rows × 41 columns</p>\n",
       "</div>"
      ],
      "text/plain": [
       "   BUFF_DIST  ORIG_FID  STOP_ID   STOP_LAT    STOP_LON    ALAND  ALAND00  \\\n",
       "0      528.0      1433     4660  37.778629 -122.405324   7038.0      0.0   \n",
       "1      528.0      1433     4660  37.778629 -122.405324  13578.0      0.0   \n",
       "2      528.0      1433     4660  37.778629 -122.405324  13885.0      0.0   \n",
       "3      528.0      1433     4660  37.778629 -122.405324  13838.0      0.0   \n",
       "4      528.0      1433     4660  37.778629 -122.405324   9125.0      0.0   \n",
       "\n",
       "   AWATER  AWATER00          BLKIDFP  \\\n",
       "0     0.0       0.0  060750178003017   \n",
       "1     0.0       0.0  060750178003008   \n",
       "2     0.0       0.0  060750178003018   \n",
       "3     0.0       0.0  060750178003007   \n",
       "4     0.0       0.0  060750178003020   \n",
       "\n",
       "                         ...                         STATEFP0_1 SUFFIX1CE  \\\n",
       "0                        ...                               None      None   \n",
       "1                        ...                               None      None   \n",
       "2                        ...                               None      None   \n",
       "3                        ...                               None      None   \n",
       "4                        ...                               None      None   \n",
       "\n",
       "  TRACTCE00 TRACTCE0_1   UACE UACE00 UR  UR00      AREA  \\\n",
       "0    017800       None  78904   None  U  None  1.739125   \n",
       "1    017800       None  78904   None  U  None  3.355192   \n",
       "2    017800       None  78904   None  U  None  3.431053   \n",
       "3    017800       None  78904   None  U  None  3.419439   \n",
       "4    017800       None  78904   None  U  None  2.254833   \n",
       "\n",
       "                                            geometry  \n",
       "0  POLYGON ((-122.407200409276 37.77725313458787,...  \n",
       "1  POLYGON ((-122.407015 37.77740000000001, -122....  \n",
       "2  POLYGON ((-122.4066662407453 37.77712047971495...  \n",
       "3  POLYGON ((-122.406436 37.77785699999999, -122....  \n",
       "4  POLYGON ((-122.406436 37.77785699999999, -122....  \n",
       "\n",
       "[5 rows x 41 columns]"
      ]
     },
     "execution_count": 19,
     "metadata": {},
     "output_type": "execute_result"
    }
   ],
   "source": [
    "identity.head()"
   ]
  },
  {
   "cell_type": "code",
   "execution_count": 16,
   "metadata": {
    "collapsed": false
   },
   "outputs": [],
   "source": [
    "identity.crs = {'init' :'epsg:4326'}"
   ]
  },
  {
   "cell_type": "code",
   "execution_count": 18,
   "metadata": {
    "collapsed": false
   },
   "outputs": [],
   "source": [
    "stateplane = identity.to_crs(epsg = '2227')"
   ]
  },
  {
   "cell_type": "code",
   "execution_count": 20,
   "metadata": {
    "collapsed": false
   },
   "outputs": [
    {
     "data": {
      "text/plain": [
       "<matplotlib.axes._subplots.AxesSubplot at 0x229970d8240>"
      ]
     },
     "execution_count": 20,
     "metadata": {},
     "output_type": "execute_result"
    },
    {
     "data": {
      "image/png": "iVBORw0KGgoAAAANSUhEUgAAAR4AAAD8CAYAAAChMsvrAAAABHNCSVQICAgIfAhkiAAAAAlwSFlz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\nAElFTkSuQmCC\n",
      "text/plain": [
       "<matplotlib.figure.Figure at 0x22996f129b0>"
      ]
     },
     "metadata": {},
     "output_type": "display_data"
    }
   ],
   "source": [
    "stateplane.plot()"
   ]
  },
  {
   "cell_type": "code",
   "execution_count": 21,
   "metadata": {
    "collapsed": false
   },
   "outputs": [
    {
     "data": {
      "text/html": [
       "<div>\n",
       "<table border=\"1\" class=\"dataframe\">\n",
       "  <thead>\n",
       "    <tr style=\"text-align: right;\">\n",
       "      <th></th>\n",
       "      <th>BUFF_DIST</th>\n",
       "      <th>ORIG_FID</th>\n",
       "      <th>STOP_ID</th>\n",
       "      <th>STOP_LAT</th>\n",
       "      <th>STOP_LON</th>\n",
       "      <th>ALAND</th>\n",
       "      <th>ALAND00</th>\n",
       "      <th>AWATER</th>\n",
       "      <th>AWATER00</th>\n",
       "      <th>BLKIDFP</th>\n",
       "      <th>...</th>\n",
       "      <th>SUFFIX1CE</th>\n",
       "      <th>TRACTCE00</th>\n",
       "      <th>TRACTCE0_1</th>\n",
       "      <th>UACE</th>\n",
       "      <th>UACE00</th>\n",
       "      <th>UR</th>\n",
       "      <th>UR00</th>\n",
       "      <th>AREA</th>\n",
       "      <th>geometry</th>\n",
       "      <th>SPLIT_AREA</th>\n",
       "    </tr>\n",
       "  </thead>\n",
       "  <tbody>\n",
       "    <tr>\n",
       "      <th>0</th>\n",
       "      <td>528.0</td>\n",
       "      <td>1433</td>\n",
       "      <td>4660</td>\n",
       "      <td>37.778629</td>\n",
       "      <td>-122.405324</td>\n",
       "      <td>7038.0</td>\n",
       "      <td>0.0</td>\n",
       "      <td>0.0</td>\n",
       "      <td>0.0</td>\n",
       "      <td>060750178003017</td>\n",
       "      <td>...</td>\n",
       "      <td>None</td>\n",
       "      <td>017800</td>\n",
       "      <td>None</td>\n",
       "      <td>78904</td>\n",
       "      <td>None</td>\n",
       "      <td>U</td>\n",
       "      <td>None</td>\n",
       "      <td>1.739125</td>\n",
       "      <td>POLYGON ((6010499.769683376 2111093.748737841,...</td>\n",
       "      <td>0.140000</td>\n",
       "    </tr>\n",
       "    <tr>\n",
       "      <th>1</th>\n",
       "      <td>528.0</td>\n",
       "      <td>1433</td>\n",
       "      <td>4660</td>\n",
       "      <td>37.778629</td>\n",
       "      <td>-122.405324</td>\n",
       "      <td>13578.0</td>\n",
       "      <td>0.0</td>\n",
       "      <td>0.0</td>\n",
       "      <td>0.0</td>\n",
       "      <td>060750178003008</td>\n",
       "      <td>...</td>\n",
       "      <td>None</td>\n",
       "      <td>017800</td>\n",
       "      <td>None</td>\n",
       "      <td>78904</td>\n",
       "      <td>None</td>\n",
       "      <td>U</td>\n",
       "      <td>None</td>\n",
       "      <td>3.355192</td>\n",
       "      <td>POLYGON ((6010554.433824492 2111146.122561689,...</td>\n",
       "      <td>2.373861</td>\n",
       "    </tr>\n",
       "    <tr>\n",
       "      <th>2</th>\n",
       "      <td>528.0</td>\n",
       "      <td>1433</td>\n",
       "      <td>4660</td>\n",
       "      <td>37.778629</td>\n",
       "      <td>-122.405324</td>\n",
       "      <td>13885.0</td>\n",
       "      <td>0.0</td>\n",
       "      <td>0.0</td>\n",
       "      <td>0.0</td>\n",
       "      <td>060750178003018</td>\n",
       "      <td>...</td>\n",
       "      <td>None</td>\n",
       "      <td>017800</td>\n",
       "      <td>None</td>\n",
       "      <td>78904</td>\n",
       "      <td>None</td>\n",
       "      <td>U</td>\n",
       "      <td>None</td>\n",
       "      <td>3.431053</td>\n",
       "      <td>POLYGON ((6010653.135071288 2111042.310756829,...</td>\n",
       "      <td>1.355124</td>\n",
       "    </tr>\n",
       "    <tr>\n",
       "      <th>3</th>\n",
       "      <td>528.0</td>\n",
       "      <td>1433</td>\n",
       "      <td>4660</td>\n",
       "      <td>37.778629</td>\n",
       "      <td>-122.405324</td>\n",
       "      <td>13838.0</td>\n",
       "      <td>0.0</td>\n",
       "      <td>0.0</td>\n",
       "      <td>0.0</td>\n",
       "      <td>060750178003007</td>\n",
       "      <td>...</td>\n",
       "      <td>None</td>\n",
       "      <td>017800</td>\n",
       "      <td>None</td>\n",
       "      <td>78904</td>\n",
       "      <td>None</td>\n",
       "      <td>U</td>\n",
       "      <td>None</td>\n",
       "      <td>3.419439</td>\n",
       "      <td>POLYGON ((6010725.126685857 2111309.082364502,...</td>\n",
       "      <td>3.400471</td>\n",
       "    </tr>\n",
       "    <tr>\n",
       "      <th>4</th>\n",
       "      <td>528.0</td>\n",
       "      <td>1433</td>\n",
       "      <td>4660</td>\n",
       "      <td>37.778629</td>\n",
       "      <td>-122.405324</td>\n",
       "      <td>9125.0</td>\n",
       "      <td>0.0</td>\n",
       "      <td>0.0</td>\n",
       "      <td>0.0</td>\n",
       "      <td>060750178003020</td>\n",
       "      <td>...</td>\n",
       "      <td>None</td>\n",
       "      <td>017800</td>\n",
       "      <td>None</td>\n",
       "      <td>78904</td>\n",
       "      <td>None</td>\n",
       "      <td>U</td>\n",
       "      <td>None</td>\n",
       "      <td>2.254833</td>\n",
       "      <td>POLYGON ((6010725.126685857 2111309.082364502,...</td>\n",
       "      <td>1.217494</td>\n",
       "    </tr>\n",
       "  </tbody>\n",
       "</table>\n",
       "<p>5 rows × 42 columns</p>\n",
       "</div>"
      ],
      "text/plain": [
       "   BUFF_DIST  ORIG_FID  STOP_ID   STOP_LAT    STOP_LON    ALAND  ALAND00  \\\n",
       "0      528.0      1433     4660  37.778629 -122.405324   7038.0      0.0   \n",
       "1      528.0      1433     4660  37.778629 -122.405324  13578.0      0.0   \n",
       "2      528.0      1433     4660  37.778629 -122.405324  13885.0      0.0   \n",
       "3      528.0      1433     4660  37.778629 -122.405324  13838.0      0.0   \n",
       "4      528.0      1433     4660  37.778629 -122.405324   9125.0      0.0   \n",
       "\n",
       "   AWATER  AWATER00          BLKIDFP    ...     SUFFIX1CE TRACTCE00  \\\n",
       "0     0.0       0.0  060750178003017    ...          None    017800   \n",
       "1     0.0       0.0  060750178003008    ...          None    017800   \n",
       "2     0.0       0.0  060750178003018    ...          None    017800   \n",
       "3     0.0       0.0  060750178003007    ...          None    017800   \n",
       "4     0.0       0.0  060750178003020    ...          None    017800   \n",
       "\n",
       "  TRACTCE0_1   UACE UACE00 UR  UR00      AREA  \\\n",
       "0       None  78904   None  U  None  1.739125   \n",
       "1       None  78904   None  U  None  3.355192   \n",
       "2       None  78904   None  U  None  3.431053   \n",
       "3       None  78904   None  U  None  3.419439   \n",
       "4       None  78904   None  U  None  2.254833   \n",
       "\n",
       "                                            geometry SPLIT_AREA  \n",
       "0  POLYGON ((6010499.769683376 2111093.748737841,...   0.140000  \n",
       "1  POLYGON ((6010554.433824492 2111146.122561689,...   2.373861  \n",
       "2  POLYGON ((6010653.135071288 2111042.310756829,...   1.355124  \n",
       "3  POLYGON ((6010725.126685857 2111309.082364502,...   3.400471  \n",
       "4  POLYGON ((6010725.126685857 2111309.082364502,...   1.217494  \n",
       "\n",
       "[5 rows x 42 columns]"
      ]
     },
     "execution_count": 21,
     "metadata": {},
     "output_type": "execute_result"
    }
   ],
   "source": [
    "stateplane.head()"
   ]
  },
  {
   "cell_type": "code",
   "execution_count": 20,
   "metadata": {
    "collapsed": false
   },
   "outputs": [],
   "source": [
    "stateplane['SPLIT_AREA'] = stateplane.area*2.29568e-5"
   ]
  },
  {
   "cell_type": "code",
   "execution_count": 26,
   "metadata": {
    "collapsed": false
   },
   "outputs": [
    {
     "data": {
      "text/html": [
       "<div>\n",
       "<table border=\"1\" class=\"dataframe\">\n",
       "  <thead>\n",
       "    <tr style=\"text-align: right;\">\n",
       "      <th></th>\n",
       "      <th>BUFF_DIST</th>\n",
       "      <th>ORIG_FID</th>\n",
       "      <th>STOP_ID</th>\n",
       "      <th>STOP_LAT</th>\n",
       "      <th>STOP_LON</th>\n",
       "      <th>ALAND</th>\n",
       "      <th>ALAND00</th>\n",
       "      <th>AWATER</th>\n",
       "      <th>AWATER00</th>\n",
       "      <th>BLKIDFP</th>\n",
       "      <th>...</th>\n",
       "      <th>TRACTCE00</th>\n",
       "      <th>TRACTCE0_1</th>\n",
       "      <th>UACE</th>\n",
       "      <th>UACE00</th>\n",
       "      <th>UR</th>\n",
       "      <th>UR00</th>\n",
       "      <th>AREA</th>\n",
       "      <th>geometry</th>\n",
       "      <th>SPLIT_AREA</th>\n",
       "      <th>SPLIT_RATIO</th>\n",
       "    </tr>\n",
       "  </thead>\n",
       "  <tbody>\n",
       "    <tr>\n",
       "      <th>0</th>\n",
       "      <td>528.0</td>\n",
       "      <td>1433</td>\n",
       "      <td>4660</td>\n",
       "      <td>37.778629</td>\n",
       "      <td>-122.405324</td>\n",
       "      <td>7038.0</td>\n",
       "      <td>0.0</td>\n",
       "      <td>0.0</td>\n",
       "      <td>0.0</td>\n",
       "      <td>060750178003017</td>\n",
       "      <td>...</td>\n",
       "      <td>017800</td>\n",
       "      <td>None</td>\n",
       "      <td>78904</td>\n",
       "      <td>None</td>\n",
       "      <td>U</td>\n",
       "      <td>None</td>\n",
       "      <td>0.0</td>\n",
       "      <td>POLYGON ((6010499.769683376 2111093.748737841,...</td>\n",
       "      <td>0.140000</td>\n",
       "      <td>inf</td>\n",
       "    </tr>\n",
       "    <tr>\n",
       "      <th>1</th>\n",
       "      <td>528.0</td>\n",
       "      <td>1433</td>\n",
       "      <td>4660</td>\n",
       "      <td>37.778629</td>\n",
       "      <td>-122.405324</td>\n",
       "      <td>13578.0</td>\n",
       "      <td>0.0</td>\n",
       "      <td>0.0</td>\n",
       "      <td>0.0</td>\n",
       "      <td>060750178003008</td>\n",
       "      <td>...</td>\n",
       "      <td>017800</td>\n",
       "      <td>None</td>\n",
       "      <td>78904</td>\n",
       "      <td>None</td>\n",
       "      <td>U</td>\n",
       "      <td>None</td>\n",
       "      <td>0.0</td>\n",
       "      <td>POLYGON ((6010554.433824492 2111146.122561689,...</td>\n",
       "      <td>2.373861</td>\n",
       "      <td>inf</td>\n",
       "    </tr>\n",
       "    <tr>\n",
       "      <th>2</th>\n",
       "      <td>528.0</td>\n",
       "      <td>1433</td>\n",
       "      <td>4660</td>\n",
       "      <td>37.778629</td>\n",
       "      <td>-122.405324</td>\n",
       "      <td>13885.0</td>\n",
       "      <td>0.0</td>\n",
       "      <td>0.0</td>\n",
       "      <td>0.0</td>\n",
       "      <td>060750178003018</td>\n",
       "      <td>...</td>\n",
       "      <td>017800</td>\n",
       "      <td>None</td>\n",
       "      <td>78904</td>\n",
       "      <td>None</td>\n",
       "      <td>U</td>\n",
       "      <td>None</td>\n",
       "      <td>0.0</td>\n",
       "      <td>POLYGON ((6010653.135071288 2111042.310756829,...</td>\n",
       "      <td>1.355124</td>\n",
       "      <td>inf</td>\n",
       "    </tr>\n",
       "    <tr>\n",
       "      <th>3</th>\n",
       "      <td>528.0</td>\n",
       "      <td>1433</td>\n",
       "      <td>4660</td>\n",
       "      <td>37.778629</td>\n",
       "      <td>-122.405324</td>\n",
       "      <td>13838.0</td>\n",
       "      <td>0.0</td>\n",
       "      <td>0.0</td>\n",
       "      <td>0.0</td>\n",
       "      <td>060750178003007</td>\n",
       "      <td>...</td>\n",
       "      <td>017800</td>\n",
       "      <td>None</td>\n",
       "      <td>78904</td>\n",
       "      <td>None</td>\n",
       "      <td>U</td>\n",
       "      <td>None</td>\n",
       "      <td>0.0</td>\n",
       "      <td>POLYGON ((6010725.126685857 2111309.082364502,...</td>\n",
       "      <td>3.400471</td>\n",
       "      <td>inf</td>\n",
       "    </tr>\n",
       "    <tr>\n",
       "      <th>4</th>\n",
       "      <td>528.0</td>\n",
       "      <td>1433</td>\n",
       "      <td>4660</td>\n",
       "      <td>37.778629</td>\n",
       "      <td>-122.405324</td>\n",
       "      <td>9125.0</td>\n",
       "      <td>0.0</td>\n",
       "      <td>0.0</td>\n",
       "      <td>0.0</td>\n",
       "      <td>060750178003020</td>\n",
       "      <td>...</td>\n",
       "      <td>017800</td>\n",
       "      <td>None</td>\n",
       "      <td>78904</td>\n",
       "      <td>None</td>\n",
       "      <td>U</td>\n",
       "      <td>None</td>\n",
       "      <td>0.0</td>\n",
       "      <td>POLYGON ((6010725.126685857 2111309.082364502,...</td>\n",
       "      <td>1.217494</td>\n",
       "      <td>inf</td>\n",
       "    </tr>\n",
       "    <tr>\n",
       "      <th>5</th>\n",
       "      <td>528.0</td>\n",
       "      <td>1433</td>\n",
       "      <td>4660</td>\n",
       "      <td>37.778629</td>\n",
       "      <td>-122.405324</td>\n",
       "      <td>10619.0</td>\n",
       "      <td>0.0</td>\n",
       "      <td>0.0</td>\n",
       "      <td>0.0</td>\n",
       "      <td>060750178003021</td>\n",
       "      <td>...</td>\n",
       "      <td>017800</td>\n",
       "      <td>None</td>\n",
       "      <td>78904</td>\n",
       "      <td>None</td>\n",
       "      <td>U</td>\n",
       "      <td>None</td>\n",
       "      <td>0.0</td>\n",
       "      <td>POLYGON ((6010866.906360927 2111386.681646307,...</td>\n",
       "      <td>1.454144</td>\n",
       "      <td>inf</td>\n",
       "    </tr>\n",
       "    <tr>\n",
       "      <th>6</th>\n",
       "      <td>528.0</td>\n",
       "      <td>1433</td>\n",
       "      <td>4660</td>\n",
       "      <td>37.778629</td>\n",
       "      <td>-122.405324</td>\n",
       "      <td>16016.0</td>\n",
       "      <td>0.0</td>\n",
       "      <td>0.0</td>\n",
       "      <td>0.0</td>\n",
       "      <td>060750178003001</td>\n",
       "      <td>...</td>\n",
       "      <td>017800</td>\n",
       "      <td>None</td>\n",
       "      <td>78904</td>\n",
       "      <td>None</td>\n",
       "      <td>U</td>\n",
       "      <td>None</td>\n",
       "      <td>0.0</td>\n",
       "      <td>POLYGON ((6011199.257589996 2111297.095316445,...</td>\n",
       "      <td>0.307458</td>\n",
       "      <td>inf</td>\n",
       "    </tr>\n",
       "    <tr>\n",
       "      <th>7</th>\n",
       "      <td>528.0</td>\n",
       "      <td>1433</td>\n",
       "      <td>4660</td>\n",
       "      <td>37.778629</td>\n",
       "      <td>-122.405324</td>\n",
       "      <td>12809.0</td>\n",
       "      <td>0.0</td>\n",
       "      <td>0.0</td>\n",
       "      <td>0.0</td>\n",
       "      <td>060750178003006</td>\n",
       "      <td>...</td>\n",
       "      <td>017800</td>\n",
       "      <td>None</td>\n",
       "      <td>78904</td>\n",
       "      <td>None</td>\n",
       "      <td>U</td>\n",
       "      <td>None</td>\n",
       "      <td>0.0</td>\n",
       "      <td>POLYGON ((6010967.159121066 2111540.151898806,...</td>\n",
       "      <td>3.164742</td>\n",
       "      <td>inf</td>\n",
       "    </tr>\n",
       "    <tr>\n",
       "      <th>8</th>\n",
       "      <td>528.0</td>\n",
       "      <td>1433</td>\n",
       "      <td>4660</td>\n",
       "      <td>37.778629</td>\n",
       "      <td>-122.405324</td>\n",
       "      <td>10050.0</td>\n",
       "      <td>0.0</td>\n",
       "      <td>0.0</td>\n",
       "      <td>0.0</td>\n",
       "      <td>060750178003022</td>\n",
       "      <td>...</td>\n",
       "      <td>017800</td>\n",
       "      <td>None</td>\n",
       "      <td>78904</td>\n",
       "      <td>None</td>\n",
       "      <td>U</td>\n",
       "      <td>None</td>\n",
       "      <td>0.0</td>\n",
       "      <td>POLYGON ((6011121.693146925 2111378.21537699, ...</td>\n",
       "      <td>1.499826</td>\n",
       "      <td>inf</td>\n",
       "    </tr>\n",
       "    <tr>\n",
       "      <th>9</th>\n",
       "      <td>528.0</td>\n",
       "      <td>1433</td>\n",
       "      <td>4660</td>\n",
       "      <td>37.778629</td>\n",
       "      <td>-122.405324</td>\n",
       "      <td>18831.0</td>\n",
       "      <td>0.0</td>\n",
       "      <td>0.0</td>\n",
       "      <td>0.0</td>\n",
       "      <td>060750178003003</td>\n",
       "      <td>...</td>\n",
       "      <td>017800</td>\n",
       "      <td>None</td>\n",
       "      <td>78904</td>\n",
       "      <td>None</td>\n",
       "      <td>U</td>\n",
       "      <td>None</td>\n",
       "      <td>0.0</td>\n",
       "      <td>POLYGON ((6010967.159121066 2111540.151898806,...</td>\n",
       "      <td>1.919713</td>\n",
       "      <td>inf</td>\n",
       "    </tr>\n",
       "    <tr>\n",
       "      <th>10</th>\n",
       "      <td>528.0</td>\n",
       "      <td>1433</td>\n",
       "      <td>4660</td>\n",
       "      <td>37.778629</td>\n",
       "      <td>-122.405324</td>\n",
       "      <td>9190.0</td>\n",
       "      <td>0.0</td>\n",
       "      <td>0.0</td>\n",
       "      <td>0.0</td>\n",
       "      <td>060750176012008</td>\n",
       "      <td>...</td>\n",
       "      <td>017601</td>\n",
       "      <td>None</td>\n",
       "      <td>78904</td>\n",
       "      <td>None</td>\n",
       "      <td>U</td>\n",
       "      <td>None</td>\n",
       "      <td>0.0</td>\n",
       "      <td>POLYGON ((6010373.337520149 2111848.343994889,...</td>\n",
       "      <td>0.458153</td>\n",
       "      <td>inf</td>\n",
       "    </tr>\n",
       "    <tr>\n",
       "      <th>11</th>\n",
       "      <td>528.0</td>\n",
       "      <td>1433</td>\n",
       "      <td>4660</td>\n",
       "      <td>37.778629</td>\n",
       "      <td>-122.405324</td>\n",
       "      <td>16340.0</td>\n",
       "      <td>0.0</td>\n",
       "      <td>0.0</td>\n",
       "      <td>0.0</td>\n",
       "      <td>060750178003004</td>\n",
       "      <td>...</td>\n",
       "      <td>017800</td>\n",
       "      <td>None</td>\n",
       "      <td>78904</td>\n",
       "      <td>None</td>\n",
       "      <td>U</td>\n",
       "      <td>None</td>\n",
       "      <td>0.0</td>\n",
       "      <td>POLYGON ((6010812.06390598 2111702.829179916, ...</td>\n",
       "      <td>1.566687</td>\n",
       "      <td>inf</td>\n",
       "    </tr>\n",
       "    <tr>\n",
       "      <th>12</th>\n",
       "      <td>528.0</td>\n",
       "      <td>1433</td>\n",
       "      <td>4660</td>\n",
       "      <td>37.778629</td>\n",
       "      <td>-122.405324</td>\n",
       "      <td>18340.0</td>\n",
       "      <td>0.0</td>\n",
       "      <td>0.0</td>\n",
       "      <td>0.0</td>\n",
       "      <td>060750178003005</td>\n",
       "      <td>...</td>\n",
       "      <td>017800</td>\n",
       "      <td>None</td>\n",
       "      <td>78904</td>\n",
       "      <td>None</td>\n",
       "      <td>U</td>\n",
       "      <td>None</td>\n",
       "      <td>0.0</td>\n",
       "      <td>POLYGON ((6010680.463386852 2111840.991653955,...</td>\n",
       "      <td>1.171326</td>\n",
       "      <td>inf</td>\n",
       "    </tr>\n",
       "    <tr>\n",
       "      <th>13</th>\n",
       "      <td>528.0</td>\n",
       "      <td>1433</td>\n",
       "      <td>4660</td>\n",
       "      <td>37.778629</td>\n",
       "      <td>-122.405324</td>\n",
       "      <td>11918.0</td>\n",
       "      <td>0.0</td>\n",
       "      <td>0.0</td>\n",
       "      <td>0.0</td>\n",
       "      <td>060750176012007</td>\n",
       "      <td>...</td>\n",
       "      <td>017601</td>\n",
       "      <td>None</td>\n",
       "      <td>78904</td>\n",
       "      <td>None</td>\n",
       "      <td>U</td>\n",
       "      <td>None</td>\n",
       "      <td>0.0</td>\n",
       "      <td>POLYGON ((6010530.179811146 2111998.473842776,...</td>\n",
       "      <td>0.060403</td>\n",
       "      <td>inf</td>\n",
       "    </tr>\n",
       "  </tbody>\n",
       "</table>\n",
       "<p>14 rows × 43 columns</p>\n",
       "</div>"
      ],
      "text/plain": [
       "    BUFF_DIST  ORIG_FID  STOP_ID   STOP_LAT    STOP_LON    ALAND  ALAND00  \\\n",
       "0       528.0      1433     4660  37.778629 -122.405324   7038.0      0.0   \n",
       "1       528.0      1433     4660  37.778629 -122.405324  13578.0      0.0   \n",
       "2       528.0      1433     4660  37.778629 -122.405324  13885.0      0.0   \n",
       "3       528.0      1433     4660  37.778629 -122.405324  13838.0      0.0   \n",
       "4       528.0      1433     4660  37.778629 -122.405324   9125.0      0.0   \n",
       "5       528.0      1433     4660  37.778629 -122.405324  10619.0      0.0   \n",
       "6       528.0      1433     4660  37.778629 -122.405324  16016.0      0.0   \n",
       "7       528.0      1433     4660  37.778629 -122.405324  12809.0      0.0   \n",
       "8       528.0      1433     4660  37.778629 -122.405324  10050.0      0.0   \n",
       "9       528.0      1433     4660  37.778629 -122.405324  18831.0      0.0   \n",
       "10      528.0      1433     4660  37.778629 -122.405324   9190.0      0.0   \n",
       "11      528.0      1433     4660  37.778629 -122.405324  16340.0      0.0   \n",
       "12      528.0      1433     4660  37.778629 -122.405324  18340.0      0.0   \n",
       "13      528.0      1433     4660  37.778629 -122.405324  11918.0      0.0   \n",
       "\n",
       "    AWATER  AWATER00          BLKIDFP     ...     TRACTCE00 TRACTCE0_1   UACE  \\\n",
       "0      0.0       0.0  060750178003017     ...        017800       None  78904   \n",
       "1      0.0       0.0  060750178003008     ...        017800       None  78904   \n",
       "2      0.0       0.0  060750178003018     ...        017800       None  78904   \n",
       "3      0.0       0.0  060750178003007     ...        017800       None  78904   \n",
       "4      0.0       0.0  060750178003020     ...        017800       None  78904   \n",
       "5      0.0       0.0  060750178003021     ...        017800       None  78904   \n",
       "6      0.0       0.0  060750178003001     ...        017800       None  78904   \n",
       "7      0.0       0.0  060750178003006     ...        017800       None  78904   \n",
       "8      0.0       0.0  060750178003022     ...        017800       None  78904   \n",
       "9      0.0       0.0  060750178003003     ...        017800       None  78904   \n",
       "10     0.0       0.0  060750176012008     ...        017601       None  78904   \n",
       "11     0.0       0.0  060750178003004     ...        017800       None  78904   \n",
       "12     0.0       0.0  060750178003005     ...        017800       None  78904   \n",
       "13     0.0       0.0  060750176012007     ...        017601       None  78904   \n",
       "\n",
       "   UACE00 UR  UR00 AREA                                           geometry  \\\n",
       "0    None  U  None  0.0  POLYGON ((6010499.769683376 2111093.748737841,...   \n",
       "1    None  U  None  0.0  POLYGON ((6010554.433824492 2111146.122561689,...   \n",
       "2    None  U  None  0.0  POLYGON ((6010653.135071288 2111042.310756829,...   \n",
       "3    None  U  None  0.0  POLYGON ((6010725.126685857 2111309.082364502,...   \n",
       "4    None  U  None  0.0  POLYGON ((6010725.126685857 2111309.082364502,...   \n",
       "5    None  U  None  0.0  POLYGON ((6010866.906360927 2111386.681646307,...   \n",
       "6    None  U  None  0.0  POLYGON ((6011199.257589996 2111297.095316445,...   \n",
       "7    None  U  None  0.0  POLYGON ((6010967.159121066 2111540.151898806,...   \n",
       "8    None  U  None  0.0  POLYGON ((6011121.693146925 2111378.21537699, ...   \n",
       "9    None  U  None  0.0  POLYGON ((6010967.159121066 2111540.151898806,...   \n",
       "10   None  U  None  0.0  POLYGON ((6010373.337520149 2111848.343994889,...   \n",
       "11   None  U  None  0.0  POLYGON ((6010812.06390598 2111702.829179916, ...   \n",
       "12   None  U  None  0.0  POLYGON ((6010680.463386852 2111840.991653955,...   \n",
       "13   None  U  None  0.0  POLYGON ((6010530.179811146 2111998.473842776,...   \n",
       "\n",
       "    SPLIT_AREA SPLIT_RATIO  \n",
       "0     0.140000         inf  \n",
       "1     2.373861         inf  \n",
       "2     1.355124         inf  \n",
       "3     3.400471         inf  \n",
       "4     1.217494         inf  \n",
       "5     1.454144         inf  \n",
       "6     0.307458         inf  \n",
       "7     3.164742         inf  \n",
       "8     1.499826         inf  \n",
       "9     1.919713         inf  \n",
       "10    0.458153         inf  \n",
       "11    1.566687         inf  \n",
       "12    1.171326         inf  \n",
       "13    0.060403         inf  \n",
       "\n",
       "[14 rows x 43 columns]"
      ]
     },
     "execution_count": 26,
     "metadata": {},
     "output_type": "execute_result"
    }
   ],
   "source": [
    "#some of the areas are off 0.01 acres because of the change in projection, which is roughly 450 ft^2.\n",
    "#Found this by looking at the blocks that were not split\n",
    "\n",
    "stateplane"
   ]
  },
  {
   "cell_type": "code",
   "execution_count": 22,
   "metadata": {
    "collapsed": true
   },
   "outputs": [],
   "source": [
    "stateplane['SPLIT_RATIO'] = (stateplane['SPLIT_AREA']/stateplane['AREA'])"
   ]
  },
  {
   "cell_type": "code",
   "execution_count": 23,
   "metadata": {
    "collapsed": false
   },
   "outputs": [
    {
     "data": {
      "text/html": [
       "<div>\n",
       "<table border=\"1\" class=\"dataframe\">\n",
       "  <thead>\n",
       "    <tr style=\"text-align: right;\">\n",
       "      <th></th>\n",
       "      <th>BUFF_DIST</th>\n",
       "      <th>ORIG_FID</th>\n",
       "      <th>STOP_ID</th>\n",
       "      <th>STOP_LAT</th>\n",
       "      <th>STOP_LON</th>\n",
       "      <th>ALAND</th>\n",
       "      <th>ALAND00</th>\n",
       "      <th>AWATER</th>\n",
       "      <th>AWATER00</th>\n",
       "      <th>BLKIDFP</th>\n",
       "      <th>...</th>\n",
       "      <th>TRACTCE00</th>\n",
       "      <th>TRACTCE0_1</th>\n",
       "      <th>UACE</th>\n",
       "      <th>UACE00</th>\n",
       "      <th>UR</th>\n",
       "      <th>UR00</th>\n",
       "      <th>AREA</th>\n",
       "      <th>geometry</th>\n",
       "      <th>SPLIT_AREA</th>\n",
       "      <th>SPLIT_RATIO</th>\n",
       "    </tr>\n",
       "  </thead>\n",
       "  <tbody>\n",
       "    <tr>\n",
       "      <th>0</th>\n",
       "      <td>528.0</td>\n",
       "      <td>1433</td>\n",
       "      <td>4660</td>\n",
       "      <td>37.778629</td>\n",
       "      <td>-122.405324</td>\n",
       "      <td>7038.0</td>\n",
       "      <td>0.0</td>\n",
       "      <td>0.0</td>\n",
       "      <td>0.0</td>\n",
       "      <td>060750178003017</td>\n",
       "      <td>...</td>\n",
       "      <td>017800</td>\n",
       "      <td>None</td>\n",
       "      <td>78904</td>\n",
       "      <td>None</td>\n",
       "      <td>U</td>\n",
       "      <td>None</td>\n",
       "      <td>1.739125</td>\n",
       "      <td>POLYGON ((6010499.769683376 2111093.748737841,...</td>\n",
       "      <td>0.140000</td>\n",
       "      <td>0.080500</td>\n",
       "    </tr>\n",
       "    <tr>\n",
       "      <th>1</th>\n",
       "      <td>528.0</td>\n",
       "      <td>1433</td>\n",
       "      <td>4660</td>\n",
       "      <td>37.778629</td>\n",
       "      <td>-122.405324</td>\n",
       "      <td>13578.0</td>\n",
       "      <td>0.0</td>\n",
       "      <td>0.0</td>\n",
       "      <td>0.0</td>\n",
       "      <td>060750178003008</td>\n",
       "      <td>...</td>\n",
       "      <td>017800</td>\n",
       "      <td>None</td>\n",
       "      <td>78904</td>\n",
       "      <td>None</td>\n",
       "      <td>U</td>\n",
       "      <td>None</td>\n",
       "      <td>3.355192</td>\n",
       "      <td>POLYGON ((6010554.433824492 2111146.122561689,...</td>\n",
       "      <td>2.373861</td>\n",
       "      <td>0.707519</td>\n",
       "    </tr>\n",
       "    <tr>\n",
       "      <th>2</th>\n",
       "      <td>528.0</td>\n",
       "      <td>1433</td>\n",
       "      <td>4660</td>\n",
       "      <td>37.778629</td>\n",
       "      <td>-122.405324</td>\n",
       "      <td>13885.0</td>\n",
       "      <td>0.0</td>\n",
       "      <td>0.0</td>\n",
       "      <td>0.0</td>\n",
       "      <td>060750178003018</td>\n",
       "      <td>...</td>\n",
       "      <td>017800</td>\n",
       "      <td>None</td>\n",
       "      <td>78904</td>\n",
       "      <td>None</td>\n",
       "      <td>U</td>\n",
       "      <td>None</td>\n",
       "      <td>3.431053</td>\n",
       "      <td>POLYGON ((6010653.135071288 2111042.310756829,...</td>\n",
       "      <td>1.355124</td>\n",
       "      <td>0.394959</td>\n",
       "    </tr>\n",
       "    <tr>\n",
       "      <th>3</th>\n",
       "      <td>528.0</td>\n",
       "      <td>1433</td>\n",
       "      <td>4660</td>\n",
       "      <td>37.778629</td>\n",
       "      <td>-122.405324</td>\n",
       "      <td>13838.0</td>\n",
       "      <td>0.0</td>\n",
       "      <td>0.0</td>\n",
       "      <td>0.0</td>\n",
       "      <td>060750178003007</td>\n",
       "      <td>...</td>\n",
       "      <td>017800</td>\n",
       "      <td>None</td>\n",
       "      <td>78904</td>\n",
       "      <td>None</td>\n",
       "      <td>U</td>\n",
       "      <td>None</td>\n",
       "      <td>3.419439</td>\n",
       "      <td>POLYGON ((6010725.126685857 2111309.082364502,...</td>\n",
       "      <td>3.400471</td>\n",
       "      <td>0.994453</td>\n",
       "    </tr>\n",
       "    <tr>\n",
       "      <th>4</th>\n",
       "      <td>528.0</td>\n",
       "      <td>1433</td>\n",
       "      <td>4660</td>\n",
       "      <td>37.778629</td>\n",
       "      <td>-122.405324</td>\n",
       "      <td>9125.0</td>\n",
       "      <td>0.0</td>\n",
       "      <td>0.0</td>\n",
       "      <td>0.0</td>\n",
       "      <td>060750178003020</td>\n",
       "      <td>...</td>\n",
       "      <td>017800</td>\n",
       "      <td>None</td>\n",
       "      <td>78904</td>\n",
       "      <td>None</td>\n",
       "      <td>U</td>\n",
       "      <td>None</td>\n",
       "      <td>2.254833</td>\n",
       "      <td>POLYGON ((6010725.126685857 2111309.082364502,...</td>\n",
       "      <td>1.217494</td>\n",
       "      <td>0.539948</td>\n",
       "    </tr>\n",
       "    <tr>\n",
       "      <th>5</th>\n",
       "      <td>528.0</td>\n",
       "      <td>1433</td>\n",
       "      <td>4660</td>\n",
       "      <td>37.778629</td>\n",
       "      <td>-122.405324</td>\n",
       "      <td>10619.0</td>\n",
       "      <td>0.0</td>\n",
       "      <td>0.0</td>\n",
       "      <td>0.0</td>\n",
       "      <td>060750178003021</td>\n",
       "      <td>...</td>\n",
       "      <td>017800</td>\n",
       "      <td>None</td>\n",
       "      <td>78904</td>\n",
       "      <td>None</td>\n",
       "      <td>U</td>\n",
       "      <td>None</td>\n",
       "      <td>2.624008</td>\n",
       "      <td>POLYGON ((6010866.906360927 2111386.681646307,...</td>\n",
       "      <td>1.454144</td>\n",
       "      <td>0.554169</td>\n",
       "    </tr>\n",
       "    <tr>\n",
       "      <th>6</th>\n",
       "      <td>528.0</td>\n",
       "      <td>1433</td>\n",
       "      <td>4660</td>\n",
       "      <td>37.778629</td>\n",
       "      <td>-122.405324</td>\n",
       "      <td>16016.0</td>\n",
       "      <td>0.0</td>\n",
       "      <td>0.0</td>\n",
       "      <td>0.0</td>\n",
       "      <td>060750178003001</td>\n",
       "      <td>...</td>\n",
       "      <td>017800</td>\n",
       "      <td>None</td>\n",
       "      <td>78904</td>\n",
       "      <td>None</td>\n",
       "      <td>U</td>\n",
       "      <td>None</td>\n",
       "      <td>3.957634</td>\n",
       "      <td>POLYGON ((6011199.257589996 2111297.095316445,...</td>\n",
       "      <td>0.307458</td>\n",
       "      <td>0.077687</td>\n",
       "    </tr>\n",
       "    <tr>\n",
       "      <th>7</th>\n",
       "      <td>528.0</td>\n",
       "      <td>1433</td>\n",
       "      <td>4660</td>\n",
       "      <td>37.778629</td>\n",
       "      <td>-122.405324</td>\n",
       "      <td>12809.0</td>\n",
       "      <td>0.0</td>\n",
       "      <td>0.0</td>\n",
       "      <td>0.0</td>\n",
       "      <td>060750178003006</td>\n",
       "      <td>...</td>\n",
       "      <td>017800</td>\n",
       "      <td>None</td>\n",
       "      <td>78904</td>\n",
       "      <td>None</td>\n",
       "      <td>U</td>\n",
       "      <td>None</td>\n",
       "      <td>3.165168</td>\n",
       "      <td>POLYGON ((6010967.159121066 2111540.151898806,...</td>\n",
       "      <td>3.164742</td>\n",
       "      <td>0.999865</td>\n",
       "    </tr>\n",
       "    <tr>\n",
       "      <th>8</th>\n",
       "      <td>528.0</td>\n",
       "      <td>1433</td>\n",
       "      <td>4660</td>\n",
       "      <td>37.778629</td>\n",
       "      <td>-122.405324</td>\n",
       "      <td>10050.0</td>\n",
       "      <td>0.0</td>\n",
       "      <td>0.0</td>\n",
       "      <td>0.0</td>\n",
       "      <td>060750178003022</td>\n",
       "      <td>...</td>\n",
       "      <td>017800</td>\n",
       "      <td>None</td>\n",
       "      <td>78904</td>\n",
       "      <td>None</td>\n",
       "      <td>U</td>\n",
       "      <td>None</td>\n",
       "      <td>2.483405</td>\n",
       "      <td>POLYGON ((6011121.693146925 2111378.21537699, ...</td>\n",
       "      <td>1.499826</td>\n",
       "      <td>0.603939</td>\n",
       "    </tr>\n",
       "    <tr>\n",
       "      <th>9</th>\n",
       "      <td>528.0</td>\n",
       "      <td>1433</td>\n",
       "      <td>4660</td>\n",
       "      <td>37.778629</td>\n",
       "      <td>-122.405324</td>\n",
       "      <td>18831.0</td>\n",
       "      <td>0.0</td>\n",
       "      <td>0.0</td>\n",
       "      <td>0.0</td>\n",
       "      <td>060750178003003</td>\n",
       "      <td>...</td>\n",
       "      <td>017800</td>\n",
       "      <td>None</td>\n",
       "      <td>78904</td>\n",
       "      <td>None</td>\n",
       "      <td>U</td>\n",
       "      <td>None</td>\n",
       "      <td>4.653234</td>\n",
       "      <td>POLYGON ((6010967.159121066 2111540.151898806,...</td>\n",
       "      <td>1.919713</td>\n",
       "      <td>0.412555</td>\n",
       "    </tr>\n",
       "    <tr>\n",
       "      <th>10</th>\n",
       "      <td>528.0</td>\n",
       "      <td>1433</td>\n",
       "      <td>4660</td>\n",
       "      <td>37.778629</td>\n",
       "      <td>-122.405324</td>\n",
       "      <td>9190.0</td>\n",
       "      <td>0.0</td>\n",
       "      <td>0.0</td>\n",
       "      <td>0.0</td>\n",
       "      <td>060750176012008</td>\n",
       "      <td>...</td>\n",
       "      <td>017601</td>\n",
       "      <td>None</td>\n",
       "      <td>78904</td>\n",
       "      <td>None</td>\n",
       "      <td>U</td>\n",
       "      <td>None</td>\n",
       "      <td>2.270895</td>\n",
       "      <td>POLYGON ((6010373.337520149 2111848.343994889,...</td>\n",
       "      <td>0.458153</td>\n",
       "      <td>0.201750</td>\n",
       "    </tr>\n",
       "    <tr>\n",
       "      <th>11</th>\n",
       "      <td>528.0</td>\n",
       "      <td>1433</td>\n",
       "      <td>4660</td>\n",
       "      <td>37.778629</td>\n",
       "      <td>-122.405324</td>\n",
       "      <td>16340.0</td>\n",
       "      <td>0.0</td>\n",
       "      <td>0.0</td>\n",
       "      <td>0.0</td>\n",
       "      <td>060750178003004</td>\n",
       "      <td>...</td>\n",
       "      <td>017800</td>\n",
       "      <td>None</td>\n",
       "      <td>78904</td>\n",
       "      <td>None</td>\n",
       "      <td>U</td>\n",
       "      <td>None</td>\n",
       "      <td>4.037696</td>\n",
       "      <td>POLYGON ((6010812.06390598 2111702.829179916, ...</td>\n",
       "      <td>1.566687</td>\n",
       "      <td>0.388015</td>\n",
       "    </tr>\n",
       "    <tr>\n",
       "      <th>12</th>\n",
       "      <td>528.0</td>\n",
       "      <td>1433</td>\n",
       "      <td>4660</td>\n",
       "      <td>37.778629</td>\n",
       "      <td>-122.405324</td>\n",
       "      <td>18340.0</td>\n",
       "      <td>0.0</td>\n",
       "      <td>0.0</td>\n",
       "      <td>0.0</td>\n",
       "      <td>060750178003005</td>\n",
       "      <td>...</td>\n",
       "      <td>017800</td>\n",
       "      <td>None</td>\n",
       "      <td>78904</td>\n",
       "      <td>None</td>\n",
       "      <td>U</td>\n",
       "      <td>None</td>\n",
       "      <td>4.531906</td>\n",
       "      <td>POLYGON ((6010680.463386852 2111840.991653955,...</td>\n",
       "      <td>1.171326</td>\n",
       "      <td>0.258462</td>\n",
       "    </tr>\n",
       "    <tr>\n",
       "      <th>13</th>\n",
       "      <td>528.0</td>\n",
       "      <td>1433</td>\n",
       "      <td>4660</td>\n",
       "      <td>37.778629</td>\n",
       "      <td>-122.405324</td>\n",
       "      <td>11918.0</td>\n",
       "      <td>0.0</td>\n",
       "      <td>0.0</td>\n",
       "      <td>0.0</td>\n",
       "      <td>060750176012007</td>\n",
       "      <td>...</td>\n",
       "      <td>017601</td>\n",
       "      <td>None</td>\n",
       "      <td>78904</td>\n",
       "      <td>None</td>\n",
       "      <td>U</td>\n",
       "      <td>None</td>\n",
       "      <td>2.944997</td>\n",
       "      <td>POLYGON ((6010530.179811146 2111998.473842776,...</td>\n",
       "      <td>0.060403</td>\n",
       "      <td>0.020510</td>\n",
       "    </tr>\n",
       "  </tbody>\n",
       "</table>\n",
       "<p>14 rows × 43 columns</p>\n",
       "</div>"
      ],
      "text/plain": [
       "    BUFF_DIST  ORIG_FID  STOP_ID   STOP_LAT    STOP_LON    ALAND  ALAND00  \\\n",
       "0       528.0      1433     4660  37.778629 -122.405324   7038.0      0.0   \n",
       "1       528.0      1433     4660  37.778629 -122.405324  13578.0      0.0   \n",
       "2       528.0      1433     4660  37.778629 -122.405324  13885.0      0.0   \n",
       "3       528.0      1433     4660  37.778629 -122.405324  13838.0      0.0   \n",
       "4       528.0      1433     4660  37.778629 -122.405324   9125.0      0.0   \n",
       "5       528.0      1433     4660  37.778629 -122.405324  10619.0      0.0   \n",
       "6       528.0      1433     4660  37.778629 -122.405324  16016.0      0.0   \n",
       "7       528.0      1433     4660  37.778629 -122.405324  12809.0      0.0   \n",
       "8       528.0      1433     4660  37.778629 -122.405324  10050.0      0.0   \n",
       "9       528.0      1433     4660  37.778629 -122.405324  18831.0      0.0   \n",
       "10      528.0      1433     4660  37.778629 -122.405324   9190.0      0.0   \n",
       "11      528.0      1433     4660  37.778629 -122.405324  16340.0      0.0   \n",
       "12      528.0      1433     4660  37.778629 -122.405324  18340.0      0.0   \n",
       "13      528.0      1433     4660  37.778629 -122.405324  11918.0      0.0   \n",
       "\n",
       "    AWATER  AWATER00          BLKIDFP     ...     TRACTCE00 TRACTCE0_1   UACE  \\\n",
       "0      0.0       0.0  060750178003017     ...        017800       None  78904   \n",
       "1      0.0       0.0  060750178003008     ...        017800       None  78904   \n",
       "2      0.0       0.0  060750178003018     ...        017800       None  78904   \n",
       "3      0.0       0.0  060750178003007     ...        017800       None  78904   \n",
       "4      0.0       0.0  060750178003020     ...        017800       None  78904   \n",
       "5      0.0       0.0  060750178003021     ...        017800       None  78904   \n",
       "6      0.0       0.0  060750178003001     ...        017800       None  78904   \n",
       "7      0.0       0.0  060750178003006     ...        017800       None  78904   \n",
       "8      0.0       0.0  060750178003022     ...        017800       None  78904   \n",
       "9      0.0       0.0  060750178003003     ...        017800       None  78904   \n",
       "10     0.0       0.0  060750176012008     ...        017601       None  78904   \n",
       "11     0.0       0.0  060750178003004     ...        017800       None  78904   \n",
       "12     0.0       0.0  060750178003005     ...        017800       None  78904   \n",
       "13     0.0       0.0  060750176012007     ...        017601       None  78904   \n",
       "\n",
       "   UACE00 UR  UR00      AREA  \\\n",
       "0    None  U  None  1.739125   \n",
       "1    None  U  None  3.355192   \n",
       "2    None  U  None  3.431053   \n",
       "3    None  U  None  3.419439   \n",
       "4    None  U  None  2.254833   \n",
       "5    None  U  None  2.624008   \n",
       "6    None  U  None  3.957634   \n",
       "7    None  U  None  3.165168   \n",
       "8    None  U  None  2.483405   \n",
       "9    None  U  None  4.653234   \n",
       "10   None  U  None  2.270895   \n",
       "11   None  U  None  4.037696   \n",
       "12   None  U  None  4.531906   \n",
       "13   None  U  None  2.944997   \n",
       "\n",
       "                                             geometry  SPLIT_AREA SPLIT_RATIO  \n",
       "0   POLYGON ((6010499.769683376 2111093.748737841,...    0.140000    0.080500  \n",
       "1   POLYGON ((6010554.433824492 2111146.122561689,...    2.373861    0.707519  \n",
       "2   POLYGON ((6010653.135071288 2111042.310756829,...    1.355124    0.394959  \n",
       "3   POLYGON ((6010725.126685857 2111309.082364502,...    3.400471    0.994453  \n",
       "4   POLYGON ((6010725.126685857 2111309.082364502,...    1.217494    0.539948  \n",
       "5   POLYGON ((6010866.906360927 2111386.681646307,...    1.454144    0.554169  \n",
       "6   POLYGON ((6011199.257589996 2111297.095316445,...    0.307458    0.077687  \n",
       "7   POLYGON ((6010967.159121066 2111540.151898806,...    3.164742    0.999865  \n",
       "8   POLYGON ((6011121.693146925 2111378.21537699, ...    1.499826    0.603939  \n",
       "9   POLYGON ((6010967.159121066 2111540.151898806,...    1.919713    0.412555  \n",
       "10  POLYGON ((6010373.337520149 2111848.343994889,...    0.458153    0.201750  \n",
       "11  POLYGON ((6010812.06390598 2111702.829179916, ...    1.566687    0.388015  \n",
       "12  POLYGON ((6010680.463386852 2111840.991653955,...    1.171326    0.258462  \n",
       "13  POLYGON ((6010530.179811146 2111998.473842776,...    0.060403    0.020510  \n",
       "\n",
       "[14 rows x 43 columns]"
      ]
     },
     "execution_count": 23,
     "metadata": {},
     "output_type": "execute_result"
    }
   ],
   "source": [
    "#rougly lose 0.006% of the data, only can tell what is lost by the two that are not split up \n",
    "stateplane"
   ]
  },
  {
   "cell_type": "code",
   "execution_count": 24,
   "metadata": {
    "collapsed": true
   },
   "outputs": [],
   "source": [
    "stateplane.to_file('Final_Data_File.shp')"
   ]
  },
  {
   "cell_type": "code",
   "execution_count": 25,
   "metadata": {
    "collapsed": true
   },
   "outputs": [],
   "source": [
    "stateplane.to_csv('Final_Data_File.csv')"
   ]
  },
  {
   "cell_type": "code",
   "execution_count": 26,
   "metadata": {
    "collapsed": true
   },
   "outputs": [],
   "source": [
    "stops = pd.read_csv('E:/Transit-Casa-Alex/Output/Bus Performance Data/Sep. to Nov 2009/Bus_Performance_09.csv')"
   ]
  },
  {
   "cell_type": "code",
   "execution_count": 31,
   "metadata": {
    "collapsed": false
   },
   "outputs": [],
   "source": [
    "l = []\n",
    "for STOP_ID in stops.STOP_ID.unique():\n",
    "   # print(STOP_ID)\n",
    "    l.append(STOP_ID)\n",
    "    len(l)"
   ]
  },
  {
   "cell_type": "code",
   "execution_count": 32,
   "metadata": {
    "collapsed": false
   },
   "outputs": [
    {
     "data": {
      "text/plain": [
       "3563"
      ]
     },
     "execution_count": 32,
     "metadata": {},
     "output_type": "execute_result"
    }
   ],
   "source": [
    "len(l)"
   ]
  },
  {
   "cell_type": "code",
   "execution_count": 34,
   "metadata": {
    "collapsed": false
   },
   "outputs": [
    {
     "data": {
      "text/plain": [
       "3563"
      ]
     },
     "execution_count": 34,
     "metadata": {},
     "output_type": "execute_result"
    }
   ],
   "source": [
    "len(stops.STOP_ID.unique())"
   ]
  },
  {
   "cell_type": "code",
   "execution_count": 35,
   "metadata": {
    "collapsed": true
   },
   "outputs": [],
   "source": [
    "stops = gp.read_file('E:/Transit-Casa-Alex/Output/Buffers/Tenth/Buffers/Buffers_Tenth.shp')"
   ]
  },
  {
   "cell_type": "code",
   "execution_count": 37,
   "metadata": {
    "collapsed": false
   },
   "outputs": [
    {
     "data": {
      "text/plain": [
       "3744"
      ]
     },
     "execution_count": 37,
     "metadata": {},
     "output_type": "execute_result"
    }
   ],
   "source": [
    "len(stops.STOP_ID.unique())"
   ]
  },
  {
   "cell_type": "code",
   "execution_count": 38,
   "metadata": {
    "collapsed": false
   },
   "outputs": [
    {
     "data": {
      "text/plain": [
       "3744"
      ]
     },
     "execution_count": 38,
     "metadata": {},
     "output_type": "execute_result"
    }
   ],
   "source": [
    "l = []\n",
    "for STOP_ID in stops.STOP_ID.unique():\n",
    "   # print(STOP_ID)\n",
    "    l.append(STOP_ID)\n",
    "len(l)"
   ]
  },
  {
   "cell_type": "code",
   "execution_count": 50,
   "metadata": {
    "collapsed": false
   },
   "outputs": [
    {
     "data": {
      "text/plain": [
       "3744"
      ]
     },
     "execution_count": 50,
     "metadata": {},
     "output_type": "execute_result"
    }
   ],
   "source": [
    "final_buffers = pd.DataFrame()\n",
    "for STOP_ID in stops.STOP_ID.unique():\n",
    "    data = stops[stops['STOP_ID'] == STOP_ID]\n",
    "    #print(data)\n",
    "    final_buffers = final_buffers.append(data)\n",
    "    #print(final_buffers)\n",
    "len(final_buffers)"
   ]
  },
  {
   "cell_type": "code",
   "execution_count": 55,
   "metadata": {
    "collapsed": false
   },
   "outputs": [
    {
     "data": {
      "text/plain": [
       "<matplotlib.axes._subplots.AxesSubplot at 0x1eec025ac88>"
      ]
     },
     "execution_count": 55,
     "metadata": {},
     "output_type": "execute_result"
    },
    {
     "data": {
      "image/png": "iVBORw0KGgoAAAANSUhEUgAAARwAAAD8CAYAAAClxxvWAAAABHNCSVQICAgIfAhkiAAAAAlwSFlz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\nwFjgGGMC5v8Br3tBp6NoHlwAAAAASUVORK5CYII=\n",
      "text/plain": [
       "<matplotlib.figure.Figure at 0x1eec0271b00>"
      ]
     },
     "metadata": {},
     "output_type": "display_data"
    }
   ],
   "source": [
    "stops[stops['STOP_ID'] == 392].plot()"
   ]
  },
  {
   "cell_type": "code",
   "execution_count": null,
   "metadata": {
    "collapsed": false
   },
   "outputs": [],
   "source": []
  },
  {
   "cell_type": "code",
   "execution_count": 68,
   "metadata": {
    "collapsed": false
   },
   "outputs": [
    {
     "data": {
      "text/plain": [
       "0"
      ]
     },
     "execution_count": 68,
     "metadata": {},
     "output_type": "execute_result"
    },
    {
     "data": {
      "image/png": "iVBORw0KGgoAAAANSUhEUgAAARwAAAD8CAYAAAClxxvWAAAABHNCSVQICAgIfAhkiAAAAAlwSFlz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\nwFjgGGMC5v8Br3tBp6NoHlwAAAAASUVORK5CYII=\n",
      "text/plain": [
       "<matplotlib.figure.Figure at 0x1eec18852b0>"
      ]
     },
     "metadata": {},
     "output_type": "display_data"
    }
   ],
   "source": [
    "start = datetime.datetime.now()\n",
    "stops[stops['STOP_ID'] == 392].plot()\n",
    "end = datetime.datetime.now()\n",
    "time = end - start\n",
    "time.seconds"
   ]
  },
  {
   "cell_type": "code",
   "execution_count": null,
   "metadata": {
    "collapsed": true
   },
   "outputs": [],
   "source": []
  }
 ],
 "metadata": {
  "anaconda-cloud": {},
  "kernelspec": {
   "display_name": "Python [conda root]",
   "language": "python",
   "name": "conda-root-py"
  },
  "language_info": {
   "codemirror_mode": {
    "name": "ipython",
    "version": 3
   },
   "file_extension": ".py",
   "mimetype": "text/x-python",
   "name": "python",
   "nbconvert_exporter": "python",
   "pygments_lexer": "ipython3",
   "version": "3.5.2"
  }
 },
 "nbformat": 4,
 "nbformat_minor": 1
}
